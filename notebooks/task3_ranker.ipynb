{
 "cells": [
  {
   "cell_type": "markdown",
   "id": "cfb20369-bc15-496e-9ca7-96ea3337a84e",
   "metadata": {},
   "source": [
    "# Packages "
   ]
  },
  {
   "cell_type": "code",
   "execution_count": 4,
   "id": "aabe0c4e-8729-4f63-9722-c12d233ca6b5",
   "metadata": {
    "tags": []
   },
   "outputs": [
    {
     "name": "stdout",
     "output_type": "stream",
     "text": [
      "The autoreload extension is already loaded. To reload it, use:\n",
      "  %reload_ext autoreload\n"
     ]
    }
   ],
   "source": [
    "%load_ext autoreload\n",
    "%autoreload 2\n",
    "import sys\n",
    "import logging\n",
    "base_dir = '../'\n",
    "sys.path.append(base_dir)\n",
    "import os\n",
    "from utils import *\n",
    "\n",
    "import joblib\n",
    "import os\n",
    "import numpy as np\n",
    "import pandas as pd\n",
    "from gensim.models import Word2Vec\n",
    "from gensim.similarities.annoy import AnnoyIndexer\n",
    "\n",
    "\n",
    "from annoy import AnnoyIndex\n",
    "import polars as pl\n",
    "import implicit\n",
    "from src.eval import model_eval\n",
    "\n",
    "import scipy.sparse as sps\n",
    "from utils import str2list\n",
    "from src.config import raw_data_session_id_dir, candidate_file_name\n",
    "from lightgbm import LGBMRanker\n",
    "from lightgbm import early_stopping\n",
    "from utils import *\n",
    "# try github "
   ]
  },
  {
   "cell_type": "markdown",
   "id": "1355ce62-0ebd-4629-99e5-96bf2946bed5",
   "metadata": {
    "tags": []
   },
   "source": [
    "# Config "
   ]
  },
  {
   "cell_type": "code",
   "execution_count": 5,
   "id": "c5d2edbe-29b1-40cf-985b-0551db0e3e9a",
   "metadata": {},
   "outputs": [],
   "source": [
    "\n",
    "\n",
    "# 'task1': \n",
    "ranker_train_data_dir = '../data/rank_train_data_v2/'\n",
    "rank_model_version = 'rank_lgbm_v4'"
   ]
  },
  {
   "cell_type": "code",
   "execution_count": null,
   "id": "72ef90af-49f4-421c-ad25-15dfe7bbcf6f",
   "metadata": {},
   "outputs": [],
   "source": []
  },
  {
   "cell_type": "code",
   "execution_count": 6,
   "id": "0cac5f9f-76a0-4069-a57a-17b45bba83fd",
   "metadata": {},
   "outputs": [],
   "source": [
    "debug = False\n",
    "\n",
    "if debug:\n",
    "    SAMPLE_NUM = 1000\n",
    "else:\n",
    "    SAMPLE_NUM = None\n",
    "\n",
    "candidate_path = '../data/candidates/'\n",
    "model_dir = '../model_training'\n",
    "# train_data_dir = '.'\n",
    "# test_data_dir = '.'\n",
    "task = 'task1'\n",
    "w2v_model_version = 'w2v_v3'\n",
    "nic_model_version = 'nic'\n",
    "\n",
    "rank_model_dir = os.path.join(model_dir, rank_model_version)\n",
    "model_for_eval = True\n",
    "w2v_topn=100\n",
    "nic_topn=100\n",
    "# PREDS_PER_SESSION = 100\n",
    "\n",
    "# num_tree = 100\n",
    "\n",
    "\n",
    "\n",
    "# # target locales: locales needed for task1\n",
    "target_locals = [\"DE\", 'JP', 'UK']\n",
    "\n",
    "# submit_file = f'submission_{task}_ALS.parquet'\n",
    "num_tree = 100\n",
    "w2v_model_dir = os.path.join(model_dir, w2v_model_version)\n",
    "w2v_model_file = os.path.join(w2v_model_dir, f\"{model_for_eval}.model\")\n",
    "annoy_index_file = os.path.join(w2v_model_dir, f\"{str(num_tree)}_{model_for_eval}.index\")\n",
    "\n",
    "\n",
    "sub_file = f'../data/sub_files/{rank_model_version}.parque'\n",
    "eval_sub_file = f'../data/sub_files/eval_{rank_model_version}.parque'"
   ]
  },
  {
   "cell_type": "code",
   "execution_count": 7,
   "id": "05ef9123-0967-493c-8eb0-846a42483a2b",
   "metadata": {},
   "outputs": [
    {
     "data": {
      "text/plain": [
       "'../model_training/rank_lgbm_v4'"
      ]
     },
     "execution_count": 7,
     "metadata": {},
     "output_type": "execute_result"
    }
   ],
   "source": [
    "rank_model_dir"
   ]
  },
  {
   "cell_type": "code",
   "execution_count": 8,
   "id": "902bc312-8c20-42f7-ad41-b5d77d89fcce",
   "metadata": {},
   "outputs": [
    {
     "name": "stdout",
     "output_type": "stream",
     "text": [
      "mkdir: cannot create directory ‘../model_training/rank_lgbm_v4’: File exists\n"
     ]
    }
   ],
   "source": [
    "! mkdir {rank_model_dir}"
   ]
  },
  {
   "cell_type": "markdown",
   "id": "33cccd9d-18fd-4339-a739-39d7021cef73",
   "metadata": {
    "tags": []
   },
   "source": [
    "# Read data"
   ]
  },
  {
   "cell_type": "code",
   "execution_count": 9,
   "id": "3486f554-4ca0-460c-9d31-4b4b1f2c5e6b",
   "metadata": {},
   "outputs": [],
   "source": [
    "\n",
    "\n",
    "test_pl = pl.scan_parquet(os.path.join(base_dir, raw_data_session_id_dir, 'sessions_test_task3.parquet'), n_rows=SAMPLE_NUM).with_columns(pl.col('prev_items').apply(str2list))\n"
   ]
  },
  {
   "cell_type": "raw",
   "id": "897728e2-9c35-468f-807e-59c25cb1477e",
   "metadata": {},
   "source": []
  },
  {
   "cell_type": "code",
   "execution_count": 11,
   "id": "097470d8-23b9-4ab5-b929-6415df328381",
   "metadata": {},
   "outputs": [
    {
     "data": {
      "text/html": [
       "<div><style>\n",
       ".dataframe > thead > tr > th,\n",
       ".dataframe > tbody > tr > td {\n",
       "  text-align: right;\n",
       "}\n",
       "</style>\n",
       "<small>shape: (5, 3)</small><table border=\"1\" class=\"dataframe\"><thead><tr><th>prev_items</th><th>locale</th><th>session_id</th></tr><tr><td>list[str]</td><td>str</td><td>i64</td></tr></thead><tbody><tr><td>[&quot;B0BF9JMVDG&quot;, &quot;B01ET9V90M&quot;]</td><td>&quot;ES&quot;</td><td>4365996</td></tr><tr><td>[&quot;B09QQG85HM&quot;, &quot;B09J4T4JF5&quot;]</td><td>&quot;ES&quot;</td><td>4365997</td></tr><tr><td>[&quot;B09NSKDG4K&quot;, &quot;B09YY6J1ZM&quot;]</td><td>&quot;ES&quot;</td><td>4365998</td></tr><tr><td>[&quot;B09B7NYDJ7&quot;, &quot;B09B7NYDJ7&quot;]</td><td>&quot;ES&quot;</td><td>4365999</td></tr><tr><td>[&quot;B0B6J17LK4&quot;, &quot;B0B6R7X6GY&quot;, &quot;B07HXY5SGH&quot;]</td><td>&quot;ES&quot;</td><td>4366000</td></tr></tbody></table></div>"
      ],
      "text/plain": [
       "shape: (5, 3)\n",
       "┌───────────────────────────────────┬────────┬────────────┐\n",
       "│ prev_items                        ┆ locale ┆ session_id │\n",
       "│ ---                               ┆ ---    ┆ ---        │\n",
       "│ list[str]                         ┆ str    ┆ i64        │\n",
       "╞═══════════════════════════════════╪════════╪════════════╡\n",
       "│ [\"B0BF9JMVDG\", \"B01ET9V90M\"]      ┆ ES     ┆ 4365996    │\n",
       "│ [\"B09QQG85HM\", \"B09J4T4JF5\"]      ┆ ES     ┆ 4365997    │\n",
       "│ [\"B09NSKDG4K\", \"B09YY6J1ZM\"]      ┆ ES     ┆ 4365998    │\n",
       "│ [\"B09B7NYDJ7\", \"B09B7NYDJ7\"]      ┆ ES     ┆ 4365999    │\n",
       "│ [\"B0B6J17LK4\", \"B0B6R7X6GY\", \"B0… ┆ ES     ┆ 4366000    │\n",
       "└───────────────────────────────────┴────────┴────────────┘"
      ]
     },
     "execution_count": 11,
     "metadata": {},
     "output_type": "execute_result"
    }
   ],
   "source": [
    "test_pl.head().collect()"
   ]
  },
  {
   "cell_type": "markdown",
   "id": "ed548a53-924e-4fbf-864c-06cfedc6f9cc",
   "metadata": {
    "tags": []
   },
   "source": [
    "# Ranker "
   ]
  },
  {
   "cell_type": "code",
   "execution_count": 24,
   "id": "9c879f62-0829-4314-b1e6-75bc095c42db",
   "metadata": {},
   "outputs": [],
   "source": [
    "def get_additional_feature(data_pl, session_features=session_features, product_pl=product_pl):\n",
    "    session_join_keys = ['session_id']\n",
    "    session_fea_cols = ['mean_price', 'last_price', 'min_price', 'max_price']\n",
    "    data_pl = (\n",
    "        data_pl.join(session_features.select(session_join_keys+session_fea_cols+['locale']),\n",
    "                                    how='left', on=session_join_keys, suffix='_str')\n",
    "            .join(product_pl.select(['id', 'locale', 'price']), how='left', right_on=['id', 'locale']\n",
    "                 , left_on=['next_item_prediction', 'locale_str'])\n",
    "            .with_columns(\n",
    "              pl.col('price').truediv(pl.col('mean_price')).alias('price_mean_norm')\n",
    "              , pl.col('price').truediv(pl.col('last_price')).alias('price_last_norm')\n",
    "              , pl.col('price').truediv(pl.col('min_price')).alias('price_min_norm')\n",
    "              , pl.col('price').truediv(pl.col('max_price')).alias('price_max_norm')\n",
    "              # , pl.when(pl.col('min_price')==pl.col('max_price')).then(1).otherwise((pl.col('price')-pl.col('min_price'))/(pl.col('min_price')-pl.col('max_price'))).alias('price_norm')\n",
    "            )\n",
    "            .select(\n",
    "                pl.all().exclude(session_fea_cols+['locale_str', 'price'])\n",
    "            )\n",
    "\n",
    "    )\n",
    "    return data_pl"
   ]
  },
  {
   "cell_type": "markdown",
   "id": "20e5c013-9463-4fee-8444-964885196103",
   "metadata": {
    "tags": []
   },
   "source": [
    "## Load Model "
   ]
  },
  {
   "cell_type": "code",
   "execution_count": null,
   "id": "6b348b18-ca5b-4534-b7bd-c1c3dc16be33",
   "metadata": {},
   "outputs": [],
   "source": []
  },
  {
   "cell_type": "code",
   "execution_count": 12,
   "id": "6ad49204-0949-4e62-8d1d-ee22853a71a3",
   "metadata": {},
   "outputs": [
    {
     "data": {
      "text/plain": [
       "False"
      ]
     },
     "execution_count": 12,
     "metadata": {},
     "output_type": "execute_result"
    }
   ],
   "source": [
    "debug"
   ]
  },
  {
   "cell_type": "code",
   "execution_count": 13,
   "id": "d3bad696-190d-42bf-ad7d-f8ecc7b5f80d",
   "metadata": {},
   "outputs": [
    {
     "data": {
      "text/html": [
       "<style>#sk-container-id-1 {color: black;background-color: white;}#sk-container-id-1 pre{padding: 0;}#sk-container-id-1 div.sk-toggleable {background-color: white;}#sk-container-id-1 label.sk-toggleable__label {cursor: pointer;display: block;width: 100%;margin-bottom: 0;padding: 0.3em;box-sizing: border-box;text-align: center;}#sk-container-id-1 label.sk-toggleable__label-arrow:before {content: \"▸\";float: left;margin-right: 0.25em;color: #696969;}#sk-container-id-1 label.sk-toggleable__label-arrow:hover:before {color: black;}#sk-container-id-1 div.sk-estimator:hover label.sk-toggleable__label-arrow:before {color: black;}#sk-container-id-1 div.sk-toggleable__content {max-height: 0;max-width: 0;overflow: hidden;text-align: left;background-color: #f0f8ff;}#sk-container-id-1 div.sk-toggleable__content pre {margin: 0.2em;color: black;border-radius: 0.25em;background-color: #f0f8ff;}#sk-container-id-1 input.sk-toggleable__control:checked~div.sk-toggleable__content {max-height: 200px;max-width: 100%;overflow: auto;}#sk-container-id-1 input.sk-toggleable__control:checked~label.sk-toggleable__label-arrow:before {content: \"▾\";}#sk-container-id-1 div.sk-estimator input.sk-toggleable__control:checked~label.sk-toggleable__label {background-color: #d4ebff;}#sk-container-id-1 div.sk-label input.sk-toggleable__control:checked~label.sk-toggleable__label {background-color: #d4ebff;}#sk-container-id-1 input.sk-hidden--visually {border: 0;clip: rect(1px 1px 1px 1px);clip: rect(1px, 1px, 1px, 1px);height: 1px;margin: -1px;overflow: hidden;padding: 0;position: absolute;width: 1px;}#sk-container-id-1 div.sk-estimator {font-family: monospace;background-color: #f0f8ff;border: 1px dotted black;border-radius: 0.25em;box-sizing: border-box;margin-bottom: 0.5em;}#sk-container-id-1 div.sk-estimator:hover {background-color: #d4ebff;}#sk-container-id-1 div.sk-parallel-item::after {content: \"\";width: 100%;border-bottom: 1px solid gray;flex-grow: 1;}#sk-container-id-1 div.sk-label:hover label.sk-toggleable__label {background-color: #d4ebff;}#sk-container-id-1 div.sk-serial::before {content: \"\";position: absolute;border-left: 1px solid gray;box-sizing: border-box;top: 0;bottom: 0;left: 50%;z-index: 0;}#sk-container-id-1 div.sk-serial {display: flex;flex-direction: column;align-items: center;background-color: white;padding-right: 0.2em;padding-left: 0.2em;position: relative;}#sk-container-id-1 div.sk-item {position: relative;z-index: 1;}#sk-container-id-1 div.sk-parallel {display: flex;align-items: stretch;justify-content: center;background-color: white;position: relative;}#sk-container-id-1 div.sk-item::before, #sk-container-id-1 div.sk-parallel-item::before {content: \"\";position: absolute;border-left: 1px solid gray;box-sizing: border-box;top: 0;bottom: 0;left: 50%;z-index: -1;}#sk-container-id-1 div.sk-parallel-item {display: flex;flex-direction: column;z-index: 1;position: relative;background-color: white;}#sk-container-id-1 div.sk-parallel-item:first-child::after {align-self: flex-end;width: 50%;}#sk-container-id-1 div.sk-parallel-item:last-child::after {align-self: flex-start;width: 50%;}#sk-container-id-1 div.sk-parallel-item:only-child::after {width: 0;}#sk-container-id-1 div.sk-dashed-wrapped {border: 1px dashed gray;margin: 0 0.4em 0.5em 0.4em;box-sizing: border-box;padding-bottom: 0.4em;background-color: white;}#sk-container-id-1 div.sk-label label {font-family: monospace;font-weight: bold;display: inline-block;line-height: 1.2em;}#sk-container-id-1 div.sk-label-container {text-align: center;}#sk-container-id-1 div.sk-container {/* jupyter's `normalize.less` sets `[hidden] { display: none; }` but bootstrap.min.css set `[hidden] { display: none !important; }` so we also need the `!important` here to be able to override the default hidden behavior on the sphinx rendered scikit-learn.org. See: https://github.com/scikit-learn/scikit-learn/issues/21755 */display: inline-block !important;position: relative;}#sk-container-id-1 div.sk-text-repr-fallback {display: none;}</style><div id=\"sk-container-id-1\" class=\"sk-top-container\"><div class=\"sk-text-repr-fallback\"><pre>LGBMRanker(eval_at=[3], importance_type=&#x27;gain&#x27;, metric=&#x27;ndcg&#x27;,\n",
       "           n_estimators=1000, objective=&#x27;lambdarank&#x27;)</pre><b>In a Jupyter environment, please rerun this cell to show the HTML representation or trust the notebook. <br />On GitHub, the HTML representation is unable to render, please try loading this page with nbviewer.org.</b></div><div class=\"sk-container\" hidden><div class=\"sk-item\"><div class=\"sk-estimator sk-toggleable\"><input class=\"sk-toggleable__control sk-hidden--visually\" id=\"sk-estimator-id-1\" type=\"checkbox\" checked><label for=\"sk-estimator-id-1\" class=\"sk-toggleable__label sk-toggleable__label-arrow\">LGBMRanker</label><div class=\"sk-toggleable__content\"><pre>LGBMRanker(eval_at=[3], importance_type=&#x27;gain&#x27;, metric=&#x27;ndcg&#x27;,\n",
       "           n_estimators=1000, objective=&#x27;lambdarank&#x27;)</pre></div></div></div></div></div>"
      ],
      "text/plain": [
       "LGBMRanker(eval_at=[3], importance_type='gain', metric='ndcg',\n",
       "           n_estimators=1000, objective='lambdarank')"
      ]
     },
     "execution_count": 13,
     "metadata": {},
     "output_type": "execute_result"
    }
   ],
   "source": [
    "if not debug:\n",
    "    ranker = joblib.load(os.path.join(rank_model_dir, 'model.pkl'))\n",
    "ranker"
   ]
  },
  {
   "cell_type": "markdown",
   "id": "b6b81a4e-3275-4503-bab7-6f8cb0ac4841",
   "metadata": {
    "tags": []
   },
   "source": [
    "### Importance "
   ]
  },
  {
   "cell_type": "code",
   "execution_count": 14,
   "id": "3a9816e2-9099-42af-a194-4274dce5ab36",
   "metadata": {},
   "outputs": [
    {
     "data": {
      "text/html": [
       "<div>\n",
       "<style scoped>\n",
       "    .dataframe tbody tr th:only-of-type {\n",
       "        vertical-align: middle;\n",
       "    }\n",
       "\n",
       "    .dataframe tbody tr th {\n",
       "        vertical-align: top;\n",
       "    }\n",
       "\n",
       "    .dataframe thead th {\n",
       "        text-align: right;\n",
       "    }\n",
       "</style>\n",
       "<table border=\"1\" class=\"dataframe\">\n",
       "  <thead>\n",
       "    <tr style=\"text-align: right;\">\n",
       "      <th></th>\n",
       "      <th>features</th>\n",
       "      <th>importance</th>\n",
       "    </tr>\n",
       "  </thead>\n",
       "  <tbody>\n",
       "    <tr>\n",
       "      <th>0</th>\n",
       "      <td>next_item_weight</td>\n",
       "      <td>3.988920e+06</td>\n",
       "    </tr>\n",
       "    <tr>\n",
       "      <th>7</th>\n",
       "      <td>price_mean_norm</td>\n",
       "      <td>6.407572e+04</td>\n",
       "    </tr>\n",
       "    <tr>\n",
       "      <th>1</th>\n",
       "      <td>next_item_weight_nfi</td>\n",
       "      <td>6.850975e+03</td>\n",
       "    </tr>\n",
       "    <tr>\n",
       "      <th>2</th>\n",
       "      <td>next_item_weight_co_visit</td>\n",
       "      <td>4.961293e+03</td>\n",
       "    </tr>\n",
       "    <tr>\n",
       "      <th>5</th>\n",
       "      <td>last_item_similarity</td>\n",
       "      <td>2.780719e+03</td>\n",
       "    </tr>\n",
       "    <tr>\n",
       "      <th>4</th>\n",
       "      <td>w2v_weight</td>\n",
       "      <td>1.429808e+03</td>\n",
       "    </tr>\n",
       "    <tr>\n",
       "      <th>6</th>\n",
       "      <td>prev_length</td>\n",
       "      <td>6.914070e+02</td>\n",
       "    </tr>\n",
       "    <tr>\n",
       "      <th>9</th>\n",
       "      <td>price_min_norm</td>\n",
       "      <td>5.488500e+02</td>\n",
       "    </tr>\n",
       "    <tr>\n",
       "      <th>10</th>\n",
       "      <td>price_max_norm</td>\n",
       "      <td>3.044230e+02</td>\n",
       "    </tr>\n",
       "    <tr>\n",
       "      <th>3</th>\n",
       "      <td>locale</td>\n",
       "      <td>0.000000e+00</td>\n",
       "    </tr>\n",
       "    <tr>\n",
       "      <th>8</th>\n",
       "      <td>price_last_norm</td>\n",
       "      <td>0.000000e+00</td>\n",
       "    </tr>\n",
       "  </tbody>\n",
       "</table>\n",
       "</div>"
      ],
      "text/plain": [
       "                     features    importance\n",
       "0            next_item_weight  3.988920e+06\n",
       "7             price_mean_norm  6.407572e+04\n",
       "1        next_item_weight_nfi  6.850975e+03\n",
       "2   next_item_weight_co_visit  4.961293e+03\n",
       "5        last_item_similarity  2.780719e+03\n",
       "4                  w2v_weight  1.429808e+03\n",
       "6                 prev_length  6.914070e+02\n",
       "9              price_min_norm  5.488500e+02\n",
       "10             price_max_norm  3.044230e+02\n",
       "3                      locale  0.000000e+00\n",
       "8             price_last_norm  0.000000e+00"
      ]
     },
     "execution_count": 14,
     "metadata": {},
     "output_type": "execute_result"
    }
   ],
   "source": [
    "impotant_df = pd.DataFrame(\n",
    "    {\n",
    "        'features': ranker.feature_name_,\n",
    "        'importance': ranker.feature_importances_\n",
    "    }\n",
    ").sort_values('importance', ascending=False)\n",
    "impotant_df"
   ]
  },
  {
   "cell_type": "code",
   "execution_count": 76,
   "id": "1b08de18-62e0-4c4f-94c3-6ab8324ee624",
   "metadata": {},
   "outputs": [],
   "source": [
    "def rank_rec(candidate_pl, feature_cols, ranker, topn=100):\n",
    "\n",
    "    candidate_pl = candidate_pl.collect()\n",
    "    print(f\"candidate pl shape: {candidate_pl.shape}\")\n",
    "    inference = ranker.predict(candidate_pl[feature_cols].to_pandas())\n",
    "    test_result = (candidate_pl\n",
    "         .lazy()\n",
    "         .with_columns(\n",
    "             pl.Series(name='predict', values=inference)\n",
    "         )\n",
    "         .with_columns(\n",
    "            pl.col('predict').rank(method='ordinal', descending=True).over('session_id').alias('rank')\n",
    "         )\n",
    "         .sort(['session_id', 'rank'])\n",
    "         .filter(pl.col('rank')<=topn)\n",
    "         .groupby(['session_id'])\n",
    "         .agg(\n",
    "             pl.col('next_item_prediction')\n",
    "             , pl.col('next_item').unique()#.arr.get(0).cast(pl.Utf8)\n",
    "         ).with_columns(\n",
    "             pl.col('next_item').arr.get(0).alias('next_item')\n",
    "         )\n",
    "    )\n",
    "    return test_result\n"
   ]
  },
  {
   "cell_type": "code",
   "execution_count": 77,
   "id": "c2576a5f-dc1f-4269-83e4-050d8e37d14c",
   "metadata": {},
   "outputs": [],
   "source": [
    "# target_train_candidates.head().collect()"
   ]
  },
  {
   "cell_type": "code",
   "execution_count": 78,
   "id": "086b2190-3f3f-461f-8fd6-6b62bd36b45a",
   "metadata": {},
   "outputs": [],
   "source": [
    "eval_candidates = get_additional_feature(data_pl=eval_candidates)"
   ]
  },
  {
   "cell_type": "code",
   "execution_count": 79,
   "id": "ee95dd21-5bf7-4620-b79d-d2c1986a1e5b",
   "metadata": {},
   "outputs": [
    {
     "name": "stdout",
     "output_type": "stream",
     "text": [
      "candidate pl shape: (64153741, 15)\n"
     ]
    }
   ],
   "source": [
    "ranker_eval_pl = rank_rec(candidate_pl=eval_candidates,\n",
    "                         feature_cols=feature_cols\n",
    "                         , ranker=ranker\n",
    "                        # , topn=10\n",
    "                         )"
   ]
  },
  {
   "cell_type": "code",
   "execution_count": 80,
   "id": "d5339c19-c305-40fd-bbad-73875825a216",
   "metadata": {},
   "outputs": [
    {
     "data": {
      "text/html": [
       "<div><style>\n",
       ".dataframe > thead > tr > th,\n",
       ".dataframe > tbody > tr > td {\n",
       "  text-align: right;\n",
       "}\n",
       "</style>\n",
       "<small>shape: (1, 4)</small><table border=\"1\" class=\"dataframe\"><thead><tr><th>total_sessions</th><th>mrr</th><th>recall@20</th><th>recall@100</th></tr><tr><td>u32</td><td>f64</td><td>f64</td><td>f64</td></tr></thead><tbody><tr><td>326443</td><td>0.3335</td><td>0.4702</td><td>0.5563</td></tr></tbody></table></div>"
      ],
      "text/plain": [
       "shape: (1, 4)\n",
       "┌────────────────┬────────┬───────────┬────────────┐\n",
       "│ total_sessions ┆ mrr    ┆ recall@20 ┆ recall@100 │\n",
       "│ ---            ┆ ---    ┆ ---       ┆ ---        │\n",
       "│ u32            ┆ f64    ┆ f64       ┆ f64        │\n",
       "╞════════════════╪════════╪═══════════╪════════════╡\n",
       "│ 326443         ┆ 0.3335 ┆ 0.4702    ┆ 0.5563     │\n",
       "└────────────────┴────────┴───────────┴────────────┘"
      ]
     },
     "execution_count": 80,
     "metadata": {},
     "output_type": "execute_result"
    }
   ],
   "source": [
    "model_eval(target_df=eval_pl.join(ranker_eval_pl.lazy(), how='left', on='session_id'))"
   ]
  },
  {
   "cell_type": "code",
   "execution_count": 46,
   "id": "9404f0c9-8dd8-4a7c-86ea-07a279d25312",
   "metadata": {},
   "outputs": [],
   "source": [
    "# model_eval(target_df=eval_pl.join(ranker_eval_pl.lazy(), how='left', on='session_id'))"
   ]
  },
  {
   "cell_type": "code",
   "execution_count": 15,
   "id": "699a9e97-4395-4886-a456-43add76d0bb4",
   "metadata": {},
   "outputs": [
    {
     "ename": "NameError",
     "evalue": "name 'test_candidates' is not defined",
     "output_type": "error",
     "traceback": [
      "\u001b[0;31m---------------------------------------------------------------------------\u001b[0m",
      "\u001b[0;31mNameError\u001b[0m                                 Traceback (most recent call last)",
      "Cell \u001b[0;32mIn[15], line 1\u001b[0m\n\u001b[0;32m----> 1\u001b[0m \u001b[43mtest_candidates\u001b[49m\n",
      "\u001b[0;31mNameError\u001b[0m: name 'test_candidates' is not defined"
     ]
    }
   ],
   "source": [
    "test_candidates"
   ]
  },
  {
   "cell_type": "markdown",
   "id": "4cea4973-3d4c-48e9-a387-287ee39ea07a",
   "metadata": {
    "tags": []
   },
   "source": [
    "# Test inference "
   ]
  },
  {
   "cell_type": "code",
   "execution_count": 25,
   "id": "90b8d129-3297-4ba2-8e3a-42be97d5ecda",
   "metadata": {},
   "outputs": [],
   "source": [
    "test_candidates = get_additional_feature(data_pl=test_candidates)"
   ]
  },
  {
   "cell_type": "code",
   "execution_count": 26,
   "id": "37deb6e4-1833-419b-9c83-9896e14c21a2",
   "metadata": {},
   "outputs": [
    {
     "data": {
      "text/plain": [
       "(74361010, 13)"
      ]
     },
     "execution_count": 26,
     "metadata": {},
     "output_type": "execute_result"
    }
   ],
   "source": [
    "test_candidates = test_candidates.collect()\n",
    "test_candidates.shape"
   ]
  },
  {
   "cell_type": "code",
   "execution_count": 29,
   "id": "69357f0f-697b-4324-9f93-fa22842f8af9",
   "metadata": {},
   "outputs": [],
   "source": [
    "inference = ranker.predict(test_candidates[feature_cols].to_pandas())"
   ]
  },
  {
   "cell_type": "code",
   "execution_count": 30,
   "id": "c9d1bf8f-7f18-443e-8296-8e43cb4850e3",
   "metadata": {},
   "outputs": [],
   "source": [
    "test_result = (test_candidates\n",
    "     .lazy()\n",
    "     .with_columns(\n",
    "         pl.Series(name='predict', values=inference)\n",
    "     )\n",
    "     .with_columns(\n",
    "        pl.col('predict').rank(method='ordinal', descending=True).over('session_id').alias('rank')\n",
    "     )\n",
    "     .sort(['session_id', 'rank'])\n",
    "     .filter(pl.col('rank')<=100)\n",
    "     .groupby(['session_id'])\n",
    "     .agg(\n",
    "         pl.col('next_item_prediction')\n",
    "     )\n",
    ")\n",
    "# test_result.head().collect()"
   ]
  },
  {
   "cell_type": "code",
   "execution_count": 31,
   "id": "904fb1bf-4c76-4b68-b2a9-f6647cd751e5",
   "metadata": {},
   "outputs": [
    {
     "data": {
      "text/plain": [
       "{'prev_items': Unknown, 'locale': Utf8, 'session_id': Int64}"
      ]
     },
     "execution_count": 31,
     "metadata": {},
     "output_type": "execute_result"
    }
   ],
   "source": [
    "test_pl.schema"
   ]
  },
  {
   "cell_type": "code",
   "execution_count": 32,
   "id": "6733f598-f4ff-42e3-80f5-665fddb376ae",
   "metadata": {},
   "outputs": [],
   "source": [
    "predictions = test_pl.join(test_result, how='left', on='session_id').collect()[['locale', 'next_item_prediction']].to_pandas()"
   ]
  },
  {
   "cell_type": "code",
   "execution_count": 33,
   "id": "2b1cc59b-8392-44da-b75e-e5f884e84006",
   "metadata": {},
   "outputs": [
    {
     "data": {
      "text/plain": [
       "(316972, 2)"
      ]
     },
     "execution_count": 33,
     "metadata": {},
     "output_type": "execute_result"
    }
   ],
   "source": [
    "predictions.shape"
   ]
  },
  {
   "cell_type": "code",
   "execution_count": 34,
   "id": "dc1521b2-6509-4947-9d25-3b89a4b0b2a6",
   "metadata": {},
   "outputs": [],
   "source": [
    "check_predictions(predictions, test_sessions=test_pl.collect().to_pandas(), \n",
    "                  # check_products=True, product_df=products\n",
    "                 )\n",
    "# Its important that the parquet file you submit is saved with pyarrow backend\n",
    "if not debug:\n",
    "    predictions.to_parquet(sub_file, engine='pyarrow')"
   ]
  },
  {
   "cell_type": "code",
   "execution_count": null,
   "id": "12b7fd35-e303-4f7b-b84e-35747d5040df",
   "metadata": {},
   "outputs": [],
   "source": []
  },
  {
   "cell_type": "markdown",
   "id": "c6448f9b-c2f6-4c00-94f3-0c286f47e3b9",
   "metadata": {
    "tags": []
   },
   "source": [
    "# Submit result "
   ]
  },
  {
   "cell_type": "code",
   "execution_count": 35,
   "id": "6b21fb19-340b-4d13-8bde-f4bc538583d0",
   "metadata": {},
   "outputs": [
    {
     "name": "stdout",
     "output_type": "stream",
     "text": [
      "\u001b[2K\u001b[1;34mrank_lgbm_v4.parque\u001b[0m \u001b[90m━━━━━━━━━━━━━━━\u001b[0m \u001b[35m100.0%\u001b[0m • \u001b[32m299.5/299.5 MB\u001b[0m • \u001b[31m2.9 MB/s\u001b[0m • \u001b[36m0:00:00\u001b[0m00:01\u001b[0m00:07\u001b[0m\n",
      "\u001b[?25h                                                                                 ╭─────────────────────────╮                                                                                 \n",
      "                                                                                 │ \u001b[1mSuccessfully submitted!\u001b[0m │                                                                                 \n",
      "                                                                                 ╰─────────────────────────╯                                                                                 \n",
      "\u001b[3m                                                                                       Important links                                                                                       \u001b[0m\n",
      "┌──────────────────┬────────────────────────────────────────────────────────────────────────────────────────────────────────────────────────────────────────────────────────────────────────┐\n",
      "│  This submission │ https://www.aicrowd.com/challenges/amazon-kdd-cup-23-multilingual-recommendation-challenge/problems/task-1-next-product-recommendation/submissions/233962              │\n",
      "│                  │                                                                                                                                                                        │\n",
      "│  All submissions │ https://www.aicrowd.com/challenges/amazon-kdd-cup-23-multilingual-recommendation-challenge/problems/task-1-next-product-recommendation/submissions?my_submissions=true │\n",
      "│                  │                                                                                                                                                                        │\n",
      "│      Leaderboard │ https://www.aicrowd.com/challenges/amazon-kdd-cup-23-multilingual-recommendation-challenge/problems/task-1-next-product-recommendation/leaderboards                    │\n",
      "│                  │                                                                                                                                                                        │\n",
      "│ Discussion forum │ https://discourse.aicrowd.com/c/amazon-kdd-cup-23-multilingual-recommendation-challenge                                                                                │\n",
      "│                  │                                                                                                                                                                        │\n",
      "│   Challenge page │ https://www.aicrowd.com/challenges/amazon-kdd-cup-23-multilingual-recommendation-challenge/problems/task-1-next-product-recommendation                                 │\n",
      "└──────────────────┴────────────────────────────────────────────────────────────────────────────────────────────────────────────────────────────────────────────────────────────────────────┘\n",
      "{'submission_id': 233962, 'created_at': '2023-06-05T05:54:55.446Z'}\n"
     ]
    }
   ],
   "source": [
    "# # You can submit with aicrowd-cli, or upload manually on the challenge page.\n",
    "!aicrowd submission create -c task-1-next-product-recommendation -f {sub_file}"
   ]
  },
  {
   "cell_type": "code",
   "execution_count": null,
   "id": "584510de-ebb4-49cc-abf8-4c49b6fda2ea",
   "metadata": {},
   "outputs": [],
   "source": []
  },
  {
   "cell_type": "code",
   "execution_count": null,
   "id": "dd733e4c-bbee-4c82-ae9f-a444d04605b5",
   "metadata": {},
   "outputs": [],
   "source": []
  }
 ],
 "metadata": {
  "environment": {
   "kernel": "kdd_2023",
   "name": "common-cu110.m104",
   "type": "gcloud",
   "uri": "gcr.io/deeplearning-platform-release/base-cu110:m104"
  },
  "kernelspec": {
   "display_name": "py3.8(kdd_2023)",
   "language": "python",
   "name": "kdd_2023"
  },
  "language_info": {
   "codemirror_mode": {
    "name": "ipython",
    "version": 3
   },
   "file_extension": ".py",
   "mimetype": "text/x-python",
   "name": "python",
   "nbconvert_exporter": "python",
   "pygments_lexer": "ipython3",
   "version": "3.8.16"
  }
 },
 "nbformat": 4,
 "nbformat_minor": 5
}
