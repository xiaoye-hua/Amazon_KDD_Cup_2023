{
 "cells": [
  {
   "cell_type": "markdown",
   "metadata": {
    "id": "LmjiT10Qk5m8"
   },
   "source": [
    "# package"
   ]
  },
  {
   "cell_type": "code",
   "execution_count": 67,
   "metadata": {
    "executionInfo": {
     "elapsed": 8,
     "status": "ok",
     "timestamp": 1679489159438,
     "user": {
      "displayName": "Dipam Chakraborty",
      "userId": "04496869744334527762"
     },
     "user_tz": -330
    },
    "id": "7DjmcQMAgPAJ"
   },
   "outputs": [
    {
     "name": "stdout",
     "output_type": "stream",
     "text": [
      "The autoreload extension is already loaded. To reload it, use:\n",
      "  %reload_ext autoreload\n"
     ]
    }
   ],
   "source": [
    "%load_ext autoreload\n",
    "%autoreload 2\n",
    "import sys\n",
    "import logging\n",
    "base_dir = '../'\n",
    "sys.path.append(base_dir)\n",
    "import os\n",
    "from utils import *\n",
    "import os\n",
    "import polars as pl\n",
    "import numpy as np\n",
    "import pandas as pd\n",
    "from functools import lru_cache\n",
    "from utils import *"
   ]
  },
  {
   "cell_type": "markdown",
   "metadata": {},
   "source": [
    "# Config "
   ]
  },
  {
   "cell_type": "code",
   "execution_count": 132,
   "metadata": {},
   "outputs": [],
   "source": [
    "task = 'task3'"
   ]
  },
  {
   "cell_type": "markdown",
   "metadata": {},
   "source": [
    "# Read data "
   ]
  },
  {
   "cell_type": "code",
   "execution_count": 30,
   "metadata": {},
   "outputs": [],
   "source": [
    "# ls ../data/sub_files/ | grep test4task3"
   ]
  },
  {
   "cell_type": "code",
   "execution_count": 68,
   "metadata": {},
   "outputs": [],
   "source": [
    "task2 = pl.scan_parquet('../data/sub_files/task2_test4task3_task2_rank_lgbm_v2.parquet')\n",
    "task1 = pl.scan_parquet('../data/sub_files/task1_test4task3_task1_rank_lgbm_v10.parquet')\n",
    "\n",
    "\n",
    "test4task3_pl = pl.scan_parquet(os.path.join('../data/raw_data_session_id/', 'sessions_test_task3.parquet')).with_columns(pl.col('prev_items').apply(str2list))\n"
   ]
  },
  {
   "cell_type": "code",
   "execution_count": 69,
   "metadata": {},
   "outputs": [
    {
     "data": {
      "text/plain": [
       "(56422, 3)"
      ]
     },
     "execution_count": 69,
     "metadata": {},
     "output_type": "execute_result"
    }
   ],
   "source": [
    "test4task3_pl.collect().shape"
   ]
  },
  {
   "cell_type": "code",
   "execution_count": 70,
   "metadata": {},
   "outputs": [
    {
     "data": {
      "text/html": [
       "<div><style>\n",
       ".dataframe > thead > tr > th,\n",
       ".dataframe > tbody > tr > td {\n",
       "  text-align: right;\n",
       "}\n",
       "</style>\n",
       "<small>shape: (5, 4)</small><table border=\"1\" class=\"dataframe\"><thead><tr><th>prev_items</th><th>locale</th><th>session_id</th><th>next_item_prediction</th></tr><tr><td>list[str]</td><td>str</td><td>i64</td><td>list[str]</td></tr></thead><tbody><tr><td>[&quot;B0BF9JMVDG&quot;, &quot;B01ET9V90M&quot;]</td><td>&quot;ES&quot;</td><td>4365996</td><td>[&quot;B00XA0GJSE&quot;]</td></tr><tr><td>[&quot;B09QQG85HM&quot;, &quot;B09J4T4JF5&quot;]</td><td>&quot;ES&quot;</td><td>4365997</td><td>[&quot;B09K7TDY1H&quot;]</td></tr><tr><td>[&quot;B09NSKDG4K&quot;, &quot;B09YY6J1ZM&quot;]</td><td>&quot;ES&quot;</td><td>4365998</td><td>[&quot;B09XM6Z7VY&quot;]</td></tr><tr><td>[&quot;B09B7NYDJ7&quot;, &quot;B09B7NYDJ7&quot;]</td><td>&quot;ES&quot;</td><td>4365999</td><td>[&quot;B014EWSGX2&quot;]</td></tr><tr><td>[&quot;B0B6J17LK4&quot;, &quot;B0B6R7X6GY&quot;, &quot;B07HXY5SGH&quot;]</td><td>&quot;ES&quot;</td><td>4366000</td><td>[&quot;B09DXT3NGZ&quot;]</td></tr></tbody></table></div>"
      ],
      "text/plain": [
       "shape: (5, 4)\n",
       "┌───────────────────────────────────┬────────┬────────────┬──────────────────────┐\n",
       "│ prev_items                        ┆ locale ┆ session_id ┆ next_item_prediction │\n",
       "│ ---                               ┆ ---    ┆ ---        ┆ ---                  │\n",
       "│ list[str]                         ┆ str    ┆ i64        ┆ list[str]            │\n",
       "╞═══════════════════════════════════╪════════╪════════════╪══════════════════════╡\n",
       "│ [\"B0BF9JMVDG\", \"B01ET9V90M\"]      ┆ ES     ┆ 4365996    ┆ [\"B00XA0GJSE\"]       │\n",
       "│ [\"B09QQG85HM\", \"B09J4T4JF5\"]      ┆ ES     ┆ 4365997    ┆ [\"B09K7TDY1H\"]       │\n",
       "│ [\"B09NSKDG4K\", \"B09YY6J1ZM\"]      ┆ ES     ┆ 4365998    ┆ [\"B09XM6Z7VY\"]       │\n",
       "│ [\"B09B7NYDJ7\", \"B09B7NYDJ7\"]      ┆ ES     ┆ 4365999    ┆ [\"B014EWSGX2\"]       │\n",
       "│ [\"B0B6J17LK4\", \"B0B6R7X6GY\", \"B0… ┆ ES     ┆ 4366000    ┆ [\"B09DXT3NGZ\"]       │\n",
       "└───────────────────────────────────┴────────┴────────────┴──────────────────────┘"
      ]
     },
     "execution_count": 70,
     "metadata": {},
     "output_type": "execute_result"
    }
   ],
   "source": [
    "task2.head().collect()"
   ]
  },
  {
   "cell_type": "code",
   "execution_count": 71,
   "metadata": {},
   "outputs": [
    {
     "data": {
      "text/html": [
       "<div><style>\n",
       ".dataframe > thead > tr > th,\n",
       ".dataframe > tbody > tr > td {\n",
       "  text-align: right;\n",
       "}\n",
       "</style>\n",
       "<small>shape: (5, 4)</small><table border=\"1\" class=\"dataframe\"><thead><tr><th>prev_items</th><th>locale</th><th>session_id</th><th>next_item_prediction</th></tr><tr><td>list[str]</td><td>str</td><td>i64</td><td>list[str]</td></tr></thead><tbody><tr><td>[&quot;B01D37JZDO&quot;, &quot;B09798DT5N&quot;]</td><td>&quot;DE&quot;</td><td>4372418</td><td>[&quot;B07QV6GZ6P&quot;]</td></tr><tr><td>[&quot;B09TPHS4J1&quot;, &quot;B09TPHGHR8&quot;]</td><td>&quot;DE&quot;</td><td>4372419</td><td>[&quot;B09TPHBD98&quot;]</td></tr><tr><td>[&quot;B09CPRS6QK&quot;, &quot;B09XMGPTZ2&quot;]</td><td>&quot;DE&quot;</td><td>4372420</td><td>[&quot;B093ZXQQ9Y&quot;]</td></tr><tr><td>[&quot;3785586620&quot;, &quot;3809439908&quot;]</td><td>&quot;DE&quot;</td><td>4372421</td><td>[&quot;3741525065&quot;]</td></tr><tr><td>[&quot;B09Q3DCGW3&quot;, &quot;B09Q3C5Z33&quot;]</td><td>&quot;DE&quot;</td><td>4372422</td><td>[&quot;B09Q3C3CKB&quot;]</td></tr></tbody></table></div>"
      ],
      "text/plain": [
       "shape: (5, 4)\n",
       "┌──────────────────────────────┬────────┬────────────┬──────────────────────┐\n",
       "│ prev_items                   ┆ locale ┆ session_id ┆ next_item_prediction │\n",
       "│ ---                          ┆ ---    ┆ ---        ┆ ---                  │\n",
       "│ list[str]                    ┆ str    ┆ i64        ┆ list[str]            │\n",
       "╞══════════════════════════════╪════════╪════════════╪══════════════════════╡\n",
       "│ [\"B01D37JZDO\", \"B09798DT5N\"] ┆ DE     ┆ 4372418    ┆ [\"B07QV6GZ6P\"]       │\n",
       "│ [\"B09TPHS4J1\", \"B09TPHGHR8\"] ┆ DE     ┆ 4372419    ┆ [\"B09TPHBD98\"]       │\n",
       "│ [\"B09CPRS6QK\", \"B09XMGPTZ2\"] ┆ DE     ┆ 4372420    ┆ [\"B093ZXQQ9Y\"]       │\n",
       "│ [\"3785586620\", \"3809439908\"] ┆ DE     ┆ 4372421    ┆ [\"3741525065\"]       │\n",
       "│ [\"B09Q3DCGW3\", \"B09Q3C5Z33\"] ┆ DE     ┆ 4372422    ┆ [\"B09Q3C3CKB\"]       │\n",
       "└──────────────────────────────┴────────┴────────────┴──────────────────────┘"
      ]
     },
     "execution_count": 71,
     "metadata": {},
     "output_type": "execute_result"
    }
   ],
   "source": [
    "task1.head().collect()"
   ]
  },
  {
   "cell_type": "code",
   "execution_count": 88,
   "metadata": {},
   "outputs": [],
   "source": [
    "res = pl.concat([task1, task2], how='vertical')\n",
    "product_pl = (pl.scan_parquet(os.path.join('../data/raw_data_session_id/', \n",
    "                                          'products_train.parquet'))\n",
    "                  # .with_columns(\n",
    "                  #     pl.when(pl.col('locale')=='DE').then(1).when(pl.col('locale')=='DE')\n",
    "                  #       .then(2)\n",
    "                  #       .otherwise(3).alias('locale')\n",
    "                  # )\n",
    "             )"
   ]
  },
  {
   "cell_type": "code",
   "execution_count": 89,
   "metadata": {},
   "outputs": [],
   "source": [
    "# product_pl.select(['id', 'locale', 'title']).head().collect()"
   ]
  },
  {
   "cell_type": "code",
   "execution_count": 90,
   "metadata": {},
   "outputs": [],
   "source": [
    "# res.head().collect()"
   ]
  },
  {
   "cell_type": "code",
   "execution_count": 91,
   "metadata": {},
   "outputs": [],
   "source": [
    "# test4task3_pl.schema"
   ]
  },
  {
   "cell_type": "code",
   "execution_count": 93,
   "metadata": {},
   "outputs": [],
   "source": [
    "predictions_step1 = (\n",
    "    test4task3_pl.join(\n",
    "        res.select(['session_id', 'locale', 'next_item_prediction'])\n",
    "        , how='left'\n",
    "        , on=['session_id', 'locale']\n",
    "    )\n",
    "    .explode('next_item_prediction')\n",
    "    .with_columns(\n",
    "        pl.when(pl.col('next_item_prediction').is_null()).then(pl.col('prev_items').arr.get(-1)).otherwise(pl.col('next_item_prediction'))\n",
    "        .alias('next_item_prediction')\n",
    "    )\n",
    ")#.head().collect()"
   ]
  },
  {
   "cell_type": "code",
   "execution_count": 94,
   "metadata": {},
   "outputs": [],
   "source": [
    "# predictions.head().collect()"
   ]
  },
  {
   "cell_type": "code",
   "execution_count": null,
   "metadata": {},
   "outputs": [],
   "source": []
  },
  {
   "cell_type": "code",
   "execution_count": 114,
   "metadata": {},
   "outputs": [],
   "source": [
    "predictions = (\n",
    "    predictions_step1\n",
    "        .join(product_pl.select(['id', 'locale', 'title']), how='left', right_on=['id', 'locale']\n",
    "                 , left_on=['next_item_prediction', 'locale'])\n",
    "        .with_columns(pl.col('title').alias('next_item_prediction').cast(pl.Utf8))\n",
    ")#.head().collect()"
   ]
  },
  {
   "cell_type": "code",
   "execution_count": 115,
   "metadata": {},
   "outputs": [
    {
     "ename": "AssertionError",
     "evalue": "",
     "output_type": "error",
     "traceback": [
      "\u001b[0;31m---------------------------------------------------------------------------\u001b[0m",
      "\u001b[0;31mAssertionError\u001b[0m                            Traceback (most recent call last)",
      "Cell \u001b[0;32mIn[115], line 1\u001b[0m\n\u001b[0;32m----> 1\u001b[0m \u001b[38;5;28;01massert\u001b[39;00m predictions\u001b[38;5;241m.\u001b[39mfilter(pl\u001b[38;5;241m.\u001b[39mcol(\u001b[38;5;124m'\u001b[39m\u001b[38;5;124mtitle\u001b[39m\u001b[38;5;124m'\u001b[39m)\u001b[38;5;241m.\u001b[39mis_null())\u001b[38;5;241m.\u001b[39mcollect()\u001b[38;5;241m.\u001b[39mshape[\u001b[38;5;241m0\u001b[39m] \u001b[38;5;241m==\u001b[39m \u001b[38;5;241m0\u001b[39m\n",
      "\u001b[0;31mAssertionError\u001b[0m: "
     ]
    }
   ],
   "source": [
    "assert predictions.filter(pl.col('title').is_null()).collect().shape[0] == 0"
   ]
  },
  {
   "cell_type": "code",
   "execution_count": 116,
   "metadata": {},
   "outputs": [],
   "source": [
    "assert test4task3_pl.collect().shape[0] == predictions.collect().shape[0]"
   ]
  },
  {
   "cell_type": "code",
   "execution_count": 117,
   "metadata": {},
   "outputs": [],
   "source": [
    "# product_pl.filter(pl.col('id')=='B085NXQL7F').collect()"
   ]
  },
  {
   "cell_type": "code",
   "execution_count": 118,
   "metadata": {},
   "outputs": [],
   "source": [
    "# test4task3_pl.filter(pl.col('session_id')==4420531).collect()"
   ]
  },
  {
   "cell_type": "code",
   "execution_count": 120,
   "metadata": {},
   "outputs": [
    {
     "data": {
      "text/html": [
       "<div><style>\n",
       ".dataframe > thead > tr > th,\n",
       ".dataframe > tbody > tr > td {\n",
       "  text-align: right;\n",
       "}\n",
       "</style>\n",
       "<small>shape: (5, 5)</small><table border=\"1\" class=\"dataframe\"><thead><tr><th>prev_items</th><th>locale</th><th>session_id</th><th>next_item_prediction</th><th>title</th></tr><tr><td>list[str]</td><td>str</td><td>i64</td><td>str</td><td>str</td></tr></thead><tbody><tr><td>[&quot;B0BF9JMVDG&quot;, &quot;B01ET9V90M&quot;]</td><td>&quot;ES&quot;</td><td>4365996</td><td>&quot;Coca-Cola Zero…</td><td>&quot;Coca-Cola Zero…</td></tr><tr><td>[&quot;B09QQG85HM&quot;, &quot;B09J4T4JF5&quot;]</td><td>&quot;ES&quot;</td><td>4365997</td><td>&quot;Xiaomi Redmi B…</td><td>&quot;Xiaomi Redmi B…</td></tr><tr><td>[&quot;B09NSKDG4K&quot;, &quot;B09YY6J1ZM&quot;]</td><td>&quot;ES&quot;</td><td>4365998</td><td>&quot;Yisica Correa …</td><td>&quot;Yisica Correa …</td></tr><tr><td>[&quot;B09B7NYDJ7&quot;, &quot;B09B7NYDJ7&quot;]</td><td>&quot;ES&quot;</td><td>4365999</td><td>&quot;Rowenta Compac…</td><td>&quot;Rowenta Compac…</td></tr><tr><td>[&quot;B0B6J17LK4&quot;, &quot;B0B6R7X6GY&quot;, &quot;B07HXY5SGH&quot;]</td><td>&quot;ES&quot;</td><td>4366000</td><td>&quot;STN Fiambrera …</td><td>&quot;STN Fiambrera …</td></tr></tbody></table></div>"
      ],
      "text/plain": [
       "shape: (5, 5)\n",
       "┌────────────────────┬────────┬────────────┬───────────────────────────┬───────────────────────────┐\n",
       "│ prev_items         ┆ locale ┆ session_id ┆ next_item_prediction      ┆ title                     │\n",
       "│ ---                ┆ ---    ┆ ---        ┆ ---                       ┆ ---                       │\n",
       "│ list[str]          ┆ str    ┆ i64        ┆ str                       ┆ str                       │\n",
       "╞════════════════════╪════════╪════════════╪═══════════════════════════╪═══════════════════════════╡\n",
       "│ [\"B0BF9JMVDG\",     ┆ ES     ┆ 4365996    ┆ Coca-Cola Zero Azúcar, 2  ┆ Coca-Cola Zero Azúcar, 2  │\n",
       "│ \"B01ET9V90M\"]      ┆        ┆            ┆ x 2L                      ┆ x 2L                      │\n",
       "│ [\"B09QQG85HM\",     ┆ ES     ┆ 4365997    ┆ Xiaomi Redmi Buds 3 -     ┆ Xiaomi Redmi Buds 3 -     │\n",
       "│ \"B09J4T4JF5\"]      ┆        ┆            ┆ Wireless E…               ┆ Wireless E…               │\n",
       "│ [\"B09NSKDG4K\",     ┆ ES     ┆ 4365998    ┆ Yisica Correa para Xiaomi ┆ Yisica Correa para Xiaomi │\n",
       "│ \"B09YY6J1ZM\"]      ┆        ┆            ┆ Mi Ban…                   ┆ Mi Ban…                   │\n",
       "│ [\"B09B7NYDJ7\",     ┆ ES     ┆ 4365999    ┆ Rowenta Compact Power     ┆ Rowenta Compact Power     │\n",
       "│ \"B09B7NYDJ7\"]      ┆        ┆            ┆ SO2210 - C…               ┆ SO2210 - C…               │\n",
       "│ [\"B0B6J17LK4\",     ┆ ES     ┆ 4366000    ┆ STN Fiambrera Electrica   ┆ STN Fiambrera Electrica   │\n",
       "│ \"B0B6R7X6GY\", \"B0… ┆        ┆            ┆ 24v 12v …                 ┆ 24v 12v …                 │\n",
       "└────────────────────┴────────┴────────────┴───────────────────────────┴───────────────────────────┘"
      ]
     },
     "execution_count": 120,
     "metadata": {},
     "output_type": "execute_result"
    }
   ],
   "source": [
    "predictions.head().collect()"
   ]
  },
  {
   "cell_type": "code",
   "execution_count": 119,
   "metadata": {},
   "outputs": [
    {
     "data": {
      "text/html": [
       "<div><style>\n",
       ".dataframe > thead > tr > th,\n",
       ".dataframe > tbody > tr > td {\n",
       "  text-align: right;\n",
       "}\n",
       "</style>\n",
       "<small>shape: (43, 5)</small><table border=\"1\" class=\"dataframe\"><thead><tr><th>prev_items</th><th>locale</th><th>session_id</th><th>next_item_prediction</th><th>title</th></tr><tr><td>list[str]</td><td>str</td><td>i64</td><td>str</td><td>str</td></tr></thead><tbody><tr><td>[&quot;B01BFA2BFK&quot;, &quot;B07DS9F1Z1&quot;]</td><td>&quot;ES&quot;</td><td>4366081</td><td>null</td><td>null</td></tr><tr><td>[&quot;B09NLQC628&quot;, &quot;B09Q5QPDNQ&quot;]</td><td>&quot;ES&quot;</td><td>4366435</td><td>null</td><td>null</td></tr><tr><td>[&quot;B07Q6VCP5B&quot;, &quot;B08VM7LY4W&quot;, … &quot;B07Q6VCP5B&quot;]</td><td>&quot;ES&quot;</td><td>4366646</td><td>null</td><td>null</td></tr><tr><td>[&quot;B09Q5QPDNQ&quot;, &quot;B09NLQC628&quot;, &quot;B09Q5QPDNQ&quot;]</td><td>&quot;ES&quot;</td><td>4366723</td><td>null</td><td>null</td></tr><tr><td>[&quot;B07Q71PGTZ&quot;, &quot;B07Q4SDMZ4&quot;, &quot;B07Q9PWVTJ&quot;]</td><td>&quot;ES&quot;</td><td>4368575</td><td>null</td><td>null</td></tr><tr><td>[&quot;B07Q2J5XMK&quot;, &quot;B07Q2J5XMK&quot;]</td><td>&quot;ES&quot;</td><td>4369978</td><td>null</td><td>null</td></tr><tr><td>[&quot;B07XGBFYVG&quot;, &quot;B07XGBFYVG&quot;]</td><td>&quot;ES&quot;</td><td>4370445</td><td>null</td><td>null</td></tr><tr><td>[&quot;B009P890YA&quot;, &quot;B0043A0094&quot;, … &quot;B009P890YA&quot;]</td><td>&quot;ES&quot;</td><td>4371883</td><td>null</td><td>null</td></tr><tr><td>[&quot;B09MBL23YZ&quot;, &quot;B083KTWP8J&quot;]</td><td>&quot;ES&quot;</td><td>4371902</td><td>null</td><td>null</td></tr><tr><td>[&quot;B07PQDQH97&quot;, &quot;B07PN8LLLJ&quot;]</td><td>&quot;DE&quot;</td><td>4375267</td><td>null</td><td>null</td></tr><tr><td>[&quot;B09XJVCZX2&quot;, &quot;B00MXJX2K6&quot;]</td><td>&quot;DE&quot;</td><td>4377408</td><td>null</td><td>null</td></tr><tr><td>[&quot;B091H18ZJY&quot;, &quot;B08SQLGSGW&quot;]</td><td>&quot;DE&quot;</td><td>4377503</td><td>null</td><td>null</td></tr><tr><td>&hellip;</td><td>&hellip;</td><td>&hellip;</td><td>&hellip;</td><td>&hellip;</td></tr><tr><td>[&quot;B08TM6ZM1P&quot;, &quot;B08TMN8QSC&quot;]</td><td>&quot;FR&quot;</td><td>4391878</td><td>null</td><td>null</td></tr><tr><td>[&quot;B00B7JJB76&quot;, &quot;B002R5ZZ88&quot;, … &quot;B006ZAP482&quot;]</td><td>&quot;FR&quot;</td><td>4392113</td><td>null</td><td>null</td></tr><tr><td>[&quot;B0053PVYE8&quot;, &quot;B0053PVYY8&quot;, … &quot;B0053PVYE8&quot;]</td><td>&quot;FR&quot;</td><td>4392257</td><td>null</td><td>null</td></tr><tr><td>[&quot;B07S7FYZWX&quot;, &quot;B00U5PWLNO&quot;]</td><td>&quot;IT&quot;</td><td>4393054</td><td>null</td><td>null</td></tr><tr><td>[&quot;B07TVWW79D&quot;, &quot;B077D5CR2F&quot;, … &quot;B07DGXQ5W9&quot;]</td><td>&quot;IT&quot;</td><td>4395606</td><td>null</td><td>null</td></tr><tr><td>[&quot;B07LH5RSJH&quot;, &quot;B07LH5RSJH&quot;, &quot;B07LH64BFF&quot;]</td><td>&quot;IT&quot;</td><td>4398453</td><td>null</td><td>null</td></tr><tr><td>[&quot;B077D5CR2F&quot;, &quot;B07TVWW79D&quot;, … &quot;B07T5BRX44&quot;]</td><td>&quot;IT&quot;</td><td>4402165</td><td>null</td><td>null</td></tr><tr><td>[&quot;B09W4SFZXD&quot;, &quot;B01FQA9MLQ&quot;, … &quot;B01FQA9MLQ&quot;]</td><td>&quot;JP&quot;</td><td>4410735</td><td>null</td><td>null</td></tr><tr><td>[&quot;B00GOL97YY&quot;, &quot;B09JC9HJ4N&quot;]</td><td>&quot;UK&quot;</td><td>4413809</td><td>null</td><td>null</td></tr><tr><td>[&quot;B09NRPF7KR&quot;, &quot;B07RJWQDP6&quot;, &quot;B07WSFMFPY&quot;]</td><td>&quot;UK&quot;</td><td>4416594</td><td>null</td><td>null</td></tr><tr><td>[&quot;B09NVRSB45&quot;, &quot;B09NVS5ZXX&quot;]</td><td>&quot;UK&quot;</td><td>4417828</td><td>null</td><td>null</td></tr><tr><td>[&quot;B00T85MGKA&quot;, &quot;B00ODIASKC&quot;]</td><td>&quot;UK&quot;</td><td>4420531</td><td>null</td><td>null</td></tr></tbody></table></div>"
      ],
      "text/plain": [
       "shape: (43, 5)\n",
       "┌───────────────────────────────────┬────────┬────────────┬──────────────────────┬───────┐\n",
       "│ prev_items                        ┆ locale ┆ session_id ┆ next_item_prediction ┆ title │\n",
       "│ ---                               ┆ ---    ┆ ---        ┆ ---                  ┆ ---   │\n",
       "│ list[str]                         ┆ str    ┆ i64        ┆ str                  ┆ str   │\n",
       "╞═══════════════════════════════════╪════════╪════════════╪══════════════════════╪═══════╡\n",
       "│ [\"B01BFA2BFK\", \"B07DS9F1Z1\"]      ┆ ES     ┆ 4366081    ┆ null                 ┆ null  │\n",
       "│ [\"B09NLQC628\", \"B09Q5QPDNQ\"]      ┆ ES     ┆ 4366435    ┆ null                 ┆ null  │\n",
       "│ [\"B07Q6VCP5B\", \"B08VM7LY4W\", … \"… ┆ ES     ┆ 4366646    ┆ null                 ┆ null  │\n",
       "│ [\"B09Q5QPDNQ\", \"B09NLQC628\", \"B0… ┆ ES     ┆ 4366723    ┆ null                 ┆ null  │\n",
       "│ …                                 ┆ …      ┆ …          ┆ …                    ┆ …     │\n",
       "│ [\"B00GOL97YY\", \"B09JC9HJ4N\"]      ┆ UK     ┆ 4413809    ┆ null                 ┆ null  │\n",
       "│ [\"B09NRPF7KR\", \"B07RJWQDP6\", \"B0… ┆ UK     ┆ 4416594    ┆ null                 ┆ null  │\n",
       "│ [\"B09NVRSB45\", \"B09NVS5ZXX\"]      ┆ UK     ┆ 4417828    ┆ null                 ┆ null  │\n",
       "│ [\"B00T85MGKA\", \"B00ODIASKC\"]      ┆ UK     ┆ 4420531    ┆ null                 ┆ null  │\n",
       "└───────────────────────────────────┴────────┴────────────┴──────────────────────┴───────┘"
      ]
     },
     "execution_count": 119,
     "metadata": {},
     "output_type": "execute_result"
    }
   ],
   "source": [
    "predictions.filter(pl.col('title').is_null()).collect()"
   ]
  },
  {
   "cell_type": "code",
   "execution_count": 121,
   "metadata": {},
   "outputs": [],
   "source": [
    "\n",
    "# predictions.select('locale').collect().to_series().value_counts()"
   ]
  },
  {
   "cell_type": "code",
   "execution_count": 122,
   "metadata": {},
   "outputs": [],
   "source": [
    "predictions_df = predictions.collect().to_pandas()"
   ]
  },
  {
   "cell_type": "code",
   "execution_count": 123,
   "metadata": {},
   "outputs": [],
   "source": [
    "predictions_df['next_item_prediction'] = predictions_df['next_item_prediction'].astype('str')"
   ]
  },
  {
   "cell_type": "markdown",
   "metadata": {
    "id": "vNB90dXKlZkR",
    "tags": []
   },
   "source": [
    "# Validate predictions ✅"
   ]
  },
  {
   "cell_type": "code",
   "execution_count": 127,
   "metadata": {
    "executionInfo": {
     "elapsed": 10,
     "status": "ok",
     "timestamp": 1679489181460,
     "user": {
      "displayName": "Dipam Chakraborty",
      "userId": "04496869744334527762"
     },
     "user_tz": -330
    },
    "id": "B1XKTojogtF2"
   },
   "outputs": [],
   "source": [
    "def check_predictions(predictions, test_sessions):\n",
    "    \"\"\"\n",
    "    These tests need to pass as they will also be applied on the evaluator\n",
    "    \"\"\"\n",
    "    test_locale_names = test_sessions['locale'].unique()\n",
    "    for locale in test_locale_names:\n",
    "        sess_test = test_sessions.query(f'locale == \"{locale}\"')\n",
    "        preds_locale =  predictions[predictions['locale'] == sess_test['locale'].iloc[0]]\n",
    "        assert sorted(preds_locale.index.values) == sorted(sess_test.index.values), f\"Session ids of {locale} doesn't match\"\n",
    "        assert predictions['next_item_prediction'].apply(lambda x: isinstance(x, str)).all(), \"Predictions should all be strings\""
   ]
  },
  {
   "cell_type": "code",
   "execution_count": 128,
   "metadata": {},
   "outputs": [
    {
     "name": "stdout",
     "output_type": "stream",
     "text": [
      "<class 'pandas.core.frame.DataFrame'>\n",
      "RangeIndex: 56422 entries, 0 to 56421\n",
      "Data columns (total 5 columns):\n",
      " #   Column                Non-Null Count  Dtype \n",
      "---  ------                --------------  ----- \n",
      " 0   prev_items            56422 non-null  object\n",
      " 1   locale                56422 non-null  object\n",
      " 2   session_id            56422 non-null  int64 \n",
      " 3   next_item_prediction  56422 non-null  object\n",
      " 4   title                 56379 non-null  object\n",
      "dtypes: int64(1), object(4)\n",
      "memory usage: 2.2+ MB\n"
     ]
    }
   ],
   "source": [
    "predictions_df.info()"
   ]
  },
  {
   "cell_type": "code",
   "execution_count": 133,
   "metadata": {
    "executionInfo": {
     "elapsed": 9,
     "status": "ok",
     "timestamp": 1679489181460,
     "user": {
      "displayName": "Dipam Chakraborty",
      "userId": "04496869744334527762"
     },
     "user_tz": -330
    },
    "id": "FJA368Gzguk7"
   },
   "outputs": [],
   "source": [
    "check_predictions(predictions_df, test_sessions=test4task3_pl.collect().to_pandas())"
   ]
  },
  {
   "cell_type": "code",
   "execution_count": 136,
   "metadata": {},
   "outputs": [],
   "source": [
    "sub_file = f'submission_{task}.parquet'"
   ]
  },
  {
   "cell_type": "code",
   "execution_count": 142,
   "metadata": {},
   "outputs": [
    {
     "name": "stdout",
     "output_type": "stream",
     "text": [
      "-rw-r--r-- 1 jupyter jupyter 12565524 Jun  8 19:50 submission_task3.parquet\n"
     ]
    }
   ],
   "source": [
    "! ls -al {sub_file}"
   ]
  },
  {
   "cell_type": "code",
   "execution_count": 138,
   "metadata": {
    "executionInfo": {
     "elapsed": 9,
     "status": "ok",
     "timestamp": 1679489181460,
     "user": {
      "displayName": "Dipam Chakraborty",
      "userId": "04496869744334527762"
     },
     "user_tz": -330
    },
    "id": "1dTvU5VOgv0j"
   },
   "outputs": [],
   "source": [
    "# Its important that the parquet file you submit is saved with pyarrow backend\n",
    "predictions_df.to_parquet(sub_file, engine='pyarrow')"
   ]
  },
  {
   "cell_type": "code",
   "execution_count": 141,
   "metadata": {},
   "outputs": [
    {
     "data": {
      "text/plain": [
       "'submission_task3.parquet'"
      ]
     },
     "execution_count": 141,
     "metadata": {},
     "output_type": "execute_result"
    }
   ],
   "source": [
    "f'submission_{task}.parquet'"
   ]
  },
  {
   "cell_type": "markdown",
   "metadata": {
    "id": "dVrZ_TfnjL09"
   },
   "source": [
    "## Submit to AIcrowd 🚀"
   ]
  },
  {
   "cell_type": "code",
   "execution_count": 145,
   "metadata": {
    "id": "rd9OYWEgixPZ"
   },
   "outputs": [],
   "source": [
    "# You can submit with aicrowd-cli, or upload manually on the challenge page.\n",
    "# !aicrowd submission create -c task-3-next-product-title-generation -f {sub_file}"
   ]
  },
  {
   "cell_type": "code",
   "execution_count": null,
   "metadata": {},
   "outputs": [],
   "source": []
  }
 ],
 "metadata": {
  "colab": {
   "authorship_tag": "ABX9TyNj5pYfUGOVeNSAJeNJ+6v3",
   "provenance": [
    {
     "file_id": "1BMur3lVuAmsOBNHxB2m1oN_6VD_qIGpl",
     "timestamp": 1679462092826
    },
    {
     "file_id": "1sShXmsM7JBLXPuIqEufRFIOMamaQ07e2",
     "timestamp": 1679076716377
    }
   ]
  },
  "environment": {
   "kernel": "kdd_2023",
   "name": "common-cu110.m104",
   "type": "gcloud",
   "uri": "gcr.io/deeplearning-platform-release/base-cu110:m104"
  },
  "kernelspec": {
   "display_name": "py3.8(kdd_2023)",
   "language": "python",
   "name": "kdd_2023"
  },
  "language_info": {
   "codemirror_mode": {
    "name": "ipython",
    "version": 3
   },
   "file_extension": ".py",
   "mimetype": "text/x-python",
   "name": "python",
   "nbconvert_exporter": "python",
   "pygments_lexer": "ipython3",
   "version": "3.8.16"
  }
 },
 "nbformat": 4,
 "nbformat_minor": 4
}
