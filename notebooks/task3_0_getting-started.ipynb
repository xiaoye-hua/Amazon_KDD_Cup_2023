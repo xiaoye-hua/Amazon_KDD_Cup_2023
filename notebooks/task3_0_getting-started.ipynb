{
 "cells": [
  {
   "cell_type": "markdown",
   "metadata": {
    "id": "LmjiT10Qk5m8"
   },
   "source": [
    "## Setup data and task information"
   ]
  },
  {
   "cell_type": "code",
   "execution_count": 1,
   "metadata": {
    "executionInfo": {
     "elapsed": 8,
     "status": "ok",
     "timestamp": 1679489159438,
     "user": {
      "displayName": "Dipam Chakraborty",
      "userId": "04496869744334527762"
     },
     "user_tz": -330
    },
    "id": "7DjmcQMAgPAJ"
   },
   "outputs": [],
   "source": [
    "%load_ext autoreload\n",
    "%autoreload 2\n",
    "import sys\n",
    "import logging\n",
    "base_dir = '../'\n",
    "sys.path.append(base_dir)\n",
    "import os\n",
    "from utils import *\n",
    "import os\n",
    "import polars as pl\n",
    "import numpy as np\n",
    "import pandas as pd\n",
    "from functools import lru_cache"
   ]
  },
  {
   "cell_type": "code",
   "execution_count": 2,
   "metadata": {
    "executionInfo": {
     "elapsed": 7,
     "status": "ok",
     "timestamp": 1679489159439,
     "user": {
      "displayName": "Dipam Chakraborty",
      "userId": "04496869744334527762"
     },
     "user_tz": -330
    },
    "id": "6oiTtQ56gYlY"
   },
   "outputs": [],
   "source": [
    "train_data_dir = '../data/raw_data/'\n",
    "test_data_dir = '../data/raw_data/'\n",
    "task = 'task3'\n",
    "PREDS_PER_SESSION = 100"
   ]
  },
  {
   "cell_type": "code",
   "execution_count": 3,
   "metadata": {
    "executionInfo": {
     "elapsed": 7,
     "status": "ok",
     "timestamp": 1679489159439,
     "user": {
      "displayName": "Dipam Chakraborty",
      "userId": "04496869744334527762"
     },
     "user_tz": -330
    },
    "id": "qZPWqKGegax-"
   },
   "outputs": [],
   "source": [
    "# Cache loading of data for multiple calls\n",
    "\n",
    "@lru_cache(maxsize=1)\n",
    "def read_product_data():\n",
    "    return pd.read_csv(os.path.join(train_data_dir, 'products_train.csv'))\n",
    "\n",
    "@lru_cache(maxsize=1)\n",
    "def read_train_data():\n",
    "    return pd.read_csv(os.path.join(train_data_dir, 'sessions_train.csv'))\n",
    "\n",
    "@lru_cache(maxsize=3)\n",
    "def read_test_data(task):\n",
    "    return pd.read_csv(os.path.join(test_data_dir, f'sessions_test_{task}.csv'))"
   ]
  },
  {
   "cell_type": "markdown",
   "metadata": {
    "id": "WrMp8SO2tFtL"
   },
   "source": [
    "## Data Description\n",
    "\n",
    "The Multilingual Shopping Session Dataset is a collection of **anonymized customer sessions** containing products from six different locales, namely English, German, Japanese, French, Italian, and Spanish. It consists of two main components: **user sessions** and **product attributes**. User sessions are a list of products that a user has engaged with in chronological order, while product attributes include various details like product title, price in local currency, brand, color, and description.\n",
    "\n",
    "---\n",
    "\n",
    "### Each product as its associated information:\n",
    "\n",
    "\n",
    "**locale**: the locale code of the product (e.g., DE)\n",
    "\n",
    "**id**: a unique for the product. Also known as Amazon Standard Item Number (ASIN) (e.g., B07WSY3MG8)\n",
    "\n",
    "**title**: title of the item (e.g., “Japanese Aesthetic Sakura Flowers Vaporwave Soft Grunge Gift T-Shirt”)\n",
    "\n",
    "**price**: price of the item in local currency (e.g., 24.99)\n",
    "\n",
    "**brand**: item brand name (e.g., “Japanese Aesthetic Flowers & Vaporwave Clothing”)\n",
    "\n",
    "**color**: color of the item (e.g., “Black”)\n",
    "\n",
    "**size**: size of the item (e.g., “xxl”)\n",
    "\n",
    "**model**: model of the item (e.g., “iphone 13”)\n",
    "\n",
    "**material**: material of the item (e.g., “cotton”)\n",
    "\n",
    "**author**: author of the item (e.g., “J. K. Rowling”)\n",
    "\n",
    "**desc**: description about a item’s key features and benefits called out via bullet points (e.g., “Solid colors: 100% Cotton; Heather Grey: 90% Cotton, 10% Polyester; All Other Heathers …”)\n"
   ]
  },
  {
   "cell_type": "markdown",
   "metadata": {
    "id": "9ZEph_ZjlOj0"
   },
   "source": [
    "## EDA 💽"
   ]
  },
  {
   "cell_type": "code",
   "execution_count": 4,
   "metadata": {
    "executionInfo": {
     "elapsed": 7,
     "status": "ok",
     "timestamp": 1679489159439,
     "user": {
      "displayName": "Dipam Chakraborty",
      "userId": "04496869744334527762"
     },
     "user_tz": -330
    },
    "id": "f2L9ImDqge3_"
   },
   "outputs": [],
   "source": [
    "def read_locale_data(locale, task):\n",
    "    products = read_product_data().query(f'locale == \"{locale}\"')\n",
    "    sess_train = read_train_data().query(f'locale == \"{locale}\"')\n",
    "    sess_test = read_test_data(task).query(f'locale == \"{locale}\"')\n",
    "    return products, sess_train, sess_test\n",
    "\n",
    "def show_locale_info(locale, task):\n",
    "    products, sess_train, sess_test = read_locale_data(locale, task)\n",
    "\n",
    "    train_l = sess_train['prev_items'].apply(lambda sess: len(sess))\n",
    "    test_l = sess_test['prev_items'].apply(lambda sess: len(sess))\n",
    "\n",
    "    print(f\"Locale: {locale} \\n\"\n",
    "          f\"Number of products: {products['id'].nunique()} \\n\"\n",
    "          f\"Number of train sessions: {len(sess_train)} \\n\"\n",
    "          f\"Train session lengths - \"\n",
    "          f\"Mean: {train_l.mean():.2f} | Median {train_l.median():.2f} | \"\n",
    "          f\"Min: {train_l.min():.2f} | Max {train_l.max():.2f} \\n\"\n",
    "          f\"Number of test sessions: {len(sess_test)}\"\n",
    "        )\n",
    "    if len(sess_test) > 0:\n",
    "        print(\n",
    "             f\"Test session lengths - \"\n",
    "            f\"Mean: {test_l.mean():.2f} | Median {test_l.median():.2f} | \"\n",
    "            f\"Min: {test_l.min():.2f} | Max {test_l.max():.2f} \\n\"\n",
    "        )\n",
    "    print(\"======================================================================== \\n\")"
   ]
  },
  {
   "cell_type": "code",
   "execution_count": 5,
   "metadata": {
    "colab": {
     "base_uri": "https://localhost:8080/"
    },
    "executionInfo": {
     "elapsed": 21228,
     "status": "ok",
     "timestamp": 1679489180661,
     "user": {
      "displayName": "Dipam Chakraborty",
      "userId": "04496869744334527762"
     },
     "user_tz": -330
    },
    "id": "tWCiG4Odggmo",
    "outputId": "31358474-37f0-49fa-a4ad-3b4b0d5c4780"
   },
   "outputs": [
    {
     "name": "stdout",
     "output_type": "stream",
     "text": [
      "Locale: DE \n",
      "Number of products: 518327 \n",
      "Number of train sessions: 1111416 \n",
      "Train session lengths - Mean: 57.89 | Median 40.00 | Min: 27.00 | Max 2060.00 \n",
      "Number of test sessions: 10000\n",
      "Test session lengths - Mean: 40.07 | Median 27.00 | Min: 27.00 | Max 502.00 \n",
      "\n",
      "======================================================================== \n",
      "\n",
      "Locale: JP \n",
      "Number of products: 395009 \n",
      "Number of train sessions: 979119 \n",
      "Train session lengths - Mean: 59.61 | Median 40.00 | Min: 27.00 | Max 6257.00 \n",
      "Number of test sessions: 10000\n",
      "Test session lengths - Mean: 40.32 | Median 27.00 | Min: 27.00 | Max 502.00 \n",
      "\n",
      "======================================================================== \n",
      "\n",
      "Locale: UK \n",
      "Number of products: 500180 \n",
      "Number of train sessions: 1182181 \n",
      "Train session lengths - Mean: 54.85 | Median 40.00 | Min: 27.00 | Max 2654.00 \n",
      "Number of test sessions: 10000\n",
      "Test session lengths - Mean: 48.44 | Median 40.00 | Min: 27.00 | Max 594.00 \n",
      "\n",
      "======================================================================== \n",
      "\n",
      "Locale: ES \n",
      "Number of products: 42503 \n",
      "Number of train sessions: 89047 \n",
      "Train session lengths - Mean: 48.82 | Median 40.00 | Min: 27.00 | Max 792.00 \n",
      "Number of test sessions: 6422\n",
      "Test session lengths - Mean: 44.19 | Median 40.00 | Min: 27.00 | Max 410.00 \n",
      "\n",
      "======================================================================== \n",
      "\n",
      "Locale: FR \n",
      "Number of products: 44577 \n",
      "Number of train sessions: 117561 \n",
      "Train session lengths - Mean: 47.25 | Median 40.00 | Min: 27.00 | Max 687.00 \n",
      "Number of test sessions: 10000\n",
      "Test session lengths - Mean: 42.54 | Median 27.00 | Min: 27.00 | Max 304.00 \n",
      "\n",
      "======================================================================== \n",
      "\n",
      "Locale: IT \n",
      "Number of products: 50461 \n",
      "Number of train sessions: 126925 \n",
      "Train session lengths - Mean: 48.80 | Median 40.00 | Min: 27.00 | Max 621.00 \n",
      "Number of test sessions: 10000\n",
      "Test session lengths - Mean: 43.58 | Median 40.00 | Min: 27.00 | Max 396.00 \n",
      "\n",
      "======================================================================== \n",
      "\n"
     ]
    }
   ],
   "source": [
    "products = read_product_data()\n",
    "locale_names = products['locale'].unique()\n",
    "for locale in locale_names:\n",
    "    show_locale_info(locale, task)"
   ]
  },
  {
   "cell_type": "code",
   "execution_count": 6,
   "metadata": {
    "colab": {
     "base_uri": "https://localhost:8080/",
     "height": 597
    },
    "executionInfo": {
     "elapsed": 32,
     "status": "ok",
     "timestamp": 1679489180662,
     "user": {
      "displayName": "Dipam Chakraborty",
      "userId": "04496869744334527762"
     },
     "user_tz": -330
    },
    "id": "ePOKyZCbgizi",
    "outputId": "4650d30b-1223-4e16-a177-d7ce55ca4033"
   },
   "outputs": [
    {
     "data": {
      "text/html": [
       "<div>\n",
       "<style scoped>\n",
       "    .dataframe tbody tr th:only-of-type {\n",
       "        vertical-align: middle;\n",
       "    }\n",
       "\n",
       "    .dataframe tbody tr th {\n",
       "        vertical-align: top;\n",
       "    }\n",
       "\n",
       "    .dataframe thead th {\n",
       "        text-align: right;\n",
       "    }\n",
       "</style>\n",
       "<table border=\"1\" class=\"dataframe\">\n",
       "  <thead>\n",
       "    <tr style=\"text-align: right;\">\n",
       "      <th></th>\n",
       "      <th>id</th>\n",
       "      <th>locale</th>\n",
       "      <th>title</th>\n",
       "      <th>price</th>\n",
       "      <th>brand</th>\n",
       "      <th>color</th>\n",
       "      <th>size</th>\n",
       "      <th>model</th>\n",
       "      <th>material</th>\n",
       "      <th>author</th>\n",
       "      <th>desc</th>\n",
       "    </tr>\n",
       "  </thead>\n",
       "  <tbody>\n",
       "    <tr>\n",
       "      <th>1083538</th>\n",
       "      <td>B01EZA4YMK</td>\n",
       "      <td>UK</td>\n",
       "      <td>Yankee Candle Car Jar Scented Air Freshener, M...</td>\n",
       "      <td>6.05</td>\n",
       "      <td>Yankee Candle</td>\n",
       "      <td>Dark Brown</td>\n",
       "      <td>Car Jar Bonus 3 Pack</td>\n",
       "      <td>5038580069723</td>\n",
       "      <td>Plastic</td>\n",
       "      <td>NaN</td>\n",
       "      <td>Also ideal in small spaces like pet areas or g...</td>\n",
       "    </tr>\n",
       "    <tr>\n",
       "      <th>25160</th>\n",
       "      <td>B0B5TFZC95</td>\n",
       "      <td>DE</td>\n",
       "      <td>Make up Pinsel, Grundierung, flache Oberseite,...</td>\n",
       "      <td>9.99</td>\n",
       "      <td>BEASOFEE</td>\n",
       "      <td>01</td>\n",
       "      <td>NaN</td>\n",
       "      <td>NaN</td>\n",
       "      <td>NaN</td>\n",
       "      <td>NaN</td>\n",
       "      <td>【Basispinsel für Selbstbräunungsprozesse】: Der...</td>\n",
       "    </tr>\n",
       "    <tr>\n",
       "      <th>1064110</th>\n",
       "      <td>B00ET02XD4</td>\n",
       "      <td>UK</td>\n",
       "      <td>The Hitchhiker's Guide to the Galaxy</td>\n",
       "      <td>5.99</td>\n",
       "      <td>NaN</td>\n",
       "      <td>NaN</td>\n",
       "      <td>NaN</td>\n",
       "      <td>NaN</td>\n",
       "      <td>NaN</td>\n",
       "      <td>Alan Rickman</td>\n",
       "      <td>NaN</td>\n",
       "    </tr>\n",
       "    <tr>\n",
       "      <th>1227861</th>\n",
       "      <td>B00J8NA9EC</td>\n",
       "      <td>UK</td>\n",
       "      <td>KitchenCraft Living Nostalgia Mechanical Kitch...</td>\n",
       "      <td>37.82</td>\n",
       "      <td>KitchenCraft</td>\n",
       "      <td>Vintage Blue</td>\n",
       "      <td>NaN</td>\n",
       "      <td>LNSCALEBLU</td>\n",
       "      <td>Alloy Steel</td>\n",
       "      <td>NaN</td>\n",
       "      <td>BEAUTIFUL AND FUNCTIONAL: They feature a gorge...</td>\n",
       "    </tr>\n",
       "    <tr>\n",
       "      <th>1016976</th>\n",
       "      <td>B09P58R7TJ</td>\n",
       "      <td>UK</td>\n",
       "      <td>Integral 250GB SSD NVME M.2 2280 PCIe Gen3x4 R...</td>\n",
       "      <td>23.95</td>\n",
       "      <td>Integral</td>\n",
       "      <td>NaN</td>\n",
       "      <td>250GB</td>\n",
       "      <td>INSSD250GM280NM2</td>\n",
       "      <td>NaN</td>\n",
       "      <td>NaN</td>\n",
       "      <td>3 Year Free UK-based help and support team</td>\n",
       "    </tr>\n",
       "  </tbody>\n",
       "</table>\n",
       "</div>"
      ],
      "text/plain": [
       "                 id locale                                              title   \n",
       "1083538  B01EZA4YMK     UK  Yankee Candle Car Jar Scented Air Freshener, M...  \\\n",
       "25160    B0B5TFZC95     DE  Make up Pinsel, Grundierung, flache Oberseite,...   \n",
       "1064110  B00ET02XD4     UK               The Hitchhiker's Guide to the Galaxy   \n",
       "1227861  B00J8NA9EC     UK  KitchenCraft Living Nostalgia Mechanical Kitch...   \n",
       "1016976  B09P58R7TJ     UK  Integral 250GB SSD NVME M.2 2280 PCIe Gen3x4 R...   \n",
       "\n",
       "         price          brand         color                  size   \n",
       "1083538   6.05  Yankee Candle    Dark Brown  Car Jar Bonus 3 Pack  \\\n",
       "25160     9.99       BEASOFEE            01                   NaN   \n",
       "1064110   5.99            NaN           NaN                   NaN   \n",
       "1227861  37.82   KitchenCraft  Vintage Blue                   NaN   \n",
       "1016976  23.95       Integral           NaN                 250GB   \n",
       "\n",
       "                    model     material        author   \n",
       "1083538     5038580069723      Plastic           NaN  \\\n",
       "25160                 NaN          NaN           NaN   \n",
       "1064110               NaN          NaN  Alan Rickman   \n",
       "1227861        LNSCALEBLU  Alloy Steel           NaN   \n",
       "1016976  INSSD250GM280NM2          NaN           NaN   \n",
       "\n",
       "                                                      desc  \n",
       "1083538  Also ideal in small spaces like pet areas or g...  \n",
       "25160    【Basispinsel für Selbstbräunungsprozesse】: Der...  \n",
       "1064110                                                NaN  \n",
       "1227861  BEAUTIFUL AND FUNCTIONAL: They feature a gorge...  \n",
       "1016976         3 Year Free UK-based help and support team  "
      ]
     },
     "execution_count": 6,
     "metadata": {},
     "output_type": "execute_result"
    }
   ],
   "source": [
    "products.sample(5)"
   ]
  },
  {
   "cell_type": "code",
   "execution_count": 7,
   "metadata": {
    "colab": {
     "base_uri": "https://localhost:8080/",
     "height": 206
    },
    "executionInfo": {
     "elapsed": 14,
     "status": "ok",
     "timestamp": 1679489180662,
     "user": {
      "displayName": "Dipam Chakraborty",
      "userId": "04496869744334527762"
     },
     "user_tz": -330
    },
    "id": "S1S19qsFgk43",
    "outputId": "73613ea0-4898-4a78-ddb0-40d6a637ee66"
   },
   "outputs": [
    {
     "data": {
      "text/html": [
       "<div>\n",
       "<style scoped>\n",
       "    .dataframe tbody tr th:only-of-type {\n",
       "        vertical-align: middle;\n",
       "    }\n",
       "\n",
       "    .dataframe tbody tr th {\n",
       "        vertical-align: top;\n",
       "    }\n",
       "\n",
       "    .dataframe thead th {\n",
       "        text-align: right;\n",
       "    }\n",
       "</style>\n",
       "<table border=\"1\" class=\"dataframe\">\n",
       "  <thead>\n",
       "    <tr style=\"text-align: right;\">\n",
       "      <th></th>\n",
       "      <th>prev_items</th>\n",
       "      <th>next_item</th>\n",
       "      <th>locale</th>\n",
       "    </tr>\n",
       "  </thead>\n",
       "  <tbody>\n",
       "    <tr>\n",
       "      <th>449209</th>\n",
       "      <td>['B00LSTQUHO' 'B01JANOAO4']</td>\n",
       "      <td>B075DFD4QF</td>\n",
       "      <td>DE</td>\n",
       "    </tr>\n",
       "    <tr>\n",
       "      <th>3591690</th>\n",
       "      <td>['B09Y8THMVH' 'B09PC2G77G' 'B09BZ3RZ5X' 'B09PC...</td>\n",
       "      <td>B09H5PTNV1</td>\n",
       "      <td>IT</td>\n",
       "    </tr>\n",
       "    <tr>\n",
       "      <th>259958</th>\n",
       "      <td>['B0B6FYGP15' 'B0B6FVTZ5Z']</td>\n",
       "      <td>B09FG5QWFL</td>\n",
       "      <td>DE</td>\n",
       "    </tr>\n",
       "    <tr>\n",
       "      <th>324675</th>\n",
       "      <td>['B00E4ZNGVW' 'B08XQZ7LZJ' 'B00E67346A' 'B00V8...</td>\n",
       "      <td>B008YW7YK0</td>\n",
       "      <td>DE</td>\n",
       "    </tr>\n",
       "    <tr>\n",
       "      <th>3450957</th>\n",
       "      <td>['B099XB56K5' 'B099X6Y7TT']</td>\n",
       "      <td>B099X8NS9C</td>\n",
       "      <td>FR</td>\n",
       "    </tr>\n",
       "  </tbody>\n",
       "</table>\n",
       "</div>"
      ],
      "text/plain": [
       "                                                prev_items   next_item locale\n",
       "449209                         ['B00LSTQUHO' 'B01JANOAO4']  B075DFD4QF     DE\n",
       "3591690  ['B09Y8THMVH' 'B09PC2G77G' 'B09BZ3RZ5X' 'B09PC...  B09H5PTNV1     IT\n",
       "259958                         ['B0B6FYGP15' 'B0B6FVTZ5Z']  B09FG5QWFL     DE\n",
       "324675   ['B00E4ZNGVW' 'B08XQZ7LZJ' 'B00E67346A' 'B00V8...  B008YW7YK0     DE\n",
       "3450957                        ['B099XB56K5' 'B099X6Y7TT']  B099X8NS9C     FR"
      ]
     },
     "execution_count": 7,
     "metadata": {},
     "output_type": "execute_result"
    }
   ],
   "source": [
    "train_sessions = read_train_data()\n",
    "train_sessions.sample(5)"
   ]
  },
  {
   "cell_type": "code",
   "execution_count": 8,
   "metadata": {
    "colab": {
     "base_uri": "https://localhost:8080/",
     "height": 206
    },
    "executionInfo": {
     "elapsed": 13,
     "status": "ok",
     "timestamp": 1679489180662,
     "user": {
      "displayName": "Dipam Chakraborty",
      "userId": "04496869744334527762"
     },
     "user_tz": -330
    },
    "id": "tbllmbaEgmBg",
    "outputId": "3766147d-4152-4df9-ad6a-fd783c30eecf"
   },
   "outputs": [
    {
     "data": {
      "text/html": [
       "<div>\n",
       "<style scoped>\n",
       "    .dataframe tbody tr th:only-of-type {\n",
       "        vertical-align: middle;\n",
       "    }\n",
       "\n",
       "    .dataframe tbody tr th {\n",
       "        vertical-align: top;\n",
       "    }\n",
       "\n",
       "    .dataframe thead th {\n",
       "        text-align: right;\n",
       "    }\n",
       "</style>\n",
       "<table border=\"1\" class=\"dataframe\">\n",
       "  <thead>\n",
       "    <tr style=\"text-align: right;\">\n",
       "      <th></th>\n",
       "      <th>prev_items</th>\n",
       "      <th>locale</th>\n",
       "    </tr>\n",
       "  </thead>\n",
       "  <tbody>\n",
       "    <tr>\n",
       "      <th>10653</th>\n",
       "      <td>['B01KV7YJT4' 'B01KV7YY5S' 'B01KV7YUHK']</td>\n",
       "      <td>DE</td>\n",
       "    </tr>\n",
       "    <tr>\n",
       "      <th>50099</th>\n",
       "      <td>['B016X03RM8' 'B016X03U3O' 'B0142XIDFE']</td>\n",
       "      <td>UK</td>\n",
       "    </tr>\n",
       "    <tr>\n",
       "      <th>11775</th>\n",
       "      <td>['B07NMF9CPC' 'B07NMF9CPC']</td>\n",
       "      <td>DE</td>\n",
       "    </tr>\n",
       "    <tr>\n",
       "      <th>42972</th>\n",
       "      <td>['B000WLMR3A' 'B000WMDGU2']</td>\n",
       "      <td>JP</td>\n",
       "    </tr>\n",
       "    <tr>\n",
       "      <th>35650</th>\n",
       "      <td>['B08434KVN2' 'B08434KVN2' 'B086XPR3W5' 'B086X...</td>\n",
       "      <td>IT</td>\n",
       "    </tr>\n",
       "  </tbody>\n",
       "</table>\n",
       "</div>"
      ],
      "text/plain": [
       "                                              prev_items locale\n",
       "10653           ['B01KV7YJT4' 'B01KV7YY5S' 'B01KV7YUHK']     DE\n",
       "50099           ['B016X03RM8' 'B016X03U3O' 'B0142XIDFE']     UK\n",
       "11775                        ['B07NMF9CPC' 'B07NMF9CPC']     DE\n",
       "42972                        ['B000WLMR3A' 'B000WMDGU2']     JP\n",
       "35650  ['B08434KVN2' 'B08434KVN2' 'B086XPR3W5' 'B086X...     IT"
      ]
     },
     "execution_count": 8,
     "metadata": {},
     "output_type": "execute_result"
    }
   ],
   "source": [
    "test_sessions = read_test_data(task)\n",
    "test_sessions.sample(5)"
   ]
  },
  {
   "cell_type": "code",
   "execution_count": 9,
   "metadata": {},
   "outputs": [
    {
     "data": {
      "text/plain": [
       "(56422, 2)"
      ]
     },
     "execution_count": 9,
     "metadata": {},
     "output_type": "execute_result"
    }
   ],
   "source": [
    "test_sessions.shape"
   ]
  },
  {
   "cell_type": "markdown",
   "metadata": {
    "id": "yJoalTbYgnnp"
   },
   "source": [
    "## Generate Submission 🏋️‍♀️\n",
    "\n",
    "\n",
    "\n",
    "Submission format:\n",
    "1. The submission should be a **parquet** file with the sessions from all the locales.  \n",
    "2. Predictions should be added in new column named **\"next_item_prediction\"**.\n",
    "3. Predictions should be a single string, the next product title for the session."
   ]
  },
  {
   "cell_type": "code",
   "execution_count": 10,
   "metadata": {
    "executionInfo": {
     "elapsed": 13,
     "status": "ok",
     "timestamp": 1679489180662,
     "user": {
      "displayName": "Dipam Chakraborty",
      "userId": "04496869744334527762"
     },
     "user_tz": -330
    },
    "id": "B3zsYp_Jgn_J"
   },
   "outputs": [],
   "source": [
    "def random_predicitons(locale, sess_test_locale):\n",
    "    random_state = np.random.RandomState(42)\n",
    "    products = read_product_data().query(f'locale == \"{locale}\"')\n",
    "    predictions = (products['title']\n",
    "                   .sample(len(sess_test_locale), replace=True, random_state=random_state)\n",
    "                   .values\n",
    "    )\n",
    "    sess_test_locale['next_item_prediction'] = predictions\n",
    "    sess_test_locale.drop('prev_items', inplace=True, axis=1)\n",
    "    return sess_test_locale"
   ]
  },
  {
   "cell_type": "code",
   "execution_count": 14,
   "metadata": {
    "colab": {
     "base_uri": "https://localhost:8080/",
     "height": 206
    },
    "executionInfo": {
     "elapsed": 809,
     "status": "ok",
     "timestamp": 1679489181459,
     "user": {
      "displayName": "Dipam Chakraborty",
      "userId": "04496869744334527762"
     },
     "user_tz": -330
    },
    "id": "mv6TZEFqgrFu",
    "outputId": "0b406f74-57fe-44b1-a21b-e3bc180822a6"
   },
   "outputs": [
    {
     "data": {
      "text/html": [
       "<div>\n",
       "<style scoped>\n",
       "    .dataframe tbody tr th:only-of-type {\n",
       "        vertical-align: middle;\n",
       "    }\n",
       "\n",
       "    .dataframe tbody tr th {\n",
       "        vertical-align: top;\n",
       "    }\n",
       "\n",
       "    .dataframe thead th {\n",
       "        text-align: right;\n",
       "    }\n",
       "</style>\n",
       "<table border=\"1\" class=\"dataframe\">\n",
       "  <thead>\n",
       "    <tr style=\"text-align: right;\">\n",
       "      <th></th>\n",
       "      <th>locale</th>\n",
       "      <th>next_item_prediction</th>\n",
       "    </tr>\n",
       "  </thead>\n",
       "  <tbody>\n",
       "    <tr>\n",
       "      <th>44509</th>\n",
       "      <td>JP</td>\n",
       "      <td>メンズ ランニングウェア セット コンプレッションウェア メンズ スポーツパーカー トレーニ...</td>\n",
       "    </tr>\n",
       "    <tr>\n",
       "      <th>5164</th>\n",
       "      <td>ES</td>\n",
       "      <td>Diyife Candado Combinacion, Impermeable Candad...</td>\n",
       "    </tr>\n",
       "    <tr>\n",
       "      <th>2142</th>\n",
       "      <td>ES</td>\n",
       "      <td>Nenuco Agua de Colonia Fragancia Original, 600ml</td>\n",
       "    </tr>\n",
       "    <tr>\n",
       "      <th>2587</th>\n",
       "      <td>ES</td>\n",
       "      <td>NAWA Home &amp; Work Pack de 2 estanterías 100% me...</td>\n",
       "    </tr>\n",
       "    <tr>\n",
       "      <th>50457</th>\n",
       "      <td>UK</td>\n",
       "      <td>Gummy Styling Wax 150 ml Ultra Hold</td>\n",
       "    </tr>\n",
       "  </tbody>\n",
       "</table>\n",
       "</div>"
      ],
      "text/plain": [
       "      locale                               next_item_prediction\n",
       "44509     JP  メンズ ランニングウェア セット コンプレッションウェア メンズ スポーツパーカー トレーニ...\n",
       "5164      ES  Diyife Candado Combinacion, Impermeable Candad...\n",
       "2142      ES   Nenuco Agua de Colonia Fragancia Original, 600ml\n",
       "2587      ES  NAWA Home & Work Pack de 2 estanterías 100% me...\n",
       "50457     UK                Gummy Styling Wax 150 ml Ultra Hold"
      ]
     },
     "execution_count": 14,
     "metadata": {},
     "output_type": "execute_result"
    }
   ],
   "source": [
    "test_sessions = read_test_data(task)\n",
    "predictions = []\n",
    "test_locale_names = test_sessions['locale'].unique()\n",
    "for locale in test_locale_names:\n",
    "    sess_test_locale = test_sessions.query(f'locale == \"{locale}\"').copy()\n",
    "    predictions.append(\n",
    "        random_predicitons(locale, sess_test_locale)\n",
    "    )\n",
    "predictions = pd.concat(predictions).reset_index(drop=True)\n",
    "predictions.sample(5)"
   ]
  },
  {
   "cell_type": "code",
   "execution_count": 21,
   "metadata": {},
   "outputs": [
    {
     "data": {
      "text/plain": [
       "array(['Amazon Basics - Set de 2 fundas de almohada de 400 hilos, 50 x 80 cm - Azul marino'],\n",
       "      dtype=object)"
      ]
     },
     "execution_count": 21,
     "metadata": {},
     "output_type": "execute_result"
    }
   ],
   "source": [
    "predictions.head(1)['next_item_prediction'].values"
   ]
  },
  {
   "cell_type": "markdown",
   "metadata": {},
   "source": [
    "# Read data "
   ]
  },
  {
   "cell_type": "code",
   "execution_count": 12,
   "metadata": {},
   "outputs": [],
   "source": [
    "task2 = pl.scan_parquet('../data/sub_files/task2_test4task3_task2_rank_lgbm_v2.parquet')\n",
    "task1 = pl.scan_parquet('../data/sub_files/task1_test4task3_rank_lgbm_v4.parquet')\n",
    "\n",
    "\n",
    "test4task3_pl = pl.scan_parquet(os.path.join('../data/raw_data_session_id/', 'sessions_test_task3.parquet'), \n",
    "                                \n",
    "                                # n_rows=n_rows\n",
    "                               )\n"
   ]
  },
  {
   "cell_type": "code",
   "execution_count": 13,
   "metadata": {},
   "outputs": [
    {
     "data": {
      "text/html": [
       "<div><style>\n",
       ".dataframe > thead > tr > th,\n",
       ".dataframe > tbody > tr > td {\n",
       "  text-align: right;\n",
       "}\n",
       "</style>\n",
       "<small>shape: (5, 3)</small><table border=\"1\" class=\"dataframe\"><thead><tr><th>prev_items</th><th>locale</th><th>session_id</th></tr><tr><td>str</td><td>str</td><td>i64</td></tr></thead><tbody><tr><td>&quot;[&#x27;B0BF9JMVDG&#x27; …</td><td>&quot;ES&quot;</td><td>4365996</td></tr><tr><td>&quot;[&#x27;B09QQG85HM&#x27; …</td><td>&quot;ES&quot;</td><td>4365997</td></tr><tr><td>&quot;[&#x27;B09NSKDG4K&#x27; …</td><td>&quot;ES&quot;</td><td>4365998</td></tr><tr><td>&quot;[&#x27;B09B7NYDJ7&#x27; …</td><td>&quot;ES&quot;</td><td>4365999</td></tr><tr><td>&quot;[&#x27;B0B6J17LK4&#x27; …</td><td>&quot;ES&quot;</td><td>4366000</td></tr></tbody></table></div>"
      ],
      "text/plain": [
       "shape: (5, 3)\n",
       "┌───────────────────────────────────┬────────┬────────────┐\n",
       "│ prev_items                        ┆ locale ┆ session_id │\n",
       "│ ---                               ┆ ---    ┆ ---        │\n",
       "│ str                               ┆ str    ┆ i64        │\n",
       "╞═══════════════════════════════════╪════════╪════════════╡\n",
       "│ ['B0BF9JMVDG' 'B01ET9V90M']       ┆ ES     ┆ 4365996    │\n",
       "│ ['B09QQG85HM' 'B09J4T4JF5']       ┆ ES     ┆ 4365997    │\n",
       "│ ['B09NSKDG4K' 'B09YY6J1ZM']       ┆ ES     ┆ 4365998    │\n",
       "│ ['B09B7NYDJ7' 'B09B7NYDJ7']       ┆ ES     ┆ 4365999    │\n",
       "│ ['B0B6J17LK4' 'B0B6R7X6GY' 'B07H… ┆ ES     ┆ 4366000    │\n",
       "└───────────────────────────────────┴────────┴────────────┘"
      ]
     },
     "execution_count": 13,
     "metadata": {},
     "output_type": "execute_result"
    }
   ],
   "source": [
    "test4task3_pl.head().collect()"
   ]
  },
  {
   "cell_type": "code",
   "execution_count": 14,
   "metadata": {},
   "outputs": [
    {
     "data": {
      "text/html": [
       "<div><style>\n",
       ".dataframe > thead > tr > th,\n",
       ".dataframe > tbody > tr > td {\n",
       "  text-align: right;\n",
       "}\n",
       "</style>\n",
       "<small>shape: (5, 4)</small><table border=\"1\" class=\"dataframe\"><thead><tr><th>prev_items</th><th>locale</th><th>session_id</th><th>next_item_prediction</th></tr><tr><td>list[str]</td><td>str</td><td>i64</td><td>list[str]</td></tr></thead><tbody><tr><td>[&quot;B0BF9JMVDG&quot;, &quot;B01ET9V90M&quot;]</td><td>&quot;ES&quot;</td><td>4365996</td><td>[&quot;B09HSK3MR5&quot;]</td></tr><tr><td>[&quot;B09QQG85HM&quot;, &quot;B09J4T4JF5&quot;]</td><td>&quot;ES&quot;</td><td>4365997</td><td>[&quot;B0B1V6Q61B&quot;]</td></tr><tr><td>[&quot;B09NSKDG4K&quot;, &quot;B09YY6J1ZM&quot;]</td><td>&quot;ES&quot;</td><td>4365998</td><td>[&quot;B09XM6Z7VY&quot;]</td></tr><tr><td>[&quot;B09B7NYDJ7&quot;, &quot;B09B7NYDJ7&quot;]</td><td>&quot;ES&quot;</td><td>4365999</td><td>[&quot;B014EWSGX2&quot;]</td></tr><tr><td>[&quot;B0B6J17LK4&quot;, &quot;B0B6R7X6GY&quot;, &quot;B07HXY5SGH&quot;]</td><td>&quot;ES&quot;</td><td>4366000</td><td>[&quot;B086MSYD32&quot;]</td></tr></tbody></table></div>"
      ],
      "text/plain": [
       "shape: (5, 4)\n",
       "┌───────────────────────────────────┬────────┬────────────┬──────────────────────┐\n",
       "│ prev_items                        ┆ locale ┆ session_id ┆ next_item_prediction │\n",
       "│ ---                               ┆ ---    ┆ ---        ┆ ---                  │\n",
       "│ list[str]                         ┆ str    ┆ i64        ┆ list[str]            │\n",
       "╞═══════════════════════════════════╪════════╪════════════╪══════════════════════╡\n",
       "│ [\"B0BF9JMVDG\", \"B01ET9V90M\"]      ┆ ES     ┆ 4365996    ┆ [\"B09HSK3MR5\"]       │\n",
       "│ [\"B09QQG85HM\", \"B09J4T4JF5\"]      ┆ ES     ┆ 4365997    ┆ [\"B0B1V6Q61B\"]       │\n",
       "│ [\"B09NSKDG4K\", \"B09YY6J1ZM\"]      ┆ ES     ┆ 4365998    ┆ [\"B09XM6Z7VY\"]       │\n",
       "│ [\"B09B7NYDJ7\", \"B09B7NYDJ7\"]      ┆ ES     ┆ 4365999    ┆ [\"B014EWSGX2\"]       │\n",
       "│ [\"B0B6J17LK4\", \"B0B6R7X6GY\", \"B0… ┆ ES     ┆ 4366000    ┆ [\"B086MSYD32\"]       │\n",
       "└───────────────────────────────────┴────────┴────────────┴──────────────────────┘"
      ]
     },
     "execution_count": 14,
     "metadata": {},
     "output_type": "execute_result"
    }
   ],
   "source": [
    "task2.head().collect()"
   ]
  },
  {
   "cell_type": "code",
   "execution_count": 15,
   "metadata": {},
   "outputs": [
    {
     "data": {
      "text/html": [
       "<div><style>\n",
       ".dataframe > thead > tr > th,\n",
       ".dataframe > tbody > tr > td {\n",
       "  text-align: right;\n",
       "}\n",
       "</style>\n",
       "<small>shape: (5, 4)</small><table border=\"1\" class=\"dataframe\"><thead><tr><th>prev_items</th><th>locale</th><th>session_id</th><th>next_item_prediction</th></tr><tr><td>list[str]</td><td>str</td><td>i64</td><td>list[str]</td></tr></thead><tbody><tr><td>[&quot;B01D37JZDO&quot;, &quot;B09798DT5N&quot;]</td><td>&quot;DE&quot;</td><td>4372418</td><td>[&quot;B07QV6GZ6P&quot;]</td></tr><tr><td>[&quot;B09TPHS4J1&quot;, &quot;B09TPHGHR8&quot;]</td><td>&quot;DE&quot;</td><td>4372419</td><td>[&quot;B09TPHBD98&quot;]</td></tr><tr><td>[&quot;B09CPRS6QK&quot;, &quot;B09XMGPTZ2&quot;]</td><td>&quot;DE&quot;</td><td>4372420</td><td>[&quot;B093ZXQQ9Y&quot;]</td></tr><tr><td>[&quot;3785586620&quot;, &quot;3809439908&quot;]</td><td>&quot;DE&quot;</td><td>4372421</td><td>[&quot;3741525065&quot;]</td></tr><tr><td>[&quot;B09Q3DCGW3&quot;, &quot;B09Q3C5Z33&quot;]</td><td>&quot;DE&quot;</td><td>4372422</td><td>[&quot;B09Q3C3CKB&quot;]</td></tr></tbody></table></div>"
      ],
      "text/plain": [
       "shape: (5, 4)\n",
       "┌──────────────────────────────┬────────┬────────────┬──────────────────────┐\n",
       "│ prev_items                   ┆ locale ┆ session_id ┆ next_item_prediction │\n",
       "│ ---                          ┆ ---    ┆ ---        ┆ ---                  │\n",
       "│ list[str]                    ┆ str    ┆ i64        ┆ list[str]            │\n",
       "╞══════════════════════════════╪════════╪════════════╪══════════════════════╡\n",
       "│ [\"B01D37JZDO\", \"B09798DT5N\"] ┆ DE     ┆ 4372418    ┆ [\"B07QV6GZ6P\"]       │\n",
       "│ [\"B09TPHS4J1\", \"B09TPHGHR8\"] ┆ DE     ┆ 4372419    ┆ [\"B09TPHBD98\"]       │\n",
       "│ [\"B09CPRS6QK\", \"B09XMGPTZ2\"] ┆ DE     ┆ 4372420    ┆ [\"B093ZXQQ9Y\"]       │\n",
       "│ [\"3785586620\", \"3809439908\"] ┆ DE     ┆ 4372421    ┆ [\"3741525065\"]       │\n",
       "│ [\"B09Q3DCGW3\", \"B09Q3C5Z33\"] ┆ DE     ┆ 4372422    ┆ [\"B09Q3C3CKB\"]       │\n",
       "└──────────────────────────────┴────────┴────────────┴──────────────────────┘"
      ]
     },
     "execution_count": 15,
     "metadata": {},
     "output_type": "execute_result"
    }
   ],
   "source": [
    "task1.head().collect()"
   ]
  },
  {
   "cell_type": "code",
   "execution_count": 16,
   "metadata": {},
   "outputs": [],
   "source": [
    "res = pl.concat([task1, task2], how='vertical')\n",
    "product_pl = (pl.scan_parquet(os.path.join('../data/raw_data_session_id/', \n",
    "                                          'products_train.parquet'))\n",
    "                  # .with_columns(\n",
    "                  #     pl.when(pl.col('locale')=='DE').then(1).when(pl.col('locale')=='DE')\n",
    "                  #       .then(2)\n",
    "                  #       .otherwise(3).alias('locale')\n",
    "                  # )\n",
    "             )"
   ]
  },
  {
   "cell_type": "code",
   "execution_count": 17,
   "metadata": {},
   "outputs": [],
   "source": [
    "# product_pl.select(['id', 'locale', 'title']).head().collect()"
   ]
  },
  {
   "cell_type": "code",
   "execution_count": 18,
   "metadata": {},
   "outputs": [],
   "source": [
    "final_res = (\n",
    "    res.explode('next_item_prediction')\n",
    "        .join(product_pl.select(['id', 'locale', 'title']), how='left', right_on=['id', 'locale']\n",
    "                 , left_on=['next_item_prediction', 'locale'])\n",
    ")#.head().collect()"
   ]
  },
  {
   "cell_type": "code",
   "execution_count": 19,
   "metadata": {},
   "outputs": [],
   "source": [
    "predictions = (\n",
    "    test4task3_pl.join(\n",
    "        final_res.select(['session_id', 'locale', 'title'])\n",
    "        , how='left'\n",
    "        , on=['session_id', 'locale']\n",
    "    )\n",
    "        .with_columns(pl.col('title').alias('next_item_prediction').cast(pl.Utf8))\n",
    ")#.head().collect()"
   ]
  },
  {
   "cell_type": "code",
   "execution_count": 20,
   "metadata": {},
   "outputs": [
    {
     "data": {
      "text/html": [
       "<div><style>\n",
       ".dataframe > thead > tr > th,\n",
       ".dataframe > tbody > tr > td {\n",
       "  text-align: right;\n",
       "}\n",
       "</style>\n",
       "<small>shape: (6, 2)</small><table border=\"1\" class=\"dataframe\"><thead><tr><th>locale</th><th>counts</th></tr><tr><td>str</td><td>u32</td></tr></thead><tbody><tr><td>&quot;FR&quot;</td><td>10000</td></tr><tr><td>&quot;UK&quot;</td><td>10000</td></tr><tr><td>&quot;ES&quot;</td><td>6422</td></tr><tr><td>&quot;DE&quot;</td><td>10000</td></tr><tr><td>&quot;IT&quot;</td><td>10000</td></tr><tr><td>&quot;JP&quot;</td><td>10000</td></tr></tbody></table></div>"
      ],
      "text/plain": [
       "shape: (6, 2)\n",
       "┌────────┬────────┐\n",
       "│ locale ┆ counts │\n",
       "│ ---    ┆ ---    │\n",
       "│ str    ┆ u32    │\n",
       "╞════════╪════════╡\n",
       "│ FR     ┆ 10000  │\n",
       "│ UK     ┆ 10000  │\n",
       "│ ES     ┆ 6422   │\n",
       "│ DE     ┆ 10000  │\n",
       "│ IT     ┆ 10000  │\n",
       "│ JP     ┆ 10000  │\n",
       "└────────┴────────┘"
      ]
     },
     "execution_count": 20,
     "metadata": {},
     "output_type": "execute_result"
    }
   ],
   "source": [
    "test4task3_pl.select('locale').collect().to_series().value_counts()"
   ]
  },
  {
   "cell_type": "code",
   "execution_count": 21,
   "metadata": {},
   "outputs": [
    {
     "data": {
      "text/html": [
       "<div><style>\n",
       ".dataframe > thead > tr > th,\n",
       ".dataframe > tbody > tr > td {\n",
       "  text-align: right;\n",
       "}\n",
       "</style>\n",
       "<small>shape: (5, 5)</small><table border=\"1\" class=\"dataframe\"><thead><tr><th>prev_items</th><th>locale</th><th>session_id</th><th>title</th><th>next_item_prediction</th></tr><tr><td>str</td><td>str</td><td>i64</td><td>str</td><td>str</td></tr></thead><tbody><tr><td>&quot;[&#x27;B0BF9JMVDG&#x27; …</td><td>&quot;ES&quot;</td><td>4365996</td><td>&quot;Pata Negra - E…</td><td>&quot;Pata Negra - E…</td></tr><tr><td>&quot;[&#x27;B09QQG85HM&#x27; …</td><td>&quot;ES&quot;</td><td>4365997</td><td>&quot;Oppo Enco Air2…</td><td>&quot;Oppo Enco Air2…</td></tr><tr><td>&quot;[&#x27;B09NSKDG4K&#x27; …</td><td>&quot;ES&quot;</td><td>4365998</td><td>&quot;Yisica Correa …</td><td>&quot;Yisica Correa …</td></tr><tr><td>&quot;[&#x27;B09B7NYDJ7&#x27; …</td><td>&quot;ES&quot;</td><td>4365999</td><td>&quot;Rowenta Compac…</td><td>&quot;Rowenta Compac…</td></tr><tr><td>&quot;[&#x27;B0B6J17LK4&#x27; …</td><td>&quot;ES&quot;</td><td>4366000</td><td>&quot;HOMEASY Fiambr…</td><td>&quot;HOMEASY Fiambr…</td></tr></tbody></table></div>"
      ],
      "text/plain": [
       "shape: (5, 5)\n",
       "┌─────────────────────┬────────┬────────────┬───────────────────────┬──────────────────────────────┐\n",
       "│ prev_items          ┆ locale ┆ session_id ┆ title                 ┆ next_item_prediction         │\n",
       "│ ---                 ┆ ---    ┆ ---        ┆ ---                   ┆ ---                          │\n",
       "│ str                 ┆ str    ┆ i64        ┆ str                   ┆ str                          │\n",
       "╞═════════════════════╪════════╪════════════╪═══════════════════════╪══════════════════════════════╡\n",
       "│ ['B0BF9JMVDG'       ┆ ES     ┆ 4365996    ┆ Pata Negra - Estuche  ┆ Pata Negra - Estuche Edición │\n",
       "│ 'B01ET9V90M']       ┆        ┆            ┆ Edición Esp…          ┆ Esp…                         │\n",
       "│ ['B09QQG85HM'       ┆ ES     ┆ 4365997    ┆ Oppo Enco Air2-       ┆ Oppo Enco Air2- Auriculares  │\n",
       "│ 'B09J4T4JF5']       ┆        ┆            ┆ Auriculares inal…     ┆ inal…                        │\n",
       "│ ['B09NSKDG4K'       ┆ ES     ┆ 4365998    ┆ Yisica Correa para    ┆ Yisica Correa para Xiaomi Mi │\n",
       "│ 'B09YY6J1ZM']       ┆        ┆            ┆ Xiaomi Mi Ban…        ┆ Ban…                         │\n",
       "│ ['B09B7NYDJ7'       ┆ ES     ┆ 4365999    ┆ Rowenta Compact Power ┆ Rowenta Compact Power SO2210 │\n",
       "│ 'B09B7NYDJ7']       ┆        ┆            ┆ SO2210 - C…           ┆ - C…                         │\n",
       "│ ['B0B6J17LK4'       ┆ ES     ┆ 4366000    ┆ HOMEASY Fiambrera     ┆ HOMEASY Fiambrera Eléctrica  │\n",
       "│ 'B0B6R7X6GY' 'B07H… ┆        ┆            ┆ Eléctrica 12V …       ┆ 12V …                        │\n",
       "└─────────────────────┴────────┴────────────┴───────────────────────┴──────────────────────────────┘"
      ]
     },
     "execution_count": 21,
     "metadata": {},
     "output_type": "execute_result"
    }
   ],
   "source": [
    "predictions.head().collect()"
   ]
  },
  {
   "cell_type": "code",
   "execution_count": 22,
   "metadata": {},
   "outputs": [
    {
     "data": {
      "text/html": [
       "<div><style>\n",
       ".dataframe > thead > tr > th,\n",
       ".dataframe > tbody > tr > td {\n",
       "  text-align: right;\n",
       "}\n",
       "</style>\n",
       "<small>shape: (6, 2)</small><table border=\"1\" class=\"dataframe\"><thead><tr><th>locale</th><th>counts</th></tr><tr><td>str</td><td>u32</td></tr></thead><tbody><tr><td>&quot;JP&quot;</td><td>10000</td></tr><tr><td>&quot;IT&quot;</td><td>10000</td></tr><tr><td>&quot;UK&quot;</td><td>10000</td></tr><tr><td>&quot;ES&quot;</td><td>6422</td></tr><tr><td>&quot;DE&quot;</td><td>10000</td></tr><tr><td>&quot;FR&quot;</td><td>10000</td></tr></tbody></table></div>"
      ],
      "text/plain": [
       "shape: (6, 2)\n",
       "┌────────┬────────┐\n",
       "│ locale ┆ counts │\n",
       "│ ---    ┆ ---    │\n",
       "│ str    ┆ u32    │\n",
       "╞════════╪════════╡\n",
       "│ JP     ┆ 10000  │\n",
       "│ IT     ┆ 10000  │\n",
       "│ UK     ┆ 10000  │\n",
       "│ ES     ┆ 6422   │\n",
       "│ DE     ┆ 10000  │\n",
       "│ FR     ┆ 10000  │\n",
       "└────────┴────────┘"
      ]
     },
     "execution_count": 22,
     "metadata": {},
     "output_type": "execute_result"
    }
   ],
   "source": [
    "\n",
    "predictions.select('locale').collect().to_series().value_counts()"
   ]
  },
  {
   "cell_type": "code",
   "execution_count": 23,
   "metadata": {},
   "outputs": [],
   "source": [
    "predictions_df = predictions.collect().to_pandas()"
   ]
  },
  {
   "cell_type": "code",
   "execution_count": 24,
   "metadata": {},
   "outputs": [],
   "source": [
    "predictions_df['next_item_prediction'] = predictions_df['next_item_prediction'].astype('str')"
   ]
  },
  {
   "cell_type": "markdown",
   "metadata": {
    "id": "vNB90dXKlZkR",
    "tags": []
   },
   "source": [
    "# Validate predictions ✅"
   ]
  },
  {
   "cell_type": "code",
   "execution_count": 25,
   "metadata": {
    "executionInfo": {
     "elapsed": 10,
     "status": "ok",
     "timestamp": 1679489181460,
     "user": {
      "displayName": "Dipam Chakraborty",
      "userId": "04496869744334527762"
     },
     "user_tz": -330
    },
    "id": "B1XKTojogtF2"
   },
   "outputs": [],
   "source": [
    "def check_predictions(predictions):\n",
    "    \"\"\"\n",
    "    These tests need to pass as they will also be applied on the evaluator\n",
    "    \"\"\"\n",
    "    test_locale_names = test_sessions['locale'].unique()\n",
    "    for locale in test_locale_names:\n",
    "        sess_test = test_sessions.query(f'locale == \"{locale}\"')\n",
    "        preds_locale =  predictions[predictions['locale'] == sess_test['locale'].iloc[0]]\n",
    "        assert sorted(preds_locale.index.values) == sorted(sess_test.index.values), f\"Session ids of {locale} doesn't match\"\n",
    "        assert predictions['next_item_prediction'].apply(lambda x: isinstance(x, str)).all(), \"Predictions should all be strings\""
   ]
  },
  {
   "cell_type": "code",
   "execution_count": 26,
   "metadata": {},
   "outputs": [
    {
     "name": "stdout",
     "output_type": "stream",
     "text": [
      "<class 'pandas.core.frame.DataFrame'>\n",
      "RangeIndex: 56422 entries, 0 to 56421\n",
      "Data columns (total 5 columns):\n",
      " #   Column                Non-Null Count  Dtype \n",
      "---  ------                --------------  ----- \n",
      " 0   prev_items            56422 non-null  object\n",
      " 1   locale                56422 non-null  object\n",
      " 2   session_id            56422 non-null  int64 \n",
      " 3   title                 55306 non-null  object\n",
      " 4   next_item_prediction  56422 non-null  object\n",
      "dtypes: int64(1), object(4)\n",
      "memory usage: 2.2+ MB\n"
     ]
    }
   ],
   "source": [
    "predictions_df.info()"
   ]
  },
  {
   "cell_type": "code",
   "execution_count": 27,
   "metadata": {
    "executionInfo": {
     "elapsed": 9,
     "status": "ok",
     "timestamp": 1679489181460,
     "user": {
      "displayName": "Dipam Chakraborty",
      "userId": "04496869744334527762"
     },
     "user_tz": -330
    },
    "id": "FJA368Gzguk7"
   },
   "outputs": [],
   "source": [
    "check_predictions(predictions_df)"
   ]
  },
  {
   "cell_type": "code",
   "execution_count": 28,
   "metadata": {},
   "outputs": [
    {
     "data": {
      "text/plain": [
       "'task3'"
      ]
     },
     "execution_count": 28,
     "metadata": {},
     "output_type": "execute_result"
    }
   ],
   "source": [
    "task"
   ]
  },
  {
   "cell_type": "code",
   "execution_count": 29,
   "metadata": {
    "executionInfo": {
     "elapsed": 9,
     "status": "ok",
     "timestamp": 1679489181460,
     "user": {
      "displayName": "Dipam Chakraborty",
      "userId": "04496869744334527762"
     },
     "user_tz": -330
    },
    "id": "1dTvU5VOgv0j"
   },
   "outputs": [],
   "source": [
    "# Its important that the parquet file you submit is saved with pyarrow backend\n",
    "predictions_df.to_parquet(f'submission_{task}.parquet', engine='pyarrow')"
   ]
  },
  {
   "cell_type": "code",
   "execution_count": 30,
   "metadata": {},
   "outputs": [
    {
     "data": {
      "text/plain": [
       "'submission_task3.parquet'"
      ]
     },
     "execution_count": 30,
     "metadata": {},
     "output_type": "execute_result"
    }
   ],
   "source": [
    "f'submission_{task}.parquet'"
   ]
  },
  {
   "cell_type": "markdown",
   "metadata": {
    "id": "dVrZ_TfnjL09"
   },
   "source": [
    "## Submit to AIcrowd 🚀"
   ]
  },
  {
   "cell_type": "code",
   "execution_count": 31,
   "metadata": {
    "id": "rd9OYWEgixPZ"
   },
   "outputs": [
    {
     "name": "stdout",
     "output_type": "stream",
     "text": [
      "\u001b[2K\u001b[1;34msubmission_task3.parquet\u001b[0m \u001b[90m━━━━━━━━━━━━\u001b[0m \u001b[35m100.0%\u001b[0m • \u001b[32m12.5/12.5 MB\u001b[0m • \u001b[31m4.5 MB/s\u001b[0m • \u001b[36m0:00:00\u001b[0m00:01\u001b[0m00:01\u001b[0m\n",
      "\u001b[?25h                                                                                  ╭─────────────────────────╮                                                                                  \n",
      "                                                                                  │ \u001b[1mSuccessfully submitted!\u001b[0m │                                                                                  \n",
      "                                                                                  ╰─────────────────────────╯                                                                                  \n",
      "\u001b[3m                                                                                        Important links                                                                                        \u001b[0m\n",
      "┌──────────────────┬──────────────────────────────────────────────────────────────────────────────────────────────────────────────────────────────────────────────────────────────────────────┐\n",
      "│  This submission │ https://www.aicrowd.com/challenges/amazon-kdd-cup-23-multilingual-recommendation-challenge/problems/task-3-next-product-title-generation/submissions/234739              │\n",
      "│                  │                                                                                                                                                                          │\n",
      "│  All submissions │ https://www.aicrowd.com/challenges/amazon-kdd-cup-23-multilingual-recommendation-challenge/problems/task-3-next-product-title-generation/submissions?my_submissions=true │\n",
      "│                  │                                                                                                                                                                          │\n",
      "│      Leaderboard │ https://www.aicrowd.com/challenges/amazon-kdd-cup-23-multilingual-recommendation-challenge/problems/task-3-next-product-title-generation/leaderboards                    │\n",
      "│                  │                                                                                                                                                                          │\n",
      "│ Discussion forum │ https://discourse.aicrowd.com/c/amazon-kdd-cup-23-multilingual-recommendation-challenge                                                                                  │\n",
      "│                  │                                                                                                                                                                          │\n",
      "│   Challenge page │ https://www.aicrowd.com/challenges/amazon-kdd-cup-23-multilingual-recommendation-challenge/problems/task-3-next-product-title-generation                                 │\n",
      "└──────────────────┴──────────────────────────────────────────────────────────────────────────────────────────────────────────────────────────────────────────────────────────────────────────┘\n",
      "{'submission_id': 234739, 'created_at': '2023-06-07T21:08:54.793Z'}\n"
     ]
    }
   ],
   "source": [
    "# You can submit with aicrowd-cli, or upload manually on the challenge page.\n",
    "!aicrowd submission create -c task-3-next-product-title-generation -f f'submission_{task}.parquet'"
   ]
  },
  {
   "cell_type": "code",
   "execution_count": null,
   "metadata": {},
   "outputs": [],
   "source": []
  }
 ],
 "metadata": {
  "colab": {
   "authorship_tag": "ABX9TyNj5pYfUGOVeNSAJeNJ+6v3",
   "provenance": [
    {
     "file_id": "1BMur3lVuAmsOBNHxB2m1oN_6VD_qIGpl",
     "timestamp": 1679462092826
    },
    {
     "file_id": "1sShXmsM7JBLXPuIqEufRFIOMamaQ07e2",
     "timestamp": 1679076716377
    }
   ]
  },
  "environment": {
   "kernel": "kdd_2023",
   "name": "common-cu110.m104",
   "type": "gcloud",
   "uri": "gcr.io/deeplearning-platform-release/base-cu110:m104"
  },
  "kernelspec": {
   "display_name": "py3.8(kdd_2023)",
   "language": "python",
   "name": "kdd_2023"
  },
  "language_info": {
   "codemirror_mode": {
    "name": "ipython",
    "version": 3
   },
   "file_extension": ".py",
   "mimetype": "text/x-python",
   "name": "python",
   "nbconvert_exporter": "python",
   "pygments_lexer": "ipython3",
   "version": "3.8.16"
  }
 },
 "nbformat": 4,
 "nbformat_minor": 4
}
