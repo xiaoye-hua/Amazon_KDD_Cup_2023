{
 "cells": [
  {
   "cell_type": "markdown",
   "metadata": {
    "id": "LmjiT10Qk5m8"
   },
   "source": [
    "# package"
   ]
  },
  {
   "cell_type": "code",
   "execution_count": 3,
   "metadata": {
    "executionInfo": {
     "elapsed": 8,
     "status": "ok",
     "timestamp": 1679489159438,
     "user": {
      "displayName": "Dipam Chakraborty",
      "userId": "04496869744334527762"
     },
     "user_tz": -330
    },
    "id": "7DjmcQMAgPAJ"
   },
   "outputs": [],
   "source": [
    "%load_ext autoreload\n",
    "%autoreload 2\n",
    "import sys\n",
    "import logging\n",
    "base_dir = '../'\n",
    "sys.path.append(base_dir)\n",
    "import os\n",
    "from utils import *\n",
    "import os\n",
    "import polars as pl\n",
    "import numpy as np\n",
    "import pandas as pd\n",
    "from functools import lru_cache\n",
    "from utils import *"
   ]
  },
  {
   "cell_type": "markdown",
   "metadata": {},
   "source": [
    "# Config "
   ]
  },
  {
   "cell_type": "code",
   "execution_count": 4,
   "metadata": {},
   "outputs": [],
   "source": [
    "task = 'task3'"
   ]
  },
  {
   "cell_type": "markdown",
   "metadata": {},
   "source": [
    "# Read data "
   ]
  },
  {
   "cell_type": "code",
   "execution_count": 5,
   "metadata": {},
   "outputs": [],
   "source": [
    "# ls ../data/sub_files/ | grep test4task3"
   ]
  },
  {
   "cell_type": "code",
   "execution_count": 6,
   "metadata": {},
   "outputs": [],
   "source": [
    "# task2 = pl.scan_parquet('../data/sub_files/task2_test4task3_task2_rank_lgbm_v2.parquet')\n",
    "# task1 = pl.scan_parquet('../data/sub_files/task1_test4task3_task1_rank_lgbm_v10.parquet')\n",
    "\n",
    "\n",
    "test4task3_pl = pl.scan_parquet(os.path.join('../data/raw_data_session_id/', 'sessions_test_task3.parquet')).with_columns(pl.col('prev_items').apply(str2list))\n"
   ]
  },
  {
   "cell_type": "code",
   "execution_count": 7,
   "metadata": {},
   "outputs": [
    {
     "data": {
      "text/plain": [
       "(56422, 3)"
      ]
     },
     "execution_count": 7,
     "metadata": {},
     "output_type": "execute_result"
    }
   ],
   "source": [
    "test4task3_pl.collect().shape"
   ]
  },
  {
   "cell_type": "code",
   "execution_count": 11,
   "metadata": {},
   "outputs": [
    {
     "data": {
      "text/html": [
       "<div><style>\n",
       ".dataframe > thead > tr > th,\n",
       ".dataframe > tbody > tr > td {\n",
       "  text-align: right;\n",
       "}\n",
       "</style>\n",
       "<small>shape: (5, 3)</small><table border=\"1\" class=\"dataframe\"><thead><tr><th>prev_items</th><th>locale</th><th>session_id</th></tr><tr><td>list[str]</td><td>str</td><td>i64</td></tr></thead><tbody><tr><td>[&quot;B0BF9JMVDG&quot;, &quot;B01ET9V90M&quot;]</td><td>&quot;ES&quot;</td><td>4365996</td></tr><tr><td>[&quot;B09QQG85HM&quot;, &quot;B09J4T4JF5&quot;]</td><td>&quot;ES&quot;</td><td>4365997</td></tr><tr><td>[&quot;B09NSKDG4K&quot;, &quot;B09YY6J1ZM&quot;]</td><td>&quot;ES&quot;</td><td>4365998</td></tr><tr><td>[&quot;B09B7NYDJ7&quot;, &quot;B09B7NYDJ7&quot;]</td><td>&quot;ES&quot;</td><td>4365999</td></tr><tr><td>[&quot;B0B6J17LK4&quot;, &quot;B0B6R7X6GY&quot;, &quot;B07HXY5SGH&quot;]</td><td>&quot;ES&quot;</td><td>4366000</td></tr></tbody></table></div>"
      ],
      "text/plain": [
       "shape: (5, 3)\n",
       "┌───────────────────────────────────┬────────┬────────────┐\n",
       "│ prev_items                        ┆ locale ┆ session_id │\n",
       "│ ---                               ┆ ---    ┆ ---        │\n",
       "│ list[str]                         ┆ str    ┆ i64        │\n",
       "╞═══════════════════════════════════╪════════╪════════════╡\n",
       "│ [\"B0BF9JMVDG\", \"B01ET9V90M\"]      ┆ ES     ┆ 4365996    │\n",
       "│ [\"B09QQG85HM\", \"B09J4T4JF5\"]      ┆ ES     ┆ 4365997    │\n",
       "│ [\"B09NSKDG4K\", \"B09YY6J1ZM\"]      ┆ ES     ┆ 4365998    │\n",
       "│ [\"B09B7NYDJ7\", \"B09B7NYDJ7\"]      ┆ ES     ┆ 4365999    │\n",
       "│ [\"B0B6J17LK4\", \"B0B6R7X6GY\", \"B0… ┆ ES     ┆ 4366000    │\n",
       "└───────────────────────────────────┴────────┴────────────┘"
      ]
     },
     "execution_count": 11,
     "metadata": {},
     "output_type": "execute_result"
    }
   ],
   "source": [
    "test4task3_pl.head().collect()"
   ]
  },
  {
   "cell_type": "code",
   "execution_count": 10,
   "metadata": {},
   "outputs": [],
   "source": [
    "# task1.head().collect()"
   ]
  },
  {
   "cell_type": "code",
   "execution_count": 12,
   "metadata": {},
   "outputs": [],
   "source": [
    "# res = pl.concat([task1, task2], how='vertical')\n",
    "product_pl = (pl.scan_parquet(os.path.join('../data/raw_data_session_id/', \n",
    "                                          'products_train.parquet'))\n",
    "                  # .with_columns(\n",
    "                  #     pl.when(pl.col('locale')=='DE').then(1).when(pl.col('locale')=='DE')\n",
    "                  #       .then(2)\n",
    "                  #       .otherwise(3).alias('locale')\n",
    "                  # )\n",
    "             )"
   ]
  },
  {
   "cell_type": "code",
   "execution_count": 13,
   "metadata": {},
   "outputs": [],
   "source": [
    "# product_pl.select(['id', 'locale', 'title']).head().collect()"
   ]
  },
  {
   "cell_type": "code",
   "execution_count": 14,
   "metadata": {},
   "outputs": [],
   "source": [
    "# res.head().collect()"
   ]
  },
  {
   "cell_type": "code",
   "execution_count": 15,
   "metadata": {},
   "outputs": [],
   "source": [
    "# test4task3_pl.schema"
   ]
  },
  {
   "cell_type": "code",
   "execution_count": 17,
   "metadata": {},
   "outputs": [],
   "source": [
    "predictions_step1 = (\n",
    "    test4task3_pl\n",
    "    .with_columns(\n",
    "        pl.col('prev_items').arr.get(-1).alias('next_item_prediction')\n",
    "    )\n",
    "    .with_columns(\n",
    "        pl.when(pl.col('next_item_prediction').is_null()).then(pl.col('prev_items').arr.get(-1)).otherwise(pl.col('next_item_prediction'))\n",
    "        .alias('next_item_prediction')\n",
    "    )\n",
    ")#.head().collect()"
   ]
  },
  {
   "cell_type": "code",
   "execution_count": 26,
   "metadata": {},
   "outputs": [
    {
     "data": {
      "text/html": [
       "<div><style>\n",
       ".dataframe > thead > tr > th,\n",
       ".dataframe > tbody > tr > td {\n",
       "  text-align: right;\n",
       "}\n",
       "</style>\n",
       "<small>shape: (5, 4)</small><table border=\"1\" class=\"dataframe\"><thead><tr><th>prev_items</th><th>locale</th><th>session_id</th><th>next_item_prediction</th></tr><tr><td>list[str]</td><td>str</td><td>i64</td><td>str</td></tr></thead><tbody><tr><td>[&quot;B0BF9JMVDG&quot;, &quot;B01ET9V90M&quot;]</td><td>&quot;ES&quot;</td><td>4365996</td><td>&quot;B01ET9V90M&quot;</td></tr><tr><td>[&quot;B09QQG85HM&quot;, &quot;B09J4T4JF5&quot;]</td><td>&quot;ES&quot;</td><td>4365997</td><td>&quot;B09J4T4JF5&quot;</td></tr><tr><td>[&quot;B09NSKDG4K&quot;, &quot;B09YY6J1ZM&quot;]</td><td>&quot;ES&quot;</td><td>4365998</td><td>&quot;B09YY6J1ZM&quot;</td></tr><tr><td>[&quot;B09B7NYDJ7&quot;, &quot;B09B7NYDJ7&quot;]</td><td>&quot;ES&quot;</td><td>4365999</td><td>&quot;B09B7NYDJ7&quot;</td></tr><tr><td>[&quot;B0B6J17LK4&quot;, &quot;B0B6R7X6GY&quot;, &quot;B07HXY5SGH&quot;]</td><td>&quot;ES&quot;</td><td>4366000</td><td>&quot;B07HXY5SGH&quot;</td></tr></tbody></table></div>"
      ],
      "text/plain": [
       "shape: (5, 4)\n",
       "┌───────────────────────────────────┬────────┬────────────┬──────────────────────┐\n",
       "│ prev_items                        ┆ locale ┆ session_id ┆ next_item_prediction │\n",
       "│ ---                               ┆ ---    ┆ ---        ┆ ---                  │\n",
       "│ list[str]                         ┆ str    ┆ i64        ┆ str                  │\n",
       "╞═══════════════════════════════════╪════════╪════════════╪══════════════════════╡\n",
       "│ [\"B0BF9JMVDG\", \"B01ET9V90M\"]      ┆ ES     ┆ 4365996    ┆ B01ET9V90M           │\n",
       "│ [\"B09QQG85HM\", \"B09J4T4JF5\"]      ┆ ES     ┆ 4365997    ┆ B09J4T4JF5           │\n",
       "│ [\"B09NSKDG4K\", \"B09YY6J1ZM\"]      ┆ ES     ┆ 4365998    ┆ B09YY6J1ZM           │\n",
       "│ [\"B09B7NYDJ7\", \"B09B7NYDJ7\"]      ┆ ES     ┆ 4365999    ┆ B09B7NYDJ7           │\n",
       "│ [\"B0B6J17LK4\", \"B0B6R7X6GY\", \"B0… ┆ ES     ┆ 4366000    ┆ B07HXY5SGH           │\n",
       "└───────────────────────────────────┴────────┴────────────┴──────────────────────┘"
      ]
     },
     "execution_count": 26,
     "metadata": {},
     "output_type": "execute_result"
    }
   ],
   "source": [
    "predictions_step1.head().collect()"
   ]
  },
  {
   "cell_type": "code",
   "execution_count": null,
   "metadata": {},
   "outputs": [],
   "source": []
  },
  {
   "cell_type": "code",
   "execution_count": 19,
   "metadata": {},
   "outputs": [],
   "source": [
    "predictions = (\n",
    "    predictions_step1\n",
    "        .join(product_pl.select(['id', 'locale', 'title']), how='left', right_on=['id', 'locale']\n",
    "                 , left_on=['next_item_prediction', 'locale'])\n",
    "        .with_columns(pl.col('title').alias('next_item_prediction').cast(pl.Utf8))\n",
    ")#.head().collect()"
   ]
  },
  {
   "cell_type": "code",
   "execution_count": 20,
   "metadata": {},
   "outputs": [],
   "source": [
    "assert predictions.filter(pl.col('title').is_null()).collect().shape[0] == 0"
   ]
  },
  {
   "cell_type": "code",
   "execution_count": 21,
   "metadata": {},
   "outputs": [],
   "source": [
    "assert test4task3_pl.collect().shape[0] == predictions.collect().shape[0]"
   ]
  },
  {
   "cell_type": "code",
   "execution_count": 22,
   "metadata": {},
   "outputs": [],
   "source": [
    "# product_pl.filter(pl.col('id')=='B085NXQL7F').collect()"
   ]
  },
  {
   "cell_type": "code",
   "execution_count": 23,
   "metadata": {},
   "outputs": [],
   "source": [
    "# test4task3_pl.filter(pl.col('session_id')==4420531).collect()"
   ]
  },
  {
   "cell_type": "code",
   "execution_count": 27,
   "metadata": {},
   "outputs": [
    {
     "data": {
      "text/html": [
       "<div><style>\n",
       ".dataframe > thead > tr > th,\n",
       ".dataframe > tbody > tr > td {\n",
       "  text-align: right;\n",
       "}\n",
       "</style>\n",
       "<small>shape: (5, 5)</small><table border=\"1\" class=\"dataframe\"><thead><tr><th>prev_items</th><th>locale</th><th>session_id</th><th>next_item_prediction</th><th>title</th></tr><tr><td>list[str]</td><td>str</td><td>i64</td><td>str</td><td>str</td></tr></thead><tbody><tr><td>[&quot;B0BF9JMVDG&quot;, &quot;B01ET9V90M&quot;]</td><td>&quot;ES&quot;</td><td>4365996</td><td>&quot;Pata Negra Rob…</td><td>&quot;Pata Negra Rob…</td></tr><tr><td>[&quot;B09QQG85HM&quot;, &quot;B09J4T4JF5&quot;]</td><td>&quot;ES&quot;</td><td>4365997</td><td>&quot;Xiaomi REDMI T…</td><td>&quot;Xiaomi REDMI T…</td></tr><tr><td>[&quot;B09NSKDG4K&quot;, &quot;B09YY6J1ZM&quot;]</td><td>&quot;ES&quot;</td><td>4365998</td><td>&quot;Correa Xiaomi …</td><td>&quot;Correa Xiaomi …</td></tr><tr><td>[&quot;B09B7NYDJ7&quot;, &quot;B09B7NYDJ7&quot;]</td><td>&quot;ES&quot;</td><td>4365999</td><td>&quot;Rowenta Mini E…</td><td>&quot;Rowenta Mini E…</td></tr><tr><td>[&quot;B0B6J17LK4&quot;, &quot;B0B6R7X6GY&quot;, &quot;B07HXY5SGH&quot;]</td><td>&quot;ES&quot;</td><td>4366000</td><td>&quot;Fiambrera Eléc…</td><td>&quot;Fiambrera Eléc…</td></tr></tbody></table></div>"
      ],
      "text/plain": [
       "shape: (5, 5)\n",
       "┌────────────────────┬────────┬────────────┬───────────────────────────┬───────────────────────────┐\n",
       "│ prev_items         ┆ locale ┆ session_id ┆ next_item_prediction      ┆ title                     │\n",
       "│ ---                ┆ ---    ┆ ---        ┆ ---                       ┆ ---                       │\n",
       "│ list[str]          ┆ str    ┆ i64        ┆ str                       ┆ str                       │\n",
       "╞════════════════════╪════════╪════════════╪═══════════════════════════╪═══════════════════════════╡\n",
       "│ [\"B0BF9JMVDG\",     ┆ ES     ┆ 4365996    ┆ Pata Negra Roble - Vino   ┆ Pata Negra Roble - Vino   │\n",
       "│ \"B01ET9V90M\"]      ┆        ┆            ┆ Tinto D.…                 ┆ Tinto D.…                 │\n",
       "│ [\"B09QQG85HM\",     ┆ ES     ┆ 4365997    ┆ Xiaomi REDMI True Buds 3  ┆ Xiaomi REDMI True Buds 3  │\n",
       "│ \"B09J4T4JF5\"]      ┆        ┆            ┆ Air 3 S…                  ┆ Air 3 S…                  │\n",
       "│ [\"B09NSKDG4K\",     ┆ ES     ┆ 4365998    ┆ Correa Xiaomi Mi Band 4,  ┆ Correa Xiaomi Mi Band 4,  │\n",
       "│ \"B09YY6J1ZM\"]      ┆        ┆            ┆ Superpo…                  ┆ Superpo…                  │\n",
       "│ [\"B09B7NYDJ7\",     ┆ ES     ┆ 4365999    ┆ Rowenta Mini Excel Eco    ┆ Rowenta Mini Excel Eco    │\n",
       "│ \"B09B7NYDJ7\"]      ┆        ┆            ┆ Safe SO92…                ┆ Safe SO92…                │\n",
       "│ [\"B0B6J17LK4\",     ┆ ES     ┆ 4366000    ┆ Fiambrera Eléctrica 3 en  ┆ Fiambrera Eléctrica 3 en  │\n",
       "│ \"B0B6R7X6GY\", \"B0… ┆        ┆            ┆ 1 12V 2…                  ┆ 1 12V 2…                  │\n",
       "└────────────────────┴────────┴────────────┴───────────────────────────┴───────────────────────────┘"
      ]
     },
     "execution_count": 27,
     "metadata": {},
     "output_type": "execute_result"
    }
   ],
   "source": [
    "predictions.head().collect()"
   ]
  },
  {
   "cell_type": "code",
   "execution_count": 28,
   "metadata": {},
   "outputs": [
    {
     "data": {
      "text/html": [
       "<div><style>\n",
       ".dataframe > thead > tr > th,\n",
       ".dataframe > tbody > tr > td {\n",
       "  text-align: right;\n",
       "}\n",
       "</style>\n",
       "<small>shape: (0, 5)</small><table border=\"1\" class=\"dataframe\"><thead><tr><th>prev_items</th><th>locale</th><th>session_id</th><th>next_item_prediction</th><th>title</th></tr><tr><td>list[str]</td><td>str</td><td>i64</td><td>str</td><td>str</td></tr></thead><tbody></tbody></table></div>"
      ],
      "text/plain": [
       "shape: (0, 5)\n",
       "┌────────────┬────────┬────────────┬──────────────────────┬───────┐\n",
       "│ prev_items ┆ locale ┆ session_id ┆ next_item_prediction ┆ title │\n",
       "│ ---        ┆ ---    ┆ ---        ┆ ---                  ┆ ---   │\n",
       "│ list[str]  ┆ str    ┆ i64        ┆ str                  ┆ str   │\n",
       "╞════════════╪════════╪════════════╪══════════════════════╪═══════╡\n",
       "└────────────┴────────┴────────────┴──────────────────────┴───────┘"
      ]
     },
     "execution_count": 28,
     "metadata": {},
     "output_type": "execute_result"
    }
   ],
   "source": [
    "predictions.filter(pl.col('title').is_null()).collect()"
   ]
  },
  {
   "cell_type": "code",
   "execution_count": 29,
   "metadata": {},
   "outputs": [],
   "source": [
    "\n",
    "# predictions.select('locale').collect().to_series().value_counts()"
   ]
  },
  {
   "cell_type": "code",
   "execution_count": 30,
   "metadata": {},
   "outputs": [],
   "source": [
    "predictions_df = predictions.collect().to_pandas()"
   ]
  },
  {
   "cell_type": "code",
   "execution_count": 31,
   "metadata": {},
   "outputs": [],
   "source": [
    "predictions_df['next_item_prediction'] = predictions_df['next_item_prediction'].astype('str')"
   ]
  },
  {
   "cell_type": "markdown",
   "metadata": {
    "id": "vNB90dXKlZkR",
    "tags": []
   },
   "source": [
    "# Validate predictions ✅"
   ]
  },
  {
   "cell_type": "code",
   "execution_count": 32,
   "metadata": {
    "executionInfo": {
     "elapsed": 10,
     "status": "ok",
     "timestamp": 1679489181460,
     "user": {
      "displayName": "Dipam Chakraborty",
      "userId": "04496869744334527762"
     },
     "user_tz": -330
    },
    "id": "B1XKTojogtF2"
   },
   "outputs": [],
   "source": [
    "def check_predictions(predictions, test_sessions):\n",
    "    \"\"\"\n",
    "    These tests need to pass as they will also be applied on the evaluator\n",
    "    \"\"\"\n",
    "    test_locale_names = test_sessions['locale'].unique()\n",
    "    for locale in test_locale_names:\n",
    "        sess_test = test_sessions.query(f'locale == \"{locale}\"')\n",
    "        preds_locale =  predictions[predictions['locale'] == sess_test['locale'].iloc[0]]\n",
    "        assert sorted(preds_locale.index.values) == sorted(sess_test.index.values), f\"Session ids of {locale} doesn't match\"\n",
    "        assert predictions['next_item_prediction'].apply(lambda x: isinstance(x, str)).all(), \"Predictions should all be strings\""
   ]
  },
  {
   "cell_type": "code",
   "execution_count": 33,
   "metadata": {},
   "outputs": [
    {
     "name": "stdout",
     "output_type": "stream",
     "text": [
      "<class 'pandas.core.frame.DataFrame'>\n",
      "RangeIndex: 56422 entries, 0 to 56421\n",
      "Data columns (total 5 columns):\n",
      " #   Column                Non-Null Count  Dtype \n",
      "---  ------                --------------  ----- \n",
      " 0   prev_items            56422 non-null  object\n",
      " 1   locale                56422 non-null  object\n",
      " 2   session_id            56422 non-null  int64 \n",
      " 3   next_item_prediction  56422 non-null  object\n",
      " 4   title                 56422 non-null  object\n",
      "dtypes: int64(1), object(4)\n",
      "memory usage: 2.2+ MB\n"
     ]
    }
   ],
   "source": [
    "predictions_df.info()"
   ]
  },
  {
   "cell_type": "code",
   "execution_count": 34,
   "metadata": {
    "executionInfo": {
     "elapsed": 9,
     "status": "ok",
     "timestamp": 1679489181460,
     "user": {
      "displayName": "Dipam Chakraborty",
      "userId": "04496869744334527762"
     },
     "user_tz": -330
    },
    "id": "FJA368Gzguk7"
   },
   "outputs": [],
   "source": [
    "check_predictions(predictions_df, test_sessions=test4task3_pl.collect().to_pandas())"
   ]
  },
  {
   "cell_type": "code",
   "execution_count": 35,
   "metadata": {},
   "outputs": [],
   "source": [
    "sub_file = f'submission_{task}.parquet'"
   ]
  },
  {
   "cell_type": "code",
   "execution_count": 36,
   "metadata": {},
   "outputs": [
    {
     "name": "stdout",
     "output_type": "stream",
     "text": [
      "-rw-r--r-- 1 jupyter jupyter 12565524 Jun  8 19:50 submission_task3.parquet\n"
     ]
    }
   ],
   "source": [
    "! ls -al {sub_file}"
   ]
  },
  {
   "cell_type": "code",
   "execution_count": 37,
   "metadata": {
    "executionInfo": {
     "elapsed": 9,
     "status": "ok",
     "timestamp": 1679489181460,
     "user": {
      "displayName": "Dipam Chakraborty",
      "userId": "04496869744334527762"
     },
     "user_tz": -330
    },
    "id": "1dTvU5VOgv0j"
   },
   "outputs": [],
   "source": [
    "# Its important that the parquet file you submit is saved with pyarrow backend\n",
    "predictions_df.to_parquet(sub_file, engine='pyarrow')"
   ]
  },
  {
   "cell_type": "code",
   "execution_count": 38,
   "metadata": {},
   "outputs": [
    {
     "data": {
      "text/plain": [
       "'submission_task3.parquet'"
      ]
     },
     "execution_count": 38,
     "metadata": {},
     "output_type": "execute_result"
    }
   ],
   "source": [
    "f'submission_{task}.parquet'"
   ]
  },
  {
   "cell_type": "markdown",
   "metadata": {
    "id": "dVrZ_TfnjL09"
   },
   "source": [
    "## Submit to AIcrowd 🚀"
   ]
  },
  {
   "cell_type": "code",
   "execution_count": 145,
   "metadata": {
    "id": "rd9OYWEgixPZ"
   },
   "outputs": [],
   "source": [
    "# You can submit with aicrowd-cli, or upload manually on the challenge page.\n",
    "# !aicrowd submission create -c task-3-next-product-title-generation -f {sub_file}"
   ]
  },
  {
   "cell_type": "code",
   "execution_count": null,
   "metadata": {},
   "outputs": [],
   "source": []
  }
 ],
 "metadata": {
  "colab": {
   "authorship_tag": "ABX9TyNj5pYfUGOVeNSAJeNJ+6v3",
   "provenance": [
    {
     "file_id": "1BMur3lVuAmsOBNHxB2m1oN_6VD_qIGpl",
     "timestamp": 1679462092826
    },
    {
     "file_id": "1sShXmsM7JBLXPuIqEufRFIOMamaQ07e2",
     "timestamp": 1679076716377
    }
   ]
  },
  "environment": {
   "kernel": "kdd_2023",
   "name": "common-cu110.m104",
   "type": "gcloud",
   "uri": "gcr.io/deeplearning-platform-release/base-cu110:m104"
  },
  "kernelspec": {
   "display_name": "py3.8(kdd_2023)",
   "language": "python",
   "name": "kdd_2023"
  },
  "language_info": {
   "codemirror_mode": {
    "name": "ipython",
    "version": 3
   },
   "file_extension": ".py",
   "mimetype": "text/x-python",
   "name": "python",
   "nbconvert_exporter": "python",
   "pygments_lexer": "ipython3",
   "version": "3.8.16"
  }
 },
 "nbformat": 4,
 "nbformat_minor": 4
}
