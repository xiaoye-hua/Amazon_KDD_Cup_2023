{
 "cells": [
  {
   "cell_type": "markdown",
   "metadata": {},
   "source": [
    "# Basic ideas "
   ]
  },
  {
   "cell_type": "markdown",
   "metadata": {},
   "source": [
    "1. the weighted counts where item2 is after item1 within the same sequence\n",
    "2. the weight is discounted with 1/(idx2-idx1)\n",
    "4. Next steps\n",
    "    1. [x] normalized counts should be included \n",
    "    2. [x] train2 data should be included\n",
    "\n",
    "\n",
    "Example: [a, b, c] -> [ab, ac, bc] -> \n",
    "\n",
    "```\n",
    "[\n",
    "--current_item, next_item, counts\n",
    "[a, b, 1],\n",
    "[a, c, 1/2],\n",
    "[b, c, 1]\n",
    "]\n",
    "```"
   ]
  },
  {
   "cell_type": "markdown",
   "metadata": {},
   "source": [
    "# Package "
   ]
  },
  {
   "cell_type": "code",
   "execution_count": 1,
   "metadata": {},
   "outputs": [],
   "source": [
    "%load_ext autoreload\n",
    "%autoreload 2\n",
    "import sys\n",
    "import logging\n",
    "base_dir = '../'\n",
    "sys.path.append(base_dir)\n",
    "import os\n",
    "import warnings\n",
    "warnings.simplefilter('ignore')\n",
    "\n",
    "import pickle\n",
    "import gc\n",
    "import re\n",
    "import polars as pl\n",
    "from collections import defaultdict, Counter\n",
    "\n",
    "import numpy as np\n",
    "import pandas as pd\n",
    "pd.set_option('display.max_columns', None)\n",
    "from tqdm.auto import tqdm\n",
    "import polars as pl\n",
    "from utils import *\n",
    "from src.eval import model_eval\n",
    "from src.config import raw_data_session_id_dir, candidate_dir, model_for_eval, candidate_file_name"
   ]
  },
  {
   "cell_type": "code",
   "execution_count": 2,
   "metadata": {},
   "outputs": [],
   "source": [
    "# df_prod = pd.read_csv('data/products_train.csv')\n",
    "# df_prod"
   ]
  },
  {
   "cell_type": "markdown",
   "metadata": {
    "tags": []
   },
   "source": [
    "# Config "
   ]
  },
  {
   "cell_type": "code",
   "execution_count": 3,
   "metadata": {},
   "outputs": [],
   "source": [
    "debug = False\n",
    "\n",
    "\n",
    "task = 'task1'\n",
    "version = 'v11'\n",
    "model_version = f'nfi_{task}_{version}'\n",
    "\n",
    "if task == 'task1':\n",
    "    target_locals = ['DE', 'JP', 'UK']\n",
    "elif task == 'task2':\n",
    "    target_locals = ['ES', 'FR', 'IT']\n",
    "else:\n",
    "    assert 1 == 0\n",
    "\n",
    "topn = 100\n",
    "if debug:\n",
    "    n_rows = 1000\n",
    "else:\n",
    "    n_rows = None\n",
    "# debug_session_num = 100\n",
    "train_data_dir = '.'\n",
    "test_data_dir = '.'\n",
    "\n",
    "model_dir = f'../model_training/{model_version}/'\n",
    "\n",
    "# target locales: locales needed for task1\n",
    "\n",
    "# if model_for_eval:\n",
    "model_file = os.path.join(model_dir, f'nic_{model_for_eval}_for_eval.parquet')\n",
    "submit_file = os.path.join('../data/sub_files/', f'submission_{task}_{model_version}_{model_for_eval}_for_eval.parquet')"
   ]
  },
  {
   "cell_type": "code",
   "execution_count": null,
   "metadata": {},
   "outputs": [],
   "source": []
  },
  {
   "cell_type": "code",
   "execution_count": 4,
   "metadata": {},
   "outputs": [
    {
     "name": "stdout",
     "output_type": "stream",
     "text": [
      "task1_train_nfi_task1_v11_True_top100.parquet\n",
      "task1_eval_nfi_task1_v11_True_top100.parquet\n",
      "task1_test_nfi_task1_v11_True_top100.parquet\n",
      "task1_test4task3_nfi_task1_v11_True_top100.parquet\n"
     ]
    }
   ],
   "source": [
    "train_file_name = candidate_file_name.format(\n",
    "    task=task\n",
    "    , data_type='train'\n",
    "    , model_version=model_version\n",
    "    , model_for_eval=model_for_eval\n",
    "    , topn=topn\n",
    ")\n",
    "eval_file_name = candidate_file_name.format(\n",
    "    task=task\n",
    "    , data_type='eval'\n",
    "    , model_version=model_version\n",
    "    , model_for_eval=model_for_eval\n",
    "    , topn=topn\n",
    ")\n",
    "test_file_name = candidate_file_name.format(\n",
    "    task=task\n",
    "    , data_type='test'\n",
    "    , model_version=model_version\n",
    "    , model_for_eval=model_for_eval\n",
    "    , topn=topn\n",
    ")\n",
    "test4task3_file_name = candidate_file_name.format(\n",
    "    task=task\n",
    "    , data_type='test4task3'\n",
    "    , model_version=model_version\n",
    "    , model_for_eval=model_for_eval\n",
    "    , topn=topn\n",
    ")\n",
    "print(train_file_name)\n",
    "print(eval_file_name)\n",
    "print(test_file_name)\n",
    "print(test4task3_file_name)"
   ]
  },
  {
   "cell_type": "code",
   "execution_count": 5,
   "metadata": {},
   "outputs": [
    {
     "data": {
      "text/plain": [
       "'task1_test_nfi_task1_v11_True_top100.parquet'"
      ]
     },
     "execution_count": 5,
     "metadata": {},
     "output_type": "execute_result"
    }
   ],
   "source": [
    "test_file_name"
   ]
  },
  {
   "cell_type": "code",
   "execution_count": 6,
   "metadata": {},
   "outputs": [],
   "source": [
    "! mkdir {model_dir}"
   ]
  },
  {
   "cell_type": "code",
   "execution_count": 7,
   "metadata": {},
   "outputs": [
    {
     "data": {
      "text/plain": [
       "'../model_training/nfi_task1_v11/nic_True_for_eval.parquet'"
      ]
     },
     "execution_count": 7,
     "metadata": {},
     "output_type": "execute_result"
    }
   ],
   "source": [
    "model_file"
   ]
  },
  {
   "cell_type": "code",
   "execution_count": 8,
   "metadata": {},
   "outputs": [
    {
     "data": {
      "text/plain": [
       "'../data/sub_files/submission_task1_nfi_task1_v11_True_for_eval.parquet'"
      ]
     },
     "execution_count": 8,
     "metadata": {},
     "output_type": "execute_result"
    }
   ],
   "source": [
    "submit_file"
   ]
  },
  {
   "cell_type": "markdown",
   "metadata": {
    "tags": []
   },
   "source": [
    "# Data "
   ]
  },
  {
   "cell_type": "code",
   "execution_count": 9,
   "metadata": {},
   "outputs": [
    {
     "name": "stdout",
     "output_type": "stream",
     "text": [
      "product_unique2id.json\t\t    sessions_test_task2_phase1.parquet\n",
      "products_train.parquet\t\t    sessions_test_task3.parquet\n",
      "sessions_eval.parquet\t\t    sessions_test_task3_phase1.parquet\n",
      "sessions_test_task1.parquet\t    sessions_train.parquet\n",
      "sessions_test_task1_phase1.parquet  sessions_train1.parquet\n",
      "sessions_test_task2.parquet\t    sessions_train2.parquet\n"
     ]
    }
   ],
   "source": [
    "! ls ../{raw_data_session_id_dir}"
   ]
  },
  {
   "cell_type": "code",
   "execution_count": 10,
   "metadata": {},
   "outputs": [],
   "source": [
    "train_pl = pl.scan_parquet(os.path.join(base_dir, raw_data_session_id_dir, 'sessions_train1.parquet'), n_rows=n_rows).filter(pl.col('locale').is_in(target_locals)).with_columns(pl.col('prev_items').apply(str2list))\n",
    "\n",
    "train2_pl = pl.scan_parquet(os.path.join(base_dir, raw_data_session_id_dir, 'sessions_train2.parquet'), n_rows=n_rows).filter(pl.col('locale').is_in(target_locals)).with_columns(pl.col('prev_items').apply(str2list))\n",
    "\n",
    "eval_pl = pl.scan_parquet(os.path.join(base_dir, raw_data_session_id_dir, 'sessions_eval.parquet'), n_rows=n_rows).filter(pl.col('locale').is_in(target_locals)).with_columns(pl.col('prev_items').apply(str2list))\n",
    "\n",
    "# df_sess.head(3).collect()\n",
    "test_pl = pl.scan_parquet(os.path.join(base_dir, raw_data_session_id_dir, f'sessions_test_{task}.parquet'), n_rows=n_rows).with_columns(pl.col('prev_items').apply(str2list))\n",
    "test4task3_pl = pl.scan_parquet(os.path.join(base_dir, raw_data_session_id_dir, 'sessions_test_task3.parquet'), n_rows=n_rows).filter(pl.col('locale').is_in(target_locals)).with_columns(pl.col('prev_items').apply(str2list))\n",
    "\n"
   ]
  },
  {
   "cell_type": "code",
   "execution_count": 11,
   "metadata": {},
   "outputs": [],
   "source": [
    "# test_phase1 = pl.scan_parquet(os.path.join(base_dir, raw_data_session_id_dir, f'sessions_test_{task}_phase1.parquet'))"
   ]
  },
  {
   "cell_type": "code",
   "execution_count": 12,
   "metadata": {},
   "outputs": [],
   "source": [
    "# test_pl.select('locale').collect().to_series().value_counts()"
   ]
  },
  {
   "cell_type": "code",
   "execution_count": 13,
   "metadata": {},
   "outputs": [],
   "source": [
    "# test_phase1.select('locale').collect().to_series().value_counts()"
   ]
  },
  {
   "cell_type": "code",
   "execution_count": 14,
   "metadata": {},
   "outputs": [],
   "source": [
    "# test_csv = pl.scan_csv('../data/raw_data/sessions_test_task1.csv')\n",
    "# test_csv_phase1 = pl.scan_csv('../data/raw_data/sessions_test_task3.csv')"
   ]
  },
  {
   "cell_type": "code",
   "execution_count": 15,
   "metadata": {},
   "outputs": [],
   "source": [
    "# test_csv.select('locale').collect().to_series().value_counts()"
   ]
  },
  {
   "cell_type": "code",
   "execution_count": 16,
   "metadata": {},
   "outputs": [],
   "source": [
    "# test_csv_phase1.select('locale').collect().to_series().value_counts()"
   ]
  },
  {
   "cell_type": "code",
   "execution_count": 17,
   "metadata": {},
   "outputs": [],
   "source": [
    "# test_csv = pl.scan_csv('../sessions_test_task3.csv')\n"
   ]
  },
  {
   "cell_type": "code",
   "execution_count": 18,
   "metadata": {},
   "outputs": [],
   "source": [
    "# test_csv.select('locale').collect().to_series().value_counts()"
   ]
  },
  {
   "cell_type": "markdown",
   "metadata": {},
   "source": [
    "# Function "
   ]
  },
  {
   "cell_type": "code",
   "execution_count": 19,
   "metadata": {},
   "outputs": [],
   "source": [
    "# 'item', 'next_item_prediction', 'next_item_weight'"
   ]
  },
  {
   "cell_type": "code",
   "execution_count": 20,
   "metadata": {},
   "outputs": [],
   "source": [
    "def nic_rec(target_pl, nic_model, rec_num=topn):\n",
    "    # rec_num = 100\n",
    "    final_cols = ['session_id', 'next_item_prediction', 'rec_num']\n",
    "    target_pl = (\n",
    "        target_pl\n",
    "            .with_columns(\n",
    "                pl.col('prev_items').arr.get(-1).alias('last_item')\n",
    "            )\n",
    "            .join(nic_model, how='left', left_on='last_item', right_on='item')\n",
    "            .with_columns(\n",
    "                pl.when(pl.col('next_item_prediction').is_null()).then([]).otherwise(pl.col('next_item_prediction').arr.head(rec_num)).alias('next_item_prediction')\n",
    "            )\n",
    "            .with_columns(\n",
    "                pl.col('next_item_prediction').arr.lengths().alias('rec_num')\n",
    "            )\n",
    "            .select(\n",
    "                final_cols\n",
    "            )\n",
    "    )#.head(3).collect()\n",
    "    return target_pl"
   ]
  },
  {
   "cell_type": "markdown",
   "metadata": {},
   "source": [
    "# Next Item Statistics "
   ]
  },
  {
   "cell_type": "code",
   "execution_count": 21,
   "metadata": {},
   "outputs": [],
   "source": [
    "# model_for_eval"
   ]
  },
  {
   "cell_type": "code",
   "execution_count": 22,
   "metadata": {},
   "outputs": [],
   "source": [
    "train_data = train_pl.with_columns(\n",
    "    pl.col('prev_items').arr.concat(pl.col('next_item')) \n",
    ")\n",
    "if not model_for_eval:\n",
    "    eval_data = eval_pl.with_columns(\n",
    "    pl.col('prev_items').arr.concat(pl.col('next_item')) \n",
    ")\n",
    "else:\n",
    "    eval_data = eval_pl\n",
    "train2_data = train2_pl\n",
    "\n",
    "test_data = test_pl"
   ]
  },
  {
   "cell_type": "code",
   "execution_count": 23,
   "metadata": {},
   "outputs": [],
   "source": [
    "cols_to_keep = ['prev_items']\n",
    "\n",
    "all_train_data = pl.concat([train_data.select(cols_to_keep),\n",
    "                            eval_data.select(cols_to_keep),\n",
    "                            train2_data.select(cols_to_keep),\n",
    "                            test_data.select(cols_to_keep)], how='vertical')"
   ]
  },
  {
   "cell_type": "code",
   "execution_count": 24,
   "metadata": {},
   "outputs": [],
   "source": [
    "# all_train_data.head().collect()"
   ]
  },
  {
   "cell_type": "code",
   "execution_count": 25,
   "metadata": {},
   "outputs": [],
   "source": [
    "def get_cnt(row):\n",
    "    prev_items = row.to_list()\n",
    "    # print(type(prev_items))\n",
    "    # print(prev_items)\n",
    "    length = len(prev_items)\n",
    "    res = []\n",
    "    for idx1, ele1 in enumerate(prev_items[:-1]):\n",
    "        for idx2 in range(idx1+1, length):\n",
    "            ele2 = prev_items[idx2]\n",
    "            # combined_ele = '_'.join([ele1, ele2])\n",
    "            weight = str(round(1/(idx2-idx1), 2))\n",
    "            res.append(\n",
    "                # combined_ele\n",
    "                [\n",
    "                    # combined_ele\n",
    "                ele1\n",
    "                , ele2\n",
    "                 , weight\n",
    "                ]\n",
    "                      )\n",
    "    # print(res)\n",
    "    return res\n",
    "        "
   ]
  },
  {
   "cell_type": "code",
   "execution_count": 26,
   "metadata": {},
   "outputs": [],
   "source": [
    "next_items_pl = (\n",
    "    all_train_data.with_columns(\n",
    "        pl.col('prev_items').apply(lambda x: get_cnt(x))\n",
    "    ).explode('prev_items')\n",
    "    .select(\n",
    "        pl.col('prev_items').arr.get(0).alias('current_item')\n",
    "        , pl.col('prev_items').arr.get(1).alias('next_item')\n",
    "\n",
    "        , pl.col('prev_items').arr.get(2).alias('weight').cast(pl.Float32)\n",
    "    ).groupby(['current_item', 'next_item'])\n",
    "    .agg(\n",
    "        pl.col('weight').sum()\n",
    "    ).sort(['current_item', 'weight'], descending=True)\n",
    "    .with_columns(\n",
    "        pl.col('weight').max().over('current_item').alias('max_weight')\n",
    "        , pl.lit(0).alias('min_weight')\n",
    "    )\n",
    "    .with_columns(\n",
    "        pl.when(pl.col('max_weight')==pl.col('min_weight')).then(1).otherwise((pl.col('weight')-pl.col('min_weight'))/(pl.col('max_weight')-pl.col('min_weight'))).alias('normalized_weight')\n",
    "    )\n",
    "    .groupby(['current_item'])\n",
    "    .agg(\n",
    "        pl.col('next_item')\n",
    "        , pl.col('weight')\n",
    "        ,  pl.col('normalized_weight')\n",
    "    )\n",
    "    .select(\n",
    "        pl.col('current_item').alias('item')\n",
    "        , pl.col('next_item').alias('next_item_prediction')\n",
    "        , pl.col('weight').alias('next_item_weight')\n",
    "        , pl.col('normalized_weight').alias('next_item_normalized_weight')\n",
    "    )\n",
    ")"
   ]
  },
  {
   "cell_type": "code",
   "execution_count": null,
   "metadata": {},
   "outputs": [],
   "source": [
    "next_items_pl.head().collect()"
   ]
  },
  {
   "cell_type": "markdown",
   "metadata": {
    "tags": []
   },
   "source": [
    "## Save model "
   ]
  },
  {
   "cell_type": "code",
   "execution_count": null,
   "metadata": {},
   "outputs": [],
   "source": [
    "model_file"
   ]
  },
  {
   "cell_type": "code",
   "execution_count": null,
   "metadata": {},
   "outputs": [],
   "source": [
    "next_items_pl.collect().write_parquet(model_file)"
   ]
  },
  {
   "cell_type": "code",
   "execution_count": null,
   "metadata": {},
   "outputs": [],
   "source": [
    "del next_items_pl"
   ]
  },
  {
   "cell_type": "markdown",
   "metadata": {},
   "source": [
    "## Read Model "
   ]
  },
  {
   "cell_type": "code",
   "execution_count": null,
   "metadata": {},
   "outputs": [],
   "source": [
    "model_file"
   ]
  },
  {
   "cell_type": "code",
   "execution_count": null,
   "metadata": {},
   "outputs": [],
   "source": [
    "next_items_pl = pl.scan_parquet(model_file)"
   ]
  },
  {
   "cell_type": "code",
   "execution_count": null,
   "metadata": {},
   "outputs": [],
   "source": [
    "type_dict = next_items_pl.schema"
   ]
  },
  {
   "cell_type": "code",
   "execution_count": null,
   "metadata": {},
   "outputs": [],
   "source": [
    "type_dict.keys()"
   ]
  },
  {
   "cell_type": "code",
   "execution_count": null,
   "metadata": {},
   "outputs": [],
   "source": [
    "next_items_pl.head().collect()"
   ]
  },
  {
   "cell_type": "markdown",
   "metadata": {},
   "source": [
    "## Model eval "
   ]
  },
  {
   "cell_type": "code",
   "execution_count": null,
   "metadata": {},
   "outputs": [],
   "source": [
    "# train_pl.schema"
   ]
  },
  {
   "cell_type": "code",
   "execution_count": 37,
   "metadata": {},
   "outputs": [],
   "source": [
    "# eval_pl.select('locale').collect()"
   ]
  },
  {
   "cell_type": "code",
   "execution_count": 38,
   "metadata": {},
   "outputs": [],
   "source": [
    "eval_candidate_pl = nic_rec(target_pl=eval_pl, nic_model=next_items_pl)#.head().collect()"
   ]
  },
  {
   "cell_type": "code",
   "execution_count": 39,
   "metadata": {},
   "outputs": [],
   "source": [
    "\n",
    "# if_hit = pl.element().rank()\n",
    "target_df = eval_pl.join(eval_candidate_pl, how='left', on='session_id')\n",
    "\n",
    "\n",
    "# eval_final.head().collect()"
   ]
  },
  {
   "cell_type": "code",
   "execution_count": 40,
   "metadata": {},
   "outputs": [],
   "source": [
    "# eval_pl.select('locale').collect().to_series().value_counts()"
   ]
  },
  {
   "cell_type": "code",
   "execution_count": 44,
   "metadata": {},
   "outputs": [
    {
     "data": {
      "text/html": [
       "<div><style>\n",
       ".dataframe > thead > tr > th,\n",
       ".dataframe > tbody > tr > td {\n",
       "  text-align: right;\n",
       "}\n",
       "</style>\n",
       "<small>shape: (1, 4)</small><table border=\"1\" class=\"dataframe\"><thead><tr><th>total_sessions</th><th>mrr</th><th>recall@20</th><th>recall@100</th></tr><tr><td>u32</td><td>f64</td><td>f64</td><td>f64</td></tr></thead><tbody><tr><td>326443</td><td>0.2345</td><td>0.4298</td><td>0.4827</td></tr></tbody></table></div>"
      ],
      "text/plain": [
       "shape: (1, 4)\n",
       "┌────────────────┬────────┬───────────┬────────────┐\n",
       "│ total_sessions ┆ mrr    ┆ recall@20 ┆ recall@100 │\n",
       "│ ---            ┆ ---    ┆ ---       ┆ ---        │\n",
       "│ u32            ┆ f64    ┆ f64       ┆ f64        │\n",
       "╞════════════════╪════════╪═══════════╪════════════╡\n",
       "│ 326443         ┆ 0.2345 ┆ 0.4298    ┆ 0.4827     │\n",
       "└────────────────┴────────┴───────────┴────────────┘"
      ]
     },
     "execution_count": 44,
     "metadata": {},
     "output_type": "execute_result"
    }
   ],
   "source": [
    "model_eval(target_df=target_df)"
   ]
  },
  {
   "cell_type": "code",
   "execution_count": 43,
   "metadata": {},
   "outputs": [
    {
     "data": {
      "text/html": [
       "<div><style>\n",
       ".dataframe > thead > tr > th,\n",
       ".dataframe > tbody > tr > td {\n",
       "  text-align: right;\n",
       "}\n",
       "</style>\n",
       "<small>shape: (7, 2)</small><table border=\"1\" class=\"dataframe\"><thead><tr><th>describe</th><th>rec_num</th></tr><tr><td>str</td><td>f64</td></tr></thead><tbody><tr><td>&quot;count&quot;</td><td>326443.0</td></tr><tr><td>&quot;null_count&quot;</td><td>0.0</td></tr><tr><td>&quot;mean&quot;</td><td>48.331822</td></tr><tr><td>&quot;std&quot;</td><td>37.862834</td></tr><tr><td>&quot;min&quot;</td><td>0.0</td></tr><tr><td>&quot;max&quot;</td><td>100.0</td></tr><tr><td>&quot;median&quot;</td><td>38.0</td></tr></tbody></table></div>"
      ],
      "text/plain": [
       "shape: (7, 2)\n",
       "┌────────────┬───────────┐\n",
       "│ describe   ┆ rec_num   │\n",
       "│ ---        ┆ ---       │\n",
       "│ str        ┆ f64       │\n",
       "╞════════════╪═══════════╡\n",
       "│ count      ┆ 326443.0  │\n",
       "│ null_count ┆ 0.0       │\n",
       "│ mean       ┆ 48.331822 │\n",
       "│ std        ┆ 37.862834 │\n",
       "│ min        ┆ 0.0       │\n",
       "│ max        ┆ 100.0     │\n",
       "│ median     ┆ 38.0      │\n",
       "└────────────┴───────────┘"
      ]
     },
     "execution_count": 43,
     "metadata": {},
     "output_type": "execute_result"
    }
   ],
   "source": [
    "target_df.select('rec_num').collect().describe()"
   ]
  },
  {
   "cell_type": "code",
   "execution_count": null,
   "metadata": {},
   "outputs": [],
   "source": [
    "# model_eval(target_df=target_df)"
   ]
  },
  {
   "cell_type": "markdown",
   "metadata": {},
   "source": [
    "## Candidate Saving "
   ]
  },
  {
   "cell_type": "markdown",
   "metadata": {},
   "source": [
    "### Train & eval "
   ]
  },
  {
   "cell_type": "code",
   "execution_count": null,
   "metadata": {},
   "outputs": [],
   "source": []
  },
  {
   "cell_type": "code",
   "execution_count": null,
   "metadata": {},
   "outputs": [],
   "source": [
    "train_candidate_pl = nic_rec(target_pl=train2_pl, nic_model=next_items_pl)#.head().collect()"
   ]
  },
  {
   "cell_type": "code",
   "execution_count": 46,
   "metadata": {},
   "outputs": [],
   "source": [
    "eval_candidate_pl = nic_rec(target_pl=eval_pl, nic_model=next_items_pl)#.head().collect()"
   ]
  },
  {
   "cell_type": "code",
   "execution_count": null,
   "metadata": {},
   "outputs": [],
   "source": []
  },
  {
   "cell_type": "code",
   "execution_count": 47,
   "metadata": {},
   "outputs": [
    {
     "data": {
      "text/plain": [
       "'nfi_task1_v10'"
      ]
     },
     "execution_count": 47,
     "metadata": {},
     "output_type": "execute_result"
    }
   ],
   "source": [
    "model_version"
   ]
  },
  {
   "cell_type": "code",
   "execution_count": 48,
   "metadata": {},
   "outputs": [
    {
     "name": "stdout",
     "output_type": "stream",
     "text": [
      "shape: (7, 2)\n",
      "┌────────────┬────────────┐\n",
      "│ describe   ┆ rec_num    │\n",
      "│ ---        ┆ ---        │\n",
      "│ str        ┆ f64        │\n",
      "╞════════════╪════════════╡\n",
      "│ count      ┆ 1.474219e6 │\n",
      "│ null_count ┆ 0.0        │\n",
      "│ mean       ┆ 48.25649   │\n",
      "│ std        ┆ 37.873834  │\n",
      "│ min        ┆ 0.0        │\n",
      "│ max        ┆ 100.0      │\n",
      "│ median     ┆ 38.0       │\n",
      "└────────────┴────────────┘\n",
      "shape: (7, 2)\n",
      "┌────────────┬───────────┐\n",
      "│ describe   ┆ rec_num   │\n",
      "│ ---        ┆ ---       │\n",
      "│ str        ┆ f64       │\n",
      "╞════════════╪═══════════╡\n",
      "│ count      ┆ 326443.0  │\n",
      "│ null_count ┆ 0.0       │\n",
      "│ mean       ┆ 48.331822 │\n",
      "│ std        ┆ 37.862834 │\n",
      "│ min        ┆ 0.0       │\n",
      "│ max        ┆ 100.0     │\n",
      "│ median     ┆ 38.0      │\n",
      "└────────────┴───────────┘\n"
     ]
    }
   ],
   "source": [
    "for data_pl in [train_candidate_pl, eval_candidate_pl,\n",
    "                # test_candidate_pl\n",
    "               ]:\n",
    "    print(data_pl.select('rec_num').collect().describe())"
   ]
  },
  {
   "cell_type": "code",
   "execution_count": 49,
   "metadata": {},
   "outputs": [
    {
     "data": {
      "text/plain": [
       "'task1_train_nfi_task1_v10_True_top100.parquet'"
      ]
     },
     "execution_count": 49,
     "metadata": {},
     "output_type": "execute_result"
    }
   ],
   "source": [
    "train_file_name"
   ]
  },
  {
   "cell_type": "code",
   "execution_count": null,
   "metadata": {},
   "outputs": [],
   "source": [
    "train_candidate_pl.filter(pl.col('rec_num')>0).collect().write_parquet(os.path.join(base_dir, candidate_dir,\n",
    "                                                        train_file_name)\n",
    "                                          )"
   ]
  },
  {
   "cell_type": "code",
   "execution_count": null,
   "metadata": {},
   "outputs": [],
   "source": []
  },
  {
   "cell_type": "code",
   "execution_count": null,
   "metadata": {},
   "outputs": [],
   "source": []
  },
  {
   "cell_type": "code",
   "execution_count": 51,
   "metadata": {},
   "outputs": [
    {
     "data": {
      "text/plain": [
       "'task1_eval_nfi_task1_v10_True_top100.parquet'"
      ]
     },
     "execution_count": 51,
     "metadata": {},
     "output_type": "execute_result"
    }
   ],
   "source": [
    "eval_file_name"
   ]
  },
  {
   "cell_type": "code",
   "execution_count": 52,
   "metadata": {},
   "outputs": [],
   "source": [
    "eval_candidate_pl.filter(pl.col('rec_num')>0).collect().write_parquet(os.path.join(base_dir, candidate_dir,\n",
    "                                                       eval_file_name))"
   ]
  },
  {
   "cell_type": "markdown",
   "metadata": {},
   "source": [
    "### test data "
   ]
  },
  {
   "cell_type": "code",
   "execution_count": 53,
   "metadata": {},
   "outputs": [
    {
     "data": {
      "text/plain": [
       "'../data/candidates/task1_test_nfi_task1_v10_True_top100.parquet'"
      ]
     },
     "execution_count": 53,
     "metadata": {},
     "output_type": "execute_result"
    }
   ],
   "source": [
    "test_cg_file = os.path.join(base_dir, candidate_dir, \n",
    "                                                       test_file_name)\n",
    "\n",
    "test_cg_file"
   ]
  },
  {
   "cell_type": "code",
   "execution_count": 54,
   "metadata": {},
   "outputs": [],
   "source": [
    "test_candidate_pl = nic_rec(target_pl=test_pl, nic_model=next_items_pl)#.head().collect()"
   ]
  },
  {
   "cell_type": "code",
   "execution_count": 55,
   "metadata": {},
   "outputs": [],
   "source": [
    "test_candidate_pl.filter(pl.col('rec_num')>0).collect().write_parquet(test_cg_file)"
   ]
  },
  {
   "cell_type": "code",
   "execution_count": 56,
   "metadata": {},
   "outputs": [],
   "source": [
    "# test_candidate_pl.collect().shape"
   ]
  },
  {
   "cell_type": "code",
   "execution_count": 57,
   "metadata": {},
   "outputs": [],
   "source": [
    "# test_candidate_pl.tail().collect()"
   ]
  },
  {
   "cell_type": "code",
   "execution_count": 58,
   "metadata": {},
   "outputs": [],
   "source": [
    "# ! ls ../data/candidates/ | grep task2"
   ]
  },
  {
   "cell_type": "markdown",
   "metadata": {
    "tags": []
   },
   "source": [
    "### test4task3 "
   ]
  },
  {
   "cell_type": "code",
   "execution_count": 59,
   "metadata": {},
   "outputs": [],
   "source": [
    "test2task3_cg_file = os.path.join(base_dir, candidate_dir, \n",
    "                                                       test4task3_file_name)\n",
    "\n",
    "test2task3_cg_file\n",
    "test4task3_candidate_pl = nic_rec(target_pl=test4task3_pl, nic_model=next_items_pl)#.head().collect()\n",
    "test4task3_candidate_pl.filter(pl.col('rec_num')>0).collect().write_parquet(test2task3_cg_file)"
   ]
  },
  {
   "cell_type": "code",
   "execution_count": null,
   "metadata": {},
   "outputs": [],
   "source": []
  },
  {
   "cell_type": "code",
   "execution_count": null,
   "metadata": {},
   "outputs": [],
   "source": []
  },
  {
   "cell_type": "code",
   "execution_count": 60,
   "metadata": {},
   "outputs": [
    {
     "name": "stdout",
     "output_type": "stream",
     "text": [
      "task1_test4task3_co_visit_True_top300.parquet\n",
      "task1_test4task3_next_few_items_v1_True_top100.parquet\n",
      "task1_test4task3_nfi_task1_v10_True_top100.parquet\n",
      "task1_test4task3_nic_True_top100.parquet\n",
      "task1_test4task3_w2v_task1_v10_True_top100.parquet\n",
      "task1_test4task3_w2v_v3_True_top200.parquet\n",
      "task2_test4task3_co_visit_task2_True_top300.parquet\n",
      "task2_test4task3_co_visit_task2_v2_True_top300.parquet\n",
      "task2_test4task3_nfi_task2_True_top100.parquet\n",
      "task2_test4task3_nfi_task2_v2_True_top100.parquet\n",
      "task2_test4task3_nic_task2_True_top100.parquet\n",
      "task2_test4task3_nic_task2_v2_True_top100.parquet\n",
      "task2_test4task3_w2v_task2_True_top200.parquet\n",
      "task2_test4task3_w2v_task2_v2_True_top100.parquet\n"
     ]
    }
   ],
   "source": [
    "! ls ../data/candidates/ | grep test4task"
   ]
  },
  {
   "cell_type": "code",
   "execution_count": null,
   "metadata": {},
   "outputs": [],
   "source": []
  },
  {
   "cell_type": "markdown",
   "metadata": {},
   "source": [
    "## Save inference result"
   ]
  },
  {
   "cell_type": "code",
   "execution_count": 159,
   "metadata": {},
   "outputs": [],
   "source": [
    "predictions = test_pl.join(test_candidate_pl, how='left', on='session_id').collect()[['locale', 'next_item_prediction']].to_pandas()"
   ]
  },
  {
   "cell_type": "code",
   "execution_count": 160,
   "metadata": {},
   "outputs": [
    {
     "data": {
      "text/plain": [
       "'../data/sub_files/submission_task2_nfi_task2_True_for_eval.parquet'"
      ]
     },
     "execution_count": 160,
     "metadata": {},
     "output_type": "execute_result"
    }
   ],
   "source": [
    "submit_file"
   ]
  },
  {
   "cell_type": "code",
   "execution_count": 161,
   "metadata": {},
   "outputs": [
    {
     "data": {
      "text/plain": [
       "(34691, 3)"
      ]
     },
     "execution_count": 161,
     "metadata": {},
     "output_type": "execute_result"
    }
   ],
   "source": [
    "test_candidate_pl.collect().shape"
   ]
  },
  {
   "cell_type": "code",
   "execution_count": 162,
   "metadata": {},
   "outputs": [
    {
     "data": {
      "text/plain": [
       "(34691, 2)"
      ]
     },
     "execution_count": 162,
     "metadata": {},
     "output_type": "execute_result"
    }
   ],
   "source": [
    "predictions.shape"
   ]
  },
  {
   "cell_type": "code",
   "execution_count": 163,
   "metadata": {},
   "outputs": [
    {
     "data": {
      "text/plain": [
       "locale\n",
       "IT    13992\n",
       "FR    12521\n",
       "ES     8177\n",
       "Name: count, dtype: int64"
      ]
     },
     "execution_count": 163,
     "metadata": {},
     "output_type": "execute_result"
    }
   ],
   "source": [
    "predictions['locale'].value_counts()"
   ]
  },
  {
   "cell_type": "code",
   "execution_count": null,
   "metadata": {},
   "outputs": [],
   "source": []
  },
  {
   "cell_type": "code",
   "execution_count": 164,
   "metadata": {},
   "outputs": [],
   "source": [
    "# predictions.select('locale').collect().to_series().value_counts()"
   ]
  },
  {
   "cell_type": "code",
   "execution_count": 165,
   "metadata": {},
   "outputs": [
    {
     "data": {
      "text/html": [
       "<div><style>\n",
       ".dataframe > thead > tr > th,\n",
       ".dataframe > tbody > tr > td {\n",
       "  text-align: right;\n",
       "}\n",
       "</style>\n",
       "<small>shape: (5, 3)</small><table border=\"1\" class=\"dataframe\"><thead><tr><th>prev_items</th><th>locale</th><th>session_id</th></tr><tr><td>list[str]</td><td>str</td><td>i64</td></tr></thead><tbody><tr><td>[&quot;B07GTS7SWK&quot;, &quot;B07GTS7SWK&quot;]</td><td>&quot;ES&quot;</td><td>4331306</td></tr><tr><td>[&quot;B0B33YWVHR&quot;, &quot;849988993X&quot;, … &quot;B09K7TDY1H&quot;]</td><td>&quot;ES&quot;</td><td>4331307</td></tr><tr><td>[&quot;B08FMPXDTJ&quot;, &quot;B0B4612MTM&quot;, … &quot;B0B45YR21M&quot;]</td><td>&quot;ES&quot;</td><td>4331308</td></tr><tr><td>[&quot;B07R3W4XQ7&quot;, &quot;B07R3FB5B5&quot;]</td><td>&quot;ES&quot;</td><td>4331309</td></tr><tr><td>[&quot;B09V4KBWPL&quot;, &quot;B09G9FTLPB&quot;]</td><td>&quot;ES&quot;</td><td>4331310</td></tr></tbody></table></div>"
      ],
      "text/plain": [
       "shape: (5, 3)\n",
       "┌───────────────────────────────────┬────────┬────────────┐\n",
       "│ prev_items                        ┆ locale ┆ session_id │\n",
       "│ ---                               ┆ ---    ┆ ---        │\n",
       "│ list[str]                         ┆ str    ┆ i64        │\n",
       "╞═══════════════════════════════════╪════════╪════════════╡\n",
       "│ [\"B07GTS7SWK\", \"B07GTS7SWK\"]      ┆ ES     ┆ 4331306    │\n",
       "│ [\"B0B33YWVHR\", \"849988993X\", … \"… ┆ ES     ┆ 4331307    │\n",
       "│ [\"B08FMPXDTJ\", \"B0B4612MTM\", … \"… ┆ ES     ┆ 4331308    │\n",
       "│ [\"B07R3W4XQ7\", \"B07R3FB5B5\"]      ┆ ES     ┆ 4331309    │\n",
       "│ [\"B09V4KBWPL\", \"B09G9FTLPB\"]      ┆ ES     ┆ 4331310    │\n",
       "└───────────────────────────────────┴────────┴────────────┘"
      ]
     },
     "execution_count": 165,
     "metadata": {},
     "output_type": "execute_result"
    }
   ],
   "source": [
    "test_pl.collect().head()"
   ]
  },
  {
   "cell_type": "code",
   "execution_count": 166,
   "metadata": {},
   "outputs": [
    {
     "data": {
      "text/html": [
       "<div>\n",
       "<style scoped>\n",
       "    .dataframe tbody tr th:only-of-type {\n",
       "        vertical-align: middle;\n",
       "    }\n",
       "\n",
       "    .dataframe tbody tr th {\n",
       "        vertical-align: top;\n",
       "    }\n",
       "\n",
       "    .dataframe thead th {\n",
       "        text-align: right;\n",
       "    }\n",
       "</style>\n",
       "<table border=\"1\" class=\"dataframe\">\n",
       "  <thead>\n",
       "    <tr style=\"text-align: right;\">\n",
       "      <th></th>\n",
       "      <th>locale</th>\n",
       "      <th>next_item_prediction</th>\n",
       "    </tr>\n",
       "  </thead>\n",
       "  <tbody>\n",
       "    <tr>\n",
       "      <th>0</th>\n",
       "      <td>ES</td>\n",
       "      <td>[B07GTS7SWK, B0745795KF, B074581R8Y, B074574XP...</td>\n",
       "    </tr>\n",
       "    <tr>\n",
       "      <th>1</th>\n",
       "      <td>ES</td>\n",
       "      <td>[B09M8LNB61, B09K7TDY1H, B09J4T4JF5, B09NT33LZ...</td>\n",
       "    </tr>\n",
       "    <tr>\n",
       "      <th>2</th>\n",
       "      <td>ES</td>\n",
       "      <td>[B0B4612MTM, B0B461V1RB, B0B4614XL6, B0B461KYQ...</td>\n",
       "    </tr>\n",
       "    <tr>\n",
       "      <th>3</th>\n",
       "      <td>ES</td>\n",
       "      <td>[B07R4VG9X3, B07R3W4XQ7, B07R4WKSSV, B07R3FB5B...</td>\n",
       "    </tr>\n",
       "    <tr>\n",
       "      <th>4</th>\n",
       "      <td>ES</td>\n",
       "      <td>[B09G9LF91K, B09G97SLGS, B09G99D95Q, B09G9DMQ7...</td>\n",
       "    </tr>\n",
       "  </tbody>\n",
       "</table>\n",
       "</div>"
      ],
      "text/plain": [
       "  locale                               next_item_prediction\n",
       "0     ES  [B07GTS7SWK, B0745795KF, B074581R8Y, B074574XP...\n",
       "1     ES  [B09M8LNB61, B09K7TDY1H, B09J4T4JF5, B09NT33LZ...\n",
       "2     ES  [B0B4612MTM, B0B461V1RB, B0B4614XL6, B0B461KYQ...\n",
       "3     ES  [B07R4VG9X3, B07R3W4XQ7, B07R4WKSSV, B07R3FB5B...\n",
       "4     ES  [B09G9LF91K, B09G97SLGS, B09G99D95Q, B09G9DMQ7..."
      ]
     },
     "execution_count": 166,
     "metadata": {},
     "output_type": "execute_result"
    }
   ],
   "source": [
    "predictions.head()"
   ]
  },
  {
   "cell_type": "code",
   "execution_count": 167,
   "metadata": {},
   "outputs": [],
   "source": [
    "check_predictions(predictions, test_sessions=test_pl.collect().to_pandas(), \n",
    "                  # check_products=True, product_df=products\n",
    "                 )\n",
    "# Its important that the parquet file you submit is saved with pyarrow backend\n"
   ]
  },
  {
   "cell_type": "code",
   "execution_count": 168,
   "metadata": {},
   "outputs": [
    {
     "data": {
      "text/plain": [
       "'../data/sub_files/submission_task2_nfi_task2_True_for_eval.parquet'"
      ]
     },
     "execution_count": 168,
     "metadata": {},
     "output_type": "execute_result"
    }
   ],
   "source": [
    "submit_file"
   ]
  },
  {
   "cell_type": "code",
   "execution_count": 169,
   "metadata": {},
   "outputs": [],
   "source": [
    "predictions.to_parquet(submit_file, engine='pyarrow')"
   ]
  },
  {
   "cell_type": "code",
   "execution_count": 170,
   "metadata": {},
   "outputs": [
    {
     "data": {
      "text/plain": [
       "'../data/sub_files/submission_task2_nfi_task2_True_for_eval.parquet'"
      ]
     },
     "execution_count": 170,
     "metadata": {},
     "output_type": "execute_result"
    }
   ],
   "source": [
    "submit_file"
   ]
  },
  {
   "cell_type": "code",
   "execution_count": 171,
   "metadata": {},
   "outputs": [
    {
     "name": "stdout",
     "output_type": "stream",
     "text": [
      "\u001b[?25l\u001b[1;34msubmission_task2_nfi_task2_True_for_eval.parquet\u001b[0m \u001b[90m━━━━━\u001b[0m \u001b[35m0.0%\u001b[0m • \u001b[32m0.0/…\u001b[0m • \u001b[31m?\u001b[0m • \u001b[36m-:--:…\u001b[0m\n",
      "\u001b[2K\u001b[1A\u001b[2K\u001b[1;34msubmission_task2_nfi_task2_True_for_eval.parquet\u001b[0m \u001b[90m━━━━━\u001b[0m \u001b[35m0.0%\u001b[0m • \u001b[32m0.0/…\u001b[0m • \u001b[31m?\u001b[0m • \u001b[36m-:--:…\u001b[0m\n",
      "\u001b[2K\u001b[1A\u001b[2K\u001b[1;34msubmission_task2_nfi_task2_True_for_eval.parquet\u001b[0m \u001b[90m━━━━━\u001b[0m \u001b[35m0.0%\u001b[0m • \u001b[32m0.0/…\u001b[0m • \u001b[31m?\u001b[0m • \u001b[36m-:--:…\u001b[0m\n",
      "\u001b[2K\u001b[1A\u001b[2K\u001b[1;34msubmission_task2_nfi_task2_True_for_eval.parquet\u001b[0m \u001b[90m━━━━━\u001b[0m \u001b[35m0.0%\u001b[0m • \u001b[32m0.0/…\u001b[0m • \u001b[31m?\u001b[0m • \u001b[36m-:--:…\u001b[0m\n",
      "\u001b[2K\u001b[1A\u001b[2K\u001b[1;34msubmission_task2_nfi_task2_True_for_eval.parquet\u001b[0m \u001b[90m━━━━━\u001b[0m \u001b[35m0.0%\u001b[0m • \u001b[32m0.0/…\u001b[0m • \u001b[31m?\u001b[0m • \u001b[36m-:--:…\u001b[0m\n",
      "\u001b[2K\u001b[1A\u001b[2K\u001b[1;34msubmission_task2_nfi_task2_True_for_eval.parquet\u001b[0m \u001b[90m━━━━━\u001b[0m \u001b[35m0.3%\u001b[0m • \u001b[32m0.0/…\u001b[0m • \u001b[31m?\u001b[0m • \u001b[36m-:--:…\u001b[0m\n",
      "\u001b[2K\u001b[1A\u001b[2K\u001b[1;34msubmission_task2_nfi_task2_True_for_eval.parquet\u001b[0m \u001b[90m━━━━\u001b[0m \u001b[35m0.5%\u001b[0m • \u001b[32m0.0…\u001b[0m • \u001b[31m2.3 \u001b[0m • \u001b[36m0:00…\u001b[0m\n",
      "\u001b[2K\u001b[1A\u001b[2K\u001b[1;34msubmission_task2_nfi_task2_True_for_eval.parquet\u001b[0m \u001b[90m━━━━\u001b[0m \u001b[35m0.8%\u001b[0m • \u001b[32m0.0…\u001b[0m • \u001b[31m2.5 \u001b[0m • \u001b[36m0:00…\u001b[0m\n",
      "\u001b[2K\u001b[1A\u001b[2K\u001b[1;34msubmission_task2_nfi_task2_True_for_eval.parquet\u001b[0m \u001b[90m━━━━\u001b[0m \u001b[35m1.0%\u001b[0m • \u001b[32m0.0…\u001b[0m • \u001b[31m2.6 \u001b[0m • \u001b[36m0:00…\u001b[0m\n",
      "\u001b[2K\u001b[1A\u001b[2K\u001b[1;34msubmission_task2_nfi_task2_True_for_eval.parquet\u001b[0m \u001b[90m━━━━\u001b[0m \u001b[35m1.3%\u001b[0m • \u001b[32m0.0…\u001b[0m • \u001b[31m2.7 \u001b[0m • \u001b[36m0:00…\u001b[0m\n",
      "\u001b[2K\u001b[1A\u001b[2K\u001b[1;34msubmission_task2_nfi_task2_True_for_eval.parquet\u001b[0m \u001b[90m━━━━\u001b[0m \u001b[35m1.5%\u001b[0m • \u001b[32m0.0…\u001b[0m • \u001b[31m2.7 \u001b[0m • \u001b[36m0:00…\u001b[0m\n",
      "\u001b[2K\u001b[1A\u001b[2K\u001b[1;34msubmission_task2_nfi_task2_True_for_eval.parquet\u001b[0m \u001b[90m━━━━\u001b[0m \u001b[35m1.5%\u001b[0m • \u001b[32m0.0…\u001b[0m • \u001b[31m2.7 \u001b[0m • \u001b[36m0:00…\u001b[0m\n",
      "\u001b[2K\u001b[1A\u001b[2K\u001b[1;34msubmission_task2_nfi_task2_True_for_eval.parquet\u001b[0m \u001b[90m━━━━\u001b[0m \u001b[35m1.5%\u001b[0m • \u001b[32m0.0…\u001b[0m • \u001b[31m2.7 \u001b[0m • \u001b[36m0:00…\u001b[0m\n",
      "\u001b[2K\u001b[1A\u001b[2K\u001b[1;34msubmission_task2_nfi_task2_True_for_eval.parquet\u001b[0m \u001b[90m━━━━\u001b[0m \u001b[35m1.8%\u001b[0m • \u001b[32m0.1…\u001b[0m • \u001b[31m333…\u001b[0m • \u001b[36m0:00…\u001b[0m\n",
      "\u001b[2K\u001b[1A\u001b[2K\u001b[1;34msubmission_task2_nfi_task2_True_for_eval.parquet\u001b[0m \u001b[90m━━━━\u001b[0m \u001b[35m2.1%\u001b[0m • \u001b[32m0.1…\u001b[0m • \u001b[31m380…\u001b[0m • \u001b[36m0:00…\u001b[0m\n",
      "\u001b[2K\u001b[1A\u001b[2K\u001b[1;34msubmission_task2_nfi_task2_True_for_eval.parquet\u001b[0m \u001b[90m━━━━\u001b[0m \u001b[35m2.3%\u001b[0m • \u001b[32m0.1…\u001b[0m • \u001b[31m426…\u001b[0m • \u001b[36m0:00…\u001b[0m\n",
      "\u001b[2K\u001b[1A\u001b[2K\u001b[1;34msubmission_task2_nfi_task2_True_for_eval.parquet\u001b[0m \u001b[90m━━━━\u001b[0m \u001b[35m2.6%\u001b[0m • \u001b[32m0.1…\u001b[0m • \u001b[31m471…\u001b[0m • \u001b[36m0:00…\u001b[0m\n",
      "\u001b[2K\u001b[1A\u001b[2K\u001b[1;34msubmission_task2_nfi_task2_True_for_eval.parquet\u001b[0m \u001b[90m━━━━\u001b[0m \u001b[35m2.8%\u001b[0m • \u001b[32m0.1…\u001b[0m • \u001b[31m514…\u001b[0m • \u001b[36m0:00…\u001b[0m\n",
      "\u001b[2K\u001b[1A\u001b[2K\u001b[1;34msubmission_task2_nfi_task2_True_for_eval.parquet\u001b[0m \u001b[90m━━━━\u001b[0m \u001b[35m3.1%\u001b[0m • \u001b[32m0.1…\u001b[0m • \u001b[31m556…\u001b[0m • \u001b[36m0:00…\u001b[0m\n",
      "\u001b[2K\u001b[1A\u001b[2K\u001b[1;34msubmission_task2_nfi_task2_True_for_eval.parquet\u001b[0m \u001b[90m━━━━\u001b[0m \u001b[35m3.3%\u001b[0m • \u001b[32m0.1…\u001b[0m • \u001b[31m596…\u001b[0m • \u001b[36m0:00…\u001b[0m\n",
      "\u001b[2K\u001b[1A\u001b[2K\u001b[1;34msubmission_task2_nfi_task2_True_for_eval.parquet\u001b[0m \u001b[90m━━━━\u001b[0m \u001b[35m3.3%\u001b[0m • \u001b[32m0.1…\u001b[0m • \u001b[31m596…\u001b[0m • \u001b[36m0:00…\u001b[0m\n",
      "\u001b[2K\u001b[1A\u001b[2K\u001b[1;34msubmission_task2_nfi_task2_True_for_eval.parquet\u001b[0m \u001b[90m━━━━\u001b[0m \u001b[35m3.6%\u001b[0m • \u001b[32m0.1…\u001b[0m • \u001b[31m365…\u001b[0m • \u001b[36m0:00…\u001b[0m\n",
      "\u001b[2K\u001b[1A\u001b[2K\u001b[1;34msubmission_task2_nfi_task2_True_for_eval.parquet\u001b[0m \u001b[90m━━━━\u001b[0m \u001b[35m3.9%\u001b[0m • \u001b[32m0.1…\u001b[0m • \u001b[31m389…\u001b[0m • \u001b[36m0:00…\u001b[0m\n",
      "\u001b[2K\u001b[1A\u001b[2K\u001b[1;34msubmission_task2_nfi_task2_True_for_eval.parquet\u001b[0m \u001b[90m━━━━\u001b[0m \u001b[35m4.1%\u001b[0m • \u001b[32m0.1…\u001b[0m • \u001b[31m413…\u001b[0m • \u001b[36m0:00…\u001b[0m\n",
      "\u001b[2K\u001b[1A\u001b[2K\u001b[1;34msubmission_task2_nfi_task2_True_for_eval.parquet\u001b[0m \u001b[90m━━━━\u001b[0m \u001b[35m4.4%\u001b[0m • \u001b[32m0.1…\u001b[0m • \u001b[31m436…\u001b[0m • \u001b[36m0:00…\u001b[0m\n",
      "\u001b[2K\u001b[1A\u001b[2K\u001b[1;34msubmission_task2_nfi_task2_True_for_eval.parquet\u001b[0m \u001b[90m━━━━\u001b[0m \u001b[35m4.6%\u001b[0m • \u001b[32m0.1…\u001b[0m • \u001b[31m459…\u001b[0m • \u001b[36m0:00…\u001b[0m\n",
      "\u001b[2K\u001b[1A\u001b[2K\u001b[1;34msubmission_task2_nfi_task2_True_for_eval.parquet\u001b[0m \u001b[90m━━━━\u001b[0m \u001b[35m4.9%\u001b[0m • \u001b[32m0.2…\u001b[0m • \u001b[31m482…\u001b[0m • \u001b[36m0:00…\u001b[0m\n",
      "\u001b[2K\u001b[1A\u001b[2K\u001b[1;34msubmission_task2_nfi_task2_True_for_eval.parquet\u001b[0m \u001b[90m━━━━\u001b[0m \u001b[35m5.1%\u001b[0m • \u001b[32m0.2…\u001b[0m • \u001b[31m504…\u001b[0m • \u001b[36m0:00…\u001b[0m\n",
      "\u001b[2K\u001b[1A\u001b[2K\u001b[1;34msubmission_task2_nfi_task2_True_for_eval.parquet\u001b[0m \u001b[90m━━━━\u001b[0m \u001b[35m5.4%\u001b[0m • \u001b[32m0.2…\u001b[0m • \u001b[31m526…\u001b[0m • \u001b[36m0:00…\u001b[0m\n",
      "\u001b[2K\u001b[1A\u001b[2K\u001b[1;34msubmission_task2_nfi_task2_True_for_eval.parquet\u001b[0m \u001b[90m━━━━\u001b[0m \u001b[35m5.7%\u001b[0m • \u001b[32m0.2…\u001b[0m • \u001b[31m548…\u001b[0m • \u001b[36m0:00…\u001b[0m\n",
      "\u001b[2K\u001b[1A\u001b[2K\u001b[1;34msubmission_task2_nfi_task2_True_for_eval.parquet\u001b[0m \u001b[90m━━━━\u001b[0m \u001b[35m5.7%\u001b[0m • \u001b[32m0.2…\u001b[0m • \u001b[31m548…\u001b[0m • \u001b[36m0:00…\u001b[0m\n",
      "\u001b[2K\u001b[1A\u001b[2K\u001b[1;34msubmission_task2_nfi_task2_True_for_eval.parquet\u001b[0m \u001b[90m━━━━\u001b[0m \u001b[35m5.7%\u001b[0m • \u001b[32m0.2…\u001b[0m • \u001b[31m548…\u001b[0m • \u001b[36m0:00…\u001b[0m\n",
      "\u001b[2K\u001b[1A\u001b[2K\u001b[1;34msubmission_task2_nfi_task2_True_for_eval.parquet\u001b[0m \u001b[90m━━━━\u001b[0m \u001b[35m5.9%\u001b[0m • \u001b[32m0.2…\u001b[0m • \u001b[31m414…\u001b[0m • \u001b[36m0:00…\u001b[0m\n",
      "\u001b[2K\u001b[1A\u001b[2K\u001b[1;34msubmission_task2_nfi_task2_True_for_eval.parquet\u001b[0m \u001b[90m━━━━\u001b[0m \u001b[35m6.2%\u001b[0m • \u001b[32m0.2…\u001b[0m • \u001b[31m430…\u001b[0m • \u001b[36m0:00…\u001b[0m\n",
      "\u001b[2K\u001b[1A\u001b[2K\u001b[1;34msubmission_task2_nfi_task2_True_for_eval.parquet\u001b[0m \u001b[90m━━━━\u001b[0m \u001b[35m6.4%\u001b[0m • \u001b[32m0.2…\u001b[0m • \u001b[31m446…\u001b[0m • \u001b[36m0:00…\u001b[0m\n",
      "\u001b[2K\u001b[1A\u001b[2K\u001b[1;34msubmission_task2_nfi_task2_True_for_eval.parquet\u001b[0m \u001b[90m━━━━\u001b[0m \u001b[35m6.7%\u001b[0m • \u001b[32m0.2…\u001b[0m • \u001b[31m461…\u001b[0m • \u001b[36m0:00…\u001b[0m\n",
      "\u001b[2K\u001b[1A\u001b[2K\u001b[1;34msubmission_task2_nfi_task2_True_for_eval.parquet\u001b[0m \u001b[90m━━━━\u001b[0m \u001b[35m6.9%\u001b[0m • \u001b[32m0.2…\u001b[0m • \u001b[31m477…\u001b[0m • \u001b[36m0:00…\u001b[0m\n",
      "\u001b[2K\u001b[1A\u001b[2K\u001b[1;34msubmission_task2_nfi_task2_True_for_eval.parquet\u001b[0m \u001b[90m━━━━\u001b[0m \u001b[35m7.2%\u001b[0m • \u001b[32m0.2…\u001b[0m • \u001b[31m492…\u001b[0m • \u001b[36m0:00…\u001b[0m\n",
      "\u001b[2K\u001b[1A\u001b[2K\u001b[1;34msubmission_task2_nfi_task2_True_for_eval.parquet\u001b[0m \u001b[90m━━━━\u001b[0m \u001b[35m7.5%\u001b[0m • \u001b[32m0.2…\u001b[0m • \u001b[31m507…\u001b[0m • \u001b[36m0:00…\u001b[0m\n",
      "\u001b[2K\u001b[1A\u001b[2K\u001b[1;34msubmission_task2_nfi_task2_True_for_eval.parquet\u001b[0m \u001b[90m━━━━\u001b[0m \u001b[35m7.7%\u001b[0m • \u001b[32m0.2…\u001b[0m • \u001b[31m522…\u001b[0m • \u001b[36m0:00…\u001b[0m\n",
      "\u001b[2K\u001b[1A\u001b[2K\u001b[1;34msubmission_task2_nfi_task2_True_for_eval.parquet\u001b[0m \u001b[90m━━━━\u001b[0m \u001b[35m8.0%\u001b[0m • \u001b[32m0.3…\u001b[0m • \u001b[31m537…\u001b[0m • \u001b[36m0:00…\u001b[0m\n",
      "\u001b[2K\u001b[1A\u001b[2K\u001b[1;34msubmission_task2_nfi_task2_True_for_eval.parquet\u001b[0m \u001b[90m━━━━\u001b[0m \u001b[35m8.2%\u001b[0m • \u001b[32m0.3…\u001b[0m • \u001b[31m551…\u001b[0m • \u001b[36m0:00…\u001b[0m\n",
      "\u001b[2K\u001b[1A\u001b[2K\u001b[1;34msubmission_task2_nfi_task2_True_for_eval.parquet\u001b[0m \u001b[90m━━━━\u001b[0m \u001b[35m8.5%\u001b[0m • \u001b[32m0.3…\u001b[0m • \u001b[31m566…\u001b[0m • \u001b[36m0:00…\u001b[0m\n",
      "\u001b[2K\u001b[1A\u001b[2K\u001b[1;34msubmission_task2_nfi_task2_True_for_eval.parquet\u001b[0m \u001b[90m━━━━\u001b[0m \u001b[35m8.7%\u001b[0m • \u001b[32m0.3…\u001b[0m • \u001b[31m580…\u001b[0m • \u001b[36m0:00…\u001b[0m\n",
      "\u001b[2K\u001b[1A\u001b[2K\u001b[1;34msubmission_task2_nfi_task2_True_for_eval.parquet\u001b[0m \u001b[90m━━━━\u001b[0m \u001b[35m9.0%\u001b[0m • \u001b[32m0.3…\u001b[0m • \u001b[31m594…\u001b[0m • \u001b[36m0:00…\u001b[0m\n",
      "\u001b[2K\u001b[1A\u001b[2K\u001b[1;34msubmission_task2_nfi_task2_True_for_eval.parquet\u001b[0m \u001b[90m━━━━\u001b[0m \u001b[35m9.3%\u001b[0m • \u001b[32m0.3…\u001b[0m • \u001b[31m608…\u001b[0m • \u001b[36m0:00…\u001b[0m\n",
      "\u001b[2K\u001b[1A\u001b[2K\u001b[1;34msubmission_task2_nfi_task2_True_for_eval.parquet\u001b[0m \u001b[90m━━━━\u001b[0m \u001b[35m9.5%\u001b[0m • \u001b[32m0.3…\u001b[0m • \u001b[31m622…\u001b[0m • \u001b[36m0:00…\u001b[0m\n",
      "\u001b[2K\u001b[1A\u001b[2K\u001b[1;34msubmission_task2_nfi_task2_True_for_eval.parquet\u001b[0m \u001b[90m━━━━\u001b[0m \u001b[35m9.8%\u001b[0m • \u001b[32m0.3…\u001b[0m • \u001b[31m635…\u001b[0m • \u001b[36m0:00…\u001b[0m\n",
      "\u001b[2K\u001b[1A\u001b[2K\u001b[1;34msubmission_task2_nfi_task2_True_for_eval.parquet\u001b[0m \u001b[90m━━━━\u001b[0m \u001b[35m9.8%\u001b[0m • \u001b[32m0.3…\u001b[0m • \u001b[31m635…\u001b[0m • \u001b[36m0:00…\u001b[0m\n",
      "\u001b[2K\u001b[1A\u001b[2K\u001b[1;34msubmission_task2_nfi_task2_True_for_eval.parquet\u001b[0m \u001b[90m━━━━\u001b[0m \u001b[35m10.0%\u001b[0m • \u001b[32m0.3…\u001b[0m • \u001b[31m538…\u001b[0m • \u001b[36m0:0…\u001b[0m\n",
      "\u001b[2K\u001b[1A\u001b[2K\u001b[1;34msubmission_task2_nfi_task2_True_for_eval.parquet\u001b[0m \u001b[90m━━━━\u001b[0m \u001b[35m10.3%\u001b[0m • \u001b[32m0.3…\u001b[0m • \u001b[31m549…\u001b[0m • \u001b[36m0:0…\u001b[0m\n",
      "\u001b[2K\u001b[1A\u001b[2K\u001b[1;34msubmission_task2_nfi_task2_True_for_eval.parquet\u001b[0m \u001b[90m━━━━\u001b[0m \u001b[35m10.5%\u001b[0m • \u001b[32m0.3…\u001b[0m • \u001b[31m560…\u001b[0m • \u001b[36m0:0…\u001b[0m\n",
      "\u001b[2K\u001b[1A\u001b[2K\u001b[1;34msubmission_task2_nfi_task2_True_for_eval.parquet\u001b[0m \u001b[90m━━━━\u001b[0m \u001b[35m10.8%\u001b[0m • \u001b[32m0.3…\u001b[0m • \u001b[31m570…\u001b[0m • \u001b[36m0:0…\u001b[0m\n",
      "\u001b[2K\u001b[1A\u001b[2K\u001b[1;34msubmission_task2_nfi_task2_True_for_eval.parquet\u001b[0m \u001b[90m━━━━\u001b[0m \u001b[35m11.1%\u001b[0m • \u001b[32m0.4…\u001b[0m • \u001b[31m581…\u001b[0m • \u001b[36m0:0…\u001b[0m\n",
      "\u001b[2K\u001b[1A\u001b[2K\u001b[1;34msubmission_task2_nfi_task2_True_for_eval.parquet\u001b[0m \u001b[90m━━━━\u001b[0m \u001b[35m11.3%\u001b[0m • \u001b[32m0.4…\u001b[0m • \u001b[31m592…\u001b[0m • \u001b[36m0:0…\u001b[0m\n",
      "\u001b[2K\u001b[1A\u001b[2K\u001b[1;34msubmission_task2_nfi_task2_True_for_eval.parquet\u001b[0m \u001b[90m━━━━\u001b[0m \u001b[35m11.6%\u001b[0m • \u001b[32m0.4…\u001b[0m • \u001b[31m603…\u001b[0m • \u001b[36m0:0…\u001b[0m\n",
      "\u001b[2K\u001b[1A\u001b[2K\u001b[1;34msubmission_task2_nfi_task2_True_for_eval.parquet\u001b[0m \u001b[90m━━━━\u001b[0m \u001b[35m11.8%\u001b[0m • \u001b[32m0.4…\u001b[0m • \u001b[31m614…\u001b[0m • \u001b[36m0:0…\u001b[0m\n",
      "\u001b[2K\u001b[1A\u001b[2K\u001b[1;34msubmission_task2_nfi_task2_True_for_eval.parquet\u001b[0m \u001b[90m━━━━\u001b[0m \u001b[35m12.1%\u001b[0m • \u001b[32m0.4…\u001b[0m • \u001b[31m624…\u001b[0m • \u001b[36m0:0…\u001b[0m\n",
      "\u001b[2K\u001b[1A\u001b[2K\u001b[1;34msubmission_task2_nfi_task2_True_for_eval.parquet\u001b[0m \u001b[90m━━━━\u001b[0m \u001b[35m12.3%\u001b[0m • \u001b[32m0.4…\u001b[0m • \u001b[31m635…\u001b[0m • \u001b[36m0:0…\u001b[0m\n",
      "\u001b[2K\u001b[1A\u001b[2K\u001b[1;34msubmission_task2_nfi_task2_True_for_eval.parquet\u001b[0m \u001b[91m╸\u001b[0m\u001b[90m━━━\u001b[0m \u001b[35m12.6%\u001b[0m • \u001b[32m0.4…\u001b[0m • \u001b[31m645…\u001b[0m • \u001b[36m0:0…\u001b[0m\n",
      "\u001b[2K\u001b[1A\u001b[2K\u001b[1;34msubmission_task2_nfi_task2_True_for_eval.parquet\u001b[0m \u001b[91m╸\u001b[0m\u001b[90m━━━\u001b[0m \u001b[35m12.9%\u001b[0m • \u001b[32m0.4…\u001b[0m • \u001b[31m655…\u001b[0m • \u001b[36m0:0…\u001b[0m\n",
      "\u001b[2K\u001b[1A\u001b[2K\u001b[1;34msubmission_task2_nfi_task2_True_for_eval.parquet\u001b[0m \u001b[91m╸\u001b[0m\u001b[90m━━━\u001b[0m \u001b[35m13.1%\u001b[0m • \u001b[32m0.4…\u001b[0m • \u001b[31m666…\u001b[0m • \u001b[36m0:0…\u001b[0m\n",
      "\u001b[2K\u001b[1A\u001b[2K\u001b[1;34msubmission_task2_nfi_task2_True_for_eval.parquet\u001b[0m \u001b[91m╸\u001b[0m\u001b[90m━━━\u001b[0m \u001b[35m13.4%\u001b[0m • \u001b[32m0.4…\u001b[0m • \u001b[31m676…\u001b[0m • \u001b[36m0:0…\u001b[0m\n",
      "\u001b[2K\u001b[1A\u001b[2K\u001b[1;34msubmission_task2_nfi_task2_True_for_eval.parquet\u001b[0m \u001b[91m╸\u001b[0m\u001b[90m━━━\u001b[0m \u001b[35m13.6%\u001b[0m • \u001b[32m0.4…\u001b[0m • \u001b[31m686…\u001b[0m • \u001b[36m0:0…\u001b[0m\n",
      "\u001b[2K\u001b[1A\u001b[2K\u001b[1;34msubmission_task2_nfi_task2_True_for_eval.parquet\u001b[0m \u001b[91m╸\u001b[0m\u001b[90m━━━\u001b[0m \u001b[35m13.9%\u001b[0m • \u001b[32m0.4…\u001b[0m • \u001b[31m696…\u001b[0m • \u001b[36m0:0…\u001b[0m\n",
      "\u001b[2K\u001b[1A\u001b[2K\u001b[1;34msubmission_task2_nfi_task2_True_for_eval.parquet\u001b[0m \u001b[91m╸\u001b[0m\u001b[90m━━━\u001b[0m \u001b[35m14.1%\u001b[0m • \u001b[32m0.5…\u001b[0m • \u001b[31m706…\u001b[0m • \u001b[36m0:0…\u001b[0m\n",
      "\u001b[2K\u001b[1A\u001b[2K\u001b[1;34msubmission_task2_nfi_task2_True_for_eval.parquet\u001b[0m \u001b[91m╸\u001b[0m\u001b[90m━━━\u001b[0m \u001b[35m14.4%\u001b[0m • \u001b[32m0.5…\u001b[0m • \u001b[31m716…\u001b[0m • \u001b[36m0:0…\u001b[0m\n",
      "\u001b[2K\u001b[1A\u001b[2K\u001b[1;34msubmission_task2_nfi_task2_True_for_eval.parquet\u001b[0m \u001b[91m╸\u001b[0m\u001b[90m━━━\u001b[0m \u001b[35m14.7%\u001b[0m • \u001b[32m0.5…\u001b[0m • \u001b[31m725…\u001b[0m • \u001b[36m0:0…\u001b[0m\n",
      "\u001b[2K\u001b[1A\u001b[2K\u001b[1;34msubmission_task2_nfi_task2_True_for_eval.parquet\u001b[0m \u001b[91m╸\u001b[0m\u001b[90m━━━\u001b[0m \u001b[35m14.9%\u001b[0m • \u001b[32m0.5…\u001b[0m • \u001b[31m735…\u001b[0m • \u001b[36m0:0…\u001b[0m\n",
      "\u001b[2K\u001b[1A\u001b[2K\u001b[1;34msubmission_task2_nfi_task2_True_for_eval.parquet\u001b[0m \u001b[91m╸\u001b[0m\u001b[90m━━━\u001b[0m \u001b[35m14.9%\u001b[0m • \u001b[32m0.5…\u001b[0m • \u001b[31m735…\u001b[0m • \u001b[36m0:0…\u001b[0m\n",
      "\u001b[2K\u001b[1A\u001b[2K\u001b[1;34msubmission_task2_nfi_task2_True_for_eval.parquet\u001b[0m \u001b[91m╸\u001b[0m\u001b[90m━━━\u001b[0m \u001b[35m15.2%\u001b[0m • \u001b[32m0.5…\u001b[0m • \u001b[31m741…\u001b[0m • \u001b[36m0:0…\u001b[0m\n",
      "\u001b[2K\u001b[1A\u001b[2K\u001b[1;34msubmission_task2_nfi_task2_True_for_eval.parquet\u001b[0m \u001b[91m╸\u001b[0m\u001b[90m━━━\u001b[0m \u001b[35m15.4%\u001b[0m • \u001b[32m0.5…\u001b[0m • \u001b[31m750…\u001b[0m • \u001b[36m0:0…\u001b[0m\n",
      "\u001b[2K\u001b[1A\u001b[2K\u001b[1;34msubmission_task2_nfi_task2_True_for_eval.parquet\u001b[0m \u001b[91m╸\u001b[0m\u001b[90m━━━\u001b[0m \u001b[35m15.7%\u001b[0m • \u001b[32m0.5…\u001b[0m • \u001b[31m759…\u001b[0m • \u001b[36m0:0…\u001b[0m\n",
      "\u001b[2K\u001b[1A\u001b[2K\u001b[1;34msubmission_task2_nfi_task2_True_for_eval.parquet\u001b[0m \u001b[91m╸\u001b[0m\u001b[90m━━━\u001b[0m \u001b[35m15.9%\u001b[0m • \u001b[32m0.5…\u001b[0m • \u001b[31m769…\u001b[0m • \u001b[36m0:0…\u001b[0m\n",
      "\u001b[2K\u001b[1A\u001b[2K\u001b[1;34msubmission_task2_nfi_task2_True_for_eval.parquet\u001b[0m \u001b[91m╸\u001b[0m\u001b[90m━━━\u001b[0m \u001b[35m16.2%\u001b[0m • \u001b[32m0.5…\u001b[0m • \u001b[31m778…\u001b[0m • \u001b[36m0:0…\u001b[0m\n",
      "\u001b[2K\u001b[1A\u001b[2K\u001b[1;34msubmission_task2_nfi_task2_True_for_eval.parquet\u001b[0m \u001b[91m╸\u001b[0m\u001b[90m━━━\u001b[0m \u001b[35m16.5%\u001b[0m • \u001b[32m0.5…\u001b[0m • \u001b[31m787…\u001b[0m • \u001b[36m0:0…\u001b[0m\n",
      "\u001b[2K\u001b[1A\u001b[2K\u001b[1;34msubmission_task2_nfi_task2_True_for_eval.parquet\u001b[0m \u001b[91m╸\u001b[0m\u001b[90m━━━\u001b[0m \u001b[35m16.7%\u001b[0m • \u001b[32m0.5…\u001b[0m • \u001b[31m796…\u001b[0m • \u001b[36m0:0…\u001b[0m\n",
      "\u001b[2K\u001b[1A\u001b[2K\u001b[1;34msubmission_task2_nfi_task2_True_for_eval.parquet\u001b[0m \u001b[91m╸\u001b[0m\u001b[90m━━━\u001b[0m \u001b[35m17.0%\u001b[0m • \u001b[32m0.5…\u001b[0m • \u001b[31m805…\u001b[0m • \u001b[36m0:0…\u001b[0m\n",
      "\u001b[2K\u001b[1A\u001b[2K\u001b[1;34msubmission_task2_nfi_task2_True_for_eval.parquet\u001b[0m \u001b[91m╸\u001b[0m\u001b[90m━━━\u001b[0m \u001b[35m17.2%\u001b[0m • \u001b[32m0.5…\u001b[0m • \u001b[31m814…\u001b[0m • \u001b[36m0:0…\u001b[0m\n",
      "\u001b[2K\u001b[1A\u001b[2K\u001b[1;34msubmission_task2_nfi_task2_True_for_eval.parquet\u001b[0m \u001b[91m╸\u001b[0m\u001b[90m━━━\u001b[0m \u001b[35m17.5%\u001b[0m • \u001b[32m0.6…\u001b[0m • \u001b[31m822…\u001b[0m • \u001b[36m0:0…\u001b[0m\n",
      "\u001b[2K\u001b[1A\u001b[2K\u001b[1;34msubmission_task2_nfi_task2_True_for_eval.parquet\u001b[0m \u001b[91m╸\u001b[0m\u001b[90m━━━\u001b[0m \u001b[35m17.7%\u001b[0m • \u001b[32m0.6…\u001b[0m • \u001b[31m831…\u001b[0m • \u001b[36m0:0…\u001b[0m\n",
      "\u001b[2K\u001b[1A\u001b[2K\u001b[1;34msubmission_task2_nfi_task2_True_for_eval.parquet\u001b[0m \u001b[91m╸\u001b[0m\u001b[90m━━━\u001b[0m \u001b[35m18.0%\u001b[0m • \u001b[32m0.6…\u001b[0m • \u001b[31m840…\u001b[0m • \u001b[36m0:0…\u001b[0m\n",
      "\u001b[2K\u001b[1A\u001b[2K\u001b[1;34msubmission_task2_nfi_task2_True_for_eval.parquet\u001b[0m \u001b[91m╸\u001b[0m\u001b[90m━━━\u001b[0m \u001b[35m18.3%\u001b[0m • \u001b[32m0.6…\u001b[0m • \u001b[31m849…\u001b[0m • \u001b[36m0:0…\u001b[0m\n",
      "\u001b[2K\u001b[1A\u001b[2K\u001b[1;34msubmission_task2_nfi_task2_True_for_eval.parquet\u001b[0m \u001b[91m╸\u001b[0m\u001b[90m━━━\u001b[0m \u001b[35m18.5%\u001b[0m • \u001b[32m0.6…\u001b[0m • \u001b[31m857…\u001b[0m • \u001b[36m0:0…\u001b[0m\n",
      "\u001b[2K\u001b[1A\u001b[2K\u001b[1;34msubmission_task2_nfi_task2_True_for_eval.parquet\u001b[0m \u001b[91m╸\u001b[0m\u001b[90m━━━\u001b[0m \u001b[35m18.8%\u001b[0m • \u001b[32m0.6…\u001b[0m • \u001b[31m813…\u001b[0m • \u001b[36m0:0…\u001b[0m\n",
      "\u001b[2K\u001b[1A\u001b[2K\u001b[1;34msubmission_task2_nfi_task2_True_for_eval.parquet\u001b[0m \u001b[91m╸\u001b[0m\u001b[90m━━━\u001b[0m \u001b[35m19.0%\u001b[0m • \u001b[32m0.6…\u001b[0m • \u001b[31m821…\u001b[0m • \u001b[36m0:0…\u001b[0m\n",
      "\u001b[2K\u001b[1A\u001b[2K\u001b[1;34msubmission_task2_nfi_task2_True_for_eval.parquet\u001b[0m \u001b[91m╸\u001b[0m\u001b[90m━━━\u001b[0m \u001b[35m19.3%\u001b[0m • \u001b[32m0.6…\u001b[0m • \u001b[31m829…\u001b[0m • \u001b[36m0:0…\u001b[0m\n",
      "\u001b[2K\u001b[1A\u001b[2K\u001b[1;34msubmission_task2_nfi_task2_True_for_eval.parquet\u001b[0m \u001b[91m╸\u001b[0m\u001b[90m━━━\u001b[0m \u001b[35m19.5%\u001b[0m • \u001b[32m0.6…\u001b[0m • \u001b[31m837…\u001b[0m • \u001b[36m0:0…\u001b[0m\n",
      "\u001b[2K\u001b[1A\u001b[2K\u001b[1;34msubmission_task2_nfi_task2_True_for_eval.parquet\u001b[0m \u001b[91m╸\u001b[0m\u001b[90m━━━\u001b[0m \u001b[35m19.8%\u001b[0m • \u001b[32m0.6…\u001b[0m • \u001b[31m845…\u001b[0m • \u001b[36m0:0…\u001b[0m\n",
      "\u001b[2K\u001b[1A\u001b[2K\u001b[1;34msubmission_task2_nfi_task2_True_for_eval.parquet\u001b[0m \u001b[91m╸\u001b[0m\u001b[90m━━━\u001b[0m \u001b[35m20.1%\u001b[0m • \u001b[32m0.6…\u001b[0m • \u001b[31m852…\u001b[0m • \u001b[36m0:0…\u001b[0m\n",
      "\u001b[2K\u001b[1A\u001b[2K\u001b[1;34msubmission_task2_nfi_task2_True_for_eval.parquet\u001b[0m \u001b[91m╸\u001b[0m\u001b[90m━━━\u001b[0m \u001b[35m20.1%\u001b[0m • \u001b[32m0.6…\u001b[0m • \u001b[31m852…\u001b[0m • \u001b[36m0:0…\u001b[0m\n",
      "\u001b[2K\u001b[1A\u001b[2K\u001b[1;34msubmission_task2_nfi_task2_True_for_eval.parquet\u001b[0m \u001b[91m╸\u001b[0m\u001b[90m━━━\u001b[0m \u001b[35m20.3%\u001b[0m • \u001b[32m0.6…\u001b[0m • \u001b[31m856…\u001b[0m • \u001b[36m0:0…\u001b[0m\n",
      "\u001b[2K\u001b[1A\u001b[2K\u001b[1;34msubmission_task2_nfi_task2_True_for_eval.parquet\u001b[0m \u001b[91m╸\u001b[0m\u001b[90m━━━\u001b[0m \u001b[35m20.6%\u001b[0m • \u001b[32m0.7…\u001b[0m • \u001b[31m864…\u001b[0m • \u001b[36m0:0…\u001b[0m\n",
      "\u001b[2K\u001b[1A\u001b[2K\u001b[1;34msubmission_task2_nfi_task2_True_for_eval.parquet\u001b[0m \u001b[91m╸\u001b[0m\u001b[90m━━━\u001b[0m \u001b[35m20.8%\u001b[0m • \u001b[32m0.7…\u001b[0m • \u001b[31m871…\u001b[0m • \u001b[36m0:0…\u001b[0m\n",
      "\u001b[2K\u001b[1A\u001b[2K\u001b[1;34msubmission_task2_nfi_task2_True_for_eval.parquet\u001b[0m \u001b[91m╸\u001b[0m\u001b[90m━━━\u001b[0m \u001b[35m21.1%\u001b[0m • \u001b[32m0.7…\u001b[0m • \u001b[31m879…\u001b[0m • \u001b[36m0:0…\u001b[0m\n",
      "\u001b[2K\u001b[1A\u001b[2K\u001b[1;34msubmission_task2_nfi_task2_True_for_eval.parquet\u001b[0m \u001b[91m╸\u001b[0m\u001b[90m━━━\u001b[0m \u001b[35m21.3%\u001b[0m • \u001b[32m0.7…\u001b[0m • \u001b[31m886…\u001b[0m • \u001b[36m0:0…\u001b[0m\n",
      "\u001b[2K\u001b[1A\u001b[2K\u001b[1;34msubmission_task2_nfi_task2_True_for_eval.parquet\u001b[0m \u001b[91m╸\u001b[0m\u001b[90m━━━\u001b[0m \u001b[35m21.6%\u001b[0m • \u001b[32m0.7…\u001b[0m • \u001b[31m894…\u001b[0m • \u001b[36m0:0…\u001b[0m\n",
      "\u001b[2K\u001b[1A\u001b[2K\u001b[1;34msubmission_task2_nfi_task2_True_for_eval.parquet\u001b[0m \u001b[91m╸\u001b[0m\u001b[90m━━━\u001b[0m \u001b[35m21.9%\u001b[0m • \u001b[32m0.7…\u001b[0m • \u001b[31m901…\u001b[0m • \u001b[36m0:0…\u001b[0m\n",
      "\u001b[2K\u001b[1A\u001b[2K\u001b[1;34msubmission_task2_nfi_task2_True_for_eval.parquet\u001b[0m \u001b[91m╸\u001b[0m\u001b[90m━━━\u001b[0m \u001b[35m22.1%\u001b[0m • \u001b[32m0.7…\u001b[0m • \u001b[31m908…\u001b[0m • \u001b[36m0:0…\u001b[0m\n",
      "\u001b[2K\u001b[1A\u001b[2K\u001b[1;34msubmission_task2_nfi_task2_True_for_eval.parquet\u001b[0m \u001b[91m╸\u001b[0m\u001b[90m━━━\u001b[0m \u001b[35m22.4%\u001b[0m • \u001b[32m0.7…\u001b[0m • \u001b[31m915…\u001b[0m • \u001b[36m0:0…\u001b[0m\n",
      "\u001b[2K\u001b[1A\u001b[2K\u001b[1;34msubmission_task2_nfi_task2_True_for_eval.parquet\u001b[0m \u001b[91m╸\u001b[0m\u001b[90m━━━\u001b[0m \u001b[35m22.6%\u001b[0m • \u001b[32m0.7…\u001b[0m • \u001b[31m922…\u001b[0m • \u001b[36m0:0…\u001b[0m\n",
      "\u001b[2K\u001b[1A\u001b[2K\u001b[1;34msubmission_task2_nfi_task2_True_for_eval.parquet\u001b[0m \u001b[91m╸\u001b[0m\u001b[90m━━━\u001b[0m \u001b[35m22.9%\u001b[0m • \u001b[32m0.7…\u001b[0m • \u001b[31m930…\u001b[0m • \u001b[36m0:0…\u001b[0m\n",
      "\u001b[2K\u001b[1A\u001b[2K\u001b[1;34msubmission_task2_nfi_task2_True_for_eval.parquet\u001b[0m \u001b[91m╸\u001b[0m\u001b[90m━━━\u001b[0m \u001b[35m23.2%\u001b[0m • \u001b[32m0.7…\u001b[0m • \u001b[31m937…\u001b[0m • \u001b[36m0:0…\u001b[0m\n",
      "\u001b[2K\u001b[1A\u001b[2K\u001b[1;34msubmission_task2_nfi_task2_True_for_eval.parquet\u001b[0m \u001b[91m╸\u001b[0m\u001b[90m━━━\u001b[0m \u001b[35m23.4%\u001b[0m • \u001b[32m0.7…\u001b[0m • \u001b[31m943…\u001b[0m • \u001b[36m0:0…\u001b[0m\n",
      "\u001b[2K\u001b[1A\u001b[2K\u001b[1;34msubmission_task2_nfi_task2_True_for_eval.parquet\u001b[0m \u001b[91m╸\u001b[0m\u001b[90m━━━\u001b[0m \u001b[35m23.7%\u001b[0m • \u001b[32m0.8…\u001b[0m • \u001b[31m950…\u001b[0m • \u001b[36m0:0…\u001b[0m\n",
      "\u001b[2K\u001b[1A\u001b[2K\u001b[1;34msubmission_task2_nfi_task2_True_for_eval.parquet\u001b[0m \u001b[91m╸\u001b[0m\u001b[90m━━━\u001b[0m \u001b[35m23.9%\u001b[0m • \u001b[32m0.8…\u001b[0m • \u001b[31m957…\u001b[0m • \u001b[36m0:0…\u001b[0m\n",
      "\u001b[2K\u001b[1A\u001b[2K\u001b[1;34msubmission_task2_nfi_task2_True_for_eval.parquet\u001b[0m \u001b[91m╸\u001b[0m\u001b[90m━━━\u001b[0m \u001b[35m24.2%\u001b[0m • \u001b[32m0.8…\u001b[0m • \u001b[31m964…\u001b[0m • \u001b[36m0:0…\u001b[0m\n",
      "\u001b[2K\u001b[1A\u001b[2K\u001b[1;34msubmission_task2_nfi_task2_True_for_eval.parquet\u001b[0m \u001b[91m╸\u001b[0m\u001b[90m━━━\u001b[0m \u001b[35m24.4%\u001b[0m • \u001b[32m0.8…\u001b[0m • \u001b[31m971…\u001b[0m • \u001b[36m0:0…\u001b[0m\n",
      "\u001b[2K\u001b[1A\u001b[2K\u001b[1;34msubmission_task2_nfi_task2_True_for_eval.parquet\u001b[0m \u001b[91m╸\u001b[0m\u001b[90m━━━\u001b[0m \u001b[35m24.7%\u001b[0m • \u001b[32m0.8…\u001b[0m • \u001b[31m978…\u001b[0m • \u001b[36m0:0…\u001b[0m\n",
      "\u001b[2K\u001b[1A\u001b[2K\u001b[1;34msubmission_task2_nfi_task2_True_for_eval.parquet\u001b[0m \u001b[91m╸\u001b[0m\u001b[90m━━━\u001b[0m \u001b[35m25.0%\u001b[0m • \u001b[32m0.8…\u001b[0m • \u001b[31m984…\u001b[0m • \u001b[36m0:0…\u001b[0m\n",
      "\u001b[2K\u001b[1A\u001b[2K\u001b[1;34msubmission_task2_nfi_task2_True_for_eval.parquet\u001b[0m \u001b[91m━\u001b[0m\u001b[90m╺\u001b[0m\u001b[90m━━\u001b[0m \u001b[35m25.2%\u001b[0m • \u001b[32m0.8…\u001b[0m • \u001b[31m991…\u001b[0m • \u001b[36m0:0…\u001b[0m\n",
      "\u001b[2K\u001b[1A\u001b[2K\u001b[1;34msubmission_task2_nfi_task2_True_for_eval.parquet\u001b[0m \u001b[91m━\u001b[0m\u001b[90m╺\u001b[0m\u001b[90m━━\u001b[0m \u001b[35m25.5%\u001b[0m • \u001b[32m0.8…\u001b[0m • \u001b[31m997…\u001b[0m • \u001b[36m0:0…\u001b[0m\n",
      "\u001b[2K\u001b[1A\u001b[2K\u001b[1;34msubmission_task2_nfi_task2_True_for_eval.parquet\u001b[0m \u001b[91m━\u001b[0m\u001b[90m╺\u001b[0m\u001b[90m━━\u001b[0m \u001b[35m25.7%\u001b[0m • \u001b[32m0.8…\u001b[0m • \u001b[31m1.0 \u001b[0m • \u001b[36m0:0…\u001b[0m\n",
      "\u001b[2K\u001b[1A\u001b[2K\u001b[1;34msubmission_task2_nfi_task2_True_for_eval.parquet\u001b[0m \u001b[91m━\u001b[0m\u001b[90m╺\u001b[0m\u001b[90m━━\u001b[0m \u001b[35m26.0%\u001b[0m • \u001b[32m0.8…\u001b[0m • \u001b[31m1.0 \u001b[0m • \u001b[36m0:0…\u001b[0m\n",
      "\u001b[2K\u001b[1A\u001b[2K\u001b[1;34msubmission_task2_nfi_task2_True_for_eval.parquet\u001b[0m \u001b[91m━\u001b[0m\u001b[90m╺\u001b[0m\u001b[90m━━\u001b[0m \u001b[35m26.2%\u001b[0m • \u001b[32m0.8…\u001b[0m • \u001b[31m1.0 \u001b[0m • \u001b[36m0:0…\u001b[0m\n",
      "\u001b[2K\u001b[1A\u001b[2K\u001b[1;34msubmission_task2_nfi_task2_True_for_eval.parquet\u001b[0m \u001b[91m━\u001b[0m\u001b[90m╺\u001b[0m\u001b[90m━━\u001b[0m \u001b[35m26.5%\u001b[0m • \u001b[32m0.8…\u001b[0m • \u001b[31m1.0 \u001b[0m • \u001b[36m0:0…\u001b[0m\n",
      "\u001b[2K\u001b[1A\u001b[2K\u001b[1;34msubmission_task2_nfi_task2_True_for_eval.parquet\u001b[0m \u001b[91m━\u001b[0m\u001b[90m╺\u001b[0m\u001b[90m━━\u001b[0m \u001b[35m26.8%\u001b[0m • \u001b[32m0.9…\u001b[0m • \u001b[31m1.0 \u001b[0m • \u001b[36m0:0…\u001b[0m\n",
      "\u001b[2K\u001b[1A\u001b[2K\u001b[1;34msubmission_task2_nfi_task2_True_for_eval.parquet\u001b[0m \u001b[91m━\u001b[0m\u001b[90m╺\u001b[0m\u001b[90m━━\u001b[0m \u001b[35m27.0%\u001b[0m • \u001b[32m0.9…\u001b[0m • \u001b[31m1.0 \u001b[0m • \u001b[36m0:0…\u001b[0m\n",
      "\u001b[2K\u001b[1A\u001b[2K\u001b[1;34msubmission_task2_nfi_task2_True_for_eval.parquet\u001b[0m \u001b[91m━\u001b[0m\u001b[90m╺\u001b[0m\u001b[90m━━\u001b[0m \u001b[35m27.3%\u001b[0m • \u001b[32m0.9…\u001b[0m • \u001b[31m1.0 \u001b[0m • \u001b[36m0:0…\u001b[0m\n",
      "\u001b[2K\u001b[1A\u001b[2K\u001b[1;34msubmission_task2_nfi_task2_True_for_eval.parquet\u001b[0m \u001b[91m━\u001b[0m\u001b[90m╺\u001b[0m\u001b[90m━━\u001b[0m \u001b[35m27.5%\u001b[0m • \u001b[32m0.9…\u001b[0m • \u001b[31m1.1 \u001b[0m • \u001b[36m0:0…\u001b[0m\n",
      "\u001b[2K\u001b[1A\u001b[2K\u001b[1;34msubmission_task2_nfi_task2_True_for_eval.parquet\u001b[0m \u001b[91m━\u001b[0m\u001b[90m╺\u001b[0m\u001b[90m━━\u001b[0m \u001b[35m27.8%\u001b[0m • \u001b[32m0.9…\u001b[0m • \u001b[31m1.1 \u001b[0m • \u001b[36m0:0…\u001b[0m\n",
      "\u001b[2K\u001b[1A\u001b[2K\u001b[1;34msubmission_task2_nfi_task2_True_for_eval.parquet\u001b[0m \u001b[91m━\u001b[0m\u001b[90m╺\u001b[0m\u001b[90m━━\u001b[0m \u001b[35m28.0%\u001b[0m • \u001b[32m0.9…\u001b[0m • \u001b[31m1.1 \u001b[0m • \u001b[36m0:0…\u001b[0m\n",
      "\u001b[2K\u001b[1A\u001b[2K\u001b[1;34msubmission_task2_nfi_task2_True_for_eval.parquet\u001b[0m \u001b[91m━\u001b[0m\u001b[90m╺\u001b[0m\u001b[90m━━\u001b[0m \u001b[35m28.3%\u001b[0m • \u001b[32m0.9…\u001b[0m • \u001b[31m1.1 \u001b[0m • \u001b[36m0:0…\u001b[0m\n",
      "\u001b[2K\u001b[1A\u001b[2K\u001b[1;34msubmission_task2_nfi_task2_True_for_eval.parquet\u001b[0m \u001b[91m━\u001b[0m\u001b[90m╺\u001b[0m\u001b[90m━━\u001b[0m \u001b[35m28.6%\u001b[0m • \u001b[32m0.9…\u001b[0m • \u001b[31m1.1 \u001b[0m • \u001b[36m0:0…\u001b[0m\n",
      "\u001b[2K\u001b[1A\u001b[2K\u001b[1;34msubmission_task2_nfi_task2_True_for_eval.parquet\u001b[0m \u001b[91m━\u001b[0m\u001b[90m╺\u001b[0m\u001b[90m━━\u001b[0m \u001b[35m28.8%\u001b[0m • \u001b[32m0.9…\u001b[0m • \u001b[31m1.1 \u001b[0m • \u001b[36m0:0…\u001b[0m\n",
      "\u001b[2K\u001b[1A\u001b[2K\u001b[1;34msubmission_task2_nfi_task2_True_for_eval.parquet\u001b[0m \u001b[91m━\u001b[0m\u001b[90m╺\u001b[0m\u001b[90m━━\u001b[0m \u001b[35m29.1%\u001b[0m • \u001b[32m0.9…\u001b[0m • \u001b[31m1.1 \u001b[0m • \u001b[36m0:0…\u001b[0m\n",
      "\u001b[2K\u001b[1A\u001b[2K\u001b[1;34msubmission_task2_nfi_task2_True_for_eval.parquet\u001b[0m \u001b[91m━\u001b[0m\u001b[90m╺\u001b[0m\u001b[90m━━\u001b[0m \u001b[35m29.1%\u001b[0m • \u001b[32m0.9…\u001b[0m • \u001b[31m1.1 \u001b[0m • \u001b[36m0:0…\u001b[0m\n",
      "\u001b[2K\u001b[1A\u001b[2K\u001b[1;34msubmission_task2_nfi_task2_True_for_eval.parquet\u001b[0m \u001b[91m━\u001b[0m\u001b[90m╺\u001b[0m\u001b[90m━━\u001b[0m \u001b[35m29.3%\u001b[0m • \u001b[32m0.9…\u001b[0m • \u001b[31m1.1 \u001b[0m • \u001b[36m0:0…\u001b[0m\n",
      "\u001b[2K\u001b[1A\u001b[2K\u001b[1;34msubmission_task2_nfi_task2_True_for_eval.parquet\u001b[0m \u001b[91m━\u001b[0m\u001b[90m╺\u001b[0m\u001b[90m━━\u001b[0m \u001b[35m29.6%\u001b[0m • \u001b[32m0.9…\u001b[0m • \u001b[31m1.1 \u001b[0m • \u001b[36m0:0…\u001b[0m\n",
      "\u001b[2K\u001b[1A\u001b[2K\u001b[1;34msubmission_task2_nfi_task2_True_for_eval.parquet\u001b[0m \u001b[91m━\u001b[0m\u001b[90m╺\u001b[0m\u001b[90m━━\u001b[0m \u001b[35m29.8%\u001b[0m • \u001b[32m1.0…\u001b[0m • \u001b[31m1.1 \u001b[0m • \u001b[36m0:0…\u001b[0m\n",
      "\u001b[2K\u001b[1A\u001b[2K\u001b[1;34msubmission_task2_nfi_task2_True_for_eval.parquet\u001b[0m \u001b[91m━\u001b[0m\u001b[90m╺\u001b[0m\u001b[90m━━\u001b[0m \u001b[35m30.1%\u001b[0m • \u001b[32m1.0…\u001b[0m • \u001b[31m1.1 \u001b[0m • \u001b[36m0:0…\u001b[0m\n",
      "\u001b[2K\u001b[1A\u001b[2K\u001b[1;34msubmission_task2_nfi_task2_True_for_eval.parquet\u001b[0m \u001b[91m━\u001b[0m\u001b[90m╺\u001b[0m\u001b[90m━━\u001b[0m \u001b[35m30.4%\u001b[0m • \u001b[32m1.0…\u001b[0m • \u001b[31m1.1 \u001b[0m • \u001b[36m0:0…\u001b[0m\n",
      "\u001b[2K\u001b[1A\u001b[2K\u001b[1;34msubmission_task2_nfi_task2_True_for_eval.parquet\u001b[0m \u001b[91m━\u001b[0m\u001b[90m╺\u001b[0m\u001b[90m━━\u001b[0m \u001b[35m30.6%\u001b[0m • \u001b[32m1.0…\u001b[0m • \u001b[31m1.1 \u001b[0m • \u001b[36m0:0…\u001b[0m\n",
      "\u001b[2K\u001b[1A\u001b[2K\u001b[1;34msubmission_task2_nfi_task2_True_for_eval.parquet\u001b[0m \u001b[91m━\u001b[0m\u001b[90m╺\u001b[0m\u001b[90m━━\u001b[0m \u001b[35m30.9%\u001b[0m • \u001b[32m1.0…\u001b[0m • \u001b[31m1.1 \u001b[0m • \u001b[36m0:0…\u001b[0m\n",
      "\u001b[2K\u001b[1A\u001b[2K\u001b[1;34msubmission_task2_nfi_task2_True_for_eval.parquet\u001b[0m \u001b[91m━\u001b[0m\u001b[90m╺\u001b[0m\u001b[90m━━\u001b[0m \u001b[35m31.1%\u001b[0m • \u001b[32m1.0…\u001b[0m • \u001b[31m1.1 \u001b[0m • \u001b[36m0:0…\u001b[0m\n",
      "\u001b[2K\u001b[1A\u001b[2K\u001b[1;34msubmission_task2_nfi_task2_True_for_eval.parquet\u001b[0m \u001b[91m━\u001b[0m\u001b[90m╺\u001b[0m\u001b[90m━━\u001b[0m \u001b[35m31.4%\u001b[0m • \u001b[32m1.0…\u001b[0m • \u001b[31m1.1 \u001b[0m • \u001b[36m0:0…\u001b[0m\n",
      "\u001b[2K\u001b[1A\u001b[2K\u001b[1;34msubmission_task2_nfi_task2_True_for_eval.parquet\u001b[0m \u001b[91m━\u001b[0m\u001b[90m╺\u001b[0m\u001b[90m━━\u001b[0m \u001b[35m31.6%\u001b[0m • \u001b[32m1.0…\u001b[0m • \u001b[31m1.1 \u001b[0m • \u001b[36m0:0…\u001b[0m\n",
      "\u001b[2K\u001b[1A\u001b[2K\u001b[1;34msubmission_task2_nfi_task2_True_for_eval.parquet\u001b[0m \u001b[91m━\u001b[0m\u001b[90m╺\u001b[0m\u001b[90m━━\u001b[0m \u001b[35m31.9%\u001b[0m • \u001b[32m1.0…\u001b[0m • \u001b[31m1.1 \u001b[0m • \u001b[36m0:0…\u001b[0m\n",
      "\u001b[2K\u001b[1A\u001b[2K\u001b[1;34msubmission_task2_nfi_task2_True_for_eval.parquet\u001b[0m \u001b[91m━\u001b[0m\u001b[90m╺\u001b[0m\u001b[90m━━\u001b[0m \u001b[35m32.2%\u001b[0m • \u001b[32m1.0…\u001b[0m • \u001b[31m1.2 \u001b[0m • \u001b[36m0:0…\u001b[0m\n",
      "\u001b[2K\u001b[1A\u001b[2K\u001b[1;34msubmission_task2_nfi_task2_True_for_eval.parquet\u001b[0m \u001b[91m━\u001b[0m\u001b[90m╺\u001b[0m\u001b[90m━━\u001b[0m \u001b[35m32.4%\u001b[0m • \u001b[32m1.0…\u001b[0m • \u001b[31m1.2 \u001b[0m • \u001b[36m0:0…\u001b[0m\n",
      "\u001b[2K\u001b[1A\u001b[2K\u001b[1;34msubmission_task2_nfi_task2_True_for_eval.parquet\u001b[0m \u001b[91m━\u001b[0m\u001b[90m╺\u001b[0m\u001b[90m━━\u001b[0m \u001b[35m32.7%\u001b[0m • \u001b[32m1.0…\u001b[0m • \u001b[31m1.2 \u001b[0m • \u001b[36m0:0…\u001b[0m\n",
      "\u001b[2K\u001b[1A\u001b[2K\u001b[1;34msubmission_task2_nfi_task2_True_for_eval.parquet\u001b[0m \u001b[91m━\u001b[0m\u001b[90m╺\u001b[0m\u001b[90m━━\u001b[0m \u001b[35m32.9%\u001b[0m • \u001b[32m1.0…\u001b[0m • \u001b[31m1.2 \u001b[0m • \u001b[36m0:0…\u001b[0m\n",
      "\u001b[2K\u001b[1A\u001b[2K\u001b[1;34msubmission_task2_nfi_task2_True_for_eval.parquet\u001b[0m \u001b[91m━\u001b[0m\u001b[90m╺\u001b[0m\u001b[90m━━\u001b[0m \u001b[35m33.2%\u001b[0m • \u001b[32m1.1…\u001b[0m • \u001b[31m1.2 \u001b[0m • \u001b[36m0:0…\u001b[0m\n",
      "\u001b[2K\u001b[1A\u001b[2K\u001b[1;34msubmission_task2_nfi_task2_True_for_eval.parquet\u001b[0m \u001b[91m━\u001b[0m\u001b[90m╺\u001b[0m\u001b[90m━━\u001b[0m \u001b[35m33.4%\u001b[0m • \u001b[32m1.1…\u001b[0m • \u001b[31m1.2 \u001b[0m • \u001b[36m0:0…\u001b[0m\n",
      "\u001b[2K\u001b[1A\u001b[2K\u001b[1;34msubmission_task2_nfi_task2_True_for_eval.parquet\u001b[0m \u001b[91m━\u001b[0m\u001b[90m╺\u001b[0m\u001b[90m━━\u001b[0m \u001b[35m33.7%\u001b[0m • \u001b[32m1.1…\u001b[0m • \u001b[31m1.2 \u001b[0m • \u001b[36m0:0…\u001b[0m\n",
      "\u001b[2K\u001b[1A\u001b[2K\u001b[1;34msubmission_task2_nfi_task2_True_for_eval.parquet\u001b[0m \u001b[91m━\u001b[0m\u001b[90m╺\u001b[0m\u001b[90m━━\u001b[0m \u001b[35m34.0%\u001b[0m • \u001b[32m1.1…\u001b[0m • \u001b[31m1.2 \u001b[0m • \u001b[36m0:0…\u001b[0m\n",
      "\u001b[2K\u001b[1A\u001b[2K\u001b[1;34msubmission_task2_nfi_task2_True_for_eval.parquet\u001b[0m \u001b[91m━\u001b[0m\u001b[90m╺\u001b[0m\u001b[90m━━\u001b[0m \u001b[35m34.2%\u001b[0m • \u001b[32m1.1…\u001b[0m • \u001b[31m1.2 \u001b[0m • \u001b[36m0:0…\u001b[0m\n",
      "\u001b[2K\u001b[1A\u001b[2K\u001b[1;34msubmission_task2_nfi_task2_True_for_eval.parquet\u001b[0m \u001b[91m━\u001b[0m\u001b[90m╺\u001b[0m\u001b[90m━━\u001b[0m \u001b[35m34.5%\u001b[0m • \u001b[32m1.1…\u001b[0m • \u001b[31m1.2 \u001b[0m • \u001b[36m0:0…\u001b[0m\n",
      "\u001b[2K\u001b[1A\u001b[2K\u001b[1;34msubmission_task2_nfi_task2_True_for_eval.parquet\u001b[0m \u001b[91m━\u001b[0m\u001b[90m╺\u001b[0m\u001b[90m━━\u001b[0m \u001b[35m34.7%\u001b[0m • \u001b[32m1.1…\u001b[0m • \u001b[31m1.2 \u001b[0m • \u001b[36m0:0…\u001b[0m\n",
      "\u001b[2K\u001b[1A\u001b[2K\u001b[1;34msubmission_task2_nfi_task2_True_for_eval.parquet\u001b[0m \u001b[91m━\u001b[0m\u001b[90m╺\u001b[0m\u001b[90m━━\u001b[0m \u001b[35m35.0%\u001b[0m • \u001b[32m1.1…\u001b[0m • \u001b[31m1.2 \u001b[0m • \u001b[36m0:0…\u001b[0m\n",
      "\u001b[2K\u001b[1A\u001b[2K\u001b[1;34msubmission_task2_nfi_task2_True_for_eval.parquet\u001b[0m \u001b[91m━\u001b[0m\u001b[90m╺\u001b[0m\u001b[90m━━\u001b[0m \u001b[35m35.2%\u001b[0m • \u001b[32m1.1…\u001b[0m • \u001b[31m1.2 \u001b[0m • \u001b[36m0:0…\u001b[0m\n",
      "\u001b[2K\u001b[1A\u001b[2K\u001b[1;34msubmission_task2_nfi_task2_True_for_eval.parquet\u001b[0m \u001b[91m━\u001b[0m\u001b[90m╺\u001b[0m\u001b[90m━━\u001b[0m \u001b[35m35.5%\u001b[0m • \u001b[32m1.1…\u001b[0m • \u001b[31m1.2 \u001b[0m • \u001b[36m0:0…\u001b[0m\n",
      "\u001b[2K\u001b[1A\u001b[2K\u001b[1;34msubmission_task2_nfi_task2_True_for_eval.parquet\u001b[0m \u001b[91m━\u001b[0m\u001b[90m╺\u001b[0m\u001b[90m━━\u001b[0m \u001b[35m35.8%\u001b[0m • \u001b[32m1.1…\u001b[0m • \u001b[31m1.2 \u001b[0m • \u001b[36m0:0…\u001b[0m\n",
      "\u001b[2K\u001b[1A\u001b[2K\u001b[1;34msubmission_task2_nfi_task2_True_for_eval.parquet\u001b[0m \u001b[91m━\u001b[0m\u001b[90m╺\u001b[0m\u001b[90m━━\u001b[0m \u001b[35m36.0%\u001b[0m • \u001b[32m1.1…\u001b[0m • \u001b[31m1.2 \u001b[0m • \u001b[36m0:0…\u001b[0m\n",
      "\u001b[2K\u001b[1A\u001b[2K\u001b[1;34msubmission_task2_nfi_task2_True_for_eval.parquet\u001b[0m \u001b[91m━\u001b[0m\u001b[90m╺\u001b[0m\u001b[90m━━\u001b[0m \u001b[35m36.3%\u001b[0m • \u001b[32m1.2…\u001b[0m • \u001b[31m1.2 \u001b[0m • \u001b[36m0:0…\u001b[0m\n",
      "\u001b[2K\u001b[1A\u001b[2K\u001b[1;34msubmission_task2_nfi_task2_True_for_eval.parquet\u001b[0m \u001b[91m━\u001b[0m\u001b[90m╺\u001b[0m\u001b[90m━━\u001b[0m \u001b[35m36.5%\u001b[0m • \u001b[32m1.2…\u001b[0m • \u001b[31m1.2 \u001b[0m • \u001b[36m0:0…\u001b[0m\n",
      "\u001b[2K\u001b[1A\u001b[2K\u001b[1;34msubmission_task2_nfi_task2_True_for_eval.parquet\u001b[0m \u001b[91m━\u001b[0m\u001b[90m╺\u001b[0m\u001b[90m━━\u001b[0m \u001b[35m36.8%\u001b[0m • \u001b[32m1.2…\u001b[0m • \u001b[31m1.2 \u001b[0m • \u001b[36m0:0…\u001b[0m\n",
      "\u001b[2K\u001b[1A\u001b[2K\u001b[1;34msubmission_task2_nfi_task2_True_for_eval.parquet\u001b[0m \u001b[91m━\u001b[0m\u001b[90m╺\u001b[0m\u001b[90m━━\u001b[0m \u001b[35m37.0%\u001b[0m • \u001b[32m1.2…\u001b[0m • \u001b[31m1.3 \u001b[0m • \u001b[36m0:0…\u001b[0m\n",
      "\u001b[2K\u001b[1A\u001b[2K\u001b[1;34msubmission_task2_nfi_task2_True_for_eval.parquet\u001b[0m \u001b[91m━\u001b[0m\u001b[90m╺\u001b[0m\u001b[90m━━\u001b[0m \u001b[35m37.3%\u001b[0m • \u001b[32m1.2…\u001b[0m • \u001b[31m1.3 \u001b[0m • \u001b[36m0:0…\u001b[0m\n",
      "\u001b[2K\u001b[1A\u001b[2K\u001b[1;34msubmission_task2_nfi_task2_True_for_eval.parquet\u001b[0m \u001b[91m━\u001b[0m\u001b[91m╸\u001b[0m\u001b[90m━━\u001b[0m \u001b[35m37.6%\u001b[0m • \u001b[32m1.2…\u001b[0m • \u001b[31m1.3 \u001b[0m • \u001b[36m0:0…\u001b[0m\n",
      "\u001b[2K\u001b[1A\u001b[2K\u001b[1;34msubmission_task2_nfi_task2_True_for_eval.parquet\u001b[0m \u001b[91m━\u001b[0m\u001b[91m╸\u001b[0m\u001b[90m━━\u001b[0m \u001b[35m37.8%\u001b[0m • \u001b[32m1.2…\u001b[0m • \u001b[31m1.3 \u001b[0m • \u001b[36m0:0…\u001b[0m\n",
      "\u001b[2K\u001b[1A\u001b[2K\u001b[1;34msubmission_task2_nfi_task2_True_for_eval.parquet\u001b[0m \u001b[91m━\u001b[0m\u001b[91m╸\u001b[0m\u001b[90m━━\u001b[0m \u001b[35m38.1%\u001b[0m • \u001b[32m1.2…\u001b[0m • \u001b[31m1.3 \u001b[0m • \u001b[36m0:0…\u001b[0m\n",
      "\u001b[2K\u001b[1A\u001b[2K\u001b[1;34msubmission_task2_nfi_task2_True_for_eval.parquet\u001b[0m \u001b[91m━\u001b[0m\u001b[91m╸\u001b[0m\u001b[90m━━\u001b[0m \u001b[35m38.1%\u001b[0m • \u001b[32m1.2…\u001b[0m • \u001b[31m1.3 \u001b[0m • \u001b[36m0:0…\u001b[0m\n",
      "\u001b[2K\u001b[1A\u001b[2K\u001b[1;34msubmission_task2_nfi_task2_True_for_eval.parquet\u001b[0m \u001b[91m━\u001b[0m\u001b[91m╸\u001b[0m\u001b[90m━━\u001b[0m \u001b[35m38.3%\u001b[0m • \u001b[32m1.2…\u001b[0m • \u001b[31m1.3 \u001b[0m • \u001b[36m0:0…\u001b[0m\n",
      "\u001b[2K\u001b[1A\u001b[2K\u001b[1;34msubmission_task2_nfi_task2_True_for_eval.parquet\u001b[0m \u001b[91m━\u001b[0m\u001b[91m╸\u001b[0m\u001b[90m━━\u001b[0m \u001b[35m38.6%\u001b[0m • \u001b[32m1.2…\u001b[0m • \u001b[31m1.3 \u001b[0m • \u001b[36m0:0…\u001b[0m\n",
      "\u001b[2K\u001b[1A\u001b[2K\u001b[1;34msubmission_task2_nfi_task2_True_for_eval.parquet\u001b[0m \u001b[91m━\u001b[0m\u001b[91m╸\u001b[0m\u001b[90m━━\u001b[0m \u001b[35m38.8%\u001b[0m • \u001b[32m1.2…\u001b[0m • \u001b[31m1.3 \u001b[0m • \u001b[36m0:0…\u001b[0m\n",
      "\u001b[2K\u001b[1A\u001b[2K\u001b[1;34msubmission_task2_nfi_task2_True_for_eval.parquet\u001b[0m \u001b[91m━\u001b[0m\u001b[91m╸\u001b[0m\u001b[90m━━\u001b[0m \u001b[35m39.1%\u001b[0m • \u001b[32m1.2…\u001b[0m • \u001b[31m1.3 \u001b[0m • \u001b[36m0:0…\u001b[0m\n",
      "\u001b[2K\u001b[1A\u001b[2K\u001b[1;34msubmission_task2_nfi_task2_True_for_eval.parquet\u001b[0m \u001b[91m━\u001b[0m\u001b[91m╸\u001b[0m\u001b[90m━━\u001b[0m \u001b[35m39.4%\u001b[0m • \u001b[32m1.3…\u001b[0m • \u001b[31m1.3 \u001b[0m • \u001b[36m0:0…\u001b[0m\n",
      "\u001b[2K\u001b[1A\u001b[2K\u001b[1;34msubmission_task2_nfi_task2_True_for_eval.parquet\u001b[0m \u001b[91m━\u001b[0m\u001b[91m╸\u001b[0m\u001b[90m━━\u001b[0m \u001b[35m39.6%\u001b[0m • \u001b[32m1.3…\u001b[0m • \u001b[31m1.3 \u001b[0m • \u001b[36m0:0…\u001b[0m\n",
      "\u001b[2K\u001b[1A\u001b[2K\u001b[1;34msubmission_task2_nfi_task2_True_for_eval.parquet\u001b[0m \u001b[91m━\u001b[0m\u001b[91m╸\u001b[0m\u001b[90m━━\u001b[0m \u001b[35m39.9%\u001b[0m • \u001b[32m1.3…\u001b[0m • \u001b[31m1.3 \u001b[0m • \u001b[36m0:0…\u001b[0m\n",
      "\u001b[2K\u001b[1A\u001b[2K\u001b[1;34msubmission_task2_nfi_task2_True_for_eval.parquet\u001b[0m \u001b[91m━\u001b[0m\u001b[91m╸\u001b[0m\u001b[90m━━\u001b[0m \u001b[35m40.1%\u001b[0m • \u001b[32m1.3…\u001b[0m • \u001b[31m1.3 \u001b[0m • \u001b[36m0:0…\u001b[0m\n",
      "\u001b[2K\u001b[1A\u001b[2K\u001b[1;34msubmission_task2_nfi_task2_True_for_eval.parquet\u001b[0m \u001b[91m━\u001b[0m\u001b[91m╸\u001b[0m\u001b[90m━━\u001b[0m \u001b[35m40.4%\u001b[0m • \u001b[32m1.3…\u001b[0m • \u001b[31m1.3 \u001b[0m • \u001b[36m0:0…\u001b[0m\n",
      "\u001b[2K\u001b[1A\u001b[2K\u001b[1;34msubmission_task2_nfi_task2_True_for_eval.parquet\u001b[0m \u001b[91m━\u001b[0m\u001b[91m╸\u001b[0m\u001b[90m━━\u001b[0m \u001b[35m40.6%\u001b[0m • \u001b[32m1.3…\u001b[0m • \u001b[31m1.3 \u001b[0m • \u001b[36m0:0…\u001b[0m\n",
      "\u001b[2K\u001b[1A\u001b[2K\u001b[1;34msubmission_task2_nfi_task2_True_for_eval.parquet\u001b[0m \u001b[91m━\u001b[0m\u001b[91m╸\u001b[0m\u001b[90m━━\u001b[0m \u001b[35m40.9%\u001b[0m • \u001b[32m1.3…\u001b[0m • \u001b[31m1.3 \u001b[0m • \u001b[36m0:0…\u001b[0m\n",
      "\u001b[2K\u001b[1A\u001b[2K\u001b[1;34msubmission_task2_nfi_task2_True_for_eval.parquet\u001b[0m \u001b[91m━\u001b[0m\u001b[91m╸\u001b[0m\u001b[90m━━\u001b[0m \u001b[35m41.2%\u001b[0m • \u001b[32m1.3…\u001b[0m • \u001b[31m1.3 \u001b[0m • \u001b[36m0:0…\u001b[0m\n",
      "\u001b[2K\u001b[1A\u001b[2K\u001b[1;34msubmission_task2_nfi_task2_True_for_eval.parquet\u001b[0m \u001b[91m━\u001b[0m\u001b[91m╸\u001b[0m\u001b[90m━━\u001b[0m \u001b[35m41.4%\u001b[0m • \u001b[32m1.3…\u001b[0m • \u001b[31m1.3 \u001b[0m • \u001b[36m0:0…\u001b[0m\n",
      "\u001b[2K\u001b[1A\u001b[2K\u001b[1;34msubmission_task2_nfi_task2_True_for_eval.parquet\u001b[0m \u001b[91m━\u001b[0m\u001b[91m╸\u001b[0m\u001b[90m━━\u001b[0m \u001b[35m41.7%\u001b[0m • \u001b[32m1.3…\u001b[0m • \u001b[31m1.3 \u001b[0m • \u001b[36m0:0…\u001b[0m\n",
      "\u001b[2K\u001b[1A\u001b[2K\u001b[1;34msubmission_task2_nfi_task2_True_for_eval.parquet\u001b[0m \u001b[91m━\u001b[0m\u001b[91m╸\u001b[0m\u001b[90m━━\u001b[0m \u001b[35m41.9%\u001b[0m • \u001b[32m1.3…\u001b[0m • \u001b[31m1.3 \u001b[0m • \u001b[36m0:0…\u001b[0m\n",
      "\u001b[2K\u001b[1A\u001b[2K\u001b[1;34msubmission_task2_nfi_task2_True_for_eval.parquet\u001b[0m \u001b[91m━\u001b[0m\u001b[91m╸\u001b[0m\u001b[90m━━\u001b[0m \u001b[35m42.2%\u001b[0m • \u001b[32m1.3…\u001b[0m • \u001b[31m1.3 \u001b[0m • \u001b[36m0:0…\u001b[0m\n",
      "\u001b[2K\u001b[1A\u001b[2K\u001b[1;34msubmission_task2_nfi_task2_True_for_eval.parquet\u001b[0m \u001b[91m━\u001b[0m\u001b[91m╸\u001b[0m\u001b[90m━━\u001b[0m \u001b[35m42.4%\u001b[0m • \u001b[32m1.4…\u001b[0m • \u001b[31m1.3 \u001b[0m • \u001b[36m0:0…\u001b[0m\n",
      "\u001b[2K\u001b[1A\u001b[2K\u001b[1;34msubmission_task2_nfi_task2_True_for_eval.parquet\u001b[0m \u001b[91m━\u001b[0m\u001b[91m╸\u001b[0m\u001b[90m━━\u001b[0m \u001b[35m42.7%\u001b[0m • \u001b[32m1.4…\u001b[0m • \u001b[31m1.3 \u001b[0m • \u001b[36m0:0…\u001b[0m\n",
      "\u001b[2K\u001b[1A\u001b[2K\u001b[1;34msubmission_task2_nfi_task2_True_for_eval.parquet\u001b[0m \u001b[91m━\u001b[0m\u001b[91m╸\u001b[0m\u001b[90m━━\u001b[0m \u001b[35m43.0%\u001b[0m • \u001b[32m1.4…\u001b[0m • \u001b[31m1.4 \u001b[0m • \u001b[36m0:0…\u001b[0m\n",
      "\u001b[2K\u001b[1A\u001b[2K\u001b[1;34msubmission_task2_nfi_task2_True_for_eval.parquet\u001b[0m \u001b[91m━\u001b[0m\u001b[91m╸\u001b[0m\u001b[90m━━\u001b[0m \u001b[35m43.2%\u001b[0m • \u001b[32m1.4…\u001b[0m • \u001b[31m1.4 \u001b[0m • \u001b[36m0:0…\u001b[0m\n",
      "\u001b[2K\u001b[1A\u001b[2K\u001b[1;34msubmission_task2_nfi_task2_True_for_eval.parquet\u001b[0m \u001b[91m━\u001b[0m\u001b[91m╸\u001b[0m\u001b[90m━━\u001b[0m \u001b[35m43.5%\u001b[0m • \u001b[32m1.4…\u001b[0m • \u001b[31m1.4 \u001b[0m • \u001b[36m0:0…\u001b[0m\n",
      "\u001b[2K\u001b[1A\u001b[2K\u001b[1;34msubmission_task2_nfi_task2_True_for_eval.parquet\u001b[0m \u001b[91m━\u001b[0m\u001b[91m╸\u001b[0m\u001b[90m━━\u001b[0m \u001b[35m43.7%\u001b[0m • \u001b[32m1.4…\u001b[0m • \u001b[31m1.4 \u001b[0m • \u001b[36m0:0…\u001b[0m\n",
      "\u001b[2K\u001b[1A\u001b[2K\u001b[1;34msubmission_task2_nfi_task2_True_for_eval.parquet\u001b[0m \u001b[91m━\u001b[0m\u001b[91m╸\u001b[0m\u001b[90m━━\u001b[0m \u001b[35m44.0%\u001b[0m • \u001b[32m1.4…\u001b[0m • \u001b[31m1.4 \u001b[0m • \u001b[36m0:0…\u001b[0m\n",
      "\u001b[2K\u001b[1A\u001b[2K\u001b[1;34msubmission_task2_nfi_task2_True_for_eval.parquet\u001b[0m \u001b[91m━\u001b[0m\u001b[91m╸\u001b[0m\u001b[90m━━\u001b[0m \u001b[35m44.2%\u001b[0m • \u001b[32m1.4…\u001b[0m • \u001b[31m1.4 \u001b[0m • \u001b[36m0:0…\u001b[0m\n",
      "\u001b[2K\u001b[1A\u001b[2K\u001b[1;34msubmission_task2_nfi_task2_True_for_eval.parquet\u001b[0m \u001b[91m━\u001b[0m\u001b[91m╸\u001b[0m\u001b[90m━━\u001b[0m \u001b[35m44.5%\u001b[0m • \u001b[32m1.4…\u001b[0m • \u001b[31m1.4 \u001b[0m • \u001b[36m0:0…\u001b[0m\n",
      "\u001b[2K\u001b[1A\u001b[2K\u001b[1;34msubmission_task2_nfi_task2_True_for_eval.parquet\u001b[0m \u001b[91m━\u001b[0m\u001b[91m╸\u001b[0m\u001b[90m━━\u001b[0m \u001b[35m44.8%\u001b[0m • \u001b[32m1.4…\u001b[0m • \u001b[31m1.4 \u001b[0m • \u001b[36m0:0…\u001b[0m\n",
      "\u001b[2K\u001b[1A\u001b[2K\u001b[1;34msubmission_task2_nfi_task2_True_for_eval.parquet\u001b[0m \u001b[91m━\u001b[0m\u001b[91m╸\u001b[0m\u001b[90m━━\u001b[0m \u001b[35m45.0%\u001b[0m • \u001b[32m1.4…\u001b[0m • \u001b[31m1.4 \u001b[0m • \u001b[36m0:0…\u001b[0m\n",
      "\u001b[2K\u001b[1A\u001b[2K\u001b[1;34msubmission_task2_nfi_task2_True_for_eval.parquet\u001b[0m \u001b[91m━\u001b[0m\u001b[91m╸\u001b[0m\u001b[90m━━\u001b[0m \u001b[35m45.3%\u001b[0m • \u001b[32m1.4…\u001b[0m • \u001b[31m1.4 \u001b[0m • \u001b[36m0:0…\u001b[0m\n",
      "\u001b[2K\u001b[1A\u001b[2K\u001b[1;34msubmission_task2_nfi_task2_True_for_eval.parquet\u001b[0m \u001b[91m━\u001b[0m\u001b[91m╸\u001b[0m\u001b[90m━━\u001b[0m \u001b[35m45.5%\u001b[0m • \u001b[32m1.4…\u001b[0m • \u001b[31m1.4 \u001b[0m • \u001b[36m0:0…\u001b[0m\n",
      "\u001b[2K\u001b[1A\u001b[2K\u001b[1;34msubmission_task2_nfi_task2_True_for_eval.parquet\u001b[0m \u001b[91m━\u001b[0m\u001b[91m╸\u001b[0m\u001b[90m━━\u001b[0m \u001b[35m45.8%\u001b[0m • \u001b[32m1.5…\u001b[0m • \u001b[31m1.4 \u001b[0m • \u001b[36m0:0…\u001b[0m\n",
      "\u001b[2K\u001b[1A\u001b[2K\u001b[1;34msubmission_task2_nfi_task2_True_for_eval.parquet\u001b[0m \u001b[91m━\u001b[0m\u001b[91m╸\u001b[0m\u001b[90m━━\u001b[0m \u001b[35m46.0%\u001b[0m • \u001b[32m1.5…\u001b[0m • \u001b[31m1.4 \u001b[0m • \u001b[36m0:0…\u001b[0m\n",
      "\u001b[2K\u001b[1A\u001b[2K\u001b[1;34msubmission_task2_nfi_task2_True_for_eval.parquet\u001b[0m \u001b[91m━\u001b[0m\u001b[91m╸\u001b[0m\u001b[90m━━\u001b[0m \u001b[35m46.3%\u001b[0m • \u001b[32m1.5…\u001b[0m • \u001b[31m1.4 \u001b[0m • \u001b[36m0:0…\u001b[0m\n",
      "\u001b[2K\u001b[1A\u001b[2K\u001b[1;34msubmission_task2_nfi_task2_True_for_eval.parquet\u001b[0m \u001b[91m━\u001b[0m\u001b[91m╸\u001b[0m\u001b[90m━━\u001b[0m \u001b[35m46.6%\u001b[0m • \u001b[32m1.5…\u001b[0m • \u001b[31m1.4 \u001b[0m • \u001b[36m0:0…\u001b[0m\n",
      "\u001b[2K\u001b[1A\u001b[2K\u001b[1;34msubmission_task2_nfi_task2_True_for_eval.parquet\u001b[0m \u001b[91m━\u001b[0m\u001b[91m╸\u001b[0m\u001b[90m━━\u001b[0m \u001b[35m46.8%\u001b[0m • \u001b[32m1.5…\u001b[0m • \u001b[31m1.4 \u001b[0m • \u001b[36m0:0…\u001b[0m\n",
      "\u001b[2K\u001b[1A\u001b[2K\u001b[1;34msubmission_task2_nfi_task2_True_for_eval.parquet\u001b[0m \u001b[91m━\u001b[0m\u001b[91m╸\u001b[0m\u001b[90m━━\u001b[0m \u001b[35m47.1%\u001b[0m • \u001b[32m1.5…\u001b[0m • \u001b[31m1.4 \u001b[0m • \u001b[36m0:0…\u001b[0m\n",
      "\u001b[2K\u001b[1A\u001b[2K\u001b[1;34msubmission_task2_nfi_task2_True_for_eval.parquet\u001b[0m \u001b[91m━\u001b[0m\u001b[91m╸\u001b[0m\u001b[90m━━\u001b[0m \u001b[35m47.1%\u001b[0m • \u001b[32m1.5…\u001b[0m • \u001b[31m1.4 \u001b[0m • \u001b[36m0:0…\u001b[0m\n",
      "\u001b[2K\u001b[1A\u001b[2K\u001b[1;34msubmission_task2_nfi_task2_True_for_eval.parquet\u001b[0m \u001b[91m━\u001b[0m\u001b[91m╸\u001b[0m\u001b[90m━━\u001b[0m \u001b[35m47.3%\u001b[0m • \u001b[32m1.5…\u001b[0m • \u001b[31m1.4 \u001b[0m • \u001b[36m0:0…\u001b[0m\n",
      "\u001b[2K\u001b[1A\u001b[2K\u001b[1;34msubmission_task2_nfi_task2_True_for_eval.parquet\u001b[0m \u001b[91m━\u001b[0m\u001b[91m╸\u001b[0m\u001b[90m━━\u001b[0m \u001b[35m47.6%\u001b[0m • \u001b[32m1.5…\u001b[0m • \u001b[31m1.4 \u001b[0m • \u001b[36m0:0…\u001b[0m\n",
      "\u001b[2K\u001b[1A\u001b[2K\u001b[1;34msubmission_task2_nfi_task2_True_for_eval.parquet\u001b[0m \u001b[91m━\u001b[0m\u001b[91m╸\u001b[0m\u001b[90m━━\u001b[0m \u001b[35m47.8%\u001b[0m • \u001b[32m1.5…\u001b[0m • \u001b[31m1.4 \u001b[0m • \u001b[36m0:0…\u001b[0m\n",
      "\u001b[2K\u001b[1A\u001b[2K\u001b[1;34msubmission_task2_nfi_task2_True_for_eval.parquet\u001b[0m \u001b[91m━\u001b[0m\u001b[91m╸\u001b[0m\u001b[90m━━\u001b[0m \u001b[35m48.1%\u001b[0m • \u001b[32m1.5…\u001b[0m • \u001b[31m1.4 \u001b[0m • \u001b[36m0:0…\u001b[0m\n",
      "\u001b[2K\u001b[1A\u001b[2K\u001b[1;34msubmission_task2_nfi_task2_True_for_eval.parquet\u001b[0m \u001b[91m━\u001b[0m\u001b[91m╸\u001b[0m\u001b[90m━━\u001b[0m \u001b[35m48.4%\u001b[0m • \u001b[32m1.5…\u001b[0m • \u001b[31m1.4 \u001b[0m • \u001b[36m0:0…\u001b[0m\n",
      "\u001b[2K\u001b[1A\u001b[2K\u001b[1;34msubmission_task2_nfi_task2_True_for_eval.parquet\u001b[0m \u001b[91m━\u001b[0m\u001b[91m╸\u001b[0m\u001b[90m━━\u001b[0m \u001b[35m48.6%\u001b[0m • \u001b[32m1.5…\u001b[0m • \u001b[31m1.4 \u001b[0m • \u001b[36m0:0…\u001b[0m\n",
      "\u001b[2K\u001b[1A\u001b[2K\u001b[1;34msubmission_task2_nfi_task2_True_for_eval.parquet\u001b[0m \u001b[91m━\u001b[0m\u001b[91m╸\u001b[0m\u001b[90m━━\u001b[0m \u001b[35m48.9%\u001b[0m • \u001b[32m1.6…\u001b[0m • \u001b[31m1.4 \u001b[0m • \u001b[36m0:0…\u001b[0m\n",
      "\u001b[2K\u001b[1A\u001b[2K\u001b[1;34msubmission_task2_nfi_task2_True_for_eval.parquet\u001b[0m \u001b[91m━\u001b[0m\u001b[91m╸\u001b[0m\u001b[90m━━\u001b[0m \u001b[35m49.1%\u001b[0m • \u001b[32m1.6…\u001b[0m • \u001b[31m1.4 \u001b[0m • \u001b[36m0:0…\u001b[0m\n",
      "\u001b[2K\u001b[1A\u001b[2K\u001b[1;34msubmission_task2_nfi_task2_True_for_eval.parquet\u001b[0m \u001b[91m━\u001b[0m\u001b[91m╸\u001b[0m\u001b[90m━━\u001b[0m \u001b[35m49.4%\u001b[0m • \u001b[32m1.6…\u001b[0m • \u001b[31m1.4 \u001b[0m • \u001b[36m0:0…\u001b[0m\n",
      "\u001b[2K\u001b[1A\u001b[2K\u001b[1;34msubmission_task2_nfi_task2_True_for_eval.parquet\u001b[0m \u001b[91m━\u001b[0m\u001b[91m╸\u001b[0m\u001b[90m━━\u001b[0m \u001b[35m49.6%\u001b[0m • \u001b[32m1.6…\u001b[0m • \u001b[31m1.4 \u001b[0m • \u001b[36m0:0…\u001b[0m\n",
      "\u001b[2K\u001b[1A\u001b[2K\u001b[1;34msubmission_task2_nfi_task2_True_for_eval.parquet\u001b[0m \u001b[91m━\u001b[0m\u001b[91m╸\u001b[0m\u001b[90m━━\u001b[0m \u001b[35m49.9%\u001b[0m • \u001b[32m1.6…\u001b[0m • \u001b[31m1.5 \u001b[0m • \u001b[36m0:0…\u001b[0m\n",
      "\u001b[2K\u001b[1A\u001b[2K\u001b[1;34msubmission_task2_nfi_task2_True_for_eval.parquet\u001b[0m \u001b[91m━━\u001b[0m\u001b[90m╺\u001b[0m\u001b[90m━\u001b[0m \u001b[35m50.2%\u001b[0m • \u001b[32m1.6…\u001b[0m • \u001b[31m1.5 \u001b[0m • \u001b[36m0:0…\u001b[0m\n",
      "\u001b[2K\u001b[1A\u001b[2K\u001b[1;34msubmission_task2_nfi_task2_True_for_eval.parquet\u001b[0m \u001b[91m━━\u001b[0m\u001b[90m╺\u001b[0m\u001b[90m━\u001b[0m \u001b[35m50.4%\u001b[0m • \u001b[32m1.6…\u001b[0m • \u001b[31m1.5 \u001b[0m • \u001b[36m0:0…\u001b[0m\n",
      "\u001b[2K\u001b[1A\u001b[2K\u001b[1;34msubmission_task2_nfi_task2_True_for_eval.parquet\u001b[0m \u001b[91m━━\u001b[0m\u001b[90m╺\u001b[0m\u001b[90m━\u001b[0m \u001b[35m50.7%\u001b[0m • \u001b[32m1.6…\u001b[0m • \u001b[31m1.5 \u001b[0m • \u001b[36m0:0…\u001b[0m\n",
      "\u001b[2K\u001b[1A\u001b[2K\u001b[1;34msubmission_task2_nfi_task2_True_for_eval.parquet\u001b[0m \u001b[91m━━\u001b[0m\u001b[90m╺\u001b[0m\u001b[90m━\u001b[0m \u001b[35m50.9%\u001b[0m • \u001b[32m1.6…\u001b[0m • \u001b[31m1.5 \u001b[0m • \u001b[36m0:0…\u001b[0m\n",
      "\u001b[2K\u001b[1A\u001b[2K\u001b[1;34msubmission_task2_nfi_task2_True_for_eval.parquet\u001b[0m \u001b[91m━━\u001b[0m\u001b[90m╺\u001b[0m\u001b[90m━\u001b[0m \u001b[35m51.2%\u001b[0m • \u001b[32m1.6…\u001b[0m • \u001b[31m1.5 \u001b[0m • \u001b[36m0:0…\u001b[0m\n",
      "\u001b[2K\u001b[1A\u001b[2K\u001b[1;34msubmission_task2_nfi_task2_True_for_eval.parquet\u001b[0m \u001b[91m━━\u001b[0m\u001b[90m╺\u001b[0m\u001b[90m━\u001b[0m \u001b[35m51.4%\u001b[0m • \u001b[32m1.6…\u001b[0m • \u001b[31m1.5 \u001b[0m • \u001b[36m0:0…\u001b[0m\n",
      "\u001b[2K\u001b[1A\u001b[2K\u001b[1;34msubmission_task2_nfi_task2_True_for_eval.parquet\u001b[0m \u001b[91m━━\u001b[0m\u001b[90m╺\u001b[0m\u001b[90m━\u001b[0m \u001b[35m51.7%\u001b[0m • \u001b[32m1.6…\u001b[0m • \u001b[31m1.5 \u001b[0m • \u001b[36m0:0…\u001b[0m\n",
      "\u001b[2K\u001b[1A\u001b[2K\u001b[1;34msubmission_task2_nfi_task2_True_for_eval.parquet\u001b[0m \u001b[91m━━\u001b[0m\u001b[90m╺\u001b[0m\u001b[90m━\u001b[0m \u001b[35m52.0%\u001b[0m • \u001b[32m1.7…\u001b[0m • \u001b[31m1.5 \u001b[0m • \u001b[36m0:0…\u001b[0m\n",
      "\u001b[2K\u001b[1A\u001b[2K\u001b[1;34msubmission_task2_nfi_task2_True_for_eval.parquet\u001b[0m \u001b[91m━━\u001b[0m\u001b[90m╺\u001b[0m\u001b[90m━\u001b[0m \u001b[35m52.2%\u001b[0m • \u001b[32m1.7…\u001b[0m • \u001b[31m1.5 \u001b[0m • \u001b[36m0:0…\u001b[0m\n",
      "\u001b[2K\u001b[1A\u001b[2K\u001b[1;34msubmission_task2_nfi_task2_True_for_eval.parquet\u001b[0m \u001b[91m━━\u001b[0m\u001b[90m╺\u001b[0m\u001b[90m━\u001b[0m \u001b[35m52.5%\u001b[0m • \u001b[32m1.7…\u001b[0m • \u001b[31m1.5 \u001b[0m • \u001b[36m0:0…\u001b[0m\n",
      "\u001b[2K\u001b[1A\u001b[2K\u001b[1;34msubmission_task2_nfi_task2_True_for_eval.parquet\u001b[0m \u001b[91m━━\u001b[0m\u001b[90m╺\u001b[0m\u001b[90m━\u001b[0m \u001b[35m52.7%\u001b[0m • \u001b[32m1.7…\u001b[0m • \u001b[31m1.5 \u001b[0m • \u001b[36m0:0…\u001b[0m\n",
      "\u001b[2K\u001b[1A\u001b[2K\u001b[1;34msubmission_task2_nfi_task2_True_for_eval.parquet\u001b[0m \u001b[91m━━\u001b[0m\u001b[90m╺\u001b[0m\u001b[90m━\u001b[0m \u001b[35m53.0%\u001b[0m • \u001b[32m1.7…\u001b[0m • \u001b[31m1.5 \u001b[0m • \u001b[36m0:0…\u001b[0m\n",
      "\u001b[2K\u001b[1A\u001b[2K\u001b[1;34msubmission_task2_nfi_task2_True_for_eval.parquet\u001b[0m \u001b[91m━━\u001b[0m\u001b[90m╺\u001b[0m\u001b[90m━\u001b[0m \u001b[35m53.2%\u001b[0m • \u001b[32m1.7…\u001b[0m • \u001b[31m1.5 \u001b[0m • \u001b[36m0:0…\u001b[0m\n",
      "\u001b[2K\u001b[1A\u001b[2K\u001b[1;34msubmission_task2_nfi_task2_True_for_eval.parquet\u001b[0m \u001b[91m━━\u001b[0m\u001b[90m╺\u001b[0m\u001b[90m━\u001b[0m \u001b[35m53.5%\u001b[0m • \u001b[32m1.7…\u001b[0m • \u001b[31m1.5 \u001b[0m • \u001b[36m0:0…\u001b[0m\n",
      "\u001b[2K\u001b[1A\u001b[2K\u001b[1;34msubmission_task2_nfi_task2_True_for_eval.parquet\u001b[0m \u001b[91m━━\u001b[0m\u001b[90m╺\u001b[0m\u001b[90m━\u001b[0m \u001b[35m53.8%\u001b[0m • \u001b[32m1.7…\u001b[0m • \u001b[31m1.5 \u001b[0m • \u001b[36m0:0…\u001b[0m\n",
      "\u001b[2K\u001b[1A\u001b[2K\u001b[1;34msubmission_task2_nfi_task2_True_for_eval.parquet\u001b[0m \u001b[91m━━\u001b[0m\u001b[90m╺\u001b[0m\u001b[90m━\u001b[0m \u001b[35m54.0%\u001b[0m • \u001b[32m1.7…\u001b[0m • \u001b[31m1.5 \u001b[0m • \u001b[36m0:0…\u001b[0m\n",
      "\u001b[2K\u001b[1A\u001b[2K\u001b[1;34msubmission_task2_nfi_task2_True_for_eval.parquet\u001b[0m \u001b[91m━━\u001b[0m\u001b[90m╺\u001b[0m\u001b[90m━\u001b[0m \u001b[35m54.3%\u001b[0m • \u001b[32m1.7…\u001b[0m • \u001b[31m1.5 \u001b[0m • \u001b[36m0:0…\u001b[0m\n",
      "\u001b[2K\u001b[1A\u001b[2K\u001b[1;34msubmission_task2_nfi_task2_True_for_eval.parquet\u001b[0m \u001b[91m━━\u001b[0m\u001b[90m╺\u001b[0m\u001b[90m━\u001b[0m \u001b[35m54.5%\u001b[0m • \u001b[32m1.7…\u001b[0m • \u001b[31m1.5 \u001b[0m • \u001b[36m0:0…\u001b[0m\n",
      "\u001b[2K\u001b[1A\u001b[2K\u001b[1;34msubmission_task2_nfi_task2_True_for_eval.parquet\u001b[0m \u001b[91m━━\u001b[0m\u001b[90m╺\u001b[0m\u001b[90m━\u001b[0m \u001b[35m54.8%\u001b[0m • \u001b[32m1.7…\u001b[0m • \u001b[31m1.5 \u001b[0m • \u001b[36m0:0…\u001b[0m\n",
      "\u001b[2K\u001b[1A\u001b[2K\u001b[1;34msubmission_task2_nfi_task2_True_for_eval.parquet\u001b[0m \u001b[91m━━\u001b[0m\u001b[90m╺\u001b[0m\u001b[90m━\u001b[0m \u001b[35m55.0%\u001b[0m • \u001b[32m1.8…\u001b[0m • \u001b[31m1.5 \u001b[0m • \u001b[36m0:0…\u001b[0m\n",
      "\u001b[2K\u001b[1A\u001b[2K\u001b[1;34msubmission_task2_nfi_task2_True_for_eval.parquet\u001b[0m \u001b[91m━━\u001b[0m\u001b[90m╺\u001b[0m\u001b[90m━\u001b[0m \u001b[35m55.3%\u001b[0m • \u001b[32m1.8…\u001b[0m • \u001b[31m1.5 \u001b[0m • \u001b[36m0:0…\u001b[0m\n",
      "\u001b[2K\u001b[1A\u001b[2K\u001b[1;34msubmission_task2_nfi_task2_True_for_eval.parquet\u001b[0m \u001b[91m━━\u001b[0m\u001b[90m╺\u001b[0m\u001b[90m━\u001b[0m \u001b[35m55.6%\u001b[0m • \u001b[32m1.8…\u001b[0m • \u001b[31m1.5 \u001b[0m • \u001b[36m0:0…\u001b[0m\n",
      "\u001b[2K\u001b[1A\u001b[2K\u001b[1;34msubmission_task2_nfi_task2_True_for_eval.parquet\u001b[0m \u001b[91m━━\u001b[0m\u001b[90m╺\u001b[0m\u001b[90m━\u001b[0m \u001b[35m55.8%\u001b[0m • \u001b[32m1.8…\u001b[0m • \u001b[31m1.5 \u001b[0m • \u001b[36m0:0…\u001b[0m\n",
      "\u001b[2K\u001b[1A\u001b[2K\u001b[1;34msubmission_task2_nfi_task2_True_for_eval.parquet\u001b[0m \u001b[91m━━\u001b[0m\u001b[90m╺\u001b[0m\u001b[90m━\u001b[0m \u001b[35m56.1%\u001b[0m • \u001b[32m1.8…\u001b[0m • \u001b[31m1.5 \u001b[0m • \u001b[36m0:0…\u001b[0m\n",
      "\u001b[2K\u001b[1A\u001b[2K\u001b[1;34msubmission_task2_nfi_task2_True_for_eval.parquet\u001b[0m \u001b[91m━━\u001b[0m\u001b[90m╺\u001b[0m\u001b[90m━\u001b[0m \u001b[35m56.1%\u001b[0m • \u001b[32m1.8…\u001b[0m • \u001b[31m1.5 \u001b[0m • \u001b[36m0:0…\u001b[0m\n",
      "\u001b[2K\u001b[1A\u001b[2K\u001b[1;34msubmission_task2_nfi_task2_True_for_eval.parquet\u001b[0m \u001b[91m━━\u001b[0m\u001b[90m╺\u001b[0m\u001b[90m━\u001b[0m \u001b[35m56.3%\u001b[0m • \u001b[32m1.8…\u001b[0m • \u001b[31m1.5 \u001b[0m • \u001b[36m0:0…\u001b[0m\n",
      "\u001b[2K\u001b[1A\u001b[2K\u001b[1;34msubmission_task2_nfi_task2_True_for_eval.parquet\u001b[0m \u001b[91m━━\u001b[0m\u001b[90m╺\u001b[0m\u001b[90m━\u001b[0m \u001b[35m56.6%\u001b[0m • \u001b[32m1.8…\u001b[0m • \u001b[31m1.5 \u001b[0m • \u001b[36m0:0…\u001b[0m\n",
      "\u001b[2K\u001b[1A\u001b[2K\u001b[1;34msubmission_task2_nfi_task2_True_for_eval.parquet\u001b[0m \u001b[91m━━\u001b[0m\u001b[90m╺\u001b[0m\u001b[90m━\u001b[0m \u001b[35m56.8%\u001b[0m • \u001b[32m1.8…\u001b[0m • \u001b[31m1.5 \u001b[0m • \u001b[36m0:0…\u001b[0m\n",
      "\u001b[2K\u001b[1A\u001b[2K\u001b[1;34msubmission_task2_nfi_task2_True_for_eval.parquet\u001b[0m \u001b[91m━━\u001b[0m\u001b[90m╺\u001b[0m\u001b[90m━\u001b[0m \u001b[35m57.1%\u001b[0m • \u001b[32m1.8…\u001b[0m • \u001b[31m1.5 \u001b[0m • \u001b[36m0:0…\u001b[0m\n",
      "\u001b[2K\u001b[1A\u001b[2K\u001b[1;34msubmission_task2_nfi_task2_True_for_eval.parquet\u001b[0m \u001b[91m━━\u001b[0m\u001b[90m╺\u001b[0m\u001b[90m━\u001b[0m \u001b[35m57.4%\u001b[0m • \u001b[32m1.8…\u001b[0m • \u001b[31m1.5 \u001b[0m • \u001b[36m0:0…\u001b[0m\n",
      "\u001b[2K\u001b[1A\u001b[2K\u001b[1;34msubmission_task2_nfi_task2_True_for_eval.parquet\u001b[0m \u001b[91m━━\u001b[0m\u001b[90m╺\u001b[0m\u001b[90m━\u001b[0m \u001b[35m57.6%\u001b[0m • \u001b[32m1.8…\u001b[0m • \u001b[31m1.6 \u001b[0m • \u001b[36m0:0…\u001b[0m\n",
      "\u001b[2K\u001b[1A\u001b[2K\u001b[1;34msubmission_task2_nfi_task2_True_for_eval.parquet\u001b[0m \u001b[91m━━\u001b[0m\u001b[90m╺\u001b[0m\u001b[90m━\u001b[0m \u001b[35m57.9%\u001b[0m • \u001b[32m1.8…\u001b[0m • \u001b[31m1.6 \u001b[0m • \u001b[36m0:0…\u001b[0m\n",
      "\u001b[2K\u001b[1A\u001b[2K\u001b[1;34msubmission_task2_nfi_task2_True_for_eval.parquet\u001b[0m \u001b[91m━━\u001b[0m\u001b[90m╺\u001b[0m\u001b[90m━\u001b[0m \u001b[35m58.1%\u001b[0m • \u001b[32m1.9…\u001b[0m • \u001b[31m1.6 \u001b[0m • \u001b[36m0:0…\u001b[0m\n",
      "\u001b[2K\u001b[1A\u001b[2K\u001b[1;34msubmission_task2_nfi_task2_True_for_eval.parquet\u001b[0m \u001b[91m━━\u001b[0m\u001b[90m╺\u001b[0m\u001b[90m━\u001b[0m \u001b[35m58.4%\u001b[0m • \u001b[32m1.9…\u001b[0m • \u001b[31m1.6 \u001b[0m • \u001b[36m0:0…\u001b[0m\n",
      "\u001b[2K\u001b[1A\u001b[2K\u001b[1;34msubmission_task2_nfi_task2_True_for_eval.parquet\u001b[0m \u001b[91m━━\u001b[0m\u001b[90m╺\u001b[0m\u001b[90m━\u001b[0m \u001b[35m58.6%\u001b[0m • \u001b[32m1.9…\u001b[0m • \u001b[31m1.6 \u001b[0m • \u001b[36m0:0…\u001b[0m\n",
      "\u001b[2K\u001b[1A\u001b[2K\u001b[1;34msubmission_task2_nfi_task2_True_for_eval.parquet\u001b[0m \u001b[91m━━\u001b[0m\u001b[90m╺\u001b[0m\u001b[90m━\u001b[0m \u001b[35m58.9%\u001b[0m • \u001b[32m1.9…\u001b[0m • \u001b[31m1.6 \u001b[0m • \u001b[36m0:0…\u001b[0m\n",
      "\u001b[2K\u001b[1A\u001b[2K\u001b[1;34msubmission_task2_nfi_task2_True_for_eval.parquet\u001b[0m \u001b[91m━━\u001b[0m\u001b[90m╺\u001b[0m\u001b[90m━\u001b[0m \u001b[35m59.2%\u001b[0m • \u001b[32m1.9…\u001b[0m • \u001b[31m1.6 \u001b[0m • \u001b[36m0:0…\u001b[0m\n",
      "\u001b[2K\u001b[1A\u001b[2K\u001b[1;34msubmission_task2_nfi_task2_True_for_eval.parquet\u001b[0m \u001b[91m━━\u001b[0m\u001b[90m╺\u001b[0m\u001b[90m━\u001b[0m \u001b[35m59.4%\u001b[0m • \u001b[32m1.9…\u001b[0m • \u001b[31m1.6 \u001b[0m • \u001b[36m0:0…\u001b[0m\n",
      "\u001b[2K\u001b[1A\u001b[2K\u001b[1;34msubmission_task2_nfi_task2_True_for_eval.parquet\u001b[0m \u001b[91m━━\u001b[0m\u001b[90m╺\u001b[0m\u001b[90m━\u001b[0m \u001b[35m59.7%\u001b[0m • \u001b[32m1.9…\u001b[0m • \u001b[31m1.6 \u001b[0m • \u001b[36m0:0…\u001b[0m\n",
      "\u001b[2K\u001b[1A\u001b[2K\u001b[1;34msubmission_task2_nfi_task2_True_for_eval.parquet\u001b[0m \u001b[91m━━\u001b[0m\u001b[90m╺\u001b[0m\u001b[90m━\u001b[0m \u001b[35m59.9%\u001b[0m • \u001b[32m1.9…\u001b[0m • \u001b[31m1.6 \u001b[0m • \u001b[36m0:0…\u001b[0m\n",
      "\u001b[2K\u001b[1A\u001b[2K\u001b[1;34msubmission_task2_nfi_task2_True_for_eval.parquet\u001b[0m \u001b[91m━━\u001b[0m\u001b[90m╺\u001b[0m\u001b[90m━\u001b[0m \u001b[35m60.2%\u001b[0m • \u001b[32m1.9…\u001b[0m • \u001b[31m1.6 \u001b[0m • \u001b[36m0:0…\u001b[0m\n",
      "\u001b[2K\u001b[1A\u001b[2K\u001b[1;34msubmission_task2_nfi_task2_True_for_eval.parquet\u001b[0m \u001b[91m━━\u001b[0m\u001b[90m╺\u001b[0m\u001b[90m━\u001b[0m \u001b[35m60.4%\u001b[0m • \u001b[32m1.9…\u001b[0m • \u001b[31m1.6 \u001b[0m • \u001b[36m0:0…\u001b[0m\n",
      "\u001b[2K\u001b[1A\u001b[2K\u001b[1;34msubmission_task2_nfi_task2_True_for_eval.parquet\u001b[0m \u001b[91m━━\u001b[0m\u001b[90m╺\u001b[0m\u001b[90m━\u001b[0m \u001b[35m60.7%\u001b[0m • \u001b[32m1.9…\u001b[0m • \u001b[31m1.6 \u001b[0m • \u001b[36m0:0…\u001b[0m\n",
      "\u001b[2K\u001b[1A\u001b[2K\u001b[1;34msubmission_task2_nfi_task2_True_for_eval.parquet\u001b[0m \u001b[91m━━\u001b[0m\u001b[90m╺\u001b[0m\u001b[90m━\u001b[0m \u001b[35m61.0%\u001b[0m • \u001b[32m1.9…\u001b[0m • \u001b[31m1.6 \u001b[0m • \u001b[36m0:0…\u001b[0m\n",
      "\u001b[2K\u001b[1A\u001b[2K\u001b[1;34msubmission_task2_nfi_task2_True_for_eval.parquet\u001b[0m \u001b[91m━━\u001b[0m\u001b[90m╺\u001b[0m\u001b[90m━\u001b[0m \u001b[35m61.2%\u001b[0m • \u001b[32m1.9…\u001b[0m • \u001b[31m1.6 \u001b[0m • \u001b[36m0:0…\u001b[0m\n",
      "\u001b[2K\u001b[1A\u001b[2K\u001b[1;34msubmission_task2_nfi_task2_True_for_eval.parquet\u001b[0m \u001b[91m━━\u001b[0m\u001b[90m╺\u001b[0m\u001b[90m━\u001b[0m \u001b[35m61.5%\u001b[0m • \u001b[32m2.0…\u001b[0m • \u001b[31m1.6 \u001b[0m • \u001b[36m0:0…\u001b[0m\n",
      "\u001b[2K\u001b[1A\u001b[2K\u001b[1;34msubmission_task2_nfi_task2_True_for_eval.parquet\u001b[0m \u001b[91m━━\u001b[0m\u001b[90m╺\u001b[0m\u001b[90m━\u001b[0m \u001b[35m61.7%\u001b[0m • \u001b[32m2.0…\u001b[0m • \u001b[31m1.6 \u001b[0m • \u001b[36m0:0…\u001b[0m\n",
      "\u001b[2K\u001b[1A\u001b[2K\u001b[1;34msubmission_task2_nfi_task2_True_for_eval.parquet\u001b[0m \u001b[91m━━\u001b[0m\u001b[90m╺\u001b[0m\u001b[90m━\u001b[0m \u001b[35m62.0%\u001b[0m • \u001b[32m2.0…\u001b[0m • \u001b[31m1.6 \u001b[0m • \u001b[36m0:0…\u001b[0m\n",
      "\u001b[2K\u001b[1A\u001b[2K\u001b[1;34msubmission_task2_nfi_task2_True_for_eval.parquet\u001b[0m \u001b[91m━━\u001b[0m\u001b[90m╺\u001b[0m\u001b[90m━\u001b[0m \u001b[35m62.2%\u001b[0m • \u001b[32m2.0…\u001b[0m • \u001b[31m1.6 \u001b[0m • \u001b[36m0:0…\u001b[0m\n",
      "\u001b[2K\u001b[1A\u001b[2K\u001b[1;34msubmission_task2_nfi_task2_True_for_eval.parquet\u001b[0m \u001b[91m━━\u001b[0m\u001b[91m╸\u001b[0m\u001b[90m━\u001b[0m \u001b[35m62.5%\u001b[0m • \u001b[32m2.0…\u001b[0m • \u001b[31m1.6 \u001b[0m • \u001b[36m0:0…\u001b[0m\n",
      "\u001b[2K\u001b[1A\u001b[2K\u001b[1;34msubmission_task2_nfi_task2_True_for_eval.parquet\u001b[0m \u001b[91m━━\u001b[0m\u001b[91m╸\u001b[0m\u001b[90m━\u001b[0m \u001b[35m62.8%\u001b[0m • \u001b[32m2.0…\u001b[0m • \u001b[31m1.6 \u001b[0m • \u001b[36m0:0…\u001b[0m\n",
      "\u001b[2K\u001b[1A\u001b[2K\u001b[1;34msubmission_task2_nfi_task2_True_for_eval.parquet\u001b[0m \u001b[91m━━\u001b[0m\u001b[91m╸\u001b[0m\u001b[90m━\u001b[0m \u001b[35m63.0%\u001b[0m • \u001b[32m2.0…\u001b[0m • \u001b[31m1.6 \u001b[0m • \u001b[36m0:0…\u001b[0m\n",
      "\u001b[2K\u001b[1A\u001b[2K\u001b[1;34msubmission_task2_nfi_task2_True_for_eval.parquet\u001b[0m \u001b[91m━━\u001b[0m\u001b[91m╸\u001b[0m\u001b[90m━\u001b[0m \u001b[35m63.3%\u001b[0m • \u001b[32m2.0…\u001b[0m • \u001b[31m1.6 \u001b[0m • \u001b[36m0:0…\u001b[0m\n",
      "\u001b[2K\u001b[1A\u001b[2K\u001b[1;34msubmission_task2_nfi_task2_True_for_eval.parquet\u001b[0m \u001b[91m━━\u001b[0m\u001b[91m╸\u001b[0m\u001b[90m━\u001b[0m \u001b[35m63.5%\u001b[0m • \u001b[32m2.0…\u001b[0m • \u001b[31m1.6 \u001b[0m • \u001b[36m0:0…\u001b[0m\n",
      "\u001b[2K\u001b[1A\u001b[2K\u001b[1;34msubmission_task2_nfi_task2_True_for_eval.parquet\u001b[0m \u001b[91m━━\u001b[0m\u001b[91m╸\u001b[0m\u001b[90m━\u001b[0m \u001b[35m63.8%\u001b[0m • \u001b[32m2.0…\u001b[0m • \u001b[31m1.6 \u001b[0m • \u001b[36m0:0…\u001b[0m\n",
      "\u001b[2K\u001b[1A\u001b[2K\u001b[1;34msubmission_task2_nfi_task2_True_for_eval.parquet\u001b[0m \u001b[91m━━\u001b[0m\u001b[91m╸\u001b[0m\u001b[90m━\u001b[0m \u001b[35m64.0%\u001b[0m • \u001b[32m2.0…\u001b[0m • \u001b[31m1.6 \u001b[0m • \u001b[36m0:0…\u001b[0m\n",
      "\u001b[2K\u001b[1A\u001b[2K\u001b[1;34msubmission_task2_nfi_task2_True_for_eval.parquet\u001b[0m \u001b[91m━━\u001b[0m\u001b[91m╸\u001b[0m\u001b[90m━\u001b[0m \u001b[35m64.3%\u001b[0m • \u001b[32m2.0…\u001b[0m • \u001b[31m1.6 \u001b[0m • \u001b[36m0:0…\u001b[0m\n",
      "\u001b[2K\u001b[1A\u001b[2K\u001b[1;34msubmission_task2_nfi_task2_True_for_eval.parquet\u001b[0m \u001b[91m━━\u001b[0m\u001b[91m╸\u001b[0m\u001b[90m━\u001b[0m \u001b[35m64.6%\u001b[0m • \u001b[32m2.1…\u001b[0m • \u001b[31m1.6 \u001b[0m • \u001b[36m0:0…\u001b[0m\n",
      "\u001b[2K\u001b[1A\u001b[2K\u001b[1;34msubmission_task2_nfi_task2_True_for_eval.parquet\u001b[0m \u001b[91m━━\u001b[0m\u001b[91m╸\u001b[0m\u001b[90m━\u001b[0m \u001b[35m64.8%\u001b[0m • \u001b[32m2.1…\u001b[0m • \u001b[31m1.6 \u001b[0m • \u001b[36m0:0…\u001b[0m\n",
      "\u001b[2K\u001b[1A\u001b[2K\u001b[1;34msubmission_task2_nfi_task2_True_for_eval.parquet\u001b[0m \u001b[91m━━\u001b[0m\u001b[91m╸\u001b[0m\u001b[90m━\u001b[0m \u001b[35m65.1%\u001b[0m • \u001b[32m2.1…\u001b[0m • \u001b[31m1.6 \u001b[0m • \u001b[36m0:0…\u001b[0m\n",
      "\u001b[2K\u001b[1A\u001b[2K\u001b[1;34msubmission_task2_nfi_task2_True_for_eval.parquet\u001b[0m \u001b[91m━━\u001b[0m\u001b[91m╸\u001b[0m\u001b[90m━\u001b[0m \u001b[35m65.1%\u001b[0m • \u001b[32m2.1…\u001b[0m • \u001b[31m1.6 \u001b[0m • \u001b[36m0:0…\u001b[0m\n",
      "\u001b[2K\u001b[1A\u001b[2K\u001b[1;34msubmission_task2_nfi_task2_True_for_eval.parquet\u001b[0m \u001b[91m━━\u001b[0m\u001b[91m╸\u001b[0m\u001b[90m━\u001b[0m \u001b[35m65.3%\u001b[0m • \u001b[32m2.1…\u001b[0m • \u001b[31m1.6 \u001b[0m • \u001b[36m0:0…\u001b[0m\n",
      "\u001b[2K\u001b[1A\u001b[2K\u001b[1;34msubmission_task2_nfi_task2_True_for_eval.parquet\u001b[0m \u001b[91m━━\u001b[0m\u001b[91m╸\u001b[0m\u001b[90m━\u001b[0m \u001b[35m65.6%\u001b[0m • \u001b[32m2.1…\u001b[0m • \u001b[31m1.6 \u001b[0m • \u001b[36m0:0…\u001b[0m\n",
      "\u001b[2K\u001b[1A\u001b[2K\u001b[1;34msubmission_task2_nfi_task2_True_for_eval.parquet\u001b[0m \u001b[91m━━\u001b[0m\u001b[91m╸\u001b[0m\u001b[90m━\u001b[0m \u001b[35m65.9%\u001b[0m • \u001b[32m2.1…\u001b[0m • \u001b[31m1.6 \u001b[0m • \u001b[36m0:0…\u001b[0m\n",
      "\u001b[2K\u001b[1A\u001b[2K\u001b[1;34msubmission_task2_nfi_task2_True_for_eval.parquet\u001b[0m \u001b[91m━━\u001b[0m\u001b[91m╸\u001b[0m\u001b[90m━\u001b[0m \u001b[35m66.1%\u001b[0m • \u001b[32m2.1…\u001b[0m • \u001b[31m1.6 \u001b[0m • \u001b[36m0:0…\u001b[0m\n",
      "\u001b[2K\u001b[1A\u001b[2K\u001b[1;34msubmission_task2_nfi_task2_True_for_eval.parquet\u001b[0m \u001b[91m━━\u001b[0m\u001b[91m╸\u001b[0m\u001b[90m━\u001b[0m \u001b[35m66.4%\u001b[0m • \u001b[32m2.1…\u001b[0m • \u001b[31m1.6 \u001b[0m • \u001b[36m0:0…\u001b[0m\n",
      "\u001b[2K\u001b[1A\u001b[2K\u001b[1;34msubmission_task2_nfi_task2_True_for_eval.parquet\u001b[0m \u001b[91m━━\u001b[0m\u001b[91m╸\u001b[0m\u001b[90m━\u001b[0m \u001b[35m66.6%\u001b[0m • \u001b[32m2.1…\u001b[0m • \u001b[31m1.6 \u001b[0m • \u001b[36m0:0…\u001b[0m\n",
      "\u001b[2K\u001b[1A\u001b[2K\u001b[1;34msubmission_task2_nfi_task2_True_for_eval.parquet\u001b[0m \u001b[91m━━\u001b[0m\u001b[91m╸\u001b[0m\u001b[90m━\u001b[0m \u001b[35m66.9%\u001b[0m • \u001b[32m2.1…\u001b[0m • \u001b[31m1.7 \u001b[0m • \u001b[36m0:0…\u001b[0m\n",
      "\u001b[2K\u001b[1A\u001b[2K\u001b[1;34msubmission_task2_nfi_task2_True_for_eval.parquet\u001b[0m \u001b[91m━━\u001b[0m\u001b[91m╸\u001b[0m\u001b[90m━\u001b[0m \u001b[35m67.1%\u001b[0m • \u001b[32m2.1…\u001b[0m • \u001b[31m1.7 \u001b[0m • \u001b[36m0:0…\u001b[0m\n",
      "\u001b[2K\u001b[1A\u001b[2K\u001b[1;34msubmission_task2_nfi_task2_True_for_eval.parquet\u001b[0m \u001b[91m━━\u001b[0m\u001b[91m╸\u001b[0m\u001b[90m━\u001b[0m \u001b[35m67.4%\u001b[0m • \u001b[32m2.1…\u001b[0m • \u001b[31m1.7 \u001b[0m • \u001b[36m0:0…\u001b[0m\n",
      "\u001b[2K\u001b[1A\u001b[2K\u001b[1;34msubmission_task2_nfi_task2_True_for_eval.parquet\u001b[0m \u001b[91m━━\u001b[0m\u001b[91m╸\u001b[0m\u001b[90m━\u001b[0m \u001b[35m67.7%\u001b[0m • \u001b[32m2.2…\u001b[0m • \u001b[31m1.7 \u001b[0m • \u001b[36m0:0…\u001b[0m\n",
      "\u001b[2K\u001b[1A\u001b[2K\u001b[1;34msubmission_task2_nfi_task2_True_for_eval.parquet\u001b[0m \u001b[91m━━\u001b[0m\u001b[91m╸\u001b[0m\u001b[90m━\u001b[0m \u001b[35m67.9%\u001b[0m • \u001b[32m2.2…\u001b[0m • \u001b[31m1.7 \u001b[0m • \u001b[36m0:0…\u001b[0m\n",
      "\u001b[2K\u001b[1A\u001b[2K\u001b[1;34msubmission_task2_nfi_task2_True_for_eval.parquet\u001b[0m \u001b[91m━━\u001b[0m\u001b[91m╸\u001b[0m\u001b[90m━\u001b[0m \u001b[35m68.2%\u001b[0m • \u001b[32m2.2…\u001b[0m • \u001b[31m1.7 \u001b[0m • \u001b[36m0:0…\u001b[0m\n",
      "\u001b[2K\u001b[1A\u001b[2K\u001b[1;34msubmission_task2_nfi_task2_True_for_eval.parquet\u001b[0m \u001b[91m━━\u001b[0m\u001b[91m╸\u001b[0m\u001b[90m━\u001b[0m \u001b[35m68.4%\u001b[0m • \u001b[32m2.2…\u001b[0m • \u001b[31m1.7 \u001b[0m • \u001b[36m0:0…\u001b[0m\n",
      "\u001b[2K\u001b[1A\u001b[2K\u001b[1;34msubmission_task2_nfi_task2_True_for_eval.parquet\u001b[0m \u001b[91m━━\u001b[0m\u001b[91m╸\u001b[0m\u001b[90m━\u001b[0m \u001b[35m68.7%\u001b[0m • \u001b[32m2.2…\u001b[0m • \u001b[31m1.7 \u001b[0m • \u001b[36m0:0…\u001b[0m\n",
      "\u001b[2K\u001b[1A\u001b[2K\u001b[1;34msubmission_task2_nfi_task2_True_for_eval.parquet\u001b[0m \u001b[91m━━\u001b[0m\u001b[91m╸\u001b[0m\u001b[90m━\u001b[0m \u001b[35m68.9%\u001b[0m • \u001b[32m2.2…\u001b[0m • \u001b[31m1.7 \u001b[0m • \u001b[36m0:0…\u001b[0m\n",
      "\u001b[2K\u001b[1A\u001b[2K\u001b[1;34msubmission_task2_nfi_task2_True_for_eval.parquet\u001b[0m \u001b[91m━━\u001b[0m\u001b[91m╸\u001b[0m\u001b[90m━\u001b[0m \u001b[35m69.2%\u001b[0m • \u001b[32m2.2…\u001b[0m • \u001b[31m1.7 \u001b[0m • \u001b[36m0:0…\u001b[0m\n",
      "\u001b[2K\u001b[1A\u001b[2K\u001b[1;34msubmission_task2_nfi_task2_True_for_eval.parquet\u001b[0m \u001b[91m━━\u001b[0m\u001b[91m╸\u001b[0m\u001b[90m━\u001b[0m \u001b[35m69.5%\u001b[0m • \u001b[32m2.2…\u001b[0m • \u001b[31m1.7 \u001b[0m • \u001b[36m0:0…\u001b[0m\n",
      "\u001b[2K\u001b[1A\u001b[2K\u001b[1;34msubmission_task2_nfi_task2_True_for_eval.parquet\u001b[0m \u001b[91m━━\u001b[0m\u001b[91m╸\u001b[0m\u001b[90m━\u001b[0m \u001b[35m69.7%\u001b[0m • \u001b[32m2.2…\u001b[0m • \u001b[31m1.7 \u001b[0m • \u001b[36m0:0…\u001b[0m\n",
      "\u001b[2K\u001b[1A\u001b[2K\u001b[1;34msubmission_task2_nfi_task2_True_for_eval.parquet\u001b[0m \u001b[91m━━\u001b[0m\u001b[91m╸\u001b[0m\u001b[90m━\u001b[0m \u001b[35m70.0%\u001b[0m • \u001b[32m2.2…\u001b[0m • \u001b[31m1.7 \u001b[0m • \u001b[36m0:0…\u001b[0m\n",
      "\u001b[2K\u001b[1A\u001b[2K\u001b[1;34msubmission_task2_nfi_task2_True_for_eval.parquet\u001b[0m \u001b[91m━━\u001b[0m\u001b[91m╸\u001b[0m\u001b[90m━\u001b[0m \u001b[35m70.2%\u001b[0m • \u001b[32m2.2…\u001b[0m • \u001b[31m1.7 \u001b[0m • \u001b[36m0:0…\u001b[0m\n",
      "\u001b[2K\u001b[1A\u001b[2K\u001b[1;34msubmission_task2_nfi_task2_True_for_eval.parquet\u001b[0m \u001b[91m━━\u001b[0m\u001b[91m╸\u001b[0m\u001b[90m━\u001b[0m \u001b[35m70.5%\u001b[0m • \u001b[32m2.2…\u001b[0m • \u001b[31m1.7 \u001b[0m • \u001b[36m0:0…\u001b[0m\n",
      "\u001b[2K\u001b[1A\u001b[2K\u001b[1;34msubmission_task2_nfi_task2_True_for_eval.parquet\u001b[0m \u001b[91m━━\u001b[0m\u001b[91m╸\u001b[0m\u001b[90m━\u001b[0m \u001b[35m70.7%\u001b[0m • \u001b[32m2.3…\u001b[0m • \u001b[31m1.7 \u001b[0m • \u001b[36m0:0…\u001b[0m\n",
      "\u001b[2K\u001b[1A\u001b[2K\u001b[1;34msubmission_task2_nfi_task2_True_for_eval.parquet\u001b[0m \u001b[91m━━\u001b[0m\u001b[91m╸\u001b[0m\u001b[90m━\u001b[0m \u001b[35m71.0%\u001b[0m • \u001b[32m2.3…\u001b[0m • \u001b[31m1.7 \u001b[0m • \u001b[36m0:0…\u001b[0m\n",
      "\u001b[2K\u001b[1A\u001b[2K\u001b[1;34msubmission_task2_nfi_task2_True_for_eval.parquet\u001b[0m \u001b[91m━━\u001b[0m\u001b[91m╸\u001b[0m\u001b[90m━\u001b[0m \u001b[35m71.3%\u001b[0m • \u001b[32m2.3…\u001b[0m • \u001b[31m1.7 \u001b[0m • \u001b[36m0:0…\u001b[0m\n",
      "\u001b[2K\u001b[1A\u001b[2K\u001b[1;34msubmission_task2_nfi_task2_True_for_eval.parquet\u001b[0m \u001b[91m━━\u001b[0m\u001b[91m╸\u001b[0m\u001b[90m━\u001b[0m \u001b[35m71.5%\u001b[0m • \u001b[32m2.3…\u001b[0m • \u001b[31m1.7 \u001b[0m • \u001b[36m0:0…\u001b[0m\n",
      "\u001b[2K\u001b[1A\u001b[2K\u001b[1;34msubmission_task2_nfi_task2_True_for_eval.parquet\u001b[0m \u001b[91m━━\u001b[0m\u001b[91m╸\u001b[0m\u001b[90m━\u001b[0m \u001b[35m71.8%\u001b[0m • \u001b[32m2.3…\u001b[0m • \u001b[31m1.7 \u001b[0m • \u001b[36m0:0…\u001b[0m\n",
      "\u001b[2K\u001b[1A\u001b[2K\u001b[1;34msubmission_task2_nfi_task2_True_for_eval.parquet\u001b[0m \u001b[91m━━\u001b[0m\u001b[91m╸\u001b[0m\u001b[90m━\u001b[0m \u001b[35m72.0%\u001b[0m • \u001b[32m2.3…\u001b[0m • \u001b[31m1.7 \u001b[0m • \u001b[36m0:0…\u001b[0m\n",
      "\u001b[2K\u001b[1A\u001b[2K\u001b[1;34msubmission_task2_nfi_task2_True_for_eval.parquet\u001b[0m \u001b[91m━━\u001b[0m\u001b[91m╸\u001b[0m\u001b[90m━\u001b[0m \u001b[35m72.3%\u001b[0m • \u001b[32m2.3…\u001b[0m • \u001b[31m1.7 \u001b[0m • \u001b[36m0:0…\u001b[0m\n",
      "\u001b[2K\u001b[1A\u001b[2K\u001b[1;34msubmission_task2_nfi_task2_True_for_eval.parquet\u001b[0m \u001b[91m━━\u001b[0m\u001b[91m╸\u001b[0m\u001b[90m━\u001b[0m \u001b[35m72.5%\u001b[0m • \u001b[32m2.3…\u001b[0m • \u001b[31m1.7 \u001b[0m • \u001b[36m0:0…\u001b[0m\n",
      "\u001b[2K\u001b[1A\u001b[2K\u001b[1;34msubmission_task2_nfi_task2_True_for_eval.parquet\u001b[0m \u001b[91m━━\u001b[0m\u001b[91m╸\u001b[0m\u001b[90m━\u001b[0m \u001b[35m72.8%\u001b[0m • \u001b[32m2.3…\u001b[0m • \u001b[31m1.7 \u001b[0m • \u001b[36m0:0…\u001b[0m\n",
      "\u001b[2K\u001b[1A\u001b[2K\u001b[1;34msubmission_task2_nfi_task2_True_for_eval.parquet\u001b[0m \u001b[91m━━\u001b[0m\u001b[91m╸\u001b[0m\u001b[90m━\u001b[0m \u001b[35m73.1%\u001b[0m • \u001b[32m2.3…\u001b[0m • \u001b[31m1.7 \u001b[0m • \u001b[36m0:0…\u001b[0m\n",
      "\u001b[2K\u001b[1A\u001b[2K\u001b[1;34msubmission_task2_nfi_task2_True_for_eval.parquet\u001b[0m \u001b[91m━━\u001b[0m\u001b[91m╸\u001b[0m\u001b[90m━\u001b[0m \u001b[35m73.3%\u001b[0m • \u001b[32m2.3…\u001b[0m • \u001b[31m1.7 \u001b[0m • \u001b[36m0:0…\u001b[0m\n",
      "\u001b[2K\u001b[1A\u001b[2K\u001b[1;34msubmission_task2_nfi_task2_True_for_eval.parquet\u001b[0m \u001b[91m━━\u001b[0m\u001b[91m╸\u001b[0m\u001b[90m━\u001b[0m \u001b[35m73.6%\u001b[0m • \u001b[32m2.3…\u001b[0m • \u001b[31m1.7 \u001b[0m • \u001b[36m0:0…\u001b[0m\n",
      "\u001b[2K\u001b[1A\u001b[2K\u001b[1;34msubmission_task2_nfi_task2_True_for_eval.parquet\u001b[0m \u001b[91m━━\u001b[0m\u001b[91m╸\u001b[0m\u001b[90m━\u001b[0m \u001b[35m73.8%\u001b[0m • \u001b[32m2.4…\u001b[0m • \u001b[31m1.7 \u001b[0m • \u001b[36m0:0…\u001b[0m\n",
      "\u001b[2K\u001b[1A\u001b[2K\u001b[1;34msubmission_task2_nfi_task2_True_for_eval.parquet\u001b[0m \u001b[91m━━\u001b[0m\u001b[91m╸\u001b[0m\u001b[90m━\u001b[0m \u001b[35m74.1%\u001b[0m • \u001b[32m2.4…\u001b[0m • \u001b[31m1.7 \u001b[0m • \u001b[36m0:0…\u001b[0m\n",
      "\u001b[2K\u001b[1A\u001b[2K\u001b[1;34msubmission_task2_nfi_task2_True_for_eval.parquet\u001b[0m \u001b[91m━━\u001b[0m\u001b[91m╸\u001b[0m\u001b[90m━\u001b[0m \u001b[35m74.1%\u001b[0m • \u001b[32m2.4…\u001b[0m • \u001b[31m1.7 \u001b[0m • \u001b[36m0:0…\u001b[0m\n",
      "\u001b[2K\u001b[1A\u001b[2K\u001b[1;34msubmission_task2_nfi_task2_True_for_eval.parquet\u001b[0m \u001b[91m━━\u001b[0m\u001b[91m╸\u001b[0m\u001b[90m━\u001b[0m \u001b[35m74.3%\u001b[0m • \u001b[32m2.4…\u001b[0m • \u001b[31m1.7 \u001b[0m • \u001b[36m0:0…\u001b[0m\n",
      "\u001b[2K\u001b[1A\u001b[2K\u001b[1;34msubmission_task2_nfi_task2_True_for_eval.parquet\u001b[0m \u001b[91m━━\u001b[0m\u001b[91m╸\u001b[0m\u001b[90m━\u001b[0m \u001b[35m74.6%\u001b[0m • \u001b[32m2.4…\u001b[0m • \u001b[31m1.7 \u001b[0m • \u001b[36m0:0…\u001b[0m\n",
      "\u001b[2K\u001b[1A\u001b[2K\u001b[1;34msubmission_task2_nfi_task2_True_for_eval.parquet\u001b[0m \u001b[91m━━\u001b[0m\u001b[91m╸\u001b[0m\u001b[90m━\u001b[0m \u001b[35m74.9%\u001b[0m • \u001b[32m2.4…\u001b[0m • \u001b[31m1.7 \u001b[0m • \u001b[36m0:0…\u001b[0m\n",
      "\u001b[2K\u001b[1A\u001b[2K\u001b[1;34msubmission_task2_nfi_task2_True_for_eval.parquet\u001b[0m \u001b[91m━━━\u001b[0m\u001b[90m╺\u001b[0m \u001b[35m75.1%\u001b[0m • \u001b[32m2.4…\u001b[0m • \u001b[31m1.7 \u001b[0m • \u001b[36m0:0…\u001b[0m\n",
      "\u001b[2K\u001b[1A\u001b[2K\u001b[1;34msubmission_task2_nfi_task2_True_for_eval.parquet\u001b[0m \u001b[91m━━━\u001b[0m\u001b[90m╺\u001b[0m \u001b[35m75.4%\u001b[0m • \u001b[32m2.4…\u001b[0m • \u001b[31m1.7 \u001b[0m • \u001b[36m0:0…\u001b[0m\n",
      "\u001b[2K\u001b[1A\u001b[2K\u001b[1;34msubmission_task2_nfi_task2_True_for_eval.parquet\u001b[0m \u001b[91m━━━\u001b[0m\u001b[90m╺\u001b[0m \u001b[35m75.6%\u001b[0m • \u001b[32m2.4…\u001b[0m • \u001b[31m1.7 \u001b[0m • \u001b[36m0:0…\u001b[0m\n",
      "\u001b[2K\u001b[1A\u001b[2K\u001b[1;34msubmission_task2_nfi_task2_True_for_eval.parquet\u001b[0m \u001b[91m━━━\u001b[0m\u001b[90m╺\u001b[0m \u001b[35m75.9%\u001b[0m • \u001b[32m2.4…\u001b[0m • \u001b[31m1.7 \u001b[0m • \u001b[36m0:0…\u001b[0m\n",
      "\u001b[2K\u001b[1A\u001b[2K\u001b[1;34msubmission_task2_nfi_task2_True_for_eval.parquet\u001b[0m \u001b[91m━━━\u001b[0m\u001b[90m╺\u001b[0m \u001b[35m76.1%\u001b[0m • \u001b[32m2.4…\u001b[0m • \u001b[31m1.7 \u001b[0m • \u001b[36m0:0…\u001b[0m\n",
      "\u001b[2K\u001b[1A\u001b[2K\u001b[1;34msubmission_task2_nfi_task2_True_for_eval.parquet\u001b[0m \u001b[91m━━━\u001b[0m\u001b[90m╺\u001b[0m \u001b[35m76.4%\u001b[0m • \u001b[32m2.4…\u001b[0m • \u001b[31m1.7 \u001b[0m • \u001b[36m0:0…\u001b[0m\n",
      "\u001b[2K\u001b[1A\u001b[2K\u001b[1;34msubmission_task2_nfi_task2_True_for_eval.parquet\u001b[0m \u001b[91m━━━\u001b[0m\u001b[90m╺\u001b[0m \u001b[35m76.7%\u001b[0m • \u001b[32m2.4…\u001b[0m • \u001b[31m1.7 \u001b[0m • \u001b[36m0:0…\u001b[0m\n",
      "\u001b[2K\u001b[1A\u001b[2K\u001b[1;34msubmission_task2_nfi_task2_True_for_eval.parquet\u001b[0m \u001b[91m━━━\u001b[0m\u001b[90m╺\u001b[0m \u001b[35m76.9%\u001b[0m • \u001b[32m2.4…\u001b[0m • \u001b[31m1.7 \u001b[0m • \u001b[36m0:0…\u001b[0m\n",
      "\u001b[2K\u001b[1A\u001b[2K\u001b[1;34msubmission_task2_nfi_task2_True_for_eval.parquet\u001b[0m \u001b[91m━━━\u001b[0m\u001b[90m╺\u001b[0m \u001b[35m77.2%\u001b[0m • \u001b[32m2.5…\u001b[0m • \u001b[31m1.7 \u001b[0m • \u001b[36m0:0…\u001b[0m\n",
      "\u001b[2K\u001b[1A\u001b[2K\u001b[1;34msubmission_task2_nfi_task2_True_for_eval.parquet\u001b[0m \u001b[91m━━━\u001b[0m\u001b[90m╺\u001b[0m \u001b[35m77.4%\u001b[0m • \u001b[32m2.5…\u001b[0m • \u001b[31m1.7 \u001b[0m • \u001b[36m0:0…\u001b[0m\n",
      "\u001b[2K\u001b[1A\u001b[2K\u001b[1;34msubmission_task2_nfi_task2_True_for_eval.parquet\u001b[0m \u001b[91m━━━\u001b[0m\u001b[90m╺\u001b[0m \u001b[35m77.7%\u001b[0m • \u001b[32m2.5…\u001b[0m • \u001b[31m1.7 \u001b[0m • \u001b[36m0:0…\u001b[0m\n",
      "\u001b[2K\u001b[1A\u001b[2K\u001b[1;34msubmission_task2_nfi_task2_True_for_eval.parquet\u001b[0m \u001b[91m━━━\u001b[0m\u001b[90m╺\u001b[0m \u001b[35m77.9%\u001b[0m • \u001b[32m2.5…\u001b[0m • \u001b[31m1.7 \u001b[0m • \u001b[36m0:0…\u001b[0m\n",
      "\u001b[2K\u001b[1A\u001b[2K\u001b[1;34msubmission_task2_nfi_task2_True_for_eval.parquet\u001b[0m \u001b[91m━━━\u001b[0m\u001b[90m╺\u001b[0m \u001b[35m78.2%\u001b[0m • \u001b[32m2.5…\u001b[0m • \u001b[31m1.7 \u001b[0m • \u001b[36m0:0…\u001b[0m\n",
      "\u001b[2K\u001b[1A\u001b[2K\u001b[1;34msubmission_task2_nfi_task2_True_for_eval.parquet\u001b[0m \u001b[91m━━━\u001b[0m\u001b[90m╺\u001b[0m \u001b[35m78.5%\u001b[0m • \u001b[32m2.5…\u001b[0m • \u001b[31m1.7 \u001b[0m • \u001b[36m0:0…\u001b[0m\n",
      "\u001b[2K\u001b[1A\u001b[2K\u001b[1;34msubmission_task2_nfi_task2_True_for_eval.parquet\u001b[0m \u001b[91m━━━\u001b[0m\u001b[90m╺\u001b[0m \u001b[35m78.7%\u001b[0m • \u001b[32m2.5…\u001b[0m • \u001b[31m1.8 \u001b[0m • \u001b[36m0:0…\u001b[0m\n",
      "\u001b[2K\u001b[1A\u001b[2K\u001b[1;34msubmission_task2_nfi_task2_True_for_eval.parquet\u001b[0m \u001b[91m━━━\u001b[0m\u001b[90m╺\u001b[0m \u001b[35m79.0%\u001b[0m • \u001b[32m2.5…\u001b[0m • \u001b[31m1.8 \u001b[0m • \u001b[36m0:0…\u001b[0m\n",
      "\u001b[2K\u001b[1A\u001b[2K\u001b[1;34msubmission_task2_nfi_task2_True_for_eval.parquet\u001b[0m \u001b[91m━━━\u001b[0m\u001b[90m╺\u001b[0m \u001b[35m79.2%\u001b[0m • \u001b[32m2.5…\u001b[0m • \u001b[31m1.8 \u001b[0m • \u001b[36m0:0…\u001b[0m\n",
      "\u001b[2K\u001b[1A\u001b[2K\u001b[1;34msubmission_task2_nfi_task2_True_for_eval.parquet\u001b[0m \u001b[91m━━━\u001b[0m\u001b[90m╺\u001b[0m \u001b[35m79.5%\u001b[0m • \u001b[32m2.5…\u001b[0m • \u001b[31m1.8 \u001b[0m • \u001b[36m0:0…\u001b[0m\n",
      "\u001b[2K\u001b[1A\u001b[2K\u001b[1;34msubmission_task2_nfi_task2_True_for_eval.parquet\u001b[0m \u001b[91m━━━\u001b[0m\u001b[90m╺\u001b[0m \u001b[35m79.7%\u001b[0m • \u001b[32m2.5…\u001b[0m • \u001b[31m1.8 \u001b[0m • \u001b[36m0:0…\u001b[0m\n",
      "\u001b[2K\u001b[1A\u001b[2K\u001b[1;34msubmission_task2_nfi_task2_True_for_eval.parquet\u001b[0m \u001b[91m━━━\u001b[0m\u001b[90m╺\u001b[0m \u001b[35m80.0%\u001b[0m • \u001b[32m2.5…\u001b[0m • \u001b[31m1.8 \u001b[0m • \u001b[36m0:0…\u001b[0m\n",
      "\u001b[2K\u001b[1A\u001b[2K\u001b[1;34msubmission_task2_nfi_task2_True_for_eval.parquet\u001b[0m \u001b[91m━━━\u001b[0m\u001b[90m╺\u001b[0m \u001b[35m80.3%\u001b[0m • \u001b[32m2.6…\u001b[0m • \u001b[31m1.8 \u001b[0m • \u001b[36m0:0…\u001b[0m\n",
      "\u001b[2K\u001b[1A\u001b[2K\u001b[1;34msubmission_task2_nfi_task2_True_for_eval.parquet\u001b[0m \u001b[91m━━━\u001b[0m\u001b[90m╺\u001b[0m \u001b[35m80.5%\u001b[0m • \u001b[32m2.6…\u001b[0m • \u001b[31m1.8 \u001b[0m • \u001b[36m0:0…\u001b[0m\n",
      "\u001b[2K\u001b[1A\u001b[2K\u001b[1;34msubmission_task2_nfi_task2_True_for_eval.parquet\u001b[0m \u001b[91m━━━\u001b[0m\u001b[90m╺\u001b[0m \u001b[35m80.8%\u001b[0m • \u001b[32m2.6…\u001b[0m • \u001b[31m1.8 \u001b[0m • \u001b[36m0:0…\u001b[0m\n",
      "\u001b[2K\u001b[1A\u001b[2K\u001b[1;34msubmission_task2_nfi_task2_True_for_eval.parquet\u001b[0m \u001b[91m━━━\u001b[0m\u001b[90m╺\u001b[0m \u001b[35m81.0%\u001b[0m • \u001b[32m2.6…\u001b[0m • \u001b[31m1.8 \u001b[0m • \u001b[36m0:0…\u001b[0m\n",
      "\u001b[2K\u001b[1A\u001b[2K\u001b[1;34msubmission_task2_nfi_task2_True_for_eval.parquet\u001b[0m \u001b[91m━━━\u001b[0m\u001b[90m╺\u001b[0m \u001b[35m81.3%\u001b[0m • \u001b[32m2.6…\u001b[0m • \u001b[31m1.8 \u001b[0m • \u001b[36m0:0…\u001b[0m\n",
      "\u001b[2K\u001b[1A\u001b[2K\u001b[1;34msubmission_task2_nfi_task2_True_for_eval.parquet\u001b[0m \u001b[91m━━━\u001b[0m\u001b[90m╺\u001b[0m \u001b[35m81.5%\u001b[0m • \u001b[32m2.6…\u001b[0m • \u001b[31m1.8 \u001b[0m • \u001b[36m0:0…\u001b[0m\n",
      "\u001b[2K\u001b[1A\u001b[2K\u001b[1;34msubmission_task2_nfi_task2_True_for_eval.parquet\u001b[0m \u001b[91m━━━\u001b[0m\u001b[90m╺\u001b[0m \u001b[35m81.8%\u001b[0m • \u001b[32m2.6…\u001b[0m • \u001b[31m1.8 \u001b[0m • \u001b[36m0:0…\u001b[0m\n",
      "\u001b[2K\u001b[1A\u001b[2K\u001b[1;34msubmission_task2_nfi_task2_True_for_eval.parquet\u001b[0m \u001b[91m━━━\u001b[0m\u001b[90m╺\u001b[0m \u001b[35m82.1%\u001b[0m • \u001b[32m2.6…\u001b[0m • \u001b[31m1.8 \u001b[0m • \u001b[36m0:0…\u001b[0m\n",
      "\u001b[2K\u001b[1A\u001b[2K\u001b[1;34msubmission_task2_nfi_task2_True_for_eval.parquet\u001b[0m \u001b[91m━━━\u001b[0m\u001b[90m╺\u001b[0m \u001b[35m82.3%\u001b[0m • \u001b[32m2.6…\u001b[0m • \u001b[31m1.8 \u001b[0m • \u001b[36m0:0…\u001b[0m\n",
      "\u001b[2K\u001b[1A\u001b[2K\u001b[1;34msubmission_task2_nfi_task2_True_for_eval.parquet\u001b[0m \u001b[91m━━━\u001b[0m\u001b[90m╺\u001b[0m \u001b[35m82.6%\u001b[0m • \u001b[32m2.6…\u001b[0m • \u001b[31m1.8 \u001b[0m • \u001b[36m0:0…\u001b[0m\n",
      "\u001b[2K\u001b[1A\u001b[2K\u001b[1;34msubmission_task2_nfi_task2_True_for_eval.parquet\u001b[0m \u001b[91m━━━\u001b[0m\u001b[90m╺\u001b[0m \u001b[35m82.6%\u001b[0m • \u001b[32m2.6…\u001b[0m • \u001b[31m1.8 \u001b[0m • \u001b[36m0:0…\u001b[0m\n",
      "\u001b[2K\u001b[1A\u001b[2K\u001b[1;34msubmission_task2_nfi_task2_True_for_eval.parquet\u001b[0m \u001b[91m━━━\u001b[0m\u001b[90m╺\u001b[0m \u001b[35m82.8%\u001b[0m • \u001b[32m2.6…\u001b[0m • \u001b[31m1.8 \u001b[0m • \u001b[36m0:0…\u001b[0m\n",
      "\u001b[2K\u001b[1A\u001b[2K\u001b[1;34msubmission_task2_nfi_task2_True_for_eval.parquet\u001b[0m \u001b[91m━━━\u001b[0m\u001b[90m╺\u001b[0m \u001b[35m83.1%\u001b[0m • \u001b[32m2.6…\u001b[0m • \u001b[31m1.8 \u001b[0m • \u001b[36m0:0…\u001b[0m\n",
      "\u001b[2K\u001b[1A\u001b[2K\u001b[1;34msubmission_task2_nfi_task2_True_for_eval.parquet\u001b[0m \u001b[91m━━━\u001b[0m\u001b[90m╺\u001b[0m \u001b[35m83.3%\u001b[0m • \u001b[32m2.7…\u001b[0m • \u001b[31m1.8 \u001b[0m • \u001b[36m0:0…\u001b[0m\n",
      "\u001b[2K\u001b[1A\u001b[2K\u001b[1;34msubmission_task2_nfi_task2_True_for_eval.parquet\u001b[0m \u001b[91m━━━\u001b[0m\u001b[90m╺\u001b[0m \u001b[35m83.6%\u001b[0m • \u001b[32m2.7…\u001b[0m • \u001b[31m1.8 \u001b[0m • \u001b[36m0:0…\u001b[0m\n",
      "\u001b[2K\u001b[1A\u001b[2K\u001b[1;34msubmission_task2_nfi_task2_True_for_eval.parquet\u001b[0m \u001b[91m━━━\u001b[0m\u001b[90m╺\u001b[0m \u001b[35m83.9%\u001b[0m • \u001b[32m2.7…\u001b[0m • \u001b[31m1.8 \u001b[0m • \u001b[36m0:0…\u001b[0m\n",
      "\u001b[2K\u001b[1A\u001b[2K\u001b[1;34msubmission_task2_nfi_task2_True_for_eval.parquet\u001b[0m \u001b[91m━━━\u001b[0m\u001b[90m╺\u001b[0m \u001b[35m84.1%\u001b[0m • \u001b[32m2.7…\u001b[0m • \u001b[31m1.8 \u001b[0m • \u001b[36m0:0…\u001b[0m\n",
      "\u001b[2K\u001b[1A\u001b[2K\u001b[1;34msubmission_task2_nfi_task2_True_for_eval.parquet\u001b[0m \u001b[91m━━━\u001b[0m\u001b[90m╺\u001b[0m \u001b[35m84.4%\u001b[0m • \u001b[32m2.7…\u001b[0m • \u001b[31m1.8 \u001b[0m • \u001b[36m0:0…\u001b[0m\n",
      "\u001b[2K\u001b[1A\u001b[2K\u001b[1;34msubmission_task2_nfi_task2_True_for_eval.parquet\u001b[0m \u001b[91m━━━\u001b[0m\u001b[90m╺\u001b[0m \u001b[35m84.6%\u001b[0m • \u001b[32m2.7…\u001b[0m • \u001b[31m1.8 \u001b[0m • \u001b[36m0:0…\u001b[0m\n",
      "\u001b[2K\u001b[1A\u001b[2K\u001b[1;34msubmission_task2_nfi_task2_True_for_eval.parquet\u001b[0m \u001b[91m━━━\u001b[0m\u001b[90m╺\u001b[0m \u001b[35m84.9%\u001b[0m • \u001b[32m2.7…\u001b[0m • \u001b[31m1.8 \u001b[0m • \u001b[36m0:0…\u001b[0m\n",
      "\u001b[2K\u001b[1A\u001b[2K\u001b[1;34msubmission_task2_nfi_task2_True_for_eval.parquet\u001b[0m \u001b[91m━━━\u001b[0m\u001b[90m╺\u001b[0m \u001b[35m85.1%\u001b[0m • \u001b[32m2.7…\u001b[0m • \u001b[31m1.8 \u001b[0m • \u001b[36m0:0…\u001b[0m\n",
      "\u001b[2K\u001b[1A\u001b[2K\u001b[1;34msubmission_task2_nfi_task2_True_for_eval.parquet\u001b[0m \u001b[91m━━━\u001b[0m\u001b[90m╺\u001b[0m \u001b[35m85.4%\u001b[0m • \u001b[32m2.7…\u001b[0m • \u001b[31m1.8 \u001b[0m • \u001b[36m0:0…\u001b[0m\n",
      "\u001b[2K\u001b[1A\u001b[2K\u001b[1;34msubmission_task2_nfi_task2_True_for_eval.parquet\u001b[0m \u001b[91m━━━\u001b[0m\u001b[90m╺\u001b[0m \u001b[35m85.7%\u001b[0m • \u001b[32m2.7…\u001b[0m • \u001b[31m1.8 \u001b[0m • \u001b[36m0:0…\u001b[0m\n",
      "\u001b[2K\u001b[1A\u001b[2K\u001b[1;34msubmission_task2_nfi_task2_True_for_eval.parquet\u001b[0m \u001b[91m━━━\u001b[0m\u001b[90m╺\u001b[0m \u001b[35m85.9%\u001b[0m • \u001b[32m2.7…\u001b[0m • \u001b[31m1.8 \u001b[0m • \u001b[36m0:0…\u001b[0m\n",
      "\u001b[2K\u001b[1A\u001b[2K\u001b[1;34msubmission_task2_nfi_task2_True_for_eval.parquet\u001b[0m \u001b[91m━━━\u001b[0m\u001b[90m╺\u001b[0m \u001b[35m86.2%\u001b[0m • \u001b[32m2.7…\u001b[0m • \u001b[31m1.8 \u001b[0m • \u001b[36m0:0…\u001b[0m\n",
      "\u001b[2K\u001b[1A\u001b[2K\u001b[1;34msubmission_task2_nfi_task2_True_for_eval.parquet\u001b[0m \u001b[91m━━━\u001b[0m\u001b[90m╺\u001b[0m \u001b[35m86.4%\u001b[0m • \u001b[32m2.8…\u001b[0m • \u001b[31m1.8 \u001b[0m • \u001b[36m0:0…\u001b[0m\n",
      "\u001b[2K\u001b[1A\u001b[2K\u001b[1;34msubmission_task2_nfi_task2_True_for_eval.parquet\u001b[0m \u001b[91m━━━\u001b[0m\u001b[90m╺\u001b[0m \u001b[35m86.7%\u001b[0m • \u001b[32m2.8…\u001b[0m • \u001b[31m1.8 \u001b[0m • \u001b[36m0:0…\u001b[0m\n",
      "\u001b[2K\u001b[1A\u001b[2K\u001b[1;34msubmission_task2_nfi_task2_True_for_eval.parquet\u001b[0m \u001b[91m━━━\u001b[0m\u001b[90m╺\u001b[0m \u001b[35m86.9%\u001b[0m • \u001b[32m2.8…\u001b[0m • \u001b[31m1.8 \u001b[0m • \u001b[36m0:0…\u001b[0m\n",
      "\u001b[2K\u001b[1A\u001b[2K\u001b[1;34msubmission_task2_nfi_task2_True_for_eval.parquet\u001b[0m \u001b[91m━━━\u001b[0m\u001b[90m╺\u001b[0m \u001b[35m87.2%\u001b[0m • \u001b[32m2.8…\u001b[0m • \u001b[31m1.8 \u001b[0m • \u001b[36m0:0…\u001b[0m\n",
      "\u001b[2K\u001b[1A\u001b[2K\u001b[1;34msubmission_task2_nfi_task2_True_for_eval.parquet\u001b[0m \u001b[91m━━━\u001b[0m\u001b[90m╺\u001b[0m \u001b[35m87.5%\u001b[0m • \u001b[32m2.8…\u001b[0m • \u001b[31m1.8 \u001b[0m • \u001b[36m0:0…\u001b[0m\n",
      "\u001b[2K\u001b[1A\u001b[2K\u001b[1;34msubmission_task2_nfi_task2_True_for_eval.parquet\u001b[0m \u001b[91m━━━\u001b[0m\u001b[91m╸\u001b[0m \u001b[35m87.7%\u001b[0m • \u001b[32m2.8…\u001b[0m • \u001b[31m1.8 \u001b[0m • \u001b[36m0:0…\u001b[0m\n",
      "\u001b[2K\u001b[1A\u001b[2K\u001b[1;34msubmission_task2_nfi_task2_True_for_eval.parquet\u001b[0m \u001b[91m━━━\u001b[0m\u001b[91m╸\u001b[0m \u001b[35m88.0%\u001b[0m • \u001b[32m2.8…\u001b[0m • \u001b[31m1.8 \u001b[0m • \u001b[36m0:0…\u001b[0m\n",
      "\u001b[2K\u001b[1A\u001b[2K\u001b[1;34msubmission_task2_nfi_task2_True_for_eval.parquet\u001b[0m \u001b[91m━━━\u001b[0m\u001b[91m╸\u001b[0m \u001b[35m88.2%\u001b[0m • \u001b[32m2.8…\u001b[0m • \u001b[31m1.8 \u001b[0m • \u001b[36m0:0…\u001b[0m\n",
      "\u001b[2K\u001b[1A\u001b[2K\u001b[1;34msubmission_task2_nfi_task2_True_for_eval.parquet\u001b[0m \u001b[91m━━━\u001b[0m\u001b[91m╸\u001b[0m \u001b[35m88.5%\u001b[0m • \u001b[32m2.8…\u001b[0m • \u001b[31m1.8 \u001b[0m • \u001b[36m0:0…\u001b[0m\n",
      "\u001b[2K\u001b[1A\u001b[2K\u001b[1;34msubmission_task2_nfi_task2_True_for_eval.parquet\u001b[0m \u001b[91m━━━\u001b[0m\u001b[91m╸\u001b[0m \u001b[35m88.7%\u001b[0m • \u001b[32m2.8…\u001b[0m • \u001b[31m1.8 \u001b[0m • \u001b[36m0:0…\u001b[0m\n",
      "\u001b[2K\u001b[1A\u001b[2K\u001b[1;34msubmission_task2_nfi_task2_True_for_eval.parquet\u001b[0m \u001b[91m━━━\u001b[0m\u001b[91m╸\u001b[0m \u001b[35m89.0%\u001b[0m • \u001b[32m2.8…\u001b[0m • \u001b[31m1.8 \u001b[0m • \u001b[36m0:0…\u001b[0m\n",
      "\u001b[2K\u001b[1A\u001b[2K\u001b[1;34msubmission_task2_nfi_task2_True_for_eval.parquet\u001b[0m \u001b[91m━━━\u001b[0m\u001b[91m╸\u001b[0m \u001b[35m89.3%\u001b[0m • \u001b[32m2.8…\u001b[0m • \u001b[31m1.8 \u001b[0m • \u001b[36m0:0…\u001b[0m\n",
      "\u001b[2K\u001b[1A\u001b[2K\u001b[1;34msubmission_task2_nfi_task2_True_for_eval.parquet\u001b[0m \u001b[91m━━━\u001b[0m\u001b[91m╸\u001b[0m \u001b[35m89.5%\u001b[0m • \u001b[32m2.9…\u001b[0m • \u001b[31m1.8 \u001b[0m • \u001b[36m0:0…\u001b[0m\n",
      "\u001b[2K\u001b[1A\u001b[2K\u001b[1;34msubmission_task2_nfi_task2_True_for_eval.parquet\u001b[0m \u001b[91m━━━\u001b[0m\u001b[91m╸\u001b[0m \u001b[35m89.8%\u001b[0m • \u001b[32m2.9…\u001b[0m • \u001b[31m1.8 \u001b[0m • \u001b[36m0:0…\u001b[0m\n",
      "\u001b[2K\u001b[1A\u001b[2K\u001b[1;34msubmission_task2_nfi_task2_True_for_eval.parquet\u001b[0m \u001b[91m━━━\u001b[0m\u001b[91m╸\u001b[0m \u001b[35m90.0%\u001b[0m • \u001b[32m2.9…\u001b[0m • \u001b[31m1.8 \u001b[0m • \u001b[36m0:0…\u001b[0m\n",
      "\u001b[2K\u001b[1A\u001b[2K\u001b[1;34msubmission_task2_nfi_task2_True_for_eval.parquet\u001b[0m \u001b[91m━━━\u001b[0m\u001b[91m╸\u001b[0m \u001b[35m90.3%\u001b[0m • \u001b[32m2.9…\u001b[0m • \u001b[31m1.8 \u001b[0m • \u001b[36m0:0…\u001b[0m\n",
      "\u001b[2K\u001b[1A\u001b[2K\u001b[1;34msubmission_task2_nfi_task2_True_for_eval.parquet\u001b[0m \u001b[91m━━━\u001b[0m\u001b[91m╸\u001b[0m \u001b[35m90.5%\u001b[0m • \u001b[32m2.9…\u001b[0m • \u001b[31m1.8 \u001b[0m • \u001b[36m0:0…\u001b[0m\n",
      "\u001b[2K\u001b[1A\u001b[2K\u001b[1;34msubmission_task2_nfi_task2_True_for_eval.parquet\u001b[0m \u001b[91m━━━\u001b[0m\u001b[91m╸\u001b[0m \u001b[35m90.8%\u001b[0m • \u001b[32m2.9…\u001b[0m • \u001b[31m1.8 \u001b[0m • \u001b[36m0:0…\u001b[0m\n",
      "\u001b[2K\u001b[1A\u001b[2K\u001b[1;34msubmission_task2_nfi_task2_True_for_eval.parquet\u001b[0m \u001b[91m━━━\u001b[0m\u001b[91m╸\u001b[0m \u001b[35m91.1%\u001b[0m • \u001b[32m2.9…\u001b[0m • \u001b[31m1.8 \u001b[0m • \u001b[36m0:0…\u001b[0m\n",
      "\u001b[2K\u001b[1A\u001b[2K\u001b[1;34msubmission_task2_nfi_task2_True_for_eval.parquet\u001b[0m \u001b[91m━━━\u001b[0m\u001b[91m╸\u001b[0m \u001b[35m91.3%\u001b[0m • \u001b[32m2.9…\u001b[0m • \u001b[31m1.8 \u001b[0m • \u001b[36m0:0…\u001b[0m\n",
      "\u001b[2K\u001b[1A\u001b[2K\u001b[1;34msubmission_task2_nfi_task2_True_for_eval.parquet\u001b[0m \u001b[91m━━━\u001b[0m\u001b[91m╸\u001b[0m \u001b[35m91.6%\u001b[0m • \u001b[32m2.9…\u001b[0m • \u001b[31m1.8 \u001b[0m • \u001b[36m0:0…\u001b[0m\n",
      "\u001b[2K\u001b[1A\u001b[2K\u001b[1;34msubmission_task2_nfi_task2_True_for_eval.parquet\u001b[0m \u001b[91m━━━\u001b[0m\u001b[91m╸\u001b[0m \u001b[35m91.6%\u001b[0m • \u001b[32m2.9…\u001b[0m • \u001b[31m1.8 \u001b[0m • \u001b[36m0:0…\u001b[0m\n",
      "\u001b[2K\u001b[1A\u001b[2K\u001b[1;34msubmission_task2_nfi_task2_True_for_eval.parquet\u001b[0m \u001b[91m━━━\u001b[0m\u001b[91m╸\u001b[0m \u001b[35m91.8%\u001b[0m • \u001b[32m2.9…\u001b[0m • \u001b[31m1.8 \u001b[0m • \u001b[36m0:0…\u001b[0m\n",
      "\u001b[2K\u001b[1A\u001b[2K\u001b[1;34msubmission_task2_nfi_task2_True_for_eval.parquet\u001b[0m \u001b[91m━━━\u001b[0m\u001b[91m╸\u001b[0m \u001b[35m92.1%\u001b[0m • \u001b[32m2.9…\u001b[0m • \u001b[31m1.8 \u001b[0m • \u001b[36m0:0…\u001b[0m\n",
      "\u001b[2K\u001b[1A\u001b[2K\u001b[1;34msubmission_task2_nfi_task2_True_for_eval.parquet\u001b[0m \u001b[91m━━━\u001b[0m\u001b[91m╸\u001b[0m \u001b[35m92.3%\u001b[0m • \u001b[32m2.9…\u001b[0m • \u001b[31m1.8 \u001b[0m • \u001b[36m0:0…\u001b[0m\n",
      "\u001b[2K\u001b[1A\u001b[2K\u001b[1;34msubmission_task2_nfi_task2_True_for_eval.parquet\u001b[0m \u001b[91m━━━\u001b[0m\u001b[91m╸\u001b[0m \u001b[35m92.6%\u001b[0m • \u001b[32m2.9…\u001b[0m • \u001b[31m1.8 \u001b[0m • \u001b[36m0:0…\u001b[0m\n",
      "\u001b[2K\u001b[1A\u001b[2K\u001b[1;34msubmission_task2_nfi_task2_True_for_eval.parquet\u001b[0m \u001b[91m━━━\u001b[0m\u001b[91m╸\u001b[0m \u001b[35m92.9%\u001b[0m • \u001b[32m3.0…\u001b[0m • \u001b[31m1.8 \u001b[0m • \u001b[36m0:0…\u001b[0m\n",
      "\u001b[2K\u001b[1A\u001b[2K\u001b[1;34msubmission_task2_nfi_task2_True_for_eval.parquet\u001b[0m \u001b[91m━━━\u001b[0m\u001b[91m╸\u001b[0m \u001b[35m93.1%\u001b[0m • \u001b[32m3.0…\u001b[0m • \u001b[31m1.9 \u001b[0m • \u001b[36m0:0…\u001b[0m\n",
      "\u001b[2K\u001b[1A\u001b[2K\u001b[1;34msubmission_task2_nfi_task2_True_for_eval.parquet\u001b[0m \u001b[91m━━━\u001b[0m\u001b[91m╸\u001b[0m \u001b[35m93.4%\u001b[0m • \u001b[32m3.0…\u001b[0m • \u001b[31m1.9 \u001b[0m • \u001b[36m0:0…\u001b[0m\n",
      "\u001b[2K\u001b[1A\u001b[2K\u001b[1;34msubmission_task2_nfi_task2_True_for_eval.parquet\u001b[0m \u001b[91m━━━\u001b[0m\u001b[91m╸\u001b[0m \u001b[35m93.6%\u001b[0m • \u001b[32m3.0…\u001b[0m • \u001b[31m1.9 \u001b[0m • \u001b[36m0:0…\u001b[0m\n",
      "\u001b[2K\u001b[1A\u001b[2K\u001b[1;34msubmission_task2_nfi_task2_True_for_eval.parquet\u001b[0m \u001b[91m━━━\u001b[0m\u001b[91m╸\u001b[0m \u001b[35m93.9%\u001b[0m • \u001b[32m3.0…\u001b[0m • \u001b[31m1.9 \u001b[0m • \u001b[36m0:0…\u001b[0m\n",
      "\u001b[2K\u001b[1A\u001b[2K\u001b[1;34msubmission_task2_nfi_task2_True_for_eval.parquet\u001b[0m \u001b[91m━━━\u001b[0m\u001b[91m╸\u001b[0m \u001b[35m94.1%\u001b[0m • \u001b[32m3.0…\u001b[0m • \u001b[31m1.9 \u001b[0m • \u001b[36m0:0…\u001b[0m\n",
      "\u001b[2K\u001b[1A\u001b[2K\u001b[1;34msubmission_task2_nfi_task2_True_for_eval.parquet\u001b[0m \u001b[91m━━━\u001b[0m\u001b[91m╸\u001b[0m \u001b[35m94.4%\u001b[0m • \u001b[32m3.0…\u001b[0m • \u001b[31m1.9 \u001b[0m • \u001b[36m0:0…\u001b[0m\n",
      "\u001b[2K\u001b[1A\u001b[2K\u001b[1;34msubmission_task2_nfi_task2_True_for_eval.parquet\u001b[0m \u001b[91m━━━\u001b[0m\u001b[91m╸\u001b[0m \u001b[35m94.7%\u001b[0m • \u001b[32m3.0…\u001b[0m • \u001b[31m1.9 \u001b[0m • \u001b[36m0:0…\u001b[0m\n",
      "\u001b[2K\u001b[1A\u001b[2K\u001b[1;34msubmission_task2_nfi_task2_True_for_eval.parquet\u001b[0m \u001b[91m━━━\u001b[0m\u001b[91m╸\u001b[0m \u001b[35m94.9%\u001b[0m • \u001b[32m3.0…\u001b[0m • \u001b[31m1.9 \u001b[0m • \u001b[36m0:0…\u001b[0m\n",
      "\u001b[2K\u001b[1A\u001b[2K\u001b[1;34msubmission_task2_nfi_task2_True_for_eval.parquet\u001b[0m \u001b[91m━━━\u001b[0m\u001b[91m╸\u001b[0m \u001b[35m95.2%\u001b[0m • \u001b[32m3.0…\u001b[0m • \u001b[31m1.9 \u001b[0m • \u001b[36m0:0…\u001b[0m\n",
      "\u001b[2K\u001b[1A\u001b[2K\u001b[1;34msubmission_task2_nfi_task2_True_for_eval.parquet\u001b[0m \u001b[91m━━━\u001b[0m\u001b[91m╸\u001b[0m \u001b[35m95.4%\u001b[0m • \u001b[32m3.0…\u001b[0m • \u001b[31m1.9 \u001b[0m • \u001b[36m0:0…\u001b[0m\n",
      "\u001b[2K\u001b[1A\u001b[2K\u001b[1;34msubmission_task2_nfi_task2_True_for_eval.parquet\u001b[0m \u001b[91m━━━\u001b[0m\u001b[91m╸\u001b[0m \u001b[35m95.7%\u001b[0m • \u001b[32m3.0…\u001b[0m • \u001b[31m1.9 \u001b[0m • \u001b[36m0:0…\u001b[0m\n",
      "\u001b[2K\u001b[1A\u001b[2K\u001b[1;34msubmission_task2_nfi_task2_True_for_eval.parquet\u001b[0m \u001b[91m━━━\u001b[0m\u001b[91m╸\u001b[0m \u001b[35m95.9%\u001b[0m • \u001b[32m3.1…\u001b[0m • \u001b[31m1.9 \u001b[0m • \u001b[36m0:0…\u001b[0m\n",
      "\u001b[2K\u001b[1A\u001b[2K\u001b[1;34msubmission_task2_nfi_task2_True_for_eval.parquet\u001b[0m \u001b[91m━━━\u001b[0m\u001b[91m╸\u001b[0m \u001b[35m96.2%\u001b[0m • \u001b[32m3.1…\u001b[0m • \u001b[31m1.9 \u001b[0m • \u001b[36m0:0…\u001b[0m\n",
      "\u001b[2K\u001b[1A\u001b[2K\u001b[1;34msubmission_task2_nfi_task2_True_for_eval.parquet\u001b[0m \u001b[91m━━━\u001b[0m\u001b[91m╸\u001b[0m \u001b[35m96.5%\u001b[0m • \u001b[32m3.1…\u001b[0m • \u001b[31m1.9 \u001b[0m • \u001b[36m0:0…\u001b[0m\n",
      "\u001b[2K\u001b[1A\u001b[2K\u001b[1;34msubmission_task2_nfi_task2_True_for_eval.parquet\u001b[0m \u001b[91m━━━\u001b[0m\u001b[91m╸\u001b[0m \u001b[35m96.7%\u001b[0m • \u001b[32m3.1…\u001b[0m • \u001b[31m1.9 \u001b[0m • \u001b[36m0:0…\u001b[0m\n",
      "\u001b[2K\u001b[1A\u001b[2K\u001b[1;34msubmission_task2_nfi_task2_True_for_eval.parquet\u001b[0m \u001b[91m━━━\u001b[0m\u001b[91m╸\u001b[0m \u001b[35m97.0%\u001b[0m • \u001b[32m3.1…\u001b[0m • \u001b[31m1.9 \u001b[0m • \u001b[36m0:0…\u001b[0m\n",
      "\u001b[2K\u001b[1A\u001b[2K\u001b[1;34msubmission_task2_nfi_task2_True_for_eval.parquet\u001b[0m \u001b[91m━━━\u001b[0m\u001b[91m╸\u001b[0m \u001b[35m97.2%\u001b[0m • \u001b[32m3.1…\u001b[0m • \u001b[31m1.9 \u001b[0m • \u001b[36m0:0…\u001b[0m\n",
      "\u001b[2K\u001b[1A\u001b[2K\u001b[1;34msubmission_task2_nfi_task2_True_for_eval.parquet\u001b[0m \u001b[91m━━━\u001b[0m\u001b[91m╸\u001b[0m \u001b[35m97.5%\u001b[0m • \u001b[32m3.1…\u001b[0m • \u001b[31m1.9 \u001b[0m • \u001b[36m0:0…\u001b[0m\n",
      "\u001b[2K\u001b[1A\u001b[2K\u001b[1;34msubmission_task2_nfi_task2_True_for_eval.parquet\u001b[0m \u001b[91m━━━\u001b[0m\u001b[91m╸\u001b[0m \u001b[35m97.7%\u001b[0m • \u001b[32m3.1…\u001b[0m • \u001b[31m1.9 \u001b[0m • \u001b[36m0:0…\u001b[0m\n",
      "\u001b[2K\u001b[1A\u001b[2K\u001b[1;34msubmission_task2_nfi_task2_True_for_eval.parquet\u001b[0m \u001b[91m━━━\u001b[0m\u001b[91m╸\u001b[0m \u001b[35m98.0%\u001b[0m • \u001b[32m3.1…\u001b[0m • \u001b[31m1.9 \u001b[0m • \u001b[36m0:0…\u001b[0m\n",
      "\u001b[2K\u001b[1A\u001b[2K\u001b[1;34msubmission_task2_nfi_task2_True_for_eval.parquet\u001b[0m \u001b[91m━━━\u001b[0m\u001b[91m╸\u001b[0m \u001b[35m98.3%\u001b[0m • \u001b[32m3.1…\u001b[0m • \u001b[31m1.9 \u001b[0m • \u001b[36m0:0…\u001b[0m\n",
      "\u001b[2K\u001b[1A\u001b[2K\u001b[1;34msubmission_task2_nfi_task2_True_for_eval.parquet\u001b[0m \u001b[91m━━━\u001b[0m\u001b[91m╸\u001b[0m \u001b[35m98.5%\u001b[0m • \u001b[32m3.1…\u001b[0m • \u001b[31m1.9 \u001b[0m • \u001b[36m0:0…\u001b[0m\n",
      "\u001b[2K\u001b[1A\u001b[2K\u001b[1;34msubmission_task2_nfi_task2_True_for_eval.parquet\u001b[0m \u001b[91m━━━\u001b[0m\u001b[91m╸\u001b[0m \u001b[35m98.8%\u001b[0m • \u001b[32m3.1…\u001b[0m • \u001b[31m1.9 \u001b[0m • \u001b[36m0:0…\u001b[0m\n",
      "\u001b[2K\u001b[1A\u001b[2K\u001b[1;34msubmission_task2_nfi_task2_True_for_eval.parquet\u001b[0m \u001b[91m━━━\u001b[0m\u001b[91m╸\u001b[0m \u001b[35m99.0%\u001b[0m • \u001b[32m3.2…\u001b[0m • \u001b[31m1.9 \u001b[0m • \u001b[36m0:0…\u001b[0m\n",
      "\u001b[2K\u001b[1A\u001b[2K\u001b[1;34msubmission_task2_nfi_task2_True_for_eval.parquet\u001b[0m \u001b[91m━━━\u001b[0m\u001b[91m╸\u001b[0m \u001b[35m99.3%\u001b[0m • \u001b[32m3.2…\u001b[0m • \u001b[31m1.9 \u001b[0m • \u001b[36m0:0…\u001b[0m\n",
      "\u001b[2K\u001b[1A\u001b[2K\u001b[1;34msubmission_task2_nfi_task2_True_for_eval.parquet\u001b[0m \u001b[91m━━━\u001b[0m\u001b[91m╸\u001b[0m \u001b[35m99.5%\u001b[0m • \u001b[32m3.2…\u001b[0m • \u001b[31m1.9 \u001b[0m • \u001b[36m0:0…\u001b[0m\n",
      "\u001b[2K\u001b[1A\u001b[2K\u001b[1;34msubmission_task2_nfi_task2_True_for_eval.parquet\u001b[0m \u001b[91m━━━\u001b[0m\u001b[91m╸\u001b[0m \u001b[35m99.8%\u001b[0m • \u001b[32m3.2…\u001b[0m • \u001b[31m1.9 \u001b[0m • \u001b[36m0:0…\u001b[0m\n",
      "\u001b[2K\u001b[1A\u001b[2K\u001b[1;34msubmission_task2_nfi_task2_True_for_eval.parquet\u001b[0m \u001b[90m━━━━\u001b[0m \u001b[35m100.0%\u001b[0m • \u001b[32m3.…\u001b[0m • \u001b[31m1.9 \u001b[0m • \u001b[36m0:0…\u001b[0m\n",
      "\u001b[2K\u001b[1A\u001b[2K\u001b[1;34msubmission_task2_nfi_task2_True_for_eval.parquet\u001b[0m \u001b[90m━━━━\u001b[0m \u001b[35m100.0%\u001b[0m • \u001b[32m3.…\u001b[0m • \u001b[31m1.9 \u001b[0m • \u001b[36m0:0…\u001b[0m\n",
      "\u001b[2K\u001b[1A\u001b[2K\u001b[1;34msubmission_task2_nfi_task2_True_for_eval.parquet\u001b[0m \u001b[90m━━━━\u001b[0m \u001b[35m100.0%\u001b[0m • \u001b[32m3.…\u001b[0m • \u001b[31m1.9 \u001b[0m • \u001b[36m0:0…\u001b[0m\n",
      "\u001b[2K\u001b[1A\u001b[2K\u001b[1;34msubmission_task2_nfi_task2_True_for_eval.parquet\u001b[0m \u001b[90m━━━━\u001b[0m \u001b[35m100.0%\u001b[0m • \u001b[32m3.…\u001b[0m • \u001b[31m1.9 \u001b[0m • \u001b[36m0:0…\u001b[0m\n",
      "\u001b[2K\u001b[1A\u001b[2K\u001b[1;34msubmission_task2_nfi_task2_True_for_eval.parquet\u001b[0m \u001b[90m━━━━\u001b[0m \u001b[35m100.0%\u001b[0m • \u001b[32m3.…\u001b[0m • \u001b[31m1.9 \u001b[0m • \u001b[36m0:0…\u001b[0m\n",
      "                                                               \u001b[32mMB \u001b[0m   \u001b[31mMB/s\u001b[0m       \n",
      "\u001b[?25h                                                                                        ╭─────────────────────────╮                                                                                        \n",
      "                                                                                        │ \u001b[1mSuccessfully submitted!\u001b[0m │                                                                                        \n",
      "                                                                                        ╰─────────────────────────╯                                                                                        \n",
      "\u001b[3m                                                                                              Important links                                                                                              \u001b[0m\n",
      "┌──────────────────┬──────────────────────────────────────────────────────────────────────────────────────────────────────────────────────────────────────────────────────────────────────────────────────┐\n",
      "│  This submission │ https://www.aicrowd.com/challenges/amazon-kdd-cup-23-multilingual-recommendation-challenge/problems/task-2-next-product-recommendation-for-underrepresented-languages/submissions/23 │\n",
      "│                  │ 4236                                                                                                                                                                                 │\n",
      "│                  │                                                                                                                                                                                      │\n",
      "│  All submissions │ https://www.aicrowd.com/challenges/amazon-kdd-cup-23-multilingual-recommendation-challenge/problems/task-2-next-product-recommendation-for-underrepresented-languages/submissions?my │\n",
      "│                  │ _submissions=true                                                                                                                                                                    │\n",
      "│                  │                                                                                                                                                                                      │\n",
      "│      Leaderboard │ https://www.aicrowd.com/challenges/amazon-kdd-cup-23-multilingual-recommendation-challenge/problems/task-2-next-product-recommendation-for-underrepresented-languages/leaderboards   │\n",
      "│                  │                                                                                                                                                                                      │\n",
      "│ Discussion forum │ https://discourse.aicrowd.com/c/amazon-kdd-cup-23-multilingual-recommendation-challenge                                                                                              │\n",
      "│                  │                                                                                                                                                                                      │\n",
      "│   Challenge page │ https://www.aicrowd.com/challenges/amazon-kdd-cup-23-multilingual-recommendation-challenge/problems/task-2-next-product-recommendation-for-underrepresented-languages                │\n",
      "└──────────────────┴──────────────────────────────────────────────────────────────────────────────────────────────────────────────────────────────────────────────────────────────────────────────────────┘\n",
      "{'submission_id': 234236, 'created_at': '2023-06-06T04:09:56.855Z'}\n"
     ]
    }
   ],
   "source": [
    "!aicrowd submission create -c task-2-next-product-recommendation-for-underrepresented-languages -f {submit_file}"
   ]
  },
  {
   "cell_type": "code",
   "execution_count": null,
   "metadata": {},
   "outputs": [],
   "source": []
  },
  {
   "cell_type": "markdown",
   "metadata": {},
   "source": [
    "# Validate result "
   ]
  },
  {
   "cell_type": "code",
   "execution_count": 14,
   "metadata": {},
   "outputs": [],
   "source": [
    "# train_candidate_pl = pl.scan_parquet(os.path.join(base_dir, candidate_dir,\n",
    "#                                                         train_file_name))\n",
    "# eval_candidate_pl = pl.scan_parquet(os.path.join(base_dir, candidate_dir,\n",
    "#                                                         eval_file_name))\n",
    "# test_candidate_pl = pl.scan_parquet(os.path.join(base_dir, candidate_dir,\n",
    "#                                                         test_file_name))"
   ]
  },
  {
   "cell_type": "code",
   "execution_count": 15,
   "metadata": {},
   "outputs": [
    {
     "name": "stdout",
     "output_type": "stream",
     "text": [
      "shape: (7, 2)\n",
      "┌────────────┬────────────┐\n",
      "│ describe   ┆ rec_num    │\n",
      "│ ---        ┆ ---        │\n",
      "│ str        ┆ f64        │\n",
      "╞════════════╪════════════╡\n",
      "│ count      ┆ 2.946273e6 │\n",
      "│ null_count ┆ 0.0        │\n",
      "│ mean       ┆ 51.764814  │\n",
      "│ std        ┆ 37.761931  │\n",
      "│ min        ┆ 1.0        │\n",
      "│ max        ┆ 100.0      │\n",
      "│ median     ┆ 44.0       │\n",
      "└────────────┴────────────┘\n",
      "shape: (7, 2)\n",
      "┌────────────┬────────────┐\n",
      "│ describe   ┆ rec_num    │\n",
      "│ ---        ┆ ---        │\n",
      "│ str        ┆ f64        │\n",
      "╞════════════╪════════════╡\n",
      "│ count      ┆ 2.946273e6 │\n",
      "│ null_count ┆ 0.0        │\n",
      "│ mean       ┆ 51.764814  │\n",
      "│ std        ┆ 37.761931  │\n",
      "│ min        ┆ 1.0        │\n",
      "│ max        ┆ 100.0      │\n",
      "│ median     ┆ 44.0       │\n",
      "└────────────┴────────────┘\n",
      "shape: (7, 2)\n",
      "┌────────────┬────────────┐\n",
      "│ describe   ┆ rec_num    │\n",
      "│ ---        ┆ ---        │\n",
      "│ str        ┆ f64        │\n",
      "╞════════════╪════════════╡\n",
      "│ count      ┆ 2.946273e6 │\n",
      "│ null_count ┆ 0.0        │\n",
      "│ mean       ┆ 51.764814  │\n",
      "│ std        ┆ 37.761931  │\n",
      "│ min        ┆ 1.0        │\n",
      "│ max        ┆ 100.0      │\n",
      "│ median     ┆ 44.0       │\n",
      "└────────────┴────────────┘\n"
     ]
    }
   ],
   "source": [
    "# for data_pl in [train_candidate_pl, eval_candidate_pl, test_candidate_pl]:\n",
    "#     print(data_pl.select('rec_num').collect().describe())"
   ]
  },
  {
   "cell_type": "code",
   "execution_count": null,
   "metadata": {},
   "outputs": [],
   "source": []
  }
 ],
 "metadata": {
  "environment": {
   "kernel": "kdd_2023",
   "name": "common-cu110.m104",
   "type": "gcloud",
   "uri": "gcr.io/deeplearning-platform-release/base-cu110:m104"
  },
  "kernelspec": {
   "display_name": "py3.8(kdd_2023)",
   "language": "python",
   "name": "kdd_2023"
  },
  "language_info": {
   "codemirror_mode": {
    "name": "ipython",
    "version": 3
   },
   "file_extension": ".py",
   "mimetype": "text/x-python",
   "name": "python",
   "nbconvert_exporter": "python",
   "pygments_lexer": "ipython3",
   "version": "3.8.16"
  }
 },
 "nbformat": 4,
 "nbformat_minor": 4
}
