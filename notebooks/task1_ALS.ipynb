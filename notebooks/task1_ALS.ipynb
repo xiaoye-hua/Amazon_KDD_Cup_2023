{
 "cells": [
  {
   "cell_type": "markdown",
   "id": "384e673a-9c48-4f2c-a504-eccb9d14d09f",
   "metadata": {},
   "source": [
    "# Packages "
   ]
  },
  {
   "cell_type": "code",
   "execution_count": 1,
   "id": "8bcd1d3a-47fd-45f3-9361-bb0091534005",
   "metadata": {},
   "outputs": [
    {
     "name": "stderr",
     "output_type": "stream",
     "text": [
      "/home/jupyter/.cache/pypoetry/virtualenvs/kdd-2023-KklMGVX0-py3.8/lib/python3.8/site-packages/implicit/gpu/__init__.py:13: UserWarning: CUDA extension is built, but disabling GPU support because of 'Cuda Error: no CUDA-capable device is detected (/project/./implicit/gpu/utils.h:71)'\n",
      "  warnings.warn(\n"
     ]
    }
   ],
   "source": [
    "%load_ext autoreload\n",
    "%autoreload 2\n",
    "import sys\n",
    "import logging\n",
    "sys.path.append('../')\n",
    "import os\n",
    "from utils import *\n",
    "\n",
    "import os\n",
    "import numpy as np\n",
    "import pandas as pd\n",
    "from gensim.models import Word2Vec\n",
    "import pickle\n",
    "\n",
    "from annoy import AnnoyIndex\n",
    "import polars as pl\n",
    "import implicit\n",
    "import scipy.sparse as sps\n"
   ]
  },
  {
   "cell_type": "markdown",
   "id": "135245f6-308e-4c83-a11d-9d0d1da81ab3",
   "metadata": {},
   "source": [
    "# Config "
   ]
  },
  {
   "cell_type": "code",
   "execution_count": 2,
   "id": "22bb50a5-acba-4b88-95d2-ef8b27d51f29",
   "metadata": {},
   "outputs": [],
   "source": [
    "debug = False\n",
    "\n",
    "debug_session_num = 1000\n",
    "train_data_dir = '.'\n",
    "test_data_dir = '.'\n",
    "task = 'task1'\n",
    "PREDS_PER_SESSION = 100\n",
    "\n",
    "num_tree = 100\n",
    "\n",
    "model_dir = '../model_training/als_v1'\n",
    "\n",
    "model_file = os.path.join(model_dir, 'als_model.pkl')\n",
    "\n",
    "# target locales: locales needed for task1\n",
    "target_locals = [\"DE\", 'JP', 'UK']\n",
    "\n",
    "submit_file = f'submission_{task}_ALS.parquet'"
   ]
  },
  {
   "cell_type": "code",
   "execution_count": 3,
   "id": "0e206f4e-e194-4bb1-86d4-d6512536790f",
   "metadata": {},
   "outputs": [
    {
     "name": "stdout",
     "output_type": "stream",
     "text": [
      "mkdir: cannot create directory ‘../model_training/als_v1’: File exists\n"
     ]
    }
   ],
   "source": [
    "! mkdir {model_dir}"
   ]
  },
  {
   "cell_type": "code",
   "execution_count": 4,
   "id": "95d6529d-b037-43b9-ba52-6accfefb949f",
   "metadata": {},
   "outputs": [
    {
     "data": {
      "text/plain": [
       "'../model_training/als_v1/als_model.pkl'"
      ]
     },
     "execution_count": 4,
     "metadata": {},
     "output_type": "execute_result"
    }
   ],
   "source": [
    "model_file"
   ]
  },
  {
   "cell_type": "code",
   "execution_count": 5,
   "id": "56b34ada-db7f-4d68-86a7-379674a0d87c",
   "metadata": {},
   "outputs": [
    {
     "data": {
      "text/plain": [
       "'submission_task1_ALS.parquet'"
      ]
     },
     "execution_count": 5,
     "metadata": {},
     "output_type": "execute_result"
    }
   ],
   "source": [
    "submit_file"
   ]
  },
  {
   "cell_type": "code",
   "execution_count": 6,
   "id": "7f999c33-8e5a-496e-a0a8-e8148d20a1e5",
   "metadata": {},
   "outputs": [
    {
     "data": {
      "text/plain": [
       "'(3272716, 3); (316971, 2)'"
      ]
     },
     "execution_count": 6,
     "metadata": {},
     "output_type": "execute_result"
    }
   ],
   "source": [
    "train_sessions = read_train_data(train_data_dir=train_data_dir)\n",
    "test_sessions = read_test_data(task, test_data_dir=test_data_dir)\n",
    "train_sessions = train_sessions[train_sessions['locale'].isin(target_locals)]\n",
    "\n",
    "if debug:\n",
    "    train_sessions = train_sessions.sample(debug_session_num)\n",
    "    test_sessions = test_sessions.sample(debug_session_num)\n",
    "f\"{train_sessions.shape}; {test_sessions.shape}\""
   ]
  },
  {
   "cell_type": "code",
   "execution_count": 7,
   "id": "3d3b0b0b-8411-42f8-be63-77ff4609ba74",
   "metadata": {},
   "outputs": [
    {
     "name": "stderr",
     "output_type": "stream",
     "text": [
      "/var/tmp/ipykernel_5376/1622915857.py:1: SettingWithCopyWarning: \n",
      "A value is trying to be set on a copy of a slice from a DataFrame.\n",
      "Try using .loc[row_indexer,col_indexer] = value instead\n",
      "\n",
      "See the caveats in the documentation: https://pandas.pydata.org/pandas-docs/stable/user_guide/indexing.html#returning-a-view-versus-a-copy\n",
      "  train_sessions['type'] = 'train'\n"
     ]
    }
   ],
   "source": [
    "train_sessions['type'] = 'train'\n",
    "test_sessions['type'] = 'test'\n",
    "train_sessions.reset_index(inplace=True)\n",
    "test_sessions.reset_index(inplace=True)"
   ]
  },
  {
   "cell_type": "code",
   "execution_count": 8,
   "id": "b654d757-cfe2-4d03-87ee-bf24d33bc621",
   "metadata": {},
   "outputs": [
    {
     "data": {
      "text/html": [
       "<div>\n",
       "<style scoped>\n",
       "    .dataframe tbody tr th:only-of-type {\n",
       "        vertical-align: middle;\n",
       "    }\n",
       "\n",
       "    .dataframe tbody tr th {\n",
       "        vertical-align: top;\n",
       "    }\n",
       "\n",
       "    .dataframe thead th {\n",
       "        text-align: right;\n",
       "    }\n",
       "</style>\n",
       "<table border=\"1\" class=\"dataframe\">\n",
       "  <thead>\n",
       "    <tr style=\"text-align: right;\">\n",
       "      <th></th>\n",
       "      <th>index</th>\n",
       "      <th>prev_items</th>\n",
       "      <th>next_item</th>\n",
       "      <th>locale</th>\n",
       "      <th>type</th>\n",
       "    </tr>\n",
       "  </thead>\n",
       "  <tbody>\n",
       "    <tr>\n",
       "      <th>0</th>\n",
       "      <td>0</td>\n",
       "      <td>['B09W9FND7K' 'B09JSPLN1M']</td>\n",
       "      <td>B09M7GY217</td>\n",
       "      <td>DE</td>\n",
       "      <td>train</td>\n",
       "    </tr>\n",
       "    <tr>\n",
       "      <th>1</th>\n",
       "      <td>1</td>\n",
       "      <td>['B076THCGSG' 'B007MO8IME' 'B08MF65MLV' 'B001B...</td>\n",
       "      <td>B001B4THSA</td>\n",
       "      <td>DE</td>\n",
       "      <td>train</td>\n",
       "    </tr>\n",
       "    <tr>\n",
       "      <th>2</th>\n",
       "      <td>2</td>\n",
       "      <td>['B0B1LGXWDS' 'B00AZYORS2' 'B0B1LGXWDS' 'B00AZ...</td>\n",
       "      <td>B0767DTG2Q</td>\n",
       "      <td>DE</td>\n",
       "      <td>train</td>\n",
       "    </tr>\n",
       "    <tr>\n",
       "      <th>3</th>\n",
       "      <td>3</td>\n",
       "      <td>['B09XMTWDVT' 'B0B4MZZ8MB' 'B0B7HZ2GWX' 'B09XM...</td>\n",
       "      <td>B0B4R9NN4B</td>\n",
       "      <td>DE</td>\n",
       "      <td>train</td>\n",
       "    </tr>\n",
       "    <tr>\n",
       "      <th>4</th>\n",
       "      <td>4</td>\n",
       "      <td>['B09Y5CSL3T' 'B09Y5DPTXN' 'B09FKD61R8']</td>\n",
       "      <td>B0BGVBKWGZ</td>\n",
       "      <td>DE</td>\n",
       "      <td>train</td>\n",
       "    </tr>\n",
       "  </tbody>\n",
       "</table>\n",
       "</div>"
      ],
      "text/plain": [
       "   index                                         prev_items   next_item   \n",
       "0      0                        ['B09W9FND7K' 'B09JSPLN1M']  B09M7GY217  \\\n",
       "1      1  ['B076THCGSG' 'B007MO8IME' 'B08MF65MLV' 'B001B...  B001B4THSA   \n",
       "2      2  ['B0B1LGXWDS' 'B00AZYORS2' 'B0B1LGXWDS' 'B00AZ...  B0767DTG2Q   \n",
       "3      3  ['B09XMTWDVT' 'B0B4MZZ8MB' 'B0B7HZ2GWX' 'B09XM...  B0B4R9NN4B   \n",
       "4      4           ['B09Y5CSL3T' 'B09Y5DPTXN' 'B09FKD61R8']  B0BGVBKWGZ   \n",
       "\n",
       "  locale   type  \n",
       "0     DE  train  \n",
       "1     DE  train  \n",
       "2     DE  train  \n",
       "3     DE  train  \n",
       "4     DE  train  "
      ]
     },
     "execution_count": 8,
     "metadata": {},
     "output_type": "execute_result"
    }
   ],
   "source": [
    "train_sessions.head()"
   ]
  },
  {
   "cell_type": "code",
   "execution_count": 9,
   "id": "b26fd474-897a-4577-af7a-7fdaba70fc99",
   "metadata": {},
   "outputs": [
    {
     "data": {
      "text/html": [
       "<div>\n",
       "<style scoped>\n",
       "    .dataframe tbody tr th:only-of-type {\n",
       "        vertical-align: middle;\n",
       "    }\n",
       "\n",
       "    .dataframe tbody tr th {\n",
       "        vertical-align: top;\n",
       "    }\n",
       "\n",
       "    .dataframe thead th {\n",
       "        text-align: right;\n",
       "    }\n",
       "</style>\n",
       "<table border=\"1\" class=\"dataframe\">\n",
       "  <thead>\n",
       "    <tr style=\"text-align: right;\">\n",
       "      <th></th>\n",
       "      <th>index</th>\n",
       "      <th>prev_items</th>\n",
       "      <th>locale</th>\n",
       "      <th>type</th>\n",
       "    </tr>\n",
       "  </thead>\n",
       "  <tbody>\n",
       "    <tr>\n",
       "      <th>0</th>\n",
       "      <td>0</td>\n",
       "      <td>['B08V12CT4C' 'B08V1KXBQD' 'B01BVG1XJS' 'B09VC...</td>\n",
       "      <td>DE</td>\n",
       "      <td>test</td>\n",
       "    </tr>\n",
       "    <tr>\n",
       "      <th>1</th>\n",
       "      <td>1</td>\n",
       "      <td>['B00R9R5ND6' 'B00R9RZ9ZS' 'B00R9RZ9ZS']</td>\n",
       "      <td>DE</td>\n",
       "      <td>test</td>\n",
       "    </tr>\n",
       "    <tr>\n",
       "      <th>2</th>\n",
       "      <td>2</td>\n",
       "      <td>['B07YSRXJD3' 'B07G7Q5N6G' 'B08C9Q7QVK' 'B07G7...</td>\n",
       "      <td>DE</td>\n",
       "      <td>test</td>\n",
       "    </tr>\n",
       "    <tr>\n",
       "      <th>3</th>\n",
       "      <td>3</td>\n",
       "      <td>['B08KQBYV43' '3955350843' '3955350843' '39553...</td>\n",
       "      <td>DE</td>\n",
       "      <td>test</td>\n",
       "    </tr>\n",
       "    <tr>\n",
       "      <th>4</th>\n",
       "      <td>4</td>\n",
       "      <td>['B09FPTCWMC' 'B09FPTQP68' 'B08HMRY8NG' 'B08TB...</td>\n",
       "      <td>DE</td>\n",
       "      <td>test</td>\n",
       "    </tr>\n",
       "  </tbody>\n",
       "</table>\n",
       "</div>"
      ],
      "text/plain": [
       "   index                                         prev_items locale  type\n",
       "0      0  ['B08V12CT4C' 'B08V1KXBQD' 'B01BVG1XJS' 'B09VC...     DE  test\n",
       "1      1           ['B00R9R5ND6' 'B00R9RZ9ZS' 'B00R9RZ9ZS']     DE  test\n",
       "2      2  ['B07YSRXJD3' 'B07G7Q5N6G' 'B08C9Q7QVK' 'B07G7...     DE  test\n",
       "3      3  ['B08KQBYV43' '3955350843' '3955350843' '39553...     DE  test\n",
       "4      4  ['B09FPTCWMC' 'B09FPTQP68' 'B08HMRY8NG' 'B08TB...     DE  test"
      ]
     },
     "execution_count": 9,
     "metadata": {},
     "output_type": "execute_result"
    }
   ],
   "source": [
    "test_sessions.head()"
   ]
  },
  {
   "cell_type": "code",
   "execution_count": 10,
   "id": "62ac37c3-f8c4-4d13-b42a-7bc84fee8eba",
   "metadata": {},
   "outputs": [
    {
     "data": {
      "text/plain": [
       "Index(['index', 'prev_items', 'locale', 'type'], dtype='object')"
      ]
     },
     "execution_count": 10,
     "metadata": {},
     "output_type": "execute_result"
    }
   ],
   "source": [
    "test_sessions.columns"
   ]
  },
  {
   "cell_type": "code",
   "execution_count": 11,
   "id": "3de7f984-2a1c-44f4-9fcf-db1659ea8171",
   "metadata": {},
   "outputs": [],
   "source": [
    "cols_to_keep = ['index', 'type', 'prev_items', 'locale']"
   ]
  },
  {
   "cell_type": "code",
   "execution_count": 12,
   "id": "aea80fd8-bf42-482f-88f9-3d255ff459ec",
   "metadata": {},
   "outputs": [],
   "source": [
    "original_train_test_df = pd.concat([train_sessions[cols_to_keep], test_sessions[cols_to_keep]], \n",
    "                          axis=0)"
   ]
  },
  {
   "cell_type": "code",
   "execution_count": 13,
   "id": "fe94c439-85d7-48b1-9b4f-7bb858d883c1",
   "metadata": {},
   "outputs": [
    {
     "data": {
      "text/html": [
       "<div>\n",
       "<style scoped>\n",
       "    .dataframe tbody tr th:only-of-type {\n",
       "        vertical-align: middle;\n",
       "    }\n",
       "\n",
       "    .dataframe tbody tr th {\n",
       "        vertical-align: top;\n",
       "    }\n",
       "\n",
       "    .dataframe thead th {\n",
       "        text-align: right;\n",
       "    }\n",
       "</style>\n",
       "<table border=\"1\" class=\"dataframe\">\n",
       "  <thead>\n",
       "    <tr style=\"text-align: right;\">\n",
       "      <th></th>\n",
       "      <th>index</th>\n",
       "      <th>type</th>\n",
       "      <th>prev_items</th>\n",
       "      <th>locale</th>\n",
       "    </tr>\n",
       "  </thead>\n",
       "  <tbody>\n",
       "    <tr>\n",
       "      <th>0</th>\n",
       "      <td>0</td>\n",
       "      <td>train</td>\n",
       "      <td>['B09W9FND7K' 'B09JSPLN1M']</td>\n",
       "      <td>DE</td>\n",
       "    </tr>\n",
       "    <tr>\n",
       "      <th>1</th>\n",
       "      <td>1</td>\n",
       "      <td>train</td>\n",
       "      <td>['B076THCGSG' 'B007MO8IME' 'B08MF65MLV' 'B001B...</td>\n",
       "      <td>DE</td>\n",
       "    </tr>\n",
       "    <tr>\n",
       "      <th>2</th>\n",
       "      <td>2</td>\n",
       "      <td>train</td>\n",
       "      <td>['B0B1LGXWDS' 'B00AZYORS2' 'B0B1LGXWDS' 'B00AZ...</td>\n",
       "      <td>DE</td>\n",
       "    </tr>\n",
       "    <tr>\n",
       "      <th>3</th>\n",
       "      <td>3</td>\n",
       "      <td>train</td>\n",
       "      <td>['B09XMTWDVT' 'B0B4MZZ8MB' 'B0B7HZ2GWX' 'B09XM...</td>\n",
       "      <td>DE</td>\n",
       "    </tr>\n",
       "    <tr>\n",
       "      <th>4</th>\n",
       "      <td>4</td>\n",
       "      <td>train</td>\n",
       "      <td>['B09Y5CSL3T' 'B09Y5DPTXN' 'B09FKD61R8']</td>\n",
       "      <td>DE</td>\n",
       "    </tr>\n",
       "  </tbody>\n",
       "</table>\n",
       "</div>"
      ],
      "text/plain": [
       "   index   type                                         prev_items locale\n",
       "0      0  train                        ['B09W9FND7K' 'B09JSPLN1M']     DE\n",
       "1      1  train  ['B076THCGSG' 'B007MO8IME' 'B08MF65MLV' 'B001B...     DE\n",
       "2      2  train  ['B0B1LGXWDS' 'B00AZYORS2' 'B0B1LGXWDS' 'B00AZ...     DE\n",
       "3      3  train  ['B09XMTWDVT' 'B0B4MZZ8MB' 'B0B7HZ2GWX' 'B09XM...     DE\n",
       "4      4  train           ['B09Y5CSL3T' 'B09Y5DPTXN' 'B09FKD61R8']     DE"
      ]
     },
     "execution_count": 13,
     "metadata": {},
     "output_type": "execute_result"
    }
   ],
   "source": [
    "original_train_test_df.head()"
   ]
  },
  {
   "cell_type": "code",
   "execution_count": 14,
   "id": "ab8b3ff0-fae3-4f19-b3c7-8ab68af700a2",
   "metadata": {},
   "outputs": [],
   "source": [
    "train_test_pl = pl.from_dataframe(original_train_test_df)"
   ]
  },
  {
   "cell_type": "code",
   "execution_count": 15,
   "id": "e08e1738-2ba4-4d68-8c9c-e70990b594bb",
   "metadata": {},
   "outputs": [],
   "source": [
    "def process_prev_item(prev_items):\n",
    "    # print(prev_items)\n",
    "    res = [ele.replace('[', '').replace(']', '').replace('\\n', '').replace(\"'\", '').replace(' ', '') for ele in prev_items.split(' ')]\n",
    "    return res"
   ]
  },
  {
   "cell_type": "code",
   "execution_count": 16,
   "id": "3455562c-47de-49d2-873e-4853b743eb36",
   "metadata": {},
   "outputs": [],
   "source": [
    "train_test_pl = (\n",
    "    train_test_pl\n",
    "        .with_columns(pl.col('prev_items').apply(lambda row: process_prev_item(row)))\n",
    "        .with_columns(pl.col('index').cast(pl.Utf8))\n",
    "        .with_columns((pl.col('index')+pl.col('type')).alias('user'))\n",
    "        # .with_columns(pl.col('prev_items').explode())\n",
    ")"
   ]
  },
  {
   "cell_type": "code",
   "execution_count": 17,
   "id": "bbdaf47c-715b-4f73-af9c-bd9581d0fbc2",
   "metadata": {},
   "outputs": [],
   "source": [
    "train_test_df = train_test_pl.to_pandas()"
   ]
  },
  {
   "cell_type": "code",
   "execution_count": 18,
   "id": "ea2cf8a8-53a8-41f3-a107-c534c9ee7b0c",
   "metadata": {},
   "outputs": [
    {
     "data": {
      "text/html": [
       "<div>\n",
       "<style scoped>\n",
       "    .dataframe tbody tr th:only-of-type {\n",
       "        vertical-align: middle;\n",
       "    }\n",
       "\n",
       "    .dataframe tbody tr th {\n",
       "        vertical-align: top;\n",
       "    }\n",
       "\n",
       "    .dataframe thead th {\n",
       "        text-align: right;\n",
       "    }\n",
       "</style>\n",
       "<table border=\"1\" class=\"dataframe\">\n",
       "  <thead>\n",
       "    <tr style=\"text-align: right;\">\n",
       "      <th></th>\n",
       "      <th>index</th>\n",
       "      <th>type</th>\n",
       "      <th>prev_items</th>\n",
       "      <th>locale</th>\n",
       "      <th>user</th>\n",
       "    </tr>\n",
       "  </thead>\n",
       "  <tbody>\n",
       "    <tr>\n",
       "      <th>0</th>\n",
       "      <td>0</td>\n",
       "      <td>train</td>\n",
       "      <td>[B09W9FND7K, B09JSPLN1M]</td>\n",
       "      <td>DE</td>\n",
       "      <td>0train</td>\n",
       "    </tr>\n",
       "    <tr>\n",
       "      <th>1</th>\n",
       "      <td>1</td>\n",
       "      <td>train</td>\n",
       "      <td>[B076THCGSG, B007MO8IME, B08MF65MLV, B001B4TKA0]</td>\n",
       "      <td>DE</td>\n",
       "      <td>1train</td>\n",
       "    </tr>\n",
       "    <tr>\n",
       "      <th>2</th>\n",
       "      <td>2</td>\n",
       "      <td>train</td>\n",
       "      <td>[B0B1LGXWDS, B00AZYORS2, B0B1LGXWDS, B00AZYORS...</td>\n",
       "      <td>DE</td>\n",
       "      <td>2train</td>\n",
       "    </tr>\n",
       "    <tr>\n",
       "      <th>3</th>\n",
       "      <td>3</td>\n",
       "      <td>train</td>\n",
       "      <td>[B09XMTWDVT, B0B4MZZ8MB, B0B7HZ2GWX, B09XMTWDV...</td>\n",
       "      <td>DE</td>\n",
       "      <td>3train</td>\n",
       "    </tr>\n",
       "    <tr>\n",
       "      <th>4</th>\n",
       "      <td>4</td>\n",
       "      <td>train</td>\n",
       "      <td>[B09Y5CSL3T, B09Y5DPTXN, B09FKD61R8]</td>\n",
       "      <td>DE</td>\n",
       "      <td>4train</td>\n",
       "    </tr>\n",
       "  </tbody>\n",
       "</table>\n",
       "</div>"
      ],
      "text/plain": [
       "  index   type                                         prev_items locale   \n",
       "0     0  train                           [B09W9FND7K, B09JSPLN1M]     DE  \\\n",
       "1     1  train   [B076THCGSG, B007MO8IME, B08MF65MLV, B001B4TKA0]     DE   \n",
       "2     2  train  [B0B1LGXWDS, B00AZYORS2, B0B1LGXWDS, B00AZYORS...     DE   \n",
       "3     3  train  [B09XMTWDVT, B0B4MZZ8MB, B0B7HZ2GWX, B09XMTWDV...     DE   \n",
       "4     4  train               [B09Y5CSL3T, B09Y5DPTXN, B09FKD61R8]     DE   \n",
       "\n",
       "     user  \n",
       "0  0train  \n",
       "1  1train  \n",
       "2  2train  \n",
       "3  3train  \n",
       "4  4train  "
      ]
     },
     "execution_count": 18,
     "metadata": {},
     "output_type": "execute_result"
    }
   ],
   "source": [
    "train_test_df.head()"
   ]
  },
  {
   "cell_type": "code",
   "execution_count": 19,
   "id": "934be173-a1db-4cb4-aac9-ae778d8d7edd",
   "metadata": {},
   "outputs": [
    {
     "data": {
      "text/html": [
       "<div>\n",
       "<style scoped>\n",
       "    .dataframe tbody tr th:only-of-type {\n",
       "        vertical-align: middle;\n",
       "    }\n",
       "\n",
       "    .dataframe tbody tr th {\n",
       "        vertical-align: top;\n",
       "    }\n",
       "\n",
       "    .dataframe thead th {\n",
       "        text-align: right;\n",
       "    }\n",
       "</style>\n",
       "<table border=\"1\" class=\"dataframe\">\n",
       "  <thead>\n",
       "    <tr style=\"text-align: right;\">\n",
       "      <th></th>\n",
       "      <th>index</th>\n",
       "      <th>type</th>\n",
       "      <th>prev_items</th>\n",
       "      <th>locale</th>\n",
       "      <th>user</th>\n",
       "    </tr>\n",
       "  </thead>\n",
       "  <tbody>\n",
       "    <tr>\n",
       "      <th>0</th>\n",
       "      <td>0</td>\n",
       "      <td>train</td>\n",
       "      <td>[B09W9FND7K, B09JSPLN1M]</td>\n",
       "      <td>DE</td>\n",
       "      <td>0train</td>\n",
       "    </tr>\n",
       "    <tr>\n",
       "      <th>1</th>\n",
       "      <td>1</td>\n",
       "      <td>train</td>\n",
       "      <td>[B076THCGSG, B007MO8IME, B08MF65MLV, B001B4TKA0]</td>\n",
       "      <td>DE</td>\n",
       "      <td>1train</td>\n",
       "    </tr>\n",
       "    <tr>\n",
       "      <th>2</th>\n",
       "      <td>2</td>\n",
       "      <td>train</td>\n",
       "      <td>[B0B1LGXWDS, B00AZYORS2, B0B1LGXWDS, B00AZYORS...</td>\n",
       "      <td>DE</td>\n",
       "      <td>2train</td>\n",
       "    </tr>\n",
       "    <tr>\n",
       "      <th>3</th>\n",
       "      <td>3</td>\n",
       "      <td>train</td>\n",
       "      <td>[B09XMTWDVT, B0B4MZZ8MB, B0B7HZ2GWX, B09XMTWDV...</td>\n",
       "      <td>DE</td>\n",
       "      <td>3train</td>\n",
       "    </tr>\n",
       "    <tr>\n",
       "      <th>4</th>\n",
       "      <td>4</td>\n",
       "      <td>train</td>\n",
       "      <td>[B09Y5CSL3T, B09Y5DPTXN, B09FKD61R8]</td>\n",
       "      <td>DE</td>\n",
       "      <td>4train</td>\n",
       "    </tr>\n",
       "  </tbody>\n",
       "</table>\n",
       "</div>"
      ],
      "text/plain": [
       "  index   type                                         prev_items locale   \n",
       "0     0  train                           [B09W9FND7K, B09JSPLN1M]     DE  \\\n",
       "1     1  train   [B076THCGSG, B007MO8IME, B08MF65MLV, B001B4TKA0]     DE   \n",
       "2     2  train  [B0B1LGXWDS, B00AZYORS2, B0B1LGXWDS, B00AZYORS...     DE   \n",
       "3     3  train  [B09XMTWDVT, B0B4MZZ8MB, B0B7HZ2GWX, B09XMTWDV...     DE   \n",
       "4     4  train               [B09Y5CSL3T, B09Y5DPTXN, B09FKD61R8]     DE   \n",
       "\n",
       "     user  \n",
       "0  0train  \n",
       "1  1train  \n",
       "2  2train  \n",
       "3  3train  \n",
       "4  4train  "
      ]
     },
     "execution_count": 19,
     "metadata": {},
     "output_type": "execute_result"
    }
   ],
   "source": [
    "train_test_df.head()"
   ]
  },
  {
   "cell_type": "code",
   "execution_count": 20,
   "id": "51743574-17bc-4117-8b6d-f0b9fae634ca",
   "metadata": {},
   "outputs": [],
   "source": [
    "train_test_df['user'] = train_test_df['user'].astype(\"category\")\n",
    "train_test_df['user_id'] = train_test_df['user'].cat.codes"
   ]
  },
  {
   "cell_type": "code",
   "execution_count": 21,
   "id": "607e079f-7024-4c96-a484-be1ef85f886b",
   "metadata": {},
   "outputs": [],
   "source": [
    "test_sessions['index'] = test_sessions['index'].astype(str)\n",
    "test_sessions = test_sessions.merge(train_test_df[['index', 'type', 'user_id']], how='left', on=['index', 'type'])"
   ]
  },
  {
   "cell_type": "code",
   "execution_count": 22,
   "id": "d3290ac7-2142-4952-9dbb-022f3ad26744",
   "metadata": {},
   "outputs": [
    {
     "data": {
      "text/plain": [
       "(15449411, 6)"
      ]
     },
     "execution_count": 22,
     "metadata": {},
     "output_type": "execute_result"
    }
   ],
   "source": [
    "train_test_df = train_test_df.explode('prev_items')\n",
    "train_test_df.shape"
   ]
  },
  {
   "cell_type": "code",
   "execution_count": 23,
   "id": "242d9543-1d43-4f9f-9c1c-5c155656ca3e",
   "metadata": {},
   "outputs": [
    {
     "data": {
      "text/plain": [
       "(316971, 5)"
      ]
     },
     "execution_count": 23,
     "metadata": {},
     "output_type": "execute_result"
    }
   ],
   "source": [
    "test_sessions.shape"
   ]
  },
  {
   "cell_type": "code",
   "execution_count": 24,
   "id": "44696bab-16ab-4064-9918-ac555414358b",
   "metadata": {},
   "outputs": [
    {
     "data": {
      "text/html": [
       "<div>\n",
       "<style scoped>\n",
       "    .dataframe tbody tr th:only-of-type {\n",
       "        vertical-align: middle;\n",
       "    }\n",
       "\n",
       "    .dataframe tbody tr th {\n",
       "        vertical-align: top;\n",
       "    }\n",
       "\n",
       "    .dataframe thead th {\n",
       "        text-align: right;\n",
       "    }\n",
       "</style>\n",
       "<table border=\"1\" class=\"dataframe\">\n",
       "  <thead>\n",
       "    <tr style=\"text-align: right;\">\n",
       "      <th></th>\n",
       "      <th>index</th>\n",
       "      <th>type</th>\n",
       "      <th>prev_items</th>\n",
       "      <th>locale</th>\n",
       "      <th>user</th>\n",
       "      <th>user_id</th>\n",
       "    </tr>\n",
       "  </thead>\n",
       "  <tbody>\n",
       "    <tr>\n",
       "      <th>0</th>\n",
       "      <td>0</td>\n",
       "      <td>train</td>\n",
       "      <td>B09W9FND7K</td>\n",
       "      <td>DE</td>\n",
       "      <td>0train</td>\n",
       "      <td>1</td>\n",
       "    </tr>\n",
       "    <tr>\n",
       "      <th>0</th>\n",
       "      <td>0</td>\n",
       "      <td>train</td>\n",
       "      <td>B09JSPLN1M</td>\n",
       "      <td>DE</td>\n",
       "      <td>0train</td>\n",
       "      <td>1</td>\n",
       "    </tr>\n",
       "    <tr>\n",
       "      <th>1</th>\n",
       "      <td>1</td>\n",
       "      <td>train</td>\n",
       "      <td>B076THCGSG</td>\n",
       "      <td>DE</td>\n",
       "      <td>1train</td>\n",
       "      <td>1222223</td>\n",
       "    </tr>\n",
       "    <tr>\n",
       "      <th>1</th>\n",
       "      <td>1</td>\n",
       "      <td>train</td>\n",
       "      <td>B007MO8IME</td>\n",
       "      <td>DE</td>\n",
       "      <td>1train</td>\n",
       "      <td>1222223</td>\n",
       "    </tr>\n",
       "    <tr>\n",
       "      <th>1</th>\n",
       "      <td>1</td>\n",
       "      <td>train</td>\n",
       "      <td>B08MF65MLV</td>\n",
       "      <td>DE</td>\n",
       "      <td>1train</td>\n",
       "      <td>1222223</td>\n",
       "    </tr>\n",
       "  </tbody>\n",
       "</table>\n",
       "</div>"
      ],
      "text/plain": [
       "  index   type  prev_items locale    user  user_id\n",
       "0     0  train  B09W9FND7K     DE  0train        1\n",
       "0     0  train  B09JSPLN1M     DE  0train        1\n",
       "1     1  train  B076THCGSG     DE  1train  1222223\n",
       "1     1  train  B007MO8IME     DE  1train  1222223\n",
       "1     1  train  B08MF65MLV     DE  1train  1222223"
      ]
     },
     "execution_count": 24,
     "metadata": {},
     "output_type": "execute_result"
    }
   ],
   "source": [
    "train_test_df.head()"
   ]
  },
  {
   "cell_type": "code",
   "execution_count": 25,
   "id": "60ab2497-a2b6-4972-8454-352400e483fc",
   "metadata": {},
   "outputs": [],
   "source": [
    "\n",
    "\n",
    "train_test_df['prev_items'] = train_test_df['prev_items'].astype(\"category\")\n",
    "train_test_df['item_id'] = train_test_df['prev_items'].cat.codes"
   ]
  },
  {
   "cell_type": "code",
   "execution_count": 26,
   "id": "9ad3f35e-5f3a-4cef-ae2f-1d8b4fdd194f",
   "metadata": {},
   "outputs": [
    {
     "data": {
      "text/html": [
       "<div>\n",
       "<style scoped>\n",
       "    .dataframe tbody tr th:only-of-type {\n",
       "        vertical-align: middle;\n",
       "    }\n",
       "\n",
       "    .dataframe tbody tr th {\n",
       "        vertical-align: top;\n",
       "    }\n",
       "\n",
       "    .dataframe thead th {\n",
       "        text-align: right;\n",
       "    }\n",
       "</style>\n",
       "<table border=\"1\" class=\"dataframe\">\n",
       "  <thead>\n",
       "    <tr style=\"text-align: right;\">\n",
       "      <th></th>\n",
       "      <th>index</th>\n",
       "      <th>type</th>\n",
       "      <th>prev_items</th>\n",
       "      <th>locale</th>\n",
       "      <th>user</th>\n",
       "      <th>user_id</th>\n",
       "      <th>item_id</th>\n",
       "    </tr>\n",
       "  </thead>\n",
       "  <tbody>\n",
       "    <tr>\n",
       "      <th>0</th>\n",
       "      <td>0</td>\n",
       "      <td>train</td>\n",
       "      <td>B09W9FND7K</td>\n",
       "      <td>DE</td>\n",
       "      <td>0train</td>\n",
       "      <td>1</td>\n",
       "      <td>1043498</td>\n",
       "    </tr>\n",
       "    <tr>\n",
       "      <th>0</th>\n",
       "      <td>0</td>\n",
       "      <td>train</td>\n",
       "      <td>B09JSPLN1M</td>\n",
       "      <td>DE</td>\n",
       "      <td>0train</td>\n",
       "      <td>1</td>\n",
       "      <td>917910</td>\n",
       "    </tr>\n",
       "    <tr>\n",
       "      <th>1</th>\n",
       "      <td>1</td>\n",
       "      <td>train</td>\n",
       "      <td>B076THCGSG</td>\n",
       "      <td>DE</td>\n",
       "      <td>1train</td>\n",
       "      <td>1222223</td>\n",
       "      <td>310647</td>\n",
       "    </tr>\n",
       "    <tr>\n",
       "      <th>1</th>\n",
       "      <td>1</td>\n",
       "      <td>train</td>\n",
       "      <td>B007MO8IME</td>\n",
       "      <td>DE</td>\n",
       "      <td>1train</td>\n",
       "      <td>1222223</td>\n",
       "      <td>103874</td>\n",
       "    </tr>\n",
       "    <tr>\n",
       "      <th>1</th>\n",
       "      <td>1</td>\n",
       "      <td>train</td>\n",
       "      <td>B08MF65MLV</td>\n",
       "      <td>DE</td>\n",
       "      <td>1train</td>\n",
       "      <td>1222223</td>\n",
       "      <td>678646</td>\n",
       "    </tr>\n",
       "  </tbody>\n",
       "</table>\n",
       "</div>"
      ],
      "text/plain": [
       "  index   type  prev_items locale    user  user_id  item_id\n",
       "0     0  train  B09W9FND7K     DE  0train        1  1043498\n",
       "0     0  train  B09JSPLN1M     DE  0train        1   917910\n",
       "1     1  train  B076THCGSG     DE  1train  1222223   310647\n",
       "1     1  train  B007MO8IME     DE  1train  1222223   103874\n",
       "1     1  train  B08MF65MLV     DE  1train  1222223   678646"
      ]
     },
     "execution_count": 26,
     "metadata": {},
     "output_type": "execute_result"
    }
   ],
   "source": [
    "train_test_df.head()"
   ]
  },
  {
   "cell_type": "code",
   "execution_count": 27,
   "id": "56f89c15-6cfa-4b39-a0cd-ba6c865787c2",
   "metadata": {},
   "outputs": [
    {
     "data": {
      "text/plain": [
       "15449411"
      ]
     },
     "execution_count": 27,
     "metadata": {},
     "output_type": "execute_result"
    }
   ],
   "source": [
    "len(train_test_df)"
   ]
  },
  {
   "cell_type": "code",
   "execution_count": 28,
   "id": "a881494c-7286-4ce4-b50e-911843591366",
   "metadata": {},
   "outputs": [],
   "source": [
    "itemid2item = dict(zip(train_test_df['item_id'], train_test_df['prev_items']))"
   ]
  },
  {
   "cell_type": "code",
   "execution_count": 29,
   "id": "535b20ba-c806-496b-9aa2-f3f7631a4fb6",
   "metadata": {},
   "outputs": [
    {
     "data": {
      "text/plain": [
       "1271674"
      ]
     },
     "execution_count": 29,
     "metadata": {},
     "output_type": "execute_result"
    }
   ],
   "source": [
    "len(itemid2item)"
   ]
  },
  {
   "cell_type": "code",
   "execution_count": 30,
   "id": "54e75d6d-98fe-4f45-b4ea-f35dc22a7608",
   "metadata": {},
   "outputs": [
    {
     "data": {
      "text/plain": [
       "1271673"
      ]
     },
     "execution_count": 30,
     "metadata": {},
     "output_type": "execute_result"
    }
   ],
   "source": [
    "max(itemid2item.keys())"
   ]
  },
  {
   "cell_type": "code",
   "execution_count": 31,
   "id": "709b5279-966d-46b2-b1bc-cbd0060e8dd4",
   "metadata": {},
   "outputs": [],
   "source": [
    "# itemid2item = \n",
    "# train_test_df.groupby(['prev_items', 'item_id'])['user'].count().reset_index()"
   ]
  },
  {
   "cell_type": "code",
   "execution_count": 32,
   "id": "040eb913-8cc7-4e3f-be72-903c1e292ea4",
   "metadata": {},
   "outputs": [],
   "source": [
    "# itemid2item"
   ]
  },
  {
   "cell_type": "code",
   "execution_count": null,
   "id": "25daae04-d325-4c80-88b7-31c467137614",
   "metadata": {},
   "outputs": [],
   "source": []
  },
  {
   "cell_type": "markdown",
   "id": "05e4d16f-91f2-406e-a7d8-35cafef3aafb",
   "metadata": {
    "tags": []
   },
   "source": [
    "# ALS Model"
   ]
  },
  {
   "cell_type": "code",
   "execution_count": 33,
   "id": "326a98d9-c4ce-453e-93a3-204ddd5efa23",
   "metadata": {},
   "outputs": [],
   "source": [
    "user_item = sps.coo_matrix(\n",
    "      (\n",
    "          np.ones(train_test_df.shape[0]), # We're using a matrix of ones, but using type weights or repurchase weights could help!\n",
    "          (train_test_df['user_id'],\n",
    "          train_test_df['item_id'])\n",
    "      ),\n",
    "      dtype='int8'\n",
    "    ).tocsr()\n"
   ]
  },
  {
   "cell_type": "code",
   "execution_count": 34,
   "id": "f8d42898-bded-4e75-9291-8ed3ea8a801b",
   "metadata": {},
   "outputs": [
    {
     "data": {
      "text/plain": [
       "(3589687, 1271674)"
      ]
     },
     "execution_count": 34,
     "metadata": {},
     "output_type": "execute_result"
    }
   ],
   "source": [
    "user_item.shape\n"
   ]
  },
  {
   "cell_type": "code",
   "execution_count": null,
   "id": "37026bde-2669-4df0-be1e-72ad245c2345",
   "metadata": {},
   "outputs": [
    {
     "data": {
      "application/vnd.jupyter.widget-view+json": {
       "model_id": "978d722b409b467885c25710f0dbce51",
       "version_major": 2,
       "version_minor": 0
      },
      "text/plain": [
       "  0%|          | 0/20 [00:00<?, ?it/s]"
      ]
     },
     "metadata": {},
     "output_type": "display_data"
    }
   ],
   "source": [
    "model = implicit.als.AlternatingLeastSquares(factors=100, regularization=0.1, iterations=20)\n",
    "\n",
    "model.fit(user_items=user_item, show_progress=True)"
   ]
  },
  {
   "cell_type": "code",
   "execution_count": null,
   "id": "0b91ba78-a909-40ac-b496-82d127eab1a1",
   "metadata": {},
   "outputs": [],
   "source": [
    "def get_rec(user_id, model, user_item, itemid2item, topn=100):\n",
    "    item_ids = model.recommend(user_id, \n",
    "                              user_item[user_id, :],\n",
    "                              filter_already_liked_items=True,\n",
    "                               N=topn\n",
    "                             )[0].tolist()\n",
    "    # print(item_ids)\n",
    "    items = [itemid2item[key] for key in item_ids]\n",
    "    return items\n",
    "    "
   ]
  },
  {
   "cell_type": "code",
   "execution_count": null,
   "id": "bc3e0c30-1639-4fc5-b622-d21a53519003",
   "metadata": {},
   "outputs": [],
   "source": [
    "assert model.item_factors.shape[0] == len(itemid2item)"
   ]
  },
  {
   "cell_type": "code",
   "execution_count": null,
   "id": "4664c9b8-bd3d-478f-b493-1ad6833535d7",
   "metadata": {},
   "outputs": [],
   "source": []
  },
  {
   "cell_type": "code",
   "execution_count": null,
   "id": "93b6577c-206b-4614-9ccb-bda55c73f012",
   "metadata": {},
   "outputs": [],
   "source": [
    "# itemid2item[7550]"
   ]
  },
  {
   "cell_type": "code",
   "execution_count": null,
   "id": "1e4af7a0-a4df-48db-80de-540fe52ff719",
   "metadata": {},
   "outputs": [],
   "source": [
    "# itemid2item\n"
   ]
  },
  {
   "cell_type": "code",
   "execution_count": null,
   "id": "94cce0a9-d6ff-4a6f-8ee0-39ef54354675",
   "metadata": {},
   "outputs": [],
   "source": [
    "# help(model.recommend)"
   ]
  },
  {
   "cell_type": "code",
   "execution_count": null,
   "id": "a4460681-befb-4547-bec2-107709936a5f",
   "metadata": {},
   "outputs": [],
   "source": [
    "# original_train_test_df"
   ]
  },
  {
   "cell_type": "code",
   "execution_count": null,
   "id": "9719a97b-c54b-4654-b22f-9c123f806cd1",
   "metadata": {},
   "outputs": [],
   "source": [
    "# test_prediction = train_test_df[(train_test_df['type']=='test')]['item_id'].unique()"
   ]
  },
  {
   "cell_type": "code",
   "execution_count": null,
   "id": "4a4efee7-9afb-44a7-836a-dce1fc5b13e5",
   "metadata": {},
   "outputs": [],
   "source": [
    "test_sessions.shape"
   ]
  },
  {
   "cell_type": "code",
   "execution_count": null,
   "id": "c13019b3-835a-4946-a2a2-6cc3a551909e",
   "metadata": {},
   "outputs": [],
   "source": [
    "%%time\n",
    "predictions = (\n",
    "    pl.from_dataframe(test_sessions)\n",
    "        .with_columns(pl.col('user_id').apply(lambda row: get_rec(row, model=model, user_item=user_item\n",
    "                                                                 , itemid2item=itemid2item)).alias('next_item_prediction'))\n",
    ").to_pandas()[['locale', 'next_item_prediction']]"
   ]
  },
  {
   "cell_type": "code",
   "execution_count": null,
   "id": "65cce4b9-8865-4b98-802e-363c07d9ac4c",
   "metadata": {},
   "outputs": [],
   "source": [
    "# predictions.head()"
   ]
  },
  {
   "cell_type": "markdown",
   "id": "0ee18c38-015c-4f68-bb3d-e77726e3101d",
   "metadata": {},
   "source": [
    "## Save model "
   ]
  },
  {
   "cell_type": "code",
   "execution_count": null,
   "id": "5cff1b87-fbf2-4438-b1f3-014e5a15bef6",
   "metadata": {},
   "outputs": [],
   "source": [
    "with open(model_file, 'wb') as f:\n",
    "    pickle.dump(model, f)"
   ]
  },
  {
   "cell_type": "code",
   "execution_count": null,
   "id": "0030697c-f04d-4108-adf1-3c6a2c9c6510",
   "metadata": {},
   "outputs": [],
   "source": [
    "del model"
   ]
  },
  {
   "cell_type": "code",
   "execution_count": null,
   "id": "d1880ef1-4bd1-4337-a28a-0fea82fcfa95",
   "metadata": {},
   "outputs": [],
   "source": [
    "with open(model_file, 'rb') as f:\n",
    "    model = pickle.load(f)"
   ]
  },
  {
   "cell_type": "code",
   "execution_count": null,
   "id": "12d07075-1fc9-45f3-ae98-1fb5591978f1",
   "metadata": {},
   "outputs": [],
   "source": [
    "%%time\n",
    "train_df = (\n",
    "    pl.from_dataframe(train_sessions.sample(300000))\n",
    "        .with_columns(pl.col('user_id').apply(lambda row: get_rec(row, model=model, user_item=user_item\n",
    "                                                                 , itemid2item=itemid2item)).alias('next_item_prediction'))\n",
    ").to_pandas()#[['locale', 'next_item_prediction']]"
   ]
  },
  {
   "cell_type": "markdown",
   "id": "f2de69a0-8e66-4023-9a1c-748f21a28e65",
   "metadata": {
    "tags": []
   },
   "source": [
    "# Rec & Save Result "
   ]
  },
  {
   "cell_type": "code",
   "execution_count": 51,
   "id": "3a9237da-34d7-418b-95fa-9769a7a6459a",
   "metadata": {},
   "outputs": [],
   "source": [
    "check_predictions(predictions, test_sessions=test_sessions, \n",
    "                  # check_products=True, product_df=products\n",
    "                 )\n",
    "# Its important that the parquet file you submit is saved with pyarrow backend\n",
    "predictions.to_parquet(submit_file, engine='pyarrow')"
   ]
  },
  {
   "cell_type": "markdown",
   "id": "013196a3-32ab-4b61-9d89-8b11639f7525",
   "metadata": {},
   "source": [
    "# Submission "
   ]
  },
  {
   "cell_type": "code",
   "execution_count": null,
   "id": "0a244aa8-4e8d-420c-9c4e-c9d2f3ede12d",
   "metadata": {},
   "outputs": [
    {
     "name": "stdout",
     "output_type": "stream",
     "text": [
      "\u001b[2K\u001b[1;34msubmission_task1_ALS.parquet\u001b[0m \u001b[90m━━━━━━━━━━\u001b[0m \u001b[35m0.1%\u001b[0m • \u001b[32m0.1/51.7  \u001b[0m • \u001b[31m341.0 kB/s\u001b[0m • \u001b[36m0:02:32\u001b[0m0m\n",
      "\u001b[2K\u001b[1A\u001b[2K\u001b[1;34msubmission_task1_ALS.parquet\u001b[0m \u001b[90m━━━━━━━━━━\u001b[0m \u001b[35m0.1%\u001b[0m • \u001b[32m0.1/51.7  \u001b[0m • \u001b[31m390.9 kB/s\u001b[0m • \u001b[36m0:02:13\u001b[0m\n",
      "\u001b[2K\u001b[1A\u001b[2K\u001b[1;34msubmission_task1_ALS.parquet\u001b[0m \u001b[90m━━━━━━━━━━\u001b[0m \u001b[35m0.1%\u001b[0m • \u001b[32m0.1/51.7  \u001b[0m • \u001b[31m439.3 kB/s\u001b[0m • \u001b[36m0:01:58\u001b[0m\n",
      "\u001b[2K\u001b[1A\u001b[2K\u001b[1;34msubmission_task1_ALS.parquet\u001b[0m \u001b[90m━━━━━━━━━━\u001b[0m \u001b[35m0.2%\u001b[0m • \u001b[32m0.1/51.7  \u001b[0m • \u001b[31m486.7 kB/s\u001b[0m • \u001b[36m0:01:47\u001b[0m\n",
      "\u001b[2K\u001b[1A\u001b[2K\u001b[1;34msubmission_task1_ALS.parquet\u001b[0m \u001b[90m━━━━━━━━━━\u001b[0m \u001b[35m0.2%\u001b[0m • \u001b[32m0.1/51.7  \u001b[0m • \u001b[31m532.5 kB/s\u001b[0m • \u001b[36m0:01:37\u001b[0m\n",
      "\u001b[2K\u001b[1A\u001b[2K\u001b[1;34msubmission_task1_ALS.parquet\u001b[0m \u001b[90m━━━━━━━━━━\u001b[0m \u001b[35m0.2%\u001b[0m • \u001b[32m0.1/51.7  \u001b[0m • \u001b[31m576.7 kB/s\u001b[0m • \u001b[36m0:01:30\u001b[0m\n",
      "\u001b[2K\u001b[1A\u001b[2K\u001b[1;34msubmission_task1_ALS.parquet\u001b[0m \u001b[90m━━━━━━━━━━\u001b[0m \u001b[35m0.2%\u001b[0m • \u001b[32m0.1/51.7  \u001b[0m • \u001b[31m619.4 kB/s\u001b[0m • \u001b[36m0:01:24\u001b[0m\n",
      "\u001b[2K\u001b[1A\u001b[2K\u001b[1;34msubmission_task1_ALS.parquet\u001b[0m \u001b[90m━━━━━━━━━━\u001b[0m \u001b[35m0.2%\u001b[0m • \u001b[32m0.1/51.7  \u001b[0m • \u001b[31m619.4 kB/s\u001b[0m • \u001b[36m0:01:24\u001b[0m\n",
      "\u001b[2K\u001b[1A\u001b[2K\u001b[1;34msubmission_task1_ALS.parquet\u001b[0m \u001b[90m━━━━━━━━━━\u001b[0m \u001b[35m0.2%\u001b[0m • \u001b[32m0.1/51.7  \u001b[0m • \u001b[31m377.5 kB/s\u001b[0m • \u001b[36m0:02:17\u001b[0m\n",
      "\u001b[2K\u001b[1A\u001b[2K\u001b[1;34msubmission_task1_ALS.parquet\u001b[0m \u001b[90m━━━━━━━━━━\u001b[0m \u001b[35m0.2%\u001b[0m • \u001b[32m0.1/51.7  \u001b[0m • \u001b[31m402.2 kB/s\u001b[0m • \u001b[36m0:02:09\u001b[0m\n",
      "\u001b[2K\u001b[1A\u001b[2K\u001b[1;34msubmission_task1_ALS.parquet\u001b[0m \u001b[90m━━━━━━━━━━\u001b[0m \u001b[35m0.3%\u001b[0m • \u001b[32m0.1/51.7  \u001b[0m • \u001b[31m427.1 kB/s\u001b[0m • \u001b[36m0:02:01\u001b[0m\n",
      "\u001b[2K\u001b[1A\u001b[2K\u001b[1;34msubmission_task1_ALS.parquet\u001b[0m \u001b[90m━━━━━━━━━━\u001b[0m \u001b[35m0.3%\u001b[0m • \u001b[32m0.1/51.7  \u001b[0m • \u001b[31m451.8 kB/s\u001b[0m • \u001b[36m0:01:55\u001b[0m\n",
      "\u001b[2K\u001b[1A\u001b[2K\u001b[1;34msubmission_task1_ALS.parquet\u001b[0m \u001b[90m━━━━━━━━━━\u001b[0m \u001b[35m0.3%\u001b[0m • \u001b[32m0.1/51.7  \u001b[0m • \u001b[31m475.6 kB/s\u001b[0m • \u001b[36m0:01:49\u001b[0m\n",
      "\u001b[2K\u001b[1A\u001b[2K\u001b[1;34msubmission_task1_ALS.parquet\u001b[0m \u001b[90m━━━━━━━━━━\u001b[0m \u001b[35m0.3%\u001b[0m • \u001b[32m0.2/51.7  \u001b[0m • \u001b[31m499.5 kB/s\u001b[0m • \u001b[36m0:01:44\u001b[0m\n",
      "\u001b[2K\u001b[1A\u001b[2K\u001b[1;34msubmission_task1_ALS.parquet\u001b[0m \u001b[90m━━━━━━━━━━\u001b[0m \u001b[35m0.3%\u001b[0m • \u001b[32m0.2/51.7  \u001b[0m • \u001b[31m522.3 kB/s\u001b[0m • \u001b[36m0:01:39\u001b[0m\n",
      "\u001b[2K\u001b[1A\u001b[2K\u001b[1;34msubmission_task1_ALS.parquet\u001b[0m \u001b[90m━━━━━━━━━━\u001b[0m \u001b[35m0.3%\u001b[0m • \u001b[32m0.2/51.7  \u001b[0m • \u001b[31m545.0 kB/s\u001b[0m • \u001b[36m0:01:35\u001b[0m\n",
      "\u001b[2K\u001b[1A\u001b[2K\u001b[1;34msubmission_task1_ALS.parquet\u001b[0m \u001b[90m━━━━━━━━━━\u001b[0m \u001b[35m0.3%\u001b[0m • \u001b[32m0.2/51.7  \u001b[0m • \u001b[31m566.7 kB/s\u001b[0m • \u001b[36m0:01:31\u001b[0m\n",
      "\u001b[2K\u001b[1A\u001b[2K\u001b[1;34msubmission_task1_ALS.parquet\u001b[0m \u001b[90m━━━━━━━━━━\u001b[0m \u001b[35m0.4%\u001b[0m • \u001b[32m0.2/51.7  \u001b[0m • \u001b[31m587.4 kB/s\u001b[0m • \u001b[36m0:01:28\u001b[0m\n",
      "\u001b[2K\u001b[1A\u001b[2K\u001b[1;34msubmission_task1_ALS.parquet\u001b[0m \u001b[90m━━━━━━━━━━\u001b[0m \u001b[35m0.4%\u001b[0m • \u001b[32m0.2/51.7  \u001b[0m • \u001b[31m609.3 kB/s\u001b[0m • \u001b[36m0:01:25\u001b[0m\n",
      "\u001b[2K\u001b[1A\u001b[2K\u001b[1;34msubmission_task1_ALS.parquet\u001b[0m \u001b[90m━━━━━━━━━━\u001b[0m \u001b[35m0.4%\u001b[0m • \u001b[32m0.2/51.7  \u001b[0m • \u001b[31m609.3 kB/s\u001b[0m • \u001b[36m0:01:25\u001b[0m\n",
      "\u001b[2K\u001b[1A\u001b[2K\u001b[1;34msubmission_task1_ALS.parquet\u001b[0m \u001b[90m━━━━━━━━━━\u001b[0m \u001b[35m0.4%\u001b[0m • \u001b[32m0.2/51.7  \u001b[0m • \u001b[31m466.0 kB/s\u001b[0m • \u001b[36m0:01:51\u001b[0m\n",
      "\u001b[2K\u001b[1A\u001b[2K\u001b[1;34msubmission_task1_ALS.parquet\u001b[0m \u001b[90m━━━━━━━━━━\u001b[0m \u001b[35m0.4%\u001b[0m • \u001b[32m0.2/51.7  \u001b[0m • \u001b[31m482.1 kB/s\u001b[0m • \u001b[36m0:01:47\u001b[0m\n",
      "\u001b[2K\u001b[1A\u001b[2K\u001b[1;34msubmission_task1_ALS.parquet\u001b[0m \u001b[90m━━━━━━━━━━\u001b[0m \u001b[35m0.4%\u001b[0m • \u001b[32m0.2/51.7  \u001b[0m • \u001b[31m498.5 kB/s\u001b[0m • \u001b[36m0:01:44\u001b[0m\n",
      "\u001b[2K\u001b[1A\u001b[2K\u001b[1;34msubmission_task1_ALS.parquet\u001b[0m \u001b[90m━━━━━━━━━━\u001b[0m \u001b[35m0.4%\u001b[0m • \u001b[32m0.2/51.7  \u001b[0m • \u001b[31m514.7 kB/s\u001b[0m • \u001b[36m0:01:41\u001b[0m\n",
      "\u001b[2K\u001b[1A\u001b[2K\u001b[1;34msubmission_task1_ALS.parquet\u001b[0m \u001b[90m━━━━━━━━━━\u001b[0m \u001b[35m0.5%\u001b[0m • \u001b[32m0.2/51.7  \u001b[0m • \u001b[31m530.9 kB/s\u001b[0m • \u001b[36m0:01:37\u001b[0m\n",
      "\u001b[2K\u001b[1A\u001b[2K\u001b[1;34msubmission_task1_ALS.parquet\u001b[0m \u001b[90m━━━━━━━━━━\u001b[0m \u001b[35m0.5%\u001b[0m • \u001b[32m0.2/51.7  \u001b[0m • \u001b[31m546.9 kB/s\u001b[0m • \u001b[36m0:01:35\u001b[0m\n",
      "\u001b[2K\u001b[1A\u001b[2K\u001b[1;34msubmission_task1_ALS.parquet\u001b[0m \u001b[90m━━━━━━━━━━\u001b[0m \u001b[35m0.5%\u001b[0m • \u001b[32m0.3/51.7  \u001b[0m • \u001b[31m562.6 kB/s\u001b[0m • \u001b[36m0:01:32\u001b[0m\n",
      "\u001b[2K\u001b[1A\u001b[2K\u001b[1;34msubmission_task1_ALS.parquet\u001b[0m \u001b[90m━━━━━━━━━━\u001b[0m \u001b[35m0.5%\u001b[0m • \u001b[32m0.3/51.7  \u001b[0m • \u001b[31m578.2 kB/s\u001b[0m • \u001b[36m0:01:30\u001b[0m\n",
      "\u001b[2K\u001b[1A\u001b[2K\u001b[1;34msubmission_task1_ALS.parquet\u001b[0m \u001b[90m━━━━━━━━━━\u001b[0m \u001b[35m0.5%\u001b[0m • \u001b[32m0.3/51.7  \u001b[0m • \u001b[31m593.7 kB/s\u001b[0m • \u001b[36m0:01:27\u001b[0m\n",
      "\u001b[2K\u001b[1A\u001b[2K\u001b[1;34msubmission_task1_ALS.parquet\u001b[0m \u001b[90m━━━━━━━━━━\u001b[0m \u001b[35m0.5%\u001b[0m • \u001b[32m0.3/51.7  \u001b[0m • \u001b[31m609.0 kB/s\u001b[0m • \u001b[36m0:01:25\u001b[0m\n",
      "\u001b[2K\u001b[1A\u001b[2K\u001b[1;34msubmission_task1_ALS.parquet\u001b[0m \u001b[90m━━━━━━━━━━\u001b[0m \u001b[35m0.6%\u001b[0m • \u001b[32m0.3/51.7  \u001b[0m • \u001b[31m624.1 kB/s\u001b[0m • \u001b[36m0:01:23\u001b[0m\n",
      "\u001b[2K\u001b[1A\u001b[2K\u001b[1;34msubmission_task1_ALS.parquet\u001b[0m \u001b[90m━━━━━━━━━━\u001b[0m \u001b[35m0.6%\u001b[0m • \u001b[32m0.3/51.7  \u001b[0m • \u001b[31m639.0 kB/s\u001b[0m • \u001b[36m0:01:21\u001b[0m\n",
      "\u001b[2K\u001b[1A\u001b[2K\u001b[1;34msubmission_task1_ALS.parquet\u001b[0m \u001b[90m━━━━━━━━━━\u001b[0m \u001b[35m0.6%\u001b[0m • \u001b[32m0.3/51.7  \u001b[0m • \u001b[31m639.0 kB/s\u001b[0m • \u001b[36m0:01:21\u001b[0m\n",
      "\u001b[2K\u001b[1A\u001b[2K\u001b[1;34msubmission_task1_ALS.parquet\u001b[0m \u001b[90m━━━━━━━━━━\u001b[0m \u001b[35m0.6%\u001b[0m • \u001b[32m0.3/51.7  \u001b[0m • \u001b[31m649.5 kB/s\u001b[0m • \u001b[36m0:01:20\u001b[0m\n",
      "\u001b[2K\u001b[1A\u001b[2K\u001b[1;34msubmission_task1_ALS.parquet\u001b[0m \u001b[90m━━━━━━━━━━\u001b[0m \u001b[35m0.6%\u001b[0m • \u001b[32m0.3/51.7  \u001b[0m • \u001b[31m649.5 kB/s\u001b[0m • \u001b[36m0:01:20\u001b[0m\n",
      "\u001b[2K\u001b[1A\u001b[2K\u001b[1;34msubmission_task1_ALS.parquet\u001b[0m \u001b[90m━━━━━━━━━━\u001b[0m \u001b[35m0.6%\u001b[0m • \u001b[32m0.3/51.7  \u001b[0m • \u001b[31m539.6 kB/s\u001b[0m • \u001b[36m0:01:36\u001b[0m\n",
      "\u001b[2K\u001b[1A\u001b[2K\u001b[1;34msubmission_task1_ALS.parquet\u001b[0m \u001b[90m━━━━━━━━━━\u001b[0m \u001b[35m0.6%\u001b[0m • \u001b[32m0.3/51.7  \u001b[0m • \u001b[31m551.6 kB/s\u001b[0m • \u001b[36m0:01:34\u001b[0m\n",
      "\u001b[2K\u001b[1A\u001b[2K\u001b[1;34msubmission_task1_ALS.parquet\u001b[0m \u001b[90m━━━━━━━━━━\u001b[0m \u001b[35m0.6%\u001b[0m • \u001b[32m0.3/51.7  \u001b[0m • \u001b[31m563.7 kB/s\u001b[0m • \u001b[36m0:01:32\u001b[0m\n",
      "\u001b[2K\u001b[1A\u001b[2K\u001b[1;34msubmission_task1_ALS.parquet\u001b[0m \u001b[90m━━━━━━━━━━\u001b[0m \u001b[35m0.6%\u001b[0m • \u001b[32m0.3/51.7  \u001b[0m • \u001b[31m575.6 kB/s\u001b[0m • \u001b[36m0:01:30\u001b[0m\n",
      "\u001b[2K\u001b[1A\u001b[2K\u001b[1;34msubmission_task1_ALS.parquet\u001b[0m \u001b[90m━━━━━━━━━━\u001b[0m \u001b[35m0.7%\u001b[0m • \u001b[32m0.3/51.7  \u001b[0m • \u001b[31m587.5 kB/s\u001b[0m • \u001b[36m0:01:28\u001b[0m\n",
      "\u001b[2K\u001b[1A\u001b[2K\u001b[1;34msubmission_task1_ALS.parquet\u001b[0m \u001b[90m━━━━━━━━━━\u001b[0m \u001b[35m0.7%\u001b[0m • \u001b[32m0.4/51.7  \u001b[0m • \u001b[31m599.2 kB/s\u001b[0m • \u001b[36m0:01:26\u001b[0m\n",
      "\u001b[2K\u001b[1A\u001b[2K\u001b[1;34msubmission_task1_ALS.parquet\u001b[0m \u001b[90m━━━━━━━━━━\u001b[0m \u001b[35m0.7%\u001b[0m • \u001b[32m0.4/51.7  \u001b[0m • \u001b[31m610.8 kB/s\u001b[0m • \u001b[36m0:01:25\u001b[0m\n",
      "\u001b[2K\u001b[1A\u001b[2K\u001b[1;34msubmission_task1_ALS.parquet\u001b[0m \u001b[90m━━━━━━━━━━\u001b[0m \u001b[35m0.7%\u001b[0m • \u001b[32m0.4/51.7  \u001b[0m • \u001b[31m622.4 kB/s\u001b[0m • \u001b[36m0:01:23\u001b[0m\n",
      "\u001b[2K\u001b[1A\u001b[2K\u001b[1;34msubmission_task1_ALS.parquet\u001b[0m \u001b[90m━━━━━━━━━━\u001b[0m \u001b[35m0.7%\u001b[0m • \u001b[32m0.4/51.7  \u001b[0m • \u001b[31m633.7 kB/s\u001b[0m • \u001b[36m0:01:22\u001b[0m\n",
      "\u001b[2K\u001b[1A\u001b[2K\u001b[1;34msubmission_task1_ALS.parquet\u001b[0m \u001b[90m━━━━━━━━━━\u001b[0m \u001b[35m0.7%\u001b[0m • \u001b[32m0.4/51.7  \u001b[0m • \u001b[31m645.1 kB/s\u001b[0m • \u001b[36m0:01:20\u001b[0m\n",
      "\u001b[2K\u001b[1A\u001b[2K\u001b[1;34msubmission_task1_ALS.parquet\u001b[0m \u001b[90m━━━━━━━━━━\u001b[0m \u001b[35m0.8%\u001b[0m • \u001b[32m0.4/51.7  \u001b[0m • \u001b[31m656.4 kB/s\u001b[0m • \u001b[36m0:01:19\u001b[0m\n",
      "\u001b[2K\u001b[1A\u001b[2K\u001b[1;34msubmission_task1_ALS.parquet\u001b[0m \u001b[90m━━━━━━━━━━\u001b[0m \u001b[35m0.8%\u001b[0m • \u001b[32m0.4/51.7  \u001b[0m • \u001b[31m667.5 kB/s\u001b[0m • \u001b[36m0:01:17\u001b[0m\n",
      "\u001b[2K\u001b[1A\u001b[2K\u001b[1;34msubmission_task1_ALS.parquet\u001b[0m \u001b[90m━━━━━━━━━━\u001b[0m \u001b[35m0.8%\u001b[0m • \u001b[32m0.4/51.7  \u001b[0m • \u001b[31m678.7 kB/s\u001b[0m • \u001b[36m0:01:16\u001b[0m\n",
      "\u001b[2K\u001b[1A\u001b[2K\u001b[1;34msubmission_task1_ALS.parquet\u001b[0m \u001b[90m━━━━━━━━━━\u001b[0m \u001b[35m0.8%\u001b[0m • \u001b[32m0.4/51.7  \u001b[0m • \u001b[31m689.7 kB/s\u001b[0m • \u001b[36m0:01:15\u001b[0m\n",
      "\u001b[2K\u001b[1A\u001b[2K\u001b[1;34msubmission_task1_ALS.parquet\u001b[0m \u001b[90m━━━━━━━━━━\u001b[0m \u001b[35m0.8%\u001b[0m • \u001b[32m0.4/51.7  \u001b[0m • \u001b[31m700.5 kB/s\u001b[0m • \u001b[36m0:01:14\u001b[0m\n",
      "\u001b[2K\u001b[1A\u001b[2K\u001b[1;34msubmission_task1_ALS.parquet\u001b[0m \u001b[90m━━━━━━━━━━\u001b[0m \u001b[35m0.8%\u001b[0m • \u001b[32m0.4/51.7  \u001b[0m • \u001b[31m710.8 kB/s\u001b[0m • \u001b[36m0:01:13\u001b[0m\n",
      "\u001b[2K\u001b[1A\u001b[2K\u001b[1;34msubmission_task1_ALS.parquet\u001b[0m \u001b[90m━━━━━━━━━━\u001b[0m \u001b[35m0.9%\u001b[0m • \u001b[32m0.4/51.7  \u001b[0m • \u001b[31m721.4 kB/s\u001b[0m • \u001b[36m0:01:12\u001b[0m\n",
      "\u001b[2K\u001b[1A\u001b[2K\u001b[1;34msubmission_task1_ALS.parquet\u001b[0m \u001b[90m━━━━━━━━━━\u001b[0m \u001b[35m0.9%\u001b[0m • \u001b[32m0.5/51.7  \u001b[0m • \u001b[31m732.0 kB/s\u001b[0m • \u001b[36m0:01:11\u001b[0m\n",
      "\u001b[2K\u001b[1A\u001b[2K\u001b[1;34msubmission_task1_ALS.parquet\u001b[0m \u001b[90m━━━━━━━━━━\u001b[0m \u001b[35m0.9%\u001b[0m • \u001b[32m0.5/51.7  \u001b[0m • \u001b[31m742.5 kB/s\u001b[0m • \u001b[36m0:01:10\u001b[0m\n",
      "\u001b[2K\u001b[1A\u001b[2K\u001b[1;34msubmission_task1_ALS.parquet\u001b[0m \u001b[90m━━━━━━━━━━\u001b[0m \u001b[35m0.9%\u001b[0m • \u001b[32m0.5/51.7  \u001b[0m • \u001b[31m752.8 kB/s\u001b[0m • \u001b[36m0:01:09\u001b[0m\n",
      "\u001b[2K\u001b[1A\u001b[2K\u001b[1;34msubmission_task1_ALS.parquet\u001b[0m \u001b[90m━━━━━━━━━━\u001b[0m \u001b[35m0.9%\u001b[0m • \u001b[32m0.5/51.7  \u001b[0m • \u001b[31m763.3 kB/s\u001b[0m • \u001b[36m0:01:08\u001b[0m\n",
      "\u001b[2K\u001b[1A\u001b[2K\u001b[1;34msubmission_task1_ALS.parquet\u001b[0m \u001b[90m━━━━━━━━━━\u001b[0m \u001b[35m0.9%\u001b[0m • \u001b[32m0.5/51.7  \u001b[0m • \u001b[31m773.6 kB/s\u001b[0m • \u001b[36m0:01:07\u001b[0m\n",
      "\u001b[2K\u001b[1A\u001b[2K\u001b[1;34msubmission_task1_ALS.parquet\u001b[0m \u001b[90m━━━━━━━━━━\u001b[0m \u001b[35m1.0%\u001b[0m • \u001b[32m0.5/51.7  \u001b[0m • \u001b[31m783.8 kB/s\u001b[0m • \u001b[36m0:01:06\u001b[0m\n",
      "\u001b[2K\u001b[1A\u001b[2K\u001b[1;34msubmission_task1_ALS.parquet\u001b[0m \u001b[90m━━━━━━━━━━\u001b[0m \u001b[35m1.0%\u001b[0m • \u001b[32m0.5/51.7  \u001b[0m • \u001b[31m793.8 kB/s\u001b[0m • \u001b[36m0:01:05\u001b[0m\n",
      "\u001b[2K\u001b[1A\u001b[2K\u001b[1;34msubmission_task1_ALS.parquet\u001b[0m \u001b[90m━━━━━━━━━━\u001b[0m \u001b[35m1.0%\u001b[0m • \u001b[32m0.5/51.7  \u001b[0m • \u001b[31m803.8 kB/s\u001b[0m • \u001b[36m0:01:04\u001b[0m\n",
      "\u001b[2K\u001b[1A\u001b[2K\u001b[1;34msubmission_task1_ALS.parquet\u001b[0m \u001b[90m━━━━━━━━━━\u001b[0m \u001b[35m1.0%\u001b[0m • \u001b[32m0.5/51.7  \u001b[0m • \u001b[31m813.8 kB/s\u001b[0m • \u001b[36m0:01:03\u001b[0m\n",
      "\u001b[2K\u001b[1A\u001b[2K\u001b[1;34msubmission_task1_ALS.parquet\u001b[0m \u001b[90m━━━━━━━━━━\u001b[0m \u001b[35m1.0%\u001b[0m • \u001b[32m0.5/51.7  \u001b[0m • \u001b[31m823.6 kB/s\u001b[0m • \u001b[36m0:01:03\u001b[0m\n",
      "\u001b[2K\u001b[1A\u001b[2K\u001b[1;34msubmission_task1_ALS.parquet\u001b[0m \u001b[90m━━━━━━━━━━\u001b[0m \u001b[35m1.0%\u001b[0m • \u001b[32m0.5/51.7  \u001b[0m • \u001b[31m833.3 kB/s\u001b[0m • \u001b[36m0:01:02\u001b[0m\n",
      "\u001b[2K\u001b[1A\u001b[2K\u001b[1;34msubmission_task1_ALS.parquet\u001b[0m \u001b[90m━━━━━━━━━━\u001b[0m \u001b[35m1.0%\u001b[0m • \u001b[32m0.5/51.7  \u001b[0m • \u001b[31m843.0 kB/s\u001b[0m • \u001b[36m0:01:01\u001b[0m\n",
      "\u001b[2K\u001b[1A\u001b[2K\u001b[1;34msubmission_task1_ALS.parquet\u001b[0m \u001b[90m━━━━━━━━━━\u001b[0m \u001b[35m1.1%\u001b[0m • \u001b[32m0.5/51.7  \u001b[0m • \u001b[31m852.7 kB/s\u001b[0m • \u001b[36m0:01:01\u001b[0m\n",
      "\u001b[2K\u001b[1A\u001b[2K\u001b[1;34msubmission_task1_ALS.parquet\u001b[0m \u001b[90m━━━━━━━━━━\u001b[0m \u001b[35m1.1%\u001b[0m • \u001b[32m0.6/51.7  \u001b[0m • \u001b[31m862.2 kB/s\u001b[0m • \u001b[36m0:01:00\u001b[0m\n",
      "\u001b[2K\u001b[1A\u001b[2K\u001b[1;34msubmission_task1_ALS.parquet\u001b[0m \u001b[90m━━━━━━━━━━\u001b[0m \u001b[35m1.1%\u001b[0m • \u001b[32m0.6/51.7  \u001b[0m • \u001b[31m871.8 kB/s\u001b[0m • \u001b[36m0:00:59\u001b[0m\n",
      "\u001b[2K\u001b[1A\u001b[2K\u001b[1;34msubmission_task1_ALS.parquet\u001b[0m \u001b[90m━━━━━━━━━━\u001b[0m \u001b[35m1.1%\u001b[0m • \u001b[32m0.6/51.7  \u001b[0m • \u001b[31m871.8 kB/s\u001b[0m • \u001b[36m0:00:59\u001b[0m\n",
      "\u001b[2K\u001b[1A\u001b[2K\u001b[1;34msubmission_task1_ALS.parquet\u001b[0m \u001b[90m━━━━━━━━━━\u001b[0m \u001b[35m1.1%\u001b[0m • \u001b[32m0.6/51.7  \u001b[0m • \u001b[31m805.5 kB/s\u001b[0m • \u001b[36m0:01:04\u001b[0m\n",
      "\u001b[2K\u001b[1A\u001b[2K\u001b[1;34msubmission_task1_ALS.parquet\u001b[0m \u001b[90m━━━━━━━━━━\u001b[0m \u001b[35m1.1%\u001b[0m • \u001b[32m0.6/51.7  \u001b[0m • \u001b[31m813.7 kB/s\u001b[0m • \u001b[36m0:01:03\u001b[0m\n",
      "\u001b[2K\u001b[1A\u001b[2K\u001b[1;34msubmission_task1_ALS.parquet\u001b[0m \u001b[90m━━━━━━━━━━\u001b[0m \u001b[35m1.1%\u001b[0m • \u001b[32m0.6/51.7  \u001b[0m • \u001b[31m822.3 kB/s\u001b[0m • \u001b[36m0:01:03\u001b[0m\n",
      "\u001b[2K\u001b[1A\u001b[2K\u001b[1;34msubmission_task1_ALS.parquet\u001b[0m \u001b[90m━━━━━━━━━━\u001b[0m \u001b[35m1.2%\u001b[0m • \u001b[32m0.6/51.7  \u001b[0m • \u001b[31m830.8 kB/s\u001b[0m • \u001b[36m0:01:02\u001b[0m\n",
      "\u001b[2K\u001b[1A\u001b[2K\u001b[1;34msubmission_task1_ALS.parquet\u001b[0m \u001b[90m━━━━━━━━━━\u001b[0m \u001b[35m1.2%\u001b[0m • \u001b[32m0.6/51.7  \u001b[0m • \u001b[31m839.0 kB/s\u001b[0m • \u001b[36m0:01:01\u001b[0m\n",
      "\u001b[2K\u001b[1A\u001b[2K\u001b[1;34msubmission_task1_ALS.parquet\u001b[0m \u001b[90m━━━━━━━━━━\u001b[0m \u001b[35m1.2%\u001b[0m • \u001b[32m0.6/51.7  \u001b[0m • \u001b[31m847.6 kB/s\u001b[0m • \u001b[36m0:01:01\u001b[0m\n",
      "\u001b[2K\u001b[1A\u001b[2K\u001b[1;34msubmission_task1_ALS.parquet\u001b[0m \u001b[90m━━━━━━━━━━\u001b[0m \u001b[35m1.2%\u001b[0m • \u001b[32m0.6/51.7  \u001b[0m • \u001b[31m855.9 kB/s\u001b[0m • \u001b[36m0:01:00\u001b[0m\n",
      "\u001b[2K\u001b[1A\u001b[2K\u001b[1;34msubmission_task1_ALS.parquet\u001b[0m \u001b[90m━━━━━━━━━━\u001b[0m \u001b[35m1.2%\u001b[0m • \u001b[32m0.6/51.7  \u001b[0m • \u001b[31m864.3 kB/s\u001b[0m • \u001b[36m0:01:00\u001b[0m\n",
      "\u001b[2K\u001b[1A\u001b[2K\u001b[1;34msubmission_task1_ALS.parquet\u001b[0m \u001b[90m━━━━━━━━━━\u001b[0m \u001b[35m1.2%\u001b[0m • \u001b[32m0.6/51.7  \u001b[0m • \u001b[31m872.6 kB/s\u001b[0m • \u001b[36m0:00:59\u001b[0m\n",
      "\u001b[2K\u001b[1A\u001b[2K\u001b[1;34msubmission_task1_ALS.parquet\u001b[0m \u001b[90m━━━━━━━━━━\u001b[0m \u001b[35m1.3%\u001b[0m • \u001b[32m0.6/51.7  \u001b[0m • \u001b[31m880.8 kB/s\u001b[0m • \u001b[36m0:00:58\u001b[0m\n",
      "\u001b[2K\u001b[1A\u001b[2K\u001b[1;34msubmission_task1_ALS.parquet\u001b[0m \u001b[90m━━━━━━━━━━\u001b[0m \u001b[35m1.3%\u001b[0m • \u001b[32m0.7/51.7  \u001b[0m • \u001b[31m889.0 kB/s\u001b[0m • \u001b[36m0:00:58\u001b[0m\n",
      "\u001b[2K\u001b[1A\u001b[2K\u001b[1;34msubmission_task1_ALS.parquet\u001b[0m \u001b[90m━━━━━━━━━━\u001b[0m \u001b[35m1.3%\u001b[0m • \u001b[32m0.7/51.7  \u001b[0m • \u001b[31m897.1 kB/s\u001b[0m • \u001b[36m0:00:57\u001b[0m\n",
      "\u001b[2K\u001b[1A\u001b[2K\u001b[1;34msubmission_task1_ALS.parquet\u001b[0m \u001b[90m━━━━━━━━━━\u001b[0m \u001b[35m1.3%\u001b[0m • \u001b[32m0.7/51.7  \u001b[0m • \u001b[31m905.2 kB/s\u001b[0m • \u001b[36m0:00:57\u001b[0m\n",
      "\u001b[2K\u001b[1A\u001b[2K\u001b[1;34msubmission_task1_ALS.parquet\u001b[0m \u001b[90m━━━━━━━━━━\u001b[0m \u001b[35m1.3%\u001b[0m • \u001b[32m0.7/51.7  \u001b[0m • \u001b[31m913.2 kB/s\u001b[0m • \u001b[36m0:00:56\u001b[0m\n",
      "\u001b[2K\u001b[1A\u001b[2K\u001b[1;34msubmission_task1_ALS.parquet\u001b[0m \u001b[90m━━━━━━━━━━\u001b[0m \u001b[35m1.3%\u001b[0m • \u001b[32m0.7/51.7  \u001b[0m • \u001b[31m921.2 kB/s\u001b[0m • \u001b[36m0:00:56\u001b[0m\n",
      "\u001b[2K\u001b[1A\u001b[2K\u001b[1;34msubmission_task1_ALS.parquet\u001b[0m \u001b[90m━━━━━━━━━━\u001b[0m \u001b[35m1.3%\u001b[0m • \u001b[32m0.7/51.7  \u001b[0m • \u001b[31m929.3 kB/s\u001b[0m • \u001b[36m0:00:55\u001b[0m\n",
      "\u001b[2K\u001b[1A\u001b[2K\u001b[1;34msubmission_task1_ALS.parquet\u001b[0m \u001b[90m━━━━━━━━━━\u001b[0m \u001b[35m1.4%\u001b[0m • \u001b[32m0.7/51.7  \u001b[0m • \u001b[31m937.2 kB/s\u001b[0m • \u001b[36m0:00:55\u001b[0m\n",
      "\u001b[2K\u001b[1A\u001b[2K\u001b[1;34msubmission_task1_ALS.parquet\u001b[0m \u001b[90m━━━━━━━━━━\u001b[0m \u001b[35m1.4%\u001b[0m • \u001b[32m0.7/51.7  \u001b[0m • \u001b[31m945.1 kB/s\u001b[0m • \u001b[36m0:00:54\u001b[0m\n",
      "\u001b[2K\u001b[1A\u001b[2K\u001b[1;34msubmission_task1_ALS.parquet\u001b[0m \u001b[90m━━━━━━━━━━\u001b[0m \u001b[35m1.4%\u001b[0m • \u001b[32m0.7/51.7  \u001b[0m • \u001b[31m952.8 kB/s\u001b[0m • \u001b[36m0:00:54\u001b[0m\n",
      "\u001b[2K\u001b[1A\u001b[2K\u001b[1;34msubmission_task1_ALS.parquet\u001b[0m \u001b[90m━━━━━━━━━━\u001b[0m \u001b[35m1.4%\u001b[0m • \u001b[32m0.7/51.7  \u001b[0m • \u001b[31m960.4 kB/s\u001b[0m • \u001b[36m0:00:54\u001b[0m\n",
      "\u001b[2K\u001b[1A\u001b[2K\u001b[1;34msubmission_task1_ALS.parquet\u001b[0m \u001b[90m━━━━━━━━━━\u001b[0m \u001b[35m1.4%\u001b[0m • \u001b[32m0.7/51.7  \u001b[0m • \u001b[31m968.0 kB/s\u001b[0m • \u001b[36m0:00:53\u001b[0m\n",
      "\u001b[2K\u001b[1A\u001b[2K\u001b[1;34msubmission_task1_ALS.parquet\u001b[0m \u001b[90m━━━━━━━━━━\u001b[0m \u001b[35m1.4%\u001b[0m • \u001b[32m0.7/51.7  \u001b[0m • \u001b[31m975.6 kB/s\u001b[0m • \u001b[36m0:00:53\u001b[0m\n",
      "\u001b[2K\u001b[1A\u001b[2K\u001b[1;34msubmission_task1_ALS.parquet\u001b[0m \u001b[90m━━━━━━━━━━\u001b[0m \u001b[35m1.5%\u001b[0m • \u001b[32m0.8/51.7  \u001b[0m • \u001b[31m983.1 kB/s\u001b[0m • \u001b[36m0:00:52\u001b[0m\n",
      "\u001b[2K\u001b[1A\u001b[2K\u001b[1;34msubmission_task1_ALS.parquet\u001b[0m \u001b[90m━━━━━━━━━━\u001b[0m \u001b[35m1.5%\u001b[0m • \u001b[32m0.8/51.7  \u001b[0m • \u001b[31m983.1 kB/s\u001b[0m • \u001b[36m0:00:52\u001b[0m\n",
      "\u001b[2K\u001b[1A\u001b[2K\u001b[1;34msubmission_task1_ALS.parquet\u001b[0m \u001b[90m━━━━━━━━━━\u001b[0m \u001b[35m1.5%\u001b[0m • \u001b[32m0.8/51.7  \u001b[0m • \u001b[31m986.7 kB/s\u001b[0m • \u001b[36m0:00:52\u001b[0m\n",
      "\u001b[2K\u001b[1A\u001b[2K\u001b[1;34msubmission_task1_ALS.parquet\u001b[0m \u001b[90m━━━━━━━━━━\u001b[0m \u001b[35m1.5%\u001b[0m • \u001b[32m0.8/51.7  \u001b[0m • \u001b[31m994.2 kB/s\u001b[0m • \u001b[36m0:00:52\u001b[0m\n",
      "\u001b[2K\u001b[1;34msubmission_task1_ALS.parquet\u001b[0m \u001b[91m━\u001b[0m\u001b[90m╺\u001b[0m\u001b[90m━━━━━━━━━\u001b[0m \u001b[35m10.0%\u001b[0m • \u001b[32m5.2/51.7  \u001b[0m • \u001b[31m2.4 MB/s\u001b[0m • \u001b[36m0:00:20\u001b[0m\n",
      "\u001b[2K\u001b[1A\u001b[2K\u001b[1;34msubmission_task1_ALS.parquet\u001b[0m \u001b[91m━\u001b[0m\u001b[90m╺\u001b[0m\u001b[90m━━━━━━━━━\u001b[0m \u001b[35m10.0%\u001b[0m • \u001b[32m5.2/51.7  \u001b[0m • \u001b[31m2.4 MB/s\u001b[0m • \u001b[36m0:00:20\u001b[0m\n",
      "\u001b[2K\u001b[1A\u001b[2K\u001b[1;34msubmission_task1_ALS.parquet\u001b[0m \u001b[91m━\u001b[0m\u001b[90m╺\u001b[0m\u001b[90m━━━━━━━━━\u001b[0m \u001b[35m10.0%\u001b[0m • \u001b[32m5.2/51.7  \u001b[0m • \u001b[31m2.4 MB/s\u001b[0m • \u001b[36m0:00:20\u001b[0m\n",
      "\u001b[2K\u001b[1A\u001b[2K\u001b[1;34msubmission_task1_ALS.parquet\u001b[0m \u001b[91m━\u001b[0m\u001b[90m╺\u001b[0m\u001b[90m━━━━━━━━━\u001b[0m \u001b[35m10.0%\u001b[0m • \u001b[32m5.2/51.7  \u001b[0m • \u001b[31m2.4 MB/s\u001b[0m • \u001b[36m0:00:20\u001b[0m\n",
      "\u001b[2K\u001b[1A\u001b[2K\u001b[1;34msubmission_task1_ALS.parquet\u001b[0m \u001b[91m━\u001b[0m\u001b[90m╺\u001b[0m\u001b[90m━━━━━━━━━\u001b[0m \u001b[35m10.0%\u001b[0m • \u001b[32m5.2/51.7  \u001b[0m • \u001b[31m2.4 MB/s\u001b[0m • \u001b[36m0:00:20\u001b[0m\n",
      "\u001b[2K\u001b[1A\u001b[2K\u001b[1;34msubmission_task1_ALS.parquet\u001b[0m \u001b[91m━\u001b[0m\u001b[90m╺\u001b[0m\u001b[90m━━━━━━━━━\u001b[0m \u001b[35m10.0%\u001b[0m • \u001b[32m5.2/51.7  \u001b[0m • \u001b[31m2.4 MB/s\u001b[0m • \u001b[36m0:00:20\u001b[0m\n",
      "\u001b[2K\u001b[1A\u001b[2K\u001b[1;34msubmission_task1_ALS.parquet\u001b[0m \u001b[91m━\u001b[0m\u001b[90m╺\u001b[0m\u001b[90m━━━━━━━━━\u001b[0m \u001b[35m10.1%\u001b[0m • \u001b[32m5.2/51.7  \u001b[0m • \u001b[31m2.4 MB/s\u001b[0m • \u001b[36m0:00:20\u001b[0m\n",
      "\u001b[2K\u001b[1A\u001b[2K\u001b[1;34msubmission_task1_ALS.parquet\u001b[0m \u001b[91m━\u001b[0m\u001b[90m╺\u001b[0m\u001b[90m━━━━━━━━━\u001b[0m \u001b[35m10.1%\u001b[0m • \u001b[32m5.2/51.7  \u001b[0m • \u001b[31m2.4 MB/s\u001b[0m • \u001b[36m0:00:20\u001b[0m\n",
      "\u001b[2K\u001b[1A\u001b[2K\u001b[1;34msubmission_task1_ALS.parquet\u001b[0m \u001b[91m━\u001b[0m\u001b[90m╺\u001b[0m\u001b[90m━━━━━━━━━\u001b[0m \u001b[35m10.1%\u001b[0m • \u001b[32m5.2/51.7  \u001b[0m • \u001b[31m2.4 MB/s\u001b[0m • \u001b[36m0:00:20\u001b[0m\n",
      "\u001b[2K\u001b[1A\u001b[2K\u001b[1;34msubmission_task1_ALS.parquet\u001b[0m \u001b[91m━\u001b[0m\u001b[90m╺\u001b[0m\u001b[90m━━━━━━━━━\u001b[0m \u001b[35m10.1%\u001b[0m • \u001b[32m5.2/51.7  \u001b[0m • \u001b[31m2.4 MB/s\u001b[0m • \u001b[36m0:00:20\u001b[0m\n",
      "\u001b[2K\u001b[1A\u001b[2K\u001b[1;34msubmission_task1_ALS.parquet\u001b[0m \u001b[91m━\u001b[0m\u001b[90m╺\u001b[0m\u001b[90m━━━━━━━━━\u001b[0m \u001b[35m10.1%\u001b[0m • \u001b[32m5.2/51.7  \u001b[0m • \u001b[31m2.4 MB/s\u001b[0m • \u001b[36m0:00:20\u001b[0m\n",
      "\u001b[2K\u001b[1A\u001b[2K\u001b[1;34msubmission_task1_ALS.parquet\u001b[0m \u001b[91m━\u001b[0m\u001b[90m╺\u001b[0m\u001b[90m━━━━━━━━━\u001b[0m \u001b[35m10.1%\u001b[0m • \u001b[32m5.2/51.7  \u001b[0m • \u001b[31m2.4 MB/s\u001b[0m • \u001b[36m0:00:20\u001b[0m\n",
      "\u001b[2K\u001b[1A\u001b[2K\u001b[1;34msubmission_task1_ALS.parquet\u001b[0m \u001b[91m━\u001b[0m\u001b[90m╺\u001b[0m\u001b[90m━━━━━━━━━\u001b[0m \u001b[35m10.2%\u001b[0m • \u001b[32m5.3/51.7  \u001b[0m • \u001b[31m2.4 MB/s\u001b[0m • \u001b[36m0:00:20\u001b[0m\n",
      "\u001b[2K\u001b[1A\u001b[2K\u001b[1;34msubmission_task1_ALS.parquet\u001b[0m \u001b[91m━\u001b[0m\u001b[90m╺\u001b[0m\u001b[90m━━━━━━━━━\u001b[0m \u001b[35m10.2%\u001b[0m • \u001b[32m5.3/51.7  \u001b[0m • \u001b[31m2.4 MB/s\u001b[0m • \u001b[36m0:00:20\u001b[0m\n",
      "\u001b[2K\u001b[1A\u001b[2K\u001b[1;34msubmission_task1_ALS.parquet\u001b[0m \u001b[91m━\u001b[0m\u001b[90m╺\u001b[0m\u001b[90m━━━━━━━━━\u001b[0m \u001b[35m10.2%\u001b[0m • \u001b[32m5.3/51.7  \u001b[0m • \u001b[31m2.4 MB/s\u001b[0m • \u001b[36m0:00:20\u001b[0m\n",
      "\u001b[2K\u001b[1A\u001b[2K\u001b[1;34msubmission_task1_ALS.parquet\u001b[0m \u001b[91m━\u001b[0m\u001b[90m╺\u001b[0m\u001b[90m━━━━━━━━━\u001b[0m \u001b[35m10.2%\u001b[0m • \u001b[32m5.3/51.7  \u001b[0m • \u001b[31m2.4 MB/s\u001b[0m • \u001b[36m0:00:20\u001b[0m\n",
      "\u001b[2K\u001b[1A\u001b[2K\u001b[1;34msubmission_task1_ALS.parquet\u001b[0m \u001b[91m━\u001b[0m\u001b[90m╺\u001b[0m\u001b[90m━━━━━━━━━\u001b[0m \u001b[35m10.2%\u001b[0m • \u001b[32m5.3/51.7  \u001b[0m • \u001b[31m2.4 MB/s\u001b[0m • \u001b[36m0:00:20\u001b[0m\n",
      "\u001b[2K\u001b[1A\u001b[2K\u001b[1;34msubmission_task1_ALS.parquet\u001b[0m \u001b[91m━\u001b[0m\u001b[90m╺\u001b[0m\u001b[90m━━━━━━━━━\u001b[0m \u001b[35m10.2%\u001b[0m • \u001b[32m5.3/51.7  \u001b[0m • \u001b[31m2.4 MB/s\u001b[0m • \u001b[36m0:00:20\u001b[0m\n",
      "\u001b[2K\u001b[1A\u001b[2K\u001b[1;34msubmission_task1_ALS.parquet\u001b[0m \u001b[91m━\u001b[0m\u001b[90m╺\u001b[0m\u001b[90m━━━━━━━━━\u001b[0m \u001b[35m10.2%\u001b[0m • \u001b[32m5.3/51.7  \u001b[0m • \u001b[31m2.4 MB/s\u001b[0m • \u001b[36m0:00:20\u001b[0m\n",
      "\u001b[2K\u001b[1A\u001b[2K\u001b[1;34msubmission_task1_ALS.parquet\u001b[0m \u001b[91m━\u001b[0m\u001b[90m╺\u001b[0m\u001b[90m━━━━━━━━━\u001b[0m \u001b[35m10.3%\u001b[0m • \u001b[32m5.3/51.7  \u001b[0m • \u001b[31m2.4 MB/s\u001b[0m • \u001b[36m0:00:20\u001b[0m\n",
      "\u001b[2K\u001b[1A\u001b[2K\u001b[1;34msubmission_task1_ALS.parquet\u001b[0m \u001b[91m━\u001b[0m\u001b[90m╺\u001b[0m\u001b[90m━━━━━━━━━\u001b[0m \u001b[35m10.3%\u001b[0m • \u001b[32m5.3/51.7  \u001b[0m • \u001b[31m2.4 MB/s\u001b[0m • \u001b[36m0:00:20\u001b[0m\n",
      "\u001b[2K\u001b[1A\u001b[2K\u001b[1;34msubmission_task1_ALS.parquet\u001b[0m \u001b[91m━\u001b[0m\u001b[90m╺\u001b[0m\u001b[90m━━━━━━━━━\u001b[0m \u001b[35m10.3%\u001b[0m • \u001b[32m5.3/51.7  \u001b[0m • \u001b[31m2.4 MB/s\u001b[0m • \u001b[36m0:00:20\u001b[0m\n",
      "\u001b[2K\u001b[1A\u001b[2K\u001b[1;34msubmission_task1_ALS.parquet\u001b[0m \u001b[91m━\u001b[0m\u001b[90m╺\u001b[0m\u001b[90m━━━━━━━━━\u001b[0m \u001b[35m10.3%\u001b[0m • \u001b[32m5.3/51.7  \u001b[0m • \u001b[31m2.4 MB/s\u001b[0m • \u001b[36m0:00:20\u001b[0m\n",
      "\u001b[2K\u001b[1A\u001b[2K\u001b[1;34msubmission_task1_ALS.parquet\u001b[0m \u001b[91m━\u001b[0m\u001b[90m╺\u001b[0m\u001b[90m━━━━━━━━━\u001b[0m \u001b[35m10.3%\u001b[0m • \u001b[32m5.3/51.7  \u001b[0m • \u001b[31m2.4 MB/s\u001b[0m • \u001b[36m0:00:20\u001b[0m\n",
      "\u001b[2K\u001b[1A\u001b[2K\u001b[1;34msubmission_task1_ALS.parquet\u001b[0m \u001b[91m━\u001b[0m\u001b[90m╺\u001b[0m\u001b[90m━━━━━━━━━\u001b[0m \u001b[35m10.3%\u001b[0m • \u001b[32m5.3/51.7  \u001b[0m • \u001b[31m2.4 MB/s\u001b[0m • \u001b[36m0:00:20\u001b[0m\n",
      "\u001b[2K\u001b[1A\u001b[2K\u001b[1;34msubmission_task1_ALS.parquet\u001b[0m \u001b[91m━\u001b[0m\u001b[90m╺\u001b[0m\u001b[90m━━━━━━━━━\u001b[0m \u001b[35m10.4%\u001b[0m • \u001b[32m5.4/51.7  \u001b[0m • \u001b[31m2.4 MB/s\u001b[0m • \u001b[36m0:00:20\u001b[0m\n",
      "\u001b[2K\u001b[1A\u001b[2K\u001b[1;34msubmission_task1_ALS.parquet\u001b[0m \u001b[91m━\u001b[0m\u001b[90m╺\u001b[0m\u001b[90m━━━━━━━━━\u001b[0m \u001b[35m10.4%\u001b[0m • \u001b[32m5.4/51.7  \u001b[0m • \u001b[31m2.4 MB/s\u001b[0m • \u001b[36m0:00:20\u001b[0m\n",
      "\u001b[2K\u001b[1A\u001b[2K\u001b[1;34msubmission_task1_ALS.parquet\u001b[0m \u001b[91m━\u001b[0m\u001b[90m╺\u001b[0m\u001b[90m━━━━━━━━━\u001b[0m \u001b[35m10.4%\u001b[0m • \u001b[32m5.4/51.7  \u001b[0m • \u001b[31m2.4 MB/s\u001b[0m • \u001b[36m0:00:20\u001b[0m\n",
      "\u001b[2K\u001b[1A\u001b[2K\u001b[1;34msubmission_task1_ALS.parquet\u001b[0m \u001b[91m━\u001b[0m\u001b[90m╺\u001b[0m\u001b[90m━━━━━━━━━\u001b[0m \u001b[35m10.4%\u001b[0m • \u001b[32m5.4/51.7  \u001b[0m • \u001b[31m2.4 MB/s\u001b[0m • \u001b[36m0:00:20\u001b[0m\n",
      "\u001b[2K\u001b[1A\u001b[2K\u001b[1;34msubmission_task1_ALS.parquet\u001b[0m \u001b[91m━\u001b[0m\u001b[90m╺\u001b[0m\u001b[90m━━━━━━━━━\u001b[0m \u001b[35m10.4%\u001b[0m • \u001b[32m5.4/51.7  \u001b[0m • \u001b[31m2.4 MB/s\u001b[0m • \u001b[36m0:00:20\u001b[0m\n",
      "\u001b[2K\u001b[1A\u001b[2K\u001b[1;34msubmission_task1_ALS.parquet\u001b[0m \u001b[91m━\u001b[0m\u001b[90m╺\u001b[0m\u001b[90m━━━━━━━━━\u001b[0m \u001b[35m10.4%\u001b[0m • \u001b[32m5.4/51.7  \u001b[0m • \u001b[31m2.4 MB/s\u001b[0m • \u001b[36m0:00:20\u001b[0m\n",
      "\u001b[2K\u001b[1A\u001b[2K\u001b[1;34msubmission_task1_ALS.parquet\u001b[0m \u001b[91m━\u001b[0m\u001b[90m╺\u001b[0m\u001b[90m━━━━━━━━━\u001b[0m \u001b[35m10.4%\u001b[0m • \u001b[32m5.4/51.7  \u001b[0m • \u001b[31m2.4 MB/s\u001b[0m • \u001b[36m0:00:20\u001b[0m\n",
      "\u001b[2K\u001b[1A\u001b[2K\u001b[1;34msubmission_task1_ALS.parquet\u001b[0m \u001b[91m━\u001b[0m\u001b[90m╺\u001b[0m\u001b[90m━━━━━━━━━\u001b[0m \u001b[35m10.5%\u001b[0m • \u001b[32m5.4/51.7  \u001b[0m • \u001b[31m2.4 MB/s\u001b[0m • \u001b[36m0:00:20\u001b[0m\n",
      "\u001b[2K\u001b[1A\u001b[2K\u001b[1;34msubmission_task1_ALS.parquet\u001b[0m \u001b[91m━\u001b[0m\u001b[90m╺\u001b[0m\u001b[90m━━━━━━━━━\u001b[0m \u001b[35m10.5%\u001b[0m • \u001b[32m5.4/51.7  \u001b[0m • \u001b[31m2.4 MB/s\u001b[0m • \u001b[36m0:00:20\u001b[0m\n",
      "\u001b[2K\u001b[1A\u001b[2K\u001b[1;34msubmission_task1_ALS.parquet\u001b[0m \u001b[91m━\u001b[0m\u001b[90m╺\u001b[0m\u001b[90m━━━━━━━━━\u001b[0m \u001b[35m10.5%\u001b[0m • \u001b[32m5.4/51.7  \u001b[0m • \u001b[31m2.4 MB/s\u001b[0m • \u001b[36m0:00:20\u001b[0m\n",
      "\u001b[2K\u001b[1A\u001b[2K\u001b[1;34msubmission_task1_ALS.parquet\u001b[0m \u001b[91m━\u001b[0m\u001b[90m╺\u001b[0m\u001b[90m━━━━━━━━━\u001b[0m \u001b[35m10.5%\u001b[0m • \u001b[32m5.4/51.7  \u001b[0m • \u001b[31m2.4 MB/s\u001b[0m • \u001b[36m0:00:19\u001b[0m\n",
      "\u001b[2K\u001b[1A\u001b[2K\u001b[1;34msubmission_task1_ALS.parquet\u001b[0m \u001b[91m━\u001b[0m\u001b[90m╺\u001b[0m\u001b[90m━━━━━━━━━\u001b[0m \u001b[35m10.5%\u001b[0m • \u001b[32m5.4/51.7  \u001b[0m • \u001b[31m2.4 MB/s\u001b[0m • \u001b[36m0:00:19\u001b[0m\n",
      "\u001b[2K\u001b[1A\u001b[2K\u001b[1;34msubmission_task1_ALS.parquet\u001b[0m \u001b[91m━\u001b[0m\u001b[90m╺\u001b[0m\u001b[90m━━━━━━━━━\u001b[0m \u001b[35m10.5%\u001b[0m • \u001b[32m5.4/51.7  \u001b[0m • \u001b[31m2.4 MB/s\u001b[0m • \u001b[36m0:00:19\u001b[0m\n",
      "\u001b[2K\u001b[1A\u001b[2K\u001b[1;34msubmission_task1_ALS.parquet\u001b[0m \u001b[91m━\u001b[0m\u001b[90m╺\u001b[0m\u001b[90m━━━━━━━━━\u001b[0m \u001b[35m10.5%\u001b[0m • \u001b[32m5.5/51.7  \u001b[0m • \u001b[31m2.4 MB/s\u001b[0m • \u001b[36m0:00:19\u001b[0m\n",
      "\u001b[2K\u001b[1A\u001b[2K\u001b[1;34msubmission_task1_ALS.parquet\u001b[0m \u001b[91m━\u001b[0m\u001b[90m╺\u001b[0m\u001b[90m━━━━━━━━━\u001b[0m \u001b[35m10.6%\u001b[0m • \u001b[32m5.5/51.7  \u001b[0m • \u001b[31m2.4 MB/s\u001b[0m • \u001b[36m0:00:19\u001b[0m\n",
      "\u001b[2K\u001b[1A\u001b[2K\u001b[1;34msubmission_task1_ALS.parquet\u001b[0m \u001b[91m━\u001b[0m\u001b[90m╺\u001b[0m\u001b[90m━━━━━━━━━\u001b[0m \u001b[35m10.6%\u001b[0m • \u001b[32m5.5/51.7  \u001b[0m • \u001b[31m2.4 MB/s\u001b[0m • \u001b[36m0:00:19\u001b[0m\n",
      "\u001b[2K\u001b[1A\u001b[2K\u001b[1;34msubmission_task1_ALS.parquet\u001b[0m \u001b[91m━\u001b[0m\u001b[90m╺\u001b[0m\u001b[90m━━━━━━━━━\u001b[0m \u001b[35m10.6%\u001b[0m • \u001b[32m5.5/51.7  \u001b[0m • \u001b[31m2.4 MB/s\u001b[0m • \u001b[36m0:00:19\u001b[0m\n",
      "\u001b[2K\u001b[1A\u001b[2K\u001b[1;34msubmission_task1_ALS.parquet\u001b[0m \u001b[91m━\u001b[0m\u001b[90m╺\u001b[0m\u001b[90m━━━━━━━━━\u001b[0m \u001b[35m10.6%\u001b[0m • \u001b[32m5.5/51.7  \u001b[0m • \u001b[31m2.4 MB/s\u001b[0m • \u001b[36m0:00:19\u001b[0m\n",
      "\u001b[2K\u001b[1A\u001b[2K\u001b[1;34msubmission_task1_ALS.parquet\u001b[0m \u001b[91m━\u001b[0m\u001b[90m╺\u001b[0m\u001b[90m━━━━━━━━━\u001b[0m \u001b[35m10.6%\u001b[0m • \u001b[32m5.5/51.7  \u001b[0m • \u001b[31m2.4 MB/s\u001b[0m • \u001b[36m0:00:19\u001b[0m\n",
      "\u001b[2K\u001b[1A\u001b[2K\u001b[1;34msubmission_task1_ALS.parquet\u001b[0m \u001b[91m━\u001b[0m\u001b[90m╺\u001b[0m\u001b[90m━━━━━━━━━\u001b[0m \u001b[35m10.6%\u001b[0m • \u001b[32m5.5/51.7  \u001b[0m • \u001b[31m2.4 MB/s\u001b[0m • \u001b[36m0:00:19\u001b[0m\n",
      "\u001b[2K\u001b[1A\u001b[2K\u001b[1;34msubmission_task1_ALS.parquet\u001b[0m \u001b[91m━\u001b[0m\u001b[90m╺\u001b[0m\u001b[90m━━━━━━━━━\u001b[0m \u001b[35m10.7%\u001b[0m • \u001b[32m5.5/51.7  \u001b[0m • \u001b[31m2.4 MB/s\u001b[0m • \u001b[36m0:00:19\u001b[0m\n",
      "\u001b[2K\u001b[1A\u001b[2K\u001b[1;34msubmission_task1_ALS.parquet\u001b[0m \u001b[91m━\u001b[0m\u001b[90m╺\u001b[0m\u001b[90m━━━━━━━━━\u001b[0m \u001b[35m10.7%\u001b[0m • \u001b[32m5.5/51.7  \u001b[0m • \u001b[31m2.4 MB/s\u001b[0m • \u001b[36m0:00:19\u001b[0m\n",
      "\u001b[2K\u001b[1A\u001b[2K\u001b[1;34msubmission_task1_ALS.parquet\u001b[0m \u001b[91m━\u001b[0m\u001b[90m╺\u001b[0m\u001b[90m━━━━━━━━━\u001b[0m \u001b[35m10.7%\u001b[0m • \u001b[32m5.5/51.7  \u001b[0m • \u001b[31m2.4 MB/s\u001b[0m • \u001b[36m0:00:19\u001b[0m\n",
      "\u001b[2K\u001b[1A\u001b[2K\u001b[1;34msubmission_task1_ALS.parquet\u001b[0m \u001b[91m━\u001b[0m\u001b[90m╺\u001b[0m\u001b[90m━━━━━━━━━\u001b[0m \u001b[35m10.7%\u001b[0m • \u001b[32m5.5/51.7  \u001b[0m • \u001b[31m2.4 MB/s\u001b[0m • \u001b[36m0:00:19\u001b[0m\n",
      "\u001b[2K\u001b[1A\u001b[2K\u001b[1;34msubmission_task1_ALS.parquet\u001b[0m \u001b[91m━\u001b[0m\u001b[90m╺\u001b[0m\u001b[90m━━━━━━━━━\u001b[0m \u001b[35m10.7%\u001b[0m • \u001b[32m5.5/51.7  \u001b[0m • \u001b[31m2.4 MB/s\u001b[0m • \u001b[36m0:00:19\u001b[0m\n",
      "\u001b[2K\u001b[1A\u001b[2K\u001b[1;34msubmission_task1_ALS.parquet\u001b[0m \u001b[91m━\u001b[0m\u001b[90m╺\u001b[0m\u001b[90m━━━━━━━━━\u001b[0m \u001b[35m10.7%\u001b[0m • \u001b[32m5.6/51.7  \u001b[0m • \u001b[31m2.4 MB/s\u001b[0m • \u001b[36m0:00:19\u001b[0m\n",
      "\u001b[2K\u001b[1A\u001b[2K\u001b[1;34msubmission_task1_ALS.parquet\u001b[0m \u001b[91m━\u001b[0m\u001b[90m╺\u001b[0m\u001b[90m━━━━━━━━━\u001b[0m \u001b[35m10.8%\u001b[0m • \u001b[32m5.6/51.7  \u001b[0m • \u001b[31m2.4 MB/s\u001b[0m • \u001b[36m0:00:19\u001b[0m\n",
      "\u001b[2K\u001b[1A\u001b[2K\u001b[1;34msubmission_task1_ALS.parquet\u001b[0m \u001b[91m━\u001b[0m\u001b[90m╺\u001b[0m\u001b[90m━━━━━━━━━\u001b[0m \u001b[35m10.8%\u001b[0m • \u001b[32m5.6/51.7  \u001b[0m • \u001b[31m2.5 MB/s\u001b[0m • \u001b[36m0:00:19\u001b[0m\n",
      "\u001b[2K\u001b[1A\u001b[2K\u001b[1;34msubmission_task1_ALS.parquet\u001b[0m \u001b[91m━\u001b[0m\u001b[90m╺\u001b[0m\u001b[90m━━━━━━━━━\u001b[0m \u001b[35m10.8%\u001b[0m • \u001b[32m5.6/51.7  \u001b[0m • \u001b[31m2.5 MB/s\u001b[0m • \u001b[36m0:00:19\u001b[0m\n",
      "\u001b[2K\u001b[1A\u001b[2K\u001b[1;34msubmission_task1_ALS.parquet\u001b[0m \u001b[91m━\u001b[0m\u001b[90m╺\u001b[0m\u001b[90m━━━━━━━━━\u001b[0m \u001b[35m10.8%\u001b[0m • \u001b[32m5.6/51.7  \u001b[0m • \u001b[31m2.5 MB/s\u001b[0m • \u001b[36m0:00:19\u001b[0m\n",
      "\u001b[2K\u001b[1A\u001b[2K\u001b[1;34msubmission_task1_ALS.parquet\u001b[0m \u001b[91m━\u001b[0m\u001b[90m╺\u001b[0m\u001b[90m━━━━━━━━━\u001b[0m \u001b[35m10.8%\u001b[0m • \u001b[32m5.6/51.7  \u001b[0m • \u001b[31m2.5 MB/s\u001b[0m • \u001b[36m0:00:19\u001b[0m\n",
      "\u001b[2K\u001b[1A\u001b[2K\u001b[1;34msubmission_task1_ALS.parquet\u001b[0m \u001b[91m━\u001b[0m\u001b[90m╺\u001b[0m\u001b[90m━━━━━━━━━\u001b[0m \u001b[35m10.8%\u001b[0m • \u001b[32m5.6/51.7  \u001b[0m • \u001b[31m2.5 MB/s\u001b[0m • \u001b[36m0:00:19\u001b[0m\n",
      "\u001b[2K\u001b[1A\u001b[2K\u001b[1;34msubmission_task1_ALS.parquet\u001b[0m \u001b[91m━\u001b[0m\u001b[90m╺\u001b[0m\u001b[90m━━━━━━━━━\u001b[0m \u001b[35m10.8%\u001b[0m • \u001b[32m5.6/51.7  \u001b[0m • \u001b[31m2.5 MB/s\u001b[0m • \u001b[36m0:00:19\u001b[0m\n",
      "\u001b[2K\u001b[1A\u001b[2K\u001b[1;34msubmission_task1_ALS.parquet\u001b[0m \u001b[91m━\u001b[0m\u001b[90m╺\u001b[0m\u001b[90m━━━━━━━━━\u001b[0m \u001b[35m10.9%\u001b[0m • \u001b[32m5.6/51.7  \u001b[0m • \u001b[31m2.5 MB/s\u001b[0m • \u001b[36m0:00:19\u001b[0m\n",
      "\u001b[2K\u001b[1A\u001b[2K\u001b[1;34msubmission_task1_ALS.parquet\u001b[0m \u001b[91m━\u001b[0m\u001b[90m╺\u001b[0m\u001b[90m━━━━━━━━━\u001b[0m \u001b[35m10.9%\u001b[0m • \u001b[32m5.6/51.7  \u001b[0m • \u001b[31m2.5 MB/s\u001b[0m • \u001b[36m0:00:19\u001b[0m\n",
      "\u001b[2K\u001b[1A\u001b[2K\u001b[1;34msubmission_task1_ALS.parquet\u001b[0m \u001b[91m━\u001b[0m\u001b[90m╺\u001b[0m\u001b[90m━━━━━━━━━\u001b[0m \u001b[35m10.9%\u001b[0m • \u001b[32m5.6/51.7  \u001b[0m • \u001b[31m2.5 MB/s\u001b[0m • \u001b[36m0:00:19\u001b[0m\n",
      "\u001b[2K\u001b[1A\u001b[2K\u001b[1;34msubmission_task1_ALS.parquet\u001b[0m \u001b[91m━\u001b[0m\u001b[90m╺\u001b[0m\u001b[90m━━━━━━━━━\u001b[0m \u001b[35m10.9%\u001b[0m • \u001b[32m5.6/51.7  \u001b[0m • \u001b[31m2.5 MB/s\u001b[0m • \u001b[36m0:00:19\u001b[0m\n",
      "\u001b[2K\u001b[1A\u001b[2K\u001b[1;34msubmission_task1_ALS.parquet\u001b[0m \u001b[91m━\u001b[0m\u001b[90m╺\u001b[0m\u001b[90m━━━━━━━━━\u001b[0m \u001b[35m10.9%\u001b[0m • \u001b[32m5.7/51.7  \u001b[0m • \u001b[31m2.5 MB/s\u001b[0m • \u001b[36m0:00:19\u001b[0m\n",
      "\u001b[2K\u001b[1A\u001b[2K\u001b[1;34msubmission_task1_ALS.parquet\u001b[0m \u001b[91m━\u001b[0m\u001b[90m╺\u001b[0m\u001b[90m━━━━━━━━━\u001b[0m \u001b[35m10.9%\u001b[0m • \u001b[32m5.7/51.7  \u001b[0m • \u001b[31m2.5 MB/s\u001b[0m • \u001b[36m0:00:19\u001b[0m\n",
      "\u001b[2K\u001b[1A\u001b[2K\u001b[1;34msubmission_task1_ALS.parquet\u001b[0m \u001b[91m━\u001b[0m\u001b[90m╺\u001b[0m\u001b[90m━━━━━━━━━\u001b[0m \u001b[35m11.0%\u001b[0m • \u001b[32m5.7/51.7  \u001b[0m • \u001b[31m2.5 MB/s\u001b[0m • \u001b[36m0:00:19\u001b[0m\n",
      "\u001b[2K\u001b[1A\u001b[2K\u001b[1;34msubmission_task1_ALS.parquet\u001b[0m \u001b[91m━\u001b[0m\u001b[90m╺\u001b[0m\u001b[90m━━━━━━━━━\u001b[0m \u001b[35m11.0%\u001b[0m • \u001b[32m5.7/51.7  \u001b[0m • \u001b[31m2.5 MB/s\u001b[0m • \u001b[36m0:00:19\u001b[0m\n",
      "\u001b[2K\u001b[1A\u001b[2K\u001b[1;34msubmission_task1_ALS.parquet\u001b[0m \u001b[91m━\u001b[0m\u001b[90m╺\u001b[0m\u001b[90m━━━━━━━━━\u001b[0m \u001b[35m11.0%\u001b[0m • \u001b[32m5.7/51.7  \u001b[0m • \u001b[31m2.5 MB/s\u001b[0m • \u001b[36m0:00:19\u001b[0m\n",
      "\u001b[2K\u001b[1A\u001b[2K\u001b[1;34msubmission_task1_ALS.parquet\u001b[0m \u001b[91m━\u001b[0m\u001b[90m╺\u001b[0m\u001b[90m━━━━━━━━━\u001b[0m \u001b[35m11.0%\u001b[0m • \u001b[32m5.7/51.7  \u001b[0m • \u001b[31m2.5 MB/s\u001b[0m • \u001b[36m0:00:19\u001b[0m\n",
      "\u001b[2K\u001b[1A\u001b[2K\u001b[1;34msubmission_task1_ALS.parquet\u001b[0m \u001b[91m━\u001b[0m\u001b[90m╺\u001b[0m\u001b[90m━━━━━━━━━\u001b[0m \u001b[35m11.0%\u001b[0m • \u001b[32m5.7/51.7  \u001b[0m • \u001b[31m2.5 MB/s\u001b[0m • \u001b[36m0:00:19\u001b[0m\n",
      "\u001b[2K\u001b[1A\u001b[2K\u001b[1;34msubmission_task1_ALS.parquet\u001b[0m \u001b[91m━\u001b[0m\u001b[90m╺\u001b[0m\u001b[90m━━━━━━━━━\u001b[0m \u001b[35m11.0%\u001b[0m • \u001b[32m5.7/51.7  \u001b[0m • \u001b[31m2.5 MB/s\u001b[0m • \u001b[36m0:00:19\u001b[0m\n",
      "\u001b[2K\u001b[1A\u001b[2K\u001b[1;34msubmission_task1_ALS.parquet\u001b[0m \u001b[91m━\u001b[0m\u001b[90m╺\u001b[0m\u001b[90m━━━━━━━━━\u001b[0m \u001b[35m11.0%\u001b[0m • \u001b[32m5.7/51.7  \u001b[0m • \u001b[31m2.5 MB/s\u001b[0m • \u001b[36m0:00:19\u001b[0m\n",
      "\u001b[2K\u001b[1A\u001b[2K\u001b[1;34msubmission_task1_ALS.parquet\u001b[0m \u001b[91m━\u001b[0m\u001b[90m╺\u001b[0m\u001b[90m━━━━━━━━━\u001b[0m \u001b[35m11.1%\u001b[0m • \u001b[32m5.7/51.7  \u001b[0m • \u001b[31m2.5 MB/s\u001b[0m • \u001b[36m0:00:19\u001b[0m\n",
      "\u001b[2K\u001b[1A\u001b[2K\u001b[1;34msubmission_task1_ALS.parquet\u001b[0m \u001b[91m━\u001b[0m\u001b[90m╺\u001b[0m\u001b[90m━━━━━━━━━\u001b[0m \u001b[35m11.1%\u001b[0m • \u001b[32m5.7/51.7  \u001b[0m • \u001b[31m2.5 MB/s\u001b[0m • \u001b[36m0:00:19\u001b[0m\n",
      "\u001b[2K\u001b[1A\u001b[2K\u001b[1;34msubmission_task1_ALS.parquet\u001b[0m \u001b[91m━\u001b[0m\u001b[90m╺\u001b[0m\u001b[90m━━━━━━━━━\u001b[0m \u001b[35m11.1%\u001b[0m • \u001b[32m5.7/51.7  \u001b[0m • \u001b[31m2.5 MB/s\u001b[0m • \u001b[36m0:00:19\u001b[0m\n",
      "\u001b[2K\u001b[1A\u001b[2K\u001b[1;34msubmission_task1_ALS.parquet\u001b[0m \u001b[91m━\u001b[0m\u001b[90m╺\u001b[0m\u001b[90m━━━━━━━━━\u001b[0m \u001b[35m11.1%\u001b[0m • \u001b[32m5.7/51.7  \u001b[0m • \u001b[31m2.5 MB/s\u001b[0m • \u001b[36m0:00:19\u001b[0m\n",
      "\u001b[2K\u001b[1A\u001b[2K\u001b[1;34msubmission_task1_ALS.parquet\u001b[0m \u001b[91m━\u001b[0m\u001b[90m╺\u001b[0m\u001b[90m━━━━━━━━━\u001b[0m \u001b[35m11.1%\u001b[0m • \u001b[32m5.8/51.7  \u001b[0m • \u001b[31m2.5 MB/s\u001b[0m • \u001b[36m0:00:19\u001b[0m\n",
      "\u001b[2K\u001b[1A\u001b[2K\u001b[1;34msubmission_task1_ALS.parquet\u001b[0m \u001b[91m━\u001b[0m\u001b[90m╺\u001b[0m\u001b[90m━━━━━━━━━\u001b[0m \u001b[35m11.1%\u001b[0m • \u001b[32m5.8/51.7  \u001b[0m • \u001b[31m2.5 MB/s\u001b[0m • \u001b[36m0:00:19\u001b[0m\n",
      "\u001b[2K\u001b[1A\u001b[2K\u001b[1;34msubmission_task1_ALS.parquet\u001b[0m \u001b[91m━\u001b[0m\u001b[90m╺\u001b[0m\u001b[90m━━━━━━━━━\u001b[0m \u001b[35m11.1%\u001b[0m • \u001b[32m5.8/51.7  \u001b[0m • \u001b[31m2.5 MB/s\u001b[0m • \u001b[36m0:00:19\u001b[0m\n",
      "\u001b[2K\u001b[1A\u001b[2K\u001b[1;34msubmission_task1_ALS.parquet\u001b[0m \u001b[91m━\u001b[0m\u001b[90m╺\u001b[0m\u001b[90m━━━━━━━━━\u001b[0m \u001b[35m11.2%\u001b[0m • \u001b[32m5.8/51.7  \u001b[0m • \u001b[31m2.5 MB/s\u001b[0m • \u001b[36m0:00:19\u001b[0m\n",
      "\u001b[2K\u001b[1A\u001b[2K\u001b[1;34msubmission_task1_ALS.parquet\u001b[0m \u001b[91m━\u001b[0m\u001b[90m╺\u001b[0m\u001b[90m━━━━━━━━━\u001b[0m \u001b[35m11.2%\u001b[0m • \u001b[32m5.8/51.7  \u001b[0m • \u001b[31m2.5 MB/s\u001b[0m • \u001b[36m0:00:19\u001b[0m\n",
      "\u001b[2K\u001b[1A\u001b[2K\u001b[1;34msubmission_task1_ALS.parquet\u001b[0m \u001b[91m━\u001b[0m\u001b[90m╺\u001b[0m\u001b[90m━━━━━━━━━\u001b[0m \u001b[35m11.2%\u001b[0m • \u001b[32m5.8/51.7  \u001b[0m • \u001b[31m2.5 MB/s\u001b[0m • \u001b[36m0:00:19\u001b[0m\n",
      "\u001b[2K\u001b[1A\u001b[2K\u001b[1;34msubmission_task1_ALS.parquet\u001b[0m \u001b[91m━\u001b[0m\u001b[90m╺\u001b[0m\u001b[90m━━━━━━━━━\u001b[0m \u001b[35m11.2%\u001b[0m • \u001b[32m5.8/51.7  \u001b[0m • \u001b[31m2.5 MB/s\u001b[0m • \u001b[36m0:00:19\u001b[0m\n",
      "\u001b[2K\u001b[1A\u001b[2K\u001b[1;34msubmission_task1_ALS.parquet\u001b[0m \u001b[91m━\u001b[0m\u001b[90m╺\u001b[0m\u001b[90m━━━━━━━━━\u001b[0m \u001b[35m11.2%\u001b[0m • \u001b[32m5.8/51.7  \u001b[0m • \u001b[31m2.5 MB/s\u001b[0m • \u001b[36m0:00:19\u001b[0m\n",
      "\u001b[2K\u001b[1A\u001b[2K\u001b[1;34msubmission_task1_ALS.parquet\u001b[0m \u001b[91m━\u001b[0m\u001b[90m╺\u001b[0m\u001b[90m━━━━━━━━━\u001b[0m \u001b[35m11.2%\u001b[0m • \u001b[32m5.8/51.7  \u001b[0m • \u001b[31m2.5 MB/s\u001b[0m • \u001b[36m0:00:19\u001b[0m\n",
      "\u001b[2K\u001b[1A\u001b[2K\u001b[1;34msubmission_task1_ALS.parquet\u001b[0m \u001b[91m━\u001b[0m\u001b[90m╺\u001b[0m\u001b[90m━━━━━━━━━\u001b[0m \u001b[35m11.3%\u001b[0m • \u001b[32m5.8/51.7  \u001b[0m • \u001b[31m2.5 MB/s\u001b[0m • \u001b[36m0:00:19\u001b[0m\n",
      "\u001b[2K\u001b[1A\u001b[2K\u001b[1;34msubmission_task1_ALS.parquet\u001b[0m \u001b[91m━\u001b[0m\u001b[90m╺\u001b[0m\u001b[90m━━━━━━━━━\u001b[0m \u001b[35m11.3%\u001b[0m • \u001b[32m5.8/51.7  \u001b[0m • \u001b[31m2.5 MB/s\u001b[0m • \u001b[36m0:00:19\u001b[0m\n",
      "\u001b[2K\u001b[1A\u001b[2K\u001b[1;34msubmission_task1_ALS.parquet\u001b[0m \u001b[91m━\u001b[0m\u001b[90m╺\u001b[0m\u001b[90m━━━━━━━━━\u001b[0m \u001b[35m11.3%\u001b[0m • \u001b[32m5.8/51.7  \u001b[0m • \u001b[31m2.5 MB/s\u001b[0m • \u001b[36m0:00:19\u001b[0m\n",
      "\u001b[2K\u001b[1A\u001b[2K\u001b[1;34msubmission_task1_ALS.parquet\u001b[0m \u001b[91m━\u001b[0m\u001b[90m╺\u001b[0m\u001b[90m━━━━━━━━━\u001b[0m \u001b[35m11.3%\u001b[0m • \u001b[32m5.8/51.7  \u001b[0m • \u001b[31m2.5 MB/s\u001b[0m • \u001b[36m0:00:19\u001b[0m\n",
      "\u001b[2K\u001b[1A\u001b[2K\u001b[1;34msubmission_task1_ALS.parquet\u001b[0m \u001b[91m━\u001b[0m\u001b[90m╺\u001b[0m\u001b[90m━━━━━━━━━\u001b[0m \u001b[35m11.3%\u001b[0m • \u001b[32m5.9/51.7  \u001b[0m • \u001b[31m2.5 MB/s\u001b[0m • \u001b[36m0:00:19\u001b[0m\n",
      "\u001b[2K\u001b[1A\u001b[2K\u001b[1;34msubmission_task1_ALS.parquet\u001b[0m \u001b[91m━\u001b[0m\u001b[90m╺\u001b[0m\u001b[90m━━━━━━━━━\u001b[0m \u001b[35m11.3%\u001b[0m • \u001b[32m5.9/51.7  \u001b[0m • \u001b[31m2.5 MB/s\u001b[0m • \u001b[36m0:00:19\u001b[0m\n",
      "\u001b[2K\u001b[1A\u001b[2K\u001b[1;34msubmission_task1_ALS.parquet\u001b[0m \u001b[91m━\u001b[0m\u001b[90m╺\u001b[0m\u001b[90m━━━━━━━━━\u001b[0m \u001b[35m11.4%\u001b[0m • \u001b[32m5.9/51.7  \u001b[0m • \u001b[31m2.5 MB/s\u001b[0m • \u001b[36m0:00:19\u001b[0m\n",
      "\u001b[2K\u001b[1A\u001b[2K\u001b[1;34msubmission_task1_ALS.parquet\u001b[0m \u001b[91m━\u001b[0m\u001b[90m╺\u001b[0m\u001b[90m━━━━━━━━━\u001b[0m \u001b[35m11.4%\u001b[0m • \u001b[32m5.9/51.7  \u001b[0m • \u001b[31m2.5 MB/s\u001b[0m • \u001b[36m0:00:19\u001b[0m\n",
      "\u001b[2K\u001b[1A\u001b[2K\u001b[1;34msubmission_task1_ALS.parquet\u001b[0m \u001b[91m━\u001b[0m\u001b[90m╺\u001b[0m\u001b[90m━━━━━━━━━\u001b[0m \u001b[35m11.4%\u001b[0m • \u001b[32m5.9/51.7  \u001b[0m • \u001b[31m2.5 MB/s\u001b[0m • \u001b[36m0:00:19\u001b[0m\n",
      "\u001b[2K\u001b[1A\u001b[2K\u001b[1;34msubmission_task1_ALS.parquet\u001b[0m \u001b[91m━\u001b[0m\u001b[90m╺\u001b[0m\u001b[90m━━━━━━━━━\u001b[0m \u001b[35m11.4%\u001b[0m • \u001b[32m5.9/51.7  \u001b[0m • \u001b[31m2.5 MB/s\u001b[0m • \u001b[36m0:00:19\u001b[0m\n",
      "\u001b[2K\u001b[1A\u001b[2K\u001b[1;34msubmission_task1_ALS.parquet\u001b[0m \u001b[91m━\u001b[0m\u001b[90m╺\u001b[0m\u001b[90m━━━━━━━━━\u001b[0m \u001b[35m11.4%\u001b[0m • \u001b[32m5.9/51.7  \u001b[0m • \u001b[31m2.5 MB/s\u001b[0m • \u001b[36m0:00:19\u001b[0m\n",
      "\u001b[2K\u001b[1A\u001b[2K\u001b[1;34msubmission_task1_ALS.parquet\u001b[0m \u001b[91m━\u001b[0m\u001b[90m╺\u001b[0m\u001b[90m━━━━━━━━━\u001b[0m \u001b[35m11.4%\u001b[0m • \u001b[32m5.9/51.7  \u001b[0m • \u001b[31m2.5 MB/s\u001b[0m • \u001b[36m0:00:19\u001b[0m\n",
      "\u001b[2K\u001b[1A\u001b[2K\u001b[1;34msubmission_task1_ALS.parquet\u001b[0m \u001b[91m━\u001b[0m\u001b[90m╺\u001b[0m\u001b[90m━━━━━━━━━\u001b[0m \u001b[35m11.5%\u001b[0m • \u001b[32m5.9/51.7  \u001b[0m • \u001b[31m2.5 MB/s\u001b[0m • \u001b[36m0:00:19\u001b[0m\n",
      "\u001b[2K\u001b[1A\u001b[2K\u001b[1;34msubmission_task1_ALS.parquet\u001b[0m \u001b[91m━\u001b[0m\u001b[90m╺\u001b[0m\u001b[90m━━━━━━━━━\u001b[0m \u001b[35m11.5%\u001b[0m • \u001b[32m5.9/51.7  \u001b[0m • \u001b[31m2.5 MB/s\u001b[0m • \u001b[36m0:00:19\u001b[0m\n",
      "\u001b[2K\u001b[1A\u001b[2K\u001b[1;34msubmission_task1_ALS.parquet\u001b[0m \u001b[91m━\u001b[0m\u001b[90m╺\u001b[0m\u001b[90m━━━━━━━━━\u001b[0m \u001b[35m11.5%\u001b[0m • \u001b[32m5.9/51.7  \u001b[0m • \u001b[31m2.5 MB/s\u001b[0m • \u001b[36m0:00:19\u001b[0m\n",
      "\u001b[2K\u001b[1A\u001b[2K\u001b[1;34msubmission_task1_ALS.parquet\u001b[0m \u001b[91m━\u001b[0m\u001b[90m╺\u001b[0m\u001b[90m━━━━━━━━━\u001b[0m \u001b[35m11.5%\u001b[0m • \u001b[32m5.9/51.7  \u001b[0m • \u001b[31m2.5 MB/s\u001b[0m • \u001b[36m0:00:19\u001b[0m\n",
      "\u001b[2K\u001b[1A\u001b[2K\u001b[1;34msubmission_task1_ALS.parquet\u001b[0m \u001b[91m━\u001b[0m\u001b[90m╺\u001b[0m\u001b[90m━━━━━━━━━\u001b[0m \u001b[35m11.5%\u001b[0m • \u001b[32m6.0/51.7  \u001b[0m • \u001b[31m2.5 MB/s\u001b[0m • \u001b[36m0:00:19\u001b[0m\n",
      "\u001b[2K\u001b[1A\u001b[2K\u001b[1;34msubmission_task1_ALS.parquet\u001b[0m \u001b[91m━\u001b[0m\u001b[90m╺\u001b[0m\u001b[90m━━━━━━━━━\u001b[0m \u001b[35m11.5%\u001b[0m • \u001b[32m6.0/51.7  \u001b[0m • \u001b[31m2.5 MB/s\u001b[0m • \u001b[36m0:00:19\u001b[0m\n",
      "\u001b[2K\u001b[1A\u001b[2K\u001b[1;34msubmission_task1_ALS.parquet\u001b[0m \u001b[91m━\u001b[0m\u001b[90m╺\u001b[0m\u001b[90m━━━━━━━━━\u001b[0m \u001b[35m11.5%\u001b[0m • \u001b[32m6.0/51.7  \u001b[0m • \u001b[31m2.5 MB/s\u001b[0m • \u001b[36m0:00:19\u001b[0m\n",
      "\u001b[2K\u001b[1A\u001b[2K\u001b[1;34msubmission_task1_ALS.parquet\u001b[0m \u001b[91m━\u001b[0m\u001b[90m╺\u001b[0m\u001b[90m━━━━━━━━━\u001b[0m \u001b[35m11.6%\u001b[0m • \u001b[32m6.0/51.7  \u001b[0m • \u001b[31m2.5 MB/s\u001b[0m • \u001b[36m0:00:19\u001b[0m\n",
      "\u001b[2K\u001b[1A\u001b[2K\u001b[1;34msubmission_task1_ALS.parquet\u001b[0m \u001b[91m━\u001b[0m\u001b[90m╺\u001b[0m\u001b[90m━━━━━━━━━\u001b[0m \u001b[35m11.6%\u001b[0m • \u001b[32m6.0/51.7  \u001b[0m • \u001b[31m2.5 MB/s\u001b[0m • \u001b[36m0:00:19\u001b[0m\n",
      "\u001b[2K\u001b[1A\u001b[2K\u001b[1;34msubmission_task1_ALS.parquet\u001b[0m \u001b[91m━\u001b[0m\u001b[90m╺\u001b[0m\u001b[90m━━━━━━━━━\u001b[0m \u001b[35m11.6%\u001b[0m • \u001b[32m6.0/51.7  \u001b[0m • \u001b[31m2.5 MB/s\u001b[0m • \u001b[36m0:00:19\u001b[0m\n",
      "\u001b[2K\u001b[1A\u001b[2K\u001b[1;34msubmission_task1_ALS.parquet\u001b[0m \u001b[91m━\u001b[0m\u001b[90m╺\u001b[0m\u001b[90m━━━━━━━━━\u001b[0m \u001b[35m11.6%\u001b[0m • \u001b[32m6.0/51.7  \u001b[0m • \u001b[31m2.5 MB/s\u001b[0m • \u001b[36m0:00:19\u001b[0m\n",
      "\u001b[2K\u001b[1A\u001b[2K\u001b[1;34msubmission_task1_ALS.parquet\u001b[0m \u001b[91m━\u001b[0m\u001b[90m╺\u001b[0m\u001b[90m━━━━━━━━━\u001b[0m \u001b[35m11.6%\u001b[0m • \u001b[32m6.0/51.7  \u001b[0m • \u001b[31m2.5 MB/s\u001b[0m • \u001b[36m0:00:19\u001b[0m\n",
      "\u001b[2K\u001b[1A\u001b[2K\u001b[1;34msubmission_task1_ALS.parquet\u001b[0m \u001b[91m━\u001b[0m\u001b[90m╺\u001b[0m\u001b[90m━━━━━━━━━\u001b[0m \u001b[35m11.6%\u001b[0m • \u001b[32m6.0/51.7  \u001b[0m • \u001b[31m2.5 MB/s\u001b[0m • \u001b[36m0:00:19\u001b[0m\n",
      "\u001b[2K\u001b[1A\u001b[2K\u001b[1;34msubmission_task1_ALS.parquet\u001b[0m \u001b[91m━\u001b[0m\u001b[90m╺\u001b[0m\u001b[90m━━━━━━━━━\u001b[0m \u001b[35m11.7%\u001b[0m • \u001b[32m6.0/51.7  \u001b[0m • \u001b[31m2.5 MB/s\u001b[0m • \u001b[36m0:00:19\u001b[0m\n",
      "\u001b[2K\u001b[1A\u001b[2K\u001b[1;34msubmission_task1_ALS.parquet\u001b[0m \u001b[91m━\u001b[0m\u001b[90m╺\u001b[0m\u001b[90m━━━━━━━━━\u001b[0m \u001b[35m11.7%\u001b[0m • \u001b[32m6.0/51.7  \u001b[0m • \u001b[31m2.5 MB/s\u001b[0m • \u001b[36m0:00:19\u001b[0m\n",
      "\u001b[2K\u001b[1A\u001b[2K\u001b[1;34msubmission_task1_ALS.parquet\u001b[0m \u001b[91m━\u001b[0m\u001b[90m╺\u001b[0m\u001b[90m━━━━━━━━━\u001b[0m \u001b[35m11.7%\u001b[0m • \u001b[32m6.0/51.7  \u001b[0m • \u001b[31m2.5 MB/s\u001b[0m • \u001b[36m0:00:19\u001b[0m\n",
      "\u001b[2K\u001b[1A\u001b[2K\u001b[1;34msubmission_task1_ALS.parquet\u001b[0m \u001b[91m━\u001b[0m\u001b[90m╺\u001b[0m\u001b[90m━━━━━━━━━\u001b[0m \u001b[35m11.7%\u001b[0m • \u001b[32m6.0/51.7  \u001b[0m • \u001b[31m2.5 MB/s\u001b[0m • \u001b[36m0:00:19\u001b[0m\n",
      "\u001b[2K\u001b[1A\u001b[2K\u001b[1;34msubmission_task1_ALS.parquet\u001b[0m \u001b[91m━\u001b[0m\u001b[90m╺\u001b[0m\u001b[90m━━━━━━━━━\u001b[0m \u001b[35m11.7%\u001b[0m • \u001b[32m6.1/51.7  \u001b[0m • \u001b[31m2.5 MB/s\u001b[0m • \u001b[36m0:00:19\u001b[0m\n",
      "\u001b[2K\u001b[1A\u001b[2K\u001b[1;34msubmission_task1_ALS.parquet\u001b[0m \u001b[91m━\u001b[0m\u001b[90m╺\u001b[0m\u001b[90m━━━━━━━━━\u001b[0m \u001b[35m11.7%\u001b[0m • \u001b[32m6.1/51.7  \u001b[0m • \u001b[31m2.5 MB/s\u001b[0m • \u001b[36m0:00:19\u001b[0m\n",
      "\u001b[2K\u001b[1A\u001b[2K\u001b[1;34msubmission_task1_ALS.parquet\u001b[0m \u001b[91m━\u001b[0m\u001b[90m╺\u001b[0m\u001b[90m━━━━━━━━━\u001b[0m \u001b[35m11.7%\u001b[0m • \u001b[32m6.1/51.7  \u001b[0m • \u001b[31m2.5 MB/s\u001b[0m • \u001b[36m0:00:19\u001b[0m\n",
      "\u001b[2K\u001b[1A\u001b[2K\u001b[1;34msubmission_task1_ALS.parquet\u001b[0m \u001b[91m━\u001b[0m\u001b[90m╺\u001b[0m\u001b[90m━━━━━━━━━\u001b[0m \u001b[35m11.8%\u001b[0m • \u001b[32m6.1/51.7  \u001b[0m • \u001b[31m2.5 MB/s\u001b[0m • \u001b[36m0:00:19\u001b[0m\n",
      "\u001b[2K\u001b[1A\u001b[2K\u001b[1;34msubmission_task1_ALS.parquet\u001b[0m \u001b[91m━\u001b[0m\u001b[90m╺\u001b[0m\u001b[90m━━━━━━━━━\u001b[0m \u001b[35m11.8%\u001b[0m • \u001b[32m6.1/51.7  \u001b[0m • \u001b[31m2.5 MB/s\u001b[0m • \u001b[36m0:00:19\u001b[0m\n",
      "\u001b[2K\u001b[1A\u001b[2K\u001b[1;34msubmission_task1_ALS.parquet\u001b[0m \u001b[91m━\u001b[0m\u001b[90m╺\u001b[0m\u001b[90m━━━━━━━━━\u001b[0m \u001b[35m11.8%\u001b[0m • \u001b[32m6.1/51.7  \u001b[0m • \u001b[31m2.5 MB/s\u001b[0m • \u001b[36m0:00:19\u001b[0m\n",
      "\u001b[2K\u001b[1A\u001b[2K\u001b[1;34msubmission_task1_ALS.parquet\u001b[0m \u001b[91m━\u001b[0m\u001b[90m╺\u001b[0m\u001b[90m━━━━━━━━━\u001b[0m \u001b[35m11.8%\u001b[0m • \u001b[32m6.1/51.7  \u001b[0m • \u001b[31m2.5 MB/s\u001b[0m • \u001b[36m0:00:19\u001b[0m\n",
      "\u001b[2K\u001b[1A\u001b[2K\u001b[1;34msubmission_task1_ALS.parquet\u001b[0m \u001b[91m━\u001b[0m\u001b[90m╺\u001b[0m\u001b[90m━━━━━━━━━\u001b[0m \u001b[35m11.8%\u001b[0m • \u001b[32m6.1/51.7  \u001b[0m • \u001b[31m2.5 MB/s\u001b[0m • \u001b[36m0:00:19\u001b[0m\n",
      "\u001b[2K\u001b[1A\u001b[2K\u001b[1;34msubmission_task1_ALS.parquet\u001b[0m \u001b[91m━\u001b[0m\u001b[90m╺\u001b[0m\u001b[90m━━━━━━━━━\u001b[0m \u001b[35m11.8%\u001b[0m • \u001b[32m6.1/51.7  \u001b[0m • \u001b[31m2.5 MB/s\u001b[0m • \u001b[36m0:00:19\u001b[0m\n",
      "\u001b[2K\u001b[1A\u001b[2K\u001b[1;34msubmission_task1_ALS.parquet\u001b[0m \u001b[91m━\u001b[0m\u001b[90m╺\u001b[0m\u001b[90m━━━━━━━━━\u001b[0m \u001b[35m11.8%\u001b[0m • \u001b[32m6.1/51.7  \u001b[0m • \u001b[31m2.5 MB/s\u001b[0m • \u001b[36m0:00:19\u001b[0m\n",
      "\u001b[2K\u001b[1A\u001b[2K\u001b[1;34msubmission_task1_ALS.parquet\u001b[0m \u001b[91m━\u001b[0m\u001b[90m╺\u001b[0m\u001b[90m━━━━━━━━━\u001b[0m \u001b[35m11.9%\u001b[0m • \u001b[32m6.1/51.7  \u001b[0m • \u001b[31m2.5 MB/s\u001b[0m • \u001b[36m0:00:19\u001b[0m\n",
      "\u001b[2K\u001b[1A\u001b[2K\u001b[1;34msubmission_task1_ALS.parquet\u001b[0m \u001b[91m━\u001b[0m\u001b[90m╺\u001b[0m\u001b[90m━━━━━━━━━\u001b[0m \u001b[35m11.9%\u001b[0m • \u001b[32m6.1/51.7  \u001b[0m • \u001b[31m2.5 MB/s\u001b[0m • \u001b[36m0:00:19\u001b[0m\n",
      "\u001b[2K\u001b[1A\u001b[2K\u001b[1;34msubmission_task1_ALS.parquet\u001b[0m \u001b[91m━\u001b[0m\u001b[90m╺\u001b[0m\u001b[90m━━━━━━━━━\u001b[0m \u001b[35m11.9%\u001b[0m • \u001b[32m6.2/51.7  \u001b[0m • \u001b[31m2.5 MB/s\u001b[0m • \u001b[36m0:00:19\u001b[0m\n",
      "\u001b[2K\u001b[1A\u001b[2K\u001b[1;34msubmission_task1_ALS.parquet\u001b[0m \u001b[91m━\u001b[0m\u001b[90m╺\u001b[0m\u001b[90m━━━━━━━━━\u001b[0m \u001b[35m11.9%\u001b[0m • \u001b[32m6.2/51.7  \u001b[0m • \u001b[31m2.5 MB/s\u001b[0m • \u001b[36m0:00:19\u001b[0m\n",
      "\u001b[2K\u001b[1A\u001b[2K\u001b[1;34msubmission_task1_ALS.parquet\u001b[0m \u001b[91m━\u001b[0m\u001b[90m╺\u001b[0m\u001b[90m━━━━━━━━━\u001b[0m \u001b[35m11.9%\u001b[0m • \u001b[32m6.2/51.7  \u001b[0m • \u001b[31m2.5 MB/s\u001b[0m • \u001b[36m0:00:19\u001b[0m\n",
      "\u001b[2K\u001b[1A\u001b[2K\u001b[1;34msubmission_task1_ALS.parquet\u001b[0m \u001b[91m━\u001b[0m\u001b[90m╺\u001b[0m\u001b[90m━━━━━━━━━\u001b[0m \u001b[35m11.9%\u001b[0m • \u001b[32m6.2/51.7  \u001b[0m • \u001b[31m2.5 MB/s\u001b[0m • \u001b[36m0:00:19\u001b[0m\n",
      "\u001b[2K\u001b[1A\u001b[2K\u001b[1;34msubmission_task1_ALS.parquet\u001b[0m \u001b[91m━\u001b[0m\u001b[90m╺\u001b[0m\u001b[90m━━━━━━━━━\u001b[0m \u001b[35m12.0%\u001b[0m • \u001b[32m6.2/51.7  \u001b[0m • \u001b[31m2.5 MB/s\u001b[0m • \u001b[36m0:00:19\u001b[0m\n",
      "\u001b[2K\u001b[1A\u001b[2K\u001b[1;34msubmission_task1_ALS.parquet\u001b[0m \u001b[91m━\u001b[0m\u001b[90m╺\u001b[0m\u001b[90m━━━━━━━━━\u001b[0m \u001b[35m12.0%\u001b[0m • \u001b[32m6.2/51.7  \u001b[0m • \u001b[31m2.5 MB/s\u001b[0m • \u001b[36m0:00:19\u001b[0m\n",
      "\u001b[2K\u001b[1A\u001b[2K\u001b[1;34msubmission_task1_ALS.parquet\u001b[0m \u001b[91m━\u001b[0m\u001b[90m╺\u001b[0m\u001b[90m━━━━━━━━━\u001b[0m \u001b[35m12.0%\u001b[0m • \u001b[32m6.2/51.7  \u001b[0m • \u001b[31m2.5 MB/s\u001b[0m • \u001b[36m0:00:19\u001b[0m\n",
      "\u001b[2K\u001b[1A\u001b[2K\u001b[1;34msubmission_task1_ALS.parquet\u001b[0m \u001b[91m━\u001b[0m\u001b[90m╺\u001b[0m\u001b[90m━━━━━━━━━\u001b[0m \u001b[35m12.0%\u001b[0m • \u001b[32m6.2/51.7  \u001b[0m • \u001b[31m2.5 MB/s\u001b[0m • \u001b[36m0:00:19\u001b[0m\n",
      "\u001b[2K\u001b[1A\u001b[2K\u001b[1;34msubmission_task1_ALS.parquet\u001b[0m \u001b[91m━\u001b[0m\u001b[90m╺\u001b[0m\u001b[90m━━━━━━━━━\u001b[0m \u001b[35m12.0%\u001b[0m • \u001b[32m6.2/51.7  \u001b[0m • \u001b[31m2.5 MB/s\u001b[0m • \u001b[36m0:00:19\u001b[0m\n",
      "\u001b[2K\u001b[1A\u001b[2K\u001b[1;34msubmission_task1_ALS.parquet\u001b[0m \u001b[91m━\u001b[0m\u001b[90m╺\u001b[0m\u001b[90m━━━━━━━━━\u001b[0m \u001b[35m12.0%\u001b[0m • \u001b[32m6.2/51.7  \u001b[0m • \u001b[31m2.5 MB/s\u001b[0m • \u001b[36m0:00:19\u001b[0m\n",
      "\u001b[2K\u001b[1A\u001b[2K\u001b[1;34msubmission_task1_ALS.parquet\u001b[0m \u001b[91m━\u001b[0m\u001b[90m╺\u001b[0m\u001b[90m━━━━━━━━━\u001b[0m \u001b[35m12.1%\u001b[0m • \u001b[32m6.2/51.7  \u001b[0m • \u001b[31m2.5 MB/s\u001b[0m • \u001b[36m0:00:19\u001b[0m\n",
      "\u001b[2K\u001b[1A\u001b[2K\u001b[1;34msubmission_task1_ALS.parquet\u001b[0m \u001b[91m━\u001b[0m\u001b[90m╺\u001b[0m\u001b[90m━━━━━━━━━\u001b[0m \u001b[35m12.1%\u001b[0m • \u001b[32m6.2/51.7  \u001b[0m • \u001b[31m2.5 MB/s\u001b[0m • \u001b[36m0:00:19\u001b[0m\n",
      "\u001b[2K\u001b[1A\u001b[2K\u001b[1;34msubmission_task1_ALS.parquet\u001b[0m \u001b[91m━\u001b[0m\u001b[90m╺\u001b[0m\u001b[90m━━━━━━━━━\u001b[0m \u001b[35m12.1%\u001b[0m • \u001b[32m6.3/51.7  \u001b[0m • \u001b[31m2.5 MB/s\u001b[0m • \u001b[36m0:00:19\u001b[0m\n",
      "\u001b[2K\u001b[1A\u001b[2K\u001b[1;34msubmission_task1_ALS.parquet\u001b[0m \u001b[91m━\u001b[0m\u001b[90m╺\u001b[0m\u001b[90m━━━━━━━━━\u001b[0m \u001b[35m12.1%\u001b[0m • \u001b[32m6.3/51.7  \u001b[0m • \u001b[31m2.5 MB/s\u001b[0m • \u001b[36m0:00:19\u001b[0m\n",
      "\u001b[2K\u001b[1A\u001b[2K\u001b[1;34msubmission_task1_ALS.parquet\u001b[0m \u001b[91m━\u001b[0m\u001b[90m╺\u001b[0m\u001b[90m━━━━━━━━━\u001b[0m \u001b[35m12.1%\u001b[0m • \u001b[32m6.3/51.7  \u001b[0m • \u001b[31m2.5 MB/s\u001b[0m • \u001b[36m0:00:19\u001b[0m\n",
      "\u001b[2K\u001b[1A\u001b[2K\u001b[1;34msubmission_task1_ALS.parquet\u001b[0m \u001b[91m━\u001b[0m\u001b[90m╺\u001b[0m\u001b[90m━━━━━━━━━\u001b[0m \u001b[35m12.1%\u001b[0m • \u001b[32m6.3/51.7  \u001b[0m • \u001b[31m2.5 MB/s\u001b[0m • \u001b[36m0:00:19\u001b[0m\n",
      "\u001b[2K\u001b[1A\u001b[2K\u001b[1;34msubmission_task1_ALS.parquet\u001b[0m \u001b[91m━\u001b[0m\u001b[90m╺\u001b[0m\u001b[90m━━━━━━━━━\u001b[0m \u001b[35m12.1%\u001b[0m • \u001b[32m6.3/51.7  \u001b[0m • \u001b[31m2.5 MB/s\u001b[0m • \u001b[36m0:00:19\u001b[0m\n",
      "\u001b[2K\u001b[1A\u001b[2K\u001b[1;34msubmission_task1_ALS.parquet\u001b[0m \u001b[91m━\u001b[0m\u001b[90m╺\u001b[0m\u001b[90m━━━━━━━━━\u001b[0m \u001b[35m12.2%\u001b[0m • \u001b[32m6.3/51.7  \u001b[0m • \u001b[31m2.5 MB/s\u001b[0m • \u001b[36m0:00:19\u001b[0m\n",
      "\u001b[2K\u001b[1A\u001b[2K\u001b[1;34msubmission_task1_ALS.parquet\u001b[0m \u001b[91m━\u001b[0m\u001b[90m╺\u001b[0m\u001b[90m━━━━━━━━━\u001b[0m \u001b[35m12.2%\u001b[0m • \u001b[32m6.3/51.7  \u001b[0m • \u001b[31m2.5 MB/s\u001b[0m • \u001b[36m0:00:19\u001b[0m\n",
      "\u001b[2K\u001b[1A\u001b[2K\u001b[1;34msubmission_task1_ALS.parquet\u001b[0m \u001b[91m━\u001b[0m\u001b[90m╺\u001b[0m\u001b[90m━━━━━━━━━\u001b[0m \u001b[35m12.2%\u001b[0m • \u001b[32m6.3/51.7  \u001b[0m • \u001b[31m2.5 MB/s\u001b[0m • \u001b[36m0:00:19\u001b[0m\n",
      "\u001b[2K\u001b[1A\u001b[2K\u001b[1;34msubmission_task1_ALS.parquet\u001b[0m \u001b[91m━\u001b[0m\u001b[90m╺\u001b[0m\u001b[90m━━━━━━━━━\u001b[0m \u001b[35m12.2%\u001b[0m • \u001b[32m6.3/51.7  \u001b[0m • \u001b[31m2.5 MB/s\u001b[0m • \u001b[36m0:00:19\u001b[0m\n",
      "\u001b[2K\u001b[1A\u001b[2K\u001b[1;34msubmission_task1_ALS.parquet\u001b[0m \u001b[91m━\u001b[0m\u001b[90m╺\u001b[0m\u001b[90m━━━━━━━━━\u001b[0m \u001b[35m12.2%\u001b[0m • \u001b[32m6.3/51.7  \u001b[0m • \u001b[31m2.5 MB/s\u001b[0m • \u001b[36m0:00:19\u001b[0m\n",
      "\u001b[2K\u001b[1A\u001b[2K\u001b[1;34msubmission_task1_ALS.parquet\u001b[0m \u001b[91m━\u001b[0m\u001b[90m╺\u001b[0m\u001b[90m━━━━━━━━━\u001b[0m \u001b[35m12.2%\u001b[0m • \u001b[32m6.3/51.7  \u001b[0m • \u001b[31m2.5 MB/s\u001b[0m • \u001b[36m0:00:19\u001b[0m\n",
      "\u001b[2K\u001b[1A\u001b[2K\u001b[1;34msubmission_task1_ALS.parquet\u001b[0m \u001b[91m━\u001b[0m\u001b[90m╺\u001b[0m\u001b[90m━━━━━━━━━\u001b[0m \u001b[35m12.3%\u001b[0m • \u001b[32m6.3/51.7  \u001b[0m • \u001b[31m2.5 MB/s\u001b[0m • \u001b[36m0:00:19\u001b[0m\n",
      "\u001b[2K\u001b[1A\u001b[2K\u001b[1;34msubmission_task1_ALS.parquet\u001b[0m \u001b[91m━\u001b[0m\u001b[90m╺\u001b[0m\u001b[90m━━━━━━━━━\u001b[0m \u001b[35m12.3%\u001b[0m • \u001b[32m6.3/51.7  \u001b[0m • \u001b[31m2.5 MB/s\u001b[0m • \u001b[36m0:00:19\u001b[0m\n",
      "\u001b[2K\u001b[1A\u001b[2K\u001b[1;34msubmission_task1_ALS.parquet\u001b[0m \u001b[91m━\u001b[0m\u001b[90m╺\u001b[0m\u001b[90m━━━━━━━━━\u001b[0m \u001b[35m12.3%\u001b[0m • \u001b[32m6.4/51.7  \u001b[0m • \u001b[31m2.5 MB/s\u001b[0m • \u001b[36m0:00:19\u001b[0m\n",
      "\u001b[2K\u001b[1A\u001b[2K\u001b[1;34msubmission_task1_ALS.parquet\u001b[0m \u001b[91m━\u001b[0m\u001b[90m╺\u001b[0m\u001b[90m━━━━━━━━━\u001b[0m \u001b[35m12.3%\u001b[0m • \u001b[32m6.4/51.7  \u001b[0m • \u001b[31m2.5 MB/s\u001b[0m • \u001b[36m0:00:19\u001b[0m\n",
      "\u001b[2K\u001b[1A\u001b[2K\u001b[1;34msubmission_task1_ALS.parquet\u001b[0m \u001b[91m━\u001b[0m\u001b[90m╺\u001b[0m\u001b[90m━━━━━━━━━\u001b[0m \u001b[35m12.3%\u001b[0m • \u001b[32m6.4/51.7  \u001b[0m • \u001b[31m2.5 MB/s\u001b[0m • \u001b[36m0:00:19\u001b[0m\n",
      "\u001b[2K\u001b[1A\u001b[2K\u001b[1;34msubmission_task1_ALS.parquet\u001b[0m \u001b[91m━\u001b[0m\u001b[90m╺\u001b[0m\u001b[90m━━━━━━━━━\u001b[0m \u001b[35m12.3%\u001b[0m • \u001b[32m6.4/51.7  \u001b[0m • \u001b[31m2.5 MB/s\u001b[0m • \u001b[36m0:00:19\u001b[0m\n",
      "\u001b[2K\u001b[1A\u001b[2K\u001b[1;34msubmission_task1_ALS.parquet\u001b[0m \u001b[91m━\u001b[0m\u001b[90m╺\u001b[0m\u001b[90m━━━━━━━━━\u001b[0m \u001b[35m12.3%\u001b[0m • \u001b[32m6.4/51.7  \u001b[0m • \u001b[31m2.5 MB/s\u001b[0m • \u001b[36m0:00:19\u001b[0m\n",
      "\u001b[2K\u001b[1A\u001b[2K\u001b[1;34msubmission_task1_ALS.parquet\u001b[0m \u001b[91m━\u001b[0m\u001b[90m╺\u001b[0m\u001b[90m━━━━━━━━━\u001b[0m \u001b[35m12.4%\u001b[0m • \u001b[32m6.4/51.7  \u001b[0m • \u001b[31m2.5 MB/s\u001b[0m • \u001b[36m0:00:19\u001b[0m\n",
      "\u001b[2K\u001b[1A\u001b[2K\u001b[1;34msubmission_task1_ALS.parquet\u001b[0m \u001b[91m━\u001b[0m\u001b[90m╺\u001b[0m\u001b[90m━━━━━━━━━\u001b[0m \u001b[35m12.4%\u001b[0m • \u001b[32m6.4/51.7  \u001b[0m • \u001b[31m2.5 MB/s\u001b[0m • \u001b[36m0:00:18\u001b[0m\n",
      "\u001b[2K\u001b[1A\u001b[2K\u001b[1;34msubmission_task1_ALS.parquet\u001b[0m \u001b[91m━\u001b[0m\u001b[90m╺\u001b[0m\u001b[90m━━━━━━━━━\u001b[0m \u001b[35m12.4%\u001b[0m • \u001b[32m6.4/51.7  \u001b[0m • \u001b[31m2.5 MB/s\u001b[0m • \u001b[36m0:00:18\u001b[0m\n",
      "\u001b[2K\u001b[1A\u001b[2K\u001b[1;34msubmission_task1_ALS.parquet\u001b[0m \u001b[91m━\u001b[0m\u001b[90m╺\u001b[0m\u001b[90m━━━━━━━━━\u001b[0m \u001b[35m12.4%\u001b[0m • \u001b[32m6.4/51.7  \u001b[0m • \u001b[31m2.5 MB/s\u001b[0m • \u001b[36m0:00:18\u001b[0m\n",
      "\u001b[2K\u001b[1A\u001b[2K\u001b[1;34msubmission_task1_ALS.parquet\u001b[0m \u001b[91m━\u001b[0m\u001b[90m╺\u001b[0m\u001b[90m━━━━━━━━━\u001b[0m \u001b[35m12.4%\u001b[0m • \u001b[32m6.4/51.7  \u001b[0m • \u001b[31m2.5 MB/s\u001b[0m • \u001b[36m0:00:18\u001b[0m\n",
      "\u001b[2K\u001b[1A\u001b[2K\u001b[1;34msubmission_task1_ALS.parquet\u001b[0m \u001b[91m━\u001b[0m\u001b[90m╺\u001b[0m\u001b[90m━━━━━━━━━\u001b[0m \u001b[35m12.4%\u001b[0m • \u001b[32m6.4/51.7  \u001b[0m • \u001b[31m2.5 MB/s\u001b[0m • \u001b[36m0:00:18\u001b[0m\n",
      "\u001b[2K\u001b[1A\u001b[2K\u001b[1;34msubmission_task1_ALS.parquet\u001b[0m \u001b[91m━\u001b[0m\u001b[90m╺\u001b[0m\u001b[90m━━━━━━━━━\u001b[0m \u001b[35m12.4%\u001b[0m • \u001b[32m6.4/51.7  \u001b[0m • \u001b[31m2.5 MB/s\u001b[0m • \u001b[36m0:00:18\u001b[0m\n",
      "\u001b[2K\u001b[1A\u001b[2K\u001b[1;34msubmission_task1_ALS.parquet\u001b[0m \u001b[91m━\u001b[0m\u001b[90m╺\u001b[0m\u001b[90m━━━━━━━━━\u001b[0m \u001b[35m12.5%\u001b[0m • \u001b[32m6.4/51.7  \u001b[0m • \u001b[31m2.5 MB/s\u001b[0m • \u001b[36m0:00:18\u001b[0m\n",
      "\u001b[2K\u001b[1A\u001b[2K\u001b[1;34msubmission_task1_ALS.parquet\u001b[0m \u001b[91m━\u001b[0m\u001b[90m╺\u001b[0m\u001b[90m━━━━━━━━━\u001b[0m \u001b[35m12.5%\u001b[0m • \u001b[32m6.5/51.7  \u001b[0m • \u001b[31m2.5 MB/s\u001b[0m • \u001b[36m0:00:18\u001b[0m\n",
      "\u001b[2K\u001b[1A\u001b[2K\u001b[1;34msubmission_task1_ALS.parquet\u001b[0m \u001b[91m━\u001b[0m\u001b[90m╺\u001b[0m\u001b[90m━━━━━━━━━\u001b[0m \u001b[35m12.5%\u001b[0m • \u001b[32m6.5/51.7  \u001b[0m • \u001b[31m2.5 MB/s\u001b[0m • \u001b[36m0:00:18\u001b[0m\n",
      "\u001b[2K\u001b[1A\u001b[2K\u001b[1;34msubmission_task1_ALS.parquet\u001b[0m \u001b[91m━\u001b[0m\u001b[90m╺\u001b[0m\u001b[90m━━━━━━━━━\u001b[0m \u001b[35m12.5%\u001b[0m • \u001b[32m6.5/51.7  \u001b[0m • \u001b[31m2.5 MB/s\u001b[0m • \u001b[36m0:00:18\u001b[0m\n",
      "\u001b[2K\u001b[1A\u001b[2K\u001b[1;34msubmission_task1_ALS.parquet\u001b[0m \u001b[91m━\u001b[0m\u001b[90m╺\u001b[0m\u001b[90m━━━━━━━━━\u001b[0m \u001b[35m12.5%\u001b[0m • \u001b[32m6.5/51.7  \u001b[0m • \u001b[31m2.5 MB/s\u001b[0m • \u001b[36m0:00:18\u001b[0m\n",
      "\u001b[2K\u001b[1A\u001b[2K\u001b[1;34msubmission_task1_ALS.parquet\u001b[0m \u001b[91m━\u001b[0m\u001b[90m╺\u001b[0m\u001b[90m━━━━━━━━━\u001b[0m \u001b[35m12.5%\u001b[0m • \u001b[32m6.5/51.7  \u001b[0m • \u001b[31m2.5 MB/s\u001b[0m • \u001b[36m0:00:18\u001b[0m\n",
      "\u001b[2K\u001b[1A\u001b[2K\u001b[1;34msubmission_task1_ALS.parquet\u001b[0m \u001b[91m━\u001b[0m\u001b[90m╺\u001b[0m\u001b[90m━━━━━━━━━\u001b[0m \u001b[35m12.6%\u001b[0m • \u001b[32m6.5/51.7  \u001b[0m • \u001b[31m2.5 MB/s\u001b[0m • \u001b[36m0:00:18\u001b[0m\n",
      "\u001b[2K\u001b[1A\u001b[2K\u001b[1;34msubmission_task1_ALS.parquet\u001b[0m \u001b[91m━\u001b[0m\u001b[90m╺\u001b[0m\u001b[90m━━━━━━━━━\u001b[0m \u001b[35m12.6%\u001b[0m • \u001b[32m6.5/51.7  \u001b[0m • \u001b[31m2.5 MB/s\u001b[0m • \u001b[36m0:00:18\u001b[0m\n",
      "\u001b[2K\u001b[1A\u001b[2K\u001b[1;34msubmission_task1_ALS.parquet\u001b[0m \u001b[91m━\u001b[0m\u001b[90m╺\u001b[0m\u001b[90m━━━━━━━━━\u001b[0m \u001b[35m12.6%\u001b[0m • \u001b[32m6.5/51.7  \u001b[0m • \u001b[31m2.5 MB/s\u001b[0m • \u001b[36m0:00:18\u001b[0m\n",
      "\u001b[2K\u001b[1A\u001b[2K\u001b[1;34msubmission_task1_ALS.parquet\u001b[0m \u001b[91m━\u001b[0m\u001b[90m╺\u001b[0m\u001b[90m━━━━━━━━━\u001b[0m \u001b[35m12.6%\u001b[0m • \u001b[32m6.5/51.7  \u001b[0m • \u001b[31m2.5 MB/s\u001b[0m • \u001b[36m0:00:18\u001b[0m\n",
      "\u001b[2K\u001b[1A\u001b[2K\u001b[1;34msubmission_task1_ALS.parquet\u001b[0m \u001b[91m━\u001b[0m\u001b[90m╺\u001b[0m\u001b[90m━━━━━━━━━\u001b[0m \u001b[35m12.6%\u001b[0m • \u001b[32m6.5/51.7  \u001b[0m • \u001b[31m2.5 MB/s\u001b[0m • \u001b[36m0:00:18\u001b[0m\n",
      "\u001b[2K\u001b[1A\u001b[2K\u001b[1;34msubmission_task1_ALS.parquet\u001b[0m \u001b[91m━\u001b[0m\u001b[90m╺\u001b[0m\u001b[90m━━━━━━━━━\u001b[0m \u001b[35m12.6%\u001b[0m • \u001b[32m6.5/51.7  \u001b[0m • \u001b[31m2.5 MB/s\u001b[0m • \u001b[36m0:00:18\u001b[0m\n",
      "\u001b[2K\u001b[1A\u001b[2K\u001b[1;34msubmission_task1_ALS.parquet\u001b[0m \u001b[91m━\u001b[0m\u001b[90m╺\u001b[0m\u001b[90m━━━━━━━━━\u001b[0m \u001b[35m12.7%\u001b[0m • \u001b[32m6.5/51.7  \u001b[0m • \u001b[31m2.5 MB/s\u001b[0m • \u001b[36m0:00:18\u001b[0m\n",
      "\u001b[2K\u001b[1A\u001b[2K\u001b[1;34msubmission_task1_ALS.parquet\u001b[0m \u001b[91m━\u001b[0m\u001b[90m╺\u001b[0m\u001b[90m━━━━━━━━━\u001b[0m \u001b[35m12.7%\u001b[0m • \u001b[32m6.6/51.7  \u001b[0m • \u001b[31m2.5 MB/s\u001b[0m • \u001b[36m0:00:18\u001b[0m\n",
      "\u001b[2K\u001b[1A\u001b[2K\u001b[1;34msubmission_task1_ALS.parquet\u001b[0m \u001b[91m━\u001b[0m\u001b[90m╺\u001b[0m\u001b[90m━━━━━━━━━\u001b[0m \u001b[35m12.7%\u001b[0m • \u001b[32m6.6/51.7  \u001b[0m • \u001b[31m2.5 MB/s\u001b[0m • \u001b[36m0:00:18\u001b[0m\n",
      "\u001b[2K\u001b[1A\u001b[2K\u001b[1;34msubmission_task1_ALS.parquet\u001b[0m \u001b[91m━\u001b[0m\u001b[90m╺\u001b[0m\u001b[90m━━━━━━━━━\u001b[0m \u001b[35m12.7%\u001b[0m • \u001b[32m6.6/51.7  \u001b[0m • \u001b[31m2.5 MB/s\u001b[0m • \u001b[36m0:00:18\u001b[0m\n",
      "\u001b[2K\u001b[1A\u001b[2K\u001b[1;34msubmission_task1_ALS.parquet\u001b[0m \u001b[91m━\u001b[0m\u001b[90m╺\u001b[0m\u001b[90m━━━━━━━━━\u001b[0m \u001b[35m12.7%\u001b[0m • \u001b[32m6.6/51.7  \u001b[0m • \u001b[31m2.5 MB/s\u001b[0m • \u001b[36m0:00:18\u001b[0m\n",
      "\u001b[2K\u001b[1A\u001b[2K\u001b[1;34msubmission_task1_ALS.parquet\u001b[0m \u001b[91m━\u001b[0m\u001b[90m╺\u001b[0m\u001b[90m━━━━━━━━━\u001b[0m \u001b[35m12.7%\u001b[0m • \u001b[32m6.6/51.7  \u001b[0m • \u001b[31m2.5 MB/s\u001b[0m • \u001b[36m0:00:18\u001b[0m\n",
      "\u001b[2K\u001b[1A\u001b[2K\u001b[1;34msubmission_task1_ALS.parquet\u001b[0m \u001b[91m━\u001b[0m\u001b[90m╺\u001b[0m\u001b[90m━━━━━━━━━\u001b[0m \u001b[35m12.7%\u001b[0m • \u001b[32m6.6/51.7  \u001b[0m • \u001b[31m2.5 MB/s\u001b[0m • \u001b[36m0:00:18\u001b[0m\n",
      "\u001b[2K\u001b[1A\u001b[2K\u001b[1;34msubmission_task1_ALS.parquet\u001b[0m \u001b[91m━\u001b[0m\u001b[90m╺\u001b[0m\u001b[90m━━━━━━━━━\u001b[0m \u001b[35m12.8%\u001b[0m • \u001b[32m6.6/51.7  \u001b[0m • \u001b[31m2.5 MB/s\u001b[0m • \u001b[36m0:00:18\u001b[0m\n",
      "\u001b[2K\u001b[1A\u001b[2K\u001b[1;34msubmission_task1_ALS.parquet\u001b[0m \u001b[91m━\u001b[0m\u001b[90m╺\u001b[0m\u001b[90m━━━━━━━━━\u001b[0m \u001b[35m12.8%\u001b[0m • \u001b[32m6.6/51.7  \u001b[0m • \u001b[31m2.5 MB/s\u001b[0m • \u001b[36m0:00:18\u001b[0m\n",
      "\u001b[2K\u001b[1A\u001b[2K\u001b[1;34msubmission_task1_ALS.parquet\u001b[0m \u001b[91m━\u001b[0m\u001b[90m╺\u001b[0m\u001b[90m━━━━━━━━━\u001b[0m \u001b[35m12.8%\u001b[0m • \u001b[32m6.6/51.7  \u001b[0m • \u001b[31m2.5 MB/s\u001b[0m • \u001b[36m0:00:18\u001b[0m\n",
      "\u001b[2K\u001b[1A\u001b[2K\u001b[1;34msubmission_task1_ALS.parquet\u001b[0m \u001b[91m━\u001b[0m\u001b[90m╺\u001b[0m\u001b[90m━━━━━━━━━\u001b[0m \u001b[35m12.8%\u001b[0m • \u001b[32m6.6/51.7  \u001b[0m • \u001b[31m2.5 MB/s\u001b[0m • \u001b[36m0:00:18\u001b[0m\n",
      "\u001b[2K\u001b[1A\u001b[2K\u001b[1;34msubmission_task1_ALS.parquet\u001b[0m \u001b[91m━\u001b[0m\u001b[90m╺\u001b[0m\u001b[90m━━━━━━━━━\u001b[0m \u001b[35m12.8%\u001b[0m • \u001b[32m6.6/51.7  \u001b[0m • \u001b[31m2.5 MB/s\u001b[0m • \u001b[36m0:00:18\u001b[0m\n",
      "\u001b[2K\u001b[1A\u001b[2K\u001b[1;34msubmission_task1_ALS.parquet\u001b[0m \u001b[91m━\u001b[0m\u001b[90m╺\u001b[0m\u001b[90m━━━━━━━━━\u001b[0m \u001b[35m12.8%\u001b[0m • \u001b[32m6.6/51.7  \u001b[0m • \u001b[31m2.5 MB/s\u001b[0m • \u001b[36m0:00:18\u001b[0m\n",
      "\u001b[2K\u001b[1A\u001b[2K\u001b[1;34msubmission_task1_ALS.parquet\u001b[0m \u001b[91m━\u001b[0m\u001b[90m╺\u001b[0m\u001b[90m━━━━━━━━━\u001b[0m \u001b[35m12.9%\u001b[0m • \u001b[32m6.7/51.7  \u001b[0m • \u001b[31m2.5 MB/s\u001b[0m • \u001b[36m0:00:18\u001b[0m\n",
      "\u001b[2K\u001b[1A\u001b[2K\u001b[1;34msubmission_task1_ALS.parquet\u001b[0m \u001b[91m━\u001b[0m\u001b[90m╺\u001b[0m\u001b[90m━━━━━━━━━\u001b[0m \u001b[35m12.9%\u001b[0m • \u001b[32m6.7/51.7  \u001b[0m • \u001b[31m2.5 MB/s\u001b[0m • \u001b[36m0:00:18\u001b[0m\n",
      "\u001b[2K\u001b[1A\u001b[2K\u001b[1;34msubmission_task1_ALS.parquet\u001b[0m \u001b[91m━\u001b[0m\u001b[90m╺\u001b[0m\u001b[90m━━━━━━━━━\u001b[0m \u001b[35m12.9%\u001b[0m • \u001b[32m6.7/51.7  \u001b[0m • \u001b[31m2.5 MB/s\u001b[0m • \u001b[36m0:00:18\u001b[0m\n",
      "\u001b[2K\u001b[1A\u001b[2K\u001b[1;34msubmission_task1_ALS.parquet\u001b[0m \u001b[91m━\u001b[0m\u001b[90m╺\u001b[0m\u001b[90m━━━━━━━━━\u001b[0m \u001b[35m12.9%\u001b[0m • \u001b[32m6.7/51.7  \u001b[0m • \u001b[31m2.5 MB/s\u001b[0m • \u001b[36m0:00:18\u001b[0m\n",
      "\u001b[2K\u001b[1A\u001b[2K\u001b[1;34msubmission_task1_ALS.parquet\u001b[0m \u001b[91m━\u001b[0m\u001b[90m╺\u001b[0m\u001b[90m━━━━━━━━━\u001b[0m \u001b[35m12.9%\u001b[0m • \u001b[32m6.7/51.7  \u001b[0m • \u001b[31m2.5 MB/s\u001b[0m • \u001b[36m0:00:18\u001b[0m\n",
      "\u001b[2K\u001b[1A\u001b[2K\u001b[1;34msubmission_task1_ALS.parquet\u001b[0m \u001b[91m━\u001b[0m\u001b[90m╺\u001b[0m\u001b[90m━━━━━━━━━\u001b[0m \u001b[35m12.9%\u001b[0m • \u001b[32m6.7/51.7  \u001b[0m • \u001b[31m2.5 MB/s\u001b[0m • \u001b[36m0:00:18\u001b[0m\n",
      "\u001b[2K\u001b[1A\u001b[2K\u001b[1;34msubmission_task1_ALS.parquet\u001b[0m \u001b[91m━\u001b[0m\u001b[90m╺\u001b[0m\u001b[90m━━━━━━━━━\u001b[0m \u001b[35m12.9%\u001b[0m • \u001b[32m6.7/51.7  \u001b[0m • \u001b[31m2.5 MB/s\u001b[0m • \u001b[36m0:00:18\u001b[0m\n",
      "\u001b[2K\u001b[1A\u001b[2K\u001b[1;34msubmission_task1_ALS.parquet\u001b[0m \u001b[91m━\u001b[0m\u001b[90m╺\u001b[0m\u001b[90m━━━━━━━━━\u001b[0m \u001b[35m13.0%\u001b[0m • \u001b[32m6.7/51.7  \u001b[0m • \u001b[31m2.5 MB/s\u001b[0m • \u001b[36m0:00:18\u001b[0m\n",
      "\u001b[2K\u001b[1A\u001b[2K\u001b[1;34msubmission_task1_ALS.parquet\u001b[0m \u001b[91m━\u001b[0m\u001b[90m╺\u001b[0m\u001b[90m━━━━━━━━━\u001b[0m \u001b[35m13.0%\u001b[0m • \u001b[32m6.7/51.7  \u001b[0m • \u001b[31m2.5 MB/s\u001b[0m • \u001b[36m0:00:18\u001b[0m\n",
      "\u001b[2K\u001b[1A\u001b[2K\u001b[1;34msubmission_task1_ALS.parquet\u001b[0m \u001b[91m━\u001b[0m\u001b[90m╺\u001b[0m\u001b[90m━━━━━━━━━\u001b[0m \u001b[35m13.0%\u001b[0m • \u001b[32m6.7/51.7  \u001b[0m • \u001b[31m2.5 MB/s\u001b[0m • \u001b[36m0:00:18\u001b[0m\n",
      "\u001b[2K\u001b[1A\u001b[2K\u001b[1;34msubmission_task1_ALS.parquet\u001b[0m \u001b[91m━\u001b[0m\u001b[90m╺\u001b[0m\u001b[90m━━━━━━━━━\u001b[0m \u001b[35m13.0%\u001b[0m • \u001b[32m6.7/51.7  \u001b[0m • \u001b[31m2.5 MB/s\u001b[0m • \u001b[36m0:00:18\u001b[0m\n",
      "\u001b[2K\u001b[1A\u001b[2K\u001b[1;34msubmission_task1_ALS.parquet\u001b[0m \u001b[91m━\u001b[0m\u001b[90m╺\u001b[0m\u001b[90m━━━━━━━━━\u001b[0m \u001b[35m13.0%\u001b[0m • \u001b[32m6.7/51.7  \u001b[0m • \u001b[31m2.5 MB/s\u001b[0m • \u001b[36m0:00:18\u001b[0m\n",
      "\u001b[2K\u001b[1A\u001b[2K\u001b[1;34msubmission_task1_ALS.parquet\u001b[0m \u001b[91m━\u001b[0m\u001b[90m╺\u001b[0m\u001b[90m━━━━━━━━━\u001b[0m \u001b[35m13.0%\u001b[0m • \u001b[32m6.7/51.7  \u001b[0m • \u001b[31m2.5 MB/s\u001b[0m • \u001b[36m0:00:18\u001b[0m\n",
      "\u001b[2K\u001b[1A\u001b[2K\u001b[1;34msubmission_task1_ALS.parquet\u001b[0m \u001b[91m━\u001b[0m\u001b[90m╺\u001b[0m\u001b[90m━━━━━━━━━\u001b[0m \u001b[35m13.1%\u001b[0m • \u001b[32m6.8/51.7  \u001b[0m • \u001b[31m2.5 MB/s\u001b[0m • \u001b[36m0:00:18\u001b[0m\n",
      "\u001b[2K\u001b[1A\u001b[2K\u001b[1;34msubmission_task1_ALS.parquet\u001b[0m \u001b[91m━\u001b[0m\u001b[90m╺\u001b[0m\u001b[90m━━━━━━━━━\u001b[0m \u001b[35m13.1%\u001b[0m • \u001b[32m6.8/51.7  \u001b[0m • \u001b[31m2.5 MB/s\u001b[0m • \u001b[36m0:00:18\u001b[0m\n",
      "\u001b[2K\u001b[1A\u001b[2K\u001b[1;34msubmission_task1_ALS.parquet\u001b[0m \u001b[91m━\u001b[0m\u001b[90m╺\u001b[0m\u001b[90m━━━━━━━━━\u001b[0m \u001b[35m13.1%\u001b[0m • \u001b[32m6.8/51.7  \u001b[0m • \u001b[31m2.5 MB/s\u001b[0m • \u001b[36m0:00:18\u001b[0m\n",
      "\u001b[2K\u001b[1A\u001b[2K\u001b[1;34msubmission_task1_ALS.parquet\u001b[0m \u001b[91m━\u001b[0m\u001b[90m╺\u001b[0m\u001b[90m━━━━━━━━━\u001b[0m \u001b[35m13.1%\u001b[0m • \u001b[32m6.8/51.7  \u001b[0m • \u001b[31m2.5 MB/s\u001b[0m • \u001b[36m0:00:18\u001b[0m\n",
      "\u001b[2K\u001b[1A\u001b[2K\u001b[1;34msubmission_task1_ALS.parquet\u001b[0m \u001b[91m━\u001b[0m\u001b[90m╺\u001b[0m\u001b[90m━━━━━━━━━\u001b[0m \u001b[35m13.1%\u001b[0m • \u001b[32m6.8/51.7  \u001b[0m • \u001b[31m2.5 MB/s\u001b[0m • \u001b[36m0:00:18\u001b[0m\n",
      "\u001b[2K\u001b[1A\u001b[2K\u001b[1;34msubmission_task1_ALS.parquet\u001b[0m \u001b[91m━\u001b[0m\u001b[90m╺\u001b[0m\u001b[90m━━━━━━━━━\u001b[0m \u001b[35m13.1%\u001b[0m • \u001b[32m6.8/51.7  \u001b[0m • \u001b[31m2.6 MB/s\u001b[0m • \u001b[36m0:00:18\u001b[0m\n",
      "\u001b[2K\u001b[1A\u001b[2K\u001b[1;34msubmission_task1_ALS.parquet\u001b[0m \u001b[91m━\u001b[0m\u001b[90m╺\u001b[0m\u001b[90m━━━━━━━━━\u001b[0m \u001b[35m13.1%\u001b[0m • \u001b[32m6.8/51.7  \u001b[0m • \u001b[31m2.6 MB/s\u001b[0m • \u001b[36m0:00:18\u001b[0m\n",
      "\u001b[2K\u001b[1A\u001b[2K\u001b[1;34msubmission_task1_ALS.parquet\u001b[0m \u001b[91m━\u001b[0m\u001b[90m╺\u001b[0m\u001b[90m━━━━━━━━━\u001b[0m \u001b[35m13.2%\u001b[0m • \u001b[32m6.8/51.7  \u001b[0m • \u001b[31m2.6 MB/s\u001b[0m • \u001b[36m0:00:18\u001b[0m\n",
      "\u001b[2K\u001b[1A\u001b[2K\u001b[1;34msubmission_task1_ALS.parquet\u001b[0m \u001b[91m━\u001b[0m\u001b[90m╺\u001b[0m\u001b[90m━━━━━━━━━\u001b[0m \u001b[35m13.2%\u001b[0m • \u001b[32m6.8/51.7  \u001b[0m • \u001b[31m2.6 MB/s\u001b[0m • \u001b[36m0:00:18\u001b[0m\n",
      "\u001b[2K\u001b[1A\u001b[2K\u001b[1;34msubmission_task1_ALS.parquet\u001b[0m \u001b[91m━\u001b[0m\u001b[90m╺\u001b[0m\u001b[90m━━━━━━━━━\u001b[0m \u001b[35m13.2%\u001b[0m • \u001b[32m6.8/51.7  \u001b[0m • \u001b[31m2.6 MB/s\u001b[0m • \u001b[36m0:00:18\u001b[0m\n",
      "\u001b[2K\u001b[1A\u001b[2K\u001b[1;34msubmission_task1_ALS.parquet\u001b[0m \u001b[91m━\u001b[0m\u001b[90m╺\u001b[0m\u001b[90m━━━━━━━━━\u001b[0m \u001b[35m13.2%\u001b[0m • \u001b[32m6.8/51.7  \u001b[0m • \u001b[31m2.6 MB/s\u001b[0m • \u001b[36m0:00:18\u001b[0m\n",
      "\u001b[2K\u001b[1A\u001b[2K\u001b[1;34msubmission_task1_ALS.parquet\u001b[0m \u001b[91m━\u001b[0m\u001b[90m╺\u001b[0m\u001b[90m━━━━━━━━━\u001b[0m \u001b[35m13.2%\u001b[0m • \u001b[32m6.8/51.7  \u001b[0m • \u001b[31m2.6 MB/s\u001b[0m • \u001b[36m0:00:18\u001b[0m\n",
      "\u001b[2K\u001b[1A\u001b[2K\u001b[1;34msubmission_task1_ALS.parquet\u001b[0m \u001b[91m━\u001b[0m\u001b[90m╺\u001b[0m\u001b[90m━━━━━━━━━\u001b[0m \u001b[35m13.2%\u001b[0m • \u001b[32m6.8/51.7  \u001b[0m • \u001b[31m2.6 MB/s\u001b[0m • \u001b[36m0:00:18\u001b[0m\n",
      "\u001b[2K\u001b[1A\u001b[2K\u001b[1;34msubmission_task1_ALS.parquet\u001b[0m \u001b[91m━\u001b[0m\u001b[90m╺\u001b[0m\u001b[90m━━━━━━━━━\u001b[0m \u001b[35m13.3%\u001b[0m • \u001b[32m6.9/51.7  \u001b[0m • \u001b[31m2.6 MB/s\u001b[0m • \u001b[36m0:00:18\u001b[0m\n",
      "\u001b[2K\u001b[1A\u001b[2K\u001b[1;34msubmission_task1_ALS.parquet\u001b[0m \u001b[91m━\u001b[0m\u001b[90m╺\u001b[0m\u001b[90m━━━━━━━━━\u001b[0m \u001b[35m13.3%\u001b[0m • \u001b[32m6.9/51.7  \u001b[0m • \u001b[31m2.6 MB/s\u001b[0m • \u001b[36m0:00:18\u001b[0m\n",
      "\u001b[2K\u001b[1A\u001b[2K\u001b[1;34msubmission_task1_ALS.parquet\u001b[0m \u001b[91m━\u001b[0m\u001b[90m╺\u001b[0m\u001b[90m━━━━━━━━━\u001b[0m \u001b[35m13.3%\u001b[0m • \u001b[32m6.9/51.7  \u001b[0m • \u001b[31m2.6 MB/s\u001b[0m • \u001b[36m0:00:18\u001b[0m\n",
      "\u001b[2K\u001b[1A\u001b[2K\u001b[1;34msubmission_task1_ALS.parquet\u001b[0m \u001b[91m━\u001b[0m\u001b[90m╺\u001b[0m\u001b[90m━━━━━━━━━\u001b[0m \u001b[35m13.3%\u001b[0m • \u001b[32m6.9/51.7  \u001b[0m • \u001b[31m2.6 MB/s\u001b[0m • \u001b[36m0:00:18\u001b[0m\n",
      "\u001b[2K\u001b[1A\u001b[2K\u001b[1;34msubmission_task1_ALS.parquet\u001b[0m \u001b[91m━\u001b[0m\u001b[90m╺\u001b[0m\u001b[90m━━━━━━━━━\u001b[0m \u001b[35m13.3%\u001b[0m • \u001b[32m6.9/51.7  \u001b[0m • \u001b[31m2.6 MB/s\u001b[0m • \u001b[36m0:00:18\u001b[0m\n",
      "\u001b[2K\u001b[1A\u001b[2K\u001b[1;34msubmission_task1_ALS.parquet\u001b[0m \u001b[91m━\u001b[0m\u001b[90m╺\u001b[0m\u001b[90m━━━━━━━━━\u001b[0m \u001b[35m13.3%\u001b[0m • \u001b[32m6.9/51.7  \u001b[0m • \u001b[31m2.6 MB/s\u001b[0m • \u001b[36m0:00:18\u001b[0m\n",
      "\u001b[2K\u001b[1A\u001b[2K\u001b[1;34msubmission_task1_ALS.parquet\u001b[0m \u001b[91m━\u001b[0m\u001b[90m╺\u001b[0m\u001b[90m━━━━━━━━━\u001b[0m \u001b[35m13.4%\u001b[0m • \u001b[32m6.9/51.7  \u001b[0m • \u001b[31m2.6 MB/s\u001b[0m • \u001b[36m0:00:18\u001b[0m\n",
      "\u001b[2K\u001b[1A\u001b[2K\u001b[1;34msubmission_task1_ALS.parquet\u001b[0m \u001b[91m━\u001b[0m\u001b[90m╺\u001b[0m\u001b[90m━━━━━━━━━\u001b[0m \u001b[35m13.4%\u001b[0m • \u001b[32m6.9/51.7  \u001b[0m • \u001b[31m2.6 MB/s\u001b[0m • \u001b[36m0:00:18\u001b[0m\n",
      "\u001b[2K\u001b[1A\u001b[2K\u001b[1;34msubmission_task1_ALS.parquet\u001b[0m \u001b[91m━\u001b[0m\u001b[90m╺\u001b[0m\u001b[90m━━━━━━━━━\u001b[0m \u001b[35m13.4%\u001b[0m • \u001b[32m6.9/51.7  \u001b[0m • \u001b[31m2.6 MB/s\u001b[0m • \u001b[36m0:00:18\u001b[0m\n",
      "\u001b[2K\u001b[1A\u001b[2K\u001b[1;34msubmission_task1_ALS.parquet\u001b[0m \u001b[91m━\u001b[0m\u001b[90m╺\u001b[0m\u001b[90m━━━━━━━━━\u001b[0m \u001b[35m13.4%\u001b[0m • \u001b[32m6.9/51.7  \u001b[0m • \u001b[31m2.6 MB/s\u001b[0m • \u001b[36m0:00:18\u001b[0m\n",
      "\u001b[2K\u001b[1A\u001b[2K\u001b[1;34msubmission_task1_ALS.parquet\u001b[0m \u001b[91m━\u001b[0m\u001b[90m╺\u001b[0m\u001b[90m━━━━━━━━━\u001b[0m \u001b[35m13.4%\u001b[0m • \u001b[32m6.9/51.7  \u001b[0m • \u001b[31m2.6 MB/s\u001b[0m • \u001b[36m0:00:18\u001b[0m\n",
      "\u001b[2K\u001b[1A\u001b[2K\u001b[1;34msubmission_task1_ALS.parquet\u001b[0m \u001b[91m━\u001b[0m\u001b[90m╺\u001b[0m\u001b[90m━━━━━━━━━\u001b[0m \u001b[35m13.4%\u001b[0m • \u001b[32m6.9/51.7  \u001b[0m • \u001b[31m2.6 MB/s\u001b[0m • \u001b[36m0:00:18\u001b[0m\n",
      "\u001b[2K\u001b[1A\u001b[2K\u001b[1;34msubmission_task1_ALS.parquet\u001b[0m \u001b[91m━\u001b[0m\u001b[90m╺\u001b[0m\u001b[90m━━━━━━━━━\u001b[0m \u001b[35m13.4%\u001b[0m • \u001b[32m7.0/51.7  \u001b[0m • \u001b[31m2.6 MB/s\u001b[0m • \u001b[36m0:00:18\u001b[0m\n",
      "\u001b[2K\u001b[1A\u001b[2K\u001b[1;34msubmission_task1_ALS.parquet\u001b[0m \u001b[91m━\u001b[0m\u001b[90m╺\u001b[0m\u001b[90m━━━━━━━━━\u001b[0m \u001b[35m13.5%\u001b[0m • \u001b[32m7.0/51.7  \u001b[0m • \u001b[31m2.6 MB/s\u001b[0m • \u001b[36m0:00:18\u001b[0m\n",
      "\u001b[2K\u001b[1A\u001b[2K\u001b[1;34msubmission_task1_ALS.parquet\u001b[0m \u001b[91m━\u001b[0m\u001b[90m╺\u001b[0m\u001b[90m━━━━━━━━━\u001b[0m \u001b[35m13.5%\u001b[0m • \u001b[32m7.0/51.7  \u001b[0m • \u001b[31m2.6 MB/s\u001b[0m • \u001b[36m0:00:18\u001b[0m\n",
      "\u001b[2K\u001b[1A\u001b[2K\u001b[1;34msubmission_task1_ALS.parquet\u001b[0m \u001b[91m━\u001b[0m\u001b[90m╺\u001b[0m\u001b[90m━━━━━━━━━\u001b[0m \u001b[35m13.5%\u001b[0m • \u001b[32m7.0/51.7  \u001b[0m • \u001b[31m2.6 MB/s\u001b[0m • \u001b[36m0:00:18\u001b[0m\n",
      "\u001b[2K\u001b[1A\u001b[2K\u001b[1;34msubmission_task1_ALS.parquet\u001b[0m \u001b[91m━\u001b[0m\u001b[90m╺\u001b[0m\u001b[90m━━━━━━━━━\u001b[0m \u001b[35m13.5%\u001b[0m • \u001b[32m7.0/51.7  \u001b[0m • \u001b[31m2.6 MB/s\u001b[0m • \u001b[36m0:00:18\u001b[0m\n",
      "\u001b[2K\u001b[1A\u001b[2K\u001b[1;34msubmission_task1_ALS.parquet\u001b[0m \u001b[91m━\u001b[0m\u001b[90m╺\u001b[0m\u001b[90m━━━━━━━━━\u001b[0m \u001b[35m13.5%\u001b[0m • \u001b[32m7.0/51.7  \u001b[0m • \u001b[31m2.6 MB/s\u001b[0m • \u001b[36m0:00:18\u001b[0m\n",
      "\u001b[2K\u001b[1A\u001b[2K\u001b[1;34msubmission_task1_ALS.parquet\u001b[0m \u001b[91m━\u001b[0m\u001b[90m╺\u001b[0m\u001b[90m━━━━━━━━━\u001b[0m \u001b[35m13.5%\u001b[0m • \u001b[32m7.0/51.7  \u001b[0m • \u001b[31m2.6 MB/s\u001b[0m • \u001b[36m0:00:18\u001b[0m\n",
      "\u001b[2K\u001b[1A\u001b[2K\u001b[1;34msubmission_task1_ALS.parquet\u001b[0m \u001b[91m━\u001b[0m\u001b[90m╺\u001b[0m\u001b[90m━━━━━━━━━\u001b[0m \u001b[35m13.6%\u001b[0m • \u001b[32m7.0/51.7  \u001b[0m • \u001b[31m2.6 MB/s\u001b[0m • \u001b[36m0:00:18\u001b[0m\n",
      "\u001b[2K\u001b[1A\u001b[2K\u001b[1;34msubmission_task1_ALS.parquet\u001b[0m \u001b[91m━\u001b[0m\u001b[90m╺\u001b[0m\u001b[90m━━━━━━━━━\u001b[0m \u001b[35m13.6%\u001b[0m • \u001b[32m7.0/51.7  \u001b[0m • \u001b[31m2.6 MB/s\u001b[0m • \u001b[36m0:00:18\u001b[0m\n",
      "\u001b[2K\u001b[1A\u001b[2K\u001b[1;34msubmission_task1_ALS.parquet\u001b[0m \u001b[91m━\u001b[0m\u001b[90m╺\u001b[0m\u001b[90m━━━━━━━━━\u001b[0m \u001b[35m13.6%\u001b[0m • \u001b[32m7.0/51.7  \u001b[0m • \u001b[31m2.6 MB/s\u001b[0m • \u001b[36m0:00:18\u001b[0m\n",
      "\u001b[2K\u001b[1A\u001b[2K\u001b[1;34msubmission_task1_ALS.parquet\u001b[0m \u001b[91m━\u001b[0m\u001b[90m╺\u001b[0m\u001b[90m━━━━━━━━━\u001b[0m \u001b[35m13.6%\u001b[0m • \u001b[32m7.0/51.7  \u001b[0m • \u001b[31m2.6 MB/s\u001b[0m • \u001b[36m0:00:18\u001b[0m\n",
      "\u001b[2K\u001b[1A\u001b[2K\u001b[1;34msubmission_task1_ALS.parquet\u001b[0m \u001b[91m━\u001b[0m\u001b[90m╺\u001b[0m\u001b[90m━━━━━━━━━\u001b[0m \u001b[35m13.6%\u001b[0m • \u001b[32m7.0/51.7  \u001b[0m • \u001b[31m2.6 MB/s\u001b[0m • \u001b[36m0:00:18\u001b[0m\n",
      "\u001b[2K\u001b[1A\u001b[2K\u001b[1;34msubmission_task1_ALS.parquet\u001b[0m \u001b[91m━\u001b[0m\u001b[90m╺\u001b[0m\u001b[90m━━━━━━━━━\u001b[0m \u001b[35m13.6%\u001b[0m • \u001b[32m7.0/51.7  \u001b[0m • \u001b[31m2.6 MB/s\u001b[0m • \u001b[36m0:00:18\u001b[0m\n",
      "\u001b[2K\u001b[1A\u001b[2K\u001b[1;34msubmission_task1_ALS.parquet\u001b[0m \u001b[91m━\u001b[0m\u001b[91m╸\u001b[0m\u001b[90m━━━━━━━━━\u001b[0m \u001b[35m13.6%\u001b[0m • \u001b[32m7.1/51.7  \u001b[0m • \u001b[31m2.6 MB/s\u001b[0m • \u001b[36m0:00:18\u001b[0m\n",
      "\u001b[2K\u001b[1A\u001b[2K\u001b[1;34msubmission_task1_ALS.parquet\u001b[0m \u001b[91m━\u001b[0m\u001b[91m╸\u001b[0m\u001b[90m━━━━━━━━━\u001b[0m \u001b[35m13.7%\u001b[0m • \u001b[32m7.1/51.7  \u001b[0m • \u001b[31m2.6 MB/s\u001b[0m • \u001b[36m0:00:18\u001b[0m\n",
      "\u001b[2K\u001b[1A\u001b[2K\u001b[1;34msubmission_task1_ALS.parquet\u001b[0m \u001b[91m━\u001b[0m\u001b[91m╸\u001b[0m\u001b[90m━━━━━━━━━\u001b[0m \u001b[35m13.7%\u001b[0m • \u001b[32m7.1/51.7  \u001b[0m • \u001b[31m2.6 MB/s\u001b[0m • \u001b[36m0:00:18\u001b[0m\n",
      "\u001b[2K\u001b[1A\u001b[2K\u001b[1;34msubmission_task1_ALS.parquet\u001b[0m \u001b[91m━\u001b[0m\u001b[91m╸\u001b[0m\u001b[90m━━━━━━━━━\u001b[0m \u001b[35m13.7%\u001b[0m • \u001b[32m7.1/51.7  \u001b[0m • \u001b[31m2.6 MB/s\u001b[0m • \u001b[36m0:00:18\u001b[0m\n",
      "\u001b[2K\u001b[1A\u001b[2K\u001b[1;34msubmission_task1_ALS.parquet\u001b[0m \u001b[91m━\u001b[0m\u001b[91m╸\u001b[0m\u001b[90m━━━━━━━━━\u001b[0m \u001b[35m13.7%\u001b[0m • \u001b[32m7.1/51.7  \u001b[0m • \u001b[31m2.6 MB/s\u001b[0m • \u001b[36m0:00:18\u001b[0m\n",
      "\u001b[2K\u001b[1A\u001b[2K\u001b[1;34msubmission_task1_ALS.parquet\u001b[0m \u001b[91m━\u001b[0m\u001b[91m╸\u001b[0m\u001b[90m━━━━━━━━━\u001b[0m \u001b[35m13.7%\u001b[0m • \u001b[32m7.1/51.7  \u001b[0m • \u001b[31m2.6 MB/s\u001b[0m • \u001b[36m0:00:18\u001b[0m\n",
      "\u001b[2K\u001b[1A\u001b[2K\u001b[1;34msubmission_task1_ALS.parquet\u001b[0m \u001b[91m━\u001b[0m\u001b[91m╸\u001b[0m\u001b[90m━━━━━━━━━\u001b[0m \u001b[35m13.7%\u001b[0m • \u001b[32m7.1/51.7  \u001b[0m • \u001b[31m2.6 MB/s\u001b[0m • \u001b[36m0:00:18\u001b[0m\n",
      "\u001b[2K\u001b[1A\u001b[2K\u001b[1;34msubmission_task1_ALS.parquet\u001b[0m \u001b[91m━\u001b[0m\u001b[91m╸\u001b[0m\u001b[90m━━━━━━━━━\u001b[0m \u001b[35m13.7%\u001b[0m • \u001b[32m7.1/51.7  \u001b[0m • \u001b[31m2.6 MB/s\u001b[0m • \u001b[36m0:00:18\u001b[0m\n",
      "\u001b[2K\u001b[1A\u001b[2K\u001b[1;34msubmission_task1_ALS.parquet\u001b[0m \u001b[91m━\u001b[0m\u001b[91m╸\u001b[0m\u001b[90m━━━━━━━━━\u001b[0m \u001b[35m13.8%\u001b[0m • \u001b[32m7.1/51.7  \u001b[0m • \u001b[31m2.6 MB/s\u001b[0m • \u001b[36m0:00:18\u001b[0m\n",
      "\u001b[2K\u001b[1A\u001b[2K\u001b[1;34msubmission_task1_ALS.parquet\u001b[0m \u001b[91m━\u001b[0m\u001b[91m╸\u001b[0m\u001b[90m━━━━━━━━━\u001b[0m \u001b[35m13.8%\u001b[0m • \u001b[32m7.1/51.7  \u001b[0m • \u001b[31m2.6 MB/s\u001b[0m • \u001b[36m0:00:18\u001b[0m\n",
      "\u001b[2K\u001b[1A\u001b[2K\u001b[1;34msubmission_task1_ALS.parquet\u001b[0m \u001b[91m━\u001b[0m\u001b[91m╸\u001b[0m\u001b[90m━━━━━━━━━\u001b[0m \u001b[35m13.8%\u001b[0m • \u001b[32m7.1/51.7  \u001b[0m • \u001b[31m2.6 MB/s\u001b[0m • \u001b[36m0:00:18\u001b[0m\n",
      "\u001b[2K\u001b[1A\u001b[2K\u001b[1;34msubmission_task1_ALS.parquet\u001b[0m \u001b[91m━\u001b[0m\u001b[91m╸\u001b[0m\u001b[90m━━━━━━━━━\u001b[0m \u001b[35m13.8%\u001b[0m • \u001b[32m7.1/51.7  \u001b[0m • \u001b[31m2.6 MB/s\u001b[0m • \u001b[36m0:00:18\u001b[0m\n",
      "\u001b[2K\u001b[1A\u001b[2K\u001b[1;34msubmission_task1_ALS.parquet\u001b[0m \u001b[91m━\u001b[0m\u001b[91m╸\u001b[0m\u001b[90m━━━━━━━━━\u001b[0m \u001b[35m13.8%\u001b[0m • \u001b[32m7.2/51.7  \u001b[0m • \u001b[31m2.6 MB/s\u001b[0m • \u001b[36m0:00:18\u001b[0m\n",
      "\u001b[2K\u001b[1A\u001b[2K\u001b[1;34msubmission_task1_ALS.parquet\u001b[0m \u001b[91m━\u001b[0m\u001b[91m╸\u001b[0m\u001b[90m━━━━━━━━━\u001b[0m \u001b[35m13.8%\u001b[0m • \u001b[32m7.2/51.7  \u001b[0m • \u001b[31m2.6 MB/s\u001b[0m • \u001b[36m0:00:18\u001b[0m\n",
      "\u001b[2K\u001b[1A\u001b[2K\u001b[1;34msubmission_task1_ALS.parquet\u001b[0m \u001b[91m━\u001b[0m\u001b[91m╸\u001b[0m\u001b[90m━━━━━━━━━\u001b[0m \u001b[35m13.9%\u001b[0m • \u001b[32m7.2/51.7  \u001b[0m • \u001b[31m2.6 MB/s\u001b[0m • \u001b[36m0:00:18\u001b[0m\n",
      "\u001b[2K\u001b[1A\u001b[2K\u001b[1;34msubmission_task1_ALS.parquet\u001b[0m \u001b[91m━\u001b[0m\u001b[91m╸\u001b[0m\u001b[90m━━━━━━━━━\u001b[0m \u001b[35m13.9%\u001b[0m • \u001b[32m7.2/51.7  \u001b[0m • \u001b[31m2.6 MB/s\u001b[0m • \u001b[36m0:00:18\u001b[0m\n",
      "\u001b[2K\u001b[1A\u001b[2K\u001b[1;34msubmission_task1_ALS.parquet\u001b[0m \u001b[91m━\u001b[0m\u001b[91m╸\u001b[0m\u001b[90m━━━━━━━━━\u001b[0m \u001b[35m13.9%\u001b[0m • \u001b[32m7.2/51.7  \u001b[0m • \u001b[31m2.6 MB/s\u001b[0m • \u001b[36m0:00:18\u001b[0m\n",
      "\u001b[2K\u001b[1A\u001b[2K\u001b[1;34msubmission_task1_ALS.parquet\u001b[0m \u001b[91m━\u001b[0m\u001b[91m╸\u001b[0m\u001b[90m━━━━━━━━━\u001b[0m \u001b[35m13.9%\u001b[0m • \u001b[32m7.2/51.7  \u001b[0m • \u001b[31m2.6 MB/s\u001b[0m • \u001b[36m0:00:18\u001b[0m\n",
      "\u001b[2K\u001b[1A\u001b[2K\u001b[1;34msubmission_task1_ALS.parquet\u001b[0m \u001b[91m━\u001b[0m\u001b[91m╸\u001b[0m\u001b[90m━━━━━━━━━\u001b[0m \u001b[35m13.9%\u001b[0m • \u001b[32m7.2/51.7  \u001b[0m • \u001b[31m2.6 MB/s\u001b[0m • \u001b[36m0:00:18\u001b[0m\n",
      "\u001b[2K\u001b[1A\u001b[2K\u001b[1;34msubmission_task1_ALS.parquet\u001b[0m \u001b[91m━\u001b[0m\u001b[91m╸\u001b[0m\u001b[90m━━━━━━━━━\u001b[0m \u001b[35m13.9%\u001b[0m • \u001b[32m7.2/51.7  \u001b[0m • \u001b[31m2.6 MB/s\u001b[0m • \u001b[36m0:00:18\u001b[0m\n",
      "\u001b[2K\u001b[1A\u001b[2K\u001b[1;34msubmission_task1_ALS.parquet\u001b[0m \u001b[91m━\u001b[0m\u001b[91m╸\u001b[0m\u001b[90m━━━━━━━━━\u001b[0m \u001b[35m14.0%\u001b[0m • \u001b[32m7.2/51.7  \u001b[0m • \u001b[31m2.6 MB/s\u001b[0m • \u001b[36m0:00:18\u001b[0m\n",
      "\u001b[2K\u001b[1A\u001b[2K\u001b[1;34msubmission_task1_ALS.parquet\u001b[0m \u001b[91m━\u001b[0m\u001b[91m╸\u001b[0m\u001b[90m━━━━━━━━━\u001b[0m \u001b[35m14.0%\u001b[0m • \u001b[32m7.2/51.7  \u001b[0m • \u001b[31m2.6 MB/s\u001b[0m • \u001b[36m0:00:18\u001b[0m\n",
      "\u001b[2K\u001b[1A\u001b[2K\u001b[1;34msubmission_task1_ALS.parquet\u001b[0m \u001b[91m━\u001b[0m\u001b[91m╸\u001b[0m\u001b[90m━━━━━━━━━\u001b[0m \u001b[35m14.0%\u001b[0m • \u001b[32m7.2/51.7  \u001b[0m • \u001b[31m2.6 MB/s\u001b[0m • \u001b[36m0:00:18\u001b[0m\n",
      "\u001b[2K\u001b[1A\u001b[2K\u001b[1;34msubmission_task1_ALS.parquet\u001b[0m \u001b[91m━\u001b[0m\u001b[91m╸\u001b[0m\u001b[90m━━━━━━━━━\u001b[0m \u001b[35m14.0%\u001b[0m • \u001b[32m7.2/51.7  \u001b[0m • \u001b[31m2.6 MB/s\u001b[0m • \u001b[36m0:00:18\u001b[0m\n",
      "\u001b[2K\u001b[1A\u001b[2K\u001b[1;34msubmission_task1_ALS.parquet\u001b[0m \u001b[91m━\u001b[0m\u001b[91m╸\u001b[0m\u001b[90m━━━━━━━━━\u001b[0m \u001b[35m14.0%\u001b[0m • \u001b[32m7.2/51.7  \u001b[0m • \u001b[31m2.6 MB/s\u001b[0m • \u001b[36m0:00:18\u001b[0m\n",
      "\u001b[2K\u001b[1A\u001b[2K\u001b[1;34msubmission_task1_ALS.parquet\u001b[0m \u001b[91m━\u001b[0m\u001b[91m╸\u001b[0m\u001b[90m━━━━━━━━━\u001b[0m \u001b[35m14.0%\u001b[0m • \u001b[32m7.3/51.7  \u001b[0m • \u001b[31m2.6 MB/s\u001b[0m • \u001b[36m0:00:18\u001b[0m\n",
      "\u001b[2K\u001b[1A\u001b[2K\u001b[1;34msubmission_task1_ALS.parquet\u001b[0m \u001b[91m━\u001b[0m\u001b[91m╸\u001b[0m\u001b[90m━━━━━━━━━\u001b[0m \u001b[35m14.0%\u001b[0m • \u001b[32m7.3/51.7  \u001b[0m • \u001b[31m2.6 MB/s\u001b[0m • \u001b[36m0:00:18\u001b[0m\n",
      "\u001b[2K\u001b[1A\u001b[2K\u001b[1;34msubmission_task1_ALS.parquet\u001b[0m \u001b[91m━\u001b[0m\u001b[91m╸\u001b[0m\u001b[90m━━━━━━━━━\u001b[0m \u001b[35m14.1%\u001b[0m • \u001b[32m7.3/51.7  \u001b[0m • \u001b[31m2.6 MB/s\u001b[0m • \u001b[36m0:00:18\u001b[0m\n",
      "\u001b[2K\u001b[1A\u001b[2K\u001b[1;34msubmission_task1_ALS.parquet\u001b[0m \u001b[91m━\u001b[0m\u001b[91m╸\u001b[0m\u001b[90m━━━━━━━━━\u001b[0m \u001b[35m14.1%\u001b[0m • \u001b[32m7.3/51.7  \u001b[0m • \u001b[31m2.6 MB/s\u001b[0m • \u001b[36m0:00:18\u001b[0m\n",
      "\u001b[2K\u001b[1A\u001b[2K\u001b[1;34msubmission_task1_ALS.parquet\u001b[0m \u001b[91m━\u001b[0m\u001b[91m╸\u001b[0m\u001b[90m━━━━━━━━━\u001b[0m \u001b[35m14.1%\u001b[0m • \u001b[32m7.3/51.7  \u001b[0m • \u001b[31m2.6 MB/s\u001b[0m • \u001b[36m0:00:18\u001b[0m\n",
      "\u001b[2K\u001b[1A\u001b[2K\u001b[1;34msubmission_task1_ALS.parquet\u001b[0m \u001b[91m━\u001b[0m\u001b[91m╸\u001b[0m\u001b[90m━━━━━━━━━\u001b[0m \u001b[35m14.1%\u001b[0m • \u001b[32m7.3/51.7  \u001b[0m • \u001b[31m2.6 MB/s\u001b[0m • \u001b[36m0:00:18\u001b[0m\n",
      "\u001b[2K\u001b[1A\u001b[2K\u001b[1;34msubmission_task1_ALS.parquet\u001b[0m \u001b[91m━\u001b[0m\u001b[91m╸\u001b[0m\u001b[90m━━━━━━━━━\u001b[0m \u001b[35m14.1%\u001b[0m • \u001b[32m7.3/51.7  \u001b[0m • \u001b[31m2.6 MB/s\u001b[0m • \u001b[36m0:00:18\u001b[0m\n",
      "\u001b[2K\u001b[1A\u001b[2K\u001b[1;34msubmission_task1_ALS.parquet\u001b[0m \u001b[91m━\u001b[0m\u001b[91m╸\u001b[0m\u001b[90m━━━━━━━━━\u001b[0m \u001b[35m14.1%\u001b[0m • \u001b[32m7.3/51.7  \u001b[0m • \u001b[31m2.6 MB/s\u001b[0m • \u001b[36m0:00:18\u001b[0m\n",
      "\u001b[2K\u001b[1A\u001b[2K\u001b[1;34msubmission_task1_ALS.parquet\u001b[0m \u001b[91m━\u001b[0m\u001b[91m╸\u001b[0m\u001b[90m━━━━━━━━━\u001b[0m \u001b[35m14.2%\u001b[0m • \u001b[32m7.3/51.7  \u001b[0m • \u001b[31m2.6 MB/s\u001b[0m • \u001b[36m0:00:18\u001b[0m\n",
      "\u001b[2K\u001b[1A\u001b[2K\u001b[1;34msubmission_task1_ALS.parquet\u001b[0m \u001b[91m━\u001b[0m\u001b[91m╸\u001b[0m\u001b[90m━━━━━━━━━\u001b[0m \u001b[35m14.2%\u001b[0m • \u001b[32m7.3/51.7  \u001b[0m • \u001b[31m2.6 MB/s\u001b[0m • \u001b[36m0:00:18\u001b[0m\n",
      "\u001b[2K\u001b[1A\u001b[2K\u001b[1;34msubmission_task1_ALS.parquet\u001b[0m \u001b[91m━\u001b[0m\u001b[91m╸\u001b[0m\u001b[90m━━━━━━━━━\u001b[0m \u001b[35m14.2%\u001b[0m • \u001b[32m7.3/51.7  \u001b[0m • \u001b[31m2.6 MB/s\u001b[0m • \u001b[36m0:00:18\u001b[0m\n",
      "\u001b[2K\u001b[1A\u001b[2K\u001b[1;34msubmission_task1_ALS.parquet\u001b[0m \u001b[91m━\u001b[0m\u001b[91m╸\u001b[0m\u001b[90m━━━━━━━━━\u001b[0m \u001b[35m14.2%\u001b[0m • \u001b[32m7.3/51.7  \u001b[0m • \u001b[31m2.6 MB/s\u001b[0m • \u001b[36m0:00:18\u001b[0m\n",
      "\u001b[2K\u001b[1A\u001b[2K\u001b[1;34msubmission_task1_ALS.parquet\u001b[0m \u001b[91m━\u001b[0m\u001b[91m╸\u001b[0m\u001b[90m━━━━━━━━━\u001b[0m \u001b[35m14.2%\u001b[0m • \u001b[32m7.3/51.7  \u001b[0m • \u001b[31m2.6 MB/s\u001b[0m • \u001b[36m0:00:18\u001b[0m\n",
      "\u001b[2K\u001b[1A\u001b[2K\u001b[1;34msubmission_task1_ALS.parquet\u001b[0m \u001b[91m━\u001b[0m\u001b[91m╸\u001b[0m\u001b[90m━━━━━━━━━\u001b[0m \u001b[35m14.2%\u001b[0m • \u001b[32m7.4/51.7  \u001b[0m • \u001b[31m2.6 MB/s\u001b[0m • \u001b[36m0:00:18\u001b[0m\n",
      "\u001b[2K\u001b[1A\u001b[2K\u001b[1;34msubmission_task1_ALS.parquet\u001b[0m \u001b[91m━\u001b[0m\u001b[91m╸\u001b[0m\u001b[90m━━━━━━━━━\u001b[0m \u001b[35m14.2%\u001b[0m • \u001b[32m7.4/51.7  \u001b[0m • \u001b[31m2.6 MB/s\u001b[0m • \u001b[36m0:00:18\u001b[0m\n",
      "\u001b[2K\u001b[1A\u001b[2K\u001b[1;34msubmission_task1_ALS.parquet\u001b[0m \u001b[91m━\u001b[0m\u001b[91m╸\u001b[0m\u001b[90m━━━━━━━━━\u001b[0m \u001b[35m14.3%\u001b[0m • \u001b[32m7.4/51.7  \u001b[0m • \u001b[31m2.6 MB/s\u001b[0m • \u001b[36m0:00:18\u001b[0m\n",
      "\u001b[2K\u001b[1A\u001b[2K\u001b[1;34msubmission_task1_ALS.parquet\u001b[0m \u001b[91m━\u001b[0m\u001b[91m╸\u001b[0m\u001b[90m━━━━━━━━━\u001b[0m \u001b[35m14.3%\u001b[0m • \u001b[32m7.4/51.7  \u001b[0m • \u001b[31m2.6 MB/s\u001b[0m • \u001b[36m0:00:18\u001b[0m\n",
      "\u001b[2K\u001b[1A\u001b[2K\u001b[1;34msubmission_task1_ALS.parquet\u001b[0m \u001b[91m━\u001b[0m\u001b[91m╸\u001b[0m\u001b[90m━━━━━━━━━\u001b[0m \u001b[35m14.3%\u001b[0m • \u001b[32m7.4/51.7  \u001b[0m • \u001b[31m2.6 MB/s\u001b[0m • \u001b[36m0:00:18\u001b[0m\n",
      "\u001b[2K\u001b[1A\u001b[2K\u001b[1;34msubmission_task1_ALS.parquet\u001b[0m \u001b[91m━\u001b[0m\u001b[91m╸\u001b[0m\u001b[90m━━━━━━━━━\u001b[0m \u001b[35m14.3%\u001b[0m • \u001b[32m7.4/51.7  \u001b[0m • \u001b[31m2.6 MB/s\u001b[0m • \u001b[36m0:00:18\u001b[0m\n",
      "\u001b[2K\u001b[1A\u001b[2K\u001b[1;34msubmission_task1_ALS.parquet\u001b[0m \u001b[91m━\u001b[0m\u001b[91m╸\u001b[0m\u001b[90m━━━━━━━━━\u001b[0m \u001b[35m14.3%\u001b[0m • \u001b[32m7.4/51.7  \u001b[0m • \u001b[31m2.6 MB/s\u001b[0m • \u001b[36m0:00:18\u001b[0m\n",
      "\u001b[2K\u001b[1A\u001b[2K\u001b[1;34msubmission_task1_ALS.parquet\u001b[0m \u001b[91m━\u001b[0m\u001b[91m╸\u001b[0m\u001b[90m━━━━━━━━━\u001b[0m \u001b[35m14.3%\u001b[0m • \u001b[32m7.4/51.7  \u001b[0m • \u001b[31m2.6 MB/s\u001b[0m • \u001b[36m0:00:18\u001b[0m\n",
      "\u001b[2K\u001b[1A\u001b[2K\u001b[1;34msubmission_task1_ALS.parquet\u001b[0m \u001b[91m━\u001b[0m\u001b[91m╸\u001b[0m\u001b[90m━━━━━━━━━\u001b[0m \u001b[35m14.3%\u001b[0m • \u001b[32m7.4/51.7  \u001b[0m • \u001b[31m2.6 MB/s\u001b[0m • \u001b[36m0:00:18\u001b[0m\n",
      "\u001b[2K\u001b[1A\u001b[2K\u001b[1;34msubmission_task1_ALS.parquet\u001b[0m \u001b[91m━\u001b[0m\u001b[91m╸\u001b[0m\u001b[90m━━━━━━━━━\u001b[0m \u001b[35m14.4%\u001b[0m • \u001b[32m7.4/51.7  \u001b[0m • \u001b[31m2.6 MB/s\u001b[0m • \u001b[36m0:00:18\u001b[0m\n",
      "\u001b[2K\u001b[1A\u001b[2K\u001b[1;34msubmission_task1_ALS.parquet\u001b[0m \u001b[91m━\u001b[0m\u001b[91m╸\u001b[0m\u001b[90m━━━━━━━━━\u001b[0m \u001b[35m14.4%\u001b[0m • \u001b[32m7.4/51.7  \u001b[0m • \u001b[31m2.6 MB/s\u001b[0m • \u001b[36m0:00:18\u001b[0m\n",
      "\u001b[2K\u001b[1A\u001b[2K\u001b[1;34msubmission_task1_ALS.parquet\u001b[0m \u001b[91m━\u001b[0m\u001b[91m╸\u001b[0m\u001b[90m━━━━━━━━━\u001b[0m \u001b[35m14.4%\u001b[0m • \u001b[32m7.4/51.7  \u001b[0m • \u001b[31m2.6 MB/s\u001b[0m • \u001b[36m0:00:18\u001b[0m\n",
      "\u001b[2K\u001b[1A\u001b[2K\u001b[1;34msubmission_task1_ALS.parquet\u001b[0m \u001b[91m━\u001b[0m\u001b[91m╸\u001b[0m\u001b[90m━━━━━━━━━\u001b[0m \u001b[35m14.4%\u001b[0m • \u001b[32m7.5/51.7  \u001b[0m • \u001b[31m2.6 MB/s\u001b[0m • \u001b[36m0:00:18\u001b[0m\n",
      "\u001b[2K\u001b[1A\u001b[2K\u001b[1;34msubmission_task1_ALS.parquet\u001b[0m \u001b[91m━\u001b[0m\u001b[91m╸\u001b[0m\u001b[90m━━━━━━━━━\u001b[0m \u001b[35m14.4%\u001b[0m • \u001b[32m7.5/51.7  \u001b[0m • \u001b[31m2.6 MB/s\u001b[0m • \u001b[36m0:00:18\u001b[0m\n",
      "\u001b[2K\u001b[1A\u001b[2K\u001b[1;34msubmission_task1_ALS.parquet\u001b[0m \u001b[91m━\u001b[0m\u001b[91m╸\u001b[0m\u001b[90m━━━━━━━━━\u001b[0m \u001b[35m14.4%\u001b[0m • \u001b[32m7.5/51.7  \u001b[0m • \u001b[31m2.6 MB/s\u001b[0m • \u001b[36m0:00:18\u001b[0m\n",
      "\u001b[2K\u001b[1A\u001b[2K\u001b[1;34msubmission_task1_ALS.parquet\u001b[0m \u001b[91m━\u001b[0m\u001b[91m╸\u001b[0m\u001b[90m━━━━━━━━━\u001b[0m \u001b[35m14.5%\u001b[0m • \u001b[32m7.5/51.7  \u001b[0m • \u001b[31m2.6 MB/s\u001b[0m • \u001b[36m0:00:18\u001b[0m\n",
      "\u001b[2K\u001b[1A\u001b[2K\u001b[1;34msubmission_task1_ALS.parquet\u001b[0m \u001b[91m━\u001b[0m\u001b[91m╸\u001b[0m\u001b[90m━━━━━━━━━\u001b[0m \u001b[35m14.5%\u001b[0m • \u001b[32m7.5/51.7  \u001b[0m • \u001b[31m2.6 MB/s\u001b[0m • \u001b[36m0:00:18\u001b[0m\n",
      "\u001b[2K\u001b[1A\u001b[2K\u001b[1;34msubmission_task1_ALS.parquet\u001b[0m \u001b[91m━\u001b[0m\u001b[91m╸\u001b[0m\u001b[90m━━━━━━━━━\u001b[0m \u001b[35m14.5%\u001b[0m • \u001b[32m7.5/51.7  \u001b[0m • \u001b[31m2.6 MB/s\u001b[0m • \u001b[36m0:00:18\u001b[0m\n",
      "\u001b[2K\u001b[1A\u001b[2K\u001b[1;34msubmission_task1_ALS.parquet\u001b[0m \u001b[91m━\u001b[0m\u001b[91m╸\u001b[0m\u001b[90m━━━━━━━━━\u001b[0m \u001b[35m14.5%\u001b[0m • \u001b[32m7.5/51.7  \u001b[0m • \u001b[31m2.6 MB/s\u001b[0m • \u001b[36m0:00:18\u001b[0m\n",
      "\u001b[2K\u001b[1A\u001b[2K\u001b[1;34msubmission_task1_ALS.parquet\u001b[0m \u001b[91m━\u001b[0m\u001b[91m╸\u001b[0m\u001b[90m━━━━━━━━━\u001b[0m \u001b[35m14.5%\u001b[0m • \u001b[32m7.5/51.7  \u001b[0m • \u001b[31m2.6 MB/s\u001b[0m • \u001b[36m0:00:18\u001b[0m\n",
      "\u001b[2K\u001b[1A\u001b[2K\u001b[1;34msubmission_task1_ALS.parquet\u001b[0m \u001b[91m━\u001b[0m\u001b[91m╸\u001b[0m\u001b[90m━━━━━━━━━\u001b[0m \u001b[35m14.5%\u001b[0m • \u001b[32m7.5/51.7  \u001b[0m • \u001b[31m2.6 MB/s\u001b[0m • \u001b[36m0:00:18\u001b[0m\n",
      "\u001b[2K\u001b[1A\u001b[2K\u001b[1;34msubmission_task1_ALS.parquet\u001b[0m \u001b[91m━\u001b[0m\u001b[91m╸\u001b[0m\u001b[90m━━━━━━━━━\u001b[0m \u001b[35m14.6%\u001b[0m • \u001b[32m7.5/51.7  \u001b[0m • \u001b[31m2.6 MB/s\u001b[0m • \u001b[36m0:00:18\u001b[0m\n",
      "\u001b[2K\u001b[1A\u001b[2K\u001b[1;34msubmission_task1_ALS.parquet\u001b[0m \u001b[91m━\u001b[0m\u001b[91m╸\u001b[0m\u001b[90m━━━━━━━━━\u001b[0m \u001b[35m14.6%\u001b[0m • \u001b[32m7.5/51.7  \u001b[0m • \u001b[31m2.6 MB/s\u001b[0m • \u001b[36m0:00:18\u001b[0m\n",
      "\u001b[2K\u001b[1A\u001b[2K\u001b[1;34msubmission_task1_ALS.parquet\u001b[0m \u001b[91m━\u001b[0m\u001b[91m╸\u001b[0m\u001b[90m━━━━━━━━━\u001b[0m \u001b[35m14.6%\u001b[0m • \u001b[32m7.5/51.7  \u001b[0m • \u001b[31m2.6 MB/s\u001b[0m • \u001b[36m0:00:18\u001b[0m\n",
      "\u001b[2K\u001b[1A\u001b[2K\u001b[1;34msubmission_task1_ALS.parquet\u001b[0m \u001b[91m━\u001b[0m\u001b[91m╸\u001b[0m\u001b[90m━━━━━━━━━\u001b[0m \u001b[35m14.6%\u001b[0m • \u001b[32m7.6/51.7  \u001b[0m • \u001b[31m2.6 MB/s\u001b[0m • \u001b[36m0:00:17\u001b[0m\n",
      "\u001b[2K\u001b[1A\u001b[2K\u001b[1;34msubmission_task1_ALS.parquet\u001b[0m \u001b[91m━\u001b[0m\u001b[91m╸\u001b[0m\u001b[90m━━━━━━━━━\u001b[0m \u001b[35m14.6%\u001b[0m • \u001b[32m7.6/51.7  \u001b[0m • \u001b[31m2.6 MB/s\u001b[0m • \u001b[36m0:00:17\u001b[0m\n",
      "\u001b[2K\u001b[1A\u001b[2K\u001b[1;34msubmission_task1_ALS.parquet\u001b[0m \u001b[91m━\u001b[0m\u001b[91m╸\u001b[0m\u001b[90m━━━━━━━━━\u001b[0m \u001b[35m14.6%\u001b[0m • \u001b[32m7.6/51.7  \u001b[0m • \u001b[31m2.6 MB/s\u001b[0m • \u001b[36m0:00:17\u001b[0m\n",
      "\u001b[2K\u001b[1A\u001b[2K\u001b[1;34msubmission_task1_ALS.parquet\u001b[0m \u001b[91m━\u001b[0m\u001b[91m╸\u001b[0m\u001b[90m━━━━━━━━━\u001b[0m \u001b[35m14.7%\u001b[0m • \u001b[32m7.6/51.7  \u001b[0m • \u001b[31m2.6 MB/s\u001b[0m • \u001b[36m0:00:17\u001b[0m\n",
      "\u001b[2K\u001b[1A\u001b[2K\u001b[1;34msubmission_task1_ALS.parquet\u001b[0m \u001b[91m━\u001b[0m\u001b[91m╸\u001b[0m\u001b[90m━━━━━━━━━\u001b[0m \u001b[35m14.7%\u001b[0m • \u001b[32m7.6/51.7  \u001b[0m • \u001b[31m2.6 MB/s\u001b[0m • \u001b[36m0:00:17\u001b[0m\n",
      "\u001b[2K\u001b[1A\u001b[2K\u001b[1;34msubmission_task1_ALS.parquet\u001b[0m \u001b[91m━\u001b[0m\u001b[91m╸\u001b[0m\u001b[90m━━━━━━━━━\u001b[0m \u001b[35m14.7%\u001b[0m • \u001b[32m7.6/51.7  \u001b[0m • \u001b[31m2.6 MB/s\u001b[0m • \u001b[36m0:00:17\u001b[0m\n",
      "\u001b[2K\u001b[1A\u001b[2K\u001b[1;34msubmission_task1_ALS.parquet\u001b[0m \u001b[91m━\u001b[0m\u001b[91m╸\u001b[0m\u001b[90m━━━━━━━━━\u001b[0m \u001b[35m14.7%\u001b[0m • \u001b[32m7.6/51.7  \u001b[0m • \u001b[31m2.6 MB/s\u001b[0m • \u001b[36m0:00:17\u001b[0m\n",
      "\u001b[2K\u001b[1A\u001b[2K\u001b[1;34msubmission_task1_ALS.parquet\u001b[0m \u001b[91m━\u001b[0m\u001b[91m╸\u001b[0m\u001b[90m━━━━━━━━━\u001b[0m \u001b[35m14.7%\u001b[0m • \u001b[32m7.6/51.7  \u001b[0m • \u001b[31m2.6 MB/s\u001b[0m • \u001b[36m0:00:17\u001b[0m\n",
      "\u001b[2K\u001b[1A\u001b[2K\u001b[1;34msubmission_task1_ALS.parquet\u001b[0m \u001b[91m━\u001b[0m\u001b[91m╸\u001b[0m\u001b[90m━━━━━━━━━\u001b[0m \u001b[35m14.7%\u001b[0m • \u001b[32m7.6/51.7  \u001b[0m • \u001b[31m2.6 MB/s\u001b[0m • \u001b[36m0:00:17\u001b[0m\n",
      "\u001b[2K\u001b[1A\u001b[2K\u001b[1;34msubmission_task1_ALS.parquet\u001b[0m \u001b[91m━\u001b[0m\u001b[91m╸\u001b[0m\u001b[90m━━━━━━━━━\u001b[0m \u001b[35m14.7%\u001b[0m • \u001b[32m7.6/51.7  \u001b[0m • \u001b[31m2.6 MB/s\u001b[0m • \u001b[36m0:00:17\u001b[0m\n",
      "\u001b[2K\u001b[1A\u001b[2K\u001b[1;34msubmission_task1_ALS.parquet\u001b[0m \u001b[91m━\u001b[0m\u001b[91m╸\u001b[0m\u001b[90m━━━━━━━━━\u001b[0m \u001b[35m14.8%\u001b[0m • \u001b[32m7.6/51.7  \u001b[0m • \u001b[31m2.6 MB/s\u001b[0m • \u001b[36m0:00:17\u001b[0m\n",
      "\u001b[2K\u001b[1A\u001b[2K\u001b[1;34msubmission_task1_ALS.parquet\u001b[0m \u001b[91m━\u001b[0m\u001b[91m╸\u001b[0m\u001b[90m━━━━━━━━━\u001b[0m \u001b[35m14.8%\u001b[0m • \u001b[32m7.6/51.7  \u001b[0m • \u001b[31m2.6 MB/s\u001b[0m • \u001b[36m0:00:17\u001b[0m\n",
      "\u001b[2K\u001b[1A\u001b[2K\u001b[1;34msubmission_task1_ALS.parquet\u001b[0m \u001b[91m━\u001b[0m\u001b[91m╸\u001b[0m\u001b[90m━━━━━━━━━\u001b[0m \u001b[35m14.8%\u001b[0m • \u001b[32m7.7/51.7  \u001b[0m • \u001b[31m2.6 MB/s\u001b[0m • \u001b[36m0:00:17\u001b[0m\n",
      "\u001b[2K\u001b[1A\u001b[2K\u001b[1;34msubmission_task1_ALS.parquet\u001b[0m \u001b[91m━\u001b[0m\u001b[91m╸\u001b[0m\u001b[90m━━━━━━━━━\u001b[0m \u001b[35m14.8%\u001b[0m • \u001b[32m7.7/51.7  \u001b[0m • \u001b[31m2.6 MB/s\u001b[0m • \u001b[36m0:00:17\u001b[0m\n",
      "\u001b[2K\u001b[1A\u001b[2K\u001b[1;34msubmission_task1_ALS.parquet\u001b[0m \u001b[91m━\u001b[0m\u001b[91m╸\u001b[0m\u001b[90m━━━━━━━━━\u001b[0m \u001b[35m14.8%\u001b[0m • \u001b[32m7.7/51.7  \u001b[0m • \u001b[31m2.6 MB/s\u001b[0m • \u001b[36m0:00:17\u001b[0m\n",
      "\u001b[2K\u001b[1A\u001b[2K\u001b[1;34msubmission_task1_ALS.parquet\u001b[0m \u001b[91m━\u001b[0m\u001b[91m╸\u001b[0m\u001b[90m━━━━━━━━━\u001b[0m \u001b[35m14.8%\u001b[0m • \u001b[32m7.7/51.7  \u001b[0m • \u001b[31m2.6 MB/s\u001b[0m • \u001b[36m0:00:17\u001b[0m\n",
      "\u001b[2K\u001b[1A\u001b[2K\u001b[1;34msubmission_task1_ALS.parquet\u001b[0m \u001b[91m━\u001b[0m\u001b[91m╸\u001b[0m\u001b[90m━━━━━━━━━\u001b[0m \u001b[35m14.8%\u001b[0m • \u001b[32m7.7/51.7  \u001b[0m • \u001b[31m2.6 MB/s\u001b[0m • \u001b[36m0:00:17\u001b[0m\n",
      "\u001b[2K\u001b[1A\u001b[2K\u001b[1;34msubmission_task1_ALS.parquet\u001b[0m \u001b[91m━\u001b[0m\u001b[91m╸\u001b[0m\u001b[90m━━━━━━━━━\u001b[0m \u001b[35m14.9%\u001b[0m • \u001b[32m7.7/51.7  \u001b[0m • \u001b[31m2.6 MB/s\u001b[0m • \u001b[36m0:00:17\u001b[0m\n",
      "\u001b[2K\u001b[1A\u001b[2K\u001b[1;34msubmission_task1_ALS.parquet\u001b[0m \u001b[91m━\u001b[0m\u001b[91m╸\u001b[0m\u001b[90m━━━━━━━━━\u001b[0m \u001b[35m14.9%\u001b[0m • \u001b[32m7.7/51.7  \u001b[0m • \u001b[31m2.6 MB/s\u001b[0m • \u001b[36m0:00:17\u001b[0m\n",
      "\u001b[2K\u001b[1A\u001b[2K\u001b[1;34msubmission_task1_ALS.parquet\u001b[0m \u001b[91m━\u001b[0m\u001b[91m╸\u001b[0m\u001b[90m━━━━━━━━━\u001b[0m \u001b[35m14.9%\u001b[0m • \u001b[32m7.7/51.7  \u001b[0m • \u001b[31m2.6 MB/s\u001b[0m • \u001b[36m0:00:17\u001b[0m\n",
      "\u001b[2K\u001b[1A\u001b[2K\u001b[1;34msubmission_task1_ALS.parquet\u001b[0m \u001b[91m━\u001b[0m\u001b[91m╸\u001b[0m\u001b[90m━━━━━━━━━\u001b[0m \u001b[35m14.9%\u001b[0m • \u001b[32m7.7/51.7  \u001b[0m • \u001b[31m2.6 MB/s\u001b[0m • \u001b[36m0:00:17\u001b[0m\n",
      "\u001b[2K\u001b[1A\u001b[2K\u001b[1;34msubmission_task1_ALS.parquet\u001b[0m \u001b[91m━\u001b[0m\u001b[91m╸\u001b[0m\u001b[90m━━━━━━━━━\u001b[0m \u001b[35m14.9%\u001b[0m • \u001b[32m7.7/51.7  \u001b[0m • \u001b[31m2.6 MB/s\u001b[0m • \u001b[36m0:00:17\u001b[0m\n",
      "\u001b[2K\u001b[1A\u001b[2K\u001b[1;34msubmission_task1_ALS.parquet\u001b[0m \u001b[91m━\u001b[0m\u001b[91m╸\u001b[0m\u001b[90m━━━━━━━━━\u001b[0m \u001b[35m14.9%\u001b[0m • \u001b[32m7.7/51.7  \u001b[0m • \u001b[31m2.6 MB/s\u001b[0m • \u001b[36m0:00:17\u001b[0m\n",
      "\u001b[2K\u001b[1A\u001b[2K\u001b[1;34msubmission_task1_ALS.parquet\u001b[0m \u001b[91m━\u001b[0m\u001b[91m╸\u001b[0m\u001b[90m━━━━━━━━━\u001b[0m \u001b[35m15.0%\u001b[0m • \u001b[32m7.7/51.7  \u001b[0m • \u001b[31m2.6 MB/s\u001b[0m • \u001b[36m0:00:17\u001b[0m\n",
      "\u001b[2K\u001b[1A\u001b[2K\u001b[1;34msubmission_task1_ALS.parquet\u001b[0m \u001b[91m━\u001b[0m\u001b[91m╸\u001b[0m\u001b[90m━━━━━━━━━\u001b[0m \u001b[35m15.0%\u001b[0m • \u001b[32m7.7/51.7  \u001b[0m • \u001b[31m2.6 MB/s\u001b[0m • \u001b[36m0:00:17\u001b[0m\n",
      "\u001b[2K\u001b[1A\u001b[2K\u001b[1;34msubmission_task1_ALS.parquet\u001b[0m \u001b[91m━\u001b[0m\u001b[91m╸\u001b[0m\u001b[90m━━━━━━━━━\u001b[0m \u001b[35m15.0%\u001b[0m • \u001b[32m7.7/51.7  \u001b[0m • \u001b[31m2.6 MB/s\u001b[0m • \u001b[36m0:00:17\u001b[0m\n",
      "\u001b[2K\u001b[1A\u001b[2K\u001b[1;34msubmission_task1_ALS.parquet\u001b[0m \u001b[91m━\u001b[0m\u001b[91m╸\u001b[0m\u001b[90m━━━━━━━━━\u001b[0m \u001b[35m15.0%\u001b[0m • \u001b[32m7.8/51.7  \u001b[0m • \u001b[31m2.6 MB/s\u001b[0m • \u001b[36m0:00:17\u001b[0m\n",
      "\u001b[2K\u001b[1A\u001b[2K\u001b[1;34msubmission_task1_ALS.parquet\u001b[0m \u001b[91m━\u001b[0m\u001b[91m╸\u001b[0m\u001b[90m━━━━━━━━━\u001b[0m \u001b[35m15.0%\u001b[0m • \u001b[32m7.8/51.7  \u001b[0m • \u001b[31m2.6 MB/s\u001b[0m • \u001b[36m0:00:17\u001b[0m\n",
      "\u001b[2K\u001b[1A\u001b[2K\u001b[1;34msubmission_task1_ALS.parquet\u001b[0m \u001b[91m━\u001b[0m\u001b[91m╸\u001b[0m\u001b[90m━━━━━━━━━\u001b[0m \u001b[35m15.0%\u001b[0m • \u001b[32m7.8/51.7  \u001b[0m • \u001b[31m2.6 MB/s\u001b[0m • \u001b[36m0:00:17\u001b[0m\n",
      "\u001b[2K\u001b[1A\u001b[2K\u001b[1;34msubmission_task1_ALS.parquet\u001b[0m \u001b[91m━\u001b[0m\u001b[91m╸\u001b[0m\u001b[90m━━━━━━━━━\u001b[0m \u001b[35m15.0%\u001b[0m • \u001b[32m7.8/51.7  \u001b[0m • \u001b[31m2.6 MB/s\u001b[0m • \u001b[36m0:00:17\u001b[0m\n",
      "\u001b[2K\u001b[1A\u001b[2K\u001b[1;34msubmission_task1_ALS.parquet\u001b[0m \u001b[91m━\u001b[0m\u001b[91m╸\u001b[0m\u001b[90m━━━━━━━━━\u001b[0m \u001b[35m15.1%\u001b[0m • \u001b[32m7.8/51.7  \u001b[0m • \u001b[31m2.6 MB/s\u001b[0m • \u001b[36m0:00:17\u001b[0m\n",
      "\u001b[2K\u001b[1A\u001b[2K\u001b[1;34msubmission_task1_ALS.parquet\u001b[0m \u001b[91m━\u001b[0m\u001b[91m╸\u001b[0m\u001b[90m━━━━━━━━━\u001b[0m \u001b[35m15.1%\u001b[0m • \u001b[32m7.8/51.7  \u001b[0m • \u001b[31m2.6 MB/s\u001b[0m • \u001b[36m0:00:17\u001b[0m\n",
      "\u001b[2K\u001b[1A\u001b[2K\u001b[1;34msubmission_task1_ALS.parquet\u001b[0m \u001b[91m━\u001b[0m\u001b[91m╸\u001b[0m\u001b[90m━━━━━━━━━\u001b[0m \u001b[35m15.1%\u001b[0m • \u001b[32m7.8/51.7  \u001b[0m • \u001b[31m2.6 MB/s\u001b[0m • \u001b[36m0:00:17\u001b[0m\n",
      "\u001b[2K\u001b[1A\u001b[2K\u001b[1;34msubmission_task1_ALS.parquet\u001b[0m \u001b[91m━\u001b[0m\u001b[91m╸\u001b[0m\u001b[90m━━━━━━━━━\u001b[0m \u001b[35m15.1%\u001b[0m • \u001b[32m7.8/51.7  \u001b[0m • \u001b[31m2.6 MB/s\u001b[0m • \u001b[36m0:00:17\u001b[0m\n",
      "\u001b[2K\u001b[1A\u001b[2K\u001b[1;34msubmission_task1_ALS.parquet\u001b[0m \u001b[91m━\u001b[0m\u001b[91m╸\u001b[0m\u001b[90m━━━━━━━━━\u001b[0m \u001b[35m15.1%\u001b[0m • \u001b[32m7.8/51.7  \u001b[0m • \u001b[31m2.6 MB/s\u001b[0m • \u001b[36m0:00:17\u001b[0m\n",
      "\u001b[2K\u001b[1A\u001b[2K\u001b[1;34msubmission_task1_ALS.parquet\u001b[0m \u001b[91m━\u001b[0m\u001b[91m╸\u001b[0m\u001b[90m━━━━━━━━━\u001b[0m \u001b[35m15.1%\u001b[0m • \u001b[32m7.8/51.7  \u001b[0m • \u001b[31m2.6 MB/s\u001b[0m • \u001b[36m0:00:17\u001b[0m\n",
      "\u001b[2K\u001b[1A\u001b[2K\u001b[1;34msubmission_task1_ALS.parquet\u001b[0m \u001b[91m━\u001b[0m\u001b[91m╸\u001b[0m\u001b[90m━━━━━━━━━\u001b[0m \u001b[35m15.2%\u001b[0m • \u001b[32m7.8/51.7  \u001b[0m • \u001b[31m2.6 MB/s\u001b[0m • \u001b[36m0:00:17\u001b[0m\n",
      "\u001b[2K\u001b[1A\u001b[2K\u001b[1;34msubmission_task1_ALS.parquet\u001b[0m \u001b[91m━\u001b[0m\u001b[91m╸\u001b[0m\u001b[90m━━━━━━━━━\u001b[0m \u001b[35m15.2%\u001b[0m • \u001b[32m7.8/51.7  \u001b[0m • \u001b[31m2.6 MB/s\u001b[0m • \u001b[36m0:00:17\u001b[0m\n",
      "\u001b[2K\u001b[1A\u001b[2K\u001b[1;34msubmission_task1_ALS.parquet\u001b[0m \u001b[91m━\u001b[0m\u001b[91m╸\u001b[0m\u001b[90m━━━━━━━━━\u001b[0m \u001b[35m15.2%\u001b[0m • \u001b[32m7.9/51.7  \u001b[0m • \u001b[31m2.6 MB/s\u001b[0m • \u001b[36m0:00:17\u001b[0m\n",
      "\u001b[2K\u001b[1A\u001b[2K\u001b[1;34msubmission_task1_ALS.parquet\u001b[0m \u001b[91m━\u001b[0m\u001b[91m╸\u001b[0m\u001b[90m━━━━━━━━━\u001b[0m \u001b[35m15.2%\u001b[0m • \u001b[32m7.9/51.7  \u001b[0m • \u001b[31m2.6 MB/s\u001b[0m • \u001b[36m0:00:17\u001b[0m\n",
      "\u001b[2K\u001b[1A\u001b[2K\u001b[1;34msubmission_task1_ALS.parquet\u001b[0m \u001b[91m━\u001b[0m\u001b[91m╸\u001b[0m\u001b[90m━━━━━━━━━\u001b[0m \u001b[35m15.2%\u001b[0m • \u001b[32m7.9/51.7  \u001b[0m • \u001b[31m2.6 MB/s\u001b[0m • \u001b[36m0:00:17\u001b[0m\n",
      "\u001b[2K\u001b[1A\u001b[2K\u001b[1;34msubmission_task1_ALS.parquet\u001b[0m \u001b[91m━\u001b[0m\u001b[91m╸\u001b[0m\u001b[90m━━━━━━━━━\u001b[0m \u001b[35m15.2%\u001b[0m • \u001b[32m7.9/51.7  \u001b[0m • \u001b[31m2.6 MB/s\u001b[0m • \u001b[36m0:00:17\u001b[0m\n",
      "\u001b[2K\u001b[1A\u001b[2K\u001b[1;34msubmission_task1_ALS.parquet\u001b[0m \u001b[91m━\u001b[0m\u001b[91m╸\u001b[0m\u001b[90m━━━━━━━━━\u001b[0m \u001b[35m15.3%\u001b[0m • \u001b[32m7.9/51.7  \u001b[0m • \u001b[31m2.6 MB/s\u001b[0m • \u001b[36m0:00:17\u001b[0m\n",
      "\u001b[2K\u001b[1A\u001b[2K\u001b[1;34msubmission_task1_ALS.parquet\u001b[0m \u001b[91m━\u001b[0m\u001b[91m╸\u001b[0m\u001b[90m━━━━━━━━━\u001b[0m \u001b[35m15.3%\u001b[0m • \u001b[32m7.9/51.7  \u001b[0m • \u001b[31m2.6 MB/s\u001b[0m • \u001b[36m0:00:17\u001b[0m\n",
      "\u001b[2K\u001b[1A\u001b[2K\u001b[1;34msubmission_task1_ALS.parquet\u001b[0m \u001b[91m━\u001b[0m\u001b[91m╸\u001b[0m\u001b[90m━━━━━━━━━\u001b[0m \u001b[35m15.3%\u001b[0m • \u001b[32m7.9/51.7  \u001b[0m • \u001b[31m2.6 MB/s\u001b[0m • \u001b[36m0:00:17\u001b[0m\n",
      "\u001b[2K\u001b[1A\u001b[2K\u001b[1;34msubmission_task1_ALS.parquet\u001b[0m \u001b[91m━\u001b[0m\u001b[91m╸\u001b[0m\u001b[90m━━━━━━━━━\u001b[0m \u001b[35m15.3%\u001b[0m • \u001b[32m7.9/51.7  \u001b[0m • \u001b[31m2.6 MB/s\u001b[0m • \u001b[36m0:00:17\u001b[0m\n",
      "\u001b[2K\u001b[1A\u001b[2K\u001b[1;34msubmission_task1_ALS.parquet\u001b[0m \u001b[91m━\u001b[0m\u001b[91m╸\u001b[0m\u001b[90m━━━━━━━━━\u001b[0m \u001b[35m15.3%\u001b[0m • \u001b[32m7.9/51.7  \u001b[0m • \u001b[31m2.6 MB/s\u001b[0m • \u001b[36m0:00:17\u001b[0m\n",
      "\u001b[2K\u001b[1A\u001b[2K\u001b[1;34msubmission_task1_ALS.parquet\u001b[0m \u001b[91m━\u001b[0m\u001b[91m╸\u001b[0m\u001b[90m━━━━━━━━━\u001b[0m \u001b[35m15.3%\u001b[0m • \u001b[32m7.9/51.7  \u001b[0m • \u001b[31m2.6 MB/s\u001b[0m • \u001b[36m0:00:17\u001b[0m\n",
      "\u001b[2K\u001b[1A\u001b[2K\u001b[1;34msubmission_task1_ALS.parquet\u001b[0m \u001b[91m━\u001b[0m\u001b[91m╸\u001b[0m\u001b[90m━━━━━━━━━\u001b[0m \u001b[35m15.3%\u001b[0m • \u001b[32m7.9/51.7  \u001b[0m • \u001b[31m2.6 MB/s\u001b[0m • \u001b[36m0:00:17\u001b[0m\n",
      "\u001b[2K\u001b[1A\u001b[2K\u001b[1;34msubmission_task1_ALS.parquet\u001b[0m \u001b[91m━\u001b[0m\u001b[91m╸\u001b[0m\u001b[90m━━━━━━━━━\u001b[0m \u001b[35m15.4%\u001b[0m • \u001b[32m7.9/51.7  \u001b[0m • \u001b[31m2.6 MB/s\u001b[0m • \u001b[36m0:00:17\u001b[0m\n",
      "\u001b[2K\u001b[1A\u001b[2K\u001b[1;34msubmission_task1_ALS.parquet\u001b[0m \u001b[91m━\u001b[0m\u001b[91m╸\u001b[0m\u001b[90m━━━━━━━━━\u001b[0m \u001b[35m15.4%\u001b[0m • \u001b[32m8.0/51.7  \u001b[0m • \u001b[31m2.6 MB/s\u001b[0m • \u001b[36m0:00:17\u001b[0m\n",
      "\u001b[2K\u001b[1A\u001b[2K\u001b[1;34msubmission_task1_ALS.parquet\u001b[0m \u001b[91m━\u001b[0m\u001b[91m╸\u001b[0m\u001b[90m━━━━━━━━━\u001b[0m \u001b[35m15.4%\u001b[0m • \u001b[32m8.0/51.7  \u001b[0m • \u001b[31m2.6 MB/s\u001b[0m • \u001b[36m0:00:17\u001b[0m\n",
      "\u001b[2K\u001b[1A\u001b[2K\u001b[1;34msubmission_task1_ALS.parquet\u001b[0m \u001b[91m━\u001b[0m\u001b[91m╸\u001b[0m\u001b[90m━━━━━━━━━\u001b[0m \u001b[35m15.4%\u001b[0m • \u001b[32m8.0/51.7  \u001b[0m • \u001b[31m2.6 MB/s\u001b[0m • \u001b[36m0:00:17\u001b[0m\n",
      "\u001b[2K\u001b[1A\u001b[2K\u001b[1;34msubmission_task1_ALS.parquet\u001b[0m \u001b[91m━\u001b[0m\u001b[91m╸\u001b[0m\u001b[90m━━━━━━━━━\u001b[0m \u001b[35m15.4%\u001b[0m • \u001b[32m8.0/51.7  \u001b[0m • \u001b[31m2.6 MB/s\u001b[0m • \u001b[36m0:00:17\u001b[0m\n",
      "\u001b[2K\u001b[1A\u001b[2K\u001b[1;34msubmission_task1_ALS.parquet\u001b[0m \u001b[91m━\u001b[0m\u001b[91m╸\u001b[0m\u001b[90m━━━━━━━━━\u001b[0m \u001b[35m15.4%\u001b[0m • \u001b[32m8.0/51.7  \u001b[0m • \u001b[31m2.6 MB/s\u001b[0m • \u001b[36m0:00:17\u001b[0m\n",
      "\u001b[2K\u001b[1A\u001b[2K\u001b[1;34msubmission_task1_ALS.parquet\u001b[0m \u001b[91m━\u001b[0m\u001b[91m╸\u001b[0m\u001b[90m━━━━━━━━━\u001b[0m \u001b[35m15.5%\u001b[0m • \u001b[32m8.0/51.7  \u001b[0m • \u001b[31m2.6 MB/s\u001b[0m • \u001b[36m0:00:17\u001b[0m\n",
      "\u001b[2K\u001b[1A\u001b[2K\u001b[1;34msubmission_task1_ALS.parquet\u001b[0m \u001b[91m━\u001b[0m\u001b[91m╸\u001b[0m\u001b[90m━━━━━━━━━\u001b[0m \u001b[35m15.5%\u001b[0m • \u001b[32m8.0/51.7  \u001b[0m • \u001b[31m2.6 MB/s\u001b[0m • \u001b[36m0:00:17\u001b[0m\n",
      "\u001b[2K\u001b[1A\u001b[2K\u001b[1;34msubmission_task1_ALS.parquet\u001b[0m \u001b[91m━\u001b[0m\u001b[91m╸\u001b[0m\u001b[90m━━━━━━━━━\u001b[0m \u001b[35m15.5%\u001b[0m • \u001b[32m8.0/51.7  \u001b[0m • \u001b[31m2.6 MB/s\u001b[0m • \u001b[36m0:00:17\u001b[0m\n",
      "\u001b[2K\u001b[1A\u001b[2K\u001b[1;34msubmission_task1_ALS.parquet\u001b[0m \u001b[91m━\u001b[0m\u001b[91m╸\u001b[0m\u001b[90m━━━━━━━━━\u001b[0m \u001b[35m15.5%\u001b[0m • \u001b[32m8.0/51.7  \u001b[0m • \u001b[31m2.6 MB/s\u001b[0m • \u001b[36m0:00:17\u001b[0m\n",
      "\u001b[2K\u001b[1A\u001b[2K\u001b[1;34msubmission_task1_ALS.parquet\u001b[0m \u001b[91m━\u001b[0m\u001b[91m╸\u001b[0m\u001b[90m━━━━━━━━━\u001b[0m \u001b[35m15.5%\u001b[0m • \u001b[32m8.0/51.7  \u001b[0m • \u001b[31m2.6 MB/s\u001b[0m • \u001b[36m0:00:17\u001b[0m\n",
      "\u001b[2K\u001b[1A\u001b[2K\u001b[1;34msubmission_task1_ALS.parquet\u001b[0m \u001b[91m━\u001b[0m\u001b[91m╸\u001b[0m\u001b[90m━━━━━━━━━\u001b[0m \u001b[35m15.5%\u001b[0m • \u001b[32m8.0/51.7  \u001b[0m • \u001b[31m2.6 MB/s\u001b[0m • \u001b[36m0:00:17\u001b[0m\n",
      "\u001b[2K\u001b[1A\u001b[2K\u001b[1;34msubmission_task1_ALS.parquet\u001b[0m \u001b[91m━\u001b[0m\u001b[91m╸\u001b[0m\u001b[90m━━━━━━━━━\u001b[0m \u001b[35m15.5%\u001b[0m • \u001b[32m8.0/51.7  \u001b[0m • \u001b[31m2.6 MB/s\u001b[0m • \u001b[36m0:00:17\u001b[0m\n",
      "\u001b[2K\u001b[1A\u001b[2K\u001b[1;34msubmission_task1_ALS.parquet\u001b[0m \u001b[91m━\u001b[0m\u001b[91m╸\u001b[0m\u001b[90m━━━━━━━━━\u001b[0m \u001b[35m15.6%\u001b[0m • \u001b[32m8.0/51.7  \u001b[0m • \u001b[31m2.6 MB/s\u001b[0m • \u001b[36m0:00:17\u001b[0m\n",
      "\u001b[2K\u001b[1A\u001b[2K\u001b[1;34msubmission_task1_ALS.parquet\u001b[0m \u001b[91m━\u001b[0m\u001b[91m╸\u001b[0m\u001b[90m━━━━━━━━━\u001b[0m \u001b[35m15.6%\u001b[0m • \u001b[32m8.1/51.7  \u001b[0m • \u001b[31m2.6 MB/s\u001b[0m • \u001b[36m0:00:17\u001b[0m\n",
      "\u001b[2K\u001b[1A\u001b[2K\u001b[1;34msubmission_task1_ALS.parquet\u001b[0m \u001b[91m━\u001b[0m\u001b[91m╸\u001b[0m\u001b[90m━━━━━━━━━\u001b[0m \u001b[35m15.6%\u001b[0m • \u001b[32m8.1/51.7  \u001b[0m • \u001b[31m2.6 MB/s\u001b[0m • \u001b[36m0:00:17\u001b[0m\n",
      "\u001b[2K\u001b[1A\u001b[2K\u001b[1;34msubmission_task1_ALS.parquet\u001b[0m \u001b[91m━\u001b[0m\u001b[91m╸\u001b[0m\u001b[90m━━━━━━━━━\u001b[0m \u001b[35m15.6%\u001b[0m • \u001b[32m8.1/51.7  \u001b[0m • \u001b[31m2.6 MB/s\u001b[0m • \u001b[36m0:00:17\u001b[0m\n",
      "\u001b[2K\u001b[1A\u001b[2K\u001b[1;34msubmission_task1_ALS.parquet\u001b[0m \u001b[91m━\u001b[0m\u001b[91m╸\u001b[0m\u001b[90m━━━━━━━━━\u001b[0m \u001b[35m15.6%\u001b[0m • \u001b[32m8.1/51.7  \u001b[0m • \u001b[31m2.6 MB/s\u001b[0m • \u001b[36m0:00:17\u001b[0m\n",
      "\u001b[2K\u001b[1A\u001b[2K\u001b[1;34msubmission_task1_ALS.parquet\u001b[0m \u001b[91m━\u001b[0m\u001b[91m╸\u001b[0m\u001b[90m━━━━━━━━━\u001b[0m \u001b[35m15.6%\u001b[0m • \u001b[32m8.1/51.7  \u001b[0m • \u001b[31m2.6 MB/s\u001b[0m • \u001b[36m0:00:17\u001b[0m\n",
      "\u001b[2K\u001b[1A\u001b[2K\u001b[1;34msubmission_task1_ALS.parquet\u001b[0m \u001b[91m━\u001b[0m\u001b[91m╸\u001b[0m\u001b[90m━━━━━━━━━\u001b[0m \u001b[35m15.6%\u001b[0m • \u001b[32m8.1/51.7  \u001b[0m • \u001b[31m2.6 MB/s\u001b[0m • \u001b[36m0:00:17\u001b[0m\n",
      "\u001b[2K\u001b[1A\u001b[2K\u001b[1;34msubmission_task1_ALS.parquet\u001b[0m \u001b[91m━\u001b[0m\u001b[91m╸\u001b[0m\u001b[90m━━━━━━━━━\u001b[0m \u001b[35m15.7%\u001b[0m • \u001b[32m8.1/51.7  \u001b[0m • \u001b[31m2.6 MB/s\u001b[0m • \u001b[36m0:00:17\u001b[0m\n",
      "\u001b[2K\u001b[1A\u001b[2K\u001b[1;34msubmission_task1_ALS.parquet\u001b[0m \u001b[91m━\u001b[0m\u001b[91m╸\u001b[0m\u001b[90m━━━━━━━━━\u001b[0m \u001b[35m15.7%\u001b[0m • \u001b[32m8.1/51.7  \u001b[0m • \u001b[31m2.6 MB/s\u001b[0m • \u001b[36m0:00:17\u001b[0m\n",
      "\u001b[2K\u001b[1A\u001b[2K\u001b[1;34msubmission_task1_ALS.parquet\u001b[0m \u001b[91m━\u001b[0m\u001b[91m╸\u001b[0m\u001b[90m━━━━━━━━━\u001b[0m \u001b[35m15.7%\u001b[0m • \u001b[32m8.1/51.7  \u001b[0m • \u001b[31m2.6 MB/s\u001b[0m • \u001b[36m0:00:17\u001b[0m\n",
      "\u001b[2K\u001b[1A\u001b[2K\u001b[1;34msubmission_task1_ALS.parquet\u001b[0m \u001b[91m━\u001b[0m\u001b[91m╸\u001b[0m\u001b[90m━━━━━━━━━\u001b[0m \u001b[35m15.7%\u001b[0m • \u001b[32m8.1/51.7  \u001b[0m • \u001b[31m2.6 MB/s\u001b[0m • \u001b[36m0:00:17\u001b[0m\n",
      "\u001b[2K\u001b[1A\u001b[2K\u001b[1;34msubmission_task1_ALS.parquet\u001b[0m \u001b[91m━\u001b[0m\u001b[91m╸\u001b[0m\u001b[90m━━━━━━━━━\u001b[0m \u001b[35m15.7%\u001b[0m • \u001b[32m8.1/51.7  \u001b[0m • \u001b[31m2.6 MB/s\u001b[0m • \u001b[36m0:00:17\u001b[0m\n",
      "\u001b[2K\u001b[1A\u001b[2K\u001b[1;34msubmission_task1_ALS.parquet\u001b[0m \u001b[91m━\u001b[0m\u001b[91m╸\u001b[0m\u001b[90m━━━━━━━━━\u001b[0m \u001b[35m15.7%\u001b[0m • \u001b[32m8.1/51.7  \u001b[0m • \u001b[31m2.6 MB/s\u001b[0m • \u001b[36m0:00:17\u001b[0m\n",
      "\u001b[2K\u001b[1A\u001b[2K\u001b[1;34msubmission_task1_ALS.parquet\u001b[0m \u001b[91m━\u001b[0m\u001b[91m╸\u001b[0m\u001b[90m━━━━━━━━━\u001b[0m \u001b[35m15.8%\u001b[0m • \u001b[32m8.2/51.7  \u001b[0m • \u001b[31m2.6 MB/s\u001b[0m • \u001b[36m0:00:17\u001b[0m\n",
      "\u001b[2K\u001b[1A\u001b[2K\u001b[1;34msubmission_task1_ALS.parquet\u001b[0m \u001b[91m━\u001b[0m\u001b[91m╸\u001b[0m\u001b[90m━━━━━━━━━\u001b[0m \u001b[35m15.8%\u001b[0m • \u001b[32m8.2/51.7  \u001b[0m • \u001b[31m2.6 MB/s\u001b[0m • \u001b[36m0:00:17\u001b[0m\n",
      "\u001b[2K\u001b[1A\u001b[2K\u001b[1;34msubmission_task1_ALS.parquet\u001b[0m \u001b[91m━\u001b[0m\u001b[91m╸\u001b[0m\u001b[90m━━━━━━━━━\u001b[0m \u001b[35m15.8%\u001b[0m • \u001b[32m8.2/51.7  \u001b[0m • \u001b[31m2.6 MB/s\u001b[0m • \u001b[36m0:00:17\u001b[0m\n",
      "\u001b[2K\u001b[1A\u001b[2K\u001b[1;34msubmission_task1_ALS.parquet\u001b[0m \u001b[91m━\u001b[0m\u001b[91m╸\u001b[0m\u001b[90m━━━━━━━━━\u001b[0m \u001b[35m15.8%\u001b[0m • \u001b[32m8.2/51.7  \u001b[0m • \u001b[31m2.6 MB/s\u001b[0m • \u001b[36m0:00:17\u001b[0m\n",
      "\u001b[2K\u001b[1A\u001b[2K\u001b[1;34msubmission_task1_ALS.parquet\u001b[0m \u001b[91m━\u001b[0m\u001b[91m╸\u001b[0m\u001b[90m━━━━━━━━━\u001b[0m \u001b[35m15.8%\u001b[0m • \u001b[32m8.2/51.7  \u001b[0m • \u001b[31m2.6 MB/s\u001b[0m • \u001b[36m0:00:17\u001b[0m\n",
      "\u001b[2K\u001b[1A\u001b[2K\u001b[1;34msubmission_task1_ALS.parquet\u001b[0m \u001b[91m━\u001b[0m\u001b[91m╸\u001b[0m\u001b[90m━━━━━━━━━\u001b[0m \u001b[35m15.8%\u001b[0m • \u001b[32m8.2/51.7  \u001b[0m • \u001b[31m2.6 MB/s\u001b[0m • \u001b[36m0:00:17\u001b[0m\n",
      "\u001b[2K\u001b[1A\u001b[2K\u001b[1;34msubmission_task1_ALS.parquet\u001b[0m \u001b[91m━\u001b[0m\u001b[91m╸\u001b[0m\u001b[90m━━━━━━━━━\u001b[0m \u001b[35m15.9%\u001b[0m • \u001b[32m8.2/51.7  \u001b[0m • \u001b[31m2.6 MB/s\u001b[0m • \u001b[36m0:00:17\u001b[0m\n",
      "\u001b[2K\u001b[1A\u001b[2K\u001b[1;34msubmission_task1_ALS.parquet\u001b[0m \u001b[91m━\u001b[0m\u001b[91m╸\u001b[0m\u001b[90m━━━━━━━━━\u001b[0m \u001b[35m15.9%\u001b[0m • \u001b[32m8.2/51.7  \u001b[0m • \u001b[31m2.6 MB/s\u001b[0m • \u001b[36m0:00:17\u001b[0m\n",
      "\u001b[2K\u001b[1A\u001b[2K\u001b[1;34msubmission_task1_ALS.parquet\u001b[0m \u001b[91m━\u001b[0m\u001b[91m╸\u001b[0m\u001b[90m━━━━━━━━━\u001b[0m \u001b[35m15.9%\u001b[0m • \u001b[32m8.2/51.7  \u001b[0m • \u001b[31m2.6 MB/s\u001b[0m • \u001b[36m0:00:17\u001b[0m\n",
      "\u001b[2K\u001b[1A\u001b[2K\u001b[1;34msubmission_task1_ALS.parquet\u001b[0m \u001b[91m━\u001b[0m\u001b[91m╸\u001b[0m\u001b[90m━━━━━━━━━\u001b[0m \u001b[35m15.9%\u001b[0m • \u001b[32m8.2/51.7  \u001b[0m • \u001b[31m2.6 MB/s\u001b[0m • \u001b[36m0:00:17\u001b[0m\n",
      "\u001b[2K\u001b[1A\u001b[2K\u001b[1;34msubmission_task1_ALS.parquet\u001b[0m \u001b[91m━\u001b[0m\u001b[91m╸\u001b[0m\u001b[90m━━━━━━━━━\u001b[0m \u001b[35m15.9%\u001b[0m • \u001b[32m8.2/51.7  \u001b[0m • \u001b[31m2.6 MB/s\u001b[0m • \u001b[36m0:00:17\u001b[0m\n",
      "\u001b[2K\u001b[1A\u001b[2K\u001b[1;34msubmission_task1_ALS.parquet\u001b[0m \u001b[91m━\u001b[0m\u001b[91m╸\u001b[0m\u001b[90m━━━━━━━━━\u001b[0m \u001b[35m15.9%\u001b[0m • \u001b[32m8.2/51.7  \u001b[0m • \u001b[31m2.6 MB/s\u001b[0m • \u001b[36m0:00:17\u001b[0m\n",
      "\u001b[2K\u001b[1A\u001b[2K\u001b[1;34msubmission_task1_ALS.parquet\u001b[0m \u001b[91m━\u001b[0m\u001b[91m╸\u001b[0m\u001b[90m━━━━━━━━━\u001b[0m \u001b[35m15.9%\u001b[0m • \u001b[32m8.2/51.7  \u001b[0m • \u001b[31m2.7 MB/s\u001b[0m • \u001b[36m0:00:16\u001b[0m\n",
      "\u001b[2K\u001b[1A\u001b[2K\u001b[1;34msubmission_task1_ALS.parquet\u001b[0m \u001b[91m━\u001b[0m\u001b[91m╸\u001b[0m\u001b[90m━━━━━━━━━\u001b[0m \u001b[35m16.0%\u001b[0m • \u001b[32m8.3/51.7  \u001b[0m • \u001b[31m2.7 MB/s\u001b[0m • \u001b[36m0:00:16\u001b[0m\n",
      "\u001b[2K\u001b[1A\u001b[2K\u001b[1;34msubmission_task1_ALS.parquet\u001b[0m \u001b[91m━\u001b[0m\u001b[91m╸\u001b[0m\u001b[90m━━━━━━━━━\u001b[0m \u001b[35m16.0%\u001b[0m • \u001b[32m8.3/51.7  \u001b[0m • \u001b[31m2.7 MB/s\u001b[0m • \u001b[36m0:00:16\u001b[0m\n",
      "\u001b[2K\u001b[1A\u001b[2K\u001b[1;34msubmission_task1_ALS.parquet\u001b[0m \u001b[91m━\u001b[0m\u001b[91m╸\u001b[0m\u001b[90m━━━━━━━━━\u001b[0m \u001b[35m16.0%\u001b[0m • \u001b[32m8.3/51.7  \u001b[0m • \u001b[31m2.7 MB/s\u001b[0m • \u001b[36m0:00:16\u001b[0m\n",
      "\u001b[2K\u001b[1A\u001b[2K\u001b[1;34msubmission_task1_ALS.parquet\u001b[0m \u001b[91m━\u001b[0m\u001b[91m╸\u001b[0m\u001b[90m━━━━━━━━━\u001b[0m \u001b[35m16.0%\u001b[0m • \u001b[32m8.3/51.7  \u001b[0m • \u001b[31m2.7 MB/s\u001b[0m • \u001b[36m0:00:16\u001b[0m\n",
      "                                                 \u001b[32mMB        \u001b[0m                     "
     ]
    }
   ],
   "source": [
    "# You can submit with aicrowd-cli, or upload manually on the challenge page.\n",
    "!aicrowd submission create -c task-1-next-product-recommendation -f {submit_file}"
   ]
  },
  {
   "cell_type": "markdown",
   "id": "51af154c-a1a4-4946-8fae-2e46db235d22",
   "metadata": {
    "tags": []
   },
   "source": [
    "# Example "
   ]
  },
  {
   "cell_type": "code",
   "execution_count": null,
   "id": "f08a80a9-afc1-4afe-bf19-45ae3cd98eb9",
   "metadata": {},
   "outputs": [],
   "source": [
    "# # -*- coding: utf-8 -*-\n",
    "# \"\"\"\n",
    "# Created on Sun Jun 23 22:20:58 2019\n",
    "\n",
    "# @author: himansh\n",
    "# \"\"\"\n",
    "# #import libraries\n",
    "# import sys\n",
    "# import pandas as pd\n",
    "# import numpy as np\n",
    "# import scipy.sparse as sparse\n",
    "# from scipy.sparse.linalg import spsolve\n",
    "# import random\n",
    "\n",
    "\n",
    "\n",
    "# from sklearn.preprocessing import MinMaxScaler\n",
    "\n",
    "# import implicit \n",
    "# from datetime import datetime, timedelta\n",
    "\n",
    "\n",
    "# #Data Preprocessing\n",
    "# def create_data(datapath,start_date,end_date):\n",
    "#     df=pd.read_csv(datapath)\n",
    "#     df=df.assign(date=pd.Series(datetime.fromtimestamp(a/1000).date() for a in df.timestamp))\n",
    "#     df=df.sort_values(by='date').reset_index(drop=True) # for some reasons RetailRocket did NOT sort data by date\n",
    "#     df=df[(df.date>=datetime.strptime(start_date,'%Y-%m-%d').date())&(df.date<=datetime.strptime(end_date,'%Y-%m-%d').date())]\n",
    "#     df=df[['visitorid','itemid','event']]\n",
    "#     return df\n"
   ]
  },
  {
   "cell_type": "code",
   "execution_count": null,
   "id": "e3c7539c-c3bd-4338-a77a-aa596cfd75ad",
   "metadata": {},
   "outputs": [],
   "source": [
    "# #Download the kaggle RetailRocket data and give the events.csv file path\n",
    "# datapath= 'events.csv'\n",
    "# data=create_data(datapath,'2015-5-3','2015-5-3')\n",
    "# data['visitorid'] = data['visitorid'].astype(\"category\")\n",
    "# data['itemid'] = data['itemid'].astype(\"category\")\n",
    "# data['visitor_id'] = data['visitorid'].cat.codes\n",
    "# data['item_id'] = data['itemid'].cat.codes\n",
    "\n",
    "# data['event']=data['event'].astype('category')\n",
    "# data['event']=data['event'].cat.codes\n"
   ]
  },
  {
   "cell_type": "code",
   "execution_count": null,
   "id": "5fbad4ee-be58-4af0-b284-4923461be55b",
   "metadata": {},
   "outputs": [],
   "source": [
    "# sparse_item_user = sparse.csr_matrix((data['event'].astype(float), (data['item_id'], data['visitor_id'])))\n",
    "# sparse_user_item = sparse.csr_matrix((data['event'].astype(float), (data['visitor_id'], data['item_id'])))\n"
   ]
  },
  {
   "cell_type": "code",
   "execution_count": null,
   "id": "daf164ab-f248-4b75-9be7-cd3eb80fbc76",
   "metadata": {},
   "outputs": [],
   "source": [
    "\n",
    "\n",
    "\n",
    "# #Building the model\n",
    "# model = implicit.als.AlternatingLeastSquares(factors=20, regularization=0.1, iterations=20)\n",
    "\n",
    "\n",
    "# # ???\n",
    "# # alpha_val = 40\n",
    "# # data_conf = (sparse_item_user * alpha_val).astype('double')\n"
   ]
  },
  {
   "cell_type": "code",
   "execution_count": null,
   "id": "07adba24-a1ec-4729-ad6d-248e62738f84",
   "metadata": {},
   "outputs": [],
   "source": [
    "# ###USING THE MODEL\n",
    "\n",
    "# #Get Recommendations\n",
    "# user_id =   14\n",
    "# recommended = model.recommend(user_id, \n",
    "#                               sparse_user_item[user_id],\n",
    "#                               filter_already_liked_items=True\n",
    "#                              )[0].tolist()\n",
    "# print(recommended)\n",
    "\n",
    "\n",
    "\n",
    "\n",
    "# # #Get similar items\n",
    "# # item_id = 7\n",
    "# # n_similar = 3\n",
    "# # similar = model.similar_items(item_id, n_similar)\n",
    "# # print(similar)"
   ]
  },
  {
   "cell_type": "code",
   "execution_count": null,
   "id": "8299bb39-ee00-473c-aaf0-669f8b1d3986",
   "metadata": {},
   "outputs": [],
   "source": [
    "# user_item = sps.coo_matrix(\n",
    "#       (\n",
    "#           np.ones(data.shape[0]), # We're using a matrix of ones, but using type weights or repurchase weights could help!\n",
    "#           (data['visitor_id'],\n",
    "#           data['item_id'])\n",
    "#       ),\n",
    "#       dtype='int8'\n",
    "#     ).tocsr()\n",
    "# user_item.todense().shape\n",
    "# new_model = implicit.als.AlternatingLeastSquares(factors=100, regularization=0.1, iterations=20)\n",
    "\n",
    "# new_model.fit(user_items=user_item, show_progress=True)\n"
   ]
  },
  {
   "cell_type": "code",
   "execution_count": null,
   "id": "456fc504-92cc-4cd0-ad1c-e528a0099f6a",
   "metadata": {},
   "outputs": [],
   "source": [
    "# user_id =   14\n",
    "# recommended = model.recommend(user_id, \n",
    "#                               user_item[user_id, :],\n",
    "#                               filter_already_liked_items=True\n",
    "#                              )[0].tolist()\n",
    "# print(recommended)"
   ]
  },
  {
   "cell_type": "code",
   "execution_count": null,
   "id": "070f1ebd-cd02-4095-829b-f4a42b362462",
   "metadata": {},
   "outputs": [],
   "source": []
  }
 ],
 "metadata": {
  "environment": {
   "kernel": "kdd_2023",
   "name": "common-cu110.m104",
   "type": "gcloud",
   "uri": "gcr.io/deeplearning-platform-release/base-cu110:m104"
  },
  "kernelspec": {
   "display_name": "py3.8(kdd_2023)",
   "language": "python",
   "name": "kdd_2023"
  },
  "language_info": {
   "codemirror_mode": {
    "name": "ipython",
    "version": 3
   },
   "file_extension": ".py",
   "mimetype": "text/x-python",
   "name": "python",
   "nbconvert_exporter": "python",
   "pygments_lexer": "ipython3",
   "version": "3.8.16"
  }
 },
 "nbformat": 4,
 "nbformat_minor": 5
}
