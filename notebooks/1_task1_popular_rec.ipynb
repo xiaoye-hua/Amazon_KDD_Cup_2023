{
 "cells": [
  {
   "cell_type": "markdown",
   "metadata": {},
   "source": [
    "# Package "
   ]
  },
  {
   "cell_type": "code",
   "execution_count": 2,
   "metadata": {},
   "outputs": [
    {
     "name": "stdout",
     "output_type": "stream",
     "text": [
      "The autoreload extension is already loaded. To reload it, use:\n",
      "  %reload_ext autoreload\n"
     ]
    }
   ],
   "source": [
    "%load_ext autoreload\n",
    "%autoreload 2\n",
    "import sys\n",
    "import logging\n",
    "base_dir = '../'\n",
    "sys.path.append(base_dir)\n",
    "import os\n",
    "import warnings\n",
    "warnings.simplefilter('ignore')\n",
    "\n",
    "import pickle\n",
    "import gc\n",
    "import re\n",
    "import polars as pl\n",
    "from collections import defaultdict, Counter\n",
    "\n",
    "import numpy as np\n",
    "import pandas as pd\n",
    "pd.set_option('display.max_columns', None)\n",
    "from tqdm.auto import tqdm\n",
    "import polars as pl\n",
    "from utils import *\n",
    "from src.eval import model_eval\n",
    "from src.config import raw_data_session_id_dir, candidate_dir, model_for_eval"
   ]
  },
  {
   "cell_type": "code",
   "execution_count": 3,
   "metadata": {},
   "outputs": [],
   "source": [
    "# df_prod = pd.read_csv('data/products_train.csv')\n",
    "# df_prod"
   ]
  },
  {
   "cell_type": "markdown",
   "metadata": {
    "tags": []
   },
   "source": [
    "# Config "
   ]
  },
  {
   "cell_type": "code",
   "execution_count": 4,
   "metadata": {},
   "outputs": [],
   "source": [
    "# ! ls ../model_training/"
   ]
  },
  {
   "cell_type": "code",
   "execution_count": 5,
   "metadata": {},
   "outputs": [],
   "source": [
    "debug = False\n",
    "\n",
    "model_version = 'popular_v1'\n",
    "\n",
    "topn = 100\n",
    "if debug:\n",
    "    n_rows = 1000\n",
    "else:\n",
    "    n_rows = None\n",
    "# debug_session_num = 100\n",
    "train_data_dir = '.'\n",
    "test_data_dir = '.'\n",
    "task = 'task1'\n",
    "\n",
    "model_dir = f'../model_training/{model_version}/'\n",
    "\n",
    "# target locales: locales needed for task1\n",
    "target_locals = [\"DE\", 'JP', 'UK']\n",
    "\n",
    "# if model_for_eval:\n",
    "# model_file = os.path.join(model_dir, f'nic_{model_for_eval}_for_eval.parquet')\n",
    "# submit_file = os.path.join('../data/sub_files/', f'submission_{task}_nic_{model_for_eval}_for_eval.parquet')"
   ]
  },
  {
   "cell_type": "code",
   "execution_count": 6,
   "metadata": {},
   "outputs": [],
   "source": [
    "# candidate_file.format(\n",
    "#     task='task1'\n",
    "#     , data_type='train'\n",
    "#     , model_version=model_version\n",
    "#     , model_for_eval=model_for_eval\n",
    "#     , topn=topn\n",
    "# )"
   ]
  },
  {
   "cell_type": "code",
   "execution_count": 7,
   "metadata": {},
   "outputs": [
    {
     "name": "stdout",
     "output_type": "stream",
     "text": [
      "mkdir: cannot create directory ‘../model_training/popular_v1/’: File exists\n"
     ]
    }
   ],
   "source": [
    "! mkdir {model_dir}"
   ]
  },
  {
   "cell_type": "code",
   "execution_count": 8,
   "metadata": {},
   "outputs": [],
   "source": [
    "# model_file"
   ]
  },
  {
   "cell_type": "code",
   "execution_count": 9,
   "metadata": {},
   "outputs": [],
   "source": [
    "# submit_file"
   ]
  },
  {
   "cell_type": "markdown",
   "metadata": {},
   "source": [
    "# Data "
   ]
  },
  {
   "cell_type": "code",
   "execution_count": 10,
   "metadata": {},
   "outputs": [],
   "source": [
    "train_pl = pl.scan_parquet(os.path.join(base_dir, raw_data_session_id_dir, 'sessions_train.parquet'), n_rows=n_rows).filter(pl.col('locale').is_in(target_locals)).with_columns(pl.col('prev_items').apply(str2list))\n",
    "\n",
    "eval_pl = pl.scan_parquet(os.path.join(base_dir, raw_data_session_id_dir, 'sessions_eval.parquet'), n_rows=n_rows).filter(pl.col('locale').is_in(target_locals)).with_columns(pl.col('prev_items').apply(str2list))\n",
    "\n",
    "# df_sess.head(3).collect()\n",
    "test_pl = pl.scan_parquet(os.path.join(base_dir, raw_data_session_id_dir, 'sessions_test_task1.parquet'), n_rows=n_rows).with_columns(pl.col('prev_items').apply(str2list))\n"
   ]
  },
  {
   "cell_type": "markdown",
   "metadata": {
    "tags": []
   },
   "source": [
    "# Top200 for fallback logics"
   ]
  },
  {
   "cell_type": "code",
   "execution_count": 11,
   "metadata": {},
   "outputs": [],
   "source": [
    "train_data = train_pl.with_columns(\n",
    "    pl.col('prev_items').arr.concat(pl.col('next_item')) \n",
    ")\n",
    "if not model_for_eval:\n",
    "    eval_data = eval_pl.with_columns(\n",
    "    pl.col('prev_items').arr.concat(pl.col('next_item')) \n",
    ")\n",
    "else:\n",
    "    eval_data = eval_pl\n",
    "test_data = test_pl\n",
    "cols_to_keep = ['prev_items', 'locale']\n",
    "popular_pl = pl.concat([train_data.select(cols_to_keep), eval_data.select(cols_to_keep), test_data.select(cols_to_keep)], how='vertical')\n",
    "        "
   ]
  },
  {
   "cell_type": "code",
   "execution_count": 12,
   "metadata": {},
   "outputs": [],
   "source": [
    "# next_item_df[cols].info()"
   ]
  },
  {
   "cell_type": "code",
   "execution_count": 13,
   "metadata": {},
   "outputs": [
    {
     "data": {
      "text/html": [
       "<div><style>\n",
       ".dataframe > thead > tr > th,\n",
       ".dataframe > tbody > tr > td {\n",
       "  text-align: right;\n",
       "}\n",
       "</style>\n",
       "<small>shape: (5, 2)</small><table border=\"1\" class=\"dataframe\"><thead><tr><th>prev_items</th><th>locale</th></tr><tr><td>list[str]</td><td>str</td></tr></thead><tbody><tr><td>[&quot;B09W9FND7K&quot;, &quot;B09JSPLN1M&quot;, &quot;B09M7GY217&quot;]</td><td>&quot;DE&quot;</td></tr><tr><td>[&quot;B076THCGSG&quot;, &quot;B007MO8IME&quot;, … &quot;B001B4THSA&quot;]</td><td>&quot;DE&quot;</td></tr><tr><td>[&quot;B0B1LGXWDS&quot;, &quot;B00AZYORS2&quot;, … &quot;B0767DTG2Q&quot;]</td><td>&quot;DE&quot;</td></tr><tr><td>[&quot;B0749V8TC7&quot;, &quot;B0749W93VC&quot;, … &quot;B0749TX4YS&quot;]</td><td>&quot;DE&quot;</td></tr><tr><td>[&quot;B09SMK3R8H&quot;, &quot;B01N4ND0F9&quot;, &quot;B08YNZT93Z&quot;]</td><td>&quot;DE&quot;</td></tr></tbody></table></div>"
      ],
      "text/plain": [
       "shape: (5, 2)\n",
       "┌───────────────────────────────────┬────────┐\n",
       "│ prev_items                        ┆ locale │\n",
       "│ ---                               ┆ ---    │\n",
       "│ list[str]                         ┆ str    │\n",
       "╞═══════════════════════════════════╪════════╡\n",
       "│ [\"B09W9FND7K\", \"B09JSPLN1M\", \"B0… ┆ DE     │\n",
       "│ [\"B076THCGSG\", \"B007MO8IME\", … \"… ┆ DE     │\n",
       "│ [\"B0B1LGXWDS\", \"B00AZYORS2\", … \"… ┆ DE     │\n",
       "│ [\"B0749V8TC7\", \"B0749W93VC\", … \"… ┆ DE     │\n",
       "│ [\"B09SMK3R8H\", \"B01N4ND0F9\", \"B0… ┆ DE     │\n",
       "└───────────────────────────────────┴────────┘"
      ]
     },
     "execution_count": 13,
     "metadata": {},
     "output_type": "execute_result"
    }
   ],
   "source": [
    "popular_pl.head().collect()"
   ]
  },
  {
   "cell_type": "code",
   "execution_count": 14,
   "metadata": {},
   "outputs": [],
   "source": [
    "topn = 200\n",
    "locale_popular_pl = (\n",
    "    popular_pl\n",
    "        .explode('prev_items')\n",
    "        .groupby(['locale', 'prev_items'])\n",
    "        .agg(\n",
    "            pl.count()\n",
    "        )\n",
    "        .with_columns(\n",
    "            pl.col('count').rank(method='ordinal', descending=True).over('locale').alias('rank')\n",
    "        )\n",
    "        .filter(pl.col('rank')<=topn)\n",
    "        .with_columns(\n",
    "            pl.col('count').max().over('locale').alias('max_count')\n",
    "            , pl.col('count').min().over('locale').alias('min_count')\n",
    "        )\n",
    "        .with_columns(\n",
    "            ((pl.col('count')-pl.col('min_count'))/(pl.col('max_count')-pl.col('min_count'))).alias('weight')\n",
    "        )\n",
    "        .sort('locale', 'rank')\n",
    "        .select(\n",
    "            'locale'\n",
    "            , 'prev_items'\n",
    "            , 'weight'\n",
    "        )\n",
    "        .groupby('locale')\n",
    "        .agg(\n",
    "            pl.col('weight').alias('locale_popular_weight')\n",
    "            , pl.col('prev_items').alias('locale_popular_rec')\n",
    "        )\n",
    "        # .count()#.head(3).collect())\n",
    "        # .collect()\n",
    ")"
   ]
  },
  {
   "cell_type": "code",
   "execution_count": 15,
   "metadata": {},
   "outputs": [
    {
     "data": {
      "text/html": [
       "<div><style>\n",
       ".dataframe > thead > tr > th,\n",
       ".dataframe > tbody > tr > td {\n",
       "  text-align: right;\n",
       "}\n",
       "</style>\n",
       "<small>shape: (3, 3)</small><table border=\"1\" class=\"dataframe\"><thead><tr><th>locale</th><th>locale_popular_weight</th><th>locale_popular_rec</th></tr><tr><td>str</td><td>list[f64]</td><td>list[str]</td></tr></thead><tbody><tr><td>&quot;UK&quot;</td><td>[1.0, 0.911864, … 0.0]</td><td>[&quot;B08CN3G4N9&quot;, &quot;B07N8QY3YH&quot;, … &quot;B0765ZQJYJ&quot;]</td></tr><tr><td>&quot;JP&quot;</td><td>[1.0, 0.668449, … 0.0]</td><td>[&quot;B0BD5MFPMF&quot;, &quot;B0BD88WWQ8&quot;, … &quot;B07PNGSC5S&quot;]</td></tr><tr><td>&quot;DE&quot;</td><td>[1.0, 0.963384, … 0.0]</td><td>[&quot;B0BDML9477&quot;, &quot;B08GWS298V&quot;, … &quot;B01GGKYLW0&quot;]</td></tr></tbody></table></div>"
      ],
      "text/plain": [
       "shape: (3, 3)\n",
       "┌────────┬────────────────────────┬───────────────────────────────────┐\n",
       "│ locale ┆ locale_popular_weight  ┆ locale_popular_rec                │\n",
       "│ ---    ┆ ---                    ┆ ---                               │\n",
       "│ str    ┆ list[f64]              ┆ list[str]                         │\n",
       "╞════════╪════════════════════════╪═══════════════════════════════════╡\n",
       "│ UK     ┆ [1.0, 0.911864, … 0.0] ┆ [\"B08CN3G4N9\", \"B07N8QY3YH\", … \"… │\n",
       "│ JP     ┆ [1.0, 0.668449, … 0.0] ┆ [\"B0BD5MFPMF\", \"B0BD88WWQ8\", … \"… │\n",
       "│ DE     ┆ [1.0, 0.963384, … 0.0] ┆ [\"B0BDML9477\", \"B08GWS298V\", … \"… │\n",
       "└────────┴────────────────────────┴───────────────────────────────────┘"
      ]
     },
     "execution_count": 15,
     "metadata": {},
     "output_type": "execute_result"
    }
   ],
   "source": [
    "locale_popular_pl.collect()"
   ]
  },
  {
   "cell_type": "code",
   "execution_count": null,
   "metadata": {},
   "outputs": [],
   "source": []
  },
  {
   "cell_type": "markdown",
   "metadata": {
    "tags": []
   },
   "source": [
    "# Model Eval "
   ]
  },
  {
   "cell_type": "code",
   "execution_count": 26,
   "metadata": {},
   "outputs": [],
   "source": [
    "def get_next_items(x):\n",
    "    prev_items = x['prev_items']\n",
    "    local_rec = x['locale_popular_rec']\n",
    "    final = [ele for ele in local_rec if ele not in prev_items]\n",
    "    return final\n",
    "\n",
    "\n",
    "eval_res = (\n",
    "    eval_pl\n",
    "        .join(locale_popular_pl, how='left', on='locale')\n",
    "        .with_columns(\n",
    "            pl.col('locale_popular_rec')#.alias('next_item_prediction')\n",
    "            , pl.struct([\"prev_items\", \"locale_popular_rec\"]).apply(\n",
    "                        lambda x: get_next_items(x)).alias('next_item_prediction')\n",
    "        )\n",
    ")\n",
    "\n",
    "# eval_res.head().collect()"
   ]
  },
  {
   "cell_type": "code",
   "execution_count": 27,
   "metadata": {},
   "outputs": [
    {
     "name": "stdout",
     "output_type": "stream",
     "text": [
      "CPU times: user 4min 33s, sys: 1min 21s, total: 5min 54s\n",
      "Wall time: 1min 59s\n"
     ]
    },
    {
     "data": {
      "text/html": [
       "<div><style>\n",
       ".dataframe > thead > tr > th,\n",
       ".dataframe > tbody > tr > td {\n",
       "  text-align: right;\n",
       "}\n",
       "</style>\n",
       "<small>shape: (1, 4)</small><table border=\"1\" class=\"dataframe\"><thead><tr><th>total_sessions</th><th>mrr</th><th>recall@20</th><th>recall@100</th></tr><tr><td>u32</td><td>f64</td><td>f64</td><td>f64</td></tr></thead><tbody><tr><td>326443</td><td>0.000145</td><td>0.000493</td><td>0.00227</td></tr></tbody></table></div>"
      ],
      "text/plain": [
       "shape: (1, 4)\n",
       "┌────────────────┬──────────┬───────────┬────────────┐\n",
       "│ total_sessions ┆ mrr      ┆ recall@20 ┆ recall@100 │\n",
       "│ ---            ┆ ---      ┆ ---       ┆ ---        │\n",
       "│ u32            ┆ f64      ┆ f64       ┆ f64        │\n",
       "╞════════════════╪══════════╪═══════════╪════════════╡\n",
       "│ 326443         ┆ 0.000145 ┆ 0.000493  ┆ 0.00227    │\n",
       "└────────────────┴──────────┴───────────┴────────────┘"
      ]
     },
     "execution_count": 27,
     "metadata": {},
     "output_type": "execute_result"
    }
   ],
   "source": [
    "%%time\n",
    "model_eval(eval_res)"
   ]
  },
  {
   "cell_type": "code",
   "execution_count": null,
   "metadata": {},
   "outputs": [],
   "source": []
  },
  {
   "cell_type": "code",
   "execution_count": 18,
   "metadata": {},
   "outputs": [],
   "source": [
    "# eval_res.head().collect()"
   ]
  },
  {
   "cell_type": "code",
   "execution_count": 28,
   "metadata": {},
   "outputs": [],
   "source": [
    "# model_eval(eval_res)"
   ]
  },
  {
   "cell_type": "markdown",
   "metadata": {
    "tags": []
   },
   "source": [
    "# Save Model"
   ]
  },
  {
   "cell_type": "code",
   "execution_count": 32,
   "metadata": {},
   "outputs": [
    {
     "data": {
      "text/plain": [
       "'../model_training/popular_v1/'"
      ]
     },
     "execution_count": 32,
     "metadata": {},
     "output_type": "execute_result"
    }
   ],
   "source": [
    "model_dir"
   ]
  },
  {
   "cell_type": "code",
   "execution_count": 31,
   "metadata": {},
   "outputs": [],
   "source": [
    "popular_pl.collect().write_parquet(os.path.join(model_dir, 'popular_rec.parquet'))"
   ]
  },
  {
   "cell_type": "code",
   "execution_count": null,
   "metadata": {},
   "outputs": [],
   "source": []
  }
 ],
 "metadata": {
  "environment": {
   "kernel": "kdd_2023",
   "name": "common-cu110.m104",
   "type": "gcloud",
   "uri": "gcr.io/deeplearning-platform-release/base-cu110:m104"
  },
  "kernelspec": {
   "display_name": "py3.8(kdd_2023)",
   "language": "python",
   "name": "kdd_2023"
  },
  "language_info": {
   "codemirror_mode": {
    "name": "ipython",
    "version": 3
   },
   "file_extension": ".py",
   "mimetype": "text/x-python",
   "name": "python",
   "nbconvert_exporter": "python",
   "pygments_lexer": "ipython3",
   "version": "3.8.16"
  }
 },
 "nbformat": 4,
 "nbformat_minor": 4
}
