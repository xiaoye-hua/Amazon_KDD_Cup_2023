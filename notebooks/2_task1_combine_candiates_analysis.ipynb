{
 "cells": [
  {
   "cell_type": "markdown",
   "id": "cfb20369-bc15-496e-9ca7-96ea3337a84e",
   "metadata": {},
   "source": [
    "# Packages "
   ]
  },
  {
   "cell_type": "code",
   "execution_count": 3,
   "id": "aabe0c4e-8729-4f63-9722-c12d233ca6b5",
   "metadata": {
    "tags": []
   },
   "outputs": [
    {
     "name": "stderr",
     "output_type": "stream",
     "text": [
      "/home/jupyter/.cache/pypoetry/virtualenvs/kdd-2023-KklMGVX0-py3.8/lib/python3.8/site-packages/implicit/gpu/__init__.py:13: UserWarning: CUDA extension is built, but disabling GPU support because of 'Cuda Error: no CUDA-capable device is detected (/project/./implicit/gpu/utils.h:71)'\n",
      "  warnings.warn(\n"
     ]
    }
   ],
   "source": [
    "%load_ext autoreload\n",
    "%autoreload 2\n",
    "import sys\n",
    "import logging\n",
    "base_dir = '../'\n",
    "sys.path.append(base_dir)\n",
    "import os\n",
    "from utils import *\n",
    "\n",
    "import joblib\n",
    "import os\n",
    "import numpy as np\n",
    "import scipy\n",
    "import pandas as pd\n",
    "from gensim.models import Word2Vec\n",
    "from tqdm import tqdm\n",
    "from gensim.similarities.annoy import AnnoyIndexer\n",
    "\n",
    "\n",
    "from annoy import AnnoyIndex\n",
    "import polars as pl\n",
    "import implicit\n",
    "from src.eval import model_eval\n",
    "\n",
    "import scipy.sparse as sps\n",
    "from utils import str2list\n",
    "from src.config import raw_data_session_id_dir, candidate_file_name\n",
    "from lightgbm import LGBMRanker\n",
    "from lightgbm import early_stopping\n",
    "from utils import *\n"
   ]
  },
  {
   "cell_type": "markdown",
   "id": "1355ce62-0ebd-4629-99e5-96bf2946bed5",
   "metadata": {
    "tags": []
   },
   "source": [
    "# Config "
   ]
  },
  {
   "cell_type": "code",
   "execution_count": 4,
   "id": "581b9e23-e0c5-4956-9aee-45b64c96f201",
   "metadata": {},
   "outputs": [
    {
     "data": {
      "text/plain": [
       "'{task}_{data_type}_{model_version}_{model_for_eval}_top{topn}.parquet'"
      ]
     },
     "execution_count": 4,
     "metadata": {},
     "output_type": "execute_result"
    }
   ],
   "source": [
    "candidate_file_name"
   ]
  },
  {
   "cell_type": "code",
   "execution_count": 5,
   "id": "0cac5f9f-76a0-4069-a57a-17b45bba83fd",
   "metadata": {
    "tags": []
   },
   "outputs": [],
   "source": [
    "debug = False\n",
    "\n",
    "eval_cg = False\n",
    "\n",
    "reprocess_train_data = False\n",
    "train_parts = 20\n",
    "\n",
    "load_train_eval_data = False\n",
    "if debug:\n",
    "    SAMPLE_NUM = 10000\n",
    "else:\n",
    "    SAMPLE_NUM = None\n",
    "\n",
    "\n",
    "candidate_path = '../data/candidates/'\n",
    "model_dir = '../model_training'\n",
    "ranker_train_data_dir = '../data/rank_train_data_v2'\n",
    "# train_data_dir = '.'\n",
    "# test_data_dir = '.'\n",
    "task = 'task1'\n",
    "w2v_model_version = 'w2v_v3'\n",
    "nic_model_version = 'nic'\n",
    "nfi_model_version = 'next_few_items_v1'\n",
    "covisit_model_version = 'co_visit'\n",
    "\n",
    "# rank_model_dir = os.path.join(model_dir, rank_model_version)\n",
    "model_for_eval = True\n",
    "w2v_topn=100\n",
    "nic_topn=100\n",
    "nfi_topn=100\n",
    "covisit_topn = 300\n",
    "# PREDS_PER_SESSION = 100\n",
    "\n",
    "# num_tree = 100\n",
    "# # target locales: locales needed for task1\n",
    "target_locals = [\"DE\", 'JP', 'UK']\n",
    "\n",
    "# submit_file = f'submission_{task}_ALS.parquet'\n",
    "num_tree = 100\n",
    "w2v_model_dir = os.path.join(model_dir, w2v_model_version)\n",
    "w2v_model_file = os.path.join(w2v_model_dir, f\"{model_for_eval}.model\")\n",
    "annoy_index_file = os.path.join(w2v_model_dir, f\"{str(num_tree)}_{model_for_eval}.index\")\n",
    "\n",
    "\n",
    "\n",
    "train_dir = os.path.join(ranker_train_data_dir, 'train')"
   ]
  },
  {
   "cell_type": "code",
   "execution_count": null,
   "id": "902bc312-8c20-42f7-ad41-b5d77d89fcce",
   "metadata": {},
   "outputs": [],
   "source": []
  },
  {
   "cell_type": "code",
   "execution_count": 6,
   "id": "210036e4-72ad-4a2d-b704-5df89adede53",
   "metadata": {},
   "outputs": [
    {
     "name": "stdout",
     "output_type": "stream",
     "text": [
      "mkdir: cannot create directory ‘../data/rank_train_data_v2’: File exists\n"
     ]
    }
   ],
   "source": [
    "! mkdir {ranker_train_data_dir}"
   ]
  },
  {
   "cell_type": "code",
   "execution_count": 7,
   "id": "9f493af9-c566-4637-b9d9-a4371eb898dc",
   "metadata": {
    "tags": []
   },
   "outputs": [
    {
     "name": "stdout",
     "output_type": "stream",
     "text": [
      "mkdir: cannot create directory ‘../data/rank_train_data_v2/train’: File exists\n"
     ]
    }
   ],
   "source": [
    "! mkdir {train_dir}"
   ]
  },
  {
   "cell_type": "code",
   "execution_count": 8,
   "id": "2682aa95-34e8-4d05-b63a-29380c601ea6",
   "metadata": {},
   "outputs": [
    {
     "data": {
      "text/plain": [
       "'../data/rank_train_data_v2/train'"
      ]
     },
     "execution_count": 8,
     "metadata": {},
     "output_type": "execute_result"
    }
   ],
   "source": [
    "train_dir"
   ]
  },
  {
   "cell_type": "markdown",
   "id": "698077b0-5f76-49b0-961a-7df6de39b9c9",
   "metadata": {},
   "source": [
    "# Analysis"
   ]
  },
  {
   "cell_type": "code",
   "execution_count": 11,
   "id": "6b96ff53-4b34-4044-bd71-6b4f09ea4d74",
   "metadata": {},
   "outputs": [],
   "source": [
    "eval_cg_pl = pl.scan_parquet(os.path.join(ranker_train_data_dir, 'eval.parquet'))\n",
    "eval_pl = pl.scan_parquet(os.path.join(base_dir, raw_data_session_id_dir, 'sessions_eval.parquet'), n_rows=SAMPLE_NUM).filter(pl.col('locale').is_in(target_locals)).with_columns(pl.col('prev_items').apply(str2list))\n"
   ]
  },
  {
   "cell_type": "code",
   "execution_count": 18,
   "id": "0cd641bf-f116-4937-90eb-488a65a1a39b",
   "metadata": {},
   "outputs": [],
   "source": [
    "assert eval_cg_pl.select(pl.col('session_id')).unique().collect().shape[0] == eval_pl.select(pl.col('session_id')).unique().collect().shape[0]"
   ]
  },
  {
   "cell_type": "code",
   "execution_count": 19,
   "id": "e6202a24-2c7d-43ae-8088-2d5cf8a129ac",
   "metadata": {},
   "outputs": [
    {
     "data": {
      "text/html": [
       "<div><style>\n",
       ".dataframe > thead > tr > th,\n",
       ".dataframe > tbody > tr > td {\n",
       "  text-align: right;\n",
       "}\n",
       "</style>\n",
       "<small>shape: (5, 11)</small><table border=\"1\" class=\"dataframe\"><thead><tr><th>session_id</th><th>next_item_prediction</th><th>w2v_weight</th><th>next_item</th><th>locale</th><th>prev_length</th><th>target</th><th>next_item_weight</th><th>next_item_weight_nfi</th><th>next_item_weight_co_visit</th><th>last_item_similarity</th></tr><tr><td>i64</td><td>str</td><td>f64</td><td>str</td><td>i32</td><td>u32</td><td>i32</td><td>f64</td><td>f32</td><td>f32</td><td>f32</td></tr></thead><tbody><tr><td>3</td><td>&quot;B09P1MBQY4&quot;</td><td>0.525773</td><td>&quot;B0B4R9NN4B&quot;</td><td>1</td><td>7</td><td>0</td><td>0.0</td><td>0.1</td><td>2.0</td><td>0.987218</td></tr><tr><td>3</td><td>&quot;B0B2D37NXD&quot;</td><td>0.0</td><td>&quot;B0B4R9NN4B&quot;</td><td>1</td><td>7</td><td>0</td><td>0.0</td><td>0.0</td><td>1.0</td><td>0.994865</td></tr><tr><td>3</td><td>&quot;B0B4D56ZMW&quot;</td><td>0.0</td><td>&quot;B0B4R9NN4B&quot;</td><td>1</td><td>7</td><td>0</td><td>0.0</td><td>0.33</td><td>1.0</td><td>0.994023</td></tr><tr><td>3</td><td>&quot;B0B833FRKK&quot;</td><td>0.597938</td><td>&quot;B0B4R9NN4B&quot;</td><td>1</td><td>7</td><td>0</td><td>0.0</td><td>0.0</td><td>0.0</td><td>0.990813</td></tr><tr><td>3</td><td>&quot;B0B3965NRQ&quot;</td><td>0.0</td><td>&quot;B0B4R9NN4B&quot;</td><td>1</td><td>7</td><td>0</td><td>0.0</td><td>0.07</td><td>1.0</td><td>0.978123</td></tr></tbody></table></div>"
      ],
      "text/plain": [
       "shape: (5, 11)\n",
       "┌──────────┬────────────┬──────────┬───────┬───┬────────────┬────────────┬────────────┬────────────┐\n",
       "│ session_ ┆ next_item_ ┆ w2v_weig ┆ next_ ┆ … ┆ next_item_ ┆ next_item_ ┆ next_item_ ┆ last_item_ │\n",
       "│ id       ┆ prediction ┆ ht       ┆ item  ┆   ┆ weight     ┆ weight_nfi ┆ weight_co_ ┆ similarity │\n",
       "│ ---      ┆ ---        ┆ ---      ┆ ---   ┆   ┆ ---        ┆ ---        ┆ visit      ┆ ---        │\n",
       "│ i64      ┆ str        ┆ f64      ┆ str   ┆   ┆ f64        ┆ f32        ┆ ---        ┆ f32        │\n",
       "│          ┆            ┆          ┆       ┆   ┆            ┆            ┆ f32        ┆            │\n",
       "╞══════════╪════════════╪══════════╪═══════╪═══╪════════════╪════════════╪════════════╪════════════╡\n",
       "│ 3        ┆ B09P1MBQY4 ┆ 0.525773 ┆ B0B4R ┆ … ┆ 0.0        ┆ 0.1        ┆ 2.0        ┆ 0.987218   │\n",
       "│          ┆            ┆          ┆ 9NN4B ┆   ┆            ┆            ┆            ┆            │\n",
       "│ 3        ┆ B0B2D37NXD ┆ 0.0      ┆ B0B4R ┆ … ┆ 0.0        ┆ 0.0        ┆ 1.0        ┆ 0.994865   │\n",
       "│          ┆            ┆          ┆ 9NN4B ┆   ┆            ┆            ┆            ┆            │\n",
       "│ 3        ┆ B0B4D56ZMW ┆ 0.0      ┆ B0B4R ┆ … ┆ 0.0        ┆ 0.33       ┆ 1.0        ┆ 0.994023   │\n",
       "│          ┆            ┆          ┆ 9NN4B ┆   ┆            ┆            ┆            ┆            │\n",
       "│ 3        ┆ B0B833FRKK ┆ 0.597938 ┆ B0B4R ┆ … ┆ 0.0        ┆ 0.0        ┆ 0.0        ┆ 0.990813   │\n",
       "│          ┆            ┆          ┆ 9NN4B ┆   ┆            ┆            ┆            ┆            │\n",
       "│ 3        ┆ B0B3965NRQ ┆ 0.0      ┆ B0B4R ┆ … ┆ 0.0        ┆ 0.07       ┆ 1.0        ┆ 0.978123   │\n",
       "│          ┆            ┆          ┆ 9NN4B ┆   ┆            ┆            ┆            ┆            │\n",
       "└──────────┴────────────┴──────────┴───────┴───┴────────────┴────────────┴────────────┴────────────┘"
      ]
     },
     "execution_count": 19,
     "metadata": {},
     "output_type": "execute_result"
    }
   ],
   "source": [
    "eval_cg_pl.head().collect()"
   ]
  },
  {
   "cell_type": "markdown",
   "id": "96e5caca-a63e-4908-b633-04ea61fc934d",
   "metadata": {
    "tags": []
   },
   "source": [
    "## recall=1 or 0 "
   ]
  },
  {
   "cell_type": "code",
   "execution_count": 22,
   "id": "37995ad6-a496-4a2c-a2e0-47e558bb39c7",
   "metadata": {},
   "outputs": [],
   "source": [
    "combined_pl = (\n",
    "    eval_cg_pl.groupby('session_id')\n",
    "        .agg(pl.col('next_item_prediction'))\n",
    "        .join(\n",
    "            eval_pl.select(['session_id', 'next_item'])\n",
    "            , how='left'\n",
    "            , on='session_id'\n",
    "             )\n",
    ")\n",
    "\n",
    "combined_1 = combined_pl.filter(pl.col('next_item_prediction').arr.contains(pl.col('next_item')))\n",
    "combined_0 = combined_pl.filter(pl.col('next_item_prediction').arr.contains(pl.col('next_item')) == False)"
   ]
  },
  {
   "cell_type": "code",
   "execution_count": 31,
   "id": "20ab104e-8cc7-4935-a981-d979f408d240",
   "metadata": {},
   "outputs": [
    {
     "data": {
      "text/html": [
       "<div><style>\n",
       ".dataframe > thead > tr > th,\n",
       ".dataframe > tbody > tr > td {\n",
       "  text-align: right;\n",
       "}\n",
       "</style>\n",
       "<small>shape: (7, 2)</small><table border=\"1\" class=\"dataframe\"><thead><tr><th>describe</th><th>rec_num</th></tr><tr><td>str</td><td>f64</td></tr></thead><tbody><tr><td>&quot;count&quot;</td><td>199876.0</td></tr><tr><td>&quot;null_count&quot;</td><td>0.0</td></tr><tr><td>&quot;mean&quot;</td><td>206.523955</td></tr><tr><td>&quot;std&quot;</td><td>97.175547</td></tr><tr><td>&quot;min&quot;</td><td>72.0</td></tr><tr><td>&quot;max&quot;</td><td>478.0</td></tr><tr><td>&quot;median&quot;</td><td>170.0</td></tr></tbody></table></div>"
      ],
      "text/plain": [
       "shape: (7, 2)\n",
       "┌────────────┬────────────┐\n",
       "│ describe   ┆ rec_num    │\n",
       "│ ---        ┆ ---        │\n",
       "│ str        ┆ f64        │\n",
       "╞════════════╪════════════╡\n",
       "│ count      ┆ 199876.0   │\n",
       "│ null_count ┆ 0.0        │\n",
       "│ mean       ┆ 206.523955 │\n",
       "│ std        ┆ 97.175547  │\n",
       "│ min        ┆ 72.0       │\n",
       "│ max        ┆ 478.0      │\n",
       "│ median     ┆ 170.0      │\n",
       "└────────────┴────────────┘"
      ]
     },
     "execution_count": 31,
     "metadata": {},
     "output_type": "execute_result"
    }
   ],
   "source": [
    "(\n",
    "        combined_1.select(\n",
    "                pl.col('next_item_prediction').arr.lengths().alias('rec_num')\n",
    "            )\n",
    "            .collect()\n",
    "            .describe(\n",
    "                # percentiles=[0.1*i for i in range(10)]\n",
    "            )\n",
    "    )"
   ]
  },
  {
   "cell_type": "code",
   "execution_count": 32,
   "id": "133cacc9-0ff7-4b31-beb0-90dd0f5caea6",
   "metadata": {},
   "outputs": [
    {
     "data": {
      "text/html": [
       "<div><style>\n",
       ".dataframe > thead > tr > th,\n",
       ".dataframe > tbody > tr > td {\n",
       "  text-align: right;\n",
       "}\n",
       "</style>\n",
       "<small>shape: (7, 2)</small><table border=\"1\" class=\"dataframe\"><thead><tr><th>describe</th><th>rec_num</th></tr><tr><td>str</td><td>f64</td></tr></thead><tbody><tr><td>&quot;count&quot;</td><td>126567.0</td></tr><tr><td>&quot;null_count&quot;</td><td>0.0</td></tr><tr><td>&quot;mean&quot;</td><td>180.73083</td></tr><tr><td>&quot;std&quot;</td><td>94.73839</td></tr><tr><td>&quot;min&quot;</td><td>66.0</td></tr><tr><td>&quot;max&quot;</td><td>478.0</td></tr><tr><td>&quot;median&quot;</td><td>137.0</td></tr></tbody></table></div>"
      ],
      "text/plain": [
       "shape: (7, 2)\n",
       "┌────────────┬───────────┐\n",
       "│ describe   ┆ rec_num   │\n",
       "│ ---        ┆ ---       │\n",
       "│ str        ┆ f64       │\n",
       "╞════════════╪═══════════╡\n",
       "│ count      ┆ 126567.0  │\n",
       "│ null_count ┆ 0.0       │\n",
       "│ mean       ┆ 180.73083 │\n",
       "│ std        ┆ 94.73839  │\n",
       "│ min        ┆ 66.0      │\n",
       "│ max        ┆ 478.0     │\n",
       "│ median     ┆ 137.0     │\n",
       "└────────────┴───────────┘"
      ]
     },
     "execution_count": 32,
     "metadata": {},
     "output_type": "execute_result"
    }
   ],
   "source": [
    "(\n",
    "        combined_0.select(\n",
    "                pl.col('next_item_prediction').arr.lengths().alias('rec_num')\n",
    "            )\n",
    "            .collect()\n",
    "            .describe(\n",
    "                # percentiles=[0.1*i for i in range(10)]\n",
    "            )\n",
    "    )"
   ]
  },
  {
   "cell_type": "markdown",
   "id": "abfa6cb9-6ca7-4957-9cdf-ca5c679be770",
   "metadata": {},
   "source": [
    "## case study "
   ]
  },
  {
   "cell_type": "code",
   "execution_count": 33,
   "id": "352733a8-52d4-46a7-ba2c-fee793fb72f1",
   "metadata": {},
   "outputs": [
    {
     "data": {
      "text/html": [
       "<div><style>\n",
       ".dataframe > thead > tr > th,\n",
       ".dataframe > tbody > tr > td {\n",
       "  text-align: right;\n",
       "}\n",
       "</style>\n",
       "<small>shape: (5, 3)</small><table border=\"1\" class=\"dataframe\"><thead><tr><th>session_id</th><th>next_item_prediction</th><th>next_item</th></tr><tr><td>i64</td><td>list[str]</td><td>str</td></tr></thead><tbody><tr><td>413344</td><td>[&quot;B0BGPRRJDP&quot;, &quot;B08FRN4N1M&quot;, … &quot;B0BGPPZG2R&quot;]</td><td>&quot;B0BHX55BHS&quot;</td></tr><tr><td>2483552</td><td>[&quot;B09WF4MM8F&quot;, &quot;B084ZPL21L&quot;, … &quot;B07L3LJHVC&quot;]</td><td>&quot;B09G2TK6LS&quot;</td></tr><tr><td>1563936</td><td>[&quot;B09139Z9L8&quot;, &quot;B09YVN886F&quot;, … &quot;B07Y9X7VBX&quot;]</td><td>&quot;B07GFF82DP&quot;</td></tr><tr><td>2851552</td><td>[&quot;B0B8RJK4R8&quot;, &quot;B07KBFZ58N&quot;, … &quot;B07TS6QRTF&quot;]</td><td>&quot;B08NTBFF1G&quot;</td></tr><tr><td>165280</td><td>[&quot;B0B11GLKQJ&quot;, &quot;B0BG5TS7C2&quot;, … &quot;B07LFRP5SS&quot;]</td><td>&quot;B0B8Z9N114&quot;</td></tr></tbody></table></div>"
      ],
      "text/plain": [
       "shape: (5, 3)\n",
       "┌────────────┬───────────────────────────────────┬────────────┐\n",
       "│ session_id ┆ next_item_prediction              ┆ next_item  │\n",
       "│ ---        ┆ ---                               ┆ ---        │\n",
       "│ i64        ┆ list[str]                         ┆ str        │\n",
       "╞════════════╪═══════════════════════════════════╪════════════╡\n",
       "│ 413344     ┆ [\"B0BGPRRJDP\", \"B08FRN4N1M\", … \"… ┆ B0BHX55BHS │\n",
       "│ 2483552    ┆ [\"B09WF4MM8F\", \"B084ZPL21L\", … \"… ┆ B09G2TK6LS │\n",
       "│ 1563936    ┆ [\"B09139Z9L8\", \"B09YVN886F\", … \"… ┆ B07GFF82DP │\n",
       "│ 2851552    ┆ [\"B0B8RJK4R8\", \"B07KBFZ58N\", … \"… ┆ B08NTBFF1G │\n",
       "│ 165280     ┆ [\"B0B11GLKQJ\", \"B0BG5TS7C2\", … \"… ┆ B0B8Z9N114 │\n",
       "└────────────┴───────────────────────────────────┴────────────┘"
      ]
     },
     "execution_count": 33,
     "metadata": {},
     "output_type": "execute_result"
    }
   ],
   "source": [
    "combined_1.head().collect()"
   ]
  },
  {
   "cell_type": "code",
   "execution_count": 39,
   "id": "9af27959-4ece-4ad7-83d7-11e6479074cd",
   "metadata": {},
   "outputs": [],
   "source": [
    "session_id = 165280"
   ]
  },
  {
   "cell_type": "code",
   "execution_count": 40,
   "id": "c58593b4-ac63-49a6-99df-cf39df8fbd1a",
   "metadata": {},
   "outputs": [
    {
     "data": {
      "text/html": [
       "<div><style>\n",
       ".dataframe > thead > tr > th,\n",
       ".dataframe > tbody > tr > td {\n",
       "  text-align: right;\n",
       "}\n",
       "</style>\n",
       "<small>shape: (328, 11)</small><table border=\"1\" class=\"dataframe\"><thead><tr><th>session_id</th><th>next_item_prediction</th><th>w2v_weight</th><th>next_item</th><th>locale</th><th>prev_length</th><th>target</th><th>next_item_weight</th><th>next_item_weight_nfi</th><th>next_item_weight_co_visit</th><th>last_item_similarity</th></tr><tr><td>i64</td><td>str</td><td>f64</td><td>str</td><td>i32</td><td>u32</td><td>i32</td><td>f64</td><td>f32</td><td>f32</td><td>f32</td></tr></thead><tbody><tr><td>165280</td><td>&quot;B0B8Z9N114&quot;</td><td>0.989691</td><td>&quot;B0B8Z9N114&quot;</td><td>1</td><td>3</td><td>1</td><td>0.097591</td><td>16.919998</td><td>30.0</td><td>0.989086</td></tr><tr><td>165280</td><td>&quot;B0B11GLKQJ&quot;</td><td>0.030928</td><td>&quot;B0B8Z9N114&quot;</td><td>1</td><td>3</td><td>0</td><td>0.0</td><td>0.7</td><td>4.0</td><td>0.93842</td></tr><tr><td>165280</td><td>&quot;B0BG5TS7C2&quot;</td><td>0.0</td><td>&quot;B0B8Z9N114&quot;</td><td>1</td><td>3</td><td>0</td><td>0.0</td><td>0.25</td><td>3.0</td><td>0.858037</td></tr><tr><td>165280</td><td>&quot;B0B9ZZ1RXJ&quot;</td><td>0.0</td><td>&quot;B0B8Z9N114&quot;</td><td>1</td><td>3</td><td>0</td><td>0.01</td><td>1.22</td><td>5.0</td><td>0.933631</td></tr><tr><td>165280</td><td>&quot;B0B8ZCQ38T&quot;</td><td>0.917526</td><td>&quot;B0B8Z9N114&quot;</td><td>1</td><td>3</td><td>0</td><td>0.031898</td><td>6.25</td><td>14.0</td><td>0.983005</td></tr><tr><td>165280</td><td>&quot;B01D4MAH08&quot;</td><td>0.0</td><td>&quot;B0B8Z9N114&quot;</td><td>1</td><td>3</td><td>0</td><td>0.01</td><td>1.0</td><td>2.0</td><td>0.912953</td></tr><tr><td>165280</td><td>&quot;B09LYWG5XR&quot;</td><td>0.0</td><td>&quot;B0B8Z9N114&quot;</td><td>1</td><td>3</td><td>0</td><td>0.0</td><td>0.25</td><td>2.0</td><td>0.924414</td></tr><tr><td>165280</td><td>&quot;B0BGSRWVL3&quot;</td><td>0.0</td><td>&quot;B0B8Z9N114&quot;</td><td>1</td><td>3</td><td>0</td><td>0.0</td><td>0.58</td><td>6.0</td><td>0.965941</td></tr><tr><td>165280</td><td>&quot;B0B65JNJQX&quot;</td><td>0.0</td><td>&quot;B0B8Z9N114&quot;</td><td>1</td><td>3</td><td>0</td><td>0.0</td><td>0.28</td><td>2.0</td><td>0.821898</td></tr><tr><td>165280</td><td>&quot;B0BJKQPKZJ&quot;</td><td>0.57732</td><td>&quot;B0B8Z9N114&quot;</td><td>1</td><td>3</td><td>0</td><td>0.0</td><td>0.5</td><td>3.0</td><td>0.968863</td></tr><tr><td>165280</td><td>&quot;B0B9SB748P&quot;</td><td>0.0</td><td>&quot;B0B8Z9N114&quot;</td><td>1</td><td>3</td><td>0</td><td>0.017299</td><td>4.18</td><td>18.0</td><td>0.900881</td></tr><tr><td>165280</td><td>&quot;B0BDYTWZQ8&quot;</td><td>0.536082</td><td>&quot;B0B8Z9N114&quot;</td><td>1</td><td>3</td><td>0</td><td>0.0</td><td>0.37</td><td>3.0</td><td>0.966268</td></tr><tr><td>&hellip;</td><td>&hellip;</td><td>&hellip;</td><td>&hellip;</td><td>&hellip;</td><td>&hellip;</td><td>&hellip;</td><td>&hellip;</td><td>&hellip;</td><td>&hellip;</td><td>&hellip;</td></tr><tr><td>165280</td><td>&quot;B01IDNM8E6&quot;</td><td>0.0</td><td>&quot;B0B8Z9N114&quot;</td><td>1</td><td>3</td><td>0</td><td>0.0</td><td>0.75</td><td>2.0</td><td>0.504224</td></tr><tr><td>165280</td><td>&quot;B0BD3GZJT2&quot;</td><td>0.0</td><td>&quot;B0B8Z9N114&quot;</td><td>1</td><td>3</td><td>0</td><td>0.01</td><td>1.58</td><td>3.0</td><td>0.819186</td></tr><tr><td>165280</td><td>&quot;B005N820Y8&quot;</td><td>0.0</td><td>&quot;B0B8Z9N114&quot;</td><td>1</td><td>3</td><td>0</td><td>0.0</td><td>0.0</td><td>1.0</td><td>0.427959</td></tr><tr><td>165280</td><td>&quot;B0B8WCDSMX&quot;</td><td>0.340206</td><td>&quot;B0B8Z9N114&quot;</td><td>1</td><td>3</td><td>0</td><td>0.01</td><td>3.46</td><td>11.0</td><td>0.961511</td></tr><tr><td>165280</td><td>&quot;B09TW667PK&quot;</td><td>0.134021</td><td>&quot;B0B8Z9N114&quot;</td><td>1</td><td>3</td><td>0</td><td>0.0</td><td>0.0</td><td>2.0</td><td>0.939787</td></tr><tr><td>165280</td><td>&quot;B09QT3JXHB&quot;</td><td>0.742268</td><td>&quot;B0B8Z9N114&quot;</td><td>1</td><td>3</td><td>0</td><td>0.0</td><td>0.77</td><td>4.0</td><td>0.975837</td></tr><tr><td>165280</td><td>&quot;B08FRB1FV4&quot;</td><td>0.0</td><td>&quot;B0B8Z9N114&quot;</td><td>1</td><td>3</td><td>0</td><td>0.0</td><td>0.06</td><td>2.0</td><td>0.926219</td></tr><tr><td>165280</td><td>&quot;B08XLHY2CJ&quot;</td><td>0.0</td><td>&quot;B0B8Z9N114&quot;</td><td>1</td><td>3</td><td>0</td><td>0.0</td><td>0.52</td><td>3.0</td><td>0.544872</td></tr><tr><td>165280</td><td>&quot;B09ZPFMYPQ&quot;</td><td>0.0</td><td>&quot;B0B8Z9N114&quot;</td><td>1</td><td>3</td><td>0</td><td>0.0</td><td>0.2</td><td>2.0</td><td>0.817798</td></tr><tr><td>165280</td><td>&quot;B08DJ6BX2F&quot;</td><td>0.0</td><td>&quot;B0B8Z9N114&quot;</td><td>1</td><td>3</td><td>0</td><td>0.0</td><td>0.03</td><td>3.0</td><td>0.670473</td></tr><tr><td>165280</td><td>&quot;B09QFPYX34&quot;</td><td>0.0</td><td>&quot;B0B8Z9N114&quot;</td><td>1</td><td>3</td><td>0</td><td>0.0</td><td>0.0</td><td>1.0</td><td>0.366865</td></tr><tr><td>165280</td><td>&quot;B07LFRP5SS&quot;</td><td>0.0</td><td>&quot;B0B8Z9N114&quot;</td><td>1</td><td>3</td><td>0</td><td>0.0</td><td>0.33</td><td>1.0</td><td>0.343211</td></tr></tbody></table></div>"
      ],
      "text/plain": [
       "shape: (328, 11)\n",
       "┌──────────┬────────────┬──────────┬───────┬───┬────────────┬────────────┬────────────┬────────────┐\n",
       "│ session_ ┆ next_item_ ┆ w2v_weig ┆ next_ ┆ … ┆ next_item_ ┆ next_item_ ┆ next_item_ ┆ last_item_ │\n",
       "│ id       ┆ prediction ┆ ht       ┆ item  ┆   ┆ weight     ┆ weight_nfi ┆ weight_co_ ┆ similarity │\n",
       "│ ---      ┆ ---        ┆ ---      ┆ ---   ┆   ┆ ---        ┆ ---        ┆ visit      ┆ ---        │\n",
       "│ i64      ┆ str        ┆ f64      ┆ str   ┆   ┆ f64        ┆ f32        ┆ ---        ┆ f32        │\n",
       "│          ┆            ┆          ┆       ┆   ┆            ┆            ┆ f32        ┆            │\n",
       "╞══════════╪════════════╪══════════╪═══════╪═══╪════════════╪════════════╪════════════╪════════════╡\n",
       "│ 165280   ┆ B0B8Z9N114 ┆ 0.989691 ┆ B0B8Z ┆ … ┆ 0.097591   ┆ 16.919998  ┆ 30.0       ┆ 0.989086   │\n",
       "│          ┆            ┆          ┆ 9N114 ┆   ┆            ┆            ┆            ┆            │\n",
       "│ 165280   ┆ B0B11GLKQJ ┆ 0.030928 ┆ B0B8Z ┆ … ┆ 0.0        ┆ 0.7        ┆ 4.0        ┆ 0.93842    │\n",
       "│          ┆            ┆          ┆ 9N114 ┆   ┆            ┆            ┆            ┆            │\n",
       "│ 165280   ┆ B0BG5TS7C2 ┆ 0.0      ┆ B0B8Z ┆ … ┆ 0.0        ┆ 0.25       ┆ 3.0        ┆ 0.858037   │\n",
       "│          ┆            ┆          ┆ 9N114 ┆   ┆            ┆            ┆            ┆            │\n",
       "│ 165280   ┆ B0B9ZZ1RXJ ┆ 0.0      ┆ B0B8Z ┆ … ┆ 0.01       ┆ 1.22       ┆ 5.0        ┆ 0.933631   │\n",
       "│          ┆            ┆          ┆ 9N114 ┆   ┆            ┆            ┆            ┆            │\n",
       "│ …        ┆ …          ┆ …        ┆ …     ┆ … ┆ …          ┆ …          ┆ …          ┆ …          │\n",
       "│ 165280   ┆ B09ZPFMYPQ ┆ 0.0      ┆ B0B8Z ┆ … ┆ 0.0        ┆ 0.2        ┆ 2.0        ┆ 0.817798   │\n",
       "│          ┆            ┆          ┆ 9N114 ┆   ┆            ┆            ┆            ┆            │\n",
       "│ 165280   ┆ B08DJ6BX2F ┆ 0.0      ┆ B0B8Z ┆ … ┆ 0.0        ┆ 0.03       ┆ 3.0        ┆ 0.670473   │\n",
       "│          ┆            ┆          ┆ 9N114 ┆   ┆            ┆            ┆            ┆            │\n",
       "│ 165280   ┆ B09QFPYX34 ┆ 0.0      ┆ B0B8Z ┆ … ┆ 0.0        ┆ 0.0        ┆ 1.0        ┆ 0.366865   │\n",
       "│          ┆            ┆          ┆ 9N114 ┆   ┆            ┆            ┆            ┆            │\n",
       "│ 165280   ┆ B07LFRP5SS ┆ 0.0      ┆ B0B8Z ┆ … ┆ 0.0        ┆ 0.33       ┆ 1.0        ┆ 0.343211   │\n",
       "│          ┆            ┆          ┆ 9N114 ┆   ┆            ┆            ┆            ┆            │\n",
       "└──────────┴────────────┴──────────┴───────┴───┴────────────┴────────────┴────────────┴────────────┘"
      ]
     },
     "execution_count": 40,
     "metadata": {},
     "output_type": "execute_result"
    }
   ],
   "source": [
    "eval_cg_pl.filter(pl.col('session_id')==session_id).sort('target', descending=True).collect()"
   ]
  },
  {
   "cell_type": "markdown",
   "id": "f3792fac-43cb-4754-9b10-9bcb1610dc0c",
   "metadata": {
    "jp-MarkdownHeadingCollapsed": true,
    "tags": []
   },
   "source": [
    "# Function "
   ]
  },
  {
   "cell_type": "code",
   "execution_count": 6,
   "id": "195dd95c-2df7-4e10-b53e-34a07c51588b",
   "metadata": {},
   "outputs": [],
   "source": [
    "def candidates_validation(target_pl):\n",
    "    # rec_summary  = (target_pl\n",
    "    #         .lazy()\n",
    "    #         .select(\n",
    "    #             pl.col('next_item_prediction').arr.lengths().alias('rec_num')\n",
    "    #         ).collect().describe())\n",
    "    # print(rec_summary)\n",
    "    max_sample_per_NIP = (\n",
    "        target_pl.groupby(['session_id', 'next_item_prediction'])\n",
    "            .agg(\n",
    "                pl.count().alias('unique_count')\n",
    "                # , pl.col('w2v_weight').max().alias('max_w2v_weight')\n",
    "                # , pl.col('w2v_weight').min().alias('min_w2v_weight')\n",
    "            )\n",
    "            .select(\n",
    "                pl.col('unique_count').max().alias('max_unique_cnt')\n",
    "                # , pl.col('max_w2v_weight').min().alias('min_max_w2v')\n",
    "                # , pl.col('min_w2v_weight').max().alias('max_min_w2v')\n",
    "            )\n",
    "    ).to_pandas()['max_unique_cnt'].values[0]\n",
    "    # print(stat_info)\n",
    "    # print(max_sample_per_NIP)\n",
    "    assert max_sample_per_NIP == 1, f\"there should be unique prediction for every session_id\""
   ]
  },
  {
   "cell_type": "markdown",
   "id": "33cccd9d-18fd-4339-a739-39d7021cef73",
   "metadata": {},
   "source": [
    "# Original data "
   ]
  },
  {
   "cell_type": "code",
   "execution_count": 7,
   "id": "3486f554-4ca0-460c-9d31-4b4b1f2c5e6b",
   "metadata": {},
   "outputs": [],
   "source": [
    "\n",
    "\n",
    "# # df_sess.head(3).collect()\n",
    "# test_pl = pl.scan_parquet(os.path.join(base_dir, raw_data_session_id_dir, 'sessions_test_task1.parquet'), n_rows=SAMPLE_NUM).with_columns(pl.col('prev_items').apply(str2list))\n"
   ]
  },
  {
   "cell_type": "markdown",
   "id": "5ef383a2-3ad1-4b70-b490-b607be419a8e",
   "metadata": {},
   "source": [
    "# Re-process data for memmory "
   ]
  },
  {
   "cell_type": "code",
   "execution_count": 8,
   "id": "56945b3b-dd62-49bf-b46f-89f98010deb2",
   "metadata": {},
   "outputs": [],
   "source": [
    "def re_process_data(task=task, \n",
    "                       w2v_model_version=w2v_model_version, \n",
    "                       nic_model_version=nic_model_version,\n",
    "                       nfi_model_version=nfi_model_version,\n",
    "                       covisit_model_version=covisit_model_version,\n",
    "                    model_for_eval=model_for_eval,\n",
    "                      w2v_topn=w2v_topn\n",
    "                      , nic_topn=nic_topn\n",
    "                       , nfi_topn=nfi_topn\n",
    "                       , covisit_topn=covisit_topn\n",
    "                    , train_parts=train_parts\n",
    "                      ):\n",
    "    parts = train_parts\n",
    "\n",
    "    data_type = 'train'\n",
    "    w2v_file = os.path.join(candidate_path, \n",
    "                           candidate_file_name.format(\n",
    "                    task=task\n",
    "                , data_type=data_type\n",
    "                , model_version=w2v_model_version\n",
    "                , model_for_eval=model_for_eval\n",
    "                , topn=w2v_topn\n",
    "                           ))\n",
    "    nic_file = os.path.join(candidate_path,\n",
    "                candidate_file_name.format(\n",
    "                    task=task\n",
    "                    , data_type=data_type\n",
    "                    , model_version=nic_model_version\n",
    "                    , model_for_eval=model_for_eval\n",
    "                    , topn=nic_topn\n",
    "                           ))\n",
    "    nfi_file = os.path.join(candidate_path,\n",
    "            candidate_file_name.format(\n",
    "                task=task\n",
    "                , data_type=data_type\n",
    "                , model_version=nfi_model_version\n",
    "                , model_for_eval=model_for_eval\n",
    "                , topn=nfi_topn\n",
    "                       ))\n",
    "    covisit_file = os.path.join(candidate_path,\n",
    "            candidate_file_name.format(\n",
    "                task=task\n",
    "                , data_type=data_type\n",
    "                , model_version=covisit_model_version\n",
    "                , model_for_eval=model_for_eval\n",
    "                , topn=covisit_topn\n",
    "                       ))\n",
    "    # w2v_pl = pl.scan_parquet(w2v_file, n_rows=SAMPLE_NUM).collect().sort('session_id')#.with_columns(pl.col('prev_items').apply(str2list))\n",
    "    # nic_pl = pl.scan_parquet(nic_file, n_rows=SAMPLE_NUM).collect().sort('session_id')#.with_columns(pl.col('prev_items').apply(str2list))\n",
    "    # nfi_pl = pl.scan_parquet(nfi_file, n_rows=SAMPLE_NUM).collect().sort('session_id')#.with_columns(pl.col('prev_items').apply(str2list))\n",
    "    # covisit_pl = pl.scan_parquet(covisit_file, n_rows=SAMPLE_NUM).collect().sort('session_id')#.with_columns(pl.col('prev_items').apply(str2list))\n",
    "    dir_lst = []\n",
    "    pl_lst = []\n",
    "    for file_name in [w2v_file, nic_file, nfi_file, covisit_file]:\n",
    "        data_pl = pl.scan_parquet(w2v_file, n_rows=SAMPLE_NUM).collect().sort('session_id')\n",
    "        dir_name = file_name.replace('.parquet', '')\n",
    "        print(dir_name)\n",
    "        dir_lst.append(dir_name)\n",
    "        pl_lst.append(data_pl)\n",
    "        if not os.path.isdir(dir_name):\n",
    "            os.mkdir(dir_name)\n",
    "    assert pl_lst[0].shape[0] == pl_lst[1].shape[0] == pl_lst[2].shape[0] == pl_lst[3].shape[0]\n",
    "    total_len = pl_lst[0].shape[0]\n",
    "\n",
    "    rows_per_part = int(total_len/parts)\n",
    "\n",
    "    for dir_path, data_pl in zip(dir_lst, pl_lst):\n",
    "        print(dir_path)\n",
    "        for idx in tqdm(range(parts)):\n",
    "            begin = idx*rows_per_part\n",
    "            if idx != parts-1:\n",
    "                end = (idx+1)*rows_per_part\n",
    "            else:\n",
    "                end = total_len\n",
    "            part_pl = data_pl[begin:end :]\n",
    "            file_name = os.path.join(dir_path, f\"part_{idx+1}.parquet\")\n",
    "            print(f'{begin} - {end} -> {file_name}')\n",
    "            part_pl.write_parquet(file_name)"
   ]
  },
  {
   "cell_type": "code",
   "execution_count": null,
   "id": "c3577175-b1b6-4f05-85e9-628e4a723e38",
   "metadata": {},
   "outputs": [],
   "source": []
  },
  {
   "cell_type": "code",
   "execution_count": 9,
   "id": "d3b140a7-790d-4cfa-9664-761f05b93c74",
   "metadata": {},
   "outputs": [],
   "source": [
    "if reprocess_train_data:\n",
    "    re_process_data()"
   ]
  },
  {
   "cell_type": "code",
   "execution_count": 10,
   "id": "02a9baba-c2b7-441a-878f-0d71ad4e4dfe",
   "metadata": {},
   "outputs": [],
   "source": [
    "# ! ls ../data/candidates/task1_train_w2v_v3_True_top100"
   ]
  },
  {
   "cell_type": "code",
   "execution_count": 11,
   "id": "965a541a-6d56-4a0d-9470-7f1ae2a733e0",
   "metadata": {},
   "outputs": [],
   "source": [
    "# df = pl.scan_parquet(os.path.join('../data/candidates/task1_train_co_visit_True_top300/', 'part_20.parquet'))"
   ]
  },
  {
   "cell_type": "code",
   "execution_count": 12,
   "id": "a524368a-c385-4878-8042-60d248049b58",
   "metadata": {},
   "outputs": [],
   "source": [
    "# df.head().collect()"
   ]
  },
  {
   "cell_type": "markdown",
   "id": "5e9d66b7-afd4-4207-a497-d733fe520055",
   "metadata": {},
   "source": [
    "# Get candiadtes"
   ]
  },
  {
   "cell_type": "code",
   "execution_count": 13,
   "id": "655df00b-b421-41ff-a016-52ec598e2120",
   "metadata": {},
   "outputs": [],
   "source": [
    "# data_type = 'eval'\n",
    "# w2v_file = os.path.join(candidate_path, \n",
    "#                            candidate_file_name.format(\n",
    "#                     task=task\n",
    "#                 , data_type=data_type\n",
    "#                 , model_version=w2v_model_version\n",
    "#                 , model_for_eval=model_for_eval\n",
    "#                 , topn=w2v_topn\n",
    "#                            ))\n",
    "# w2v_file\n",
    "# w2v_pl = pl.scan_parquet(w2v_file, n_rows=SAMPLE_NUM)"
   ]
  },
  {
   "cell_type": "code",
   "execution_count": null,
   "id": "ae5d05e1-c0dc-428f-b083-162ef74b4a50",
   "metadata": {},
   "outputs": [],
   "source": []
  },
  {
   "cell_type": "code",
   "execution_count": null,
   "id": "cace44d1-7a16-4e49-90e1-7962134104fb",
   "metadata": {},
   "outputs": [],
   "source": []
  },
  {
   "cell_type": "code",
   "execution_count": 14,
   "id": "f6493505-cef7-4630-9c3a-0b436d2f9189",
   "metadata": {},
   "outputs": [],
   "source": [
    "    # w2v_pl = pl.scan_parquet(w2v_file, n_rows=SAMPLE_NUM)#.with_columns(pl.col('prev_items').apply(str2list))\n"
   ]
  },
  {
   "cell_type": "code",
   "execution_count": 15,
   "id": "5242ea97-e5dd-45aa-96ef-043d295133fd",
   "metadata": {},
   "outputs": [],
   "source": [
    "# def similarity_by_vec(x, col='last_prev_item'):\n",
    "#     try:\n",
    "#         next_item_prediction = \n",
    "#         prev_items_vec = np.array([w2vec.wv[ele] for ele in prev_items]).mean(axis=0)\n",
    "#         next_item_vec = w2vec.wv[next_item_prediction]\n",
    "#         1 - scipy.spatial.distance.cosine(prev_items_vec, next_item_vec)\n",
    "#         simi = w2vec.wv.n_similarity([x['next_item_prediction']],\n",
    "#                                                   target\n",
    "#                                                  )\n",
    "#     except Exception as e:\n",
    "#         print(e)\n",
    "#         # print(x[col])\n",
    "#         simi = 0\n",
    "#     return simi\n",
    "\n",
    "\n",
    "def get_all_candidates(data_type, task=task, \n",
    "                       w2v_model_version=w2v_model_version, \n",
    "                       nic_model_version=nic_model_version,\n",
    "                       nfi_model_version=nfi_model_version,\n",
    "                       covisit_model_version=covisit_model_version,\n",
    "                    model_for_eval=model_for_eval,\n",
    "                      w2v_topn=w2v_topn\n",
    "                      , nic_topn=nic_topn\n",
    "                       , nfi_topn=nfi_topn\n",
    "                       , covisit_topn=covisit_topn\n",
    "                       , part=None\n",
    "                      ):\n",
    "    w2v_file = os.path.join(candidate_path, \n",
    "                           candidate_file_name.format(\n",
    "                    task=task\n",
    "                , data_type=data_type\n",
    "                , model_version=w2v_model_version\n",
    "                , model_for_eval=model_for_eval\n",
    "                , topn=w2v_topn\n",
    "                           ))\n",
    "    nic_file = os.path.join(candidate_path,\n",
    "                candidate_file_name.format(\n",
    "                    task=task\n",
    "                    , data_type=data_type\n",
    "                    , model_version=nic_model_version\n",
    "                    , model_for_eval=model_for_eval\n",
    "                    , topn=nic_topn\n",
    "                           ))\n",
    "    nfi_file = os.path.join(candidate_path,\n",
    "            candidate_file_name.format(\n",
    "                task=task\n",
    "                , data_type=data_type\n",
    "                , model_version=nfi_model_version\n",
    "                , model_for_eval=model_for_eval\n",
    "                , topn=nfi_topn\n",
    "                       ))\n",
    "    covisit_file = os.path.join(candidate_path,\n",
    "            candidate_file_name.format(\n",
    "                task=task\n",
    "                , data_type=data_type\n",
    "                , model_version=covisit_model_version\n",
    "                , model_for_eval=model_for_eval\n",
    "                , topn=covisit_topn\n",
    "                       ))\n",
    "    if data_type == 'train':\n",
    "        assert part is not None\n",
    "        w2v_file = os.path.join(w2v_file.replace('.parquet', ''), f\"part_{part}.parquet\")\n",
    "        nic_file = os.path.join(nic_file.replace('.parquet', ''), f\"part_{part}.parquet\")\n",
    "        nfi_file = os.path.join(nfi_file.replace('.parquet', ''), f\"part_{part}.parquet\")\n",
    "        covisit_file = os.path.join(covisit_file.replace('.parquet', ''), f\"part_{part}.parquet\")\n",
    "\n",
    "    if data_type == 'test':\n",
    "        original_file_name = f\"sessions_{data_type}_{task}.parquet\"\n",
    "    else:\n",
    "        original_file_name = f\"sessions_{data_type}.parquet\"\n",
    "    original_pl = pl.scan_parquet(os.path.join(base_dir, raw_data_session_id_dir, original_file_name), n_rows=SAMPLE_NUM).filter(pl.col('locale').is_in(target_locals)).with_columns(pl.col('prev_items').apply(str2list))\n",
    "    w2v_pl = pl.scan_parquet(w2v_file, n_rows=SAMPLE_NUM)#.with_columns(pl.col('prev_items').apply(str2list))\n",
    "    nic_pl = pl.scan_parquet(nic_file, n_rows=SAMPLE_NUM)#.with_columns(pl.col('prev_items').apply(str2list))\n",
    "    nfi_pl = pl.scan_parquet(nfi_file, n_rows=SAMPLE_NUM)#.with_columns(pl.col('prev_items').apply(str2list))\n",
    "    covisit_pl = pl.scan_parquet(covisit_file, n_rows=SAMPLE_NUM)#.with_columns(pl.col('prev_items').apply(str2list))\n",
    "\n",
    "\n",
    "#     def get_vector(prev_items):\n",
    "#         prev_items_vec = np.array([w2vec.wv[ele] for ele in prev_items]).mean(axis=0)\n",
    "#         return prev_items_vec\n",
    "    \n",
    "#     original_pl = (\n",
    "#             original_pl.with_columns(\n",
    "#                 pl.col('prev_items').apply(lambda x: get_vector(x)).alias('all_previous_items_vec')\n",
    "#             )\n",
    "#         )\n",
    "    \n",
    "    # get w2v weight\n",
    "    w2v_pl = w2v_pl.with_columns(pl.col('next_item_prediction').arr.lengths().alias('rec_num')).with_columns(\n",
    "        pl.col('rec_num').apply(lambda x: list(range(x, 0, -1))).alias('w2v_weight')\n",
    "        \n",
    "    )\n",
    "    # print(w2v_pl.head().collect())\n",
    "    get_w2v_weight = pl.element().rank()*0\n",
    "    nic_pl = nic_pl.with_columns(\n",
    "        pl.col('next_item_prediction').arr.eval(get_w2v_weight, \n",
    "                                                # parallel=True\n",
    "                                               ).alias('w2v_weight').cast(pl.List(pl.Int64))\n",
    "    )\n",
    "    nfi_pl = nfi_pl.with_columns(\n",
    "        pl.col('next_item_prediction').arr.eval(get_w2v_weight, \n",
    "                                               ).alias('w2v_weight').cast(pl.List(pl.Int64))\n",
    "    )\n",
    "    covisit_pl = covisit_pl.with_columns(\n",
    "        pl.col('next_item_prediction').arr.eval(get_w2v_weight, \n",
    "                                               ).alias('w2v_weight').cast(pl.List(pl.Int64))\n",
    "    )\n",
    "    cols = ['session_id', 'next_item_prediction', \n",
    "            'w2v_weight'\n",
    "           ]\n",
    "    # combined_pl = (\n",
    "    #     w2v_pl.select(cols)\n",
    "    #         .join(nic_pl.select(cols), how='left', on='session_id', suffix='_nic')\n",
    "    #         .join(nfi_pl.select(cols), how='left', on='session_id', suffix='_nfi')\n",
    "    # )\n",
    "\n",
    "    # combined_pl = combined_pl.with_columns(\n",
    "    #     pl.concat_list([pl.col('next_item_prediction'), pl.col('next_item_prediction_nic')]).alias('next_item_prediction'), \n",
    "    #     pl.concat_list([pl.col('w2v_weight'), pl.col('w2v_weight_nic')]).alias('w2v_weight'), \n",
    "    # ).select(\n",
    "    #     pl.all().exclude(['next_item_prediction_nic', 'w2v_weight_nic'])\n",
    "    # )\n",
    "    explode_cols = ['next_item_prediction', \n",
    "                    'w2v_weight'\n",
    "                   ]\n",
    "    combined_pl = (\n",
    "            pl.concat([w2v_pl.select(cols).explode(explode_cols)\n",
    "                       , nic_pl.select(cols).explode(explode_cols)\n",
    "                       , nfi_pl.select(cols).explode(explode_cols)\n",
    "                       , covisit_pl.select(cols).explode(explode_cols)\n",
    "                      ], how='vertical')\n",
    "                .groupby(['session_id', 'next_item_prediction'])\n",
    "                .agg(\n",
    "                    pl.col('w2v_weight').max().alias('w2v_weight')\n",
    "                )\n",
    "                .join(original_pl.select(['session_id', 'prev_items']), how='left', on='session_id')\n",
    "                .filter(pl.col('prev_items').arr.contains(pl.col('next_item_prediction'))==False)\n",
    "                .with_columns(\n",
    "                    pl.col('w2v_weight').max().over('session_id').alias('max_count')\n",
    "                    , pl.col('w2v_weight').min().over('session_id').alias('min_count')\n",
    "                )\n",
    "                .with_columns(\n",
    "                    pl.when(pl.col('max_count')==pl.col('min_count')).then(1).otherwise((pl.col('w2v_weight')-pl.col('min_count'))/(pl.col('max_count')-pl.col('min_count'))).alias('w2v_weight')\n",
    "                )\n",
    "                .select(\n",
    "                        pl.exclude(['prev_items', 'max_count', 'min_count'])\n",
    "\n",
    "                )\n",
    "                .groupby('session_id')\n",
    "                .agg(\n",
    "                    pl.all()\n",
    "                )\n",
    "    )\n",
    "    combined_pl = (\n",
    "        combined_pl.join(original_pl, how='left', on='session_id')\n",
    "            .with_columns(\n",
    "                pl.col('prev_items').arr.lengths().alias('prev_length')\n",
    "                , pl.col('prev_items').arr.get(-1).alias('last_prev_item')\n",
    "            ).select(\n",
    "                pl.all().exclude('prev_items')\n",
    "            )\n",
    "    )\n",
    "    return combined_pl\n"
   ]
  },
  {
   "cell_type": "code",
   "execution_count": 16,
   "id": "5450fc2a-d9ee-4895-b972-0033129c3193",
   "metadata": {},
   "outputs": [],
   "source": [
    "eval_cg_pl = get_all_candidates(data_type='eval')\n"
   ]
  },
  {
   "cell_type": "code",
   "execution_count": 17,
   "id": "98174218-9b34-4b88-9ad3-2a84bcbe28cc",
   "metadata": {},
   "outputs": [],
   "source": [
    "test_cg_pl = get_all_candidates(data_type='test')"
   ]
  },
  {
   "cell_type": "code",
   "execution_count": 18,
   "id": "833a63a6-4528-42cc-8617-fa01cb735999",
   "metadata": {},
   "outputs": [],
   "source": [
    "# eval_cg_pl.head().collect()"
   ]
  },
  {
   "cell_type": "code",
   "execution_count": 19,
   "id": "ba652df1-cb57-4e41-802f-cb82cd4bfbbb",
   "metadata": {},
   "outputs": [],
   "source": [
    "# eval_cg_pl.select(\n",
    "#     pl.col('next_item_prediction').arr.lengths().alias('len1')\n",
    "#     , pl.col('w2v_weight').arr.lengths().alias('len2')\n",
    "# ).collect().describe()"
   ]
  },
  {
   "cell_type": "code",
   "execution_count": 20,
   "id": "d2ca92ac-7ec5-49f2-8f10-d0525f940b3b",
   "metadata": {},
   "outputs": [],
   "source": [
    "# eval_cg_pl.select(\n",
    "#     pl.col('next_item_prediction').arr.lengths().alias('len1')\n",
    "#     , pl.col('w2v_weight').arr.lengths().alias('len2')\n",
    "# ).collect().describe()"
   ]
  },
  {
   "cell_type": "code",
   "execution_count": 21,
   "id": "83fceb6d-9b95-43a4-a6a4-8d85ad28362b",
   "metadata": {},
   "outputs": [],
   "source": [
    "# ).collect().describe()"
   ]
  },
  {
   "cell_type": "code",
   "execution_count": 22,
   "id": "b40aeaa9-deae-4fcc-9a61-ebb95d1eef15",
   "metadata": {},
   "outputs": [],
   "source": [
    "# eval_cg_pl.head().collect()"
   ]
  },
  {
   "cell_type": "code",
   "execution_count": 23,
   "id": "b9d1ea67-ba17-4306-95fd-117132714fba",
   "metadata": {},
   "outputs": [],
   "source": [
    "# eval_cg_pl.head().collect()"
   ]
  },
  {
   "cell_type": "markdown",
   "id": "0db6d45e-36d7-4844-a312-e419b7d9ff3e",
   "metadata": {
    "tags": []
   },
   "source": [
    "# Eval candidate generation "
   ]
  },
  {
   "cell_type": "code",
   "execution_count": 24,
   "id": "3bcff578-861e-46af-b1f7-fab9d7a774af",
   "metadata": {},
   "outputs": [],
   "source": [
    "if eval_cg:\n",
    "    eval_topn = 3000\n",
    "\n",
    "    col = f\"recall@{eval_topn}\"\n",
    "    eval_final = (\n",
    "            eval_cg_pl\n",
    "            .lazy()\n",
    "            .with_columns(\n",
    "                pl.col('next_item_prediction').cast(pl.List(pl.Utf8))\n",
    "            )\n",
    "            ).with_columns(\n",
    "                pl.col('next_item_prediction').arr.head(eval_topn).arr.contains(pl.col('next_item')).mean().alias(col)\n",
    "\n",
    "            )\n",
    "    final_res = eval_final.select(\n",
    "            pl.count().alias('total_sessions')\n",
    "            , pl.col(col).mean()\n",
    "\n",
    "        ).collect()\n",
    "    describe = (eval_cg_pl\n",
    "            .lazy()\n",
    "            .select(\n",
    "                pl.col('next_item_prediction').arr.lengths().alias('rec_num')\n",
    "            ).collect().describe())\n",
    "    print(describe)\n",
    "    print(final_res)\n",
    "    del final_res"
   ]
  },
  {
   "cell_type": "markdown",
   "id": "9a40c22f-010f-4bba-ae1f-aa76247c638d",
   "metadata": {
    "tags": []
   },
   "source": [
    "# Feature Process "
   ]
  },
  {
   "cell_type": "markdown",
   "id": "1552490e-efa5-49fe-810f-954bdc3f6517",
   "metadata": {},
   "source": [
    "## Load NIC, W2V Model "
   ]
  },
  {
   "cell_type": "code",
   "execution_count": 25,
   "id": "a9c64bc6-0657-455d-bf4c-f4cfe23d6e1d",
   "metadata": {},
   "outputs": [
    {
     "name": "stdout",
     "output_type": "stream",
     "text": [
      "{'next_item_prediction': Utf8, 'next_item_weight': Float64, 'last_prev_item': Utf8}\n",
      "{'next_item_prediction': Utf8, 'next_item_weight': Float32, 'last_prev_item': Utf8}\n"
     ]
    }
   ],
   "source": [
    "nic_model = (\n",
    "    pl.scan_parquet('../model_training/next_item_counter_v2/nic_model.parquet')\n",
    "        .explode(['next_item_prediction', 'next_item_weight'])\n",
    "        .select(\n",
    "            pl.all().exclude('item')\n",
    "            , pl.col('item').alias('last_prev_item')\n",
    "        )\n",
    "            )\n",
    "print(nic_model.schema)\n",
    "\n",
    "nfi_model = (\n",
    "    pl.scan_parquet('../model_training/next_few_items_v1/nic_True_for_eval.parquet')\n",
    "        .explode(['next_item_prediction', 'next_item_weight'])\n",
    "        .select(\n",
    "            pl.all().exclude('item')\n",
    "            , pl.col('item').alias('last_prev_item')\n",
    "            # , pl.col()\n",
    "        )\n",
    "            )\n",
    "print(nfi_model.schema)\n",
    "\n",
    "\n",
    "\n",
    "# w2v_model_file = '../model_training/v2/w2v.model'\n",
    "w2vec = Word2Vec.load(w2v_model_file)\n",
    "annoy_index = AnnoyIndexer()\n",
    "annoy_index.load(annoy_index_file)"
   ]
  },
  {
   "cell_type": "code",
   "execution_count": 26,
   "id": "ae5c4071-d995-4be6-b98d-7c189896d558",
   "metadata": {},
   "outputs": [
    {
     "name": "stdout",
     "output_type": "stream",
     "text": [
      "{'next_item_prediction': Utf8, 'next_item_weight': Float32, 'last_prev_item': Utf8}\n"
     ]
    }
   ],
   "source": [
    "co_visit_model = (\n",
    "    pl.scan_parquet(f'../model_training/{covisit_model_version}/{covisit_model_version}_True_for_eval.parquet')\n",
    "        .explode(['next_item_prediction', 'next_item_weight'])\n",
    "        .select(\n",
    "            pl.all().exclude('item')\n",
    "            , pl.col('item').alias('last_prev_item')\n",
    "            # , pl.col()\n",
    "        )\n",
    "            )\n",
    "print(co_visit_model.schema)"
   ]
  },
  {
   "cell_type": "code",
   "execution_count": 27,
   "id": "7ec1bbd1-d958-4958-854c-eea616c49118",
   "metadata": {},
   "outputs": [],
   "source": [
    "# co_visit_model.head().collect()"
   ]
  },
  {
   "cell_type": "markdown",
   "id": "4b7ccd61-b973-4497-9afe-0c84c7f7af9b",
   "metadata": {},
   "source": [
    "## get features "
   ]
  },
  {
   "cell_type": "code",
   "execution_count": 28,
   "id": "9bd3e83e-001e-4634-a12b-fdfa3e2b8b87",
   "metadata": {},
   "outputs": [],
   "source": [
    "# target_df = train_candidates\n",
    "# data_type = 'train'\n",
    "\n",
    "def get_w2v_simi(x, col='last_prev_item'):\n",
    "    try:\n",
    "        if isinstance(x[col], str):\n",
    "            target = [x[col]]\n",
    "        else:\n",
    "            target = x[col]\n",
    "        simi = w2vec.wv.n_similarity([x['next_item_prediction']],\n",
    "                                                  target\n",
    "                                                 )\n",
    "    except Exception as e:\n",
    "        print(e)\n",
    "        # print(x[col])\n",
    "        simi = 0\n",
    "    return simi\n",
    "\n",
    "def get_feature(target_df, data_type, nic_model=nic_model, nfi_model=nfi_model, \n",
    "                co_visit_model=co_visit_model,\n",
    "                negative_sampling=None, w2v_similarity=False):\n",
    "    if data_type == 'train':\n",
    "        target_df = target_df.filter(pl.col('next_item_prediction').arr.contains(pl.col('next_item')))\n",
    "    target_df = target_df.explode(['next_item_prediction', 'w2v_weight'])\n",
    "\n",
    "    if data_type != 'test':\n",
    "        target_df = (\n",
    "            target_df\n",
    "                .with_columns(\n",
    "                    pl.when(pl.col('next_item')==pl.col('next_item_prediction')).then(1).otherwise(0).alias('target')\n",
    "                )\n",
    "        )\n",
    "\n",
    "    if negative_sampling is not None:\n",
    "        cols = ['session_id', 'next_item', 'next_item_prediction', 'target']\n",
    "        sample_pl = target_df.select(cols)\n",
    "        pos = sample_pl.filter(pl.col('target')==1)\n",
    "        neg = (sample_pl\n",
    "                   .filter(pl.col('target')==0)\n",
    "              )\n",
    "        neg_original_len = neg.select('session_id').collect().shape[0]\n",
    "        print(f'Original negative num: {neg_original_len}')\n",
    "        neg = (\n",
    "            neg.with_columns(\n",
    "                        pl.Series(name='random', values=np.random.uniform(size=neg_original_len))\n",
    "                   )\n",
    "                   .filter(pl.col('random')<=negative_sampling)\n",
    "                   .select(pl.all().exclude('random'))\n",
    "        )\n",
    "        # print(neg.shape)\n",
    "        # print(neg.head().collect())\n",
    "        sample_pl = pl.concat([pos, neg], how='vertical')\n",
    "        target_df = sample_pl.join(target_df, how='left', on=cols).collect()\n",
    "        del sample_pl\n",
    "    target_df = (\n",
    "            target_df.lazy().join(nic_model, how='left', on=['last_prev_item', 'next_item_prediction'])\n",
    "                .join(nfi_model, how='left', on=['last_prev_item', 'next_item_prediction'], suffix='_nfi')\n",
    "                .join(co_visit_model, how='left', on=['last_prev_item', 'next_item_prediction'], suffix='_co_visit')\n",
    "                .with_columns(\n",
    "                    pl.when(pl.col('next_item_weight').is_null()).then(0).otherwise(pl.col('next_item_weight')).alias('next_item_weight')\n",
    "                    , pl.when(pl.col('next_item_weight_nfi').is_null()).then(0).otherwise(pl.col('next_item_weight_nfi')).alias('next_item_weight_nfi')\n",
    "                    , pl.when(pl.col('next_item_weight_co_visit').is_null()).then(0).otherwise(pl.col('next_item_weight_co_visit')).alias('next_item_weight_co_visit')\n",
    "                    , pl.struct([\"next_item_prediction\", \"last_prev_item\"]).apply(\n",
    "                        lambda x: get_w2v_simi(x, col='last_prev_item')).alias('last_item_similarity').cast(pl.Float32)\n",
    "                    # , pl.struct([\"next_item_prediction\", \"prev_items\"]).apply(\n",
    "                    #     lambda x: get_w2v_simi(x, col='prev_items')).alias('prev_item_similarity').cast(pl.Float32)\n",
    "                    , pl.when(pl.col('locale')=='DE').then(1).when(pl.col('locale')=='DE')\n",
    "                        .then(2)\n",
    "                        .otherwise(3).alias('locale')\n",
    "                ).sort('session_id')\n",
    "                .select(\n",
    "                    pl.all().exclude('last_prev_item')\n",
    "                )\n",
    "\n",
    "    )\n",
    "    # if w2v_similarity:\n",
    "    #     target_df = target_df.with_columns(\n",
    "    #         pl.struct([\"next_item_prediction\", \"prev_items\"]).apply(\n",
    "    #                     lambda x: get_w2v_simi(x, col='prev_items')).alias('prev_item_similarity').cast(pl.Float32)\n",
    "    #     )\n",
    "    return target_df\n",
    "# target_df.head(3).collect()"
   ]
  },
  {
   "cell_type": "code",
   "execution_count": 29,
   "id": "be32562e-3c44-4aa9-a119-39d78665bf40",
   "metadata": {},
   "outputs": [],
   "source": [
    "# %%time \n",
    "# sample_pl = get_feature(target_df=train_cg_pl, data_type='train', #negative_sampling=0.1\n",
    "#                        ).collect()"
   ]
  },
  {
   "cell_type": "code",
   "execution_count": 30,
   "id": "b090d4b4-7af7-4095-ab64-0f83bd8c9850",
   "metadata": {},
   "outputs": [],
   "source": [
    "# sampled_train_candidates.head().collect()"
   ]
  },
  {
   "cell_type": "code",
   "execution_count": 31,
   "id": "a3c70107-60a7-410b-bf2f-c3ebde6de2db",
   "metadata": {},
   "outputs": [],
   "source": [
    "# %%time\n",
    "# sampled_train_candidates = get_feature(target_df=train_cg_pl, data_type='train', negative_sampling=0.1)\n",
    "# debug_pl = sampled_train_candidates.head().collect()"
   ]
  },
  {
   "cell_type": "code",
   "execution_count": 32,
   "id": "aab35a1f-12d6-4a32-b04d-32cd9a970900",
   "metadata": {},
   "outputs": [],
   "source": [
    "# debug_pl.head()"
   ]
  },
  {
   "cell_type": "code",
   "execution_count": 33,
   "id": "8bec2c8c-8f7a-4fa3-a7b0-3deae4240837",
   "metadata": {},
   "outputs": [],
   "source": [
    "# %%time\n",
    "# sampled_train_candidates = get_feature(target_df=train_cg_pl, data_type='train',\n",
    "#                                        negative_sampling=0.1,\n",
    "#                                       w2v_similarity=True)\n",
    "# debug_pl = sampled_train_candidates.head().collect()"
   ]
  },
  {
   "cell_type": "code",
   "execution_count": 34,
   "id": "887d90b4-d9d1-471c-85e9-32d754647349",
   "metadata": {},
   "outputs": [],
   "source": [
    "# debug_pl"
   ]
  },
  {
   "cell_type": "code",
   "execution_count": 35,
   "id": "ca0b2625-e8d3-4feb-81e6-6f8d81344934",
   "metadata": {},
   "outputs": [],
   "source": [
    "# prev_items = [\"B09W9FND7K\", \"B09JSPLN1M\"]\n",
    "# next_item_prediction = \"B09M7GY217\"\t\n",
    "# w2vec.wv.n_similarity(prev_items, [next_item_prediction])\n",
    "# w2vec.wv.n_similarity(prev_items, prev_items)\n",
    "# prev_items_vec = np.array([w2vec.wv[ele] for ele in prev_items]).mean(axis=0)\n",
    "# next_item_vec = w2vec.wv[next_item_prediction]\n",
    "# 1 - scipy.spatial.distance.cosine(prev_items_vec, next_item_vec)"
   ]
  },
  {
   "cell_type": "markdown",
   "id": "ce4e8547-6eb6-4533-83c8-b22a17f34803",
   "metadata": {
    "tags": []
   },
   "source": [
    "# Save Data "
   ]
  },
  {
   "cell_type": "markdown",
   "id": "c09d68c1-49c2-42b8-acfc-eb05fc45f75d",
   "metadata": {
    "tags": []
   },
   "source": [
    "## Save eval & test data "
   ]
  },
  {
   "cell_type": "code",
   "execution_count": 36,
   "id": "46dab88f-e151-4fcb-9084-a354a3d48965",
   "metadata": {},
   "outputs": [],
   "source": [
    "%load_ext memory_profiler"
   ]
  },
  {
   "cell_type": "code",
   "execution_count": 37,
   "id": "85ea0e28-9394-488d-b332-a403a74cfc65",
   "metadata": {},
   "outputs": [],
   "source": [
    "eval_candidates = get_feature(target_df=eval_cg_pl, data_type='eval')\n",
    "test_candidates = get_feature(target_df=test_cg_pl, data_type='test')"
   ]
  },
  {
   "cell_type": "code",
   "execution_count": 38,
   "id": "33fd9bae-f954-453f-a185-e09c0c199e15",
   "metadata": {},
   "outputs": [
    {
     "name": "stdout",
     "output_type": "stream",
     "text": [
      "peak memory: 1626.96 MiB, increment: 0.10 MiB\n",
      "Eval data\n",
      "\n",
      "(64153741, 11)\n",
      "Memory: 5.033693803474307\n",
      "0.0031155782481960014\n",
      "Validating\n",
      "\n",
      "CPU times: user 56min 36s, sys: 3min 5s, total: 59min 42s\n",
      "Wall time: 49min 1s\n"
     ]
    }
   ],
   "source": [
    "%%time\n",
    "%memit\n",
    "eval_candidates = eval_candidates.collect()\n",
    "\n",
    "print('Eval data')\n",
    "print()\n",
    "print(eval_candidates.shape)\n",
    "print(f\"Memory: {eval_candidates.estimated_size(unit='gb')}\")\n",
    "print(eval_candidates['target'].mean())\n",
    "print('Validating')\n",
    "candidates_validation(target_pl=eval_candidates)\n",
    "print()"
   ]
  },
  {
   "cell_type": "code",
   "execution_count": null,
   "id": "2ee0c22d-af0f-47be-9338-5e58eaa22654",
   "metadata": {},
   "outputs": [
    {
     "name": "stdout",
     "output_type": "stream",
     "text": [
      "peak memory: 8605.78 MiB, increment: 0.00 MiB\n"
     ]
    }
   ],
   "source": [
    "%%time\n",
    "%memit\n",
    "\n",
    "test_candidates = test_candidates.collect()\n",
    "print('Test data')\n",
    "print()\n",
    "print(test_candidates.shape)\n",
    "print(f\"Memory: {test_candidates.estimated_size(unit='gb')}\")\n",
    "print('Validating')\n",
    "candidates_validation(target_pl=test_candidates)\n",
    "\n",
    "if not debug:\n",
    "    eval_candidates.write_parquet(os.path.join(ranker_train_data_dir, 'eval.parquet'))\n",
    "    test_candidates.write_parquet(os.path.join(ranker_train_data_dir, 'test.parquet'))"
   ]
  },
  {
   "cell_type": "code",
   "execution_count": null,
   "id": "e0b079e4-1309-4675-9656-607282a50099",
   "metadata": {},
   "outputs": [],
   "source": [
    "# eval_candidates.head()"
   ]
  },
  {
   "cell_type": "code",
   "execution_count": null,
   "id": "94bb5824-18bf-4c59-839e-a054f00585c9",
   "metadata": {},
   "outputs": [],
   "source": []
  },
  {
   "cell_type": "code",
   "execution_count": null,
   "id": "08aa8b39-fef3-4aa3-8dfb-ec4ce98d13fa",
   "metadata": {},
   "outputs": [],
   "source": [
    "# eval_candidates.write_parquet(os.path.join(ranker_train_data_dir, 'eval.parquet'))\n",
    "# test_candidates.write_parquet(os.path.join(ranker_train_data_dir, 'test.parquet'))"
   ]
  },
  {
   "cell_type": "markdown",
   "id": "53711885-34f0-4961-a44e-2978a76db956",
   "metadata": {
    "tags": []
   },
   "source": [
    "## Saving train data "
   ]
  },
  {
   "cell_type": "code",
   "execution_count": null,
   "id": "e49b3917-5e20-48c3-90bc-ad0ac6679677",
   "metadata": {},
   "outputs": [],
   "source": [
    "# train_cg_pl.with_columns(pl.all().is_null()).sum().collect()"
   ]
  },
  {
   "cell_type": "code",
   "execution_count": null,
   "id": "db1c94e2-674e-4c8d-b2f5-21c92ba4690d",
   "metadata": {},
   "outputs": [],
   "source": [
    "# train_cg_pl.collect().sample(10)"
   ]
  },
  {
   "cell_type": "code",
   "execution_count": null,
   "id": "b3d7c43d-db32-4997-a2f3-dc87c863afc1",
   "metadata": {},
   "outputs": [
    {
     "name": "stderr",
     "output_type": "stream",
     "text": [
      "  0%|          | 0/20 [00:00<?, ?it/s]"
     ]
    },
    {
     "name": "stdout",
     "output_type": "stream",
     "text": [
      "\n",
      "../data/rank_train_data_v2/train/part_1.parquet\n",
      "Validating\n",
      "(4967840, 11)\n",
      "Memory: 0.38863958418369293\n",
      "0.010297835679087894\n",
      "shape: (7, 4)\n",
      "┌────────────┬──────────────┬───────────┬────────────┐\n",
      "│ describe   ┆ session_id   ┆ rec_cnt   ┆ target_num │\n",
      "│ ---        ┆ ---          ┆ ---       ┆ ---        │\n",
      "│ str        ┆ f64          ┆ f64       ┆ f64        │\n",
      "╞════════════╪══════════════╪═══════════╪════════════╡\n",
      "│ count      ┆ 51158.0      ┆ 51158.0   ┆ 51158.0    │\n",
      "│ null_count ┆ 0.0          ┆ 0.0       ┆ 0.0        │\n",
      "│ mean       ┆ 81732.982916 ┆ 97.107784 ┆ 1.0        │\n",
      "│ std        ┆ 47181.001648 ┆ 1.794644  ┆ 0.0        │\n",
      "│ min        ┆ 5.0          ┆ 74.0      ┆ 1.0        │\n",
      "│ max        ┆ 163579.0     ┆ 100.0     ┆ 1.0        │\n",
      "│ median     ┆ 81840.5      ┆ 98.0      ┆ 1.0        │\n",
      "└────────────┴──────────────┴───────────┴────────────┘\n"
     ]
    },
    {
     "name": "stderr",
     "output_type": "stream",
     "text": [
      "  5%|▌         | 1/20 [05:13<1:39:21, 313.74s/it]"
     ]
    },
    {
     "name": "stdout",
     "output_type": "stream",
     "text": [
      "\n",
      "../data/rank_train_data_v2/train/part_2.parquet\n"
     ]
    }
   ],
   "source": [
    "if debug:\n",
    "    train_parts = 1\n",
    "for part_index in tqdm(range(train_parts)):\n",
    "    print()\n",
    "    file_name = os.path.join(train_dir, f\"part_{part_index+1}.parquet\")\n",
    "    print(file_name)\n",
    "    train_cg_pl = get_all_candidates(data_type='train', part=part_index+1)\n",
    "    sampled_train_candidates = get_feature(target_df=train_cg_pl, data_type='train', \n",
    "                                           # negative_sampling=0.1\n",
    "                                          )\n",
    "    sampled_train_candidates = sampled_train_candidates.collect()\n",
    "    print('Validating')\n",
    "    candidates_validation(target_pl=sampled_train_candidates)\n",
    "    # print('Sampled train data')\n",
    "    print(sampled_train_candidates.shape)\n",
    "    print(f\"Memory: {sampled_train_candidates.estimated_size(unit='gb')}\")\n",
    "    print(sampled_train_candidates['target'].mean())\n",
    "    \n",
    "    stat_info = (\n",
    "            sampled_train_candidates\n",
    "                .groupby('session_id')\n",
    "                .agg(\n",
    "                    pl.count().alias('rec_cnt')\n",
    "                    , pl.col('target').sum().alias('target_num')\n",
    "                )\n",
    "                .describe()\n",
    "        )\n",
    "    print(stat_info)\n",
    "    if not debug:\n",
    "        sampled_train_candidates.write_parquet(file_name)\n",
    "    # del sampled_train_candidates"
   ]
  },
  {
   "cell_type": "code",
   "execution_count": null,
   "id": "83d6850e-08d0-47db-a22d-7c9ac24b4677",
   "metadata": {},
   "outputs": [],
   "source": []
  },
  {
   "cell_type": "markdown",
   "id": "24c7b393-6ad4-4d5c-b403-51e11a848c17",
   "metadata": {},
   "source": [
    "# Eval "
   ]
  },
  {
   "cell_type": "code",
   "execution_count": null,
   "id": "8d631019-097e-4c4f-9b2b-093d80413f1b",
   "metadata": {},
   "outputs": [],
   "source": [
    "# ! ls {ranker_train_data_dir}"
   ]
  },
  {
   "cell_type": "code",
   "execution_count": null,
   "id": "cb4b4de7-74d9-4bd7-b4bf-7651f632cbaa",
   "metadata": {},
   "outputs": [],
   "source": [
    "# ! rm {ranker_train_data_dir}/*"
   ]
  },
  {
   "cell_type": "code",
   "execution_count": null,
   "id": "bbb0702b-b60c-414e-a345-556aaaf4c35a",
   "metadata": {},
   "outputs": [],
   "source": [
    "# pl.scan_parquet(os.path.join(ranker_train_data_dir, 'test.parquet')).collect().shape"
   ]
  },
  {
   "cell_type": "code",
   "execution_count": null,
   "id": "fed88d47-4e47-4197-8a1b-6c4a7f996086",
   "metadata": {},
   "outputs": [],
   "source": [
    "# pl.scan_parquet(os.path.join(ranker_train_data_dir, 'eval.parquet')).collect().shape"
   ]
  },
  {
   "cell_type": "code",
   "execution_count": null,
   "id": "e79f7a1d-a7f6-4a9d-89a4-c37cd10ed102",
   "metadata": {},
   "outputs": [],
   "source": []
  }
 ],
 "metadata": {
  "environment": {
   "kernel": "kdd_2023",
   "name": "common-cu110.m104",
   "type": "gcloud",
   "uri": "gcr.io/deeplearning-platform-release/base-cu110:m104"
  },
  "kernelspec": {
   "display_name": "py3.8(kdd_2023)",
   "language": "python",
   "name": "kdd_2023"
  },
  "language_info": {
   "codemirror_mode": {
    "name": "ipython",
    "version": 3
   },
   "file_extension": ".py",
   "mimetype": "text/x-python",
   "name": "python",
   "nbconvert_exporter": "python",
   "pygments_lexer": "ipython3",
   "version": "3.8.16"
  }
 },
 "nbformat": 4,
 "nbformat_minor": 5
}
