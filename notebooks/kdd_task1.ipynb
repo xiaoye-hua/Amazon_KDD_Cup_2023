{
 "cells": [
  {
   "cell_type": "markdown",
   "metadata": {
    "id": "JjLhdmxVr58v"
   },
   "source": [
    "# Amazon KDD Cup 2023 - Task 1 - Next Product Recommendation \n",
    "\n",
    "![](https://images.aicrowd.com/raw_images/challenges/banner_file/1116/6c8fecd6d7c225b4ed11.jpg)\n",
    "\n",
    "This notebook will contains instructions and example submission with random predictions.\n",
    "\n"
   ]
  },
  {
   "cell_type": "markdown",
   "metadata": {
    "id": "Lm6gGYz1kjdQ"
   },
   "source": [
    "## Installations 🤖\n",
    "\n",
    "1. `aicrowd-cli` for downloading challenge data and making submissions\n",
    "2. `pyarrow` for saving to parquet for submissions"
   ]
  },
  {
   "cell_type": "code",
   "execution_count": 7,
   "metadata": {
    "colab": {
     "base_uri": "https://localhost:8080/"
    },
    "id": "PlGtVN4vg0OF",
    "outputId": "bb951fda-d612-4cf4-cde1-37280ecec118"
   },
   "outputs": [],
   "source": [
    "# !pip install aicrowd-cli pyarrow gensim"
   ]
  },
  {
   "cell_type": "markdown",
   "metadata": {
    "id": "7POE7L5_kz07"
   },
   "source": [
    "## Login to AIcrowd and download the data 📚"
   ]
  },
  {
   "cell_type": "code",
   "execution_count": 3,
   "metadata": {
    "colab": {
     "base_uri": "https://localhost:8080/"
    },
    "id": "5LbTnzGOhBrw",
    "outputId": "dba2e9df-ca4b-4ec9-8e63-aeecb016d038"
   },
   "outputs": [
    {
     "name": "stdout",
     "output_type": "stream",
     "text": [
      "Please login here: \u001b[34m\u001b[1m\u001b[4mhttps://api.aicrowd.com/auth/aXPlzA1oNs5LN8h8XfRt00wvjzao2w5e9Aki8TKFQOc\u001b[0m\n",
      "/usr/bin/xdg-open: 870: /usr/bin/xdg-open: www-browser: not found\n",
      "/usr/bin/xdg-open: 870: /usr/bin/xdg-open: links2: not found\n",
      "/usr/bin/xdg-open: 870: /usr/bin/xdg-open: elinks: not found\n",
      "/usr/bin/xdg-open: 870: /usr/bin/xdg-open: links: not found\n",
      "/usr/bin/xdg-open: 870: /usr/bin/xdg-open: lynx: not found\n",
      "/usr/bin/xdg-open: 870: /usr/bin/xdg-open: w3m: not found\n",
      "xdg-open: no method available for opening 'https://api.aicrowd.com/auth/aXPlzA1oNs5LN8h8XfRt00wvjzao2w5e9Aki8TKFQOc'\n",
      "\u001b[32mAPI Key valid\u001b[0m\n",
      "\u001b[32mGitlab access token valid\u001b[0m\n",
      "\u001b[32mSaved details successfully!\u001b[0m\n"
     ]
    }
   ],
   "source": [
    "!aicrowd login"
   ]
  },
  {
   "cell_type": "code",
   "execution_count": 4,
   "metadata": {
    "colab": {
     "base_uri": "https://localhost:8080/"
    },
    "id": "-QfVS2fthKWr",
    "outputId": "912cd23c-c2d4-45ad-88e9-72c49773d16b"
   },
   "outputs": [
    {
     "name": "stdout",
     "output_type": "stream",
     "text": [
      "sessions_test_task1.csv:   5%|▋            | 1.05M/19.4M [00:00<00:02, 8.67MB/s]\n",
      "sessions_test_task1.csv:  65%|████████▍    | 12.6M/19.4M [00:00<00:00, 18.3MB/s]\u001b[A\n",
      "products_train.csv:   0%|                   | 1.05M/589M [00:00<01:28, 6.60MB/s]\u001b[A\n",
      "\n",
      "sessions_test_task3.csv:   0%|                      | 0.00/2.67M [00:00<?, ?B/s]\u001b[A\u001b[A\n",
      "\n",
      "sessions_test_task3.csv: 100%|█████████████| 2.67M/2.67M [00:00<00:00, 13.7MB/s]\u001b[A\u001b[A\n",
      "sessions_test_task1.csv: 100%|█████████████| 19.4M/19.4M [00:01<00:00, 16.2MB/s]\n",
      "sessions_test_task2.csv:   0%|                      | 0.00/1.92M [00:00<?, ?B/s]\n",
      "sessions_test_task2.csv: 100%|█████████████| 1.92M/1.92M [00:00<00:00, 11.2MB/s]\u001b[A\n",
      "\n",
      "sessions_train.csv:   2%|▍                  | 6.29M/259M [00:00<00:08, 28.1MB/s]\u001b[A\n",
      "products_train.csv:   3%|▌                  | 16.8M/589M [00:02<01:22, 6.89MB/s]\u001b[A\n",
      "sessions_train.csv:   4%|▊                  | 10.5M/259M [00:01<00:34, 7.17MB/s]\u001b[A\n",
      "products_train.csv:   4%|▊                  | 25.2M/589M [00:03<01:16, 7.32MB/s]\u001b[A\n",
      "sessions_train.csv:   7%|█▍                 | 18.9M/259M [00:02<00:34, 6.93MB/s]\u001b[A\n",
      "products_train.csv:   6%|█                  | 33.6M/589M [00:04<01:18, 7.06MB/s]\u001b[A\n",
      "sessions_train.csv:  11%|█▉                 | 27.3M/259M [00:03<00:30, 7.71MB/s]\u001b[A\n",
      "products_train.csv:   7%|█▎                 | 41.9M/589M [00:05<01:17, 7.03MB/s]\u001b[A\n",
      "sessions_train.csv:  13%|██▍                | 33.6M/259M [00:05<00:41, 5.44MB/s]\u001b[A\n",
      "products_train.csv:   9%|█▌                 | 50.3M/589M [00:06<01:09, 7.75MB/s]\u001b[A\n",
      "sessions_train.csv:  14%|██▌                | 35.7M/259M [00:05<00:39, 5.68MB/s]\u001b[A\n",
      "products_train.csv:  10%|█▉                 | 58.7M/589M [00:08<01:19, 6.66MB/s]\u001b[A\n",
      "sessions_train.csv:  17%|███▏               | 44.0M/259M [00:07<00:38, 5.62MB/s]\u001b[A\n",
      "products_train.csv:  11%|██▏                | 67.1M/589M [00:09<01:34, 5.53MB/s]\u001b[A\n",
      "sessions_train.csv:  20%|███▊               | 52.4M/259M [00:08<00:40, 5.06MB/s]\u001b[A\n",
      "products_train.csv:  13%|██▍                | 75.5M/589M [00:11<01:26, 5.91MB/s]\u001b[A\n",
      "products_train.csv:  13%|██▌                | 77.6M/589M [00:11<01:18, 6.47MB/s]\u001b[A\n",
      "products_train.csv:  14%|██▋                | 83.9M/589M [00:11<01:03, 7.90MB/s]\u001b[A\n",
      "sessions_train.csv:  27%|█████              | 69.2M/259M [00:11<00:30, 6.21MB/s]\u001b[A\n",
      "products_train.csv:  16%|██▉                | 92.3M/589M [00:13<01:28, 5.63MB/s]\u001b[A\n",
      "products_train.csv:  16%|███                | 94.4M/589M [00:13<01:22, 5.97MB/s]\u001b[A\n",
      "products_train.csv:  17%|███▍                | 101M/589M [00:14<01:23, 5.88MB/s]\u001b[A\n",
      "sessions_train.csv:  29%|█████▌             | 75.5M/259M [00:14<00:45, 4.08MB/s]\u001b[A\n",
      "products_train.csv:  19%|███▋                | 109M/589M [00:16<01:22, 5.81MB/s]\u001b[A\n",
      "sessions_train.csv:  33%|██████▎            | 86.0M/259M [00:16<00:34, 5.01MB/s]\u001b[A\n",
      "products_train.csv:  20%|███▉                | 117M/589M [00:18<01:29, 5.25MB/s]\u001b[A\n",
      "sessions_train.csv:  39%|███████▊            | 101M/259M [00:17<00:21, 7.41MB/s]\u001b[A\n",
      "sessions_train.csv:  40%|███████▉            | 103M/259M [00:18<00:21, 7.39MB/s]\u001b[A\n",
      "products_train.csv:  22%|████▎               | 128M/589M [00:19<01:14, 6.20MB/s]\u001b[A\n",
      "products_train.csv:  23%|████▌               | 134M/589M [00:20<00:58, 7.82MB/s]\u001b[A\n",
      "sessions_train.csv:  43%|████████▌           | 111M/259M [00:20<00:26, 5.54MB/s]\u001b[A\n",
      "products_train.csv:  24%|████▊               | 143M/589M [00:21<01:17, 5.75MB/s]\u001b[A\n",
      "sessions_train.csv:  46%|█████████▏          | 120M/259M [00:21<00:21, 6.60MB/s]\u001b[A\n",
      "sessions_train.csv:  49%|█████████▋          | 126M/259M [00:21<00:15, 8.74MB/s]\u001b[A\n",
      "sessions_train.csv:  52%|██████████▎         | 134M/259M [00:22<00:15, 8.09MB/s]\u001b[A\n",
      "sessions_train.csv:  53%|██████████▌         | 136M/259M [00:23<00:16, 7.35MB/s]\u001b[A\n",
      "sessions_train.csv:  56%|███████████▏        | 146M/259M [00:23<00:14, 7.92MB/s]\u001b[A\n",
      "products_train.csv:  29%|█████▋              | 168M/589M [00:26<01:21, 5.15MB/s]\u001b[A\n",
      "products_train.csv:  29%|█████▊              | 170M/589M [00:26<01:15, 5.54MB/s]\u001b[A\n",
      "products_train.csv:  30%|█████▉              | 176M/589M [00:26<01:00, 6.76MB/s]\u001b[A\n",
      "sessions_train.csv:  59%|███████████▊        | 153M/259M [00:26<00:23, 4.61MB/s]\u001b[A\n",
      "products_train.csv:  31%|██████▎             | 185M/589M [00:28<01:01, 6.58MB/s]\u001b[A\n",
      "sessions_train.csv:  66%|█████████████       | 170M/259M [00:27<00:10, 8.16MB/s]\u001b[A\n",
      "sessions_train.csv:  68%|█████████████▌      | 175M/259M [00:28<00:07, 10.7MB/s]\u001b[A\n",
      "products_train.csv:  33%|██████▋             | 195M/589M [00:29<00:59, 6.65MB/s]\u001b[A\n",
      "products_train.csv:  34%|██████▊             | 201M/589M [00:30<00:45, 8.44MB/s]\u001b[A\n",
      "sessions_train.csv:  71%|██████████████▏     | 185M/259M [00:30<00:10, 7.44MB/s]\u001b[A\n",
      "sessions_train.csv:  72%|██████████████▍     | 187M/259M [00:30<00:10, 7.25MB/s]\u001b[A\n",
      "products_train.csv:  36%|███████▏            | 212M/589M [00:32<00:58, 6.44MB/s]\u001b[A\n",
      "products_train.csv:  37%|███████▎            | 215M/589M [00:32<00:46, 8.11MB/s]\u001b[A\n",
      "products_train.csv:  37%|███████▍            | 217M/589M [00:32<00:43, 8.62MB/s]\u001b[A\n",
      "products_train.csv:  37%|███████▍            | 219M/589M [00:32<00:40, 9.11MB/s]\u001b[A\n",
      "sessions_train.csv:  74%|██████████████▉     | 193M/259M [00:31<00:10, 6.06MB/s]\u001b[A\n",
      "products_train.csv:  38%|███████▋            | 226M/589M [00:33<00:40, 8.99MB/s]\u001b[A\n",
      "sessions_train.csv:  75%|███████████████     | 195M/259M [00:32<00:10, 5.93MB/s]\u001b[A\n",
      "sessions_train.csv:  78%|███████████████▌    | 201M/259M [00:33<00:10, 5.50MB/s]\u001b[A\n",
      "sessions_train.csv:  82%|████████████████▎   | 212M/259M [00:34<00:06, 7.87MB/s]\u001b[A\n",
      "products_train.csv:  41%|████████▎           | 243M/589M [00:35<00:49, 6.91MB/s]\u001b[A\n",
      "products_train.csv:  42%|████████▎           | 245M/589M [00:36<00:46, 7.38MB/s]\u001b[A\n",
      "products_train.csv:  43%|████████▌           | 252M/589M [00:36<00:35, 9.48MB/s]\u001b[A\n",
      "sessions_train.csv:  85%|████████████████▉   | 220M/259M [00:35<00:05, 6.65MB/s]\u001b[A\n",
      "products_train.csv:  44%|████████▊           | 260M/589M [00:37<00:31, 10.3MB/s]\u001b[A\n",
      "sessions_train.csv:  87%|█████████████████▍  | 226M/259M [00:36<00:05, 6.15MB/s]\u001b[A\n",
      "sessions_train.csv:  88%|█████████████████▋  | 229M/259M [00:37<00:05, 5.99MB/s]\u001b[A\n",
      "products_train.csv:  46%|█████████▏          | 271M/589M [00:38<00:41, 7.72MB/s]\u001b[A\n",
      "products_train.csv:  47%|█████████▍          | 277M/589M [00:39<00:45, 6.88MB/s]\u001b[A\n",
      "products_train.csv:  47%|█████████▍          | 279M/589M [00:39<00:40, 7.63MB/s]\u001b[A\n",
      "products_train.csv:  48%|█████████▋          | 285M/589M [00:40<00:42, 7.07MB/s]\u001b[A\n",
      "sessions_train.csv:  91%|██████████████████  | 235M/259M [00:40<00:07, 3.24MB/s]\u001b[A\n",
      "products_train.csv:  50%|█████████▉          | 294M/589M [00:41<00:39, 7.51MB/s]\u001b[A\n",
      "sessions_train.csv:  94%|██████████████████▊ | 243M/259M [00:42<00:04, 3.78MB/s]\u001b[A\n",
      "sessions_train.csv:  95%|██████████████████▉ | 245M/259M [00:42<00:03, 4.10MB/s]\u001b[A\n",
      "products_train.csv:  52%|██████████▎         | 304M/589M [00:44<00:48, 5.86MB/s]\u001b[A\n",
      "sessions_train.csv:  97%|███████████████████▍| 252M/259M [00:43<00:01, 5.62MB/s]\u001b[A\n",
      "products_train.csv:  53%|██████████▌         | 310M/589M [00:44<00:34, 7.99MB/s]\u001b[A\n",
      "sessions_train.csv:  98%|███████████████████▌| 254M/259M [00:43<00:00, 5.80MB/s]\u001b[A\n",
      "sessions_train.csv: 100%|████████████████████| 259M/259M [00:43<00:00, 5.97MB/s]\u001b[A\n",
      "\n",
      "products_train.csv:  54%|██████████▊         | 319M/589M [00:46<00:58, 4.62MB/s]\u001b[A\n",
      "products_train.csv:  55%|██████████▉         | 321M/589M [00:46<00:49, 5.40MB/s]\u001b[A\n",
      "products_train.csv:  56%|███████████         | 327M/589M [00:46<00:32, 8.14MB/s]\u001b[A\n",
      "products_train.csv:  56%|███████████▏        | 329M/589M [00:47<00:28, 9.04MB/s]\u001b[A\n",
      "products_train.csv:  56%|███████████▎        | 332M/589M [00:47<00:22, 11.2MB/s]\u001b[A\n",
      "products_train.csv:  57%|███████████▍        | 336M/589M [00:48<00:41, 6.06MB/s]\u001b[A\n",
      "products_train.csv:  57%|███████████▍        | 338M/589M [00:48<00:37, 6.76MB/s]\u001b[A\n",
      "products_train.csv:  58%|███████████▋        | 344M/589M [00:49<00:38, 6.31MB/s]\u001b[A\n",
      "products_train.csv:  59%|███████████▊        | 346M/589M [00:49<00:35, 6.85MB/s]\u001b[A\n",
      "products_train.csv:  60%|███████████▉        | 352M/589M [00:50<00:36, 6.53MB/s]\u001b[A\n",
      "products_train.csv:  60%|████████████        | 354M/589M [00:50<00:32, 7.19MB/s]\u001b[A\n",
      "products_train.csv:  61%|████████████▎       | 361M/589M [00:52<00:42, 5.40MB/s]\u001b[A\n",
      "products_train.csv:  62%|████████████▎       | 363M/589M [00:52<00:38, 5.82MB/s]\u001b[A\n",
      "products_train.csv:  63%|████████████▌       | 369M/589M [00:53<00:40, 5.46MB/s]\u001b[A\n",
      "products_train.csv:  63%|████████████▌       | 371M/589M [00:54<00:36, 5.90MB/s]\u001b[A\n",
      "products_train.csv:  64%|████████████▊       | 376M/589M [00:54<00:24, 8.78MB/s]\u001b[A\n",
      "products_train.csv:  64%|████████████▊       | 379M/589M [00:55<00:34, 6.16MB/s]\u001b[A\n",
      "products_train.csv:  65%|████████████▉       | 381M/589M [00:55<00:31, 6.61MB/s]\u001b[A\n",
      "products_train.csv:  66%|█████████████       | 386M/589M [00:55<00:25, 8.07MB/s]\u001b[A\n",
      "products_train.csv:  66%|█████████████▏      | 388M/589M [00:55<00:22, 8.91MB/s]\u001b[A\n",
      "products_train.csv:  67%|█████████████▍      | 394M/589M [00:56<00:21, 8.86MB/s]\u001b[A\n",
      "products_train.csv:  67%|█████████████▍      | 396M/589M [00:56<00:20, 9.28MB/s]\u001b[A\n",
      "products_train.csv:  68%|█████████████▋      | 403M/589M [00:57<00:18, 10.3MB/s]\u001b[A\n",
      "products_train.csv:  69%|█████████████▊      | 405M/589M [00:57<00:17, 10.7MB/s]\u001b[A\n",
      "products_train.csv:  70%|█████████████▉      | 411M/589M [00:57<00:14, 12.5MB/s]\u001b[A\n",
      "products_train.csv:  70%|██████████████      | 413M/589M [00:57<00:13, 13.3MB/s]\u001b[A\n",
      "products_train.csv:  71%|██████████████▎     | 419M/589M [00:59<00:21, 7.83MB/s]\u001b[A\n",
      "products_train.csv:  72%|██████████████▎     | 422M/589M [00:59<00:19, 8.40MB/s]\u001b[A\n",
      "products_train.csv:  73%|██████████████▌     | 428M/589M [00:59<00:17, 9.20MB/s]\u001b[A\n",
      "products_train.csv:  73%|██████████████▌     | 430M/589M [01:00<00:16, 9.88MB/s]\u001b[A\n",
      "products_train.csv:  74%|██████████████▊     | 436M/589M [01:00<00:14, 10.7MB/s]\u001b[A\n",
      "products_train.csv:  75%|███████████████     | 441M/589M [01:00<00:10, 14.3MB/s]\u001b[A\n",
      "products_train.csv:  76%|███████████████     | 445M/589M [01:01<00:14, 9.66MB/s]\u001b[A\n",
      "products_train.csv:  76%|███████████████▏    | 447M/589M [01:01<00:13, 10.6MB/s]\u001b[A\n",
      "products_train.csv:  77%|███████████████▍    | 453M/589M [01:02<00:12, 11.2MB/s]\u001b[A\n",
      "products_train.csv:  78%|███████████████▌    | 458M/589M [01:02<00:09, 13.9MB/s]\u001b[A\n",
      "products_train.csv:  78%|███████████████▋    | 461M/589M [01:03<00:16, 7.58MB/s]\u001b[A\n",
      "products_train.csv:  79%|███████████████▊    | 463M/589M [01:03<00:15, 8.13MB/s]\u001b[A\n",
      "products_train.csv:  80%|███████████████▉    | 470M/589M [01:04<00:17, 6.95MB/s]\u001b[A\n",
      "products_train.csv:  80%|████████████████    | 472M/589M [01:04<00:16, 7.10MB/s]\u001b[A\n",
      "products_train.csv:  81%|████████████████▏   | 475M/589M [01:04<00:12, 8.75MB/s]\u001b[A\n",
      "products_train.csv:  81%|████████████████▏   | 477M/589M [01:05<00:11, 9.67MB/s]\u001b[A\n",
      "products_train.csv:  81%|████████████████▎   | 479M/589M [01:06<00:23, 4.72MB/s]\u001b[A\n",
      "products_train.csv:  82%|████████████████▎   | 481M/589M [01:06<00:19, 5.60MB/s]\u001b[A\n",
      "products_train.csv:  83%|████████████████▌   | 487M/589M [01:07<00:17, 5.81MB/s]\u001b[A\n",
      "products_train.csv:  83%|████████████████▌   | 489M/589M [01:07<00:15, 6.36MB/s]\u001b[A\n",
      "products_train.csv:  84%|████████████████▊   | 495M/589M [01:08<00:12, 7.53MB/s]\u001b[A\n",
      "products_train.csv:  84%|████████████████▉   | 497M/589M [01:08<00:11, 8.17MB/s]\u001b[A\n",
      "products_train.csv:  86%|█████████████████   | 503M/589M [01:08<00:07, 11.0MB/s]\u001b[A\n",
      "products_train.csv:  86%|█████████████████▏  | 505M/589M [01:08<00:07, 11.7MB/s]\u001b[A\n",
      "products_train.csv:  87%|█████████████████▍  | 512M/589M [01:09<00:05, 13.0MB/s]\u001b[A\n",
      "products_train.csv:  87%|█████████████████▍  | 514M/589M [01:09<00:05, 12.9MB/s]\u001b[A\n",
      "products_train.csv:  88%|█████████████████▋  | 520M/589M [01:11<00:10, 6.47MB/s]\u001b[A\n",
      "products_train.csv:  89%|█████████████████▋  | 522M/589M [01:11<00:09, 7.01MB/s]\u001b[A\n",
      "products_train.csv:  90%|█████████████████▉  | 528M/589M [01:11<00:08, 7.49MB/s]\u001b[A\n",
      "products_train.csv:  90%|██████████████████  | 531M/589M [01:12<00:07, 7.84MB/s]\u001b[A\n",
      "products_train.csv:  91%|██████████████████▏ | 537M/589M [01:13<00:07, 6.48MB/s]\u001b[A\n",
      "products_train.csv:  92%|██████████████████▎ | 539M/589M [01:13<00:06, 7.13MB/s]\u001b[A\n",
      "products_train.csv:  93%|██████████████████▌ | 545M/589M [01:14<00:06, 6.91MB/s]\u001b[A\n",
      "products_train.csv:  93%|██████████████████▌ | 547M/589M [01:14<00:05, 7.25MB/s]\u001b[A\n",
      "products_train.csv:  94%|██████████████████▊ | 553M/589M [01:14<00:03, 10.6MB/s]\u001b[A\n",
      "products_train.csv:  94%|██████████████████▉ | 556M/589M [01:15<00:04, 7.99MB/s]\u001b[A\n",
      "products_train.csv:  95%|███████████████████ | 562M/589M [01:16<00:03, 8.60MB/s]\u001b[A\n",
      "products_train.csv:  96%|███████████████████▏| 564M/589M [01:16<00:02, 8.99MB/s]\u001b[A\n",
      "products_train.csv:  97%|███████████████████▍| 570M/589M [01:17<00:02, 8.37MB/s]\u001b[A\n",
      "products_train.csv:  97%|███████████████████▍| 573M/589M [01:17<00:01, 8.62MB/s]\u001b[A\n",
      "products_train.csv:  98%|███████████████████▋| 579M/589M [01:18<00:01, 6.60MB/s]\u001b[A\n",
      "products_train.csv:  99%|███████████████████▋| 581M/589M [01:18<00:01, 6.94MB/s]\u001b[A\n",
      "products_train.csv: 100%|████████████████████| 589M/589M [01:19<00:00, 7.40MB/s]\u001b[A\n"
     ]
    }
   ],
   "source": [
    "!aicrowd dataset download --challenge task-1-next-product-recommendation"
   ]
  },
  {
   "cell_type": "markdown",
   "metadata": {
    "id": "LmjiT10Qk5m8"
   },
   "source": [
    "## Setup data and task information"
   ]
  },
  {
   "cell_type": "code",
   "execution_count": 8,
   "metadata": {
    "id": "7DjmcQMAgPAJ"
   },
   "outputs": [],
   "source": [
    "import os\n",
    "import numpy as np\n",
    "import pandas as pd\n",
    "from functools import lru_cache\n",
    "from gensim.models import Word2Vec"
   ]
  },
  {
   "cell_type": "markdown",
   "metadata": {
    "id": "JxcGbj4xAqqe"
   },
   "source": [
    "## Config"
   ]
  },
  {
   "cell_type": "code",
   "execution_count": 9,
   "metadata": {
    "id": "qYPjjtQ_AqRT"
   },
   "outputs": [],
   "source": [
    "debug = False\n",
    "\n",
    "debug_session_num = 1000"
   ]
  },
  {
   "cell_type": "code",
   "execution_count": 27,
   "metadata": {
    "id": "6oiTtQ56gYlY"
   },
   "outputs": [],
   "source": [
    "train_data_dir = '.'\n",
    "test_data_dir = '.'\n",
    "task = 'task1'\n",
    "PREDS_PER_SESSION = 100\n",
    "\n",
    "model_dir = '../model_training'\n",
    "\n",
    "w2v_model_file = os.path.join(model_dir, 'w2v.model')"
   ]
  },
  {
   "cell_type": "code",
   "execution_count": 11,
   "metadata": {
    "id": "qZPWqKGegax-"
   },
   "outputs": [],
   "source": [
    "# Cache loading of data for multiple calls\n",
    "\n",
    "@lru_cache(maxsize=1)\n",
    "def read_product_data():\n",
    "    return pd.read_csv(os.path.join(train_data_dir, 'products_train.csv'))\n",
    "\n",
    "@lru_cache(maxsize=1)\n",
    "def read_train_data():\n",
    "    return pd.read_csv(os.path.join(train_data_dir, 'sessions_train.csv'))\n",
    "\n",
    "@lru_cache(maxsize=3)\n",
    "def read_test_data(task):\n",
    "    return pd.read_csv(os.path.join(test_data_dir, f'sessions_test_{task}.csv'))"
   ]
  },
  {
   "cell_type": "markdown",
   "metadata": {
    "id": "WrMp8SO2tFtL"
   },
   "source": [
    "## Data Description\n",
    "\n",
    "The Multilingual Shopping Session Dataset is a collection of **anonymized customer sessions** containing products from six different locales, namely English, German, Japanese, French, Italian, and Spanish. It consists of two main components: **user sessions** and **product attributes**. User sessions are a list of products that a user has engaged with in chronological order, while product attributes include various details like product title, price in local currency, brand, color, and description.\n",
    "\n",
    "---\n",
    "\n",
    "### Each product as its associated information:\n",
    "\n",
    "\n",
    "**locale**: the locale code of the product (e.g., DE)\n",
    "\n",
    "**id**: a unique for the product. Also known as Amazon Standard Item Number (ASIN) (e.g., B07WSY3MG8)\n",
    "\n",
    "**title**: title of the item (e.g., “Japanese Aesthetic Sakura Flowers Vaporwave Soft Grunge Gift T-Shirt”)\n",
    "\n",
    "**price**: price of the item in local currency (e.g., 24.99)\n",
    "\n",
    "**brand**: item brand name (e.g., “Japanese Aesthetic Flowers & Vaporwave Clothing”)\n",
    "\n",
    "**color**: color of the item (e.g., “Black”)\n",
    "\n",
    "**size**: size of the item (e.g., “xxl”)\n",
    "\n",
    "**model**: model of the item (e.g., “iphone 13”)\n",
    "\n",
    "**material**: material of the item (e.g., “cotton”)\n",
    "\n",
    "**author**: author of the item (e.g., “J. K. Rowling”)\n",
    "\n",
    "**desc**: description about a item’s key features and benefits called out via bullet points (e.g., “Solid colors: 100% Cotton; Heather Grey: 90% Cotton, 10% Polyester; All Other Heathers …”)\n"
   ]
  },
  {
   "cell_type": "markdown",
   "metadata": {
    "id": "9ZEph_ZjlOj0"
   },
   "source": [
    "## EDA 💽"
   ]
  },
  {
   "cell_type": "code",
   "execution_count": 12,
   "metadata": {
    "id": "f2L9ImDqge3_"
   },
   "outputs": [],
   "source": [
    "def read_locale_data(locale, task):\n",
    "    products = read_product_data().query(f'locale == \"{locale}\"')\n",
    "    sess_train = read_train_data().query(f'locale == \"{locale}\"')\n",
    "    sess_test = read_test_data(task).query(f'locale == \"{locale}\"')\n",
    "    return products, sess_train, sess_test\n",
    "\n",
    "def show_locale_info(locale, task):\n",
    "    products, sess_train, sess_test = read_locale_data(locale, task)\n",
    "\n",
    "    train_l = sess_train['prev_items'].apply(lambda sess: len(sess))\n",
    "    test_l = sess_test['prev_items'].apply(lambda sess: len(sess))\n",
    "\n",
    "    print(f\"Locale: {locale} \\n\"\n",
    "          f\"Number of products: {products['id'].nunique()} \\n\"\n",
    "          f\"Number of train sessions: {len(sess_train)} \\n\"\n",
    "          f\"Train session lengths - \"\n",
    "          f\"Mean: {train_l.mean():.2f} | Median {train_l.median():.2f} | \"\n",
    "          f\"Min: {train_l.min():.2f} | Max {train_l.max():.2f} \\n\"\n",
    "          f\"Number of test sessions: {len(sess_test)}\"\n",
    "        )\n",
    "    if len(sess_test) > 0:\n",
    "        print(\n",
    "             f\"Test session lengths - \"\n",
    "            f\"Mean: {test_l.mean():.2f} | Median {test_l.median():.2f} | \"\n",
    "            f\"Min: {test_l.min():.2f} | Max {test_l.max():.2f} \\n\"\n",
    "        )\n",
    "    print(\"======================================================================== \\n\")"
   ]
  },
  {
   "cell_type": "code",
   "execution_count": 13,
   "metadata": {
    "colab": {
     "base_uri": "https://localhost:8080/"
    },
    "id": "tWCiG4Odggmo",
    "outputId": "e29c572c-b658-44e1-bbd5-c9df22dfded1"
   },
   "outputs": [
    {
     "name": "stdout",
     "output_type": "stream",
     "text": [
      "Locale: DE \n",
      "Number of products: 518327 \n",
      "Number of train sessions: 1111416 \n",
      "Train session lengths - Mean: 57.89 | Median 40.00 | Min: 27.00 | Max 2060.00 \n",
      "Number of test sessions: 104568\n",
      "Test session lengths - Mean: 57.23 | Median 40.00 | Min: 27.00 | Max 700.00 \n",
      "\n",
      "======================================================================== \n",
      "\n",
      "Locale: JP \n",
      "Number of products: 395009 \n",
      "Number of train sessions: 979119 \n",
      "Train session lengths - Mean: 59.61 | Median 40.00 | Min: 27.00 | Max 6257.00 \n",
      "Number of test sessions: 96467\n",
      "Test session lengths - Mean: 59.90 | Median 40.00 | Min: 27.00 | Max 1479.00 \n",
      "\n",
      "======================================================================== \n",
      "\n",
      "Locale: UK \n",
      "Number of products: 500180 \n",
      "Number of train sessions: 1182181 \n",
      "Train session lengths - Mean: 54.85 | Median 40.00 | Min: 27.00 | Max 2654.00 \n",
      "Number of test sessions: 115936\n",
      "Test session lengths - Mean: 53.51 | Median 40.00 | Min: 27.00 | Max 872.00 \n",
      "\n",
      "======================================================================== \n",
      "\n",
      "Locale: ES \n",
      "Number of products: 42503 \n",
      "Number of train sessions: 89047 \n",
      "Train session lengths - Mean: 48.82 | Median 40.00 | Min: 27.00 | Max 792.00 \n",
      "Number of test sessions: 0\n",
      "======================================================================== \n",
      "\n",
      "Locale: FR \n",
      "Number of products: 44577 \n",
      "Number of train sessions: 117561 \n",
      "Train session lengths - Mean: 47.25 | Median 40.00 | Min: 27.00 | Max 687.00 \n",
      "Number of test sessions: 0\n",
      "======================================================================== \n",
      "\n",
      "Locale: IT \n",
      "Number of products: 50461 \n",
      "Number of train sessions: 126925 \n",
      "Train session lengths - Mean: 48.80 | Median 40.00 | Min: 27.00 | Max 621.00 \n",
      "Number of test sessions: 0\n",
      "======================================================================== \n",
      "\n"
     ]
    }
   ],
   "source": [
    "products = read_product_data()\n",
    "locale_names = products['locale'].unique()\n",
    "for locale in locale_names:\n",
    "    show_locale_info(locale, task)"
   ]
  },
  {
   "cell_type": "code",
   "execution_count": 14,
   "metadata": {
    "id": "ePOKyZCbgizi"
   },
   "outputs": [],
   "source": [
    "# products.sample(5)"
   ]
  },
  {
   "cell_type": "code",
   "execution_count": 15,
   "metadata": {
    "colab": {
     "base_uri": "https://localhost:8080/",
     "height": 206
    },
    "id": "S1S19qsFgk43",
    "outputId": "28e7f39f-a471-4f02-b763-bd89f15740dc"
   },
   "outputs": [
    {
     "data": {
      "text/html": [
       "<div>\n",
       "<style scoped>\n",
       "    .dataframe tbody tr th:only-of-type {\n",
       "        vertical-align: middle;\n",
       "    }\n",
       "\n",
       "    .dataframe tbody tr th {\n",
       "        vertical-align: top;\n",
       "    }\n",
       "\n",
       "    .dataframe thead th {\n",
       "        text-align: right;\n",
       "    }\n",
       "</style>\n",
       "<table border=\"1\" class=\"dataframe\">\n",
       "  <thead>\n",
       "    <tr style=\"text-align: right;\">\n",
       "      <th></th>\n",
       "      <th>prev_items</th>\n",
       "      <th>next_item</th>\n",
       "      <th>locale</th>\n",
       "    </tr>\n",
       "  </thead>\n",
       "  <tbody>\n",
       "    <tr>\n",
       "      <th>359563</th>\n",
       "      <td>['B01EQZB0VM' 'B01E4IV354']</td>\n",
       "      <td>B01EQZB0T4</td>\n",
       "      <td>DE</td>\n",
       "    </tr>\n",
       "    <tr>\n",
       "      <th>2392170</th>\n",
       "      <td>['B07RSRWH6X' 'B01A84QLG4' 'B01A84QLG4']</td>\n",
       "      <td>B01A84QLS2</td>\n",
       "      <td>UK</td>\n",
       "    </tr>\n",
       "    <tr>\n",
       "      <th>1401460</th>\n",
       "      <td>['B09RJX9G5K' 'B09RJYNC43']</td>\n",
       "      <td>B002HEDFFE</td>\n",
       "      <td>JP</td>\n",
       "    </tr>\n",
       "    <tr>\n",
       "      <th>2806238</th>\n",
       "      <td>['B07PPGGPND' 'B07Z618HH2']</td>\n",
       "      <td>B07TLBRLNQ</td>\n",
       "      <td>UK</td>\n",
       "    </tr>\n",
       "    <tr>\n",
       "      <th>2941006</th>\n",
       "      <td>['B004SGXY00' 'B004SGO4DG' 'B004SGXY00' 'B004S...</td>\n",
       "      <td>B017HLFMMU</td>\n",
       "      <td>UK</td>\n",
       "    </tr>\n",
       "  </tbody>\n",
       "</table>\n",
       "</div>"
      ],
      "text/plain": [
       "                                                prev_items   next_item locale\n",
       "359563                         ['B01EQZB0VM' 'B01E4IV354']  B01EQZB0T4     DE\n",
       "2392170           ['B07RSRWH6X' 'B01A84QLG4' 'B01A84QLG4']  B01A84QLS2     UK\n",
       "1401460                        ['B09RJX9G5K' 'B09RJYNC43']  B002HEDFFE     JP\n",
       "2806238                        ['B07PPGGPND' 'B07Z618HH2']  B07TLBRLNQ     UK\n",
       "2941006  ['B004SGXY00' 'B004SGO4DG' 'B004SGXY00' 'B004S...  B017HLFMMU     UK"
      ]
     },
     "execution_count": 15,
     "metadata": {},
     "output_type": "execute_result"
    }
   ],
   "source": [
    "train_sessions = read_train_data()\n",
    "train_sessions.sample(5)"
   ]
  },
  {
   "cell_type": "code",
   "execution_count": 38,
   "metadata": {
    "colab": {
     "base_uri": "https://localhost:8080/",
     "height": 206
    },
    "id": "tbllmbaEgmBg",
    "outputId": "2560f079-ff99-4583-b38d-715f5fd14167"
   },
   "outputs": [
    {
     "data": {
      "text/html": [
       "<div>\n",
       "<style scoped>\n",
       "    .dataframe tbody tr th:only-of-type {\n",
       "        vertical-align: middle;\n",
       "    }\n",
       "\n",
       "    .dataframe tbody tr th {\n",
       "        vertical-align: top;\n",
       "    }\n",
       "\n",
       "    .dataframe thead th {\n",
       "        text-align: right;\n",
       "    }\n",
       "</style>\n",
       "<table border=\"1\" class=\"dataframe\">\n",
       "  <thead>\n",
       "    <tr style=\"text-align: right;\">\n",
       "      <th></th>\n",
       "      <th>prev_items</th>\n",
       "      <th>locale</th>\n",
       "    </tr>\n",
       "  </thead>\n",
       "  <tbody>\n",
       "    <tr>\n",
       "      <th>230087</th>\n",
       "      <td>['1407191136' '1407186736' 'B09Z39N3ZF' 'B09BN...</td>\n",
       "      <td>UK</td>\n",
       "    </tr>\n",
       "    <tr>\n",
       "      <th>48344</th>\n",
       "      <td>['B09G9D34N2' 'B07FY2LPH4']</td>\n",
       "      <td>DE</td>\n",
       "    </tr>\n",
       "    <tr>\n",
       "      <th>129642</th>\n",
       "      <td>['B08F63JSZ7' 'B08F5Z379N' 'B095LC2LHR' 'B095H...</td>\n",
       "      <td>JP</td>\n",
       "    </tr>\n",
       "    <tr>\n",
       "      <th>278540</th>\n",
       "      <td>['B0BHVZXHW6' 'B0BG4TJBZ8' 'B0BF8QNWFL' 'B0B9J...</td>\n",
       "      <td>UK</td>\n",
       "    </tr>\n",
       "    <tr>\n",
       "      <th>315216</th>\n",
       "      <td>['B09JHGH2Q4' 'B00L67CZ9U' 'B08WCF99MF']</td>\n",
       "      <td>UK</td>\n",
       "    </tr>\n",
       "  </tbody>\n",
       "</table>\n",
       "</div>"
      ],
      "text/plain": [
       "                                               prev_items locale\n",
       "230087  ['1407191136' '1407186736' 'B09Z39N3ZF' 'B09BN...     UK\n",
       "48344                         ['B09G9D34N2' 'B07FY2LPH4']     DE\n",
       "129642  ['B08F63JSZ7' 'B08F5Z379N' 'B095LC2LHR' 'B095H...     JP\n",
       "278540  ['B0BHVZXHW6' 'B0BG4TJBZ8' 'B0BF8QNWFL' 'B0B9J...     UK\n",
       "315216           ['B09JHGH2Q4' 'B00L67CZ9U' 'B08WCF99MF']     UK"
      ]
     },
     "execution_count": 38,
     "metadata": {},
     "output_type": "execute_result"
    }
   ],
   "source": [
    "test_sessions = read_test_data(task)\n",
    "test_sessions.sample(5)"
   ]
  },
  {
   "cell_type": "code",
   "execution_count": 17,
   "metadata": {
    "id": "75D8eRsBBGQI"
   },
   "outputs": [],
   "source": [
    "if debug:\n",
    "  train_sessions = train_sessions.sample(debug_session_num)"
   ]
  },
  {
   "cell_type": "code",
   "execution_count": 18,
   "metadata": {
    "colab": {
     "base_uri": "https://localhost:8080/"
    },
    "id": "EEJ7k_ufBOe7",
    "outputId": "f28aacc0-097e-4b14-d0a5-28219acfe674"
   },
   "outputs": [
    {
     "data": {
      "text/plain": [
       "(3606249, 3)"
      ]
     },
     "execution_count": 18,
     "metadata": {},
     "output_type": "execute_result"
    }
   ],
   "source": [
    "train_sessions.shape"
   ]
  },
  {
   "cell_type": "code",
   "execution_count": 19,
   "metadata": {
    "id": "aFKfiS91B4Ad"
   },
   "outputs": [],
   "source": [
    "def process_item_lst(row):\n",
    "  prev_items = row['prev_items']\n",
    "  res = [ele.replace('[', '').replace(']', '').replace('\\n', '').replace(\"'\", '').replace(' ', '') for ele in prev_items.split(' ')]\n",
    "  return res"
   ]
  },
  {
   "cell_type": "code",
   "execution_count": 20,
   "metadata": {
    "id": "LpgqFwzADXJW"
   },
   "outputs": [],
   "source": [
    "train_sessions['prev_items'] = train_sessions.apply(lambda row: process_item_lst(row), axis=1)"
   ]
  },
  {
   "cell_type": "code",
   "execution_count": null,
   "metadata": {
    "id": "31eVGTkLESlg"
   },
   "outputs": [],
   "source": []
  },
  {
   "cell_type": "markdown",
   "metadata": {
    "id": "f0T1vtOEB5v-"
   },
   "source": [
    "# Word2vec"
   ]
  },
  {
   "cell_type": "code",
   "execution_count": 21,
   "metadata": {
    "id": "FXQ0pY06CGiC"
   },
   "outputs": [],
   "source": [
    "# train_sessions['prev_items'].to_list()"
   ]
  },
  {
   "cell_type": "code",
   "execution_count": 22,
   "metadata": {
    "colab": {
     "base_uri": "https://localhost:8080/"
    },
    "id": "0aJe9Y_uB8nF",
    "outputId": "e177ee22-154f-4195-f06a-6a7f7afba594"
   },
   "outputs": [
    {
     "data": {
      "text/plain": [
       "3606249"
      ]
     },
     "execution_count": 22,
     "metadata": {},
     "output_type": "execute_result"
    }
   ],
   "source": [
    "vector_size = 32\n",
    "epochs = 10\n",
    "sg = 1 # 1 for skip-gram\n",
    "pop_thresh = 0.82415\n",
    "window = 4\n",
    "\n",
    "sentences = train_sessions['prev_items'].to_list()\n",
    "len(sentences)"
   ]
  },
  {
   "cell_type": "code",
   "execution_count": 23,
   "metadata": {
    "id": "j2aLO74iLJzD"
   },
   "outputs": [],
   "source": [
    "from gensim.models.callbacks import CallbackAny2Vec\n",
    "\n",
    "class callback(CallbackAny2Vec):\n",
    "    '''Callback to print loss after each epoch.'''\n",
    "\n",
    "    def __init__(self):\n",
    "        self.epoch = 0\n",
    "        self.loss_to_be_subed = 0\n",
    "\n",
    "    def on_epoch_end(self, model):\n",
    "        loss = model.get_latest_training_loss()\n",
    "        loss_now = loss - self.loss_to_be_subed\n",
    "        self.loss_to_be_subed = loss\n",
    "        print('Loss after epoch {}: {}'.format(self.epoch, loss_now))\n",
    "        self.epoch += 1"
   ]
  },
  {
   "cell_type": "code",
   "execution_count": 24,
   "metadata": {
    "colab": {
     "base_uri": "https://localhost:8080/"
    },
    "id": "ZL3YXLg_Dzl3",
    "outputId": "558f7e2c-a427-41eb-a368-f12c08da34af"
   },
   "outputs": [
    {
     "name": "stdout",
     "output_type": "stream",
     "text": [
      "Loss after epoch 0: 11735244.0\n",
      "Loss after epoch 1: 6392140.0\n",
      "Loss after epoch 2: 3035380.0\n",
      "Loss after epoch 3: 2696710.0\n",
      "Loss after epoch 4: 2523156.0\n",
      "Loss after epoch 5: 2180340.0\n",
      "Loss after epoch 6: 2067096.0\n",
      "Loss after epoch 7: 1779330.0\n",
      "Loss after epoch 8: 1260252.0\n",
      "Loss after epoch 9: 331948.0\n"
     ]
    }
   ],
   "source": [
    "w2vec = Word2Vec(sentences=sentences, vector_size=vector_size, epochs = epochs, sg=sg,\n",
    "                 min_count=1, workers=14,\n",
    "                 window=window,\n",
    "                  compute_loss=True\n",
    "              , callbacks=[callback()])"
   ]
  },
  {
   "cell_type": "code",
   "execution_count": 28,
   "metadata": {
    "id": "QKu7E6IcOHX1"
   },
   "outputs": [],
   "source": [
    "w2vec.save(w2v_model_file)"
   ]
  },
  {
   "cell_type": "code",
   "execution_count": 30,
   "metadata": {
    "colab": {
     "base_uri": "https://localhost:8080/"
    },
    "id": "Z1dDEuWMOXTx",
    "outputId": "b44d7552-f712-4c42-d1b9-466c8b69da1d"
   },
   "outputs": [],
   "source": [
    "# ! ls"
   ]
  },
  {
   "cell_type": "code",
   "execution_count": 31,
   "metadata": {
    "id": "qjypjOksFIUA"
   },
   "outputs": [],
   "source": [
    "# ! ls sample_data"
   ]
  },
  {
   "cell_type": "code",
   "execution_count": null,
   "metadata": {
    "id": "K9UswdYbIm6S"
   },
   "outputs": [],
   "source": []
  },
  {
   "cell_type": "markdown",
   "metadata": {
    "id": "yJoalTbYgnnp"
   },
   "source": [
    "## Generate Submission 🏋️‍♀️\n",
    "\n",
    "\n",
    "\n",
    "Submission format:\n",
    "1. The submission should be a **parquet** file with the sessions from all the locales. \n",
    "2. Predicted products ids per locale should only be a valid product id of that locale. \n",
    "3. Predictions should be added in new column named **\"next_item_prediction\"**.\n",
    "4. Predictions should be a list of string id values"
   ]
  },
  {
   "cell_type": "code",
   "execution_count": 32,
   "metadata": {
    "id": "B3zsYp_Jgn_J"
   },
   "outputs": [],
   "source": [
    "# def random_predicitons(locale, sess_test_locale):\n",
    "#     random_state = np.random.RandomState(42)\n",
    "#     products = read_product_data().query(f'locale == \"{locale}\"')\n",
    "#     predictions = []\n",
    "#     for _ in range(len(sess_test_locale)):\n",
    "#         predictions.append(\n",
    "#             list(products['id'].sample(PREDS_PER_SESSION, replace=True, random_state=random_state))\n",
    "#         ) \n",
    "#     sess_test_locale['next_item_prediction'] = predictions\n",
    "#     sess_test_locale.drop('prev_items', inplace=True, axis=1)\n",
    "#     return sess_test_locale"
   ]
  },
  {
   "cell_type": "code",
   "execution_count": 33,
   "metadata": {
    "colab": {
     "base_uri": "https://localhost:8080/",
     "height": 206
    },
    "id": "cLu2KKKvF-ZA",
    "outputId": "b2d3da23-28cf-43dc-fd8f-d9e5ec16072d"
   },
   "outputs": [
    {
     "data": {
      "text/html": [
       "<div>\n",
       "<style scoped>\n",
       "    .dataframe tbody tr th:only-of-type {\n",
       "        vertical-align: middle;\n",
       "    }\n",
       "\n",
       "    .dataframe tbody tr th {\n",
       "        vertical-align: top;\n",
       "    }\n",
       "\n",
       "    .dataframe thead th {\n",
       "        text-align: right;\n",
       "    }\n",
       "</style>\n",
       "<table border=\"1\" class=\"dataframe\">\n",
       "  <thead>\n",
       "    <tr style=\"text-align: right;\">\n",
       "      <th></th>\n",
       "      <th>prev_items</th>\n",
       "      <th>locale</th>\n",
       "    </tr>\n",
       "  </thead>\n",
       "  <tbody>\n",
       "    <tr>\n",
       "      <th>0</th>\n",
       "      <td>['B08V12CT4C' 'B08V1KXBQD' 'B01BVG1XJS' 'B09VC...</td>\n",
       "      <td>DE</td>\n",
       "    </tr>\n",
       "    <tr>\n",
       "      <th>1</th>\n",
       "      <td>['B00R9R5ND6' 'B00R9RZ9ZS' 'B00R9RZ9ZS']</td>\n",
       "      <td>DE</td>\n",
       "    </tr>\n",
       "    <tr>\n",
       "      <th>2</th>\n",
       "      <td>['B07YSRXJD3' 'B07G7Q5N6G' 'B08C9Q7QVK' 'B07G7...</td>\n",
       "      <td>DE</td>\n",
       "    </tr>\n",
       "    <tr>\n",
       "      <th>3</th>\n",
       "      <td>['B08KQBYV43' '3955350843' '3955350843' '39553...</td>\n",
       "      <td>DE</td>\n",
       "    </tr>\n",
       "    <tr>\n",
       "      <th>4</th>\n",
       "      <td>['B09FPTCWMC' 'B09FPTQP68' 'B08HMRY8NG' 'B08TB...</td>\n",
       "      <td>DE</td>\n",
       "    </tr>\n",
       "  </tbody>\n",
       "</table>\n",
       "</div>"
      ],
      "text/plain": [
       "                                          prev_items locale\n",
       "0  ['B08V12CT4C' 'B08V1KXBQD' 'B01BVG1XJS' 'B09VC...     DE\n",
       "1           ['B00R9R5ND6' 'B00R9RZ9ZS' 'B00R9RZ9ZS']     DE\n",
       "2  ['B07YSRXJD3' 'B07G7Q5N6G' 'B08C9Q7QVK' 'B07G7...     DE\n",
       "3  ['B08KQBYV43' '3955350843' '3955350843' '39553...     DE\n",
       "4  ['B09FPTCWMC' 'B09FPTQP68' 'B08HMRY8NG' 'B08TB...     DE"
      ]
     },
     "execution_count": 33,
     "metadata": {},
     "output_type": "execute_result"
    }
   ],
   "source": [
    "test_sessions.head()"
   ]
  },
  {
   "cell_type": "code",
   "execution_count": 41,
   "metadata": {
    "colab": {
     "base_uri": "https://localhost:8080/",
     "height": 468
    },
    "id": "zZj7SRjpNuu0",
    "outputId": "dd576d00-b16b-4acd-e001-e8906e97d8d5"
   },
   "outputs": [],
   "source": [
    "# test_sessions"
   ]
  },
  {
   "cell_type": "code",
   "execution_count": 39,
   "metadata": {
    "id": "TbHB_m2aGr8i"
   },
   "outputs": [
    {
     "data": {
      "text/plain": [
       "(316971, 2)"
      ]
     },
     "execution_count": 39,
     "metadata": {},
     "output_type": "execute_result"
    }
   ],
   "source": [
    "test_sessions = read_test_data(task)\n",
    "\n",
    "if debug:\n",
    "  test_sessions = test_sessions.sample(debug_session_num)\n",
    "\n",
    "test_sessions['prev_items'] = test_sessions.apply(lambda row: process_item_lst(row), axis=1)\n",
    "test_sessions.shape"
   ]
  },
  {
   "cell_type": "code",
   "execution_count": 42,
   "metadata": {
    "colab": {
     "base_uri": "https://localhost:8080/",
     "height": 206
    },
    "id": "2s5v2GF2HMvy",
    "outputId": "6221243b-73ba-4967-8144-cc4aefddbb69"
   },
   "outputs": [
    {
     "data": {
      "text/html": [
       "<div>\n",
       "<style scoped>\n",
       "    .dataframe tbody tr th:only-of-type {\n",
       "        vertical-align: middle;\n",
       "    }\n",
       "\n",
       "    .dataframe tbody tr th {\n",
       "        vertical-align: top;\n",
       "    }\n",
       "\n",
       "    .dataframe thead th {\n",
       "        text-align: right;\n",
       "    }\n",
       "</style>\n",
       "<table border=\"1\" class=\"dataframe\">\n",
       "  <thead>\n",
       "    <tr style=\"text-align: right;\">\n",
       "      <th></th>\n",
       "      <th>prev_items</th>\n",
       "      <th>locale</th>\n",
       "    </tr>\n",
       "  </thead>\n",
       "  <tbody>\n",
       "    <tr>\n",
       "      <th>0</th>\n",
       "      <td>[B08V12CT4C, B08V1KXBQD, B01BVG1XJS, B09VC5PKN...</td>\n",
       "      <td>DE</td>\n",
       "    </tr>\n",
       "    <tr>\n",
       "      <th>1</th>\n",
       "      <td>[B00R9R5ND6, B00R9RZ9ZS, B00R9RZ9ZS]</td>\n",
       "      <td>DE</td>\n",
       "    </tr>\n",
       "    <tr>\n",
       "      <th>2</th>\n",
       "      <td>[B07YSRXJD3, B07G7Q5N6G, B08C9Q7QVK, B07G7Q5N6G]</td>\n",
       "      <td>DE</td>\n",
       "    </tr>\n",
       "    <tr>\n",
       "      <th>3</th>\n",
       "      <td>[B08KQBYV43, 3955350843, 3955350843, 395535086...</td>\n",
       "      <td>DE</td>\n",
       "    </tr>\n",
       "    <tr>\n",
       "      <th>4</th>\n",
       "      <td>[B09FPTCWMC, B09FPTQP68, B08HMRY8NG, B08TBBQ4B...</td>\n",
       "      <td>DE</td>\n",
       "    </tr>\n",
       "  </tbody>\n",
       "</table>\n",
       "</div>"
      ],
      "text/plain": [
       "                                          prev_items locale\n",
       "0  [B08V12CT4C, B08V1KXBQD, B01BVG1XJS, B09VC5PKN...     DE\n",
       "1               [B00R9R5ND6, B00R9RZ9ZS, B00R9RZ9ZS]     DE\n",
       "2   [B07YSRXJD3, B07G7Q5N6G, B08C9Q7QVK, B07G7Q5N6G]     DE\n",
       "3  [B08KQBYV43, 3955350843, 3955350843, 395535086...     DE\n",
       "4  [B09FPTCWMC, B09FPTQP68, B08HMRY8NG, B08TBBQ4B...     DE"
      ]
     },
     "execution_count": 42,
     "metadata": {},
     "output_type": "execute_result"
    }
   ],
   "source": [
    "test_sessions.head()"
   ]
  },
  {
   "cell_type": "code",
   "execution_count": 43,
   "metadata": {
    "id": "mv6TZEFqgrFu"
   },
   "outputs": [],
   "source": [
    "# predictions = []\n",
    "# test_locale_names = test_sessions['locale'].unique()\n",
    "# for locale in test_locale_names:\n",
    "#     sess_test_locale = test_sessions.query(f'locale == \"{locale}\"').copy()\n",
    "#     predictions.append(\n",
    "#         random_predicitons(locale, sess_test_locale)\n",
    "#     )\n",
    "# predictions = pd.concat(predictions).reset_index(drop=True)\n",
    "# predictions.sample(5)"
   ]
  },
  {
   "cell_type": "code",
   "execution_count": 44,
   "metadata": {
    "id": "QBU2Y6P_IR5x"
   },
   "outputs": [],
   "source": [
    "def get_predictions(row):\n",
    "    prev_items = row['prev_items']\n",
    "    try:\n",
    "        similarity_dic = w2vec.wv.most_similar(positive=prev_items, topn=100)\n",
    "        res = [item for item, simi in similarity_dic] \n",
    "    except:\n",
    "        res = prev_items\n",
    "    return res "
   ]
  },
  {
   "cell_type": "code",
   "execution_count": null,
   "metadata": {
    "id": "x7vA4qfcJDaW"
   },
   "outputs": [],
   "source": [
    "test_sessions['next_item_prediction'] = test_sessions.apply(lambda row: get_predictions(row), axis=1)"
   ]
  },
  {
   "cell_type": "code",
   "execution_count": null,
   "metadata": {
    "id": "UXy4O2nrG6NC"
   },
   "outputs": [],
   "source": [
    "predictions = test_sessions[['locale', 'next_item_prediction']]"
   ]
  },
  {
   "cell_type": "code",
   "execution_count": null,
   "metadata": {
    "id": "ieI1oY58ICil"
   },
   "outputs": [],
   "source": [
    "predictions"
   ]
  },
  {
   "cell_type": "markdown",
   "metadata": {
    "id": "vNB90dXKlZkR"
   },
   "source": [
    "# Validate predictions ✅ 😄"
   ]
  },
  {
   "cell_type": "code",
   "execution_count": null,
   "metadata": {
    "id": "B1XKTojogtF2"
   },
   "outputs": [],
   "source": [
    "def check_predictions(predictions, check_products=False):\n",
    "    \"\"\"\n",
    "    These tests need to pass as they will also be applied on the evaluator\n",
    "    \"\"\"\n",
    "    test_locale_names = test_sessions['locale'].unique()\n",
    "    for locale in test_locale_names:\n",
    "        sess_test = test_sessions.query(f'locale == \"{locale}\"')\n",
    "        preds_locale =  predictions[predictions['locale'] == sess_test['locale'].iloc[0]]\n",
    "        assert sorted(preds_locale.index.values) == sorted(sess_test.index.values), f\"Session ids of {locale} doesn't match\"\n",
    "\n",
    "        if check_products:\n",
    "            # This check is not done on the evaluator\n",
    "            # but you can run it to verify there is no mixing of products between locales\n",
    "            # Since the ground truth next item will always belong to the same locale\n",
    "            # Warning - This can be slow to run\n",
    "            products = read_product_data().query(f'locale == \"{locale}\"')\n",
    "            predicted_products = np.unique( np.array(list(preds_locale[\"next_item_prediction\"].values)) )\n",
    "            assert np.all( np.isin(predicted_products, products['id']) ), f\"Invalid products in {locale} predictions\""
   ]
  },
  {
   "cell_type": "code",
   "execution_count": null,
   "metadata": {
    "id": "FJA368Gzguk7"
   },
   "outputs": [],
   "source": [
    "check_predictions(predictions)"
   ]
  },
  {
   "cell_type": "code",
   "execution_count": null,
   "metadata": {
    "id": "1dTvU5VOgv0j"
   },
   "outputs": [],
   "source": [
    "# Its important that the parquet file you submit is saved with pyarrow backend\n",
    "predictions.to_parquet(f'submission_{task}.parquet', engine='pyarrow')"
   ]
  },
  {
   "cell_type": "markdown",
   "metadata": {
    "id": "dVrZ_TfnjL09"
   },
   "source": [
    "## Submit to AIcrowd 🚀"
   ]
  },
  {
   "cell_type": "code",
   "execution_count": null,
   "metadata": {
    "id": "rd9OYWEgixPZ"
   },
   "outputs": [],
   "source": [
    "# You can submit with aicrowd-cli, or upload manually on the challenge page.\n",
    "!aicrowd submission create -c task-1-next-product-recommendation -f \"submission_task1.parquet\""
   ]
  },
  {
   "cell_type": "code",
   "execution_count": null,
   "metadata": {
    "id": "caJh8qs0Jnoo"
   },
   "outputs": [],
   "source": []
  }
 ],
 "metadata": {
  "colab": {
   "provenance": [],
   "toc_visible": true
  },
  "environment": {
   "kernel": "kdd_2023",
   "name": "common-cu110.m104",
   "type": "gcloud",
   "uri": "gcr.io/deeplearning-platform-release/base-cu110:m104"
  },
  "kernelspec": {
   "display_name": "py3.8(kdd_2023)",
   "language": "python",
   "name": "kdd_2023"
  },
  "language_info": {
   "codemirror_mode": {
    "name": "ipython",
    "version": 3
   },
   "file_extension": ".py",
   "mimetype": "text/x-python",
   "name": "python",
   "nbconvert_exporter": "python",
   "pygments_lexer": "ipython3",
   "version": "3.8.16"
  }
 },
 "nbformat": 4,
 "nbformat_minor": 4
}
