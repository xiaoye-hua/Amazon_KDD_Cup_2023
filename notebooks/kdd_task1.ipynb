{
 "cells": [
  {
   "cell_type": "markdown",
   "metadata": {
    "id": "7POE7L5_kz07"
   },
   "source": [
    "# Data"
   ]
  },
  {
   "cell_type": "code",
   "execution_count": 1,
   "metadata": {
    "colab": {
     "base_uri": "https://localhost:8080/"
    },
    "id": "5LbTnzGOhBrw",
    "outputId": "dba2e9df-ca4b-4ec9-8e63-aeecb016d038"
   },
   "outputs": [],
   "source": [
    "# !aicrowd login"
   ]
  },
  {
   "cell_type": "code",
   "execution_count": 2,
   "metadata": {
    "colab": {
     "base_uri": "https://localhost:8080/"
    },
    "id": "-QfVS2fthKWr",
    "outputId": "912cd23c-c2d4-45ad-88e9-72c49773d16b"
   },
   "outputs": [],
   "source": [
    "# !aicrowd dataset download --challenge task-1-next-product-recommendation"
   ]
  },
  {
   "cell_type": "markdown",
   "metadata": {
    "id": "LmjiT10Qk5m8",
    "tags": []
   },
   "source": [
    "# Packages"
   ]
  },
  {
   "cell_type": "code",
   "execution_count": 86,
   "metadata": {
    "id": "7DjmcQMAgPAJ"
   },
   "outputs": [
    {
     "name": "stdout",
     "output_type": "stream",
     "text": [
      "The autoreload extension is already loaded. To reload it, use:\n",
      "  %reload_ext autoreload\n"
     ]
    }
   ],
   "source": [
    "%load_ext autoreload\n",
    "%autoreload 2\n",
    "import sys\n",
    "import logging\n",
    "sys.path.append('../')\n",
    "import os\n",
    "from utils import *\n",
    "\n",
    "import os\n",
    "import numpy as np\n",
    "import pandas as pd\n",
    "from gensim.models import Word2Vec\n",
    "\n",
    "from annoy import AnnoyIndex\n",
    "import polars as pl"
   ]
  },
  {
   "cell_type": "markdown",
   "metadata": {
    "id": "JxcGbj4xAqqe"
   },
   "source": [
    "# Config"
   ]
  },
  {
   "cell_type": "code",
   "execution_count": 4,
   "metadata": {
    "id": "qYPjjtQ_AqRT"
   },
   "outputs": [],
   "source": [
    "debug = False\n",
    "\n",
    "debug_session_num = 1000\n",
    "\n",
    "train_data_dir = '.'\n",
    "test_data_dir = '.'\n",
    "task = 'task1'\n",
    "\n",
    "num_tree = 100\n",
    "\n",
    "model_dir = '../model_training/v2'\n",
    "\n",
    "# target locales: locales needed for task1\n",
    "\n",
    "target_locals = [\"DE\", 'JP', 'UK']\n",
    "\n",
    "w2v_model_file = os.path.join(model_dir, 'w2v.model')\n",
    "\n",
    "annoy_index_file = os.path.join(model_dir, f'annoy_index_{str(num_tree)}_trees.index')"
   ]
  },
  {
   "cell_type": "code",
   "execution_count": 74,
   "metadata": {
    "id": "6oiTtQ56gYlY"
   },
   "outputs": [],
   "source": []
  },
  {
   "cell_type": "code",
   "execution_count": 73,
   "metadata": {},
   "outputs": [
    {
     "data": {
      "text/plain": [
       "'../model_training/v2/annoy_index_100_trees.index'"
      ]
     },
     "execution_count": 73,
     "metadata": {},
     "output_type": "execute_result"
    }
   ],
   "source": [
    "annoy_index_file"
   ]
  },
  {
   "cell_type": "code",
   "execution_count": 6,
   "metadata": {},
   "outputs": [],
   "source": [
    "# ! mkdir {model_dir}"
   ]
  },
  {
   "cell_type": "markdown",
   "metadata": {},
   "source": [
    "# Function "
   ]
  },
  {
   "cell_type": "markdown",
   "metadata": {
    "id": "WrMp8SO2tFtL",
    "tags": []
   },
   "source": [
    "# Data Description\n",
    "\n",
    "The Multilingual Shopping Session Dataset is a collection of **anonymized customer sessions** containing products from six different locales, namely English, German, Japanese, French, Italian, and Spanish. It consists of two main components: **user sessions** and **product attributes**. User sessions are a list of products that a user has engaged with in chronological order, while product attributes include various details like product title, price in local currency, brand, color, and description.\n",
    "\n",
    "---\n",
    "\n",
    "### Each product as its associated information:\n",
    "\n",
    "\n",
    "**locale**: the locale code of the product (e.g., DE)\n",
    "\n",
    "**id**: a unique for the product. Also known as Amazon Standard Item Number (ASIN) (e.g., B07WSY3MG8)\n",
    "\n",
    "**title**: title of the item (e.g., “Japanese Aesthetic Sakura Flowers Vaporwave Soft Grunge Gift T-Shirt”)\n",
    "\n",
    "**price**: price of the item in local currency (e.g., 24.99)\n",
    "\n",
    "**brand**: item brand name (e.g., “Japanese Aesthetic Flowers & Vaporwave Clothing”)\n",
    "\n",
    "**color**: color of the item (e.g., “Black”)\n",
    "\n",
    "**size**: size of the item (e.g., “xxl”)\n",
    "\n",
    "**model**: model of the item (e.g., “iphone 13”)\n",
    "\n",
    "**material**: material of the item (e.g., “cotton”)\n",
    "\n",
    "**author**: author of the item (e.g., “J. K. Rowling”)\n",
    "\n",
    "**desc**: description about a item’s key features and benefits called out via bullet points (e.g., “Solid colors: 100% Cotton; Heather Grey: 90% Cotton, 10% Polyester; All Other Heathers …”)\n"
   ]
  },
  {
   "cell_type": "markdown",
   "metadata": {
    "id": "9ZEph_ZjlOj0"
   },
   "source": [
    "## EDA 💽"
   ]
  },
  {
   "cell_type": "code",
   "execution_count": 7,
   "metadata": {
    "id": "f2L9ImDqge3_"
   },
   "outputs": [],
   "source": [
    "def read_locale_data(locale, task):\n",
    "    products = read_product_data().query(f'locale == \"{locale}\"')\n",
    "    sess_train = read_train_data().query(f'locale == \"{locale}\"')\n",
    "    sess_test = read_test_data(task).query(f'locale == \"{locale}\"')\n",
    "    return products, sess_train, sess_test\n",
    "\n",
    "def show_locale_info(locale, task):\n",
    "    products, sess_train, sess_test = read_locale_data(locale, task)\n",
    "\n",
    "    train_l = sess_train['prev_items'].apply(lambda sess: len(sess))\n",
    "    test_l = sess_test['prev_items'].apply(lambda sess: len(sess))\n",
    "\n",
    "    print(f\"Locale: {locale} \\n\"\n",
    "          f\"Number of products: {products['id'].nunique()} \\n\"\n",
    "          f\"Number of train sessions: {len(sess_train)} \\n\"\n",
    "          f\"Train session lengths - \"\n",
    "          f\"Mean: {train_l.mean():.2f} | Median {train_l.median():.2f} | \"\n",
    "          f\"Min: {train_l.min():.2f} | Max {train_l.max():.2f} \\n\"\n",
    "          f\"Number of test sessions: {len(sess_test)}\"\n",
    "        )\n",
    "    if len(sess_test) > 0:\n",
    "        print(\n",
    "             f\"Test session lengths - \"\n",
    "            f\"Mean: {test_l.mean():.2f} | Median {test_l.median():.2f} | \"\n",
    "            f\"Min: {test_l.min():.2f} | Max {test_l.max():.2f} \\n\"\n",
    "        )\n",
    "    print(\"======================================================================== \\n\")"
   ]
  },
  {
   "cell_type": "code",
   "execution_count": 83,
   "metadata": {
    "colab": {
     "base_uri": "https://localhost:8080/"
    },
    "id": "tWCiG4Odggmo",
    "outputId": "e29c572c-b658-44e1-bbd5-c9df22dfded1"
   },
   "outputs": [],
   "source": [
    "products = read_product_data(train_data_dir=train_data_dir)\n",
    "# locale_names = products['locale'].unique()\n",
    "# for locale in locale_names:\n",
    "#     show_locale_info(locale, task)"
   ]
  },
  {
   "cell_type": "code",
   "execution_count": 85,
   "metadata": {},
   "outputs": [
    {
     "data": {
      "text/plain": [
       "(1551057, 11)"
      ]
     },
     "execution_count": 85,
     "metadata": {},
     "output_type": "execute_result"
    }
   ],
   "source": [
    "products.shape"
   ]
  },
  {
   "cell_type": "code",
   "execution_count": null,
   "metadata": {},
   "outputs": [],
   "source": []
  },
  {
   "cell_type": "code",
   "execution_count": 59,
   "metadata": {
    "colab": {
     "base_uri": "https://localhost:8080/",
     "height": 206
    },
    "id": "S1S19qsFgk43",
    "outputId": "28e7f39f-a471-4f02-b763-bd89f15740dc"
   },
   "outputs": [
    {
     "data": {
      "text/html": [
       "<div>\n",
       "<style scoped>\n",
       "    .dataframe tbody tr th:only-of-type {\n",
       "        vertical-align: middle;\n",
       "    }\n",
       "\n",
       "    .dataframe tbody tr th {\n",
       "        vertical-align: top;\n",
       "    }\n",
       "\n",
       "    .dataframe thead th {\n",
       "        text-align: right;\n",
       "    }\n",
       "</style>\n",
       "<table border=\"1\" class=\"dataframe\">\n",
       "  <thead>\n",
       "    <tr style=\"text-align: right;\">\n",
       "      <th></th>\n",
       "      <th>prev_items</th>\n",
       "      <th>next_item</th>\n",
       "      <th>locale</th>\n",
       "    </tr>\n",
       "  </thead>\n",
       "  <tbody>\n",
       "    <tr>\n",
       "      <th>896553</th>\n",
       "      <td>['B09XDTFKYG' 'B09XDTVVJD' 'B09XDTFKYG' 'B09XD...</td>\n",
       "      <td>B09L86P41T</td>\n",
       "      <td>DE</td>\n",
       "    </tr>\n",
       "    <tr>\n",
       "      <th>1222933</th>\n",
       "      <td>['B07T8FJYSC' 'B07TBKK4ND' 'B07T8FJYSC' 'B07T9...</td>\n",
       "      <td>B0896WBZ3G</td>\n",
       "      <td>JP</td>\n",
       "    </tr>\n",
       "    <tr>\n",
       "      <th>2280921</th>\n",
       "      <td>['B00BWZALU6' 'B08B3Z7B6K' 'B08B3Z7B6K' 'B00BW...</td>\n",
       "      <td>B07N6MFY1G</td>\n",
       "      <td>UK</td>\n",
       "    </tr>\n",
       "    <tr>\n",
       "      <th>2303367</th>\n",
       "      <td>['B010Q9GT2M' 'B01GGS0L1C' 'B010Q9GYYU']</td>\n",
       "      <td>B00B4B2TAS</td>\n",
       "      <td>UK</td>\n",
       "    </tr>\n",
       "    <tr>\n",
       "      <th>596268</th>\n",
       "      <td>['B00OLY38DM' 'B00OLY38DM']</td>\n",
       "      <td>B00A3TCFD8</td>\n",
       "      <td>DE</td>\n",
       "    </tr>\n",
       "  </tbody>\n",
       "</table>\n",
       "</div>"
      ],
      "text/plain": [
       "                                                prev_items   next_item locale\n",
       "896553   ['B09XDTFKYG' 'B09XDTVVJD' 'B09XDTFKYG' 'B09XD...  B09L86P41T     DE\n",
       "1222933  ['B07T8FJYSC' 'B07TBKK4ND' 'B07T8FJYSC' 'B07T9...  B0896WBZ3G     JP\n",
       "2280921  ['B00BWZALU6' 'B08B3Z7B6K' 'B08B3Z7B6K' 'B00BW...  B07N6MFY1G     UK\n",
       "2303367           ['B010Q9GT2M' 'B01GGS0L1C' 'B010Q9GYYU']  B00B4B2TAS     UK\n",
       "596268                         ['B00OLY38DM' 'B00OLY38DM']  B00A3TCFD8     DE"
      ]
     },
     "execution_count": 59,
     "metadata": {},
     "output_type": "execute_result"
    }
   ],
   "source": [
    "train_sessions = read_train_data(train_data_dir=train_data_dir)\n",
    "train_sessions.sample(5)"
   ]
  },
  {
   "cell_type": "code",
   "execution_count": 10,
   "metadata": {},
   "outputs": [
    {
     "data": {
      "text/plain": [
       "'.'"
      ]
     },
     "execution_count": 10,
     "metadata": {},
     "output_type": "execute_result"
    }
   ],
   "source": [
    "test_data_dir"
   ]
  },
  {
   "cell_type": "code",
   "execution_count": 12,
   "metadata": {
    "colab": {
     "base_uri": "https://localhost:8080/",
     "height": 206
    },
    "id": "tbllmbaEgmBg",
    "outputId": "2560f079-ff99-4583-b38d-715f5fd14167"
   },
   "outputs": [
    {
     "data": {
      "text/html": [
       "<div>\n",
       "<style scoped>\n",
       "    .dataframe tbody tr th:only-of-type {\n",
       "        vertical-align: middle;\n",
       "    }\n",
       "\n",
       "    .dataframe tbody tr th {\n",
       "        vertical-align: top;\n",
       "    }\n",
       "\n",
       "    .dataframe thead th {\n",
       "        text-align: right;\n",
       "    }\n",
       "</style>\n",
       "<table border=\"1\" class=\"dataframe\">\n",
       "  <thead>\n",
       "    <tr style=\"text-align: right;\">\n",
       "      <th></th>\n",
       "      <th>prev_items</th>\n",
       "      <th>locale</th>\n",
       "    </tr>\n",
       "  </thead>\n",
       "  <tbody>\n",
       "    <tr>\n",
       "      <th>169839</th>\n",
       "      <td>['B07HLK75TC' 'B01JO5I63E' 'B01JO5HVV2']</td>\n",
       "      <td>JP</td>\n",
       "    </tr>\n",
       "    <tr>\n",
       "      <th>312051</th>\n",
       "      <td>['B09V5KDC3B' 'B09V5MD3J6']</td>\n",
       "      <td>UK</td>\n",
       "    </tr>\n",
       "    <tr>\n",
       "      <th>37271</th>\n",
       "      <td>['B08NPTZ55J' 'B09Y9PSLTD' 'B09Y9PJSZL' 'B08JQ...</td>\n",
       "      <td>DE</td>\n",
       "    </tr>\n",
       "    <tr>\n",
       "      <th>255723</th>\n",
       "      <td>['B09MM1WRBC' 'B09XJC9B2L' 'B0813S3VDM']</td>\n",
       "      <td>UK</td>\n",
       "    </tr>\n",
       "    <tr>\n",
       "      <th>36307</th>\n",
       "      <td>['B08DRQR6J8' 'B09ZLQ6GZW' 'B09Q934288' 'B09Q9...</td>\n",
       "      <td>DE</td>\n",
       "    </tr>\n",
       "  </tbody>\n",
       "</table>\n",
       "</div>"
      ],
      "text/plain": [
       "                                               prev_items locale\n",
       "169839           ['B07HLK75TC' 'B01JO5I63E' 'B01JO5HVV2']     JP\n",
       "312051                        ['B09V5KDC3B' 'B09V5MD3J6']     UK\n",
       "37271   ['B08NPTZ55J' 'B09Y9PSLTD' 'B09Y9PJSZL' 'B08JQ...     DE\n",
       "255723           ['B09MM1WRBC' 'B09XJC9B2L' 'B0813S3VDM']     UK\n",
       "36307   ['B08DRQR6J8' 'B09ZLQ6GZW' 'B09Q934288' 'B09Q9...     DE"
      ]
     },
     "execution_count": 12,
     "metadata": {},
     "output_type": "execute_result"
    }
   ],
   "source": [
    "test_sessions = read_test_data(task, test_data_dir=test_data_dir)\n",
    "test_sessions.sample(5)"
   ]
  },
  {
   "cell_type": "code",
   "execution_count": 13,
   "metadata": {
    "id": "75D8eRsBBGQI"
   },
   "outputs": [],
   "source": [
    "if debug:\n",
    "    train_sessions = train_sessions.sample(debug_session_num)\n",
    "    test_sessions = test_sessions.sample(debug_session_num)"
   ]
  },
  {
   "cell_type": "code",
   "execution_count": 13,
   "metadata": {
    "colab": {
     "base_uri": "https://localhost:8080/"
    },
    "id": "EEJ7k_ufBOe7",
    "outputId": "f28aacc0-097e-4b14-d0a5-28219acfe674"
   },
   "outputs": [
    {
     "data": {
      "text/plain": [
       "(3606249, 3)"
      ]
     },
     "execution_count": 13,
     "metadata": {},
     "output_type": "execute_result"
    }
   ],
   "source": [
    "train_sessions.shape"
   ]
  },
  {
   "cell_type": "code",
   "execution_count": 14,
   "metadata": {
    "id": "LpgqFwzADXJW"
   },
   "outputs": [],
   "source": [
    "train_sessions['prev_items'] = train_sessions.apply(lambda row: process_item_lst(row), axis=1)\n",
    "# test_sessions['prev_items'] = test_sessions.apply(lambda row: process_item_lst(row), axis=1)"
   ]
  },
  {
   "cell_type": "code",
   "execution_count": 15,
   "metadata": {},
   "outputs": [
    {
     "data": {
      "text/plain": [
       "locale\n",
       "UK    115936\n",
       "DE    104568\n",
       "JP     96467\n",
       "Name: count, dtype: int64"
      ]
     },
     "execution_count": 15,
     "metadata": {},
     "output_type": "execute_result"
    }
   ],
   "source": [
    "test_sessions['locale'].value_counts()"
   ]
  },
  {
   "cell_type": "code",
   "execution_count": 16,
   "metadata": {},
   "outputs": [
    {
     "data": {
      "text/plain": [
       "['DE', 'JP', 'UK']"
      ]
     },
     "execution_count": 16,
     "metadata": {},
     "output_type": "execute_result"
    }
   ],
   "source": [
    "target_locals"
   ]
  },
  {
   "cell_type": "code",
   "execution_count": 60,
   "metadata": {},
   "outputs": [],
   "source": [
    "train_sessions = train_sessions[train_sessions['locale'].isin(target_locals)]"
   ]
  },
  {
   "cell_type": "code",
   "execution_count": 18,
   "metadata": {},
   "outputs": [
    {
     "data": {
      "text/plain": [
       "(3272716, 3)"
      ]
     },
     "execution_count": 18,
     "metadata": {},
     "output_type": "execute_result"
    }
   ],
   "source": [
    "train_sessions.shape"
   ]
  },
  {
   "cell_type": "markdown",
   "metadata": {
    "id": "f0T1vtOEB5v-",
    "tags": []
   },
   "source": [
    "# Word2vec"
   ]
  },
  {
   "cell_type": "code",
   "execution_count": 7,
   "metadata": {
    "id": "FXQ0pY06CGiC"
   },
   "outputs": [],
   "source": [
    "# train_sessions['prev_items'].to_list()"
   ]
  },
  {
   "cell_type": "code",
   "execution_count": null,
   "metadata": {},
   "outputs": [],
   "source": []
  },
  {
   "cell_type": "code",
   "execution_count": 20,
   "metadata": {
    "colab": {
     "base_uri": "https://localhost:8080/"
    },
    "id": "0aJe9Y_uB8nF",
    "outputId": "e177ee22-154f-4195-f06a-6a7f7afba594"
   },
   "outputs": [
    {
     "data": {
      "text/plain": [
       "3589687"
      ]
     },
     "execution_count": 20,
     "metadata": {},
     "output_type": "execute_result"
    }
   ],
   "source": [
    "vector_size = 32\n",
    "epochs = 10\n",
    "sg = 1 # 1 for skip-gram\n",
    "pop_thresh = 0.82415\n",
    "window = 4\n",
    "\n",
    "sentences = train_sessions['prev_items'].to_list() + test_sessions['prev_items'].to_list()\n",
    "len(sentences)"
   ]
  },
  {
   "cell_type": "code",
   "execution_count": 21,
   "metadata": {
    "id": "j2aLO74iLJzD"
   },
   "outputs": [],
   "source": [
    "from gensim.models.callbacks import CallbackAny2Vec\n",
    "\n",
    "class callback(CallbackAny2Vec):\n",
    "    '''Callback to print loss after each epoch.'''\n",
    "\n",
    "    def __init__(self):\n",
    "        self.epoch = 0\n",
    "        self.loss_to_be_subed = 0\n",
    "\n",
    "    def on_epoch_end(self, model):\n",
    "        loss = model.get_latest_training_loss()\n",
    "        loss_now = loss - self.loss_to_be_subed\n",
    "        self.loss_to_be_subed = loss\n",
    "        print('Loss after epoch {}: {}'.format(self.epoch, loss_now))\n",
    "        self.epoch += 1"
   ]
  },
  {
   "cell_type": "code",
   "execution_count": 22,
   "metadata": {
    "colab": {
     "base_uri": "https://localhost:8080/"
    },
    "id": "ZL3YXLg_Dzl3",
    "outputId": "558f7e2c-a427-41eb-a368-f12c08da34af"
   },
   "outputs": [
    {
     "name": "stdout",
     "output_type": "stream",
     "text": [
      "Loss after epoch 0: 11067542.0\n",
      "Loss after epoch 1: 6493280.0\n",
      "Loss after epoch 2: 2888668.0\n",
      "Loss after epoch 3: 2580968.0\n",
      "Loss after epoch 4: 2329516.0\n",
      "Loss after epoch 5: 2048868.0\n",
      "Loss after epoch 6: 1821566.0\n",
      "Loss after epoch 7: 1773816.0\n",
      "Loss after epoch 8: 1667380.0\n",
      "Loss after epoch 9: 1025936.0\n"
     ]
    }
   ],
   "source": [
    "w2vec = Word2Vec(sentences=sentences, vector_size=vector_size, epochs = epochs, sg=sg,\n",
    "                 min_count=1, workers=14,\n",
    "                 window=window,\n",
    "                  compute_loss=True\n",
    "              , callbacks=[callback()])"
   ]
  },
  {
   "cell_type": "code",
   "execution_count": 23,
   "metadata": {},
   "outputs": [
    {
     "data": {
      "text/plain": [
       "'../model_training/v2/w2v.model'"
      ]
     },
     "execution_count": 23,
     "metadata": {},
     "output_type": "execute_result"
    }
   ],
   "source": [
    "w2v_model_file"
   ]
  },
  {
   "cell_type": "code",
   "execution_count": 24,
   "metadata": {
    "id": "QKu7E6IcOHX1"
   },
   "outputs": [],
   "source": [
    "w2vec.save(w2v_model_file)"
   ]
  },
  {
   "cell_type": "code",
   "execution_count": 25,
   "metadata": {
    "id": "qjypjOksFIUA"
   },
   "outputs": [],
   "source": [
    "# ! ls sample_data"
   ]
  },
  {
   "cell_type": "code",
   "execution_count": null,
   "metadata": {
    "id": "K9UswdYbIm6S"
   },
   "outputs": [],
   "source": []
  },
  {
   "cell_type": "markdown",
   "metadata": {
    "id": "yJoalTbYgnnp"
   },
   "source": [
    "Generate Submission 🏋️‍♀️\n",
    "\n",
    "\n",
    "\n",
    "Submission format:\n",
    "1. The submission should be a **parquet** file with the sessions from all the locales. \n",
    "2. Predicted products ids per locale should only be a valid product id of that locale. \n",
    "3. Predictions should be added in new column named **\"next_item_prediction\"**.\n",
    "4. Predictions should be a list of string id values"
   ]
  },
  {
   "cell_type": "code",
   "execution_count": 26,
   "metadata": {
    "id": "B3zsYp_Jgn_J"
   },
   "outputs": [],
   "source": [
    "# def random_predicitons(locale, sess_test_locale):\n",
    "#     random_state = np.random.RandomState(42)\n",
    "#     products = read_product_data().query(f'locale == \"{locale}\"')\n",
    "#     predictions = []\n",
    "#     for _ in range(len(sess_test_locale)):\n",
    "#         predictions.append(\n",
    "#             list(products['id'].sample(PREDS_PER_SESSION, replace=True, random_state=random_state))\n",
    "#         ) \n",
    "#     sess_test_locale['next_item_prediction'] = predictions\n",
    "#     sess_test_locale.drop('prev_items', inplace=True, axis=1)\n",
    "#     return sess_test_locale"
   ]
  },
  {
   "cell_type": "code",
   "execution_count": 27,
   "metadata": {
    "colab": {
     "base_uri": "https://localhost:8080/",
     "height": 206
    },
    "id": "cLu2KKKvF-ZA",
    "outputId": "b2d3da23-28cf-43dc-fd8f-d9e5ec16072d"
   },
   "outputs": [],
   "source": [
    "# test_sessions.head()"
   ]
  },
  {
   "cell_type": "code",
   "execution_count": 28,
   "metadata": {
    "colab": {
     "base_uri": "https://localhost:8080/",
     "height": 468
    },
    "id": "zZj7SRjpNuu0",
    "outputId": "dd576d00-b16b-4acd-e001-e8906e97d8d5"
   },
   "outputs": [],
   "source": [
    "# test_sessions"
   ]
  },
  {
   "cell_type": "markdown",
   "metadata": {},
   "source": [
    "## Load model "
   ]
  },
  {
   "cell_type": "code",
   "execution_count": 8,
   "metadata": {},
   "outputs": [
    {
     "data": {
      "text/plain": [
       "'../model_training/v2/w2v.model'"
      ]
     },
     "execution_count": 8,
     "metadata": {},
     "output_type": "execute_result"
    }
   ],
   "source": [
    "w2v_model_file"
   ]
  },
  {
   "cell_type": "code",
   "execution_count": 10,
   "metadata": {},
   "outputs": [],
   "source": [
    "w2vec = Word2Vec.load(w2v_model_file)"
   ]
  },
  {
   "cell_type": "code",
   "execution_count": 14,
   "metadata": {
    "id": "TbHB_m2aGr8i"
   },
   "outputs": [
    {
     "data": {
      "text/plain": [
       "(316971, 2)"
      ]
     },
     "execution_count": 14,
     "metadata": {},
     "output_type": "execute_result"
    }
   ],
   "source": [
    "\n",
    "test_sessions.shape"
   ]
  },
  {
   "cell_type": "code",
   "execution_count": 15,
   "metadata": {
    "colab": {
     "base_uri": "https://localhost:8080/",
     "height": 206
    },
    "id": "2s5v2GF2HMvy",
    "outputId": "6221243b-73ba-4967-8144-cc4aefddbb69"
   },
   "outputs": [
    {
     "data": {
      "text/html": [
       "<div>\n",
       "<style scoped>\n",
       "    .dataframe tbody tr th:only-of-type {\n",
       "        vertical-align: middle;\n",
       "    }\n",
       "\n",
       "    .dataframe tbody tr th {\n",
       "        vertical-align: top;\n",
       "    }\n",
       "\n",
       "    .dataframe thead th {\n",
       "        text-align: right;\n",
       "    }\n",
       "</style>\n",
       "<table border=\"1\" class=\"dataframe\">\n",
       "  <thead>\n",
       "    <tr style=\"text-align: right;\">\n",
       "      <th></th>\n",
       "      <th>prev_items</th>\n",
       "      <th>locale</th>\n",
       "    </tr>\n",
       "  </thead>\n",
       "  <tbody>\n",
       "    <tr>\n",
       "      <th>0</th>\n",
       "      <td>['B08V12CT4C' 'B08V1KXBQD' 'B01BVG1XJS' 'B09VC...</td>\n",
       "      <td>DE</td>\n",
       "    </tr>\n",
       "    <tr>\n",
       "      <th>1</th>\n",
       "      <td>['B00R9R5ND6' 'B00R9RZ9ZS' 'B00R9RZ9ZS']</td>\n",
       "      <td>DE</td>\n",
       "    </tr>\n",
       "    <tr>\n",
       "      <th>2</th>\n",
       "      <td>['B07YSRXJD3' 'B07G7Q5N6G' 'B08C9Q7QVK' 'B07G7...</td>\n",
       "      <td>DE</td>\n",
       "    </tr>\n",
       "    <tr>\n",
       "      <th>3</th>\n",
       "      <td>['B08KQBYV43' '3955350843' '3955350843' '39553...</td>\n",
       "      <td>DE</td>\n",
       "    </tr>\n",
       "    <tr>\n",
       "      <th>4</th>\n",
       "      <td>['B09FPTCWMC' 'B09FPTQP68' 'B08HMRY8NG' 'B08TB...</td>\n",
       "      <td>DE</td>\n",
       "    </tr>\n",
       "  </tbody>\n",
       "</table>\n",
       "</div>"
      ],
      "text/plain": [
       "                                          prev_items locale\n",
       "0  ['B08V12CT4C' 'B08V1KXBQD' 'B01BVG1XJS' 'B09VC...     DE\n",
       "1           ['B00R9R5ND6' 'B00R9RZ9ZS' 'B00R9RZ9ZS']     DE\n",
       "2  ['B07YSRXJD3' 'B07G7Q5N6G' 'B08C9Q7QVK' 'B07G7...     DE\n",
       "3  ['B08KQBYV43' '3955350843' '3955350843' '39553...     DE\n",
       "4  ['B09FPTCWMC' 'B09FPTQP68' 'B08HMRY8NG' 'B08TB...     DE"
      ]
     },
     "execution_count": 15,
     "metadata": {},
     "output_type": "execute_result"
    }
   ],
   "source": [
    "test_sessions.head()"
   ]
  },
  {
   "cell_type": "code",
   "execution_count": 16,
   "metadata": {
    "id": "mv6TZEFqgrFu"
   },
   "outputs": [],
   "source": [
    "# predictions = []\n",
    "# test_locale_names = test_sessions['locale'].unique()\n",
    "# for locale in test_locale_names:\n",
    "#     sess_test_locale = test_sessions.query(f'locale == \"{locale}\"').copy()\n",
    "#     predictions.append(\n",
    "#         random_predicitons(locale, sess_test_locale)\n",
    "#     )\n",
    "# predictions = pd.concat(predictions).reset_index(drop=True)\n",
    "# predictions.sample(5)"
   ]
  },
  {
   "cell_type": "code",
   "execution_count": 17,
   "metadata": {
    "id": "QBU2Y6P_IR5x"
   },
   "outputs": [],
   "source": [
    "def get_predictions(row):\n",
    "    prev_items = row['prev_items']\n",
    "    # try:\n",
    "    similarity_dic = w2vec.wv.most_similar(positive=prev_items, topn=100)\n",
    "    res = [item for item, simi in similarity_dic] \n",
    "        # print(err)\n",
    "    # except Exception as e:\n",
    "        # print(e)\n",
    "    # res = prev_items\n",
    "    return res "
   ]
  },
  {
   "cell_type": "code",
   "execution_count": 18,
   "metadata": {},
   "outputs": [],
   "source": [
    "# # def get_session_vector(df, w2vec):\n",
    "# #   aids = df.aid.unique()\n",
    "# #   for i, aid in enumerate(aids):\n",
    "# #     vec = w2vec.wv[aid] if i == 0 else vec + w2vec.wv[aid]\n",
    "# #   vec = vec / len(aids)\n",
    "# #   return vec\n",
    "\n",
    "# # def get_close_aids(df, w2vec, index, idx2aid, n=20):\n",
    "# #   session_vec = get_session_vector(df, w2vec)\n",
    "# #   close_aids = get_nearest_neighbours(session_vec, index, idx2aid, n)\n",
    "# #   return close_aids\n",
    "\n",
    "# # def get_nearest_neighbours(x, index, idx2aid, n=20):\n",
    "# #   indexes, distances = index.get_nns_by_vector(x, n, search_k=-1, include_distances=True)\n",
    "# #   aids = [idx2aid[i] for i in indexes]\n",
    "# #   df = pd.DataFrame(data={'aid' : aids, 'w2vec_dist' : distances})\n",
    "# #   return df\n",
    "\n",
    "# index = AnnoyIndex(vector_size, distance)\n",
    "# aid2idx = {}\n",
    "\n",
    "# popular_aids = test.groupby('aid', as_index=False).agg({'session' : 'count'})\n",
    "# popular_aids = popular_aids.loc[popular_aids['session'] > popular_aids['session'].quantile(pop_thresh)]\n",
    "# popular_aid_list = popular_aids.aid.unique()\n",
    "\n",
    "# for i, aid in enumerate(popular_aid_list):\n",
    "# aid = str(aid)\n",
    "# aid2idx[aid] = i\n",
    "# index.add_item(i, w2vec.wv[aid])\n",
    "# idx2aid = { v : k for k, v in aid2idx.items()}\n",
    "# index.build(40) # build 40 trees\n",
    "\n",
    "# reduced_test = test.copy()\n",
    "# reduced_test['aid'] = reduced_test['aid'].astype('str')\n",
    "# reduced_test['aid_vector'] = reduced_test['aid'].apply(lambda x: w2vec.wv[x])\n",
    "\n",
    "# reduced_test = reduced_test.groupby('session').apply(lambda x: get_close_aids(x, w2vec, index, idx2aid, n)).reset_index().drop(columns='level_1')\n"
   ]
  },
  {
   "cell_type": "code",
   "execution_count": 42,
   "metadata": {},
   "outputs": [],
   "source": [
    "# df = test_sessions.sample(100000)"
   ]
  },
  {
   "cell_type": "code",
   "execution_count": 29,
   "metadata": {},
   "outputs": [],
   "source": [
    "# %%time\n",
    "# df['next_item_prediction'] = df.apply(lambda row: get_predictions(row), axis=1)"
   ]
  },
  {
   "cell_type": "code",
   "execution_count": 30,
   "metadata": {},
   "outputs": [
    {
     "data": {
      "text/html": [
       "<div>\n",
       "<style scoped>\n",
       "    .dataframe tbody tr th:only-of-type {\n",
       "        vertical-align: middle;\n",
       "    }\n",
       "\n",
       "    .dataframe tbody tr th {\n",
       "        vertical-align: top;\n",
       "    }\n",
       "\n",
       "    .dataframe thead th {\n",
       "        text-align: right;\n",
       "    }\n",
       "</style>\n",
       "<table border=\"1\" class=\"dataframe\">\n",
       "  <thead>\n",
       "    <tr style=\"text-align: right;\">\n",
       "      <th></th>\n",
       "      <th>prev_items</th>\n",
       "      <th>locale</th>\n",
       "    </tr>\n",
       "  </thead>\n",
       "  <tbody>\n",
       "    <tr>\n",
       "      <th>227651</th>\n",
       "      <td>['B09WF5TQ81' 'B09WF5TQ81']</td>\n",
       "      <td>UK</td>\n",
       "    </tr>\n",
       "  </tbody>\n",
       "</table>\n",
       "</div>"
      ],
      "text/plain": [
       "                         prev_items locale\n",
       "227651  ['B09WF5TQ81' 'B09WF5TQ81']     UK"
      ]
     },
     "execution_count": 30,
     "metadata": {},
     "output_type": "execute_result"
    }
   ],
   "source": [
    "test_sessions.sample()"
   ]
  },
  {
   "cell_type": "code",
   "execution_count": 21,
   "metadata": {},
   "outputs": [],
   "source": [
    "from gensim.similarities.annoy import AnnoyIndexer\n",
    "\n",
    "# 100 trees are being used in this example\n",
    "annoy_index = AnnoyIndexer(w2vec, num_tree)"
   ]
  },
  {
   "cell_type": "code",
   "execution_count": 25,
   "metadata": {},
   "outputs": [],
   "source": [
    "lst = ['B002ZCXPDU', 'B083MNDJLD', 'B08GR61FN6']\n",
    "\n",
    "approximate_neighbors = w2vec.wv.most_similar(positive=lst, topn=5, indexer=annoy_index)\n",
    "exact_neighbors = w2vec.wv.most_similar(positive=lst, topn=5)"
   ]
  },
  {
   "cell_type": "code",
   "execution_count": 75,
   "metadata": {},
   "outputs": [
    {
     "data": {
      "text/plain": [
       "'../model_training/v2/annoy_index_100_trees.index'"
      ]
     },
     "execution_count": 75,
     "metadata": {},
     "output_type": "execute_result"
    }
   ],
   "source": [
    "annoy_index_file"
   ]
  },
  {
   "cell_type": "code",
   "execution_count": 76,
   "metadata": {},
   "outputs": [],
   "source": [
    "annoy_index.save(annoy_index_file)"
   ]
  },
  {
   "cell_type": "code",
   "execution_count": 26,
   "metadata": {},
   "outputs": [
    {
     "name": "stdout",
     "output_type": "stream",
     "text": [
      "Approximate: \n",
      "[('B083MNDJLD', 0.990120471165223), ('B09S7FVRFF', 0.9889326698995329), ('B08P2JQ3SQ', 0.9872487178796704), ('B01KZP0J3W', 0.9831200845688705), ('B08T9KW4NZ', 0.9819146977060748)]\n",
      "\n",
      "Exact: \n",
      "[('B09S7FVRFF', 0.9889327883720398), ('B08P2JQ3SQ', 0.9872486591339111), ('B01KZP0J3W', 0.9831200838088989), ('B08T9KW4NZ', 0.9819145798683167), ('B08RGTG3KQ', 0.9777733683586121)]\n"
     ]
    }
   ],
   "source": [
    "print(\"Approximate: \")\n",
    "print(approximate_neighbors)\n",
    "print()\n",
    "print('Exact: ')\n",
    "print(exact_neighbors)"
   ]
  },
  {
   "cell_type": "code",
   "execution_count": null,
   "metadata": {},
   "outputs": [],
   "source": []
  },
  {
   "cell_type": "code",
   "execution_count": 27,
   "metadata": {},
   "outputs": [],
   "source": [
    "def get_rec(prev_items, topn=10, annoy_index=None):\n",
    "    # print(prev_items)\n",
    "    res = [ele.replace('[', '').replace(']', '').replace('\\n', '').replace(\"'\", '').replace(' ', '') for ele in prev_items.split(' ')]\n",
    "    # print(type(res))\n",
    "    try:\n",
    "        if annoy_index is not None:\n",
    "            similarity_dic = w2vec.wv.most_similar(positive=res, topn=topn, indexer=annoy_index)\n",
    "        else:\n",
    "            similarity_dic = w2vec.wv.most_similar(positive=res, topn=topn)\n",
    "        res = [item for item, simi in similarity_dic] \n",
    "        # print(err)\n",
    "    except Exception as e:\n",
    "        print(e)\n",
    "    \n",
    "    return res"
   ]
  },
  {
   "cell_type": "code",
   "execution_count": 33,
   "metadata": {},
   "outputs": [],
   "source": [
    "# df = test_sessions.sample(10)"
   ]
  },
  {
   "cell_type": "code",
   "execution_count": 43,
   "metadata": {},
   "outputs": [],
   "source": [
    "df = test_sessions.copy()"
   ]
  },
  {
   "cell_type": "code",
   "execution_count": 44,
   "metadata": {},
   "outputs": [
    {
     "data": {
      "text/plain": [
       "(316971, 2)"
      ]
     },
     "execution_count": 44,
     "metadata": {},
     "output_type": "execute_result"
    }
   ],
   "source": [
    "df.shape"
   ]
  },
  {
   "cell_type": "code",
   "execution_count": 45,
   "metadata": {},
   "outputs": [
    {
     "name": "stdout",
     "output_type": "stream",
     "text": [
      "CPU times: user 1min 55s, sys: 704 ms, total: 1min 56s\n",
      "Wall time: 1min 56s\n"
     ]
    }
   ],
   "source": [
    "%%time\n",
    "pl_df = pl.from_dataframe(df)\n",
    "pl_df = (\n",
    "    pl_df\n",
    "        .with_columns(pl.col('prev_items').apply(lambda row: get_rec(row, annoy_index=annoy_index)).alias('next_item_prediction'))\n",
    ")\n",
    "result_df = pl_df.to_pandas()"
   ]
  },
  {
   "cell_type": "code",
   "execution_count": 46,
   "metadata": {},
   "outputs": [],
   "source": [
    "# pl_df.head()"
   ]
  },
  {
   "cell_type": "code",
   "execution_count": 47,
   "metadata": {},
   "outputs": [],
   "source": [
    "# %%time\n",
    "# pl_df = pl.from_dataframe(df)\n",
    "# pl_df = (\n",
    "#     pl_df\n",
    "#         .with_columns(pl.col('prev_items').apply(lambda row: get_rec(row)).alias('next_item_prediction'))\n",
    "# )\n",
    "# result_df = pl_df.to_pandas()"
   ]
  },
  {
   "cell_type": "code",
   "execution_count": 48,
   "metadata": {},
   "outputs": [
    {
     "data": {
      "text/plain": [
       "(316971, 3)"
      ]
     },
     "execution_count": 48,
     "metadata": {},
     "output_type": "execute_result"
    }
   ],
   "source": [
    "result_df.shape"
   ]
  },
  {
   "cell_type": "code",
   "execution_count": 49,
   "metadata": {
    "id": "x7vA4qfcJDaW"
   },
   "outputs": [],
   "source": [
    "# test_sessions['next_item_prediction'] = test_sessions.apply(lambda row: get_predictions(row), axis=1)"
   ]
  },
  {
   "cell_type": "code",
   "execution_count": 50,
   "metadata": {
    "id": "UXy4O2nrG6NC"
   },
   "outputs": [],
   "source": [
    "predictions = result_df[['locale', 'next_item_prediction']]"
   ]
  },
  {
   "cell_type": "code",
   "execution_count": 51,
   "metadata": {
    "id": "ieI1oY58ICil"
   },
   "outputs": [
    {
     "data": {
      "text/html": [
       "<div>\n",
       "<style scoped>\n",
       "    .dataframe tbody tr th:only-of-type {\n",
       "        vertical-align: middle;\n",
       "    }\n",
       "\n",
       "    .dataframe tbody tr th {\n",
       "        vertical-align: top;\n",
       "    }\n",
       "\n",
       "    .dataframe thead th {\n",
       "        text-align: right;\n",
       "    }\n",
       "</style>\n",
       "<table border=\"1\" class=\"dataframe\">\n",
       "  <thead>\n",
       "    <tr style=\"text-align: right;\">\n",
       "      <th></th>\n",
       "      <th>locale</th>\n",
       "      <th>next_item_prediction</th>\n",
       "    </tr>\n",
       "  </thead>\n",
       "  <tbody>\n",
       "    <tr>\n",
       "      <th>0</th>\n",
       "      <td>DE</td>\n",
       "      <td>[B08496TCCQ, B0BJ6TWCQW, B096BGC3XF, B07XRQ8YS...</td>\n",
       "    </tr>\n",
       "    <tr>\n",
       "      <th>1</th>\n",
       "      <td>DE</td>\n",
       "      <td>[B00R9RZ9ZS, B00R9R5ND6, B004ZXMV4Q, B08PM4PWD...</td>\n",
       "    </tr>\n",
       "    <tr>\n",
       "      <th>2</th>\n",
       "      <td>DE</td>\n",
       "      <td>[B07G7Q5N6G, B08C9Q7QVK, B000KSLHNQ, B0B5QNFWJ...</td>\n",
       "    </tr>\n",
       "    <tr>\n",
       "      <th>3</th>\n",
       "      <td>DE</td>\n",
       "      <td>[3772476953, B09M6X8SM8, 3955350878, 395535084...</td>\n",
       "    </tr>\n",
       "    <tr>\n",
       "      <th>4</th>\n",
       "      <td>DE</td>\n",
       "      <td>[B09XTSD7XC, B0B7WRBHWH, B09MS15K58, B09CCPNPS...</td>\n",
       "    </tr>\n",
       "  </tbody>\n",
       "</table>\n",
       "</div>"
      ],
      "text/plain": [
       "  locale                               next_item_prediction\n",
       "0     DE  [B08496TCCQ, B0BJ6TWCQW, B096BGC3XF, B07XRQ8YS...\n",
       "1     DE  [B00R9RZ9ZS, B00R9R5ND6, B004ZXMV4Q, B08PM4PWD...\n",
       "2     DE  [B07G7Q5N6G, B08C9Q7QVK, B000KSLHNQ, B0B5QNFWJ...\n",
       "3     DE  [3772476953, B09M6X8SM8, 3955350878, 395535084...\n",
       "4     DE  [B09XTSD7XC, B0B7WRBHWH, B09MS15K58, B09CCPNPS..."
      ]
     },
     "execution_count": 51,
     "metadata": {},
     "output_type": "execute_result"
    }
   ],
   "source": [
    "predictions.head()"
   ]
  },
  {
   "cell_type": "code",
   "execution_count": 58,
   "metadata": {},
   "outputs": [
    {
     "name": "stdout",
     "output_type": "stream",
     "text": [
      "<class 'pandas.core.frame.DataFrame'>\n",
      "RangeIndex: 316971 entries, 0 to 316970\n",
      "Data columns (total 2 columns):\n",
      " #   Column                Non-Null Count   Dtype \n",
      "---  ------                --------------   ----- \n",
      " 0   locale                316971 non-null  object\n",
      " 1   next_item_prediction  316971 non-null  object\n",
      "dtypes: object(2)\n",
      "memory usage: 4.8+ MB\n"
     ]
    }
   ],
   "source": [
    "predictions.info()"
   ]
  },
  {
   "cell_type": "code",
   "execution_count": null,
   "metadata": {},
   "outputs": [],
   "source": []
  },
  {
   "cell_type": "markdown",
   "metadata": {},
   "source": [
    "# Model Eval"
   ]
  },
  {
   "cell_type": "code",
   "execution_count": 61,
   "metadata": {},
   "outputs": [
    {
     "name": "stdout",
     "output_type": "stream",
     "text": [
      "<class 'pandas.core.frame.DataFrame'>\n",
      "Index: 3272716 entries, 0 to 3272715\n",
      "Data columns (total 3 columns):\n",
      " #   Column      Dtype \n",
      "---  ------      ----- \n",
      " 0   prev_items  object\n",
      " 1   next_item   object\n",
      " 2   locale      object\n",
      "dtypes: object(3)\n",
      "memory usage: 99.9+ MB\n"
     ]
    }
   ],
   "source": [
    "train_sessions.info()"
   ]
  },
  {
   "cell_type": "code",
   "execution_count": 63,
   "metadata": {},
   "outputs": [
    {
     "data": {
      "text/html": [
       "<div>\n",
       "<style scoped>\n",
       "    .dataframe tbody tr th:only-of-type {\n",
       "        vertical-align: middle;\n",
       "    }\n",
       "\n",
       "    .dataframe tbody tr th {\n",
       "        vertical-align: top;\n",
       "    }\n",
       "\n",
       "    .dataframe thead th {\n",
       "        text-align: right;\n",
       "    }\n",
       "</style>\n",
       "<table border=\"1\" class=\"dataframe\">\n",
       "  <thead>\n",
       "    <tr style=\"text-align: right;\">\n",
       "      <th></th>\n",
       "      <th>prev_items</th>\n",
       "      <th>next_item</th>\n",
       "      <th>locale</th>\n",
       "    </tr>\n",
       "  </thead>\n",
       "  <tbody>\n",
       "    <tr>\n",
       "      <th>2346537</th>\n",
       "      <td>['140835473X' '1800783019' '1471197220']</td>\n",
       "      <td>1408357488</td>\n",
       "      <td>UK</td>\n",
       "    </tr>\n",
       "    <tr>\n",
       "      <th>82962</th>\n",
       "      <td>['B00O4E4L12' 'B09JSLTC9S' 'B08KTP6M3P' 'B08KT...</td>\n",
       "      <td>B085FLPL3V</td>\n",
       "      <td>DE</td>\n",
       "    </tr>\n",
       "  </tbody>\n",
       "</table>\n",
       "</div>"
      ],
      "text/plain": [
       "                                                prev_items   next_item locale\n",
       "2346537           ['140835473X' '1800783019' '1471197220']  1408357488     UK\n",
       "82962    ['B00O4E4L12' 'B09JSLTC9S' 'B08KTP6M3P' 'B08KT...  B085FLPL3V     DE"
      ]
     },
     "execution_count": 63,
     "metadata": {},
     "output_type": "execute_result"
    }
   ],
   "source": [
    "sample_df = train_sessions.sample(1000)\n",
    "sample_df.head(2)"
   ]
  },
  {
   "cell_type": "code",
   "execution_count": 65,
   "metadata": {},
   "outputs": [],
   "source": [
    "pl_df = pl.from_dataframe(sample_df)\n",
    "pl_df = (\n",
    "    pl_df\n",
    "        .with_columns(pl.col('prev_items').apply(lambda row: get_rec(row, annoy_index=annoy_index, topn=3)).alias('next_item_prediction'))\n",
    ")"
   ]
  },
  {
   "cell_type": "code",
   "execution_count": 66,
   "metadata": {},
   "outputs": [
    {
     "data": {
      "text/html": [
       "<div><style>\n",
       ".dataframe > thead > tr > th,\n",
       ".dataframe > tbody > tr > td {\n",
       "  text-align: right;\n",
       "}\n",
       "</style>\n",
       "<small>shape: (1000, 4)</small><table border=\"1\" class=\"dataframe\"><thead><tr><th>prev_items</th><th>next_item</th><th>locale</th><th>next_item_prediction</th></tr><tr><td>str</td><td>str</td><td>str</td><td>list[str]</td></tr></thead><tbody><tr><td>&quot;[&#x27;140835473X&#x27; …</td><td>&quot;1408357488&quot;</td><td>&quot;UK&quot;</td><td>[&quot;1409582159&quot;, &quot;0008507694&quot;, &quot;1999829549&quot;]</td></tr><tr><td>&quot;[&#x27;B00O4E4L12&#x27; …</td><td>&quot;B085FLPL3V&quot;</td><td>&quot;DE&quot;</td><td>[&quot;B08KTP4HHH&quot;, &quot;B00O4E4L12&quot;, &quot;B085FLFHKP&quot;]</td></tr><tr><td>&quot;[&#x27;B07F6YZDQ8&#x27; …</td><td>&quot;B07F715JL6&quot;</td><td>&quot;DE&quot;</td><td>[&quot;B00I6EY3PU&quot;, &quot;B08F2TCD6M&quot;, &quot;B08MWQRD64&quot;]</td></tr><tr><td>&quot;[&#x27;B06X6JLZ1T&#x27; …</td><td>&quot;B0043W42ZU&quot;</td><td>&quot;DE&quot;</td><td>[&quot;B094NW9YS2&quot;, &quot;B01BY9RTO0&quot;, &quot;B088H614FL&quot;]</td></tr><tr><td>&quot;[&#x27;B076WRVJMQ&#x27; …</td><td>&quot;B08KJWFNLP&quot;</td><td>&quot;UK&quot;</td><td>[&quot;B0744871FX&quot;, &quot;B01LQAHN0W&quot;, &quot;B01MR51N92&quot;]</td></tr><tr><td>&quot;[&#x27;B07TWFK9TZ&#x27; …</td><td>&quot;B07SH1HJDW&quot;</td><td>&quot;JP&quot;</td><td>[&quot;B078B5CTZP&quot;, &quot;B09T2LWLK5&quot;, &quot;B07FQR4KFY&quot;]</td></tr><tr><td>&quot;[&#x27;B0B73RM6Z5&#x27; …</td><td>&quot;B07YLJMCQJ&quot;</td><td>&quot;JP&quot;</td><td>[&quot;B00EYYNWLW&quot;, &quot;B00GHI037E&quot;, &quot;B00QK4AUKA&quot;]</td></tr><tr><td>&quot;[&#x27;B002PLXR8E&#x27; …</td><td>&quot;B00KACQ00W&quot;</td><td>&quot;DE&quot;</td><td>[&quot;B07FYVTXN7&quot;, &quot;B000W8UXGQ&quot;, &quot;B07J5V84JJ&quot;]</td></tr><tr><td>&quot;[&#x27;B09RX2HBX1&#x27; …</td><td>&quot;B09RX2BBB3&quot;</td><td>&quot;UK&quot;</td><td>[&quot;B09BW3PCM8&quot;, &quot;B09BW18Q12&quot;, &quot;B0B59F4M5Y&quot;]</td></tr><tr><td>&quot;[&#x27;B0B68VQCMV&#x27; …</td><td>&quot;B0BJPYVRJF&quot;</td><td>&quot;JP&quot;</td><td>[&quot;B0BB95MQ6J&quot;, &quot;B09V7T39HV&quot;, &quot;B0BJDQNRLF&quot;]</td></tr><tr><td>&quot;[&#x27;B08MXT5VDK&#x27; …</td><td>&quot;B078JWZT1L&quot;</td><td>&quot;UK&quot;</td><td>[&quot;B084FKW56G&quot;, &quot;B07JHGQHVD&quot;, &quot;B00RN9PP42&quot;]</td></tr><tr><td>&quot;[&#x27;B09Y1C4MT9&#x27; …</td><td>&quot;B0948Y7W2C&quot;</td><td>&quot;DE&quot;</td><td>[&quot;B09W5F25GZ&quot;, &quot;B0895Y79QD&quot;, &quot;B09922S9JR&quot;]</td></tr><tr><td>&hellip;</td><td>&hellip;</td><td>&hellip;</td><td>&hellip;</td></tr><tr><td>&quot;[&#x27;B002OAR9AI&#x27; …</td><td>&quot;B099R8Z21B&quot;</td><td>&quot;JP&quot;</td><td>[&quot;B002OAR9AI&quot;, &quot;B09YY43LMP&quot;, &quot;B08G8FWWVM&quot;]</td></tr><tr><td>&quot;[&#x27;B07VPWHFLS&#x27; …</td><td>&quot;B00N985BXG&quot;</td><td>&quot;UK&quot;</td><td>[&quot;B07VPWGRBC&quot;, &quot;B07VPWHFLS&quot;, &quot;B07VLN9R5Y&quot;]</td></tr><tr><td>&quot;[&#x27;B09XPGLQ1C&#x27; …</td><td>&quot;B092W1XGCL&quot;</td><td>&quot;UK&quot;</td><td>[&quot;B0BBGZ32PN&quot;, &quot;B08Y8M3TNZ&quot;, &quot;B0B1LLL2RF&quot;]</td></tr><tr><td>&quot;[&#x27;B0B216TFFN&#x27; …</td><td>&quot;B0B851YHD4&quot;</td><td>&quot;DE&quot;</td><td>[&quot;B0BF9K9V7Z&quot;, &quot;B0B86NCFXK&quot;, &quot;B0B851YHD4&quot;]</td></tr><tr><td>&quot;[&#x27;B000NJWLDW&#x27; …</td><td>&quot;B0BB18MPT1&quot;</td><td>&quot;DE&quot;</td><td>[&quot;B0BL6WTCD1&quot;, &quot;B00313I9E2&quot;, &quot;B08BWFKXFG&quot;]</td></tr><tr><td>&quot;[&#x27;B0773L8S3J&#x27; …</td><td>&quot;B09S3BKTJP&quot;</td><td>&quot;DE&quot;</td><td>[&quot;B0773L8S3J&quot;, &quot;B0B7RQFV9H&quot;, &quot;B07ZMDD9XX&quot;]</td></tr><tr><td>&quot;[&#x27;B08R1SLJG5&#x27; …</td><td>&quot;B01EYPY28W&quot;</td><td>&quot;DE&quot;</td><td>[&quot;B0B4V3PLP3&quot;, &quot;B0BBDVD8HR&quot;, &quot;B09RZY1C68&quot;]</td></tr><tr><td>&quot;[&#x27;B0BG2RFKQG&#x27; …</td><td>&quot;B07WDLN6JJ&quot;</td><td>&quot;DE&quot;</td><td>[&quot;B0BG2RFKQG&quot;, &quot;B09LZ4N77F&quot;, &quot;B07T8B7C5J&quot;]</td></tr><tr><td>&quot;[&#x27;B0001AQVG6&#x27; …</td><td>&quot;B000HARD3U&quot;</td><td>&quot;DE&quot;</td><td>[&quot;B0001AQVFC&quot;, &quot;B0001AQVG6&quot;, &quot;B0BDCM1FD3&quot;]</td></tr><tr><td>&quot;[&#x27;B074T8GYZ4&#x27; …</td><td>&quot;B07XTJKZZ4&quot;</td><td>&quot;JP&quot;</td><td>[&quot;B07WDHDJRP&quot;, &quot;B0102UGCPY&quot;, &quot;B09ZY83HPS&quot;]</td></tr><tr><td>&quot;[&#x27;B087RFXCL1&#x27; …</td><td>&quot;B0BGFNDZZC&quot;</td><td>&quot;UK&quot;</td><td>[&quot;B09195GSHP&quot;, &quot;B083Z9SV93&quot;, &quot;B0B833H5FR&quot;]</td></tr><tr><td>&quot;[&#x27;B07Q97VFNS&#x27; …</td><td>&quot;B0BC1983LD&quot;</td><td>&quot;JP&quot;</td><td>[&quot;B07Q97VFNS&quot;, &quot;B0B51RNGLC&quot;, &quot;B09K3XNCHL&quot;]</td></tr></tbody></table></div>"
      ],
      "text/plain": [
       "shape: (1_000, 4)\n",
       "┌───────────────────────────────────┬────────────┬────────┬───────────────────────────────────┐\n",
       "│ prev_items                        ┆ next_item  ┆ locale ┆ next_item_prediction              │\n",
       "│ ---                               ┆ ---        ┆ ---    ┆ ---                               │\n",
       "│ str                               ┆ str        ┆ str    ┆ list[str]                         │\n",
       "╞═══════════════════════════════════╪════════════╪════════╪═══════════════════════════════════╡\n",
       "│ ['140835473X' '1800783019' '1471… ┆ 1408357488 ┆ UK     ┆ [\"1409582159\", \"0008507694\", \"19… │\n",
       "│ ['B00O4E4L12' 'B09JSLTC9S' 'B08K… ┆ B085FLPL3V ┆ DE     ┆ [\"B08KTP4HHH\", \"B00O4E4L12\", \"B0… │\n",
       "│ ['B07F6YZDQ8' 'B07F71DBGG' 'B07F… ┆ B07F715JL6 ┆ DE     ┆ [\"B00I6EY3PU\", \"B08F2TCD6M\", \"B0… │\n",
       "│ ['B06X6JLZ1T' 'B01BY9RTNQ' 'B094… ┆ B0043W42ZU ┆ DE     ┆ [\"B094NW9YS2\", \"B01BY9RTO0\", \"B0… │\n",
       "│ …                                 ┆ …          ┆ …      ┆ …                                 │\n",
       "│ ['B0001AQVG6' 'B0001AQVFC']       ┆ B000HARD3U ┆ DE     ┆ [\"B0001AQVFC\", \"B0001AQVG6\", \"B0… │\n",
       "│ ['B074T8GYZ4' 'B07WDHBX21' 'B07W… ┆ B07XTJKZZ4 ┆ JP     ┆ [\"B07WDHDJRP\", \"B0102UGCPY\", \"B0… │\n",
       "│ ['B087RFXCL1' 'B087RFXCL1']       ┆ B0BGFNDZZC ┆ UK     ┆ [\"B09195GSHP\", \"B083Z9SV93\", \"B0… │\n",
       "│ ['B07Q97VFNS' 'B07Q97VFNS']       ┆ B0BC1983LD ┆ JP     ┆ [\"B07Q97VFNS\", \"B0B51RNGLC\", \"B0… │\n",
       "└───────────────────────────────────┴────────────┴────────┴───────────────────────────────────┘"
      ]
     },
     "execution_count": 66,
     "metadata": {},
     "output_type": "execute_result"
    }
   ],
   "source": [
    "pl_df"
   ]
  },
  {
   "cell_type": "code",
   "execution_count": null,
   "metadata": {},
   "outputs": [],
   "source": []
  },
  {
   "cell_type": "markdown",
   "metadata": {
    "id": "vNB90dXKlZkR"
   },
   "source": [
    "# Validate predictions ✅ 😄"
   ]
  },
  {
   "cell_type": "code",
   "execution_count": null,
   "metadata": {},
   "outputs": [],
   "source": []
  },
  {
   "cell_type": "code",
   "execution_count": 88,
   "metadata": {
    "id": "FJA368Gzguk7"
   },
   "outputs": [],
   "source": [
    "check_predictions(predictions, test_sessions=test_sessions, \n",
    "                  # check_products=True, product_df=products\n",
    "                 )"
   ]
  },
  {
   "cell_type": "code",
   "execution_count": 54,
   "metadata": {
    "id": "1dTvU5VOgv0j"
   },
   "outputs": [],
   "source": [
    "# Its important that the parquet file you submit is saved with pyarrow backend\n",
    "predictions.to_parquet(f'submission_{task}.parquet', engine='pyarrow')"
   ]
  },
  {
   "cell_type": "markdown",
   "metadata": {
    "id": "dVrZ_TfnjL09"
   },
   "source": [
    "## Submit to AIcrowd 🚀"
   ]
  },
  {
   "cell_type": "code",
   "execution_count": 55,
   "metadata": {
    "id": "rd9OYWEgixPZ"
   },
   "outputs": [
    {
     "name": "stdout",
     "output_type": "stream",
     "text": [
      "\u001b[2K\u001b[1;34msubmission_task1.parquet\u001b[0m \u001b[90m━━━━━━━━━━━━\u001b[0m \u001b[35m100.0%\u001b[0m • \u001b[32m29.3/29.3 MB\u001b[0m • \u001b[31m3.4 MB/s\u001b[0m • \u001b[36m0:00:00\u001b[0m00:01\u001b[0m00:01\u001b[0m\n",
      "\u001b[?25h                                                                                 ╭─────────────────────────╮                                                                                 \n",
      "                                                                                 │ \u001b[1mSuccessfully submitted!\u001b[0m │                                                                                 \n",
      "                                                                                 ╰─────────────────────────╯                                                                                 \n",
      "\u001b[3m                                                                                       Important links                                                                                       \u001b[0m\n",
      "┌──────────────────┬────────────────────────────────────────────────────────────────────────────────────────────────────────────────────────────────────────────────────────────────────────┐\n",
      "│  This submission │ https://www.aicrowd.com/challenges/amazon-kdd-cup-23-multilingual-recommendation-challenge/problems/task-1-next-product-recommendation/submissions/214589              │\n",
      "│                  │                                                                                                                                                                        │\n",
      "│  All submissions │ https://www.aicrowd.com/challenges/amazon-kdd-cup-23-multilingual-recommendation-challenge/problems/task-1-next-product-recommendation/submissions?my_submissions=true │\n",
      "│                  │                                                                                                                                                                        │\n",
      "│      Leaderboard │ https://www.aicrowd.com/challenges/amazon-kdd-cup-23-multilingual-recommendation-challenge/problems/task-1-next-product-recommendation/leaderboards                    │\n",
      "│                  │                                                                                                                                                                        │\n",
      "│ Discussion forum │ https://discourse.aicrowd.com/c/amazon-kdd-cup-23-multilingual-recommendation-challenge                                                                                │\n",
      "│                  │                                                                                                                                                                        │\n",
      "│   Challenge page │ https://www.aicrowd.com/challenges/amazon-kdd-cup-23-multilingual-recommendation-challenge/problems/task-1-next-product-recommendation                                 │\n",
      "└──────────────────┴────────────────────────────────────────────────────────────────────────────────────────────────────────────────────────────────────────────────────────────────────────┘\n",
      "{'submission_id': 214589, 'created_at': '2023-04-06T03:40:16.025Z'}\n"
     ]
    }
   ],
   "source": [
    "# You can submit with aicrowd-cli, or upload manually on the challenge page.\n",
    "!aicrowd submission create -c task-1-next-product-recommendation -f \"submission_task1.parquet\""
   ]
  },
  {
   "cell_type": "code",
   "execution_count": null,
   "metadata": {},
   "outputs": [],
   "source": []
  }
 ],
 "metadata": {
  "colab": {
   "provenance": [],
   "toc_visible": true
  },
  "environment": {
   "kernel": "kdd_2023",
   "name": "common-cu110.m104",
   "type": "gcloud",
   "uri": "gcr.io/deeplearning-platform-release/base-cu110:m104"
  },
  "kernelspec": {
   "display_name": "py3.8(kdd_2023)",
   "language": "python",
   "name": "kdd_2023"
  },
  "language_info": {
   "codemirror_mode": {
    "name": "ipython",
    "version": 3
   },
   "file_extension": ".py",
   "mimetype": "text/x-python",
   "name": "python",
   "nbconvert_exporter": "python",
   "pygments_lexer": "ipython3",
   "version": "3.8.16"
  }
 },
 "nbformat": 4,
 "nbformat_minor": 4
}
