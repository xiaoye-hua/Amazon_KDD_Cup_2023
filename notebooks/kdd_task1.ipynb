{
  "cells": [
    {
      "cell_type": "markdown",
      "source": [
        "# Amazon KDD Cup 2023 - Task 1 - Next Product Recommendation \n",
        "\n",
        "![](https://images.aicrowd.com/raw_images/challenges/banner_file/1116/6c8fecd6d7c225b4ed11.jpg)\n",
        "\n",
        "This notebook will contains instructions and example submission with random predictions.\n",
        "\n"
      ],
      "metadata": {
        "id": "JjLhdmxVr58v"
      }
    },
    {
      "cell_type": "markdown",
      "source": [
        "## Installations 🤖\n",
        "\n",
        "1. `aicrowd-cli` for downloading challenge data and making submissions\n",
        "2. `pyarrow` for saving to parquet for submissions"
      ],
      "metadata": {
        "id": "Lm6gGYz1kjdQ"
      }
    },
    {
      "cell_type": "code",
      "execution_count": null,
      "metadata": {
        "colab": {
          "base_uri": "https://localhost:8080/"
        },
        "id": "PlGtVN4vg0OF",
        "outputId": "bb951fda-d612-4cf4-cde1-37280ecec118"
      },
      "outputs": [
        {
          "output_type": "stream",
          "name": "stdout",
          "text": [
            "Looking in indexes: https://pypi.org/simple, https://us-python.pkg.dev/colab-wheels/public/simple/\n",
            "Collecting aicrowd-cli\n",
            "  Downloading aicrowd_cli-0.1.15-py3-none-any.whl (51 kB)\n",
            "\u001b[2K     \u001b[90m━━━━━━━━━━━━━━━━━━━━━━━━━━━━━━━━━━━━━━━━\u001b[0m \u001b[32m51.1/51.1 KB\u001b[0m \u001b[31m3.0 MB/s\u001b[0m eta \u001b[36m0:00:00\u001b[0m\n",
            "\u001b[?25hRequirement already satisfied: pyarrow in /usr/local/lib/python3.9/dist-packages (9.0.0)\n",
            "Requirement already satisfied: gensim in /usr/local/lib/python3.9/dist-packages (4.3.1)\n",
            "Requirement already satisfied: toml<1,>=0.10.2 in /usr/local/lib/python3.9/dist-packages (from aicrowd-cli) (0.10.2)\n",
            "Collecting requests-toolbelt<1,>=0.9.1\n",
            "  Downloading requests_toolbelt-0.10.1-py2.py3-none-any.whl (54 kB)\n",
            "\u001b[2K     \u001b[90m━━━━━━━━━━━━━━━━━━━━━━━━━━━━━━━━━━━━━━━━\u001b[0m \u001b[32m54.5/54.5 KB\u001b[0m \u001b[31m3.3 MB/s\u001b[0m eta \u001b[36m0:00:00\u001b[0m\n",
            "\u001b[?25hCollecting python-slugify<6,>=5.0.0\n",
            "  Downloading python_slugify-5.0.2-py2.py3-none-any.whl (6.7 kB)\n",
            "Collecting GitPython==3.1.18\n",
            "  Downloading GitPython-3.1.18-py3-none-any.whl (170 kB)\n",
            "\u001b[2K     \u001b[90m━━━━━━━━━━━━━━━━━━━━━━━━━━━━━━━━━━━━━━━\u001b[0m \u001b[32m170.1/170.1 KB\u001b[0m \u001b[31m8.8 MB/s\u001b[0m eta \u001b[36m0:00:00\u001b[0m\n",
            "\u001b[?25hRequirement already satisfied: tqdm<5,>=4.56.0 in /usr/local/lib/python3.9/dist-packages (from aicrowd-cli) (4.65.0)\n",
            "Collecting pyzmq==22.1.0\n",
            "  Downloading pyzmq-22.1.0-cp39-cp39-manylinux2010_x86_64.whl (1.1 MB)\n",
            "\u001b[2K     \u001b[90m━━━━━━━━━━━━━━━━━━━━━━━━━━━━━━━━━━━━━━━━\u001b[0m \u001b[32m1.1/1.1 MB\u001b[0m \u001b[31m11.2 MB/s\u001b[0m eta \u001b[36m0:00:00\u001b[0m\n",
            "\u001b[?25hCollecting click<8,>=7.1.2\n",
            "  Downloading click-7.1.2-py2.py3-none-any.whl (82 kB)\n",
            "\u001b[2K     \u001b[90m━━━━━━━━━━━━━━━━━━━━━━━━━━━━━━━━━━━━━━━━\u001b[0m \u001b[32m82.8/82.8 KB\u001b[0m \u001b[31m6.3 MB/s\u001b[0m eta \u001b[36m0:00:00\u001b[0m\n",
            "\u001b[?25hCollecting semver<3,>=2.13.0\n",
            "  Downloading semver-2.13.0-py2.py3-none-any.whl (12 kB)\n",
            "Requirement already satisfied: requests<3,>=2.25.1 in /usr/local/lib/python3.9/dist-packages (from aicrowd-cli) (2.27.1)\n",
            "Collecting rich<11,>=10.0.0\n",
            "  Downloading rich-10.16.2-py3-none-any.whl (214 kB)\n",
            "\u001b[2K     \u001b[90m━━━━━━━━━━━━━━━━━━━━━━━━━━━━━━━━━━━━━━\u001b[0m \u001b[32m214.4/214.4 KB\u001b[0m \u001b[31m11.4 MB/s\u001b[0m eta \u001b[36m0:00:00\u001b[0m\n",
            "\u001b[?25hCollecting gitdb<5,>=4.0.1\n",
            "  Downloading gitdb-4.0.10-py3-none-any.whl (62 kB)\n",
            "\u001b[2K     \u001b[90m━━━━━━━━━━━━━━━━━━━━━━━━━━━━━━━━━━━━━━━━\u001b[0m \u001b[32m62.7/62.7 KB\u001b[0m \u001b[31m5.9 MB/s\u001b[0m eta \u001b[36m0:00:00\u001b[0m\n",
            "\u001b[?25hRequirement already satisfied: numpy>=1.16.6 in /usr/local/lib/python3.9/dist-packages (from pyarrow) (1.22.4)\n",
            "Requirement already satisfied: scipy>=1.7.0 in /usr/local/lib/python3.9/dist-packages (from gensim) (1.10.1)\n",
            "Requirement already satisfied: smart-open>=1.8.1 in /usr/local/lib/python3.9/dist-packages (from gensim) (6.3.0)\n",
            "Requirement already satisfied: text-unidecode>=1.3 in /usr/local/lib/python3.9/dist-packages (from python-slugify<6,>=5.0.0->aicrowd-cli) (1.3)\n",
            "Requirement already satisfied: charset-normalizer~=2.0.0 in /usr/local/lib/python3.9/dist-packages (from requests<3,>=2.25.1->aicrowd-cli) (2.0.12)\n",
            "Requirement already satisfied: urllib3<1.27,>=1.21.1 in /usr/local/lib/python3.9/dist-packages (from requests<3,>=2.25.1->aicrowd-cli) (1.26.15)\n",
            "Requirement already satisfied: idna<4,>=2.5 in /usr/local/lib/python3.9/dist-packages (from requests<3,>=2.25.1->aicrowd-cli) (3.4)\n",
            "Requirement already satisfied: certifi>=2017.4.17 in /usr/local/lib/python3.9/dist-packages (from requests<3,>=2.25.1->aicrowd-cli) (2022.12.7)\n",
            "Collecting colorama<0.5.0,>=0.4.0\n",
            "  Downloading colorama-0.4.6-py2.py3-none-any.whl (25 kB)\n",
            "Requirement already satisfied: pygments<3.0.0,>=2.6.0 in /usr/local/lib/python3.9/dist-packages (from rich<11,>=10.0.0->aicrowd-cli) (2.14.0)\n",
            "Collecting commonmark<0.10.0,>=0.9.0\n",
            "  Downloading commonmark-0.9.1-py2.py3-none-any.whl (51 kB)\n",
            "\u001b[2K     \u001b[90m━━━━━━━━━━━━━━━━━━━━━━━━━━━━━━━━━━━━━━━━\u001b[0m \u001b[32m51.1/51.1 KB\u001b[0m \u001b[31m3.3 MB/s\u001b[0m eta \u001b[36m0:00:00\u001b[0m\n",
            "\u001b[?25hCollecting smmap<6,>=3.0.1\n",
            "  Downloading smmap-5.0.0-py3-none-any.whl (24 kB)\n",
            "Installing collected packages: commonmark, smmap, semver, pyzmq, python-slugify, colorama, click, rich, requests-toolbelt, gitdb, GitPython, aicrowd-cli\n",
            "  Attempting uninstall: pyzmq\n",
            "    Found existing installation: pyzmq 23.2.1\n",
            "    Uninstalling pyzmq-23.2.1:\n",
            "      Successfully uninstalled pyzmq-23.2.1\n",
            "  Attempting uninstall: python-slugify\n",
            "    Found existing installation: python-slugify 8.0.1\n",
            "    Uninstalling python-slugify-8.0.1:\n",
            "      Successfully uninstalled python-slugify-8.0.1\n",
            "  Attempting uninstall: click\n",
            "    Found existing installation: click 8.1.3\n",
            "    Uninstalling click-8.1.3:\n",
            "      Successfully uninstalled click-8.1.3\n",
            "  Attempting uninstall: rich\n",
            "    Found existing installation: rich 13.3.3\n",
            "    Uninstalling rich-13.3.3:\n",
            "      Successfully uninstalled rich-13.3.3\n",
            "\u001b[31mERROR: pip's dependency resolver does not currently take into account all the packages that are installed. This behaviour is the source of the following dependency conflicts.\n",
            "flax 0.6.7 requires rich>=11.1, but you have rich 10.16.2 which is incompatible.\n",
            "flask 2.2.3 requires click>=8.0, but you have click 7.1.2 which is incompatible.\u001b[0m\u001b[31m\n",
            "\u001b[0mSuccessfully installed GitPython-3.1.18 aicrowd-cli-0.1.15 click-7.1.2 colorama-0.4.6 commonmark-0.9.1 gitdb-4.0.10 python-slugify-5.0.2 pyzmq-22.1.0 requests-toolbelt-0.10.1 rich-10.16.2 semver-2.13.0 smmap-5.0.0\n"
          ]
        }
      ],
      "source": [
        "!pip install aicrowd-cli pyarrow gensim"
      ]
    },
    {
      "cell_type": "markdown",
      "source": [
        "## Login to AIcrowd and download the data 📚"
      ],
      "metadata": {
        "id": "7POE7L5_kz07"
      }
    },
    {
      "cell_type": "code",
      "execution_count": null,
      "metadata": {
        "id": "5LbTnzGOhBrw",
        "outputId": "dba2e9df-ca4b-4ec9-8e63-aeecb016d038",
        "colab": {
          "base_uri": "https://localhost:8080/"
        }
      },
      "outputs": [
        {
          "output_type": "stream",
          "name": "stdout",
          "text": [
            "Please login here: \u001b[34m\u001b[1m\u001b[4mhttps://api.aicrowd.com/auth/o9JOSImQ85uud9f9k_EgAp7kc-qp4qIq6jnZ6SOU1p8\u001b[0m\n",
            "/usr/bin/xdg-open: 869: www-browser: not found\n",
            "/usr/bin/xdg-open: 869: links2: not found\n",
            "/usr/bin/xdg-open: 869: elinks: not found\n",
            "/usr/bin/xdg-open: 869: links: not found\n",
            "/usr/bin/xdg-open: 869: lynx: not found\n",
            "/usr/bin/xdg-open: 869: w3m: not found\n",
            "xdg-open: no method available for opening 'https://api.aicrowd.com/auth/o9JOSImQ85uud9f9k_EgAp7kc-qp4qIq6jnZ6SOU1p8'\n",
            "\u001b[32mAPI Key valid\u001b[0m\n",
            "\u001b[32mGitlab access token valid\u001b[0m\n",
            "\u001b[32mSaved details successfully!\u001b[0m\n"
          ]
        }
      ],
      "source": [
        "!aicrowd login"
      ]
    },
    {
      "cell_type": "code",
      "execution_count": null,
      "metadata": {
        "colab": {
          "base_uri": "https://localhost:8080/"
        },
        "id": "-QfVS2fthKWr",
        "outputId": "912cd23c-c2d4-45ad-88e9-72c49773d16b"
      },
      "outputs": [
        {
          "output_type": "stream",
          "name": "stdout",
          "text": [
            "sessions_test_task1.csv: 100% 19.4M/19.4M [00:00<00:00, 25.2MB/s]\n",
            "sessions_test_task2.csv: 100% 1.92M/1.92M [00:00<00:00, 5.77MB/s]\n",
            "sessions_test_task3.csv: 100% 2.67M/2.67M [00:00<00:00, 7.56MB/s]\n",
            "products_train.csv: 100% 589M/589M [01:16<00:00, 7.73MB/s]\n",
            "sessions_train.csv: 100% 259M/259M [00:39<00:00, 6.57MB/s]\n"
          ]
        }
      ],
      "source": [
        "!aicrowd dataset download --challenge task-1-next-product-recommendation"
      ]
    },
    {
      "cell_type": "markdown",
      "source": [
        "## Setup data and task information"
      ],
      "metadata": {
        "id": "LmjiT10Qk5m8"
      }
    },
    {
      "cell_type": "code",
      "source": [
        "! ls"
      ],
      "metadata": {
        "id": "jmsanYao-V2c",
        "outputId": "0b4740aa-b24e-4f29-d1b5-82d6ee8326b3",
        "colab": {
          "base_uri": "https://localhost:8080/"
        }
      },
      "execution_count": null,
      "outputs": [
        {
          "output_type": "stream",
          "name": "stdout",
          "text": [
            "products_train.csv  sessions_test_task1.csv  sessions_test_task3.csv\n",
            "sample_data\t    sessions_test_task2.csv  sessions_train.csv\n"
          ]
        }
      ]
    },
    {
      "cell_type": "code",
      "execution_count": null,
      "metadata": {
        "id": "7DjmcQMAgPAJ"
      },
      "outputs": [],
      "source": [
        "import os\n",
        "import numpy as np\n",
        "import pandas as pd\n",
        "from functools import lru_cache\n",
        "from gensim.models import Word2Vec"
      ]
    },
    {
      "cell_type": "markdown",
      "source": [
        "## Config"
      ],
      "metadata": {
        "id": "JxcGbj4xAqqe"
      }
    },
    {
      "cell_type": "code",
      "source": [
        "debug = False\n",
        "\n",
        "debug_session_num = 1000"
      ],
      "metadata": {
        "id": "qYPjjtQ_AqRT"
      },
      "execution_count": null,
      "outputs": []
    },
    {
      "cell_type": "code",
      "execution_count": null,
      "metadata": {
        "id": "6oiTtQ56gYlY"
      },
      "outputs": [],
      "source": [
        "train_data_dir = '.'\n",
        "test_data_dir = '.'\n",
        "task = 'task1'\n",
        "PREDS_PER_SESSION = 100"
      ]
    },
    {
      "cell_type": "code",
      "execution_count": null,
      "metadata": {
        "id": "qZPWqKGegax-"
      },
      "outputs": [],
      "source": [
        "# Cache loading of data for multiple calls\n",
        "\n",
        "@lru_cache(maxsize=1)\n",
        "def read_product_data():\n",
        "    return pd.read_csv(os.path.join(train_data_dir, 'products_train.csv'))\n",
        "\n",
        "@lru_cache(maxsize=1)\n",
        "def read_train_data():\n",
        "    return pd.read_csv(os.path.join(train_data_dir, 'sessions_train.csv'))\n",
        "\n",
        "@lru_cache(maxsize=3)\n",
        "def read_test_data(task):\n",
        "    return pd.read_csv(os.path.join(test_data_dir, f'sessions_test_{task}.csv'))"
      ]
    },
    {
      "cell_type": "markdown",
      "source": [
        "## Data Description\n",
        "\n",
        "The Multilingual Shopping Session Dataset is a collection of **anonymized customer sessions** containing products from six different locales, namely English, German, Japanese, French, Italian, and Spanish. It consists of two main components: **user sessions** and **product attributes**. User sessions are a list of products that a user has engaged with in chronological order, while product attributes include various details like product title, price in local currency, brand, color, and description.\n",
        "\n",
        "---\n",
        "\n",
        "### Each product as its associated information:\n",
        "\n",
        "\n",
        "**locale**: the locale code of the product (e.g., DE)\n",
        "\n",
        "**id**: a unique for the product. Also known as Amazon Standard Item Number (ASIN) (e.g., B07WSY3MG8)\n",
        "\n",
        "**title**: title of the item (e.g., “Japanese Aesthetic Sakura Flowers Vaporwave Soft Grunge Gift T-Shirt”)\n",
        "\n",
        "**price**: price of the item in local currency (e.g., 24.99)\n",
        "\n",
        "**brand**: item brand name (e.g., “Japanese Aesthetic Flowers & Vaporwave Clothing”)\n",
        "\n",
        "**color**: color of the item (e.g., “Black”)\n",
        "\n",
        "**size**: size of the item (e.g., “xxl”)\n",
        "\n",
        "**model**: model of the item (e.g., “iphone 13”)\n",
        "\n",
        "**material**: material of the item (e.g., “cotton”)\n",
        "\n",
        "**author**: author of the item (e.g., “J. K. Rowling”)\n",
        "\n",
        "**desc**: description about a item’s key features and benefits called out via bullet points (e.g., “Solid colors: 100% Cotton; Heather Grey: 90% Cotton, 10% Polyester; All Other Heathers …”)\n"
      ],
      "metadata": {
        "id": "WrMp8SO2tFtL"
      }
    },
    {
      "cell_type": "markdown",
      "source": [
        "## EDA 💽"
      ],
      "metadata": {
        "id": "9ZEph_ZjlOj0"
      }
    },
    {
      "cell_type": "code",
      "execution_count": null,
      "metadata": {
        "id": "f2L9ImDqge3_"
      },
      "outputs": [],
      "source": [
        "def read_locale_data(locale, task):\n",
        "    products = read_product_data().query(f'locale == \"{locale}\"')\n",
        "    sess_train = read_train_data().query(f'locale == \"{locale}\"')\n",
        "    sess_test = read_test_data(task).query(f'locale == \"{locale}\"')\n",
        "    return products, sess_train, sess_test\n",
        "\n",
        "def show_locale_info(locale, task):\n",
        "    products, sess_train, sess_test = read_locale_data(locale, task)\n",
        "\n",
        "    train_l = sess_train['prev_items'].apply(lambda sess: len(sess))\n",
        "    test_l = sess_test['prev_items'].apply(lambda sess: len(sess))\n",
        "\n",
        "    print(f\"Locale: {locale} \\n\"\n",
        "          f\"Number of products: {products['id'].nunique()} \\n\"\n",
        "          f\"Number of train sessions: {len(sess_train)} \\n\"\n",
        "          f\"Train session lengths - \"\n",
        "          f\"Mean: {train_l.mean():.2f} | Median {train_l.median():.2f} | \"\n",
        "          f\"Min: {train_l.min():.2f} | Max {train_l.max():.2f} \\n\"\n",
        "          f\"Number of test sessions: {len(sess_test)}\"\n",
        "        )\n",
        "    if len(sess_test) > 0:\n",
        "        print(\n",
        "             f\"Test session lengths - \"\n",
        "            f\"Mean: {test_l.mean():.2f} | Median {test_l.median():.2f} | \"\n",
        "            f\"Min: {test_l.min():.2f} | Max {test_l.max():.2f} \\n\"\n",
        "        )\n",
        "    print(\"======================================================================== \\n\")"
      ]
    },
    {
      "cell_type": "code",
      "execution_count": null,
      "metadata": {
        "colab": {
          "base_uri": "https://localhost:8080/"
        },
        "id": "tWCiG4Odggmo",
        "outputId": "e29c572c-b658-44e1-bbd5-c9df22dfded1"
      },
      "outputs": [
        {
          "output_type": "stream",
          "name": "stdout",
          "text": [
            "Locale: DE \n",
            "Number of products: 518327 \n",
            "Number of train sessions: 1111416 \n",
            "Train session lengths - Mean: 57.89 | Median 40.00 | Min: 27.00 | Max 2060.00 \n",
            "Number of test sessions: 104568\n",
            "Test session lengths - Mean: 57.23 | Median 40.00 | Min: 27.00 | Max 700.00 \n",
            "\n",
            "======================================================================== \n",
            "\n",
            "Locale: JP \n",
            "Number of products: 395009 \n",
            "Number of train sessions: 979119 \n",
            "Train session lengths - Mean: 59.61 | Median 40.00 | Min: 27.00 | Max 6257.00 \n",
            "Number of test sessions: 96467\n",
            "Test session lengths - Mean: 59.90 | Median 40.00 | Min: 27.00 | Max 1479.00 \n",
            "\n",
            "======================================================================== \n",
            "\n",
            "Locale: UK \n",
            "Number of products: 500180 \n",
            "Number of train sessions: 1182181 \n",
            "Train session lengths - Mean: 54.85 | Median 40.00 | Min: 27.00 | Max 2654.00 \n",
            "Number of test sessions: 115936\n",
            "Test session lengths - Mean: 53.51 | Median 40.00 | Min: 27.00 | Max 872.00 \n",
            "\n",
            "======================================================================== \n",
            "\n",
            "Locale: ES \n",
            "Number of products: 42503 \n",
            "Number of train sessions: 89047 \n",
            "Train session lengths - Mean: 48.82 | Median 40.00 | Min: 27.00 | Max 792.00 \n",
            "Number of test sessions: 0\n",
            "======================================================================== \n",
            "\n",
            "Locale: FR \n",
            "Number of products: 44577 \n",
            "Number of train sessions: 117561 \n",
            "Train session lengths - Mean: 47.25 | Median 40.00 | Min: 27.00 | Max 687.00 \n",
            "Number of test sessions: 0\n",
            "======================================================================== \n",
            "\n",
            "Locale: IT \n",
            "Number of products: 50461 \n",
            "Number of train sessions: 126925 \n",
            "Train session lengths - Mean: 48.80 | Median 40.00 | Min: 27.00 | Max 621.00 \n",
            "Number of test sessions: 0\n",
            "======================================================================== \n",
            "\n"
          ]
        }
      ],
      "source": [
        "products = read_product_data()\n",
        "locale_names = products['locale'].unique()\n",
        "for locale in locale_names:\n",
        "    show_locale_info(locale, task)"
      ]
    },
    {
      "cell_type": "code",
      "execution_count": null,
      "metadata": {
        "id": "ePOKyZCbgizi"
      },
      "outputs": [],
      "source": [
        "# products.sample(5)"
      ]
    },
    {
      "cell_type": "code",
      "execution_count": null,
      "metadata": {
        "colab": {
          "base_uri": "https://localhost:8080/",
          "height": 206
        },
        "id": "S1S19qsFgk43",
        "outputId": "28e7f39f-a471-4f02-b763-bd89f15740dc"
      },
      "outputs": [
        {
          "output_type": "execute_result",
          "data": {
            "text/plain": [
              "                                                prev_items   next_item locale\n",
              "3144088  ['B088X3XWY2' 'B088X2W12Y' 'B088X3V6JT' 'B07PY...  B002IJM4DW     UK\n",
              "671398            ['B08TC3LZHD' 'B0009U7JXC' 'B08TC3LZHD']  B08TC344D3     DE\n",
              "687356   ['B00J0AWQFI' 'B00FZ1E6F4' 'B01MRH9PR8' 'B01N3...  B01N8ORUVQ     DE\n",
              "3225460                        ['B00694TPTS' 'B003WJNJUY']  B08S8D4VK3     UK\n",
              "1028103                        ['B07C2LPJG2' 'B07PKMZXGF']  B0196SWZSQ     DE"
            ],
            "text/html": [
              "\n",
              "  <div id=\"df-3d65d594-5374-4706-87a9-f4a1116a89fc\">\n",
              "    <div class=\"colab-df-container\">\n",
              "      <div>\n",
              "<style scoped>\n",
              "    .dataframe tbody tr th:only-of-type {\n",
              "        vertical-align: middle;\n",
              "    }\n",
              "\n",
              "    .dataframe tbody tr th {\n",
              "        vertical-align: top;\n",
              "    }\n",
              "\n",
              "    .dataframe thead th {\n",
              "        text-align: right;\n",
              "    }\n",
              "</style>\n",
              "<table border=\"1\" class=\"dataframe\">\n",
              "  <thead>\n",
              "    <tr style=\"text-align: right;\">\n",
              "      <th></th>\n",
              "      <th>prev_items</th>\n",
              "      <th>next_item</th>\n",
              "      <th>locale</th>\n",
              "    </tr>\n",
              "  </thead>\n",
              "  <tbody>\n",
              "    <tr>\n",
              "      <th>3144088</th>\n",
              "      <td>['B088X3XWY2' 'B088X2W12Y' 'B088X3V6JT' 'B07PY...</td>\n",
              "      <td>B002IJM4DW</td>\n",
              "      <td>UK</td>\n",
              "    </tr>\n",
              "    <tr>\n",
              "      <th>671398</th>\n",
              "      <td>['B08TC3LZHD' 'B0009U7JXC' 'B08TC3LZHD']</td>\n",
              "      <td>B08TC344D3</td>\n",
              "      <td>DE</td>\n",
              "    </tr>\n",
              "    <tr>\n",
              "      <th>687356</th>\n",
              "      <td>['B00J0AWQFI' 'B00FZ1E6F4' 'B01MRH9PR8' 'B01N3...</td>\n",
              "      <td>B01N8ORUVQ</td>\n",
              "      <td>DE</td>\n",
              "    </tr>\n",
              "    <tr>\n",
              "      <th>3225460</th>\n",
              "      <td>['B00694TPTS' 'B003WJNJUY']</td>\n",
              "      <td>B08S8D4VK3</td>\n",
              "      <td>UK</td>\n",
              "    </tr>\n",
              "    <tr>\n",
              "      <th>1028103</th>\n",
              "      <td>['B07C2LPJG2' 'B07PKMZXGF']</td>\n",
              "      <td>B0196SWZSQ</td>\n",
              "      <td>DE</td>\n",
              "    </tr>\n",
              "  </tbody>\n",
              "</table>\n",
              "</div>\n",
              "      <button class=\"colab-df-convert\" onclick=\"convertToInteractive('df-3d65d594-5374-4706-87a9-f4a1116a89fc')\"\n",
              "              title=\"Convert this dataframe to an interactive table.\"\n",
              "              style=\"display:none;\">\n",
              "        \n",
              "  <svg xmlns=\"http://www.w3.org/2000/svg\" height=\"24px\"viewBox=\"0 0 24 24\"\n",
              "       width=\"24px\">\n",
              "    <path d=\"M0 0h24v24H0V0z\" fill=\"none\"/>\n",
              "    <path d=\"M18.56 5.44l.94 2.06.94-2.06 2.06-.94-2.06-.94-.94-2.06-.94 2.06-2.06.94zm-11 1L8.5 8.5l.94-2.06 2.06-.94-2.06-.94L8.5 2.5l-.94 2.06-2.06.94zm10 10l.94 2.06.94-2.06 2.06-.94-2.06-.94-.94-2.06-.94 2.06-2.06.94z\"/><path d=\"M17.41 7.96l-1.37-1.37c-.4-.4-.92-.59-1.43-.59-.52 0-1.04.2-1.43.59L10.3 9.45l-7.72 7.72c-.78.78-.78 2.05 0 2.83L4 21.41c.39.39.9.59 1.41.59.51 0 1.02-.2 1.41-.59l7.78-7.78 2.81-2.81c.8-.78.8-2.07 0-2.86zM5.41 20L4 18.59l7.72-7.72 1.47 1.35L5.41 20z\"/>\n",
              "  </svg>\n",
              "      </button>\n",
              "      \n",
              "  <style>\n",
              "    .colab-df-container {\n",
              "      display:flex;\n",
              "      flex-wrap:wrap;\n",
              "      gap: 12px;\n",
              "    }\n",
              "\n",
              "    .colab-df-convert {\n",
              "      background-color: #E8F0FE;\n",
              "      border: none;\n",
              "      border-radius: 50%;\n",
              "      cursor: pointer;\n",
              "      display: none;\n",
              "      fill: #1967D2;\n",
              "      height: 32px;\n",
              "      padding: 0 0 0 0;\n",
              "      width: 32px;\n",
              "    }\n",
              "\n",
              "    .colab-df-convert:hover {\n",
              "      background-color: #E2EBFA;\n",
              "      box-shadow: 0px 1px 2px rgba(60, 64, 67, 0.3), 0px 1px 3px 1px rgba(60, 64, 67, 0.15);\n",
              "      fill: #174EA6;\n",
              "    }\n",
              "\n",
              "    [theme=dark] .colab-df-convert {\n",
              "      background-color: #3B4455;\n",
              "      fill: #D2E3FC;\n",
              "    }\n",
              "\n",
              "    [theme=dark] .colab-df-convert:hover {\n",
              "      background-color: #434B5C;\n",
              "      box-shadow: 0px 1px 3px 1px rgba(0, 0, 0, 0.15);\n",
              "      filter: drop-shadow(0px 1px 2px rgba(0, 0, 0, 0.3));\n",
              "      fill: #FFFFFF;\n",
              "    }\n",
              "  </style>\n",
              "\n",
              "      <script>\n",
              "        const buttonEl =\n",
              "          document.querySelector('#df-3d65d594-5374-4706-87a9-f4a1116a89fc button.colab-df-convert');\n",
              "        buttonEl.style.display =\n",
              "          google.colab.kernel.accessAllowed ? 'block' : 'none';\n",
              "\n",
              "        async function convertToInteractive(key) {\n",
              "          const element = document.querySelector('#df-3d65d594-5374-4706-87a9-f4a1116a89fc');\n",
              "          const dataTable =\n",
              "            await google.colab.kernel.invokeFunction('convertToInteractive',\n",
              "                                                     [key], {});\n",
              "          if (!dataTable) return;\n",
              "\n",
              "          const docLinkHtml = 'Like what you see? Visit the ' +\n",
              "            '<a target=\"_blank\" href=https://colab.research.google.com/notebooks/data_table.ipynb>data table notebook</a>'\n",
              "            + ' to learn more about interactive tables.';\n",
              "          element.innerHTML = '';\n",
              "          dataTable['output_type'] = 'display_data';\n",
              "          await google.colab.output.renderOutput(dataTable, element);\n",
              "          const docLink = document.createElement('div');\n",
              "          docLink.innerHTML = docLinkHtml;\n",
              "          element.appendChild(docLink);\n",
              "        }\n",
              "      </script>\n",
              "    </div>\n",
              "  </div>\n",
              "  "
            ]
          },
          "metadata": {},
          "execution_count": 81
        }
      ],
      "source": [
        "train_sessions = read_train_data()\n",
        "train_sessions.sample(5)"
      ]
    },
    {
      "cell_type": "code",
      "execution_count": null,
      "metadata": {
        "colab": {
          "base_uri": "https://localhost:8080/",
          "height": 206
        },
        "id": "tbllmbaEgmBg",
        "outputId": "2560f079-ff99-4583-b38d-715f5fd14167"
      },
      "outputs": [
        {
          "output_type": "execute_result",
          "data": {
            "text/plain": [
              "                                               prev_items locale\n",
              "81570                         ['B076P691GC' 'B076P691GC']     DE\n",
              "205520           ['B08SQMVBY1' 'B08FD7W1XQ' 'B08MSXQMV4']     UK\n",
              "153502           ['B0148D1YM2' 'B0BF94G3LD' 'B0BF94G3LD']     JP\n",
              "284590  ['B08L527FKX' 'B08L527FKX' 'B07W6NBPHX' 'B07W6...     UK\n",
              "157220  ['B08DY9Q25K' 'B08N6FYP1R' 'B08N6FYP1R' 'B08DY...     JP"
            ],
            "text/html": [
              "\n",
              "  <div id=\"df-c1fa2ea2-8dfe-471e-bdaf-9ebe076fe7b8\">\n",
              "    <div class=\"colab-df-container\">\n",
              "      <div>\n",
              "<style scoped>\n",
              "    .dataframe tbody tr th:only-of-type {\n",
              "        vertical-align: middle;\n",
              "    }\n",
              "\n",
              "    .dataframe tbody tr th {\n",
              "        vertical-align: top;\n",
              "    }\n",
              "\n",
              "    .dataframe thead th {\n",
              "        text-align: right;\n",
              "    }\n",
              "</style>\n",
              "<table border=\"1\" class=\"dataframe\">\n",
              "  <thead>\n",
              "    <tr style=\"text-align: right;\">\n",
              "      <th></th>\n",
              "      <th>prev_items</th>\n",
              "      <th>locale</th>\n",
              "    </tr>\n",
              "  </thead>\n",
              "  <tbody>\n",
              "    <tr>\n",
              "      <th>81570</th>\n",
              "      <td>['B076P691GC' 'B076P691GC']</td>\n",
              "      <td>DE</td>\n",
              "    </tr>\n",
              "    <tr>\n",
              "      <th>205520</th>\n",
              "      <td>['B08SQMVBY1' 'B08FD7W1XQ' 'B08MSXQMV4']</td>\n",
              "      <td>UK</td>\n",
              "    </tr>\n",
              "    <tr>\n",
              "      <th>153502</th>\n",
              "      <td>['B0148D1YM2' 'B0BF94G3LD' 'B0BF94G3LD']</td>\n",
              "      <td>JP</td>\n",
              "    </tr>\n",
              "    <tr>\n",
              "      <th>284590</th>\n",
              "      <td>['B08L527FKX' 'B08L527FKX' 'B07W6NBPHX' 'B07W6...</td>\n",
              "      <td>UK</td>\n",
              "    </tr>\n",
              "    <tr>\n",
              "      <th>157220</th>\n",
              "      <td>['B08DY9Q25K' 'B08N6FYP1R' 'B08N6FYP1R' 'B08DY...</td>\n",
              "      <td>JP</td>\n",
              "    </tr>\n",
              "  </tbody>\n",
              "</table>\n",
              "</div>\n",
              "      <button class=\"colab-df-convert\" onclick=\"convertToInteractive('df-c1fa2ea2-8dfe-471e-bdaf-9ebe076fe7b8')\"\n",
              "              title=\"Convert this dataframe to an interactive table.\"\n",
              "              style=\"display:none;\">\n",
              "        \n",
              "  <svg xmlns=\"http://www.w3.org/2000/svg\" height=\"24px\"viewBox=\"0 0 24 24\"\n",
              "       width=\"24px\">\n",
              "    <path d=\"M0 0h24v24H0V0z\" fill=\"none\"/>\n",
              "    <path d=\"M18.56 5.44l.94 2.06.94-2.06 2.06-.94-2.06-.94-.94-2.06-.94 2.06-2.06.94zm-11 1L8.5 8.5l.94-2.06 2.06-.94-2.06-.94L8.5 2.5l-.94 2.06-2.06.94zm10 10l.94 2.06.94-2.06 2.06-.94-2.06-.94-.94-2.06-.94 2.06-2.06.94z\"/><path d=\"M17.41 7.96l-1.37-1.37c-.4-.4-.92-.59-1.43-.59-.52 0-1.04.2-1.43.59L10.3 9.45l-7.72 7.72c-.78.78-.78 2.05 0 2.83L4 21.41c.39.39.9.59 1.41.59.51 0 1.02-.2 1.41-.59l7.78-7.78 2.81-2.81c.8-.78.8-2.07 0-2.86zM5.41 20L4 18.59l7.72-7.72 1.47 1.35L5.41 20z\"/>\n",
              "  </svg>\n",
              "      </button>\n",
              "      \n",
              "  <style>\n",
              "    .colab-df-container {\n",
              "      display:flex;\n",
              "      flex-wrap:wrap;\n",
              "      gap: 12px;\n",
              "    }\n",
              "\n",
              "    .colab-df-convert {\n",
              "      background-color: #E8F0FE;\n",
              "      border: none;\n",
              "      border-radius: 50%;\n",
              "      cursor: pointer;\n",
              "      display: none;\n",
              "      fill: #1967D2;\n",
              "      height: 32px;\n",
              "      padding: 0 0 0 0;\n",
              "      width: 32px;\n",
              "    }\n",
              "\n",
              "    .colab-df-convert:hover {\n",
              "      background-color: #E2EBFA;\n",
              "      box-shadow: 0px 1px 2px rgba(60, 64, 67, 0.3), 0px 1px 3px 1px rgba(60, 64, 67, 0.15);\n",
              "      fill: #174EA6;\n",
              "    }\n",
              "\n",
              "    [theme=dark] .colab-df-convert {\n",
              "      background-color: #3B4455;\n",
              "      fill: #D2E3FC;\n",
              "    }\n",
              "\n",
              "    [theme=dark] .colab-df-convert:hover {\n",
              "      background-color: #434B5C;\n",
              "      box-shadow: 0px 1px 3px 1px rgba(0, 0, 0, 0.15);\n",
              "      filter: drop-shadow(0px 1px 2px rgba(0, 0, 0, 0.3));\n",
              "      fill: #FFFFFF;\n",
              "    }\n",
              "  </style>\n",
              "\n",
              "      <script>\n",
              "        const buttonEl =\n",
              "          document.querySelector('#df-c1fa2ea2-8dfe-471e-bdaf-9ebe076fe7b8 button.colab-df-convert');\n",
              "        buttonEl.style.display =\n",
              "          google.colab.kernel.accessAllowed ? 'block' : 'none';\n",
              "\n",
              "        async function convertToInteractive(key) {\n",
              "          const element = document.querySelector('#df-c1fa2ea2-8dfe-471e-bdaf-9ebe076fe7b8');\n",
              "          const dataTable =\n",
              "            await google.colab.kernel.invokeFunction('convertToInteractive',\n",
              "                                                     [key], {});\n",
              "          if (!dataTable) return;\n",
              "\n",
              "          const docLinkHtml = 'Like what you see? Visit the ' +\n",
              "            '<a target=\"_blank\" href=https://colab.research.google.com/notebooks/data_table.ipynb>data table notebook</a>'\n",
              "            + ' to learn more about interactive tables.';\n",
              "          element.innerHTML = '';\n",
              "          dataTable['output_type'] = 'display_data';\n",
              "          await google.colab.output.renderOutput(dataTable, element);\n",
              "          const docLink = document.createElement('div');\n",
              "          docLink.innerHTML = docLinkHtml;\n",
              "          element.appendChild(docLink);\n",
              "        }\n",
              "      </script>\n",
              "    </div>\n",
              "  </div>\n",
              "  "
            ]
          },
          "metadata": {},
          "execution_count": 82
        }
      ],
      "source": [
        "test_sessions = read_test_data(task)\n",
        "test_sessions.sample(5)"
      ]
    },
    {
      "cell_type": "code",
      "source": [
        "if debug:\n",
        "  train_sessions = train_sessions.sample(debug_session_num)"
      ],
      "metadata": {
        "id": "75D8eRsBBGQI"
      },
      "execution_count": null,
      "outputs": []
    },
    {
      "cell_type": "code",
      "source": [
        "train_sessions.shape"
      ],
      "metadata": {
        "id": "EEJ7k_ufBOe7",
        "outputId": "f28aacc0-097e-4b14-d0a5-28219acfe674",
        "colab": {
          "base_uri": "https://localhost:8080/"
        }
      },
      "execution_count": null,
      "outputs": [
        {
          "output_type": "execute_result",
          "data": {
            "text/plain": [
              "(3606249, 3)"
            ]
          },
          "metadata": {},
          "execution_count": 84
        }
      ]
    },
    {
      "cell_type": "code",
      "source": [
        "def process_item_lst(row):\n",
        "  prev_items = row['prev_items']\n",
        "  res = [ele.replace('[', '').replace(']', '').replace('\\n', '').replace(\"'\", '').replace(' ', '') for ele in prev_items.split(' ')]\n",
        "  return res"
      ],
      "metadata": {
        "id": "aFKfiS91B4Ad"
      },
      "execution_count": null,
      "outputs": []
    },
    {
      "cell_type": "code",
      "source": [
        "train_sessions['prev_items'] = train_sessions.apply(lambda row: process_item_lst(row), axis=1)"
      ],
      "metadata": {
        "id": "LpgqFwzADXJW"
      },
      "execution_count": null,
      "outputs": []
    },
    {
      "cell_type": "code",
      "source": [],
      "metadata": {
        "id": "31eVGTkLESlg"
      },
      "execution_count": null,
      "outputs": []
    },
    {
      "cell_type": "markdown",
      "source": [
        "# Word2vec"
      ],
      "metadata": {
        "id": "f0T1vtOEB5v-"
      }
    },
    {
      "cell_type": "code",
      "source": [
        "# train_sessions['prev_items'].to_list()"
      ],
      "metadata": {
        "id": "FXQ0pY06CGiC"
      },
      "execution_count": null,
      "outputs": []
    },
    {
      "cell_type": "code",
      "source": [
        "vector_size = 32\n",
        "epochs = 5\n",
        "sg = 1 # 1 for skip-gram\n",
        "pop_thresh = 0.82415\n",
        "window = 4\n",
        "\n",
        "sentences = train_sessions['prev_items'].to_list()\n",
        "len(sentences)"
      ],
      "metadata": {
        "id": "0aJe9Y_uB8nF",
        "colab": {
          "base_uri": "https://localhost:8080/"
        },
        "outputId": "e177ee22-154f-4195-f06a-6a7f7afba594"
      },
      "execution_count": null,
      "outputs": [
        {
          "output_type": "execute_result",
          "data": {
            "text/plain": [
              "3606249"
            ]
          },
          "metadata": {},
          "execution_count": 107
        }
      ]
    },
    {
      "cell_type": "code",
      "source": [
        "from gensim.models.callbacks import CallbackAny2Vec\n",
        "\n",
        "class callback(CallbackAny2Vec):\n",
        "    '''Callback to print loss after each epoch.'''\n",
        "\n",
        "    def __init__(self):\n",
        "        self.epoch = 0\n",
        "        self.loss_to_be_subed = 0\n",
        "\n",
        "    def on_epoch_end(self, model):\n",
        "        loss = model.get_latest_training_loss()\n",
        "        loss_now = loss - self.loss_to_be_subed\n",
        "        self.loss_to_be_subed = loss\n",
        "        print('Loss after epoch {}: {}'.format(self.epoch, loss_now))\n",
        "        self.epoch += 1"
      ],
      "metadata": {
        "id": "j2aLO74iLJzD"
      },
      "execution_count": null,
      "outputs": []
    },
    {
      "cell_type": "code",
      "source": [
        "w2vec = Word2Vec(sentences=sentences, vector_size=vector_size, epochs = epochs, sg=sg,\n",
        "                 min_count=1, workers=14,\n",
        "                 window=window,\n",
        "                  compute_loss=True\n",
        "              , callbacks=[callback()])"
      ],
      "metadata": {
        "colab": {
          "base_uri": "https://localhost:8080/"
        },
        "id": "ZL3YXLg_Dzl3",
        "outputId": "558f7e2c-a427-41eb-a368-f12c08da34af"
      },
      "execution_count": null,
      "outputs": [
        {
          "output_type": "stream",
          "name": "stdout",
          "text": [
            "Loss after epoch 0: 11250580.0\n",
            "Loss after epoch 1: 6866596.0\n",
            "Loss after epoch 2: 3208326.0\n",
            "Loss after epoch 3: 3202642.0\n",
            "Loss after epoch 4: 3066726.0\n"
          ]
        }
      ]
    },
    {
      "cell_type": "code",
      "source": [
        "w2vec.save('w2v.model')"
      ],
      "metadata": {
        "id": "QKu7E6IcOHX1"
      },
      "execution_count": null,
      "outputs": []
    },
    {
      "cell_type": "code",
      "source": [
        "! ls"
      ],
      "metadata": {
        "colab": {
          "base_uri": "https://localhost:8080/"
        },
        "id": "Z1dDEuWMOXTx",
        "outputId": "b44d7552-f712-4c42-d1b9-466c8b69da1d"
      },
      "execution_count": null,
      "outputs": [
        {
          "output_type": "stream",
          "name": "stdout",
          "text": [
            "products_train.csv\t sessions_test_task3.csv   w2v.model.syn1neg.npy\n",
            "sample_data\t\t sessions_train.csv\t   w2v.model.wv.vectors.npy\n",
            "sessions_test_task1.csv  submission_task1.parquet\n",
            "sessions_test_task2.csv  w2v.model\n"
          ]
        }
      ]
    },
    {
      "cell_type": "code",
      "source": [
        "train_sessions.sample(1).values"
      ],
      "metadata": {
        "colab": {
          "base_uri": "https://localhost:8080/"
        },
        "id": "HQWgLXPBFMpA",
        "outputId": "3f199f46-c201-4713-f348-10a55ad9bd2f"
      },
      "execution_count": null,
      "outputs": [
        {
          "output_type": "execute_result",
          "data": {
            "text/plain": [
              "array([[list(['B08DSCLWPL', 'B07XYP2HFW', 'B08DSD5R5G']), 'B07XYL7N9W',\n",
              "        'DE']], dtype=object)"
            ]
          },
          "metadata": {},
          "execution_count": 110
        }
      ]
    },
    {
      "cell_type": "code",
      "source": [
        "! ls sample_data"
      ],
      "metadata": {
        "id": "qjypjOksFIUA"
      },
      "execution_count": null,
      "outputs": []
    },
    {
      "cell_type": "code",
      "source": [],
      "metadata": {
        "id": "K9UswdYbIm6S"
      },
      "execution_count": null,
      "outputs": []
    },
    {
      "cell_type": "markdown",
      "metadata": {
        "id": "yJoalTbYgnnp"
      },
      "source": [
        "## Generate Submission 🏋️‍♀️\n",
        "\n",
        "\n",
        "\n",
        "Submission format:\n",
        "1. The submission should be a **parquet** file with the sessions from all the locales. \n",
        "2. Predicted products ids per locale should only be a valid product id of that locale. \n",
        "3. Predictions should be added in new column named **\"next_item_prediction\"**.\n",
        "4. Predictions should be a list of string id values"
      ]
    },
    {
      "cell_type": "code",
      "execution_count": null,
      "metadata": {
        "id": "B3zsYp_Jgn_J"
      },
      "outputs": [],
      "source": [
        "# def random_predicitons(locale, sess_test_locale):\n",
        "#     random_state = np.random.RandomState(42)\n",
        "#     products = read_product_data().query(f'locale == \"{locale}\"')\n",
        "#     predictions = []\n",
        "#     for _ in range(len(sess_test_locale)):\n",
        "#         predictions.append(\n",
        "#             list(products['id'].sample(PREDS_PER_SESSION, replace=True, random_state=random_state))\n",
        "#         ) \n",
        "#     sess_test_locale['next_item_prediction'] = predictions\n",
        "#     sess_test_locale.drop('prev_items', inplace=True, axis=1)\n",
        "#     return sess_test_locale"
      ]
    },
    {
      "cell_type": "code",
      "source": [
        "test_sessions.head()"
      ],
      "metadata": {
        "colab": {
          "base_uri": "https://localhost:8080/",
          "height": 206
        },
        "id": "cLu2KKKvF-ZA",
        "outputId": "b2d3da23-28cf-43dc-fd8f-d9e5ec16072d"
      },
      "execution_count": null,
      "outputs": [
        {
          "output_type": "execute_result",
          "data": {
            "text/plain": [
              "                                          prev_items locale  \\\n",
              "0  [B08V12CT4C, B08V1KXBQD, B01BVG1XJS, B09VC5PKN...     DE   \n",
              "1               [B00R9R5ND6, B00R9RZ9ZS, B00R9RZ9ZS]     DE   \n",
              "2   [B07YSRXJD3, B07G7Q5N6G, B08C9Q7QVK, B07G7Q5N6G]     DE   \n",
              "3  [B08KQBYV43, 3955350843, 3955350843, 395535086...     DE   \n",
              "4  [B09FPTCWMC, B09FPTQP68, B08HMRY8NG, B08TBBQ4B...     DE   \n",
              "\n",
              "                                next_item_prediction  \n",
              "0  [B08V12CT4C, B08V1KXBQD, B01BVG1XJS, B09VC5PKN...  \n",
              "1               [B00R9R5ND6, B00R9RZ9ZS, B00R9RZ9ZS]  \n",
              "2   [B07YSRXJD3, B07G7Q5N6G, B08C9Q7QVK, B07G7Q5N6G]  \n",
              "3  [B08KQBYV43, 3955350843, 3955350843, 395535086...  \n",
              "4  [B09FPTCWMC, B09FPTQP68, B08HMRY8NG, B08TBBQ4B...  "
            ],
            "text/html": [
              "\n",
              "  <div id=\"df-a5aa203b-2c01-4f68-8954-2fca10bd8419\">\n",
              "    <div class=\"colab-df-container\">\n",
              "      <div>\n",
              "<style scoped>\n",
              "    .dataframe tbody tr th:only-of-type {\n",
              "        vertical-align: middle;\n",
              "    }\n",
              "\n",
              "    .dataframe tbody tr th {\n",
              "        vertical-align: top;\n",
              "    }\n",
              "\n",
              "    .dataframe thead th {\n",
              "        text-align: right;\n",
              "    }\n",
              "</style>\n",
              "<table border=\"1\" class=\"dataframe\">\n",
              "  <thead>\n",
              "    <tr style=\"text-align: right;\">\n",
              "      <th></th>\n",
              "      <th>prev_items</th>\n",
              "      <th>locale</th>\n",
              "      <th>next_item_prediction</th>\n",
              "    </tr>\n",
              "  </thead>\n",
              "  <tbody>\n",
              "    <tr>\n",
              "      <th>0</th>\n",
              "      <td>[B08V12CT4C, B08V1KXBQD, B01BVG1XJS, B09VC5PKN...</td>\n",
              "      <td>DE</td>\n",
              "      <td>[B08V12CT4C, B08V1KXBQD, B01BVG1XJS, B09VC5PKN...</td>\n",
              "    </tr>\n",
              "    <tr>\n",
              "      <th>1</th>\n",
              "      <td>[B00R9R5ND6, B00R9RZ9ZS, B00R9RZ9ZS]</td>\n",
              "      <td>DE</td>\n",
              "      <td>[B00R9R5ND6, B00R9RZ9ZS, B00R9RZ9ZS]</td>\n",
              "    </tr>\n",
              "    <tr>\n",
              "      <th>2</th>\n",
              "      <td>[B07YSRXJD3, B07G7Q5N6G, B08C9Q7QVK, B07G7Q5N6G]</td>\n",
              "      <td>DE</td>\n",
              "      <td>[B07YSRXJD3, B07G7Q5N6G, B08C9Q7QVK, B07G7Q5N6G]</td>\n",
              "    </tr>\n",
              "    <tr>\n",
              "      <th>3</th>\n",
              "      <td>[B08KQBYV43, 3955350843, 3955350843, 395535086...</td>\n",
              "      <td>DE</td>\n",
              "      <td>[B08KQBYV43, 3955350843, 3955350843, 395535086...</td>\n",
              "    </tr>\n",
              "    <tr>\n",
              "      <th>4</th>\n",
              "      <td>[B09FPTCWMC, B09FPTQP68, B08HMRY8NG, B08TBBQ4B...</td>\n",
              "      <td>DE</td>\n",
              "      <td>[B09FPTCWMC, B09FPTQP68, B08HMRY8NG, B08TBBQ4B...</td>\n",
              "    </tr>\n",
              "  </tbody>\n",
              "</table>\n",
              "</div>\n",
              "      <button class=\"colab-df-convert\" onclick=\"convertToInteractive('df-a5aa203b-2c01-4f68-8954-2fca10bd8419')\"\n",
              "              title=\"Convert this dataframe to an interactive table.\"\n",
              "              style=\"display:none;\">\n",
              "        \n",
              "  <svg xmlns=\"http://www.w3.org/2000/svg\" height=\"24px\"viewBox=\"0 0 24 24\"\n",
              "       width=\"24px\">\n",
              "    <path d=\"M0 0h24v24H0V0z\" fill=\"none\"/>\n",
              "    <path d=\"M18.56 5.44l.94 2.06.94-2.06 2.06-.94-2.06-.94-.94-2.06-.94 2.06-2.06.94zm-11 1L8.5 8.5l.94-2.06 2.06-.94-2.06-.94L8.5 2.5l-.94 2.06-2.06.94zm10 10l.94 2.06.94-2.06 2.06-.94-2.06-.94-.94-2.06-.94 2.06-2.06.94z\"/><path d=\"M17.41 7.96l-1.37-1.37c-.4-.4-.92-.59-1.43-.59-.52 0-1.04.2-1.43.59L10.3 9.45l-7.72 7.72c-.78.78-.78 2.05 0 2.83L4 21.41c.39.39.9.59 1.41.59.51 0 1.02-.2 1.41-.59l7.78-7.78 2.81-2.81c.8-.78.8-2.07 0-2.86zM5.41 20L4 18.59l7.72-7.72 1.47 1.35L5.41 20z\"/>\n",
              "  </svg>\n",
              "      </button>\n",
              "      \n",
              "  <style>\n",
              "    .colab-df-container {\n",
              "      display:flex;\n",
              "      flex-wrap:wrap;\n",
              "      gap: 12px;\n",
              "    }\n",
              "\n",
              "    .colab-df-convert {\n",
              "      background-color: #E8F0FE;\n",
              "      border: none;\n",
              "      border-radius: 50%;\n",
              "      cursor: pointer;\n",
              "      display: none;\n",
              "      fill: #1967D2;\n",
              "      height: 32px;\n",
              "      padding: 0 0 0 0;\n",
              "      width: 32px;\n",
              "    }\n",
              "\n",
              "    .colab-df-convert:hover {\n",
              "      background-color: #E2EBFA;\n",
              "      box-shadow: 0px 1px 2px rgba(60, 64, 67, 0.3), 0px 1px 3px 1px rgba(60, 64, 67, 0.15);\n",
              "      fill: #174EA6;\n",
              "    }\n",
              "\n",
              "    [theme=dark] .colab-df-convert {\n",
              "      background-color: #3B4455;\n",
              "      fill: #D2E3FC;\n",
              "    }\n",
              "\n",
              "    [theme=dark] .colab-df-convert:hover {\n",
              "      background-color: #434B5C;\n",
              "      box-shadow: 0px 1px 3px 1px rgba(0, 0, 0, 0.15);\n",
              "      filter: drop-shadow(0px 1px 2px rgba(0, 0, 0, 0.3));\n",
              "      fill: #FFFFFF;\n",
              "    }\n",
              "  </style>\n",
              "\n",
              "      <script>\n",
              "        const buttonEl =\n",
              "          document.querySelector('#df-a5aa203b-2c01-4f68-8954-2fca10bd8419 button.colab-df-convert');\n",
              "        buttonEl.style.display =\n",
              "          google.colab.kernel.accessAllowed ? 'block' : 'none';\n",
              "\n",
              "        async function convertToInteractive(key) {\n",
              "          const element = document.querySelector('#df-a5aa203b-2c01-4f68-8954-2fca10bd8419');\n",
              "          const dataTable =\n",
              "            await google.colab.kernel.invokeFunction('convertToInteractive',\n",
              "                                                     [key], {});\n",
              "          if (!dataTable) return;\n",
              "\n",
              "          const docLinkHtml = 'Like what you see? Visit the ' +\n",
              "            '<a target=\"_blank\" href=https://colab.research.google.com/notebooks/data_table.ipynb>data table notebook</a>'\n",
              "            + ' to learn more about interactive tables.';\n",
              "          element.innerHTML = '';\n",
              "          dataTable['output_type'] = 'display_data';\n",
              "          await google.colab.output.renderOutput(dataTable, element);\n",
              "          const docLink = document.createElement('div');\n",
              "          docLink.innerHTML = docLinkHtml;\n",
              "          element.appendChild(docLink);\n",
              "        }\n",
              "      </script>\n",
              "    </div>\n",
              "  </div>\n",
              "  "
            ]
          },
          "metadata": {},
          "execution_count": 112
        }
      ]
    },
    {
      "cell_type": "code",
      "source": [
        "test_sessions"
      ],
      "metadata": {
        "colab": {
          "base_uri": "https://localhost:8080/",
          "height": 468
        },
        "id": "zZj7SRjpNuu0",
        "outputId": "dd576d00-b16b-4acd-e001-e8906e97d8d5"
      },
      "execution_count": null,
      "outputs": [
        {
          "output_type": "execute_result",
          "data": {
            "text/plain": [
              "                                               prev_items locale  \\\n",
              "0       [B08V12CT4C, B08V1KXBQD, B01BVG1XJS, B09VC5PKN...     DE   \n",
              "1                    [B00R9R5ND6, B00R9RZ9ZS, B00R9RZ9ZS]     DE   \n",
              "2        [B07YSRXJD3, B07G7Q5N6G, B08C9Q7QVK, B07G7Q5N6G]     DE   \n",
              "3       [B08KQBYV43, 3955350843, 3955350843, 395535086...     DE   \n",
              "4       [B09FPTCWMC, B09FPTQP68, B08HMRY8NG, B08TBBQ4B...     DE   \n",
              "...                                                   ...    ...   \n",
              "316966                           [B077SZ2C3Y, B0B14M3VZX]     UK   \n",
              "316967  [B08KFHDPY9, B0851KTSRZ, B08KFHDPY9, B0851KTSR...     UK   \n",
              "316968  [B07PY1N81F, B07Q1Z8SQN, B07PY1N81F, B07Q1Z8SQ...     UK   \n",
              "316969                           [B01MCQMORK, B09JYZ325W]     UK   \n",
              "316970               [B0B8JX92YJ, B09TN4MP6V, B0BG2LZQSL]     UK   \n",
              "\n",
              "                                     next_item_prediction  \n",
              "0       [B08V12CT4C, B08V1KXBQD, B01BVG1XJS, B09VC5PKN...  \n",
              "1                    [B00R9R5ND6, B00R9RZ9ZS, B00R9RZ9ZS]  \n",
              "2        [B07YSRXJD3, B07G7Q5N6G, B08C9Q7QVK, B07G7Q5N6G]  \n",
              "3       [B08KQBYV43, 3955350843, 3955350843, 395535086...  \n",
              "4       [B09FPTCWMC, B09FPTQP68, B08HMRY8NG, B08TBBQ4B...  \n",
              "...                                                   ...  \n",
              "316966                           [B077SZ2C3Y, B0B14M3VZX]  \n",
              "316967  [B08KFHDPY9, B0851KTSRZ, B08KFHDPY9, B0851KTSR...  \n",
              "316968  [B07PY1N81F, B07Q1Z8SQN, B07PY1N81F, B07Q1Z8SQ...  \n",
              "316969                           [B01MCQMORK, B09JYZ325W]  \n",
              "316970               [B0B8JX92YJ, B09TN4MP6V, B0BG2LZQSL]  \n",
              "\n",
              "[316971 rows x 3 columns]"
            ],
            "text/html": [
              "\n",
              "  <div id=\"df-cc0e6bbc-8093-4ff6-bf6d-79a8894b4e69\">\n",
              "    <div class=\"colab-df-container\">\n",
              "      <div>\n",
              "<style scoped>\n",
              "    .dataframe tbody tr th:only-of-type {\n",
              "        vertical-align: middle;\n",
              "    }\n",
              "\n",
              "    .dataframe tbody tr th {\n",
              "        vertical-align: top;\n",
              "    }\n",
              "\n",
              "    .dataframe thead th {\n",
              "        text-align: right;\n",
              "    }\n",
              "</style>\n",
              "<table border=\"1\" class=\"dataframe\">\n",
              "  <thead>\n",
              "    <tr style=\"text-align: right;\">\n",
              "      <th></th>\n",
              "      <th>prev_items</th>\n",
              "      <th>locale</th>\n",
              "      <th>next_item_prediction</th>\n",
              "    </tr>\n",
              "  </thead>\n",
              "  <tbody>\n",
              "    <tr>\n",
              "      <th>0</th>\n",
              "      <td>[B08V12CT4C, B08V1KXBQD, B01BVG1XJS, B09VC5PKN...</td>\n",
              "      <td>DE</td>\n",
              "      <td>[B08V12CT4C, B08V1KXBQD, B01BVG1XJS, B09VC5PKN...</td>\n",
              "    </tr>\n",
              "    <tr>\n",
              "      <th>1</th>\n",
              "      <td>[B00R9R5ND6, B00R9RZ9ZS, B00R9RZ9ZS]</td>\n",
              "      <td>DE</td>\n",
              "      <td>[B00R9R5ND6, B00R9RZ9ZS, B00R9RZ9ZS]</td>\n",
              "    </tr>\n",
              "    <tr>\n",
              "      <th>2</th>\n",
              "      <td>[B07YSRXJD3, B07G7Q5N6G, B08C9Q7QVK, B07G7Q5N6G]</td>\n",
              "      <td>DE</td>\n",
              "      <td>[B07YSRXJD3, B07G7Q5N6G, B08C9Q7QVK, B07G7Q5N6G]</td>\n",
              "    </tr>\n",
              "    <tr>\n",
              "      <th>3</th>\n",
              "      <td>[B08KQBYV43, 3955350843, 3955350843, 395535086...</td>\n",
              "      <td>DE</td>\n",
              "      <td>[B08KQBYV43, 3955350843, 3955350843, 395535086...</td>\n",
              "    </tr>\n",
              "    <tr>\n",
              "      <th>4</th>\n",
              "      <td>[B09FPTCWMC, B09FPTQP68, B08HMRY8NG, B08TBBQ4B...</td>\n",
              "      <td>DE</td>\n",
              "      <td>[B09FPTCWMC, B09FPTQP68, B08HMRY8NG, B08TBBQ4B...</td>\n",
              "    </tr>\n",
              "    <tr>\n",
              "      <th>...</th>\n",
              "      <td>...</td>\n",
              "      <td>...</td>\n",
              "      <td>...</td>\n",
              "    </tr>\n",
              "    <tr>\n",
              "      <th>316966</th>\n",
              "      <td>[B077SZ2C3Y, B0B14M3VZX]</td>\n",
              "      <td>UK</td>\n",
              "      <td>[B077SZ2C3Y, B0B14M3VZX]</td>\n",
              "    </tr>\n",
              "    <tr>\n",
              "      <th>316967</th>\n",
              "      <td>[B08KFHDPY9, B0851KTSRZ, B08KFHDPY9, B0851KTSR...</td>\n",
              "      <td>UK</td>\n",
              "      <td>[B08KFHDPY9, B0851KTSRZ, B08KFHDPY9, B0851KTSR...</td>\n",
              "    </tr>\n",
              "    <tr>\n",
              "      <th>316968</th>\n",
              "      <td>[B07PY1N81F, B07Q1Z8SQN, B07PY1N81F, B07Q1Z8SQ...</td>\n",
              "      <td>UK</td>\n",
              "      <td>[B07PY1N81F, B07Q1Z8SQN, B07PY1N81F, B07Q1Z8SQ...</td>\n",
              "    </tr>\n",
              "    <tr>\n",
              "      <th>316969</th>\n",
              "      <td>[B01MCQMORK, B09JYZ325W]</td>\n",
              "      <td>UK</td>\n",
              "      <td>[B01MCQMORK, B09JYZ325W]</td>\n",
              "    </tr>\n",
              "    <tr>\n",
              "      <th>316970</th>\n",
              "      <td>[B0B8JX92YJ, B09TN4MP6V, B0BG2LZQSL]</td>\n",
              "      <td>UK</td>\n",
              "      <td>[B0B8JX92YJ, B09TN4MP6V, B0BG2LZQSL]</td>\n",
              "    </tr>\n",
              "  </tbody>\n",
              "</table>\n",
              "<p>316971 rows × 3 columns</p>\n",
              "</div>\n",
              "      <button class=\"colab-df-convert\" onclick=\"convertToInteractive('df-cc0e6bbc-8093-4ff6-bf6d-79a8894b4e69')\"\n",
              "              title=\"Convert this dataframe to an interactive table.\"\n",
              "              style=\"display:none;\">\n",
              "        \n",
              "  <svg xmlns=\"http://www.w3.org/2000/svg\" height=\"24px\"viewBox=\"0 0 24 24\"\n",
              "       width=\"24px\">\n",
              "    <path d=\"M0 0h24v24H0V0z\" fill=\"none\"/>\n",
              "    <path d=\"M18.56 5.44l.94 2.06.94-2.06 2.06-.94-2.06-.94-.94-2.06-.94 2.06-2.06.94zm-11 1L8.5 8.5l.94-2.06 2.06-.94-2.06-.94L8.5 2.5l-.94 2.06-2.06.94zm10 10l.94 2.06.94-2.06 2.06-.94-2.06-.94-.94-2.06-.94 2.06-2.06.94z\"/><path d=\"M17.41 7.96l-1.37-1.37c-.4-.4-.92-.59-1.43-.59-.52 0-1.04.2-1.43.59L10.3 9.45l-7.72 7.72c-.78.78-.78 2.05 0 2.83L4 21.41c.39.39.9.59 1.41.59.51 0 1.02-.2 1.41-.59l7.78-7.78 2.81-2.81c.8-.78.8-2.07 0-2.86zM5.41 20L4 18.59l7.72-7.72 1.47 1.35L5.41 20z\"/>\n",
              "  </svg>\n",
              "      </button>\n",
              "      \n",
              "  <style>\n",
              "    .colab-df-container {\n",
              "      display:flex;\n",
              "      flex-wrap:wrap;\n",
              "      gap: 12px;\n",
              "    }\n",
              "\n",
              "    .colab-df-convert {\n",
              "      background-color: #E8F0FE;\n",
              "      border: none;\n",
              "      border-radius: 50%;\n",
              "      cursor: pointer;\n",
              "      display: none;\n",
              "      fill: #1967D2;\n",
              "      height: 32px;\n",
              "      padding: 0 0 0 0;\n",
              "      width: 32px;\n",
              "    }\n",
              "\n",
              "    .colab-df-convert:hover {\n",
              "      background-color: #E2EBFA;\n",
              "      box-shadow: 0px 1px 2px rgba(60, 64, 67, 0.3), 0px 1px 3px 1px rgba(60, 64, 67, 0.15);\n",
              "      fill: #174EA6;\n",
              "    }\n",
              "\n",
              "    [theme=dark] .colab-df-convert {\n",
              "      background-color: #3B4455;\n",
              "      fill: #D2E3FC;\n",
              "    }\n",
              "\n",
              "    [theme=dark] .colab-df-convert:hover {\n",
              "      background-color: #434B5C;\n",
              "      box-shadow: 0px 1px 3px 1px rgba(0, 0, 0, 0.15);\n",
              "      filter: drop-shadow(0px 1px 2px rgba(0, 0, 0, 0.3));\n",
              "      fill: #FFFFFF;\n",
              "    }\n",
              "  </style>\n",
              "\n",
              "      <script>\n",
              "        const buttonEl =\n",
              "          document.querySelector('#df-cc0e6bbc-8093-4ff6-bf6d-79a8894b4e69 button.colab-df-convert');\n",
              "        buttonEl.style.display =\n",
              "          google.colab.kernel.accessAllowed ? 'block' : 'none';\n",
              "\n",
              "        async function convertToInteractive(key) {\n",
              "          const element = document.querySelector('#df-cc0e6bbc-8093-4ff6-bf6d-79a8894b4e69');\n",
              "          const dataTable =\n",
              "            await google.colab.kernel.invokeFunction('convertToInteractive',\n",
              "                                                     [key], {});\n",
              "          if (!dataTable) return;\n",
              "\n",
              "          const docLinkHtml = 'Like what you see? Visit the ' +\n",
              "            '<a target=\"_blank\" href=https://colab.research.google.com/notebooks/data_table.ipynb>data table notebook</a>'\n",
              "            + ' to learn more about interactive tables.';\n",
              "          element.innerHTML = '';\n",
              "          dataTable['output_type'] = 'display_data';\n",
              "          await google.colab.output.renderOutput(dataTable, element);\n",
              "          const docLink = document.createElement('div');\n",
              "          docLink.innerHTML = docLinkHtml;\n",
              "          element.appendChild(docLink);\n",
              "        }\n",
              "      </script>\n",
              "    </div>\n",
              "  </div>\n",
              "  "
            ]
          },
          "metadata": {},
          "execution_count": 116
        }
      ]
    },
    {
      "cell_type": "code",
      "source": [
        "test_sessions = read_test_data(task)\n",
        "\n",
        "# if debug:\n",
        "#   test_sessions = test_sessions.sample(debug_session_num)\n",
        "\n",
        "# test_sessions['prev_items'] = test_sessions.apply(lambda row: process_item_lst(row), axis=1)\n",
        "# test_sessions.shape"
      ],
      "metadata": {
        "id": "TbHB_m2aGr8i"
      },
      "execution_count": null,
      "outputs": []
    },
    {
      "cell_type": "code",
      "source": [
        "test_sessions.head()"
      ],
      "metadata": {
        "colab": {
          "base_uri": "https://localhost:8080/",
          "height": 206
        },
        "id": "2s5v2GF2HMvy",
        "outputId": "6221243b-73ba-4967-8144-cc4aefddbb69"
      },
      "execution_count": null,
      "outputs": [
        {
          "output_type": "execute_result",
          "data": {
            "text/plain": [
              "                                          prev_items locale  \\\n",
              "0  [B08V12CT4C, B08V1KXBQD, B01BVG1XJS, B09VC5PKN...     DE   \n",
              "1               [B00R9R5ND6, B00R9RZ9ZS, B00R9RZ9ZS]     DE   \n",
              "2   [B07YSRXJD3, B07G7Q5N6G, B08C9Q7QVK, B07G7Q5N6G]     DE   \n",
              "3  [B08KQBYV43, 3955350843, 3955350843, 395535086...     DE   \n",
              "4  [B09FPTCWMC, B09FPTQP68, B08HMRY8NG, B08TBBQ4B...     DE   \n",
              "\n",
              "                                next_item_prediction  \n",
              "0  [B08V12CT4C, B08V1KXBQD, B01BVG1XJS, B09VC5PKN...  \n",
              "1               [B00R9R5ND6, B00R9RZ9ZS, B00R9RZ9ZS]  \n",
              "2   [B07YSRXJD3, B07G7Q5N6G, B08C9Q7QVK, B07G7Q5N6G]  \n",
              "3  [B08KQBYV43, 3955350843, 3955350843, 395535086...  \n",
              "4  [B09FPTCWMC, B09FPTQP68, B08HMRY8NG, B08TBBQ4B...  "
            ],
            "text/html": [
              "\n",
              "  <div id=\"df-fa8390d4-72fb-43ce-929c-244047625226\">\n",
              "    <div class=\"colab-df-container\">\n",
              "      <div>\n",
              "<style scoped>\n",
              "    .dataframe tbody tr th:only-of-type {\n",
              "        vertical-align: middle;\n",
              "    }\n",
              "\n",
              "    .dataframe tbody tr th {\n",
              "        vertical-align: top;\n",
              "    }\n",
              "\n",
              "    .dataframe thead th {\n",
              "        text-align: right;\n",
              "    }\n",
              "</style>\n",
              "<table border=\"1\" class=\"dataframe\">\n",
              "  <thead>\n",
              "    <tr style=\"text-align: right;\">\n",
              "      <th></th>\n",
              "      <th>prev_items</th>\n",
              "      <th>locale</th>\n",
              "      <th>next_item_prediction</th>\n",
              "    </tr>\n",
              "  </thead>\n",
              "  <tbody>\n",
              "    <tr>\n",
              "      <th>0</th>\n",
              "      <td>[B08V12CT4C, B08V1KXBQD, B01BVG1XJS, B09VC5PKN...</td>\n",
              "      <td>DE</td>\n",
              "      <td>[B08V12CT4C, B08V1KXBQD, B01BVG1XJS, B09VC5PKN...</td>\n",
              "    </tr>\n",
              "    <tr>\n",
              "      <th>1</th>\n",
              "      <td>[B00R9R5ND6, B00R9RZ9ZS, B00R9RZ9ZS]</td>\n",
              "      <td>DE</td>\n",
              "      <td>[B00R9R5ND6, B00R9RZ9ZS, B00R9RZ9ZS]</td>\n",
              "    </tr>\n",
              "    <tr>\n",
              "      <th>2</th>\n",
              "      <td>[B07YSRXJD3, B07G7Q5N6G, B08C9Q7QVK, B07G7Q5N6G]</td>\n",
              "      <td>DE</td>\n",
              "      <td>[B07YSRXJD3, B07G7Q5N6G, B08C9Q7QVK, B07G7Q5N6G]</td>\n",
              "    </tr>\n",
              "    <tr>\n",
              "      <th>3</th>\n",
              "      <td>[B08KQBYV43, 3955350843, 3955350843, 395535086...</td>\n",
              "      <td>DE</td>\n",
              "      <td>[B08KQBYV43, 3955350843, 3955350843, 395535086...</td>\n",
              "    </tr>\n",
              "    <tr>\n",
              "      <th>4</th>\n",
              "      <td>[B09FPTCWMC, B09FPTQP68, B08HMRY8NG, B08TBBQ4B...</td>\n",
              "      <td>DE</td>\n",
              "      <td>[B09FPTCWMC, B09FPTQP68, B08HMRY8NG, B08TBBQ4B...</td>\n",
              "    </tr>\n",
              "  </tbody>\n",
              "</table>\n",
              "</div>\n",
              "      <button class=\"colab-df-convert\" onclick=\"convertToInteractive('df-fa8390d4-72fb-43ce-929c-244047625226')\"\n",
              "              title=\"Convert this dataframe to an interactive table.\"\n",
              "              style=\"display:none;\">\n",
              "        \n",
              "  <svg xmlns=\"http://www.w3.org/2000/svg\" height=\"24px\"viewBox=\"0 0 24 24\"\n",
              "       width=\"24px\">\n",
              "    <path d=\"M0 0h24v24H0V0z\" fill=\"none\"/>\n",
              "    <path d=\"M18.56 5.44l.94 2.06.94-2.06 2.06-.94-2.06-.94-.94-2.06-.94 2.06-2.06.94zm-11 1L8.5 8.5l.94-2.06 2.06-.94-2.06-.94L8.5 2.5l-.94 2.06-2.06.94zm10 10l.94 2.06.94-2.06 2.06-.94-2.06-.94-.94-2.06-.94 2.06-2.06.94z\"/><path d=\"M17.41 7.96l-1.37-1.37c-.4-.4-.92-.59-1.43-.59-.52 0-1.04.2-1.43.59L10.3 9.45l-7.72 7.72c-.78.78-.78 2.05 0 2.83L4 21.41c.39.39.9.59 1.41.59.51 0 1.02-.2 1.41-.59l7.78-7.78 2.81-2.81c.8-.78.8-2.07 0-2.86zM5.41 20L4 18.59l7.72-7.72 1.47 1.35L5.41 20z\"/>\n",
              "  </svg>\n",
              "      </button>\n",
              "      \n",
              "  <style>\n",
              "    .colab-df-container {\n",
              "      display:flex;\n",
              "      flex-wrap:wrap;\n",
              "      gap: 12px;\n",
              "    }\n",
              "\n",
              "    .colab-df-convert {\n",
              "      background-color: #E8F0FE;\n",
              "      border: none;\n",
              "      border-radius: 50%;\n",
              "      cursor: pointer;\n",
              "      display: none;\n",
              "      fill: #1967D2;\n",
              "      height: 32px;\n",
              "      padding: 0 0 0 0;\n",
              "      width: 32px;\n",
              "    }\n",
              "\n",
              "    .colab-df-convert:hover {\n",
              "      background-color: #E2EBFA;\n",
              "      box-shadow: 0px 1px 2px rgba(60, 64, 67, 0.3), 0px 1px 3px 1px rgba(60, 64, 67, 0.15);\n",
              "      fill: #174EA6;\n",
              "    }\n",
              "\n",
              "    [theme=dark] .colab-df-convert {\n",
              "      background-color: #3B4455;\n",
              "      fill: #D2E3FC;\n",
              "    }\n",
              "\n",
              "    [theme=dark] .colab-df-convert:hover {\n",
              "      background-color: #434B5C;\n",
              "      box-shadow: 0px 1px 3px 1px rgba(0, 0, 0, 0.15);\n",
              "      filter: drop-shadow(0px 1px 2px rgba(0, 0, 0, 0.3));\n",
              "      fill: #FFFFFF;\n",
              "    }\n",
              "  </style>\n",
              "\n",
              "      <script>\n",
              "        const buttonEl =\n",
              "          document.querySelector('#df-fa8390d4-72fb-43ce-929c-244047625226 button.colab-df-convert');\n",
              "        buttonEl.style.display =\n",
              "          google.colab.kernel.accessAllowed ? 'block' : 'none';\n",
              "\n",
              "        async function convertToInteractive(key) {\n",
              "          const element = document.querySelector('#df-fa8390d4-72fb-43ce-929c-244047625226');\n",
              "          const dataTable =\n",
              "            await google.colab.kernel.invokeFunction('convertToInteractive',\n",
              "                                                     [key], {});\n",
              "          if (!dataTable) return;\n",
              "\n",
              "          const docLinkHtml = 'Like what you see? Visit the ' +\n",
              "            '<a target=\"_blank\" href=https://colab.research.google.com/notebooks/data_table.ipynb>data table notebook</a>'\n",
              "            + ' to learn more about interactive tables.';\n",
              "          element.innerHTML = '';\n",
              "          dataTable['output_type'] = 'display_data';\n",
              "          await google.colab.output.renderOutput(dataTable, element);\n",
              "          const docLink = document.createElement('div');\n",
              "          docLink.innerHTML = docLinkHtml;\n",
              "          element.appendChild(docLink);\n",
              "        }\n",
              "      </script>\n",
              "    </div>\n",
              "  </div>\n",
              "  "
            ]
          },
          "metadata": {},
          "execution_count": 118
        }
      ]
    },
    {
      "cell_type": "code",
      "execution_count": null,
      "metadata": {
        "id": "mv6TZEFqgrFu"
      },
      "outputs": [],
      "source": [
        "# predictions = []\n",
        "# test_locale_names = test_sessions['locale'].unique()\n",
        "# for locale in test_locale_names:\n",
        "#     sess_test_locale = test_sessions.query(f'locale == \"{locale}\"').copy()\n",
        "#     predictions.append(\n",
        "#         random_predicitons(locale, sess_test_locale)\n",
        "#     )\n",
        "# predictions = pd.concat(predictions).reset_index(drop=True)\n",
        "# predictions.sample(5)"
      ]
    },
    {
      "cell_type": "code",
      "source": [
        "def get_predictions(row):\n",
        "  prev_items = row['prev_items']\n",
        "  try:\n",
        "    similarity_dic = w2vec.wv.most_similar(positive=prev_items, topn=100)\n",
        "    res = [item for item, simi in similarity_dic] \n",
        "  except:\n",
        "    res = prev_items\n",
        "  return res "
      ],
      "metadata": {
        "id": "QBU2Y6P_IR5x"
      },
      "execution_count": null,
      "outputs": []
    },
    {
      "cell_type": "code",
      "source": [
        "test_sessions['next_item_prediction'] = test_sessions.apply(lambda row: get_predictions(row), axis=1)"
      ],
      "metadata": {
        "id": "x7vA4qfcJDaW"
      },
      "execution_count": null,
      "outputs": []
    },
    {
      "cell_type": "code",
      "source": [
        "predictions = test_sessions[['locale', 'next_item_prediction']]"
      ],
      "metadata": {
        "id": "UXy4O2nrG6NC"
      },
      "execution_count": null,
      "outputs": []
    },
    {
      "cell_type": "code",
      "source": [
        "predictions"
      ],
      "metadata": {
        "id": "ieI1oY58ICil"
      },
      "execution_count": null,
      "outputs": []
    },
    {
      "cell_type": "markdown",
      "source": [
        "# Validate predictions ✅ 😄"
      ],
      "metadata": {
        "id": "vNB90dXKlZkR"
      }
    },
    {
      "cell_type": "code",
      "execution_count": null,
      "metadata": {
        "id": "B1XKTojogtF2"
      },
      "outputs": [],
      "source": [
        "def check_predictions(predictions, check_products=False):\n",
        "    \"\"\"\n",
        "    These tests need to pass as they will also be applied on the evaluator\n",
        "    \"\"\"\n",
        "    test_locale_names = test_sessions['locale'].unique()\n",
        "    for locale in test_locale_names:\n",
        "        sess_test = test_sessions.query(f'locale == \"{locale}\"')\n",
        "        preds_locale =  predictions[predictions['locale'] == sess_test['locale'].iloc[0]]\n",
        "        assert sorted(preds_locale.index.values) == sorted(sess_test.index.values), f\"Session ids of {locale} doesn't match\"\n",
        "\n",
        "        if check_products:\n",
        "            # This check is not done on the evaluator\n",
        "            # but you can run it to verify there is no mixing of products between locales\n",
        "            # Since the ground truth next item will always belong to the same locale\n",
        "            # Warning - This can be slow to run\n",
        "            products = read_product_data().query(f'locale == \"{locale}\"')\n",
        "            predicted_products = np.unique( np.array(list(preds_locale[\"next_item_prediction\"].values)) )\n",
        "            assert np.all( np.isin(predicted_products, products['id']) ), f\"Invalid products in {locale} predictions\""
      ]
    },
    {
      "cell_type": "code",
      "execution_count": null,
      "metadata": {
        "id": "FJA368Gzguk7"
      },
      "outputs": [],
      "source": [
        "check_predictions(predictions)"
      ]
    },
    {
      "cell_type": "code",
      "execution_count": null,
      "metadata": {
        "id": "1dTvU5VOgv0j"
      },
      "outputs": [],
      "source": [
        "# Its important that the parquet file you submit is saved with pyarrow backend\n",
        "predictions.to_parquet(f'submission_{task}.parquet', engine='pyarrow')"
      ]
    },
    {
      "cell_type": "markdown",
      "metadata": {
        "id": "dVrZ_TfnjL09"
      },
      "source": [
        "## Submit to AIcrowd 🚀"
      ]
    },
    {
      "cell_type": "code",
      "execution_count": null,
      "metadata": {
        "id": "rd9OYWEgixPZ"
      },
      "outputs": [],
      "source": [
        "# You can submit with aicrowd-cli, or upload manually on the challenge page.\n",
        "!aicrowd submission create -c task-1-next-product-recommendation -f \"submission_task1.parquet\""
      ]
    },
    {
      "cell_type": "code",
      "source": [],
      "metadata": {
        "id": "caJh8qs0Jnoo"
      },
      "execution_count": null,
      "outputs": []
    }
  ],
  "metadata": {
    "colab": {
      "provenance": [],
      "toc_visible": true
    },
    "kernelspec": {
      "display_name": "Python 3",
      "name": "python3"
    },
    "language_info": {
      "name": "python"
    }
  },
  "nbformat": 4,
  "nbformat_minor": 0
}