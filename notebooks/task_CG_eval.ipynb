{
 "cells": [
  {
   "cell_type": "markdown",
   "id": "3da0686d-80e8-40ff-841b-dc582e442d93",
   "metadata": {},
   "source": [
    "# Packages "
   ]
  },
  {
   "cell_type": "code",
   "execution_count": 1,
   "id": "d4bded8b-9de4-45a0-888c-23ba897af255",
   "metadata": {},
   "outputs": [],
   "source": [
    "%load_ext autoreload\n",
    "%autoreload 2\n",
    "import sys\n",
    "import logging\n",
    "sys.path.append('../')\n",
    "import os\n",
    "import warnings\n",
    "warnings.simplefilter('ignore')\n",
    "\n",
    "import pickle\n",
    "import gc\n",
    "import re\n",
    "import polars as pl\n",
    "from collections import defaultdict, Counter\n",
    "\n",
    "import numpy as np\n",
    "import pandas as pd\n",
    "pd.set_option('display.max_columns', None)\n",
    "from tqdm.auto import tqdm\n",
    "import polars as pl\n",
    "from utils import *\n",
    "from src.eval import get_recall_at_k, pd_get_recall_at_k"
   ]
  },
  {
   "cell_type": "markdown",
   "id": "5be5144e-766a-4702-b48e-9b30118bbf39",
   "metadata": {
    "tags": []
   },
   "source": [
    "# Config "
   ]
  },
  {
   "cell_type": "code",
   "execution_count": 2,
   "id": "1db298a1-fd4e-4dea-926d-f65441b15efd",
   "metadata": {},
   "outputs": [],
   "source": [
    "debug = False\n",
    "\n",
    "\n",
    "if debug:\n",
    "    read_nrows = 100000\n",
    "else:\n",
    "    read_nrows = None"
   ]
  },
  {
   "cell_type": "code",
   "execution_count": null,
   "id": "f5dc3bab-02c2-407c-91b7-c6378a346e2d",
   "metadata": {},
   "outputs": [],
   "source": []
  },
  {
   "cell_type": "markdown",
   "id": "037d039f-d039-44bc-a560-b6b845105e6b",
   "metadata": {},
   "source": [
    "# Data "
   ]
  },
  {
   "cell_type": "code",
   "execution_count": 3,
   "id": "1e4164a9-7cf9-4e85-a099-2a6a2aa1d6ac",
   "metadata": {},
   "outputs": [],
   "source": [
    "w2v_eval_pl = pl.scan_parquet(f'../data/eval_data/w2v_train_eval_result_300k.parquet', n_rows=read_nrows)\n",
    "nic_eval_pl = pl.scan_parquet(\n",
    "    '../data/eval_data/next_item_counter_train_eval_300k.parquet',\n",
    "                              n_rows=read_nrows)"
   ]
  },
  {
   "cell_type": "code",
   "execution_count": 4,
   "id": "1ae41ba0-f43e-46ef-a8d8-0a6ec0f1cfd2",
   "metadata": {},
   "outputs": [],
   "source": [
    "# ! cat '../data/eval_data/next_item_counter_train_eval_result.parquet' | wc -l"
   ]
  },
  {
   "cell_type": "code",
   "execution_count": 5,
   "id": "57053457-66f6-4717-9641-47b728bbde71",
   "metadata": {},
   "outputs": [
    {
     "data": {
      "text/plain": [
       "{'prev_items': Utf8,\n",
       " 'next_item': Utf8,\n",
       " 'locale': Utf8,\n",
       " 'next_item_prediction': List(Utf8),\n",
       " 'len': Int64,\n",
       " 'recall@20': Boolean,\n",
       " 'recall@100': Boolean,\n",
       " '__index_level_0__': Int64}"
      ]
     },
     "execution_count": 5,
     "metadata": {},
     "output_type": "execute_result"
    }
   ],
   "source": [
    "w2v_eval_pl.schema"
   ]
  },
  {
   "cell_type": "code",
   "execution_count": 6,
   "id": "6e94cc3c-b463-42cd-8432-641ce00beb54",
   "metadata": {},
   "outputs": [
    {
     "data": {
      "text/plain": [
       "{'prev_items': Utf8,\n",
       " 'next_item': Utf8,\n",
       " 'locale': Utf8,\n",
       " 'next_item_prediction': List(Utf8),\n",
       " 'len': Int64,\n",
       " 'recall@20': Boolean,\n",
       " 'recall@100': Boolean,\n",
       " 'last_item': Utf8,\n",
       " '__index_level_0__': Int64}"
      ]
     },
     "execution_count": 6,
     "metadata": {},
     "output_type": "execute_result"
    }
   ],
   "source": [
    "nic_eval_pl.schema"
   ]
  },
  {
   "cell_type": "code",
   "execution_count": 7,
   "id": "2f5b5bc7-51b1-4070-abf5-66541683a83a",
   "metadata": {},
   "outputs": [
    {
     "data": {
      "text/plain": [
       "(300000, 8)"
      ]
     },
     "execution_count": 7,
     "metadata": {},
     "output_type": "execute_result"
    }
   ],
   "source": [
    "w2v_eval_pl.collect().shape"
   ]
  },
  {
   "cell_type": "code",
   "execution_count": 8,
   "id": "412c5b3d-df38-4601-b588-b89a6c3ba9fa",
   "metadata": {},
   "outputs": [
    {
     "data": {
      "text/plain": [
       "(300000, 9)"
      ]
     },
     "execution_count": 8,
     "metadata": {},
     "output_type": "execute_result"
    }
   ],
   "source": [
    "nic_eval_pl.collect().shape"
   ]
  },
  {
   "cell_type": "code",
   "execution_count": 9,
   "id": "8a9baeb7-3156-4bfc-95ba-5a34c4295d30",
   "metadata": {},
   "outputs": [],
   "source": [
    "nic_eval_pl = nic_eval_pl.select(\n",
    "    pl.col('next_item_prediction').alias('nic_next_item_prediction')\n",
    "    # , 'prev_items'\n",
    "    # , 'locale'\n",
    ")\n",
    "\n",
    "w2v_eval_pl = w2v_eval_pl.select(\n",
    "    'prev_items'\n",
    "    , 'locale'\n",
    "    , 'next_item_prediction'\n",
    "    , 'next_item'\n",
    ")\n"
   ]
  },
  {
   "cell_type": "code",
   "execution_count": 10,
   "id": "832d72ee-73da-412b-b08a-0fbecfb8ab8f",
   "metadata": {},
   "outputs": [],
   "source": [
    "# w2v_eval_pl.collect()"
   ]
  },
  {
   "cell_type": "code",
   "execution_count": 11,
   "id": "87f332c1-10be-4493-b2c8-c65fd47d137a",
   "metadata": {},
   "outputs": [],
   "source": [
    "# joined_pl = w2v_eval_pl.join(nic_eval_pl\n",
    "#                                                           , how='left'\n",
    "#                                                           , on=['prev_items', 'locale']\n",
    "#                                                                       )#.collect()"
   ]
  },
  {
   "cell_type": "code",
   "execution_count": 12,
   "id": "82dc931f-e6ea-406b-b8f1-1326446973a8",
   "metadata": {},
   "outputs": [],
   "source": [
    "joined_pl = pl.concat([w2v_eval_pl.collect(), nic_eval_pl.collect()], how='horizontal',)\n",
    "# .collect().shape"
   ]
  },
  {
   "cell_type": "code",
   "execution_count": 13,
   "id": "4b9a147e-09bc-43d5-be2e-1452dc997ae5",
   "metadata": {},
   "outputs": [
    {
     "data": {
      "text/plain": [
       "{'prev_items': Utf8,\n",
       " 'locale': Utf8,\n",
       " 'next_item_prediction': List(Utf8),\n",
       " 'next_item': Utf8,\n",
       " 'nic_next_item_prediction': List(Utf8)}"
      ]
     },
     "execution_count": 13,
     "metadata": {},
     "output_type": "execute_result"
    }
   ],
   "source": [
    "joined_pl.schema"
   ]
  },
  {
   "cell_type": "code",
   "execution_count": 14,
   "id": "4099e4f4-bdaa-4268-a097-845f1f8e9be0",
   "metadata": {},
   "outputs": [],
   "source": [
    "# joined_pl = joined_pl.collect()"
   ]
  },
  {
   "cell_type": "code",
   "execution_count": 15,
   "id": "3f0456a4-ed34-471e-bcb8-a87768ba73da",
   "metadata": {},
   "outputs": [],
   "source": [
    "assert joined_pl.shape[0] == w2v_eval_pl.collect().shape[0]"
   ]
  },
  {
   "cell_type": "code",
   "execution_count": 16,
   "id": "81696ce6-e73f-4a8a-8a76-56f2b51dea30",
   "metadata": {},
   "outputs": [],
   "source": [
    "# joined_pl.sample(20)"
   ]
  },
  {
   "cell_type": "markdown",
   "id": "cc0b75fe-1d3e-4804-ae7f-26388ecfe3a9",
   "metadata": {
    "tags": []
   },
   "source": [
    "# Eval "
   ]
  },
  {
   "cell_type": "code",
   "execution_count": 17,
   "id": "f516654d-25f2-4650-b3f9-522a340a3edd",
   "metadata": {},
   "outputs": [],
   "source": [
    "joined_pl = (\n",
    "    joined_pl.lazy().with_columns(\n",
    "        pl.concat_list([pl.col('next_item_prediction'), pl.col('nic_next_item_prediction')]).alias('combined_prediction')\n",
    "    )\n",
    ")"
   ]
  },
  {
   "cell_type": "code",
   "execution_count": 18,
   "id": "b3783e8d-7a32-4233-b4c4-7f586a9d4b2b",
   "metadata": {},
   "outputs": [
    {
     "data": {
      "text/plain": [
       "{'prev_items': Utf8,\n",
       " 'locale': Utf8,\n",
       " 'next_item_prediction': List(Utf8),\n",
       " 'next_item': Utf8,\n",
       " 'nic_next_item_prediction': List(Utf8),\n",
       " 'combined_prediction': List(Utf8)}"
      ]
     },
     "execution_count": 18,
     "metadata": {},
     "output_type": "execute_result"
    }
   ],
   "source": [
    "joined_pl.schema"
   ]
  },
  {
   "cell_type": "markdown",
   "id": "20d752be-d95e-4ce5-8990-fbe5217432c9",
   "metadata": {},
   "source": [
    "## Recall@200 "
   ]
  },
  {
   "cell_type": "code",
   "execution_count": 19,
   "id": "62a93203-5244-4770-bbd5-f607c2fcd4a6",
   "metadata": {},
   "outputs": [
    {
     "data": {
      "text/html": [
       "<div><style>\n",
       ".dataframe > thead > tr > th,\n",
       ".dataframe > tbody > tr > td {\n",
       "  text-align: right;\n",
       "}\n",
       "</style>\n",
       "<small>shape: (3, 6)</small><table border=\"1\" class=\"dataframe\"><thead><tr><th>prev_items</th><th>locale</th><th>next_item_prediction</th><th>next_item</th><th>nic_next_item_prediction</th><th>combined_prediction</th></tr><tr><td>str</td><td>str</td><td>list[str]</td><td>str</td><td>list[str]</td><td>list[str]</td></tr></thead><tbody><tr><td>&quot;[&#x27;B09CTD61C6&#x27; …</td><td>&quot;DE&quot;</td><td>[&quot;B08HS4DWHK&quot;, &quot;B09CTD61C6&quot;, … &quot;B09SM5PMMQ&quot;]</td><td>&quot;B08HS5CWD4&quot;</td><td>[&quot;B08HS5CWD4&quot;, &quot;B075JM8R1Q&quot;, … &quot;B009SK9CTS&quot;]</td><td>[&quot;B08HS4DWHK&quot;, &quot;B09CTD61C6&quot;, … &quot;B009SK9CTS&quot;]</td></tr><tr><td>&quot;[&#x27;B0BHZLZ5V4&#x27; …</td><td>&quot;UK&quot;</td><td>[&quot;B08KFF1XG9&quot;, &quot;B09YVFM9CB&quot;, … &quot;B09YRLT3VW&quot;]</td><td>&quot;B089DJM2BG&quot;</td><td>[&quot;B089DJM2BG&quot;, &quot;B01MU5YPGI&quot;, … &quot;B09TDTPT4M&quot;]</td><td>[&quot;B08KFF1XG9&quot;, &quot;B09YVFM9CB&quot;, … &quot;B09TDTPT4M&quot;]</td></tr><tr><td>&quot;[&#x27;B08CHLHTFB&#x27; …</td><td>&quot;UK&quot;</td><td>[&quot;B0748H6Q7L&quot;, &quot;B0748HGSG8&quot;, … &quot;B0765WZV1Z&quot;]</td><td>&quot;B0B7RC68CT&quot;</td><td>[&quot;B0748HGSG8&quot;, &quot;B0748J3RQ5&quot;, … &quot;B0BFXGM3GY&quot;]</td><td>[&quot;B0748H6Q7L&quot;, &quot;B0748HGSG8&quot;, … &quot;B0BFXGM3GY&quot;]</td></tr></tbody></table></div>"
      ],
      "text/plain": [
       "shape: (3, 6)\n",
       "┌───────────────┬────────┬────────────────────┬────────────┬───────────────────┬───────────────────┐\n",
       "│ prev_items    ┆ locale ┆ next_item_predicti ┆ next_item  ┆ nic_next_item_pre ┆ combined_predicti │\n",
       "│ ---           ┆ ---    ┆ on                 ┆ ---        ┆ diction           ┆ on                │\n",
       "│ str           ┆ str    ┆ ---                ┆ str        ┆ ---               ┆ ---               │\n",
       "│               ┆        ┆ list[str]          ┆            ┆ list[str]         ┆ list[str]         │\n",
       "╞═══════════════╪════════╪════════════════════╪════════════╪═══════════════════╪═══════════════════╡\n",
       "│ ['B09CTD61C6' ┆ DE     ┆ [\"B08HS4DWHK\",     ┆ B08HS5CWD4 ┆ [\"B08HS5CWD4\",    ┆ [\"B08HS4DWHK\",    │\n",
       "│ 'B08HS4DWHK'] ┆        ┆ \"B09CTD61C6\", … \"… ┆            ┆ \"B075JM8R1Q\", …   ┆ \"B09CTD61C6\", …   │\n",
       "│               ┆        ┆                    ┆            ┆ \"…                ┆ \"…                │\n",
       "│ ['B0BHZLZ5V4' ┆ UK     ┆ [\"B08KFF1XG9\",     ┆ B089DJM2BG ┆ [\"B089DJM2BG\",    ┆ [\"B08KFF1XG9\",    │\n",
       "│ 'B0BCKRX4F2'  ┆        ┆ \"B09YVFM9CB\", … \"… ┆            ┆ \"B01MU5YPGI\", …   ┆ \"B09YVFM9CB\", …   │\n",
       "│ 'B09Z…        ┆        ┆                    ┆            ┆ \"…                ┆ \"…                │\n",
       "│ ['B08CHLHTFB' ┆ UK     ┆ [\"B0748H6Q7L\",     ┆ B0B7RC68CT ┆ [\"B0748HGSG8\",    ┆ [\"B0748H6Q7L\",    │\n",
       "│ 'B0748HGSG8'  ┆        ┆ \"B0748HGSG8\", … \"… ┆            ┆ \"B0748J3RQ5\", …   ┆ \"B0748HGSG8\", …   │\n",
       "│ 'B074…        ┆        ┆                    ┆            ┆ \"…                ┆ \"…                │\n",
       "└───────────────┴────────┴────────────────────┴────────────┴───────────────────┴───────────────────┘"
      ]
     },
     "execution_count": 19,
     "metadata": {},
     "output_type": "execute_result"
    }
   ],
   "source": [
    "joined_pl.head(3).collect()"
   ]
  },
  {
   "cell_type": "code",
   "execution_count": 20,
   "id": "64121617-9b3f-4c29-a299-a595931b7ebd",
   "metadata": {},
   "outputs": [
    {
     "data": {
      "text/html": [
       "<div><style>\n",
       ".dataframe > thead > tr > th,\n",
       ".dataframe > tbody > tr > td {\n",
       "  text-align: right;\n",
       "}\n",
       "</style>\n",
       "<small>shape: (7, 2)</small><table border=\"1\" class=\"dataframe\"><thead><tr><th>describe</th><th>combined_prediction</th></tr><tr><td>str</td><td>f64</td></tr></thead><tbody><tr><td>&quot;count&quot;</td><td>300000.0</td></tr><tr><td>&quot;null_count&quot;</td><td>0.0</td></tr><tr><td>&quot;mean&quot;</td><td>200.0</td></tr><tr><td>&quot;std&quot;</td><td>0.0</td></tr><tr><td>&quot;min&quot;</td><td>200.0</td></tr><tr><td>&quot;max&quot;</td><td>200.0</td></tr><tr><td>&quot;median&quot;</td><td>200.0</td></tr></tbody></table></div>"
      ],
      "text/plain": [
       "shape: (7, 2)\n",
       "┌────────────┬─────────────────────┐\n",
       "│ describe   ┆ combined_prediction │\n",
       "│ ---        ┆ ---                 │\n",
       "│ str        ┆ f64                 │\n",
       "╞════════════╪═════════════════════╡\n",
       "│ count      ┆ 300000.0            │\n",
       "│ null_count ┆ 0.0                 │\n",
       "│ mean       ┆ 200.0               │\n",
       "│ std        ┆ 0.0                 │\n",
       "│ min        ┆ 200.0               │\n",
       "│ max        ┆ 200.0               │\n",
       "│ median     ┆ 200.0               │\n",
       "└────────────┴─────────────────────┘"
      ]
     },
     "execution_count": 20,
     "metadata": {},
     "output_type": "execute_result"
    }
   ],
   "source": [
    "joined_pl.select(\n",
    "    pl.col('combined_prediction').apply(len)\n",
    ").collect().describe()"
   ]
  },
  {
   "cell_type": "code",
   "execution_count": 29,
   "id": "fa5829ca-2611-4f9f-8e88-c5761b86f935",
   "metadata": {},
   "outputs": [
    {
     "data": {
      "text/html": [
       "<div><style>\n",
       ".dataframe > thead > tr > th,\n",
       ".dataframe > tbody > tr > td {\n",
       "  text-align: right;\n",
       "}\n",
       "</style>\n",
       "<small>shape: (1, 1)</small><table border=\"1\" class=\"dataframe\"><thead><tr><th>recall@200</th></tr><tr><td>f64</td></tr></thead><tbody><tr><td>0.46833</td></tr></tbody></table></div>"
      ],
      "text/plain": [
       "shape: (1, 1)\n",
       "┌────────────┐\n",
       "│ recall@200 │\n",
       "│ ---        │\n",
       "│ f64        │\n",
       "╞════════════╡\n",
       "│ 0.46833    │\n",
       "└────────────┘"
      ]
     },
     "execution_count": 29,
     "metadata": {},
     "output_type": "execute_result"
    }
   ],
   "source": [
    "joined_pl.select(\n",
    "    pl.col('combined_prediction').arr.contains(pl.col('next_item')).mean().alias('recall@200')\n",
    ").collect()\n",
    "# .schema"
   ]
  },
  {
   "cell_type": "code",
   "execution_count": 34,
   "id": "2d0a116d-2f31-44e8-8894-bc33a3d37266",
   "metadata": {},
   "outputs": [
    {
     "data": {
      "text/html": [
       "<div><style>\n",
       ".dataframe > thead > tr > th,\n",
       ".dataframe > tbody > tr > td {\n",
       "  text-align: right;\n",
       "}\n",
       "</style>\n",
       "<small>shape: (1, 1)</small><table border=\"1\" class=\"dataframe\"><thead><tr><th>recall@200</th></tr><tr><td>f64</td></tr></thead><tbody><tr><td>0.291</td></tr></tbody></table></div>"
      ],
      "text/plain": [
       "shape: (1, 1)\n",
       "┌────────────┐\n",
       "│ recall@200 │\n",
       "│ ---        │\n",
       "│ f64        │\n",
       "╞════════════╡\n",
       "│ 0.291      │\n",
       "└────────────┘"
      ]
     },
     "execution_count": 34,
     "metadata": {},
     "output_type": "execute_result"
    }
   ],
   "source": [
    "joined_pl.select(\n",
    "    # pl.col('next_item_prediction').arr.contains(pl.col('next_item')).mean().alias('recall@20'),\n",
    "    pl.col('next_item_prediction').arr.contains(pl.col('next_item')).mean().alias('recall@200')\n",
    ").collect()"
   ]
  },
  {
   "cell_type": "code",
   "execution_count": 35,
   "id": "14efa7c1-1fec-4d91-82f9-c3ab1324a8a6",
   "metadata": {},
   "outputs": [
    {
     "data": {
      "text/html": [
       "<div><style>\n",
       ".dataframe > thead > tr > th,\n",
       ".dataframe > tbody > tr > td {\n",
       "  text-align: right;\n",
       "}\n",
       "</style>\n",
       "<small>shape: (1, 1)</small><table border=\"1\" class=\"dataframe\"><thead><tr><th>recall@200</th></tr><tr><td>f64</td></tr></thead><tbody><tr><td>0.371717</td></tr></tbody></table></div>"
      ],
      "text/plain": [
       "shape: (1, 1)\n",
       "┌────────────┐\n",
       "│ recall@200 │\n",
       "│ ---        │\n",
       "│ f64        │\n",
       "╞════════════╡\n",
       "│ 0.371717   │\n",
       "└────────────┘"
      ]
     },
     "execution_count": 35,
     "metadata": {},
     "output_type": "execute_result"
    }
   ],
   "source": [
    "joined_pl.select(\n",
    "    pl.col('nic_next_item_prediction').arr.contains(pl.col('next_item')).mean().alias('recall@200')\n",
    ").collect()"
   ]
  },
  {
   "cell_type": "code",
   "execution_count": 37,
   "id": "1671a49e-efda-4989-88ad-0bfa6e1b0b48",
   "metadata": {},
   "outputs": [],
   "source": [
    "# joined_pl.select(\n",
    "#     # pl.col('next_item_prediction').\n",
    "#     # .contains(pl.col('next_item')).mean().alias('recall@200')\n",
    "# ).head(2).collect()"
   ]
  },
  {
   "cell_type": "code",
   "execution_count": null,
   "id": "ffcd2ffa-e4d1-4be0-bc54-bc615a341796",
   "metadata": {},
   "outputs": [],
   "source": []
  }
 ],
 "metadata": {
  "environment": {
   "kernel": "kdd_2023",
   "name": "common-cu110.m104",
   "type": "gcloud",
   "uri": "gcr.io/deeplearning-platform-release/base-cu110:m104"
  },
  "kernelspec": {
   "display_name": "py3.8(kdd_2023)",
   "language": "python",
   "name": "kdd_2023"
  },
  "language_info": {
   "codemirror_mode": {
    "name": "ipython",
    "version": 3
   },
   "file_extension": ".py",
   "mimetype": "text/x-python",
   "name": "python",
   "nbconvert_exporter": "python",
   "pygments_lexer": "ipython3",
   "version": "3.8.16"
  }
 },
 "nbformat": 4,
 "nbformat_minor": 5
}
