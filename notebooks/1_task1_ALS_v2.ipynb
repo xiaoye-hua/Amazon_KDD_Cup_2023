{
 "cells": [
  {
   "cell_type": "markdown",
   "id": "384e673a-9c48-4f2c-a504-eccb9d14d09f",
   "metadata": {},
   "source": [
    "# Packages "
   ]
  },
  {
   "cell_type": "code",
   "execution_count": 1,
   "id": "8bcd1d3a-47fd-45f3-9361-bb0091534005",
   "metadata": {},
   "outputs": [
    {
     "name": "stderr",
     "output_type": "stream",
     "text": [
      "/home/jupyter/.cache/pypoetry/virtualenvs/kdd-2023-KklMGVX0-py3.8/lib/python3.8/site-packages/implicit/gpu/__init__.py:13: UserWarning: CUDA extension is built, but disabling GPU support because of 'Cuda Error: no CUDA-capable device is detected (/project/./implicit/gpu/utils.h:71)'\n",
      "  warnings.warn(\n"
     ]
    }
   ],
   "source": [
    "%load_ext autoreload\n",
    "%autoreload 2\n",
    "import sys\n",
    "import logging\n",
    "base_dir = '../'\n",
    "\n",
    "sys.path.append(base_dir)\n",
    "import os\n",
    "from utils import *\n",
    "\n",
    "import os\n",
    "import numpy as np\n",
    "import pandas as pd\n",
    "from gensim.models import Word2Vec\n",
    "import pickle\n",
    "\n",
    "\n",
    "from annoy import AnnoyIndex\n",
    "import polars as pl\n",
    "import implicit\n",
    "import scipy.sparse as sps\n",
    "from src.eval import get_recall_at_k, pd_get_recall_at_k\n",
    "from src.config import raw_data_session_id_dir, candidate_dir, model_for_eval\n",
    "from src.eval import model_eval\n"
   ]
  },
  {
   "cell_type": "markdown",
   "id": "135245f6-308e-4c83-a11d-9d0d1da81ab3",
   "metadata": {},
   "source": [
    "# Config "
   ]
  },
  {
   "cell_type": "code",
   "execution_count": 2,
   "id": "22bb50a5-acba-4b88-95d2-ef8b27d51f29",
   "metadata": {},
   "outputs": [],
   "source": [
    "debug = False\n",
    "\n",
    "model_version = 'als_v2'\n",
    "\n",
    "submit_res = False\n",
    "\n",
    "topn = 100\n",
    "if debug:\n",
    "    n_rows = 1000\n",
    "else:\n",
    "    n_rows = None\n",
    "train_data_dir = '.'\n",
    "test_data_dir = '.'\n",
    "task = 'task1'\n",
    "\n",
    "model_dir = f'../model_training/{model_version}'\n",
    "\n",
    "model_file = os.path.join(model_dir, 'als_model.pkl')\n",
    "\n",
    "target_locals = [\"DE\", 'JP', 'UK']\n",
    "\n",
    "\n",
    "sub_file = f'../data/sub_files/{model_version}.parque'"
   ]
  },
  {
   "cell_type": "code",
   "execution_count": 3,
   "id": "cb1e29c4-1044-4f2f-8417-5d47ea961ada",
   "metadata": {},
   "outputs": [],
   "source": [
    "# sub_file"
   ]
  },
  {
   "cell_type": "code",
   "execution_count": 4,
   "id": "0e206f4e-e194-4bb1-86d4-d6512536790f",
   "metadata": {},
   "outputs": [
    {
     "name": "stdout",
     "output_type": "stream",
     "text": [
      "mkdir: cannot create directory ‘../model_training/als_v2’: File exists\n"
     ]
    }
   ],
   "source": [
    "! mkdir {model_dir}"
   ]
  },
  {
   "cell_type": "code",
   "execution_count": 5,
   "id": "95d6529d-b037-43b9-ba52-6accfefb949f",
   "metadata": {},
   "outputs": [
    {
     "data": {
      "text/plain": [
       "'../model_training/als_v2/als_model.pkl'"
      ]
     },
     "execution_count": 5,
     "metadata": {},
     "output_type": "execute_result"
    }
   ],
   "source": [
    "model_file"
   ]
  },
  {
   "cell_type": "markdown",
   "id": "c5fb6f1b-3226-4b6e-b81c-6add9fe67d02",
   "metadata": {},
   "source": [
    "# Function "
   ]
  },
  {
   "cell_type": "code",
   "execution_count": 6,
   "id": "11029678-f5ec-43c2-9dfa-b908676ccfa6",
   "metadata": {},
   "outputs": [],
   "source": [
    "def get_rec(target_pl, model, user_item):\n",
    "    user_lst = target_pl.select('session_id').collect().to_series().to_list()\n",
    "    topn = 100\n",
    "\n",
    "    next_items, item_similarity = model.recommend(user_lst, user_item[user_lst, :],\n",
    "                                  filter_already_liked_items=True,\n",
    "                                   N=topn\n",
    "                                 )#[0].tolist()\n",
    "    from tqdm import tqdm\n",
    "\n",
    "    final_items = []\n",
    "    for lst in tqdm(next_items):\n",
    "        final_items.append([product_unique2id[ele] for ele in lst])\n",
    "    eval_res = (\n",
    "        target_pl.with_columns(\n",
    "            pl.Series(name='next_item_prediction', values=final_items)\n",
    "            , pl.Series(name='als_similarity', values=item_similarity)\n",
    "            )\n",
    "            # .with_columns(\n",
    "            #     # pl.col(\"next_item_prediction\").arr.eval(\n",
    "            #     #     # product_unique2id[pl.element()]\n",
    "            #     #     # dir(pl.element())\n",
    "            #     #     # pl.element().cast(pl.Int8)#.map(product_unique2id)\n",
    "            #     #                                        ).alias('test')\n",
    "            # )\n",
    "    )\n",
    "    return eval_res"
   ]
  },
  {
   "cell_type": "markdown",
   "id": "c6c69010-321a-4714-8b49-6d91385e23ce",
   "metadata": {},
   "source": [
    "# Read data"
   ]
  },
  {
   "cell_type": "code",
   "execution_count": 7,
   "id": "a36a45fd-b5ed-4b01-a75f-8ff0426243c5",
   "metadata": {},
   "outputs": [],
   "source": [
    "train_pl = pl.scan_parquet(os.path.join(base_dir, raw_data_session_id_dir, 'sessions_train.parquet'), n_rows=n_rows).filter(pl.col('locale').is_in(target_locals)).with_columns(pl.col('prev_items').apply(str2list))\n",
    "\n",
    "eval_pl = pl.scan_parquet(os.path.join(base_dir, raw_data_session_id_dir, 'sessions_eval.parquet'), n_rows=n_rows).filter(pl.col('locale').is_in(target_locals)).with_columns(pl.col('prev_items').apply(str2list))\n",
    "\n",
    "# df_sess.head(3).collect()\n",
    "test_pl = pl.scan_parquet(os.path.join(base_dir, raw_data_session_id_dir, 'sessions_test_task1.parquet'), n_rows=n_rows).with_columns(pl.col('prev_items').apply(str2list))\n",
    "product_pl = pl.scan_parquet(\n",
    "    os.path.join(base_dir, raw_data_session_id_dir, 'products_train.parquet'), \n",
    ")\n",
    "with open(os.path.join(base_dir, raw_data_session_id_dir, 'product_unique2id.json'), 'rb') as f:\n",
    "    product_unique2id  = pickle.load(f)"
   ]
  },
  {
   "cell_type": "code",
   "execution_count": 8,
   "id": "26aec879-6f12-468a-b5a3-c4537b05d149",
   "metadata": {},
   "outputs": [],
   "source": [
    "train_data = train_pl.with_columns(\n",
    "    pl.col('prev_items').arr.concat(pl.col('next_item')) \n",
    ")\n",
    "if not model_for_eval:\n",
    "    eval_data = eval_pl.with_columns(\n",
    "    pl.col('prev_items').arr.concat(pl.col('next_item')) \n",
    ")\n",
    "else:\n",
    "    eval_data = eval_pl\n",
    "test_data = test_pl"
   ]
  },
  {
   "cell_type": "markdown",
   "id": "042587e0-7792-4f54-a4ae-5f84d79c28f8",
   "metadata": {},
   "source": [
    "# Process Training data "
   ]
  },
  {
   "cell_type": "code",
   "execution_count": 9,
   "id": "f624e120-93d5-4672-b0fd-bd5e7f89909c",
   "metadata": {},
   "outputs": [],
   "source": [
    "cols_to_keep = ['prev_items', 'locale','session_id']\n",
    "user_item_pl = (\n",
    "    pl.concat([train_data.select(cols_to_keep), \n",
    "               eval_data.select(cols_to_keep), \n",
    "               test_data.select(cols_to_keep)], how='vertical')\n",
    "        .explode('prev_items')\n",
    "        .join(product_pl.select(['id', 'locale', 'unique_id']), how='left', \n",
    "              left_on=['prev_items', 'locale']\n",
    "              , right_on=['id', 'locale']\n",
    "             )\n",
    "        .select(\n",
    "            pl.col('session_id')\n",
    "            , pl.col('unique_id').alias('item_id')\n",
    "        )\n",
    ")\n",
    "\n",
    "user_item = user_item_pl.collect().to_pandas()"
   ]
  },
  {
   "cell_type": "code",
   "execution_count": 10,
   "id": "c9da5c91-f29c-481d-bb70-76de2f8a40f6",
   "metadata": {},
   "outputs": [
    {
     "data": {
      "text/plain": [
       "(18395684, 2)"
      ]
     },
     "execution_count": 10,
     "metadata": {},
     "output_type": "execute_result"
    }
   ],
   "source": [
    "user_item.shape"
   ]
  },
  {
   "cell_type": "code",
   "execution_count": 11,
   "id": "aef941eb-1d58-47d4-a998-f090d70ff9c0",
   "metadata": {},
   "outputs": [
    {
     "data": {
      "text/html": [
       "<div>\n",
       "<style scoped>\n",
       "    .dataframe tbody tr th:only-of-type {\n",
       "        vertical-align: middle;\n",
       "    }\n",
       "\n",
       "    .dataframe tbody tr th {\n",
       "        vertical-align: top;\n",
       "    }\n",
       "\n",
       "    .dataframe thead th {\n",
       "        text-align: right;\n",
       "    }\n",
       "</style>\n",
       "<table border=\"1\" class=\"dataframe\">\n",
       "  <thead>\n",
       "    <tr style=\"text-align: right;\">\n",
       "      <th></th>\n",
       "      <th>session_id</th>\n",
       "      <th>item_id</th>\n",
       "    </tr>\n",
       "  </thead>\n",
       "  <tbody>\n",
       "    <tr>\n",
       "      <th>0</th>\n",
       "      <td>0</td>\n",
       "      <td>265193</td>\n",
       "    </tr>\n",
       "    <tr>\n",
       "      <th>1</th>\n",
       "      <td>0</td>\n",
       "      <td>83226</td>\n",
       "    </tr>\n",
       "    <tr>\n",
       "      <th>2</th>\n",
       "      <td>0</td>\n",
       "      <td>387776</td>\n",
       "    </tr>\n",
       "    <tr>\n",
       "      <th>3</th>\n",
       "      <td>1</td>\n",
       "      <td>38788</td>\n",
       "    </tr>\n",
       "    <tr>\n",
       "      <th>4</th>\n",
       "      <td>1</td>\n",
       "      <td>85634</td>\n",
       "    </tr>\n",
       "  </tbody>\n",
       "</table>\n",
       "</div>"
      ],
      "text/plain": [
       "   session_id  item_id\n",
       "0           0   265193\n",
       "1           0    83226\n",
       "2           0   387776\n",
       "3           1    38788\n",
       "4           1    85634"
      ]
     },
     "execution_count": 11,
     "metadata": {},
     "output_type": "execute_result"
    }
   ],
   "source": [
    "user_item.head()"
   ]
  },
  {
   "cell_type": "markdown",
   "id": "05e4d16f-91f2-406e-a7d8-35cafef3aafb",
   "metadata": {
    "tags": []
   },
   "source": [
    "# ALS Model"
   ]
  },
  {
   "cell_type": "markdown",
   "id": "05d40886-6c33-4f50-9ba9-29bc6bed3a8f",
   "metadata": {},
   "source": [
    "## Model config "
   ]
  },
  {
   "cell_type": "code",
   "execution_count": 12,
   "id": "54c1db09-b261-418a-8a3f-90014d405a02",
   "metadata": {},
   "outputs": [],
   "source": [
    "vec_size = 100\n",
    "iterations = 20\n",
    "if debug:\n",
    "    iterations = 2"
   ]
  },
  {
   "cell_type": "code",
   "execution_count": 13,
   "id": "8ae220fa-66d7-4a16-a3d5-816b14c1f1aa",
   "metadata": {},
   "outputs": [],
   "source": [
    "# user_item['session_id']"
   ]
  },
  {
   "cell_type": "markdown",
   "id": "11eedee3-aabe-42df-9c28-6c7bbf7b3f93",
   "metadata": {},
   "source": [
    "## training data "
   ]
  },
  {
   "cell_type": "code",
   "execution_count": 14,
   "id": "326a98d9-c4ce-453e-93a3-204ddd5efa23",
   "metadata": {},
   "outputs": [],
   "source": [
    "user_item = sps.coo_matrix(\n",
    "      (\n",
    "          np.ones(user_item.shape[0]), # We're using a matrix of ones, but using type weights or repurchase weights could help!\n",
    "          (user_item['session_id'],\n",
    "          user_item['item_id'])\n",
    "      ),\n",
    "      dtype='int8'\n",
    "    ).tocsr()\n"
   ]
  },
  {
   "cell_type": "code",
   "execution_count": 15,
   "id": "f8d42898-bded-4e75-9291-8ed3ea8a801b",
   "metadata": {},
   "outputs": [
    {
     "data": {
      "text/plain": [
       "(3923220, 1413516)"
      ]
     },
     "execution_count": 15,
     "metadata": {},
     "output_type": "execute_result"
    }
   ],
   "source": [
    "user_item.shape\n"
   ]
  },
  {
   "cell_type": "markdown",
   "id": "e119d040-f0aa-4e27-8958-c750afc1fddd",
   "metadata": {},
   "source": [
    "## Model Training "
   ]
  },
  {
   "cell_type": "code",
   "execution_count": 16,
   "id": "37026bde-2669-4df0-be1e-72ad245c2345",
   "metadata": {},
   "outputs": [
    {
     "data": {
      "application/vnd.jupyter.widget-view+json": {
       "model_id": "c774f647172c494480e3b885d6241019",
       "version_major": 2,
       "version_minor": 0
      },
      "text/plain": [
       "  0%|          | 0/20 [00:00<?, ?it/s]"
      ]
     },
     "metadata": {},
     "output_type": "display_data"
    },
    {
     "name": "stdout",
     "output_type": "stream",
     "text": [
      "CPU times: user 6h 41min 13s, sys: 8h 4min 20s, total: 14h 45min 33s\n",
      "Wall time: 35min 56s\n"
     ]
    }
   ],
   "source": [
    "%%time\n",
    "model = implicit.als.AlternatingLeastSquares(factors=vec_size, regularization=0.1, iterations=iterations)\n",
    "\n",
    "model.fit(user_items=user_item, show_progress=True)"
   ]
  },
  {
   "cell_type": "markdown",
   "id": "0ee18c38-015c-4f68-bb3d-e77726e3101d",
   "metadata": {},
   "source": [
    "## Save model "
   ]
  },
  {
   "cell_type": "code",
   "execution_count": 17,
   "id": "32725026-3042-4e2e-ac41-a83e1f7f3abc",
   "metadata": {},
   "outputs": [
    {
     "data": {
      "text/plain": [
       "False"
      ]
     },
     "execution_count": 17,
     "metadata": {},
     "output_type": "execute_result"
    }
   ],
   "source": [
    "debug"
   ]
  },
  {
   "cell_type": "code",
   "execution_count": 18,
   "id": "d63fb559-9298-4298-9d82-71e0c9ab1405",
   "metadata": {},
   "outputs": [
    {
     "data": {
      "text/plain": [
       "'../model_training/als_v2/als_model.pkl'"
      ]
     },
     "execution_count": 18,
     "metadata": {},
     "output_type": "execute_result"
    }
   ],
   "source": [
    "model_file"
   ]
  },
  {
   "cell_type": "code",
   "execution_count": 19,
   "id": "5f7d8152-de21-45b8-b0e8-26294737a4c6",
   "metadata": {},
   "outputs": [
    {
     "data": {
      "text/plain": [
       "<3923220x1413516 sparse matrix of type '<class 'numpy.int8'>'\n",
       "\twith 15941444 stored elements in Compressed Sparse Row format>"
      ]
     },
     "execution_count": 19,
     "metadata": {},
     "output_type": "execute_result"
    }
   ],
   "source": [
    "user_item"
   ]
  },
  {
   "cell_type": "code",
   "execution_count": 20,
   "id": "5cff1b87-fbf2-4438-b1f3-014e5a15bef6",
   "metadata": {},
   "outputs": [],
   "source": [
    "# if not debug:\n",
    "sps.save_npz(os.path.join(model_dir, \"user_item.npz\"), user_item)\n",
    "with open(model_file, 'wb') as f:\n",
    "    pickle.dump(model, f)\n",
    "del model\n",
    "del user_item"
   ]
  },
  {
   "cell_type": "code",
   "execution_count": null,
   "id": "bc02ddfb-8478-4472-93fc-7804aad977b5",
   "metadata": {},
   "outputs": [],
   "source": []
  },
  {
   "cell_type": "code",
   "execution_count": 21,
   "id": "1e864df5-6f48-422c-a298-7fcee7427b03",
   "metadata": {},
   "outputs": [
    {
     "name": "stdout",
     "output_type": "stream",
     "text": [
      "als_model.pkl  user_item.npz\n"
     ]
    }
   ],
   "source": [
    "! ls {model_dir}"
   ]
  },
  {
   "cell_type": "markdown",
   "id": "bbc73771-f37d-44a3-b21b-557aad249c77",
   "metadata": {},
   "source": [
    "# Load model"
   ]
  },
  {
   "cell_type": "code",
   "execution_count": 22,
   "id": "f87c3945-37d2-477b-8071-4719096a262b",
   "metadata": {},
   "outputs": [],
   "source": [
    "user_item = sps.load_npz(os.path.join(model_dir, \"user_item.npz\"))\n",
    "with open(model_file, 'rb') as f:\n",
    "    model = pickle.load(f)"
   ]
  },
  {
   "cell_type": "markdown",
   "id": "408b4698-c19c-4011-ad06-088df651b2c2",
   "metadata": {},
   "source": [
    "# Model eval "
   ]
  },
  {
   "cell_type": "code",
   "execution_count": null,
   "id": "edd7afbe-711e-4cfb-bd57-fca69308a271",
   "metadata": {},
   "outputs": [],
   "source": []
  },
  {
   "cell_type": "code",
   "execution_count": 23,
   "id": "23f88280-7974-4ae6-8ff1-7eb9357c6414",
   "metadata": {},
   "outputs": [
    {
     "name": "stderr",
     "output_type": "stream",
     "text": [
      "100%|██████████| 326443/326443 [00:09<00:00, 35096.29it/s]\n"
     ]
    },
    {
     "name": "stdout",
     "output_type": "stream",
     "text": [
      "CPU times: user 4h 58min 19s, sys: 1h 25min 47s, total: 6h 24min 6s\n",
      "Wall time: 22min 10s\n"
     ]
    }
   ],
   "source": [
    "%%time\n",
    "\n",
    "eval_res = get_rec(target_pl=eval_pl, model=model, user_item=user_item)"
   ]
  },
  {
   "cell_type": "code",
   "execution_count": 24,
   "id": "c2747d5d-8939-4ed9-86a7-7896a7f6c2ea",
   "metadata": {},
   "outputs": [
    {
     "data": {
      "text/plain": [
       "{'prev_items': Unknown,\n",
       " 'next_item': Utf8,\n",
       " 'locale': Utf8,\n",
       " 'session_id': Int64,\n",
       " 'next_item_prediction': List(Utf8),\n",
       " 'als_similarity': List(Float32)}"
      ]
     },
     "execution_count": 24,
     "metadata": {},
     "output_type": "execute_result"
    }
   ],
   "source": [
    "eval_res.schema"
   ]
  },
  {
   "cell_type": "code",
   "execution_count": 25,
   "id": "070f1ebd-cd02-4095-829b-f4a42b362462",
   "metadata": {},
   "outputs": [
    {
     "name": "stdout",
     "output_type": "stream",
     "text": [
      "CPU times: user 3min 9s, sys: 1min 19s, total: 4min 28s\n",
      "Wall time: 19.9 s\n"
     ]
    },
    {
     "data": {
      "text/html": [
       "<div><style>\n",
       ".dataframe > thead > tr > th,\n",
       ".dataframe > tbody > tr > td {\n",
       "  text-align: right;\n",
       "}\n",
       "</style>\n",
       "<small>shape: (1, 4)</small><table border=\"1\" class=\"dataframe\"><thead><tr><th>total_sessions</th><th>mrr</th><th>recall@20</th><th>recall@100</th></tr><tr><td>u32</td><td>f64</td><td>f64</td><td>f64</td></tr></thead><tbody><tr><td>326443</td><td>0.003665</td><td>0.011157</td><td>0.026602</td></tr></tbody></table></div>"
      ],
      "text/plain": [
       "shape: (1, 4)\n",
       "┌────────────────┬──────────┬───────────┬────────────┐\n",
       "│ total_sessions ┆ mrr      ┆ recall@20 ┆ recall@100 │\n",
       "│ ---            ┆ ---      ┆ ---       ┆ ---        │\n",
       "│ u32            ┆ f64      ┆ f64       ┆ f64        │\n",
       "╞════════════════╪══════════╪═══════════╪════════════╡\n",
       "│ 326443         ┆ 0.003665 ┆ 0.011157  ┆ 0.026602   │\n",
       "└────────────────┴──────────┴───────────┴────────────┘"
      ]
     },
     "execution_count": 25,
     "metadata": {},
     "output_type": "execute_result"
    }
   ],
   "source": [
    "%%time\n",
    "model_eval(eval_res)"
   ]
  },
  {
   "cell_type": "code",
   "execution_count": null,
   "id": "1770b86a-bc63-4d9a-bf09-4e2c47474b82",
   "metadata": {},
   "outputs": [],
   "source": []
  },
  {
   "cell_type": "code",
   "execution_count": null,
   "id": "45c9dd5e-7a0e-4d0c-831b-daa6e1bb8f88",
   "metadata": {},
   "outputs": [],
   "source": []
  },
  {
   "cell_type": "markdown",
   "id": "183be710-ff99-43f9-b7ae-2e03ce2d24b8",
   "metadata": {},
   "source": [
    "# submit res"
   ]
  },
  {
   "cell_type": "code",
   "execution_count": 26,
   "id": "9008a61f-179a-43fc-814a-b96bdd56786c",
   "metadata": {},
   "outputs": [
    {
     "name": "stderr",
     "output_type": "stream",
     "text": [
      "100%|██████████| 316971/316971 [00:09<00:00, 33192.70it/s]\n"
     ]
    },
    {
     "name": "stdout",
     "output_type": "stream",
     "text": [
      "CPU times: user 4h 46min 27s, sys: 1h 18min 7s, total: 6h 4min 34s\n",
      "Wall time: 13min 54s\n"
     ]
    }
   ],
   "source": [
    "%%time\n",
    "test_res = get_rec(target_pl=test_pl, model=model, user_item=user_item)"
   ]
  },
  {
   "cell_type": "code",
   "execution_count": 27,
   "id": "7f15f565-b36f-46cb-b790-fa0b92fafbee",
   "metadata": {},
   "outputs": [],
   "source": [
    "predictions = test_res.collect().to_pandas()"
   ]
  },
  {
   "cell_type": "code",
   "execution_count": 28,
   "id": "3838a9a5-2650-402a-8bd7-fb38682705c5",
   "metadata": {},
   "outputs": [],
   "source": [
    "check_predictions(predictions, test_sessions=test_pl.collect().to_pandas(), \n",
    "                  # check_products=True, product_df=products\n",
    "                 )\n",
    "# Its important that the parquet file you submit is saved with pyarrow backend\n",
    "if not debug:\n",
    "    predictions.to_parquet(sub_file, engine='pyarrow')"
   ]
  },
  {
   "cell_type": "code",
   "execution_count": null,
   "id": "af5e6147-a411-4e61-8732-99845b414c7f",
   "metadata": {},
   "outputs": [
    {
     "name": "stdout",
     "output_type": "stream",
     "text": [
      "\u001b[2K\u001b[1;34mals_v2.parque\u001b[0m \u001b[91m━━━━━━━━━━━━━━━━\u001b[0m\u001b[91m╸\u001b[0m\u001b[90m━━━━━\u001b[0m \u001b[35m77.1%\u001b[0m • \u001b[32m145.4/188.6 MB\u001b[0m • \u001b[31m2.9 MB/s\u001b[0m • \u001b[36m0:00:16\u001b[0m"
     ]
    }
   ],
   "source": [
    "# # You can submit with aicrowd-cli, or upload manually on the challenge page.\n",
    "!aicrowd submission create -c task-1-next-product-recommendation -f {sub_file}"
   ]
  },
  {
   "cell_type": "code",
   "execution_count": null,
   "id": "ed3f28e4-68b0-40bc-92b7-c694256244d4",
   "metadata": {},
   "outputs": [],
   "source": []
  },
  {
   "cell_type": "code",
   "execution_count": null,
   "id": "ee901df0-4ac4-4ce0-bc92-25933600c69b",
   "metadata": {},
   "outputs": [],
   "source": []
  },
  {
   "cell_type": "code",
   "execution_count": null,
   "id": "ca3248e2-c155-42c7-b17d-b2bba41094df",
   "metadata": {},
   "outputs": [],
   "source": []
  },
  {
   "cell_type": "code",
   "execution_count": 38,
   "id": "b79ec5be-a63c-4b26-9092-fb68f0c9f8b5",
   "metadata": {},
   "outputs": [],
   "source": [
    "test_model = implicit.als.AlternatingLeastSquares(factors=50)"
   ]
  },
  {
   "cell_type": "code",
   "execution_count": 40,
   "id": "11751098-42d7-4d26-ad2d-ba5f280b05e3",
   "metadata": {},
   "outputs": [
    {
     "name": "stdout",
     "output_type": "stream",
     "text": [
      "Help on method fit in module implicit.cpu.als:\n",
      "\n",
      "fit(user_items, show_progress=True, callback=None) method of implicit.cpu.als.AlternatingLeastSquares instance\n",
      "    Factorizes the user_items matrix.\n",
      "    \n",
      "    After calling this method, the members 'user_factors' and 'item_factors' will be\n",
      "    initialized with a latent factor model of the input data.\n",
      "    \n",
      "    The user_items matrix does double duty here. It defines which items are liked by which\n",
      "    users (P_ui in the original paper), as well as how much confidence we have that the user\n",
      "    liked the item (C_ui).\n",
      "    \n",
      "    The negative items are implicitly defined: This code assumes that positive items in the\n",
      "    user_items matrix means that the user liked the item. The negatives are left unset in this\n",
      "    sparse matrix: the library will assume that means Piu = 0 and Ciu = 1 for all these items.\n",
      "    Negative items can also be passed with a higher confidence value by passing a negative\n",
      "    value, indicating that the user disliked the item.\n",
      "    \n",
      "    Parameters\n",
      "    ----------\n",
      "    user_items: csr_matrix\n",
      "        Matrix of confidences for the liked items. This matrix should be a csr_matrix where\n",
      "        the rows of the matrix are the users, the columns are the items liked that user,\n",
      "        and the value is the confidence that the user liked the item.\n",
      "    show_progress : bool, optional\n",
      "        Whether to show a progress bar during fitting\n",
      "    callback: Callable, optional\n",
      "        Callable function on each epoch with such arguments as epoch, elapsed time and progress\n",
      "\n"
     ]
    }
   ],
   "source": [
    "help(test_model.fit)"
   ]
  },
  {
   "cell_type": "code",
   "execution_count": null,
   "id": "88346373-7924-44a6-a65f-adbd69735509",
   "metadata": {},
   "outputs": [],
   "source": []
  }
 ],
 "metadata": {
  "environment": {
   "kernel": "kdd_2023",
   "name": "common-cu110.m104",
   "type": "gcloud",
   "uri": "gcr.io/deeplearning-platform-release/base-cu110:m104"
  },
  "kernelspec": {
   "display_name": "py3.8(kdd_2023)",
   "language": "python",
   "name": "kdd_2023"
  },
  "language_info": {
   "codemirror_mode": {
    "name": "ipython",
    "version": 3
   },
   "file_extension": ".py",
   "mimetype": "text/x-python",
   "name": "python",
   "nbconvert_exporter": "python",
   "pygments_lexer": "ipython3",
   "version": "3.8.16"
  }
 },
 "nbformat": 4,
 "nbformat_minor": 5
}
