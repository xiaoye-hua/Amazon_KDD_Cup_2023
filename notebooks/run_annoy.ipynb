{
 "cells": [
  {
   "cell_type": "code",
   "execution_count": 2,
   "metadata": {
    "collapsed": false,
    "jupyter": {
     "outputs_hidden": false
    }
   },
   "outputs": [],
   "source": [
    "%matplotlib inline"
   ]
  },
  {
   "cell_type": "markdown",
   "metadata": {},
   "source": [
    "\n",
    "Fast Similarity Queries with Annoy and Word2Vec\n",
    "===============================================\n",
    "\n",
    "Introduces the Annoy library for similarity queries on top of vectors learned by Word2Vec.\n",
    "\n"
   ]
  },
  {
   "cell_type": "code",
   "execution_count": 3,
   "metadata": {
    "collapsed": false,
    "jupyter": {
     "outputs_hidden": false
    }
   },
   "outputs": [],
   "source": [
    "LOGS = False  # Set to True if you want to see progress in logs.\n",
    "if LOGS:\n",
    "    import logging\n",
    "    logging.basicConfig(format='%(asctime)s : %(levelname)s : %(message)s', level=logging.INFO)"
   ]
  },
  {
   "cell_type": "markdown",
   "metadata": {},
   "source": [
    "The `Annoy \"Approximate Nearest Neighbors Oh Yeah\"\n",
    "<https://github.com/spotify/annoy>`_ library enables similarity queries with\n",
    "a Word2Vec model.  The current implementation for finding k nearest neighbors\n",
    "in a vector space in Gensim has linear complexity via brute force in the\n",
    "number of indexed documents, although with extremely low constant factors.\n",
    "The retrieved results are exact, which is an overkill in many applications:\n",
    "approximate results retrieved in sub-linear time may be enough. Annoy can\n",
    "find approximate nearest neighbors much faster.\n",
    "\n",
    "Outline\n",
    "-------\n",
    "\n",
    "1. Download Text8 Corpus\n",
    "2. Train the Word2Vec model\n",
    "3. Construct AnnoyIndex with model & make a similarity query\n",
    "4. Compare to the traditional indexer\n",
    "5. Persist indices to disk\n",
    "6. Save memory by via memory-mapping indices saved to disk\n",
    "7. Evaluate relationship of ``num_trees`` to initialization time and accuracy\n",
    "8. Work with Google's word2vec C formats\n",
    "\n",
    "\n"
   ]
  },
  {
   "cell_type": "markdown",
   "metadata": {},
   "source": [
    "1. Download Text8 corpus\n",
    "------------------------\n",
    "\n"
   ]
  },
  {
   "cell_type": "code",
   "execution_count": 4,
   "metadata": {
    "collapsed": false,
    "jupyter": {
     "outputs_hidden": false
    }
   },
   "outputs": [
    {
     "name": "stdout",
     "output_type": "stream",
     "text": [
      "[=====================================-------------] 74.0% 23.4/31.6MB downloaded"
     ]
    },
    {
     "name": "stderr",
     "output_type": "stream",
     "text": [
      "IOPub message rate exceeded.\n",
      "The Jupyter server will temporarily stop sending output\n",
      "to the client in order to avoid crashing it.\n",
      "To change this limit, set the config variable\n",
      "`--ServerApp.iopub_msg_rate_limit`.\n",
      "\n",
      "Current values:\n",
      "ServerApp.iopub_msg_rate_limit=1000.0 (msgs/sec)\n",
      "ServerApp.rate_limit_window=3.0 (secs)\n",
      "\n"
     ]
    }
   ],
   "source": [
    "import gensim.downloader as api\n",
    "text8_path = api.load('text8', return_path=True)\n",
    "print(\"Using corpus from\", text8_path)"
   ]
  },
  {
   "cell_type": "markdown",
   "metadata": {},
   "source": [
    "2. Train the Word2Vec model\n",
    "---------------------------\n",
    "\n",
    "For more details, see `sphx_glr_auto_examples_tutorials_run_word2vec.py`.\n",
    "\n"
   ]
  },
  {
   "cell_type": "code",
   "execution_count": 6,
   "metadata": {
    "collapsed": false,
    "jupyter": {
     "outputs_hidden": false
    }
   },
   "outputs": [
    {
     "name": "stdout",
     "output_type": "stream",
     "text": [
      "Using trained model KeyedVectors<vector_size=10, 71290 keys>\n"
     ]
    }
   ],
   "source": [
    "from gensim.models import Word2Vec, KeyedVectors\n",
    "from gensim.models.word2vec import Text8Corpus\n",
    "\n",
    "# Using params from Word2Vec_FastText_Comparison\n",
    "params = {\n",
    "    'alpha': 0.05,\n",
    "    'vector_size': 10,\n",
    "    'window': 5,\n",
    "    'epochs': 1,\n",
    "    'min_count': 5,\n",
    "    'sample': 1e-4,\n",
    "    'sg': 1,\n",
    "    'hs': 0,\n",
    "    'negative': 5,\n",
    "}\n",
    "model = Word2Vec(Text8Corpus(text8_path), **params)\n",
    "wv = model.wv\n",
    "print(\"Using trained model\", wv)"
   ]
  },
  {
   "cell_type": "markdown",
   "metadata": {},
   "source": [
    "3. Construct AnnoyIndex with model & make a similarity query\n",
    "------------------------------------------------------------\n",
    "\n",
    "An instance of ``AnnoyIndexer`` needs to be created in order to use Annoy in Gensim.\n",
    "The ``AnnoyIndexer`` class is located in ``gensim.similarities.annoy``.\n",
    "\n",
    "``AnnoyIndexer()`` takes two parameters:\n",
    "\n",
    "* **model**: A ``Word2Vec`` or ``Doc2Vec`` model.\n",
    "* **num_trees**: A positive integer. ``num_trees`` effects the build\n",
    "  time and the index size. **A larger value will give more accurate results,\n",
    "  but larger indexes**. More information on what trees in Annoy do can be found\n",
    "  `here <https://github.com/spotify/annoy#how-does-it-work>`__. The relationship\n",
    "  between ``num_trees``\\ , build time, and accuracy will be investigated later\n",
    "  in the tutorial.\n",
    "\n",
    "Now that we are ready to make a query, lets find the top 5 most similar words\n",
    "to \"science\" in the Text8 corpus. To make a similarity query we call\n",
    "``Word2Vec.most_similar`` like we would traditionally, but with an added\n",
    "parameter, ``indexer``.\n",
    "\n",
    "Apart from Annoy, Gensim also supports the NMSLIB indexer. NMSLIB is a similar library to\n",
    "Annoy – both support fast, approximate searches for similar vectors.\n",
    "\n",
    "\n"
   ]
  },
  {
   "cell_type": "code",
   "execution_count": 7,
   "metadata": {
    "collapsed": false,
    "jupyter": {
     "outputs_hidden": false
    }
   },
   "outputs": [
    {
     "name": "stdout",
     "output_type": "stream",
     "text": [
      "Approximate Neighbors\n",
      "('science', 1.0)\n",
      "('encyclopedias', 0.9493046387424826)\n",
      "('homeopathy', 0.9436000564751477)\n",
      "('instructional', 0.9433695671435589)\n",
      "('encyclopedic', 0.9433624758893302)\n",
      "('sociobiology', 0.9389025619129541)\n",
      "('studies', 0.9381761482162982)\n",
      "('textbook', 0.9381577342547511)\n",
      "('anthropology', 0.9335159019636148)\n",
      "('aesthetics', 0.9330933073557186)\n",
      "('publications', 0.9258556831492046)\n",
      "\n",
      "Exact Neighbors\n",
      "('science', 1.0)\n",
      "('encyclopedias', 0.9493046998977661)\n",
      "('homeopathy', 0.9436001181602478)\n",
      "('instructional', 0.9433695673942566)\n",
      "('encyclopedic', 0.9433624744415283)\n",
      "('sociobiology', 0.9389025568962097)\n",
      "('studies', 0.9381759762763977)\n",
      "('textbook', 0.9381577372550964)\n",
      "('anthropology', 0.9335159063339233)\n",
      "('aesthetics', 0.9330933094024658)\n",
      "('publications', 0.9258556962013245)\n"
     ]
    }
   ],
   "source": [
    "from gensim.similarities.annoy import AnnoyIndexer\n",
    "\n",
    "# 100 trees are being used in this example\n",
    "annoy_index = AnnoyIndexer(model, 100)\n",
    "# Derive the vector for the word \"science\" in our model\n",
    "vector = wv[\"science\"]\n",
    "# The instance of AnnoyIndexer we just created is passed\n",
    "approximate_neighbors = wv.most_similar([vector], topn=11, indexer=annoy_index)\n",
    "# Neatly print the approximate_neighbors and their corresponding cosine similarity values\n",
    "print(\"Approximate Neighbors\")\n",
    "for neighbor in approximate_neighbors:\n",
    "    print(neighbor)\n",
    "\n",
    "normal_neighbors = wv.most_similar([vector], topn=11)\n",
    "print(\"\\nExact Neighbors\")\n",
    "for neighbor in normal_neighbors:\n",
    "    print(neighbor)"
   ]
  },
  {
   "cell_type": "markdown",
   "metadata": {},
   "source": [
    "The closer the cosine similarity of a vector is to 1, the more similar that\n",
    "word is to our query, which was the vector for \"science\". There are some\n",
    "differences in the ranking of similar words and the set of words included\n",
    "within the 10 most similar words.\n",
    "\n"
   ]
  },
  {
   "cell_type": "markdown",
   "metadata": {},
   "source": [
    "4. Compare to the traditional indexer\n",
    "-------------------------------------\n",
    "\n"
   ]
  },
  {
   "cell_type": "code",
   "execution_count": 8,
   "metadata": {
    "collapsed": false,
    "jupyter": {
     "outputs_hidden": false
    }
   },
   "outputs": [
    {
     "name": "stdout",
     "output_type": "stream",
     "text": [
      "Gensim (s/query):\t0.01285\n",
      "Annoy (s/query):\t0.00110\n",
      "\n",
      "Annoy is 11.65 times faster on average on this particular run\n"
     ]
    }
   ],
   "source": [
    "# Set up the model and vector that we are using in the comparison\n",
    "annoy_index = AnnoyIndexer(model, 100)\n",
    "\n",
    "# Dry run to make sure both indexes are fully in RAM\n",
    "normed_vectors = wv.get_normed_vectors()\n",
    "vector = normed_vectors[0]\n",
    "wv.most_similar([vector], topn=5, indexer=annoy_index)\n",
    "wv.most_similar([vector], topn=5)\n",
    "\n",
    "import time\n",
    "import numpy as np\n",
    "\n",
    "def avg_query_time(annoy_index=None, queries=1000):\n",
    "    \"\"\"Average query time of a most_similar method over 1000 random queries.\"\"\"\n",
    "    total_time = 0\n",
    "    for _ in range(queries):\n",
    "        rand_vec = normed_vectors[np.random.randint(0, len(wv))]\n",
    "        start_time = time.process_time()\n",
    "        wv.most_similar([rand_vec], topn=5, indexer=annoy_index)\n",
    "        total_time += time.process_time() - start_time\n",
    "    return total_time / queries\n",
    "\n",
    "queries = 1000\n",
    "\n",
    "gensim_time = avg_query_time(queries=queries)\n",
    "annoy_time = avg_query_time(annoy_index, queries=queries)\n",
    "print(\"Gensim (s/query):\\t{0:.5f}\".format(gensim_time))\n",
    "print(\"Annoy (s/query):\\t{0:.5f}\".format(annoy_time))\n",
    "speed_improvement = gensim_time / annoy_time\n",
    "print (\"\\nAnnoy is {0:.2f} times faster on average on this particular run\".format(speed_improvement))"
   ]
  },
  {
   "cell_type": "markdown",
   "metadata": {},
   "source": [
    "**This speedup factor is by no means constant** and will vary greatly from\n",
    "run to run and is particular to this data set, BLAS setup, Annoy\n",
    "parameters(as tree size increases speedup factor decreases), machine\n",
    "specifications, among other factors.\n",
    "\n",
    ".. Important::\n",
    "   Initialization time for the annoy indexer was not included in the times.\n",
    "   The optimal knn algorithm for you to use will depend on how many queries\n",
    "   you need to make and the size of the corpus. If you are making very few\n",
    "   similarity queries, the time taken to initialize the annoy indexer will be\n",
    "   longer than the time it would take the brute force method to retrieve\n",
    "   results. If you are making many queries however, the time it takes to\n",
    "   initialize the annoy indexer will be made up for by the incredibly fast\n",
    "   retrieval times for queries once the indexer has been initialized\n",
    "\n",
    ".. Important::\n",
    "   Gensim's 'most_similar' method is using numpy operations in the form of\n",
    "   dot product whereas Annoy's method isnt. If 'numpy' on your machine is\n",
    "   using one of the BLAS libraries like ATLAS or LAPACK, it'll run on\n",
    "   multiple cores (only if your machine has multicore support ). Check `SciPy\n",
    "   Cookbook\n",
    "   <http://scipy-cookbook.readthedocs.io/items/ParallelProgramming.html>`_\n",
    "   for more details.\n",
    "\n",
    "\n"
   ]
  },
  {
   "cell_type": "markdown",
   "metadata": {},
   "source": [
    "5. Persisting indices to disk\n",
    "-----------------------------\n",
    "\n",
    "You can save and load your indexes from/to disk to prevent having to\n",
    "construct them each time. This will create two files on disk, *fname* and\n",
    "*fname.d*. Both files are needed to correctly restore all attributes. Before\n",
    "loading an index, you will have to create an empty AnnoyIndexer object.\n",
    "\n",
    "\n"
   ]
  },
  {
   "cell_type": "code",
   "execution_count": 17,
   "metadata": {},
   "outputs": [],
   "source": [
    "# class W2VWrapper():\n",
    "#     def __init__():\n",
    "#         pass\n",
    "    \n",
    "#     def save_model():\n",
    "#         pass\n",
    "    \n",
    "#     def load_model():\n",
    "#         pass\n",
    "    \n",
    "#     def most_similar():\n",
    "#         pass\n",
    "    "
   ]
  },
  {
   "cell_type": "code",
   "execution_count": 9,
   "metadata": {
    "collapsed": false,
    "jupyter": {
     "outputs_hidden": false
    }
   },
   "outputs": [
    {
     "name": "stdout",
     "output_type": "stream",
     "text": [
      "('science', 1.0)\n",
      "('encyclopedias', 0.9493046387424826)\n",
      "('homeopathy', 0.9436000564751477)\n",
      "('instructional', 0.9433695671435589)\n",
      "('encyclopedic', 0.9433624758893302)\n",
      "('sociobiology', 0.9389025619129541)\n",
      "('studies', 0.9381761482162982)\n",
      "('textbook', 0.9381577342547511)\n",
      "('anthropology', 0.9335159019636148)\n",
      "('aesthetics', 0.9330933073557186)\n",
      "('publications', 0.9258556831492046)\n"
     ]
    }
   ],
   "source": [
    "fname = '/tmp/mymodel.index'\n",
    "\n",
    "# Persist index to disk\n",
    "annoy_index.save(fname)\n",
    "\n",
    "# Load index back\n",
    "import os.path\n",
    "if os.path.exists(fname):\n",
    "    annoy_index2 = AnnoyIndexer()\n",
    "    annoy_index2.load(fname)\n",
    "    annoy_index2.model = model\n",
    "\n",
    "# Results should be identical to above\n",
    "vector = wv[\"science\"]\n",
    "approximate_neighbors2 = wv.most_similar([vector], topn=11, indexer=annoy_index2)\n",
    "for neighbor in approximate_neighbors2:\n",
    "    print(neighbor)\n",
    "\n",
    "assert approximate_neighbors == approximate_neighbors2"
   ]
  },
  {
   "cell_type": "markdown",
   "metadata": {},
   "source": [
    "Be sure to use the same model at load that was used originally, otherwise you\n",
    "will get unexpected behaviors.\n",
    "\n",
    "\n"
   ]
  },
  {
   "cell_type": "markdown",
   "metadata": {},
   "source": [
    "6. Save memory via memory-mapping indexes saved to disk\n",
    "-------------------------------------------------------\n",
    "\n",
    "Annoy library has a useful feature that indices can be memory-mapped from\n",
    "disk. It saves memory when the same index is used by several processes.\n",
    "\n",
    "Below are two snippets of code. First one has a separate index for each\n",
    "process. The second snipped shares the index between two processes via\n",
    "memory-mapping. The second example uses less total RAM as it is shared.\n",
    "\n",
    "\n"
   ]
  },
  {
   "cell_type": "code",
   "execution_count": 10,
   "metadata": {
    "collapsed": false,
    "jupyter": {
     "outputs_hidden": false
    }
   },
   "outputs": [],
   "source": [
    "# Remove verbosity from code below (if logging active)\n",
    "if LOGS:\n",
    "    logging.disable(logging.CRITICAL)\n",
    "\n",
    "from multiprocessing import Process\n",
    "import os\n",
    "import psutil"
   ]
  },
  {
   "cell_type": "markdown",
   "metadata": {},
   "source": [
    "Bad example: two processes load the Word2vec model from disk and create their\n",
    "own Annoy index from that model.\n",
    "\n",
    "\n"
   ]
  },
  {
   "cell_type": "code",
   "execution_count": 11,
   "metadata": {
    "collapsed": false,
    "jupyter": {
     "outputs_hidden": false
    }
   },
   "outputs": [
    {
     "name": "stdout",
     "output_type": "stream",
     "text": [
      "Process Id: 12756\n",
      "\n",
      "Memory used by process 12756: pmem(rss=493502464, vms=2698186752, shared=11108352, text=2318336, lib=0, data=1009573888, dirty=0)\n",
      "---\n",
      "Process Id: 12773\n",
      "\n",
      "Memory used by process 12773: pmem(rss=492593152, vms=2698186752, shared=10940416, text=2318336, lib=0, data=1009614848, dirty=0)\n",
      "---\n"
     ]
    }
   ],
   "source": [
    "model.save('/tmp/mymodel.pkl')\n",
    "\n",
    "def f(process_id):\n",
    "    print('Process Id: {}'.format(os.getpid()))\n",
    "    process = psutil.Process(os.getpid())\n",
    "    new_model = Word2Vec.load('/tmp/mymodel.pkl')\n",
    "    vector = new_model.wv[\"science\"]\n",
    "    annoy_index = AnnoyIndexer(new_model, 100)\n",
    "    approximate_neighbors = new_model.wv.most_similar([vector], topn=5, indexer=annoy_index)\n",
    "    print('\\nMemory used by process {}: {}\\n---'.format(os.getpid(), process.memory_info()))\n",
    "\n",
    "# Create and run two parallel processes to share the same index file.\n",
    "p1 = Process(target=f, args=('1',))\n",
    "p1.start()\n",
    "p1.join()\n",
    "p2 = Process(target=f, args=('2',))\n",
    "p2.start()\n",
    "p2.join()"
   ]
  },
  {
   "cell_type": "markdown",
   "metadata": {},
   "source": [
    "Good example: two processes load both the Word2vec model and index from disk\n",
    "and memory-map the index.\n",
    "\n",
    "\n"
   ]
  },
  {
   "cell_type": "code",
   "execution_count": 12,
   "metadata": {
    "collapsed": false,
    "jupyter": {
     "outputs_hidden": false
    }
   },
   "outputs": [
    {
     "name": "stdout",
     "output_type": "stream",
     "text": [
      "Process Id: 12795\n",
      "\n",
      "Memory used by process 12795: pmem(rss=340615168, vms=2657857536, shared=31666176, text=2318336, lib=0, data=832794624, dirty=0)\n",
      "---\n",
      "Process Id: 12804\n",
      "\n",
      "Memory used by process 12804: pmem(rss=340881408, vms=2657857536, shared=31928320, text=2318336, lib=0, data=832794624, dirty=0)\n",
      "---\n"
     ]
    }
   ],
   "source": [
    "model.save('/tmp/mymodel.pkl')\n",
    "\n",
    "def f(process_id):\n",
    "    print('Process Id: {}'.format(os.getpid()))\n",
    "    process = psutil.Process(os.getpid())\n",
    "    new_model = Word2Vec.load('/tmp/mymodel.pkl')\n",
    "    vector = new_model.wv[\"science\"]\n",
    "    annoy_index = AnnoyIndexer()\n",
    "    annoy_index.load('/tmp/mymodel.index')\n",
    "    annoy_index.model = new_model\n",
    "    approximate_neighbors = new_model.wv.most_similar([vector], topn=5, indexer=annoy_index)\n",
    "    print('\\nMemory used by process {}: {}\\n---'.format(os.getpid(), process.memory_info()))\n",
    "\n",
    "# Creating and running two parallel process to share the same index file.\n",
    "p1 = Process(target=f, args=('1',))\n",
    "p1.start()\n",
    "p1.join()\n",
    "p2 = Process(target=f, args=('2',))\n",
    "p2.start()\n",
    "p2.join()"
   ]
  },
  {
   "cell_type": "markdown",
   "metadata": {},
   "source": [
    "7. Evaluate relationship of ``num_trees`` to initialization time and accuracy\n",
    "-----------------------------------------------------------------------------\n",
    "\n",
    "\n"
   ]
  },
  {
   "cell_type": "code",
   "execution_count": 13,
   "metadata": {
    "collapsed": false,
    "jupyter": {
     "outputs_hidden": false
    }
   },
   "outputs": [],
   "source": [
    "import matplotlib.pyplot as plt"
   ]
  },
  {
   "cell_type": "markdown",
   "metadata": {},
   "source": [
    "Build dataset of initialization times and accuracy measures:\n",
    "\n",
    "\n"
   ]
  },
  {
   "cell_type": "code",
   "execution_count": 14,
   "metadata": {
    "collapsed": false,
    "jupyter": {
     "outputs_hidden": false
    }
   },
   "outputs": [],
   "source": [
    "exact_results = [element[0] for element in wv.most_similar([normed_vectors[0]], topn=100)]\n",
    "\n",
    "x_values = []\n",
    "y_values_init = []\n",
    "y_values_accuracy = []\n",
    "\n",
    "for x in range(1, 300, 10):\n",
    "    x_values.append(x)\n",
    "    start_time = time.time()\n",
    "    annoy_index = AnnoyIndexer(model, x)\n",
    "    y_values_init.append(time.time() - start_time)\n",
    "    approximate_results = wv.most_similar([normed_vectors[0]], topn=100, indexer=annoy_index)\n",
    "    top_words = [result[0] for result in approximate_results]\n",
    "    y_values_accuracy.append(len(set(top_words).intersection(exact_results)))"
   ]
  },
  {
   "cell_type": "markdown",
   "metadata": {},
   "source": [
    "Plot results:\n",
    "\n"
   ]
  },
  {
   "cell_type": "code",
   "execution_count": 15,
   "metadata": {
    "collapsed": false,
    "jupyter": {
     "outputs_hidden": false
    }
   },
   "outputs": [
    {
     "data": {
      "image/png": "[encoded data removed]",
      "text/plain": [
       "<Figure size 1200x600 with 2 Axes>"
      ]
     },
     "metadata": {},
     "output_type": "display_data"
    }
   ],
   "source": [
    "plt.figure(1, figsize=(12, 6))\n",
    "plt.subplot(121)\n",
    "plt.plot(x_values, y_values_init)\n",
    "plt.title(\"num_trees vs initalization time\")\n",
    "plt.ylabel(\"Initialization time (s)\")\n",
    "plt.xlabel(\"num_trees\")\n",
    "plt.subplot(122)\n",
    "plt.plot(x_values, y_values_accuracy)\n",
    "plt.title(\"num_trees vs accuracy\")\n",
    "plt.ylabel(\"%% accuracy\")\n",
    "plt.xlabel(\"num_trees\")\n",
    "plt.tight_layout()\n",
    "plt.show()"
   ]
  },
  {
   "cell_type": "markdown",
   "metadata": {},
   "source": [
    "From the above, we can see that the initialization time of the annoy indexer\n",
    "increases in a linear fashion with num_trees. Initialization time will vary\n",
    "from corpus to corpus. In the graph above we used the (tiny) Lee corpus.\n",
    "\n",
    "Furthermore, in this dataset, the accuracy seems logarithmically related to\n",
    "the number of trees. We see an improvement in accuracy with more trees, but\n",
    "the relationship is nonlinear.\n",
    "\n",
    "\n"
   ]
  },
  {
   "cell_type": "markdown",
   "metadata": {},
   "source": [
    "7. Work with Google's word2vec files\n",
    "------------------------------------\n",
    "\n",
    "Our model can be exported to a word2vec C format. There is a binary and a\n",
    "plain text word2vec format. Both can be read with a variety of other\n",
    "software, or imported back into Gensim as a ``KeyedVectors`` object.\n",
    "\n",
    "\n"
   ]
  },
  {
   "cell_type": "code",
   "execution_count": 16,
   "metadata": {
    "collapsed": false,
    "jupyter": {
     "outputs_hidden": false
    }
   },
   "outputs": [
    {
     "name": "stdout",
     "output_type": "stream",
     "text": [
      "71290 10\n",
      "the 0.53598684 0.36340615 -0.2713103 -0.32252476 0.2538079 0.26204574 0.7518833 0.2554594 -0.6491716 -0.24449104\n",
      "of 0.36448509 0.26489878 -0.43712926 -0.122406214 0.4641894 0.33932003 0.6032263 0.16144615 -0.6762664 -0.223309\n",
      "Approximate Neighbors\n",
      "('cat', 1.0)\n",
      "('bee', 0.9708644759948556)\n",
      "('ness', 0.9625771019232161)\n",
      "('eyed', 0.9553386562991975)\n",
      "('monkey', 0.9462012030762454)\n",
      "('rabbit', 0.9356936183656503)\n",
      "('ox', 0.9325055466598928)\n",
      "('dog', 0.9272012762155941)\n",
      "('unicorn', 0.9269464516816868)\n",
      "('bird', 0.9252322332694121)\n",
      "('frog', 0.9212220891497775)\n",
      "\n",
      "Exact Neighbors\n",
      "('cat', 0.9999999403953552)\n",
      "('bee', 0.970864474773407)\n",
      "('ness', 0.9625771045684814)\n",
      "('eyed', 0.9553385972976685)\n",
      "('monkey', 0.9462011456489563)\n",
      "('rabbit', 0.935693621635437)\n",
      "('ox', 0.9325056076049805)\n",
      "('dog', 0.9272012114524841)\n",
      "('unicorn', 0.9269462823867798)\n",
      "('bird', 0.9252322316169739)\n",
      "('frog', 0.9212221503257751)\n"
     ]
    }
   ],
   "source": [
    "# To export our model as text\n",
    "wv.save_word2vec_format('/tmp/vectors.txt', binary=False)\n",
    "\n",
    "from smart_open import open\n",
    "# View the first 3 lines of the exported file\n",
    "# The first line has the total number of entries and the vector dimension count.\n",
    "# The next lines have a key (a string) followed by its vector.\n",
    "with open('/tmp/vectors.txt', encoding='utf8') as myfile:\n",
    "    for i in range(3):\n",
    "        print(myfile.readline().strip())\n",
    "\n",
    "# To import a word2vec text model\n",
    "wv = KeyedVectors.load_word2vec_format('/tmp/vectors.txt', binary=False)\n",
    "\n",
    "# To export a model as binary\n",
    "wv.save_word2vec_format('/tmp/vectors.bin', binary=True)\n",
    "\n",
    "# To import a word2vec binary model\n",
    "wv = KeyedVectors.load_word2vec_format('/tmp/vectors.bin', binary=True)\n",
    "\n",
    "# To create and save Annoy Index from a loaded `KeyedVectors` object (with 100 trees)\n",
    "annoy_index = AnnoyIndexer(wv, 100)\n",
    "annoy_index.save('/tmp/mymodel.index')\n",
    "\n",
    "# Load and test the saved word vectors and saved Annoy index\n",
    "wv = KeyedVectors.load_word2vec_format('/tmp/vectors.bin', binary=True)\n",
    "annoy_index = AnnoyIndexer()\n",
    "annoy_index.load('/tmp/mymodel.index')\n",
    "annoy_index.model = wv\n",
    "\n",
    "vector = wv[\"cat\"]\n",
    "approximate_neighbors = wv.most_similar([vector], topn=11, indexer=annoy_index)\n",
    "# Neatly print the approximate_neighbors and their corresponding cosine similarity values\n",
    "print(\"Approximate Neighbors\")\n",
    "for neighbor in approximate_neighbors:\n",
    "    print(neighbor)\n",
    "\n",
    "normal_neighbors = wv.most_similar([vector], topn=11)\n",
    "print(\"\\nExact Neighbors\")\n",
    "for neighbor in normal_neighbors:\n",
    "    print(neighbor)"
   ]
  },
  {
   "cell_type": "markdown",
   "metadata": {},
   "source": [
    "Recap\n",
    "-----\n",
    "\n",
    "In this notebook we used the Annoy module to build an indexed approximation\n",
    "of our word embeddings. To do so, we did the following steps:\n",
    "\n",
    "1. Download Text8 Corpus\n",
    "2. Train Word2Vec Model\n",
    "3. Construct AnnoyIndex with model & make a similarity query\n",
    "4. Persist indices to disk\n",
    "5. Save memory by via memory-mapping indices saved to disk\n",
    "6. Evaluate relationship of ``num_trees`` to initialization time and accuracy\n",
    "7. Work with Google's word2vec C formats\n",
    "\n",
    "\n"
   ]
  },
  {
   "cell_type": "code",
   "execution_count": null,
   "metadata": {},
   "outputs": [],
   "source": []
  },
  {
   "cell_type": "code",
   "execution_count": null,
   "metadata": {},
   "outputs": [],
   "source": []
  },
  {
   "cell_type": "code",
   "execution_count": null,
   "metadata": {},
   "outputs": [],
   "source": []
  }
 ],
 "metadata": {
  "environment": {
   "kernel": "kdd_2023",
   "name": "common-cu110.m104",
   "type": "gcloud",
   "uri": "gcr.io/deeplearning-platform-release/base-cu110:m104"
  },
  "kernelspec": {
   "display_name": "py3.8(kdd_2023)",
   "language": "python",
   "name": "kdd_2023"
  },
  "language_info": {
   "codemirror_mode": {
    "name": "ipython",
    "version": 3
   },
   "file_extension": ".py",
   "mimetype": "text/x-python",
   "name": "python",
   "nbconvert_exporter": "python",
   "pygments_lexer": "ipython3",
   "version": "3.8.16"
  }
 },
 "nbformat": 4,
 "nbformat_minor": 4
}
