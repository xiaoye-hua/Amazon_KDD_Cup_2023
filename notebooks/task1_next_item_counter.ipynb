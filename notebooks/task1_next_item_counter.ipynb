{
 "cells": [
  {
   "cell_type": "markdown",
   "metadata": {},
   "source": [
    " "
   ]
  },
  {
   "cell_type": "markdown",
   "metadata": {},
   "source": [
    "# Package "
   ]
  },
  {
   "cell_type": "code",
   "execution_count": null,
   "metadata": {},
   "outputs": [],
   "source": [
    "%load_ext autoreload\n",
    "%autoreload 2\n",
    "import sys\n",
    "import logging\n",
    "sys.path.append('../')\n",
    "import os\n",
    "import warnings\n",
    "warnings.simplefilter('ignore')\n",
    "\n",
    "import pickle\n",
    "import gc\n",
    "import re\n",
    "from collections import defaultdict, Counter\n",
    "\n",
    "import numpy as np\n",
    "import pandas as pd\n",
    "pd.set_option('display.max_columns', None)\n",
    "from tqdm.auto import tqdm\n",
    "import polars as pl\n",
    "\n",
    "from src.eval import get_recall_at_k, pd_get_recall_at_k\n",
    "from utils import *"
   ]
  },
  {
   "cell_type": "code",
   "execution_count": 1,
   "metadata": {},
   "outputs": [],
   "source": [
    "# df_prod = pd.read_csv('data/products_train.csv')\n",
    "# df_prod"
   ]
  },
  {
   "cell_type": "markdown",
   "metadata": {
    "tags": []
   },
   "source": [
    "# Config "
   ]
  },
  {
   "cell_type": "code",
   "execution_count": 4,
   "metadata": {},
   "outputs": [],
   "source": [
    "debug = False\n",
    "model_for_eval = True\n",
    "\n",
    "model_version = 'next_item_counter'\n",
    "\n",
    "\n",
    "debug_session_num = 100\n",
    "train_data_dir = '.'\n",
    "test_data_dir = '.'\n",
    "task = 'task1'\n",
    "\n",
    "model_dir = f'../model_training/{model_version}/'\n",
    "\n",
    "# target locales: locales needed for task1\n",
    "target_locals = [\"DE\", 'JP', 'UK']\n",
    "\n",
    "\n",
    "submit_file = f'submission_{task}_next_item_counter.parquet'\n",
    "\n",
    "if model_for_eval:\n",
    "    model_file = os.path.join(model_dir, 'model_for_eval.pkl')\n",
    "else:\n",
    "    model_file = os.path.join(model_dir, 'model.pkl')"
   ]
  },
  {
   "cell_type": "code",
   "execution_count": 5,
   "metadata": {},
   "outputs": [
    {
     "name": "stdout",
     "output_type": "stream",
     "text": [
      "mkdir: cannot create directory ‘../model_training/next_item_counter/’: File exists\n"
     ]
    }
   ],
   "source": [
    "! mkdir {model_dir}"
   ]
  },
  {
   "cell_type": "code",
   "execution_count": 6,
   "metadata": {},
   "outputs": [
    {
     "data": {
      "text/plain": [
       "'../model_training/next_item_counter/model_for_eval.pkl'"
      ]
     },
     "execution_count": 6,
     "metadata": {},
     "output_type": "execute_result"
    }
   ],
   "source": [
    "model_file"
   ]
  },
  {
   "cell_type": "markdown",
   "metadata": {},
   "source": [
    "# Function "
   ]
  },
  {
   "cell_type": "code",
   "execution_count": 7,
   "metadata": {},
   "outputs": [],
   "source": [
    "def str2list(x):\n",
    "    x = x.replace('[', '').replace(']', '').replace(\"'\", '').replace('\\n', ' ').replace('\\r', ' ')\n",
    "    l = [i for i in x.split() if i]\n",
    "    return l"
   ]
  },
  {
   "cell_type": "markdown",
   "metadata": {},
   "source": [
    "# Data "
   ]
  },
  {
   "cell_type": "code",
   "execution_count": 8,
   "metadata": {},
   "outputs": [
    {
     "data": {
      "text/html": [
       "<div>\n",
       "<style scoped>\n",
       "    .dataframe tbody tr th:only-of-type {\n",
       "        vertical-align: middle;\n",
       "    }\n",
       "\n",
       "    .dataframe tbody tr th {\n",
       "        vertical-align: top;\n",
       "    }\n",
       "\n",
       "    .dataframe thead th {\n",
       "        text-align: right;\n",
       "    }\n",
       "</style>\n",
       "<table border=\"1\" class=\"dataframe\">\n",
       "  <thead>\n",
       "    <tr style=\"text-align: right;\">\n",
       "      <th></th>\n",
       "      <th>prev_items</th>\n",
       "      <th>next_item</th>\n",
       "      <th>locale</th>\n",
       "    </tr>\n",
       "  </thead>\n",
       "  <tbody>\n",
       "    <tr>\n",
       "      <th>0</th>\n",
       "      <td>['B09W9FND7K' 'B09JSPLN1M']</td>\n",
       "      <td>B09M7GY217</td>\n",
       "      <td>DE</td>\n",
       "    </tr>\n",
       "    <tr>\n",
       "      <th>1</th>\n",
       "      <td>['B076THCGSG' 'B007MO8IME' 'B08MF65MLV' 'B001B...</td>\n",
       "      <td>B001B4THSA</td>\n",
       "      <td>DE</td>\n",
       "    </tr>\n",
       "    <tr>\n",
       "      <th>2</th>\n",
       "      <td>['B0B1LGXWDS' 'B00AZYORS2' 'B0B1LGXWDS' 'B00AZ...</td>\n",
       "      <td>B0767DTG2Q</td>\n",
       "      <td>DE</td>\n",
       "    </tr>\n",
       "    <tr>\n",
       "      <th>3</th>\n",
       "      <td>['B09XMTWDVT' 'B0B4MZZ8MB' 'B0B7HZ2GWX' 'B09XM...</td>\n",
       "      <td>B0B4R9NN4B</td>\n",
       "      <td>DE</td>\n",
       "    </tr>\n",
       "    <tr>\n",
       "      <th>4</th>\n",
       "      <td>['B09Y5CSL3T' 'B09Y5DPTXN' 'B09FKD61R8']</td>\n",
       "      <td>B0BGVBKWGZ</td>\n",
       "      <td>DE</td>\n",
       "    </tr>\n",
       "    <tr>\n",
       "      <th>...</th>\n",
       "      <td>...</td>\n",
       "      <td>...</td>\n",
       "      <td>...</td>\n",
       "    </tr>\n",
       "    <tr>\n",
       "      <th>3606244</th>\n",
       "      <td>['B086CYFSKW' 'B0874F9859' 'B086CYFSKW']</td>\n",
       "      <td>B07B5TYD76</td>\n",
       "      <td>IT</td>\n",
       "    </tr>\n",
       "    <tr>\n",
       "      <th>3606245</th>\n",
       "      <td>['B09NRZKZ7V' 'B08WJTPV93']</td>\n",
       "      <td>B08L1P4C3D</td>\n",
       "      <td>IT</td>\n",
       "    </tr>\n",
       "    <tr>\n",
       "      <th>3606246</th>\n",
       "      <td>['B085JFX7MP' 'B085JGHW8R']</td>\n",
       "      <td>B01MPWVD44</td>\n",
       "      <td>IT</td>\n",
       "    </tr>\n",
       "    <tr>\n",
       "      <th>3606247</th>\n",
       "      <td>['B00B0UING2' 'B00B0UING2']</td>\n",
       "      <td>B00D3HYEZ4</td>\n",
       "      <td>IT</td>\n",
       "    </tr>\n",
       "    <tr>\n",
       "      <th>3606248</th>\n",
       "      <td>['B092S9D1SD' 'B09XQQ1S72' 'B0852MS7QC' 'B0B1V...</td>\n",
       "      <td>B0B7RX65YP</td>\n",
       "      <td>IT</td>\n",
       "    </tr>\n",
       "  </tbody>\n",
       "</table>\n",
       "<p>3606249 rows × 3 columns</p>\n",
       "</div>"
      ],
      "text/plain": [
       "                                                prev_items   next_item locale\n",
       "0                              ['B09W9FND7K' 'B09JSPLN1M']  B09M7GY217     DE\n",
       "1        ['B076THCGSG' 'B007MO8IME' 'B08MF65MLV' 'B001B...  B001B4THSA     DE\n",
       "2        ['B0B1LGXWDS' 'B00AZYORS2' 'B0B1LGXWDS' 'B00AZ...  B0767DTG2Q     DE\n",
       "3        ['B09XMTWDVT' 'B0B4MZZ8MB' 'B0B7HZ2GWX' 'B09XM...  B0B4R9NN4B     DE\n",
       "4                 ['B09Y5CSL3T' 'B09Y5DPTXN' 'B09FKD61R8']  B0BGVBKWGZ     DE\n",
       "...                                                    ...         ...    ...\n",
       "3606244           ['B086CYFSKW' 'B0874F9859' 'B086CYFSKW']  B07B5TYD76     IT\n",
       "3606245                        ['B09NRZKZ7V' 'B08WJTPV93']  B08L1P4C3D     IT\n",
       "3606246                        ['B085JFX7MP' 'B085JGHW8R']  B01MPWVD44     IT\n",
       "3606247                        ['B00B0UING2' 'B00B0UING2']  B00D3HYEZ4     IT\n",
       "3606248  ['B092S9D1SD' 'B09XQQ1S72' 'B0852MS7QC' 'B0B1V...  B0B7RX65YP     IT\n",
       "\n",
       "[3606249 rows x 3 columns]"
      ]
     },
     "execution_count": 8,
     "metadata": {},
     "output_type": "execute_result"
    }
   ],
   "source": [
    "df_sess = pd.read_csv('sessions_train.csv')\n",
    "df_sess"
   ]
  },
  {
   "cell_type": "code",
   "execution_count": 9,
   "metadata": {},
   "outputs": [
    {
     "data": {
      "text/html": [
       "<div>\n",
       "<style scoped>\n",
       "    .dataframe tbody tr th:only-of-type {\n",
       "        vertical-align: middle;\n",
       "    }\n",
       "\n",
       "    .dataframe tbody tr th {\n",
       "        vertical-align: top;\n",
       "    }\n",
       "\n",
       "    .dataframe thead th {\n",
       "        text-align: right;\n",
       "    }\n",
       "</style>\n",
       "<table border=\"1\" class=\"dataframe\">\n",
       "  <thead>\n",
       "    <tr style=\"text-align: right;\">\n",
       "      <th></th>\n",
       "      <th>prev_items</th>\n",
       "      <th>locale</th>\n",
       "    </tr>\n",
       "  </thead>\n",
       "  <tbody>\n",
       "    <tr>\n",
       "      <th>0</th>\n",
       "      <td>['B08V12CT4C' 'B08V1KXBQD' 'B01BVG1XJS' 'B09VC...</td>\n",
       "      <td>DE</td>\n",
       "    </tr>\n",
       "    <tr>\n",
       "      <th>1</th>\n",
       "      <td>['B00R9R5ND6' 'B00R9RZ9ZS' 'B00R9RZ9ZS']</td>\n",
       "      <td>DE</td>\n",
       "    </tr>\n",
       "    <tr>\n",
       "      <th>2</th>\n",
       "      <td>['B07YSRXJD3' 'B07G7Q5N6G' 'B08C9Q7QVK' 'B07G7...</td>\n",
       "      <td>DE</td>\n",
       "    </tr>\n",
       "    <tr>\n",
       "      <th>3</th>\n",
       "      <td>['B08KQBYV43' '3955350843' '3955350843' '39553...</td>\n",
       "      <td>DE</td>\n",
       "    </tr>\n",
       "    <tr>\n",
       "      <th>4</th>\n",
       "      <td>['B09FPTCWMC' 'B09FPTQP68' 'B08HMRY8NG' 'B08TB...</td>\n",
       "      <td>DE</td>\n",
       "    </tr>\n",
       "    <tr>\n",
       "      <th>...</th>\n",
       "      <td>...</td>\n",
       "      <td>...</td>\n",
       "    </tr>\n",
       "    <tr>\n",
       "      <th>316966</th>\n",
       "      <td>['B077SZ2C3Y' 'B0B14M3VZX']</td>\n",
       "      <td>UK</td>\n",
       "    </tr>\n",
       "    <tr>\n",
       "      <th>316967</th>\n",
       "      <td>['B08KFHDPY9' 'B0851KTSRZ' 'B08KFHDPY9' 'B0851...</td>\n",
       "      <td>UK</td>\n",
       "    </tr>\n",
       "    <tr>\n",
       "      <th>316968</th>\n",
       "      <td>['B07PY1N81F' 'B07Q1Z8SQN' 'B07PY1N81F' 'B07Q1...</td>\n",
       "      <td>UK</td>\n",
       "    </tr>\n",
       "    <tr>\n",
       "      <th>316969</th>\n",
       "      <td>['B01MCQMORK' 'B09JYZ325W']</td>\n",
       "      <td>UK</td>\n",
       "    </tr>\n",
       "    <tr>\n",
       "      <th>316970</th>\n",
       "      <td>['B0B8JX92YJ' 'B09TN4MP6V' 'B0BG2LZQSL']</td>\n",
       "      <td>UK</td>\n",
       "    </tr>\n",
       "  </tbody>\n",
       "</table>\n",
       "<p>316971 rows × 2 columns</p>\n",
       "</div>"
      ],
      "text/plain": [
       "                                               prev_items locale\n",
       "0       ['B08V12CT4C' 'B08V1KXBQD' 'B01BVG1XJS' 'B09VC...     DE\n",
       "1                ['B00R9R5ND6' 'B00R9RZ9ZS' 'B00R9RZ9ZS']     DE\n",
       "2       ['B07YSRXJD3' 'B07G7Q5N6G' 'B08C9Q7QVK' 'B07G7...     DE\n",
       "3       ['B08KQBYV43' '3955350843' '3955350843' '39553...     DE\n",
       "4       ['B09FPTCWMC' 'B09FPTQP68' 'B08HMRY8NG' 'B08TB...     DE\n",
       "...                                                   ...    ...\n",
       "316966                        ['B077SZ2C3Y' 'B0B14M3VZX']     UK\n",
       "316967  ['B08KFHDPY9' 'B0851KTSRZ' 'B08KFHDPY9' 'B0851...     UK\n",
       "316968  ['B07PY1N81F' 'B07Q1Z8SQN' 'B07PY1N81F' 'B07Q1...     UK\n",
       "316969                        ['B01MCQMORK' 'B09JYZ325W']     UK\n",
       "316970           ['B0B8JX92YJ' 'B09TN4MP6V' 'B0BG2LZQSL']     UK\n",
       "\n",
       "[316971 rows x 2 columns]"
      ]
     },
     "execution_count": 9,
     "metadata": {},
     "output_type": "execute_result"
    }
   ],
   "source": [
    "df_test = pd.read_csv('sessions_test_task1.csv')\n",
    "df_test"
   ]
  },
  {
   "cell_type": "code",
   "execution_count": 86,
   "metadata": {},
   "outputs": [],
   "source": [
    "df_sess = df_sess[df_sess['locale'].isin(target_locals)]\n",
    "\n",
    "if debug:\n",
    "    df_sess = df_sess.sample(debug_session_num)\n",
    "    df_test = df_test.sample(debug_session_num)"
   ]
  },
  {
   "cell_type": "code",
   "execution_count": null,
   "metadata": {},
   "outputs": [],
   "source": []
  },
  {
   "cell_type": "code",
   "execution_count": 87,
   "metadata": {},
   "outputs": [
    {
     "data": {
      "text/plain": [
       "(3272716, 3)"
      ]
     },
     "execution_count": 87,
     "metadata": {},
     "output_type": "execute_result"
    }
   ],
   "source": [
    "df_sess.shape"
   ]
  },
  {
   "cell_type": "markdown",
   "metadata": {},
   "source": [
    "# Next Item Statistics "
   ]
  },
  {
   "cell_type": "code",
   "execution_count": 30,
   "metadata": {},
   "outputs": [
    {
     "data": {
      "application/vnd.jupyter.widget-view+json": {
       "model_id": "a9ac0f9741b746998db07642e141fb68",
       "version_major": 2,
       "version_minor": 0
      },
      "text/plain": [
       "  0%|          | 0/100 [00:00<?, ?it/s]"
      ]
     },
     "metadata": {},
     "output_type": "display_data"
    }
   ],
   "source": [
    "next_item_dict = defaultdict(list)\n",
    "\n",
    "for _, row in tqdm(df_sess.iterrows(), total=len(df_sess)):\n",
    "    prev_items = str2list(row['prev_items'])\n",
    "    if not model_for_eval:\n",
    "        next_item = row['next_item']\n",
    "    prev_items_length = len(prev_items)\n",
    "    if prev_items_length <= 1:\n",
    "        if not model_for_eval:\n",
    "            next_item_dict[prev_items[0]].append(next_item)\n",
    "    else:\n",
    "        for i, item in enumerate(prev_items[:-1]):\n",
    "            next_item_dict[item].append(prev_items[i+1])\n",
    "        if not model_for_eval:\n",
    "            next_item_dict[prev_items[-1]].append(next_item)"
   ]
  },
  {
   "cell_type": "code",
   "execution_count": 32,
   "metadata": {},
   "outputs": [],
   "source": [
    "# next_item_dict"
   ]
  },
  {
   "cell_type": "code",
   "execution_count": 33,
   "metadata": {},
   "outputs": [
    {
     "data": {
      "application/vnd.jupyter.widget-view+json": {
       "model_id": "1de1e3f8fe0e42819dfb9eb5abeea2a2",
       "version_major": 2,
       "version_minor": 0
      },
      "text/plain": [
       "  0%|          | 0/100 [00:00<?, ?it/s]"
      ]
     },
     "metadata": {},
     "output_type": "display_data"
    }
   ],
   "source": [
    "for _, row in tqdm(df_test.iterrows(), total=len(df_test)):\n",
    "    prev_items = str2list(row['prev_items'])\n",
    "    prev_items_length = len(prev_items)\n",
    "    if prev_items_length <= 1:\n",
    "        continue\n",
    "    else:\n",
    "        for i, item in enumerate(prev_items[:-1]):\n",
    "            next_item_dict[item].append(prev_items[i+1])"
   ]
  },
  {
   "cell_type": "code",
   "execution_count": 72,
   "metadata": {},
   "outputs": [
    {
     "data": {
      "application/vnd.jupyter.widget-view+json": {
       "model_id": "62f56d770702410ead3321f3af875673",
       "version_major": 2,
       "version_minor": 0
      },
      "text/plain": [
       "  0%|          | 0/487 [00:00<?, ?it/s]"
      ]
     },
     "metadata": {},
     "output_type": "display_data"
    }
   ],
   "source": [
    "next_item_map = {}\n",
    "topn = 100\n",
    "for item in tqdm(next_item_dict):\n",
    "    counter = Counter(next_item_dict[item])\n",
    "    most_common_cnt = counter.most_common(1)[0][1]\n",
    "    most_common_lst = [np.array(ele) for ele in list(zip(*counter.most_common(topn)))]\n",
    "    most_common_lst[1] = most_common_lst[1]/most_common_cnt\n",
    "    next_item_map[item] = most_common_lst\n",
    "    # next_item_map[item] = [i[0] for i in counter.most_common(100)]"
   ]
  },
  {
   "cell_type": "code",
   "execution_count": null,
   "metadata": {},
   "outputs": [],
   "source": []
  },
  {
   "cell_type": "code",
   "execution_count": 73,
   "metadata": {},
   "outputs": [],
   "source": [
    "# (np.array([1,2, 4])/1).shape"
   ]
  },
  {
   "cell_type": "code",
   "execution_count": 74,
   "metadata": {},
   "outputs": [],
   "source": [
    "# dir([1, 2])"
   ]
  },
  {
   "cell_type": "code",
   "execution_count": 75,
   "metadata": {},
   "outputs": [],
   "source": [
    "# most_common_lst"
   ]
  },
  {
   "cell_type": "code",
   "execution_count": 77,
   "metadata": {},
   "outputs": [],
   "source": [
    "# next_item_map"
   ]
  },
  {
   "cell_type": "markdown",
   "metadata": {},
   "source": [
    "# Top200 for fallback logics"
   ]
  },
  {
   "cell_type": "code",
   "execution_count": 164,
   "metadata": {},
   "outputs": [
    {
     "data": {
      "text/html": [
       "<div>\n",
       "<style scoped>\n",
       "    .dataframe tbody tr th:only-of-type {\n",
       "        vertical-align: middle;\n",
       "    }\n",
       "\n",
       "    .dataframe tbody tr th {\n",
       "        vertical-align: top;\n",
       "    }\n",
       "\n",
       "    .dataframe thead th {\n",
       "        text-align: right;\n",
       "    }\n",
       "</style>\n",
       "<table border=\"1\" class=\"dataframe\">\n",
       "  <thead>\n",
       "    <tr style=\"text-align: right;\">\n",
       "      <th></th>\n",
       "      <th>item</th>\n",
       "      <th>next_item</th>\n",
       "    </tr>\n",
       "  </thead>\n",
       "  <tbody>\n",
       "    <tr>\n",
       "      <th>0</th>\n",
       "      <td>B09W9FND7K</td>\n",
       "      <td>B09JSPLN1M</td>\n",
       "    </tr>\n",
       "    <tr>\n",
       "      <th>1</th>\n",
       "      <td>B09W9FND7K</td>\n",
       "      <td>B09JSPLN1M</td>\n",
       "    </tr>\n",
       "    <tr>\n",
       "      <th>2</th>\n",
       "      <td>B09W9FND7K</td>\n",
       "      <td>B09JSPLN1M</td>\n",
       "    </tr>\n",
       "    <tr>\n",
       "      <th>3</th>\n",
       "      <td>B09W9FND7K</td>\n",
       "      <td>B09JSPLN1M</td>\n",
       "    </tr>\n",
       "    <tr>\n",
       "      <th>4</th>\n",
       "      <td>B09W9FND7K</td>\n",
       "      <td>B09W9FND7K</td>\n",
       "    </tr>\n",
       "    <tr>\n",
       "      <th>...</th>\n",
       "      <td>...</td>\n",
       "      <td>...</td>\n",
       "    </tr>\n",
       "    <tr>\n",
       "      <th>11859719</th>\n",
       "      <td>B0BFPLN8FQ</td>\n",
       "      <td>B0BF5GT13X</td>\n",
       "    </tr>\n",
       "    <tr>\n",
       "      <th>11859720</th>\n",
       "      <td>B09737CD6H</td>\n",
       "      <td>B08DJ9SQFY</td>\n",
       "    </tr>\n",
       "    <tr>\n",
       "      <th>11859721</th>\n",
       "      <td>B084GZ3QZ7</td>\n",
       "      <td>B00CBAW8SE</td>\n",
       "    </tr>\n",
       "    <tr>\n",
       "      <th>11859722</th>\n",
       "      <td>B081TXFKS5</td>\n",
       "      <td>B004RN5I6W</td>\n",
       "    </tr>\n",
       "    <tr>\n",
       "      <th>11859723</th>\n",
       "      <td>B07H31QX5Q</td>\n",
       "      <td>B08R7685RH</td>\n",
       "    </tr>\n",
       "  </tbody>\n",
       "</table>\n",
       "<p>11859724 rows × 2 columns</p>\n",
       "</div>"
      ],
      "text/plain": [
       "                item   next_item\n",
       "0         B09W9FND7K  B09JSPLN1M\n",
       "1         B09W9FND7K  B09JSPLN1M\n",
       "2         B09W9FND7K  B09JSPLN1M\n",
       "3         B09W9FND7K  B09JSPLN1M\n",
       "4         B09W9FND7K  B09W9FND7K\n",
       "...              ...         ...\n",
       "11859719  B0BFPLN8FQ  B0BF5GT13X\n",
       "11859720  B09737CD6H  B08DJ9SQFY\n",
       "11859721  B084GZ3QZ7  B00CBAW8SE\n",
       "11859722  B081TXFKS5  B004RN5I6W\n",
       "11859723  B07H31QX5Q  B08R7685RH\n",
       "\n",
       "[11859724 rows x 2 columns]"
      ]
     },
     "execution_count": 164,
     "metadata": {},
     "output_type": "execute_result"
    }
   ],
   "source": [
    "k = []\n",
    "v = []\n",
    "\n",
    "for item in next_item_dict:\n",
    "    k.append(item)\n",
    "    v.append(next_item_dict[item])\n",
    "    \n",
    "df_next = pd.DataFrame({'item': k, 'next_item': v})\n",
    "df_next = df_next.explode('next_item').reset_index(drop=True)\n",
    "df_next"
   ]
  },
  {
   "cell_type": "code",
   "execution_count": 165,
   "metadata": {},
   "outputs": [],
   "source": [
    "# df_next['next_item'].value_counts().index.tolist()[:200]"
   ]
  },
  {
   "cell_type": "code",
   "execution_count": 166,
   "metadata": {},
   "outputs": [],
   "source": [
    "top200 = df_next['next_item'].value_counts().index.tolist()[:200]"
   ]
  },
  {
   "cell_type": "code",
   "execution_count": 167,
   "metadata": {},
   "outputs": [],
   "source": [
    "model = {\n",
    "    'top200': top200\n",
    "    , 'next_item_map': next_item_map\n",
    "}"
   ]
  },
  {
   "cell_type": "markdown",
   "metadata": {
    "tags": []
   },
   "source": [
    "# Model anlaysis"
   ]
  },
  {
   "cell_type": "markdown",
   "metadata": {},
   "source": [
    "## top200 model "
   ]
  },
  {
   "cell_type": "code",
   "execution_count": 120,
   "metadata": {},
   "outputs": [],
   "source": [
    "products = read_product_data(train_data_dir=train_data_dir)\n"
   ]
  },
  {
   "cell_type": "code",
   "execution_count": 121,
   "metadata": {},
   "outputs": [],
   "source": [
    "top200_df = pd.DataFrame({'item': top200})"
   ]
  },
  {
   "cell_type": "code",
   "execution_count": 122,
   "metadata": {},
   "outputs": [
    {
     "data": {
      "text/html": [
       "<div>\n",
       "<style scoped>\n",
       "    .dataframe tbody tr th:only-of-type {\n",
       "        vertical-align: middle;\n",
       "    }\n",
       "\n",
       "    .dataframe tbody tr th {\n",
       "        vertical-align: top;\n",
       "    }\n",
       "\n",
       "    .dataframe thead th {\n",
       "        text-align: right;\n",
       "    }\n",
       "</style>\n",
       "<table border=\"1\" class=\"dataframe\">\n",
       "  <thead>\n",
       "    <tr style=\"text-align: right;\">\n",
       "      <th></th>\n",
       "      <th>id</th>\n",
       "      <th>locale</th>\n",
       "      <th>title</th>\n",
       "      <th>price</th>\n",
       "      <th>brand</th>\n",
       "      <th>color</th>\n",
       "      <th>size</th>\n",
       "      <th>model</th>\n",
       "      <th>material</th>\n",
       "      <th>author</th>\n",
       "      <th>desc</th>\n",
       "    </tr>\n",
       "  </thead>\n",
       "  <tbody>\n",
       "    <tr>\n",
       "      <th>0</th>\n",
       "      <td>B005ZSSN10</td>\n",
       "      <td>DE</td>\n",
       "      <td>RED DRAGON Amberjack 3 - Steel Tip 22 Gramm Wo...</td>\n",
       "      <td>30.95</td>\n",
       "      <td>RED DRAGON</td>\n",
       "      <td>NaN</td>\n",
       "      <td>NaN</td>\n",
       "      <td>RDD0089</td>\n",
       "      <td>NaN</td>\n",
       "      <td>NaN</td>\n",
       "      <td>Amberjacks Steel Dartpfeile sind verfügbar in ...</td>\n",
       "    </tr>\n",
       "    <tr>\n",
       "      <th>1</th>\n",
       "      <td>B08PRYN6LD</td>\n",
       "      <td>DE</td>\n",
       "      <td>Simply Keto Lower Carb* Schokodrops ohne Zucke...</td>\n",
       "      <td>17.90</td>\n",
       "      <td>Simply Keto</td>\n",
       "      <td>NaN</td>\n",
       "      <td>750 g (1er Pack)</td>\n",
       "      <td>NaN</td>\n",
       "      <td>NaN</td>\n",
       "      <td>NaN</td>\n",
       "      <td>🌱 NATÜRLICHE SÜSSE DURCH ERYTHRIT - Wir stelle...</td>\n",
       "    </tr>\n",
       "  </tbody>\n",
       "</table>\n",
       "</div>"
      ],
      "text/plain": [
       "           id locale                                              title   \n",
       "0  B005ZSSN10     DE  RED DRAGON Amberjack 3 - Steel Tip 22 Gramm Wo...  \\\n",
       "1  B08PRYN6LD     DE  Simply Keto Lower Carb* Schokodrops ohne Zucke...   \n",
       "\n",
       "   price        brand color              size    model material author   \n",
       "0  30.95   RED DRAGON   NaN               NaN  RDD0089      NaN    NaN  \\\n",
       "1  17.90  Simply Keto   NaN  750 g (1er Pack)      NaN      NaN    NaN   \n",
       "\n",
       "                                                desc  \n",
       "0  Amberjacks Steel Dartpfeile sind verfügbar in ...  \n",
       "1  🌱 NATÜRLICHE SÜSSE DURCH ERYTHRIT - Wir stelle...  "
      ]
     },
     "execution_count": 122,
     "metadata": {},
     "output_type": "execute_result"
    }
   ],
   "source": [
    "products.head(2)"
   ]
  },
  {
   "cell_type": "code",
   "execution_count": 124,
   "metadata": {},
   "outputs": [],
   "source": [
    "top200_df = top200_df.merge(products, how='left', left_on='item', right_on='id')"
   ]
  },
  {
   "cell_type": "code",
   "execution_count": 125,
   "metadata": {},
   "outputs": [
    {
     "data": {
      "text/html": [
       "<div>\n",
       "<style scoped>\n",
       "    .dataframe tbody tr th:only-of-type {\n",
       "        vertical-align: middle;\n",
       "    }\n",
       "\n",
       "    .dataframe tbody tr th {\n",
       "        vertical-align: top;\n",
       "    }\n",
       "\n",
       "    .dataframe thead th {\n",
       "        text-align: right;\n",
       "    }\n",
       "</style>\n",
       "<table border=\"1\" class=\"dataframe\">\n",
       "  <thead>\n",
       "    <tr style=\"text-align: right;\">\n",
       "      <th></th>\n",
       "      <th>item</th>\n",
       "      <th>id</th>\n",
       "      <th>locale</th>\n",
       "      <th>title</th>\n",
       "      <th>price</th>\n",
       "      <th>brand</th>\n",
       "      <th>color</th>\n",
       "      <th>size</th>\n",
       "      <th>model</th>\n",
       "      <th>material</th>\n",
       "      <th>author</th>\n",
       "      <th>desc</th>\n",
       "    </tr>\n",
       "  </thead>\n",
       "  <tbody>\n",
       "    <tr>\n",
       "      <th>412</th>\n",
       "      <td>B0B85SZ4HW</td>\n",
       "      <td>B0B85SZ4HW</td>\n",
       "      <td>JP</td>\n",
       "      <td>10個セット【2022-08オミクロン株対応】日本製 抗原検査キット 抗原検査スティック 【...</td>\n",
       "      <td>3800.0</td>\n",
       "      <td>ＬｉｌｙＮａ</td>\n",
       "      <td>NaN</td>\n",
       "      <td>NaN</td>\n",
       "      <td>NaN</td>\n",
       "      <td>NaN</td>\n",
       "      <td>NaN</td>\n",
       "      <td>［この商品について］本件抗原検査キットは、疫学調査等のための試験研究を目的とするものであり、...</td>\n",
       "    </tr>\n",
       "    <tr>\n",
       "      <th>274</th>\n",
       "      <td>B09HGGV5R5</td>\n",
       "      <td>B09HGGV5R5</td>\n",
       "      <td>ES</td>\n",
       "      <td>JBL WAVE 200TWS Auriculares inalámbricos intra...</td>\n",
       "      <td>53.2</td>\n",
       "      <td>Harman</td>\n",
       "      <td>Negro</td>\n",
       "      <td>in Ear</td>\n",
       "      <td>JBLW200TWSBLK</td>\n",
       "      <td>NaN</td>\n",
       "      <td>NaN</td>\n",
       "      <td>Auriculares sin cables con asistente de voz co...</td>\n",
       "    </tr>\n",
       "  </tbody>\n",
       "</table>\n",
       "</div>"
      ],
      "text/plain": [
       "           item          id locale   \n",
       "412  B0B85SZ4HW  B0B85SZ4HW     JP  \\\n",
       "274  B09HGGV5R5  B09HGGV5R5     ES   \n",
       "\n",
       "                                                 title   price   brand  color   \n",
       "412  10個セット【2022-08オミクロン株対応】日本製 抗原検査キット 抗原検査スティック 【...  3800.0  ＬｉｌｙＮａ    NaN  \\\n",
       "274  JBL WAVE 200TWS Auriculares inalámbricos intra...    53.2  Harman  Negro   \n",
       "\n",
       "       size          model material author   \n",
       "412     NaN            NaN      NaN    NaN  \\\n",
       "274  in Ear  JBLW200TWSBLK      NaN    NaN   \n",
       "\n",
       "                                                  desc  \n",
       "412  ［この商品について］本件抗原検査キットは、疫学調査等のための試験研究を目的とするものであり、...  \n",
       "274  Auriculares sin cables con asistente de voz co...  "
      ]
     },
     "execution_count": 125,
     "metadata": {},
     "output_type": "execute_result"
    }
   ],
   "source": [
    "top200_df.sample(2)"
   ]
  },
  {
   "cell_type": "code",
   "execution_count": 127,
   "metadata": {},
   "outputs": [
    {
     "data": {
      "text/plain": [
       "locale\n",
       "JP    113\n",
       "DE     83\n",
       "UK     83\n",
       "FR     56\n",
       "ES     48\n",
       "IT     45\n",
       "Name: count, dtype: int64"
      ]
     },
     "execution_count": 127,
     "metadata": {},
     "output_type": "execute_result"
    }
   ],
   "source": [
    "top200_df['locale'].value_counts()"
   ]
  },
  {
   "cell_type": "markdown",
   "metadata": {},
   "source": [
    "## Save model "
   ]
  },
  {
   "cell_type": "code",
   "execution_count": 168,
   "metadata": {},
   "outputs": [
    {
     "data": {
      "text/plain": [
       "'../model_training/next_item_counter/model_for_eval.pkl'"
      ]
     },
     "execution_count": 168,
     "metadata": {},
     "output_type": "execute_result"
    }
   ],
   "source": [
    "model_file"
   ]
  },
  {
   "cell_type": "code",
   "execution_count": 169,
   "metadata": {},
   "outputs": [],
   "source": [
    "with open(model_file, 'wb') as f:\n",
    "    pickle.dump(model, f)"
   ]
  },
  {
   "cell_type": "markdown",
   "metadata": {
    "tags": []
   },
   "source": [
    "# Get final result "
   ]
  },
  {
   "cell_type": "markdown",
   "metadata": {
    "tags": []
   },
   "source": [
    "## Load Model "
   ]
  },
  {
   "cell_type": "code",
   "execution_count": 10,
   "metadata": {},
   "outputs": [],
   "source": [
    "with open(model_file, 'rb') as f:\n",
    "    model = pickle.load(f)"
   ]
  },
  {
   "cell_type": "code",
   "execution_count": 11,
   "metadata": {},
   "outputs": [],
   "source": [
    "# top200"
   ]
  },
  {
   "cell_type": "code",
   "execution_count": 12,
   "metadata": {},
   "outputs": [],
   "source": [
    "# next_item_map"
   ]
  },
  {
   "cell_type": "code",
   "execution_count": null,
   "metadata": {},
   "outputs": [],
   "source": []
  },
  {
   "cell_type": "code",
   "execution_count": 13,
   "metadata": {
    "tags": []
   },
   "outputs": [],
   "source": [
    "def get_rec(target_df, model):\n",
    "    next_item_map = model['next_item_map']\n",
    "    top200  = model['top200']\n",
    "    target_df['last_item'] = target_df['prev_items'].apply(lambda x: str2list(x)[-1])\n",
    "    target_df['next_item_prediction'] = target_df['last_item'].map(next_item_map)\n",
    "    preds = []\n",
    "\n",
    "    for _, row in tqdm(target_df.iterrows(), total=len(target_df)):\n",
    "        pred_orig = row['next_item_prediction']\n",
    "        pred = pred_orig\n",
    "        prev_items = str2list(row['prev_items'])\n",
    "        if type(pred) == float:\n",
    "            pred = top200[:100]\n",
    "        else:\n",
    "            if len(pred_orig) < 100:\n",
    "                for i in top200:\n",
    "                    if i not in pred_orig and i not in prev_items:\n",
    "                        pred.append(i)\n",
    "                    if len(pred) >= 100:\n",
    "                        break\n",
    "            else:\n",
    "                pred = pred[:100]\n",
    "        preds.append(pred)\n",
    "    target_df['next_item_prediction'] = preds\n",
    "    print(target_df['next_item_prediction'].apply(len).describe())\n",
    "    return target_df"
   ]
  },
  {
   "cell_type": "code",
   "execution_count": 14,
   "metadata": {},
   "outputs": [
    {
     "data": {
      "text/plain": [
       "dict_keys(['top200', 'next_item_map'])"
      ]
     },
     "execution_count": 14,
     "metadata": {},
     "output_type": "execute_result"
    }
   ],
   "source": [
    "model.keys()"
   ]
  },
  {
   "cell_type": "markdown",
   "metadata": {
    "tags": []
   },
   "source": [
    "# Model eval "
   ]
  },
  {
   "cell_type": "code",
   "execution_count": 50,
   "metadata": {},
   "outputs": [],
   "source": [
    "# df_sess.shape"
   ]
  },
  {
   "cell_type": "code",
   "execution_count": 51,
   "metadata": {},
   "outputs": [],
   "source": [
    "# target_df = df_sess.sample(100000)\n",
    "\n",
    "# target_df = df_test"
   ]
  },
  {
   "cell_type": "code",
   "execution_count": 52,
   "metadata": {},
   "outputs": [],
   "source": [
    "# next_item_map = model['next_item_map']\n",
    "# top200  = model['top200']\n",
    "# target_df['last_item'] = target_df['prev_items'].apply(lambda x: str2list(x)[-1])\n",
    "# target_df['next_item_prediction'] = target_df['last_item'].map(next_item_map)\n",
    "# target_df['next_items_num'] = target_df['next_item_prediction'].apply(len)"
   ]
  },
  {
   "cell_type": "code",
   "execution_count": 53,
   "metadata": {},
   "outputs": [],
   "source": [
    "# target_df.head(1)"
   ]
  },
  {
   "cell_type": "code",
   "execution_count": 54,
   "metadata": {},
   "outputs": [],
   "source": [
    "# target_df['next_items_num'] = target_df['next_item_prediction'].apply(len)"
   ]
  },
  {
   "cell_type": "code",
   "execution_count": 23,
   "metadata": {},
   "outputs": [],
   "source": [
    "# target_df['next_item_prediction'].isna().sum()/len(target_df)"
   ]
  },
  {
   "cell_type": "code",
   "execution_count": 55,
   "metadata": {},
   "outputs": [],
   "source": [
    "target_df = pd.read_parquet(f'../data/eval_data/w2v_train_eval_result_300k.parquet')"
   ]
  },
  {
   "cell_type": "code",
   "execution_count": 56,
   "metadata": {},
   "outputs": [
    {
     "data": {
      "text/plain": [
       "(300000, 7)"
      ]
     },
     "execution_count": 56,
     "metadata": {},
     "output_type": "execute_result"
    }
   ],
   "source": [
    "target_df.shape"
   ]
  },
  {
   "cell_type": "code",
   "execution_count": 57,
   "metadata": {},
   "outputs": [],
   "source": [
    "# target_df['next_item_prediction'].isna().sum()/len(target_df)"
   ]
  },
  {
   "cell_type": "code",
   "execution_count": 58,
   "metadata": {},
   "outputs": [],
   "source": [
    "# target_df.loc[target_df['next_item_prediction'].isna(), 'next_item_prediction'] = ['B099NQFMG7']"
   ]
  },
  {
   "cell_type": "code",
   "execution_count": 59,
   "metadata": {},
   "outputs": [
    {
     "data": {
      "text/html": [
       "<div>\n",
       "<style scoped>\n",
       "    .dataframe tbody tr th:only-of-type {\n",
       "        vertical-align: middle;\n",
       "    }\n",
       "\n",
       "    .dataframe tbody tr th {\n",
       "        vertical-align: top;\n",
       "    }\n",
       "\n",
       "    .dataframe thead th {\n",
       "        text-align: right;\n",
       "    }\n",
       "</style>\n",
       "<table border=\"1\" class=\"dataframe\">\n",
       "  <thead>\n",
       "    <tr style=\"text-align: right;\">\n",
       "      <th></th>\n",
       "      <th>prev_items</th>\n",
       "      <th>next_item</th>\n",
       "      <th>locale</th>\n",
       "      <th>next_item_prediction</th>\n",
       "      <th>len</th>\n",
       "      <th>recall@20</th>\n",
       "      <th>recall@100</th>\n",
       "    </tr>\n",
       "  </thead>\n",
       "  <tbody>\n",
       "    <tr>\n",
       "      <th>3209869</th>\n",
       "      <td>['0545703301' 'B07V48JZCQ' 'B08G4TK5WS' 'B08G4...</td>\n",
       "      <td>B08G4P2B7B</td>\n",
       "      <td>UK</td>\n",
       "      <td>[B0913K77K3, B07NLKFC8X, B08V1CTCCM, B00BQB8GZ...</td>\n",
       "      <td>100</td>\n",
       "      <td>False</td>\n",
       "      <td>False</td>\n",
       "    </tr>\n",
       "    <tr>\n",
       "      <th>870010</th>\n",
       "      <td>['B08N52NSDF' 'B00GIV7J7W']</td>\n",
       "      <td>B07NVN75Y9</td>\n",
       "      <td>DE</td>\n",
       "      <td>[B00GIV7J7W, B093W8TPFL, B07RHSWJW4, B004U8SE2...</td>\n",
       "      <td>100</td>\n",
       "      <td>False</td>\n",
       "      <td>False</td>\n",
       "    </tr>\n",
       "  </tbody>\n",
       "</table>\n",
       "</div>"
      ],
      "text/plain": [
       "                                                prev_items   next_item locale   \n",
       "3209869  ['0545703301' 'B07V48JZCQ' 'B08G4TK5WS' 'B08G4...  B08G4P2B7B     UK  \\\n",
       "870010                         ['B08N52NSDF' 'B00GIV7J7W']  B07NVN75Y9     DE   \n",
       "\n",
       "                                      next_item_prediction  len  recall@20   \n",
       "3209869  [B0913K77K3, B07NLKFC8X, B08V1CTCCM, B00BQB8GZ...  100      False  \\\n",
       "870010   [B00GIV7J7W, B093W8TPFL, B07RHSWJW4, B004U8SE2...  100      False   \n",
       "\n",
       "         recall@100  \n",
       "3209869       False  \n",
       "870010        False  "
      ]
     },
     "execution_count": 59,
     "metadata": {},
     "output_type": "execute_result"
    }
   ],
   "source": [
    "target_df.sample(2)"
   ]
  },
  {
   "cell_type": "code",
   "execution_count": 60,
   "metadata": {},
   "outputs": [],
   "source": [
    "# target_df['next_item_prediction'] = target_df['next_item_prediction'].fillna(['B09FY8KLR6'])"
   ]
  },
  {
   "cell_type": "code",
   "execution_count": 61,
   "metadata": {},
   "outputs": [],
   "source": [
    "# target_df.head()"
   ]
  },
  {
   "cell_type": "code",
   "execution_count": 62,
   "metadata": {},
   "outputs": [],
   "source": [
    "# target_df[~target_df['next_item_prediction'].isna()]['next_item_prediction'].apply(len).describe()"
   ]
  },
  {
   "cell_type": "markdown",
   "metadata": {},
   "source": [
    "##f "
   ]
  },
  {
   "cell_type": "code",
   "execution_count": 63,
   "metadata": {},
   "outputs": [],
   "source": [
    "# target_df = "
   ]
  },
  {
   "cell_type": "code",
   "execution_count": 64,
   "metadata": {},
   "outputs": [
    {
     "data": {
      "application/vnd.jupyter.widget-view+json": {
       "model_id": "57c8182ca78b4e3a83f6376a1f67ba91",
       "version_major": 2,
       "version_minor": 0
      },
      "text/plain": [
       "  0%|          | 0/300000 [00:00<?, ?it/s]"
      ]
     },
     "metadata": {},
     "output_type": "display_data"
    },
    {
     "name": "stdout",
     "output_type": "stream",
     "text": [
      "count    300000.0\n",
      "mean        100.0\n",
      "std           0.0\n",
      "min         100.0\n",
      "25%         100.0\n",
      "50%         100.0\n",
      "75%         100.0\n",
      "max         100.0\n",
      "Name: next_item_prediction, dtype: float64\n"
     ]
    }
   ],
   "source": [
    "# df_test = \n",
    "train_eval_df = get_rec(target_df=target_df, model=model)"
   ]
  },
  {
   "cell_type": "code",
   "execution_count": 65,
   "metadata": {},
   "outputs": [],
   "source": [
    "# train_eval_df.head()"
   ]
  },
  {
   "cell_type": "code",
   "execution_count": 66,
   "metadata": {},
   "outputs": [
    {
     "name": "stdout",
     "output_type": "stream",
     "text": [
      "len           100.000000\n",
      "recall@20       0.353117\n",
      "recall@100      0.371717\n",
      "dtype: float64\n"
     ]
    }
   ],
   "source": [
    "\n",
    "eval_cols = ['len', 'recall@20', 'recall@100']\n",
    "train_eval_df[eval_cols] = train_eval_df.apply(pd_get_recall_at_k, axis=1, result_type='expand')\n",
    "print(train_eval_df[eval_cols].mean())"
   ]
  },
  {
   "cell_type": "code",
   "execution_count": 67,
   "metadata": {},
   "outputs": [
    {
     "data": {
      "text/plain": [
       "(300000, 8)"
      ]
     },
     "execution_count": 67,
     "metadata": {},
     "output_type": "execute_result"
    }
   ],
   "source": [
    "train_eval_df.shape"
   ]
  },
  {
   "cell_type": "code",
   "execution_count": 68,
   "metadata": {},
   "outputs": [],
   "source": [
    "train_eval_df.to_parquet(f'../data/eval_data/next_item_counter_train_eval_300k.parquet', engine='pyarrow')"
   ]
  },
  {
   "cell_type": "code",
   "execution_count": null,
   "metadata": {},
   "outputs": [],
   "source": []
  },
  {
   "cell_type": "markdown",
   "metadata": {
    "tags": []
   },
   "source": [
    "# Submit result "
   ]
  },
  {
   "cell_type": "code",
   "execution_count": 134,
   "metadata": {},
   "outputs": [
    {
     "data": {
      "text/plain": [
       "'submission_task1_next_item_counter.parquet'"
      ]
     },
     "execution_count": 134,
     "metadata": {},
     "output_type": "execute_result"
    }
   ],
   "source": [
    "submit_file"
   ]
  },
  {
   "cell_type": "code",
   "execution_count": 22,
   "metadata": {},
   "outputs": [],
   "source": [
    "df_test[['locale', 'next_item_prediction']].to_parquet(submit_file, engine='pyarrow')"
   ]
  },
  {
   "cell_type": "code",
   "execution_count": 142,
   "metadata": {},
   "outputs": [],
   "source": [
    "# df_test.info()"
   ]
  },
  {
   "cell_type": "code",
   "execution_count": null,
   "metadata": {},
   "outputs": [],
   "source": [
    "target_df[['locale', 'next_item_prediction']].to_parquet(submit_file, engine='pyarrow')"
   ]
  },
  {
   "cell_type": "code",
   "execution_count": null,
   "metadata": {},
   "outputs": [
    {
     "name": "stdout",
     "output_type": "stream",
     "text": [
      "\u001b[?25l\u001b[1;34msubmission_task1_next_item_counter.parquet\u001b[0m \u001b[90m━━━━━━━━\u001b[0m \u001b[35m0.0%\u001b[0m • \u001b[32m0.0/11…\u001b[0m • \u001b[31m?\u001b[0m • \u001b[36m-:--:--\u001b[0m\n",
      "\u001b[2K\u001b[1A\u001b[2K\u001b[1;34msubmission_task1_next_item_counter.parquet\u001b[0m \u001b[90m━━━━━━━━\u001b[0m \u001b[35m0.0%\u001b[0m • \u001b[32m0.0/11…\u001b[0m • \u001b[31m?\u001b[0m • \u001b[36m-:--:--\u001b[0m\n",
      "\u001b[2K\u001b[1A\u001b[2K\u001b[1;34msubmission_task1_next_item_counter.parquet\u001b[0m \u001b[90m━━━━━━━━\u001b[0m \u001b[35m0.0%\u001b[0m • \u001b[32m0.0/11…\u001b[0m • \u001b[31m?\u001b[0m • \u001b[36m-:--:--\u001b[0m\n",
      "\u001b[2K\u001b[1A\u001b[2K\u001b[1;34msubmission_task1_next_item_counter.parquet\u001b[0m \u001b[90m━━━━━━━━\u001b[0m \u001b[35m0.0%\u001b[0m • \u001b[32m0.0/11…\u001b[0m • \u001b[31m?\u001b[0m • \u001b[36m-:--:--\u001b[0m\n",
      "\u001b[2K\u001b[1A\u001b[2K\u001b[1;34msubmission_task1_next_item_counter.parquet\u001b[0m \u001b[90m━━━━━━━━\u001b[0m \u001b[35m0.0%\u001b[0m • \u001b[32m0.0/11…\u001b[0m • \u001b[31m?\u001b[0m • \u001b[36m-:--:--\u001b[0m\n",
      "\u001b[2K\u001b[1A\u001b[2K\u001b[1;34msubmission_task1_next_item_counter.parquet\u001b[0m \u001b[90m━━━━━━━━\u001b[0m \u001b[35m0.0%\u001b[0m • \u001b[32m0.0/11…\u001b[0m • \u001b[31m?\u001b[0m • \u001b[36m-:--:--\u001b[0m\n",
      "\u001b[2K\u001b[1A\u001b[2K\u001b[1;34msubmission_task1_next_item_counter.parquet\u001b[0m \u001b[90m━━━━━━\u001b[0m \u001b[35m0.0%\u001b[0m • \u001b[32m0.0/…\u001b[0m • \u001b[31m2.7   \u001b[0m • \u001b[36m0:00:…\u001b[0m\n",
      "\u001b[2K\u001b[1A\u001b[2K\u001b[1;34msubmission_task1_next_item_counter.parquet\u001b[0m \u001b[90m━━━━━━\u001b[0m \u001b[35m0.0%\u001b[0m • \u001b[32m0.0/…\u001b[0m • \u001b[31m2.7   \u001b[0m • \u001b[36m0:00:…\u001b[0m\n",
      "\u001b[2K\u001b[1A\u001b[2K\u001b[1;34msubmission_task1_next_item_counter.parquet\u001b[0m \u001b[90m━━━━━━\u001b[0m \u001b[35m0.0%\u001b[0m • \u001b[32m0.0/…\u001b[0m • \u001b[31m2.8   \u001b[0m • \u001b[36m0:00:…\u001b[0m\n",
      "\u001b[2K\u001b[1A\u001b[2K\u001b[1;34msubmission_task1_next_item_counter.parquet\u001b[0m \u001b[90m━━━━━━\u001b[0m \u001b[35m0.0%\u001b[0m • \u001b[32m0.0/…\u001b[0m • \u001b[31m2.8   \u001b[0m • \u001b[36m0:00:…\u001b[0m\n",
      "\u001b[2K\u001b[1A\u001b[2K\u001b[1;34msubmission_task1_next_item_counter.parquet\u001b[0m \u001b[90m━━━━━━\u001b[0m \u001b[35m0.0%\u001b[0m • \u001b[32m0.0/…\u001b[0m • \u001b[31m2.8   \u001b[0m • \u001b[36m0:00:…\u001b[0m\n",
      "\u001b[2K\u001b[1A\u001b[2K\u001b[1;34msubmission_task1_next_item_counter.parquet\u001b[0m \u001b[90m━━━━━━\u001b[0m \u001b[35m0.0%\u001b[0m • \u001b[32m0.0/…\u001b[0m • \u001b[31m2.8   \u001b[0m • \u001b[36m0:00:…\u001b[0m\n",
      "\u001b[2K\u001b[1A\u001b[2K\u001b[1;34msubmission_task1_next_item_counter.parquet\u001b[0m \u001b[90m━━━━━━\u001b[0m \u001b[35m0.0%\u001b[0m • \u001b[32m0.0/…\u001b[0m • \u001b[31m2.8   \u001b[0m • \u001b[36m0:00:…\u001b[0m\n",
      "\u001b[2K\u001b[1A\u001b[2K\u001b[1;34msubmission_task1_next_item_counter.parquet\u001b[0m \u001b[90m━━━━━━\u001b[0m \u001b[35m0.0%\u001b[0m • \u001b[32m0.1/…\u001b[0m • \u001b[31m339.5 \u001b[0m • \u001b[36m0:05:…\u001b[0m\n",
      "\u001b[2K\u001b[1A\u001b[2K\u001b[1;34msubmission_task1_next_item_counter.parquet\u001b[0m \u001b[90m━━━━━━\u001b[0m \u001b[35m0.1%\u001b[0m • \u001b[32m0.1/…\u001b[0m • \u001b[31m387.7 \u001b[0m • \u001b[36m0:05:…\u001b[0m\n",
      "\u001b[2K\u001b[1A\u001b[2K\u001b[1;34msubmission_task1_next_item_counter.parquet\u001b[0m \u001b[90m━━━━━━\u001b[0m \u001b[35m0.1%\u001b[0m • \u001b[32m0.1/…\u001b[0m • \u001b[31m434.6 \u001b[0m • \u001b[36m0:04:…\u001b[0m\n",
      "\u001b[2K\u001b[1A\u001b[2K\u001b[1;34msubmission_task1_next_item_counter.parquet\u001b[0m \u001b[90m━━━━━━\u001b[0m \u001b[35m0.1%\u001b[0m • \u001b[32m0.1/…\u001b[0m • \u001b[31m479.9 \u001b[0m • \u001b[36m0:04:…\u001b[0m\n",
      "\u001b[2K\u001b[1A\u001b[2K\u001b[1;34msubmission_task1_next_item_counter.parquet\u001b[0m \u001b[90m━━━━━━\u001b[0m \u001b[35m0.1%\u001b[0m • \u001b[32m0.1/…\u001b[0m • \u001b[31m523.9 \u001b[0m • \u001b[36m0:03:…\u001b[0m\n",
      "\u001b[2K\u001b[1A\u001b[2K\u001b[1;34msubmission_task1_next_item_counter.parquet\u001b[0m \u001b[90m━━━━━━\u001b[0m \u001b[35m0.1%\u001b[0m • \u001b[32m0.1/…\u001b[0m • \u001b[31m566.3 \u001b[0m • \u001b[36m0:03:…\u001b[0m\n",
      "\u001b[2K\u001b[1A\u001b[2K\u001b[1;34msubmission_task1_next_item_counter.parquet\u001b[0m \u001b[90m━━━━━━\u001b[0m \u001b[35m0.1%\u001b[0m • \u001b[32m0.1/…\u001b[0m • \u001b[31m607.4 \u001b[0m • \u001b[36m0:03:…\u001b[0m\n",
      "\u001b[2K\u001b[1A\u001b[2K\u001b[1;34msubmission_task1_next_item_counter.parquet\u001b[0m \u001b[90m━━━━━━\u001b[0m \u001b[35m0.1%\u001b[0m • \u001b[32m0.1/…\u001b[0m • \u001b[31m607.4 \u001b[0m • \u001b[36m0:03:…\u001b[0m\n",
      "\u001b[2K\u001b[1A\u001b[2K\u001b[1;34msubmission_task1_next_item_counter.parquet\u001b[0m \u001b[90m━━━━━━\u001b[0m \u001b[35m0.1%\u001b[0m • \u001b[32m0.1/…\u001b[0m • \u001b[31m371.7 \u001b[0m • \u001b[36m0:05:…\u001b[0m\n",
      "\u001b[2K\u001b[1A\u001b[2K\u001b[1;34msubmission_task1_next_item_counter.parquet\u001b[0m \u001b[90m━━━━━━\u001b[0m \u001b[35m0.1%\u001b[0m • \u001b[32m0.1/…\u001b[0m • \u001b[31m395.9 \u001b[0m • \u001b[36m0:05:…\u001b[0m\n",
      "\u001b[2K\u001b[1A\u001b[2K\u001b[1;34msubmission_task1_next_item_counter.parquet\u001b[0m \u001b[90m━━━━━━\u001b[0m \u001b[35m0.1%\u001b[0m • \u001b[32m0.1/…\u001b[0m • \u001b[31m420.0 \u001b[0m • \u001b[36m0:04:…\u001b[0m\n",
      "\u001b[2K\u001b[1A\u001b[2K\u001b[1;34msubmission_task1_next_item_counter.parquet\u001b[0m \u001b[90m━━━━━━\u001b[0m \u001b[35m0.1%\u001b[0m • \u001b[32m0.1/…\u001b[0m • \u001b[31m443.8 \u001b[0m • \u001b[36m0:04:…\u001b[0m\n",
      "\u001b[2K\u001b[1A\u001b[2K\u001b[1;34msubmission_task1_next_item_counter.parquet\u001b[0m \u001b[90m━━━━━━\u001b[0m \u001b[35m0.1%\u001b[0m • \u001b[32m0.1/…\u001b[0m • \u001b[31m467.0 \u001b[0m • \u001b[36m0:04:…\u001b[0m\n",
      "\u001b[2K\u001b[1A\u001b[2K\u001b[1;34msubmission_task1_next_item_counter.parquet\u001b[0m \u001b[90m━━━━━━\u001b[0m \u001b[35m0.1%\u001b[0m • \u001b[32m0.2/…\u001b[0m • \u001b[31m489.9 \u001b[0m • \u001b[36m0:04:…\u001b[0m\n",
      "\u001b[2K\u001b[1A\u001b[2K\u001b[1;34msubmission_task1_next_item_counter.parquet\u001b[0m \u001b[90m━━━━━━\u001b[0m \u001b[35m0.1%\u001b[0m • \u001b[32m0.2/…\u001b[0m • \u001b[31m512.5 \u001b[0m • \u001b[36m0:03:…\u001b[0m\n",
      "\u001b[2K\u001b[1A\u001b[2K\u001b[1;34msubmission_task1_next_item_counter.parquet\u001b[0m \u001b[90m━━━━━━\u001b[0m \u001b[35m0.1%\u001b[0m • \u001b[32m0.2/…\u001b[0m • \u001b[31m534.5 \u001b[0m • \u001b[36m0:03:…\u001b[0m\n",
      "\u001b[2K\u001b[1A\u001b[2K\u001b[1;34msubmission_task1_next_item_counter.parquet\u001b[0m \u001b[90m━━━━━━\u001b[0m \u001b[35m0.2%\u001b[0m • \u001b[32m0.2/…\u001b[0m • \u001b[31m556.3 \u001b[0m • \u001b[36m0:03:…\u001b[0m\n",
      "\u001b[2K\u001b[1A\u001b[2K\u001b[1;34msubmission_task1_next_item_counter.parquet\u001b[0m \u001b[90m━━━━━━\u001b[0m \u001b[35m0.2%\u001b[0m • \u001b[32m0.2/…\u001b[0m • \u001b[31m577.7 \u001b[0m • \u001b[36m0:03:…\u001b[0m\n",
      "\u001b[2K\u001b[1A\u001b[2K\u001b[1;34msubmission_task1_next_item_counter.parquet\u001b[0m \u001b[90m━━━━━━\u001b[0m \u001b[35m0.2%\u001b[0m • \u001b[32m0.2/…\u001b[0m • \u001b[31m598.6 \u001b[0m • \u001b[36m0:03:…\u001b[0m\n",
      "\u001b[2K\u001b[1A\u001b[2K\u001b[1;34msubmission_task1_next_item_counter.parquet\u001b[0m \u001b[90m━━━━━━\u001b[0m \u001b[35m0.2%\u001b[0m • \u001b[32m0.2/…\u001b[0m • \u001b[31m598.6 \u001b[0m • \u001b[36m0:03:…\u001b[0m\n",
      "\u001b[2K\u001b[1A\u001b[2K\u001b[1;34msubmission_task1_next_item_counter.parquet\u001b[0m \u001b[90m━━━━━━\u001b[0m \u001b[35m0.2%\u001b[0m • \u001b[32m0.2/…\u001b[0m • \u001b[31m459.1 \u001b[0m • \u001b[36m0:04:…\u001b[0m\n",
      "\u001b[2K\u001b[1A\u001b[2K\u001b[1;34msubmission_task1_next_item_counter.parquet\u001b[0m \u001b[90m━━━━━━\u001b[0m \u001b[35m0.2%\u001b[0m • \u001b[32m0.2/…\u001b[0m • \u001b[31m474.6 \u001b[0m • \u001b[36m0:04:…\u001b[0m\n",
      "\u001b[2K\u001b[1A\u001b[2K\u001b[1;34msubmission_task1_next_item_counter.parquet\u001b[0m \u001b[90m━━━━━━\u001b[0m \u001b[35m0.2%\u001b[0m • \u001b[32m0.2/…\u001b[0m • \u001b[31m490.3 \u001b[0m • \u001b[36m0:04:…\u001b[0m\n",
      "\u001b[2K\u001b[1A\u001b[2K\u001b[1;34msubmission_task1_next_item_counter.parquet\u001b[0m \u001b[90m━━━━━━\u001b[0m \u001b[35m0.2%\u001b[0m • \u001b[32m0.2/…\u001b[0m • \u001b[31m506.0 \u001b[0m • \u001b[36m0:03:…\u001b[0m\n",
      "\u001b[2K\u001b[1A\u001b[2K\u001b[1;34msubmission_task1_next_item_counter.parquet\u001b[0m \u001b[90m━━━━━━\u001b[0m \u001b[35m0.2%\u001b[0m • \u001b[32m0.2/…\u001b[0m • \u001b[31m521.4 \u001b[0m • \u001b[36m0:03:…\u001b[0m\n",
      "\u001b[2K\u001b[1A\u001b[2K\u001b[1;34msubmission_task1_next_item_counter.parquet\u001b[0m \u001b[90m━━━━━━\u001b[0m \u001b[35m0.2%\u001b[0m • \u001b[32m0.2/…\u001b[0m • \u001b[31m536.6 \u001b[0m • \u001b[36m0:03:…\u001b[0m\n",
      "\u001b[2K\u001b[1A\u001b[2K\u001b[1;34msubmission_task1_next_item_counter.parquet\u001b[0m \u001b[90m━━━━━━\u001b[0m \u001b[35m0.2%\u001b[0m • \u001b[32m0.3/…\u001b[0m • \u001b[31m551.6 \u001b[0m • \u001b[36m0:03:…\u001b[0m\n",
      "\u001b[2K\u001b[1A\u001b[2K\u001b[1;34msubmission_task1_next_item_counter.parquet\u001b[0m \u001b[90m━━━━━━\u001b[0m \u001b[35m0.2%\u001b[0m • \u001b[32m0.3/…\u001b[0m • \u001b[31m551.6 \u001b[0m • \u001b[36m0:03:…\u001b[0m\n",
      "\u001b[2K\u001b[1A\u001b[2K\u001b[1;34msubmission_task1_next_item_counter.parquet\u001b[0m \u001b[90m━━━━━━\u001b[0m \u001b[35m0.2%\u001b[0m • \u001b[32m0.3/…\u001b[0m • \u001b[31m562.6 \u001b[0m • \u001b[36m0:03:…\u001b[0m\n",
      "\u001b[2K\u001b[1A\u001b[2K\u001b[1;34msubmission_task1_next_item_counter.parquet\u001b[0m \u001b[90m━━━━━━\u001b[0m \u001b[35m0.2%\u001b[0m • \u001b[32m0.3/…\u001b[0m • \u001b[31m577.1 \u001b[0m • \u001b[36m0:03:…\u001b[0m\n",
      "\u001b[2K\u001b[1A\u001b[2K\u001b[1;34msubmission_task1_next_item_counter.parquet\u001b[0m \u001b[90m━━━━━━\u001b[0m \u001b[35m0.2%\u001b[0m • \u001b[32m0.3/…\u001b[0m • \u001b[31m591.6 \u001b[0m • \u001b[36m0:03:…\u001b[0m\n",
      "\u001b[2K\u001b[1A\u001b[2K\u001b[1;34msubmission_task1_next_item_counter.parquet\u001b[0m \u001b[90m━━━━━━\u001b[0m \u001b[35m0.2%\u001b[0m • \u001b[32m0.3/…\u001b[0m • \u001b[31m605.9 \u001b[0m • \u001b[36m0:03:…\u001b[0m\n",
      "\u001b[2K\u001b[1A\u001b[2K\u001b[1;34msubmission_task1_next_item_counter.parquet\u001b[0m \u001b[90m━━━━━━\u001b[0m \u001b[35m0.2%\u001b[0m • \u001b[32m0.3/…\u001b[0m • \u001b[31m620.0 \u001b[0m • \u001b[36m0:03:…\u001b[0m\n",
      "\u001b[2K\u001b[1A\u001b[2K\u001b[1;34msubmission_task1_next_item_counter.parquet\u001b[0m \u001b[90m━━━━━━\u001b[0m \u001b[35m0.3%\u001b[0m • \u001b[32m0.3/…\u001b[0m • \u001b[31m633.9 \u001b[0m • \u001b[36m0:03:…\u001b[0m\n",
      "\u001b[2K\u001b[1A\u001b[2K\u001b[1;34msubmission_task1_next_item_counter.parquet\u001b[0m \u001b[90m━━━━━━\u001b[0m \u001b[35m0.3%\u001b[0m • \u001b[32m0.3/…\u001b[0m • \u001b[31m647.7 \u001b[0m • \u001b[36m0:03:…\u001b[0m\n",
      "\u001b[2K\u001b[1A\u001b[2K\u001b[1;34msubmission_task1_next_item_counter.parquet\u001b[0m \u001b[90m━━━━━━\u001b[0m \u001b[35m0.3%\u001b[0m • \u001b[32m0.3/…\u001b[0m • \u001b[31m661.2 \u001b[0m • \u001b[36m0:03:…\u001b[0m\n",
      "\u001b[2K\u001b[1A\u001b[2K\u001b[1;34msubmission_task1_next_item_counter.parquet\u001b[0m \u001b[90m━━━━━━\u001b[0m \u001b[35m0.3%\u001b[0m • \u001b[32m0.3/…\u001b[0m • \u001b[31m674.5 \u001b[0m • \u001b[36m0:02:…\u001b[0m\n",
      "\u001b[2K\u001b[1A\u001b[2K\u001b[1;34msubmission_task1_next_item_counter.parquet\u001b[0m \u001b[90m━━━━━━\u001b[0m \u001b[35m0.3%\u001b[0m • \u001b[32m0.3/…\u001b[0m • \u001b[31m687.0 \u001b[0m • \u001b[36m0:02:…\u001b[0m\n",
      "\u001b[2K\u001b[1A\u001b[2K\u001b[1;34msubmission_task1_next_item_counter.parquet\u001b[0m \u001b[90m━━━━━━\u001b[0m \u001b[35m0.3%\u001b[0m • \u001b[32m0.3/…\u001b[0m • \u001b[31m699.8 \u001b[0m • \u001b[36m0:02:…\u001b[0m\n",
      "\u001b[2K\u001b[1A\u001b[2K\u001b[1;34msubmission_task1_next_item_counter.parquet\u001b[0m \u001b[90m━━━━━━\u001b[0m \u001b[35m0.3%\u001b[0m • \u001b[32m0.4/…\u001b[0m • \u001b[31m712.7 \u001b[0m • \u001b[36m0:02:…\u001b[0m\n",
      "\u001b[2K\u001b[1A\u001b[2K\u001b[1;34msubmission_task1_next_item_counter.parquet\u001b[0m \u001b[90m━━━━━━\u001b[0m \u001b[35m0.3%\u001b[0m • \u001b[32m0.4/…\u001b[0m • \u001b[31m725.4 \u001b[0m • \u001b[36m0:02:…\u001b[0m\n",
      "\u001b[2K\u001b[1A\u001b[2K\u001b[1;34msubmission_task1_next_item_counter.parquet\u001b[0m \u001b[90m━━━━━━\u001b[0m \u001b[35m0.3%\u001b[0m • \u001b[32m0.4/…\u001b[0m • \u001b[31m737.9 \u001b[0m • \u001b[36m0:02:…\u001b[0m\n",
      "\u001b[2K\u001b[1A\u001b[2K\u001b[1;34msubmission_task1_next_item_counter.parquet\u001b[0m \u001b[90m━━━━━━\u001b[0m \u001b[35m0.3%\u001b[0m • \u001b[32m0.4/…\u001b[0m • \u001b[31m750.4 \u001b[0m • \u001b[36m0:02:…\u001b[0m\n",
      "\u001b[2K\u001b[1A\u001b[2K\u001b[1;34msubmission_task1_next_item_counter.parquet\u001b[0m \u001b[90m━━━━━━\u001b[0m \u001b[35m0.3%\u001b[0m • \u001b[32m0.4/…\u001b[0m • \u001b[31m750.4 \u001b[0m • \u001b[36m0:02:…\u001b[0m\n",
      "\u001b[2K\u001b[1A\u001b[2K\u001b[1;34msubmission_task1_next_item_counter.parquet\u001b[0m \u001b[90m━━━━━━\u001b[0m \u001b[35m0.3%\u001b[0m • \u001b[32m0.4/…\u001b[0m • \u001b[31m658.1 \u001b[0m • \u001b[36m0:03:…\u001b[0m\n",
      "\u001b[2K\u001b[1A\u001b[2K\u001b[1;34msubmission_task1_next_item_counter.parquet\u001b[0m \u001b[90m━━━━━━\u001b[0m \u001b[35m0.3%\u001b[0m • \u001b[32m0.4/…\u001b[0m • \u001b[31m668.6 \u001b[0m • \u001b[36m0:02:…\u001b[0m\n",
      "\u001b[2K\u001b[1A\u001b[2K\u001b[1;34msubmission_task1_next_item_counter.parquet\u001b[0m \u001b[90m━━━━━━\u001b[0m \u001b[35m0.3%\u001b[0m • \u001b[32m0.4/…\u001b[0m • \u001b[31m678.7 \u001b[0m • \u001b[36m0:02:…\u001b[0m\n",
      "\u001b[2K\u001b[1A\u001b[2K\u001b[1;34msubmission_task1_next_item_counter.parquet\u001b[0m \u001b[90m━━━━━━\u001b[0m \u001b[35m0.3%\u001b[0m • \u001b[32m0.4/…\u001b[0m • \u001b[31m689.5 \u001b[0m • \u001b[36m0:02:…\u001b[0m\n",
      "\u001b[2K\u001b[1A\u001b[2K\u001b[1;34msubmission_task1_next_item_counter.parquet\u001b[0m \u001b[90m━━━━━━\u001b[0m \u001b[35m0.3%\u001b[0m • \u001b[32m0.4/…\u001b[0m • \u001b[31m700.3 \u001b[0m • \u001b[36m0:02:…\u001b[0m\n",
      "\u001b[2K\u001b[1A\u001b[2K\u001b[1;34msubmission_task1_next_item_counter.parquet\u001b[0m \u001b[90m━━━━━━\u001b[0m \u001b[35m0.4%\u001b[0m • \u001b[32m0.4/…\u001b[0m • \u001b[31m710.5 \u001b[0m • \u001b[36m0:02:…\u001b[0m\n",
      "\u001b[2K\u001b[1A\u001b[2K\u001b[1;34msubmission_task1_next_item_counter.parquet\u001b[0m \u001b[90m━━━━━━\u001b[0m \u001b[35m0.4%\u001b[0m • \u001b[32m0.4/…\u001b[0m • \u001b[31m721.1 \u001b[0m • \u001b[36m0:02:…\u001b[0m\n",
      "\u001b[2K\u001b[1A\u001b[2K\u001b[1;34msubmission_task1_next_item_counter.parquet\u001b[0m \u001b[90m━━━━━━\u001b[0m \u001b[35m0.4%\u001b[0m • \u001b[32m0.4/…\u001b[0m • \u001b[31m731.5 \u001b[0m • \u001b[36m0:02:…\u001b[0m\n",
      "\u001b[2K\u001b[1A\u001b[2K\u001b[1;34msubmission_task1_next_item_counter.parquet\u001b[0m \u001b[90m━━━━━━\u001b[0m \u001b[35m0.4%\u001b[0m • \u001b[32m0.5/…\u001b[0m • \u001b[31m741.6 \u001b[0m • \u001b[36m0:02:…\u001b[0m\n",
      "\u001b[2K\u001b[1A\u001b[2K\u001b[1;34msubmission_task1_next_item_counter.parquet\u001b[0m \u001b[90m━━━━━━\u001b[0m \u001b[35m0.4%\u001b[0m • \u001b[32m0.5/…\u001b[0m • \u001b[31m751.9 \u001b[0m • \u001b[36m0:02:…\u001b[0m\n",
      "\u001b[2K\u001b[1A\u001b[2K\u001b[1;34msubmission_task1_next_item_counter.parquet\u001b[0m \u001b[90m━━━━━━\u001b[0m \u001b[35m0.4%\u001b[0m • \u001b[32m0.5/…\u001b[0m • \u001b[31m762.1 \u001b[0m • \u001b[36m0:02:…\u001b[0m\n",
      "\u001b[2K\u001b[1A\u001b[2K\u001b[1;34msubmission_task1_next_item_counter.parquet\u001b[0m \u001b[90m━━━━━━\u001b[0m \u001b[35m0.4%\u001b[0m • \u001b[32m0.5/…\u001b[0m • \u001b[31m772.2 \u001b[0m • \u001b[36m0:02:…\u001b[0m\n",
      "\u001b[2K\u001b[1A\u001b[2K\u001b[1;34msubmission_task1_next_item_counter.parquet\u001b[0m \u001b[90m━━━━━━\u001b[0m \u001b[35m0.4%\u001b[0m • \u001b[32m0.5/…\u001b[0m • \u001b[31m782.0 \u001b[0m • \u001b[36m0:02:…\u001b[0m\n",
      "\u001b[2K\u001b[1A\u001b[2K\u001b[1;34msubmission_task1_next_item_counter.parquet\u001b[0m \u001b[90m━━━━━━\u001b[0m \u001b[35m0.4%\u001b[0m • \u001b[32m0.5/…\u001b[0m • \u001b[31m791.9 \u001b[0m • \u001b[36m0:02:…\u001b[0m\n",
      "\u001b[2K\u001b[1A\u001b[2K\u001b[1;34msubmission_task1_next_item_counter.parquet\u001b[0m \u001b[90m━━━━━━\u001b[0m \u001b[35m0.4%\u001b[0m • \u001b[32m0.5/…\u001b[0m • \u001b[31m801.7 \u001b[0m • \u001b[36m0:02:…\u001b[0m\n",
      "\u001b[2K\u001b[1A\u001b[2K\u001b[1;34msubmission_task1_next_item_counter.parquet\u001b[0m \u001b[90m━━━━━━\u001b[0m \u001b[35m0.4%\u001b[0m • \u001b[32m0.5/…\u001b[0m • \u001b[31m811.4 \u001b[0m • \u001b[36m0:02:…\u001b[0m\n",
      "\u001b[2K\u001b[1A\u001b[2K\u001b[1;34msubmission_task1_next_item_counter.parquet\u001b[0m \u001b[90m━━━━━━\u001b[0m \u001b[35m0.4%\u001b[0m • \u001b[32m0.5/…\u001b[0m • \u001b[31m821.1 \u001b[0m • \u001b[36m0:02:…\u001b[0m\n",
      "\u001b[2K\u001b[1A\u001b[2K\u001b[1;34msubmission_task1_next_item_counter.parquet\u001b[0m \u001b[90m━━━━━━\u001b[0m \u001b[35m0.4%\u001b[0m • \u001b[32m0.5/…\u001b[0m • \u001b[31m830.7 \u001b[0m • \u001b[36m0:02:…\u001b[0m\n",
      "\u001b[2K\u001b[1A\u001b[2K\u001b[1;34msubmission_task1_next_item_counter.parquet\u001b[0m \u001b[90m━━━━━━\u001b[0m \u001b[35m0.4%\u001b[0m • \u001b[32m0.5/…\u001b[0m • \u001b[31m840.2 \u001b[0m • \u001b[36m0:02:…\u001b[0m\n",
      "\u001b[2K\u001b[1A\u001b[2K\u001b[1;34msubmission_task1_next_item_counter.parquet\u001b[0m \u001b[90m━━━━━━\u001b[0m \u001b[35m0.5%\u001b[0m • \u001b[32m0.5/…\u001b[0m • \u001b[31m849.6 \u001b[0m • \u001b[36m0:02:…\u001b[0m\n",
      "\u001b[2K\u001b[1A\u001b[2K\u001b[1;34msubmission_task1_next_item_counter.parquet\u001b[0m \u001b[90m━━━━━━\u001b[0m \u001b[35m0.5%\u001b[0m • \u001b[32m0.5/…\u001b[0m • \u001b[31m849.6 \u001b[0m • \u001b[36m0:02:…\u001b[0m\n",
      "\u001b[2K\u001b[1A\u001b[2K\u001b[1;34msubmission_task1_next_item_counter.parquet\u001b[0m \u001b[90m━━━━━━\u001b[0m \u001b[35m0.5%\u001b[0m • \u001b[32m0.5/…\u001b[0m • \u001b[31m759.0 \u001b[0m • \u001b[36m0:02:…\u001b[0m\n",
      "\u001b[2K\u001b[1A\u001b[2K\u001b[1;34msubmission_task1_next_item_counter.parquet\u001b[0m \u001b[90m━━━━━━\u001b[0m \u001b[35m0.5%\u001b[0m • \u001b[32m0.6/…\u001b[0m • \u001b[31m767.1 \u001b[0m • \u001b[36m0:02:…\u001b[0m\n",
      "\u001b[2K\u001b[1A\u001b[2K\u001b[1;34msubmission_task1_next_item_counter.parquet\u001b[0m \u001b[90m━━━━━━\u001b[0m \u001b[35m0.5%\u001b[0m • \u001b[32m0.6/…\u001b[0m • \u001b[31m775.4 \u001b[0m • \u001b[36m0:02:…\u001b[0m\n",
      "\u001b[2K\u001b[1A\u001b[2K\u001b[1;34msubmission_task1_next_item_counter.parquet\u001b[0m \u001b[90m━━━━━━\u001b[0m \u001b[35m0.5%\u001b[0m • \u001b[32m0.6/…\u001b[0m • \u001b[31m783.8 \u001b[0m • \u001b[36m0:02:…\u001b[0m\n",
      "\u001b[2K\u001b[1A\u001b[2K\u001b[1;34msubmission_task1_next_item_counter.parquet\u001b[0m \u001b[90m━━━━━━\u001b[0m \u001b[35m0.5%\u001b[0m • \u001b[32m0.6/…\u001b[0m • \u001b[31m792.1 \u001b[0m • \u001b[36m0:02:…\u001b[0m\n",
      "\u001b[2K\u001b[1A\u001b[2K\u001b[1;34msubmission_task1_next_item_counter.parquet\u001b[0m \u001b[90m━━━━━━\u001b[0m \u001b[35m0.5%\u001b[0m • \u001b[32m0.6/…\u001b[0m • \u001b[31m800.4 \u001b[0m • \u001b[36m0:02:…\u001b[0m\n",
      "\u001b[2K\u001b[1A\u001b[2K\u001b[1;34msubmission_task1_next_item_counter.parquet\u001b[0m \u001b[90m━━━━━━\u001b[0m \u001b[35m0.5%\u001b[0m • \u001b[32m0.6/…\u001b[0m • \u001b[31m808.6 \u001b[0m • \u001b[36m0:02:…\u001b[0m\n",
      "\u001b[2K\u001b[1A\u001b[2K\u001b[1;34msubmission_task1_next_item_counter.parquet\u001b[0m \u001b[90m━━━━━━\u001b[0m \u001b[35m0.5%\u001b[0m • \u001b[32m0.6/…\u001b[0m • \u001b[31m816.7 \u001b[0m • \u001b[36m0:02:…\u001b[0m\n",
      "\u001b[2K\u001b[1A\u001b[2K\u001b[1;34msubmission_task1_next_item_counter.parquet\u001b[0m \u001b[90m━━━━━━\u001b[0m \u001b[35m0.5%\u001b[0m • \u001b[32m0.6/…\u001b[0m • \u001b[31m824.7 \u001b[0m • \u001b[36m0:02:…\u001b[0m\n",
      "\u001b[2K\u001b[1A\u001b[2K\u001b[1;34msubmission_task1_next_item_counter.parquet\u001b[0m \u001b[90m━━━━━━\u001b[0m \u001b[35m0.5%\u001b[0m • \u001b[32m0.6/…\u001b[0m • \u001b[31m832.7 \u001b[0m • \u001b[36m0:02:…\u001b[0m\n",
      "\u001b[2K\u001b[1A\u001b[2K\u001b[1;34msubmission_task1_next_item_counter.parquet\u001b[0m \u001b[90m━━━━━━\u001b[0m \u001b[35m0.5%\u001b[0m • \u001b[32m0.6/…\u001b[0m • \u001b[31m840.5 \u001b[0m • \u001b[36m0:02:…\u001b[0m\n",
      "\u001b[2K\u001b[1A\u001b[2K\u001b[1;34msubmission_task1_next_item_counter.parquet\u001b[0m \u001b[90m━━━━━━\u001b[0m \u001b[35m0.5%\u001b[0m • \u001b[32m0.6/…\u001b[0m • \u001b[31m848.3 \u001b[0m • \u001b[36m0:02:…\u001b[0m\n",
      "\u001b[2K\u001b[1A\u001b[2K\u001b[1;34msubmission_task1_next_item_counter.parquet\u001b[0m \u001b[90m━━━━━━\u001b[0m \u001b[35m0.5%\u001b[0m • \u001b[32m0.6/…\u001b[0m • \u001b[31m856.2 \u001b[0m • \u001b[36m0:02:…\u001b[0m\n",
      "\u001b[2K\u001b[1A\u001b[2K\u001b[1;34msubmission_task1_next_item_counter.parquet\u001b[0m \u001b[90m━━━━━━\u001b[0m \u001b[35m0.5%\u001b[0m • \u001b[32m0.7/…\u001b[0m • \u001b[31m863.7 \u001b[0m • \u001b[36m0:02:…\u001b[0m\n",
      "\u001b[2K\u001b[1A\u001b[2K\u001b[1;34msubmission_task1_next_item_counter.parquet\u001b[0m \u001b[90m━━━━━━\u001b[0m \u001b[35m0.6%\u001b[0m • \u001b[32m0.7/…\u001b[0m • \u001b[31m871.4 \u001b[0m • \u001b[36m0:02:…\u001b[0m\n",
      "\u001b[2K\u001b[1A\u001b[2K\u001b[1;34msubmission_task1_next_item_counter.parquet\u001b[0m \u001b[90m━━━━━━\u001b[0m \u001b[35m0.6%\u001b[0m • \u001b[32m0.7/…\u001b[0m • \u001b[31m879.0 \u001b[0m • \u001b[36m0:02:…\u001b[0m\n",
      "\u001b[2K\u001b[1A\u001b[2K\u001b[1;34msubmission_task1_next_item_counter.parquet\u001b[0m \u001b[90m━━━━━━\u001b[0m \u001b[35m0.6%\u001b[0m • \u001b[32m0.7/…\u001b[0m • \u001b[31m886.6 \u001b[0m • \u001b[36m0:02:…\u001b[0m\n",
      "\u001b[2K\u001b[1A\u001b[2K\u001b[1;34msubmission_task1_next_item_counter.parquet\u001b[0m \u001b[90m━━━━━━\u001b[0m \u001b[35m0.6%\u001b[0m • \u001b[32m0.7/…\u001b[0m • \u001b[31m886.6 \u001b[0m • \u001b[36m0:02:…\u001b[0m\n",
      "\u001b[2K\u001b[1A\u001b[2K\u001b[1;34msubmission_task1_next_item_counter.parquet\u001b[0m \u001b[90m━━━━━━\u001b[0m \u001b[35m0.6%\u001b[0m • \u001b[32m0.7/…\u001b[0m • \u001b[31m890.5 \u001b[0m • \u001b[36m0:02:…\u001b[0m\n",
      "\u001b[2K\u001b[1A\u001b[2K\u001b[1;34msubmission_task1_next_item_counter.parquet\u001b[0m \u001b[90m━━━━━━\u001b[0m \u001b[35m0.6%\u001b[0m • \u001b[32m0.7/…\u001b[0m • \u001b[31m897.9 \u001b[0m • \u001b[36m0:02:…\u001b[0m\n",
      "\u001b[2K\u001b[1A\u001b[2K\u001b[1;34msubmission_task1_next_item_counter.parquet\u001b[0m \u001b[90m━━━━━━\u001b[0m \u001b[35m0.6%\u001b[0m • \u001b[32m0.7/…\u001b[0m • \u001b[31m905.4 \u001b[0m • \u001b[36m0:02:…\u001b[0m\n",
      "\u001b[2K\u001b[1A\u001b[2K\u001b[1;34msubmission_task1_next_item_counter.parquet\u001b[0m \u001b[90m━━━━━━\u001b[0m \u001b[35m0.6%\u001b[0m • \u001b[32m0.7/…\u001b[0m • \u001b[31m912.8 \u001b[0m • \u001b[36m0:02:…\u001b[0m\n",
      "\u001b[2K\u001b[1A\u001b[2K\u001b[1;34msubmission_task1_next_item_counter.parquet\u001b[0m \u001b[90m━━━━━━\u001b[0m \u001b[35m0.6%\u001b[0m • \u001b[32m0.7/…\u001b[0m • \u001b[31m920.0 \u001b[0m • \u001b[36m0:02:…\u001b[0m\n",
      "\u001b[2K\u001b[1A\u001b[2K\u001b[1;34msubmission_task1_next_item_counter.parquet\u001b[0m \u001b[90m━━━━━━\u001b[0m \u001b[35m0.6%\u001b[0m • \u001b[32m0.7/…\u001b[0m • \u001b[31m927.3 \u001b[0m • \u001b[36m0:02:…\u001b[0m\n",
      "\u001b[2K\u001b[1A\u001b[2K\u001b[1;34msubmission_task1_next_item_counter.parquet\u001b[0m \u001b[90m━━━━━━\u001b[0m \u001b[35m0.6%\u001b[0m • \u001b[32m0.7/…\u001b[0m • \u001b[31m934.6 \u001b[0m • \u001b[36m0:02:…\u001b[0m\n",
      "\u001b[2K\u001b[1A\u001b[2K\u001b[1;34msubmission_task1_next_item_counter.parquet\u001b[0m \u001b[90m━━━━━━\u001b[0m \u001b[35m0.6%\u001b[0m • \u001b[32m0.7/…\u001b[0m • \u001b[31m941.7 \u001b[0m • \u001b[36m0:02:…\u001b[0m\n",
      "\u001b[2K\u001b[1A\u001b[2K\u001b[1;34msubmission_task1_next_item_counter.parquet\u001b[0m \u001b[90m━━━━━━\u001b[0m \u001b[35m0.6%\u001b[0m • \u001b[32m0.8/…\u001b[0m • \u001b[31m948.6 \u001b[0m • \u001b[36m0:02:…\u001b[0m\n",
      "\u001b[2K\u001b[1A\u001b[2K\u001b[1;34msubmission_task1_next_item_counter.parquet\u001b[0m \u001b[90m━━━━━━\u001b[0m \u001b[35m0.6%\u001b[0m • \u001b[32m0.8/…\u001b[0m • \u001b[31m955.7 \u001b[0m • \u001b[36m0:02:…\u001b[0m\n",
      "\u001b[2K\u001b[1A\u001b[2K\u001b[1;34msubmission_task1_next_item_counter.parquet\u001b[0m \u001b[90m━━━━━━\u001b[0m \u001b[35m0.6%\u001b[0m • \u001b[32m0.8/…\u001b[0m • \u001b[31m962.6 \u001b[0m • \u001b[36m0:02:…\u001b[0m\n",
      "\u001b[2K\u001b[1A\u001b[2K\u001b[1;34msubmission_task1_next_item_counter.parquet\u001b[0m \u001b[90m━━━━━━\u001b[0m \u001b[35m0.7%\u001b[0m • \u001b[32m0.8/…\u001b[0m • \u001b[31m969.5 \u001b[0m • \u001b[36m0:02:…\u001b[0m\n",
      "\u001b[2K\u001b[1A\u001b[2K\u001b[1;34msubmission_task1_next_item_counter.parquet\u001b[0m \u001b[90m━━━━━━\u001b[0m \u001b[35m0.7%\u001b[0m • \u001b[32m0.8/…\u001b[0m • \u001b[31m976.4 \u001b[0m • \u001b[36m0:02:…\u001b[0m\n",
      "\u001b[2K\u001b[1A\u001b[2K\u001b[1;34msubmission_task1_next_item_counter.parquet\u001b[0m \u001b[90m━━━━━━\u001b[0m \u001b[35m0.7%\u001b[0m • \u001b[32m0.8/…\u001b[0m • \u001b[31m983.2 \u001b[0m • \u001b[36m0:02:…\u001b[0m\n",
      "\u001b[2K\u001b[1A\u001b[2K\u001b[1;34msubmission_task1_next_item_counter.parquet\u001b[0m \u001b[90m━━━━━━\u001b[0m \u001b[35m0.7%\u001b[0m • \u001b[32m0.8/…\u001b[0m • \u001b[31m989.6 \u001b[0m • \u001b[36m0:02:…\u001b[0m\n",
      "\u001b[2K\u001b[1A\u001b[2K\u001b[1;34msubmission_task1_next_item_counter.parquet\u001b[0m \u001b[90m━━━━━━\u001b[0m \u001b[35m0.7%\u001b[0m • \u001b[32m0.8/…\u001b[0m • \u001b[31m995.9 \u001b[0m • \u001b[36m0:02:…\u001b[0m\n",
      "\u001b[2K\u001b[1A\u001b[2K\u001b[1;34msubmission_task1_next_item_counter.parquet\u001b[0m \u001b[90m━━━━━━\u001b[0m \u001b[35m0.7%\u001b[0m • \u001b[32m0.8/…\u001b[0m • \u001b[31m1.0   \u001b[0m • \u001b[36m0:01:…\u001b[0m\n",
      "\u001b[2K\u001b[1A\u001b[2K\u001b[1;34msubmission_task1_next_item_counter.parquet\u001b[0m \u001b[90m━━━━━━\u001b[0m \u001b[35m0.7%\u001b[0m • \u001b[32m0.8/…\u001b[0m • \u001b[31m1.0   \u001b[0m • \u001b[36m0:01:…\u001b[0m\n",
      "\u001b[2K\u001b[1A\u001b[2K\u001b[1;34msubmission_task1_next_item_counter.parquet\u001b[0m \u001b[90m━━━━━━\u001b[0m \u001b[35m0.7%\u001b[0m • \u001b[32m0.8/…\u001b[0m • \u001b[31m1.0   \u001b[0m • \u001b[36m0:01:…\u001b[0m\n",
      "\u001b[2K\u001b[1A\u001b[2K\u001b[1;34msubmission_task1_next_item_counter.parquet\u001b[0m \u001b[90m━━━━━━\u001b[0m \u001b[35m0.7%\u001b[0m • \u001b[32m0.8/…\u001b[0m • \u001b[31m979.6 \u001b[0m • \u001b[36m0:02:…\u001b[0m\n",
      "\u001b[2K\u001b[1A\u001b[2K\u001b[1;34msubmission_task1_next_item_counter.parquet\u001b[0m \u001b[90m━━━━━━\u001b[0m \u001b[35m0.7%\u001b[0m • \u001b[32m0.9/…\u001b[0m • \u001b[31m985.5 \u001b[0m • \u001b[36m0:02:…\u001b[0m\n",
      "\u001b[2K\u001b[1A\u001b[2K\u001b[1;34msubmission_task1_next_item_counter.parquet\u001b[0m \u001b[90m━━━━━━\u001b[0m \u001b[35m0.7%\u001b[0m • \u001b[32m0.9/…\u001b[0m • \u001b[31m991.7 \u001b[0m • \u001b[36m0:02:…\u001b[0m\n",
      "\u001b[2K\u001b[1A\u001b[2K\u001b[1;34msubmission_task1_next_item_counter.parquet\u001b[0m \u001b[90m━━━━━━\u001b[0m \u001b[35m0.7%\u001b[0m • \u001b[32m0.9/…\u001b[0m • \u001b[31m998.0 \u001b[0m • \u001b[36m0:02:…\u001b[0m\n",
      "\u001b[2K\u001b[1A\u001b[2K\u001b[1;34msubmission_task1_next_item_counter.parquet\u001b[0m \u001b[90m━━━━━━\u001b[0m \u001b[35m0.7%\u001b[0m • \u001b[32m0.9/…\u001b[0m • \u001b[31m998.0 \u001b[0m • \u001b[36m0:02:…\u001b[0m\n",
      "\u001b[2K\u001b[1A\u001b[2K\u001b[1;34msubmission_task1_next_item_counter.parquet\u001b[0m \u001b[90m━━━━━━\u001b[0m \u001b[35m0.7%\u001b[0m • \u001b[32m0.9/…\u001b[0m • \u001b[31m1.0   \u001b[0m • \u001b[36m0:01:…\u001b[0m\n",
      "\u001b[2K\u001b[1A\u001b[2K\u001b[1;34msubmission_task1_next_item_counter.parquet\u001b[0m \u001b[90m━━━━━━\u001b[0m \u001b[35m0.7%\u001b[0m • \u001b[32m0.9/…\u001b[0m • \u001b[31m1.0   \u001b[0m • \u001b[36m0:01:…\u001b[0m\n",
      "\u001b[2K\u001b[1A\u001b[2K\u001b[1;34msubmission_task1_next_item_counter.parquet\u001b[0m \u001b[90m━━━━━━\u001b[0m \u001b[35m0.7%\u001b[0m • \u001b[32m0.9/…\u001b[0m • \u001b[31m1.0   \u001b[0m • \u001b[36m0:01:…\u001b[0m\n",
      "\u001b[2K\u001b[1A\u001b[2K\u001b[1;34msubmission_task1_next_item_counter.parquet\u001b[0m \u001b[90m━━━━━━\u001b[0m \u001b[35m0.8%\u001b[0m • \u001b[32m0.9/…\u001b[0m • \u001b[31m1.0   \u001b[0m • \u001b[36m0:01:…\u001b[0m\n",
      "\u001b[2K\u001b[1A\u001b[2K\u001b[1;34msubmission_task1_next_item_counter.parquet\u001b[0m \u001b[90m━━━━━━\u001b[0m \u001b[35m0.8%\u001b[0m • \u001b[32m0.9/…\u001b[0m • \u001b[31m1.0   \u001b[0m • \u001b[36m0:01:…\u001b[0m\n",
      "\u001b[2K\u001b[1A\u001b[2K\u001b[1;34msubmission_task1_next_item_counter.parquet\u001b[0m \u001b[90m━━━━━━\u001b[0m \u001b[35m0.8%\u001b[0m • \u001b[32m0.9/…\u001b[0m • \u001b[31m1.0   \u001b[0m • \u001b[36m0:01:…\u001b[0m\n",
      "\u001b[2K\u001b[1A\u001b[2K\u001b[1;34msubmission_task1_next_item_counter.parquet\u001b[0m \u001b[90m━━━━━━\u001b[0m \u001b[35m0.8%\u001b[0m • \u001b[32m0.9/…\u001b[0m • \u001b[31m1.0   \u001b[0m • \u001b[36m0:01:…\u001b[0m\n",
      "\u001b[2K\u001b[1A\u001b[2K\u001b[1;34msubmission_task1_next_item_counter.parquet\u001b[0m \u001b[90m━━━━━━\u001b[0m \u001b[35m0.8%\u001b[0m • \u001b[32m0.9/…\u001b[0m • \u001b[31m1.0   \u001b[0m • \u001b[36m0:01:…\u001b[0m\n",
      "\u001b[2K\u001b[1A\u001b[2K\u001b[1;34msubmission_task1_next_item_counter.parquet\u001b[0m \u001b[90m━━━━━━\u001b[0m \u001b[35m0.8%\u001b[0m • \u001b[32m0.9/…\u001b[0m • \u001b[31m1.0   \u001b[0m • \u001b[36m0:01:…\u001b[0m\n",
      "\u001b[2K\u001b[1A\u001b[2K\u001b[1;34msubmission_task1_next_item_counter.parquet\u001b[0m \u001b[90m━━━━━━\u001b[0m \u001b[35m0.8%\u001b[0m • \u001b[32m1.0/…\u001b[0m • \u001b[31m1.1   \u001b[0m • \u001b[36m0:01:…\u001b[0m\n",
      "\u001b[2K\u001b[1A\u001b[2K\u001b[1;34msubmission_task1_next_item_counter.parquet\u001b[0m \u001b[90m━━━━━━\u001b[0m \u001b[35m0.8%\u001b[0m • \u001b[32m1.0/…\u001b[0m • \u001b[31m1.1   \u001b[0m • \u001b[36m0:01:…\u001b[0m\n",
      "\u001b[2K\u001b[1A\u001b[2K\u001b[1;34msubmission_task1_next_item_counter.parquet\u001b[0m \u001b[90m━━━━━━\u001b[0m \u001b[35m0.8%\u001b[0m • \u001b[32m1.0/…\u001b[0m • \u001b[31m1.1   \u001b[0m • \u001b[36m0:01:…\u001b[0m\n",
      "\u001b[2K\u001b[1A\u001b[2K\u001b[1;34msubmission_task1_next_item_counter.parquet\u001b[0m \u001b[90m━━━━━━\u001b[0m \u001b[35m0.8%\u001b[0m • \u001b[32m1.0/…\u001b[0m • \u001b[31m1.1   \u001b[0m • \u001b[36m0:01:…\u001b[0m\n",
      "\u001b[2K\u001b[1A\u001b[2K\u001b[1;34msubmission_task1_next_item_counter.parquet\u001b[0m \u001b[90m━━━━━━\u001b[0m \u001b[35m0.8%\u001b[0m • \u001b[32m1.0/…\u001b[0m • \u001b[31m1.1   \u001b[0m • \u001b[36m0:01:…\u001b[0m\n",
      "\u001b[2K\u001b[1A\u001b[2K\u001b[1;34msubmission_task1_next_item_counter.parquet\u001b[0m \u001b[90m━━━━━━\u001b[0m \u001b[35m0.8%\u001b[0m • \u001b[32m1.0/…\u001b[0m • \u001b[31m1.1   \u001b[0m • \u001b[36m0:01:…\u001b[0m\n",
      "\u001b[2K\u001b[1A\u001b[2K\u001b[1;34msubmission_task1_next_item_counter.parquet\u001b[0m \u001b[90m━━━━━━\u001b[0m \u001b[35m0.8%\u001b[0m • \u001b[32m1.0/…\u001b[0m • \u001b[31m1.1   \u001b[0m • \u001b[36m0:01:…\u001b[0m\n",
      "\u001b[2K\u001b[1A\u001b[2K\u001b[1;34msubmission_task1_next_item_counter.parquet\u001b[0m \u001b[90m━━━━━━\u001b[0m \u001b[35m0.8%\u001b[0m • \u001b[32m1.0/…\u001b[0m • \u001b[31m1.1   \u001b[0m • \u001b[36m0:01:…\u001b[0m\n",
      "\u001b[2K\u001b[1A\u001b[2K\u001b[1;34msubmission_task1_next_item_counter.parquet\u001b[0m \u001b[90m━━━━━━\u001b[0m \u001b[35m0.8%\u001b[0m • \u001b[32m1.0/…\u001b[0m • \u001b[31m1.1   \u001b[0m • \u001b[36m0:01:…\u001b[0m\n",
      "\u001b[2K\u001b[1A\u001b[2K\u001b[1;34msubmission_task1_next_item_counter.parquet\u001b[0m \u001b[90m━━━━━━\u001b[0m \u001b[35m0.9%\u001b[0m • \u001b[32m1.0/…\u001b[0m • \u001b[31m1.1   \u001b[0m • \u001b[36m0:01:…\u001b[0m\n",
      "\u001b[2K\u001b[1A\u001b[2K\u001b[1;34msubmission_task1_next_item_counter.parquet\u001b[0m \u001b[90m━━━━━━\u001b[0m \u001b[35m0.9%\u001b[0m • \u001b[32m1.0/…\u001b[0m • \u001b[31m1.1   \u001b[0m • \u001b[36m0:01:…\u001b[0m\n",
      "\u001b[2K\u001b[1A\u001b[2K\u001b[1;34msubmission_task1_next_item_counter.parquet\u001b[0m \u001b[90m━━━━━━\u001b[0m \u001b[35m0.9%\u001b[0m • \u001b[32m1.0/…\u001b[0m • \u001b[31m1.1   \u001b[0m • \u001b[36m0:01:…\u001b[0m\n",
      "\u001b[2K\u001b[1A\u001b[2K\u001b[1;34msubmission_task1_next_item_counter.parquet\u001b[0m \u001b[90m━━━━━━\u001b[0m \u001b[35m0.9%\u001b[0m • \u001b[32m1.0/…\u001b[0m • \u001b[31m1.1   \u001b[0m • \u001b[36m0:01:…\u001b[0m\n",
      "\u001b[2K\u001b[1A\u001b[2K\u001b[1;34msubmission_task1_next_item_counter.parquet\u001b[0m \u001b[90m━━━━━━\u001b[0m \u001b[35m0.9%\u001b[0m • \u001b[32m1.1/…\u001b[0m • \u001b[31m1.1   \u001b[0m • \u001b[36m0:01:…\u001b[0m\n",
      "\u001b[2K\u001b[1A\u001b[2K\u001b[1;34msubmission_task1_next_item_counter.parquet\u001b[0m \u001b[90m━━━━━━\u001b[0m \u001b[35m0.9%\u001b[0m • \u001b[32m1.1/…\u001b[0m • \u001b[31m1.1   \u001b[0m • \u001b[36m0:01:…\u001b[0m\n",
      "\u001b[2K\u001b[1A\u001b[2K\u001b[1;34msubmission_task1_next_item_counter.parquet\u001b[0m \u001b[90m━━━━━━\u001b[0m \u001b[35m0.9%\u001b[0m • \u001b[32m1.1/…\u001b[0m • \u001b[31m1.1   \u001b[0m • \u001b[36m0:01:…\u001b[0m\n",
      "\u001b[2K\u001b[1A\u001b[2K\u001b[1;34msubmission_task1_next_item_counter.parquet\u001b[0m \u001b[90m━━━━━━\u001b[0m \u001b[35m0.9%\u001b[0m • \u001b[32m1.1/…\u001b[0m • \u001b[31m1.1   \u001b[0m • \u001b[36m0:01:…\u001b[0m\n",
      "\u001b[2K\u001b[1A\u001b[2K\u001b[1;34msubmission_task1_next_item_counter.parquet\u001b[0m \u001b[90m━━━━━━\u001b[0m \u001b[35m0.9%\u001b[0m • \u001b[32m1.1/…\u001b[0m • \u001b[31m1.1   \u001b[0m • \u001b[36m0:01:…\u001b[0m\n",
      "\u001b[2K\u001b[1A\u001b[2K\u001b[1;34msubmission_task1_next_item_counter.parquet\u001b[0m \u001b[90m━━━━━━\u001b[0m \u001b[35m0.9%\u001b[0m • \u001b[32m1.1/…\u001b[0m • \u001b[31m1.2   \u001b[0m • \u001b[36m0:01:…\u001b[0m\n",
      "\u001b[2K\u001b[1A\u001b[2K\u001b[1;34msubmission_task1_next_item_counter.parquet\u001b[0m \u001b[90m━━━━━━\u001b[0m \u001b[35m0.9%\u001b[0m • \u001b[32m1.1/…\u001b[0m • \u001b[31m1.2   \u001b[0m • \u001b[36m0:01:…\u001b[0m\n",
      "\u001b[2K\u001b[1A\u001b[2K\u001b[1;34msubmission_task1_next_item_counter.parquet\u001b[0m \u001b[90m━━━━━━\u001b[0m \u001b[35m0.9%\u001b[0m • \u001b[32m1.1/…\u001b[0m • \u001b[31m1.2   \u001b[0m • \u001b[36m0:01:…\u001b[0m\n",
      "\u001b[2K\u001b[1A\u001b[2K\u001b[1;34msubmission_task1_next_item_counter.parquet\u001b[0m \u001b[90m━━━━━━\u001b[0m \u001b[35m0.9%\u001b[0m • \u001b[32m1.1/…\u001b[0m • \u001b[31m1.2   \u001b[0m • \u001b[36m0:01:…\u001b[0m\n",
      "\u001b[2K\u001b[1A\u001b[2K\u001b[1;34msubmission_task1_next_item_counter.parquet\u001b[0m \u001b[90m━━━━━━\u001b[0m \u001b[35m0.9%\u001b[0m • \u001b[32m1.1/…\u001b[0m • \u001b[31m1.2   \u001b[0m • \u001b[36m0:01:…\u001b[0m\n",
      "\u001b[2K\u001b[1A\u001b[2K\u001b[1;34msubmission_task1_next_item_counter.parquet\u001b[0m \u001b[90m━━━━━━\u001b[0m \u001b[35m1.0%\u001b[0m • \u001b[32m1.1/…\u001b[0m • \u001b[31m1.2   \u001b[0m • \u001b[36m0:01:…\u001b[0m\n",
      "\u001b[2K\u001b[1A\u001b[2K\u001b[1;34msubmission_task1_next_item_counter.parquet\u001b[0m \u001b[90m━━━━━━\u001b[0m \u001b[35m1.0%\u001b[0m • \u001b[32m1.1/…\u001b[0m • \u001b[31m1.2   \u001b[0m • \u001b[36m0:01:…\u001b[0m\n",
      "\u001b[2K\u001b[1A\u001b[2K\u001b[1;34msubmission_task1_next_item_counter.parquet\u001b[0m \u001b[90m━━━━━━\u001b[0m \u001b[35m1.0%\u001b[0m • \u001b[32m1.2/…\u001b[0m • \u001b[31m1.2   \u001b[0m • \u001b[36m0:01:…\u001b[0m\n",
      "\u001b[2K\u001b[1A\u001b[2K\u001b[1;34msubmission_task1_next_item_counter.parquet\u001b[0m \u001b[90m━━━━━━\u001b[0m \u001b[35m1.0%\u001b[0m • \u001b[32m1.2/…\u001b[0m • \u001b[31m1.2   \u001b[0m • \u001b[36m0:01:…\u001b[0m\n",
      "\u001b[2K\u001b[1A\u001b[2K\u001b[1;34msubmission_task1_next_item_counter.parquet\u001b[0m \u001b[90m━━━━━━\u001b[0m \u001b[35m1.0%\u001b[0m • \u001b[32m1.2/…\u001b[0m • \u001b[31m1.2   \u001b[0m • \u001b[36m0:01:…\u001b[0m\n",
      "\u001b[2K\u001b[1A\u001b[2K\u001b[1;34msubmission_task1_next_item_counter.parquet\u001b[0m \u001b[90m━━━━━━\u001b[0m \u001b[35m1.0%\u001b[0m • \u001b[32m1.2/…\u001b[0m • \u001b[31m1.2   \u001b[0m • \u001b[36m0:01:…\u001b[0m\n",
      "\u001b[2K\u001b[1A\u001b[2K\u001b[1;34msubmission_task1_next_item_counter.parquet\u001b[0m \u001b[90m━━━━━━\u001b[0m \u001b[35m1.0%\u001b[0m • \u001b[32m1.2/…\u001b[0m • \u001b[31m1.2   \u001b[0m • \u001b[36m0:01:…\u001b[0m\n",
      "\u001b[2K\u001b[1A\u001b[2K\u001b[1;34msubmission_task1_next_item_counter.parquet\u001b[0m \u001b[90m━━━━━━\u001b[0m \u001b[35m1.0%\u001b[0m • \u001b[32m1.2/…\u001b[0m • \u001b[31m1.2   \u001b[0m • \u001b[36m0:01:…\u001b[0m\n",
      "\u001b[2K\u001b[1A\u001b[2K\u001b[1;34msubmission_task1_next_item_counter.parquet\u001b[0m \u001b[90m━━━━━━\u001b[0m \u001b[35m1.0%\u001b[0m • \u001b[32m1.2/…\u001b[0m • \u001b[31m1.2   \u001b[0m • \u001b[36m0:01:…\u001b[0m\n",
      "\u001b[2K\u001b[1A\u001b[2K\u001b[1;34msubmission_task1_next_item_counter.parquet\u001b[0m \u001b[90m━━━━━━\u001b[0m \u001b[35m1.0%\u001b[0m • \u001b[32m1.2/…\u001b[0m • \u001b[31m1.2   \u001b[0m • \u001b[36m0:01:…\u001b[0m\n",
      "\u001b[2K\u001b[1A\u001b[2K\u001b[1;34msubmission_task1_next_item_counter.parquet\u001b[0m \u001b[90m━━━━━━\u001b[0m \u001b[35m1.0%\u001b[0m • \u001b[32m1.2/…\u001b[0m • \u001b[31m1.2   \u001b[0m • \u001b[36m0:01:…\u001b[0m\n",
      "\u001b[2K\u001b[1A\u001b[2K\u001b[1;34msubmission_task1_next_item_counter.parquet\u001b[0m \u001b[90m━━━━━━\u001b[0m \u001b[35m1.0%\u001b[0m • \u001b[32m1.2/…\u001b[0m • \u001b[31m1.2   \u001b[0m • \u001b[36m0:01:…\u001b[0m\n",
      "\u001b[2K\u001b[1A\u001b[2K\u001b[1;34msubmission_task1_next_item_counter.parquet\u001b[0m \u001b[90m━━━━━━\u001b[0m \u001b[35m1.0%\u001b[0m • \u001b[32m1.2/…\u001b[0m • \u001b[31m1.2   \u001b[0m • \u001b[36m0:01:…\u001b[0m\n",
      "\u001b[2K\u001b[1A\u001b[2K\u001b[1;34msubmission_task1_next_item_counter.parquet\u001b[0m \u001b[90m━━━━━━\u001b[0m \u001b[35m1.0%\u001b[0m • \u001b[32m1.2/…\u001b[0m • \u001b[31m1.2   \u001b[0m • \u001b[36m0:01:…\u001b[0m\n",
      "\u001b[2K\u001b[1A\u001b[2K\u001b[1;34msubmission_task1_next_item_counter.parquet\u001b[0m \u001b[90m━━━━━━\u001b[0m \u001b[35m1.0%\u001b[0m • \u001b[32m1.2/…\u001b[0m • \u001b[31m1.2   \u001b[0m • \u001b[36m0:01:…\u001b[0m\n",
      "\u001b[2K\u001b[1A\u001b[2K\u001b[1;34msubmission_task1_next_item_counter.parquet\u001b[0m \u001b[90m━━━━━━\u001b[0m \u001b[35m1.0%\u001b[0m • \u001b[32m1.3/…\u001b[0m • \u001b[31m1.2   \u001b[0m • \u001b[36m0:01:…\u001b[0m\n",
      "\u001b[2K\u001b[1A\u001b[2K\u001b[1;34msubmission_task1_next_item_counter.parquet\u001b[0m \u001b[90m━━━━━━\u001b[0m \u001b[35m1.1%\u001b[0m • \u001b[32m1.3/…\u001b[0m • \u001b[31m1.2   \u001b[0m • \u001b[36m0:01:…\u001b[0m\n",
      "\u001b[2K\u001b[1A\u001b[2K\u001b[1;34msubmission_task1_next_item_counter.parquet\u001b[0m \u001b[90m━━━━━━\u001b[0m \u001b[35m1.1%\u001b[0m • \u001b[32m1.3/…\u001b[0m • \u001b[31m1.3   \u001b[0m • \u001b[36m0:01:…\u001b[0m\n",
      "\u001b[2K\u001b[1A\u001b[2K\u001b[1;34msubmission_task1_next_item_counter.parquet\u001b[0m \u001b[90m━━━━━━\u001b[0m \u001b[35m1.1%\u001b[0m • \u001b[32m1.3/…\u001b[0m • \u001b[31m1.3   \u001b[0m • \u001b[36m0:01:…\u001b[0m\n",
      "\u001b[2K\u001b[1A\u001b[2K\u001b[1;34msubmission_task1_next_item_counter.parquet\u001b[0m \u001b[90m━━━━━━\u001b[0m \u001b[35m1.1%\u001b[0m • \u001b[32m1.3/…\u001b[0m • \u001b[31m1.3   \u001b[0m • \u001b[36m0:01:…\u001b[0m\n",
      "\u001b[2K\u001b[1A\u001b[2K\u001b[1;34msubmission_task1_next_item_counter.parquet\u001b[0m \u001b[90m━━━━━━\u001b[0m \u001b[35m1.1%\u001b[0m • \u001b[32m1.3/…\u001b[0m • \u001b[31m1.3   \u001b[0m • \u001b[36m0:01:…\u001b[0m\n",
      "\u001b[2K\u001b[1A\u001b[2K\u001b[1;34msubmission_task1_next_item_counter.parquet\u001b[0m \u001b[90m━━━━━━\u001b[0m \u001b[35m1.1%\u001b[0m • \u001b[32m1.3/…\u001b[0m • \u001b[31m1.3   \u001b[0m • \u001b[36m0:01:…\u001b[0m\n",
      "\u001b[2K\u001b[1A\u001b[2K\u001b[1;34msubmission_task1_next_item_counter.parquet\u001b[0m \u001b[90m━━━━━━\u001b[0m \u001b[35m1.1%\u001b[0m • \u001b[32m1.3/…\u001b[0m • \u001b[31m1.3   \u001b[0m • \u001b[36m0:01:…\u001b[0m\n",
      "\u001b[2K\u001b[1A\u001b[2K\u001b[1;34msubmission_task1_next_item_counter.parquet\u001b[0m \u001b[90m━━━━━━\u001b[0m \u001b[35m1.1%\u001b[0m • \u001b[32m1.3/…\u001b[0m • \u001b[31m1.3   \u001b[0m • \u001b[36m0:01:…\u001b[0m\n",
      "\u001b[2K\u001b[1A\u001b[2K\u001b[1;34msubmission_task1_next_item_counter.parquet\u001b[0m \u001b[90m━━━━━━\u001b[0m \u001b[35m1.1%\u001b[0m • \u001b[32m1.3/…\u001b[0m • \u001b[31m1.3   \u001b[0m • \u001b[36m0:01:…\u001b[0m\n",
      "\u001b[2K\u001b[1A\u001b[2K\u001b[1;34msubmission_task1_next_item_counter.parquet\u001b[0m \u001b[90m━━━━━━\u001b[0m \u001b[35m1.1%\u001b[0m • \u001b[32m1.3/…\u001b[0m • \u001b[31m1.3   \u001b[0m • \u001b[36m0:01:…\u001b[0m\n",
      "\u001b[2K\u001b[1A\u001b[2K\u001b[1;34msubmission_task1_next_item_counter.parquet\u001b[0m \u001b[90m━━━━━━\u001b[0m \u001b[35m1.1%\u001b[0m • \u001b[32m1.3/…\u001b[0m • \u001b[31m1.3   \u001b[0m • \u001b[36m0:01:…\u001b[0m\n",
      "\u001b[2K\u001b[1A\u001b[2K\u001b[1;34msubmission_task1_next_item_counter.parquet\u001b[0m \u001b[90m━━━━━━\u001b[0m \u001b[35m1.1%\u001b[0m • \u001b[32m1.4/…\u001b[0m • \u001b[31m1.3   \u001b[0m • \u001b[36m0:01:…\u001b[0m\n",
      "\u001b[2K\u001b[1A\u001b[2K\u001b[1;34msubmission_task1_next_item_counter.parquet\u001b[0m \u001b[90m━━━━━━\u001b[0m \u001b[35m1.1%\u001b[0m • \u001b[32m1.4/…\u001b[0m • \u001b[31m1.3   \u001b[0m • \u001b[36m0:01:…\u001b[0m\n",
      "\u001b[2K\u001b[1A\u001b[2K\u001b[1;34msubmission_task1_next_item_counter.parquet\u001b[0m \u001b[90m━━━━━━\u001b[0m \u001b[35m1.1%\u001b[0m • \u001b[32m1.4/…\u001b[0m • \u001b[31m1.3   \u001b[0m • \u001b[36m0:01:…\u001b[0m\n",
      "\u001b[2K\u001b[1A\u001b[2K\u001b[1;34msubmission_task1_next_item_counter.parquet\u001b[0m \u001b[90m━━━━━━\u001b[0m \u001b[35m1.2%\u001b[0m • \u001b[32m1.4/…\u001b[0m • \u001b[31m1.3   \u001b[0m • \u001b[36m0:01:…\u001b[0m\n",
      "\u001b[2K\u001b[1A\u001b[2K\u001b[1;34msubmission_task1_next_item_counter.parquet\u001b[0m \u001b[90m━━━━━━\u001b[0m \u001b[35m1.2%\u001b[0m • \u001b[32m1.4/…\u001b[0m • \u001b[31m1.3   \u001b[0m • \u001b[36m0:01:…\u001b[0m\n",
      "\u001b[2K\u001b[1A\u001b[2K\u001b[1;34msubmission_task1_next_item_counter.parquet\u001b[0m \u001b[90m━━━━━━\u001b[0m \u001b[35m1.2%\u001b[0m • \u001b[32m1.4/…\u001b[0m • \u001b[31m1.3   \u001b[0m • \u001b[36m0:01:…\u001b[0m\n",
      "\u001b[2K\u001b[1A\u001b[2K\u001b[1;34msubmission_task1_next_item_counter.parquet\u001b[0m \u001b[90m━━━━━━\u001b[0m \u001b[35m1.2%\u001b[0m • \u001b[32m1.4/…\u001b[0m • \u001b[31m1.3   \u001b[0m • \u001b[36m0:01:…\u001b[0m\n",
      "\u001b[2K\u001b[1A\u001b[2K\u001b[1;34msubmission_task1_next_item_counter.parquet\u001b[0m \u001b[90m━━━━━━\u001b[0m \u001b[35m1.2%\u001b[0m • \u001b[32m1.4/…\u001b[0m • \u001b[31m1.3   \u001b[0m • \u001b[36m0:01:…\u001b[0m\n",
      "\u001b[2K\u001b[1A\u001b[2K\u001b[1;34msubmission_task1_next_item_counter.parquet\u001b[0m \u001b[90m━━━━━━\u001b[0m \u001b[35m1.2%\u001b[0m • \u001b[32m1.4/…\u001b[0m • \u001b[31m1.3   \u001b[0m • \u001b[36m0:01:…\u001b[0m\n",
      "\u001b[2K\u001b[1A\u001b[2K\u001b[1;34msubmission_task1_next_item_counter.parquet\u001b[0m \u001b[90m━━━━━━\u001b[0m \u001b[35m1.2%\u001b[0m • \u001b[32m1.4/…\u001b[0m • \u001b[31m1.3   \u001b[0m • \u001b[36m0:01:…\u001b[0m\n",
      "\u001b[2K\u001b[1A\u001b[2K\u001b[1;34msubmission_task1_next_item_counter.parquet\u001b[0m \u001b[90m━━━━━━\u001b[0m \u001b[35m1.2%\u001b[0m • \u001b[32m1.4/…\u001b[0m • \u001b[31m1.3   \u001b[0m • \u001b[36m0:01:…\u001b[0m\n",
      "\u001b[2K\u001b[1A\u001b[2K\u001b[1;34msubmission_task1_next_item_counter.parquet\u001b[0m \u001b[90m━━━━━━\u001b[0m \u001b[35m1.2%\u001b[0m • \u001b[32m1.4/…\u001b[0m • \u001b[31m1.3   \u001b[0m • \u001b[36m0:01:…\u001b[0m\n",
      "\u001b[2K\u001b[1A\u001b[2K\u001b[1;34msubmission_task1_next_item_counter.parquet\u001b[0m \u001b[90m━━━━━━\u001b[0m \u001b[35m1.2%\u001b[0m • \u001b[32m1.4/…\u001b[0m • \u001b[31m1.3   \u001b[0m • \u001b[36m0:01:…\u001b[0m\n",
      "\u001b[2K\u001b[1A\u001b[2K\u001b[1;34msubmission_task1_next_item_counter.parquet\u001b[0m \u001b[90m━━━━━━\u001b[0m \u001b[35m1.2%\u001b[0m • \u001b[32m1.4/…\u001b[0m • \u001b[31m1.3   \u001b[0m • \u001b[36m0:01:…\u001b[0m\n",
      "\u001b[2K\u001b[1A\u001b[2K\u001b[1;34msubmission_task1_next_item_counter.parquet\u001b[0m \u001b[90m━━━━━━\u001b[0m \u001b[35m1.2%\u001b[0m • \u001b[32m1.5/…\u001b[0m • \u001b[31m1.3   \u001b[0m • \u001b[36m0:01:…\u001b[0m\n",
      "\u001b[2K\u001b[1A\u001b[2K\u001b[1;34msubmission_task1_next_item_counter.parquet\u001b[0m \u001b[90m━━━━━━\u001b[0m \u001b[35m1.2%\u001b[0m • \u001b[32m1.5/…\u001b[0m • \u001b[31m1.4   \u001b[0m • \u001b[36m0:01:…\u001b[0m\n",
      "\u001b[2K\u001b[1A\u001b[2K\u001b[1;34msubmission_task1_next_item_counter.parquet\u001b[0m \u001b[90m━━━━━━\u001b[0m \u001b[35m1.2%\u001b[0m • \u001b[32m1.5/…\u001b[0m • \u001b[31m1.4   \u001b[0m • \u001b[36m0:01:…\u001b[0m\n",
      "\u001b[2K\u001b[1A\u001b[2K\u001b[1;34msubmission_task1_next_item_counter.parquet\u001b[0m \u001b[90m━━━━━━\u001b[0m \u001b[35m1.2%\u001b[0m • \u001b[32m1.5/…\u001b[0m • \u001b[31m1.4   \u001b[0m • \u001b[36m0:01:…\u001b[0m\n",
      "\u001b[2K\u001b[1A\u001b[2K\u001b[1;34msubmission_task1_next_item_counter.parquet\u001b[0m \u001b[90m━━━━━━\u001b[0m \u001b[35m1.2%\u001b[0m • \u001b[32m1.5/…\u001b[0m • \u001b[31m1.4   \u001b[0m • \u001b[36m0:01:…\u001b[0m\n",
      "\u001b[2K\u001b[1A\u001b[2K\u001b[1;34msubmission_task1_next_item_counter.parquet\u001b[0m \u001b[90m━━━━━━\u001b[0m \u001b[35m1.3%\u001b[0m • \u001b[32m1.5/…\u001b[0m • \u001b[31m1.4   \u001b[0m • \u001b[36m0:01:…\u001b[0m\n",
      "\u001b[2K\u001b[1A\u001b[2K\u001b[1;34msubmission_task1_next_item_counter.parquet\u001b[0m \u001b[90m━━━━━━\u001b[0m \u001b[35m1.3%\u001b[0m • \u001b[32m1.5/…\u001b[0m • \u001b[31m1.4   \u001b[0m • \u001b[36m0:01:…\u001b[0m\n",
      "\u001b[2K\u001b[1A\u001b[2K\u001b[1;34msubmission_task1_next_item_counter.parquet\u001b[0m \u001b[90m━━━━━━\u001b[0m \u001b[35m1.3%\u001b[0m • \u001b[32m1.5/…\u001b[0m • \u001b[31m1.4   \u001b[0m • \u001b[36m0:01:…\u001b[0m\n",
      "\u001b[2K\u001b[1A\u001b[2K\u001b[1;34msubmission_task1_next_item_counter.parquet\u001b[0m \u001b[90m━━━━━━\u001b[0m \u001b[35m1.3%\u001b[0m • \u001b[32m1.5/…\u001b[0m • \u001b[31m1.4   \u001b[0m • \u001b[36m0:01:…\u001b[0m\n",
      "\u001b[2K\u001b[1A\u001b[2K\u001b[1;34msubmission_task1_next_item_counter.parquet\u001b[0m \u001b[90m━━━━━━\u001b[0m \u001b[35m1.3%\u001b[0m • \u001b[32m1.5/…\u001b[0m • \u001b[31m1.4   \u001b[0m • \u001b[36m0:01:…\u001b[0m\n",
      "\u001b[2K\u001b[1A\u001b[2K\u001b[1;34msubmission_task1_next_item_counter.parquet\u001b[0m \u001b[90m━━━━━━\u001b[0m \u001b[35m1.3%\u001b[0m • \u001b[32m1.5/…\u001b[0m • \u001b[31m1.4   \u001b[0m • \u001b[36m0:01:…\u001b[0m\n",
      "\u001b[2K\u001b[1A\u001b[2K\u001b[1;34msubmission_task1_next_item_counter.parquet\u001b[0m \u001b[90m━━━━━━\u001b[0m \u001b[35m1.3%\u001b[0m • \u001b[32m1.5/…\u001b[0m • \u001b[31m1.4   \u001b[0m • \u001b[36m0:01:…\u001b[0m\n",
      "\u001b[2K\u001b[1A\u001b[2K\u001b[1;34msubmission_task1_next_item_counter.parquet\u001b[0m \u001b[90m━━━━━━\u001b[0m \u001b[35m1.3%\u001b[0m • \u001b[32m1.6/…\u001b[0m • \u001b[31m1.4   \u001b[0m • \u001b[36m0:01:…\u001b[0m\n",
      "\u001b[2K\u001b[1A\u001b[2K\u001b[1;34msubmission_task1_next_item_counter.parquet\u001b[0m \u001b[90m━━━━━━\u001b[0m \u001b[35m1.3%\u001b[0m • \u001b[32m1.6/…\u001b[0m • \u001b[31m1.4   \u001b[0m • \u001b[36m0:01:…\u001b[0m\n",
      "\u001b[2K\u001b[1A\u001b[2K\u001b[1;34msubmission_task1_next_item_counter.parquet\u001b[0m \u001b[90m━━━━━━\u001b[0m \u001b[35m1.3%\u001b[0m • \u001b[32m1.6/…\u001b[0m • \u001b[31m1.4   \u001b[0m • \u001b[36m0:01:…\u001b[0m\n",
      "\u001b[2K\u001b[1A\u001b[2K\u001b[1;34msubmission_task1_next_item_counter.parquet\u001b[0m \u001b[90m━━━━━━\u001b[0m \u001b[35m1.3%\u001b[0m • \u001b[32m1.6/…\u001b[0m • \u001b[31m1.4   \u001b[0m • \u001b[36m0:01:…\u001b[0m\n",
      "\u001b[2K\u001b[1A\u001b[2K\u001b[1;34msubmission_task1_next_item_counter.parquet\u001b[0m \u001b[90m━━━━━━\u001b[0m \u001b[35m1.3%\u001b[0m • \u001b[32m1.6/…\u001b[0m • \u001b[31m1.4   \u001b[0m • \u001b[36m0:01:…\u001b[0m\n",
      "\u001b[2K\u001b[1A\u001b[2K\u001b[1;34msubmission_task1_next_item_counter.parquet\u001b[0m \u001b[90m━━━━━━\u001b[0m \u001b[35m1.3%\u001b[0m • \u001b[32m1.6/…\u001b[0m • \u001b[31m1.4   \u001b[0m • \u001b[36m0:01:…\u001b[0m\n",
      "\u001b[2K\u001b[1A\u001b[2K\u001b[1;34msubmission_task1_next_item_counter.parquet\u001b[0m \u001b[90m━━━━━━\u001b[0m \u001b[35m1.3%\u001b[0m • \u001b[32m1.6/…\u001b[0m • \u001b[31m1.4   \u001b[0m • \u001b[36m0:01:…\u001b[0m\n",
      "\u001b[2K\u001b[1A\u001b[2K\u001b[1;34msubmission_task1_next_item_counter.parquet\u001b[0m \u001b[90m━━━━━━\u001b[0m \u001b[35m1.3%\u001b[0m • \u001b[32m1.6/…\u001b[0m • \u001b[31m1.4   \u001b[0m • \u001b[36m0:01:…\u001b[0m\n",
      "\u001b[2K\u001b[1A\u001b[2K\u001b[1;34msubmission_task1_next_item_counter.parquet\u001b[0m \u001b[90m━━━━━━\u001b[0m \u001b[35m1.4%\u001b[0m • \u001b[32m1.6/…\u001b[0m • \u001b[31m1.4   \u001b[0m • \u001b[36m0:01:…\u001b[0m\n",
      "\u001b[2K\u001b[1A\u001b[2K\u001b[1;34msubmission_task1_next_item_counter.parquet\u001b[0m \u001b[90m━━━━━━\u001b[0m \u001b[35m1.4%\u001b[0m • \u001b[32m1.6/…\u001b[0m • \u001b[31m1.4   \u001b[0m • \u001b[36m0:01:…\u001b[0m\n",
      "\u001b[2K\u001b[1A\u001b[2K\u001b[1;34msubmission_task1_next_item_counter.parquet\u001b[0m \u001b[90m━━━━━━\u001b[0m \u001b[35m1.4%\u001b[0m • \u001b[32m1.6/…\u001b[0m • \u001b[31m1.4   \u001b[0m • \u001b[36m0:01:…\u001b[0m\n",
      "\u001b[2K\u001b[1A\u001b[2K\u001b[1;34msubmission_task1_next_item_counter.parquet\u001b[0m \u001b[90m━━━━━━\u001b[0m \u001b[35m1.4%\u001b[0m • \u001b[32m1.6/…\u001b[0m • \u001b[31m1.4   \u001b[0m • \u001b[36m0:01:…\u001b[0m\n",
      "\u001b[2K\u001b[1A\u001b[2K\u001b[1;34msubmission_task1_next_item_counter.parquet\u001b[0m \u001b[90m━━━━━━\u001b[0m \u001b[35m1.4%\u001b[0m • \u001b[32m1.7/…\u001b[0m • \u001b[31m1.4   \u001b[0m • \u001b[36m0:01:…\u001b[0m\n",
      "\u001b[2K\u001b[1A\u001b[2K\u001b[1;34msubmission_task1_next_item_counter.parquet\u001b[0m \u001b[90m━━━━━━\u001b[0m \u001b[35m1.4%\u001b[0m • \u001b[32m1.7/…\u001b[0m • \u001b[31m1.4   \u001b[0m • \u001b[36m0:01:…\u001b[0m\n",
      "\u001b[2K\u001b[1A\u001b[2K\u001b[1;34msubmission_task1_next_item_counter.parquet\u001b[0m \u001b[90m━━━━━━\u001b[0m \u001b[35m1.4%\u001b[0m • \u001b[32m1.7/…\u001b[0m • \u001b[31m1.4   \u001b[0m • \u001b[36m0:01:…\u001b[0m\n",
      "\u001b[2K\u001b[1A\u001b[2K\u001b[1;34msubmission_task1_next_item_counter.parquet\u001b[0m \u001b[90m━━━━━━\u001b[0m \u001b[35m1.4%\u001b[0m • \u001b[32m1.7/…\u001b[0m • \u001b[31m1.4   \u001b[0m • \u001b[36m0:01:…\u001b[0m\n",
      "\u001b[2K\u001b[1A\u001b[2K\u001b[1;34msubmission_task1_next_item_counter.parquet\u001b[0m \u001b[90m━━━━━━\u001b[0m \u001b[35m1.4%\u001b[0m • \u001b[32m1.7/…\u001b[0m • \u001b[31m1.5   \u001b[0m • \u001b[36m0:01:…\u001b[0m\n",
      "\u001b[2K\u001b[1A\u001b[2K\u001b[1;34msubmission_task1_next_item_counter.parquet\u001b[0m \u001b[90m━━━━━━\u001b[0m \u001b[35m1.4%\u001b[0m • \u001b[32m1.7/…\u001b[0m • \u001b[31m1.5   \u001b[0m • \u001b[36m0:01:…\u001b[0m\n",
      "\u001b[2K\u001b[1A\u001b[2K\u001b[1;34msubmission_task1_next_item_counter.parquet\u001b[0m \u001b[90m━━━━━━\u001b[0m \u001b[35m1.4%\u001b[0m • \u001b[32m1.7/…\u001b[0m • \u001b[31m1.5   \u001b[0m • \u001b[36m0:01:…\u001b[0m\n",
      "\u001b[2K\u001b[1A\u001b[2K\u001b[1;34msubmission_task1_next_item_counter.parquet\u001b[0m \u001b[90m━━━━━━\u001b[0m \u001b[35m1.4%\u001b[0m • \u001b[32m1.7/…\u001b[0m • \u001b[31m1.5   \u001b[0m • \u001b[36m0:01:…\u001b[0m\n",
      "\u001b[2K\u001b[1A\u001b[2K\u001b[1;34msubmission_task1_next_item_counter.parquet\u001b[0m \u001b[90m━━━━━━\u001b[0m \u001b[35m1.4%\u001b[0m • \u001b[32m1.7/…\u001b[0m • \u001b[31m1.5   \u001b[0m • \u001b[36m0:01:…\u001b[0m\n",
      "\u001b[2K\u001b[1A\u001b[2K\u001b[1;34msubmission_task1_next_item_counter.parquet\u001b[0m \u001b[90m━━━━━━\u001b[0m \u001b[35m1.4%\u001b[0m • \u001b[32m1.7/…\u001b[0m • \u001b[31m1.5   \u001b[0m • \u001b[36m0:01:…\u001b[0m\n",
      "\u001b[2K\u001b[1A\u001b[2K\u001b[1;34msubmission_task1_next_item_counter.parquet\u001b[0m \u001b[90m━━━━━━\u001b[0m \u001b[35m1.4%\u001b[0m • \u001b[32m1.7/…\u001b[0m • \u001b[31m1.5   \u001b[0m • \u001b[36m0:01:…\u001b[0m\n",
      "\u001b[2K\u001b[1A\u001b[2K\u001b[1;34msubmission_task1_next_item_counter.parquet\u001b[0m \u001b[90m━━━━━━\u001b[0m \u001b[35m1.5%\u001b[0m • \u001b[32m1.7/…\u001b[0m • \u001b[31m1.5   \u001b[0m • \u001b[36m0:01:…\u001b[0m\n",
      "\u001b[2K\u001b[1A\u001b[2K\u001b[1;34msubmission_task1_next_item_counter.parquet\u001b[0m \u001b[90m━━━━━━\u001b[0m \u001b[35m1.5%\u001b[0m • \u001b[32m1.7/…\u001b[0m • \u001b[31m1.5   \u001b[0m • \u001b[36m0:01:…\u001b[0m\n",
      "\u001b[2K\u001b[1A\u001b[2K\u001b[1;34msubmission_task1_next_item_counter.parquet\u001b[0m \u001b[90m━━━━━━\u001b[0m \u001b[35m1.5%\u001b[0m • \u001b[32m1.8/…\u001b[0m • \u001b[31m1.5   \u001b[0m • \u001b[36m0:01:…\u001b[0m\n",
      "\u001b[2K\u001b[1A\u001b[2K\u001b[1;34msubmission_task1_next_item_counter.parquet\u001b[0m \u001b[90m━━━━━━\u001b[0m \u001b[35m1.5%\u001b[0m • \u001b[32m1.8/…\u001b[0m • \u001b[31m1.5   \u001b[0m • \u001b[36m0:01:…\u001b[0m\n",
      "\u001b[2K\u001b[1A\u001b[2K\u001b[1;34msubmission_task1_next_item_counter.parquet\u001b[0m \u001b[90m━━━━━━\u001b[0m \u001b[35m1.5%\u001b[0m • \u001b[32m1.8/…\u001b[0m • \u001b[31m1.5   \u001b[0m • \u001b[36m0:01:…\u001b[0m\n",
      "\u001b[2K\u001b[1A\u001b[2K\u001b[1;34msubmission_task1_next_item_counter.parquet\u001b[0m \u001b[90m━━━━━━\u001b[0m \u001b[35m1.5%\u001b[0m • \u001b[32m1.8/…\u001b[0m • \u001b[31m1.5   \u001b[0m • \u001b[36m0:01:…\u001b[0m\n",
      "\u001b[2K\u001b[1A\u001b[2K\u001b[1;34msubmission_task1_next_item_counter.parquet\u001b[0m \u001b[90m━━━━━━\u001b[0m \u001b[35m1.5%\u001b[0m • \u001b[32m1.8/…\u001b[0m • \u001b[31m1.5   \u001b[0m • \u001b[36m0:01:…\u001b[0m\n",
      "\u001b[2K\u001b[1A\u001b[2K\u001b[1;34msubmission_task1_next_item_counter.parquet\u001b[0m \u001b[90m━━━━━━\u001b[0m \u001b[35m1.5%\u001b[0m • \u001b[32m1.8/…\u001b[0m • \u001b[31m1.5   \u001b[0m • \u001b[36m0:01:…\u001b[0m\n",
      "\u001b[2K\u001b[1A\u001b[2K\u001b[1;34msubmission_task1_next_item_counter.parquet\u001b[0m \u001b[90m━━━━━━\u001b[0m \u001b[35m1.5%\u001b[0m • \u001b[32m1.8/…\u001b[0m • \u001b[31m1.5   \u001b[0m • \u001b[36m0:01:…\u001b[0m\n",
      "\u001b[2K\u001b[1A\u001b[2K\u001b[1;34msubmission_task1_next_item_counter.parquet\u001b[0m \u001b[90m━━━━━━\u001b[0m \u001b[35m1.5%\u001b[0m • \u001b[32m1.8/…\u001b[0m • \u001b[31m1.5   \u001b[0m • \u001b[36m0:01:…\u001b[0m\n",
      "\u001b[2K\u001b[1A\u001b[2K\u001b[1;34msubmission_task1_next_item_counter.parquet\u001b[0m \u001b[90m━━━━━━\u001b[0m \u001b[35m1.5%\u001b[0m • \u001b[32m1.8/…\u001b[0m • \u001b[31m1.5   \u001b[0m • \u001b[36m0:01:…\u001b[0m\n",
      "\u001b[2K\u001b[1A\u001b[2K\u001b[1;34msubmission_task1_next_item_counter.parquet\u001b[0m \u001b[90m━━━━━━\u001b[0m \u001b[35m1.5%\u001b[0m • \u001b[32m1.8/…\u001b[0m • \u001b[31m1.5   \u001b[0m • \u001b[36m0:01:…\u001b[0m\n",
      "\u001b[2K\u001b[1A\u001b[2K\u001b[1;34msubmission_task1_next_item_counter.parquet\u001b[0m \u001b[90m━━━━━━\u001b[0m \u001b[35m1.5%\u001b[0m • \u001b[32m1.8/…\u001b[0m • \u001b[31m1.5   \u001b[0m • \u001b[36m0:01:…\u001b[0m\n",
      "\u001b[2K\u001b[1A\u001b[2K\u001b[1;34msubmission_task1_next_item_counter.parquet\u001b[0m \u001b[90m━━━━━━\u001b[0m \u001b[35m1.5%\u001b[0m • \u001b[32m1.8/…\u001b[0m • \u001b[31m1.5   \u001b[0m • \u001b[36m0:01:…\u001b[0m\n",
      "\u001b[2K\u001b[1A\u001b[2K\u001b[1;34msubmission_task1_next_item_counter.parquet\u001b[0m \u001b[90m━━━━━━\u001b[0m \u001b[35m1.5%\u001b[0m • \u001b[32m1.9/…\u001b[0m • \u001b[31m1.5   \u001b[0m • \u001b[36m0:01:…\u001b[0m\n",
      "\u001b[2K\u001b[1A\u001b[2K\u001b[1;34msubmission_task1_next_item_counter.parquet\u001b[0m \u001b[90m━━━━━━\u001b[0m \u001b[35m1.6%\u001b[0m • \u001b[32m1.9/…\u001b[0m • \u001b[31m1.5   \u001b[0m • \u001b[36m0:01:…\u001b[0m\n",
      "\u001b[2K\u001b[1A\u001b[2K\u001b[1;34msubmission_task1_next_item_counter.parquet\u001b[0m \u001b[90m━━━━━━\u001b[0m \u001b[35m1.6%\u001b[0m • \u001b[32m1.9/…\u001b[0m • \u001b[31m1.5   \u001b[0m • \u001b[36m0:01:…\u001b[0m\n",
      "\u001b[2K\u001b[1A\u001b[2K\u001b[1;34msubmission_task1_next_item_counter.parquet\u001b[0m \u001b[90m━━━━━━\u001b[0m \u001b[35m1.6%\u001b[0m • \u001b[32m1.9/…\u001b[0m • \u001b[31m1.5   \u001b[0m • \u001b[36m0:01:…\u001b[0m\n",
      "\u001b[2K\u001b[1A\u001b[2K\u001b[1;34msubmission_task1_next_item_counter.parquet\u001b[0m \u001b[90m━━━━━━\u001b[0m \u001b[35m1.6%\u001b[0m • \u001b[32m1.9/…\u001b[0m • \u001b[31m1.5   \u001b[0m • \u001b[36m0:01:…\u001b[0m\n",
      "\u001b[2K\u001b[1A\u001b[2K\u001b[1;34msubmission_task1_next_item_counter.parquet\u001b[0m \u001b[90m━━━━━━\u001b[0m \u001b[35m1.6%\u001b[0m • \u001b[32m1.9/…\u001b[0m • \u001b[31m1.5   \u001b[0m • \u001b[36m0:01:…\u001b[0m\n",
      "\u001b[2K\u001b[1A\u001b[2K\u001b[1;34msubmission_task1_next_item_counter.parquet\u001b[0m \u001b[90m━━━━━━\u001b[0m \u001b[35m1.6%\u001b[0m • \u001b[32m1.9/…\u001b[0m • \u001b[31m1.5   \u001b[0m • \u001b[36m0:01:…\u001b[0m\n",
      "\u001b[2K\u001b[1A\u001b[2K\u001b[1;34msubmission_task1_next_item_counter.parquet\u001b[0m \u001b[90m━━━━━━\u001b[0m \u001b[35m1.6%\u001b[0m • \u001b[32m1.9/…\u001b[0m • \u001b[31m1.5   \u001b[0m • \u001b[36m0:01:…\u001b[0m\n",
      "\u001b[2K\u001b[1A\u001b[2K\u001b[1;34msubmission_task1_next_item_counter.parquet\u001b[0m \u001b[90m━━━━━━\u001b[0m \u001b[35m1.6%\u001b[0m • \u001b[32m1.9/…\u001b[0m • \u001b[31m1.5   \u001b[0m • \u001b[36m0:01:…\u001b[0m\n",
      "\u001b[2K\u001b[1A\u001b[2K\u001b[1;34msubmission_task1_next_item_counter.parquet\u001b[0m \u001b[90m━━━━━━\u001b[0m \u001b[35m1.6%\u001b[0m • \u001b[32m1.9/…\u001b[0m • \u001b[31m1.5   \u001b[0m • \u001b[36m0:01:…\u001b[0m\n",
      "\u001b[2K\u001b[1A\u001b[2K\u001b[1;34msubmission_task1_next_item_counter.parquet\u001b[0m \u001b[90m━━━━━━\u001b[0m \u001b[35m1.6%\u001b[0m • \u001b[32m1.9/…\u001b[0m • \u001b[31m1.5   \u001b[0m • \u001b[36m0:01:…\u001b[0m\n",
      "\u001b[2K\u001b[1A\u001b[2K\u001b[1;34msubmission_task1_next_item_counter.parquet\u001b[0m \u001b[90m━━━━━━\u001b[0m \u001b[35m1.6%\u001b[0m • \u001b[32m1.9/…\u001b[0m • \u001b[31m1.5   \u001b[0m • \u001b[36m0:01:…\u001b[0m\n",
      "\u001b[2K\u001b[1A\u001b[2K\u001b[1;34msubmission_task1_next_item_counter.parquet\u001b[0m \u001b[90m━━━━━━\u001b[0m \u001b[35m1.6%\u001b[0m • \u001b[32m1.9/…\u001b[0m • \u001b[31m1.5   \u001b[0m • \u001b[36m0:01:…\u001b[0m\n",
      "\u001b[2K\u001b[1A\u001b[2K\u001b[1;34msubmission_task1_next_item_counter.parquet\u001b[0m \u001b[90m━━━━━━\u001b[0m \u001b[35m1.6%\u001b[0m • \u001b[32m2.0/…\u001b[0m • \u001b[31m1.5   \u001b[0m • \u001b[36m0:01:…\u001b[0m\n",
      "\u001b[2K\u001b[1A\u001b[2K\u001b[1;34msubmission_task1_next_item_counter.parquet\u001b[0m \u001b[90m━━━━━━\u001b[0m \u001b[35m1.6%\u001b[0m • \u001b[32m2.0/…\u001b[0m • \u001b[31m1.6   \u001b[0m • \u001b[36m0:01:…\u001b[0m\n",
      "\u001b[2K\u001b[1A\u001b[2K\u001b[1;34msubmission_task1_next_item_counter.parquet\u001b[0m \u001b[90m━━━━━━\u001b[0m \u001b[35m1.6%\u001b[0m • \u001b[32m2.0/…\u001b[0m • \u001b[31m1.6   \u001b[0m • \u001b[36m0:01:…\u001b[0m\n",
      "\u001b[2K\u001b[1A\u001b[2K\u001b[1;34msubmission_task1_next_item_counter.parquet\u001b[0m \u001b[90m━━━━━━\u001b[0m \u001b[35m1.7%\u001b[0m • \u001b[32m2.0/…\u001b[0m • \u001b[31m1.6   \u001b[0m • \u001b[36m0:01:…\u001b[0m\n",
      "\u001b[2K\u001b[1A\u001b[2K\u001b[1;34msubmission_task1_next_item_counter.parquet\u001b[0m \u001b[90m━━━━━━\u001b[0m \u001b[35m1.7%\u001b[0m • \u001b[32m2.0/…\u001b[0m • \u001b[31m1.6   \u001b[0m • \u001b[36m0:01:…\u001b[0m\n",
      "\u001b[2K\u001b[1A\u001b[2K\u001b[1;34msubmission_task1_next_item_counter.parquet\u001b[0m \u001b[90m━━━━━━\u001b[0m \u001b[35m1.7%\u001b[0m • \u001b[32m2.0/…\u001b[0m • \u001b[31m1.6   \u001b[0m • \u001b[36m0:01:…\u001b[0m\n",
      "\u001b[2K\u001b[1A\u001b[2K\u001b[1;34msubmission_task1_next_item_counter.parquet\u001b[0m \u001b[90m━━━━━━\u001b[0m \u001b[35m1.7%\u001b[0m • \u001b[32m2.0/…\u001b[0m • \u001b[31m1.6   \u001b[0m • \u001b[36m0:01:…\u001b[0m\n",
      "\u001b[2K\u001b[1A\u001b[2K\u001b[1;34msubmission_task1_next_item_counter.parquet\u001b[0m \u001b[90m━━━━━━\u001b[0m \u001b[35m1.7%\u001b[0m • \u001b[32m2.0/…\u001b[0m • \u001b[31m1.6   \u001b[0m • \u001b[36m0:01:…\u001b[0m\n",
      "\u001b[2K\u001b[1A\u001b[2K\u001b[1;34msubmission_task1_next_item_counter.parquet\u001b[0m \u001b[90m━━━━━━\u001b[0m \u001b[35m1.7%\u001b[0m • \u001b[32m2.0/…\u001b[0m • \u001b[31m1.6   \u001b[0m • \u001b[36m0:01:…\u001b[0m\n",
      "\u001b[2K\u001b[1A\u001b[2K\u001b[1;34msubmission_task1_next_item_counter.parquet\u001b[0m \u001b[90m━━━━━━\u001b[0m \u001b[35m1.7%\u001b[0m • \u001b[32m2.0/…\u001b[0m • \u001b[31m1.6   \u001b[0m • \u001b[36m0:01:…\u001b[0m\n",
      "\u001b[2K\u001b[1A\u001b[2K\u001b[1;34msubmission_task1_next_item_counter.parquet\u001b[0m \u001b[90m━━━━━━\u001b[0m \u001b[35m1.7%\u001b[0m • \u001b[32m2.0/…\u001b[0m • \u001b[31m1.6   \u001b[0m • \u001b[36m0:01:…\u001b[0m\n",
      "\u001b[2K\u001b[1A\u001b[2K\u001b[1;34msubmission_task1_next_item_counter.parquet\u001b[0m \u001b[90m━━━━━━\u001b[0m \u001b[35m1.7%\u001b[0m • \u001b[32m2.0/…\u001b[0m • \u001b[31m1.6   \u001b[0m • \u001b[36m0:01:…\u001b[0m\n",
      "\u001b[2K\u001b[1A\u001b[2K\u001b[1;34msubmission_task1_next_item_counter.parquet\u001b[0m \u001b[90m━━━━━━\u001b[0m \u001b[35m1.7%\u001b[0m • \u001b[32m2.0/…\u001b[0m • \u001b[31m1.6   \u001b[0m • \u001b[36m0:01:…\u001b[0m\n",
      "\u001b[2K\u001b[1A\u001b[2K\u001b[1;34msubmission_task1_next_item_counter.parquet\u001b[0m \u001b[90m━━━━━━\u001b[0m \u001b[35m1.7%\u001b[0m • \u001b[32m2.1/…\u001b[0m • \u001b[31m1.6   \u001b[0m • \u001b[36m0:01:…\u001b[0m\n",
      "\u001b[2K\u001b[1A\u001b[2K\u001b[1;34msubmission_task1_next_item_counter.parquet\u001b[0m \u001b[90m━━━━━━\u001b[0m \u001b[35m1.7%\u001b[0m • \u001b[32m2.1/…\u001b[0m • \u001b[31m1.6   \u001b[0m • \u001b[36m0:01:…\u001b[0m\n",
      "\u001b[2K\u001b[1A\u001b[2K\u001b[1;34msubmission_task1_next_item_counter.parquet\u001b[0m \u001b[90m━━━━━━\u001b[0m \u001b[35m1.7%\u001b[0m • \u001b[32m2.1/…\u001b[0m • \u001b[31m1.6   \u001b[0m • \u001b[36m0:01:…\u001b[0m\n",
      "\u001b[2K\u001b[1A\u001b[2K\u001b[1;34msubmission_task1_next_item_counter.parquet\u001b[0m \u001b[90m━━━━━━\u001b[0m \u001b[35m1.7%\u001b[0m • \u001b[32m2.1/…\u001b[0m • \u001b[31m1.6   \u001b[0m • \u001b[36m0:01:…\u001b[0m\n",
      "\u001b[2K\u001b[1A\u001b[2K\u001b[1;34msubmission_task1_next_item_counter.parquet\u001b[0m \u001b[90m━━━━━━\u001b[0m \u001b[35m1.7%\u001b[0m • \u001b[32m2.1/…\u001b[0m • \u001b[31m1.6   \u001b[0m • \u001b[36m0:01:…\u001b[0m\n",
      "\u001b[2K\u001b[1A\u001b[2K\u001b[1;34msubmission_task1_next_item_counter.parquet\u001b[0m \u001b[90m━━━━━━\u001b[0m \u001b[35m1.8%\u001b[0m • \u001b[32m2.1/…\u001b[0m • \u001b[31m1.6   \u001b[0m • \u001b[36m0:01:…\u001b[0m\n",
      "\u001b[2K\u001b[1A\u001b[2K\u001b[1;34msubmission_task1_next_item_counter.parquet\u001b[0m \u001b[90m━━━━━━\u001b[0m \u001b[35m1.8%\u001b[0m • \u001b[32m2.1/…\u001b[0m • \u001b[31m1.6   \u001b[0m • \u001b[36m0:01:…\u001b[0m\n",
      "\u001b[2K\u001b[1A\u001b[2K\u001b[1;34msubmission_task1_next_item_counter.parquet\u001b[0m \u001b[90m━━━━━━\u001b[0m \u001b[35m1.8%\u001b[0m • \u001b[32m2.1/…\u001b[0m • \u001b[31m1.6   \u001b[0m • \u001b[36m0:01:…\u001b[0m\n",
      "\u001b[2K\u001b[1A\u001b[2K\u001b[1;34msubmission_task1_next_item_counter.parquet\u001b[0m \u001b[90m━━━━━━\u001b[0m \u001b[35m1.8%\u001b[0m • \u001b[32m2.1/…\u001b[0m • \u001b[31m1.6   \u001b[0m • \u001b[36m0:01:…\u001b[0m\n",
      "\u001b[2K\u001b[1A\u001b[2K\u001b[1;34msubmission_task1_next_item_counter.parquet\u001b[0m \u001b[90m━━━━━━\u001b[0m \u001b[35m1.8%\u001b[0m • \u001b[32m2.1/…\u001b[0m • \u001b[31m1.6   \u001b[0m • \u001b[36m0:01:…\u001b[0m\n",
      "\u001b[2K\u001b[1A\u001b[2K\u001b[1;34msubmission_task1_next_item_counter.parquet\u001b[0m \u001b[90m━━━━━━\u001b[0m \u001b[35m1.8%\u001b[0m • \u001b[32m2.1/…\u001b[0m • \u001b[31m1.6   \u001b[0m • \u001b[36m0:01:…\u001b[0m\n",
      "\u001b[2K\u001b[1A\u001b[2K\u001b[1;34msubmission_task1_next_item_counter.parquet\u001b[0m \u001b[90m━━━━━━\u001b[0m \u001b[35m1.8%\u001b[0m • \u001b[32m2.1/…\u001b[0m • \u001b[31m1.6   \u001b[0m • \u001b[36m0:01:…\u001b[0m\n",
      "\u001b[2K\u001b[1A\u001b[2K\u001b[1;34msubmission_task1_next_item_counter.parquet\u001b[0m \u001b[90m━━━━━━\u001b[0m \u001b[35m1.8%\u001b[0m • \u001b[32m2.2/…\u001b[0m • \u001b[31m1.6   \u001b[0m • \u001b[36m0:01:…\u001b[0m\n",
      "\u001b[2K\u001b[1A\u001b[2K\u001b[1;34msubmission_task1_next_item_counter.parquet\u001b[0m \u001b[90m━━━━━━\u001b[0m \u001b[35m1.8%\u001b[0m • \u001b[32m2.2/…\u001b[0m • \u001b[31m1.6   \u001b[0m • \u001b[36m0:01:…\u001b[0m\n",
      "\u001b[2K\u001b[1A\u001b[2K\u001b[1;34msubmission_task1_next_item_counter.parquet\u001b[0m \u001b[90m━━━━━━\u001b[0m \u001b[35m1.8%\u001b[0m • \u001b[32m2.2/…\u001b[0m • \u001b[31m1.6   \u001b[0m • \u001b[36m0:01:…\u001b[0m\n",
      "\u001b[2K\u001b[1A\u001b[2K\u001b[1;34msubmission_task1_next_item_counter.parquet\u001b[0m \u001b[90m━━━━━━\u001b[0m \u001b[35m1.8%\u001b[0m • \u001b[32m2.2/…\u001b[0m • \u001b[31m1.6   \u001b[0m • \u001b[36m0:01:…\u001b[0m\n",
      "\u001b[2K\u001b[1A\u001b[2K\u001b[1;34msubmission_task1_next_item_counter.parquet\u001b[0m \u001b[90m━━━━━━\u001b[0m \u001b[35m1.8%\u001b[0m • \u001b[32m2.2/…\u001b[0m • \u001b[31m1.6   \u001b[0m • \u001b[36m0:01:…\u001b[0m\n",
      "\u001b[2K\u001b[1A\u001b[2K\u001b[1;34msubmission_task1_next_item_counter.parquet\u001b[0m \u001b[90m━━━━━━\u001b[0m \u001b[35m1.8%\u001b[0m • \u001b[32m2.2/…\u001b[0m • \u001b[31m1.6   \u001b[0m • \u001b[36m0:01:…\u001b[0m\n",
      "\u001b[2K\u001b[1A\u001b[2K\u001b[1;34msubmission_task1_next_item_counter.parquet\u001b[0m \u001b[90m━━━━━━\u001b[0m \u001b[35m1.8%\u001b[0m • \u001b[32m2.2/…\u001b[0m • \u001b[31m1.6   \u001b[0m • \u001b[36m0:01:…\u001b[0m\n",
      "\u001b[2K\u001b[1A\u001b[2K\u001b[1;34msubmission_task1_next_item_counter.parquet\u001b[0m \u001b[90m━━━━━━\u001b[0m \u001b[35m1.8%\u001b[0m • \u001b[32m2.2/…\u001b[0m • \u001b[31m1.6   \u001b[0m • \u001b[36m0:01:…\u001b[0m\n",
      "\u001b[2K\u001b[1A\u001b[2K\u001b[1;34msubmission_task1_next_item_counter.parquet\u001b[0m \u001b[90m━━━━━━\u001b[0m \u001b[35m1.9%\u001b[0m • \u001b[32m2.2/…\u001b[0m • \u001b[31m1.6   \u001b[0m • \u001b[36m0:01:…\u001b[0m\n",
      "\u001b[2K\u001b[1A\u001b[2K\u001b[1;34msubmission_task1_next_item_counter.parquet\u001b[0m \u001b[90m━━━━━━\u001b[0m \u001b[35m1.9%\u001b[0m • \u001b[32m2.2/…\u001b[0m • \u001b[31m1.6   \u001b[0m • \u001b[36m0:01:…\u001b[0m\n",
      "\u001b[2K\u001b[1A\u001b[2K\u001b[1;34msubmission_task1_next_item_counter.parquet\u001b[0m \u001b[90m━━━━━━\u001b[0m \u001b[35m1.9%\u001b[0m • \u001b[32m2.2/…\u001b[0m • \u001b[31m1.6   \u001b[0m • \u001b[36m0:01:…\u001b[0m\n",
      "\u001b[2K\u001b[1A\u001b[2K\u001b[1;34msubmission_task1_next_item_counter.parquet\u001b[0m \u001b[90m━━━━━━\u001b[0m \u001b[35m1.9%\u001b[0m • \u001b[32m2.2/…\u001b[0m • \u001b[31m1.6   \u001b[0m • \u001b[36m0:01:…\u001b[0m\n",
      "\u001b[2K\u001b[1A\u001b[2K\u001b[1;34msubmission_task1_next_item_counter.parquet\u001b[0m \u001b[90m━━━━━━\u001b[0m \u001b[35m1.9%\u001b[0m • \u001b[32m2.3/…\u001b[0m • \u001b[31m1.6   \u001b[0m • \u001b[36m0:01:…\u001b[0m\n",
      "\u001b[2K\u001b[1A\u001b[2K\u001b[1;34msubmission_task1_next_item_counter.parquet\u001b[0m \u001b[90m━━━━━━\u001b[0m \u001b[35m1.9%\u001b[0m • \u001b[32m2.3/…\u001b[0m • \u001b[31m1.6   \u001b[0m • \u001b[36m0:01:…\u001b[0m\n",
      "\u001b[2K\u001b[1A\u001b[2K\u001b[1;34msubmission_task1_next_item_counter.parquet\u001b[0m \u001b[90m━━━━━━\u001b[0m \u001b[35m1.9%\u001b[0m • \u001b[32m2.3/…\u001b[0m • \u001b[31m1.6   \u001b[0m • \u001b[36m0:01:…\u001b[0m\n",
      "\u001b[2K\u001b[1A\u001b[2K\u001b[1;34msubmission_task1_next_item_counter.parquet\u001b[0m \u001b[90m━━━━━━\u001b[0m \u001b[35m1.9%\u001b[0m • \u001b[32m2.3/…\u001b[0m • \u001b[31m1.6   \u001b[0m • \u001b[36m0:01:…\u001b[0m\n",
      "\u001b[2K\u001b[1A\u001b[2K\u001b[1;34msubmission_task1_next_item_counter.parquet\u001b[0m \u001b[90m━━━━━━\u001b[0m \u001b[35m1.9%\u001b[0m • \u001b[32m2.3/…\u001b[0m • \u001b[31m1.7   \u001b[0m • \u001b[36m0:01:…\u001b[0m\n",
      "\u001b[2K\u001b[1A\u001b[2K\u001b[1;34msubmission_task1_next_item_counter.parquet\u001b[0m \u001b[90m━━━━━━\u001b[0m \u001b[35m1.9%\u001b[0m • \u001b[32m2.3/…\u001b[0m • \u001b[31m1.7   \u001b[0m • \u001b[36m0:01:…\u001b[0m\n",
      "\u001b[2K\u001b[1A\u001b[2K\u001b[1;34msubmission_task1_next_item_counter.parquet\u001b[0m \u001b[90m━━━━━━\u001b[0m \u001b[35m1.9%\u001b[0m • \u001b[32m2.3/…\u001b[0m • \u001b[31m1.7   \u001b[0m • \u001b[36m0:01:…\u001b[0m\n",
      "\u001b[2K\u001b[1A\u001b[2K\u001b[1;34msubmission_task1_next_item_counter.parquet\u001b[0m \u001b[90m━━━━━━\u001b[0m \u001b[35m1.9%\u001b[0m • \u001b[32m2.3/…\u001b[0m • \u001b[31m1.7   \u001b[0m • \u001b[36m0:01:…\u001b[0m\n",
      "\u001b[2K\u001b[1A\u001b[2K\u001b[1;34msubmission_task1_next_item_counter.parquet\u001b[0m \u001b[90m━━━━━━\u001b[0m \u001b[35m1.9%\u001b[0m • \u001b[32m2.3/…\u001b[0m • \u001b[31m1.7   \u001b[0m • \u001b[36m0:01:…\u001b[0m\n",
      "\u001b[2K\u001b[1A\u001b[2K\u001b[1;34msubmission_task1_next_item_counter.parquet\u001b[0m \u001b[90m━━━━━━\u001b[0m \u001b[35m1.9%\u001b[0m • \u001b[32m2.3/…\u001b[0m • \u001b[31m1.7   \u001b[0m • \u001b[36m0:01:…\u001b[0m\n",
      "\u001b[2K\u001b[1A\u001b[2K\u001b[1;34msubmission_task1_next_item_counter.parquet\u001b[0m \u001b[90m━━━━━━\u001b[0m \u001b[35m1.9%\u001b[0m • \u001b[32m2.3/…\u001b[0m • \u001b[31m1.7   \u001b[0m • \u001b[36m0:01:…\u001b[0m\n",
      "\u001b[2K\u001b[1A\u001b[2K\u001b[1;34msubmission_task1_next_item_counter.parquet\u001b[0m \u001b[90m━━━━━━\u001b[0m \u001b[35m2.0%\u001b[0m • \u001b[32m2.3/…\u001b[0m • \u001b[31m1.7   \u001b[0m • \u001b[36m0:01:…\u001b[0m\n",
      "\u001b[2K\u001b[1A\u001b[2K\u001b[1;34msubmission_task1_next_item_counter.parquet\u001b[0m \u001b[90m━━━━━━\u001b[0m \u001b[35m2.0%\u001b[0m • \u001b[32m2.3/…\u001b[0m • \u001b[31m1.7   \u001b[0m • \u001b[36m0:01:…\u001b[0m\n",
      "\u001b[2K\u001b[1A\u001b[2K\u001b[1;34msubmission_task1_next_item_counter.parquet\u001b[0m \u001b[90m━━━━━━\u001b[0m \u001b[35m2.0%\u001b[0m • \u001b[32m2.4/…\u001b[0m • \u001b[31m1.7   \u001b[0m • \u001b[36m0:01:…\u001b[0m\n",
      "\u001b[2K\u001b[1A\u001b[2K\u001b[1;34msubmission_task1_next_item_counter.parquet\u001b[0m \u001b[90m━━━━━━\u001b[0m \u001b[35m2.0%\u001b[0m • \u001b[32m2.4/…\u001b[0m • \u001b[31m1.7   \u001b[0m • \u001b[36m0:01:…\u001b[0m\n",
      "\u001b[2K\u001b[1A\u001b[2K\u001b[1;34msubmission_task1_next_item_counter.parquet\u001b[0m \u001b[90m━━━━━━\u001b[0m \u001b[35m2.0%\u001b[0m • \u001b[32m2.4/…\u001b[0m • \u001b[31m1.7   \u001b[0m • \u001b[36m0:01:…\u001b[0m\n",
      "\u001b[2K\u001b[1A\u001b[2K\u001b[1;34msubmission_task1_next_item_counter.parquet\u001b[0m \u001b[90m━━━━━━\u001b[0m \u001b[35m2.0%\u001b[0m • \u001b[32m2.4/…\u001b[0m • \u001b[31m1.7   \u001b[0m • \u001b[36m0:01:…\u001b[0m\n",
      "\u001b[2K\u001b[1A\u001b[2K\u001b[1;34msubmission_task1_next_item_counter.parquet\u001b[0m \u001b[90m━━━━━━\u001b[0m \u001b[35m2.0%\u001b[0m • \u001b[32m2.4/…\u001b[0m • \u001b[31m1.7   \u001b[0m • \u001b[36m0:01:…\u001b[0m\n",
      "\u001b[2K\u001b[1A\u001b[2K\u001b[1;34msubmission_task1_next_item_counter.parquet\u001b[0m \u001b[90m━━━━━━\u001b[0m \u001b[35m2.0%\u001b[0m • \u001b[32m2.4/…\u001b[0m • \u001b[31m1.7   \u001b[0m • \u001b[36m0:01:…\u001b[0m\n",
      "\u001b[2K\u001b[1A\u001b[2K\u001b[1;34msubmission_task1_next_item_counter.parquet\u001b[0m \u001b[90m━━━━━━\u001b[0m \u001b[35m2.0%\u001b[0m • \u001b[32m2.4/…\u001b[0m • \u001b[31m1.7   \u001b[0m • \u001b[36m0:01:…\u001b[0m\n",
      "\u001b[2K\u001b[1A\u001b[2K\u001b[1;34msubmission_task1_next_item_counter.parquet\u001b[0m \u001b[90m━━━━━━\u001b[0m \u001b[35m2.0%\u001b[0m • \u001b[32m2.4/…\u001b[0m • \u001b[31m1.7   \u001b[0m • \u001b[36m0:01:…\u001b[0m\n",
      "\u001b[2K\u001b[1A\u001b[2K\u001b[1;34msubmission_task1_next_item_counter.parquet\u001b[0m \u001b[90m━━━━━━\u001b[0m \u001b[35m2.0%\u001b[0m • \u001b[32m2.4/…\u001b[0m • \u001b[31m1.7   \u001b[0m • \u001b[36m0:01:…\u001b[0m\n",
      "\u001b[2K\u001b[1A\u001b[2K\u001b[1;34msubmission_task1_next_item_counter.parquet\u001b[0m \u001b[90m━━━━━━\u001b[0m \u001b[35m2.0%\u001b[0m • \u001b[32m2.4/…\u001b[0m • \u001b[31m1.7   \u001b[0m • \u001b[36m0:01:…\u001b[0m\n",
      "\u001b[2K\u001b[1A\u001b[2K\u001b[1;34msubmission_task1_next_item_counter.parquet\u001b[0m \u001b[90m━━━━━━\u001b[0m \u001b[35m2.0%\u001b[0m • \u001b[32m2.4/…\u001b[0m • \u001b[31m1.7   \u001b[0m • \u001b[36m0:01:…\u001b[0m\n",
      "\u001b[2K\u001b[1A\u001b[2K\u001b[1;34msubmission_task1_next_item_counter.parquet\u001b[0m \u001b[90m━━━━━━\u001b[0m \u001b[35m2.0%\u001b[0m • \u001b[32m2.4/…\u001b[0m • \u001b[31m1.7   \u001b[0m • \u001b[36m0:01:…\u001b[0m\n",
      "                                                         \u001b[32mMB   \u001b[0m   \u001b[31mMB/s  \u001b[0m         "
     ]
    }
   ],
   "source": [
    "# You can submit with aicrowd-cli, or upload manually on the challenge page.\n",
    "!aicrowd submission create -c task-1-next-product-recommendation -f {submit_file}"
   ]
  }
 ],
 "metadata": {
  "environment": {
   "kernel": "kdd_2023",
   "name": "common-cu110.m104",
   "type": "gcloud",
   "uri": "gcr.io/deeplearning-platform-release/base-cu110:m104"
  },
  "kernelspec": {
   "display_name": "py3.8(kdd_2023)",
   "language": "python",
   "name": "kdd_2023"
  },
  "language_info": {
   "codemirror_mode": {
    "name": "ipython",
    "version": 3
   },
   "file_extension": ".py",
   "mimetype": "text/x-python",
   "name": "python",
   "nbconvert_exporter": "python",
   "pygments_lexer": "ipython3",
   "version": "3.8.16"
  }
 },
 "nbformat": 4,
 "nbformat_minor": 4
}
