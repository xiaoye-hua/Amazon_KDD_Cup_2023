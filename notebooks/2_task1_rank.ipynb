{
 "cells": [
  {
   "cell_type": "markdown",
   "id": "cfb20369-bc15-496e-9ca7-96ea3337a84e",
   "metadata": {},
   "source": [
    "# Packages "
   ]
  },
  {
   "cell_type": "code",
   "execution_count": 1,
   "id": "aabe0c4e-8729-4f63-9722-c12d233ca6b5",
   "metadata": {
    "tags": []
   },
   "outputs": [
    {
     "name": "stderr",
     "output_type": "stream",
     "text": [
      "/home/jupyter/.cache/pypoetry/virtualenvs/kdd-2023-KklMGVX0-py3.8/lib/python3.8/site-packages/implicit/gpu/__init__.py:13: UserWarning: CUDA extension is built, but disabling GPU support because of 'Cuda Error: no CUDA-capable device is detected (/project/./implicit/gpu/utils.h:71)'\n",
      "  warnings.warn(\n"
     ]
    }
   ],
   "source": [
    "%load_ext autoreload\n",
    "%autoreload 2\n",
    "import sys\n",
    "import logging\n",
    "base_dir = '../'\n",
    "sys.path.append(base_dir)\n",
    "import os\n",
    "from utils import *\n",
    "\n",
    "import os\n",
    "import numpy as np\n",
    "import pandas as pd\n",
    "from gensim.models import Word2Vec\n",
    "\n",
    "from annoy import AnnoyIndex\n",
    "import polars as pl\n",
    "import implicit\n",
    "import scipy.sparse as sps\n",
    "from utils import str2list\n",
    "from src.config import raw_data_session_id_dir\n",
    "from lightgbm import LGBMRanker\n",
    "from utils import *\n"
   ]
  },
  {
   "cell_type": "markdown",
   "id": "1355ce62-0ebd-4629-99e5-96bf2946bed5",
   "metadata": {},
   "source": [
    "# Config "
   ]
  },
  {
   "cell_type": "code",
   "execution_count": 2,
   "id": "0cac5f9f-76a0-4069-a57a-17b45bba83fd",
   "metadata": {},
   "outputs": [],
   "source": [
    "debug = False\n",
    "\n",
    "if debug:\n",
    "    SAMPLE_NUM = 100\n",
    "else:\n",
    "    SAMPLE_NUM = None\n",
    "\n",
    "candidate_path = '../data/candidates/'\n",
    "# train_data_dir = '.'\n",
    "# test_data_dir = '.'\n",
    "# task = 'task1'\n",
    "# PREDS_PER_SESSION = 100\n",
    "\n",
    "# num_tree = 100\n",
    "\n",
    "# model_dir = '../model_training/als_v1'\n",
    "\n",
    "# # target locales: locales needed for task1\n",
    "# target_locals = [\"DE\", 'JP', 'UK']\n",
    "\n",
    "# submit_file = f'submission_{task}_ALS.parquet'"
   ]
  },
  {
   "cell_type": "markdown",
   "id": "6dcb3854-ffc0-45cf-b0ed-f8b96ccd0fcb",
   "metadata": {
    "tags": []
   },
   "source": [
    "# Function "
   ]
  },
  {
   "cell_type": "code",
   "execution_count": 3,
   "id": "589c0e50-3e4d-430d-9e39-0b57cbea301b",
   "metadata": {},
   "outputs": [
    {
     "name": "stdout",
     "output_type": "stream",
     "text": [
      "task1_test_nic_top100.parquet  task1_train_nic_top100.parquet\n",
      "task1_test_w2v_top100.parquet  task1_train_w2v_top100.parquet\n"
     ]
    }
   ],
   "source": [
    "! ls ../data/candidates/"
   ]
  },
  {
   "cell_type": "code",
   "execution_count": 4,
   "id": "c212a5fc-abe0-4a8a-ad19-6be6def499b6",
   "metadata": {},
   "outputs": [],
   "source": [
    "# w2v_file = os.path.join(candidate_path, f'task1_{data_type}_w2v_top100.parquet')\n",
    "# w2v_pl = pl.scan_parquet(w2v_file, n_rows=SAMPLE_NUM)#.with_columns(pl.col('prev_items').apply(str2list))"
   ]
  },
  {
   "cell_type": "code",
   "execution_count": null,
   "id": "5242ea97-e5dd-45aa-96ef-043d295133fd",
   "metadata": {},
   "outputs": [],
   "source": []
  },
  {
   "cell_type": "code",
   "execution_count": 5,
   "id": "8d184e2f-b00a-401d-b058-af0447adad1e",
   "metadata": {},
   "outputs": [],
   "source": [
    "# length"
   ]
  },
  {
   "cell_type": "code",
   "execution_count": 6,
   "id": "5f20d12b-6c3d-470b-b9a6-6b9b44b98b5e",
   "metadata": {},
   "outputs": [],
   "source": [
    "# list(range(10, 1, -1))"
   ]
  },
  {
   "cell_type": "code",
   "execution_count": 7,
   "id": "2880076c-17f1-45fa-8203-de09fa68d7ce",
   "metadata": {},
   "outputs": [],
   "source": [
    "# list(range(100, 0, -1))"
   ]
  },
  {
   "cell_type": "code",
   "execution_count": 8,
   "id": "2fdd6d7d-29a7-46b4-b710-c726a25db6e9",
   "metadata": {},
   "outputs": [],
   "source": [
    "# # rank_pct = pl.element().rank(descending=True) #/ pl.col(\"\").count()\n",
    "\n",
    "# length = w2v_pl.collect().shape[0]\n",
    "# w2v_pl = w2v_pl.with_columns(\n",
    "#     pl.Series(values=[list(range(100, 0, -1))]*length, name='w2v_weight')\n",
    "# )#.head().collect()"
   ]
  },
  {
   "cell_type": "code",
   "execution_count": null,
   "id": "19f31392-343b-45b4-bbf1-faa9f666a83b",
   "metadata": {},
   "outputs": [],
   "source": []
  },
  {
   "cell_type": "code",
   "execution_count": 9,
   "id": "1f9eb477-cc31-4946-93d9-befb1f724b1d",
   "metadata": {},
   "outputs": [],
   "source": [
    "# w2v_pl.head().collect()\n"
   ]
  },
  {
   "cell_type": "code",
   "execution_count": 10,
   "id": "b578226d-8a0a-4a53-a888-3db802cd29db",
   "metadata": {},
   "outputs": [],
   "source": [
    "\n",
    "def get_all_candidates(data_type):\n",
    "    w2v_file = os.path.join(candidate_path, f'task1_{data_type}_w2v_top100.parquet')\n",
    "    nic_file = os.path.join(candidate_path, f'task1_{data_type}_nic_top100.parquet')\n",
    "    w2v_pl = pl.scan_parquet(w2v_file, n_rows=SAMPLE_NUM)#.with_columns(pl.col('prev_items').apply(str2list))\n",
    "    nic_pl = pl.scan_parquet(nic_file, n_rows=SAMPLE_NUM)#.with_columns(pl.col('prev_items').apply(str2list))\n",
    "\n",
    "    cols_to_keep = ['session_id', 'next_item_prediction', 'cg_source']\n",
    "\n",
    "    w2v_pl = w2v_pl.with_columns(pl.lit('word2vec').alias('cg_source')).select(cols_to_keep).explode('next_item_prediction')\n",
    "    nic_pl = nic_pl.with_columns(pl.lit('next_item_counter').alias('cg_source')).select(cols_to_keep).explode('next_item_prediction')\n",
    "    # length = w2v_pl.collect().shape[0]\n",
    "    # w2v_pl = w2v_pl.with_columns(\n",
    "    #     pl.Series(values=[list(range(100, 0, -1))]*length, name='w2v_weight')\n",
    "    # )\n",
    "    cg_pl = (\n",
    "            pl.concat([w2v_pl, nic_pl], how='vertical')\n",
    "                .groupby(['session_id', 'next_item_prediction'])\n",
    "                .agg(\n",
    "                    pl.col('cg_source')\n",
    "                )\n",
    "                .with_columns(\n",
    "                    pl.when(pl.col('cg_source').arr.contains(pl.lit('word2vec'))).then(1).otherwise(0).alias('whether_w2v')\n",
    "                    , pl.when(pl.col('cg_source').arr.contains(pl.lit('next_item_counter'))).then(1).otherwise(0).alias('whether_nic')\n",
    "                )\n",
    "                .select(\n",
    "                    pl.all().exclude('cg_source')\n",
    "                )\n",
    "    )\n",
    "    return cg_pl"
   ]
  },
  {
   "cell_type": "code",
   "execution_count": null,
   "id": "b2525fcb-b26a-4bcd-b56b-60488e61a75b",
   "metadata": {},
   "outputs": [],
   "source": []
  },
  {
   "cell_type": "markdown",
   "id": "d215768f-949e-4853-80e6-76b53d14bb42",
   "metadata": {
    "tags": []
   },
   "source": [
    "# Combine All candidates "
   ]
  },
  {
   "cell_type": "code",
   "execution_count": 11,
   "id": "88b5b29f-03d0-4d7e-8e47-6a8ec338d265",
   "metadata": {},
   "outputs": [],
   "source": [
    "train_candidates = get_all_candidates(data_type='train')"
   ]
  },
  {
   "cell_type": "code",
   "execution_count": 12,
   "id": "b1b37f89-77f6-4c92-a5fb-78c6aa02e6b1",
   "metadata": {},
   "outputs": [],
   "source": [
    "test_candidates = get_all_candidates(data_type='test')"
   ]
  },
  {
   "cell_type": "code",
   "execution_count": 13,
   "id": "b685dd9d-ed2a-4bf3-a6b8-8a52d00e12c5",
   "metadata": {},
   "outputs": [],
   "source": [
    "# train_candidates.collect().shape"
   ]
  },
  {
   "cell_type": "code",
   "execution_count": 14,
   "id": "0c8ded2e-ec4b-4449-838e-a5ef29fdecd4",
   "metadata": {},
   "outputs": [],
   "source": [
    "# test_candidates.collect().shape"
   ]
  },
  {
   "cell_type": "code",
   "execution_count": 15,
   "id": "5e0b70a9-f83a-46b8-b771-64b0ee099450",
   "metadata": {},
   "outputs": [],
   "source": [
    "# x/train_candidates.select('label').mean().collect()"
   ]
  },
  {
   "cell_type": "markdown",
   "id": "9a40c22f-010f-4bba-ae1f-aa76247c638d",
   "metadata": {
    "tags": []
   },
   "source": [
    "# Feature Process "
   ]
  },
  {
   "cell_type": "code",
   "execution_count": 16,
   "id": "742d416e-1b21-4338-b5e9-f39dda4ab56e",
   "metadata": {},
   "outputs": [],
   "source": [
    "# train_candidates.head(3).collect()"
   ]
  },
  {
   "cell_type": "markdown",
   "id": "1552490e-efa5-49fe-810f-954bdc3f6517",
   "metadata": {},
   "source": [
    "## Load Model "
   ]
  },
  {
   "cell_type": "code",
   "execution_count": 17,
   "id": "a9c64bc6-0657-455d-bf4c-f4cfe23d6e1d",
   "metadata": {},
   "outputs": [
    {
     "name": "stdout",
     "output_type": "stream",
     "text": [
      "{'next_item_prediction': Utf8, 'next_item_weight': Float64, 'last_prev_item': Utf8}\n"
     ]
    }
   ],
   "source": [
    "nic_model = (\n",
    "    pl.scan_parquet('../model_training/next_item_counter_v2/nic_model.parquet')\n",
    "        .explode(['next_item_prediction', 'next_item_weight'])\n",
    "        .select(\n",
    "            pl.all().exclude('item')\n",
    "            , pl.col('item').alias('last_prev_item')\n",
    "        )\n",
    "            )\n",
    "print(nic_model.schema)\n",
    "\n",
    "\n",
    "\n",
    "# w2v_model_file = '../model_training/v2/w2v.model'\n",
    "# w2vec = Word2Vec.load(w2v_model_file)\n",
    "# annoy_index = AnnoyIndexer()\n",
    "# annoy_index.load(annoy_index_file)\n"
   ]
  },
  {
   "cell_type": "code",
   "execution_count": 18,
   "id": "9bd3e83e-001e-4634-a12b-fdfa3e2b8b87",
   "metadata": {},
   "outputs": [],
   "source": [
    "# target_df = train_candidates\n",
    "# data_type = 'train'\n",
    "\n",
    "def get_feature(target_df, data_type):\n",
    "    if data_type == 'train':\n",
    "        basic_info_pl = pl.scan_parquet(os.path.join(base_dir, raw_data_session_id_dir, 'sessions_train.parquet'))\n",
    "    else:\n",
    "        basic_info_pl = pl.scan_parquet(os.path.join(base_dir, raw_data_session_id_dir, 'sessions_test_task1.parquet'))\n",
    "    basic_info_pl = basic_info_pl.with_columns(\n",
    "            pl.col('prev_items').apply(str2list)\n",
    "        )\n",
    "    print(f\"basci_info_pl:\")\n",
    "    print(basic_info_pl.schema)\n",
    "    # nic model \n",
    "\n",
    "    target_df = (\n",
    "        target_df.join(basic_info_pl, how='left', on='session_id')\n",
    "            .with_column(\n",
    "                pl.col('prev_items').arr.get(-1).alias('last_prev_item')\n",
    "            )\n",
    "            .join(nic_model, how='left', on=['last_prev_item', 'next_item_prediction'])\n",
    "            # .with_columns(\n",
    "            #     pl.when(pl.col('next_item_weight').is_null()).then(0).otherwise(pl.col('next_item_weight'))\n",
    "            # )\n",
    "    )\n",
    "    if data_type == 'train':\n",
    "        target_df = (\n",
    "            target_df\n",
    "                .with_columns(\n",
    "                    pl.when(pl.col('next_item')==pl.col('next_item_prediction')).then(1).otherwise(0).alias('target')\n",
    "                )\n",
    "        )\n",
    "    return target_df\n",
    "# target_df.head(3).collect()"
   ]
  },
  {
   "cell_type": "code",
   "execution_count": 19,
   "id": "39f71f5b-3d19-4293-9f07-149870235f48",
   "metadata": {
    "tags": []
   },
   "outputs": [
    {
     "name": "stdout",
     "output_type": "stream",
     "text": [
      "basci_info_pl:\n",
      "{'prev_items': Unknown, 'next_item': Utf8, 'locale': Utf8, 'session_id': Int64}\n"
     ]
    },
    {
     "name": "stderr",
     "output_type": "stream",
     "text": [
      "/var/tmp/ipykernel_14981/1310767243.py:17: DeprecationWarning: `LazyFrame.with_column` has been renamed; this redirect is temporary, please use `.with_columns` instead\n",
      "  target_df.join(basic_info_pl, how='left', on='session_id')\n"
     ]
    }
   ],
   "source": [
    "train_candidates = get_feature(target_df=train_candidates, data_type='train')"
   ]
  },
  {
   "cell_type": "code",
   "execution_count": 20,
   "id": "004603a2-b100-497b-9eb3-20b83f573322",
   "metadata": {},
   "outputs": [
    {
     "name": "stdout",
     "output_type": "stream",
     "text": [
      "basci_info_pl:\n",
      "{'prev_items': Unknown, 'locale': Utf8, 'session_id': Int64}\n"
     ]
    },
    {
     "name": "stderr",
     "output_type": "stream",
     "text": [
      "/var/tmp/ipykernel_14981/1310767243.py:17: DeprecationWarning: `LazyFrame.with_column` has been renamed; this redirect is temporary, please use `.with_columns` instead\n",
      "  target_df.join(basic_info_pl, how='left', on='session_id')\n"
     ]
    }
   ],
   "source": [
    "test_candidates = get_feature(target_df=test_candidates, data_type='test')"
   ]
  },
  {
   "cell_type": "code",
   "execution_count": 21,
   "id": "808ef50f-332e-4a76-b477-cd5889e113a5",
   "metadata": {},
   "outputs": [],
   "source": [
    "# train_candidates.head().collect()"
   ]
  },
  {
   "cell_type": "code",
   "execution_count": 22,
   "id": "75a04b21-d7cc-4e57-b088-79367fb9d917",
   "metadata": {},
   "outputs": [],
   "source": [
    "# test_candidates.head().collect()"
   ]
  },
  {
   "cell_type": "code",
   "execution_count": null,
   "id": "7c6aa5f0-157b-4cb6-a425-f444ab1b93c1",
   "metadata": {},
   "outputs": [],
   "source": []
  },
  {
   "cell_type": "markdown",
   "id": "ed548a53-924e-4fbf-864c-06cfedc6f9cc",
   "metadata": {
    "tags": []
   },
   "source": [
    "# Ranker "
   ]
  },
  {
   "cell_type": "markdown",
   "id": "c198ffca-bbd1-4d7c-a507-668daa2e805c",
   "metadata": {},
   "source": [
    "## Config "
   ]
  },
  {
   "cell_type": "code",
   "execution_count": 23,
   "id": "39854b22-9372-4e17-9aaa-a9cd619ab344",
   "metadata": {},
   "outputs": [],
   "source": [
    "estimator = 10\n",
    "if debug:\n",
    "    estimator = 3\n",
    "    \n",
    "target = 'target'\n",
    "feature_cols = [\n",
    "    'whether_w2v'\n",
    "    , 'whether_nic'\n",
    "    # , 'locale'\n",
    "    , 'next_item_weight'\n",
    "]"
   ]
  },
  {
   "cell_type": "markdown",
   "id": "0089a10a-3cfc-42fd-ad5a-1b51d7fa35a0",
   "metadata": {
    "tags": []
   },
   "source": [
    "## Train model"
   ]
  },
  {
   "cell_type": "code",
   "execution_count": 24,
   "id": "c9cefad8-b343-4eb4-8d86-96349cdc4fcf",
   "metadata": {},
   "outputs": [],
   "source": [
    "train_candidates = train_candidates.sort('session_id')\n",
    "\n",
    "\n",
    "# .head(100).collect()"
   ]
  },
  {
   "cell_type": "code",
   "execution_count": 25,
   "id": "45c77953-05c4-404e-82e2-daf4ecd137d5",
   "metadata": {},
   "outputs": [],
   "source": [
    "ranker = LGBMRanker(\n",
    "    objective=\"lambdarank\",\n",
    "    metric=\"ndcg\",\n",
    "    boosting_type=\"dart\",\n",
    "    n_estimators=estimator, \n",
    "    importance_type='gain',\n",
    "    eval_at=[5]\n",
    ")"
   ]
  },
  {
   "cell_type": "code",
   "execution_count": 26,
   "id": "7a0e4054-3eed-4444-80a0-69e5f3071037",
   "metadata": {},
   "outputs": [
    {
     "data": {
      "text/plain": [
       "(69302185, 10)"
      ]
     },
     "execution_count": 26,
     "metadata": {},
     "output_type": "execute_result"
    }
   ],
   "source": [
    "train_candidates = train_candidates.collect()\n",
    "train_candidates.shape"
   ]
  },
  {
   "cell_type": "code",
   "execution_count": 27,
   "id": "81d5dd9f-a503-4032-bd78-c5eef095d729",
   "metadata": {},
   "outputs": [],
   "source": [
    "# train_candidates[feature_cols]"
   ]
  },
  {
   "cell_type": "code",
   "execution_count": 28,
   "id": "8588145e-4177-461d-a81e-69657e8d2fad",
   "metadata": {},
   "outputs": [
    {
     "data": {
      "text/plain": [
       "(69302185, 10)"
      ]
     },
     "execution_count": 28,
     "metadata": {},
     "output_type": "execute_result"
    }
   ],
   "source": [
    "train_candidates.shape"
   ]
  },
  {
   "cell_type": "code",
   "execution_count": 29,
   "id": "8e048d5e-6f24-4921-936a-4e91185b0819",
   "metadata": {},
   "outputs": [
    {
     "data": {
      "text/html": [
       "<div><style>\n",
       ".dataframe > thead > tr > th,\n",
       ".dataframe > tbody > tr > td {\n",
       "  text-align: right;\n",
       "}\n",
       "</style>\n",
       "<small>shape: (1, 1)</small><table border=\"1\" class=\"dataframe\"><thead><tr><th>target</th></tr><tr><td>f64</td></tr></thead><tbody><tr><td>0.042086</td></tr></tbody></table></div>"
      ],
      "text/plain": [
       "shape: (1, 1)\n",
       "┌──────────┐\n",
       "│ target   │\n",
       "│ ---      │\n",
       "│ f64      │\n",
       "╞══════════╡\n",
       "│ 0.042086 │\n",
       "└──────────┘"
      ]
     },
     "execution_count": 29,
     "metadata": {},
     "output_type": "execute_result"
    }
   ],
   "source": [
    "train_candidates.select('target').mean()\n"
   ]
  },
  {
   "cell_type": "code",
   "execution_count": 30,
   "id": "b9553bb1-2484-4216-a7c5-c75420d4c0e4",
   "metadata": {},
   "outputs": [],
   "source": [
    "session_lengths_train = train_candidates.groupby('session_id').agg(pl.count()).select('count').to_pandas()['count'].values.tolist()"
   ]
  },
  {
   "cell_type": "code",
   "execution_count": 31,
   "id": "7d97dc81-6611-41d4-a3c7-2ec0a202b285",
   "metadata": {},
   "outputs": [
    {
     "data": {
      "text/plain": [
       "69302185"
      ]
     },
     "execution_count": 31,
     "metadata": {},
     "output_type": "execute_result"
    }
   ],
   "source": [
    "sum(session_lengths_train)"
   ]
  },
  {
   "cell_type": "code",
   "execution_count": null,
   "id": "4f6743de-7dab-4d3e-973a-fbfcf53a6560",
   "metadata": {},
   "outputs": [],
   "source": []
  },
  {
   "cell_type": "code",
   "execution_count": 32,
   "id": "c1359935-744e-4097-a404-513d6202b7da",
   "metadata": {},
   "outputs": [
    {
     "name": "stderr",
     "output_type": "stream",
     "text": [
      "/home/jupyter/.cache/pypoetry/virtualenvs/kdd-2023-KklMGVX0-py3.8/lib/python3.8/site-packages/lightgbm/sklearn.py:621: UserWarning: Found 'eval_at' in params. Will use it instead of 'eval_at' argument\n",
      "  _log_warning(f\"Found '{alias}' in params. Will use it instead of 'eval_at' argument\")\n"
     ]
    },
    {
     "name": "stdout",
     "output_type": "stream",
     "text": [
      "[1]\tvalid_0's ndcg@5: 0.455366\n",
      "[2]\tvalid_0's ndcg@5: 0.463855\n",
      "[3]\tvalid_0's ndcg@5: 0.464695\n",
      "[4]\tvalid_0's ndcg@5: 0.464934\n",
      "[5]\tvalid_0's ndcg@5: 0.465113\n",
      "[6]\tvalid_0's ndcg@5: 0.464936\n",
      "[7]\tvalid_0's ndcg@5: 0.4651\n",
      "[8]\tvalid_0's ndcg@5: 0.465111\n",
      "[9]\tvalid_0's ndcg@5: 0.46512\n",
      "[10]\tvalid_0's ndcg@5: 0.465144\n"
     ]
    }
   ],
   "source": [
    "ranker = ranker.fit(\n",
    "    X=train_candidates[feature_cols].to_pandas(),\n",
    "    y=train_candidates[target].to_pandas(),\n",
    "    group=session_lengths_train,\n",
    "    # categorical_feature=['locale'],\n",
    "    eval_set=[(train_candidates[feature_cols].to_pandas(), train_candidates[target].to_pandas()),\n",
    "             # (test[feature_cols].to_pandas(), test[target].to_pandas())\n",
    "             ],\n",
    "    eval_group=[session_lengths_train,\n",
    "                # session_lengths_test\n",
    "               ]\n",
    ")"
   ]
  },
  {
   "cell_type": "code",
   "execution_count": 42,
   "id": "9a767b17-5854-481c-a6e7-464e72552270",
   "metadata": {},
   "outputs": [],
   "source": [
    "import joblib"
   ]
  },
  {
   "cell_type": "code",
   "execution_count": 44,
   "id": "b80b2052-2ced-42a9-8701-0f8e680c8df6",
   "metadata": {},
   "outputs": [],
   "source": [
    "!mkdir ../model_training/ranker"
   ]
  },
  {
   "cell_type": "code",
   "execution_count": 45,
   "id": "07ed68af-07cd-42dd-98cd-670f4cfffc9c",
   "metadata": {},
   "outputs": [
    {
     "data": {
      "text/plain": [
       "['../model_training/ranker/model.pkl']"
      ]
     },
     "execution_count": 45,
     "metadata": {},
     "output_type": "execute_result"
    }
   ],
   "source": [
    "joblib.dump(\n",
    "        value=ranker,\n",
    "        filename='../model_training/ranker/model.pkl'\n",
    ")"
   ]
  },
  {
   "cell_type": "markdown",
   "id": "b6b81a4e-3275-4503-bab7-6f8cb0ac4841",
   "metadata": {},
   "source": [
    "### Importance "
   ]
  },
  {
   "cell_type": "code",
   "execution_count": 47,
   "id": "3a9816e2-9099-42af-a194-4274dce5ab36",
   "metadata": {},
   "outputs": [
    {
     "data": {
      "text/html": [
       "<div>\n",
       "<style scoped>\n",
       "    .dataframe tbody tr th:only-of-type {\n",
       "        vertical-align: middle;\n",
       "    }\n",
       "\n",
       "    .dataframe tbody tr th {\n",
       "        vertical-align: top;\n",
       "    }\n",
       "\n",
       "    .dataframe thead th {\n",
       "        text-align: right;\n",
       "    }\n",
       "</style>\n",
       "<table border=\"1\" class=\"dataframe\">\n",
       "  <thead>\n",
       "    <tr style=\"text-align: right;\">\n",
       "      <th></th>\n",
       "      <th>features</th>\n",
       "      <th>importance</th>\n",
       "    </tr>\n",
       "  </thead>\n",
       "  <tbody>\n",
       "    <tr>\n",
       "      <th>2</th>\n",
       "      <td>next_item_weight</td>\n",
       "      <td>7.712072e+06</td>\n",
       "    </tr>\n",
       "    <tr>\n",
       "      <th>1</th>\n",
       "      <td>whether_nic</td>\n",
       "      <td>6.595980e+02</td>\n",
       "    </tr>\n",
       "    <tr>\n",
       "      <th>0</th>\n",
       "      <td>whether_w2v</td>\n",
       "      <td>3.828390e+02</td>\n",
       "    </tr>\n",
       "  </tbody>\n",
       "</table>\n",
       "</div>"
      ],
      "text/plain": [
       "           features    importance\n",
       "2  next_item_weight  7.712072e+06\n",
       "1       whether_nic  6.595980e+02\n",
       "0       whether_w2v  3.828390e+02"
      ]
     },
     "execution_count": 47,
     "metadata": {},
     "output_type": "execute_result"
    }
   ],
   "source": [
    "impotant_df = pd.DataFrame(\n",
    "    {\n",
    "        'features': ranker.feature_name_,\n",
    "        'importance': ranker.feature_importances_\n",
    "    }\n",
    ").sort_values('importance', ascending=False)\n",
    "impotant_df"
   ]
  },
  {
   "cell_type": "markdown",
   "id": "4cea4973-3d4c-48e9-a387-287ee39ea07a",
   "metadata": {},
   "source": [
    "# Test inference "
   ]
  },
  {
   "cell_type": "code",
   "execution_count": 33,
   "id": "37deb6e4-1833-419b-9c83-9896e14c21a2",
   "metadata": {},
   "outputs": [
    {
     "data": {
      "text/plain": [
       "(10220637, 8)"
      ]
     },
     "execution_count": 33,
     "metadata": {},
     "output_type": "execute_result"
    }
   ],
   "source": [
    "test_candidates = test_candidates.collect()\n",
    "test_candidates.shape"
   ]
  },
  {
   "cell_type": "code",
   "execution_count": 34,
   "id": "69357f0f-697b-4324-9f93-fa22842f8af9",
   "metadata": {},
   "outputs": [],
   "source": [
    "inference = ranker.predict(test_candidates[feature_cols].to_pandas())"
   ]
  },
  {
   "cell_type": "code",
   "execution_count": 35,
   "id": "c9d1bf8f-7f18-443e-8296-8e43cb4850e3",
   "metadata": {},
   "outputs": [
    {
     "data": {
      "text/html": [
       "<div><style>\n",
       ".dataframe > thead > tr > th,\n",
       ".dataframe > tbody > tr > td {\n",
       "  text-align: right;\n",
       "}\n",
       "</style>\n",
       "<small>shape: (5, 2)</small><table border=\"1\" class=\"dataframe\"><thead><tr><th>session_id</th><th>next_item_prediction</th></tr><tr><td>i64</td><td>list[str]</td></tr></thead><tbody><tr><td>3606249</td><td>[&quot;B099NS1XPG&quot;, &quot;B08496TCCQ&quot;, … &quot;B07QH1MYPY&quot;]</td></tr><tr><td>3606250</td><td>[&quot;B004ZXMV4Q&quot;, &quot;B00R9R5ND6&quot;, … &quot;B00G358U80&quot;]</td></tr><tr><td>3606251</td><td>[&quot;B08C9Q7QVK&quot;, &quot;B07G7Q5N6G&quot;, … &quot;B0816B8H9V&quot;]</td></tr><tr><td>3606252</td><td>[&quot;395535086X&quot;, &quot;3955350843&quot;, … &quot;B09N9SNV9S&quot;]</td></tr><tr><td>3606253</td><td>[&quot;B09J8V18FL&quot;, &quot;B09J8T6TTH&quot;, … &quot;B0BDLY94TZ&quot;]</td></tr></tbody></table></div>"
      ],
      "text/plain": [
       "shape: (5, 2)\n",
       "┌────────────┬───────────────────────────────────┐\n",
       "│ session_id ┆ next_item_prediction              │\n",
       "│ ---        ┆ ---                               │\n",
       "│ i64        ┆ list[str]                         │\n",
       "╞════════════╪═══════════════════════════════════╡\n",
       "│ 3606249    ┆ [\"B099NS1XPG\", \"B08496TCCQ\", … \"… │\n",
       "│ 3606250    ┆ [\"B004ZXMV4Q\", \"B00R9R5ND6\", … \"… │\n",
       "│ 3606251    ┆ [\"B08C9Q7QVK\", \"B07G7Q5N6G\", … \"… │\n",
       "│ 3606252    ┆ [\"395535086X\", \"3955350843\", … \"… │\n",
       "│ 3606253    ┆ [\"B09J8V18FL\", \"B09J8T6TTH\", … \"… │\n",
       "└────────────┴───────────────────────────────────┘"
      ]
     },
     "execution_count": 35,
     "metadata": {},
     "output_type": "execute_result"
    }
   ],
   "source": [
    "test_result = (test_candidates\n",
    "     .lazy()\n",
    "     .with_columns(\n",
    "         pl.Series(name='predict', values=inference)\n",
    "     )\n",
    "     .with_columns(\n",
    "        pl.col('predict').rank(method='ordinal', descending=True).over('session_id').alias('rank')\n",
    "     )\n",
    "     .sort(['session_id', 'rank'])\n",
    "     .filter(pl.col('rank')<=100)\n",
    "     .groupby(['session_id'])\n",
    "     .agg(\n",
    "         pl.col('next_item_prediction')\n",
    "     )\n",
    ")\n",
    "test_result.head().collect()"
   ]
  },
  {
   "cell_type": "code",
   "execution_count": 36,
   "id": "97c65075-ab13-4650-860a-da83b91426ee",
   "metadata": {},
   "outputs": [],
   "source": [
    "original_test = (pl.scan_parquet('../data/raw_data_session_id/sessions_test_task1.parquet')\n",
    "                    .with_columns(\n",
    "                        pl.col('prev_items').apply(str2list)\n",
    "                    )\n",
    "                )"
   ]
  },
  {
   "cell_type": "code",
   "execution_count": 37,
   "id": "904fb1bf-4c76-4b68-b2a9-f6647cd751e5",
   "metadata": {},
   "outputs": [
    {
     "data": {
      "text/plain": [
       "{'prev_items': Unknown, 'locale': Utf8, 'session_id': Int64}"
      ]
     },
     "execution_count": 37,
     "metadata": {},
     "output_type": "execute_result"
    }
   ],
   "source": [
    "original_test.schema"
   ]
  },
  {
   "cell_type": "code",
   "execution_count": 38,
   "id": "6733f598-f4ff-42e3-80f5-665fddb376ae",
   "metadata": {},
   "outputs": [],
   "source": [
    "predictions = original_test.join(test_result, how='left', on='session_id').collect()[['locale', 'next_item_prediction']].to_pandas()"
   ]
  },
  {
   "cell_type": "code",
   "execution_count": 39,
   "id": "2b1cc59b-8392-44da-b75e-e5f884e84006",
   "metadata": {},
   "outputs": [
    {
     "data": {
      "text/plain": [
       "(316971, 2)"
      ]
     },
     "execution_count": 39,
     "metadata": {},
     "output_type": "execute_result"
    }
   ],
   "source": [
    "predictions.shape"
   ]
  },
  {
   "cell_type": "code",
   "execution_count": 40,
   "id": "afdea5d2-bf62-4508-bb6e-43a84fdfbfe0",
   "metadata": {},
   "outputs": [],
   "source": [
    "# original_test.head()"
   ]
  },
  {
   "cell_type": "code",
   "execution_count": 41,
   "id": "dc1521b2-6509-4947-9d25-3b89a4b0b2a6",
   "metadata": {},
   "outputs": [],
   "source": [
    "check_predictions(predictions, test_sessions=original_test.collect().to_pandas(), \n",
    "                  # check_products=True, product_df=products\n",
    "                 )\n",
    "# Its important that the parquet file you submit is saved with pyarrow backend\n",
    "predictions.to_parquet('../data/sub_files/rank_v3.parque', engine='pyarrow')"
   ]
  },
  {
   "cell_type": "code",
   "execution_count": 46,
   "id": "6b21fb19-340b-4d13-8bde-f4bc538583d0",
   "metadata": {},
   "outputs": [
    {
     "name": "stdout",
     "output_type": "stream",
     "text": [
      "\u001b[2K\u001b[1;34mrank_v3.parque\u001b[0m \u001b[90m━━━━━━━━━━━━━━━━━━━━━━\u001b[0m \u001b[35m100.0%\u001b[0m • \u001b[32m95.9/95.9 MB\u001b[0m • \u001b[31m2.7 MB/s\u001b[0m • \u001b[36m0:00:00\u001b[0m00:01\u001b[0m00:02\u001b[0m\n",
      "\u001b[?25h                                                                                 ╭─────────────────────────╮                                                                                 \n",
      "                                                                                 │ \u001b[1mSuccessfully submitted!\u001b[0m │                                                                                 \n",
      "                                                                                 ╰─────────────────────────╯                                                                                 \n",
      "\u001b[3m                                                                                       Important links                                                                                       \u001b[0m\n",
      "┌──────────────────┬────────────────────────────────────────────────────────────────────────────────────────────────────────────────────────────────────────────────────────────────────────┐\n",
      "│  This submission │ https://www.aicrowd.com/challenges/amazon-kdd-cup-23-multilingual-recommendation-challenge/problems/task-1-next-product-recommendation/submissions/215333              │\n",
      "│                  │                                                                                                                                                                        │\n",
      "│  All submissions │ https://www.aicrowd.com/challenges/amazon-kdd-cup-23-multilingual-recommendation-challenge/problems/task-1-next-product-recommendation/submissions?my_submissions=true │\n",
      "│                  │                                                                                                                                                                        │\n",
      "│      Leaderboard │ https://www.aicrowd.com/challenges/amazon-kdd-cup-23-multilingual-recommendation-challenge/problems/task-1-next-product-recommendation/leaderboards                    │\n",
      "│                  │                                                                                                                                                                        │\n",
      "│ Discussion forum │ https://discourse.aicrowd.com/c/amazon-kdd-cup-23-multilingual-recommendation-challenge                                                                                │\n",
      "│                  │                                                                                                                                                                        │\n",
      "│   Challenge page │ https://www.aicrowd.com/challenges/amazon-kdd-cup-23-multilingual-recommendation-challenge/problems/task-1-next-product-recommendation                                 │\n",
      "└──────────────────┴────────────────────────────────────────────────────────────────────────────────────────────────────────────────────────────────────────────────────────────────────────┘\n",
      "{'submission_id': 215333, 'created_at': '2023-04-10T19:15:52.291Z'}\n"
     ]
    }
   ],
   "source": [
    "# You can submit with aicrowd-cli, or upload manually on the challenge page.\n",
    "!aicrowd submission create -c task-1-next-product-recommendation -f \"../data/sub_files/rank_v3.parque\""
   ]
  },
  {
   "cell_type": "code",
   "execution_count": null,
   "id": "bb00a15d-b06c-4ddc-a66b-12785230cd9c",
   "metadata": {},
   "outputs": [],
   "source": []
  }
 ],
 "metadata": {
  "environment": {
   "kernel": "kdd_2023",
   "name": "common-cu110.m104",
   "type": "gcloud",
   "uri": "gcr.io/deeplearning-platform-release/base-cu110:m104"
  },
  "kernelspec": {
   "display_name": "py3.8(kdd_2023)",
   "language": "python",
   "name": "kdd_2023"
  },
  "language_info": {
   "codemirror_mode": {
    "name": "ipython",
    "version": 3
   },
   "file_extension": ".py",
   "mimetype": "text/x-python",
   "name": "python",
   "nbconvert_exporter": "python",
   "pygments_lexer": "ipython3",
   "version": "3.8.16"
  }
 },
 "nbformat": 4,
 "nbformat_minor": 5
}
