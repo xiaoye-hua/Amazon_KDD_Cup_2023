{
 "cells": [
  {
   "cell_type": "markdown",
   "id": "2eeeaed4-abfd-401e-80bf-1046576cc72f",
   "metadata": {},
   "source": [
    "# Package "
   ]
  },
  {
   "cell_type": "code",
   "execution_count": 19,
   "id": "43f6af97-c8c3-41c8-b8c1-0006f19d1699",
   "metadata": {},
   "outputs": [
    {
     "name": "stdout",
     "output_type": "stream",
     "text": [
      "The autoreload extension is already loaded. To reload it, use:\n",
      "  %reload_ext autoreload\n"
     ]
    }
   ],
   "source": [
    "%load_ext autoreload\n",
    "%autoreload 2\n",
    "import sys\n",
    "import logging\n",
    "sys.path.append('../')\n",
    "import os\n",
    "from utils import *\n",
    "\n",
    "from gensim.models import Word2Vec\n",
    "import polars as pl"
   ]
  },
  {
   "cell_type": "markdown",
   "id": "b32770d0-6eae-41b2-82b3-b0134f219833",
   "metadata": {},
   "source": [
    "# Config "
   ]
  },
  {
   "cell_type": "code",
   "execution_count": 13,
   "id": "2559d394-bd72-405c-bfff-44a03e88f0e5",
   "metadata": {},
   "outputs": [],
   "source": [
    "w2v_model_dir = '../model_training/w2v.model'\n",
    "test_data_dir = '.'\n",
    "task = 'task1'\n"
   ]
  },
  {
   "cell_type": "markdown",
   "id": "0c3aaf7f-a0b0-4ae4-8ed1-1cfa01936bda",
   "metadata": {},
   "source": [
    "# Load model "
   ]
  },
  {
   "cell_type": "code",
   "execution_count": 76,
   "id": "b310e904-527f-46aa-a9ff-913d898d46c5",
   "metadata": {},
   "outputs": [],
   "source": [
    "w2vec = Word2Vec.load(w2v_model_dir)"
   ]
  },
  {
   "cell_type": "code",
   "execution_count": 26,
   "id": "49ae0ec1-20cd-4552-a940-7bc0e62e2c3d",
   "metadata": {},
   "outputs": [
    {
     "data": {
      "text/html": [
       "<div>\n",
       "<style scoped>\n",
       "    .dataframe tbody tr th:only-of-type {\n",
       "        vertical-align: middle;\n",
       "    }\n",
       "\n",
       "    .dataframe tbody tr th {\n",
       "        vertical-align: top;\n",
       "    }\n",
       "\n",
       "    .dataframe thead th {\n",
       "        text-align: right;\n",
       "    }\n",
       "</style>\n",
       "<table border=\"1\" class=\"dataframe\">\n",
       "  <thead>\n",
       "    <tr style=\"text-align: right;\">\n",
       "      <th></th>\n",
       "      <th>prev_items</th>\n",
       "      <th>locale</th>\n",
       "    </tr>\n",
       "  </thead>\n",
       "  <tbody>\n",
       "    <tr>\n",
       "      <th>135025</th>\n",
       "      <td>[B09KCHLWH4, B09KCHLWH4, B09F5V3CDN, B08MC3BQK...</td>\n",
       "      <td>JP</td>\n",
       "    </tr>\n",
       "    <tr>\n",
       "      <th>184024</th>\n",
       "      <td>[B08R71STV6, B0BJCXF6QK, B0B9V3B882, B08R71STV...</td>\n",
       "      <td>JP</td>\n",
       "    </tr>\n",
       "    <tr>\n",
       "      <th>309425</th>\n",
       "      <td>[B0007VTA5S, B01N7W8FRS, B08S8RHJTN]</td>\n",
       "      <td>UK</td>\n",
       "    </tr>\n",
       "    <tr>\n",
       "      <th>313773</th>\n",
       "      <td>[B09D8QR3HS, B09D8QR3HS, B07DD5YHMH, B07DC5PPF...</td>\n",
       "      <td>UK</td>\n",
       "    </tr>\n",
       "    <tr>\n",
       "      <th>258407</th>\n",
       "      <td>[B097DNKW7L, B09YMB42RM, B097D5JQVH, B097D84HQW]</td>\n",
       "      <td>UK</td>\n",
       "    </tr>\n",
       "  </tbody>\n",
       "</table>\n",
       "</div>"
      ],
      "text/plain": [
       "                                               prev_items locale\n",
       "135025  [B09KCHLWH4, B09KCHLWH4, B09F5V3CDN, B08MC3BQK...     JP\n",
       "184024  [B08R71STV6, B0BJCXF6QK, B0B9V3B882, B08R71STV...     JP\n",
       "309425               [B0007VTA5S, B01N7W8FRS, B08S8RHJTN]     UK\n",
       "313773  [B09D8QR3HS, B09D8QR3HS, B07DD5YHMH, B07DC5PPF...     UK\n",
       "258407   [B097DNKW7L, B09YMB42RM, B097D5JQVH, B097D84HQW]     UK"
      ]
     },
     "execution_count": 26,
     "metadata": {},
     "output_type": "execute_result"
    }
   ],
   "source": [
    "test_sessions = read_test_data(task, test_data_dir=test_data_dir)\n",
    "test_sessions.sample(5)"
   ]
  },
  {
   "cell_type": "code",
   "execution_count": 39,
   "id": "677351e5-9c3b-423c-bb8b-aff517bc8de8",
   "metadata": {},
   "outputs": [
    {
     "name": "stdout",
     "output_type": "stream",
     "text": [
      "<class 'pandas.core.frame.DataFrame'>\n",
      "RangeIndex: 316971 entries, 0 to 316970\n",
      "Data columns (total 2 columns):\n",
      " #   Column      Non-Null Count   Dtype \n",
      "---  ------      --------------   ----- \n",
      " 0   prev_items  316971 non-null  object\n",
      " 1   locale      316971 non-null  object\n",
      "dtypes: object(2)\n",
      "memory usage: 4.8+ MB\n"
     ]
    }
   ],
   "source": [
    "test_sessions.info()"
   ]
  },
  {
   "cell_type": "code",
   "execution_count": 27,
   "id": "de9f1729-ef9a-4004-adc3-96734501406b",
   "metadata": {},
   "outputs": [],
   "source": [
    "# test_sessions['prev_items'] = test_sessions.apply(lambda row: process_item_lst(row), axis=1)"
   ]
  },
  {
   "cell_type": "code",
   "execution_count": 104,
   "id": "6d29fdf5-63be-45d8-9e03-af5ca7c79023",
   "metadata": {},
   "outputs": [],
   "source": [
    "df = test_sessions.sample(1000)"
   ]
  },
  {
   "cell_type": "code",
   "execution_count": 105,
   "id": "9b7488eb-9daf-4fa9-bf79-9f3622d87f64",
   "metadata": {},
   "outputs": [],
   "source": [
    "for col in df.columns:\n",
    "    df[col] = df[col].astype(str)"
   ]
  },
  {
   "cell_type": "code",
   "execution_count": 106,
   "id": "02399ab2-e810-4b80-bdf5-ddf1a823532d",
   "metadata": {},
   "outputs": [
    {
     "name": "stdout",
     "output_type": "stream",
     "text": [
      "<class 'pandas.core.frame.DataFrame'>\n",
      "Index: 1000 entries, 305876 to 237644\n",
      "Data columns (total 2 columns):\n",
      " #   Column      Non-Null Count  Dtype \n",
      "---  ------      --------------  ----- \n",
      " 0   prev_items  1000 non-null   object\n",
      " 1   locale      1000 non-null   object\n",
      "dtypes: object(2)\n",
      "memory usage: 23.4+ KB\n"
     ]
    }
   ],
   "source": [
    "df.info()"
   ]
  },
  {
   "cell_type": "code",
   "execution_count": 107,
   "id": "12bfd67a-5dda-412f-aaf8-ddee9db3d36a",
   "metadata": {},
   "outputs": [],
   "source": []
  },
  {
   "cell_type": "code",
   "execution_count": 108,
   "id": "082bebb0-b692-4145-a20a-f0dceed8777f",
   "metadata": {},
   "outputs": [],
   "source": [
    "def get_rec(prev_items):\n",
    "    # print(prev_items)\n",
    "    res = [ele.replace('[', '').replace(']', '').replace('\\n', '').replace(\"'\", '').replace(' ', '') for ele in prev_items.split(' ')]\n",
    "    \n",
    "    try:\n",
    "        similarity_dic = w2vec.wv.most_similar(positive=prev_items, topn=100)\n",
    "        res = [item for item, simi in similarity_dic] \n",
    "        # print(err)\n",
    "    except Exception as e:\n",
    "        print(e)\n",
    "    \n",
    "    return res\n",
    "\n",
    "pl_df = pl.from_dataframe(df)\n",
    "pl_df = (\n",
    "    pl_df\n",
    "        .with_column(pl.col('prev_items').apply(lambda row: get_rec(row)).alias('next_item_prediction'))\n",
    ")\n",
    "result_df = pl_df.to_pandas()"
   ]
  },
  {
   "cell_type": "code",
   "execution_count": 109,
   "id": "fa0248f2-14ea-4dda-a408-8227990b6baa",
   "metadata": {},
   "outputs": [],
   "source": [
    "# pl_df"
   ]
  },
  {
   "cell_type": "code",
   "execution_count": 111,
   "id": "bf0eb9f3-c535-4fc0-985c-486a8637cdb5",
   "metadata": {},
   "outputs": [],
   "source": []
  },
  {
   "cell_type": "code",
   "execution_count": 112,
   "id": "1fa1d4ca-ef6a-4bbb-ab0d-a7faab28e650",
   "metadata": {},
   "outputs": [
    {
     "data": {
      "text/html": [
       "<div>\n",
       "<style scoped>\n",
       "    .dataframe tbody tr th:only-of-type {\n",
       "        vertical-align: middle;\n",
       "    }\n",
       "\n",
       "    .dataframe tbody tr th {\n",
       "        vertical-align: top;\n",
       "    }\n",
       "\n",
       "    .dataframe thead th {\n",
       "        text-align: right;\n",
       "    }\n",
       "</style>\n",
       "<table border=\"1\" class=\"dataframe\">\n",
       "  <thead>\n",
       "    <tr style=\"text-align: right;\">\n",
       "      <th></th>\n",
       "      <th>prev_items</th>\n",
       "      <th>locale</th>\n",
       "      <th>next_item_prediction</th>\n",
       "    </tr>\n",
       "  </thead>\n",
       "  <tbody>\n",
       "    <tr>\n",
       "      <th>0</th>\n",
       "      <td>['B0BCSSGR43', 'B09ZYT2MQY']</td>\n",
       "      <td>UK</td>\n",
       "      <td>[B0BCSSGR43,, B09ZYT2MQY]</td>\n",
       "    </tr>\n",
       "    <tr>\n",
       "      <th>1</th>\n",
       "      <td>['B08FC3QNBV', 'B09TW38KVZ', 'B0B1CZJZK8', 'B0...</td>\n",
       "      <td>UK</td>\n",
       "      <td>[B08FC3QNBV,, B09TW38KVZ,, B0B1CZJZK8,, B09CTT...</td>\n",
       "    </tr>\n",
       "    <tr>\n",
       "      <th>2</th>\n",
       "      <td>['B0BLTWKKKG', 'B07SLHM55V', 'B014P55MN0']</td>\n",
       "      <td>JP</td>\n",
       "      <td>[B0BLTWKKKG,, B07SLHM55V,, B014P55MN0]</td>\n",
       "    </tr>\n",
       "    <tr>\n",
       "      <th>3</th>\n",
       "      <td>['B07VDBFRZW', 'B08TQM4F53', 'B07VDBFRZW', 'B0...</td>\n",
       "      <td>JP</td>\n",
       "      <td>[B07VDBFRZW,, B08TQM4F53,, B07VDBFRZW,, B07QCB...</td>\n",
       "    </tr>\n",
       "    <tr>\n",
       "      <th>4</th>\n",
       "      <td>['B00F5JMDHE', 'B08SJNJLPQ', 'B07W5Z3YVQ', 'B0...</td>\n",
       "      <td>JP</td>\n",
       "      <td>[B00F5JMDHE,, B08SJNJLPQ,, B07W5Z3YVQ,, B07W5Z...</td>\n",
       "    </tr>\n",
       "  </tbody>\n",
       "</table>\n",
       "</div>"
      ],
      "text/plain": [
       "                                          prev_items locale   \n",
       "0                       ['B0BCSSGR43', 'B09ZYT2MQY']     UK  \\\n",
       "1  ['B08FC3QNBV', 'B09TW38KVZ', 'B0B1CZJZK8', 'B0...     UK   \n",
       "2         ['B0BLTWKKKG', 'B07SLHM55V', 'B014P55MN0']     JP   \n",
       "3  ['B07VDBFRZW', 'B08TQM4F53', 'B07VDBFRZW', 'B0...     JP   \n",
       "4  ['B00F5JMDHE', 'B08SJNJLPQ', 'B07W5Z3YVQ', 'B0...     JP   \n",
       "\n",
       "                                next_item_prediction  \n",
       "0                          [B0BCSSGR43,, B09ZYT2MQY]  \n",
       "1  [B08FC3QNBV,, B09TW38KVZ,, B0B1CZJZK8,, B09CTT...  \n",
       "2             [B0BLTWKKKG,, B07SLHM55V,, B014P55MN0]  \n",
       "3  [B07VDBFRZW,, B08TQM4F53,, B07VDBFRZW,, B07QCB...  \n",
       "4  [B00F5JMDHE,, B08SJNJLPQ,, B07W5Z3YVQ,, B07W5Z...  "
      ]
     },
     "execution_count": 112,
     "metadata": {},
     "output_type": "execute_result"
    }
   ],
   "source": [
    "result_df.head()"
   ]
  },
  {
   "cell_type": "code",
   "execution_count": null,
   "id": "d35feeca-86df-47dd-9dba-487097cce172",
   "metadata": {},
   "outputs": [],
   "source": []
  }
 ],
 "metadata": {
  "environment": {
   "kernel": "kdd_2023",
   "name": "common-cu110.m104",
   "type": "gcloud",
   "uri": "gcr.io/deeplearning-platform-release/base-cu110:m104"
  },
  "kernelspec": {
   "display_name": "py3.8(kdd_2023)",
   "language": "python",
   "name": "kdd_2023"
  },
  "language_info": {
   "codemirror_mode": {
    "name": "ipython",
    "version": 3
   },
   "file_extension": ".py",
   "mimetype": "text/x-python",
   "name": "python",
   "nbconvert_exporter": "python",
   "pygments_lexer": "ipython3",
   "version": "3.8.16"
  }
 },
 "nbformat": 4,
 "nbformat_minor": 5
}
