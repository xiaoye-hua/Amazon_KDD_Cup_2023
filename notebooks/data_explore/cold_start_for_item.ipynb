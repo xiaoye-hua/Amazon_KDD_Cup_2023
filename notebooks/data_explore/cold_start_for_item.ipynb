{
 "cells": [
  {
   "cell_type": "markdown",
   "id": "17d469a3-2edc-401b-a542-950236cce3b3",
   "metadata": {},
   "source": [
    "# Question to answer "
   ]
  },
  {
   "cell_type": "markdown",
   "id": "8db88008-6e9f-4875-ab1f-4d2031ba91a6",
   "metadata": {},
   "source": [
    "1. [x] for training data, how many prediction items don't exist in prev_items -> **9% of the sessions**\n",
    "2. [x] for eval data, how many prediction items don't exist in prev_items from test & eval and all training data? -> **2% of the sessions**\n",
    "3. [x] Compared to all product data, how many items don't exist in train+eval+test data -> 95%"
   ]
  },
  {
   "cell_type": "markdown",
   "id": "ab9f4e29-81fa-41d7-ac6a-36c65ba8ff32",
   "metadata": {},
   "source": [
    "# Packages"
   ]
  },
  {
   "cell_type": "code",
   "execution_count": 1,
   "id": "1b91ee5a-8a52-4629-8893-1c2d223a22d3",
   "metadata": {
    "tags": []
   },
   "outputs": [
    {
     "name": "stderr",
     "output_type": "stream",
     "text": [
      "/home/jupyter/.cache/pypoetry/virtualenvs/kdd-2023-KklMGVX0-py3.8/lib/python3.8/site-packages/implicit/gpu/__init__.py:13: UserWarning: CUDA extension is built, but disabling GPU support because of 'Cuda Error: no CUDA-capable device is detected (/project/./implicit/gpu/utils.h:71)'\n",
      "  warnings.warn(\n"
     ]
    }
   ],
   "source": [
    "%load_ext autoreload\n",
    "%autoreload 2\n",
    "import sys\n",
    "import logging\n",
    "base_dir = '../../'\n",
    "sys.path.append(base_dir)\n",
    "import os\n",
    "from utils import *\n",
    "\n",
    "import os\n",
    "import numpy as np\n",
    "import pandas as pd\n",
    "from gensim.models import Word2Vec\n",
    "from gensim.similarities.annoy import AnnoyIndexer\n",
    "\n",
    "from tqdm import tqdm\n",
    "\n",
    "\n",
    "from annoy import AnnoyIndex\n",
    "import polars as pl\n",
    "import implicit\n",
    "import scipy.sparse as sps\n",
    "from utils import str2list\n",
    "from src.config import raw_data_session_id_dir, candidate_file_name\n",
    "from lightgbm import LGBMRanker\n",
    "from utils import *\n"
   ]
  },
  {
   "cell_type": "markdown",
   "id": "faac9066-9584-4315-b2ef-9f44bc39e224",
   "metadata": {},
   "source": [
    "# Config "
   ]
  },
  {
   "cell_type": "code",
   "execution_count": 2,
   "id": "37cf4072-7873-4085-b7cc-2161a2a0a371",
   "metadata": {},
   "outputs": [],
   "source": [
    "debug = False\n",
    "\n",
    "# eval_cg = False\n",
    "# negative_sampling = 0.1\n",
    "if debug:\n",
    "    SAMPLE_NUM = 10000\n",
    "else:\n",
    "    SAMPLE_NUM = None\n",
    "\n",
    "candidate_path = '../data/candidates/'\n",
    "model_dir = '../model_training'\n",
    "# train_data_dir = '.'\n",
    "# test_data_dir = '.'\n",
    "task = 'task1'\n",
    "w2v_model = 'w2v_v3'\n",
    "nic_model = 'nic'\n",
    "rank_model_version = 'rank_lgbm'\n",
    "\n",
    "rank_model_dir = os.path.join(model_dir, rank_model_version)\n",
    "model_for_eval = True\n",
    "w2v_topn=100\n",
    "nic_topn=100\n",
    "# PREDS_PER_SESSION = 100\n",
    "\n",
    "# num_tree = 100\n",
    "\n",
    "\n",
    "\n",
    "# # target locales: locales needed for task1\n",
    "target_locals = [\"DE\", 'JP', 'UK']\n",
    "\n",
    "# submit_file = f'submission_{task}_ALS.parquet'\n",
    "num_tree = 100\n",
    "w2v_model_dir = os.path.join(model_dir, w2v_model)\n",
    "w2v_model_file = os.path.join(w2v_model_dir, f\"{model_for_eval}.model\")\n",
    "annoy_index_file = os.path.join(w2v_model_dir, f\"{str(num_tree)}_{model_for_eval}.index\")"
   ]
  },
  {
   "cell_type": "markdown",
   "id": "de3df9f0-dd64-479b-b011-21e6e9ffc0f0",
   "metadata": {},
   "source": [
    "# Data (only target language)"
   ]
  },
  {
   "cell_type": "code",
   "execution_count": 3,
   "id": "42bc3786-8b5f-41fa-a5af-2a8a1e0b980f",
   "metadata": {},
   "outputs": [],
   "source": [
    "\n",
    "\n",
    "train_pl = pl.scan_parquet(os.path.join(base_dir, raw_data_session_id_dir, 'sessions_train.parquet'), n_rows=SAMPLE_NUM).filter(pl.col('locale').is_in(target_locals)).with_columns(pl.col('prev_items').apply(str2list))\n",
    "\n",
    "eval_pl = pl.scan_parquet(os.path.join(base_dir, raw_data_session_id_dir, 'sessions_eval.parquet'), n_rows=SAMPLE_NUM).filter(pl.col('locale').is_in(target_locals)).with_columns(pl.col('prev_items').apply(str2list))\n",
    "\n",
    "# df_sess.head(3).collect()\n",
    "test_pl = pl.scan_parquet(os.path.join(base_dir, raw_data_session_id_dir, 'sessions_test_task1.parquet'), n_rows=SAMPLE_NUM).with_columns(pl.col('prev_items').apply(str2list))\n",
    "product_pl = pl.scan_parquet(os.path.join(base_dir, raw_data_session_id_dir, 'products_train.parquet'), n_rows=SAMPLE_NUM)"
   ]
  },
  {
   "cell_type": "markdown",
   "id": "3e356716-accb-4752-a5e3-b1c5858163b8",
   "metadata": {},
   "source": [
    "# Q1 "
   ]
  },
  {
   "cell_type": "code",
   "execution_count": 4,
   "id": "a290d17a-0866-41d0-a1f6-d1a8ce5a4727",
   "metadata": {},
   "outputs": [],
   "source": [
    "unique_prev_items = train_pl.select('prev_items').explode('prev_items').unique().collect()\n",
    "target_df = train_pl.select('next_item').unique().collect()\n",
    "\n",
    "prev_item_lst = list(unique_prev_items.to_pandas()['prev_items'].values)\n",
    "target_item_lst = list(target_df.to_pandas()['next_item'].values)"
   ]
  },
  {
   "cell_type": "code",
   "execution_count": 5,
   "id": "9eebee69-7e02-4daa-ae8d-9d582af28f5a",
   "metadata": {},
   "outputs": [
    {
     "name": "stdout",
     "output_type": "stream",
     "text": [
      "75567/825613\n",
      "0.09\n"
     ]
    }
   ],
   "source": [
    "target_len = len(target_item_lst)\n",
    "intersect_set = set(prev_item_lst)&set(target_item_lst)\n",
    "no_present = target_len - len(intersect_set)\n",
    "print(f\"{no_present}/{target_len}\")\n",
    "print(round(no_present/target_len,2))"
   ]
  },
  {
   "cell_type": "markdown",
   "id": "37da195b-c43f-49a4-8c5f-7d42e6903103",
   "metadata": {},
   "source": [
    "# Q2 "
   ]
  },
  {
   "cell_type": "code",
   "execution_count": 6,
   "id": "a109e898-3402-445e-afef-78c4badf2f25",
   "metadata": {},
   "outputs": [],
   "source": [
    "unique_prev_items = (\n",
    "    pl.concat([train_pl.select(pl.concat_list([pl.col('prev_items'), pl.col('next_item')]).alias('prev_items')), \n",
    "               eval_pl.select('prev_items')\n",
    "               , test_pl.select('prev_items')\n",
    "              ]\n",
    "         , how='vertical')\n",
    "        .explode('prev_items').unique()\n",
    ").collect()\n",
    "target_df = eval_pl.select('next_item').unique().collect()\n",
    "\n",
    "\n",
    "prev_item_lst = list(unique_prev_items.to_pandas()['prev_items'].values)\n",
    "target_item_lst = list(target_df.to_pandas()['next_item'].values)\n"
   ]
  },
  {
   "cell_type": "code",
   "execution_count": 7,
   "id": "3e4c7ac7-b156-4492-99be-b3ed9a6ff5f8",
   "metadata": {},
   "outputs": [
    {
     "name": "stdout",
     "output_type": "stream",
     "text": [
      "3810/228044\n",
      "0.02\n"
     ]
    }
   ],
   "source": [
    "target_len = len(target_item_lst)\n",
    "intersect_set = set(prev_item_lst)&set(target_item_lst)\n",
    "no_present = target_len - len(intersect_set)\n",
    "print(f\"{no_present}/{target_len}\")\n",
    "print(round(no_present/target_len,2))"
   ]
  },
  {
   "cell_type": "markdown",
   "id": "9f5c537f-1c8d-4941-9f4a-1aad2e5b1f32",
   "metadata": {},
   "source": [
    "# Q3 "
   ]
  },
  {
   "cell_type": "code",
   "execution_count": 8,
   "id": "159ed18b-55da-4829-9ff8-956e78edfbdd",
   "metadata": {},
   "outputs": [],
   "source": [
    "# product_pl.head().collect()"
   ]
  },
  {
   "cell_type": "code",
   "execution_count": 9,
   "id": "1c6f9066-0345-46aa-b38f-720323d07d90",
   "metadata": {},
   "outputs": [],
   "source": [
    "all_item = pl.concat([train_pl.select(pl.concat_list([pl.col('prev_items'), pl.col('next_item')]).alias('prev_items'))\n",
    "                      , eval_pl.select(pl.concat_list([pl.col('prev_items'), pl.col('next_item')]).alias('prev_items'))\n",
    "                   , test_pl.select('prev_items')\n",
    "              ]\n",
    "         , how='vertical').explode('prev_items').unique()"
   ]
  },
  {
   "cell_type": "code",
   "execution_count": 10,
   "id": "0a51285e-e840-4650-a467-1b15729812b5",
   "metadata": {},
   "outputs": [],
   "source": [
    "# /all_item.head().collect()"
   ]
  },
  {
   "cell_type": "code",
   "execution_count": 11,
   "id": "46169c61-cfdf-412f-948e-573981fb2b18",
   "metadata": {},
   "outputs": [],
   "source": [
    "item_num = all_item.collect().shape[0]"
   ]
  },
  {
   "cell_type": "code",
   "execution_count": 12,
   "id": "295ee09e-8ea7-4515-92a6-acaad3e3d5f0",
   "metadata": {},
   "outputs": [],
   "source": [
    "all_item_num = product_pl.select('id').unique().collect().shape[0]"
   ]
  },
  {
   "cell_type": "code",
   "execution_count": 13,
   "id": "bb91c75d-784e-454e-96b0-5d858baed51d",
   "metadata": {},
   "outputs": [
    {
     "name": "stdout",
     "output_type": "stream",
     "text": [
      "1338847/1410675 = 0.95\n"
     ]
    }
   ],
   "source": [
    "print(f\"{item_num}/{all_item_num} = {round(item_num/all_item_num,2)}\")"
   ]
  }
 ],
 "metadata": {
  "environment": {
   "kernel": "kdd_2023",
   "name": "common-cu110.m104",
   "type": "gcloud",
   "uri": "gcr.io/deeplearning-platform-release/base-cu110:m104"
  },
  "kernelspec": {
   "display_name": "py3.8(kdd_2023)",
   "language": "python",
   "name": "kdd_2023"
  },
  "language_info": {
   "codemirror_mode": {
    "name": "ipython",
    "version": 3
   },
   "file_extension": ".py",
   "mimetype": "text/x-python",
   "name": "python",
   "nbconvert_exporter": "python",
   "pygments_lexer": "ipython3",
   "version": "3.8.16"
  }
 },
 "nbformat": 4,
 "nbformat_minor": 5
}
