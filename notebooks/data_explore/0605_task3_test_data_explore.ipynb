{
 "cells": [
  {
   "cell_type": "markdown",
   "id": "8a5abd4e-8f8e-4539-9bc2-05acb741443d",
   "metadata": {},
   "source": [
    "# Packages "
   ]
  },
  {
   "cell_type": "code",
   "execution_count": 1,
   "id": "a540d664-6ccf-48aa-a782-2d2ccad2977a",
   "metadata": {},
   "outputs": [
    {
     "name": "stderr",
     "output_type": "stream",
     "text": [
      "/home/jupyter/.cache/pypoetry/virtualenvs/kdd-2023-KklMGVX0-py3.8/lib/python3.8/site-packages/implicit/gpu/__init__.py:13: UserWarning: CUDA extension is built, but disabling GPU support because of 'Cuda Error: no CUDA-capable device is detected (/project/./implicit/gpu/utils.h:71)'\n",
      "  warnings.warn(\n"
     ]
    },
    {
     "ename": "SyntaxError",
     "evalue": "invalid syntax (case_analysis.py, line 16)",
     "output_type": "error",
     "traceback": [
      "Traceback \u001b[0;36m(most recent call last)\u001b[0m:\n",
      "\u001b[0m  File \u001b[1;32m~/.cache/pypoetry/virtualenvs/kdd-2023-KklMGVX0-py3.8/lib/python3.8/site-packages/IPython/core/interactiveshell.py:3505\u001b[0m in \u001b[1;35mrun_code\u001b[0m\n    exec(code_obj, self.user_global_ns, self.user_ns)\u001b[0m\n",
      "\u001b[0;36m  Cell \u001b[0;32mIn[1], line 25\u001b[0;36m\n\u001b[0;31m    from src.case_analysis import show_single_case\u001b[0;36m\n",
      "\u001b[0;36m  File \u001b[0;32m~/kdd_challenge_2023/notebooks/data_explore/../../src/case_analysis.py:16\u001b[0;36m\u001b[0m\n\u001b[0;31m    print(f'{idx}: {row['id']}')\u001b[0m\n\u001b[0m                         ^\u001b[0m\n\u001b[0;31mSyntaxError\u001b[0m\u001b[0;31m:\u001b[0m invalid syntax\n"
     ]
    }
   ],
   "source": [
    "%load_ext autoreload\n",
    "%autoreload 2\n",
    "import sys\n",
    "import logging\n",
    "base_dir = '../../'\n",
    "sys.path.append(base_dir)\n",
    "import os\n",
    "from utils import *\n",
    "\n",
    "import os\n",
    "import numpy as np\n",
    "import pandas as pd\n",
    "from gensim.models import Word2Vec\n",
    "from gensim.similarities.annoy import AnnoyIndexer\n",
    "\n",
    "from tqdm import tqdm\n",
    "\n",
    "\n",
    "from annoy import AnnoyIndex\n",
    "import polars as pl\n",
    "import implicit\n",
    "import scipy.sparse as sps\n",
    "from utils import str2list\n",
    "from src.config import raw_data_session_id_dir, candidate_file_name, raw_data_session_id_dir\n",
    "from src.case_analysis import show_single_case\n",
    "from lightgbm import LGBMRanker\n",
    "from utils import *\n"
   ]
  },
  {
   "cell_type": "markdown",
   "id": "8fae1c74-8260-43eb-a517-17b8ea522d8d",
   "metadata": {},
   "source": [
    "# Config"
   ]
  },
  {
   "cell_type": "code",
   "execution_count": 59,
   "id": "9cb4720d-7271-4e33-a724-ac3e5e5144d9",
   "metadata": {},
   "outputs": [],
   "source": [
    "debug = False\n",
    "\n",
    "\n",
    "if debug:\n",
    "    n_rows = 1000\n",
    "else:\n",
    "    n_rows = None\n"
   ]
  },
  {
   "cell_type": "markdown",
   "id": "426c8a62-ca26-49b5-a6c7-db930c5be34c",
   "metadata": {
    "tags": []
   },
   "source": [
    "# Read data "
   ]
  },
  {
   "cell_type": "code",
   "execution_count": 60,
   "id": "7ef7bf4f-fcf4-462b-b93e-debf948be40d",
   "metadata": {},
   "outputs": [
    {
     "name": "stdout",
     "output_type": "stream",
     "text": [
      "product_unique2id.json\t\t    sessions_test_task2.parquet\n",
      "products_train.parquet\t\t    sessions_test_task2_phase1.parquet\n",
      "sessions_eval.parquet\t\t    sessions_test_task3.parquet\n",
      "sessions_test_task1.parquet\t    sessions_test_task3_phase1.parquet\n",
      "sessions_test_task1_phase1.parquet  sessions_train.parquet\n"
     ]
    }
   ],
   "source": [
    "! ls {base_dir}/{raw_data_session_id_dir}"
   ]
  },
  {
   "cell_type": "code",
   "execution_count": 61,
   "id": "4c57d7fd-8710-4fd5-8d41-16100fc7b368",
   "metadata": {},
   "outputs": [],
   "source": [
    "test_pl = pl.scan_parquet(os.path.join(base_dir, raw_data_session_id_dir, 'sessions_test_task3.parquet'), n_rows=n_rows).with_columns(pl.col('prev_items').apply(str2list))\n",
    "product_pl = pl.scan_parquet(os.path.join(base_dir, raw_data_session_id_dir, \n",
    "                                          'products_train.parquet'))\n"
   ]
  },
  {
   "cell_type": "code",
   "execution_count": 62,
   "id": "dc82a1fc-44ed-440d-864a-a3809ec5524c",
   "metadata": {},
   "outputs": [
    {
     "data": {
      "text/html": [
       "<div><style>\n",
       ".dataframe > thead > tr > th,\n",
       ".dataframe > tbody > tr > td {\n",
       "  text-align: right;\n",
       "}\n",
       "</style>\n",
       "<small>shape: (7, 4)</small><table border=\"1\" class=\"dataframe\"><thead><tr><th>describe</th><th>prev_items</th><th>locale</th><th>session_id</th></tr><tr><td>str</td><td>str</td><td>str</td><td>f64</td></tr></thead><tbody><tr><td>&quot;count&quot;</td><td>&quot;56427&quot;</td><td>&quot;56427&quot;</td><td>56427.0</td></tr><tr><td>&quot;null_count&quot;</td><td>&quot;0&quot;</td><td>&quot;5&quot;</td><td>0.0</td></tr><tr><td>&quot;mean&quot;</td><td>null</td><td>null</td><td>4.39421e6</td></tr><tr><td>&quot;std&quot;</td><td>null</td><td>null</td><td>16289.216157</td></tr><tr><td>&quot;min&quot;</td><td>null</td><td>&quot;DE&quot;</td><td>4.365997e6</td></tr><tr><td>&quot;max&quot;</td><td>null</td><td>&quot;UK&quot;</td><td>4.422423e6</td></tr><tr><td>&quot;median&quot;</td><td>null</td><td>null</td><td>4.39421e6</td></tr></tbody></table></div>"
      ],
      "text/plain": [
       "shape: (7, 4)\n",
       "┌────────────┬────────────┬────────┬──────────────┐\n",
       "│ describe   ┆ prev_items ┆ locale ┆ session_id   │\n",
       "│ ---        ┆ ---        ┆ ---    ┆ ---          │\n",
       "│ str        ┆ str        ┆ str    ┆ f64          │\n",
       "╞════════════╪════════════╪════════╪══════════════╡\n",
       "│ count      ┆ 56427      ┆ 56427  ┆ 56427.0      │\n",
       "│ null_count ┆ 0          ┆ 5      ┆ 0.0          │\n",
       "│ mean       ┆ null       ┆ null   ┆ 4.39421e6    │\n",
       "│ std        ┆ null       ┆ null   ┆ 16289.216157 │\n",
       "│ min        ┆ null       ┆ DE     ┆ 4.365997e6   │\n",
       "│ max        ┆ null       ┆ UK     ┆ 4.422423e6   │\n",
       "│ median     ┆ null       ┆ null   ┆ 4.39421e6    │\n",
       "└────────────┴────────────┴────────┴──────────────┘"
      ]
     },
     "execution_count": 62,
     "metadata": {},
     "output_type": "execute_result"
    }
   ],
   "source": [
    "test_pl.collect().describe()"
   ]
  },
  {
   "cell_type": "code",
   "execution_count": 67,
   "id": "077b42da-4ff8-4ff1-aad0-c4a3cf5b2062",
   "metadata": {},
   "outputs": [
    {
     "data": {
      "text/html": [
       "<div><style>\n",
       ".dataframe > thead > tr > th,\n",
       ".dataframe > tbody > tr > td {\n",
       "  text-align: right;\n",
       "}\n",
       "</style>\n",
       "<small>shape: (7, 2)</small><table border=\"1\" class=\"dataframe\"><thead><tr><th>locale</th><th>counts</th></tr><tr><td>str</td><td>u32</td></tr></thead><tbody><tr><td>&quot;DE&quot;</td><td>10000</td></tr><tr><td>&quot;JP&quot;</td><td>10000</td></tr><tr><td>&quot;ES&quot;</td><td>6422</td></tr><tr><td>null</td><td>5</td></tr><tr><td>&quot;UK&quot;</td><td>10000</td></tr><tr><td>&quot;IT&quot;</td><td>10000</td></tr><tr><td>&quot;FR&quot;</td><td>10000</td></tr></tbody></table></div>"
      ],
      "text/plain": [
       "shape: (7, 2)\n",
       "┌────────┬────────┐\n",
       "│ locale ┆ counts │\n",
       "│ ---    ┆ ---    │\n",
       "│ str    ┆ u32    │\n",
       "╞════════╪════════╡\n",
       "│ DE     ┆ 10000  │\n",
       "│ JP     ┆ 10000  │\n",
       "│ ES     ┆ 6422   │\n",
       "│ null   ┆ 5      │\n",
       "│ UK     ┆ 10000  │\n",
       "│ IT     ┆ 10000  │\n",
       "│ FR     ┆ 10000  │\n",
       "└────────┴────────┘"
      ]
     },
     "execution_count": 67,
     "metadata": {},
     "output_type": "execute_result"
    }
   ],
   "source": [
    "test_pl.select('locale').collect().to_series().value_counts()"
   ]
  },
  {
   "cell_type": "code",
   "execution_count": null,
   "id": "ec8412c7-3bb6-4780-a1f1-e65ed71ffa41",
   "metadata": {},
   "outputs": [],
   "source": []
  },
  {
   "cell_type": "code",
   "execution_count": 69,
   "id": "9ff1e31e-ad97-48f9-bb64-790069ac9b72",
   "metadata": {},
   "outputs": [
    {
     "data": {
      "text/html": [
       "<div><style>\n",
       ".dataframe > thead > tr > th,\n",
       ".dataframe > tbody > tr > td {\n",
       "  text-align: right;\n",
       "}\n",
       "</style>\n",
       "<small>shape: (3, 3)</small><table border=\"1\" class=\"dataframe\"><thead><tr><th>prev_items</th><th>locale</th><th>session_id</th></tr><tr><td>list[str]</td><td>str</td><td>i64</td></tr></thead><tbody><tr><td>[&quot;B09HSJX8XJ&quot;, &quot;B09KLD82B7&quot;, &quot;B09KKYH7N2&quot;]</td><td>&quot;UK&quot;</td><td>4422066</td></tr><tr><td>[&quot;B0BJKNDR1K&quot;, &quot;B07P177RK8&quot;, … &quot;B095H7C8TX&quot;]</td><td>&quot;UK&quot;</td><td>4422246</td></tr><tr><td>[&quot;B0B9HMTVBK&quot;, &quot;B075KDGGWM&quot;, … &quot;B00DEB5GQU&quot;]</td><td>&quot;UK&quot;</td><td>4413201</td></tr></tbody></table></div>"
      ],
      "text/plain": [
       "shape: (3, 3)\n",
       "┌───────────────────────────────────┬────────┬────────────┐\n",
       "│ prev_items                        ┆ locale ┆ session_id │\n",
       "│ ---                               ┆ ---    ┆ ---        │\n",
       "│ list[str]                         ┆ str    ┆ i64        │\n",
       "╞═══════════════════════════════════╪════════╪════════════╡\n",
       "│ [\"B09HSJX8XJ\", \"B09KLD82B7\", \"B0… ┆ UK     ┆ 4422066    │\n",
       "│ [\"B0BJKNDR1K\", \"B07P177RK8\", … \"… ┆ UK     ┆ 4422246    │\n",
       "│ [\"B0B9HMTVBK\", \"B075KDGGWM\", … \"… ┆ UK     ┆ 4413201    │\n",
       "└───────────────────────────────────┴────────┴────────────┘"
      ]
     },
     "execution_count": 69,
     "metadata": {},
     "output_type": "execute_result"
    }
   ],
   "source": [
    "test_pl.filter(pl.col('locale')=='UK').collect().sample(3)"
   ]
  },
  {
   "cell_type": "code",
   "execution_count": 71,
   "id": "ea767ec6-e4c5-445e-9ae9-374b598d6ca8",
   "metadata": {},
   "outputs": [],
   "source": [
    "# test_pl.tail(5).collect()"
   ]
  },
  {
   "cell_type": "code",
   "execution_count": 72,
   "id": "813ae9bb-1735-4f57-a0ba-8f3fa3f76420",
   "metadata": {},
   "outputs": [],
   "source": [
    "# product_pl.head().collect()"
   ]
  },
  {
   "cell_type": "markdown",
   "id": "b9b4af5e-2102-46cc-bd3e-e9b929c7886d",
   "metadata": {
    "tags": []
   },
   "source": [
    "# Case study "
   ]
  },
  {
   "cell_type": "code",
   "execution_count": 74,
   "id": "b3f0fbc8-fb26-4154-aeed-b5e3c5049d02",
   "metadata": {},
   "outputs": [],
   "source": [
    "session_id = 4365999\n",
    "\n",
    "session_pl = test_pl\n",
    "product_pl = product_pl\n",
    "\n"
   ]
  },
  {
   "cell_type": "code",
   "execution_count": 73,
   "id": "7245b655-7180-4523-9726-2b275ec591e9",
   "metadata": {},
   "outputs": [
    {
     "name": "stdout",
     "output_type": "stream",
     "text": [
      "++++++++++++++++++++\n",
      "0\n",
      "++++++++++++++++++++\n",
      "===title====\n",
      "    camouflage net 54pcs Magnetic Balls and Rods Building Sticks Blocks Set DIY Assembly Stacking STEM Magnet Toys Educative Building Rod Set for 3+ Years Old Kids\n",
      "\n",
      "===desc====\n",
      "    【54pcs】The magnetic building block bat set includes 54 building blocks, including 8* smile ball, 8* curved bar and 38* magnetic bar. A sufficient number can build various 2D models and 3D buildings.\n",
      "\n",
      "unique_id                             960085\n",
      "price                                  24.99\n",
      "brand                         camouflage net\n",
      "color                                   None\n",
      "size                                    None\n",
      "model                                   None\n",
      "material     Acrylonitrile Butadiene Styrene\n",
      "author                                  None\n",
      "Name: 0, dtype: object\n",
      "\n",
      "\n",
      "++++++++++++++++++++\n",
      "1\n",
      "++++++++++++++++++++\n",
      "===title====\n",
      "    Geomag 350 Confetti Confetti-32pcs, Mixed, 32 Pieces\n",
      "\n",
      "===desc====\n",
      "    Explore your imagination: Geomag magnetic kits are the ideal way to express your creativity. There is virtually no limit to the creations that you can make. All you need is a kit and an active mind\n",
      "\n",
      "unique_id            971489\n",
      "price                 15.27\n",
      "brand                Geomag\n",
      "color                 Mixed\n",
      "size              32 Pieces\n",
      "model                   350\n",
      "material     Other Material\n",
      "author                 None\n",
      "Name: 1, dtype: object\n",
      "\n",
      "\n",
      "++++++++++++++++++++\n",
      "2\n",
      "++++++++++++++++++++\n",
      "===title====\n",
      "    70pcs Magnetic Balls and Rods Set Early Educational DIY Assembly Magnetic Building Blocks Set STEM Educative 3D Stacking Magnet Toys for Kids Age 3+ Logical Development\n",
      "\n",
      "===desc====\n",
      "    🍬[DIY assembly] The assembled building block toy is magnetic. Children build different models, such as cars, houses, animals or any interesting buildings they imagine. It can help children develop their imagination and creativity and exercise their hands-on ability.\n",
      "\n",
      "unique_id       1103746\n",
      "price             15.29\n",
      "brand        Relax love\n",
      "color              None\n",
      "size               None\n",
      "model              None\n",
      "material           None\n",
      "author             None\n",
      "Name: 2, dtype: object\n",
      "\n",
      "\n",
      "++++++++++++++++++++\n",
      "3\n",
      "++++++++++++++++++++\n",
      "===title====\n",
      "    GEOMAG Magnetic Sticks and Balls Building Set | Magnet Toys for STEM, Creative, Educational Construction Play | Swiss-Made Innovation | Confetti 35 Pieces Age 3+\n",
      "\n",
      "===desc====\n",
      "    COLORFUL MAGNETS CLICK INTO ENDLESS COMBINATIONS: Play allows kids and adults to create and learn together! Geomag easy, interlocking magnetic building games are awesome educational toys that teach STEM concepts of magnetism, geometry, gravity, and engineering\n",
      "\n",
      "unique_id                          1187844\n",
      "price                                14.95\n",
      "brand                               Geomag\n",
      "color        Light Blu, Orange, Green, Red\n",
      "size                             35 Pieces\n",
      "model                                  351\n",
      "material                  Plastic, Magnets\n",
      "author                                None\n",
      "Name: 3, dtype: object\n",
      "\n",
      "\n",
      "++++++++++++++++++++\n",
      "4\n",
      "++++++++++++++++++++\n",
      "===title====\n",
      "    FFP2 Mask 20 Pcs 5-Layer Disposable KN95/FFP2 Face Masks CE 0598 Certified EN149 Standard Protective Mask High Filtration Capacity Individually Packaged…\n",
      "\n",
      "===desc====\n",
      "    【5 layers of multi-colored FFP2 masks】 a total of 6 colors, 4 pieces each for black and royal blue, 3 pieces each for yellow, purple, pink and fruit green. Non-woven outer layer + 2 ultra-fine soft fibers filter layer + skin friendly non-woven inner layer. It is breathable and comfortable. Meet FFP2 standard with Filter Efficiency more than 95%.\n",
      "\n",
      "unique_id                 1260118\n",
      "price                        9.99\n",
      "brand                     HONGZHI\n",
      "color                       Black\n",
      "size         20 Count (Pack of 1)\n",
      "model                        None\n",
      "material                non-woven\n",
      "author                       None\n",
      "Name: 4, dtype: object\n",
      "\n",
      "\n"
     ]
    }
   ],
   "source": [
    "show_single_case(session_id=4422246, session_pl=session_pl, product_pl=product_pl)"
   ]
  },
  {
   "cell_type": "code",
   "execution_count": 33,
   "id": "0c05d88a-123e-4811-8b2b-494a7c0ecf00",
   "metadata": {},
   "outputs": [
    {
     "data": {
      "text/plain": [
       "array(['Correa Xiaomi Mi Band 4, Superpow 3 Piezas Correas para Xiaomi Mi Band 3, Pulsera xiaomi mi band 4 / Xiaomi band 3 Correa de Repuesto Suave, Transpirable, Resistente al Sudor (negro/gris/azul marino)',\n",
       "       'Correa Xiaomi Mi Band 4, Superpow 3 Piezas Correas para Xiaomi Mi Band 3, Pulsera xiaomi mi band 4 / Xiaomi band 3 Correa de Repuesto Suave, Transpirable, Resistente al Sudor (gris/rosa/amarillo)'],\n",
       "      dtype=object)"
      ]
     },
     "execution_count": 33,
     "metadata": {},
     "output_type": "execute_result"
    }
   ],
   "source": [
    "session_details['title'].to_pandas().values"
   ]
  },
  {
   "cell_type": "code",
   "execution_count": 39,
   "id": "73630111-b95c-42c0-a38b-35afe3612b86",
   "metadata": {},
   "outputs": [
    {
     "data": {
      "text/plain": [
       "Index(['prev_items', 'locale', 'session_id', 'title', 'price', 'brand',\n",
       "       'color', 'size', 'model', 'material', 'author', 'desc', 'unique_id'],\n",
       "      dtype='object')"
      ]
     },
     "execution_count": 39,
     "metadata": {},
     "output_type": "execute_result"
    }
   ],
   "source": [
    "session_details.to_pandas().columns"
   ]
  },
  {
   "cell_type": "code",
   "execution_count": 45,
   "id": "3880a635-0efe-49a0-b432-3bda2ad8dd37",
   "metadata": {},
   "outputs": [
    {
     "name": "stdout",
     "output_type": "stream",
     "text": [
      "++++++++++++++++++++\n",
      "0\n",
      "++++++++++++++++++++\n",
      "===title====\n",
      "    Correa Xiaomi Mi Band 4, Superpow 3 Piezas Correas para Xiaomi Mi Band 3, Pulsera xiaomi mi band 4 / Xiaomi band 3 Correa de Repuesto Suave, Transpirable, Resistente al Sudor (negro/gris/azul marino)\n",
      "\n",
      "===desc====\n",
      "    【3 colores para elegir】 :Pulsera Xiaomi Mi Band 4 proporcionamos 3 colores diferentes, puede cambiar el color de acuerdo con su estado de ánimo y preferencia o combinarlo con su ropa todos los días\n",
      "\n",
      "unique_id                       1423913\n",
      "price                              6.99\n",
      "brand                          superpow\n",
      "color        negro / gris / azul marino\n",
      "size                               None\n",
      "model                              None\n",
      "material                           None\n",
      "author                             None\n",
      "Name: 0, dtype: object\n",
      "\n",
      "\n",
      "++++++++++++++++++++\n",
      "1\n",
      "++++++++++++++++++++\n",
      "===title====\n",
      "    Correa Xiaomi Mi Band 4, Superpow 3 Piezas Correas para Xiaomi Mi Band 3, Pulsera xiaomi mi band 4 / Xiaomi band 3 Correa de Repuesto Suave, Transpirable, Resistente al Sudor (gris/rosa/amarillo)\n",
      "\n",
      "===desc====\n",
      "    【3 colores para elegir】 :Pulsera Xiaomi Mi Band 4 proporcionamos 3 colores diferentes, puede cambiar el color de acuerdo con su estado de ánimo y preferencia o combinarlo con su ropa todos los días\n",
      "\n",
      "unique_id               1429976\n",
      "price                      6.99\n",
      "brand                  superpow\n",
      "color        gris/rosa/amarillo\n",
      "size                       None\n",
      "model                      None\n",
      "material                   None\n",
      "author                     None\n",
      "Name: 1, dtype: object\n",
      "\n",
      "\n"
     ]
    }
   ],
   "source": []
  }
 ],
 "metadata": {
  "environment": {
   "kernel": "kdd_2023",
   "name": "common-cu110.m104",
   "type": "gcloud",
   "uri": "gcr.io/deeplearning-platform-release/base-cu110:m104"
  },
  "kernelspec": {
   "display_name": "py3.8(kdd_2023)",
   "language": "python",
   "name": "kdd_2023"
  },
  "language_info": {
   "codemirror_mode": {
    "name": "ipython",
    "version": 3
   },
   "file_extension": ".py",
   "mimetype": "text/x-python",
   "name": "python",
   "nbconvert_exporter": "python",
   "pygments_lexer": "ipython3",
   "version": "3.8.16"
  }
 },
 "nbformat": 4,
 "nbformat_minor": 5
}
