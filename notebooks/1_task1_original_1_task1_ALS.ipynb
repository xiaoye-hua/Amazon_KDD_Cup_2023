{
 "cells": [
  {
   "cell_type": "markdown",
   "id": "384e673a-9c48-4f2c-a504-eccb9d14d09f",
   "metadata": {},
   "source": [
    "# Packages "
   ]
  },
  {
   "cell_type": "code",
   "execution_count": 1,
   "id": "8bcd1d3a-47fd-45f3-9361-bb0091534005",
   "metadata": {},
   "outputs": [
    {
     "name": "stderr",
     "output_type": "stream",
     "text": [
      "/home/jupyter/.cache/pypoetry/virtualenvs/kdd-2023-KklMGVX0-py3.8/lib/python3.8/site-packages/implicit/gpu/__init__.py:13: UserWarning: CUDA extension is built, but disabling GPU support because of 'Cuda Error: no CUDA-capable device is detected (/project/./implicit/gpu/utils.h:71)'\n",
      "  warnings.warn(\n"
     ]
    }
   ],
   "source": [
    "%load_ext autoreload\n",
    "%autoreload 2\n",
    "import sys\n",
    "import logging\n",
    "base_dir = '../'\n",
    "\n",
    "sys.path.append(base_dir)\n",
    "import os\n",
    "from utils import *\n",
    "\n",
    "import os\n",
    "import numpy as np\n",
    "import pandas as pd\n",
    "from gensim.models import Word2Vec\n",
    "import pickle\n",
    "\n",
    "from annoy import AnnoyIndex\n",
    "import polars as pl\n",
    "import implicit\n",
    "import scipy.sparse as sps\n",
    "from src.eval import get_recall_at_k, pd_get_recall_at_k, model_eval\n",
    "from src.config import raw_data_session_id_dir, candidate_dir, model_for_eval"
   ]
  },
  {
   "cell_type": "markdown",
   "id": "135245f6-308e-4c83-a11d-9d0d1da81ab3",
   "metadata": {},
   "source": [
    "# Config "
   ]
  },
  {
   "cell_type": "code",
   "execution_count": 2,
   "id": "22bb50a5-acba-4b88-95d2-ef8b27d51f29",
   "metadata": {},
   "outputs": [],
   "source": [
    "debug = False\n",
    "\n",
    "model_version = 'als_v1'\n",
    "\n",
    "topn = 100\n",
    "if debug:\n",
    "    n_rows = 1000\n",
    "else:\n",
    "    n_rows = None\n",
    "train_data_dir = '.'\n",
    "test_data_dir = '.'\n",
    "task = 'task1'\n",
    "\n",
    "model_for_eval = True\n",
    "\n",
    "model_dir = f'../model_training/{model_version}'\n",
    "\n",
    "model_file = os.path.join(model_dir, 'als_model.pkl')\n",
    "\n",
    "target_locals = [\"DE\", 'JP', 'UK']\n",
    "\n",
    "submit_file = os.path.join('../data/sub_files/', 'als_v1.parquet')\n"
   ]
  },
  {
   "cell_type": "code",
   "execution_count": 3,
   "id": "0e206f4e-e194-4bb1-86d4-d6512536790f",
   "metadata": {},
   "outputs": [
    {
     "name": "stdout",
     "output_type": "stream",
     "text": [
      "mkdir: cannot create directory ‘../model_training/als_v1’: File exists\n"
     ]
    }
   ],
   "source": [
    "! mkdir {model_dir}"
   ]
  },
  {
   "cell_type": "code",
   "execution_count": 4,
   "id": "95d6529d-b037-43b9-ba52-6accfefb949f",
   "metadata": {},
   "outputs": [],
   "source": [
    "# model_file"
   ]
  },
  {
   "cell_type": "markdown",
   "id": "c6c69010-321a-4714-8b49-6d91385e23ce",
   "metadata": {},
   "source": [
    "# Read data"
   ]
  },
  {
   "cell_type": "code",
   "execution_count": 5,
   "id": "a36a45fd-b5ed-4b01-a75f-8ff0426243c5",
   "metadata": {},
   "outputs": [],
   "source": [
    "# train_pl = pl.scan_parquet(os.path.join(base_dir, raw_data_session_id_dir, 'sessions_train.parquet'), n_rows=n_rows).filter(pl.col('locale').is_in(target_locals)).with_columns(pl.col('prev_items').apply(str2list))\n",
    "\n",
    "# eval_pl = pl.scan_parquet(os.path.join(base_dir, raw_data_session_id_dir, 'sessions_eval.parquet'), n_rows=n_rows).filter(pl.col('locale').is_in(target_locals)).with_columns(pl.col('prev_items').apply(str2list))\n",
    "\n",
    "# # df_sess.head(3).collect()\n",
    "# test_pl = pl.scan_parquet(os.path.join(base_dir, raw_data_session_id_dir, 'sessions_test_task1.parquet'), n_rows=n_rows).with_columns(pl.col('prev_items').apply(str2list))\n"
   ]
  },
  {
   "cell_type": "code",
   "execution_count": 6,
   "id": "26aec879-6f12-468a-b5a3-c4537b05d149",
   "metadata": {},
   "outputs": [],
   "source": [
    "# train_data = train_pl.with_columns(\n",
    "#     pl.col('prev_items').arr.concat(pl.col('next_item')) \n",
    "# )\n",
    "# if not model_for_eval:\n",
    "#     eval_data = eval_pl.with_columns(\n",
    "#     pl.col('prev_items').arr.concat(pl.col('next_item')) \n",
    "# )\n",
    "# else:\n",
    "#     eval_data = eval_pl\n",
    "# test_data = test_pl\n",
    "# cols_to_keep = ['prev_items', 'locale']\n",
    "# popular_pl = pl.concat([train_data.select(cols_to_keep), eval_data.select(cols_to_keep), test_data.select(cols_to_keep)], how='vertical')\n",
    "        "
   ]
  },
  {
   "cell_type": "code",
   "execution_count": null,
   "id": "f624e120-93d5-4672-b0fd-bd5e7f89909c",
   "metadata": {},
   "outputs": [],
   "source": []
  },
  {
   "cell_type": "code",
   "execution_count": 7,
   "id": "7f999c33-8e5a-496e-a0a8-e8148d20a1e5",
   "metadata": {},
   "outputs": [],
   "source": [
    "# debug_session_num = 1000\n",
    "# train_sessions = read_train_data(train_data_dir=train_data_dir)\n",
    "# test_sessions = read_test_data(task, test_data_dir=test_data_dir)\n",
    "# train_sessions = train_sessions[train_sessions['locale'].isin(target_locals)]\n",
    "\n",
    "# if debug:\n",
    "#     train_sessions = train_sessions.sample(debug_session_num)\n",
    "#     test_sessions = test_sessions.sample(debug_session_num)\n",
    "# f\"{train_sessions.shape}; {test_sessions.shape}\""
   ]
  },
  {
   "cell_type": "code",
   "execution_count": 8,
   "id": "80965927-a7ab-4aa9-856f-2391919a2752",
   "metadata": {},
   "outputs": [],
   "source": [
    "# with_columns(pl.col('prev_items').apply(str2list))"
   ]
  },
  {
   "cell_type": "code",
   "execution_count": 9,
   "id": "dbce1895-10ea-49d4-b2aa-7b800f36621d",
   "metadata": {},
   "outputs": [],
   "source": [
    "# str2list"
   ]
  },
  {
   "cell_type": "code",
   "execution_count": 10,
   "id": "1695d58c-6d3f-4b89-8b2d-5c5703aa2244",
   "metadata": {},
   "outputs": [],
   "source": [
    "train_pl = pl.scan_parquet(os.path.join(base_dir, raw_data_session_id_dir, 'sessions_train.parquet'), n_rows=n_rows).filter(pl.col('locale').is_in(target_locals)).with_columns(pl.col('prev_items').apply(str2list)).collect()\n",
    "\n",
    "eval_pl = pl.scan_parquet(os.path.join(base_dir, raw_data_session_id_dir, 'sessions_eval.parquet'), n_rows=n_rows).filter(pl.col('locale').is_in(target_locals)).with_columns(pl.col('prev_items').apply(str2list)).collect()\n",
    "\n",
    "# df_sess.head(3).collect()\n",
    "test_pl = pl.scan_parquet(os.path.join(base_dir, raw_data_session_id_dir, 'sessions_test_task1.parquet'), n_rows=n_rows).with_columns(pl.col('prev_items').apply(str2list)).collect()\n",
    "product_pl = pl.scan_parquet(\n",
    "    os.path.join(base_dir, raw_data_session_id_dir, 'products_train.parquet'), \n",
    ")\n",
    "with open(os.path.join(base_dir, raw_data_session_id_dir, 'product_unique2id.json'), 'rb') as f:\n",
    "    product_unique2id  = pickle.load(f)"
   ]
  },
  {
   "cell_type": "code",
   "execution_count": 11,
   "id": "b21c7b4f-1af4-4635-a538-aed5850fa04b",
   "metadata": {},
   "outputs": [],
   "source": [
    "train_sessions = train_pl.with_columns(\n",
    "    pl.col('prev_items').arr.concat(pl.col('next_item')) \n",
    ").to_pandas()\n",
    "if not model_for_eval:\n",
    "    eval_sessions = eval_pl.with_columns(\n",
    "    pl.col('prev_items').arr.concat(pl.col('next_item')) \n",
    ").to_pandas()\n",
    "else:\n",
    "    eval_sessions = eval_pl.to_pandas()\n",
    "test_sessions = test_pl.to_pandas()"
   ]
  },
  {
   "cell_type": "code",
   "execution_count": 12,
   "id": "3d3b0b0b-8411-42f8-be63-77ff4609ba74",
   "metadata": {},
   "outputs": [],
   "source": [
    "train_sessions['type'] = 'train'\n",
    "eval_sessions['type'] = 'eval'\n",
    "test_sessions['type'] = 'test'\n",
    "train_sessions.reset_index(inplace=True)\n",
    "eval_sessions.reset_index(inplace=True)\n",
    "test_sessions.reset_index(inplace=True)"
   ]
  },
  {
   "cell_type": "code",
   "execution_count": 13,
   "id": "b654d757-cfe2-4d03-87ee-bf24d33bc621",
   "metadata": {},
   "outputs": [],
   "source": [
    "# train_sessions.head()"
   ]
  },
  {
   "cell_type": "code",
   "execution_count": 14,
   "id": "b26fd474-897a-4577-af7a-7fdaba70fc99",
   "metadata": {},
   "outputs": [],
   "source": [
    "# test_sessions.head()"
   ]
  },
  {
   "cell_type": "code",
   "execution_count": 15,
   "id": "62ac37c3-f8c4-4d13-b42a-7bc84fee8eba",
   "metadata": {},
   "outputs": [],
   "source": [
    "# train_sessions[cols_to_keep].head()"
   ]
  },
  {
   "cell_type": "code",
   "execution_count": 16,
   "id": "7f9671dd-599f-4d45-9ac0-0c3c20bfeff8",
   "metadata": {},
   "outputs": [],
   "source": [
    "# train_df.head()"
   ]
  },
  {
   "cell_type": "code",
   "execution_count": 17,
   "id": "3de7f984-2a1c-44f4-9fcf-db1659ea8171",
   "metadata": {},
   "outputs": [],
   "source": [
    "cols_to_keep = ['index', 'type', 'prev_items', 'locale']"
   ]
  },
  {
   "cell_type": "code",
   "execution_count": 18,
   "id": "aea80fd8-bf42-482f-88f9-3d255ff459ec",
   "metadata": {},
   "outputs": [],
   "source": [
    "original_train_test_df = pd.concat([train_sessions[cols_to_keep], eval_sessions[cols_to_keep], \n",
    "                                    test_sessions[cols_to_keep]], \n",
    "                          axis=0)"
   ]
  },
  {
   "cell_type": "code",
   "execution_count": 19,
   "id": "fe94c439-85d7-48b1-9b4f-7bb858d883c1",
   "metadata": {},
   "outputs": [
    {
     "data": {
      "text/html": [
       "<div>\n",
       "<style scoped>\n",
       "    .dataframe tbody tr th:only-of-type {\n",
       "        vertical-align: middle;\n",
       "    }\n",
       "\n",
       "    .dataframe tbody tr th {\n",
       "        vertical-align: top;\n",
       "    }\n",
       "\n",
       "    .dataframe thead th {\n",
       "        text-align: right;\n",
       "    }\n",
       "</style>\n",
       "<table border=\"1\" class=\"dataframe\">\n",
       "  <thead>\n",
       "    <tr style=\"text-align: right;\">\n",
       "      <th></th>\n",
       "      <th>index</th>\n",
       "      <th>type</th>\n",
       "      <th>prev_items</th>\n",
       "      <th>locale</th>\n",
       "    </tr>\n",
       "  </thead>\n",
       "  <tbody>\n",
       "    <tr>\n",
       "      <th>0</th>\n",
       "      <td>0</td>\n",
       "      <td>train</td>\n",
       "      <td>[B09W9FND7K, B09JSPLN1M, B09M7GY217]</td>\n",
       "      <td>DE</td>\n",
       "    </tr>\n",
       "    <tr>\n",
       "      <th>1</th>\n",
       "      <td>1</td>\n",
       "      <td>train</td>\n",
       "      <td>[B076THCGSG, B007MO8IME, B08MF65MLV, B001B4TKA...</td>\n",
       "      <td>DE</td>\n",
       "    </tr>\n",
       "    <tr>\n",
       "      <th>2</th>\n",
       "      <td>2</td>\n",
       "      <td>train</td>\n",
       "      <td>[B0B1LGXWDS, B00AZYORS2, B0B1LGXWDS, B00AZYORS...</td>\n",
       "      <td>DE</td>\n",
       "    </tr>\n",
       "    <tr>\n",
       "      <th>3</th>\n",
       "      <td>3</td>\n",
       "      <td>train</td>\n",
       "      <td>[B0749V8TC7, B0749W93VC, B0749TX4YP, B0749TX4YS]</td>\n",
       "      <td>DE</td>\n",
       "    </tr>\n",
       "    <tr>\n",
       "      <th>4</th>\n",
       "      <td>4</td>\n",
       "      <td>train</td>\n",
       "      <td>[B09SMK3R8H, B01N4ND0F9, B08YNZT93Z]</td>\n",
       "      <td>DE</td>\n",
       "    </tr>\n",
       "  </tbody>\n",
       "</table>\n",
       "</div>"
      ],
      "text/plain": [
       "   index   type                                         prev_items locale\n",
       "0      0  train               [B09W9FND7K, B09JSPLN1M, B09M7GY217]     DE\n",
       "1      1  train  [B076THCGSG, B007MO8IME, B08MF65MLV, B001B4TKA...     DE\n",
       "2      2  train  [B0B1LGXWDS, B00AZYORS2, B0B1LGXWDS, B00AZYORS...     DE\n",
       "3      3  train   [B0749V8TC7, B0749W93VC, B0749TX4YP, B0749TX4YS]     DE\n",
       "4      4  train               [B09SMK3R8H, B01N4ND0F9, B08YNZT93Z]     DE"
      ]
     },
     "execution_count": 19,
     "metadata": {},
     "output_type": "execute_result"
    }
   ],
   "source": [
    "original_train_test_df.head()"
   ]
  },
  {
   "cell_type": "code",
   "execution_count": 20,
   "id": "ab8b3ff0-fae3-4f19-b3c7-8ab68af700a2",
   "metadata": {},
   "outputs": [],
   "source": [
    "train_test_pl = pl.from_pandas(original_train_test_df)"
   ]
  },
  {
   "cell_type": "code",
   "execution_count": 21,
   "id": "e08e1738-2ba4-4d68-8c9c-e70990b594bb",
   "metadata": {},
   "outputs": [],
   "source": [
    "def process_prev_item(prev_items):\n",
    "    # print(prev_items)\n",
    "    res = [ele.replace('[', '').replace(']', '').replace('\\n', '').replace(\"'\", '').replace(' ', '') for ele in prev_items.split(' ')]\n",
    "    return res"
   ]
  },
  {
   "cell_type": "code",
   "execution_count": 22,
   "id": "3455562c-47de-49d2-873e-4853b743eb36",
   "metadata": {},
   "outputs": [],
   "source": [
    "train_test_pl = (\n",
    "    train_test_pl\n",
    "        # .with_columns(pl.col('prev_items').apply(lambda row: process_prev_item(row)))\n",
    "        .with_columns(pl.col('index').cast(pl.Utf8))\n",
    "        .with_columns((pl.col('index')+pl.col('type')).alias('user'))\n",
    "        # .with_columns(pl.col('prev_items').explode())\n",
    ")"
   ]
  },
  {
   "cell_type": "code",
   "execution_count": 23,
   "id": "bbdaf47c-715b-4f73-af9c-bd9581d0fbc2",
   "metadata": {},
   "outputs": [],
   "source": [
    "train_test_df = train_test_pl.to_pandas()"
   ]
  },
  {
   "cell_type": "code",
   "execution_count": 24,
   "id": "ea2cf8a8-53a8-41f3-a107-c534c9ee7b0c",
   "metadata": {},
   "outputs": [
    {
     "data": {
      "text/html": [
       "<div>\n",
       "<style scoped>\n",
       "    .dataframe tbody tr th:only-of-type {\n",
       "        vertical-align: middle;\n",
       "    }\n",
       "\n",
       "    .dataframe tbody tr th {\n",
       "        vertical-align: top;\n",
       "    }\n",
       "\n",
       "    .dataframe thead th {\n",
       "        text-align: right;\n",
       "    }\n",
       "</style>\n",
       "<table border=\"1\" class=\"dataframe\">\n",
       "  <thead>\n",
       "    <tr style=\"text-align: right;\">\n",
       "      <th></th>\n",
       "      <th>index</th>\n",
       "      <th>type</th>\n",
       "      <th>prev_items</th>\n",
       "      <th>locale</th>\n",
       "      <th>user</th>\n",
       "    </tr>\n",
       "  </thead>\n",
       "  <tbody>\n",
       "    <tr>\n",
       "      <th>0</th>\n",
       "      <td>0</td>\n",
       "      <td>train</td>\n",
       "      <td>[B09W9FND7K, B09JSPLN1M, B09M7GY217]</td>\n",
       "      <td>DE</td>\n",
       "      <td>0train</td>\n",
       "    </tr>\n",
       "    <tr>\n",
       "      <th>1</th>\n",
       "      <td>1</td>\n",
       "      <td>train</td>\n",
       "      <td>[B076THCGSG, B007MO8IME, B08MF65MLV, B001B4TKA...</td>\n",
       "      <td>DE</td>\n",
       "      <td>1train</td>\n",
       "    </tr>\n",
       "    <tr>\n",
       "      <th>2</th>\n",
       "      <td>2</td>\n",
       "      <td>train</td>\n",
       "      <td>[B0B1LGXWDS, B00AZYORS2, B0B1LGXWDS, B00AZYORS...</td>\n",
       "      <td>DE</td>\n",
       "      <td>2train</td>\n",
       "    </tr>\n",
       "    <tr>\n",
       "      <th>3</th>\n",
       "      <td>3</td>\n",
       "      <td>train</td>\n",
       "      <td>[B0749V8TC7, B0749W93VC, B0749TX4YP, B0749TX4YS]</td>\n",
       "      <td>DE</td>\n",
       "      <td>3train</td>\n",
       "    </tr>\n",
       "    <tr>\n",
       "      <th>4</th>\n",
       "      <td>4</td>\n",
       "      <td>train</td>\n",
       "      <td>[B09SMK3R8H, B01N4ND0F9, B08YNZT93Z]</td>\n",
       "      <td>DE</td>\n",
       "      <td>4train</td>\n",
       "    </tr>\n",
       "  </tbody>\n",
       "</table>\n",
       "</div>"
      ],
      "text/plain": [
       "  index   type                                         prev_items locale   \n",
       "0     0  train               [B09W9FND7K, B09JSPLN1M, B09M7GY217]     DE  \\\n",
       "1     1  train  [B076THCGSG, B007MO8IME, B08MF65MLV, B001B4TKA...     DE   \n",
       "2     2  train  [B0B1LGXWDS, B00AZYORS2, B0B1LGXWDS, B00AZYORS...     DE   \n",
       "3     3  train   [B0749V8TC7, B0749W93VC, B0749TX4YP, B0749TX4YS]     DE   \n",
       "4     4  train               [B09SMK3R8H, B01N4ND0F9, B08YNZT93Z]     DE   \n",
       "\n",
       "     user  \n",
       "0  0train  \n",
       "1  1train  \n",
       "2  2train  \n",
       "3  3train  \n",
       "4  4train  "
      ]
     },
     "execution_count": 24,
     "metadata": {},
     "output_type": "execute_result"
    }
   ],
   "source": [
    "train_test_df.head()"
   ]
  },
  {
   "cell_type": "code",
   "execution_count": 25,
   "id": "934be173-a1db-4cb4-aac9-ae778d8d7edd",
   "metadata": {},
   "outputs": [
    {
     "data": {
      "text/html": [
       "<div>\n",
       "<style scoped>\n",
       "    .dataframe tbody tr th:only-of-type {\n",
       "        vertical-align: middle;\n",
       "    }\n",
       "\n",
       "    .dataframe tbody tr th {\n",
       "        vertical-align: top;\n",
       "    }\n",
       "\n",
       "    .dataframe thead th {\n",
       "        text-align: right;\n",
       "    }\n",
       "</style>\n",
       "<table border=\"1\" class=\"dataframe\">\n",
       "  <thead>\n",
       "    <tr style=\"text-align: right;\">\n",
       "      <th></th>\n",
       "      <th>index</th>\n",
       "      <th>type</th>\n",
       "      <th>prev_items</th>\n",
       "      <th>locale</th>\n",
       "      <th>user</th>\n",
       "    </tr>\n",
       "  </thead>\n",
       "  <tbody>\n",
       "    <tr>\n",
       "      <th>0</th>\n",
       "      <td>0</td>\n",
       "      <td>train</td>\n",
       "      <td>[B09W9FND7K, B09JSPLN1M, B09M7GY217]</td>\n",
       "      <td>DE</td>\n",
       "      <td>0train</td>\n",
       "    </tr>\n",
       "    <tr>\n",
       "      <th>1</th>\n",
       "      <td>1</td>\n",
       "      <td>train</td>\n",
       "      <td>[B076THCGSG, B007MO8IME, B08MF65MLV, B001B4TKA...</td>\n",
       "      <td>DE</td>\n",
       "      <td>1train</td>\n",
       "    </tr>\n",
       "    <tr>\n",
       "      <th>2</th>\n",
       "      <td>2</td>\n",
       "      <td>train</td>\n",
       "      <td>[B0B1LGXWDS, B00AZYORS2, B0B1LGXWDS, B00AZYORS...</td>\n",
       "      <td>DE</td>\n",
       "      <td>2train</td>\n",
       "    </tr>\n",
       "    <tr>\n",
       "      <th>3</th>\n",
       "      <td>3</td>\n",
       "      <td>train</td>\n",
       "      <td>[B0749V8TC7, B0749W93VC, B0749TX4YP, B0749TX4YS]</td>\n",
       "      <td>DE</td>\n",
       "      <td>3train</td>\n",
       "    </tr>\n",
       "    <tr>\n",
       "      <th>4</th>\n",
       "      <td>4</td>\n",
       "      <td>train</td>\n",
       "      <td>[B09SMK3R8H, B01N4ND0F9, B08YNZT93Z]</td>\n",
       "      <td>DE</td>\n",
       "      <td>4train</td>\n",
       "    </tr>\n",
       "  </tbody>\n",
       "</table>\n",
       "</div>"
      ],
      "text/plain": [
       "  index   type                                         prev_items locale   \n",
       "0     0  train               [B09W9FND7K, B09JSPLN1M, B09M7GY217]     DE  \\\n",
       "1     1  train  [B076THCGSG, B007MO8IME, B08MF65MLV, B001B4TKA...     DE   \n",
       "2     2  train  [B0B1LGXWDS, B00AZYORS2, B0B1LGXWDS, B00AZYORS...     DE   \n",
       "3     3  train   [B0749V8TC7, B0749W93VC, B0749TX4YP, B0749TX4YS]     DE   \n",
       "4     4  train               [B09SMK3R8H, B01N4ND0F9, B08YNZT93Z]     DE   \n",
       "\n",
       "     user  \n",
       "0  0train  \n",
       "1  1train  \n",
       "2  2train  \n",
       "3  3train  \n",
       "4  4train  "
      ]
     },
     "execution_count": 25,
     "metadata": {},
     "output_type": "execute_result"
    }
   ],
   "source": [
    "train_test_df.head()"
   ]
  },
  {
   "cell_type": "code",
   "execution_count": 26,
   "id": "51743574-17bc-4117-8b6d-f0b9fae634ca",
   "metadata": {},
   "outputs": [],
   "source": [
    "train_test_df['user'] = train_test_df['user'].astype(\"category\")\n",
    "train_test_df['user_id'] = train_test_df['user'].cat.codes"
   ]
  },
  {
   "cell_type": "code",
   "execution_count": 27,
   "id": "607e079f-7024-4c96-a484-be1ef85f886b",
   "metadata": {},
   "outputs": [],
   "source": [
    "test_sessions['index'] = test_sessions['index'].astype(str)\n",
    "test_sessions = test_sessions.merge(train_test_df[['index', 'type', 'user_id']], how='left', on=['index', 'type'])"
   ]
  },
  {
   "cell_type": "code",
   "execution_count": 28,
   "id": "61231b70-2312-422e-99ce-910002224778",
   "metadata": {},
   "outputs": [],
   "source": [
    "train_sessions['index'] = train_sessions['index'].astype(str)\n",
    "train_sessions = train_sessions.merge(train_test_df[['index', 'type', 'user_id']], how='left', on=['index', 'type'])"
   ]
  },
  {
   "cell_type": "code",
   "execution_count": 29,
   "id": "413b0e76-c5a4-4fae-bc84-b98ec6b8c8ae",
   "metadata": {},
   "outputs": [],
   "source": [
    "eval_sessions['index'] = eval_sessions['index'].astype(str)\n",
    "eval_sessions = eval_sessions.merge(train_test_df[['index', 'type', 'user_id']], how='left', on=['index', 'type'])"
   ]
  },
  {
   "cell_type": "code",
   "execution_count": 30,
   "id": "d3290ac7-2142-4952-9dbb-022f3ad26744",
   "metadata": {},
   "outputs": [
    {
     "data": {
      "text/plain": [
       "(18395684, 6)"
      ]
     },
     "execution_count": 30,
     "metadata": {},
     "output_type": "execute_result"
    }
   ],
   "source": [
    "train_test_df = train_test_df.explode('prev_items')\n",
    "train_test_df.shape"
   ]
  },
  {
   "cell_type": "code",
   "execution_count": 31,
   "id": "242d9543-1d43-4f9f-9c1c-5c155656ca3e",
   "metadata": {},
   "outputs": [
    {
     "data": {
      "text/html": [
       "<div>\n",
       "<style scoped>\n",
       "    .dataframe tbody tr th:only-of-type {\n",
       "        vertical-align: middle;\n",
       "    }\n",
       "\n",
       "    .dataframe tbody tr th {\n",
       "        vertical-align: top;\n",
       "    }\n",
       "\n",
       "    .dataframe thead th {\n",
       "        text-align: right;\n",
       "    }\n",
       "</style>\n",
       "<table border=\"1\" class=\"dataframe\">\n",
       "  <thead>\n",
       "    <tr style=\"text-align: right;\">\n",
       "      <th></th>\n",
       "      <th>index</th>\n",
       "      <th>prev_items</th>\n",
       "      <th>locale</th>\n",
       "      <th>session_id</th>\n",
       "      <th>type</th>\n",
       "      <th>user_id</th>\n",
       "    </tr>\n",
       "  </thead>\n",
       "  <tbody>\n",
       "    <tr>\n",
       "      <th>0</th>\n",
       "      <td>0</td>\n",
       "      <td>[B08V12CT4C, B08V1KXBQD, B01BVG1XJS, B09VC5PKN...</td>\n",
       "      <td>DE</td>\n",
       "      <td>3606249</td>\n",
       "      <td>test</td>\n",
       "      <td>1</td>\n",
       "    </tr>\n",
       "    <tr>\n",
       "      <th>1</th>\n",
       "      <td>1</td>\n",
       "      <td>[B00R9R5ND6, B00R9RZ9ZS, B00R9RZ9ZS]</td>\n",
       "      <td>DE</td>\n",
       "      <td>3606250</td>\n",
       "      <td>test</td>\n",
       "      <td>1333334</td>\n",
       "    </tr>\n",
       "    <tr>\n",
       "      <th>2</th>\n",
       "      <td>2</td>\n",
       "      <td>[B07YSRXJD3, B07G7Q5N6G, B08C9Q7QVK, B07G7Q5N6G]</td>\n",
       "      <td>DE</td>\n",
       "      <td>3606251</td>\n",
       "      <td>test</td>\n",
       "      <td>2612940</td>\n",
       "    </tr>\n",
       "    <tr>\n",
       "      <th>3</th>\n",
       "      <td>3</td>\n",
       "      <td>[B08KQBYV43, 3955350843, 3955350843, 395535086...</td>\n",
       "      <td>DE</td>\n",
       "      <td>3606252</td>\n",
       "      <td>test</td>\n",
       "      <td>2789687</td>\n",
       "    </tr>\n",
       "    <tr>\n",
       "      <th>4</th>\n",
       "      <td>4</td>\n",
       "      <td>[B09FPTCWMC, B09FPTQP68, B08HMRY8NG, B08TBBQ4B...</td>\n",
       "      <td>DE</td>\n",
       "      <td>3606253</td>\n",
       "      <td>test</td>\n",
       "      <td>2923020</td>\n",
       "    </tr>\n",
       "  </tbody>\n",
       "</table>\n",
       "</div>"
      ],
      "text/plain": [
       "  index                                         prev_items locale  session_id   \n",
       "0     0  [B08V12CT4C, B08V1KXBQD, B01BVG1XJS, B09VC5PKN...     DE     3606249  \\\n",
       "1     1               [B00R9R5ND6, B00R9RZ9ZS, B00R9RZ9ZS]     DE     3606250   \n",
       "2     2   [B07YSRXJD3, B07G7Q5N6G, B08C9Q7QVK, B07G7Q5N6G]     DE     3606251   \n",
       "3     3  [B08KQBYV43, 3955350843, 3955350843, 395535086...     DE     3606252   \n",
       "4     4  [B09FPTCWMC, B09FPTQP68, B08HMRY8NG, B08TBBQ4B...     DE     3606253   \n",
       "\n",
       "   type  user_id  \n",
       "0  test        1  \n",
       "1  test  1333334  \n",
       "2  test  2612940  \n",
       "3  test  2789687  \n",
       "4  test  2923020  "
      ]
     },
     "execution_count": 31,
     "metadata": {},
     "output_type": "execute_result"
    }
   ],
   "source": [
    "test_sessions.head()"
   ]
  },
  {
   "cell_type": "code",
   "execution_count": 32,
   "id": "44696bab-16ab-4064-9918-ac555414358b",
   "metadata": {},
   "outputs": [
    {
     "data": {
      "text/html": [
       "<div>\n",
       "<style scoped>\n",
       "    .dataframe tbody tr th:only-of-type {\n",
       "        vertical-align: middle;\n",
       "    }\n",
       "\n",
       "    .dataframe tbody tr th {\n",
       "        vertical-align: top;\n",
       "    }\n",
       "\n",
       "    .dataframe thead th {\n",
       "        text-align: right;\n",
       "    }\n",
       "</style>\n",
       "<table border=\"1\" class=\"dataframe\">\n",
       "  <thead>\n",
       "    <tr style=\"text-align: right;\">\n",
       "      <th></th>\n",
       "      <th>index</th>\n",
       "      <th>type</th>\n",
       "      <th>prev_items</th>\n",
       "      <th>locale</th>\n",
       "      <th>user</th>\n",
       "      <th>user_id</th>\n",
       "    </tr>\n",
       "  </thead>\n",
       "  <tbody>\n",
       "    <tr>\n",
       "      <th>0</th>\n",
       "      <td>0</td>\n",
       "      <td>train</td>\n",
       "      <td>B09W9FND7K</td>\n",
       "      <td>DE</td>\n",
       "      <td>0train</td>\n",
       "      <td>2</td>\n",
       "    </tr>\n",
       "    <tr>\n",
       "      <th>0</th>\n",
       "      <td>0</td>\n",
       "      <td>train</td>\n",
       "      <td>B09JSPLN1M</td>\n",
       "      <td>DE</td>\n",
       "      <td>0train</td>\n",
       "      <td>2</td>\n",
       "    </tr>\n",
       "    <tr>\n",
       "      <th>0</th>\n",
       "      <td>0</td>\n",
       "      <td>train</td>\n",
       "      <td>B09M7GY217</td>\n",
       "      <td>DE</td>\n",
       "      <td>0train</td>\n",
       "      <td>2</td>\n",
       "    </tr>\n",
       "    <tr>\n",
       "      <th>1</th>\n",
       "      <td>1</td>\n",
       "      <td>train</td>\n",
       "      <td>B076THCGSG</td>\n",
       "      <td>DE</td>\n",
       "      <td>1train</td>\n",
       "      <td>1333335</td>\n",
       "    </tr>\n",
       "    <tr>\n",
       "      <th>1</th>\n",
       "      <td>1</td>\n",
       "      <td>train</td>\n",
       "      <td>B007MO8IME</td>\n",
       "      <td>DE</td>\n",
       "      <td>1train</td>\n",
       "      <td>1333335</td>\n",
       "    </tr>\n",
       "  </tbody>\n",
       "</table>\n",
       "</div>"
      ],
      "text/plain": [
       "  index   type  prev_items locale    user  user_id\n",
       "0     0  train  B09W9FND7K     DE  0train        2\n",
       "0     0  train  B09JSPLN1M     DE  0train        2\n",
       "0     0  train  B09M7GY217     DE  0train        2\n",
       "1     1  train  B076THCGSG     DE  1train  1333335\n",
       "1     1  train  B007MO8IME     DE  1train  1333335"
      ]
     },
     "execution_count": 32,
     "metadata": {},
     "output_type": "execute_result"
    }
   ],
   "source": [
    "train_test_df.head()"
   ]
  },
  {
   "cell_type": "code",
   "execution_count": 33,
   "id": "60ab2497-a2b6-4972-8454-352400e483fc",
   "metadata": {},
   "outputs": [],
   "source": [
    "\n",
    "\n",
    "train_test_df['prev_items'] = train_test_df['prev_items'].astype(\"category\")\n",
    "train_test_df['item_id'] = train_test_df['prev_items'].cat.codes"
   ]
  },
  {
   "cell_type": "code",
   "execution_count": 34,
   "id": "9ad3f35e-5f3a-4cef-ae2f-1d8b4fdd194f",
   "metadata": {},
   "outputs": [
    {
     "data": {
      "text/html": [
       "<div>\n",
       "<style scoped>\n",
       "    .dataframe tbody tr th:only-of-type {\n",
       "        vertical-align: middle;\n",
       "    }\n",
       "\n",
       "    .dataframe tbody tr th {\n",
       "        vertical-align: top;\n",
       "    }\n",
       "\n",
       "    .dataframe thead th {\n",
       "        text-align: right;\n",
       "    }\n",
       "</style>\n",
       "<table border=\"1\" class=\"dataframe\">\n",
       "  <thead>\n",
       "    <tr style=\"text-align: right;\">\n",
       "      <th></th>\n",
       "      <th>index</th>\n",
       "      <th>type</th>\n",
       "      <th>prev_items</th>\n",
       "      <th>locale</th>\n",
       "      <th>user</th>\n",
       "      <th>user_id</th>\n",
       "      <th>item_id</th>\n",
       "    </tr>\n",
       "  </thead>\n",
       "  <tbody>\n",
       "    <tr>\n",
       "      <th>0</th>\n",
       "      <td>0</td>\n",
       "      <td>train</td>\n",
       "      <td>B09W9FND7K</td>\n",
       "      <td>DE</td>\n",
       "      <td>0train</td>\n",
       "      <td>2</td>\n",
       "      <td>1096743</td>\n",
       "    </tr>\n",
       "    <tr>\n",
       "      <th>0</th>\n",
       "      <td>0</td>\n",
       "      <td>train</td>\n",
       "      <td>B09JSPLN1M</td>\n",
       "      <td>DE</td>\n",
       "      <td>0train</td>\n",
       "      <td>2</td>\n",
       "      <td>965099</td>\n",
       "    </tr>\n",
       "    <tr>\n",
       "      <th>0</th>\n",
       "      <td>0</td>\n",
       "      <td>train</td>\n",
       "      <td>B09M7GY217</td>\n",
       "      <td>DE</td>\n",
       "      <td>0train</td>\n",
       "      <td>2</td>\n",
       "      <td>993245</td>\n",
       "    </tr>\n",
       "    <tr>\n",
       "      <th>1</th>\n",
       "      <td>1</td>\n",
       "      <td>train</td>\n",
       "      <td>B076THCGSG</td>\n",
       "      <td>DE</td>\n",
       "      <td>1train</td>\n",
       "      <td>1333335</td>\n",
       "      <td>328622</td>\n",
       "    </tr>\n",
       "    <tr>\n",
       "      <th>1</th>\n",
       "      <td>1</td>\n",
       "      <td>train</td>\n",
       "      <td>B007MO8IME</td>\n",
       "      <td>DE</td>\n",
       "      <td>1train</td>\n",
       "      <td>1333335</td>\n",
       "      <td>110154</td>\n",
       "    </tr>\n",
       "  </tbody>\n",
       "</table>\n",
       "</div>"
      ],
      "text/plain": [
       "  index   type  prev_items locale    user  user_id  item_id\n",
       "0     0  train  B09W9FND7K     DE  0train        2  1096743\n",
       "0     0  train  B09JSPLN1M     DE  0train        2   965099\n",
       "0     0  train  B09M7GY217     DE  0train        2   993245\n",
       "1     1  train  B076THCGSG     DE  1train  1333335   328622\n",
       "1     1  train  B007MO8IME     DE  1train  1333335   110154"
      ]
     },
     "execution_count": 34,
     "metadata": {},
     "output_type": "execute_result"
    }
   ],
   "source": [
    "train_test_df.head()"
   ]
  },
  {
   "cell_type": "code",
   "execution_count": 35,
   "id": "56f89c15-6cfa-4b39-a0cd-ba6c865787c2",
   "metadata": {},
   "outputs": [
    {
     "data": {
      "text/plain": [
       "18395684"
      ]
     },
     "execution_count": 35,
     "metadata": {},
     "output_type": "execute_result"
    }
   ],
   "source": [
    "len(train_test_df)"
   ]
  },
  {
   "cell_type": "code",
   "execution_count": 36,
   "id": "a881494c-7286-4ce4-b50e-911843591366",
   "metadata": {},
   "outputs": [],
   "source": [
    "itemid2item = dict(zip(train_test_df['item_id'], train_test_df['prev_items']))"
   ]
  },
  {
   "cell_type": "code",
   "execution_count": 37,
   "id": "535b20ba-c806-496b-9aa2-f3f7631a4fb6",
   "metadata": {},
   "outputs": [
    {
     "data": {
      "text/plain": [
       "1335037"
      ]
     },
     "execution_count": 37,
     "metadata": {},
     "output_type": "execute_result"
    }
   ],
   "source": [
    "len(itemid2item)"
   ]
  },
  {
   "cell_type": "code",
   "execution_count": 38,
   "id": "54e75d6d-98fe-4f45-b4ea-f35dc22a7608",
   "metadata": {},
   "outputs": [
    {
     "data": {
      "text/plain": [
       "1335036"
      ]
     },
     "execution_count": 38,
     "metadata": {},
     "output_type": "execute_result"
    }
   ],
   "source": [
    "max(itemid2item.keys())"
   ]
  },
  {
   "cell_type": "code",
   "execution_count": 39,
   "id": "709b5279-966d-46b2-b1bc-cbd0060e8dd4",
   "metadata": {},
   "outputs": [],
   "source": [
    "# itemid2item = \n",
    "# train_test_df.groupby(['prev_items', 'item_id'])['user'].count().reset_index()"
   ]
  },
  {
   "cell_type": "code",
   "execution_count": 40,
   "id": "040eb913-8cc7-4e3f-be72-903c1e292ea4",
   "metadata": {},
   "outputs": [],
   "source": [
    "# itemid2item"
   ]
  },
  {
   "cell_type": "code",
   "execution_count": null,
   "id": "25daae04-d325-4c80-88b7-31c467137614",
   "metadata": {},
   "outputs": [],
   "source": []
  },
  {
   "cell_type": "markdown",
   "id": "05e4d16f-91f2-406e-a7d8-35cafef3aafb",
   "metadata": {
    "tags": []
   },
   "source": [
    "# ALS Model"
   ]
  },
  {
   "cell_type": "code",
   "execution_count": 41,
   "id": "145983b0-b3e7-4b62-bd65-88b42b3501f5",
   "metadata": {},
   "outputs": [
    {
     "data": {
      "text/html": [
       "<div>\n",
       "<style scoped>\n",
       "    .dataframe tbody tr th:only-of-type {\n",
       "        vertical-align: middle;\n",
       "    }\n",
       "\n",
       "    .dataframe tbody tr th {\n",
       "        vertical-align: top;\n",
       "    }\n",
       "\n",
       "    .dataframe thead th {\n",
       "        text-align: right;\n",
       "    }\n",
       "</style>\n",
       "<table border=\"1\" class=\"dataframe\">\n",
       "  <thead>\n",
       "    <tr style=\"text-align: right;\">\n",
       "      <th></th>\n",
       "      <th>index</th>\n",
       "      <th>type</th>\n",
       "      <th>prev_items</th>\n",
       "      <th>locale</th>\n",
       "      <th>user</th>\n",
       "      <th>user_id</th>\n",
       "      <th>item_id</th>\n",
       "    </tr>\n",
       "  </thead>\n",
       "  <tbody>\n",
       "    <tr>\n",
       "      <th>0</th>\n",
       "      <td>0</td>\n",
       "      <td>train</td>\n",
       "      <td>B09W9FND7K</td>\n",
       "      <td>DE</td>\n",
       "      <td>0train</td>\n",
       "      <td>2</td>\n",
       "      <td>1096743</td>\n",
       "    </tr>\n",
       "    <tr>\n",
       "      <th>0</th>\n",
       "      <td>0</td>\n",
       "      <td>train</td>\n",
       "      <td>B09JSPLN1M</td>\n",
       "      <td>DE</td>\n",
       "      <td>0train</td>\n",
       "      <td>2</td>\n",
       "      <td>965099</td>\n",
       "    </tr>\n",
       "    <tr>\n",
       "      <th>0</th>\n",
       "      <td>0</td>\n",
       "      <td>train</td>\n",
       "      <td>B09M7GY217</td>\n",
       "      <td>DE</td>\n",
       "      <td>0train</td>\n",
       "      <td>2</td>\n",
       "      <td>993245</td>\n",
       "    </tr>\n",
       "    <tr>\n",
       "      <th>1</th>\n",
       "      <td>1</td>\n",
       "      <td>train</td>\n",
       "      <td>B076THCGSG</td>\n",
       "      <td>DE</td>\n",
       "      <td>1train</td>\n",
       "      <td>1333335</td>\n",
       "      <td>328622</td>\n",
       "    </tr>\n",
       "    <tr>\n",
       "      <th>1</th>\n",
       "      <td>1</td>\n",
       "      <td>train</td>\n",
       "      <td>B007MO8IME</td>\n",
       "      <td>DE</td>\n",
       "      <td>1train</td>\n",
       "      <td>1333335</td>\n",
       "      <td>110154</td>\n",
       "    </tr>\n",
       "  </tbody>\n",
       "</table>\n",
       "</div>"
      ],
      "text/plain": [
       "  index   type  prev_items locale    user  user_id  item_id\n",
       "0     0  train  B09W9FND7K     DE  0train        2  1096743\n",
       "0     0  train  B09JSPLN1M     DE  0train        2   965099\n",
       "0     0  train  B09M7GY217     DE  0train        2   993245\n",
       "1     1  train  B076THCGSG     DE  1train  1333335   328622\n",
       "1     1  train  B007MO8IME     DE  1train  1333335   110154"
      ]
     },
     "execution_count": 41,
     "metadata": {},
     "output_type": "execute_result"
    }
   ],
   "source": [
    "train_test_df.head()"
   ]
  },
  {
   "cell_type": "code",
   "execution_count": 42,
   "id": "dfc8e637-db0c-46ff-94fe-135dac2a6d20",
   "metadata": {},
   "outputs": [],
   "source": [
    "# user_item[1243, :]"
   ]
  },
  {
   "cell_type": "code",
   "execution_count": 43,
   "id": "326a98d9-c4ce-453e-93a3-204ddd5efa23",
   "metadata": {},
   "outputs": [],
   "source": [
    "user_item = sps.coo_matrix(\n",
    "      (\n",
    "          np.ones(train_test_df.shape[0]), # We're using a matrix of ones, but using type weights or repurchase weights could help!\n",
    "          (train_test_df['user_id'],\n",
    "          train_test_df['item_id'])\n",
    "      ),\n",
    "      dtype='int8'\n",
    "    ).tocsr()\n"
   ]
  },
  {
   "cell_type": "code",
   "execution_count": 44,
   "id": "f8d42898-bded-4e75-9291-8ed3ea8a801b",
   "metadata": {},
   "outputs": [
    {
     "data": {
      "text/plain": [
       "(3589687, 1335037)"
      ]
     },
     "execution_count": 44,
     "metadata": {},
     "output_type": "execute_result"
    }
   ],
   "source": [
    "user_item.shape\n"
   ]
  },
  {
   "cell_type": "code",
   "execution_count": null,
   "id": "94643677-9743-4485-a54a-a196e066e1ef",
   "metadata": {},
   "outputs": [],
   "source": []
  },
  {
   "cell_type": "code",
   "execution_count": 45,
   "id": "37026bde-2669-4df0-be1e-72ad245c2345",
   "metadata": {},
   "outputs": [
    {
     "data": {
      "application/vnd.jupyter.widget-view+json": {
       "model_id": "c1152193aa6940c3893c4df3e826b81c",
       "version_major": 2,
       "version_minor": 0
      },
      "text/plain": [
       "  0%|          | 0/20 [00:00<?, ?it/s]"
      ]
     },
     "metadata": {},
     "output_type": "display_data"
    }
   ],
   "source": [
    "model = implicit.als.AlternatingLeastSquares(factors=100, regularization=0.1, iterations=20)\n",
    "\n",
    "model.fit(user_items=user_item, show_progress=True)"
   ]
  },
  {
   "cell_type": "code",
   "execution_count": 46,
   "id": "1372c17d-b5f1-4338-ae29-907d32025b75",
   "metadata": {},
   "outputs": [],
   "source": [
    "# help(model.recommend_all)"
   ]
  },
  {
   "cell_type": "code",
   "execution_count": 47,
   "id": "f532c4bb-79b2-4bb5-a865-049656590659",
   "metadata": {},
   "outputs": [],
   "source": [
    "# help(model.recommend)"
   ]
  },
  {
   "cell_type": "code",
   "execution_count": 48,
   "id": "0b91ba78-a909-40ac-b496-82d127eab1a1",
   "metadata": {},
   "outputs": [],
   "source": [
    "def get_rec(user_id, model, user_item, itemid2item, topn=100):\n",
    "    item_ids = model.recommend(user_id, \n",
    "                              user_item[user_id, :],\n",
    "                              filter_already_liked_items=True,\n",
    "                               N=topn\n",
    "                             )[0].tolist()\n",
    "    # print(item_ids)\n",
    "    items = [itemid2item[key] for key in item_ids]\n",
    "    return items\n",
    "    "
   ]
  },
  {
   "cell_type": "code",
   "execution_count": 49,
   "id": "bc3e0c30-1639-4fc5-b622-d21a53519003",
   "metadata": {},
   "outputs": [],
   "source": [
    "assert model.item_factors.shape[0] == len(itemid2item)"
   ]
  },
  {
   "cell_type": "code",
   "execution_count": null,
   "id": "4664c9b8-bd3d-478f-b493-1ad6833535d7",
   "metadata": {},
   "outputs": [],
   "source": []
  },
  {
   "cell_type": "code",
   "execution_count": 50,
   "id": "93b6577c-206b-4614-9ccb-bda55c73f012",
   "metadata": {},
   "outputs": [],
   "source": [
    "# itemid2item[7550]"
   ]
  },
  {
   "cell_type": "code",
   "execution_count": 51,
   "id": "1e4af7a0-a4df-48db-80de-540fe52ff719",
   "metadata": {},
   "outputs": [],
   "source": [
    "# itemid2item\n"
   ]
  },
  {
   "cell_type": "code",
   "execution_count": 52,
   "id": "94cce0a9-d6ff-4a6f-8ee0-39ef54354675",
   "metadata": {},
   "outputs": [],
   "source": [
    "# help(model.recommend)"
   ]
  },
  {
   "cell_type": "code",
   "execution_count": 53,
   "id": "a4460681-befb-4547-bec2-107709936a5f",
   "metadata": {},
   "outputs": [],
   "source": [
    "# original_train_test_df"
   ]
  },
  {
   "cell_type": "code",
   "execution_count": 54,
   "id": "9719a97b-c54b-4654-b22f-9c123f806cd1",
   "metadata": {},
   "outputs": [],
   "source": [
    "# test_prediction = train_test_df[(train_test_df['type']=='test')]['item_id'].unique()"
   ]
  },
  {
   "cell_type": "code",
   "execution_count": 55,
   "id": "4a4efee7-9afb-44a7-836a-dce1fc5b13e5",
   "metadata": {},
   "outputs": [],
   "source": [
    "# test_sessions.shape"
   ]
  },
  {
   "cell_type": "code",
   "execution_count": null,
   "id": "c13019b3-835a-4946-a2a2-6cc3a551909e",
   "metadata": {},
   "outputs": [],
   "source": []
  },
  {
   "cell_type": "code",
   "execution_count": 56,
   "id": "65cce4b9-8865-4b98-802e-363c07d9ac4c",
   "metadata": {},
   "outputs": [],
   "source": [
    "# predictions.head()"
   ]
  },
  {
   "cell_type": "markdown",
   "id": "0ee18c38-015c-4f68-bb3d-e77726e3101d",
   "metadata": {},
   "source": [
    "## Save model "
   ]
  },
  {
   "cell_type": "code",
   "execution_count": 57,
   "id": "32725026-3042-4e2e-ac41-a83e1f7f3abc",
   "metadata": {},
   "outputs": [
    {
     "data": {
      "text/plain": [
       "False"
      ]
     },
     "execution_count": 57,
     "metadata": {},
     "output_type": "execute_result"
    }
   ],
   "source": [
    "debug"
   ]
  },
  {
   "cell_type": "code",
   "execution_count": 58,
   "id": "4f61bcb1-8122-4f2f-a2f6-1fd10af8a22c",
   "metadata": {},
   "outputs": [
    {
     "data": {
      "text/plain": [
       "'../model_training/als_v1'"
      ]
     },
     "execution_count": 58,
     "metadata": {},
     "output_type": "execute_result"
    }
   ],
   "source": [
    "model_dir"
   ]
  },
  {
   "cell_type": "code",
   "execution_count": 59,
   "id": "fab7cff9-a674-418b-8fb3-68bb2ad04d2f",
   "metadata": {},
   "outputs": [],
   "source": [
    "# sps.save_npz(os.path.join(model_dir, \"user_item.npz\"), user_item)\n",
    "# with open(model_file, 'wb') as f:\n",
    "#     pickle.dump(model, f)\n",
    "# with open(os.path.join(model_dir, 'itemid2item.json'), 'wb') as f:\n",
    "#     pickle.dump(itemid2item, f)\n",
    "# del model\n",
    "# del user_item\n",
    "# del itemid2item\n",
    "\n",
    "# user_item = sps.load_npz(os.path.join(model_dir, \"user_item.npz\"))\n",
    "# with open(model_file, 'rb') as f:\n",
    "#     model = pickle.load(f)\n",
    "# with open(os.path.join(model_dir, 'itemid2item.json'), 'rb') as f:\n",
    "#     itemid2item = pickle.load(f)"
   ]
  },
  {
   "cell_type": "code",
   "execution_count": 60,
   "id": "5cff1b87-fbf2-4438-b1f3-014e5a15bef6",
   "metadata": {
    "tags": []
   },
   "outputs": [],
   "source": [
    "if not debug:\n",
    "    sps.save_npz(os.path.join(model_dir, \"user_item.npz\"), user_item)\n",
    "    with open(model_file, 'wb') as f:\n",
    "        pickle.dump(model, f)\n",
    "    with open(os.path.join(model_dir, 'itemid2item.json'), 'wb') as f:\n",
    "        pickle.dump(itemid2item, f)\n",
    "    del model\n",
    "    del user_item\n",
    "    del itemid2item\n",
    "    \n",
    "    user_item = sps.load_npz(os.path.join(model_dir, \"user_item.npz\"))\n",
    "    with open(model_file, 'rb') as f:\n",
    "        model = pickle.load(f)\n",
    "    with open(os.path.join(model_dir, 'itemid2item.json'), 'rb') as f:\n",
    "        itemid2item = pickle.load(f)"
   ]
  },
  {
   "cell_type": "code",
   "execution_count": 61,
   "id": "812ee933-d310-4493-8b21-b81fe6884d4e",
   "metadata": {},
   "outputs": [
    {
     "data": {
      "text/plain": [
       "'../model_training/als_v1/als_model.pkl'"
      ]
     },
     "execution_count": 61,
     "metadata": {},
     "output_type": "execute_result"
    }
   ],
   "source": [
    "model_file"
   ]
  },
  {
   "cell_type": "code",
   "execution_count": 62,
   "id": "bc02ddfb-8478-4472-93fc-7804aad977b5",
   "metadata": {},
   "outputs": [
    {
     "data": {
      "text/plain": [
       "<implicit.cpu.als.AlternatingLeastSquares at 0x7feb417e8b50>"
      ]
     },
     "execution_count": 62,
     "metadata": {},
     "output_type": "execute_result"
    }
   ],
   "source": [
    "model"
   ]
  },
  {
   "cell_type": "markdown",
   "id": "408b4698-c19c-4011-ad06-088df651b2c2",
   "metadata": {},
   "source": [
    "## Model eval "
   ]
  },
  {
   "cell_type": "code",
   "execution_count": 63,
   "id": "12d07075-1fc9-45f3-ae98-1fb5591978f1",
   "metadata": {},
   "outputs": [],
   "source": [
    "# %%time\n",
    "# train_df = (\n",
    "#     pl.from_pandas(train_sessions.sample(300))\n",
    "#         .with_columns(pl.col('user_id').apply(lambda row: get_rec(row, model=model, user_item=user_item\n",
    "#                                                                  , itemid2item=itemid2item)).alias('next_item_prediction'))\n",
    "# ).to_pandas()#[['locale', 'next_item_prediction']]"
   ]
  },
  {
   "cell_type": "code",
   "execution_count": 64,
   "id": "357239e7-4013-4361-83fa-a1ddef94d1f6",
   "metadata": {},
   "outputs": [],
   "source": [
    "\n",
    "# eval_cols = ['len', 'recall@20', 'recall@100']\n",
    "# train_df[eval_cols] = train_df.apply(pd_get_recall_at_k, axis=1, result_type='expand')\n",
    "# print(train_df[eval_cols].mean())"
   ]
  },
  {
   "cell_type": "markdown",
   "id": "7b35b657-215f-4a97-a20d-e58bef7a9a34",
   "metadata": {},
   "source": [
    "# Model Eval"
   ]
  },
  {
   "cell_type": "code",
   "execution_count": 65,
   "id": "5c4f78f6-1e6f-4fea-92df-4c2e5a8339bb",
   "metadata": {},
   "outputs": [],
   "source": [
    "# train_sessions.head()"
   ]
  },
  {
   "cell_type": "code",
   "execution_count": 66,
   "id": "ed0286f5-ae69-4bfb-9576-be8c64ae2fd6",
   "metadata": {},
   "outputs": [],
   "source": [
    "# test_sessions.head()"
   ]
  },
  {
   "cell_type": "code",
   "execution_count": 67,
   "id": "05bb12d2-de27-41cf-897c-a01bc9b498f1",
   "metadata": {},
   "outputs": [],
   "source": [
    "# train_sessions.head()"
   ]
  },
  {
   "cell_type": "code",
   "execution_count": 68,
   "id": "1efcaa41-7bd2-418f-9147-f70156c4e970",
   "metadata": {},
   "outputs": [
    {
     "data": {
      "text/html": [
       "<div>\n",
       "<style scoped>\n",
       "    .dataframe tbody tr th:only-of-type {\n",
       "        vertical-align: middle;\n",
       "    }\n",
       "\n",
       "    .dataframe tbody tr th {\n",
       "        vertical-align: top;\n",
       "    }\n",
       "\n",
       "    .dataframe thead th {\n",
       "        text-align: right;\n",
       "    }\n",
       "</style>\n",
       "<table border=\"1\" class=\"dataframe\">\n",
       "  <thead>\n",
       "    <tr style=\"text-align: right;\">\n",
       "      <th></th>\n",
       "      <th>index</th>\n",
       "      <th>prev_items</th>\n",
       "      <th>next_item</th>\n",
       "      <th>locale</th>\n",
       "      <th>session_id</th>\n",
       "      <th>type</th>\n",
       "      <th>user_id</th>\n",
       "    </tr>\n",
       "  </thead>\n",
       "  <tbody>\n",
       "    <tr>\n",
       "      <th>0</th>\n",
       "      <td>0</td>\n",
       "      <td>[B09XMTWDVT, B0B4MZZ8MB, B0B7HZ2GWX, B09XMTWDV...</td>\n",
       "      <td>B0B4R9NN4B</td>\n",
       "      <td>DE</td>\n",
       "      <td>3</td>\n",
       "      <td>eval</td>\n",
       "      <td>0</td>\n",
       "    </tr>\n",
       "    <tr>\n",
       "      <th>1</th>\n",
       "      <td>1</td>\n",
       "      <td>[B09Y5CSL3T, B09Y5DPTXN, B09FKD61R8]</td>\n",
       "      <td>B0BGVBKWGZ</td>\n",
       "      <td>DE</td>\n",
       "      <td>4</td>\n",
       "      <td>eval</td>\n",
       "      <td>1333333</td>\n",
       "    </tr>\n",
       "    <tr>\n",
       "      <th>2</th>\n",
       "      <td>2</td>\n",
       "      <td>[B07LFQPX5L, B07LFPJTVF]</td>\n",
       "      <td>B07LFRP5SS</td>\n",
       "      <td>DE</td>\n",
       "      <td>14</td>\n",
       "      <td>eval</td>\n",
       "      <td>2612939</td>\n",
       "    </tr>\n",
       "    <tr>\n",
       "      <th>3</th>\n",
       "      <td>3</td>\n",
       "      <td>[B085QWM3KB, B001BAAV5W, B002GHKPQY, B010VC4AG...</td>\n",
       "      <td>B000VVSWBM</td>\n",
       "      <td>DE</td>\n",
       "      <td>15</td>\n",
       "      <td>eval</td>\n",
       "      <td>2789686</td>\n",
       "    </tr>\n",
       "    <tr>\n",
       "      <th>4</th>\n",
       "      <td>4</td>\n",
       "      <td>[B01NAQR0Y2, B08XBZL5CM]</td>\n",
       "      <td>B09ZPNHQ12</td>\n",
       "      <td>DE</td>\n",
       "      <td>27</td>\n",
       "      <td>eval</td>\n",
       "      <td>2923019</td>\n",
       "    </tr>\n",
       "  </tbody>\n",
       "</table>\n",
       "</div>"
      ],
      "text/plain": [
       "  index                                         prev_items   next_item locale   \n",
       "0     0  [B09XMTWDVT, B0B4MZZ8MB, B0B7HZ2GWX, B09XMTWDV...  B0B4R9NN4B     DE  \\\n",
       "1     1               [B09Y5CSL3T, B09Y5DPTXN, B09FKD61R8]  B0BGVBKWGZ     DE   \n",
       "2     2                           [B07LFQPX5L, B07LFPJTVF]  B07LFRP5SS     DE   \n",
       "3     3  [B085QWM3KB, B001BAAV5W, B002GHKPQY, B010VC4AG...  B000VVSWBM     DE   \n",
       "4     4                           [B01NAQR0Y2, B08XBZL5CM]  B09ZPNHQ12     DE   \n",
       "\n",
       "   session_id  type  user_id  \n",
       "0           3  eval        0  \n",
       "1           4  eval  1333333  \n",
       "2          14  eval  2612939  \n",
       "3          15  eval  2789686  \n",
       "4          27  eval  2923019  "
      ]
     },
     "execution_count": 68,
     "metadata": {},
     "output_type": "execute_result"
    }
   ],
   "source": [
    "eval_sessions.head()"
   ]
  },
  {
   "cell_type": "code",
   "execution_count": 69,
   "id": "e605bad8-7ea7-4044-9d2c-11819410d83d",
   "metadata": {},
   "outputs": [],
   "source": [
    "# test_sessions.head()"
   ]
  },
  {
   "cell_type": "code",
   "execution_count": 70,
   "id": "cb16a2c1-acff-425a-b4fb-fd7edd949683",
   "metadata": {},
   "outputs": [
    {
     "name": "stdout",
     "output_type": "stream",
     "text": [
      "CPU times: user 22h 56min 41s, sys: 9h 49min 59s, total: 1d 8h 46min 41s\n",
      "Wall time: 1h 11min 27s\n"
     ]
    }
   ],
   "source": [
    "%%time\n",
    "eval_res = (\n",
    "    pl.from_pandas(eval_sessions)\n",
    "        .with_columns(pl.col('user_id').apply(lambda row: get_rec(row, model=model, user_item=user_item\n",
    "                                                                 , itemid2item=itemid2item)).alias('next_item_prediction'))\n",
    ").to_pandas()"
   ]
  },
  {
   "cell_type": "code",
   "execution_count": 71,
   "id": "8c9461d1-3e1a-499c-90ab-126c79f9dcbe",
   "metadata": {},
   "outputs": [],
   "source": [
    "# eval_res.head()"
   ]
  },
  {
   "cell_type": "code",
   "execution_count": 72,
   "id": "a9dee1cb-c4da-42a3-9cba-c7f7c31b6550",
   "metadata": {},
   "outputs": [
    {
     "data": {
      "text/html": [
       "<div><style>\n",
       ".dataframe > thead > tr > th,\n",
       ".dataframe > tbody > tr > td {\n",
       "  text-align: right;\n",
       "}\n",
       "</style>\n",
       "<small>shape: (1, 4)</small><table border=\"1\" class=\"dataframe\"><thead><tr><th>total_sessions</th><th>mrr</th><th>recall@20</th><th>recall@100</th></tr><tr><td>u32</td><td>f64</td><td>f64</td><td>f64</td></tr></thead><tbody><tr><td>326443</td><td>0.004352</td><td>0.013034</td><td>0.029938</td></tr></tbody></table></div>"
      ],
      "text/plain": [
       "shape: (1, 4)\n",
       "┌────────────────┬──────────┬───────────┬────────────┐\n",
       "│ total_sessions ┆ mrr      ┆ recall@20 ┆ recall@100 │\n",
       "│ ---            ┆ ---      ┆ ---       ┆ ---        │\n",
       "│ u32            ┆ f64      ┆ f64       ┆ f64        │\n",
       "╞════════════════╪══════════╪═══════════╪════════════╡\n",
       "│ 326443         ┆ 0.004352 ┆ 0.013034  ┆ 0.029938   │\n",
       "└────────────────┴──────────┴───────────┴────────────┘"
      ]
     },
     "execution_count": 72,
     "metadata": {},
     "output_type": "execute_result"
    }
   ],
   "source": [
    "model_eval(pl.from_pandas(eval_res))"
   ]
  },
  {
   "cell_type": "code",
   "execution_count": 73,
   "id": "5f951340-0a72-4cf6-ba83-a4017b34467f",
   "metadata": {},
   "outputs": [],
   "source": [
    "eval_res.to_parquet('../data/als_v1_eval.parquet', engine='pyarrow')"
   ]
  },
  {
   "cell_type": "code",
   "execution_count": 74,
   "id": "ed653ab0-920a-49e5-be3f-bca5e8361668",
   "metadata": {},
   "outputs": [
    {
     "name": "stdout",
     "output_type": "stream",
     "text": [
      "als_v1_eval.parquet  eval_data\t      raw_data\t\t   sub_files\n",
      "candidates\t     rank_train_data  raw_data_session_id  train_data\n"
     ]
    }
   ],
   "source": [
    "! ls ../data/"
   ]
  },
  {
   "cell_type": "code",
   "execution_count": null,
   "id": "c0ddb469-7fc5-446c-af53-ca5191d3db9e",
   "metadata": {},
   "outputs": [],
   "source": [
    "%%time\n",
    "predictions = (\n",
    "    pl.from_pandas(test_sessions)\n",
    "        .with_columns(pl.col('user_id').apply(lambda row: get_rec(row, model=model, user_item=user_item\n",
    "                                                                 , itemid2item=itemid2item)).alias('next_item_prediction'))\n",
    ").to_pandas()[['locale', 'next_item_prediction']]"
   ]
  },
  {
   "cell_type": "markdown",
   "id": "f2de69a0-8e66-4023-9a1c-748f21a28e65",
   "metadata": {
    "tags": []
   },
   "source": [
    "# Rec & Save Result "
   ]
  },
  {
   "cell_type": "code",
   "execution_count": null,
   "id": "ffca7280-16e5-4272-bccb-f1cc500d2457",
   "metadata": {},
   "outputs": [],
   "source": [
    "submit_file"
   ]
  },
  {
   "cell_type": "code",
   "execution_count": null,
   "id": "3a9237da-34d7-418b-95fa-9769a7a6459a",
   "metadata": {},
   "outputs": [],
   "source": [
    "check_predictions(predictions, test_sessions=test_sessions, \n",
    "                  # check_products=True, product_df=products\n",
    "                 )\n",
    "# Its important that the parquet file you submit is saved with pyarrow backend\n",
    "predictions.to_parquet(submit_file, engine='pyarrow')"
   ]
  },
  {
   "cell_type": "markdown",
   "id": "013196a3-32ab-4b61-9d89-8b11639f7525",
   "metadata": {},
   "source": [
    "# Submission "
   ]
  },
  {
   "cell_type": "code",
   "execution_count": null,
   "id": "0a244aa8-4e8d-420c-9c4e-c9d2f3ede12d",
   "metadata": {},
   "outputs": [],
   "source": [
    "# You can submit with aicrowd-cli, or upload manually on the challenge page.\n",
    "!aicrowd submission create -c task-1-next-product-recommendation -f {submit_file}"
   ]
  },
  {
   "cell_type": "markdown",
   "id": "51af154c-a1a4-4946-8fae-2e46db235d22",
   "metadata": {
    "tags": []
   },
   "source": [
    "# Example "
   ]
  },
  {
   "cell_type": "code",
   "execution_count": null,
   "id": "f08a80a9-afc1-4afe-bf19-45ae3cd98eb9",
   "metadata": {},
   "outputs": [],
   "source": [
    "# # -*- coding: utf-8 -*-\n",
    "# \"\"\"\n",
    "# Created on Sun Jun 23 22:20:58 2019\n",
    "\n",
    "# @author: himansh\n",
    "# \"\"\"\n",
    "# #import libraries\n",
    "# import sys\n",
    "# import pandas as pd\n",
    "# import numpy as np\n",
    "# import scipy.sparse as sparse\n",
    "# from scipy.sparse.linalg import spsolve\n",
    "# import random\n",
    "\n",
    "\n",
    "\n",
    "# from sklearn.preprocessing import MinMaxScaler\n",
    "\n",
    "# import implicit \n",
    "# from datetime import datetime, timedelta\n",
    "\n",
    "\n",
    "# #Data Preprocessing\n",
    "# def create_data(datapath,start_date,end_date):\n",
    "#     df=pd.read_csv(datapath)\n",
    "#     df=df.assign(date=pd.Series(datetime.fromtimestamp(a/1000).date() for a in df.timestamp))\n",
    "#     df=df.sort_values(by='date').reset_index(drop=True) # for some reasons RetailRocket did NOT sort data by date\n",
    "#     df=df[(df.date>=datetime.strptime(start_date,'%Y-%m-%d').date())&(df.date<=datetime.strptime(end_date,'%Y-%m-%d').date())]\n",
    "#     df=df[['visitorid','itemid','event']]\n",
    "#     return df\n"
   ]
  },
  {
   "cell_type": "code",
   "execution_count": null,
   "id": "e3c7539c-c3bd-4338-a77a-aa596cfd75ad",
   "metadata": {},
   "outputs": [],
   "source": [
    "# #Download the kaggle RetailRocket data and give the events.csv file path\n",
    "# datapath= 'events.csv'\n",
    "# data=create_data(datapath,'2015-5-3','2015-5-3')\n",
    "# data['visitorid'] = data['visitorid'].astype(\"category\")\n",
    "# data['itemid'] = data['itemid'].astype(\"category\")\n",
    "# data['visitor_id'] = data['visitorid'].cat.codes\n",
    "# data['item_id'] = data['itemid'].cat.codes\n",
    "\n",
    "# data['event']=data['event'].astype('category')\n",
    "# data['event']=data['event'].cat.codes\n"
   ]
  },
  {
   "cell_type": "code",
   "execution_count": null,
   "id": "5fbad4ee-be58-4af0-b284-4923461be55b",
   "metadata": {},
   "outputs": [],
   "source": [
    "# sparse_item_user = sparse.csr_matrix((data['event'].astype(float), (data['item_id'], data['visitor_id'])))\n",
    "# sparse_user_item = sparse.csr_matrix((data['event'].astype(float), (data['visitor_id'], data['item_id'])))\n"
   ]
  },
  {
   "cell_type": "code",
   "execution_count": null,
   "id": "daf164ab-f248-4b75-9be7-cd3eb80fbc76",
   "metadata": {},
   "outputs": [],
   "source": [
    "\n",
    "\n",
    "\n",
    "# #Building the model\n",
    "# model = implicit.als.AlternatingLeastSquares(factors=20, regularization=0.1, iterations=20)\n",
    "\n",
    "\n",
    "# # ???\n",
    "# # alpha_val = 40\n",
    "# # data_conf = (sparse_item_user * alpha_val).astype('double')\n"
   ]
  },
  {
   "cell_type": "code",
   "execution_count": null,
   "id": "07adba24-a1ec-4729-ad6d-248e62738f84",
   "metadata": {},
   "outputs": [],
   "source": [
    "# ###USING THE MODEL\n",
    "\n",
    "# #Get Recommendations\n",
    "# user_id =   14\n",
    "# recommended = model.recommend(user_id, \n",
    "#                               sparse_user_item[user_id],\n",
    "#                               filter_already_liked_items=True\n",
    "#                              )[0].tolist()\n",
    "# print(recommended)\n",
    "\n",
    "\n",
    "\n",
    "\n",
    "# # #Get similar items\n",
    "# # item_id = 7\n",
    "# # n_similar = 3\n",
    "# # similar = model.similar_items(item_id, n_similar)\n",
    "# # print(similar)"
   ]
  },
  {
   "cell_type": "code",
   "execution_count": null,
   "id": "8299bb39-ee00-473c-aaf0-669f8b1d3986",
   "metadata": {},
   "outputs": [],
   "source": [
    "# user_item = sps.coo_matrix(\n",
    "#       (\n",
    "#           np.ones(data.shape[0]), # We're using a matrix of ones, but using type weights or repurchase weights could help!\n",
    "#           (data['visitor_id'],\n",
    "#           data['item_id'])\n",
    "#       ),\n",
    "#       dtype='int8'\n",
    "#     ).tocsr()\n",
    "# user_item.todense().shape\n",
    "# new_model = implicit.als.AlternatingLeastSquares(factors=100, regularization=0.1, iterations=20)\n",
    "\n",
    "# new_model.fit(user_items=user_item, show_progress=True)\n"
   ]
  },
  {
   "cell_type": "code",
   "execution_count": null,
   "id": "456fc504-92cc-4cd0-ad1c-e528a0099f6a",
   "metadata": {},
   "outputs": [],
   "source": [
    "# user_id =   14\n",
    "# recommended = model.recommend(user_id, \n",
    "#                               user_item[user_id, :],\n",
    "#                               filter_already_liked_items=True\n",
    "#                              )[0].tolist()\n",
    "# print(recommended)"
   ]
  },
  {
   "cell_type": "code",
   "execution_count": null,
   "id": "070f1ebd-cd02-4095-829b-f4a42b362462",
   "metadata": {},
   "outputs": [],
   "source": []
  }
 ],
 "metadata": {
  "environment": {
   "kernel": "kdd_2023",
   "name": "common-cu110.m104",
   "type": "gcloud",
   "uri": "gcr.io/deeplearning-platform-release/base-cu110:m104"
  },
  "kernelspec": {
   "display_name": "py3.8(kdd_2023)",
   "language": "python",
   "name": "kdd_2023"
  },
  "language_info": {
   "codemirror_mode": {
    "name": "ipython",
    "version": 3
   },
   "file_extension": ".py",
   "mimetype": "text/x-python",
   "name": "python",
   "nbconvert_exporter": "python",
   "pygments_lexer": "ipython3",
   "version": "3.8.16"
  }
 },
 "nbformat": 4,
 "nbformat_minor": 5
}
