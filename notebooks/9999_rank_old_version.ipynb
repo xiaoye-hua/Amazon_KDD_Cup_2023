{
 "cells": [
  {
   "cell_type": "markdown",
   "id": "cfb20369-bc15-496e-9ca7-96ea3337a84e",
   "metadata": {},
   "source": [
    "# Packages "
   ]
  },
  {
   "cell_type": "code",
   "execution_count": 1,
   "id": "aabe0c4e-8729-4f63-9722-c12d233ca6b5",
   "metadata": {
    "tags": []
   },
   "outputs": [
    {
     "name": "stderr",
     "output_type": "stream",
     "text": [
      "/home/jupyter/.cache/pypoetry/virtualenvs/kdd-2023-KklMGVX0-py3.8/lib/python3.8/site-packages/implicit/gpu/__init__.py:13: UserWarning: CUDA extension is built, but disabling GPU support because of 'Cuda Error: no CUDA-capable device is detected (/project/./implicit/gpu/utils.h:71)'\n",
      "  warnings.warn(\n"
     ]
    }
   ],
   "source": [
    "%load_ext autoreload\n",
    "%autoreload 2\n",
    "import sys\n",
    "import logging\n",
    "base_dir = '../'\n",
    "sys.path.append(base_dir)\n",
    "import os\n",
    "from utils import *\n",
    "\n",
    "import joblib\n",
    "import os\n",
    "import numpy as np\n",
    "import pandas as pd\n",
    "from gensim.models import Word2Vec\n",
    "from gensim.similarities.annoy import AnnoyIndexer\n",
    "\n",
    "\n",
    "from annoy import AnnoyIndex\n",
    "import polars as pl\n",
    "import implicit\n",
    "from src.eval import model_eval\n",
    "\n",
    "import scipy.sparse as sps\n",
    "from utils import str2list\n",
    "from src.config import raw_data_session_id_dir, candidate_file_name\n",
    "from lightgbm import LGBMRanker\n",
    "from utils import *\n"
   ]
  },
  {
   "cell_type": "markdown",
   "id": "1355ce62-0ebd-4629-99e5-96bf2946bed5",
   "metadata": {
    "tags": []
   },
   "source": [
    "# Config "
   ]
  },
  {
   "cell_type": "code",
   "execution_count": 4,
   "id": "581b9e23-e0c5-4956-9aee-45b64c96f201",
   "metadata": {},
   "outputs": [
    {
     "data": {
      "text/plain": [
       "'{task}_{data_type}_{model_version}_{model_for_eval}_top{topn}.parquet'"
      ]
     },
     "execution_count": 4,
     "metadata": {},
     "output_type": "execute_result"
    }
   ],
   "source": [
    "candidate_file_name"
   ]
  },
  {
   "cell_type": "code",
   "execution_count": 5,
   "id": "0cac5f9f-76a0-4069-a57a-17b45bba83fd",
   "metadata": {},
   "outputs": [],
   "source": [
    "debug = True\n",
    "\n",
    "eval_cg = False\n",
    "negative_sampling = 0.1\n",
    "if debug:\n",
    "    SAMPLE_NUM = 1000\n",
    "else:\n",
    "    SAMPLE_NUM = None\n",
    "\n",
    "candidate_path = '../data/candidates/'\n",
    "model_dir = '../model_training'\n",
    "# train_data_dir = '.'\n",
    "# test_data_dir = '.'\n",
    "task = 'task1'\n",
    "w2v_model = 'w2v_v3'\n",
    "nic_model = 'nic'\n",
    "rank_model_version = 'rank_lgbm'\n",
    "\n",
    "rank_model_dir = os.path.join(model_dir, rank_model_version)\n",
    "model_for_eval = True\n",
    "w2v_topn=100\n",
    "nic_topn=100\n",
    "# PREDS_PER_SESSION = 100\n",
    "\n",
    "# num_tree = 100\n",
    "\n",
    "\n",
    "\n",
    "# # target locales: locales needed for task1\n",
    "target_locals = [\"DE\", 'JP', 'UK']\n",
    "\n",
    "# submit_file = f'submission_{task}_ALS.parquet'\n",
    "num_tree = 100\n",
    "w2v_model_dir = os.path.join(model_dir, w2v_model)\n",
    "w2v_model_file = os.path.join(w2v_model_dir, f\"{model_for_eval}.model\")\n",
    "annoy_index_file = os.path.join(w2v_model_dir, f\"{str(num_tree)}_{model_for_eval}.index\")\n",
    "\n",
    "\n",
    "sub_file = '../data/sub_files/rank_v3.parque'\n",
    "eval_sub_file = '../data/sub_files/eval_rank_v3.parque'"
   ]
  },
  {
   "cell_type": "code",
   "execution_count": 6,
   "id": "902bc312-8c20-42f7-ad41-b5d77d89fcce",
   "metadata": {},
   "outputs": [
    {
     "name": "stdout",
     "output_type": "stream",
     "text": [
      "mkdir: cannot create directory ‘../model_training/rank_lgbm’: File exists\n"
     ]
    }
   ],
   "source": [
    "! mkdir {rank_model_dir}"
   ]
  },
  {
   "cell_type": "code",
   "execution_count": 7,
   "id": "210036e4-72ad-4a2d-b704-5df89adede53",
   "metadata": {},
   "outputs": [
    {
     "data": {
      "text/plain": [
       "'../model_training/rank_lgbm'"
      ]
     },
     "execution_count": 7,
     "metadata": {},
     "output_type": "execute_result"
    }
   ],
   "source": [
    "rank_model_dir"
   ]
  },
  {
   "cell_type": "code",
   "execution_count": 8,
   "id": "701392f5-757d-4404-8c58-0cc400b5e474",
   "metadata": {},
   "outputs": [],
   "source": [
    "# model_dir"
   ]
  },
  {
   "cell_type": "markdown",
   "id": "6dcb3854-ffc0-45cf-b0ed-f8b96ccd0fcb",
   "metadata": {
    "tags": []
   },
   "source": [
    "# Function "
   ]
  },
  {
   "cell_type": "code",
   "execution_count": 9,
   "id": "589c0e50-3e4d-430d-9e39-0b57cbea301b",
   "metadata": {},
   "outputs": [
    {
     "name": "stdout",
     "output_type": "stream",
     "text": [
      "task1_eval_nic_True_top100.parquet     task1_test_w2v_v3_True_top100.parquet\n",
      "task1_eval_w2v_v2_top100.parquet       task1_train_nic_True_top100.parquet\n",
      "task1_eval_w2v_v3_True_top100.parquet  task1_train_w2v_v2_top100.parquet\n",
      "task1_test_nic_True_top100.parquet     task1_train_w2v_v3_True_top100.parquet\n",
      "task1_test_w2v_v2_top100.parquet\n"
     ]
    }
   ],
   "source": [
    "! ls ../data/candidates/"
   ]
  },
  {
   "cell_type": "markdown",
   "id": "33cccd9d-18fd-4339-a739-39d7021cef73",
   "metadata": {},
   "source": [
    "# Original data "
   ]
  },
  {
   "cell_type": "code",
   "execution_count": 10,
   "id": "3486f554-4ca0-460c-9d31-4b4b1f2c5e6b",
   "metadata": {},
   "outputs": [],
   "source": [
    "\n",
    "eval_pl = pl.scan_parquet(os.path.join(base_dir, raw_data_session_id_dir, 'sessions_eval.parquet'), n_rows=SAMPLE_NUM).filter(pl.col('locale').is_in(target_locals)).with_columns(pl.col('prev_items').apply(str2list))\n",
    "\n",
    "# df_sess.head(3).collect()\n",
    "test_pl = pl.scan_parquet(os.path.join(base_dir, raw_data_session_id_dir, 'sessions_test_task1.parquet'), n_rows=SAMPLE_NUM).with_columns(pl.col('prev_items').apply(str2list))\n"
   ]
  },
  {
   "cell_type": "markdown",
   "id": "5e9d66b7-afd4-4207-a497-d733fe520055",
   "metadata": {},
   "source": [
    "# Eval candidate Generation "
   ]
  },
  {
   "cell_type": "code",
   "execution_count": 11,
   "id": "c212a5fc-abe0-4a8a-ad19-6be6def499b6",
   "metadata": {},
   "outputs": [],
   "source": [
    "# w2v_file = os.path.join(candidate_path, f'task1_{data_type}_w2v_top100.parquet')\n",
    "# w2v_pl = pl.scan_parquet(w2v_file, n_rows=SAMPLE_NUM)#.with_columns(pl.col('prev_items').apply(str2list))"
   ]
  },
  {
   "cell_type": "code",
   "execution_count": 12,
   "id": "c8d1677a-1358-44f4-853f-d25dcab8cd02",
   "metadata": {},
   "outputs": [
    {
     "data": {
      "text/plain": [
       "'{task}_{data_type}_{model_version}_{model_for_eval}_top{topn}.parquet'"
      ]
     },
     "execution_count": 12,
     "metadata": {},
     "output_type": "execute_result"
    }
   ],
   "source": [
    "candidate_file_name"
   ]
  },
  {
   "cell_type": "code",
   "execution_count": null,
   "id": "059c7cb4-7edf-4f08-a2d0-dfd9dc470d33",
   "metadata": {},
   "outputs": [],
   "source": []
  },
  {
   "cell_type": "code",
   "execution_count": 13,
   "id": "5242ea97-e5dd-45aa-96ef-043d295133fd",
   "metadata": {},
   "outputs": [],
   "source": [
    "def get_all_candidates(data_type, task=task, \n",
    "                       w2v_model=w2v_model, \n",
    "                       nic_model=nic_model\n",
    "                      ,model_for_eval=model_for_eval,\n",
    "                      w2v_topn=w2v_topn\n",
    "                      , nic_topn=nic_topn):\n",
    "    \n",
    "    w2v_file = os.path.join(candidate_path, \n",
    "                           candidate_file_name.format(\n",
    "                    task=task\n",
    "                , data_type=data_type\n",
    "                , model_version=w2v_model\n",
    "                , model_for_eval=model_for_eval\n",
    "                , topn=w2v_topn\n",
    "                           ))\n",
    "    nic_file = os.path.join(candidate_path,\n",
    "                candidate_file_name.format(\n",
    "                    task=task\n",
    "                    , data_type=data_type\n",
    "                    , model_version=nic_model\n",
    "                    , model_for_eval=model_for_eval\n",
    "                    , topn=nic_topn\n",
    "                           ))\n",
    "    if data_type == 'test':\n",
    "        original_file_name = f\"sessions_{data_type}_{task}.parquet\"\n",
    "    else:\n",
    "        original_file_name = f\"sessions_{data_type}.parquet\"\n",
    "    original_pl = pl.scan_parquet(os.path.join(base_dir, raw_data_session_id_dir, original_file_name), n_rows=SAMPLE_NUM).filter(pl.col('locale').is_in(target_locals)).with_columns(pl.col('prev_items').apply(str2list))\n",
    "    w2v_pl = pl.scan_parquet(w2v_file, n_rows=SAMPLE_NUM)#.with_columns(pl.col('prev_items').apply(str2list))\n",
    "    nic_pl = pl.scan_parquet(nic_file, n_rows=SAMPLE_NUM)#.with_columns(pl.col('prev_items').apply(str2list))\n",
    "    \n",
    "    # get w2v weight\n",
    "    w2v_pl = w2v_pl.with_columns(\n",
    "        pl.lit([list(range(w2v_topn, 0, -1))]).alias('w2v_weight')\n",
    "    )\n",
    "    get_w2v_weight = pl.element().rank()*0\n",
    "    nic_pl = nic_pl.with_columns(\n",
    "        pl.col('next_item_prediction').arr.eval(get_w2v_weight, \n",
    "                                                # parallel=True\n",
    "                                               ).alias('w2v_weight').cast(pl.List(pl.Int64))\n",
    "    )\n",
    "    cols = ['session_id', 'next_item_prediction', 'w2v_weight']\n",
    "    combined_pl = w2v_pl.select(cols).join(nic_pl.select(cols), how='left', on='session_id', suffix='_nic')\n",
    "\n",
    "    combined_pl = combined_pl.with_columns(\n",
    "        pl.concat_list([pl.col('next_item_prediction'), pl.col('next_item_prediction_nic')]).alias('next_item_prediction'), \n",
    "        pl.concat_list([pl.col('w2v_weight'), pl.col('w2v_weight_nic')]).alias('w2v_weight'), \n",
    "    ).select(\n",
    "        pl.all().exclude(['next_item_prediction_nic', 'w2v_weight_nic'])\n",
    "    )\n",
    "    # combined_pl = (\n",
    "    #         pl.concat([w2v_pl.select(cols), nic_pl.select(cols)], how='vertical')\n",
    "    #             .groupby('session_id')\n",
    "    #             .agg(\n",
    "    #                 pl.col('next_item_prediction').flatten()\n",
    "    #                 , pl.col('w2v_weight').flatten()\n",
    "    #             )\n",
    "    # )\n",
    "    combined_pl = (\n",
    "        combined_pl.join(original_pl, how='left', on='session_id')\n",
    "            # .with_columns(\n",
    "            #     pl.col('prev_items')\n",
    "            # )\n",
    "    )\n",
    "    return combined_pl\n"
   ]
  },
  {
   "cell_type": "code",
   "execution_count": 14,
   "id": "8d184e2f-b00a-401d-b058-af0447adad1e",
   "metadata": {},
   "outputs": [],
   "source": [
    "train_cg_pl = get_all_candidates(data_type='train')\n",
    "eval_cg_pl = get_all_candidates(data_type='eval')\n",
    "test_cg_pl = get_all_candidates(data_type='test')"
   ]
  },
  {
   "cell_type": "code",
   "execution_count": 15,
   "id": "a127b32c-e0c8-486b-8723-1b44eb0d0c2c",
   "metadata": {},
   "outputs": [],
   "source": [
    "# train_cg_pl.collect().estimated_size(unit='gb')"
   ]
  },
  {
   "cell_type": "code",
   "execution_count": 16,
   "id": "2be9dca6-4e18-4e6b-b812-402ad5c7190e",
   "metadata": {},
   "outputs": [],
   "source": [
    "# original_pl.collect().estimated_size(unit='gb')"
   ]
  },
  {
   "cell_type": "code",
   "execution_count": 17,
   "id": "18db1329-499e-43ab-aef1-2ac0514abec0",
   "metadata": {},
   "outputs": [],
   "source": [
    "\n",
    "\n",
    "\n",
    "\n",
    "# data_type = 'train'\n",
    "# w2v_file = os.path.join(candidate_path, \n",
    "#                        candidate_file_name.format(\n",
    "#                 task=task\n",
    "#             , data_type=data_type\n",
    "#             , model_version=w2v_model\n",
    "#             , model_for_eval=model_for_eval\n",
    "#             , topn=w2v_topn\n",
    "#                        ))\n",
    "# nic_file = os.path.join(candidate_path,\n",
    "#             candidate_file_name.format(\n",
    "#                 task=task\n",
    "#                 , data_type=data_type\n",
    "#                 , model_version=nic_model\n",
    "#                 , model_for_eval=model_for_eval\n",
    "#                 , topn=nic_topn\n",
    "#                        ))\n",
    "# if data_type == 'test':\n",
    "#     original_file_name = f\"sessions_{data_type}_{task}.parquet\"\n",
    "# else:\n",
    "#     original_file_name = f\"sessions_{data_type}.parquet\"\n",
    "# original_pl = pl.scan_parquet(os.path.join(base_dir, raw_data_session_id_dir, original_file_name), n_rows=SAMPLE_NUM).filter(pl.col('locale').is_in(target_locals)).with_columns(pl.col('prev_items').apply(str2list))\n",
    "# w2v_pl = pl.scan_parquet(w2v_file, n_rows=SAMPLE_NUM)#.with_columns(pl.col('prev_items').apply(str2list))\n",
    "# nic_pl = pl.scan_parquet(nic_file, n_rows=SAMPLE_NUM)#.with_columns(pl.col('prev_items').apply(str2list))\n",
    "\n",
    "# # get w2v weight\n",
    "# w2v_pl = w2v_pl.with_columns(\n",
    "#     pl.lit([list(range(w2v_topn, 0, -1))]).alias('w2v_weight').cast(pl.List(pl.Int8))\n",
    "# ).collect()\n"
   ]
  },
  {
   "cell_type": "code",
   "execution_count": 18,
   "id": "34f1e954-3514-461b-bfaa-b250eeaed2e9",
   "metadata": {},
   "outputs": [],
   "source": [
    "# get_w2v_weight = pl.element().rank()*0\n",
    "# nic_pl = nic_pl.with_columns(\n",
    "#     pl.col('next_item_prediction').arr.eval(get_w2v_weight, \n",
    "#                                             # parallel=True\n",
    "#                                            ).alias('w2v_weight').cast(pl.List(pl.Int8))\n",
    "# ).collect()"
   ]
  },
  {
   "cell_type": "code",
   "execution_count": null,
   "id": "9a50e5b6-0725-4f5e-9556-a2a051579e29",
   "metadata": {},
   "outputs": [],
   "source": []
  },
  {
   "cell_type": "code",
   "execution_count": 19,
   "id": "3183bb7d-c1f7-4436-990c-c7a7de1341e9",
   "metadata": {},
   "outputs": [],
   "source": [
    "# train_cg_pl.collect()"
   ]
  },
  {
   "cell_type": "code",
   "execution_count": 20,
   "id": "05788384-d27e-4b6d-965c-77fe3bc8f9a8",
   "metadata": {},
   "outputs": [],
   "source": [
    "# eval_cg_pl.collect().estimated_size(unit='gb')"
   ]
  },
  {
   "cell_type": "code",
   "execution_count": 21,
   "id": "e91470c3-d155-402e-8ced-58cf8cf5dcbf",
   "metadata": {},
   "outputs": [],
   "source": [
    "# train_cg_pl.collect()"
   ]
  },
  {
   "cell_type": "code",
   "execution_count": 22,
   "id": "ac844030-b258-4dae-a03b-0ac1cd67cc52",
   "metadata": {},
   "outputs": [],
   "source": [
    "# print(f\"{train_cg_pl.collect().shape}; {eval_cg_pl.collect().shape}; {test_cg_pl.collect().shape}\")"
   ]
  },
  {
   "cell_type": "code",
   "execution_count": 23,
   "id": "9d7d783d-b696-4045-90a9-b3bb8492a207",
   "metadata": {},
   "outputs": [],
   "source": [
    "# train_cg_pl.collect().head()"
   ]
  },
  {
   "cell_type": "code",
   "execution_count": 24,
   "id": "2bda61f5-f3d9-4c38-860b-4b3b6b0ba371",
   "metadata": {},
   "outputs": [],
   "source": [
    "# eval_cg_pl.collect()"
   ]
  },
  {
   "cell_type": "code",
   "execution_count": null,
   "id": "f1d6cd1e-ba2d-4384-b4da-cd966f17eda9",
   "metadata": {},
   "outputs": [],
   "source": []
  },
  {
   "cell_type": "code",
   "execution_count": 25,
   "id": "8735f873-543c-48af-80fd-b18952fdc413",
   "metadata": {},
   "outputs": [],
   "source": [
    "# get_w2v_weight = pl.element().rank()*0\n",
    "\n",
    "# train_pl.with_columns(\n",
    "#     # pl.lit([list(range(100, 0, -1))]).alias('w2v_weight')\n",
    "#     pl.col('next_item_prediction').arr.lengths().alias('length')\n",
    "#     , pl.col('next_item_prediction').arr.eval(get_w2v_weight, parallel=True).alias('w2v_weight')\n",
    "#     # , pl.lit([0 for ele in range(pl.col('length'))])\n",
    "\n",
    "# ).head().collect()"
   ]
  },
  {
   "cell_type": "code",
   "execution_count": 26,
   "id": "5f20d12b-6c3d-470b-b9a6-6b9b44b98b5e",
   "metadata": {},
   "outputs": [],
   "source": [
    "# dir(pl.element())"
   ]
  },
  {
   "cell_type": "code",
   "execution_count": null,
   "id": "19f31392-343b-45b4-bbf1-faa9f666a83b",
   "metadata": {},
   "outputs": [],
   "source": []
  },
  {
   "cell_type": "code",
   "execution_count": 27,
   "id": "1f9eb477-cc31-4946-93d9-befb1f724b1d",
   "metadata": {},
   "outputs": [],
   "source": [
    "# w2v_pl.head().collect()\n"
   ]
  },
  {
   "cell_type": "code",
   "execution_count": 28,
   "id": "b578226d-8a0a-4a53-a888-3db802cd29db",
   "metadata": {},
   "outputs": [],
   "source": [
    "\n",
    "# def get_all_candidates(data_type):\n",
    "#     w2v_file = os.path.join(candidate_path, f'task1_{data_type}_w2v_top100.parquet')\n",
    "#     nic_file = os.path.join(candidate_path, f'task1_{data_type}_nic_top100.parquet')\n",
    "#     w2v_pl = pl.scan_parquet(w2v_file, n_rows=SAMPLE_NUM)#.with_columns(pl.col('prev_items').apply(str2list))\n",
    "#     nic_pl = pl.scan_parquet(nic_file, n_rows=SAMPLE_NUM)#.with_columns(pl.col('prev_items').apply(str2list))\n",
    "\n",
    "#     cols_to_keep = ['session_id', 'next_item_prediction', 'cg_source']\n",
    "\n",
    "#     w2v_pl = w2v_pl.with_columns(pl.lit('word2vec').alias('cg_source')).select(cols_to_keep).explode('next_item_prediction')\n",
    "#     nic_pl = nic_pl.with_columns(pl.lit('next_item_counter').alias('cg_source')).select(cols_to_keep).explode('next_item_prediction')\n",
    "#     # length = w2v_pl.collect().shape[0]\n",
    "#     # w2v_pl = w2v_pl.with_columns(\n",
    "#     #     pl.Series(values=[list(range(100, 0, -1))]*length, name='w2v_weight')\n",
    "#     # )\n",
    "#     cg_pl = (\n",
    "#             pl.concat([w2v_pl, nic_pl], how='vertical')\n",
    "#                 .groupby(['session_id', 'next_item_prediction'])\n",
    "#                 .agg(\n",
    "#                     pl.col('cg_source')\n",
    "#                 )\n",
    "#                 .with_columns(\n",
    "#                     pl.when(pl.col('cg_source').arr.contains(pl.lit('word2vec'))).then(1).otherwise(0).alias('whether_w2v')\n",
    "#                     , pl.when(pl.col('cg_source').arr.contains(pl.lit('next_item_counter'))).then(1).otherwise(0).alias('whether_nic')\n",
    "#                 )\n",
    "#                 .select(\n",
    "#                     pl.all().exclude('cg_source')\n",
    "#                 )\n",
    "#     )\n",
    "#     return cg_pl"
   ]
  },
  {
   "cell_type": "markdown",
   "id": "0db6d45e-36d7-4844-a312-e419b7d9ff3e",
   "metadata": {
    "tags": []
   },
   "source": [
    "## Eval candidate generation "
   ]
  },
  {
   "cell_type": "code",
   "execution_count": 29,
   "id": "3bcff578-861e-46af-b1f7-fab9d7a774af",
   "metadata": {},
   "outputs": [],
   "source": [
    "if eval_cg:\n",
    "    eval_topn = 300\n",
    "\n",
    "    col = f\"recall@{eval_topn}\"\n",
    "\n",
    "    eval_final = (\n",
    "            eval_cg_pl\n",
    "            .lazy()\n",
    "            .with_columns(\n",
    "                pl.col('next_item_prediction').cast(pl.List(pl.Utf8))\n",
    "            )\n",
    "            .with_columns(\n",
    "                pl.concat_list([pl.col('next_item'), pl.col('next_item_prediction')]).alias('mrr')\n",
    "            )\n",
    "            ).with_columns(\n",
    "                pl.col('next_item_prediction').arr.head(eval_topn).arr.contains(pl.col('next_item')).mean().alias(col)\n",
    "\n",
    "            )\n",
    "    final_res = eval_final.select(\n",
    "            pl.count().alias('total_sessions')\n",
    "            , pl.col(col).mean()\n",
    "\n",
    "        ).collect()\n",
    "    print(final_res)\n",
    "    del final_res"
   ]
  },
  {
   "cell_type": "code",
   "execution_count": 30,
   "id": "bcea5661-384c-45a0-aec7-9d56948127ff",
   "metadata": {},
   "outputs": [],
   "source": [
    "# eval_cg_pl.head().collect()"
   ]
  },
  {
   "cell_type": "markdown",
   "id": "9a40c22f-010f-4bba-ae1f-aa76247c638d",
   "metadata": {
    "tags": []
   },
   "source": [
    "# Feature Process "
   ]
  },
  {
   "cell_type": "markdown",
   "id": "1552490e-efa5-49fe-810f-954bdc3f6517",
   "metadata": {},
   "source": [
    "## Load Model "
   ]
  },
  {
   "cell_type": "code",
   "execution_count": 31,
   "id": "a9c64bc6-0657-455d-bf4c-f4cfe23d6e1d",
   "metadata": {},
   "outputs": [
    {
     "name": "stdout",
     "output_type": "stream",
     "text": [
      "{'next_item_prediction': Utf8, 'next_item_weight': Float64, 'last_prev_item': Utf8}\n"
     ]
    }
   ],
   "source": [
    "nic_model = (\n",
    "    pl.scan_parquet('../model_training/next_item_counter_v2/nic_model.parquet')\n",
    "        .explode(['next_item_prediction', 'next_item_weight'])\n",
    "        .select(\n",
    "            pl.all().exclude('item')\n",
    "            , pl.col('item').alias('last_prev_item')\n",
    "        )\n",
    "            )\n",
    "print(nic_model.schema)\n",
    "\n",
    "\n",
    "\n",
    "# w2v_model_file = '../model_training/v2/w2v.model'\n",
    "w2vec = Word2Vec.load(w2v_model_file)\n",
    "annoy_index = AnnoyIndexer()\n",
    "annoy_index.load(annoy_index_file)"
   ]
  },
  {
   "cell_type": "code",
   "execution_count": 32,
   "id": "eae74070-2de2-4e90-962a-98c23d517093",
   "metadata": {},
   "outputs": [],
   "source": [
    "# nic_model"
   ]
  },
  {
   "cell_type": "code",
   "execution_count": 33,
   "id": "7f0c43b1-fc45-4e41-b160-385269b3eb37",
   "metadata": {},
   "outputs": [],
   "source": [
    "# len(w2vec.wv)"
   ]
  },
  {
   "cell_type": "code",
   "execution_count": 34,
   "id": "7f3ebf6a-268a-4677-965d-f15239f13254",
   "metadata": {},
   "outputs": [],
   "source": [
    "# train_cg_pl.schema"
   ]
  },
  {
   "cell_type": "code",
   "execution_count": 35,
   "id": "6c4eed3c-f2f7-4b1a-ae31-9f75084a5bbf",
   "metadata": {},
   "outputs": [],
   "source": [
    "# w2vec.wv.similarity('2', '3')"
   ]
  },
  {
   "cell_type": "code",
   "execution_count": 36,
   "id": "a7dd6c6d-1fde-4408-9b6d-94167c8ee93f",
   "metadata": {},
   "outputs": [],
   "source": [
    "# train_cg_pl = train_cg_pl.collect()"
   ]
  },
  {
   "cell_type": "code",
   "execution_count": 37,
   "id": "508b1688-54a9-4944-920f-b8ecaaad7339",
   "metadata": {},
   "outputs": [],
   "source": [
    "# train_cg_pl.shape"
   ]
  },
  {
   "cell_type": "code",
   "execution_count": 38,
   "id": "1d68d2a0-64a0-48da-a76f-63c2c7fbfb9c",
   "metadata": {},
   "outputs": [],
   "source": [
    "# train_cg_pl.head()"
   ]
  },
  {
   "cell_type": "code",
   "execution_count": null,
   "id": "8aae763f-b258-45a5-8285-f70019c29438",
   "metadata": {},
   "outputs": [],
   "source": []
  },
  {
   "cell_type": "code",
   "execution_count": 39,
   "id": "86355a6a-83bb-44ed-a2fb-cab13e7a061d",
   "metadata": {},
   "outputs": [],
   "source": [
    "# target_df.head().collect()"
   ]
  },
  {
   "cell_type": "code",
   "execution_count": null,
   "id": "da9c1073-fab7-4a2c-a146-c266e9708572",
   "metadata": {},
   "outputs": [],
   "source": []
  },
  {
   "cell_type": "code",
   "execution_count": 40,
   "id": "3748c21a-1d0a-498c-b348-f96ae0979405",
   "metadata": {},
   "outputs": [],
   "source": [
    "# pos.head()/collect()"
   ]
  },
  {
   "cell_type": "code",
   "execution_count": null,
   "id": "26a755d9-9355-40d7-ad92-97079caa5ced",
   "metadata": {},
   "outputs": [],
   "source": [
    "\n"
   ]
  },
  {
   "cell_type": "code",
   "execution_count": 41,
   "id": "21bd50b1-22e0-4dbd-9c65-ed941e33ca73",
   "metadata": {},
   "outputs": [],
   "source": [
    "# def get_w2v_simi(x):\n",
    "#     try:\n",
    "#         simi = w2vec.wv.similarity(x['next_item_prediction'],\n",
    "#                                                   x['last_prev_item']\n",
    "#                                                  )\n",
    "#     except:\n",
    "#         simi = 0\n",
    "#     return simi"
   ]
  },
  {
   "cell_type": "code",
   "execution_count": null,
   "id": "fb28aa9b-f70e-41c8-abdd-9a0410977d0d",
   "metadata": {},
   "outputs": [],
   "source": []
  },
  {
   "cell_type": "code",
   "execution_count": 42,
   "id": "9ccbdcf5-c798-4d27-8620-d251bb4d9495",
   "metadata": {},
   "outputs": [],
   "source": [
    "# target_df.head().collect()"
   ]
  },
  {
   "cell_type": "code",
   "execution_count": 43,
   "id": "2c730033-5e80-43f3-a917-e3a100bd51f3",
   "metadata": {},
   "outputs": [],
   "source": [
    "# target_df = target_df.with_columns(\n",
    "#                 pl.when(pl.col('next_item_weight').is_null()).then(0).otherwise(pl.col('next_item_weight')).alias('next_item_weight')\n",
    "#                 , pl.struct([\"next_item_prediction\", \"last_prev_item\"]).apply(\n",
    "#                     lambda x: get_w2v_simi(x)).alias('last_item_similarity')\n",
    "#                 , pl.when(pl.col('locale')=='DE').then(1).when(pl.col('locale')=='DE')\n",
    "#                     .then(2)\n",
    "#                     .otherwise(3).alias('locale')\n",
    "#             ).sort('session_id')"
   ]
  },
  {
   "cell_type": "code",
   "execution_count": 89,
   "id": "57a841c0-0b65-4cf4-9816-a0684e1939c4",
   "metadata": {},
   "outputs": [],
   "source": [
    "# dir(w2vec.wv)"
   ]
  },
  {
   "cell_type": "code",
   "execution_count": 94,
   "id": "16b19f0f-2d3c-4cb5-8e6c-1577db301c77",
   "metadata": {},
   "outputs": [
    {
     "data": {
      "text/plain": [
       "0.7246886"
      ]
     },
     "execution_count": 94,
     "metadata": {},
     "output_type": "execute_result"
    }
   ],
   "source": [
    "w2vec.wv.n_similarity([\"B09W9FND7K\", \"B09JSPLN1M\"], [\"B09M7GY217\"])"
   ]
  },
  {
   "cell_type": "code",
   "execution_count": 114,
   "id": "9bd3e83e-001e-4634-a12b-fdfa3e2b8b87",
   "metadata": {},
   "outputs": [],
   "source": [
    "# target_df = train_candidates\n",
    "# data_type = 'train'\n",
    "\n",
    "# def get_w2v_simi(x, col='last_prev_item'):\n",
    "#     try:\n",
    "#         simi = w2vec.wv.similarity(x['next_item_prediction'],\n",
    "#                                                   x[col]\n",
    "#                                                  )\n",
    "#     except Exception as e:\n",
    "#         print(e)\n",
    "#         # print(x[col])\n",
    "#         simi = 0\n",
    "#     return simi\n",
    "\n",
    "def get_w2v_simi(x, col='last_prev_item'):\n",
    "    try:\n",
    "        if isinstance(x[col], str):\n",
    "            target = [x[col]]\n",
    "        else:\n",
    "            target = x[col]\n",
    "        simi = w2vec.wv.n_similarity([x['next_item_prediction']],\n",
    "                                                  target\n",
    "                                                 )\n",
    "    except Exception as e:\n",
    "        print(e)\n",
    "        # print(x[col])\n",
    "        simi = 0\n",
    "    return simi\n",
    "\n",
    "def get_feature(target_df, data_type, nic_model=nic_model):\n",
    "    # if data_type == 'train':\n",
    "    #     basic_info_pl = pl.scan_parquet(os.path.join(base_dir, raw_data_session_id_dir, 'sessions_train.parquet'))\n",
    "    # else:\n",
    "    #     basic_info_pl = pl.scan_parquet(os.path.join(base_dir, raw_data_session_id_dir, 'sessions_test_task1.parquet'))\n",
    "    # basic_info_pl = basic_info_pl.with_columns(\n",
    "    #         pl.col('prev_items').apply(str2list)\n",
    "    #     )\n",
    "    # print(f\"basci_info_pl:\")\n",
    "    # print(basic_info_pl.schema)\n",
    "    # nic model \n",
    "\n",
    "    # target_df = (\n",
    "    #     target_df.explode(['next_item_prediction', 'w2v_weight'])\n",
    "    #     .with_column(\n",
    "    #             pl.col('prev_items').arr.get(-1).alias('last_prev_item')\n",
    "    #         )\n",
    "    #         .join(nic_model, how='left', on=['last_prev_item', 'next_item_prediction'])\n",
    "    #         .with_columns(\n",
    "    #             pl.when(pl.col('next_item_weight').is_null()).then(0).otherwise(pl.col('next_item_weight')).alias('next_item_weight')\n",
    "    #             , pl.struct([\"next_item_prediction\", \"last_prev_item\"]).apply(\n",
    "    #                 lambda x: get_w2v_simi(x)).alias('last_item_similarity')\n",
    "    #             , pl.when(pl.col('locale')=='DE').then(1).when(pl.col('locale')=='DE')\n",
    "    #                 .then(2)\n",
    "    #                 .otherwise(3).alias('locale')\n",
    "    #         ).sort('session_id')\n",
    "    # )\n",
    "    # if data_type != 'test':\n",
    "    #     target_df = (\n",
    "    #         target_df\n",
    "    #             .with_columns(\n",
    "    #                 pl.when(pl.col('next_item')==pl.col('next_item_prediction')).then(1).otherwise(0).alias('target')\n",
    "    #             )\n",
    "    #     )\n",
    "# target_df = train_cg_pl\n",
    "\n",
    "\n",
    "    # data_type = 'train'\n",
    "    target_df = target_df.explode(['next_item_prediction', 'w2v_weight'])\n",
    "\n",
    "    if data_type != 'test':\n",
    "        target_df = (\n",
    "            target_df\n",
    "                .with_columns(\n",
    "                    pl.when(pl.col('next_item')==pl.col('next_item_prediction')).then(1).otherwise(0).alias('target')\n",
    "                )\n",
    "        )\n",
    "\n",
    "    if data_type == 'train':\n",
    "        target_df = target_df.collect()\n",
    "        pos = target_df.filter(pl.col('target')==1)\n",
    "        neg = target_df.filter(pl.col('target')==0).sample(frac=negative_sampling)\n",
    "        target_df = pl.concat([pos, neg], how='vertical')\n",
    "        print(target_df.select('target').mean())\n",
    "\n",
    "    target_df = (\n",
    "            target_df.lazy().with_columns(\n",
    "                    pl.col('prev_items').arr.get(-1).alias('last_prev_item')\n",
    "                ).join(nic_model, how='left', on=['last_prev_item', 'next_item_prediction'])\n",
    "                .with_columns(\n",
    "                    pl.when(pl.col('next_item_weight').is_null()).then(0).otherwise(pl.col('next_item_weight')).alias('next_item_weight')\n",
    "                    , pl.struct([\"next_item_prediction\", \"last_prev_item\"]).apply(\n",
    "                        lambda x: get_w2v_simi(x, col='last_prev_item')).alias('last_item_similarity').cast(pl.Float32)\n",
    "                    , pl.struct([\"next_item_prediction\", \"prev_items\"]).apply(\n",
    "                        lambda x: get_w2v_simi(x, col='prev_items')).alias('prev_item_similarity').cast(pl.Float32)\n",
    "                    , pl.when(pl.col('locale')=='DE').then(1).when(pl.col('locale')=='DE')\n",
    "                        .then(2)\n",
    "                        .otherwise(3).alias('locale')\n",
    "                ).sort('session_id')\n",
    "\n",
    "    )\n",
    "    return target_df\n",
    "# target_df.head(3).collect()"
   ]
  },
  {
   "cell_type": "code",
   "execution_count": 115,
   "id": "39f71f5b-3d19-4293-9f07-149870235f48",
   "metadata": {
    "tags": []
   },
   "outputs": [
    {
     "name": "stdout",
     "output_type": "stream",
     "text": [
      "shape: (1, 1)\n",
      "┌──────────┐\n",
      "│ target   │\n",
      "│ ---      │\n",
      "│ f64      │\n",
      "╞══════════╡\n",
      "│ 0.097466 │\n",
      "└──────────┘\n"
     ]
    }
   ],
   "source": [
    "train_candidates = get_feature(target_df=train_cg_pl, data_type='train')"
   ]
  },
  {
   "cell_type": "code",
   "execution_count": 119,
   "id": "64e4ce3a-23e0-40ef-93f3-336755e66505",
   "metadata": {},
   "outputs": [
    {
     "data": {
      "text/html": [
       "<div><style>\n",
       ".dataframe > thead > tr > th,\n",
       ".dataframe > tbody > tr > td {\n",
       "  text-align: right;\n",
       "}\n",
       "</style>\n",
       "<small>shape: (20, 11)</small><table border=\"1\" class=\"dataframe\"><thead><tr><th>session_id</th><th>next_item_prediction</th><th>w2v_weight</th><th>prev_items</th><th>next_item</th><th>locale</th><th>target</th><th>last_prev_item</th><th>next_item_weight</th><th>last_item_similarity</th><th>prev_item_similarity</th></tr><tr><td>i64</td><td>str</td><td>i64</td><td>list[str]</td><td>str</td><td>i32</td><td>i32</td><td>str</td><td>f64</td><td>f32</td><td>f32</td></tr></thead><tbody><tr><td>938</td><td>&quot;B086QBX758&quot;</td><td>85</td><td>[&quot;B00IU74F6U&quot;, &quot;B09KD5JRDQ&quot;]</td><td>&quot;B091TWDXXB&quot;</td><td>1</td><td>0</td><td>&quot;B09KD5JRDQ&quot;</td><td>0.0</td><td>0.877628</td><td>0.942518</td></tr><tr><td>335</td><td>&quot;B003ODMCJ2&quot;</td><td>59</td><td>[&quot;B00DIW0FP2&quot;, &quot;B00E67G5X4&quot;, &quot;B084G4MJPB&quot;]</td><td>&quot;B01DO5185S&quot;</td><td>1</td><td>0</td><td>&quot;B084G4MJPB&quot;</td><td>0.0</td><td>0.928818</td><td>0.943675</td></tr><tr><td>219</td><td>&quot;B08XY6PJB6&quot;</td><td>42</td><td>[&quot;B084KSHVBQ&quot;, &quot;B084KSHVBQ&quot;]</td><td>&quot;B00LZI47N2&quot;</td><td>1</td><td>0</td><td>&quot;B084KSHVBQ&quot;</td><td>0.0</td><td>0.982158</td><td>0.982158</td></tr><tr><td>161</td><td>&quot;B07QR85J7B&quot;</td><td>0</td><td>[&quot;B08X3HCW5Q&quot;, &quot;B09H6DC9Z5&quot;, … &quot;B09G386KLZ&quot;]</td><td>&quot;B07QR85J7B&quot;</td><td>1</td><td>1</td><td>&quot;B09G386KLZ&quot;</td><td>0.01</td><td>0.92772</td><td>0.965777</td></tr><tr><td>386</td><td>&quot;B09RMYYJ3R&quot;</td><td>26</td><td>[&quot;B098DXKB31&quot;, &quot;B08DPLF6K9&quot;]</td><td>&quot;B08DPNG346&quot;</td><td>1</td><td>0</td><td>&quot;B08DPLF6K9&quot;</td><td>0.0</td><td>0.761656</td><td>0.857338</td></tr><tr><td>129</td><td>&quot;B09Q8FPGKX&quot;</td><td>86</td><td>[&quot;B08R9T375R&quot;, &quot;B09F5L7VX9&quot;, &quot;B07Y1YMXFY&quot;]</td><td>&quot;B07Y1TZMWZ&quot;</td><td>1</td><td>0</td><td>&quot;B07Y1YMXFY&quot;</td><td>0.0</td><td>0.83288</td><td>0.929354</td></tr><tr><td>131</td><td>&quot;B097TN4X9F&quot;</td><td>72</td><td>[&quot;B003BU3XRS&quot;, &quot;B003BU3XRS&quot;]</td><td>&quot;B07Y69W9GX&quot;</td><td>1</td><td>0</td><td>&quot;B003BU3XRS&quot;</td><td>0.0</td><td>0.956873</td><td>0.956873</td></tr><tr><td>548</td><td>&quot;B07G5NNPJV&quot;</td><td>0</td><td>[&quot;B08P91WG55&quot;, &quot;B07LBMVKW8&quot;, &quot;B07H5K9SYS&quot;]</td><td>&quot;B0071LQ1DQ&quot;</td><td>1</td><td>0</td><td>&quot;B07H5K9SYS&quot;</td><td>0.01</td><td>0.822309</td><td>0.835763</td></tr><tr><td>916</td><td>&quot;B007N3BDC6&quot;</td><td>0</td><td>[&quot;B07WS1GQLK&quot;, &quot;B09RMNCMHW&quot;, &quot;B0753929DV&quot;]</td><td>&quot;B07538S1M9&quot;</td><td>1</td><td>0</td><td>&quot;B0753929DV&quot;</td><td>0.01</td><td>0.835747</td><td>0.849841</td></tr><tr><td>226</td><td>&quot;B08GBZQDJ7&quot;</td><td>45</td><td>[&quot;B0B31KQHPF&quot;, &quot;B0B8Z6R3H4&quot;, &quot;B0B4DQ5SFW&quot;]</td><td>&quot;B09F6H1N3B&quot;</td><td>1</td><td>0</td><td>&quot;B0B4DQ5SFW&quot;</td><td>0.0</td><td>0.749982</td><td>0.938466</td></tr><tr><td>884</td><td>&quot;B07GDLGLC2&quot;</td><td>0</td><td>[&quot;B09B96KR2Y&quot;, &quot;B08FR2XTDF&quot;, &quot;B0989B1R3M&quot;]</td><td>&quot;B0B6DC5SHJ&quot;</td><td>1</td><td>0</td><td>&quot;B0989B1R3M&quot;</td><td>0.01</td><td>0.932712</td><td>0.956403</td></tr><tr><td>783</td><td>&quot;B08D99L9ZX&quot;</td><td>2</td><td>[&quot;B071DPB1DN&quot;, &quot;B005HIMQPW&quot;]</td><td>&quot;B085LC52TB&quot;</td><td>1</td><td>0</td><td>&quot;B005HIMQPW&quot;</td><td>0.0</td><td>0.90295</td><td>0.94583</td></tr><tr><td>746</td><td>&quot;B07N5D2H3M&quot;</td><td>45</td><td>[&quot;B09L453PDV&quot;, &quot;B09L4DBBV1&quot;, &quot;B08CRS6GPC&quot;]</td><td>&quot;B07D8LPBJJ&quot;</td><td>1</td><td>0</td><td>&quot;B08CRS6GPC&quot;</td><td>0.0</td><td>0.855243</td><td>0.90514</td></tr><tr><td>247</td><td>&quot;3742322214&quot;</td><td>66</td><td>[&quot;B0BDRQC183&quot;, &quot;B08TB4BQJQ&quot;, … &quot;B092VQCBRV&quot;]</td><td>&quot;B08MDD1SX6&quot;</td><td>1</td><td>0</td><td>&quot;B092VQCBRV&quot;</td><td>0.0</td><td>0.953338</td><td>0.988833</td></tr><tr><td>1036</td><td>&quot;B08TQ8HDNP&quot;</td><td>0</td><td>[&quot;B08PYLGW83&quot;, &quot;B08PYLGW83&quot;]</td><td>&quot;B07XP678P7&quot;</td><td>1</td><td>0</td><td>&quot;B08PYLGW83&quot;</td><td>0.26</td><td>0.922051</td><td>0.922051</td></tr><tr><td>478</td><td>&quot;B0828DR2GW&quot;</td><td>0</td><td>[&quot;B09Y921PQF&quot;, &quot;B09Y91JTVX&quot;, … &quot;B00Q4TI6S4&quot;]</td><td>&quot;B01M0S6VDH&quot;</td><td>1</td><td>0</td><td>&quot;B00Q4TI6S4&quot;</td><td>0.01</td><td>0.446057</td><td>0.486323</td></tr><tr><td>814</td><td>&quot;B09LVN6GGH&quot;</td><td>34</td><td>[&quot;B09D2WRW79&quot;, &quot;B09D2WRW79&quot;, &quot;B09D2WRW79&quot;]</td><td>&quot;B072NZ1R8G&quot;</td><td>1</td><td>0</td><td>&quot;B09D2WRW79&quot;</td><td>0.0</td><td>0.752058</td><td>0.752058</td></tr><tr><td>1049</td><td>&quot;B0B526XT9D&quot;</td><td>30</td><td>[&quot;B07QMSVYL8&quot;, &quot;B07QQZD49D&quot;]</td><td>&quot;B09LSK2PXD&quot;</td><td>1</td><td>0</td><td>&quot;B07QQZD49D&quot;</td><td>0.01</td><td>0.919068</td><td>0.955535</td></tr><tr><td>279</td><td>&quot;B09JBK4T49&quot;</td><td>3</td><td>[&quot;B09V2JR5VQ&quot;, &quot;B09V2K14KS&quot;, … &quot;B0B58DFZD7&quot;]</td><td>&quot;B0B58G6F1N&quot;</td><td>1</td><td>0</td><td>&quot;B0B58DFZD7&quot;</td><td>0.0</td><td>0.786107</td><td>0.750677</td></tr><tr><td>717</td><td>&quot;B08K13TJS3&quot;</td><td>64</td><td>[&quot;B08WPDD6GD&quot;, &quot;B0143UM4TC&quot;, … &quot;B09VCHR1VH&quot;]</td><td>&quot;B08KBSRYGF&quot;</td><td>1</td><td>0</td><td>&quot;B09VCHR1VH&quot;</td><td>0.0</td><td>0.925195</td><td>0.945376</td></tr></tbody></table></div>"
      ],
      "text/plain": [
       "shape: (20, 11)\n",
       "┌──────────┬────────────┬──────────┬──────────┬───┬────────────┬────────────┬────────────┬────────────┐\n",
       "│ session_ ┆ next_item_ ┆ w2v_weig ┆ prev_ite ┆ … ┆ last_prev_ ┆ next_item_ ┆ last_item_ ┆ prev_item_ │\n",
       "│ id       ┆ prediction ┆ ht       ┆ ms       ┆   ┆ item       ┆ weight     ┆ similarity ┆ similarity │\n",
       "│ ---      ┆ ---        ┆ ---      ┆ ---      ┆   ┆ ---        ┆ ---        ┆ ---        ┆ ---        │\n",
       "│ i64      ┆ str        ┆ i64      ┆ list[str ┆   ┆ str        ┆ f64        ┆ f32        ┆ f32        │\n",
       "│          ┆            ┆          ┆ ]        ┆   ┆            ┆            ┆            ┆            │\n",
       "╞══════════╪════════════╪══════════╪══════════╪═══╪════════════╪════════════╪════════════╪════════════╡\n",
       "│ 938      ┆ B086QBX758 ┆ 85       ┆ [\"B00IU7 ┆ … ┆ B09KD5JRDQ ┆ 0.0        ┆ 0.877628   ┆ 0.942518   │\n",
       "│          ┆            ┆          ┆ 4F6U\",   ┆   ┆            ┆            ┆            ┆            │\n",
       "│          ┆            ┆          ┆ \"B09KD5J ┆   ┆            ┆            ┆            ┆            │\n",
       "│          ┆            ┆          ┆ RDQ\"]    ┆   ┆            ┆            ┆            ┆            │\n",
       "│ 335      ┆ B003ODMCJ2 ┆ 59       ┆ [\"B00DIW ┆ … ┆ B084G4MJPB ┆ 0.0        ┆ 0.928818   ┆ 0.943675   │\n",
       "│          ┆            ┆          ┆ 0FP2\",   ┆   ┆            ┆            ┆            ┆            │\n",
       "│          ┆            ┆          ┆ \"B00E67G ┆   ┆            ┆            ┆            ┆            │\n",
       "│          ┆            ┆          ┆ 5X4\",    ┆   ┆            ┆            ┆            ┆            │\n",
       "│          ┆            ┆          ┆ \"B0…     ┆   ┆            ┆            ┆            ┆            │\n",
       "│ 219      ┆ B08XY6PJB6 ┆ 42       ┆ [\"B084KS ┆ … ┆ B084KSHVBQ ┆ 0.0        ┆ 0.982158   ┆ 0.982158   │\n",
       "│          ┆            ┆          ┆ HVBQ\",   ┆   ┆            ┆            ┆            ┆            │\n",
       "│          ┆            ┆          ┆ \"B084KSH ┆   ┆            ┆            ┆            ┆            │\n",
       "│          ┆            ┆          ┆ VBQ\"]    ┆   ┆            ┆            ┆            ┆            │\n",
       "│ 161      ┆ B07QR85J7B ┆ 0        ┆ [\"B08X3H ┆ … ┆ B09G386KLZ ┆ 0.01       ┆ 0.92772    ┆ 0.965777   │\n",
       "│          ┆            ┆          ┆ CW5Q\",   ┆   ┆            ┆            ┆            ┆            │\n",
       "│          ┆            ┆          ┆ \"B09H6DC ┆   ┆            ┆            ┆            ┆            │\n",
       "│          ┆            ┆          ┆ 9Z5\", …  ┆   ┆            ┆            ┆            ┆            │\n",
       "│          ┆            ┆          ┆ \"…       ┆   ┆            ┆            ┆            ┆            │\n",
       "│ …        ┆ …          ┆ …        ┆ …        ┆ … ┆ …          ┆ …          ┆ …          ┆ …          │\n",
       "│ 814      ┆ B09LVN6GGH ┆ 34       ┆ [\"B09D2W ┆ … ┆ B09D2WRW79 ┆ 0.0        ┆ 0.752058   ┆ 0.752058   │\n",
       "│          ┆            ┆          ┆ RW79\",   ┆   ┆            ┆            ┆            ┆            │\n",
       "│          ┆            ┆          ┆ \"B09D2WR ┆   ┆            ┆            ┆            ┆            │\n",
       "│          ┆            ┆          ┆ W79\",    ┆   ┆            ┆            ┆            ┆            │\n",
       "│          ┆            ┆          ┆ \"B0…     ┆   ┆            ┆            ┆            ┆            │\n",
       "│ 1049     ┆ B0B526XT9D ┆ 30       ┆ [\"B07QMS ┆ … ┆ B07QQZD49D ┆ 0.01       ┆ 0.919068   ┆ 0.955535   │\n",
       "│          ┆            ┆          ┆ VYL8\",   ┆   ┆            ┆            ┆            ┆            │\n",
       "│          ┆            ┆          ┆ \"B07QQZD ┆   ┆            ┆            ┆            ┆            │\n",
       "│          ┆            ┆          ┆ 49D\"]    ┆   ┆            ┆            ┆            ┆            │\n",
       "│ 279      ┆ B09JBK4T49 ┆ 3        ┆ [\"B09V2J ┆ … ┆ B0B58DFZD7 ┆ 0.0        ┆ 0.786107   ┆ 0.750677   │\n",
       "│          ┆            ┆          ┆ R5VQ\",   ┆   ┆            ┆            ┆            ┆            │\n",
       "│          ┆            ┆          ┆ \"B09V2K1 ┆   ┆            ┆            ┆            ┆            │\n",
       "│          ┆            ┆          ┆ 4KS\", …  ┆   ┆            ┆            ┆            ┆            │\n",
       "│          ┆            ┆          ┆ \"…       ┆   ┆            ┆            ┆            ┆            │\n",
       "│ 717      ┆ B08K13TJS3 ┆ 64       ┆ [\"B08WPD ┆ … ┆ B09VCHR1VH ┆ 0.0        ┆ 0.925195   ┆ 0.945376   │\n",
       "│          ┆            ┆          ┆ D6GD\",   ┆   ┆            ┆            ┆            ┆            │\n",
       "│          ┆            ┆          ┆ \"B0143UM ┆   ┆            ┆            ┆            ┆            │\n",
       "│          ┆            ┆          ┆ 4TC\", …  ┆   ┆            ┆            ┆            ┆            │\n",
       "│          ┆            ┆          ┆ \"…       ┆   ┆            ┆            ┆            ┆            │\n",
       "└──────────┴────────────┴──────────┴──────────┴───┴────────────┴────────────┴────────────┴────────────┘"
      ]
     },
     "execution_count": 119,
     "metadata": {},
     "output_type": "execute_result"
    }
   ],
   "source": [
    "train_candidates.collect().sample(20)"
   ]
  },
  {
   "cell_type": "code",
   "execution_count": null,
   "id": "40b7ea30-56be-48dc-9cec-b1c60a08aa99",
   "metadata": {},
   "outputs": [],
   "source": []
  },
  {
   "cell_type": "code",
   "execution_count": null,
   "id": "e6e402b3-a504-46a9-82d1-1314bc2f93bf",
   "metadata": {},
   "outputs": [],
   "source": []
  },
  {
   "cell_type": "code",
   "execution_count": 53,
   "id": "69b049ba-2747-49be-a29a-636f20b9caf7",
   "metadata": {},
   "outputs": [
    {
     "name": "stderr",
     "output_type": "stream",
     "text": [
      "/var/tmp/ipykernel_13514/4243057303.py:69: DeprecationWarning: `LazyFrame.with_column` has been renamed; this redirect is temporary, please use `.with_columns` instead\n",
      "  target_df.lazy().with_column(\n"
     ]
    }
   ],
   "source": [
    "eval_candidates = get_feature(target_df=eval_cg_pl, data_type='eval')"
   ]
  },
  {
   "cell_type": "code",
   "execution_count": 46,
   "id": "5ed5d7a9-2bc4-414f-9acf-3ff63bbe62a0",
   "metadata": {},
   "outputs": [],
   "source": [
    "# eval_candidates.collect()"
   ]
  },
  {
   "cell_type": "code",
   "execution_count": null,
   "id": "76ab3146-968a-4ce7-ad00-f258ad5f1280",
   "metadata": {},
   "outputs": [],
   "source": []
  },
  {
   "cell_type": "code",
   "execution_count": 47,
   "id": "7541c782-008b-4abe-ab89-0c60dd850f29",
   "metadata": {},
   "outputs": [],
   "source": [
    "# target_df = eval_cg_pl\n",
    "# data_type = 'eval'\n",
    "# (\n",
    "#     target_df.explode(['next_item_prediction', 'w2v_weight'])\n",
    "#     .with_column(\n",
    "#             pl.col('prev_items').arr.get(-1).alias('last_prev_item')\n",
    "#         )\n",
    "#         .join(nic_model, how='left', on=['last_prev_item', 'next_item_prediction'])\n",
    "#         .with_columns(\n",
    "#             pl.when(pl.col('next_item_weight').is_null()).then(0).otherwise(pl.col('next_item_weight')).alias('next_item_weight')\n",
    "#             # , pl.struct([\"next_item_prediction\", \"last_prev_item\"]).apply(\n",
    "#             #     lambda x: w2vec.wv.similarity(x['next_item_prediction'],\n",
    "#             #                                   x['last_prev_item']\n",
    "#             #                                  )).alias('last_item_similarity')\n",
    "#             , pl.when(pl.col('locale')=='DE').then(1).when(pl.col('locale')=='DE')\n",
    "#                 .then(2)\n",
    "#                 .otherwise(3).alias('locale')\n",
    "#         ).sort('session_id')\n",
    "# ).head().collect()\n",
    "# # if data_type != 'test':\n",
    "# #     target_df = (\n",
    "# #         target_df\n",
    "# #             .with_columns(\n",
    "# #                 pl.when(pl.col('next_item')==pl.col('next_item_prediction')).then(1).otherwise(0).alias('target')\n",
    "# #             )\n",
    "# #     )\n",
    "# # target_df.head().collect()"
   ]
  },
  {
   "cell_type": "code",
   "execution_count": 48,
   "id": "b80fa206-d523-4270-8851-ce7611d1d054",
   "metadata": {},
   "outputs": [],
   "source": [
    "# eval_candidates.head().collect()"
   ]
  },
  {
   "cell_type": "code",
   "execution_count": 49,
   "id": "808ef50f-332e-4a76-b477-cd5889e113a5",
   "metadata": {},
   "outputs": [],
   "source": [
    "# test_candidates.collect()"
   ]
  },
  {
   "cell_type": "code",
   "execution_count": 50,
   "id": "75a04b21-d7cc-4e57-b088-79367fb9d917",
   "metadata": {},
   "outputs": [],
   "source": [
    "# test_candidates.head().collect()"
   ]
  },
  {
   "cell_type": "code",
   "execution_count": null,
   "id": "7c6aa5f0-157b-4cb6-a425-f444ab1b93c1",
   "metadata": {},
   "outputs": [],
   "source": []
  },
  {
   "cell_type": "markdown",
   "id": "ed548a53-924e-4fbf-864c-06cfedc6f9cc",
   "metadata": {
    "tags": []
   },
   "source": [
    "# Ranker "
   ]
  },
  {
   "cell_type": "markdown",
   "id": "c198ffca-bbd1-4d7c-a507-668daa2e805c",
   "metadata": {},
   "source": [
    "## Config "
   ]
  },
  {
   "cell_type": "code",
   "execution_count": 54,
   "id": "39854b22-9372-4e17-9aaa-a9cd619ab344",
   "metadata": {},
   "outputs": [],
   "source": [
    "estimator = 10\n",
    "if debug:\n",
    "    estimator = 3\n",
    "    \n",
    "target = 'target'\n",
    "feature_cols = [\n",
    "    # 'whether_w2v'\n",
    "    # , 'whether_nic'\n",
    "    'next_item_weight'\n",
    "    , 'locale'\n",
    "    , 'w2v_weight'\n",
    "    , 'last_item_similarity'\n",
    "]\n",
    "\n",
    "categorical_feature=['locale']"
   ]
  },
  {
   "cell_type": "code",
   "execution_count": 52,
   "id": "a4007e16-cbd7-49cd-b120-24779fb5a6a0",
   "metadata": {},
   "outputs": [],
   "source": [
    "# train_candidates.head().collect()[feature_cols + [target]]"
   ]
  },
  {
   "cell_type": "markdown",
   "id": "0089a10a-3cfc-42fd-ad5a-1b51d7fa35a0",
   "metadata": {
    "tags": []
   },
   "source": [
    "## Train model"
   ]
  },
  {
   "cell_type": "code",
   "execution_count": 53,
   "id": "c9cefad8-b343-4eb4-8d86-96349cdc4fcf",
   "metadata": {},
   "outputs": [],
   "source": [
    "# train_candidates = train_candidates.sort('session_id')\n",
    "\n",
    "\n",
    "# .head(100).collect()"
   ]
  },
  {
   "cell_type": "code",
   "execution_count": 54,
   "id": "45c77953-05c4-404e-82e2-daf4ecd137d5",
   "metadata": {},
   "outputs": [],
   "source": [
    "ranker = LGBMRanker(\n",
    "    objective=\"lambdarank\",\n",
    "    metric=\"ndcg\",\n",
    "    boosting_type=\"dart\",\n",
    "    n_estimators=estimator, \n",
    "    importance_type='gain',\n",
    "    eval_at=[5]\n",
    ")"
   ]
  },
  {
   "cell_type": "code",
   "execution_count": 55,
   "id": "7a0e4054-3eed-4444-80a0-69e5f3071037",
   "metadata": {},
   "outputs": [
    {
     "data": {
      "text/plain": [
       "(39883137, 10)"
      ]
     },
     "execution_count": 55,
     "metadata": {},
     "output_type": "execute_result"
    }
   ],
   "source": [
    "train_candidates = train_candidates.collect()\n",
    "train_candidates.shape"
   ]
  },
  {
   "cell_type": "code",
   "execution_count": 56,
   "id": "0e8b2b6d-bb00-4587-9329-84a7867ba37a",
   "metadata": {},
   "outputs": [
    {
     "name": "stdout",
     "output_type": "stream",
     "text": [
      "shape: (1, 1)\n",
      "┌──────────┐\n",
      "│ target   │\n",
      "│ ---      │\n",
      "│ f64      │\n",
      "╞══════════╡\n",
      "│ 0.100714 │\n",
      "└──────────┘\n"
     ]
    }
   ],
   "source": [
    "print(train_candidates.select('target').mean())\n"
   ]
  },
  {
   "cell_type": "code",
   "execution_count": 57,
   "id": "3c097342-dabf-48b4-8178-4f7619828497",
   "metadata": {},
   "outputs": [
    {
     "data": {
      "text/plain": [
       "(40019694, 10)"
      ]
     },
     "execution_count": 57,
     "metadata": {},
     "output_type": "execute_result"
    }
   ],
   "source": [
    "eval_candidates = eval_candidates.collect()\n",
    "eval_candidates.shape"
   ]
  },
  {
   "cell_type": "code",
   "execution_count": 58,
   "id": "8e048d5e-6f24-4921-936a-4e91185b0819",
   "metadata": {},
   "outputs": [
    {
     "name": "stdout",
     "output_type": "stream",
     "text": [
      "shape: (1, 1)\n",
      "┌──────────┐\n",
      "│ target   │\n",
      "│ ---      │\n",
      "│ f64      │\n",
      "╞══════════╡\n",
      "│ 0.006248 │\n",
      "└──────────┘\n"
     ]
    }
   ],
   "source": [
    "print(eval_candidates.select('target').mean())\n"
   ]
  },
  {
   "cell_type": "code",
   "execution_count": 59,
   "id": "b9553bb1-2484-4216-a7c5-c75420d4c0e4",
   "metadata": {},
   "outputs": [],
   "source": [
    "session_lengths_train = train_candidates.groupby('session_id').agg(pl.count()).select('count').to_pandas()['count'].values.tolist()\n",
    "session_lengths_eval = eval_candidates.groupby('session_id').agg(pl.count()).select('count').to_pandas()['count'].values.tolist()"
   ]
  },
  {
   "cell_type": "code",
   "execution_count": 60,
   "id": "c1359935-744e-4097-a404-513d6202b7da",
   "metadata": {},
   "outputs": [
    {
     "name": "stderr",
     "output_type": "stream",
     "text": [
      "/home/jupyter/.cache/pypoetry/virtualenvs/kdd-2023-KklMGVX0-py3.8/lib/python3.8/site-packages/lightgbm/sklearn.py:621: UserWarning: Found 'eval_at' in params. Will use it instead of 'eval_at' argument\n",
      "  _log_warning(f\"Found '{alias}' in params. Will use it instead of 'eval_at' argument\")\n",
      "/home/jupyter/.cache/pypoetry/virtualenvs/kdd-2023-KklMGVX0-py3.8/lib/python3.8/site-packages/lightgbm/basic.py:2065: UserWarning: Using categorical_feature in Dataset.\n",
      "  _log_warning('Using categorical_feature in Dataset.')\n",
      "/home/jupyter/.cache/pypoetry/virtualenvs/kdd-2023-KklMGVX0-py3.8/lib/python3.8/site-packages/lightgbm/basic.py:2068: UserWarning: categorical_feature in Dataset is overridden.\n",
      "New categorical_feature is ['locale']\n",
      "  _log_warning('categorical_feature in Dataset is overridden.\\n'\n",
      "/home/jupyter/.cache/pypoetry/virtualenvs/kdd-2023-KklMGVX0-py3.8/lib/python3.8/site-packages/lightgbm/basic.py:1780: UserWarning: Overriding the parameters from Reference Dataset.\n",
      "  _log_warning('Overriding the parameters from Reference Dataset.')\n",
      "/home/jupyter/.cache/pypoetry/virtualenvs/kdd-2023-KklMGVX0-py3.8/lib/python3.8/site-packages/lightgbm/basic.py:1513: UserWarning: categorical_column in param dict is overridden.\n",
      "  _log_warning(f'{cat_alias} in param dict is overridden.')\n",
      "/home/jupyter/.cache/pypoetry/virtualenvs/kdd-2023-KklMGVX0-py3.8/lib/python3.8/site-packages/lightgbm/basic.py:1780: UserWarning: Overriding the parameters from Reference Dataset.\n",
      "  _log_warning('Overriding the parameters from Reference Dataset.')\n",
      "/home/jupyter/.cache/pypoetry/virtualenvs/kdd-2023-KklMGVX0-py3.8/lib/python3.8/site-packages/lightgbm/basic.py:1513: UserWarning: categorical_column in param dict is overridden.\n",
      "  _log_warning(f'{cat_alias} in param dict is overridden.')\n"
     ]
    },
    {
     "name": "stdout",
     "output_type": "stream",
     "text": [
      "[1]\tvalid_0's ndcg@5: 0.859077\tvalid_1's ndcg@5: 0.770728\n",
      "[2]\tvalid_0's ndcg@5: 0.85267\tvalid_1's ndcg@5: 0.769357\n",
      "[3]\tvalid_0's ndcg@5: 0.845334\tvalid_1's ndcg@5: 0.771173\n",
      "[4]\tvalid_0's ndcg@5: 0.84483\tvalid_1's ndcg@5: 0.771243\n",
      "[5]\tvalid_0's ndcg@5: 0.841044\tvalid_1's ndcg@5: 0.771131\n",
      "[6]\tvalid_0's ndcg@5: 0.840387\tvalid_1's ndcg@5: 0.771163\n",
      "[7]\tvalid_0's ndcg@5: 0.839692\tvalid_1's ndcg@5: 0.771436\n",
      "[8]\tvalid_0's ndcg@5: 0.839389\tvalid_1's ndcg@5: 0.771334\n",
      "[9]\tvalid_0's ndcg@5: 0.839531\tvalid_1's ndcg@5: 0.771612\n",
      "[10]\tvalid_0's ndcg@5: 0.838751\tvalid_1's ndcg@5: 0.771461\n"
     ]
    }
   ],
   "source": [
    "ranker = ranker.fit(\n",
    "    X=train_candidates[feature_cols].to_pandas(),\n",
    "    y=train_candidates[target].to_pandas(),\n",
    "    group=session_lengths_train,\n",
    "    eval_set=[(train_candidates[feature_cols].to_pandas(), train_candidates[target].to_pandas()),\n",
    "           (eval_candidates[feature_cols].to_pandas(), eval_candidates[target].to_pandas())\n",
    "             ],\n",
    "    eval_group=[session_lengths_train,\n",
    "                session_lengths_eval\n",
    "               ]\n",
    "    , categorical_feature=categorical_feature\n",
    "    # , early_stopping_rounds=\n",
    ")"
   ]
  },
  {
   "cell_type": "code",
   "execution_count": 61,
   "id": "ab945c39-35af-411e-973b-1a8f10128d8d",
   "metadata": {},
   "outputs": [
    {
     "name": "stdout",
     "output_type": "stream",
     "text": [
      "6.670078314840794\n"
     ]
    }
   ],
   "source": [
    "print(train_candidates.estimated_size(unit='gb'))\n",
    "del train_candidates"
   ]
  },
  {
   "cell_type": "code",
   "execution_count": 62,
   "id": "51330d86-54e9-4bf7-86f7-e0267f758334",
   "metadata": {},
   "outputs": [
    {
     "name": "stdout",
     "output_type": "stream",
     "text": [
      "6.703331420198083\n"
     ]
    }
   ],
   "source": [
    "print(eval_candidates.estimated_size(unit='gb'))\n",
    "del eval_candidates"
   ]
  },
  {
   "cell_type": "markdown",
   "id": "8860953a-3893-4b28-a1f1-83f112d8a6e5",
   "metadata": {},
   "source": [
    "## Save model "
   ]
  },
  {
   "cell_type": "code",
   "execution_count": 64,
   "id": "07ed68af-07cd-42dd-98cd-670f4cfffc9c",
   "metadata": {},
   "outputs": [
    {
     "data": {
      "text/plain": [
       "['../model_training/rank_lgbm/model.pkl']"
      ]
     },
     "execution_count": 64,
     "metadata": {},
     "output_type": "execute_result"
    }
   ],
   "source": [
    "joblib.dump(\n",
    "        value=ranker,\n",
    "        filename=os.path.join(rank_model_dir, 'model.pkl')\n",
    ")"
   ]
  },
  {
   "cell_type": "code",
   "execution_count": null,
   "id": "6f398ded-7ecc-4e20-bfad-7b094ddd0f93",
   "metadata": {},
   "outputs": [],
   "source": [
    "del ranker"
   ]
  },
  {
   "cell_type": "markdown",
   "id": "20e5c013-9463-4fee-8444-964885196103",
   "metadata": {
    "tags": []
   },
   "source": [
    "## Load Model "
   ]
  },
  {
   "cell_type": "code",
   "execution_count": 65,
   "id": "6b348b18-ca5b-4534-b7bd-c1c3dc16be33",
   "metadata": {},
   "outputs": [],
   "source": []
  },
  {
   "cell_type": "code",
   "execution_count": 55,
   "id": "d3bad696-190d-42bf-ad7d-f8ecc7b5f80d",
   "metadata": {},
   "outputs": [
    {
     "data": {
      "text/html": [
       "<style>#sk-container-id-1 {color: black;background-color: white;}#sk-container-id-1 pre{padding: 0;}#sk-container-id-1 div.sk-toggleable {background-color: white;}#sk-container-id-1 label.sk-toggleable__label {cursor: pointer;display: block;width: 100%;margin-bottom: 0;padding: 0.3em;box-sizing: border-box;text-align: center;}#sk-container-id-1 label.sk-toggleable__label-arrow:before {content: \"▸\";float: left;margin-right: 0.25em;color: #696969;}#sk-container-id-1 label.sk-toggleable__label-arrow:hover:before {color: black;}#sk-container-id-1 div.sk-estimator:hover label.sk-toggleable__label-arrow:before {color: black;}#sk-container-id-1 div.sk-toggleable__content {max-height: 0;max-width: 0;overflow: hidden;text-align: left;background-color: #f0f8ff;}#sk-container-id-1 div.sk-toggleable__content pre {margin: 0.2em;color: black;border-radius: 0.25em;background-color: #f0f8ff;}#sk-container-id-1 input.sk-toggleable__control:checked~div.sk-toggleable__content {max-height: 200px;max-width: 100%;overflow: auto;}#sk-container-id-1 input.sk-toggleable__control:checked~label.sk-toggleable__label-arrow:before {content: \"▾\";}#sk-container-id-1 div.sk-estimator input.sk-toggleable__control:checked~label.sk-toggleable__label {background-color: #d4ebff;}#sk-container-id-1 div.sk-label input.sk-toggleable__control:checked~label.sk-toggleable__label {background-color: #d4ebff;}#sk-container-id-1 input.sk-hidden--visually {border: 0;clip: rect(1px 1px 1px 1px);clip: rect(1px, 1px, 1px, 1px);height: 1px;margin: -1px;overflow: hidden;padding: 0;position: absolute;width: 1px;}#sk-container-id-1 div.sk-estimator {font-family: monospace;background-color: #f0f8ff;border: 1px dotted black;border-radius: 0.25em;box-sizing: border-box;margin-bottom: 0.5em;}#sk-container-id-1 div.sk-estimator:hover {background-color: #d4ebff;}#sk-container-id-1 div.sk-parallel-item::after {content: \"\";width: 100%;border-bottom: 1px solid gray;flex-grow: 1;}#sk-container-id-1 div.sk-label:hover label.sk-toggleable__label {background-color: #d4ebff;}#sk-container-id-1 div.sk-serial::before {content: \"\";position: absolute;border-left: 1px solid gray;box-sizing: border-box;top: 0;bottom: 0;left: 50%;z-index: 0;}#sk-container-id-1 div.sk-serial {display: flex;flex-direction: column;align-items: center;background-color: white;padding-right: 0.2em;padding-left: 0.2em;position: relative;}#sk-container-id-1 div.sk-item {position: relative;z-index: 1;}#sk-container-id-1 div.sk-parallel {display: flex;align-items: stretch;justify-content: center;background-color: white;position: relative;}#sk-container-id-1 div.sk-item::before, #sk-container-id-1 div.sk-parallel-item::before {content: \"\";position: absolute;border-left: 1px solid gray;box-sizing: border-box;top: 0;bottom: 0;left: 50%;z-index: -1;}#sk-container-id-1 div.sk-parallel-item {display: flex;flex-direction: column;z-index: 1;position: relative;background-color: white;}#sk-container-id-1 div.sk-parallel-item:first-child::after {align-self: flex-end;width: 50%;}#sk-container-id-1 div.sk-parallel-item:last-child::after {align-self: flex-start;width: 50%;}#sk-container-id-1 div.sk-parallel-item:only-child::after {width: 0;}#sk-container-id-1 div.sk-dashed-wrapped {border: 1px dashed gray;margin: 0 0.4em 0.5em 0.4em;box-sizing: border-box;padding-bottom: 0.4em;background-color: white;}#sk-container-id-1 div.sk-label label {font-family: monospace;font-weight: bold;display: inline-block;line-height: 1.2em;}#sk-container-id-1 div.sk-label-container {text-align: center;}#sk-container-id-1 div.sk-container {/* jupyter's `normalize.less` sets `[hidden] { display: none; }` but bootstrap.min.css set `[hidden] { display: none !important; }` so we also need the `!important` here to be able to override the default hidden behavior on the sphinx rendered scikit-learn.org. See: https://github.com/scikit-learn/scikit-learn/issues/21755 */display: inline-block !important;position: relative;}#sk-container-id-1 div.sk-text-repr-fallback {display: none;}</style><div id=\"sk-container-id-1\" class=\"sk-top-container\"><div class=\"sk-text-repr-fallback\"><pre>LGBMRanker(boosting_type=&#x27;dart&#x27;, eval_at=[5], importance_type=&#x27;gain&#x27;,\n",
       "           metric=&#x27;ndcg&#x27;, n_estimators=10, objective=&#x27;lambdarank&#x27;)</pre><b>In a Jupyter environment, please rerun this cell to show the HTML representation or trust the notebook. <br />On GitHub, the HTML representation is unable to render, please try loading this page with nbviewer.org.</b></div><div class=\"sk-container\" hidden><div class=\"sk-item\"><div class=\"sk-estimator sk-toggleable\"><input class=\"sk-toggleable__control sk-hidden--visually\" id=\"sk-estimator-id-1\" type=\"checkbox\" checked><label for=\"sk-estimator-id-1\" class=\"sk-toggleable__label sk-toggleable__label-arrow\">LGBMRanker</label><div class=\"sk-toggleable__content\"><pre>LGBMRanker(boosting_type=&#x27;dart&#x27;, eval_at=[5], importance_type=&#x27;gain&#x27;,\n",
       "           metric=&#x27;ndcg&#x27;, n_estimators=10, objective=&#x27;lambdarank&#x27;)</pre></div></div></div></div></div>"
      ],
      "text/plain": [
       "LGBMRanker(boosting_type='dart', eval_at=[5], importance_type='gain',\n",
       "           metric='ndcg', n_estimators=10, objective='lambdarank')"
      ]
     },
     "execution_count": 55,
     "metadata": {},
     "output_type": "execute_result"
    }
   ],
   "source": [
    "ranker = joblib.load(os.path.join(rank_model_dir, 'model.pkl'))\n",
    "ranker"
   ]
  },
  {
   "cell_type": "markdown",
   "id": "b6b81a4e-3275-4503-bab7-6f8cb0ac4841",
   "metadata": {},
   "source": [
    "### Importance "
   ]
  },
  {
   "cell_type": "code",
   "execution_count": 3,
   "id": "94c3578b-1906-4721-b2dc-e6203b870cd1",
   "metadata": {},
   "outputs": [
    {
     "data": {
      "text/html": [
       "<style>#sk-container-id-1 {color: black;background-color: white;}#sk-container-id-1 pre{padding: 0;}#sk-container-id-1 div.sk-toggleable {background-color: white;}#sk-container-id-1 label.sk-toggleable__label {cursor: pointer;display: block;width: 100%;margin-bottom: 0;padding: 0.3em;box-sizing: border-box;text-align: center;}#sk-container-id-1 label.sk-toggleable__label-arrow:before {content: \"▸\";float: left;margin-right: 0.25em;color: #696969;}#sk-container-id-1 label.sk-toggleable__label-arrow:hover:before {color: black;}#sk-container-id-1 div.sk-estimator:hover label.sk-toggleable__label-arrow:before {color: black;}#sk-container-id-1 div.sk-toggleable__content {max-height: 0;max-width: 0;overflow: hidden;text-align: left;background-color: #f0f8ff;}#sk-container-id-1 div.sk-toggleable__content pre {margin: 0.2em;color: black;border-radius: 0.25em;background-color: #f0f8ff;}#sk-container-id-1 input.sk-toggleable__control:checked~div.sk-toggleable__content {max-height: 200px;max-width: 100%;overflow: auto;}#sk-container-id-1 input.sk-toggleable__control:checked~label.sk-toggleable__label-arrow:before {content: \"▾\";}#sk-container-id-1 div.sk-estimator input.sk-toggleable__control:checked~label.sk-toggleable__label {background-color: #d4ebff;}#sk-container-id-1 div.sk-label input.sk-toggleable__control:checked~label.sk-toggleable__label {background-color: #d4ebff;}#sk-container-id-1 input.sk-hidden--visually {border: 0;clip: rect(1px 1px 1px 1px);clip: rect(1px, 1px, 1px, 1px);height: 1px;margin: -1px;overflow: hidden;padding: 0;position: absolute;width: 1px;}#sk-container-id-1 div.sk-estimator {font-family: monospace;background-color: #f0f8ff;border: 1px dotted black;border-radius: 0.25em;box-sizing: border-box;margin-bottom: 0.5em;}#sk-container-id-1 div.sk-estimator:hover {background-color: #d4ebff;}#sk-container-id-1 div.sk-parallel-item::after {content: \"\";width: 100%;border-bottom: 1px solid gray;flex-grow: 1;}#sk-container-id-1 div.sk-label:hover label.sk-toggleable__label {background-color: #d4ebff;}#sk-container-id-1 div.sk-serial::before {content: \"\";position: absolute;border-left: 1px solid gray;box-sizing: border-box;top: 0;bottom: 0;left: 50%;z-index: 0;}#sk-container-id-1 div.sk-serial {display: flex;flex-direction: column;align-items: center;background-color: white;padding-right: 0.2em;padding-left: 0.2em;position: relative;}#sk-container-id-1 div.sk-item {position: relative;z-index: 1;}#sk-container-id-1 div.sk-parallel {display: flex;align-items: stretch;justify-content: center;background-color: white;position: relative;}#sk-container-id-1 div.sk-item::before, #sk-container-id-1 div.sk-parallel-item::before {content: \"\";position: absolute;border-left: 1px solid gray;box-sizing: border-box;top: 0;bottom: 0;left: 50%;z-index: -1;}#sk-container-id-1 div.sk-parallel-item {display: flex;flex-direction: column;z-index: 1;position: relative;background-color: white;}#sk-container-id-1 div.sk-parallel-item:first-child::after {align-self: flex-end;width: 50%;}#sk-container-id-1 div.sk-parallel-item:last-child::after {align-self: flex-start;width: 50%;}#sk-container-id-1 div.sk-parallel-item:only-child::after {width: 0;}#sk-container-id-1 div.sk-dashed-wrapped {border: 1px dashed gray;margin: 0 0.4em 0.5em 0.4em;box-sizing: border-box;padding-bottom: 0.4em;background-color: white;}#sk-container-id-1 div.sk-label label {font-family: monospace;font-weight: bold;display: inline-block;line-height: 1.2em;}#sk-container-id-1 div.sk-label-container {text-align: center;}#sk-container-id-1 div.sk-container {/* jupyter's `normalize.less` sets `[hidden] { display: none; }` but bootstrap.min.css set `[hidden] { display: none !important; }` so we also need the `!important` here to be able to override the default hidden behavior on the sphinx rendered scikit-learn.org. See: https://github.com/scikit-learn/scikit-learn/issues/21755 */display: inline-block !important;position: relative;}#sk-container-id-1 div.sk-text-repr-fallback {display: none;}</style><div id=\"sk-container-id-1\" class=\"sk-top-container\"><div class=\"sk-text-repr-fallback\"><pre>LGBMRanker(eval_at=[3], importance_type=&#x27;gain&#x27;, metric=&#x27;ndcg&#x27;,\n",
       "           n_estimators=1000, objective=&#x27;lambdarank&#x27;)</pre><b>In a Jupyter environment, please rerun this cell to show the HTML representation or trust the notebook. <br />On GitHub, the HTML representation is unable to render, please try loading this page with nbviewer.org.</b></div><div class=\"sk-container\" hidden><div class=\"sk-item\"><div class=\"sk-estimator sk-toggleable\"><input class=\"sk-toggleable__control sk-hidden--visually\" id=\"sk-estimator-id-1\" type=\"checkbox\" checked><label for=\"sk-estimator-id-1\" class=\"sk-toggleable__label sk-toggleable__label-arrow\">LGBMRanker</label><div class=\"sk-toggleable__content\"><pre>LGBMRanker(eval_at=[3], importance_type=&#x27;gain&#x27;, metric=&#x27;ndcg&#x27;,\n",
       "           n_estimators=1000, objective=&#x27;lambdarank&#x27;)</pre></div></div></div></div></div>"
      ],
      "text/plain": [
       "LGBMRanker(eval_at=[3], importance_type='gain', metric='ndcg',\n",
       "           n_estimators=1000, objective='lambdarank')"
      ]
     },
     "execution_count": 3,
     "metadata": {},
     "output_type": "execute_result"
    }
   ],
   "source": [
    "# ranker"
   ]
  },
  {
   "cell_type": "code",
   "execution_count": 4,
   "id": "3a9816e2-9099-42af-a194-4274dce5ab36",
   "metadata": {},
   "outputs": [
    {
     "data": {
      "text/html": [
       "<div>\n",
       "<style scoped>\n",
       "    .dataframe tbody tr th:only-of-type {\n",
       "        vertical-align: middle;\n",
       "    }\n",
       "\n",
       "    .dataframe tbody tr th {\n",
       "        vertical-align: top;\n",
       "    }\n",
       "\n",
       "    .dataframe thead th {\n",
       "        text-align: right;\n",
       "    }\n",
       "</style>\n",
       "<table border=\"1\" class=\"dataframe\">\n",
       "  <thead>\n",
       "    <tr style=\"text-align: right;\">\n",
       "      <th></th>\n",
       "      <th>features</th>\n",
       "      <th>importance</th>\n",
       "    </tr>\n",
       "  </thead>\n",
       "  <tbody>\n",
       "    <tr>\n",
       "      <th>0</th>\n",
       "      <td>next_item_weight</td>\n",
       "      <td>1.259315e+07</td>\n",
       "    </tr>\n",
       "    <tr>\n",
       "      <th>3</th>\n",
       "      <td>last_item_similarity</td>\n",
       "      <td>1.358875e+05</td>\n",
       "    </tr>\n",
       "    <tr>\n",
       "      <th>4</th>\n",
       "      <td>prev_item_similarity</td>\n",
       "      <td>1.982588e+04</td>\n",
       "    </tr>\n",
       "    <tr>\n",
       "      <th>2</th>\n",
       "      <td>w2v_weight</td>\n",
       "      <td>1.630157e+04</td>\n",
       "    </tr>\n",
       "    <tr>\n",
       "      <th>5</th>\n",
       "      <td>prev_length</td>\n",
       "      <td>9.391630e+02</td>\n",
       "    </tr>\n",
       "    <tr>\n",
       "      <th>1</th>\n",
       "      <td>locale</td>\n",
       "      <td>0.000000e+00</td>\n",
       "    </tr>\n",
       "  </tbody>\n",
       "</table>\n",
       "</div>"
      ],
      "text/plain": [
       "               features    importance\n",
       "0      next_item_weight  1.259315e+07\n",
       "3  last_item_similarity  1.358875e+05\n",
       "4  prev_item_similarity  1.982588e+04\n",
       "2            w2v_weight  1.630157e+04\n",
       "5           prev_length  9.391630e+02\n",
       "1                locale  0.000000e+00"
      ]
     },
     "execution_count": 4,
     "metadata": {},
     "output_type": "execute_result"
    }
   ],
   "source": [
    "# ranker = joblib.load(os.path.join('../model_training/rank_lgbm_v2/', 'model.pkl'))\n",
    "impotant_df = pd.DataFrame(\n",
    "    {\n",
    "        'features': ranker.feature_name_,\n",
    "        'importance': ranker.feature_importances_\n",
    "    }\n",
    ").sort_values('importance', ascending=False)\n",
    "impotant_df"
   ]
  },
  {
   "cell_type": "markdown",
   "id": "9c2798bf-e1a3-45a7-a422-49f6844e910a",
   "metadata": {},
   "source": [
    "# Eval ranker "
   ]
  },
  {
   "cell_type": "code",
   "execution_count": 57,
   "id": "1b08de18-62e0-4c4f-94c3-6ab8324ee624",
   "metadata": {},
   "outputs": [],
   "source": [
    "def rank_rec(candidate_pl, feature_cols, ranker, topn=100):\n",
    "\n",
    "    candidate_pl = candidate_pl.collect()\n",
    "    print(f\"candidate pl shape: {candidate_pl.shape}\")\n",
    "    inference = ranker.predict(candidate_pl[feature_cols].to_pandas())\n",
    "    test_result = (candidate_pl\n",
    "         .lazy()\n",
    "         .with_columns(\n",
    "             pl.Series(name='predict', values=inference)\n",
    "         )\n",
    "         .with_columns(\n",
    "            pl.col('predict').rank(method='ordinal', descending=True).over('session_id').alias('rank')\n",
    "         )\n",
    "         .sort(['session_id', 'rank'])\n",
    "         .filter(pl.col('rank')<=topn)\n",
    "         .groupby(['session_id'])\n",
    "         .agg(\n",
    "             pl.col('next_item_prediction')\n",
    "             , pl.col('next_item').unique()#.arr.get(0).cast(pl.Utf8)\n",
    "         ).with_columns(\n",
    "             pl.col('next_item').arr.get(0).alias('next_item')\n",
    "         )\n",
    "    )\n",
    "    return test_result\n"
   ]
  },
  {
   "cell_type": "code",
   "execution_count": 58,
   "id": "d5339c19-c305-40fd-bbad-73875825a216",
   "metadata": {},
   "outputs": [
    {
     "name": "stdout",
     "output_type": "stream",
     "text": [
      "candidate pl shape: (40019694, 10)\n"
     ]
    }
   ],
   "source": [
    "ranker_eval_pl = rank_rec(candidate_pl=eval_candidates,\n",
    "                         feature_cols=feature_cols\n",
    "                         , ranker=ranker\n",
    "                        # , topn=10\n",
    "                         )"
   ]
  },
  {
   "cell_type": "code",
   "execution_count": 59,
   "id": "aaaf67dc-a212-406f-af97-7b4a98bc9924",
   "metadata": {},
   "outputs": [
    {
     "data": {
      "text/plain": [
       "(326443, 3)"
      ]
     },
     "execution_count": 59,
     "metadata": {},
     "output_type": "execute_result"
    }
   ],
   "source": [
    "# ranker_eval_pl.collect().shape"
   ]
  },
  {
   "cell_type": "code",
   "execution_count": 60,
   "id": "9404f0c9-8dd8-4a7c-86ea-07a279d25312",
   "metadata": {},
   "outputs": [
    {
     "data": {
      "text/html": [
       "<div><style>\n",
       ".dataframe > thead > tr > th,\n",
       ".dataframe > tbody > tr > td {\n",
       "  text-align: right;\n",
       "}\n",
       "</style>\n",
       "<small>shape: (1, 4)</small><table border=\"1\" class=\"dataframe\"><thead><tr><th>total_sessions</th><th>mrr</th><th>recall@20</th><th>recall@100</th></tr><tr><td>u32</td><td>f64</td><td>f64</td><td>f64</td></tr></thead><tbody><tr><td>326443</td><td>0.364766</td><td>0.475869</td><td>0.52456</td></tr></tbody></table></div>"
      ],
      "text/plain": [
       "shape: (1, 4)\n",
       "┌────────────────┬──────────┬───────────┬────────────┐\n",
       "│ total_sessions ┆ mrr      ┆ recall@20 ┆ recall@100 │\n",
       "│ ---            ┆ ---      ┆ ---       ┆ ---        │\n",
       "│ u32            ┆ f64      ┆ f64       ┆ f64        │\n",
       "╞════════════════╪══════════╪═══════════╪════════════╡\n",
       "│ 326443         ┆ 0.364766 ┆ 0.475869  ┆ 0.52456    │\n",
       "└────────────────┴──────────┴───────────┴────────────┘"
      ]
     },
     "execution_count": 60,
     "metadata": {},
     "output_type": "execute_result"
    }
   ],
   "source": [
    "model_eval(target_df=eval_pl.join(ranker_eval_pl.lazy(), how='left', on='session_id'))"
   ]
  },
  {
   "cell_type": "code",
   "execution_count": 64,
   "id": "0dffab6a-7c12-4d14-a8e2-6dd8b698cb20",
   "metadata": {},
   "outputs": [
    {
     "data": {
      "text/html": [
       "<div><style>\n",
       ".dataframe > thead > tr > th,\n",
       ".dataframe > tbody > tr > td {\n",
       "  text-align: right;\n",
       "}\n",
       "</style>\n",
       "<small>shape: (5, 3)</small><table border=\"1\" class=\"dataframe\"><thead><tr><th>session_id</th><th>next_item_prediction</th><th>next_item</th></tr><tr><td>i64</td><td>list[str]</td><td>str</td></tr></thead><tbody><tr><td>3</td><td>[&quot;B0B71GSJ2R&quot;, &quot;B0B71KXCSB&quot;, … &quot;B09TW3GVT3&quot;]</td><td>&quot;B0B4R9NN4B&quot;</td></tr><tr><td>4</td><td>[&quot;B09FKDPY2S&quot;, &quot;B09MRVWQ3B&quot;, … &quot;B099S1WHRQ&quot;]</td><td>&quot;B0BGVBKWGZ&quot;</td></tr><tr><td>14</td><td>[&quot;B07LFQPX5L&quot;, &quot;B07LFR6J9M&quot;, … &quot;B08WHFQZWF&quot;]</td><td>&quot;B07LFRP5SS&quot;</td></tr><tr><td>15</td><td>[&quot;B0773V43RV&quot;, &quot;B000VVSWBM&quot;, … &quot;B07LG41SN6&quot;]</td><td>&quot;B000VVSWBM&quot;</td></tr><tr><td>27</td><td>[&quot;B08XBNRD25&quot;, &quot;B09ZPNZXQ5&quot;, … &quot;B07DQCXS4P&quot;]</td><td>&quot;B09ZPNHQ12&quot;</td></tr></tbody></table></div>"
      ],
      "text/plain": [
       "shape: (5, 3)\n",
       "┌────────────┬───────────────────────────────────┬────────────┐\n",
       "│ session_id ┆ next_item_prediction              ┆ next_item  │\n",
       "│ ---        ┆ ---                               ┆ ---        │\n",
       "│ i64        ┆ list[str]                         ┆ str        │\n",
       "╞════════════╪═══════════════════════════════════╪════════════╡\n",
       "│ 3          ┆ [\"B0B71GSJ2R\", \"B0B71KXCSB\", … \"… ┆ B0B4R9NN4B │\n",
       "│ 4          ┆ [\"B09FKDPY2S\", \"B09MRVWQ3B\", … \"… ┆ B0BGVBKWGZ │\n",
       "│ 14         ┆ [\"B07LFQPX5L\", \"B07LFR6J9M\", … \"… ┆ B07LFRP5SS │\n",
       "│ 15         ┆ [\"B0773V43RV\", \"B000VVSWBM\", … \"… ┆ B000VVSWBM │\n",
       "│ 27         ┆ [\"B08XBNRD25\", \"B09ZPNZXQ5\", … \"… ┆ B09ZPNHQ12 │\n",
       "└────────────┴───────────────────────────────────┴────────────┘"
      ]
     },
     "execution_count": 64,
     "metadata": {},
     "output_type": "execute_result"
    }
   ],
   "source": [
    "ranker_eval_pl.head().collect()"
   ]
  },
  {
   "cell_type": "code",
   "execution_count": 1,
   "id": "0244d58f-d599-4314-819f-4e041537349d",
   "metadata": {},
   "outputs": [],
   "source": [
    "# ranker_eval_pl.with_columns(\n",
    "#     pl.col('next_item_prediction').arr.lengths().alias('length')\n",
    "#     , pl.col('next_item_prediction').arr.unique().arr.lengths().alias('unique_length')\n",
    "# ).select(pl.col('length').sub(pl.col('unique_length')).alias('diff')).collect().to_series().value_counts()"
   ]
  },
  {
   "cell_type": "code",
   "execution_count": 67,
   "id": "70ce1289-f196-4ff1-814f-f8cb4d5c2381",
   "metadata": {},
   "outputs": [],
   "source": [
    "ranker_eval_pl.collect().write_parquet(eval_sub_file)"
   ]
  },
  {
   "cell_type": "markdown",
   "id": "4cea4973-3d4c-48e9-a387-287ee39ea07a",
   "metadata": {
    "tags": []
   },
   "source": [
    "# Test inference "
   ]
  },
  {
   "cell_type": "code",
   "execution_count": null,
   "id": "1fde9df6-d694-434e-b702-06e965d78e6a",
   "metadata": {},
   "outputs": [],
   "source": []
  },
  {
   "cell_type": "code",
   "execution_count": 77,
   "id": "c60b94f1-3385-4d85-b6ff-cf715b7352b7",
   "metadata": {},
   "outputs": [
    {
     "data": {
      "text/plain": [
       "{'session_id': Int64,\n",
       " 'next_item_prediction': List(Utf8),\n",
       " 'w2v_weight': List(Int64),\n",
       " 'prev_items': Unknown,\n",
       " 'locale': Utf8}"
      ]
     },
     "execution_count": 77,
     "metadata": {},
     "output_type": "execute_result"
    }
   ],
   "source": [
    "test_cg_pl.schema"
   ]
  },
  {
   "cell_type": "code",
   "execution_count": 87,
   "id": "35dfcd47-0c67-472c-8acb-f42e881b4fc6",
   "metadata": {},
   "outputs": [],
   "source": [
    "# nic_model"
   ]
  },
  {
   "cell_type": "code",
   "execution_count": 88,
   "id": "0ab1ed93-0613-4a6d-ba03-9ebf53f0406c",
   "metadata": {},
   "outputs": [],
   "source": [
    "test_candidates = get_feature(target_df=test_cg_pl, data_type='test')"
   ]
  },
  {
   "cell_type": "code",
   "execution_count": 89,
   "id": "37deb6e4-1833-419b-9c83-9896e14c21a2",
   "metadata": {},
   "outputs": [
    {
     "data": {
      "text/plain": [
       "(41665715, 8)"
      ]
     },
     "execution_count": 89,
     "metadata": {},
     "output_type": "execute_result"
    }
   ],
   "source": [
    "test_candidates = test_candidates.collect()\n",
    "test_candidates.shape"
   ]
  },
  {
   "cell_type": "code",
   "execution_count": 90,
   "id": "69357f0f-697b-4324-9f93-fa22842f8af9",
   "metadata": {},
   "outputs": [],
   "source": [
    "inference = ranker.predict(test_candidates[feature_cols].to_pandas())"
   ]
  },
  {
   "cell_type": "code",
   "execution_count": 91,
   "id": "762a0921-c3ed-47b6-856e-5f83ce2ccff2",
   "metadata": {},
   "outputs": [
    {
     "data": {
      "text/plain": [
       "array([-1.25055664, -0.00440581, -1.25055664, ...,  0.8638483 ,\n",
       "        0.12114125,  0.1000968 ])"
      ]
     },
     "execution_count": 91,
     "metadata": {},
     "output_type": "execute_result"
    }
   ],
   "source": [
    "inference"
   ]
  },
  {
   "cell_type": "code",
   "execution_count": 2,
   "id": "07e437f0-e816-4231-b277-a5f7b93dd18f",
   "metadata": {},
   "outputs": [],
   "source": [
    "# test_candidates.head()"
   ]
  },
  {
   "cell_type": "code",
   "execution_count": null,
   "id": "323f51a8-c3c0-443b-be82-61b6743548bb",
   "metadata": {},
   "outputs": [],
   "source": []
  },
  {
   "cell_type": "code",
   "execution_count": 93,
   "id": "c9d1bf8f-7f18-443e-8296-8e43cb4850e3",
   "metadata": {},
   "outputs": [],
   "source": [
    "test_result = (test_candidates\n",
    "     .lazy()\n",
    "     .with_columns(\n",
    "         pl.Series(name='predict', values=inference)\n",
    "     )\n",
    "     .with_columns(\n",
    "        pl.col('predict').rank(method='ordinal', descending=True).over('session_id').alias('rank')\n",
    "     )\n",
    "     .sort(['session_id', 'rank'])\n",
    "     .filter(pl.col('rank')<=100)\n",
    "     .groupby(['session_id'])\n",
    "     .agg(\n",
    "         pl.col('next_item_prediction')\n",
    "     )\n",
    ")\n",
    "# test_result.head().collect()"
   ]
  },
  {
   "cell_type": "code",
   "execution_count": 94,
   "id": "904fb1bf-4c76-4b68-b2a9-f6647cd751e5",
   "metadata": {},
   "outputs": [
    {
     "data": {
      "text/plain": [
       "{'prev_items': Unknown, 'locale': Utf8, 'session_id': Int64}"
      ]
     },
     "execution_count": 94,
     "metadata": {},
     "output_type": "execute_result"
    }
   ],
   "source": [
    "test_pl.schema"
   ]
  },
  {
   "cell_type": "code",
   "execution_count": null,
   "id": "b19c51e9-a742-4563-bb2d-9c0fbf12e139",
   "metadata": {},
   "outputs": [],
   "source": []
  },
  {
   "cell_type": "code",
   "execution_count": null,
   "id": "657dad3e-7bcd-4ae7-a563-1905afb2f043",
   "metadata": {},
   "outputs": [],
   "source": []
  },
  {
   "cell_type": "code",
   "execution_count": 73,
   "id": "6733f598-f4ff-42e3-80f5-665fddb376ae",
   "metadata": {},
   "outputs": [],
   "source": [
    "predictions = test_pl.join(test_result, how='left', on='session_id').collect()[['locale', 'next_item_prediction']].to_pandas()"
   ]
  },
  {
   "cell_type": "code",
   "execution_count": 74,
   "id": "2b1cc59b-8392-44da-b75e-e5f884e84006",
   "metadata": {},
   "outputs": [
    {
     "data": {
      "text/plain": [
       "(316971, 2)"
      ]
     },
     "execution_count": 74,
     "metadata": {},
     "output_type": "execute_result"
    }
   ],
   "source": [
    "predictions.shape"
   ]
  },
  {
   "cell_type": "code",
   "execution_count": 75,
   "id": "b0d51154-d2c3-411b-84a4-b746224023fc",
   "metadata": {},
   "outputs": [
    {
     "data": {
      "text/plain": [
       "(316971, 2)"
      ]
     },
     "execution_count": 75,
     "metadata": {},
     "output_type": "execute_result"
    }
   ],
   "source": [
    "predictions.shape"
   ]
  },
  {
   "cell_type": "code",
   "execution_count": 98,
   "id": "1fbf032f-85ed-493f-a56f-76ff02ac7d25",
   "metadata": {},
   "outputs": [
    {
     "data": {
      "text/html": [
       "<div><style>\n",
       ".dataframe > thead > tr > th,\n",
       ".dataframe > tbody > tr > td {\n",
       "  text-align: right;\n",
       "}\n",
       "</style>\n",
       "<small>shape: (5, 2)</small><table border=\"1\" class=\"dataframe\"><thead><tr><th>session_id</th><th>next_item_prediction</th></tr><tr><td>i64</td><td>list[str]</td></tr></thead><tbody><tr><td>3923215</td><td>[&quot;B08X9L5RGD&quot;, &quot;B07V5FL8G6&quot;, … &quot;B0B4WXMX82&quot;]</td></tr><tr><td>3923216</td><td>[&quot;B0989BHLSY&quot;, &quot;B09CPNS7XV&quot;, … &quot;B08PC1FRT8&quot;]</td></tr><tr><td>3923217</td><td>[&quot;B09HKZBNZH&quot;, &quot;B09HZSRJWW&quot;, … &quot;B002SLEKCI&quot;]</td></tr><tr><td>3923218</td><td>[&quot;B07TR5LQSL&quot;, &quot;B07TR5LQSL&quot;, … &quot;B09TFB3XXG&quot;]</td></tr><tr><td>3923219</td><td>[&quot;B09XPX59JK&quot;, &quot;B09XPX59JK&quot;, … &quot;B084PB8DKV&quot;]</td></tr></tbody></table></div>"
      ],
      "text/plain": [
       "shape: (5, 2)\n",
       "┌────────────┬───────────────────────────────────┐\n",
       "│ session_id ┆ next_item_prediction              │\n",
       "│ ---        ┆ ---                               │\n",
       "│ i64        ┆ list[str]                         │\n",
       "╞════════════╪═══════════════════════════════════╡\n",
       "│ 3923215    ┆ [\"B08X9L5RGD\", \"B07V5FL8G6\", … \"… │\n",
       "│ 3923216    ┆ [\"B0989BHLSY\", \"B09CPNS7XV\", … \"… │\n",
       "│ 3923217    ┆ [\"B09HKZBNZH\", \"B09HZSRJWW\", … \"… │\n",
       "│ 3923218    ┆ [\"B07TR5LQSL\", \"B07TR5LQSL\", … \"… │\n",
       "│ 3923219    ┆ [\"B09XPX59JK\", \"B09XPX59JK\", … \"… │\n",
       "└────────────┴───────────────────────────────────┘"
      ]
     },
     "execution_count": 98,
     "metadata": {},
     "output_type": "execute_result"
    }
   ],
   "source": [
    "test_result.tail().collect()"
   ]
  },
  {
   "cell_type": "code",
   "execution_count": 99,
   "id": "a27f71e0-1960-4c9c-98ff-9d212d55ce7e",
   "metadata": {},
   "outputs": [
    {
     "data": {
      "text/html": [
       "<div><style>\n",
       ".dataframe > thead > tr > th,\n",
       ".dataframe > tbody > tr > td {\n",
       "  text-align: right;\n",
       "}\n",
       "</style>\n",
       "<small>shape: (5, 3)</small><table border=\"1\" class=\"dataframe\"><thead><tr><th>prev_items</th><th>locale</th><th>session_id</th></tr><tr><td>list[str]</td><td>str</td><td>i64</td></tr></thead><tbody><tr><td>[&quot;B077SZ2C3Y&quot;, &quot;B0B14M3VZX&quot;]</td><td>&quot;UK&quot;</td><td>3923215</td></tr><tr><td>[&quot;B08KFHDPY9&quot;, &quot;B0851KTSRZ&quot;, … &quot;B081YDH55K&quot;]</td><td>&quot;UK&quot;</td><td>3923216</td></tr><tr><td>[&quot;B07PY1N81F&quot;, &quot;B07Q1Z8SQN&quot;, … &quot;B09HL11V5B&quot;]</td><td>&quot;UK&quot;</td><td>3923217</td></tr><tr><td>[&quot;B01MCQMORK&quot;, &quot;B09JYZ325W&quot;]</td><td>&quot;UK&quot;</td><td>3923218</td></tr><tr><td>[&quot;B0B8JX92YJ&quot;, &quot;B09TN4MP6V&quot;, &quot;B0BG2LZQSL&quot;]</td><td>&quot;UK&quot;</td><td>3923219</td></tr></tbody></table></div>"
      ],
      "text/plain": [
       "shape: (5, 3)\n",
       "┌───────────────────────────────────┬────────┬────────────┐\n",
       "│ prev_items                        ┆ locale ┆ session_id │\n",
       "│ ---                               ┆ ---    ┆ ---        │\n",
       "│ list[str]                         ┆ str    ┆ i64        │\n",
       "╞═══════════════════════════════════╪════════╪════════════╡\n",
       "│ [\"B077SZ2C3Y\", \"B0B14M3VZX\"]      ┆ UK     ┆ 3923215    │\n",
       "│ [\"B08KFHDPY9\", \"B0851KTSRZ\", … \"… ┆ UK     ┆ 3923216    │\n",
       "│ [\"B07PY1N81F\", \"B07Q1Z8SQN\", … \"… ┆ UK     ┆ 3923217    │\n",
       "│ [\"B01MCQMORK\", \"B09JYZ325W\"]      ┆ UK     ┆ 3923218    │\n",
       "│ [\"B0B8JX92YJ\", \"B09TN4MP6V\", \"B0… ┆ UK     ┆ 3923219    │\n",
       "└───────────────────────────────────┴────────┴────────────┘"
      ]
     },
     "execution_count": 99,
     "metadata": {},
     "output_type": "execute_result"
    }
   ],
   "source": [
    "test_pl.tail().collect()"
   ]
  },
  {
   "cell_type": "code",
   "execution_count": null,
   "id": "6f0e5189-bb0a-4794-ac61-752e3021fc36",
   "metadata": {},
   "outputs": [],
   "source": []
  },
  {
   "cell_type": "code",
   "execution_count": 77,
   "id": "afdea5d2-bf62-4508-bb6e-43a84fdfbfe0",
   "metadata": {},
   "outputs": [],
   "source": [
    "# original_test.head()"
   ]
  },
  {
   "cell_type": "code",
   "execution_count": 78,
   "id": "1a69b627-bbee-4b7a-8c91-c83b61e4acd2",
   "metadata": {},
   "outputs": [],
   "source": [
    "# ! ls -al ../data/sub_files/"
   ]
  },
  {
   "cell_type": "code",
   "execution_count": 79,
   "id": "dc1521b2-6509-4947-9d25-3b89a4b0b2a6",
   "metadata": {},
   "outputs": [],
   "source": [
    "check_predictions(predictions, test_sessions=test_pl.collect().to_pandas(), \n",
    "                  # check_products=True, product_df=products\n",
    "                 )\n",
    "# Its important that the parquet file you submit is saved with pyarrow backend\n",
    "predictions.to_parquet(sub_file, engine='pyarrow')"
   ]
  },
  {
   "cell_type": "code",
   "execution_count": 81,
   "id": "6b21fb19-340b-4d13-8bde-f4bc538583d0",
   "metadata": {},
   "outputs": [
    {
     "name": "stdout",
     "output_type": "stream",
     "text": [
      "\u001b[2K\u001b[1;34mrank_v3.parque\u001b[0m \u001b[90m━━━━━━━━━━━━━━━━━━━━\u001b[0m \u001b[35m100.0%\u001b[0m • \u001b[32m285.8/285.7 MB\u001b[0m • \u001b[31m2.9 MB/s\u001b[0m • \u001b[36m0:00:00\u001b[0m00:01\u001b[0m00:05\u001b[0m\n",
      "\u001b[?25h                                                                                 ╭─────────────────────────╮                                                                                 \n",
      "                                                                                 │ \u001b[1mSuccessfully submitted!\u001b[0m │                                                                                 \n",
      "                                                                                 ╰─────────────────────────╯                                                                                 \n",
      "\u001b[3m                                                                                       Important links                                                                                       \u001b[0m\n",
      "┌──────────────────┬────────────────────────────────────────────────────────────────────────────────────────────────────────────────────────────────────────────────────────────────────────┐\n",
      "│  This submission │ https://www.aicrowd.com/challenges/amazon-kdd-cup-23-multilingual-recommendation-challenge/problems/task-1-next-product-recommendation/submissions/216598              │\n",
      "│                  │                                                                                                                                                                        │\n",
      "│  All submissions │ https://www.aicrowd.com/challenges/amazon-kdd-cup-23-multilingual-recommendation-challenge/problems/task-1-next-product-recommendation/submissions?my_submissions=true │\n",
      "│                  │                                                                                                                                                                        │\n",
      "│      Leaderboard │ https://www.aicrowd.com/challenges/amazon-kdd-cup-23-multilingual-recommendation-challenge/problems/task-1-next-product-recommendation/leaderboards                    │\n",
      "│                  │                                                                                                                                                                        │\n",
      "│ Discussion forum │ https://discourse.aicrowd.com/c/amazon-kdd-cup-23-multilingual-recommendation-challenge                                                                                │\n",
      "│                  │                                                                                                                                                                        │\n",
      "│   Challenge page │ https://www.aicrowd.com/challenges/amazon-kdd-cup-23-multilingual-recommendation-challenge/problems/task-1-next-product-recommendation                                 │\n",
      "└──────────────────┴────────────────────────────────────────────────────────────────────────────────────────────────────────────────────────────────────────────────────────────────────────┘\n",
      "{'submission_id': 216598, 'created_at': '2023-04-17T06:59:36.281Z'}\n"
     ]
    }
   ],
   "source": [
    "# You can submit with aicrowd-cli, or upload manually on the challenge page.\n",
    "!aicrowd submission create -c task-1-next-product-recommendation -f {sub_file}"
   ]
  },
  {
   "cell_type": "markdown",
   "id": "0e0c2293-8c28-45f8-949f-8533a458235e",
   "metadata": {},
   "source": [
    "# submission file check "
   ]
  },
  {
   "cell_type": "code",
   "execution_count": 7,
   "id": "9a4bc95b-5619-4f41-ae2e-e50d0f1cb250",
   "metadata": {},
   "outputs": [],
   "source": [
    "sub_df = pl.scan_parquet(sub_file)\n",
    "test_df = pl.scan_csv('../data/raw_data/sessions_test_task1.csv')"
   ]
  },
  {
   "cell_type": "code",
   "execution_count": 8,
   "id": "99217ed0-a5ad-4a0c-aa87-52146aece3ce",
   "metadata": {},
   "outputs": [
    {
     "data": {
      "text/plain": [
       "{'locale': Utf8, 'next_item_prediction': List(Utf8)}"
      ]
     },
     "execution_count": 8,
     "metadata": {},
     "output_type": "execute_result"
    }
   ],
   "source": [
    "sub_df.schema"
   ]
  },
  {
   "cell_type": "code",
   "execution_count": 9,
   "id": "acf1e811-60c6-4fe0-b3a2-aa8f23fac8ba",
   "metadata": {},
   "outputs": [
    {
     "data": {
      "text/plain": [
       "{'prev_items': Utf8, 'locale': Utf8}"
      ]
     },
     "execution_count": 9,
     "metadata": {},
     "output_type": "execute_result"
    }
   ],
   "source": [
    "test_df.schema"
   ]
  },
  {
   "cell_type": "code",
   "execution_count": 12,
   "id": "560dd97d-c18c-40b9-8b72-9bd8383c2230",
   "metadata": {},
   "outputs": [
    {
     "data": {
      "text/html": [
       "<div><style>\n",
       ".dataframe > thead > tr > th,\n",
       ".dataframe > tbody > tr > td {\n",
       "  text-align: right;\n",
       "}\n",
       "</style>\n",
       "<small>shape: (5, 2)</small><table border=\"1\" class=\"dataframe\"><thead><tr><th>locale</th><th>next_item_prediction</th></tr><tr><td>str</td><td>list[str]</td></tr></thead><tbody><tr><td>&quot;UK&quot;</td><td>[&quot;B08X9L5RGD&quot;, &quot;B07V5FL8G6&quot;, … &quot;B0B4WXMX82&quot;]</td></tr><tr><td>&quot;UK&quot;</td><td>[&quot;B0989BHLSY&quot;, &quot;B09CPNS7XV&quot;, … &quot;B08PC1FRT8&quot;]</td></tr><tr><td>&quot;UK&quot;</td><td>[&quot;B09HKZBNZH&quot;, &quot;B09HZSRJWW&quot;, … &quot;B002SLEKCI&quot;]</td></tr><tr><td>&quot;UK&quot;</td><td>[&quot;B07TR5LQSL&quot;, &quot;B07TR5LQSL&quot;, … &quot;B09TFB3XXG&quot;]</td></tr><tr><td>&quot;UK&quot;</td><td>[&quot;B09XPX59JK&quot;, &quot;B09XPX59JK&quot;, … &quot;B084PB8DKV&quot;]</td></tr></tbody></table></div>"
      ],
      "text/plain": [
       "shape: (5, 2)\n",
       "┌────────┬───────────────────────────────────┐\n",
       "│ locale ┆ next_item_prediction              │\n",
       "│ ---    ┆ ---                               │\n",
       "│ str    ┆ list[str]                         │\n",
       "╞════════╪═══════════════════════════════════╡\n",
       "│ UK     ┆ [\"B08X9L5RGD\", \"B07V5FL8G6\", … \"… │\n",
       "│ UK     ┆ [\"B0989BHLSY\", \"B09CPNS7XV\", … \"… │\n",
       "│ UK     ┆ [\"B09HKZBNZH\", \"B09HZSRJWW\", … \"… │\n",
       "│ UK     ┆ [\"B07TR5LQSL\", \"B07TR5LQSL\", … \"… │\n",
       "│ UK     ┆ [\"B09XPX59JK\", \"B09XPX59JK\", … \"… │\n",
       "└────────┴───────────────────────────────────┘"
      ]
     },
     "execution_count": 12,
     "metadata": {},
     "output_type": "execute_result"
    }
   ],
   "source": [
    "sub_df.tail().collect()"
   ]
  },
  {
   "cell_type": "code",
   "execution_count": 22,
   "id": "7c6bee5c-350c-4ac4-8f7e-b6ab904d69ab",
   "metadata": {},
   "outputs": [
    {
     "data": {
      "text/html": [
       "<div><style>\n",
       ".dataframe > thead > tr > th,\n",
       ".dataframe > tbody > tr > td {\n",
       "  text-align: right;\n",
       "}\n",
       "</style>\n",
       "<small>shape: (42, 2)</small><table border=\"1\" class=\"dataframe\"><thead><tr><th>unique_length</th><th>counts</th></tr><tr><td>u32</td><td>u32</td></tr></thead><tbody><tr><td>96</td><td>20664</td></tr><tr><td>64</td><td>74</td></tr><tr><td>63</td><td>58</td></tr><tr><td>95</td><td>18978</td></tr><tr><td>62</td><td>43</td></tr><tr><td>94</td><td>17508</td></tr><tr><td>93</td><td>16207</td></tr><tr><td>61</td><td>21</td></tr><tr><td>92</td><td>14685</td></tr><tr><td>60</td><td>6</td></tr><tr><td>59</td><td>2</td></tr><tr><td>91</td><td>13312</td></tr><tr><td>&hellip;</td><td>&hellip;</td></tr><tr><td>72</td><td>945</td></tr><tr><td>71</td><td>725</td></tr><tr><td>70</td><td>569</td></tr><tr><td>69</td><td>428</td></tr><tr><td>100</td><td>45144</td></tr><tr><td>68</td><td>332</td></tr><tr><td>67</td><td>176</td></tr><tr><td>99</td><td>26079</td></tr><tr><td>66</td><td>149</td></tr><tr><td>98</td><td>23507</td></tr><tr><td>65</td><td>114</td></tr><tr><td>97</td><td>22033</td></tr></tbody></table></div>"
      ],
      "text/plain": [
       "shape: (42, 2)\n",
       "┌───────────────┬────────┐\n",
       "│ unique_length ┆ counts │\n",
       "│ ---           ┆ ---    │\n",
       "│ u32           ┆ u32    │\n",
       "╞═══════════════╪════════╡\n",
       "│ 96            ┆ 20664  │\n",
       "│ 64            ┆ 74     │\n",
       "│ 63            ┆ 58     │\n",
       "│ 95            ┆ 18978  │\n",
       "│ …             ┆ …      │\n",
       "│ 66            ┆ 149    │\n",
       "│ 98            ┆ 23507  │\n",
       "│ 65            ┆ 114    │\n",
       "│ 97            ┆ 22033  │\n",
       "└───────────────┴────────┘"
      ]
     },
     "execution_count": 22,
     "metadata": {},
     "output_type": "execute_result"
    }
   ],
   "source": [
    "sub_df.with_columns(\n",
    "    pl.col('next_item_prediction').arr.lengths().alias('length')\n",
    "    , pl.col('next_item_prediction').arr.unique().arr.lengths().alias('unique_length')\n",
    ").select('unique_length').collect().to_series()."
   ]
  },
  {
   "cell_type": "code",
   "execution_count": 11,
   "id": "d2761fc4-d08b-4d02-b38a-7d920f525736",
   "metadata": {},
   "outputs": [
    {
     "data": {
      "text/html": [
       "<div><style>\n",
       ".dataframe > thead > tr > th,\n",
       ".dataframe > tbody > tr > td {\n",
       "  text-align: right;\n",
       "}\n",
       "</style>\n",
       "<small>shape: (5, 2)</small><table border=\"1\" class=\"dataframe\"><thead><tr><th>prev_items</th><th>locale</th></tr><tr><td>str</td><td>str</td></tr></thead><tbody><tr><td>&quot;[&#x27;B077SZ2C3Y&#x27; …</td><td>&quot;UK&quot;</td></tr><tr><td>&quot;[&#x27;B08KFHDPY9&#x27; …</td><td>&quot;UK&quot;</td></tr><tr><td>&quot;[&#x27;B07PY1N81F&#x27; …</td><td>&quot;UK&quot;</td></tr><tr><td>&quot;[&#x27;B01MCQMORK&#x27; …</td><td>&quot;UK&quot;</td></tr><tr><td>&quot;[&#x27;B0B8JX92YJ&#x27; …</td><td>&quot;UK&quot;</td></tr></tbody></table></div>"
      ],
      "text/plain": [
       "shape: (5, 2)\n",
       "┌───────────────────────────────────┬────────┐\n",
       "│ prev_items                        ┆ locale │\n",
       "│ ---                               ┆ ---    │\n",
       "│ str                               ┆ str    │\n",
       "╞═══════════════════════════════════╪════════╡\n",
       "│ ['B077SZ2C3Y' 'B0B14M3VZX']       ┆ UK     │\n",
       "│ ['B08KFHDPY9' 'B0851KTSRZ' 'B08K… ┆ UK     │\n",
       "│ ['B07PY1N81F' 'B07Q1Z8SQN' 'B07P… ┆ UK     │\n",
       "│ ['B01MCQMORK' 'B09JYZ325W']       ┆ UK     │\n",
       "│ ['B0B8JX92YJ' 'B09TN4MP6V' 'B0BG… ┆ UK     │\n",
       "└───────────────────────────────────┴────────┘"
      ]
     },
     "execution_count": 11,
     "metadata": {},
     "output_type": "execute_result"
    }
   ],
   "source": [
    "test_df.tail().collect()"
   ]
  },
  {
   "cell_type": "code",
   "execution_count": null,
   "id": "7d61fba2-d495-42be-abbe-2a2e0daab8eb",
   "metadata": {},
   "outputs": [],
   "source": []
  }
 ],
 "metadata": {
  "environment": {
   "kernel": "kdd_2023",
   "name": "common-cu110.m104",
   "type": "gcloud",
   "uri": "gcr.io/deeplearning-platform-release/base-cu110:m104"
  },
  "kernelspec": {
   "display_name": "py3.8(kdd_2023)",
   "language": "python",
   "name": "kdd_2023"
  },
  "language_info": {
   "codemirror_mode": {
    "name": "ipython",
    "version": 3
   },
   "file_extension": ".py",
   "mimetype": "text/x-python",
   "name": "python",
   "nbconvert_exporter": "python",
   "pygments_lexer": "ipython3",
   "version": "3.8.16"
  }
 },
 "nbformat": 4,
 "nbformat_minor": 5
}
