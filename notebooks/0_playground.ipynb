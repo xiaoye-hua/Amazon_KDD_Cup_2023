{
 "cells": [
  {
   "cell_type": "markdown",
   "id": "2eeeaed4-abfd-401e-80bf-1046576cc72f",
   "metadata": {},
   "source": [
    "# Package "
   ]
  },
  {
   "cell_type": "code",
   "execution_count": 20,
   "id": "43f6af97-c8c3-41c8-b8c1-0006f19d1699",
   "metadata": {},
   "outputs": [
    {
     "name": "stdout",
     "output_type": "stream",
     "text": [
      "The autoreload extension is already loaded. To reload it, use:\n",
      "  %reload_ext autoreload\n"
     ]
    }
   ],
   "source": [
    "%load_ext autoreload\n",
    "%autoreload 2\n",
    "import sys\n",
    "import logging\n",
    "base_dir = '../'\n",
    "sys.path.append(base_dir)\n",
    "import os\n",
    "from gensim.similarities.annoy import AnnoyIndexer\n",
    "\n",
    "from utils import *\n",
    "\n",
    "import os\n",
    "import pickle\n",
    "import numpy as np\n",
    "import pandas as pd\n",
    "from gensim.models import Word2Vec\n",
    "from tqdm import tqdm\n",
    "import polars as pl\n",
    "from annoy import AnnoyIndex\n",
    "import polars as pl\n",
    "import polars as pl\n",
    "from utils import *\n",
    "from src.eval import model_eval\n",
    "from src.config import (\n",
    "    raw_data_session_id_dir, candidate_dir, model_for_eval, candidate_file_name, submit_file_name\n",
    "    # , w2v_model_file_name, w2v_index_file_name\n",
    ")\n"
   ]
  },
  {
   "cell_type": "markdown",
   "id": "b32770d0-6eae-41b2-82b3-b0134f219833",
   "metadata": {},
   "source": [
    "# Config "
   ]
  },
  {
   "cell_type": "code",
   "execution_count": 21,
   "id": "2559d394-bd72-405c-bfff-44a03e88f0e5",
   "metadata": {},
   "outputs": [],
   "source": [
    "debug = False\n",
    "\n",
    "topn = 100\n",
    "model_version = 'w2v_v3'\n",
    "if debug:\n",
    "    n_rows = 100\n",
    "else:\n",
    "    n_rows = None\n",
    "\n",
    "    \n",
    "task = 'task1'\n",
    "# Common setting\n",
    "model_dir = f'../model_training/{model_version}/'\n",
    "# target locales: locales needed for task1\n",
    "target_locals = [\"DE\", 'JP', 'UK']\n",
    "submit_file = os.path.join('../data/sub_files/', \n",
    "                           submit_file_name.format(\n",
    "                                task=task\n",
    "                               , model_version=model_version\n",
    "                               , model_for_eval=model_for_eval\n",
    "                               , topn=topn\n",
    "                           )\n",
    "                          )\n",
    "\n",
    "train_cg_file = os.path.join(base_dir,\n",
    "                             candidate_dir, \n",
    "            candidate_file_name.format(\n",
    "                task=task\n",
    "                , data_type='train'\n",
    "                , model_version=model_version\n",
    "                , model_for_eval=model_for_eval\n",
    "                , topn=topn\n",
    "            )\n",
    "                            )\n",
    "eval_cg_file = os.path.join(base_dir,\n",
    "                            candidate_dir, \n",
    "            candidate_file_name.format(\n",
    "                task=task\n",
    "                , data_type='eval'\n",
    "                , model_version=model_version\n",
    "                , model_for_eval=model_for_eval\n",
    "                , topn=topn\n",
    "            )\n",
    "                            )\n",
    "test_cg_file = os.path.join(base_dir,\n",
    "                            candidate_dir, \n",
    "            candidate_file_name.format(\n",
    "                task=task\n",
    "                , data_type='test'\n",
    "                , model_version=model_version\n",
    "                , model_for_eval=model_for_eval\n",
    "                , topn=topn\n",
    "            )\n",
    "                            )\n",
    "\n",
    "# specific setting\n",
    "num_tree = 100\n",
    "# if model_for_eval:\n",
    "w2v_model_file = os.path.join(model_dir, f\"{model_for_eval}.model\")\n",
    "annoy_index_file = os.path.join(model_dir, f\"{str(num_tree)}_{model_for_eval}.index\")"
   ]
  },
  {
   "cell_type": "markdown",
   "id": "0c3aaf7f-a0b0-4ae4-8ed1-1cfa01936bda",
   "metadata": {},
   "source": [
    "# Load model "
   ]
  },
  {
   "cell_type": "code",
   "execution_count": 76,
   "id": "b310e904-527f-46aa-a9ff-913d898d46c5",
   "metadata": {},
   "outputs": [],
   "source": [
    "w2vec = Word2Vec.load(w2v_model_dir)"
   ]
  },
  {
   "cell_type": "code",
   "execution_count": 26,
   "id": "49ae0ec1-20cd-4552-a940-7bc0e62e2c3d",
   "metadata": {},
   "outputs": [
    {
     "data": {
      "text/html": [
       "<div>\n",
       "<style scoped>\n",
       "    .dataframe tbody tr th:only-of-type {\n",
       "        vertical-align: middle;\n",
       "    }\n",
       "\n",
       "    .dataframe tbody tr th {\n",
       "        vertical-align: top;\n",
       "    }\n",
       "\n",
       "    .dataframe thead th {\n",
       "        text-align: right;\n",
       "    }\n",
       "</style>\n",
       "<table border=\"1\" class=\"dataframe\">\n",
       "  <thead>\n",
       "    <tr style=\"text-align: right;\">\n",
       "      <th></th>\n",
       "      <th>prev_items</th>\n",
       "      <th>locale</th>\n",
       "    </tr>\n",
       "  </thead>\n",
       "  <tbody>\n",
       "    <tr>\n",
       "      <th>135025</th>\n",
       "      <td>[B09KCHLWH4, B09KCHLWH4, B09F5V3CDN, B08MC3BQK...</td>\n",
       "      <td>JP</td>\n",
       "    </tr>\n",
       "    <tr>\n",
       "      <th>184024</th>\n",
       "      <td>[B08R71STV6, B0BJCXF6QK, B0B9V3B882, B08R71STV...</td>\n",
       "      <td>JP</td>\n",
       "    </tr>\n",
       "    <tr>\n",
       "      <th>309425</th>\n",
       "      <td>[B0007VTA5S, B01N7W8FRS, B08S8RHJTN]</td>\n",
       "      <td>UK</td>\n",
       "    </tr>\n",
       "    <tr>\n",
       "      <th>313773</th>\n",
       "      <td>[B09D8QR3HS, B09D8QR3HS, B07DD5YHMH, B07DC5PPF...</td>\n",
       "      <td>UK</td>\n",
       "    </tr>\n",
       "    <tr>\n",
       "      <th>258407</th>\n",
       "      <td>[B097DNKW7L, B09YMB42RM, B097D5JQVH, B097D84HQW]</td>\n",
       "      <td>UK</td>\n",
       "    </tr>\n",
       "  </tbody>\n",
       "</table>\n",
       "</div>"
      ],
      "text/plain": [
       "                                               prev_items locale\n",
       "135025  [B09KCHLWH4, B09KCHLWH4, B09F5V3CDN, B08MC3BQK...     JP\n",
       "184024  [B08R71STV6, B0BJCXF6QK, B0B9V3B882, B08R71STV...     JP\n",
       "309425               [B0007VTA5S, B01N7W8FRS, B08S8RHJTN]     UK\n",
       "313773  [B09D8QR3HS, B09D8QR3HS, B07DD5YHMH, B07DC5PPF...     UK\n",
       "258407   [B097DNKW7L, B09YMB42RM, B097D5JQVH, B097D84HQW]     UK"
      ]
     },
     "execution_count": 26,
     "metadata": {},
     "output_type": "execute_result"
    }
   ],
   "source": [
    "test_sessions = read_test_data(task, test_data_dir=test_data_dir)\n",
    "test_sessions.sample(5)"
   ]
  },
  {
   "cell_type": "code",
   "execution_count": 39,
   "id": "677351e5-9c3b-423c-bb8b-aff517bc8de8",
   "metadata": {},
   "outputs": [
    {
     "name": "stdout",
     "output_type": "stream",
     "text": [
      "<class 'pandas.core.frame.DataFrame'>\n",
      "RangeIndex: 316971 entries, 0 to 316970\n",
      "Data columns (total 2 columns):\n",
      " #   Column      Non-Null Count   Dtype \n",
      "---  ------      --------------   ----- \n",
      " 0   prev_items  316971 non-null  object\n",
      " 1   locale      316971 non-null  object\n",
      "dtypes: object(2)\n",
      "memory usage: 4.8+ MB\n"
     ]
    }
   ],
   "source": [
    "test_sessions.info()"
   ]
  },
  {
   "cell_type": "code",
   "execution_count": 27,
   "id": "de9f1729-ef9a-4004-adc3-96734501406b",
   "metadata": {},
   "outputs": [],
   "source": [
    "# test_sessions['prev_items'] = test_sessions.apply(lambda row: process_item_lst(row), axis=1)"
   ]
  },
  {
   "cell_type": "code",
   "execution_count": 104,
   "id": "6d29fdf5-63be-45d8-9e03-af5ca7c79023",
   "metadata": {},
   "outputs": [],
   "source": [
    "df = test_sessions.sample(1000)"
   ]
  },
  {
   "cell_type": "code",
   "execution_count": 105,
   "id": "9b7488eb-9daf-4fa9-bf79-9f3622d87f64",
   "metadata": {},
   "outputs": [],
   "source": [
    "for col in df.columns:\n",
    "    df[col] = df[col].astype(str)"
   ]
  },
  {
   "cell_type": "code",
   "execution_count": 106,
   "id": "02399ab2-e810-4b80-bdf5-ddf1a823532d",
   "metadata": {},
   "outputs": [
    {
     "name": "stdout",
     "output_type": "stream",
     "text": [
      "<class 'pandas.core.frame.DataFrame'>\n",
      "Index: 1000 entries, 305876 to 237644\n",
      "Data columns (total 2 columns):\n",
      " #   Column      Non-Null Count  Dtype \n",
      "---  ------      --------------  ----- \n",
      " 0   prev_items  1000 non-null   object\n",
      " 1   locale      1000 non-null   object\n",
      "dtypes: object(2)\n",
      "memory usage: 23.4+ KB\n"
     ]
    }
   ],
   "source": [
    "df.info()"
   ]
  },
  {
   "cell_type": "code",
   "execution_count": 107,
   "id": "12bfd67a-5dda-412f-aaf8-ddee9db3d36a",
   "metadata": {},
   "outputs": [],
   "source": []
  },
  {
   "cell_type": "code",
   "execution_count": 108,
   "id": "082bebb0-b692-4145-a20a-f0dceed8777f",
   "metadata": {},
   "outputs": [],
   "source": [
    "def get_rec(prev_items):\n",
    "    # print(prev_items)\n",
    "    res = [ele.replace('[', '').replace(']', '').replace('\\n', '').replace(\"'\", '').replace(' ', '') for ele in prev_items.split(' ')]\n",
    "    \n",
    "    try:\n",
    "        similarity_dic = w2vec.wv.most_similar(positive=prev_items, topn=100)\n",
    "        res = [item for item, simi in similarity_dic] \n",
    "        # print(err)\n",
    "    except Exception as e:\n",
    "        print(e)\n",
    "    \n",
    "    return res\n",
    "\n",
    "pl_df = pl.from_dataframe(df)\n",
    "pl_df = (\n",
    "    pl_df\n",
    "        .with_column(pl.col('prev_items').apply(lambda row: get_rec(row)).alias('next_item_prediction'))\n",
    ")\n",
    "result_df = pl_df.to_pandas()"
   ]
  },
  {
   "cell_type": "code",
   "execution_count": 109,
   "id": "fa0248f2-14ea-4dda-a408-8227990b6baa",
   "metadata": {},
   "outputs": [],
   "source": [
    "# pl_df"
   ]
  },
  {
   "cell_type": "code",
   "execution_count": 111,
   "id": "bf0eb9f3-c535-4fc0-985c-486a8637cdb5",
   "metadata": {},
   "outputs": [],
   "source": []
  },
  {
   "cell_type": "code",
   "execution_count": 112,
   "id": "1fa1d4ca-ef6a-4bbb-ab0d-a7faab28e650",
   "metadata": {},
   "outputs": [
    {
     "data": {
      "text/html": [
       "<div>\n",
       "<style scoped>\n",
       "    .dataframe tbody tr th:only-of-type {\n",
       "        vertical-align: middle;\n",
       "    }\n",
       "\n",
       "    .dataframe tbody tr th {\n",
       "        vertical-align: top;\n",
       "    }\n",
       "\n",
       "    .dataframe thead th {\n",
       "        text-align: right;\n",
       "    }\n",
       "</style>\n",
       "<table border=\"1\" class=\"dataframe\">\n",
       "  <thead>\n",
       "    <tr style=\"text-align: right;\">\n",
       "      <th></th>\n",
       "      <th>prev_items</th>\n",
       "      <th>locale</th>\n",
       "      <th>next_item_prediction</th>\n",
       "    </tr>\n",
       "  </thead>\n",
       "  <tbody>\n",
       "    <tr>\n",
       "      <th>0</th>\n",
       "      <td>['B0BCSSGR43', 'B09ZYT2MQY']</td>\n",
       "      <td>UK</td>\n",
       "      <td>[B0BCSSGR43,, B09ZYT2MQY]</td>\n",
       "    </tr>\n",
       "    <tr>\n",
       "      <th>1</th>\n",
       "      <td>['B08FC3QNBV', 'B09TW38KVZ', 'B0B1CZJZK8', 'B0...</td>\n",
       "      <td>UK</td>\n",
       "      <td>[B08FC3QNBV,, B09TW38KVZ,, B0B1CZJZK8,, B09CTT...</td>\n",
       "    </tr>\n",
       "    <tr>\n",
       "      <th>2</th>\n",
       "      <td>['B0BLTWKKKG', 'B07SLHM55V', 'B014P55MN0']</td>\n",
       "      <td>JP</td>\n",
       "      <td>[B0BLTWKKKG,, B07SLHM55V,, B014P55MN0]</td>\n",
       "    </tr>\n",
       "    <tr>\n",
       "      <th>3</th>\n",
       "      <td>['B07VDBFRZW', 'B08TQM4F53', 'B07VDBFRZW', 'B0...</td>\n",
       "      <td>JP</td>\n",
       "      <td>[B07VDBFRZW,, B08TQM4F53,, B07VDBFRZW,, B07QCB...</td>\n",
       "    </tr>\n",
       "    <tr>\n",
       "      <th>4</th>\n",
       "      <td>['B00F5JMDHE', 'B08SJNJLPQ', 'B07W5Z3YVQ', 'B0...</td>\n",
       "      <td>JP</td>\n",
       "      <td>[B00F5JMDHE,, B08SJNJLPQ,, B07W5Z3YVQ,, B07W5Z...</td>\n",
       "    </tr>\n",
       "  </tbody>\n",
       "</table>\n",
       "</div>"
      ],
      "text/plain": [
       "                                          prev_items locale   \n",
       "0                       ['B0BCSSGR43', 'B09ZYT2MQY']     UK  \\\n",
       "1  ['B08FC3QNBV', 'B09TW38KVZ', 'B0B1CZJZK8', 'B0...     UK   \n",
       "2         ['B0BLTWKKKG', 'B07SLHM55V', 'B014P55MN0']     JP   \n",
       "3  ['B07VDBFRZW', 'B08TQM4F53', 'B07VDBFRZW', 'B0...     JP   \n",
       "4  ['B00F5JMDHE', 'B08SJNJLPQ', 'B07W5Z3YVQ', 'B0...     JP   \n",
       "\n",
       "                                next_item_prediction  \n",
       "0                          [B0BCSSGR43,, B09ZYT2MQY]  \n",
       "1  [B08FC3QNBV,, B09TW38KVZ,, B0B1CZJZK8,, B09CTT...  \n",
       "2             [B0BLTWKKKG,, B07SLHM55V,, B014P55MN0]  \n",
       "3  [B07VDBFRZW,, B08TQM4F53,, B07VDBFRZW,, B07QCB...  \n",
       "4  [B00F5JMDHE,, B08SJNJLPQ,, B07W5Z3YVQ,, B07W5Z...  "
      ]
     },
     "execution_count": 112,
     "metadata": {},
     "output_type": "execute_result"
    }
   ],
   "source": [
    "result_df.head()"
   ]
  },
  {
   "cell_type": "markdown",
   "id": "8a675ea0-2c8c-4586-a8c8-94e6f5195234",
   "metadata": {},
   "source": [
    "# Polars pl.element() "
   ]
  },
  {
   "cell_type": "code",
   "execution_count": 22,
   "id": "a80e9cb8-4e0e-4ed0-893a-5086be41ce7b",
   "metadata": {},
   "outputs": [
    {
     "data": {
      "text/plain": [
       "'data/raw_data_session_id'"
      ]
     },
     "execution_count": 22,
     "metadata": {},
     "output_type": "execute_result"
    }
   ],
   "source": [
    "raw_data_session_id_dir"
   ]
  },
  {
   "cell_type": "code",
   "execution_count": 23,
   "id": "5ff7b214-9e5f-4007-bd38-ee7ad6943637",
   "metadata": {},
   "outputs": [
    {
     "name": "stdout",
     "output_type": "stream",
     "text": [
      "product_unique2id.json\tsessions_test_task1.parquet  sessions_train.parquet\n",
      "products_train.parquet\tsessions_test_task2.parquet\n",
      "sessions_eval.parquet\tsessions_test_task3.parquet\n"
     ]
    }
   ],
   "source": [
    "! ls ../data/raw_data_session_id"
   ]
  },
  {
   "cell_type": "code",
   "execution_count": 24,
   "id": "7aaa4559-fbbe-4a2c-955e-0e8d3f2ab09e",
   "metadata": {},
   "outputs": [],
   "source": [
    "target_pl = pl.scan_parquet(os.path.join(base_dir, raw_data_session_id_dir, 'sessions_train.parquet'),\n",
    "                          n_rows=n_rows).filter(pl.col('locale').is_in(target_locals)).with_columns(pl.col('prev_items').apply(str2list))\n",
    "file_path = '../model_training/als_v1/itemid2item.json'\n",
    "with open(file_path, 'rb') as f:\n",
    "    itemid2item = pickle.load(f)\n",
    "\n",
    "\n"
   ]
  },
  {
   "cell_type": "code",
   "execution_count": 25,
   "id": "76bdd433-17ab-4aa9-bff7-cc434d0eb153",
   "metadata": {},
   "outputs": [],
   "source": [
    "item2itemid = {value: key for key, value in itemid2item.items()}"
   ]
  },
  {
   "cell_type": "code",
   "execution_count": 26,
   "id": "f145884d-ce04-4d87-88b3-20a03ecae998",
   "metadata": {},
   "outputs": [],
   "source": [
    "# item2itemid"
   ]
  },
  {
   "cell_type": "code",
   "execution_count": 27,
   "id": "4b1b8467-27eb-424b-80df-327efb664483",
   "metadata": {},
   "outputs": [
    {
     "data": {
      "text/html": [
       "<div><style>\n",
       ".dataframe > thead > tr > th,\n",
       ".dataframe > tbody > tr > td {\n",
       "  text-align: right;\n",
       "}\n",
       "</style>\n",
       "<small>shape: (5, 4)</small><table border=\"1\" class=\"dataframe\"><thead><tr><th>prev_items</th><th>next_item</th><th>locale</th><th>session_id</th></tr><tr><td>list[str]</td><td>str</td><td>str</td><td>i64</td></tr></thead><tbody><tr><td>[&quot;B09W9FND7K&quot;, &quot;B09JSPLN1M&quot;]</td><td>&quot;B09M7GY217&quot;</td><td>&quot;DE&quot;</td><td>0</td></tr><tr><td>[&quot;B076THCGSG&quot;, &quot;B007MO8IME&quot;, … &quot;B001B4TKA0&quot;]</td><td>&quot;B001B4THSA&quot;</td><td>&quot;DE&quot;</td><td>1</td></tr><tr><td>[&quot;B0B1LGXWDS&quot;, &quot;B00AZYORS2&quot;, … &quot;B00AZYORS2&quot;]</td><td>&quot;B0767DTG2Q&quot;</td><td>&quot;DE&quot;</td><td>2</td></tr><tr><td>[&quot;B0749V8TC7&quot;, &quot;B0749W93VC&quot;, &quot;B0749TX4YP&quot;]</td><td>&quot;B0749TX4YS&quot;</td><td>&quot;DE&quot;</td><td>5</td></tr><tr><td>[&quot;B09SMK3R8H&quot;, &quot;B01N4ND0F9&quot;]</td><td>&quot;B08YNZT93Z&quot;</td><td>&quot;DE&quot;</td><td>6</td></tr></tbody></table></div>"
      ],
      "text/plain": [
       "shape: (5, 4)\n",
       "┌───────────────────────────────────┬────────────┬────────┬────────────┐\n",
       "│ prev_items                        ┆ next_item  ┆ locale ┆ session_id │\n",
       "│ ---                               ┆ ---        ┆ ---    ┆ ---        │\n",
       "│ list[str]                         ┆ str        ┆ str    ┆ i64        │\n",
       "╞═══════════════════════════════════╪════════════╪════════╪════════════╡\n",
       "│ [\"B09W9FND7K\", \"B09JSPLN1M\"]      ┆ B09M7GY217 ┆ DE     ┆ 0          │\n",
       "│ [\"B076THCGSG\", \"B007MO8IME\", … \"… ┆ B001B4THSA ┆ DE     ┆ 1          │\n",
       "│ [\"B0B1LGXWDS\", \"B00AZYORS2\", … \"… ┆ B0767DTG2Q ┆ DE     ┆ 2          │\n",
       "│ [\"B0749V8TC7\", \"B0749W93VC\", \"B0… ┆ B0749TX4YS ┆ DE     ┆ 5          │\n",
       "│ [\"B09SMK3R8H\", \"B01N4ND0F9\"]      ┆ B08YNZT93Z ┆ DE     ┆ 6          │\n",
       "└───────────────────────────────────┴────────────┴────────┴────────────┘"
      ]
     },
     "execution_count": 27,
     "metadata": {},
     "output_type": "execute_result"
    }
   ],
   "source": [
    "target_pl.head().collect()"
   ]
  },
  {
   "cell_type": "code",
   "execution_count": 28,
   "id": "630ef284-feff-49b5-9639-0a45f2ea433b",
   "metadata": {},
   "outputs": [
    {
     "data": {
      "text/plain": [
       "{'prev_items': Unknown, 'next_item': Utf8, 'locale': Utf8, 'session_id': Int64}"
      ]
     },
     "execution_count": 28,
     "metadata": {},
     "output_type": "execute_result"
    }
   ],
   "source": [
    "target_pl.schema"
   ]
  },
  {
   "cell_type": "code",
   "execution_count": 29,
   "id": "49c1c211-38cc-474a-8303-b29a4c8a2f88",
   "metadata": {},
   "outputs": [],
   "source": [
    "# dir(pl.element())"
   ]
  },
  {
   "cell_type": "code",
   "execution_count": 30,
   "id": "bff1ba97-e43b-4ef6-9707-92c6a87147be",
   "metadata": {},
   "outputs": [],
   "source": [
    "# item2itemid['B09W9FND7K']"
   ]
  },
  {
   "cell_type": "code",
   "execution_count": null,
   "id": "4dd2b487-44ce-454d-a706-dc1c1014d7f9",
   "metadata": {},
   "outputs": [],
   "source": []
  },
  {
   "cell_type": "code",
   "execution_count": null,
   "id": "67c31e7a-baf5-407e-8056-6f9264e2dbad",
   "metadata": {},
   "outputs": [],
   "source": []
  },
  {
   "cell_type": "code",
   "execution_count": 31,
   "id": "53a1905d-a553-4d1c-b44e-c5acf313a97e",
   "metadata": {},
   "outputs": [
    {
     "name": "stdout",
     "output_type": "stream",
     "text": [
      "The memory_profiler extension is already loaded. To reload it, use:\n",
      "  %reload_ext memory_profiler\n"
     ]
    }
   ],
   "source": [
    "%load_ext memory_profiler"
   ]
  },
  {
   "cell_type": "code",
   "execution_count": 32,
   "id": "494e14b0-3ca2-4657-a4d1-6015cd1d1522",
   "metadata": {},
   "outputs": [
    {
     "name": "stdout",
     "output_type": "stream",
     "text": [
      "peak memory: 1638.39 MiB, increment: 0.00 MiB\n",
      "CPU times: user 1min 51s, sys: 4.16 s, total: 1min 55s\n",
      "Wall time: 1min 56s\n"
     ]
    }
   ],
   "source": [
    "%%time\n",
    "%memit\n",
    "\n",
    "def map_item(lst):\n",
    "    item_ids  = [item2itemid[item] for item in lst]\n",
    "    return item_ids\n",
    "\n",
    "df1 = (\n",
    "    target_pl.with_columns(\n",
    "                pl.col('prev_items').apply(lambda x: map_item(x)).alias('prev_item_ids')\n",
    "    ).select(\n",
    "        ['session_id', 'prev_items', 'prev_item_ids']\n",
    "    )\n",
    ").collect()\n",
    "# print(df1.shape)\n",
    "# print(df1.head(2))"
   ]
  },
  {
   "cell_type": "code",
   "execution_count": 33,
   "id": "897e3c18-d06d-435f-ba5c-8e9971f0c2eb",
   "metadata": {},
   "outputs": [
    {
     "name": "stdout",
     "output_type": "stream",
     "text": [
      "peak memory: 2194.60 MiB, increment: 0.01 MiB\n",
      "(2946273, 3)\n",
      "shape: (2, 3)\n",
      "┌────────────┬──────────────────────────────┬──────────────────┐\n",
      "│ session_id ┆ prev_items                   ┆ prev_item_ids    │\n",
      "│ ---        ┆ ---                          ┆ ---              │\n",
      "│ i64        ┆ list[str]                    ┆ list[i64]        │\n",
      "╞════════════╪══════════════════════════════╪══════════════════╡\n",
      "│ 1418688    ┆ [\"B079STNCF9\", \"B07C91ZFQC\"] ┆ [350046, 362613] │\n",
      "│ 1942624    ┆ [\"B07VKZLFVM\", \"B07VJLJWYN\"] ┆ [497019, 496554] │\n",
      "└────────────┴──────────────────────────────┴──────────────────┘\n",
      "CPU times: user 50.1 s, sys: 3.01 s, total: 53.2 s\n",
      "Wall time: 48.9 s\n"
     ]
    }
   ],
   "source": [
    "%%time\n",
    "%memit\n",
    "\n",
    "df2 = (\n",
    "    target_pl.explode('prev_items')\n",
    "        .with_columns(\n",
    "                pl.col('prev_items').map_dict(item2itemid).alias('prev_item_ids'))\n",
    "        .groupby('session_id')\n",
    "        .agg(\n",
    "            pl.col('prev_items')\n",
    "            , pl.col('prev_item_ids')\n",
    "        )\n",
    ").collect()\n",
    "print(df2.shape)\n",
    "print(df2.head(2))"
   ]
  },
  {
   "cell_type": "markdown",
   "id": "c8493676-1f61-4fb4-996f-f8884ec4d45b",
   "metadata": {},
   "source": [
    "# W2V in details "
   ]
  },
  {
   "cell_type": "code",
   "execution_count": 4,
   "id": "d0bf34e1-77f3-4ff1-b9f3-f32a55c092d2",
   "metadata": {},
   "outputs": [],
   "source": [
    "eval_pl = pl.scan_parquet('../data/candidates/task1_eval_w2v_v3_True_top100.parquet')\n",
    "original_eval_pl = pl.scan_parquet(os.path.join(base_dir, raw_data_session_id_dir, 'sessions_eval.parquet'), n_rows=n_rows).filter(pl.col('locale').is_in(target_locals)).with_columns(pl.col('prev_items').apply(str2list))\n"
   ]
  },
  {
   "cell_type": "code",
   "execution_count": null,
   "id": "b2fde413-5e19-4558-94f6-955b4d51b6eb",
   "metadata": {},
   "outputs": [],
   "source": []
  },
  {
   "cell_type": "code",
   "execution_count": 5,
   "id": "232ba74b-13fd-4644-a2ff-d73a49875d38",
   "metadata": {},
   "outputs": [
    {
     "data": {
      "text/html": [
       "<div><style>\n",
       ".dataframe > thead > tr > th,\n",
       ".dataframe > tbody > tr > td {\n",
       "  text-align: right;\n",
       "}\n",
       "</style>\n",
       "<small>shape: (5, 2)</small><table border=\"1\" class=\"dataframe\"><thead><tr><th>session_id</th><th>next_item_prediction</th></tr><tr><td>i64</td><td>list[str]</td></tr></thead><tbody><tr><td>3</td><td>[&quot;B0B7HZ2GWX&quot;, &quot;B09XMTWDVT&quot;, … &quot;B09K3WNKZ4&quot;]</td></tr><tr><td>4</td><td>[&quot;B09Y5CSL3T&quot;, &quot;B09Y5CW56M&quot;, … &quot;B08LKS2KFV&quot;]</td></tr><tr><td>14</td><td>[&quot;B07LFQPX5L&quot;, &quot;B07LFPJTVF&quot;, … &quot;B09BJY1LBB&quot;]</td></tr><tr><td>15</td><td>[&quot;B086W985G3&quot;, &quot;B07YQ2KSM4&quot;, … &quot;B088FM4Y3B&quot;]</td></tr><tr><td>27</td><td>[&quot;B08XB9HWK4&quot;, &quot;B09K3ZDNLH&quot;, … &quot;B09R1TL35Z&quot;]</td></tr></tbody></table></div>"
      ],
      "text/plain": [
       "shape: (5, 2)\n",
       "┌────────────┬───────────────────────────────────┐\n",
       "│ session_id ┆ next_item_prediction              │\n",
       "│ ---        ┆ ---                               │\n",
       "│ i64        ┆ list[str]                         │\n",
       "╞════════════╪═══════════════════════════════════╡\n",
       "│ 3          ┆ [\"B0B7HZ2GWX\", \"B09XMTWDVT\", … \"… │\n",
       "│ 4          ┆ [\"B09Y5CSL3T\", \"B09Y5CW56M\", … \"… │\n",
       "│ 14         ┆ [\"B07LFQPX5L\", \"B07LFPJTVF\", … \"… │\n",
       "│ 15         ┆ [\"B086W985G3\", \"B07YQ2KSM4\", … \"… │\n",
       "│ 27         ┆ [\"B08XB9HWK4\", \"B09K3ZDNLH\", … \"… │\n",
       "└────────────┴───────────────────────────────────┘"
      ]
     },
     "execution_count": 5,
     "metadata": {},
     "output_type": "execute_result"
    }
   ],
   "source": [
    "eval_pl.head().collect()"
   ]
  },
  {
   "cell_type": "code",
   "execution_count": 6,
   "id": "eb47d70e-0543-497c-911f-f2006bdbd9c9",
   "metadata": {},
   "outputs": [
    {
     "data": {
      "text/html": [
       "<div><style>\n",
       ".dataframe > thead > tr > th,\n",
       ".dataframe > tbody > tr > td {\n",
       "  text-align: right;\n",
       "}\n",
       "</style>\n",
       "<small>shape: (5, 4)</small><table border=\"1\" class=\"dataframe\"><thead><tr><th>prev_items</th><th>next_item</th><th>locale</th><th>session_id</th></tr><tr><td>list[str]</td><td>str</td><td>str</td><td>i64</td></tr></thead><tbody><tr><td>[&quot;B09XMTWDVT&quot;, &quot;B0B4MZZ8MB&quot;, … &quot;B0B71CHT1L&quot;]</td><td>&quot;B0B4R9NN4B&quot;</td><td>&quot;DE&quot;</td><td>3</td></tr><tr><td>[&quot;B09Y5CSL3T&quot;, &quot;B09Y5DPTXN&quot;, &quot;B09FKD61R8&quot;]</td><td>&quot;B0BGVBKWGZ&quot;</td><td>&quot;DE&quot;</td><td>4</td></tr><tr><td>[&quot;B07LFQPX5L&quot;, &quot;B07LFPJTVF&quot;]</td><td>&quot;B07LFRP5SS&quot;</td><td>&quot;DE&quot;</td><td>14</td></tr><tr><td>[&quot;B085QWM3KB&quot;, &quot;B001BAAV5W&quot;, … &quot;B000VVMY48&quot;]</td><td>&quot;B000VVSWBM&quot;</td><td>&quot;DE&quot;</td><td>15</td></tr><tr><td>[&quot;B01NAQR0Y2&quot;, &quot;B08XBZL5CM&quot;]</td><td>&quot;B09ZPNHQ12&quot;</td><td>&quot;DE&quot;</td><td>27</td></tr></tbody></table></div>"
      ],
      "text/plain": [
       "shape: (5, 4)\n",
       "┌───────────────────────────────────┬────────────┬────────┬────────────┐\n",
       "│ prev_items                        ┆ next_item  ┆ locale ┆ session_id │\n",
       "│ ---                               ┆ ---        ┆ ---    ┆ ---        │\n",
       "│ list[str]                         ┆ str        ┆ str    ┆ i64        │\n",
       "╞═══════════════════════════════════╪════════════╪════════╪════════════╡\n",
       "│ [\"B09XMTWDVT\", \"B0B4MZZ8MB\", … \"… ┆ B0B4R9NN4B ┆ DE     ┆ 3          │\n",
       "│ [\"B09Y5CSL3T\", \"B09Y5DPTXN\", \"B0… ┆ B0BGVBKWGZ ┆ DE     ┆ 4          │\n",
       "│ [\"B07LFQPX5L\", \"B07LFPJTVF\"]      ┆ B07LFRP5SS ┆ DE     ┆ 14         │\n",
       "│ [\"B085QWM3KB\", \"B001BAAV5W\", … \"… ┆ B000VVSWBM ┆ DE     ┆ 15         │\n",
       "│ [\"B01NAQR0Y2\", \"B08XBZL5CM\"]      ┆ B09ZPNHQ12 ┆ DE     ┆ 27         │\n",
       "└───────────────────────────────────┴────────────┴────────┴────────────┘"
      ]
     },
     "execution_count": 6,
     "metadata": {},
     "output_type": "execute_result"
    }
   ],
   "source": [
    "original_eval_pl.head().collect()"
   ]
  },
  {
   "cell_type": "code",
   "execution_count": 7,
   "id": "b8a48fe4-ceca-42df-b6e0-436a7312096c",
   "metadata": {},
   "outputs": [],
   "source": [
    "merged_pl = original_eval_pl.join(eval_pl, how='left', on='session_id' )"
   ]
  },
  {
   "cell_type": "code",
   "execution_count": 13,
   "id": "0efdb699-335e-40a8-8b89-4dc075ea7147",
   "metadata": {},
   "outputs": [
    {
     "data": {
      "text/html": [
       "<div><style>\n",
       ".dataframe > thead > tr > th,\n",
       ".dataframe > tbody > tr > td {\n",
       "  text-align: right;\n",
       "}\n",
       "</style>\n",
       "<small>shape: (5, 5)</small><table border=\"1\" class=\"dataframe\"><thead><tr><th>prev_items</th><th>next_item</th><th>locale</th><th>session_id</th><th>next_item_prediction</th></tr><tr><td>list[str]</td><td>str</td><td>str</td><td>i64</td><td>list[str]</td></tr></thead><tbody><tr><td>[&quot;B09XMTWDVT&quot;, &quot;B0B4MZZ8MB&quot;, … &quot;B0B71CHT1L&quot;]</td><td>&quot;B0B4R9NN4B&quot;</td><td>&quot;DE&quot;</td><td>3</td><td>[&quot;B0B7HZ2GWX&quot;, &quot;B09XMTWDVT&quot;, … &quot;B09K3WNKZ4&quot;]</td></tr><tr><td>[&quot;B09Y5CSL3T&quot;, &quot;B09Y5DPTXN&quot;, &quot;B09FKD61R8&quot;]</td><td>&quot;B0BGVBKWGZ&quot;</td><td>&quot;DE&quot;</td><td>4</td><td>[&quot;B09Y5CSL3T&quot;, &quot;B09Y5CW56M&quot;, … &quot;B08LKS2KFV&quot;]</td></tr><tr><td>[&quot;B07LFQPX5L&quot;, &quot;B07LFPJTVF&quot;]</td><td>&quot;B07LFRP5SS&quot;</td><td>&quot;DE&quot;</td><td>14</td><td>[&quot;B07LFQPX5L&quot;, &quot;B07LFPJTVF&quot;, … &quot;B09BJY1LBB&quot;]</td></tr><tr><td>[&quot;B085QWM3KB&quot;, &quot;B001BAAV5W&quot;, … &quot;B000VVMY48&quot;]</td><td>&quot;B000VVSWBM&quot;</td><td>&quot;DE&quot;</td><td>15</td><td>[&quot;B086W985G3&quot;, &quot;B07YQ2KSM4&quot;, … &quot;B088FM4Y3B&quot;]</td></tr><tr><td>[&quot;B01NAQR0Y2&quot;, &quot;B08XBZL5CM&quot;]</td><td>&quot;B09ZPNHQ12&quot;</td><td>&quot;DE&quot;</td><td>27</td><td>[&quot;B08XB9HWK4&quot;, &quot;B09K3ZDNLH&quot;, … &quot;B09R1TL35Z&quot;]</td></tr></tbody></table></div>"
      ],
      "text/plain": [
       "shape: (5, 5)\n",
       "┌───────────────────────────────┬────────────┬────────┬────────────┬───────────────────────────────┐\n",
       "│ prev_items                    ┆ next_item  ┆ locale ┆ session_id ┆ next_item_prediction          │\n",
       "│ ---                           ┆ ---        ┆ ---    ┆ ---        ┆ ---                           │\n",
       "│ list[str]                     ┆ str        ┆ str    ┆ i64        ┆ list[str]                     │\n",
       "╞═══════════════════════════════╪════════════╪════════╪════════════╪═══════════════════════════════╡\n",
       "│ [\"B09XMTWDVT\", \"B0B4MZZ8MB\",  ┆ B0B4R9NN4B ┆ DE     ┆ 3          ┆ [\"B0B7HZ2GWX\", \"B09XMTWDVT\",  │\n",
       "│ … \"…                          ┆            ┆        ┆            ┆ … \"…                          │\n",
       "│ [\"B09Y5CSL3T\", \"B09Y5DPTXN\",  ┆ B0BGVBKWGZ ┆ DE     ┆ 4          ┆ [\"B09Y5CSL3T\", \"B09Y5CW56M\",  │\n",
       "│ \"B0…                          ┆            ┆        ┆            ┆ … \"…                          │\n",
       "│ [\"B07LFQPX5L\", \"B07LFPJTVF\"]  ┆ B07LFRP5SS ┆ DE     ┆ 14         ┆ [\"B07LFQPX5L\", \"B07LFPJTVF\",  │\n",
       "│                               ┆            ┆        ┆            ┆ … \"…                          │\n",
       "│ [\"B085QWM3KB\", \"B001BAAV5W\",  ┆ B000VVSWBM ┆ DE     ┆ 15         ┆ [\"B086W985G3\", \"B07YQ2KSM4\",  │\n",
       "│ … \"…                          ┆            ┆        ┆            ┆ … \"…                          │\n",
       "│ [\"B01NAQR0Y2\", \"B08XBZL5CM\"]  ┆ B09ZPNHQ12 ┆ DE     ┆ 27         ┆ [\"B08XB9HWK4\", \"B09K3ZDNLH\",  │\n",
       "│                               ┆            ┆        ┆            ┆ … \"…                          │\n",
       "└───────────────────────────────┴────────────┴────────┴────────────┴───────────────────────────────┘"
      ]
     },
     "execution_count": 13,
     "metadata": {},
     "output_type": "execute_result"
    }
   ],
   "source": [
    "merged_pl.head().collect()"
   ]
  },
  {
   "cell_type": "code",
   "execution_count": 12,
   "id": "986ac4fe-c8f4-466c-99ae-cb10c7f1768e",
   "metadata": {},
   "outputs": [],
   "source": [
    "# def get_next_items(x):\n",
    "#     prev_items = x['prev_items']\n",
    "#     local_rec = x['next_item_prediction']\n",
    "#     final = [ele for ele in local_rec if ele in prev_items]\n",
    "#     return len(final)\n",
    "\n",
    "# (merged_pl\n",
    "#     .with_columns(\n",
    "        \n",
    "#     pl.struct([\"prev_items\", \"next_item_prediction\"]).apply(\n",
    "#                         lambda x: get_next_items(x)).alias('duplicate_num'))\n",
    "#     # .select(pl.col('duplicate_num')).collect().describe()\n",
    "# ).head().collect()\n"
   ]
  },
  {
   "cell_type": "code",
   "execution_count": null,
   "id": "4db879f1-af26-4c2f-98dc-691d0a722878",
   "metadata": {},
   "outputs": [],
   "source": []
  }
 ],
 "metadata": {
  "environment": {
   "kernel": "kdd_2023",
   "name": "common-cu110.m104",
   "type": "gcloud",
   "uri": "gcr.io/deeplearning-platform-release/base-cu110:m104"
  },
  "kernelspec": {
   "display_name": "py3.8(kdd_2023)",
   "language": "python",
   "name": "kdd_2023"
  },
  "language_info": {
   "codemirror_mode": {
    "name": "ipython",
    "version": 3
   },
   "file_extension": ".py",
   "mimetype": "text/x-python",
   "name": "python",
   "nbconvert_exporter": "python",
   "pygments_lexer": "ipython3",
   "version": "3.8.16"
  }
 },
 "nbformat": 4,
 "nbformat_minor": 5
}
