{
 "cells": [
  {
   "cell_type": "markdown",
   "id": "74a60634-5ae6-4470-b7a5-1fe49fa2b196",
   "metadata": {},
   "source": [
    "# Packages "
   ]
  },
  {
   "cell_type": "code",
   "execution_count": 7,
   "id": "c707537b-6320-409d-a2e3-88a8d1cc4a20",
   "metadata": {},
   "outputs": [
    {
     "name": "stdout",
     "output_type": "stream",
     "text": [
      "The autoreload extension is already loaded. To reload it, use:\n",
      "  %reload_ext autoreload\n"
     ]
    }
   ],
   "source": [
    "%load_ext autoreload\n",
    "%autoreload 2\n",
    "import sys\n",
    "import logging\n",
    "base_dir = '../'\n",
    "sys.path.append(base_dir)\n",
    "import os\n",
    "import numpy as np\n",
    "import polars as pl\n",
    "from src.config import raw_data_dir, raw_data_session_id_dir, task1_train_eval_dir"
   ]
  },
  {
   "cell_type": "markdown",
   "id": "ae64513c-a403-4780-a14b-8e950a3b1bd4",
   "metadata": {
    "tags": []
   },
   "source": [
    "# Config "
   ]
  },
  {
   "cell_type": "markdown",
   "id": "82249845-ce61-4803-b586-a1a060e1f2ea",
   "metadata": {},
   "source": [
    "# Download data"
   ]
  },
  {
   "cell_type": "code",
   "execution_count": 20,
   "id": "0caa9acc-03c6-4f73-9113-2f9614cbf66c",
   "metadata": {},
   "outputs": [
    {
     "name": "stdout",
     "output_type": "stream",
     "text": [
      "mkdir: cannot create directory ‘../data/raw_data’: File exists\n",
      "mkdir: cannot create directory ‘../data/raw_data_session_id’: File exists\n",
      "mkdir: cannot create directory ‘../data/task1_train_eval’: File exists\n"
     ]
    }
   ],
   "source": [
    "!mkdir ../{raw_data_dir}\n",
    "!mkdir ../{raw_data_session_id_dir}\n",
    "!mkdir ../{task1_train_eval_dir}"
   ]
  },
  {
   "cell_type": "code",
   "execution_count": 8,
   "id": "9a6403ec-a219-49e8-b668-fac78f29307a",
   "metadata": {},
   "outputs": [
    {
     "name": "stdout",
     "output_type": "stream",
     "text": [
      "Please login here: \u001b[34m\u001b[1m\u001b[4mhttps://api.aicrowd.com/auth/FBlx5GdYycMF1E0I_CN1HsGicHjSzoMpIs1rC2Xjj8M\u001b[0m\n",
      "/usr/bin/xdg-open: 870: /usr/bin/xdg-open: www-browser: not found\n",
      "/usr/bin/xdg-open: 870: /usr/bin/xdg-open: links2: not found\n",
      "/usr/bin/xdg-open: 870: /usr/bin/xdg-open: elinks: not found\n",
      "/usr/bin/xdg-open: 870: /usr/bin/xdg-open: links: not found\n",
      "/usr/bin/xdg-open: 870: /usr/bin/xdg-open: lynx: not found\n",
      "/usr/bin/xdg-open: 870: /usr/bin/xdg-open: w3m: not found\n",
      "xdg-open: no method available for opening 'https://api.aicrowd.com/auth/FBlx5GdYycMF1E0I_CN1HsGicHjSzoMpIs1rC2Xjj8M'\n",
      "\u001b[32mAPI Key valid\u001b[0m\n",
      "\u001b[32mGitlab access token valid\u001b[0m\n",
      "\u001b[32mSaved details successfully!\u001b[0m\n"
     ]
    }
   ],
   "source": [
    "!aicrowd login"
   ]
  },
  {
   "cell_type": "code",
   "execution_count": 13,
   "id": "e951f246-d1d7-4061-b23c-a9f756f53b6c",
   "metadata": {},
   "outputs": [],
   "source": [
    "# !aicrowd dataset download --challenge task-1-next-product-recommendation"
   ]
  },
  {
   "cell_type": "code",
   "execution_count": 15,
   "id": "73621e5e-592a-4e73-a5e5-ceb966da1740",
   "metadata": {},
   "outputs": [
    {
     "name": "stdout",
     "output_type": "stream",
     "text": [
      "\u001b[3m                          Datasets for challenge #1116                          \u001b[0m\n",
      "┌───┬──────────────────────────────┬───────────────────────────────┬───────────┐\n",
      "│\u001b[1;35m \u001b[0m\u001b[1;35m#\u001b[0m\u001b[1;35m \u001b[0m│\u001b[1;35m \u001b[0m\u001b[1;35mTitle                       \u001b[0m\u001b[1;35m \u001b[0m│\u001b[1;35m \u001b[0m\u001b[1;35mDescription                  \u001b[0m\u001b[1;35m \u001b[0m│\u001b[1;35m \u001b[0m\u001b[1;35m     Size\u001b[0m\u001b[1;35m \u001b[0m│\n",
      "├───┼──────────────────────────────┼───────────────────────────────┼───────────┤\n",
      "│ 0 │ Amazon KDD 2023 Test Data -  │ Phase 1 test sessions for KDD │  19.37 MB │\n",
      "│   │ Phase                        │ Cup 2023                      │           │\n",
      "│   │ 1sessions_test_task1.csv     │                               │           │\n",
      "│ 1 │ Amazon KDD 2023 Test Data -  │ Phase 1 test sessions for KDD │   1.92 MB │\n",
      "│   │ Phase                        │ Cup 2023                      │           │\n",
      "│   │ 1sessions_test_task2.csv     │                               │           │\n",
      "│ 2 │ Amazon KDD 2023 Test Data -  │ Phase 1 test sessions for KDD │   2.67 MB │\n",
      "│   │ Phase                        │ Cup 2023                      │           │\n",
      "│   │ 1sessions_test_task3.csv     │                               │           │\n",
      "│ 3 │ Amazon KDD 2023 Training     │ Common training data for all  │ 588.53 MB │\n",
      "│   │ Dataproducts_train.csv       │ 3 tasks of KDD Cup 2023       │           │\n",
      "│ 4 │ Amazon KDD 2023 Training     │ Common training data for all  │ 259.23 MB │\n",
      "│   │ Datasessions_train.csv       │ 3 tasks of KDD Cup 2023       │           │\n",
      "└───┴──────────────────────────────┴───────────────────────────────┴───────────┘\n"
     ]
    }
   ],
   "source": [
    "!aicrowd dataset list --challenge task-1-next-product-recommendation \n",
    "# ../{raw_data_dir}"
   ]
  },
  {
   "cell_type": "markdown",
   "id": "0cb73f26-f958-4e44-bf50-89f907d8c9a8",
   "metadata": {},
   "source": [
    "# Preprocess data "
   ]
  },
  {
   "cell_type": "markdown",
   "id": "21975f14-e108-4173-96ea-104e6afef574",
   "metadata": {
    "tags": []
   },
   "source": [
    "# Task1 "
   ]
  },
  {
   "cell_type": "code",
   "execution_count": 2,
   "id": "600c3d6f-bc93-4da5-a9b7-00017d11a890",
   "metadata": {},
   "outputs": [],
   "source": [
    "train_pl = pl.scan_csv(os.path.join('..', raw_data_dir, 'sessions_train.csv'))\n",
    "task1_pl = pl.scan_csv(os.path.join('..', raw_data_dir, 'sessions_test_task1.csv'))\n",
    "task2_pl = pl.scan_csv(os.path.join('..', raw_data_dir, 'sessions_test_task2.csv'))\n",
    "task3_pl = pl.scan_csv(os.path.join('..', raw_data_dir, 'sessions_test_task3.csv'))\n",
    "product_pl = pl.scan_csv(os.path.join('..', raw_data_dir, 'products_train.csv'))"
   ]
  },
  {
   "cell_type": "code",
   "execution_count": 3,
   "id": "e7531f02-add5-41b7-a832-902105bbc5be",
   "metadata": {},
   "outputs": [
    {
     "name": "stdout",
     "output_type": "stream",
     "text": [
      "\n",
      "\n",
      "{'prev_items': Utf8, 'next_item': Utf8, 'locale': Utf8}\n",
      "(3606249, 3)\n",
      "\n",
      "shape: (3, 3)\n",
      "┌───────────────────────────────────┬────────────┬────────┐\n",
      "│ prev_items                        ┆ next_item  ┆ locale │\n",
      "│ ---                               ┆ ---        ┆ ---    │\n",
      "│ str                               ┆ str        ┆ str    │\n",
      "╞═══════════════════════════════════╪════════════╪════════╡\n",
      "│ ['B09W9FND7K' 'B09JSPLN1M']       ┆ B09M7GY217 ┆ DE     │\n",
      "│ ['B076THCGSG' 'B007MO8IME' 'B08M… ┆ B001B4THSA ┆ DE     │\n",
      "│ ['B0B1LGXWDS' 'B00AZYORS2' 'B0B1… ┆ B0767DTG2Q ┆ DE     │\n",
      "└───────────────────────────────────┴────────────┴────────┘\n",
      "\n",
      "\n",
      "\n",
      "\n",
      "{'prev_items': Utf8, 'locale': Utf8}\n",
      "(316971, 2)\n",
      "\n",
      "shape: (3, 2)\n",
      "┌───────────────────────────────────┬────────┐\n",
      "│ prev_items                        ┆ locale │\n",
      "│ ---                               ┆ ---    │\n",
      "│ str                               ┆ str    │\n",
      "╞═══════════════════════════════════╪════════╡\n",
      "│ ['B08V12CT4C' 'B08V1KXBQD' 'B01B… ┆ DE     │\n",
      "│ ['B00R9R5ND6' 'B00R9RZ9ZS' 'B00R… ┆ DE     │\n",
      "│ ['B07YSRXJD3' 'B07G7Q5N6G' 'B08C… ┆ DE     │\n",
      "└───────────────────────────────────┴────────┘\n",
      "\n",
      "\n",
      "\n",
      "\n",
      "{'prev_items': Utf8, 'locale': Utf8}\n",
      "(34691, 2)\n",
      "\n",
      "shape: (3, 2)\n",
      "┌───────────────────────────────────┬────────┐\n",
      "│ prev_items                        ┆ locale │\n",
      "│ ---                               ┆ ---    │\n",
      "│ str                               ┆ str    │\n",
      "╞═══════════════════════════════════╪════════╡\n",
      "│ ['B08GYKNCCP' 'B08HCPTMJG' 'B08H… ┆ ES     │\n",
      "│ ['B08NYF9MBQ' 'B085NGXGWM']       ┆ ES     │\n",
      "│ ['B091FL1QFK' 'B0B1DG29F4']       ┆ ES     │\n",
      "└───────────────────────────────────┴────────┘\n",
      "\n",
      "\n",
      "\n",
      "\n",
      "{'prev_items': Utf8, 'locale': Utf8}\n",
      "(56423, 2)\n",
      "\n",
      "shape: (3, 2)\n",
      "┌───────────────────────────────────┬────────┐\n",
      "│ prev_items                        ┆ locale │\n",
      "│ ---                               ┆ ---    │\n",
      "│ str                               ┆ str    │\n",
      "╞═══════════════════════════════════╪════════╡\n",
      "│ ['B082DLM3NZ' 'B089X86H73']       ┆ ES     │\n",
      "│ ['B071WPLND2' 'B08TMJ9SDZ' 'B07X… ┆ ES     │\n",
      "│ ['B094V8G54H' 'B094V97YV8']       ┆ ES     │\n",
      "└───────────────────────────────────┴────────┘\n",
      "\n",
      "\n",
      "\n",
      "\n",
      "{'id': Utf8, 'locale': Utf8, 'title': Utf8, 'price': Float64, 'brand': Utf8, 'color': Utf8, 'size': Utf8, 'model': Utf8, 'material': Utf8, 'author': Utf8, 'desc': Utf8}\n",
      "(1551057, 11)\n",
      "\n",
      "shape: (3, 11)\n",
      "┌────────────┬────────┬────────────────┬───────┬───┬─────────┬────────────┬────────┬───────────────┐\n",
      "│ id         ┆ locale ┆ title          ┆ price ┆ … ┆ model   ┆ material   ┆ author ┆ desc          │\n",
      "│ ---        ┆ ---    ┆ ---            ┆ ---   ┆   ┆ ---     ┆ ---        ┆ ---    ┆ ---           │\n",
      "│ str        ┆ str    ┆ str            ┆ f64   ┆   ┆ str     ┆ str        ┆ str    ┆ str           │\n",
      "╞════════════╪════════╪════════════════╪═══════╪═══╪═════════╪════════════╪════════╪═══════════════╡\n",
      "│ B005ZSSN10 ┆ DE     ┆ RED DRAGON     ┆ 30.95 ┆ … ┆ RDD0089 ┆ null       ┆ null   ┆ Amberjacks    │\n",
      "│            ┆        ┆ Amberjack 3 -  ┆       ┆   ┆         ┆            ┆        ┆ Steel         │\n",
      "│            ┆        ┆ Steel T…       ┆       ┆   ┆         ┆            ┆        ┆ Dartpfeile    │\n",
      "│            ┆        ┆                ┆       ┆   ┆         ┆            ┆        ┆ sind…         │\n",
      "│ B08PRYN6LD ┆ DE     ┆ Simply Keto    ┆ 17.9  ┆ … ┆ null    ┆ null       ┆ null   ┆ 🌱 NATÜRLICHE │\n",
      "│            ┆        ┆ Lower Carb*    ┆       ┆   ┆         ┆            ┆        ┆ SÜSSE DURCH   │\n",
      "│            ┆        ┆ Schokodr…      ┆       ┆   ┆         ┆            ┆        ┆ ERYTHRI…      │\n",
      "│ B09MBZJ48V ┆ DE     ┆ Sennheiser     ┆ 68.89 ┆ … ┆ 508377  ┆ Kunstleder ┆ null   ┆ 3.5 MM BUCHSE │\n",
      "│            ┆        ┆ 508377 PC 5.2  ┆       ┆   ┆         ┆            ┆        ┆ - Kann        │\n",
      "│            ┆        ┆ Chat, S…       ┆       ┆   ┆         ┆            ┆        ┆ problemlos …  │\n",
      "└────────────┴────────┴────────────────┴───────┴───┴─────────┴────────────┴────────┴───────────────┘\n",
      "\n",
      "\n"
     ]
    }
   ],
   "source": [
    "length_lst = []\n",
    "for df in [train_pl, task1_pl, task2_pl, task3_pl, product_pl]:\n",
    "    print()\n",
    "    print()\n",
    "    print(df.schema)\n",
    "    shape = df.collect().shape\n",
    "    length_lst.append(shape[0])\n",
    "    print(shape)\n",
    "    print()\n",
    "    print(df.head(3).collect())\n",
    "    print()\n",
    "    print()"
   ]
  },
  {
   "cell_type": "code",
   "execution_count": 4,
   "id": "7beaa633-58f3-4e1d-8b7e-27f6ef754be7",
   "metadata": {},
   "outputs": [
    {
     "data": {
      "text/plain": [
       "[3606249, 316971, 34691, 56423, 1551057]"
      ]
     },
     "execution_count": 4,
     "metadata": {},
     "output_type": "execute_result"
    }
   ],
   "source": [
    "length_lst"
   ]
  },
  {
   "cell_type": "code",
   "execution_count": null,
   "id": "3babbd70-7178-4a43-8b19-99c19a13ba64",
   "metadata": {},
   "outputs": [],
   "source": []
  },
  {
   "cell_type": "code",
   "execution_count": null,
   "id": "67dc798b-f13a-4f18-ab76-308463d47edf",
   "metadata": {},
   "outputs": [],
   "source": []
  },
  {
   "cell_type": "code",
   "execution_count": 15,
   "id": "8b2d2955-9334-4803-9875-9b659c700063",
   "metadata": {},
   "outputs": [],
   "source": [
    "train_pl = train_pl.with_columns(\n",
    "    pl.Series(name='session_id', values=range(length_lst[0]))\n",
    "    , pl.Series(name='random', values=np.random.uniform(size=length_lst[0]))\n",
    ")\n",
    "task1_pl= task1_pl.with_columns(\n",
    "    pl.Series(name='session_id', values=range(length_lst[0],sum(length_lst[:2])))\n",
    ")\n",
    "task2_pl= task2_pl.with_columns(\n",
    "    pl.Series(name='session_id', values=range(sum(length_lst[:2]),sum(length_lst[:3])))\n",
    ")\n",
    "task3_pl= task3_pl.with_columns(\n",
    "    pl.Series(name='session_id', values=range(sum(length_lst[:3]),sum(length_lst[:4])))\n",
    ")"
   ]
  },
  {
   "cell_type": "code",
   "execution_count": 16,
   "id": "1edfe6e9-fd18-4e8f-9073-b577fe2d1ede",
   "metadata": {},
   "outputs": [],
   "source": [
    "# assert train_pl.select('session_id').max().collect()<200"
   ]
  },
  {
   "cell_type": "code",
   "execution_count": null,
   "id": "8702c3e2-9b3f-4c59-b927-67fd0cddb816",
   "metadata": {},
   "outputs": [],
   "source": []
  },
  {
   "cell_type": "code",
   "execution_count": null,
   "id": "b6523905-7831-4d6e-8b7b-f53e6c7bc867",
   "metadata": {},
   "outputs": [],
   "source": []
  },
  {
   "cell_type": "code",
   "execution_count": 17,
   "id": "602e5852-b2c1-4473-a2b2-ad5c89d323c9",
   "metadata": {},
   "outputs": [
    {
     "data": {
      "text/html": [
       "<div><style>\n",
       ".dataframe > thead > tr > th,\n",
       ".dataframe > tbody > tr > td {\n",
       "  text-align: right;\n",
       "}\n",
       "</style>\n",
       "<small>shape: (1, 1)</small><table border=\"1\" class=\"dataframe\"><thead><tr><th>session_id</th></tr><tr><td>i64</td></tr></thead><tbody><tr><td>3606248</td></tr></tbody></table></div>"
      ],
      "text/plain": [
       "shape: (1, 1)\n",
       "┌────────────┐\n",
       "│ session_id │\n",
       "│ ---        │\n",
       "│ i64        │\n",
       "╞════════════╡\n",
       "│ 3606248    │\n",
       "└────────────┘"
      ]
     },
     "execution_count": 17,
     "metadata": {},
     "output_type": "execute_result"
    }
   ],
   "source": [
    "train_pl.select('session_id').max().collect()"
   ]
  },
  {
   "cell_type": "code",
   "execution_count": 53,
   "id": "3b41572c-b602-46a8-bbe0-3aa849cd677c",
   "metadata": {},
   "outputs": [
    {
     "data": {
      "text/html": [
       "<div><style>\n",
       ".dataframe > thead > tr > th,\n",
       ".dataframe > tbody > tr > td {\n",
       "  text-align: right;\n",
       "}\n",
       "</style>\n",
       "<small>shape: (1, 1)</small><table border=\"1\" class=\"dataframe\"><thead><tr><th>session_id</th></tr><tr><td>i64</td></tr></thead><tbody><tr><td>3606249</td></tr></tbody></table></div>"
      ],
      "text/plain": [
       "shape: (1, 1)\n",
       "┌────────────┐\n",
       "│ session_id │\n",
       "│ ---        │\n",
       "│ i64        │\n",
       "╞════════════╡\n",
       "│ 3606249    │\n",
       "└────────────┘"
      ]
     },
     "execution_count": 53,
     "metadata": {},
     "output_type": "execute_result"
    }
   ],
   "source": [
    "task1_pl.select('session_id').min().collect()"
   ]
  },
  {
   "cell_type": "code",
   "execution_count": 54,
   "id": "6c9893fd-bf13-4128-bae9-c3178e9ed332",
   "metadata": {},
   "outputs": [
    {
     "data": {
      "text/html": [
       "<div><style>\n",
       ".dataframe > thead > tr > th,\n",
       ".dataframe > tbody > tr > td {\n",
       "  text-align: right;\n",
       "}\n",
       "</style>\n",
       "<small>shape: (1, 1)</small><table border=\"1\" class=\"dataframe\"><thead><tr><th>session_id</th></tr><tr><td>i64</td></tr></thead><tbody><tr><td>3923220</td></tr></tbody></table></div>"
      ],
      "text/plain": [
       "shape: (1, 1)\n",
       "┌────────────┐\n",
       "│ session_id │\n",
       "│ ---        │\n",
       "│ i64        │\n",
       "╞════════════╡\n",
       "│ 3923220    │\n",
       "└────────────┘"
      ]
     },
     "execution_count": 54,
     "metadata": {},
     "output_type": "execute_result"
    }
   ],
   "source": [
    "task2_pl.select('session_id').min().collect()"
   ]
  },
  {
   "cell_type": "code",
   "execution_count": 55,
   "id": "c442ecfa-3056-4b51-8995-5bea7569d1b8",
   "metadata": {},
   "outputs": [
    {
     "data": {
      "text/html": [
       "<div><style>\n",
       ".dataframe > thead > tr > th,\n",
       ".dataframe > tbody > tr > td {\n",
       "  text-align: right;\n",
       "}\n",
       "</style>\n",
       "<small>shape: (1, 1)</small><table border=\"1\" class=\"dataframe\"><thead><tr><th>session_id</th></tr><tr><td>i64</td></tr></thead><tbody><tr><td>3957911</td></tr></tbody></table></div>"
      ],
      "text/plain": [
       "shape: (1, 1)\n",
       "┌────────────┐\n",
       "│ session_id │\n",
       "│ ---        │\n",
       "│ i64        │\n",
       "╞════════════╡\n",
       "│ 3957911    │\n",
       "└────────────┘"
      ]
     },
     "execution_count": 55,
     "metadata": {},
     "output_type": "execute_result"
    }
   ],
   "source": [
    "task3_pl.select('session_id').min().collect()"
   ]
  },
  {
   "cell_type": "markdown",
   "id": "515a4e6b-4da6-4de8-9f9a-24fe17c87cfe",
   "metadata": {},
   "source": [
    "## Save data with session_id "
   ]
  },
  {
   "cell_type": "code",
   "execution_count": 18,
   "id": "5610464b-72dd-4046-839b-8d7b23bd17a9",
   "metadata": {},
   "outputs": [],
   "source": [
    "eval_df = train_pl.filter(pl.col('random')<=0.1).select(pl.all().exclude('random'))\n",
    "train_df = train_pl.filter(pl.col('random')>0.1).select(pl.all().exclude('random'))"
   ]
  },
  {
   "cell_type": "code",
   "execution_count": 19,
   "id": "57d796cc-7f42-4d96-89e0-03f5df634476",
   "metadata": {},
   "outputs": [
    {
     "data": {
      "text/plain": [
       "(359776, 4)"
      ]
     },
     "execution_count": 19,
     "metadata": {},
     "output_type": "execute_result"
    }
   ],
   "source": [
    "eval_df.collect().shape"
   ]
  },
  {
   "cell_type": "code",
   "execution_count": 20,
   "id": "f5efc0af-601d-4fab-9515-6d72125301a6",
   "metadata": {},
   "outputs": [
    {
     "data": {
      "text/plain": [
       "(3246473, 4)"
      ]
     },
     "execution_count": 20,
     "metadata": {},
     "output_type": "execute_result"
    }
   ],
   "source": [
    "train_df.collect().shape"
   ]
  },
  {
   "cell_type": "code",
   "execution_count": 21,
   "id": "aa3023eb-d81f-448c-8fba-81b5cf40ab0b",
   "metadata": {},
   "outputs": [
    {
     "data": {
      "text/plain": [
       "(3606249, 5)"
      ]
     },
     "execution_count": 21,
     "metadata": {},
     "output_type": "execute_result"
    }
   ],
   "source": [
    "train_pl.collect().shape"
   ]
  },
  {
   "cell_type": "code",
   "execution_count": 22,
   "id": "31b64564-4a74-43ac-b8b5-44450b818f87",
   "metadata": {},
   "outputs": [],
   "source": [
    "train_df.collect().write_parquet(os.path.join(base_dir, raw_data_session_id_dir, 'sessions_train.parquet'))\n",
    "eval_df.collect().write_parquet(os.path.join(base_dir, raw_data_session_id_dir, 'sessions_eval.parquet'))"
   ]
  },
  {
   "cell_type": "code",
   "execution_count": 66,
   "id": "5b44db16-b8c2-4651-950d-68a3963c5b70",
   "metadata": {},
   "outputs": [],
   "source": [
    "\n",
    "task1_pl.collect().write_parquet(os.path.join(base_dir, raw_data_session_id_dir, 'sessions_test_task1.parquet'))\n",
    "task2_pl.collect().write_parquet(os.path.join(base_dir, raw_data_session_id_dir, 'sessions_test_task2.parquet'))\n",
    "task3_pl.collect().write_parquet(os.path.join(base_dir, raw_data_session_id_dir, 'sessions_test_task3.parquet'))"
   ]
  },
  {
   "cell_type": "markdown",
   "id": "c57f86e3-c04d-4eb5-a034-c7e22c5b199b",
   "metadata": {},
   "source": [
    "## Production data "
   ]
  },
  {
   "cell_type": "code",
   "execution_count": 82,
   "id": "8fe7cd0b-70e5-4c58-8975-19612f6f847c",
   "metadata": {},
   "outputs": [],
   "source": [
    "value_counts = product_pl.with_columns(pl.count().over('id').alias('cnt')).select(['id', 'cnt']).unique().collect().to_pandas()['cnt'].value_counts()"
   ]
  },
  {
   "cell_type": "code",
   "execution_count": 84,
   "id": "b1b04471-ca38-4256-b4f2-bd5a4e324900",
   "metadata": {},
   "outputs": [
    {
     "data": {
      "text/plain": [
       "cnt\n",
       "1    1311106\n",
       "2      72977\n",
       "3      16368\n",
       "4       6738\n",
       "5       2975\n",
       "6        511\n",
       "Name: count, dtype: int64"
      ]
     },
     "execution_count": 84,
     "metadata": {},
     "output_type": "execute_result"
    }
   ],
   "source": [
    "value_counts"
   ]
  },
  {
   "cell_type": "code",
   "execution_count": 86,
   "id": "ac33b3b0-dfe2-4512-9c98-2c6cf6a34b84",
   "metadata": {},
   "outputs": [
    {
     "data": {
      "text/plain": [
       "cnt\n",
       "1    0.929417\n",
       "2    0.051732\n",
       "3    0.011603\n",
       "4    0.004776\n",
       "5    0.002109\n",
       "6    0.000362\n",
       "Name: count, dtype: float64"
      ]
     },
     "execution_count": 86,
     "metadata": {},
     "output_type": "execute_result"
    }
   ],
   "source": [
    "value_counts/value_counts.sum()"
   ]
  },
  {
   "cell_type": "markdown",
   "id": "69ee2179-2615-4210-aaf1-918e7cd5f897",
   "metadata": {},
   "source": [
    "**92% of products only in a single country; the rests are in more than one country**"
   ]
  },
  {
   "cell_type": "markdown",
   "id": "97083ef2-565f-4f21-9515-56640c63fbeb",
   "metadata": {
    "tags": []
   },
   "source": [
    "### A example "
   ]
  },
  {
   "cell_type": "code",
   "execution_count": 72,
   "id": "adf82bf1-11d5-49a2-a15a-e4e2ae8ea9a9",
   "metadata": {},
   "outputs": [
    {
     "data": {
      "text/html": [
       "<div><style>\n",
       ".dataframe > thead > tr > th,\n",
       ".dataframe > tbody > tr > td {\n",
       "  text-align: right;\n",
       "}\n",
       "</style>\n",
       "<small>shape: (5, 12)</small><table border=\"1\" class=\"dataframe\"><thead><tr><th>id</th><th>locale</th><th>title</th><th>price</th><th>brand</th><th>color</th><th>size</th><th>model</th><th>material</th><th>author</th><th>desc</th><th>cnt</th></tr><tr><td>str</td><td>str</td><td>str</td><td>f64</td><td>str</td><td>str</td><td>str</td><td>str</td><td>str</td><td>str</td><td>str</td><td>u32</td></tr></thead><tbody><tr><td>&quot;B0B9W7W8JD&quot;</td><td>&quot;FR&quot;</td><td>&quot;RAVIAD Câble U…</td><td>6.99</td><td>&quot;RAVIAD&quot;</td><td>&quot;Argent&quot;</td><td>&quot;0.3M&quot;</td><td>&quot;H011-SI-030&quot;</td><td>null</td><td>null</td><td>&quot;【Compatibilité…</td><td>6</td></tr><tr><td>&quot;B09YMV3TXX&quot;</td><td>&quot;DE&quot;</td><td>&quot;Spigen Ultra H…</td><td>16.99</td><td>&quot;Spigen&quot;</td><td>&quot;Crystal Clear&quot;</td><td>null</td><td>&quot;ACS04726&quot;</td><td>&quot;Polycarbonat&quot;</td><td>null</td><td>&quot;Die Konstrukti…</td><td>6</td></tr><tr><td>&quot;B005EJH6RW&quot;</td><td>&quot;DE&quot;</td><td>&quot;Amazon Basics …</td><td>9.69</td><td>&quot;Amazon Basics&quot;</td><td>&quot;Schwarz&quot;</td><td>&quot;1-Pack&quot;</td><td>&quot;MSU0939&quot;</td><td>null</td><td>null</td><td>&quot;High-definitio…</td><td>6</td></tr><tr><td>&quot;B07ZF8WFZN&quot;</td><td>&quot;IT&quot;</td><td>&quot;Cavo da HDMI a…</td><td>11.99</td><td>&quot;BENFEI&quot;</td><td>&quot;1 Confezioni&quot;</td><td>&quot;0,9 metri&quot;</td><td>&quot;000282black&quot;</td><td>null</td><td>null</td><td>&quot;18 MESI DI GAR…</td><td>6</td></tr><tr><td>&quot;B075GQ87PV&quot;</td><td>&quot;JP&quot;</td><td>&quot;レゴ(LEGO) クラシック…</td><td>2345.0</td><td>&quot;レゴ(LEGO)&quot;</td><td>null</td><td>null</td><td>&quot;10713&quot;</td><td>null</td><td>null</td><td>&quot;かしこく収納&quot;</td><td>6</td></tr></tbody></table></div>"
      ],
      "text/plain": [
       "shape: (5, 12)\n",
       "┌────────────┬────────┬────────────────┬────────┬───┬──────────────┬────────┬────────────────┬─────┐\n",
       "│ id         ┆ locale ┆ title          ┆ price  ┆ … ┆ material     ┆ author ┆ desc           ┆ cnt │\n",
       "│ ---        ┆ ---    ┆ ---            ┆ ---    ┆   ┆ ---          ┆ ---    ┆ ---            ┆ --- │\n",
       "│ str        ┆ str    ┆ str            ┆ f64    ┆   ┆ str          ┆ str    ┆ str            ┆ u32 │\n",
       "╞════════════╪════════╪════════════════╪════════╪═══╪══════════════╪════════╪════════════════╪═════╡\n",
       "│ B0B9W7W8JD ┆ FR     ┆ RAVIAD Câble   ┆ 6.99   ┆ … ┆ null         ┆ null   ┆ 【Compatibilit ┆ 6   │\n",
       "│            ┆        ┆ USB C Court    ┆        ┆   ┆              ┆        ┆ é Etendue】Cha ┆     │\n",
       "│            ┆        ┆ [30CM L…       ┆        ┆   ┆              ┆        ┆ rgeur …        ┆     │\n",
       "│ B09YMV3TXX ┆ DE     ┆ Spigen Ultra   ┆ 16.99  ┆ … ┆ Polycarbonat ┆ null   ┆ Die            ┆ 6   │\n",
       "│            ┆        ┆ Hybrid Hülle   ┆        ┆   ┆              ┆        ┆ Konstruktion   ┆     │\n",
       "│            ┆        ┆ Kompat…        ┆        ┆   ┆              ┆        ┆ aus PC Platte  ┆     │\n",
       "│            ┆        ┆                ┆        ┆   ┆              ┆        ┆ u…             ┆     │\n",
       "│ B005EJH6RW ┆ DE     ┆ Amazon Basics  ┆ 9.69   ┆ … ┆ null         ┆ null   ┆ High-definitio ┆ 6   │\n",
       "│            ┆        ┆ - Optische     ┆        ┆   ┆              ┆        ┆ n (1000 dpi)   ┆     │\n",
       "│            ┆        ┆ Maus mi…       ┆        ┆   ┆              ┆        ┆ optis…         ┆     │\n",
       "│ B07ZF8WFZN ┆ IT     ┆ Cavo da HDMI a ┆ 11.99  ┆ … ┆ null         ┆ null   ┆ 18 MESI DI     ┆ 6   │\n",
       "│            ┆        ┆ VGA, BENFEI    ┆        ┆   ┆              ┆        ┆ GARANZIA -     ┆     │\n",
       "│            ┆        ┆ 0,9M …         ┆        ┆   ┆              ┆        ┆ L'esclusiv…    ┆     │\n",
       "│ B075GQ87PV ┆ JP     ┆ レゴ(LEGO)     ┆ 2345.0 ┆ … ┆ null         ┆ null   ┆ かしこく収納   ┆ 6   │\n",
       "│            ┆        ┆ クラシック ア  ┆        ┆   ┆              ┆        ┆                ┆     │\n",
       "│            ┆        ┆ イデアパーツ<  ┆        ┆   ┆              ┆        ┆                ┆     │\n",
       "│            ┆        ┆ 収納ケースつき ┆        ┆   ┆              ┆        ┆                ┆     │\n",
       "│            ┆        ┆ > …            ┆        ┆   ┆              ┆        ┆                ┆     │\n",
       "└────────────┴────────┴────────────────┴────────┴───┴──────────────┴────────┴────────────────┴─────┘"
      ]
     },
     "execution_count": 72,
     "metadata": {},
     "output_type": "execute_result"
    }
   ],
   "source": [
    "product_pl.with_columns(pl.count().over('id').alias('cnt')).sort(['cnt'], descending=True).head().collect()"
   ]
  },
  {
   "cell_type": "code",
   "execution_count": 74,
   "id": "425effd5-1a92-4721-9916-5d41b9a1226f",
   "metadata": {},
   "outputs": [
    {
     "data": {
      "text/html": [
       "<div><style>\n",
       ".dataframe > thead > tr > th,\n",
       ".dataframe > tbody > tr > td {\n",
       "  text-align: right;\n",
       "}\n",
       "</style>\n",
       "<small>shape: (6, 11)</small><table border=\"1\" class=\"dataframe\"><thead><tr><th>id</th><th>locale</th><th>title</th><th>price</th><th>brand</th><th>color</th><th>size</th><th>model</th><th>material</th><th>author</th><th>desc</th></tr><tr><td>str</td><td>str</td><td>str</td><td>f64</td><td>str</td><td>str</td><td>str</td><td>str</td><td>str</td><td>str</td><td>str</td></tr></thead><tbody><tr><td>&quot;B0B9W7W8JD&quot;</td><td>&quot;DE&quot;</td><td>&quot;USB C Kabel Ku…</td><td>6.99</td><td>&quot;RAVIAD&quot;</td><td>&quot;Silver&quot;</td><td>&quot;0.3M&quot;</td><td>&quot;H011-SI-030&quot;</td><td>null</td><td>null</td><td>&quot;【Beidseitig nu…</td></tr><tr><td>&quot;B0B9W7W8JD&quot;</td><td>&quot;JP&quot;</td><td>&quot;RAVIAD USB Typ…</td><td>699.0</td><td>&quot;RAVIAD&quot;</td><td>&quot;シルバー&quot;</td><td>&quot;0.3M&quot;</td><td>&quot;H011-SI-030&quot;</td><td>null</td><td>null</td><td>&quot;【卓越した耐久性】高耐久を持…</td></tr><tr><td>&quot;B0B9W7W8JD&quot;</td><td>&quot;UK&quot;</td><td>&quot;Short USB C Ca…</td><td>5.99</td><td>&quot;RAVIAD&quot;</td><td>&quot;Silver&quot;</td><td>&quot;0.3M&quot;</td><td>&quot;H011-SI-030&quot;</td><td>null</td><td>null</td><td>&quot;【24-Month Warr…</td></tr><tr><td>&quot;B0B9W7W8JD&quot;</td><td>&quot;ES&quot;</td><td>&quot;RAVIAD Cable U…</td><td>6.99</td><td>&quot;RAVIAD&quot;</td><td>&quot;Silver&quot;</td><td>&quot;0.3M&quot;</td><td>&quot;H011-SI-030&quot;</td><td>null</td><td>null</td><td>&quot;【Carga Rápida …</td></tr><tr><td>&quot;B0B9W7W8JD&quot;</td><td>&quot;FR&quot;</td><td>&quot;RAVIAD Câble U…</td><td>6.99</td><td>&quot;RAVIAD&quot;</td><td>&quot;Argent&quot;</td><td>&quot;0.3M&quot;</td><td>&quot;H011-SI-030&quot;</td><td>null</td><td>null</td><td>&quot;【Compatibilité…</td></tr><tr><td>&quot;B0B9W7W8JD&quot;</td><td>&quot;IT&quot;</td><td>&quot;RAVIAD Cavo US…</td><td>6.99</td><td>&quot;RAVIAD&quot;</td><td>&quot;Argento&quot;</td><td>&quot;0.3M&quot;</td><td>&quot;H011-SI-030&quot;</td><td>null</td><td>null</td><td>&quot;【Connettore Re…</td></tr></tbody></table></div>"
      ],
      "text/plain": [
       "shape: (6, 11)\n",
       "┌────────────┬────────┬───────────────┬───────┬───┬─────────────┬──────────┬────────┬──────────────┐\n",
       "│ id         ┆ locale ┆ title         ┆ price ┆ … ┆ model       ┆ material ┆ author ┆ desc         │\n",
       "│ ---        ┆ ---    ┆ ---           ┆ ---   ┆   ┆ ---         ┆ ---      ┆ ---    ┆ ---          │\n",
       "│ str        ┆ str    ┆ str           ┆ f64   ┆   ┆ str         ┆ str      ┆ str    ┆ str          │\n",
       "╞════════════╪════════╪═══════════════╪═══════╪═══╪═════════════╪══════════╪════════╪══════════════╡\n",
       "│ B0B9W7W8JD ┆ DE     ┆ USB C Kabel   ┆ 6.99  ┆ … ┆ H011-SI-030 ┆ null     ┆ null   ┆ 【Beidseitig │\n",
       "│            ┆        ┆ Kurz [2Stück  ┆       ┆   ┆             ┆          ┆        ┆ nutzbarer    │\n",
       "│            ┆        ┆ 30CM], …      ┆       ┆   ┆             ┆          ┆        ┆ Stecker】Da… │\n",
       "│ B0B9W7W8JD ┆ JP     ┆ RAVIAD USB    ┆ 699.0 ┆ … ┆ H011-SI-030 ┆ null     ┆ null   ┆ 【卓越した耐 │\n",
       "│            ┆        ┆ Type C ケーブ ┆       ┆   ┆             ┆          ┆        ┆ 久性】高耐久 │\n",
       "│            ┆        ┆ ル【0.3m/2本  ┆       ┆   ┆             ┆          ┆        ┆ を持つ断線し │\n",
       "│            ┆        ┆ セッ…         ┆       ┆   ┆             ┆          ┆        ┆ にくいナイロ │\n",
       "│            ┆        ┆               ┆       ┆   ┆             ┆          ┆        ┆ ン素材を採用 │\n",
       "│            ┆        ┆               ┆       ┆   ┆             ┆          ┆        ┆ し、…        │\n",
       "│ B0B9W7W8JD ┆ UK     ┆ Short USB C   ┆ 5.99  ┆ … ┆ H011-SI-030 ┆ null     ┆ null   ┆ 【24-Month   │\n",
       "│            ┆        ┆ Cable [2Pack  ┆       ┆   ┆             ┆          ┆        ┆ Warranty】RA │\n",
       "│            ┆        ┆ 30CM], …      ┆       ┆   ┆             ┆          ┆        ┆ VIAD 2 Pack… │\n",
       "│ B0B9W7W8JD ┆ ES     ┆ RAVIAD Cable  ┆ 6.99  ┆ … ┆ H011-SI-030 ┆ null     ┆ null   ┆ 【Carga      │\n",
       "│            ┆        ┆ USB C Corto   ┆       ┆   ┆             ┆          ┆        ┆ Rápida y Sin │\n",
       "│            ┆        ┆ [2Pack …      ┆       ┆   ┆             ┆          ┆        ┆ cronización  │\n",
       "│            ┆        ┆               ┆       ┆   ┆             ┆          ┆        ┆ 】E…         │\n",
       "│ B0B9W7W8JD ┆ FR     ┆ RAVIAD Câble  ┆ 6.99  ┆ … ┆ H011-SI-030 ┆ null     ┆ null   ┆ 【Compatibil │\n",
       "│            ┆        ┆ USB C Court   ┆       ┆   ┆             ┆          ┆        ┆ ité Etendue  │\n",
       "│            ┆        ┆ [30CM L…      ┆       ┆   ┆             ┆          ┆        ┆ 】Chargeur … │\n",
       "│ B0B9W7W8JD ┆ IT     ┆ RAVIAD Cavo   ┆ 6.99  ┆ … ┆ H011-SI-030 ┆ null     ┆ null   ┆ 【Connettore │\n",
       "│            ┆        ┆ USB Type-C    ┆       ┆   ┆             ┆          ┆        ┆ Reversibile  │\n",
       "│            ┆        ┆ Corto [2P…    ┆       ┆   ┆             ┆          ┆        ┆ 】Il Cavo …  │\n",
       "└────────────┴────────┴───────────────┴───────┴───┴─────────────┴──────────┴────────┴──────────────┘"
      ]
     },
     "execution_count": 74,
     "metadata": {},
     "output_type": "execute_result"
    }
   ],
   "source": [
    "product_pl.filter(pl.col('id')=='B0B9W7W8JD').collect()"
   ]
  },
  {
   "cell_type": "markdown",
   "id": "e5de391b-efb0-4e80-86d2-ec5c161a29c2",
   "metadata": {},
   "source": [
    "### Save product info "
   ]
  },
  {
   "cell_type": "code",
   "execution_count": 87,
   "id": "48d81e43-3b3d-40f2-af71-06105ba65e6c",
   "metadata": {},
   "outputs": [],
   "source": [
    "product_pl = product_pl.with_columns(\n",
    "    pl.Series(name='unique_id', values=range(length_lst[-1]))\n",
    ")"
   ]
  },
  {
   "cell_type": "code",
   "execution_count": 88,
   "id": "251ca200-a8c5-4aa2-bc77-7f69782db2be",
   "metadata": {},
   "outputs": [
    {
     "data": {
      "text/plain": [
       "{'id': Utf8,\n",
       " 'locale': Utf8,\n",
       " 'title': Utf8,\n",
       " 'price': Float64,\n",
       " 'brand': Utf8,\n",
       " 'color': Utf8,\n",
       " 'size': Utf8,\n",
       " 'model': Utf8,\n",
       " 'material': Utf8,\n",
       " 'author': Utf8,\n",
       " 'desc': Utf8,\n",
       " 'unique_id': Int64}"
      ]
     },
     "execution_count": 88,
     "metadata": {},
     "output_type": "execute_result"
    }
   ],
   "source": [
    "product_pl.schema"
   ]
  },
  {
   "cell_type": "code",
   "execution_count": 89,
   "id": "f134a79b-3825-422d-94c5-67aa4ec71f30",
   "metadata": {},
   "outputs": [],
   "source": [
    "product_pl.collect().write_parquet(os.path.join(base_dir, raw_data_session_id_dir, 'products_train.parquet'))\n"
   ]
  },
  {
   "cell_type": "markdown",
   "id": "bae678c3-1bdb-4ecf-833c-6ed482d31f00",
   "metadata": {
    "jp-MarkdownHeadingCollapsed": true,
    "tags": []
   },
   "source": [
    "# Task2 "
   ]
  },
  {
   "cell_type": "code",
   "execution_count": null,
   "id": "0fd23246-9a74-4d0e-8c46-4942eb7f2d48",
   "metadata": {},
   "outputs": [],
   "source": []
  }
 ],
 "metadata": {
  "environment": {
   "kernel": "kdd_2023",
   "name": "common-cu110.m104",
   "type": "gcloud",
   "uri": "gcr.io/deeplearning-platform-release/base-cu110:m104"
  },
  "kernelspec": {
   "display_name": "py3.8(kdd_2023)",
   "language": "python",
   "name": "kdd_2023"
  },
  "language_info": {
   "codemirror_mode": {
    "name": "ipython",
    "version": 3
   },
   "file_extension": ".py",
   "mimetype": "text/x-python",
   "name": "python",
   "nbconvert_exporter": "python",
   "pygments_lexer": "ipython3",
   "version": "3.8.16"
  }
 },
 "nbformat": 4,
 "nbformat_minor": 5
}
