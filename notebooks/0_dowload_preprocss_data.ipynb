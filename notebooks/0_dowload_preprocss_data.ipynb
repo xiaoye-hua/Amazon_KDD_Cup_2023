{
 "cells": [
  {
   "cell_type": "markdown",
   "id": "74a60634-5ae6-4470-b7a5-1fe49fa2b196",
   "metadata": {},
   "source": [
    "# Packages "
   ]
  },
  {
   "cell_type": "code",
   "execution_count": 31,
   "id": "c707537b-6320-409d-a2e3-88a8d1cc4a20",
   "metadata": {},
   "outputs": [
    {
     "name": "stdout",
     "output_type": "stream",
     "text": [
      "The autoreload extension is already loaded. To reload it, use:\n",
      "  %reload_ext autoreload\n"
     ]
    }
   ],
   "source": [
    "%load_ext autoreload\n",
    "%autoreload 2\n",
    "import sys\n",
    "import logging\n",
    "import pandas as pd\n",
    "base_dir = '../'\n",
    "sys.path.append(base_dir)\n",
    "import os\n",
    "import numpy as np\n",
    "import polars as pl\n",
    "from src.config import raw_data_dir, raw_data_session_id_dir# task1_train_eval_dir"
   ]
  },
  {
   "cell_type": "markdown",
   "id": "ae64513c-a403-4780-a14b-8e950a3b1bd4",
   "metadata": {
    "tags": []
   },
   "source": [
    "# Config "
   ]
  },
  {
   "cell_type": "markdown",
   "id": "82249845-ce61-4803-b586-a1a060e1f2ea",
   "metadata": {},
   "source": [
    "# Download data"
   ]
  },
  {
   "cell_type": "code",
   "execution_count": 7,
   "id": "0caa9acc-03c6-4f73-9113-2f9614cbf66c",
   "metadata": {},
   "outputs": [
    {
     "name": "stdout",
     "output_type": "stream",
     "text": [
      "mkdir: cannot create directory ‘../data/raw_data_session_id’: File exists\n"
     ]
    }
   ],
   "source": [
    "!mkdir ../{raw_data_dir}\n",
    "!mkdir ../{raw_data_session_id_dir}\n",
    "!mkdir ../{task1_train_eval_dir}"
   ]
  },
  {
   "cell_type": "code",
   "execution_count": 3,
   "id": "9a6403ec-a219-49e8-b668-fac78f29307a",
   "metadata": {},
   "outputs": [
    {
     "name": "stdout",
     "output_type": "stream",
     "text": [
      "Please login here: \u001b[34m\u001b[1m\u001b[4mhttps://api.aicrowd.com/auth/4oimPj_fUBFa71BqyptNVbbd0RkHbTBC28WZ6jAIdB4\u001b[0m\n",
      "/usr/bin/xdg-open: 870: /usr/bin/xdg-open: www-browser: not found\n",
      "/usr/bin/xdg-open: 870: /usr/bin/xdg-open: links2: not found\n",
      "/usr/bin/xdg-open: 870: /usr/bin/xdg-open: elinks: not found\n",
      "/usr/bin/xdg-open: 870: /usr/bin/xdg-open: links: not found\n",
      "/usr/bin/xdg-open: 870: /usr/bin/xdg-open: lynx: not found\n",
      "/usr/bin/xdg-open: 870: /usr/bin/xdg-open: w3m: not found\n",
      "xdg-open: no method available for opening 'https://api.aicrowd.com/auth/4oimPj_fUBFa71BqyptNVbbd0RkHbTBC28WZ6jAIdB4'\n",
      "\u001b[32mAPI Key valid\u001b[0m\n",
      "\u001b[32mGitlab access token valid\u001b[0m\n",
      "\u001b[32mSaved details successfully!\u001b[0m\n"
     ]
    }
   ],
   "source": [
    "!aicrowd login"
   ]
  },
  {
   "cell_type": "code",
   "execution_count": 10,
   "id": "0847a070-f110-4c1e-b7aa-1ac7db9dd459",
   "metadata": {},
   "outputs": [
    {
     "name": "stdout",
     "output_type": "stream",
     "text": [
      "\u001b[3m                          Datasets for challenge #1116                          \u001b[0m\n",
      "┌───┬──────────────────────────────┬───────────────────────────────┬───────────┐\n",
      "│\u001b[1;35m \u001b[0m\u001b[1;35m#\u001b[0m\u001b[1;35m \u001b[0m│\u001b[1;35m \u001b[0m\u001b[1;35mTitle                       \u001b[0m\u001b[1;35m \u001b[0m│\u001b[1;35m \u001b[0m\u001b[1;35mDescription                  \u001b[0m\u001b[1;35m \u001b[0m│\u001b[1;35m \u001b[0m\u001b[1;35m     Size\u001b[0m\u001b[1;35m \u001b[0m│\n",
      "├───┼──────────────────────────────┼───────────────────────────────┼───────────┤\n",
      "│ 0 │ Amazon KDD 2023 Test Data -  │ Phase 1 test sessions for KDD │  19.37 MB │\n",
      "│   │ Phase                        │ Cup 2023                      │           │\n",
      "│   │ 1sessions_test_task1_phase1… │                               │           │\n",
      "│ 1 │ Amazon KDD 2023 Test Data -  │ Phase 1 test sessions for KDD │   1.92 MB │\n",
      "│   │ Phase                        │ Cup 2023                      │           │\n",
      "│   │ 1sessions_test_task2_phase1… │                               │           │\n",
      "│ 2 │ Amazon KDD 2023 Test Data -  │ Phase 1 test sessions for KDD │   2.67 MB │\n",
      "│   │ Phase                        │ Cup 2023                      │           │\n",
      "│   │ 1sessions_test_task3_phase1… │                               │           │\n",
      "│ 3 │ Amazon KDD 2023 Test Data -  │ Phase 2 test sessions for KDD │  19.30 MB │\n",
      "│   │ Phase                        │ Cup 2023                      │           │\n",
      "│   │ 2sessions_test_task1.csv     │                               │           │\n",
      "│ 4 │ Amazon KDD 2023 Test Data -  │ Phase 2 test sessions for KDD │   1.91 MB │\n",
      "│   │ Phase                        │ Cup 2023                      │           │\n",
      "│   │ 2sessions_test_task2.csv     │                               │           │\n",
      "│ 5 │ Amazon KDD 2023 Test Data -  │ Phase 2 test sessions for KDD │   2.67 MB │\n",
      "│   │ Phase                        │ Cup 2023                      │           │\n",
      "│   │ 2sessions_test_task3.csv     │                               │           │\n",
      "│ 6 │ Amazon KDD 2023 Training     │ Common training data for all  │ 588.53 MB │\n",
      "│   │ Dataproducts_train.csv       │ 3 tasks of KDD Cup 2023       │           │\n",
      "│ 7 │ Amazon KDD 2023 Training     │ Common training data for all  │ 259.23 MB │\n",
      "│   │ Datasessions_train.csv       │ 3 tasks of KDD Cup 2023       │           │\n",
      "└───┴──────────────────────────────┴───────────────────────────────┴───────────┘\n"
     ]
    }
   ],
   "source": [
    "!aicrowd dataset list --challenge task-1-next-product-recommendation \n",
    "# ../{raw_data_dir}"
   ]
  },
  {
   "cell_type": "code",
   "execution_count": 11,
   "id": "e951f246-d1d7-4061-b23c-a9f756f53b6c",
   "metadata": {},
   "outputs": [
    {
     "name": "stdout",
     "output_type": "stream",
     "text": [
      "sessions_test_task2_phase1.csv:   0%|               | 0.00/1.92M [00:00<?, ?B/s]\n",
      "sessions_test_task1.csv:   0%|                      | 0.00/19.3M [00:00<?, ?B/s]\u001b[A\n",
      "\n",
      "sessions_test_task2_phase1.csv: 100%|██████| 1.92M/1.92M [00:00<00:00, 13.0MB/s]\u001b[A\u001b[A\n",
      "\n",
      "sessions_test_task1.csv:   5%|▋            | 1.05M/19.3M [00:00<00:02, 6.64MB/s]\u001b[A\n",
      "\n",
      "sessions_test_task3.csv: 100%|█████████████| 2.67M/2.67M [00:00<00:00, 10.6MB/s]\u001b[A\u001b[A\n",
      "sessions_test_task2.csv:   0%|                      | 0.00/1.91M [00:00<?, ?B/s]\n",
      "sessions_test_task1.csv:  43%|█████▋       | 8.39M/19.3M [00:00<00:00, 14.6MB/s]\u001b[A\n",
      "\n",
      "sessions_test_task2.csv:  55%|███████      | 1.05M/1.91M [00:00<00:00, 6.65MB/s]\u001b[A\u001b[A\n",
      "sessions_test_task2.csv: 100%|█████████████| 1.91M/1.91M [00:00<00:00, 8.85MB/s]\u001b[A\n",
      "sessions_test_task1_phase1.csv:   0%|               | 0.00/19.4M [00:00<?, ?B/s]\n",
      "\n",
      "\n",
      "products_train.csv:   0%|                            | 0.00/589M [00:00<?, ?B/s]\u001b[A\u001b[A\u001b[A\n",
      "\n",
      "sessions_test_task3_phase1.csv: 100%|██████| 2.67M/2.67M [00:00<00:00, 11.9MB/s]\u001b[A\u001b[A\n",
      "sessions_test_task1_phase1.csv:  16%|▉     | 3.15M/19.4M [00:00<00:01, 13.8MB/s]\n",
      "\n",
      "sessions_train.csv:   0%|                            | 0.00/259M [00:00<?, ?B/s]\u001b[A\u001b[A\n",
      "sessions_test_task1.csv:  87%|███████████▎ | 16.8M/19.3M [00:01<00:00, 14.0MB/s]\u001b[A\n",
      "\n",
      "sessions_train.csv:   0%|                   | 1.05M/259M [00:00<00:37, 6.87MB/s]\u001b[A\u001b[A\n",
      "\n",
      "\n",
      "sessions_test_task1.csv: 100%|█████████████| 19.3M/19.3M [00:01<00:00, 14.6MB/s]\u001b[A\u001b[A\u001b[A\n",
      "\n",
      "\n",
      "\n",
      "products_train.csv:   0%|                   | 2.10M/589M [00:00<02:41, 3.63MB/s]\u001b[A\u001b[A\u001b[A\n",
      "\n",
      "sessions_train.csv:   1%|▏                  | 2.10M/259M [00:00<00:54, 4.76MB/s]\u001b[A\u001b[A\n",
      "\n",
      "\n",
      "products_train.csv:   1%|                   | 3.15M/589M [00:00<01:54, 5.13MB/s]\u001b[A\u001b[A\u001b[A\n",
      "\n",
      "\n",
      "sessions_test_task1_phase1.csv:  43%|██▌   | 8.39M/19.4M [00:00<00:01, 8.36MB/s]\u001b[A\u001b[A\u001b[A\n",
      "\n",
      "\n",
      "sessions_test_task1_phase1.csv: 100%|██████| 19.4M/19.4M [00:01<00:00, 9.96MB/s]\u001b[A\u001b[A\u001b[A\n",
      "\n",
      "\n",
      "\n",
      "products_train.csv:   1%|▎                  | 8.39M/589M [00:01<02:32, 3.80MB/s]\u001b[A\u001b[A\u001b[A\n",
      "\n",
      "sessions_train.csv:   3%|▌                  | 8.39M/259M [00:01<00:51, 4.84MB/s]\u001b[A\u001b[A\n",
      "\n",
      "\n",
      "products_train.csv:   2%|▎                  | 10.5M/589M [00:02<01:56, 4.97MB/s]\u001b[A\u001b[A\u001b[A\n",
      "\n",
      "sessions_train.csv:   4%|▊                  | 10.5M/259M [00:01<00:44, 5.58MB/s]\u001b[A\u001b[A\n",
      "\n",
      "\n",
      "products_train.csv:   2%|▍                  | 13.6M/589M [00:02<01:13, 7.80MB/s]\u001b[A\u001b[A\u001b[A\n",
      "\n",
      "sessions_train.csv:   6%|█▏                 | 16.8M/259M [00:02<00:34, 6.95MB/s]\u001b[A\u001b[A\n",
      "\n",
      "sessions_train.csv:   7%|█▍                 | 18.9M/259M [00:03<00:35, 6.77MB/s]\u001b[A\u001b[A\n",
      "\n",
      "sessions_train.csv:  10%|█▊                 | 25.2M/259M [00:03<00:27, 8.40MB/s]\u001b[A\u001b[A\n",
      "\n",
      "\n",
      "products_train.csv:   3%|▌                  | 16.8M/589M [00:03<02:33, 3.72MB/s]\u001b[A\u001b[A\u001b[A\n",
      "\n",
      "sessions_train.csv:  11%|█▉                 | 27.3M/259M [00:03<00:27, 8.56MB/s]\u001b[A\u001b[A\n",
      "\n",
      "\n",
      "products_train.csv:   3%|▌                  | 18.9M/589M [00:04<02:07, 4.46MB/s]\u001b[A\u001b[A\u001b[A\n",
      "\n",
      "\n",
      "products_train.csv:   4%|▋                  | 23.1M/589M [00:04<01:18, 7.25MB/s]\u001b[A\u001b[A\u001b[A\n",
      "\n",
      "\n",
      "products_train.csv:   4%|▊                  | 25.2M/589M [00:04<01:48, 5.17MB/s]\u001b[A\u001b[A\u001b[A\n",
      "\n",
      "sessions_train.csv:  13%|██▍                | 33.6M/259M [00:04<00:28, 7.79MB/s]\u001b[A\u001b[A\n",
      "\n",
      "sessions_train.csv:  14%|██▌                | 35.7M/259M [00:04<00:26, 8.40MB/s]\u001b[A\u001b[A\n",
      "\n",
      "\n",
      "products_train.csv:   5%|▉                  | 27.3M/589M [00:05<01:46, 5.27MB/s]\u001b[A\u001b[A\u001b[A\n",
      "\n",
      "sessions_train.csv:  16%|███                | 41.9M/259M [00:06<00:41, 5.27MB/s]\u001b[A\u001b[A\n",
      "\n",
      "sessions_train.csv:  17%|███▏               | 44.0M/259M [00:06<00:37, 5.67MB/s]\u001b[A\u001b[A\n",
      "\n",
      "\n",
      "products_train.csv:   6%|█                  | 33.6M/589M [00:07<02:24, 3.83MB/s]\u001b[A\u001b[A\u001b[A\n",
      "\n",
      "\n",
      "products_train.csv:   6%|█▏                 | 35.7M/589M [00:07<02:09, 4.27MB/s]\u001b[A\u001b[A\u001b[A\n",
      "\n",
      "\n",
      "products_train.csv:   7%|█▎                 | 39.8M/589M [00:07<01:26, 6.32MB/s]\u001b[A\u001b[A\u001b[A\n",
      "\n",
      "sessions_train.csv:  19%|███▋               | 50.3M/259M [00:08<00:47, 4.44MB/s]\u001b[A\u001b[A\n",
      "\n",
      "sessions_train.csv:  20%|███▊               | 52.4M/259M [00:08<00:41, 4.93MB/s]\u001b[A\u001b[A\n",
      "\n",
      "\n",
      "products_train.csv:   7%|█▎                 | 41.9M/589M [00:09<03:06, 2.93MB/s]\u001b[A\u001b[A\u001b[A\n",
      "\n",
      "\n",
      "products_train.csv:   7%|█▍                 | 44.0M/589M [00:10<02:35, 3.51MB/s]\u001b[A\u001b[A\u001b[A\n",
      "\n",
      "sessions_train.csv:  23%|████▎              | 58.7M/259M [00:10<00:38, 5.14MB/s]\u001b[A\u001b[A\n",
      "\n",
      "sessions_train.csv:  23%|████▍              | 60.8M/259M [00:10<00:35, 5.66MB/s]\u001b[A\u001b[A\n",
      "\n",
      "\n",
      "products_train.csv:   9%|█▌                 | 50.3M/589M [00:10<01:50, 4.88MB/s]\u001b[A\u001b[A\u001b[A\n",
      "\n",
      "\n",
      "products_train.csv:   9%|█▋                 | 52.4M/589M [00:11<01:40, 5.33MB/s]\u001b[A\u001b[A\u001b[A\n",
      "\n",
      "sessions_train.csv:  26%|████▉              | 67.1M/259M [00:11<00:34, 5.63MB/s]\u001b[A\u001b[A\n",
      "\n",
      "sessions_train.csv:  27%|█████              | 69.2M/259M [00:11<00:33, 5.66MB/s]\u001b[A\u001b[A\n",
      "\n",
      "\n",
      "products_train.csv:  10%|█▉                 | 58.7M/589M [00:11<01:28, 6.01MB/s]\u001b[A\u001b[A\u001b[A\n",
      "\n",
      "\n",
      "products_train.csv:  10%|█▉                 | 60.8M/589M [00:12<01:21, 6.47MB/s]\u001b[A\u001b[A\u001b[A\n",
      "\n",
      "sessions_train.csv:  29%|█████▌             | 75.5M/259M [00:12<00:29, 6.15MB/s]\u001b[A\u001b[A\n",
      "\n",
      "sessions_train.csv:  30%|█████▋             | 77.6M/259M [00:12<00:26, 6.74MB/s]\u001b[A\u001b[A\n",
      "\n",
      "\n",
      "products_train.csv:  11%|██▏                | 67.1M/589M [00:13<01:19, 6.56MB/s]\u001b[A\u001b[A\u001b[A\n",
      "\n",
      "\n",
      "products_train.csv:  12%|██▏                | 69.2M/589M [00:13<01:15, 6.92MB/s]\u001b[A\u001b[A\u001b[A\n",
      "\n",
      "sessions_train.csv:  32%|██████▏            | 83.9M/259M [00:14<00:30, 5.66MB/s]\u001b[A\u001b[A\n",
      "\n",
      "\n",
      "products_train.csv:  13%|██▍                | 75.5M/589M [00:14<01:19, 6.49MB/s]\u001b[A\u001b[A\u001b[A\n",
      "\n",
      "sessions_train.csv:  33%|██████▎            | 86.0M/259M [00:14<00:28, 5.98MB/s]\u001b[A\u001b[A\n",
      "\n",
      "\n",
      "products_train.csv:  13%|██▌                | 77.6M/589M [00:14<01:17, 6.60MB/s]\u001b[A\u001b[A\u001b[A\n",
      "\n",
      "\n",
      "products_train.csv:  14%|██▋                | 83.9M/589M [00:15<01:08, 7.36MB/s]\u001b[A\u001b[A\u001b[A\n",
      "\n",
      "\n",
      "products_train.csv:  15%|██▊                | 86.0M/589M [00:15<01:04, 7.74MB/s]\u001b[A\u001b[A\u001b[A\n",
      "\n",
      "sessions_train.csv:  36%|██████▊            | 92.3M/259M [00:15<00:28, 5.76MB/s]\u001b[A\u001b[A\n",
      "\n",
      "sessions_train.csv:  36%|██████▉            | 94.4M/259M [00:15<00:29, 5.51MB/s]\u001b[A\u001b[A\n",
      "\n",
      "\n",
      "products_train.csv:  16%|██▉                | 92.3M/589M [00:17<01:23, 5.93MB/s]\u001b[A\u001b[A\u001b[A\n",
      "\n",
      "\n",
      "products_train.csv:  16%|███                | 94.4M/589M [00:17<01:16, 6.46MB/s]\u001b[A\u001b[A\u001b[A\n",
      "\n",
      "\n",
      "products_train.csv:  17%|███▏               | 97.5M/589M [00:17<01:02, 7.91MB/s]\u001b[A\u001b[A\u001b[A\n",
      "\n",
      "sessions_train.csv:  39%|███████▊            | 101M/259M [00:17<00:31, 5.09MB/s]\u001b[A\u001b[A\n",
      "\n",
      "sessions_train.csv:  40%|███████▉            | 103M/259M [00:17<00:27, 5.75MB/s]\u001b[A\u001b[A\n",
      "\n",
      "sessions_train.csv:  41%|████████▎           | 107M/259M [00:17<00:19, 7.89MB/s]\u001b[A\u001b[A\n",
      "\n",
      "\n",
      "products_train.csv:  17%|███▍                | 101M/589M [00:18<01:20, 6.07MB/s]\u001b[A\u001b[A\u001b[A\n",
      "\n",
      "\n",
      "products_train.csv:  17%|███▍                | 103M/589M [00:18<01:14, 6.49MB/s]\u001b[A\u001b[A\u001b[A\n",
      "\n",
      "\n",
      "products_train.csv:  19%|███▋                | 109M/589M [00:19<01:01, 7.78MB/s]\u001b[A\u001b[A\u001b[A\n",
      "\n",
      "\n",
      "products_train.csv:  19%|███▊                | 111M/589M [00:19<00:56, 8.46MB/s]\u001b[A\u001b[A\u001b[A\n",
      "\n",
      "sessions_train.csv:  42%|████████▍           | 109M/259M [00:19<00:34, 4.30MB/s]\u001b[A\u001b[A\n",
      "\n",
      "sessions_train.csv:  43%|████████▌           | 111M/259M [00:19<00:31, 4.66MB/s]\u001b[A\u001b[A\n",
      "\n",
      "\n",
      "products_train.csv:  20%|███▉                | 117M/589M [00:20<01:03, 7.43MB/s]\u001b[A\u001b[A\u001b[A\n",
      "\n",
      "\n",
      "products_train.csv:  20%|████                | 120M/589M [00:20<00:59, 7.90MB/s]\u001b[A\u001b[A\u001b[A\n",
      "\n",
      "sessions_train.csv:  45%|█████████           | 117M/259M [00:20<00:33, 4.28MB/s]\u001b[A\u001b[A\n",
      "\n",
      "sessions_train.csv:  46%|█████████▏          | 120M/259M [00:21<00:28, 4.91MB/s]\u001b[A\u001b[A\n",
      "\n",
      "sessions_train.csv:  49%|█████████▋          | 126M/259M [00:21<00:20, 6.61MB/s]\u001b[A\u001b[A\n",
      "\n",
      "\n",
      "products_train.csv:  21%|████▎               | 126M/589M [00:22<01:27, 5.27MB/s]\u001b[A\u001b[A\u001b[A\n",
      "\n",
      "sessions_train.csv:  49%|█████████▊          | 128M/259M [00:22<00:20, 6.46MB/s]\u001b[A\u001b[A\n",
      "\n",
      "\n",
      "products_train.csv:  22%|████▎               | 128M/589M [00:22<01:18, 5.84MB/s]\u001b[A\u001b[A\u001b[A\n",
      "\n",
      "\n",
      "products_train.csv:  23%|████▌               | 134M/589M [00:22<00:55, 8.21MB/s]\u001b[A\u001b[A\u001b[A\n",
      "\n",
      "sessions_train.csv:  52%|██████████▎         | 134M/259M [00:22<00:14, 8.54MB/s]\u001b[A\u001b[A\n",
      "\n",
      "\n",
      "products_train.csv:  23%|████▋               | 136M/589M [00:22<00:54, 8.33MB/s]\u001b[A\u001b[A\u001b[A\n",
      "\n",
      "sessions_train.csv:  53%|██████████▌         | 136M/259M [00:22<00:13, 8.90MB/s]\u001b[A\u001b[A\n",
      "\n",
      "sessions_train.csv:  55%|███████████         | 143M/259M [00:23<00:13, 8.68MB/s]\u001b[A\u001b[A\n",
      "\n",
      "sessions_train.csv:  56%|███████████▏        | 145M/259M [00:23<00:13, 8.31MB/s]\u001b[A\u001b[A\n",
      "\n",
      "\n",
      "products_train.csv:  24%|████▊               | 143M/589M [00:24<01:05, 6.78MB/s]\u001b[A\u001b[A\u001b[A\n",
      "\n",
      "\n",
      "products_train.csv:  25%|████▉               | 145M/589M [00:24<00:59, 7.47MB/s]\u001b[A\u001b[A\u001b[A\n",
      "\n",
      "\n",
      "products_train.csv:  26%|█████▏              | 151M/589M [00:24<00:54, 8.01MB/s]\u001b[A\u001b[A\u001b[A\n",
      "\n",
      "\n",
      "products_train.csv:  26%|█████▏              | 153M/589M [00:25<00:53, 8.11MB/s]\u001b[A\u001b[A\u001b[A\n",
      "\n",
      "\n",
      "products_train.csv:  27%|█████▍              | 158M/589M [00:25<00:36, 11.8MB/s]\u001b[A\u001b[A\u001b[A\n",
      "\n",
      "sessions_train.csv:  58%|███████████▋        | 151M/259M [00:25<00:18, 5.89MB/s]\u001b[A\u001b[A\n",
      "\n",
      "sessions_train.csv:  59%|███████████▊        | 153M/259M [00:25<00:16, 6.47MB/s]\u001b[A\u001b[A\n",
      "\n",
      "sessions_train.csv:  61%|████████████▎       | 159M/259M [00:26<00:16, 6.01MB/s]\u001b[A\u001b[A\n",
      "\n",
      "sessions_train.csv:  62%|████████████▍       | 161M/259M [00:26<00:15, 6.43MB/s]\u001b[A\u001b[A\n",
      "\n",
      "\n",
      "products_train.csv:  27%|█████▍              | 161M/589M [00:27<01:27, 4.89MB/s]\u001b[A\u001b[A\u001b[A\n",
      "\n",
      "sessions_train.csv:  65%|████████████▉       | 168M/259M [00:27<00:11, 7.85MB/s]\u001b[A\u001b[A\n",
      "\n",
      "\n",
      "products_train.csv:  29%|█████▋              | 168M/589M [00:27<01:09, 6.07MB/s]\u001b[A\u001b[A\u001b[A\n",
      "\n",
      "sessions_train.csv:  66%|█████████████       | 170M/259M [00:27<00:11, 7.79MB/s]\u001b[A\u001b[A\n",
      "\n",
      "\n",
      "products_train.csv:  29%|█████▊              | 170M/589M [00:27<01:04, 6.46MB/s]\u001b[A\u001b[A\u001b[A\n",
      "\n",
      "sessions_train.csv:  68%|█████████████▌      | 176M/259M [00:28<00:10, 7.86MB/s]\u001b[A\u001b[A\n",
      "\n",
      "sessions_train.csv:  69%|█████████████▊      | 178M/259M [00:28<00:09, 8.75MB/s]\u001b[A\u001b[A\n",
      "\n",
      "\n",
      "products_train.csv:  30%|█████▉              | 176M/589M [00:28<01:06, 6.19MB/s]\u001b[A\u001b[A\u001b[A\n",
      "\n",
      "\n",
      "products_train.csv:  30%|██████              | 178M/589M [00:29<00:59, 6.92MB/s]\u001b[A\u001b[A\u001b[A\n",
      "\n",
      "sessions_train.csv:  71%|██████████████▏     | 185M/259M [00:29<00:08, 8.35MB/s]\u001b[A\u001b[A\n",
      "\n",
      "sessions_train.csv:  72%|██████████████▍     | 187M/259M [00:29<00:08, 8.16MB/s]\u001b[A\u001b[A\n",
      "\n",
      "sessions_train.csv:  74%|██████████████▉     | 193M/259M [00:30<00:08, 8.09MB/s]\u001b[A\u001b[A\n",
      "\n",
      "\n",
      "products_train.csv:  31%|██████▎             | 185M/589M [00:30<01:12, 5.58MB/s]\u001b[A\u001b[A\u001b[A\n",
      "\n",
      "sessions_train.csv:  75%|███████████████     | 195M/259M [00:30<00:07, 8.25MB/s]\u001b[A\u001b[A\n",
      "\n",
      "\n",
      "products_train.csv:  32%|██████▎             | 187M/589M [00:30<01:09, 5.81MB/s]\u001b[A\u001b[A\u001b[A\n",
      "\n",
      "\n",
      "products_train.csv:  33%|██████▌             | 193M/589M [00:31<01:05, 6.04MB/s]\u001b[A\u001b[A\u001b[A\n",
      "\n",
      "sessions_train.csv:  78%|███████████████▌    | 201M/259M [00:31<00:08, 6.70MB/s]\u001b[A\u001b[A\n",
      "\n",
      "\n",
      "products_train.csv:  33%|██████▋             | 195M/589M [00:32<01:02, 6.33MB/s]\u001b[A\u001b[A\u001b[A\n",
      "\n",
      "sessions_train.csv:  78%|███████████████▋    | 203M/259M [00:31<00:07, 7.01MB/s]\u001b[A\u001b[A\n",
      "\n",
      "sessions_train.csv:  81%|████████████████▏   | 210M/259M [00:32<00:05, 8.65MB/s]\u001b[A\u001b[A\n",
      "\n",
      "\n",
      "products_train.csv:  34%|██████▊             | 201M/589M [00:32<00:53, 7.28MB/s]\u001b[A\u001b[A\u001b[A\n",
      "\n",
      "sessions_train.csv:  82%|████████████████▎   | 212M/259M [00:32<00:05, 8.84MB/s]\u001b[A\u001b[A\n",
      "\n",
      "\n",
      "products_train.csv:  35%|██████▉             | 203M/589M [00:32<00:51, 7.54MB/s]\u001b[A\u001b[A\u001b[A\n",
      "\n",
      "\n",
      "products_train.csv:  35%|███████             | 208M/589M [00:33<00:37, 10.1MB/s]\u001b[A\u001b[A\u001b[A\n",
      "\n",
      "sessions_train.csv:  84%|████████████████▊   | 218M/259M [00:34<00:07, 5.76MB/s]\u001b[A\u001b[A\n",
      "\n",
      "\n",
      "products_train.csv:  36%|███████▏            | 210M/589M [00:34<01:18, 4.85MB/s]\u001b[A\u001b[A\u001b[A\n",
      "\n",
      "sessions_train.csv:  85%|████████████████▉   | 220M/259M [00:34<00:06, 6.34MB/s]\u001b[A\u001b[A\n",
      "\n",
      "\n",
      "products_train.csv:  36%|███████▏            | 212M/589M [00:34<01:08, 5.47MB/s]\u001b[A\u001b[A\u001b[A\n",
      "\n",
      "\n",
      "products_train.csv:  37%|███████▍            | 218M/589M [00:35<00:56, 6.59MB/s]\u001b[A\u001b[A\u001b[A\n",
      "\n",
      "\n",
      "products_train.csv:  37%|███████▍            | 220M/589M [00:35<00:52, 6.98MB/s]\u001b[A\u001b[A\u001b[A\n",
      "\n",
      "sessions_train.csv:  87%|█████████████████▍  | 226M/259M [00:35<00:06, 5.36MB/s]\u001b[A\u001b[A\n",
      "\n",
      "sessions_train.csv:  88%|█████████████████▋  | 229M/259M [00:35<00:05, 6.08MB/s]\u001b[A\u001b[A\n",
      "\n",
      "\n",
      "products_train.csv:  38%|███████▋            | 226M/589M [00:37<01:11, 5.06MB/s]\u001b[A\u001b[A\u001b[A\n",
      "\n",
      "sessions_train.csv:  91%|██████████████████  | 235M/259M [00:37<00:04, 5.85MB/s]\u001b[A\u001b[A\n",
      "\n",
      "\n",
      "products_train.csv:  40%|███████▉            | 235M/589M [00:38<01:05, 5.43MB/s]\u001b[A\u001b[A\u001b[A\n",
      "\n",
      "sessions_train.csv:  94%|██████████████████▊ | 243M/259M [00:38<00:02, 5.56MB/s]\u001b[A\u001b[A\n",
      "\n",
      "\n",
      "products_train.csv:  40%|████████            | 237M/589M [00:38<01:00, 5.78MB/s]\u001b[A\u001b[A\u001b[A\n",
      "\n",
      "sessions_train.csv:  95%|██████████████████▉ | 245M/259M [00:39<00:02, 5.70MB/s]\u001b[A\u001b[A\n",
      "\n",
      "\n",
      "products_train.csv:  41%|████████▎           | 243M/589M [00:39<00:48, 7.11MB/s]\u001b[A\u001b[A\u001b[A\n",
      "\n",
      "sessions_train.csv:  97%|███████████████████▍| 252M/259M [00:39<00:00, 7.81MB/s]\u001b[A\u001b[A\n",
      "\n",
      "sessions_train.csv: 100%|████████████████████| 259M/259M [00:39<00:00, 6.57MB/s]\u001b[A\u001b[A\n",
      "\n",
      "\n",
      "\n",
      "products_train.csv:  42%|████████▎           | 245M/589M [00:39<00:46, 7.34MB/s]\u001b[A\u001b[A\u001b[A\n",
      "\n",
      "\n",
      "products_train.csv:  43%|████████▌           | 251M/589M [00:39<00:32, 10.4MB/s]\u001b[A\u001b[A\u001b[A\n",
      "\n",
      "\n",
      "products_train.csv:  43%|████████▌           | 253M/589M [00:40<00:40, 8.29MB/s]\u001b[A\u001b[A\u001b[A\n",
      "\n",
      "\n",
      "products_train.csv:  43%|████████▋           | 255M/589M [00:40<00:36, 9.03MB/s]\u001b[A\u001b[A\u001b[A\n",
      "\n",
      "\n",
      "products_train.csv:  44%|████████▊           | 260M/589M [00:41<00:42, 7.78MB/s]\u001b[A\u001b[A\u001b[A\n",
      "\n",
      "\n",
      "products_train.csv:  45%|████████▉           | 262M/589M [00:41<00:43, 7.42MB/s]\u001b[A\u001b[A\u001b[A\n",
      "\n",
      "\n",
      "products_train.csv:  46%|█████████           | 268M/589M [00:43<01:09, 4.59MB/s]\u001b[A\u001b[A\u001b[A\n",
      "\n",
      "\n",
      "products_train.csv:  46%|█████████▏          | 271M/589M [00:43<01:02, 5.05MB/s]\u001b[A\u001b[A\u001b[A\n",
      "\n",
      "\n",
      "products_train.csv:  46%|█████████▎          | 273M/589M [00:44<00:53, 5.93MB/s]\u001b[A\u001b[A\u001b[A\n",
      "\n",
      "\n",
      "products_train.csv:  47%|█████████▍          | 277M/589M [00:44<00:57, 5.43MB/s]\u001b[A\u001b[A\u001b[A\n",
      "\n",
      "\n",
      "products_train.csv:  47%|█████████▍          | 279M/589M [00:45<00:58, 5.27MB/s]\u001b[A\u001b[A\u001b[A\n",
      "\n",
      "\n",
      "products_train.csv:  48%|█████████▋          | 284M/589M [00:45<00:35, 8.51MB/s]\u001b[A\u001b[A\u001b[A\n",
      "\n",
      "\n",
      "products_train.csv:  49%|█████████▊          | 287M/589M [00:46<01:02, 4.79MB/s]\u001b[A\u001b[A\u001b[A\n",
      "\n",
      "\n",
      "products_train.csv:  50%|█████████▉          | 294M/589M [00:47<00:55, 5.34MB/s]\u001b[A\u001b[A\u001b[A\n",
      "\n",
      "\n",
      "products_train.csv:  50%|██████████          | 296M/589M [00:48<00:49, 5.92MB/s]\u001b[A\u001b[A\u001b[A\n",
      "\n",
      "\n",
      "products_train.csv:  51%|██████████▎         | 302M/589M [00:49<00:58, 4.92MB/s]\u001b[A\u001b[A\u001b[A\n",
      "\n",
      "\n",
      "products_train.csv:  52%|██████████▎         | 304M/589M [00:49<00:53, 5.28MB/s]\u001b[A\u001b[A\u001b[A\n",
      "\n",
      "\n",
      "products_train.csv:  53%|██████████▌         | 310M/589M [00:50<00:48, 5.79MB/s]\u001b[A\u001b[A\u001b[A\n",
      "\n",
      "\n",
      "products_train.csv:  53%|██████████▌         | 312M/589M [00:51<00:47, 5.85MB/s]\u001b[A\u001b[A\u001b[A\n",
      "\n",
      "\n",
      "products_train.csv:  54%|██████████▊         | 319M/589M [00:52<00:43, 6.20MB/s]\u001b[A\u001b[A\u001b[A\n",
      "\n",
      "\n",
      "products_train.csv:  55%|██████████▉         | 321M/589M [00:52<00:40, 6.60MB/s]\u001b[A\u001b[A\u001b[A\n",
      "\n",
      "\n",
      "products_train.csv:  56%|███████████         | 327M/589M [00:52<00:30, 8.60MB/s]\u001b[A\u001b[A\u001b[A\n",
      "\n",
      "\n",
      "products_train.csv:  56%|███████████▏        | 329M/589M [00:52<00:28, 8.95MB/s]\u001b[A\u001b[A\u001b[A\n",
      "\n",
      "\n",
      "products_train.csv:  57%|███████████▍        | 336M/589M [00:54<00:39, 6.41MB/s]\u001b[A\u001b[A\u001b[A\n",
      "\n",
      "\n",
      "products_train.csv:  57%|███████████▍        | 338M/589M [00:54<00:35, 7.03MB/s]\u001b[A\u001b[A\u001b[A\n",
      "\n",
      "\n",
      "products_train.csv:  58%|███████████▋        | 344M/589M [00:55<00:38, 6.43MB/s]\u001b[A\u001b[A\u001b[A\n",
      "\n",
      "\n",
      "products_train.csv:  59%|███████████▊        | 346M/589M [00:55<00:35, 6.91MB/s]\u001b[A\u001b[A\u001b[A\n",
      "\n",
      "\n",
      "products_train.csv:  60%|███████████▉        | 352M/589M [00:57<00:40, 5.82MB/s]\u001b[A\u001b[A\u001b[A\n",
      "\n",
      "\n",
      "products_train.csv:  60%|████████████        | 354M/589M [00:57<00:38, 6.08MB/s]\u001b[A\u001b[A\u001b[A\n",
      "\n",
      "\n",
      "products_train.csv:  61%|████████████▎       | 361M/589M [00:57<00:30, 7.45MB/s]\u001b[A\u001b[A\u001b[A\n",
      "\n",
      "\n",
      "products_train.csv:  62%|████████████▎       | 363M/589M [00:58<00:27, 8.25MB/s]\u001b[A\u001b[A\u001b[A\n",
      "\n",
      "\n",
      "products_train.csv:  63%|████████████▌       | 369M/589M [00:58<00:28, 7.69MB/s]\u001b[A\u001b[A\u001b[A\n",
      "\n",
      "\n",
      "products_train.csv:  63%|████████████▌       | 371M/589M [00:59<00:27, 7.89MB/s]\u001b[A\u001b[A\u001b[A\n",
      "\n",
      "\n",
      "products_train.csv:  64%|████████████▊       | 377M/589M [01:00<00:30, 6.95MB/s]\u001b[A\u001b[A\u001b[A\n",
      "\n",
      "\n",
      "products_train.csv:  64%|████████████▉       | 380M/589M [01:00<00:31, 6.57MB/s]\u001b[A\u001b[A\u001b[A\n",
      "\n",
      "\n",
      "products_train.csv:  66%|█████████████       | 386M/589M [01:01<00:23, 8.54MB/s]\u001b[A\u001b[A\u001b[A\n",
      "\n",
      "\n",
      "products_train.csv:  66%|█████████████▏      | 388M/589M [01:01<00:21, 9.30MB/s]\u001b[A\u001b[A\u001b[A\n",
      "\n",
      "\n",
      "products_train.csv:  67%|█████████████▍      | 394M/589M [01:01<00:20, 9.33MB/s]\u001b[A\u001b[A\u001b[A\n",
      "\n",
      "\n",
      "products_train.csv:  67%|█████████████▍      | 396M/589M [01:01<00:19, 10.1MB/s]\u001b[A\u001b[A\u001b[A\n",
      "\n",
      "\n",
      "products_train.csv:  68%|█████████████▋      | 403M/589M [01:02<00:15, 11.6MB/s]\u001b[A\u001b[A\u001b[A\n",
      "\n",
      "\n",
      "products_train.csv:  69%|█████████████▊      | 405M/589M [01:02<00:15, 11.7MB/s]\u001b[A\u001b[A\u001b[A\n",
      "\n",
      "\n",
      "products_train.csv:  69%|█████████████▊      | 407M/589M [01:02<00:14, 12.4MB/s]\u001b[A\u001b[A\u001b[A\n",
      "\n",
      "\n",
      "products_train.csv:  70%|█████████████▉      | 411M/589M [01:03<00:16, 10.9MB/s]\u001b[A\u001b[A\u001b[A\n",
      "\n",
      "\n",
      "products_train.csv:  70%|██████████████      | 413M/589M [01:03<00:15, 11.5MB/s]\u001b[A\u001b[A\u001b[A\n",
      "\n",
      "\n",
      "products_train.csv:  71%|██████████████▏     | 416M/589M [01:03<00:13, 12.6MB/s]\u001b[A\u001b[A\u001b[A\n",
      "\n",
      "\n",
      "products_train.csv:  71%|██████████████▎     | 419M/589M [01:04<00:33, 5.05MB/s]\u001b[A\u001b[A\u001b[A\n",
      "\n",
      "\n",
      "products_train.csv:  72%|██████████████▎     | 422M/589M [01:05<00:29, 5.58MB/s]\u001b[A\u001b[A\u001b[A\n",
      "\n",
      "\n",
      "products_train.csv:  73%|██████████████▌     | 428M/589M [01:06<00:35, 4.52MB/s]\u001b[A\u001b[A\u001b[A\n",
      "\n",
      "\n",
      "products_train.csv:  73%|██████████████▌     | 430M/589M [01:07<00:30, 5.13MB/s]\u001b[A\u001b[A\u001b[A\n",
      "\n",
      "\n",
      "products_train.csv:  74%|██████████████▊     | 436M/589M [01:08<00:32, 4.75MB/s]\u001b[A\u001b[A\u001b[A\n",
      "\n",
      "\n",
      "products_train.csv:  74%|██████████████▉     | 438M/589M [01:08<00:30, 4.99MB/s]\u001b[A\u001b[A\u001b[A\n",
      "\n",
      "\n",
      "products_train.csv:  75%|███████████████     | 444M/589M [01:08<00:19, 7.53MB/s]\u001b[A\u001b[A\u001b[A\n",
      "\n",
      "\n",
      "products_train.csv:  76%|███████████████▏    | 446M/589M [01:09<00:24, 5.72MB/s]\u001b[A\u001b[A\u001b[A\n",
      "\n",
      "\n",
      "products_train.csv:  76%|███████████████▏    | 448M/589M [01:09<00:22, 6.22MB/s]\u001b[A\u001b[A\u001b[A\n",
      "\n",
      "\n",
      "products_train.csv:  77%|███████████████▍    | 453M/589M [01:11<00:26, 5.20MB/s]\u001b[A\u001b[A\u001b[A\n",
      "\n",
      "\n",
      "products_train.csv:  77%|███████████████▍    | 455M/589M [01:11<00:25, 5.26MB/s]\u001b[A\u001b[A\u001b[A\n",
      "\n",
      "\n",
      "products_train.csv:  78%|███████████████▋    | 461M/589M [01:12<00:23, 5.35MB/s]\u001b[A\u001b[A\u001b[A\n",
      "\n",
      "\n",
      "products_train.csv:  79%|███████████████▊    | 463M/589M [01:12<00:20, 6.06MB/s]\u001b[A\u001b[A\u001b[A\n",
      "\n",
      "\n",
      "products_train.csv:  80%|███████████████▉    | 470M/589M [01:14<00:24, 4.91MB/s]\u001b[A\u001b[A\u001b[A\n",
      "\n",
      "\n",
      "products_train.csv:  80%|████████████████    | 472M/589M [01:14<00:21, 5.40MB/s]\u001b[A\u001b[A\u001b[A\n",
      "\n",
      "\n",
      "products_train.csv:  81%|████████████████▏   | 478M/589M [01:15<00:17, 6.33MB/s]\u001b[A\u001b[A\u001b[A\n",
      "\n",
      "\n",
      "products_train.csv:  82%|████████████████▎   | 480M/589M [01:15<00:16, 6.49MB/s]\u001b[A\u001b[A\u001b[A\n",
      "\n",
      "\n",
      "products_train.csv:  83%|████████████████▌   | 487M/589M [01:16<00:12, 8.19MB/s]\u001b[A\u001b[A\u001b[A\n",
      "\n",
      "\n",
      "products_train.csv:  83%|████████████████▌   | 489M/589M [01:16<00:11, 8.67MB/s]\u001b[A\u001b[A\u001b[A\n",
      "\n",
      "\n",
      "products_train.csv:  84%|████████████████▋   | 493M/589M [01:16<00:08, 11.2MB/s]\u001b[A\u001b[A\u001b[A\n",
      "\n",
      "\n",
      "products_train.csv:  84%|████████████████▊   | 495M/589M [01:17<00:11, 8.02MB/s]\u001b[A\u001b[A\u001b[A\n",
      "\n",
      "\n",
      "products_train.csv:  84%|████████████████▉   | 497M/589M [01:17<00:10, 8.43MB/s]\u001b[A\u001b[A\u001b[A\n",
      "\n",
      "\n",
      "products_train.csv:  85%|█████████████████   | 502M/589M [01:17<00:06, 13.1MB/s]\u001b[A\u001b[A\u001b[A\n",
      "\n",
      "\n",
      "products_train.csv:  86%|█████████████████▏  | 505M/589M [01:18<00:10, 8.14MB/s]\u001b[A\u001b[A\u001b[A\n",
      "\n",
      "\n",
      "products_train.csv:  87%|█████████████████▍  | 512M/589M [01:18<00:09, 8.30MB/s]\u001b[A\u001b[A\u001b[A\n",
      "\n",
      "\n",
      "products_train.csv:  87%|█████████████████▍  | 514M/589M [01:19<00:08, 9.18MB/s]\u001b[A\u001b[A\u001b[A\n",
      "\n",
      "\n",
      "products_train.csv:  88%|█████████████████▋  | 520M/589M [01:20<00:09, 7.34MB/s]\u001b[A\u001b[A\u001b[A\n",
      "\n",
      "\n",
      "products_train.csv:  89%|█████████████████▋  | 522M/589M [01:20<00:08, 7.56MB/s]\u001b[A\u001b[A\u001b[A\n",
      "\n",
      "\n",
      "products_train.csv:  90%|█████████████████▉  | 528M/589M [01:21<00:07, 7.63MB/s]\u001b[A\u001b[A\u001b[A\n",
      "\n",
      "\n",
      "products_train.csv:  90%|██████████████████  | 531M/589M [01:21<00:07, 8.00MB/s]\u001b[A\u001b[A\u001b[A\n",
      "\n",
      "\n",
      "products_train.csv:  91%|██████████████████▏ | 537M/589M [01:22<00:06, 7.71MB/s]\u001b[A\u001b[A\u001b[A\n",
      "\n",
      "\n",
      "products_train.csv:  92%|██████████████████▎ | 539M/589M [01:22<00:06, 7.92MB/s]\u001b[A\u001b[A\u001b[A\n",
      "\n",
      "\n",
      "products_train.csv:  93%|██████████████████▌ | 545M/589M [01:23<00:05, 8.62MB/s]\u001b[A\u001b[A\u001b[A\n",
      "\n",
      "\n",
      "products_train.csv:  93%|██████████████████▌ | 547M/589M [01:23<00:04, 8.74MB/s]\u001b[A\u001b[A\u001b[A\n",
      "\n",
      "\n",
      "products_train.csv:  94%|██████████████████▋ | 552M/589M [01:23<00:03, 11.6MB/s]\u001b[A\u001b[A\u001b[A\n",
      "\n",
      "\n",
      "products_train.csv:  94%|██████████████████▊ | 554M/589M [01:24<00:04, 7.41MB/s]\u001b[A\u001b[A\u001b[A\n",
      "\n",
      "\n",
      "products_train.csv:  94%|██████████████████▉ | 556M/589M [01:24<00:04, 7.78MB/s]\u001b[A\u001b[A\u001b[A\n",
      "\n",
      "\n",
      "products_train.csv:  95%|███████████████████ | 562M/589M [01:25<00:04, 5.92MB/s]\u001b[A\u001b[A\u001b[A\n",
      "\n",
      "\n",
      "products_train.csv:  96%|███████████████████▏| 564M/589M [01:26<00:04, 5.18MB/s]\u001b[A\u001b[A\u001b[A\n",
      "\n",
      "\n",
      "products_train.csv:  97%|███████████████████▍| 570M/589M [01:26<00:02, 7.23MB/s]\u001b[A\u001b[A\u001b[A\n",
      "\n",
      "\n",
      "products_train.csv:  97%|███████████████████▍| 573M/589M [01:26<00:02, 7.93MB/s]\u001b[A\u001b[A\u001b[A\n",
      "\n",
      "\n",
      "products_train.csv:  98%|███████████████████▋| 578M/589M [01:27<00:01, 10.1MB/s]\u001b[A\u001b[A\u001b[A\n",
      "\n",
      "\n",
      "products_train.csv:  99%|███████████████████▋| 580M/589M [01:27<00:01, 6.80MB/s]\u001b[A\u001b[A\u001b[A\n",
      "\n",
      "\n",
      "products_train.csv:  99%|███████████████████▋| 581M/589M [01:28<00:01, 5.74MB/s]\u001b[A\u001b[A\u001b[A\n",
      "\n",
      "\n",
      "products_train.csv:  99%|███████████████████▉| 585M/589M [01:28<00:00, 8.68MB/s]\u001b[A\u001b[A\u001b[A\n",
      "\n",
      "\n",
      "products_train.csv: 100%|████████████████████| 589M/589M [01:30<00:00, 6.52MB/s]\u001b[A\u001b[A\u001b[A\n"
     ]
    }
   ],
   "source": [
    "!aicrowd dataset download --challenge task-1-next-product-recommendation"
   ]
  },
  {
   "cell_type": "code",
   "execution_count": 13,
   "id": "eed21a5e-41e8-439e-8ea9-a931aa5f0a42",
   "metadata": {},
   "outputs": [
    {
     "data": {
      "text/plain": [
       "'data/raw_data'"
      ]
     },
     "execution_count": 13,
     "metadata": {},
     "output_type": "execute_result"
    }
   ],
   "source": [
    "raw_data_dir"
   ]
  },
  {
   "cell_type": "code",
   "execution_count": 12,
   "id": "f02ff102-8413-43a1-91d2-b4321aba16e3",
   "metadata": {},
   "outputs": [
    {
     "name": "stdout",
     "output_type": "stream",
     "text": [
      "ls: cannot access 'data/raw_data': No such file or directory\n"
     ]
    }
   ],
   "source": [
    "! ls {raw_data_dir}"
   ]
  },
  {
   "cell_type": "markdown",
   "id": "0cb73f26-f958-4e44-bf50-89f907d8c9a8",
   "metadata": {
    "tags": []
   },
   "source": [
    "# Preprocess data "
   ]
  },
  {
   "cell_type": "markdown",
   "id": "67e0b224-d979-445a-8bf1-9d8b15a08876",
   "metadata": {},
   "source": [
    "## Test data from phase 1 and 2 "
   ]
  },
  {
   "cell_type": "code",
   "execution_count": 14,
   "id": "87d362e0-7d5b-4152-b85a-91afbe31c789",
   "metadata": {},
   "outputs": [],
   "source": [
    "task1_phase1 = pl.scan_csv(os.path.join('..', raw_data_dir, 'sessions_test_task1_phase1.csv'))\n",
    "task1_phase2 = pl.scan_csv(os.path.join('..', raw_data_dir, 'sessions_test_task1.csv'))"
   ]
  },
  {
   "cell_type": "code",
   "execution_count": 17,
   "id": "84aa604f-2b07-4260-b3fc-602cbb24cb4c",
   "metadata": {},
   "outputs": [
    {
     "name": "stdout",
     "output_type": "stream",
     "text": [
      "(316971, 2)\n",
      "(316972, 2)\n"
     ]
    }
   ],
   "source": [
    "print(task1_phase1.collect().shape)\n",
    "print(task1_phase2.collect().shape)"
   ]
  },
  {
   "cell_type": "code",
   "execution_count": 18,
   "id": "b5e3e874-3337-4c18-9dd4-13d1f755620f",
   "metadata": {},
   "outputs": [
    {
     "name": "stdout",
     "output_type": "stream",
     "text": [
      "shape: (5, 2)\n",
      "┌───────────────────────────────────┬────────┐\n",
      "│ prev_items                        ┆ locale │\n",
      "│ ---                               ┆ ---    │\n",
      "│ str                               ┆ str    │\n",
      "╞═══════════════════════════════════╪════════╡\n",
      "│ ['B08V12CT4C' 'B08V1KXBQD' 'B01B… ┆ DE     │\n",
      "│ ['B00R9R5ND6' 'B00R9RZ9ZS' 'B00R… ┆ DE     │\n",
      "│ ['B07YSRXJD3' 'B07G7Q5N6G' 'B08C… ┆ DE     │\n",
      "│ ['B08KQBYV43' '3955350843' '3955… ┆ DE     │\n",
      "│ ['B09FPTCWMC' 'B09FPTQP68' 'B08H… ┆ DE     │\n",
      "└───────────────────────────────────┴────────┘\n",
      "shape: (5, 2)\n",
      "┌───────────────────────────────────┬────────┐\n",
      "│ prev_items                        ┆ locale │\n",
      "│ ---                               ┆ ---    │\n",
      "│ str                               ┆ str    │\n",
      "╞═══════════════════════════════════╪════════╡\n",
      "│ ['B087VLP2RT' 'B09BRQSHYH' 'B099… ┆ DE     │\n",
      "│ ['B08XW4W667' 'B096VMCJYF' 'B096… ┆ DE     │\n",
      "│ ['B09Z4T2GJ3' 'B09Z3FBXMB' 'B093… ┆ DE     │\n",
      "│ ['B07T6Y2HG7' 'B07T2NBLX9' 'B07Y… ┆ DE     │\n",
      "│ ['B0B2DRKZ6X' 'B0B2DRKZ6X' 'B0B2… ┆ DE     │\n",
      "└───────────────────────────────────┴────────┘\n"
     ]
    }
   ],
   "source": [
    "print(task1_phase1.collect().head())\n",
    "print(task1_phase2.collect().head())"
   ]
  },
  {
   "cell_type": "code",
   "execution_count": 21,
   "id": "73d05fb5-638d-42a0-baec-c92d1ea24efa",
   "metadata": {},
   "outputs": [
    {
     "name": "stdout",
     "output_type": "stream",
     "text": [
      "shape: (3, 2)\n",
      "┌────────┬────────┐\n",
      "│ locale ┆ counts │\n",
      "│ ---    ┆ ---    │\n",
      "│ str    ┆ u32    │\n",
      "╞════════╪════════╡\n",
      "│ JP     ┆ 96467  │\n",
      "│ UK     ┆ 115936 │\n",
      "│ DE     ┆ 104568 │\n",
      "└────────┴────────┘\n",
      "shape: (3, 2)\n",
      "┌────────┬────────┐\n",
      "│ locale ┆ counts │\n",
      "│ ---    ┆ ---    │\n",
      "│ str    ┆ u32    │\n",
      "╞════════╪════════╡\n",
      "│ UK     ┆ 115937 │\n",
      "│ JP     ┆ 96467  │\n",
      "│ DE     ┆ 104568 │\n",
      "└────────┴────────┘\n"
     ]
    }
   ],
   "source": [
    "print(task1_phase1.select('locale').collect().to_series().value_counts())\n",
    "print(task1_phase2.select('locale').collect().to_series().value_counts())"
   ]
  },
  {
   "cell_type": "code",
   "execution_count": 22,
   "id": "679b8476-f2df-4fb0-9e60-e4d38f94431a",
   "metadata": {},
   "outputs": [],
   "source": [
    "task3_pl = pl.scan_csv(os.path.join('..', raw_data_dir, 'sessions_test_task3.csv'))"
   ]
  },
  {
   "cell_type": "code",
   "execution_count": null,
   "id": "20f73d88-c76c-45ee-aa99-9b9aa771e992",
   "metadata": {},
   "outputs": [],
   "source": []
  },
  {
   "cell_type": "code",
   "execution_count": 25,
   "id": "372e4b74-99d6-45d5-ad18-d9918fac7793",
   "metadata": {},
   "outputs": [],
   "source": [
    "# task3_pl.head().collect()"
   ]
  },
  {
   "cell_type": "markdown",
   "id": "21975f14-e108-4173-96ea-104e6afef574",
   "metadata": {
    "tags": []
   },
   "source": [
    "# adding session_id to all data"
   ]
  },
  {
   "cell_type": "code",
   "execution_count": 2,
   "id": "600c3d6f-bc93-4da5-a9b7-00017d11a890",
   "metadata": {},
   "outputs": [],
   "source": [
    "train_pl = pl.scan_csv(os.path.join('..', raw_data_dir, 'sessions_train.csv'))\n",
    "task1_pl = pl.scan_csv(os.path.join('..', raw_data_dir, 'sessions_test_task1.csv'))\n",
    "task2_pl = pl.scan_csv(os.path.join('..', raw_data_dir, 'sessions_test_task2.csv'))\n",
    "task3_pl = pl.scan_csv(os.path.join('..', raw_data_dir, 'sessions_test_task3.csv'))\n",
    "product_pl = pl.scan_csv(os.path.join('..', raw_data_dir, 'products_train.csv'))"
   ]
  },
  {
   "cell_type": "code",
   "execution_count": 3,
   "id": "e7531f02-add5-41b7-a832-902105bbc5be",
   "metadata": {},
   "outputs": [
    {
     "name": "stdout",
     "output_type": "stream",
     "text": [
      "\n",
      "\n",
      "{'prev_items': Utf8, 'next_item': Utf8, 'locale': Utf8}\n",
      "(3606249, 3)\n",
      "\n",
      "shape: (3, 3)\n",
      "┌───────────────────────────────────┬────────────┬────────┐\n",
      "│ prev_items                        ┆ next_item  ┆ locale │\n",
      "│ ---                               ┆ ---        ┆ ---    │\n",
      "│ str                               ┆ str        ┆ str    │\n",
      "╞═══════════════════════════════════╪════════════╪════════╡\n",
      "│ ['B09W9FND7K' 'B09JSPLN1M']       ┆ B09M7GY217 ┆ DE     │\n",
      "│ ['B076THCGSG' 'B007MO8IME' 'B08M… ┆ B001B4THSA ┆ DE     │\n",
      "│ ['B0B1LGXWDS' 'B00AZYORS2' 'B0B1… ┆ B0767DTG2Q ┆ DE     │\n",
      "└───────────────────────────────────┴────────────┴────────┘\n",
      "\n",
      "\n",
      "\n",
      "\n",
      "{'prev_items': Utf8, 'locale': Utf8}\n",
      "(316971, 2)\n",
      "\n",
      "shape: (3, 2)\n",
      "┌───────────────────────────────────┬────────┐\n",
      "│ prev_items                        ┆ locale │\n",
      "│ ---                               ┆ ---    │\n",
      "│ str                               ┆ str    │\n",
      "╞═══════════════════════════════════╪════════╡\n",
      "│ ['B08V12CT4C' 'B08V1KXBQD' 'B01B… ┆ DE     │\n",
      "│ ['B00R9R5ND6' 'B00R9RZ9ZS' 'B00R… ┆ DE     │\n",
      "│ ['B07YSRXJD3' 'B07G7Q5N6G' 'B08C… ┆ DE     │\n",
      "└───────────────────────────────────┴────────┘\n",
      "\n",
      "\n",
      "\n",
      "\n",
      "{'prev_items': Utf8, 'locale': Utf8}\n",
      "(34691, 2)\n",
      "\n",
      "shape: (3, 2)\n",
      "┌───────────────────────────────────┬────────┐\n",
      "│ prev_items                        ┆ locale │\n",
      "│ ---                               ┆ ---    │\n",
      "│ str                               ┆ str    │\n",
      "╞═══════════════════════════════════╪════════╡\n",
      "│ ['B08GYKNCCP' 'B08HCPTMJG' 'B08H… ┆ ES     │\n",
      "│ ['B08NYF9MBQ' 'B085NGXGWM']       ┆ ES     │\n",
      "│ ['B091FL1QFK' 'B0B1DG29F4']       ┆ ES     │\n",
      "└───────────────────────────────────┴────────┘\n",
      "\n",
      "\n",
      "\n",
      "\n",
      "{'prev_items': Utf8, 'locale': Utf8}\n",
      "(56423, 2)\n",
      "\n",
      "shape: (3, 2)\n",
      "┌───────────────────────────────────┬────────┐\n",
      "│ prev_items                        ┆ locale │\n",
      "│ ---                               ┆ ---    │\n",
      "│ str                               ┆ str    │\n",
      "╞═══════════════════════════════════╪════════╡\n",
      "│ ['B082DLM3NZ' 'B089X86H73']       ┆ ES     │\n",
      "│ ['B071WPLND2' 'B08TMJ9SDZ' 'B07X… ┆ ES     │\n",
      "│ ['B094V8G54H' 'B094V97YV8']       ┆ ES     │\n",
      "└───────────────────────────────────┴────────┘\n",
      "\n",
      "\n",
      "\n",
      "\n",
      "{'id': Utf8, 'locale': Utf8, 'title': Utf8, 'price': Float64, 'brand': Utf8, 'color': Utf8, 'size': Utf8, 'model': Utf8, 'material': Utf8, 'author': Utf8, 'desc': Utf8}\n",
      "(1551057, 11)\n",
      "\n",
      "shape: (3, 11)\n",
      "┌────────────┬────────┬────────────────┬───────┬───┬─────────┬────────────┬────────┬───────────────┐\n",
      "│ id         ┆ locale ┆ title          ┆ price ┆ … ┆ model   ┆ material   ┆ author ┆ desc          │\n",
      "│ ---        ┆ ---    ┆ ---            ┆ ---   ┆   ┆ ---     ┆ ---        ┆ ---    ┆ ---           │\n",
      "│ str        ┆ str    ┆ str            ┆ f64   ┆   ┆ str     ┆ str        ┆ str    ┆ str           │\n",
      "╞════════════╪════════╪════════════════╪═══════╪═══╪═════════╪════════════╪════════╪═══════════════╡\n",
      "│ B005ZSSN10 ┆ DE     ┆ RED DRAGON     ┆ 30.95 ┆ … ┆ RDD0089 ┆ null       ┆ null   ┆ Amberjacks    │\n",
      "│            ┆        ┆ Amberjack 3 -  ┆       ┆   ┆         ┆            ┆        ┆ Steel         │\n",
      "│            ┆        ┆ Steel T…       ┆       ┆   ┆         ┆            ┆        ┆ Dartpfeile    │\n",
      "│            ┆        ┆                ┆       ┆   ┆         ┆            ┆        ┆ sind…         │\n",
      "│ B08PRYN6LD ┆ DE     ┆ Simply Keto    ┆ 17.9  ┆ … ┆ null    ┆ null       ┆ null   ┆ 🌱 NATÜRLICHE │\n",
      "│            ┆        ┆ Lower Carb*    ┆       ┆   ┆         ┆            ┆        ┆ SÜSSE DURCH   │\n",
      "│            ┆        ┆ Schokodr…      ┆       ┆   ┆         ┆            ┆        ┆ ERYTHRI…      │\n",
      "│ B09MBZJ48V ┆ DE     ┆ Sennheiser     ┆ 68.89 ┆ … ┆ 508377  ┆ Kunstleder ┆ null   ┆ 3.5 MM BUCHSE │\n",
      "│            ┆        ┆ 508377 PC 5.2  ┆       ┆   ┆         ┆            ┆        ┆ - Kann        │\n",
      "│            ┆        ┆ Chat, S…       ┆       ┆   ┆         ┆            ┆        ┆ problemlos …  │\n",
      "└────────────┴────────┴────────────────┴───────┴───┴─────────┴────────────┴────────┴───────────────┘\n",
      "\n",
      "\n"
     ]
    }
   ],
   "source": [
    "length_lst = []\n",
    "for df in [train_pl, task1_pl, task2_pl, task3_pl, product_pl]:\n",
    "    print()\n",
    "    print()\n",
    "    print(df.schema)\n",
    "    shape = df.collect().shape\n",
    "    length_lst.append(shape[0])\n",
    "    print(shape)\n",
    "    print()\n",
    "    print(df.head(3).collect())\n",
    "    print()\n",
    "    print()"
   ]
  },
  {
   "cell_type": "code",
   "execution_count": 4,
   "id": "7beaa633-58f3-4e1d-8b7e-27f6ef754be7",
   "metadata": {},
   "outputs": [
    {
     "data": {
      "text/plain": [
       "[3606249, 316971, 34691, 56423, 1551057]"
      ]
     },
     "execution_count": 4,
     "metadata": {},
     "output_type": "execute_result"
    }
   ],
   "source": [
    "length_lst"
   ]
  },
  {
   "cell_type": "code",
   "execution_count": null,
   "id": "3babbd70-7178-4a43-8b19-99c19a13ba64",
   "metadata": {},
   "outputs": [],
   "source": []
  },
  {
   "cell_type": "code",
   "execution_count": null,
   "id": "67dc798b-f13a-4f18-ab76-308463d47edf",
   "metadata": {},
   "outputs": [],
   "source": []
  },
  {
   "cell_type": "code",
   "execution_count": 15,
   "id": "8b2d2955-9334-4803-9875-9b659c700063",
   "metadata": {},
   "outputs": [],
   "source": [
    "train_pl = train_pl.with_columns(\n",
    "    pl.Series(name='session_id', values=range(length_lst[0]))\n",
    "    , pl.Series(name='random', values=np.random.uniform(size=length_lst[0]))\n",
    ")\n",
    "task1_pl= task1_pl.with_columns(\n",
    "    pl.Series(name='session_id', values=range(length_lst[0],sum(length_lst[:2])))\n",
    ")\n",
    "task2_pl= task2_pl.with_columns(\n",
    "    pl.Series(name='session_id', values=range(sum(length_lst[:2]),sum(length_lst[:3])))\n",
    ")\n",
    "task3_pl= task3_pl.with_columns(\n",
    "    pl.Series(name='session_id', values=range(sum(length_lst[:3]),sum(length_lst[:4])))\n",
    ")"
   ]
  },
  {
   "cell_type": "code",
   "execution_count": 16,
   "id": "1edfe6e9-fd18-4e8f-9073-b577fe2d1ede",
   "metadata": {},
   "outputs": [],
   "source": [
    "# assert train_pl.select('session_id').max().collect()<200"
   ]
  },
  {
   "cell_type": "code",
   "execution_count": 17,
   "id": "602e5852-b2c1-4473-a2b2-ad5c89d323c9",
   "metadata": {},
   "outputs": [
    {
     "data": {
      "text/html": [
       "<div><style>\n",
       ".dataframe > thead > tr > th,\n",
       ".dataframe > tbody > tr > td {\n",
       "  text-align: right;\n",
       "}\n",
       "</style>\n",
       "<small>shape: (1, 1)</small><table border=\"1\" class=\"dataframe\"><thead><tr><th>session_id</th></tr><tr><td>i64</td></tr></thead><tbody><tr><td>3606248</td></tr></tbody></table></div>"
      ],
      "text/plain": [
       "shape: (1, 1)\n",
       "┌────────────┐\n",
       "│ session_id │\n",
       "│ ---        │\n",
       "│ i64        │\n",
       "╞════════════╡\n",
       "│ 3606248    │\n",
       "└────────────┘"
      ]
     },
     "execution_count": 17,
     "metadata": {},
     "output_type": "execute_result"
    }
   ],
   "source": [
    "train_pl.select('session_id').max().collect()"
   ]
  },
  {
   "cell_type": "code",
   "execution_count": 53,
   "id": "3b41572c-b602-46a8-bbe0-3aa849cd677c",
   "metadata": {},
   "outputs": [
    {
     "data": {
      "text/html": [
       "<div><style>\n",
       ".dataframe > thead > tr > th,\n",
       ".dataframe > tbody > tr > td {\n",
       "  text-align: right;\n",
       "}\n",
       "</style>\n",
       "<small>shape: (1, 1)</small><table border=\"1\" class=\"dataframe\"><thead><tr><th>session_id</th></tr><tr><td>i64</td></tr></thead><tbody><tr><td>3606249</td></tr></tbody></table></div>"
      ],
      "text/plain": [
       "shape: (1, 1)\n",
       "┌────────────┐\n",
       "│ session_id │\n",
       "│ ---        │\n",
       "│ i64        │\n",
       "╞════════════╡\n",
       "│ 3606249    │\n",
       "└────────────┘"
      ]
     },
     "execution_count": 53,
     "metadata": {},
     "output_type": "execute_result"
    }
   ],
   "source": [
    "task1_pl.select('session_id').min().collect()"
   ]
  },
  {
   "cell_type": "code",
   "execution_count": 54,
   "id": "6c9893fd-bf13-4128-bae9-c3178e9ed332",
   "metadata": {},
   "outputs": [
    {
     "data": {
      "text/html": [
       "<div><style>\n",
       ".dataframe > thead > tr > th,\n",
       ".dataframe > tbody > tr > td {\n",
       "  text-align: right;\n",
       "}\n",
       "</style>\n",
       "<small>shape: (1, 1)</small><table border=\"1\" class=\"dataframe\"><thead><tr><th>session_id</th></tr><tr><td>i64</td></tr></thead><tbody><tr><td>3923220</td></tr></tbody></table></div>"
      ],
      "text/plain": [
       "shape: (1, 1)\n",
       "┌────────────┐\n",
       "│ session_id │\n",
       "│ ---        │\n",
       "│ i64        │\n",
       "╞════════════╡\n",
       "│ 3923220    │\n",
       "└────────────┘"
      ]
     },
     "execution_count": 54,
     "metadata": {},
     "output_type": "execute_result"
    }
   ],
   "source": [
    "task2_pl.select('session_id').min().collect()"
   ]
  },
  {
   "cell_type": "code",
   "execution_count": 55,
   "id": "c442ecfa-3056-4b51-8995-5bea7569d1b8",
   "metadata": {},
   "outputs": [
    {
     "data": {
      "text/html": [
       "<div><style>\n",
       ".dataframe > thead > tr > th,\n",
       ".dataframe > tbody > tr > td {\n",
       "  text-align: right;\n",
       "}\n",
       "</style>\n",
       "<small>shape: (1, 1)</small><table border=\"1\" class=\"dataframe\"><thead><tr><th>session_id</th></tr><tr><td>i64</td></tr></thead><tbody><tr><td>3957911</td></tr></tbody></table></div>"
      ],
      "text/plain": [
       "shape: (1, 1)\n",
       "┌────────────┐\n",
       "│ session_id │\n",
       "│ ---        │\n",
       "│ i64        │\n",
       "╞════════════╡\n",
       "│ 3957911    │\n",
       "└────────────┘"
      ]
     },
     "execution_count": 55,
     "metadata": {},
     "output_type": "execute_result"
    }
   ],
   "source": [
    "task3_pl.select('session_id').min().collect()"
   ]
  },
  {
   "cell_type": "markdown",
   "id": "515a4e6b-4da6-4de8-9f9a-24fe17c87cfe",
   "metadata": {
    "tags": []
   },
   "source": [
    "## Save data with session_id "
   ]
  },
  {
   "cell_type": "code",
   "execution_count": 18,
   "id": "5610464b-72dd-4046-839b-8d7b23bd17a9",
   "metadata": {},
   "outputs": [],
   "source": [
    "eval_df = train_pl.filter(pl.col('random')<=0.1).select(pl.all().exclude('random'))\n",
    "train_df = train_pl.filter(pl.col('random')>0.1).select(pl.all().exclude('random'))"
   ]
  },
  {
   "cell_type": "code",
   "execution_count": 19,
   "id": "57d796cc-7f42-4d96-89e0-03f5df634476",
   "metadata": {},
   "outputs": [
    {
     "data": {
      "text/plain": [
       "(359776, 4)"
      ]
     },
     "execution_count": 19,
     "metadata": {},
     "output_type": "execute_result"
    }
   ],
   "source": [
    "eval_df.collect().shape"
   ]
  },
  {
   "cell_type": "code",
   "execution_count": 20,
   "id": "f5efc0af-601d-4fab-9515-6d72125301a6",
   "metadata": {},
   "outputs": [
    {
     "data": {
      "text/plain": [
       "(3246473, 4)"
      ]
     },
     "execution_count": 20,
     "metadata": {},
     "output_type": "execute_result"
    }
   ],
   "source": [
    "train_df.collect().shape"
   ]
  },
  {
   "cell_type": "code",
   "execution_count": 21,
   "id": "aa3023eb-d81f-448c-8fba-81b5cf40ab0b",
   "metadata": {},
   "outputs": [
    {
     "data": {
      "text/plain": [
       "(3606249, 5)"
      ]
     },
     "execution_count": 21,
     "metadata": {},
     "output_type": "execute_result"
    }
   ],
   "source": [
    "train_pl.collect().shape"
   ]
  },
  {
   "cell_type": "code",
   "execution_count": 22,
   "id": "31b64564-4a74-43ac-b8b5-44450b818f87",
   "metadata": {},
   "outputs": [],
   "source": [
    "train_df.collect().write_parquet(os.path.join(base_dir, raw_data_session_id_dir, 'sessions_train.parquet'))\n",
    "eval_df.collect().write_parquet(os.path.join(base_dir, raw_data_session_id_dir, 'sessions_eval.parquet'))"
   ]
  },
  {
   "cell_type": "code",
   "execution_count": 66,
   "id": "5b44db16-b8c2-4651-950d-68a3963c5b70",
   "metadata": {},
   "outputs": [],
   "source": [
    "\n",
    "task1_pl.collect().write_parquet(os.path.join(base_dir, raw_data_session_id_dir, 'sessions_test_task1.parquet'))\n",
    "task2_pl.collect().write_parquet(os.path.join(base_dir, raw_data_session_id_dir, 'sessions_test_task2.parquet'))\n",
    "task3_pl.collect().write_parquet(os.path.join(base_dir, raw_data_session_id_dir, 'sessions_test_task3.parquet'))"
   ]
  },
  {
   "cell_type": "markdown",
   "id": "c57f86e3-c04d-4eb5-a034-c7e22c5b199b",
   "metadata": {},
   "source": [
    "## Production data "
   ]
  },
  {
   "cell_type": "code",
   "execution_count": 82,
   "id": "8fe7cd0b-70e5-4c58-8975-19612f6f847c",
   "metadata": {},
   "outputs": [],
   "source": [
    "value_counts = product_pl.with_columns(pl.count().over('id').alias('cnt')).select(['id', 'cnt']).unique().collect().to_pandas()['cnt'].value_counts()"
   ]
  },
  {
   "cell_type": "code",
   "execution_count": 84,
   "id": "b1b04471-ca38-4256-b4f2-bd5a4e324900",
   "metadata": {},
   "outputs": [
    {
     "data": {
      "text/plain": [
       "cnt\n",
       "1    1311106\n",
       "2      72977\n",
       "3      16368\n",
       "4       6738\n",
       "5       2975\n",
       "6        511\n",
       "Name: count, dtype: int64"
      ]
     },
     "execution_count": 84,
     "metadata": {},
     "output_type": "execute_result"
    }
   ],
   "source": [
    "value_counts"
   ]
  },
  {
   "cell_type": "code",
   "execution_count": 86,
   "id": "ac33b3b0-dfe2-4512-9c98-2c6cf6a34b84",
   "metadata": {},
   "outputs": [
    {
     "data": {
      "text/plain": [
       "cnt\n",
       "1    0.929417\n",
       "2    0.051732\n",
       "3    0.011603\n",
       "4    0.004776\n",
       "5    0.002109\n",
       "6    0.000362\n",
       "Name: count, dtype: float64"
      ]
     },
     "execution_count": 86,
     "metadata": {},
     "output_type": "execute_result"
    }
   ],
   "source": [
    "value_counts/value_counts.sum()"
   ]
  },
  {
   "cell_type": "markdown",
   "id": "69ee2179-2615-4210-aaf1-918e7cd5f897",
   "metadata": {},
   "source": [
    "**92% of products only in a single country; the rests are in more than one country**"
   ]
  },
  {
   "cell_type": "markdown",
   "id": "97083ef2-565f-4f21-9515-56640c63fbeb",
   "metadata": {
    "tags": []
   },
   "source": [
    "### A example "
   ]
  },
  {
   "cell_type": "code",
   "execution_count": 72,
   "id": "adf82bf1-11d5-49a2-a15a-e4e2ae8ea9a9",
   "metadata": {},
   "outputs": [
    {
     "data": {
      "text/html": [
       "<div><style>\n",
       ".dataframe > thead > tr > th,\n",
       ".dataframe > tbody > tr > td {\n",
       "  text-align: right;\n",
       "}\n",
       "</style>\n",
       "<small>shape: (5, 12)</small><table border=\"1\" class=\"dataframe\"><thead><tr><th>id</th><th>locale</th><th>title</th><th>price</th><th>brand</th><th>color</th><th>size</th><th>model</th><th>material</th><th>author</th><th>desc</th><th>cnt</th></tr><tr><td>str</td><td>str</td><td>str</td><td>f64</td><td>str</td><td>str</td><td>str</td><td>str</td><td>str</td><td>str</td><td>str</td><td>u32</td></tr></thead><tbody><tr><td>&quot;B0B9W7W8JD&quot;</td><td>&quot;FR&quot;</td><td>&quot;RAVIAD Câble U…</td><td>6.99</td><td>&quot;RAVIAD&quot;</td><td>&quot;Argent&quot;</td><td>&quot;0.3M&quot;</td><td>&quot;H011-SI-030&quot;</td><td>null</td><td>null</td><td>&quot;【Compatibilité…</td><td>6</td></tr><tr><td>&quot;B09YMV3TXX&quot;</td><td>&quot;DE&quot;</td><td>&quot;Spigen Ultra H…</td><td>16.99</td><td>&quot;Spigen&quot;</td><td>&quot;Crystal Clear&quot;</td><td>null</td><td>&quot;ACS04726&quot;</td><td>&quot;Polycarbonat&quot;</td><td>null</td><td>&quot;Die Konstrukti…</td><td>6</td></tr><tr><td>&quot;B005EJH6RW&quot;</td><td>&quot;DE&quot;</td><td>&quot;Amazon Basics …</td><td>9.69</td><td>&quot;Amazon Basics&quot;</td><td>&quot;Schwarz&quot;</td><td>&quot;1-Pack&quot;</td><td>&quot;MSU0939&quot;</td><td>null</td><td>null</td><td>&quot;High-definitio…</td><td>6</td></tr><tr><td>&quot;B07ZF8WFZN&quot;</td><td>&quot;IT&quot;</td><td>&quot;Cavo da HDMI a…</td><td>11.99</td><td>&quot;BENFEI&quot;</td><td>&quot;1 Confezioni&quot;</td><td>&quot;0,9 metri&quot;</td><td>&quot;000282black&quot;</td><td>null</td><td>null</td><td>&quot;18 MESI DI GAR…</td><td>6</td></tr><tr><td>&quot;B075GQ87PV&quot;</td><td>&quot;JP&quot;</td><td>&quot;レゴ(LEGO) クラシック…</td><td>2345.0</td><td>&quot;レゴ(LEGO)&quot;</td><td>null</td><td>null</td><td>&quot;10713&quot;</td><td>null</td><td>null</td><td>&quot;かしこく収納&quot;</td><td>6</td></tr></tbody></table></div>"
      ],
      "text/plain": [
       "shape: (5, 12)\n",
       "┌────────────┬────────┬────────────────┬────────┬───┬──────────────┬────────┬────────────────┬─────┐\n",
       "│ id         ┆ locale ┆ title          ┆ price  ┆ … ┆ material     ┆ author ┆ desc           ┆ cnt │\n",
       "│ ---        ┆ ---    ┆ ---            ┆ ---    ┆   ┆ ---          ┆ ---    ┆ ---            ┆ --- │\n",
       "│ str        ┆ str    ┆ str            ┆ f64    ┆   ┆ str          ┆ str    ┆ str            ┆ u32 │\n",
       "╞════════════╪════════╪════════════════╪════════╪═══╪══════════════╪════════╪════════════════╪═════╡\n",
       "│ B0B9W7W8JD ┆ FR     ┆ RAVIAD Câble   ┆ 6.99   ┆ … ┆ null         ┆ null   ┆ 【Compatibilit ┆ 6   │\n",
       "│            ┆        ┆ USB C Court    ┆        ┆   ┆              ┆        ┆ é Etendue】Cha ┆     │\n",
       "│            ┆        ┆ [30CM L…       ┆        ┆   ┆              ┆        ┆ rgeur …        ┆     │\n",
       "│ B09YMV3TXX ┆ DE     ┆ Spigen Ultra   ┆ 16.99  ┆ … ┆ Polycarbonat ┆ null   ┆ Die            ┆ 6   │\n",
       "│            ┆        ┆ Hybrid Hülle   ┆        ┆   ┆              ┆        ┆ Konstruktion   ┆     │\n",
       "│            ┆        ┆ Kompat…        ┆        ┆   ┆              ┆        ┆ aus PC Platte  ┆     │\n",
       "│            ┆        ┆                ┆        ┆   ┆              ┆        ┆ u…             ┆     │\n",
       "│ B005EJH6RW ┆ DE     ┆ Amazon Basics  ┆ 9.69   ┆ … ┆ null         ┆ null   ┆ High-definitio ┆ 6   │\n",
       "│            ┆        ┆ - Optische     ┆        ┆   ┆              ┆        ┆ n (1000 dpi)   ┆     │\n",
       "│            ┆        ┆ Maus mi…       ┆        ┆   ┆              ┆        ┆ optis…         ┆     │\n",
       "│ B07ZF8WFZN ┆ IT     ┆ Cavo da HDMI a ┆ 11.99  ┆ … ┆ null         ┆ null   ┆ 18 MESI DI     ┆ 6   │\n",
       "│            ┆        ┆ VGA, BENFEI    ┆        ┆   ┆              ┆        ┆ GARANZIA -     ┆     │\n",
       "│            ┆        ┆ 0,9M …         ┆        ┆   ┆              ┆        ┆ L'esclusiv…    ┆     │\n",
       "│ B075GQ87PV ┆ JP     ┆ レゴ(LEGO)     ┆ 2345.0 ┆ … ┆ null         ┆ null   ┆ かしこく収納   ┆ 6   │\n",
       "│            ┆        ┆ クラシック ア  ┆        ┆   ┆              ┆        ┆                ┆     │\n",
       "│            ┆        ┆ イデアパーツ<  ┆        ┆   ┆              ┆        ┆                ┆     │\n",
       "│            ┆        ┆ 収納ケースつき ┆        ┆   ┆              ┆        ┆                ┆     │\n",
       "│            ┆        ┆ > …            ┆        ┆   ┆              ┆        ┆                ┆     │\n",
       "└────────────┴────────┴────────────────┴────────┴───┴──────────────┴────────┴────────────────┴─────┘"
      ]
     },
     "execution_count": 72,
     "metadata": {},
     "output_type": "execute_result"
    }
   ],
   "source": [
    "product_pl.with_columns(pl.count().over('id').alias('cnt')).sort(['cnt'], descending=True).head().collect()"
   ]
  },
  {
   "cell_type": "code",
   "execution_count": 74,
   "id": "425effd5-1a92-4721-9916-5d41b9a1226f",
   "metadata": {},
   "outputs": [
    {
     "data": {
      "text/html": [
       "<div><style>\n",
       ".dataframe > thead > tr > th,\n",
       ".dataframe > tbody > tr > td {\n",
       "  text-align: right;\n",
       "}\n",
       "</style>\n",
       "<small>shape: (6, 11)</small><table border=\"1\" class=\"dataframe\"><thead><tr><th>id</th><th>locale</th><th>title</th><th>price</th><th>brand</th><th>color</th><th>size</th><th>model</th><th>material</th><th>author</th><th>desc</th></tr><tr><td>str</td><td>str</td><td>str</td><td>f64</td><td>str</td><td>str</td><td>str</td><td>str</td><td>str</td><td>str</td><td>str</td></tr></thead><tbody><tr><td>&quot;B0B9W7W8JD&quot;</td><td>&quot;DE&quot;</td><td>&quot;USB C Kabel Ku…</td><td>6.99</td><td>&quot;RAVIAD&quot;</td><td>&quot;Silver&quot;</td><td>&quot;0.3M&quot;</td><td>&quot;H011-SI-030&quot;</td><td>null</td><td>null</td><td>&quot;【Beidseitig nu…</td></tr><tr><td>&quot;B0B9W7W8JD&quot;</td><td>&quot;JP&quot;</td><td>&quot;RAVIAD USB Typ…</td><td>699.0</td><td>&quot;RAVIAD&quot;</td><td>&quot;シルバー&quot;</td><td>&quot;0.3M&quot;</td><td>&quot;H011-SI-030&quot;</td><td>null</td><td>null</td><td>&quot;【卓越した耐久性】高耐久を持…</td></tr><tr><td>&quot;B0B9W7W8JD&quot;</td><td>&quot;UK&quot;</td><td>&quot;Short USB C Ca…</td><td>5.99</td><td>&quot;RAVIAD&quot;</td><td>&quot;Silver&quot;</td><td>&quot;0.3M&quot;</td><td>&quot;H011-SI-030&quot;</td><td>null</td><td>null</td><td>&quot;【24-Month Warr…</td></tr><tr><td>&quot;B0B9W7W8JD&quot;</td><td>&quot;ES&quot;</td><td>&quot;RAVIAD Cable U…</td><td>6.99</td><td>&quot;RAVIAD&quot;</td><td>&quot;Silver&quot;</td><td>&quot;0.3M&quot;</td><td>&quot;H011-SI-030&quot;</td><td>null</td><td>null</td><td>&quot;【Carga Rápida …</td></tr><tr><td>&quot;B0B9W7W8JD&quot;</td><td>&quot;FR&quot;</td><td>&quot;RAVIAD Câble U…</td><td>6.99</td><td>&quot;RAVIAD&quot;</td><td>&quot;Argent&quot;</td><td>&quot;0.3M&quot;</td><td>&quot;H011-SI-030&quot;</td><td>null</td><td>null</td><td>&quot;【Compatibilité…</td></tr><tr><td>&quot;B0B9W7W8JD&quot;</td><td>&quot;IT&quot;</td><td>&quot;RAVIAD Cavo US…</td><td>6.99</td><td>&quot;RAVIAD&quot;</td><td>&quot;Argento&quot;</td><td>&quot;0.3M&quot;</td><td>&quot;H011-SI-030&quot;</td><td>null</td><td>null</td><td>&quot;【Connettore Re…</td></tr></tbody></table></div>"
      ],
      "text/plain": [
       "shape: (6, 11)\n",
       "┌────────────┬────────┬───────────────┬───────┬───┬─────────────┬──────────┬────────┬──────────────┐\n",
       "│ id         ┆ locale ┆ title         ┆ price ┆ … ┆ model       ┆ material ┆ author ┆ desc         │\n",
       "│ ---        ┆ ---    ┆ ---           ┆ ---   ┆   ┆ ---         ┆ ---      ┆ ---    ┆ ---          │\n",
       "│ str        ┆ str    ┆ str           ┆ f64   ┆   ┆ str         ┆ str      ┆ str    ┆ str          │\n",
       "╞════════════╪════════╪═══════════════╪═══════╪═══╪═════════════╪══════════╪════════╪══════════════╡\n",
       "│ B0B9W7W8JD ┆ DE     ┆ USB C Kabel   ┆ 6.99  ┆ … ┆ H011-SI-030 ┆ null     ┆ null   ┆ 【Beidseitig │\n",
       "│            ┆        ┆ Kurz [2Stück  ┆       ┆   ┆             ┆          ┆        ┆ nutzbarer    │\n",
       "│            ┆        ┆ 30CM], …      ┆       ┆   ┆             ┆          ┆        ┆ Stecker】Da… │\n",
       "│ B0B9W7W8JD ┆ JP     ┆ RAVIAD USB    ┆ 699.0 ┆ … ┆ H011-SI-030 ┆ null     ┆ null   ┆ 【卓越した耐 │\n",
       "│            ┆        ┆ Type C ケーブ ┆       ┆   ┆             ┆          ┆        ┆ 久性】高耐久 │\n",
       "│            ┆        ┆ ル【0.3m/2本  ┆       ┆   ┆             ┆          ┆        ┆ を持つ断線し │\n",
       "│            ┆        ┆ セッ…         ┆       ┆   ┆             ┆          ┆        ┆ にくいナイロ │\n",
       "│            ┆        ┆               ┆       ┆   ┆             ┆          ┆        ┆ ン素材を採用 │\n",
       "│            ┆        ┆               ┆       ┆   ┆             ┆          ┆        ┆ し、…        │\n",
       "│ B0B9W7W8JD ┆ UK     ┆ Short USB C   ┆ 5.99  ┆ … ┆ H011-SI-030 ┆ null     ┆ null   ┆ 【24-Month   │\n",
       "│            ┆        ┆ Cable [2Pack  ┆       ┆   ┆             ┆          ┆        ┆ Warranty】RA │\n",
       "│            ┆        ┆ 30CM], …      ┆       ┆   ┆             ┆          ┆        ┆ VIAD 2 Pack… │\n",
       "│ B0B9W7W8JD ┆ ES     ┆ RAVIAD Cable  ┆ 6.99  ┆ … ┆ H011-SI-030 ┆ null     ┆ null   ┆ 【Carga      │\n",
       "│            ┆        ┆ USB C Corto   ┆       ┆   ┆             ┆          ┆        ┆ Rápida y Sin │\n",
       "│            ┆        ┆ [2Pack …      ┆       ┆   ┆             ┆          ┆        ┆ cronización  │\n",
       "│            ┆        ┆               ┆       ┆   ┆             ┆          ┆        ┆ 】E…         │\n",
       "│ B0B9W7W8JD ┆ FR     ┆ RAVIAD Câble  ┆ 6.99  ┆ … ┆ H011-SI-030 ┆ null     ┆ null   ┆ 【Compatibil │\n",
       "│            ┆        ┆ USB C Court   ┆       ┆   ┆             ┆          ┆        ┆ ité Etendue  │\n",
       "│            ┆        ┆ [30CM L…      ┆       ┆   ┆             ┆          ┆        ┆ 】Chargeur … │\n",
       "│ B0B9W7W8JD ┆ IT     ┆ RAVIAD Cavo   ┆ 6.99  ┆ … ┆ H011-SI-030 ┆ null     ┆ null   ┆ 【Connettore │\n",
       "│            ┆        ┆ USB Type-C    ┆       ┆   ┆             ┆          ┆        ┆ Reversibile  │\n",
       "│            ┆        ┆ Corto [2P…    ┆       ┆   ┆             ┆          ┆        ┆ 】Il Cavo …  │\n",
       "└────────────┴────────┴───────────────┴───────┴───┴─────────────┴──────────┴────────┴──────────────┘"
      ]
     },
     "execution_count": 74,
     "metadata": {},
     "output_type": "execute_result"
    }
   ],
   "source": [
    "product_pl.filter(pl.col('id')=='B0B9W7W8JD').collect()"
   ]
  },
  {
   "cell_type": "markdown",
   "id": "e5de391b-efb0-4e80-86d2-ec5c161a29c2",
   "metadata": {},
   "source": [
    "### Save product info "
   ]
  },
  {
   "cell_type": "code",
   "execution_count": 87,
   "id": "48d81e43-3b3d-40f2-af71-06105ba65e6c",
   "metadata": {},
   "outputs": [],
   "source": [
    "product_pl = product_pl.with_columns(\n",
    "    pl.Series(name='unique_id', values=range(length_lst[-1]))\n",
    ")"
   ]
  },
  {
   "cell_type": "code",
   "execution_count": 88,
   "id": "251ca200-a8c5-4aa2-bc77-7f69782db2be",
   "metadata": {},
   "outputs": [
    {
     "data": {
      "text/plain": [
       "{'id': Utf8,\n",
       " 'locale': Utf8,\n",
       " 'title': Utf8,\n",
       " 'price': Float64,\n",
       " 'brand': Utf8,\n",
       " 'color': Utf8,\n",
       " 'size': Utf8,\n",
       " 'model': Utf8,\n",
       " 'material': Utf8,\n",
       " 'author': Utf8,\n",
       " 'desc': Utf8,\n",
       " 'unique_id': Int64}"
      ]
     },
     "execution_count": 88,
     "metadata": {},
     "output_type": "execute_result"
    }
   ],
   "source": [
    "product_pl.schema"
   ]
  },
  {
   "cell_type": "code",
   "execution_count": 89,
   "id": "f134a79b-3825-422d-94c5-67aa4ec71f30",
   "metadata": {},
   "outputs": [],
   "source": [
    "product_pl.collect().write_parquet(os.path.join(base_dir, raw_data_session_id_dir, 'products_train.parquet'))\n"
   ]
  },
  {
   "cell_type": "code",
   "execution_count": null,
   "id": "802ae468-8d77-4a4e-8d0e-ed1b9e22b9a5",
   "metadata": {},
   "outputs": [],
   "source": [
    "product_df = product_pl.select(['unique_id', 'id']).collect().to_pandas()\n",
    "product_unique2id = dict(zip(product_df['unique_id'].values, product_df['id'].values))\n",
    "with open(os.path.join(base_dir, raw_data_session_id_dir, 'product_unique2id.json'), 'wb') as f:\n",
    "    pickle.dump(product_unique2id, f)"
   ]
  },
  {
   "cell_type": "markdown",
   "id": "bae678c3-1bdb-4ecf-833c-6ed482d31f00",
   "metadata": {
    "tags": []
   },
   "source": [
    "# assign session_id to test data of phase2"
   ]
  },
  {
   "cell_type": "code",
   "execution_count": 4,
   "id": "7e6455d3-cb00-4570-a1d1-6dd6dbdf11a7",
   "metadata": {},
   "outputs": [
    {
     "data": {
      "text/plain": [
       "'data/raw_data_session_id'"
      ]
     },
     "execution_count": 4,
     "metadata": {},
     "output_type": "execute_result"
    }
   ],
   "source": [
    "raw_data_session_id_dir"
   ]
  },
  {
   "cell_type": "code",
   "execution_count": 13,
   "id": "0fd23246-9a74-4d0e-8c46-4942eb7f2d48",
   "metadata": {},
   "outputs": [],
   "source": [
    "train_df = pl.scan_parquet(os.path.join(base_dir, raw_data_session_id_dir, 'sessions_train.parquet'))\n",
    "eval_df = pl.scan_parquet(os.path.join(base_dir, raw_data_session_id_dir, 'sessions_eval.parquet'))\n",
    "task1_pl = pl.scan_parquet(os.path.join(base_dir, raw_data_session_id_dir, 'sessions_test_task1_phase1.parquet'))\n",
    "task2_pl = pl.scan_parquet(os.path.join(base_dir, raw_data_session_id_dir, 'sessions_test_task2_phase1.parquet'))\n",
    "task3_pl = pl.scan_parquet(os.path.join(base_dir, raw_data_session_id_dir, 'sessions_test_task3_phase1.parquet'))"
   ]
  },
  {
   "cell_type": "code",
   "execution_count": 14,
   "id": "51d949ab-e507-4b31-9a0f-a3eee0c54224",
   "metadata": {},
   "outputs": [],
   "source": [
    "length_lst = []\n",
    "min_max_id = []\n",
    "for df in [train_df, eval_df, task1_pl, task2_pl, task3_pl,# product_pl\n",
    "          ]:\n",
    "    # print()\n",
    "    # print()\n",
    "    # print(df.schema)\n",
    "    min_id = df.select('session_id').min().collect()\n",
    "    max_id = df.select('session_id').max().collect()\n",
    "    shape = df.collect().shape\n",
    "    length_lst.append(shape[0])\n",
    "    min_max_id.append([min_id, max_id])\n",
    "    # print(shape)\n",
    "    # print()\n",
    "    # print(df.head(3).collect())\n",
    "    # print()\n",
    "    # print()"
   ]
  },
  {
   "cell_type": "code",
   "execution_count": 15,
   "id": "999ac964-f8c0-4f6b-a24a-378e6974002a",
   "metadata": {},
   "outputs": [
    {
     "data": {
      "text/plain": [
       "[3246473, 359776, 316971, 34691, 56423]"
      ]
     },
     "execution_count": 15,
     "metadata": {},
     "output_type": "execute_result"
    }
   ],
   "source": [
    "length_lst"
   ]
  },
  {
   "cell_type": "code",
   "execution_count": 16,
   "id": "05dc1726-b346-415a-8f4a-b37f6d300b46",
   "metadata": {},
   "outputs": [],
   "source": [
    "# min_max_id"
   ]
  },
  {
   "cell_type": "code",
   "execution_count": 17,
   "id": "ccbef999-35d3-4261-ad06-0954636b4b8f",
   "metadata": {},
   "outputs": [],
   "source": [
    "max_id = 4014333\n"
   ]
  },
  {
   "cell_type": "code",
   "execution_count": 20,
   "id": "a670befc-458b-4fb4-820e-5475512bc15c",
   "metadata": {},
   "outputs": [],
   "source": [
    "assert sum(length_lst) == max_id+1"
   ]
  },
  {
   "cell_type": "code",
   "execution_count": 36,
   "id": "cc04a8ac-b1d9-4ced-a6dc-450d786695b8",
   "metadata": {},
   "outputs": [],
   "source": [
    "task1_phase2 = pl.scan_csv(os.path.join('..', raw_data_dir, 'sessions_test_task1.csv'))\n",
    "task2_phase2 = pl.from_pandas(pd.read_csv(os.path.join('..', raw_data_dir, 'sessions_test_task2.csv'))).lazy()\n",
    "task3_phase2 = pl.from_pandas(pd.read_csv(os.path.join('..', raw_data_dir, 'sessions_test_task3.csv'))).lazy()\n",
    "# product_ = pl.scan_csv(os.path.join('..', raw_data_dir, 'products_train.csv'))"
   ]
  },
  {
   "cell_type": "code",
   "execution_count": 37,
   "id": "fe7c2aac-7f00-4e42-a4d4-2fb08dd59cd2",
   "metadata": {},
   "outputs": [],
   "source": [
    "assert task1_phase2.filter(pl.col('locale').is_null()).collect().shape[0] == 0"
   ]
  },
  {
   "cell_type": "code",
   "execution_count": 38,
   "id": "1356ed82-0beb-4099-b7a6-6b4e1ae7313f",
   "metadata": {},
   "outputs": [],
   "source": [
    "assert task2_phase2.filter(pl.col('locale').is_null()).collect().shape[0] == 0"
   ]
  },
  {
   "cell_type": "code",
   "execution_count": 39,
   "id": "887e3367-ba54-4a2d-b286-780fd47ea5f5",
   "metadata": {},
   "outputs": [],
   "source": [
    "assert task3_phase2.filter(pl.col('locale').is_null()).collect().shape[0] == 0"
   ]
  },
  {
   "cell_type": "code",
   "execution_count": 40,
   "id": "6073a93b-97f8-4e2f-8fce-a8e1e57d1363",
   "metadata": {},
   "outputs": [
    {
     "name": "stdout",
     "output_type": "stream",
     "text": [
      "\n",
      "\n",
      "{'prev_items': Utf8, 'locale': Utf8}\n",
      "(316972, 2)\n",
      "\n",
      "shape: (3, 2)\n",
      "┌───────────────────────────────────┬────────┐\n",
      "│ prev_items                        ┆ locale │\n",
      "│ ---                               ┆ ---    │\n",
      "│ str                               ┆ str    │\n",
      "╞═══════════════════════════════════╪════════╡\n",
      "│ ['B087VLP2RT' 'B09BRQSHYH' 'B099… ┆ DE     │\n",
      "│ ['B08XW4W667' 'B096VMCJYF' 'B096… ┆ DE     │\n",
      "│ ['B09Z4T2GJ3' 'B09Z3FBXMB' 'B093… ┆ DE     │\n",
      "└───────────────────────────────────┴────────┘\n",
      "\n",
      "\n",
      "\n",
      "\n",
      "{'prev_items': Utf8, 'locale': Utf8}\n",
      "(34690, 2)\n",
      "\n",
      "shape: (3, 2)\n",
      "┌───────────────────────────────────┬────────┐\n",
      "│ prev_items                        ┆ locale │\n",
      "│ ---                               ┆ ---    │\n",
      "│ str                               ┆ str    │\n",
      "╞═══════════════════════════════════╪════════╡\n",
      "│ ['B07GTS7SWK' 'B07GTS7SWK']       ┆ ES     │\n",
      "│ ['B0B33YWVHR' '849988993X' 'B09Q… ┆ ES     │\n",
      "│ ['B08FMPXDTJ' 'B0B4612MTM' 'B0B4… ┆ ES     │\n",
      "└───────────────────────────────────┴────────┘\n",
      "\n",
      "\n",
      "\n",
      "\n",
      "{'prev_items': Utf8, 'locale': Utf8}\n",
      "(56422, 2)\n",
      "\n",
      "shape: (3, 2)\n",
      "┌─────────────────────────────┬────────┐\n",
      "│ prev_items                  ┆ locale │\n",
      "│ ---                         ┆ ---    │\n",
      "│ str                         ┆ str    │\n",
      "╞═════════════════════════════╪════════╡\n",
      "│ ['B0BF9JMVDG' 'B01ET9V90M'] ┆ ES     │\n",
      "│ ['B09QQG85HM' 'B09J4T4JF5'] ┆ ES     │\n",
      "│ ['B09NSKDG4K' 'B09YY6J1ZM'] ┆ ES     │\n",
      "└─────────────────────────────┴────────┘\n",
      "\n",
      "\n"
     ]
    }
   ],
   "source": [
    "phase2_length_lst = []\n",
    "for df in [task1_phase2, task2_phase2, task3_phase2]:\n",
    "    print()\n",
    "    print()\n",
    "    print(df.schema)\n",
    "    shape = df.collect().shape\n",
    "    phase2_length_lst.append(shape[0])\n",
    "    print(shape)\n",
    "    print()\n",
    "    print(df.head(3).collect())\n",
    "    print()\n",
    "    print()"
   ]
  },
  {
   "cell_type": "code",
   "execution_count": 41,
   "id": "54629a3f-b869-458e-b3f1-8ea23f86d572",
   "metadata": {},
   "outputs": [
    {
     "data": {
      "text/plain": [
       "4014333"
      ]
     },
     "execution_count": 41,
     "metadata": {},
     "output_type": "execute_result"
    }
   ],
   "source": [
    "max_id"
   ]
  },
  {
   "cell_type": "code",
   "execution_count": 42,
   "id": "7653bef7-3a41-487a-b3fc-fa1909e270b0",
   "metadata": {},
   "outputs": [
    {
     "data": {
      "text/plain": [
       "[316972, 34690, 56422]"
      ]
     },
     "execution_count": 42,
     "metadata": {},
     "output_type": "execute_result"
    }
   ],
   "source": [
    "phase2_length_lst"
   ]
  },
  {
   "cell_type": "code",
   "execution_count": 43,
   "id": "86606af1-a458-4361-a85a-e8a97a2664d3",
   "metadata": {},
   "outputs": [],
   "source": [
    "# phase2_l?ength_lst[:2]"
   ]
  },
  {
   "cell_type": "code",
   "execution_count": 44,
   "id": "c905014d-d427-483a-b689-de2b6da1bbe4",
   "metadata": {},
   "outputs": [],
   "source": [
    "task1_phase2= task1_phase2.with_columns(\n",
    "    pl.Series(name='session_id', values=range(max_id+1,sum(phase2_length_lst[:1])+max_id+1))\n",
    ")\n",
    "task2_phase2= task2_phase2.with_columns(\n",
    "    pl.Series(name='session_id', values=range(sum(phase2_length_lst[:1])+max_id+1,sum(phase2_length_lst[:2])+max_id+1))\n",
    ")\n",
    "task3_phase2= task3_phase2.with_columns(\n",
    "    pl.Series(name='session_id', values=range(sum(phase2_length_lst[:2])+max_id+1,sum(phase2_length_lst[:3])+max_id+1))\n",
    ")"
   ]
  },
  {
   "cell_type": "code",
   "execution_count": 45,
   "id": "bc3d98a9-ed3e-49db-96fc-f5488c08ed10",
   "metadata": {},
   "outputs": [
    {
     "name": "stdout",
     "output_type": "stream",
     "text": [
      "[shape: (1, 1)\n",
      "┌────────────┐\n",
      "│ session_id │\n",
      "│ ---        │\n",
      "│ i64        │\n",
      "╞════════════╡\n",
      "│ 4014334    │\n",
      "└────────────┘, shape: (1, 1)\n",
      "┌────────────┐\n",
      "│ session_id │\n",
      "│ ---        │\n",
      "│ i64        │\n",
      "╞════════════╡\n",
      "│ 4331305    │\n",
      "└────────────┘]\n",
      "[shape: (1, 1)\n",
      "┌────────────┐\n",
      "│ session_id │\n",
      "│ ---        │\n",
      "│ i64        │\n",
      "╞════════════╡\n",
      "│ 4331306    │\n",
      "└────────────┘, shape: (1, 1)\n",
      "┌────────────┐\n",
      "│ session_id │\n",
      "│ ---        │\n",
      "│ i64        │\n",
      "╞════════════╡\n",
      "│ 4365995    │\n",
      "└────────────┘]\n",
      "[shape: (1, 1)\n",
      "┌────────────┐\n",
      "│ session_id │\n",
      "│ ---        │\n",
      "│ i64        │\n",
      "╞════════════╡\n",
      "│ 4365996    │\n",
      "└────────────┘, shape: (1, 1)\n",
      "┌────────────┐\n",
      "│ session_id │\n",
      "│ ---        │\n",
      "│ i64        │\n",
      "╞════════════╡\n",
      "│ 4422417    │\n",
      "└────────────┘]\n"
     ]
    }
   ],
   "source": [
    "# length_lst = []\n",
    "# min_max_id = []\n",
    "# for df in [train_df, eval_df, task1_pl, task2_pl, task3_pl,# product_pl\n",
    "#           ]:\n",
    "#     # print()\n",
    "#     # print()\n",
    "#     # print(df.schema)\n",
    "#     min_id = df.select('session_id').min().collect()\n",
    "#     max_id = df.select('session_id').max().collect()\n",
    "\n",
    "    \n",
    "# phase2_length_lst = []\n",
    "for df in [task1_phase2, task2_phase2, task3_phase2]:\n",
    "    min_id = df.select('session_id').min().collect()\n",
    "    max_id = df.select('session_id').max().collect()\n",
    "    print(f\"[{min_id}, {max_id}]\")\n",
    "    # print()\n",
    "    # print()\n",
    "    # print(df.schema)\n",
    "    # shape = df.collect().shape\n",
    "    # phase2_length_lst.append(shape[0])\n",
    "    # print(shape)\n",
    "    # print()\n",
    "    # print(df.head(3).collect())\n",
    "    # print()\n",
    "    # print()"
   ]
  },
  {
   "cell_type": "code",
   "execution_count": 46,
   "id": "43cae768-5d1e-4ab9-bea2-e27841f1b22d",
   "metadata": {},
   "outputs": [],
   "source": [
    "\n",
    "task1_phase2.collect().write_parquet(os.path.join(base_dir, raw_data_session_id_dir, 'sessions_test_task1.parquet'))\n",
    "task2_phase2.collect().write_parquet(os.path.join(base_dir, raw_data_session_id_dir, 'sessions_test_task2.parquet'))\n",
    "task3_phase2.collect().write_parquet(os.path.join(base_dir, raw_data_session_id_dir, 'sessions_test_task3.parquet'))"
   ]
  },
  {
   "cell_type": "markdown",
   "id": "d84a2044-4344-4582-8b12-28732a83181d",
   "metadata": {},
   "source": [
    "# Split train data to 2 parts "
   ]
  },
  {
   "cell_type": "code",
   "execution_count": 13,
   "id": "754c4ffb-908d-4e60-8fe2-3ea866235c6e",
   "metadata": {},
   "outputs": [],
   "source": [
    "train_pl = pl.scan_parquet(os.path.join(base_dir, raw_data_session_id_dir, 'sessions_train.parquet'))\n"
   ]
  },
  {
   "cell_type": "code",
   "execution_count": 14,
   "id": "b0b0f026-fbbd-474e-8432-5d8159c69f8e",
   "metadata": {},
   "outputs": [
    {
     "data": {
      "text/html": [
       "<div><style>\n",
       ".dataframe > thead > tr > th,\n",
       ".dataframe > tbody > tr > td {\n",
       "  text-align: right;\n",
       "}\n",
       "</style>\n",
       "<small>shape: (5, 4)</small><table border=\"1\" class=\"dataframe\"><thead><tr><th>prev_items</th><th>next_item</th><th>locale</th><th>session_id</th></tr><tr><td>str</td><td>str</td><td>str</td><td>i64</td></tr></thead><tbody><tr><td>&quot;[&#x27;B09W9FND7K&#x27; …</td><td>&quot;B09M7GY217&quot;</td><td>&quot;DE&quot;</td><td>0</td></tr><tr><td>&quot;[&#x27;B076THCGSG&#x27; …</td><td>&quot;B001B4THSA&quot;</td><td>&quot;DE&quot;</td><td>1</td></tr><tr><td>&quot;[&#x27;B0B1LGXWDS&#x27; …</td><td>&quot;B0767DTG2Q&quot;</td><td>&quot;DE&quot;</td><td>2</td></tr><tr><td>&quot;[&#x27;B0749V8TC7&#x27; …</td><td>&quot;B0749TX4YS&quot;</td><td>&quot;DE&quot;</td><td>5</td></tr><tr><td>&quot;[&#x27;B09SMK3R8H&#x27; …</td><td>&quot;B08YNZT93Z&quot;</td><td>&quot;DE&quot;</td><td>6</td></tr></tbody></table></div>"
      ],
      "text/plain": [
       "shape: (5, 4)\n",
       "┌───────────────────────────────────┬────────────┬────────┬────────────┐\n",
       "│ prev_items                        ┆ next_item  ┆ locale ┆ session_id │\n",
       "│ ---                               ┆ ---        ┆ ---    ┆ ---        │\n",
       "│ str                               ┆ str        ┆ str    ┆ i64        │\n",
       "╞═══════════════════════════════════╪════════════╪════════╪════════════╡\n",
       "│ ['B09W9FND7K' 'B09JSPLN1M']       ┆ B09M7GY217 ┆ DE     ┆ 0          │\n",
       "│ ['B076THCGSG' 'B007MO8IME' 'B08M… ┆ B001B4THSA ┆ DE     ┆ 1          │\n",
       "│ ['B0B1LGXWDS' 'B00AZYORS2' 'B0B1… ┆ B0767DTG2Q ┆ DE     ┆ 2          │\n",
       "│ ['B0749V8TC7' 'B0749W93VC' 'B074… ┆ B0749TX4YS ┆ DE     ┆ 5          │\n",
       "│ ['B09SMK3R8H' 'B01N4ND0F9']       ┆ B08YNZT93Z ┆ DE     ┆ 6          │\n",
       "└───────────────────────────────────┴────────────┴────────┴────────────┘"
      ]
     },
     "execution_count": 14,
     "metadata": {},
     "output_type": "execute_result"
    }
   ],
   "source": [
    "train_pl.head().collect()"
   ]
  },
  {
   "cell_type": "code",
   "execution_count": 15,
   "id": "6a51c023-a472-4dc2-b761-5644b917057a",
   "metadata": {},
   "outputs": [
    {
     "data": {
      "text/plain": [
       "3246473"
      ]
     },
     "execution_count": 15,
     "metadata": {},
     "output_type": "execute_result"
    }
   ],
   "source": [
    "length = train_pl.collect().shape[0]\n",
    "length"
   ]
  },
  {
   "cell_type": "code",
   "execution_count": 28,
   "id": "9cfbc422-31c7-4c3a-b545-1f8315beae37",
   "metadata": {},
   "outputs": [
    {
     "data": {
      "text/html": [
       "<div><style>\n",
       ".dataframe > thead > tr > th,\n",
       ".dataframe > tbody > tr > td {\n",
       "  text-align: right;\n",
       "}\n",
       "</style>\n",
       "<small>shape: (6, 2)</small><table border=\"1\" class=\"dataframe\"><thead><tr><th>locale</th><th>counts</th></tr><tr><td>str</td><td>u32</td></tr></thead><tbody><tr><td>&quot;FR&quot;</td><td>105940</td></tr><tr><td>&quot;ES&quot;</td><td>80083</td></tr><tr><td>&quot;JP&quot;</td><td>881273</td></tr><tr><td>&quot;DE&quot;</td><td>1000634</td></tr><tr><td>&quot;IT&quot;</td><td>114177</td></tr><tr><td>&quot;UK&quot;</td><td>1064366</td></tr></tbody></table></div>"
      ],
      "text/plain": [
       "shape: (6, 2)\n",
       "┌────────┬─────────┐\n",
       "│ locale ┆ counts  │\n",
       "│ ---    ┆ ---     │\n",
       "│ str    ┆ u32     │\n",
       "╞════════╪═════════╡\n",
       "│ FR     ┆ 105940  │\n",
       "│ ES     ┆ 80083   │\n",
       "│ JP     ┆ 881273  │\n",
       "│ DE     ┆ 1000634 │\n",
       "│ IT     ┆ 114177  │\n",
       "│ UK     ┆ 1064366 │\n",
       "└────────┴─────────┘"
      ]
     },
     "execution_count": 28,
     "metadata": {},
     "output_type": "execute_result"
    }
   ],
   "source": [
    "train_pl.select('locale').collect().to_series().value_counts()"
   ]
  },
  {
   "cell_type": "code",
   "execution_count": 16,
   "id": "9d8beead-a2b8-467c-be18-e1a6ab5fac23",
   "metadata": {},
   "outputs": [
    {
     "data": {
      "text/plain": [
       "3246473"
      ]
     },
     "execution_count": 16,
     "metadata": {},
     "output_type": "execute_result"
    }
   ],
   "source": [
    "length "
   ]
  },
  {
   "cell_type": "code",
   "execution_count": 17,
   "id": "c4d6efbd-6058-49aa-8de1-d5e32aabc8b2",
   "metadata": {},
   "outputs": [],
   "source": [
    "train_pl = train_pl.with_columns(\n",
    "    pl.Series(name='random', values=np.random.uniform(size=length))\n",
    ")"
   ]
  },
  {
   "cell_type": "code",
   "execution_count": 18,
   "id": "f4aa668e-6353-48fe-83d2-f34b451640c7",
   "metadata": {},
   "outputs": [],
   "source": [
    "train1 = train_pl.filter(pl.col('random')<=0.5).select(pl.all().exclude('random'))\n",
    "train2 = train_pl.filter(pl.col('random')>0.5).select(pl.all().exclude('random'))"
   ]
  },
  {
   "cell_type": "code",
   "execution_count": 23,
   "id": "cc8cec3a-ddf7-4625-8deb-826876771c2b",
   "metadata": {},
   "outputs": [],
   "source": [
    "assert train1.collect().shape[0] + train2.collect().shape[0] == length"
   ]
  },
  {
   "cell_type": "code",
   "execution_count": 24,
   "id": "b1dcd66b-26a5-410b-a5b9-1229453483a4",
   "metadata": {},
   "outputs": [],
   "source": [
    "train1.collect().write_parquet(os.path.join(base_dir, raw_data_session_id_dir, 'sessions_train1.parquet'))\n"
   ]
  },
  {
   "cell_type": "code",
   "execution_count": 25,
   "id": "5a644fce-aac0-4fbc-b74e-168be6ae754a",
   "metadata": {},
   "outputs": [],
   "source": [
    "train2.collect().write_parquet(os.path.join(base_dir, raw_data_session_id_dir, 'sessions_train2.parquet'))\n"
   ]
  },
  {
   "cell_type": "code",
   "execution_count": null,
   "id": "f452b195-fa92-4a7c-851c-05ae5b03c487",
   "metadata": {},
   "outputs": [],
   "source": []
  }
 ],
 "metadata": {
  "environment": {
   "kernel": "kdd_2023",
   "name": "common-cu110.m104",
   "type": "gcloud",
   "uri": "gcr.io/deeplearning-platform-release/base-cu110:m104"
  },
  "kernelspec": {
   "display_name": "py3.8(kdd_2023)",
   "language": "python",
   "name": "kdd_2023"
  },
  "language_info": {
   "codemirror_mode": {
    "name": "ipython",
    "version": 3
   },
   "file_extension": ".py",
   "mimetype": "text/x-python",
   "name": "python",
   "nbconvert_exporter": "python",
   "pygments_lexer": "ipython3",
   "version": "3.8.16"
  }
 },
 "nbformat": 4,
 "nbformat_minor": 5
}
