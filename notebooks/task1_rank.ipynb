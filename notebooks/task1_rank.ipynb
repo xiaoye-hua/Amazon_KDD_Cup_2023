{
 "cells": [
  {
   "cell_type": "markdown",
   "id": "cfb20369-bc15-496e-9ca7-96ea3337a84e",
   "metadata": {},
   "source": [
    "# Packages "
   ]
  },
  {
   "cell_type": "code",
   "execution_count": 29,
   "id": "aabe0c4e-8729-4f63-9722-c12d233ca6b5",
   "metadata": {},
   "outputs": [
    {
     "name": "stdout",
     "output_type": "stream",
     "text": [
      "The autoreload extension is already loaded. To reload it, use:\n",
      "  %reload_ext autoreload\n"
     ]
    }
   ],
   "source": [
    "%load_ext autoreload\n",
    "%autoreload 2\n",
    "import sys\n",
    "import logging\n",
    "sys.path.append('../')\n",
    "import os\n",
    "from utils import *\n",
    "\n",
    "import os\n",
    "import numpy as np\n",
    "import pandas as pd\n",
    "from gensim.models import Word2Vec\n",
    "\n",
    "from annoy import AnnoyIndex\n",
    "import polars as pl\n",
    "import implicit\n",
    "import scipy.sparse as sps\n",
    "from utils import str2list\n"
   ]
  },
  {
   "cell_type": "markdown",
   "id": "1355ce62-0ebd-4629-99e5-96bf2946bed5",
   "metadata": {},
   "source": [
    "# Config "
   ]
  },
  {
   "cell_type": "code",
   "execution_count": 22,
   "id": "0cac5f9f-76a0-4069-a57a-17b45bba83fd",
   "metadata": {},
   "outputs": [],
   "source": [
    "debug = True\n",
    "\n",
    "if debug:\n",
    "    SAMPLE_NUM = 1000\n",
    "else:\n",
    "    SAMPLE_NUM = None\n",
    "\n",
    "candidate_path = '../data/candidates/'\n",
    "# train_data_dir = '.'\n",
    "# test_data_dir = '.'\n",
    "# task = 'task1'\n",
    "# PREDS_PER_SESSION = 100\n",
    "\n",
    "# num_tree = 100\n",
    "\n",
    "# model_dir = '../model_training/als_v1'\n",
    "\n",
    "# # target locales: locales needed for task1\n",
    "# target_locals = [\"DE\", 'JP', 'UK']\n",
    "\n",
    "# submit_file = f'submission_{task}_ALS.parquet'"
   ]
  },
  {
   "cell_type": "markdown",
   "id": "6dcb3854-ffc0-45cf-b0ed-f8b96ccd0fcb",
   "metadata": {},
   "source": [
    "# Function "
   ]
  },
  {
   "cell_type": "code",
   "execution_count": 38,
   "id": "b578226d-8a0a-4a53-a888-3db802cd29db",
   "metadata": {},
   "outputs": [],
   "source": [
    "data_type = 'train'\n",
    "\n",
    "def get_all_candidates(data_type):\n",
    "    if data_type == 'train':\n",
    "        w2v_file = os.path.join(candidate_path, 'task1_train_w2c_top100_300k.parquet')\n",
    "        nic_file = os.path.join(candidate_path, 'task1_train_nic_without_pupular_top100_300k.parquet')\n",
    "    else:\n",
    "        w2v_file = os.path.join(candidate_path, 'task1_train_w2c_top100_300k.parquet')\n",
    "        nic_file = os.path.join(candidate_path, 'task1_train_nic_without_pupular_top100_300k.parquet')\n",
    "    w2v_pl = pl.scan_parquet(w2v_file, n_rows=SAMPLE_NUM).with_columns(pl.col('prev_items').apply(str2list))\n",
    "    nic_pl = pl.scan_parquet(nic_file, n_rows=SAMPLE_NUM)#.with_columns(pl.col('prev_items').apply(str2list))\n",
    "    print(nic_pl.schema)\n",
    "    cols_to_keep = ['prev_items', 'next_item', 'locale', 'next_item_prediction', 'cg_source']\n",
    "\n",
    "    w2v_pl = w2v_pl.with_columns(pl.lit('word2vec').alias('cg_source')).select(cols_to_keep)\n",
    "    nic_pl = nic_pl.with_columns(pl.lit('next_item_counter').alias('cg_source')).select(cols_to_keep)\n",
    "\n",
    "    cg_pl = (\n",
    "            pl.concat([w2v_pl, nic_pl], how='vertical')\n",
    "                .explode('next_item_prediction')\n",
    "                .groupby(['prev_items', 'locale', 'next_item', 'next_item_prediction'])\n",
    "                .agg(\n",
    "                    pl.col('cg_source')\n",
    "                )\n",
    "                .with_columns(\n",
    "                    pl.when(pl.col('cg_source').arr.contains(pl.lit('word2vec'))).then(1).otherwise(0).alias('whether_w2v')\n",
    "                    , pl.when(pl.col('cg_source').arr.contains(pl.lit('next_item_counter'))).then(1).otherwise(0).alias('whether_nic')\n",
    "                    # , pl.col('prev_items').arr.get(-1).alias('last_prev_item')\n",
    "\n",
    "                )\n",
    "    )\n",
    "    if data_type == 'train':\n",
    "        cg_pl = cg_pl.with_columns(\n",
    "            pl.when(pl.col('next_item')==pl.col('next_item_prediction')).then(1).otherwise(0).alias('label')\n",
    "        )\n",
    "    return cg_pl"
   ]
  },
  {
   "cell_type": "markdown",
   "id": "d215768f-949e-4853-80e6-76b53d14bb42",
   "metadata": {
    "tags": []
   },
   "source": [
    "# Combine All candidates "
   ]
  },
  {
   "cell_type": "code",
   "execution_count": 39,
   "id": "88b5b29f-03d0-4d7e-8e47-6a8ec338d265",
   "metadata": {},
   "outputs": [
    {
     "name": "stdout",
     "output_type": "stream",
     "text": [
      "{'prev_items': Utf8, 'next_item': Utf8, 'locale': Utf8, 'next_item_prediction': List(Utf8), 'rec_num': UInt32}\n"
     ]
    }
   ],
   "source": [
    "train_candidates = get_all_candidates(data_type='train')"
   ]
  },
  {
   "cell_type": "code",
   "execution_count": 36,
   "id": "b1b37f89-77f6-4c92-a5fb-78c6aa02e6b1",
   "metadata": {},
   "outputs": [
    {
     "ename": "ShapeError",
     "evalue": "unable to vstack, dtypes for column \"prev_items\" don't match: `list[str]` and `str`",
     "output_type": "error",
     "traceback": [
      "\u001b[0;31m---------------------------------------------------------------------------\u001b[0m",
      "\u001b[0;31mShapeError\u001b[0m                                Traceback (most recent call last)",
      "Cell \u001b[0;32mIn[36], line 1\u001b[0m\n\u001b[0;32m----> 1\u001b[0m \u001b[43mtrain_candidates\u001b[49m\u001b[38;5;241;43m.\u001b[39;49m\u001b[43mhead\u001b[49m\u001b[43m(\u001b[49m\u001b[43m)\u001b[49m\u001b[38;5;241;43m.\u001b[39;49m\u001b[43mcollect\u001b[49m\u001b[43m(\u001b[49m\u001b[43m)\u001b[49m\n",
      "File \u001b[0;32m~/.cache/pypoetry/virtualenvs/kdd-2023-KklMGVX0-py3.8/lib/python3.8/site-packages/polars/lazyframe/frame.py:1475\u001b[0m, in \u001b[0;36mLazyFrame.collect\u001b[0;34m(self, type_coercion, predicate_pushdown, projection_pushdown, simplify_expression, no_optimization, slice_pushdown, common_subplan_elimination, streaming)\u001b[0m\n\u001b[1;32m   1464\u001b[0m     common_subplan_elimination \u001b[38;5;241m=\u001b[39m \u001b[38;5;28;01mFalse\u001b[39;00m\n\u001b[1;32m   1466\u001b[0m ldf \u001b[38;5;241m=\u001b[39m \u001b[38;5;28mself\u001b[39m\u001b[38;5;241m.\u001b[39m_ldf\u001b[38;5;241m.\u001b[39moptimization_toggle(\n\u001b[1;32m   1467\u001b[0m     type_coercion,\n\u001b[1;32m   1468\u001b[0m     predicate_pushdown,\n\u001b[0;32m   (...)\u001b[0m\n\u001b[1;32m   1473\u001b[0m     streaming,\n\u001b[1;32m   1474\u001b[0m )\n\u001b[0;32m-> 1475\u001b[0m \u001b[38;5;28;01mreturn\u001b[39;00m wrap_df(\u001b[43mldf\u001b[49m\u001b[38;5;241;43m.\u001b[39;49m\u001b[43mcollect\u001b[49m\u001b[43m(\u001b[49m\u001b[43m)\u001b[49m)\n",
      "\u001b[0;31mShapeError\u001b[0m: unable to vstack, dtypes for column \"prev_items\" don't match: `list[str]` and `str`"
     ]
    }
   ],
   "source": [
    "train_candidates.head().collect()"
   ]
  },
  {
   "cell_type": "code",
   "execution_count": 20,
   "id": "b685dd9d-ed2a-4bf3-a6b8-8a52d00e12c5",
   "metadata": {},
   "outputs": [
    {
     "ename": "SchemaError",
     "evalue": "invalid series dtype: expected `List`, got `str`",
     "output_type": "error",
     "traceback": [
      "\u001b[0;31m---------------------------------------------------------------------------\u001b[0m",
      "\u001b[0;31mSchemaError\u001b[0m                               Traceback (most recent call last)",
      "Cell \u001b[0;32mIn[20], line 1\u001b[0m\n\u001b[0;32m----> 1\u001b[0m \u001b[43mtrain_candidates\u001b[49m\u001b[38;5;241;43m.\u001b[39;49m\u001b[43mcollect\u001b[49m\u001b[43m(\u001b[49m\u001b[43m)\u001b[49m\u001b[38;5;241m.\u001b[39mshape\n",
      "File \u001b[0;32m~/.cache/pypoetry/virtualenvs/kdd-2023-KklMGVX0-py3.8/lib/python3.8/site-packages/polars/lazyframe/frame.py:1475\u001b[0m, in \u001b[0;36mLazyFrame.collect\u001b[0;34m(self, type_coercion, predicate_pushdown, projection_pushdown, simplify_expression, no_optimization, slice_pushdown, common_subplan_elimination, streaming)\u001b[0m\n\u001b[1;32m   1464\u001b[0m     common_subplan_elimination \u001b[38;5;241m=\u001b[39m \u001b[38;5;28;01mFalse\u001b[39;00m\n\u001b[1;32m   1466\u001b[0m ldf \u001b[38;5;241m=\u001b[39m \u001b[38;5;28mself\u001b[39m\u001b[38;5;241m.\u001b[39m_ldf\u001b[38;5;241m.\u001b[39moptimization_toggle(\n\u001b[1;32m   1467\u001b[0m     type_coercion,\n\u001b[1;32m   1468\u001b[0m     predicate_pushdown,\n\u001b[0;32m   (...)\u001b[0m\n\u001b[1;32m   1473\u001b[0m     streaming,\n\u001b[1;32m   1474\u001b[0m )\n\u001b[0;32m-> 1475\u001b[0m \u001b[38;5;28;01mreturn\u001b[39;00m wrap_df(\u001b[43mldf\u001b[49m\u001b[38;5;241;43m.\u001b[39;49m\u001b[43mcollect\u001b[49m\u001b[43m(\u001b[49m\u001b[43m)\u001b[49m)\n",
      "\u001b[0;31mSchemaError\u001b[0m: invalid series dtype: expected `List`, got `str`"
     ]
    }
   ],
   "source": [
    "train_candidates.collect().shape"
   ]
  },
  {
   "cell_type": "code",
   "execution_count": 12,
   "id": "5e0b70a9-f83a-46b8-b771-64b0ee099450",
   "metadata": {},
   "outputs": [
    {
     "data": {
      "text/html": [
       "<div><style>\n",
       ".dataframe > thead > tr > th,\n",
       ".dataframe > tbody > tr > td {\n",
       "  text-align: right;\n",
       "}\n",
       "</style>\n",
       "<small>shape: (1, 1)</small><table border=\"1\" class=\"dataframe\"><thead><tr><th>label</th></tr><tr><td>f64</td></tr></thead><tbody><tr><td>0.00846</td></tr></tbody></table></div>"
      ],
      "text/plain": [
       "shape: (1, 1)\n",
       "┌─────────┐\n",
       "│ label   │\n",
       "│ ---     │\n",
       "│ f64     │\n",
       "╞═════════╡\n",
       "│ 0.00846 │\n",
       "└─────────┘"
      ]
     },
     "execution_count": 12,
     "metadata": {},
     "output_type": "execute_result"
    }
   ],
   "source": [
    "train_candidates.select('label').mean().collect()"
   ]
  },
  {
   "cell_type": "markdown",
   "id": "9a40c22f-010f-4bba-ae1f-aa76247c638d",
   "metadata": {
    "tags": []
   },
   "source": [
    "# Feature Process "
   ]
  },
  {
   "cell_type": "markdown",
   "id": "1b0ce964-2e88-478a-b539-6c3b2e8cfff5",
   "metadata": {},
   "source": [
    "## Load model "
   ]
  },
  {
   "cell_type": "code",
   "execution_count": null,
   "id": "a4c47aaf-d78c-41dd-8475-a8aded37b089",
   "metadata": {},
   "outputs": [],
   "source": [
    "nic_model = pl.scan_parquet('../model_training/next_item_counter_v2/nic_model.parquet').explode(['next_item_prediction', 'next_item_weight'])"
   ]
  },
  {
   "cell_type": "code",
   "execution_count": null,
   "id": "ce10c5b6-85d9-4189-986c-6120ffa43bd4",
   "metadata": {},
   "outputs": [],
   "source": [
    "nic_model.schema"
   ]
  },
  {
   "cell_type": "code",
   "execution_count": null,
   "id": "1915678c-706a-429d-8446-8cf2fa5c6443",
   "metadata": {},
   "outputs": [],
   "source": [
    "train_candidates.schema"
   ]
  },
  {
   "cell_type": "code",
   "execution_count": null,
   "id": "16380255-0dd9-4928-a8d3-f3aac77a6865",
   "metadata": {},
   "outputs": [],
   "source": [
    "def add_nic_feature(df, nic_model):\n",
    "    df.join(nic_model, how='left',\n",
    "            left_on=['last_prev_item', 'next_item_prediction']\n",
    "           , right_on=)"
   ]
  },
  {
   "cell_type": "code",
   "execution_count": 15,
   "id": "bd72cfe8-8595-412f-80ab-139e8894e2b0",
   "metadata": {},
   "outputs": [],
   "source": [
    "# w2v_pl.with_columns(pl.lit('w2v').alias('cg_source')).select(cols_to_keep).head(3).collect()"
   ]
  },
  {
   "cell_type": "code",
   "execution_count": 16,
   "id": "0a839398-512d-4c72-83bf-8b1933c682bd",
   "metadata": {},
   "outputs": [
    {
     "data": {
      "text/plain": [
       "{'prev_items': Utf8,\n",
       " 'next_item': Utf8,\n",
       " 'locale': Utf8,\n",
       " 'next_item_prediction': List(Utf8),\n",
       " 'cg_source': Utf8}"
      ]
     },
     "execution_count": 16,
     "metadata": {},
     "output_type": "execute_result"
    }
   ],
   "source": [
    "w2v_pl.schema"
   ]
  },
  {
   "cell_type": "code",
   "execution_count": 17,
   "id": "6ff0cba2-7237-483b-bfad-c1f6dd3b76c7",
   "metadata": {},
   "outputs": [
    {
     "data": {
      "text/plain": [
       "{'prev_items': Utf8,\n",
       " 'next_item': Utf8,\n",
       " 'locale': Utf8,\n",
       " 'next_item_prediction': List(Utf8),\n",
       " 'cg_source': Utf8}"
      ]
     },
     "execution_count": 17,
     "metadata": {},
     "output_type": "execute_result"
    }
   ],
   "source": [
    "nic_pl.schema"
   ]
  },
  {
   "cell_type": "code",
   "execution_count": 18,
   "id": "b57a8498-b4e8-45d4-9334-6f1fda594165",
   "metadata": {},
   "outputs": [
    {
     "ename": "DuplicateError",
     "evalue": "unable to hstack, column with name \"prev_items\" already exists",
     "output_type": "error",
     "traceback": [
      "\u001b[0;31m---------------------------------------------------------------------------\u001b[0m",
      "\u001b[0;31mDuplicateError\u001b[0m                            Traceback (most recent call last)",
      "Cell \u001b[0;32mIn[18], line 1\u001b[0m\n\u001b[0;32m----> 1\u001b[0m \u001b[43mpl\u001b[49m\u001b[38;5;241;43m.\u001b[39;49m\u001b[43mconcat\u001b[49m\u001b[43m(\u001b[49m\u001b[43m[\u001b[49m\u001b[43mw2v_pl\u001b[49m\u001b[38;5;241;43m.\u001b[39;49m\u001b[43mcollect\u001b[49m\u001b[43m(\u001b[49m\u001b[43m)\u001b[49m\u001b[43m,\u001b[49m\u001b[43m \u001b[49m\u001b[43mnic_pl\u001b[49m\u001b[38;5;241;43m.\u001b[39;49m\u001b[43mcollect\u001b[49m\u001b[43m(\u001b[49m\u001b[43m)\u001b[49m\u001b[43m]\u001b[49m\u001b[43m,\u001b[49m\u001b[43m \u001b[49m\u001b[43mhow\u001b[49m\u001b[38;5;241;43m=\u001b[39;49m\u001b[38;5;124;43m'\u001b[39;49m\u001b[38;5;124;43mhorizontal\u001b[39;49m\u001b[38;5;124;43m'\u001b[39;49m\u001b[43m)\u001b[49m\n",
      "File \u001b[0;32m~/.cache/pypoetry/virtualenvs/kdd-2023-KklMGVX0-py3.8/lib/python3.8/site-packages/polars/utils/decorators.py:136\u001b[0m, in \u001b[0;36mdeprecate_nonkeyword_arguments.<locals>.decorate.<locals>.wrapper\u001b[0;34m(*args, **kwargs)\u001b[0m\n\u001b[1;32m    134\u001b[0m \u001b[38;5;28;01mif\u001b[39;00m \u001b[38;5;28mlen\u001b[39m(args) \u001b[38;5;241m>\u001b[39m num_allowed_args:\n\u001b[1;32m    135\u001b[0m     warnings\u001b[38;5;241m.\u001b[39mwarn(msg, \u001b[38;5;167;01mDeprecationWarning\u001b[39;00m, stacklevel\u001b[38;5;241m=\u001b[39mstacklevel)\n\u001b[0;32m--> 136\u001b[0m \u001b[38;5;28;01mreturn\u001b[39;00m \u001b[43mfunction\u001b[49m\u001b[43m(\u001b[49m\u001b[38;5;241;43m*\u001b[39;49m\u001b[43margs\u001b[49m\u001b[43m,\u001b[49m\u001b[43m \u001b[49m\u001b[38;5;241;43m*\u001b[39;49m\u001b[38;5;241;43m*\u001b[39;49m\u001b[43mkwargs\u001b[49m\u001b[43m)\u001b[49m\n",
      "File \u001b[0;32m~/.cache/pypoetry/virtualenvs/kdd-2023-KklMGVX0-py3.8/lib/python3.8/site-packages/polars/functions/eager.py:262\u001b[0m, in \u001b[0;36mconcat\u001b[0;34m(items, rechunk, how, parallel)\u001b[0m\n\u001b[1;32m    260\u001b[0m     out \u001b[38;5;241m=\u001b[39m wrap_df(_diag_concat_df(elems))\n\u001b[1;32m    261\u001b[0m \u001b[38;5;28;01melif\u001b[39;00m how \u001b[38;5;241m==\u001b[39m \u001b[38;5;124m\"\u001b[39m\u001b[38;5;124mhorizontal\u001b[39m\u001b[38;5;124m\"\u001b[39m:\n\u001b[0;32m--> 262\u001b[0m     out \u001b[38;5;241m=\u001b[39m wrap_df(\u001b[43m_hor_concat_df\u001b[49m\u001b[43m(\u001b[49m\u001b[43melems\u001b[49m\u001b[43m)\u001b[49m)\n\u001b[1;32m    263\u001b[0m \u001b[38;5;28;01melse\u001b[39;00m:\n\u001b[1;32m    264\u001b[0m     \u001b[38;5;28;01mraise\u001b[39;00m \u001b[38;5;167;01mValueError\u001b[39;00m(\n\u001b[1;32m    265\u001b[0m         \u001b[38;5;124mf\u001b[39m\u001b[38;5;124m\"\u001b[39m\u001b[38;5;124mhow must be one of \u001b[39m\u001b[38;5;130;01m{{\u001b[39;00m\u001b[38;5;124m'\u001b[39m\u001b[38;5;124mvertical\u001b[39m\u001b[38;5;124m'\u001b[39m\u001b[38;5;124m, \u001b[39m\u001b[38;5;124m'\u001b[39m\u001b[38;5;124mdiagonal\u001b[39m\u001b[38;5;124m'\u001b[39m\u001b[38;5;124m, \u001b[39m\u001b[38;5;124m'\u001b[39m\u001b[38;5;124mhorizontal\u001b[39m\u001b[38;5;124m'\u001b[39m\u001b[38;5;130;01m}}\u001b[39;00m\u001b[38;5;124m, \u001b[39m\u001b[38;5;124m\"\u001b[39m\n\u001b[1;32m    266\u001b[0m         \u001b[38;5;124mf\u001b[39m\u001b[38;5;124m\"\u001b[39m\u001b[38;5;124mgot \u001b[39m\u001b[38;5;132;01m{\u001b[39;00mhow\u001b[38;5;132;01m}\u001b[39;00m\u001b[38;5;124m\"\u001b[39m\n\u001b[1;32m    267\u001b[0m     )\n",
      "\u001b[0;31mDuplicateError\u001b[0m: unable to hstack, column with name \"prev_items\" already exists"
     ]
    }
   ],
   "source": [
    "pl.concat([w2v_pl.collect(), nic_pl.collect()], how='horizontal')"
   ]
  },
  {
   "cell_type": "code",
   "execution_count": null,
   "id": "045f50eb-cf75-4975-8d8e-2b674e66ea91",
   "metadata": {},
   "outputs": [],
   "source": []
  }
 ],
 "metadata": {
  "environment": {
   "kernel": "kdd_2023",
   "name": "common-cu110.m104",
   "type": "gcloud",
   "uri": "gcr.io/deeplearning-platform-release/base-cu110:m104"
  },
  "kernelspec": {
   "display_name": "py3.8(kdd_2023)",
   "language": "python",
   "name": "kdd_2023"
  },
  "language_info": {
   "codemirror_mode": {
    "name": "ipython",
    "version": 3
   },
   "file_extension": ".py",
   "mimetype": "text/x-python",
   "name": "python",
   "nbconvert_exporter": "python",
   "pygments_lexer": "ipython3",
   "version": "3.8.16"
  }
 },
 "nbformat": 4,
 "nbformat_minor": 5
}
