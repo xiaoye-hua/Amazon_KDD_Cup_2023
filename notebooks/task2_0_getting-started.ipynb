{
 "cells": [
  {
   "cell_type": "markdown",
   "metadata": {
    "id": "LmjiT10Qk5m8"
   },
   "source": [
    "## Setup data and task information"
   ]
  },
  {
   "cell_type": "code",
   "execution_count": 1,
   "metadata": {
    "executionInfo": {
     "elapsed": 1342,
     "status": "ok",
     "timestamp": 1679077214393,
     "user": {
      "displayName": "Dipam Chakraborty",
      "userId": "04496869744334527762"
     },
     "user_tz": -330
    },
    "id": "7DjmcQMAgPAJ"
   },
   "outputs": [],
   "source": [
    "import os\n",
    "import numpy as np\n",
    "import pandas as pd\n",
    "from functools import lru_cache"
   ]
  },
  {
   "cell_type": "code",
   "execution_count": 2,
   "metadata": {
    "executionInfo": {
     "elapsed": 2,
     "status": "ok",
     "timestamp": 1679077214393,
     "user": {
      "displayName": "Dipam Chakraborty",
      "userId": "04496869744334527762"
     },
     "user_tz": -330
    },
    "id": "6oiTtQ56gYlY"
   },
   "outputs": [],
   "source": [
    "train_data_dir = '../data/raw_data/'\n",
    "test_data_dir = '../data/raw_data/'\n",
    "task = 'task2'\n",
    "PREDS_PER_SESSION = 100"
   ]
  },
  {
   "cell_type": "code",
   "execution_count": 3,
   "metadata": {
    "executionInfo": {
     "elapsed": 4,
     "status": "ok",
     "timestamp": 1679077215079,
     "user": {
      "displayName": "Dipam Chakraborty",
      "userId": "04496869744334527762"
     },
     "user_tz": -330
    },
    "id": "qZPWqKGegax-"
   },
   "outputs": [],
   "source": [
    "# Cache loading of data for multiple calls\n",
    "\n",
    "@lru_cache(maxsize=1)\n",
    "def read_product_data():\n",
    "    return pd.read_csv(os.path.join(train_data_dir, 'products_train.csv'))\n",
    "\n",
    "@lru_cache(maxsize=1)\n",
    "def read_train_data():\n",
    "    return pd.read_csv(os.path.join(train_data_dir, 'sessions_train.csv'))\n",
    "\n",
    "@lru_cache(maxsize=3)\n",
    "def read_test_data(task):\n",
    "    return pd.read_csv(os.path.join(test_data_dir, f'sessions_test_{task}.csv'))"
   ]
  },
  {
   "cell_type": "markdown",
   "metadata": {
    "id": "WrMp8SO2tFtL"
   },
   "source": [
    "## Data Description\n",
    "\n",
    "The Multilingual Shopping Session Dataset is a collection of **anonymized customer sessions** containing products from six different locales, namely English, German, Japanese, French, Italian, and Spanish. It consists of two main components: **user sessions** and **product attributes**. User sessions are a list of products that a user has engaged with in chronological order, while product attributes include various details like product title, price in local currency, brand, color, and description.\n",
    "\n",
    "---\n",
    "\n",
    "### Each product as its associated information:\n",
    "\n",
    "\n",
    "**locale**: the locale code of the product (e.g., DE)\n",
    "\n",
    "**id**: a unique for the product. Also known as Amazon Standard Item Number (ASIN) (e.g., B07WSY3MG8)\n",
    "\n",
    "**title**: title of the item (e.g., “Japanese Aesthetic Sakura Flowers Vaporwave Soft Grunge Gift T-Shirt”)\n",
    "\n",
    "**price**: price of the item in local currency (e.g., 24.99)\n",
    "\n",
    "**brand**: item brand name (e.g., “Japanese Aesthetic Flowers & Vaporwave Clothing”)\n",
    "\n",
    "**color**: color of the item (e.g., “Black”)\n",
    "\n",
    "**size**: size of the item (e.g., “xxl”)\n",
    "\n",
    "**model**: model of the item (e.g., “iphone 13”)\n",
    "\n",
    "**material**: material of the item (e.g., “cotton”)\n",
    "\n",
    "**author**: author of the item (e.g., “J. K. Rowling”)\n",
    "\n",
    "**desc**: description about a item’s key features and benefits called out via bullet points (e.g., “Solid colors: 100% Cotton; Heather Grey: 90% Cotton, 10% Polyester; All Other Heathers …”)\n"
   ]
  },
  {
   "cell_type": "markdown",
   "metadata": {
    "id": "9ZEph_ZjlOj0"
   },
   "source": [
    "## EDA 💽"
   ]
  },
  {
   "cell_type": "code",
   "execution_count": 4,
   "metadata": {
    "executionInfo": {
     "elapsed": 5,
     "status": "ok",
     "timestamp": 1679077215793,
     "user": {
      "displayName": "Dipam Chakraborty",
      "userId": "04496869744334527762"
     },
     "user_tz": -330
    },
    "id": "f2L9ImDqge3_"
   },
   "outputs": [],
   "source": [
    "def read_locale_data(locale, task):\n",
    "    products = read_product_data().query(f'locale == \"{locale}\"')\n",
    "    sess_train = read_train_data().query(f'locale == \"{locale}\"')\n",
    "    sess_test = read_test_data(task).query(f'locale == \"{locale}\"')\n",
    "    return products, sess_train, sess_test\n",
    "\n",
    "def show_locale_info(locale, task):\n",
    "    products, sess_train, sess_test = read_locale_data(locale, task)\n",
    "\n",
    "    train_l = sess_train['prev_items'].apply(lambda sess: len(sess))\n",
    "    test_l = sess_test['prev_items'].apply(lambda sess: len(sess))\n",
    "\n",
    "    print(f\"Locale: {locale} \\n\"\n",
    "          f\"Number of products: {products['id'].nunique()} \\n\"\n",
    "          f\"Number of train sessions: {len(sess_train)} \\n\"\n",
    "          f\"Train session lengths - \"\n",
    "          f\"Mean: {train_l.mean():.2f} | Median {train_l.median():.2f} | \"\n",
    "          f\"Min: {train_l.min():.2f} | Max {train_l.max():.2f} \\n\"\n",
    "          f\"Number of test sessions: {len(sess_test)}\"\n",
    "        )\n",
    "    if len(sess_test) > 0:\n",
    "        print(\n",
    "             f\"Test session lengths - \"\n",
    "            f\"Mean: {test_l.mean():.2f} | Median {test_l.median():.2f} | \"\n",
    "            f\"Min: {test_l.min():.2f} | Max {test_l.max():.2f} \\n\"\n",
    "        )\n",
    "    print(\"======================================================================== \\n\")"
   ]
  },
  {
   "cell_type": "code",
   "execution_count": 5,
   "metadata": {
    "colab": {
     "base_uri": "https://localhost:8080/"
    },
    "executionInfo": {
     "elapsed": 28550,
     "status": "ok",
     "timestamp": 1679077245642,
     "user": {
      "displayName": "Dipam Chakraborty",
      "userId": "04496869744334527762"
     },
     "user_tz": -330
    },
    "id": "tWCiG4Odggmo",
    "outputId": "c7dc1b08-91d6-46d3-d664-cb239232d708"
   },
   "outputs": [
    {
     "name": "stdout",
     "output_type": "stream",
     "text": [
      "Locale: DE \n",
      "Number of products: 518327 \n",
      "Number of train sessions: 1111416 \n",
      "Train session lengths - Mean: 57.89 | Median 40.00 | Min: 27.00 | Max 2060.00 \n",
      "Number of test sessions: 0\n",
      "======================================================================== \n",
      "\n",
      "Locale: JP \n",
      "Number of products: 395009 \n",
      "Number of train sessions: 979119 \n",
      "Train session lengths - Mean: 59.61 | Median 40.00 | Min: 27.00 | Max 6257.00 \n",
      "Number of test sessions: 0\n",
      "======================================================================== \n",
      "\n",
      "Locale: UK \n",
      "Number of products: 500180 \n",
      "Number of train sessions: 1182181 \n",
      "Train session lengths - Mean: 54.85 | Median 40.00 | Min: 27.00 | Max 2654.00 \n",
      "Number of test sessions: 0\n",
      "======================================================================== \n",
      "\n",
      "Locale: ES \n",
      "Number of products: 42503 \n",
      "Number of train sessions: 89047 \n",
      "Train session lengths - Mean: 48.82 | Median 40.00 | Min: 27.00 | Max 792.00 \n",
      "Number of test sessions: 8177\n",
      "Test session lengths - Mean: 50.23 | Median 40.00 | Min: 27.00 | Max 396.00 \n",
      "\n",
      "======================================================================== \n",
      "\n",
      "Locale: FR \n",
      "Number of products: 44577 \n",
      "Number of train sessions: 117561 \n",
      "Train session lengths - Mean: 47.25 | Median 40.00 | Min: 27.00 | Max 687.00 \n",
      "Number of test sessions: 12521\n",
      "Test session lengths - Mean: 51.13 | Median 40.00 | Min: 27.00 | Max 489.00 \n",
      "\n",
      "======================================================================== \n",
      "\n",
      "Locale: IT \n",
      "Number of products: 50461 \n",
      "Number of train sessions: 126925 \n",
      "Train session lengths - Mean: 48.80 | Median 40.00 | Min: 27.00 | Max 621.00 \n",
      "Number of test sessions: 13992\n",
      "Test session lengths - Mean: 50.99 | Median 40.00 | Min: 27.00 | Max 594.00 \n",
      "\n",
      "======================================================================== \n",
      "\n"
     ]
    }
   ],
   "source": [
    "products = read_product_data()\n",
    "locale_names = products['locale'].unique()\n",
    "for locale in locale_names:\n",
    "    show_locale_info(locale, task)"
   ]
  },
  {
   "cell_type": "code",
   "execution_count": 6,
   "metadata": {
    "colab": {
     "base_uri": "https://localhost:8080/",
     "height": 704
    },
    "executionInfo": {
     "elapsed": 12,
     "status": "ok",
     "timestamp": 1679077245643,
     "user": {
      "displayName": "Dipam Chakraborty",
      "userId": "04496869744334527762"
     },
     "user_tz": -330
    },
    "id": "ePOKyZCbgizi",
    "outputId": "36fe1446-79bb-45db-f390-22a5b7ff2239"
   },
   "outputs": [
    {
     "data": {
      "text/html": [
       "<div>\n",
       "<style scoped>\n",
       "    .dataframe tbody tr th:only-of-type {\n",
       "        vertical-align: middle;\n",
       "    }\n",
       "\n",
       "    .dataframe tbody tr th {\n",
       "        vertical-align: top;\n",
       "    }\n",
       "\n",
       "    .dataframe thead th {\n",
       "        text-align: right;\n",
       "    }\n",
       "</style>\n",
       "<table border=\"1\" class=\"dataframe\">\n",
       "  <thead>\n",
       "    <tr style=\"text-align: right;\">\n",
       "      <th></th>\n",
       "      <th>id</th>\n",
       "      <th>locale</th>\n",
       "      <th>title</th>\n",
       "      <th>price</th>\n",
       "      <th>brand</th>\n",
       "      <th>color</th>\n",
       "      <th>size</th>\n",
       "      <th>model</th>\n",
       "      <th>material</th>\n",
       "      <th>author</th>\n",
       "      <th>desc</th>\n",
       "    </tr>\n",
       "  </thead>\n",
       "  <tbody>\n",
       "    <tr>\n",
       "      <th>1463884</th>\n",
       "      <td>B092MH82Q7</td>\n",
       "      <td>FR</td>\n",
       "      <td>SUSSURRO 3 Pcs Trousse d'entretien des Cuticul...</td>\n",
       "      <td>4.99</td>\n",
       "      <td>SUSSURRO</td>\n",
       "      <td>Argent</td>\n",
       "      <td>3 Unité (Lot de 1)</td>\n",
       "      <td>NaN</td>\n",
       "      <td>Acier inoxydable</td>\n",
       "      <td>NaN</td>\n",
       "      <td>➤➤➤3 kit de manucure en 1: Ce kit manucure com...</td>\n",
       "    </tr>\n",
       "    <tr>\n",
       "      <th>152770</th>\n",
       "      <td>B001PT9C9K</td>\n",
       "      <td>DE</td>\n",
       "      <td>Trainings- und Ausbildungsgeschirr Side by Sid...</td>\n",
       "      <td>15.99</td>\n",
       "      <td>HUNTER</td>\n",
       "      <td>schwarz</td>\n",
       "      <td>47-69 cm</td>\n",
       "      <td>97783</td>\n",
       "      <td>Nylon</td>\n",
       "      <td>NaN</td>\n",
       "      <td>Halsumfang individuell einstellbar und durch K...</td>\n",
       "    </tr>\n",
       "    <tr>\n",
       "      <th>604158</th>\n",
       "      <td>B00LIRG0Z8</td>\n",
       "      <td>JP</td>\n",
       "      <td>I live(アイリブ) ジドウテンメツタイプ [オートテールライト] ショウド&amp;シンドウダ...</td>\n",
       "      <td>1650.00</td>\n",
       "      <td>I live(アイリブ)</td>\n",
       "      <td>ブラック</td>\n",
       "      <td>幅102mm x 奥行35mm x 厚さ25mm</td>\n",
       "      <td>NaN</td>\n",
       "      <td>プラスチック</td>\n",
       "      <td>NaN</td>\n",
       "      <td>※ブラケットの組み替えにより縦位置、横位置での取り付けが可能</td>\n",
       "    </tr>\n",
       "    <tr>\n",
       "      <th>1454538</th>\n",
       "      <td>B095PNV6L6</td>\n",
       "      <td>ES</td>\n",
       "      <td>Desatascador de Tuberías 3 metros THORQUE, Pun...</td>\n",
       "      <td>13.97</td>\n",
       "      <td>Gemini Alpha S.R.L</td>\n",
       "      <td>NaN</td>\n",
       "      <td>3 metros</td>\n",
       "      <td>TQ000002</td>\n",
       "      <td>Acero al carbono</td>\n",
       "      <td>NaN</td>\n",
       "      <td>[MODO DE USO] Con la compra del desatascador d...</td>\n",
       "    </tr>\n",
       "    <tr>\n",
       "      <th>802615</th>\n",
       "      <td>B019UQ5TKK</td>\n",
       "      <td>JP</td>\n",
       "      <td>(ジンセルフ) JINSELF アルトC デザインオカリナ 12穴 陶器 便利な3点セット ...</td>\n",
       "      <td>1799.00</td>\n",
       "      <td>JIN SELF</td>\n",
       "      <td>*ピンク*</td>\n",
       "      <td>NaN</td>\n",
       "      <td>NaN</td>\n",
       "      <td>陶器</td>\n",
       "      <td>NaN</td>\n",
       "      <td>オカリナ【高さ:9cm 幅:17cm 奥行:3.7cm/重さ:227g/素材:陶器製】</td>\n",
       "    </tr>\n",
       "  </tbody>\n",
       "</table>\n",
       "</div>"
      ],
      "text/plain": [
       "                 id locale                                              title  \\\n",
       "1463884  B092MH82Q7     FR  SUSSURRO 3 Pcs Trousse d'entretien des Cuticul...   \n",
       "152770   B001PT9C9K     DE  Trainings- und Ausbildungsgeschirr Side by Sid...   \n",
       "604158   B00LIRG0Z8     JP  I live(アイリブ) ジドウテンメツタイプ [オートテールライト] ショウド&シンドウダ...   \n",
       "1454538  B095PNV6L6     ES  Desatascador de Tuberías 3 metros THORQUE, Pun...   \n",
       "802615   B019UQ5TKK     JP  (ジンセルフ) JINSELF アルトC デザインオカリナ 12穴 陶器 便利な3点セット ...   \n",
       "\n",
       "           price               brand    color                      size  \\\n",
       "1463884     4.99            SUSSURRO   Argent        3 Unité (Lot de 1)   \n",
       "152770     15.99              HUNTER  schwarz                  47-69 cm   \n",
       "604158   1650.00        I live(アイリブ)     ブラック  幅102mm x 奥行35mm x 厚さ25mm   \n",
       "1454538    13.97  Gemini Alpha S.R.L      NaN                  3 metros   \n",
       "802615   1799.00            JIN SELF    *ピンク*                       NaN   \n",
       "\n",
       "            model          material author  \\\n",
       "1463884       NaN  Acier inoxydable    NaN   \n",
       "152770      97783             Nylon    NaN   \n",
       "604158        NaN            プラスチック    NaN   \n",
       "1454538  TQ000002  Acero al carbono    NaN   \n",
       "802615        NaN                陶器    NaN   \n",
       "\n",
       "                                                      desc  \n",
       "1463884  ➤➤➤3 kit de manucure en 1: Ce kit manucure com...  \n",
       "152770   Halsumfang individuell einstellbar und durch K...  \n",
       "604158                      ※ブラケットの組み替えにより縦位置、横位置での取り付けが可能  \n",
       "1454538  [MODO DE USO] Con la compra del desatascador d...  \n",
       "802615         オカリナ【高さ:9cm 幅:17cm 奥行:3.7cm/重さ:227g/素材:陶器製】  "
      ]
     },
     "execution_count": 6,
     "metadata": {},
     "output_type": "execute_result"
    }
   ],
   "source": [
    "products.sample(5)"
   ]
  },
  {
   "cell_type": "code",
   "execution_count": 7,
   "metadata": {
    "colab": {
     "base_uri": "https://localhost:8080/",
     "height": 206
    },
    "executionInfo": {
     "elapsed": 1394,
     "status": "ok",
     "timestamp": 1679077247030,
     "user": {
      "displayName": "Dipam Chakraborty",
      "userId": "04496869744334527762"
     },
     "user_tz": -330
    },
    "id": "S1S19qsFgk43",
    "outputId": "c0690c91-9ea9-4cfe-b62a-206ac9b934cb"
   },
   "outputs": [
    {
     "data": {
      "text/html": [
       "<div>\n",
       "<style scoped>\n",
       "    .dataframe tbody tr th:only-of-type {\n",
       "        vertical-align: middle;\n",
       "    }\n",
       "\n",
       "    .dataframe tbody tr th {\n",
       "        vertical-align: top;\n",
       "    }\n",
       "\n",
       "    .dataframe thead th {\n",
       "        text-align: right;\n",
       "    }\n",
       "</style>\n",
       "<table border=\"1\" class=\"dataframe\">\n",
       "  <thead>\n",
       "    <tr style=\"text-align: right;\">\n",
       "      <th></th>\n",
       "      <th>prev_items</th>\n",
       "      <th>next_item</th>\n",
       "      <th>locale</th>\n",
       "    </tr>\n",
       "  </thead>\n",
       "  <tbody>\n",
       "    <tr>\n",
       "      <th>682373</th>\n",
       "      <td>['B006XE8DEC' 'B08KWHS5SD']</td>\n",
       "      <td>B07P7V9SP7</td>\n",
       "      <td>DE</td>\n",
       "    </tr>\n",
       "    <tr>\n",
       "      <th>922147</th>\n",
       "      <td>['B01D080ILY' 'B01LXR2H1I']</td>\n",
       "      <td>B07K336J92</td>\n",
       "      <td>DE</td>\n",
       "    </tr>\n",
       "    <tr>\n",
       "      <th>3459835</th>\n",
       "      <td>['B07DF28TFG' 'B07DDT2PM2']</td>\n",
       "      <td>B09HTW4LJ3</td>\n",
       "      <td>FR</td>\n",
       "    </tr>\n",
       "    <tr>\n",
       "      <th>931773</th>\n",
       "      <td>['B01M12RE4D' 'B01LZ3DXT5' 'B01LYRVQOG' 'B01LY...</td>\n",
       "      <td>B074W8S1RN</td>\n",
       "      <td>DE</td>\n",
       "    </tr>\n",
       "    <tr>\n",
       "      <th>1084872</th>\n",
       "      <td>['B09VCB8WB8' 'B09HC4K3KP']</td>\n",
       "      <td>B09V82D62W</td>\n",
       "      <td>DE</td>\n",
       "    </tr>\n",
       "  </tbody>\n",
       "</table>\n",
       "</div>"
      ],
      "text/plain": [
       "                                                prev_items   next_item locale\n",
       "682373                         ['B006XE8DEC' 'B08KWHS5SD']  B07P7V9SP7     DE\n",
       "922147                         ['B01D080ILY' 'B01LXR2H1I']  B07K336J92     DE\n",
       "3459835                        ['B07DF28TFG' 'B07DDT2PM2']  B09HTW4LJ3     FR\n",
       "931773   ['B01M12RE4D' 'B01LZ3DXT5' 'B01LYRVQOG' 'B01LY...  B074W8S1RN     DE\n",
       "1084872                        ['B09VCB8WB8' 'B09HC4K3KP']  B09V82D62W     DE"
      ]
     },
     "execution_count": 7,
     "metadata": {},
     "output_type": "execute_result"
    }
   ],
   "source": [
    "train_sessions = read_train_data()\n",
    "train_sessions.sample(5)"
   ]
  },
  {
   "cell_type": "code",
   "execution_count": 8,
   "metadata": {
    "colab": {
     "base_uri": "https://localhost:8080/",
     "height": 206
    },
    "executionInfo": {
     "elapsed": 6,
     "status": "ok",
     "timestamp": 1679077247030,
     "user": {
      "displayName": "Dipam Chakraborty",
      "userId": "04496869744334527762"
     },
     "user_tz": -330
    },
    "id": "tbllmbaEgmBg",
    "outputId": "679b1ef6-9f7c-4127-ae44-891d29174626"
   },
   "outputs": [
    {
     "data": {
      "text/html": [
       "<div>\n",
       "<style scoped>\n",
       "    .dataframe tbody tr th:only-of-type {\n",
       "        vertical-align: middle;\n",
       "    }\n",
       "\n",
       "    .dataframe tbody tr th {\n",
       "        vertical-align: top;\n",
       "    }\n",
       "\n",
       "    .dataframe thead th {\n",
       "        text-align: right;\n",
       "    }\n",
       "</style>\n",
       "<table border=\"1\" class=\"dataframe\">\n",
       "  <thead>\n",
       "    <tr style=\"text-align: right;\">\n",
       "      <th></th>\n",
       "      <th>prev_items</th>\n",
       "      <th>locale</th>\n",
       "    </tr>\n",
       "  </thead>\n",
       "  <tbody>\n",
       "    <tr>\n",
       "      <th>94</th>\n",
       "      <td>['B0B4K55TTZ' 'B09HY5THQD']</td>\n",
       "      <td>ES</td>\n",
       "    </tr>\n",
       "    <tr>\n",
       "      <th>28082</th>\n",
       "      <td>['B0B3S5BTXH' 'B0B7SBPCYB']</td>\n",
       "      <td>IT</td>\n",
       "    </tr>\n",
       "    <tr>\n",
       "      <th>32641</th>\n",
       "      <td>['B07ZH7HYDX' 'B08HR1VGSR' 'B09GTTY863' 'B07Y8...</td>\n",
       "      <td>IT</td>\n",
       "    </tr>\n",
       "    <tr>\n",
       "      <th>31461</th>\n",
       "      <td>['B08GY7286R' 'B01N3PT6OE']</td>\n",
       "      <td>IT</td>\n",
       "    </tr>\n",
       "    <tr>\n",
       "      <th>5406</th>\n",
       "      <td>['B0BG8FMCMY' 'B0B1SQ3VTQ' 'B0B8Z3CLKF' 'B09XD...</td>\n",
       "      <td>ES</td>\n",
       "    </tr>\n",
       "  </tbody>\n",
       "</table>\n",
       "</div>"
      ],
      "text/plain": [
       "                                              prev_items locale\n",
       "94                           ['B0B4K55TTZ' 'B09HY5THQD']     ES\n",
       "28082                        ['B0B3S5BTXH' 'B0B7SBPCYB']     IT\n",
       "32641  ['B07ZH7HYDX' 'B08HR1VGSR' 'B09GTTY863' 'B07Y8...     IT\n",
       "31461                        ['B08GY7286R' 'B01N3PT6OE']     IT\n",
       "5406   ['B0BG8FMCMY' 'B0B1SQ3VTQ' 'B0B8Z3CLKF' 'B09XD...     ES"
      ]
     },
     "execution_count": 8,
     "metadata": {},
     "output_type": "execute_result"
    }
   ],
   "source": [
    "test_sessions = read_test_data(task)\n",
    "test_sessions.sample(5)"
   ]
  },
  {
   "cell_type": "code",
   "execution_count": 16,
   "metadata": {},
   "outputs": [
    {
     "data": {
      "text/plain": [
       "'../data/raw_data/sessions_test_task2.csv'"
      ]
     },
     "execution_count": 16,
     "metadata": {},
     "output_type": "execute_result"
    }
   ],
   "source": [
    "test_file = os.path.join(test_data_dir, f'sessions_test_{task}.csv')\n",
    "test_file"
   ]
  },
  {
   "cell_type": "code",
   "execution_count": 17,
   "metadata": {},
   "outputs": [],
   "source": [
    "test_df = pd.read_csv(test_file)"
   ]
  },
  {
   "cell_type": "code",
   "execution_count": 18,
   "metadata": {},
   "outputs": [
    {
     "data": {
      "text/html": [
       "<div>\n",
       "<style scoped>\n",
       "    .dataframe tbody tr th:only-of-type {\n",
       "        vertical-align: middle;\n",
       "    }\n",
       "\n",
       "    .dataframe tbody tr th {\n",
       "        vertical-align: top;\n",
       "    }\n",
       "\n",
       "    .dataframe thead th {\n",
       "        text-align: right;\n",
       "    }\n",
       "</style>\n",
       "<table border=\"1\" class=\"dataframe\">\n",
       "  <thead>\n",
       "    <tr style=\"text-align: right;\">\n",
       "      <th></th>\n",
       "      <th>prev_items</th>\n",
       "      <th>locale</th>\n",
       "    </tr>\n",
       "  </thead>\n",
       "  <tbody>\n",
       "    <tr>\n",
       "      <th>0</th>\n",
       "      <td>['B07GTS7SWK' 'B07GTS7SWK']</td>\n",
       "      <td>ES</td>\n",
       "    </tr>\n",
       "    <tr>\n",
       "      <th>1</th>\n",
       "      <td>['B0B33YWVHR' '849988993X' 'B09QQG85HM' 'B0BJZ...</td>\n",
       "      <td>ES</td>\n",
       "    </tr>\n",
       "    <tr>\n",
       "      <th>2</th>\n",
       "      <td>['B08FMPXDTJ' 'B0B4612MTM' 'B0B45YR21M' 'B0B4F...</td>\n",
       "      <td>ES</td>\n",
       "    </tr>\n",
       "    <tr>\n",
       "      <th>3</th>\n",
       "      <td>['B07R3W4XQ7' 'B07R3FB5B5']</td>\n",
       "      <td>ES</td>\n",
       "    </tr>\n",
       "    <tr>\n",
       "      <th>4</th>\n",
       "      <td>['B09V4KBWPL' 'B09G9FTLPB']</td>\n",
       "      <td>ES</td>\n",
       "    </tr>\n",
       "  </tbody>\n",
       "</table>\n",
       "</div>"
      ],
      "text/plain": [
       "                                          prev_items locale\n",
       "0                        ['B07GTS7SWK' 'B07GTS7SWK']     ES\n",
       "1  ['B0B33YWVHR' '849988993X' 'B09QQG85HM' 'B0BJZ...     ES\n",
       "2  ['B08FMPXDTJ' 'B0B4612MTM' 'B0B45YR21M' 'B0B4F...     ES\n",
       "3                        ['B07R3W4XQ7' 'B07R3FB5B5']     ES\n",
       "4                        ['B09V4KBWPL' 'B09G9FTLPB']     ES"
      ]
     },
     "execution_count": 18,
     "metadata": {},
     "output_type": "execute_result"
    }
   ],
   "source": [
    "test_df.head()"
   ]
  },
  {
   "cell_type": "code",
   "execution_count": 22,
   "metadata": {},
   "outputs": [
    {
     "data": {
      "text/plain": [
       "(34690, 2)"
      ]
     },
     "execution_count": 22,
     "metadata": {},
     "output_type": "execute_result"
    }
   ],
   "source": [
    "test_df.shape"
   ]
  },
  {
   "cell_type": "code",
   "execution_count": 21,
   "metadata": {},
   "outputs": [
    {
     "data": {
      "text/plain": [
       "IT    13992\n",
       "FR    12521\n",
       "ES     8177\n",
       "Name: locale, dtype: int64"
      ]
     },
     "execution_count": 21,
     "metadata": {},
     "output_type": "execute_result"
    }
   ],
   "source": [
    "test_df['locale'].value_counts()"
   ]
  },
  {
   "cell_type": "markdown",
   "metadata": {
    "id": "yJoalTbYgnnp"
   },
   "source": [
    "## Generate Submission 🏋️‍♀️\n",
    "\n",
    "\n",
    "\n",
    "Submission format:\n",
    "1. The submission should be a **parquet** file with the sessions from all the locales. \n",
    "2. Predicted products ids per locale should only be a valid product id of that locale. \n",
    "3. Predictions should be added in new column named **\"next_item_prediction\"**.\n",
    "4. Predictions should be a list of string id values"
   ]
  },
  {
   "cell_type": "code",
   "execution_count": 9,
   "metadata": {
    "executionInfo": {
     "elapsed": 6,
     "status": "ok",
     "timestamp": 1679077247031,
     "user": {
      "displayName": "Dipam Chakraborty",
      "userId": "04496869744334527762"
     },
     "user_tz": -330
    },
    "id": "B3zsYp_Jgn_J"
   },
   "outputs": [],
   "source": [
    "def random_predicitons(locale, sess_test_locale):\n",
    "    random_state = np.random.RandomState(42)\n",
    "    products = read_product_data().query(f'locale == \"{locale}\"')\n",
    "    predictions = []\n",
    "    for _ in range(len(sess_test_locale)):\n",
    "        predictions.append(\n",
    "            list(products['id'].sample(PREDS_PER_SESSION, replace=True, random_state=random_state))\n",
    "        ) \n",
    "    sess_test_locale['next_item_prediction'] = predictions\n",
    "    sess_test_locale.drop('prev_items', inplace=True, axis=1)\n",
    "    return sess_test_locale"
   ]
  },
  {
   "cell_type": "code",
   "execution_count": 10,
   "metadata": {
    "colab": {
     "base_uri": "https://localhost:8080/",
     "height": 206
    },
    "executionInfo": {
     "elapsed": 3913,
     "status": "ok",
     "timestamp": 1679077250938,
     "user": {
      "displayName": "Dipam Chakraborty",
      "userId": "04496869744334527762"
     },
     "user_tz": -330
    },
    "id": "mv6TZEFqgrFu",
    "outputId": "4f189b73-ef1a-4927-e9a7-7fb954b8758e"
   },
   "outputs": [
    {
     "data": {
      "text/html": [
       "<div>\n",
       "<style scoped>\n",
       "    .dataframe tbody tr th:only-of-type {\n",
       "        vertical-align: middle;\n",
       "    }\n",
       "\n",
       "    .dataframe tbody tr th {\n",
       "        vertical-align: top;\n",
       "    }\n",
       "\n",
       "    .dataframe thead th {\n",
       "        text-align: right;\n",
       "    }\n",
       "</style>\n",
       "<table border=\"1\" class=\"dataframe\">\n",
       "  <thead>\n",
       "    <tr style=\"text-align: right;\">\n",
       "      <th></th>\n",
       "      <th>locale</th>\n",
       "      <th>next_item_prediction</th>\n",
       "    </tr>\n",
       "  </thead>\n",
       "  <tbody>\n",
       "    <tr>\n",
       "      <th>23010</th>\n",
       "      <td>IT</td>\n",
       "      <td>[B087DJZ5TK, B0784PXZ4V, B0B5RMW85P, B00AIZNCY...</td>\n",
       "    </tr>\n",
       "    <tr>\n",
       "      <th>18889</th>\n",
       "      <td>FR</td>\n",
       "      <td>[B07KJWWSGS, B09Y8D6LTH, B09D7R4SZG, B09NS944X...</td>\n",
       "    </tr>\n",
       "    <tr>\n",
       "      <th>4991</th>\n",
       "      <td>ES</td>\n",
       "      <td>[B09WH4YT7L, B084P1V7GP, B0964457BL, B0B3DXRTF...</td>\n",
       "    </tr>\n",
       "    <tr>\n",
       "      <th>9936</th>\n",
       "      <td>FR</td>\n",
       "      <td>[B097KRN5MR, B08486T5Y2, B09L7KRZNS, B09PNSL6S...</td>\n",
       "    </tr>\n",
       "    <tr>\n",
       "      <th>13417</th>\n",
       "      <td>FR</td>\n",
       "      <td>[B0B4NTM35T, B0B58XH1NB, B00R2D6ELC, B09KS2CRS...</td>\n",
       "    </tr>\n",
       "  </tbody>\n",
       "</table>\n",
       "</div>"
      ],
      "text/plain": [
       "      locale                               next_item_prediction\n",
       "23010     IT  [B087DJZ5TK, B0784PXZ4V, B0B5RMW85P, B00AIZNCY...\n",
       "18889     FR  [B07KJWWSGS, B09Y8D6LTH, B09D7R4SZG, B09NS944X...\n",
       "4991      ES  [B09WH4YT7L, B084P1V7GP, B0964457BL, B0B3DXRTF...\n",
       "9936      FR  [B097KRN5MR, B08486T5Y2, B09L7KRZNS, B09PNSL6S...\n",
       "13417     FR  [B0B4NTM35T, B0B58XH1NB, B00R2D6ELC, B09KS2CRS..."
      ]
     },
     "execution_count": 10,
     "metadata": {},
     "output_type": "execute_result"
    }
   ],
   "source": [
    "test_sessions = read_test_data(task)\n",
    "predictions = []\n",
    "test_locale_names = test_sessions['locale'].unique()\n",
    "for locale in test_locale_names:\n",
    "    sess_test_locale = test_sessions.query(f'locale == \"{locale}\"').copy()\n",
    "    predictions.append(\n",
    "        random_predicitons(locale, sess_test_locale)\n",
    "    )\n",
    "predictions = pd.concat(predictions).reset_index(drop=True)\n",
    "predictions.sample(5)"
   ]
  },
  {
   "cell_type": "markdown",
   "metadata": {
    "id": "vNB90dXKlZkR"
   },
   "source": [
    "# Validate predictions ✅"
   ]
  },
  {
   "cell_type": "code",
   "execution_count": 11,
   "metadata": {
    "executionInfo": {
     "elapsed": 9,
     "status": "ok",
     "timestamp": 1679077250938,
     "user": {
      "displayName": "Dipam Chakraborty",
      "userId": "04496869744334527762"
     },
     "user_tz": -330
    },
    "id": "B1XKTojogtF2"
   },
   "outputs": [],
   "source": [
    "def check_predictions(predictions, check_products=False):\n",
    "    \"\"\"\n",
    "    These tests need to pass as they will also be applied on the evaluator\n",
    "    \"\"\"\n",
    "    test_locale_names = test_sessions['locale'].unique()\n",
    "    for locale in test_locale_names:\n",
    "        sess_test = test_sessions.query(f'locale == \"{locale}\"')\n",
    "        preds_locale =  predictions[predictions['locale'] == sess_test['locale'].iloc[0]]\n",
    "        assert sorted(preds_locale.index.values) == sorted(sess_test.index.values), f\"Session ids of {locale} doesn't match\"\n",
    "\n",
    "        if check_products:\n",
    "            # This check is not done on the evaluator\n",
    "            # but you can run it to verify there is no mixing of products between locales\n",
    "            # Since the ground truth next item will always belong to the same locale\n",
    "            # Warning - This can be slow to run\n",
    "            products = read_product_data().query(f'locale == \"{locale}\"')\n",
    "            predicted_products = np.unique( np.array(list(preds_locale[\"next_item_prediction\"].values)) )\n",
    "            assert np.all( np.isin(predicted_products, products['id']) ), f\"Invalid products in {locale} predictions\""
   ]
  },
  {
   "cell_type": "code",
   "execution_count": 12,
   "metadata": {
    "executionInfo": {
     "elapsed": 9,
     "status": "ok",
     "timestamp": 1679077250939,
     "user": {
      "displayName": "Dipam Chakraborty",
      "userId": "04496869744334527762"
     },
     "user_tz": -330
    },
    "id": "FJA368Gzguk7"
   },
   "outputs": [],
   "source": [
    "check_predictions(predictions)"
   ]
  },
  {
   "cell_type": "code",
   "execution_count": 13,
   "metadata": {},
   "outputs": [],
   "source": [
    "test_locale_names = test_sessions['locale'].unique()"
   ]
  },
  {
   "cell_type": "code",
   "execution_count": 14,
   "metadata": {},
   "outputs": [
    {
     "data": {
      "text/plain": [
       "array(['ES', 'FR', 'IT'], dtype=object)"
      ]
     },
     "execution_count": 14,
     "metadata": {},
     "output_type": "execute_result"
    }
   ],
   "source": [
    "test_locale_names"
   ]
  },
  {
   "cell_type": "code",
   "execution_count": 15,
   "metadata": {
    "executionInfo": {
     "elapsed": 773,
     "status": "ok",
     "timestamp": 1679077251704,
     "user": {
      "displayName": "Dipam Chakraborty",
      "userId": "04496869744334527762"
     },
     "user_tz": -330
    },
    "id": "1dTvU5VOgv0j"
   },
   "outputs": [],
   "source": [
    "# Its important that the parquet file you submit is saved with pyarrow backend\n",
    "predictions.to_parquet(f'submission_{task}.parquet', engine='pyarrow')"
   ]
  },
  {
   "cell_type": "markdown",
   "metadata": {
    "id": "dVrZ_TfnjL09"
   },
   "source": [
    "## Submit to AIcrowd 🚀"
   ]
  },
  {
   "cell_type": "code",
   "execution_count": null,
   "metadata": {
    "id": "rd9OYWEgixPZ"
   },
   "outputs": [],
   "source": [
    "# You can submit with aicrowd-cli, or upload manually on the challenge page.\n",
    "!aicrowd submission create -c task-2-next-product-recommendation-for-underrepresented-languages -f \"submission_task2.parquet\""
   ]
  }
 ],
 "metadata": {
  "colab": {
   "authorship_tag": "ABX9TyPfydzVyYYDENL9r2G4V7sw",
   "provenance": [
    {
     "file_id": "1sShXmsM7JBLXPuIqEufRFIOMamaQ07e2",
     "timestamp": 1679076716377
    }
   ]
  },
  "environment": {
   "kernel": "python3",
   "name": "common-cu110.m104",
   "type": "gcloud",
   "uri": "gcr.io/deeplearning-platform-release/base-cu110:m104"
  },
  "kernelspec": {
   "display_name": "Python 3",
   "language": "python",
   "name": "python3"
  },
  "language_info": {
   "codemirror_mode": {
    "name": "ipython",
    "version": 3
   },
   "file_extension": ".py",
   "mimetype": "text/x-python",
   "name": "python",
   "nbconvert_exporter": "python",
   "pygments_lexer": "ipython3",
   "version": "3.7.16"
  }
 },
 "nbformat": 4,
 "nbformat_minor": 4
}
