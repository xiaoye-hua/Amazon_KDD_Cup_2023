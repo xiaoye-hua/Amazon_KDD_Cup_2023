{
 "cells": [
  {
   "cell_type": "markdown",
   "metadata": {},
   "source": [
    "# Basic ideas"
   ]
  },
  {
   "cell_type": "markdown",
   "metadata": {
    "jp-MarkdownHeadingCollapsed": true,
    "tags": []
   },
   "source": [
    "1. Check how many times two item exist in the same sequence;\n",
    "2. No normalization for the final score\n",
    "3. Next steps\n",
    "    1. [x] train2 is not included\n",
    "    2. [x] normalized score should be included, too\n",
    "\n",
    "Example: [a, b, c] -> [ab, ac, ba, bc, ca, cb] -> \n",
    "\n",
    "```\n",
    "[\n",
    "--current_item, next_item, counts\n",
    "[a, b, 1],\n",
    "[a, c, 1]\n",
    "[a, b, 1]\n",
    "[a, c, 1]\n",
    "[b, a, 1]\n",
    "[b, c, 1]\n",
    "[c, a, 1]\n",
    "[c, b, 1]\n",
    "]\n",
    "```"
   ]
  },
  {
   "cell_type": "markdown",
   "metadata": {
    "tags": []
   },
   "source": [
    "# Package "
   ]
  },
  {
   "cell_type": "code",
   "execution_count": 3,
   "metadata": {},
   "outputs": [],
   "source": [
    "%load_ext autoreload\n",
    "%autoreload 2\n",
    "import sys\n",
    "import logging\n",
    "base_dir = '../'\n",
    "sys.path.append(base_dir)\n",
    "import os\n",
    "import warnings\n",
    "warnings.simplefilter('ignore')\n",
    "\n",
    "import pickle\n",
    "import gc\n",
    "import re\n",
    "import polars as pl\n",
    "from collections import defaultdict, Counter\n",
    "\n",
    "import numpy as np\n",
    "import pandas as pd\n",
    "pd.set_option('display.max_columns', None)\n",
    "from tqdm.auto import tqdm\n",
    "import polars as pl\n",
    "from utils import *\n",
    "from src.eval import model_eval\n",
    "from src.config import raw_data_session_id_dir, candidate_dir, model_for_eval, candidate_file_name"
   ]
  },
  {
   "cell_type": "code",
   "execution_count": 4,
   "metadata": {},
   "outputs": [],
   "source": [
    "# df_prod = pd.read_csv('data/products_train.csv')\n",
    "# df_prod"
   ]
  },
  {
   "cell_type": "markdown",
   "metadata": {
    "tags": []
   },
   "source": [
    "# Config "
   ]
  },
  {
   "cell_type": "code",
   "execution_count": 5,
   "metadata": {},
   "outputs": [],
   "source": [
    "debug = False\n",
    "\n",
    "\n",
    "task = 'task1'\n",
    "version = 'v10'\n",
    "model_version = f'co_visit_{task}_{version}'\n",
    "\n",
    "if task == 'task1':\n",
    "    target_locals = ['DE', 'JP', 'UK']\n",
    "elif task == 'task2':\n",
    "    target_locals = ['ES', 'FR', 'IT']\n",
    "else:\n",
    "    assert 1 == 0\n",
    "\n",
    "\n",
    "topn = 300\n",
    "if debug:\n",
    "    n_rows = 1000\n",
    "else:\n",
    "    n_rows = None\n",
    "# debug_session_num = 100\n",
    "train_data_dir = '.'\n",
    "test_data_dir = '.'\n",
    "\n",
    "model_dir = f'../model_training/{model_version}/'\n",
    "\n",
    "# target locales: locales needed for task1\n",
    "\n",
    "# if model_for_eval:\n",
    "model_file = os.path.join(model_dir, f'{model_version}_{model_for_eval}_for_eval.parquet')\n",
    "submit_file = os.path.join('../data/sub_files/', f'submission_{task}_{model_version}_{model_for_eval}_for_eval.parquet')"
   ]
  },
  {
   "cell_type": "code",
   "execution_count": null,
   "metadata": {},
   "outputs": [],
   "source": []
  },
  {
   "cell_type": "code",
   "execution_count": 6,
   "metadata": {},
   "outputs": [
    {
     "data": {
      "text/plain": [
       "'{task}_{data_type}_{model_version}_{model_for_eval}_top{topn}.parquet'"
      ]
     },
     "execution_count": 6,
     "metadata": {},
     "output_type": "execute_result"
    }
   ],
   "source": [
    "candidate_file_name"
   ]
  },
  {
   "cell_type": "code",
   "execution_count": 7,
   "metadata": {},
   "outputs": [
    {
     "name": "stdout",
     "output_type": "stream",
     "text": [
      "task1_train_co_visit_task1_v10_True_top300.parquet\n",
      "task1_eval_co_visit_task1_v10_True_top300.parquet\n",
      "task1_test_co_visit_task1_v10_True_top300.parquet\n",
      "task1_test4task3_co_visit_task1_v10_True_top300.parquet\n"
     ]
    }
   ],
   "source": [
    "train_file_name = candidate_file_name.format(\n",
    "    task=task\n",
    "    , data_type='train'\n",
    "    , model_version=model_version\n",
    "    , model_for_eval=model_for_eval\n",
    "    , topn=topn\n",
    ")\n",
    "eval_file_name = candidate_file_name.format(\n",
    "    task=task\n",
    "    , data_type='eval'\n",
    "    , model_version=model_version\n",
    "    , model_for_eval=model_for_eval\n",
    "    , topn=topn\n",
    ")\n",
    "test_file_name = candidate_file_name.format(\n",
    "    task=task\n",
    "    , data_type='test'\n",
    "    , model_version=model_version\n",
    "    , model_for_eval=model_for_eval\n",
    "    , topn=topn\n",
    ")\n",
    "\n",
    "test4task3_file_name = candidate_file_name.format(\n",
    "    task=task\n",
    "    , data_type='test4task3'\n",
    "    , model_version=model_version\n",
    "    , model_for_eval=model_for_eval\n",
    "    , topn=topn\n",
    ")\n",
    "print(train_file_name)\n",
    "print(eval_file_name)\n",
    "print(test_file_name)\n",
    "print(test4task3_file_name)"
   ]
  },
  {
   "cell_type": "code",
   "execution_count": 8,
   "metadata": {},
   "outputs": [
    {
     "name": "stdout",
     "output_type": "stream",
     "text": [
      "mkdir: cannot create directory ‘../model_training/co_visit_task1_v10/’: File exists\n"
     ]
    }
   ],
   "source": [
    "! mkdir {model_dir}"
   ]
  },
  {
   "cell_type": "code",
   "execution_count": 9,
   "metadata": {},
   "outputs": [
    {
     "data": {
      "text/plain": [
       "'../model_training/co_visit_task1_v10/co_visit_task1_v10_True_for_eval.parquet'"
      ]
     },
     "execution_count": 9,
     "metadata": {},
     "output_type": "execute_result"
    }
   ],
   "source": [
    "model_file"
   ]
  },
  {
   "cell_type": "code",
   "execution_count": 10,
   "metadata": {},
   "outputs": [
    {
     "data": {
      "text/plain": [
       "'../data/sub_files/submission_task1_co_visit_task1_v10_True_for_eval.parquet'"
      ]
     },
     "execution_count": 10,
     "metadata": {},
     "output_type": "execute_result"
    }
   ],
   "source": [
    "submit_file"
   ]
  },
  {
   "cell_type": "markdown",
   "metadata": {},
   "source": [
    "# Data "
   ]
  },
  {
   "cell_type": "code",
   "execution_count": 11,
   "metadata": {},
   "outputs": [],
   "source": [
    "# ! ls ../{raw_data_session_id_dir}"
   ]
  },
  {
   "cell_type": "code",
   "execution_count": 12,
   "metadata": {},
   "outputs": [],
   "source": [
    "train_pl = pl.scan_parquet(os.path.join(base_dir, raw_data_session_id_dir, 'sessions_train1.parquet'), n_rows=n_rows).filter(pl.col('locale').is_in(target_locals)).with_columns(pl.col('prev_items').apply(str2list))\n",
    "\n",
    "train2_pl = pl.scan_parquet(os.path.join(base_dir, raw_data_session_id_dir, 'sessions_train2.parquet'), n_rows=n_rows).filter(pl.col('locale').is_in(target_locals)).with_columns(pl.col('prev_items').apply(str2list))\n",
    "\n",
    "\n",
    "\n",
    "eval_pl = pl.scan_parquet(os.path.join(base_dir, raw_data_session_id_dir, 'sessions_eval.parquet'), n_rows=n_rows).filter(pl.col('locale').is_in(target_locals)).with_columns(pl.col('prev_items').apply(str2list))\n",
    "\n",
    "# df_sess.head(3).collect()\n",
    "test_pl = pl.scan_parquet(os.path.join(base_dir, raw_data_session_id_dir, f'sessions_test_{task}.parquet'), n_rows=n_rows).with_columns(pl.col('prev_items').apply(str2list))\n",
    "\n",
    "test4task3_pl = pl.scan_parquet(os.path.join(base_dir, raw_data_session_id_dir, 'sessions_test_task3.parquet'), n_rows=n_rows).filter(pl.col('locale').is_in(target_locals)).with_columns(pl.col('prev_items').apply(str2list))\n"
   ]
  },
  {
   "cell_type": "code",
   "execution_count": 13,
   "metadata": {},
   "outputs": [
    {
     "data": {
      "text/html": [
       "<div><style>\n",
       ".dataframe > thead > tr > th,\n",
       ".dataframe > tbody > tr > td {\n",
       "  text-align: right;\n",
       "}\n",
       "</style>\n",
       "<small>shape: (3, 2)</small><table border=\"1\" class=\"dataframe\"><thead><tr><th>locale</th><th>counts</th></tr><tr><td>str</td><td>u32</td></tr></thead><tbody><tr><td>&quot;UK&quot;</td><td>10000</td></tr><tr><td>&quot;JP&quot;</td><td>10000</td></tr><tr><td>&quot;DE&quot;</td><td>10000</td></tr></tbody></table></div>"
      ],
      "text/plain": [
       "shape: (3, 2)\n",
       "┌────────┬────────┐\n",
       "│ locale ┆ counts │\n",
       "│ ---    ┆ ---    │\n",
       "│ str    ┆ u32    │\n",
       "╞════════╪════════╡\n",
       "│ UK     ┆ 10000  │\n",
       "│ JP     ┆ 10000  │\n",
       "│ DE     ┆ 10000  │\n",
       "└────────┴────────┘"
      ]
     },
     "execution_count": 13,
     "metadata": {},
     "output_type": "execute_result"
    }
   ],
   "source": [
    "test4task3_pl.select('locale').collect().to_series().value_counts()"
   ]
  },
  {
   "cell_type": "markdown",
   "metadata": {},
   "source": [
    "# Function "
   ]
  },
  {
   "cell_type": "code",
   "execution_count": 14,
   "metadata": {},
   "outputs": [],
   "source": [
    "# 'item', 'next_item_prediction', 'next_item_weight'"
   ]
  },
  {
   "cell_type": "code",
   "execution_count": 15,
   "metadata": {},
   "outputs": [],
   "source": [
    "def nic_rec(target_pl, nic_model, topn=topn):\n",
    "    rec_num = topn\n",
    "    def get_next_items(x):\n",
    "        prev_items = x['prev_items']\n",
    "        local_rec = x['next_item_prediction']\n",
    "        final = [ele for ele in local_rec if ele not in prev_items]\n",
    "        return final\n",
    "\n",
    "    final_cols = ['session_id', 'next_item_prediction', 'rec_num']\n",
    "    target_pl = (\n",
    "        target_pl\n",
    "            .with_columns(\n",
    "                pl.col('prev_items').arr.get(-1).alias('last_item')\n",
    "            )\n",
    "            .join(nic_model, how='left', left_on='last_item', right_on='item')\n",
    "            .with_columns(\n",
    "                pl.when(pl.col('next_item_prediction').is_null())\n",
    "                    .then([])\n",
    "                    .otherwise(pl.col('next_item_prediction'))\n",
    "                    .alias('next_item_prediction')\n",
    "            ).with_columns(\n",
    "                    pl.struct([\"prev_items\", \"next_item_prediction\"]).apply(\n",
    "                        lambda x: get_next_items(x)).alias('next_item_prediction')\n",
    "            )\n",
    "            .with_columns(\n",
    "                    pl.col('next_item_prediction').arr.head(rec_num)\n",
    "            )\n",
    "            .with_columns(\n",
    "                pl.col('next_item_prediction').arr.lengths().alias('rec_num')\n",
    "            )\n",
    "            .select(\n",
    "                final_cols\n",
    "            )\n",
    "    )#.head(3).collect()\n",
    "    return target_pl"
   ]
  },
  {
   "cell_type": "markdown",
   "metadata": {},
   "source": [
    "# Next Item Statistics "
   ]
  },
  {
   "cell_type": "code",
   "execution_count": 16,
   "metadata": {},
   "outputs": [],
   "source": [
    "train_data = train_pl.with_columns(\n",
    "    pl.col('prev_items').arr.concat(pl.col('next_item')) \n",
    ")\n",
    "if not model_for_eval:\n",
    "    eval_data = eval_pl.with_columns(\n",
    "    pl.col('prev_items').arr.concat(pl.col('next_item')) \n",
    ")\n",
    "else:\n",
    "    eval_data = eval_pl\n",
    "train2_data = train2_pl\n",
    "\n",
    "test_data = test_pl"
   ]
  },
  {
   "cell_type": "code",
   "execution_count": 17,
   "metadata": {},
   "outputs": [],
   "source": [
    "cols_to_keep = ['prev_items']\n",
    "\n",
    "all_train_data = pl.concat([train_data.select(cols_to_keep),\n",
    "                            eval_data.select(cols_to_keep), \n",
    "                            train2_data.select(cols_to_keep), \n",
    "                            test_data.select(cols_to_keep)], how='vertical')"
   ]
  },
  {
   "cell_type": "code",
   "execution_count": 18,
   "metadata": {},
   "outputs": [],
   "source": [
    "# all_train_data.head().collect()"
   ]
  },
  {
   "cell_type": "code",
   "execution_count": 19,
   "metadata": {},
   "outputs": [],
   "source": [
    "def get_cnt(row):\n",
    "    prev_items = row.to_list()\n",
    "    # print(type(prev_items))\n",
    "    # print(prev_items)\n",
    "    length = len(prev_items)\n",
    "    res = []\n",
    "    for idx1, ele1 in enumerate(prev_items):\n",
    "        for idx2, ele2 in enumerate(prev_items):\n",
    "            following_weight = 0\n",
    "            previous_weight = 0\n",
    "            ele2 = prev_items[idx2]\n",
    "            weight = 1\n",
    "            distance = abs(idx2-idx1)\n",
    "            if distance == 0:\n",
    "                continue\n",
    "            if idx1 < idx2:\n",
    "                # combined_ele = '_'.join([ele1, ele2])\n",
    "                following_weight = 1\n",
    "            if idx1 > idx2:\n",
    "                previous_weight = 1\n",
    "            discount_weight = round(weight/distance, 2)\n",
    "            following_discount_weight = round(following_weight/distance, 2)\n",
    "            previous_discount_weight = round(previous_weight/distance, 2)\n",
    "            \n",
    "            res.append(\n",
    "                # combined_ele\n",
    "                [\n",
    "                    # combined_ele\n",
    "                ele1\n",
    "                , ele2\n",
    "                 , str(weight) # co-visit weight\n",
    "                 , str(discount_weight) # co-visit discount weight\n",
    "                 , str(following_weight)\n",
    "                 , str(following_discount_weight)\n",
    "                    ,str(previous_weight)\n",
    "                    , str(previous_discount_weight)\n",
    "                ]\n",
    "                          )\n",
    "    return res"
   ]
  },
  {
   "cell_type": "code",
   "execution_count": 20,
   "metadata": {},
   "outputs": [],
   "source": [
    "next_items_pl = (\n",
    "    all_train_data.with_columns(\n",
    "        pl.col('prev_items').apply(lambda x: get_cnt(x))\n",
    "    )\n",
    "    .explode('prev_items')\n",
    "    .select(\n",
    "        pl.col('prev_items').arr.get(0).alias('current_item')\n",
    "        , pl.col('prev_items').arr.get(1).alias('next_item')\n",
    "        , pl.col('prev_items').arr.get(2).alias('weight').cast(pl.Float32)\n",
    "        , pl.col('prev_items').arr.get(3).alias('discount_weight').cast(pl.Float32)\n",
    "        , pl.col('prev_items').arr.get(4).alias('following_weight').cast(pl.Float32)\n",
    "        , pl.col('prev_items').arr.get(5).alias('following_discount_weight').cast(pl.Float32)\n",
    "        , pl.col('prev_items').arr.get(6).alias('previous_weight').cast(pl.Float32)\n",
    "        , pl.col('prev_items').arr.get(7).alias('previous_discount_weight').cast(pl.Float32)\n",
    "        \n",
    "    )\n",
    "    .groupby(['current_item', 'next_item'])\n",
    "    .agg(\n",
    "        pl.col('weight').sum()\n",
    "        , pl.col('discount_weight').sum()\n",
    "            , pl.col('following_weight').sum()\n",
    "        , pl.col('following_discount_weight').sum()\n",
    "        , pl.col('previous_weight').sum()\n",
    "        , pl.col('previous_discount_weight').sum()\n",
    "\n",
    "    ).sort(['current_item', 'weight'], descending=True)\n",
    "    .groupby(['current_item'])\n",
    "    .agg(\n",
    "        pl.col('next_item')\n",
    "        , pl.col('weight')\n",
    "         , 'discount_weight' # co-visit discount weight\n",
    "         , 'following_weight' \n",
    "         , 'following_discount_weight'\n",
    "            ,'previous_weight'\n",
    "            , 'previous_discount_weight'\n",
    "    )\n",
    "    .select(\n",
    "        pl.col('current_item').alias('item')\n",
    "        , pl.col('next_item').alias('next_item_prediction')\n",
    "        , pl.col('weight').alias('next_item_weight')\n",
    "         , 'discount_weight' # co-visit discount weight\n",
    "         , 'following_weight' \n",
    "         , 'following_discount_weight'\n",
    "            ,'previous_weight'\n",
    "            , 'previous_discount_weight'\n",
    "    )\n",
    ")"
   ]
  },
  {
   "cell_type": "code",
   "execution_count": 42,
   "metadata": {},
   "outputs": [],
   "source": [
    "# next_items_pl.head().collect()"
   ]
  },
  {
   "cell_type": "markdown",
   "metadata": {
    "tags": []
   },
   "source": [
    "## Save model "
   ]
  },
  {
   "cell_type": "code",
   "execution_count": 22,
   "metadata": {},
   "outputs": [
    {
     "data": {
      "text/plain": [
       "'../model_training/co_visit_task1_v10/co_visit_task1_v10_True_for_eval.parquet'"
      ]
     },
     "execution_count": 22,
     "metadata": {},
     "output_type": "execute_result"
    }
   ],
   "source": [
    "model_file"
   ]
  },
  {
   "cell_type": "code",
   "execution_count": 23,
   "metadata": {},
   "outputs": [
    {
     "name": "stdout",
     "output_type": "stream",
     "text": [
      "CPU times: user 14min 16s, sys: 26.4 s, total: 14min 42s\n",
      "Wall time: 11min 53s\n"
     ]
    }
   ],
   "source": [
    "%%time\n",
    "next_items_pl = next_items_pl.collect()"
   ]
  },
  {
   "cell_type": "code",
   "execution_count": 24,
   "metadata": {},
   "outputs": [
    {
     "data": {
      "text/html": [
       "<div><style>\n",
       ".dataframe > thead > tr > th,\n",
       ".dataframe > tbody > tr > td {\n",
       "  text-align: right;\n",
       "}\n",
       "</style>\n",
       "<small>shape: (3, 8)</small><table border=\"1\" class=\"dataframe\"><thead><tr><th>item</th><th>next_item_prediction</th><th>next_item_weight</th><th>discount_weight</th><th>following_weight</th><th>following_discount_weight</th><th>previous_weight</th><th>previous_discount_weight</th></tr><tr><td>str</td><td>list[str]</td><td>list[f32]</td><td>list[f32]</td><td>list[f32]</td><td>list[f32]</td><td>list[f32]</td><td>list[f32]</td></tr></thead><tbody><tr><td>&quot;B0BJ1JBQPF&quot;</td><td>[&quot;B0BJ1JBQPF&quot;, &quot;B0B5T2LP9Y&quot;, … &quot;B095YBNT8D&quot;]</td><td>[14.0, 10.0, … 1.0]</td><td>[14.0, 5.18, … 0.5]</td><td>[7.0, 3.0, … 1.0]</td><td>[7.0, 1.58, … 0.5]</td><td>[7.0, 7.0, … 0.0]</td><td>[7.0, 3.6, … 0.0]</td></tr><tr><td>&quot;B0B8YTBSBM&quot;</td><td>[&quot;B0BJF5HW7C&quot;, &quot;B09RQRG88D&quot;, … &quot;B092MMDQ7H&quot;]</td><td>[2.0, 2.0, … 1.0]</td><td>[0.28, 0.11, … 0.12]</td><td>[2.0, 2.0, … 1.0]</td><td>[0.28, 0.11, … 0.12]</td><td>[0.0, 0.0, … 0.0]</td><td>[0.0, 0.0, … 0.0]</td></tr><tr><td>&quot;B07S8C8Z88&quot;</td><td>[&quot;B07S72KGMM&quot;, &quot;B07B2Y7M9S&quot;, … &quot;B09D3LYLSZ&quot;]</td><td>[2.0, 2.0, … 1.0]</td><td>[1.5, 1.33, … 0.33]</td><td>[0.0, 1.0, … 0.0]</td><td>[0.0, 0.33, … 0.0]</td><td>[2.0, 1.0, … 1.0]</td><td>[1.5, 1.0, … 0.33]</td></tr></tbody></table></div>"
      ],
      "text/plain": [
       "shape: (3, 8)\n",
       "┌───────┬────────────┬────────────┬────────────┬────────────┬────────────┬────────────┬────────────┐\n",
       "│ item  ┆ next_item_ ┆ next_item_ ┆ discount_w ┆ following_ ┆ following_ ┆ previous_w ┆ previous_d │\n",
       "│ ---   ┆ prediction ┆ weight     ┆ eight      ┆ weight     ┆ discount_w ┆ eight      ┆ iscount_we │\n",
       "│ str   ┆ ---        ┆ ---        ┆ ---        ┆ ---        ┆ eight      ┆ ---        ┆ ight       │\n",
       "│       ┆ list[str]  ┆ list[f32]  ┆ list[f32]  ┆ list[f32]  ┆ ---        ┆ list[f32]  ┆ ---        │\n",
       "│       ┆            ┆            ┆            ┆            ┆ list[f32]  ┆            ┆ list[f32]  │\n",
       "╞═══════╪════════════╪════════════╪════════════╪════════════╪════════════╪════════════╪════════════╡\n",
       "│ B0BJ1 ┆ [\"B0BJ1JBQ ┆ [14.0,     ┆ [14.0,     ┆ [7.0, 3.0, ┆ [7.0,      ┆ [7.0, 7.0, ┆ [7.0, 3.6, │\n",
       "│ JBQPF ┆ PF\", \"B0B5 ┆ 10.0, …    ┆ 5.18, …    ┆ … 1.0]     ┆ 1.58, …    ┆ … 0.0]     ┆ … 0.0]     │\n",
       "│       ┆ T2LP9Y\", … ┆ 1.0]       ┆ 0.5]       ┆            ┆ 0.5]       ┆            ┆            │\n",
       "│       ┆ \"…         ┆            ┆            ┆            ┆            ┆            ┆            │\n",
       "│ B0B8Y ┆ [\"B0BJF5HW ┆ [2.0, 2.0, ┆ [0.28,     ┆ [2.0, 2.0, ┆ [0.28,     ┆ [0.0, 0.0, ┆ [0.0, 0.0, │\n",
       "│ TBSBM ┆ 7C\", \"B09R ┆ … 1.0]     ┆ 0.11, …    ┆ … 1.0]     ┆ 0.11, …    ┆ … 0.0]     ┆ … 0.0]     │\n",
       "│       ┆ QRG88D\", … ┆            ┆ 0.12]      ┆            ┆ 0.12]      ┆            ┆            │\n",
       "│       ┆ \"…         ┆            ┆            ┆            ┆            ┆            ┆            │\n",
       "│ B07S8 ┆ [\"B07S72KG ┆ [2.0, 2.0, ┆ [1.5,      ┆ [0.0, 1.0, ┆ [0.0,      ┆ [2.0, 1.0, ┆ [1.5, 1.0, │\n",
       "│ C8Z88 ┆ MM\", \"B07B ┆ … 1.0]     ┆ 1.33, …    ┆ … 0.0]     ┆ 0.33, …    ┆ … 1.0]     ┆ … 0.33]    │\n",
       "│       ┆ 2Y7M9S\", … ┆            ┆ 0.33]      ┆            ┆ 0.0]       ┆            ┆            │\n",
       "│       ┆ \"…         ┆            ┆            ┆            ┆            ┆            ┆            │\n",
       "└───────┴────────────┴────────────┴────────────┴────────────┴────────────┴────────────┴────────────┘"
      ]
     },
     "execution_count": 24,
     "metadata": {},
     "output_type": "execute_result"
    }
   ],
   "source": [
    "next_items_pl.sample(3)"
   ]
  },
  {
   "cell_type": "code",
   "execution_count": 25,
   "metadata": {},
   "outputs": [
    {
     "data": {
      "text/html": [
       "<div><style>\n",
       ".dataframe > thead > tr > th,\n",
       ".dataframe > tbody > tr > td {\n",
       "  text-align: right;\n",
       "}\n",
       "</style>\n",
       "<small>shape: (7, 2)</small><table border=\"1\" class=\"dataframe\"><thead><tr><th>describe</th><th>rec_num</th></tr><tr><td>str</td><td>f64</td></tr></thead><tbody><tr><td>&quot;count&quot;</td><td>1.311775e6</td></tr><tr><td>&quot;null_count&quot;</td><td>0.0</td></tr><tr><td>&quot;mean&quot;</td><td>33.130875</td></tr><tr><td>&quot;std&quot;</td><td>60.890093</td></tr><tr><td>&quot;min&quot;</td><td>1.0</td></tr><tr><td>&quot;max&quot;</td><td>3012.0</td></tr><tr><td>&quot;median&quot;</td><td>15.0</td></tr></tbody></table></div>"
      ],
      "text/plain": [
       "shape: (7, 2)\n",
       "┌────────────┬────────────┐\n",
       "│ describe   ┆ rec_num    │\n",
       "│ ---        ┆ ---        │\n",
       "│ str        ┆ f64        │\n",
       "╞════════════╪════════════╡\n",
       "│ count      ┆ 1.311775e6 │\n",
       "│ null_count ┆ 0.0        │\n",
       "│ mean       ┆ 33.130875  │\n",
       "│ std        ┆ 60.890093  │\n",
       "│ min        ┆ 1.0        │\n",
       "│ max        ┆ 3012.0     │\n",
       "│ median     ┆ 15.0       │\n",
       "└────────────┴────────────┘"
      ]
     },
     "execution_count": 25,
     "metadata": {},
     "output_type": "execute_result"
    }
   ],
   "source": [
    "next_items_pl.select(pl.col('next_item_prediction').arr.lengths().alias('rec_num')).describe()"
   ]
  },
  {
   "cell_type": "code",
   "execution_count": 26,
   "metadata": {},
   "outputs": [],
   "source": [
    "next_items_pl.write_parquet(model_file)"
   ]
  },
  {
   "cell_type": "code",
   "execution_count": 27,
   "metadata": {},
   "outputs": [],
   "source": [
    "del next_items_pl"
   ]
  },
  {
   "cell_type": "markdown",
   "metadata": {},
   "source": [
    "## Read Model "
   ]
  },
  {
   "cell_type": "code",
   "execution_count": 28,
   "metadata": {},
   "outputs": [
    {
     "data": {
      "text/plain": [
       "'../model_training/co_visit_task1_v10/co_visit_task1_v10_True_for_eval.parquet'"
      ]
     },
     "execution_count": 28,
     "metadata": {},
     "output_type": "execute_result"
    }
   ],
   "source": [
    "model_file\n"
   ]
  },
  {
   "cell_type": "code",
   "execution_count": 29,
   "metadata": {},
   "outputs": [],
   "source": [
    "next_items_pl = pl.scan_parquet(model_file)"
   ]
  },
  {
   "cell_type": "code",
   "execution_count": 30,
   "metadata": {},
   "outputs": [],
   "source": [
    "type_dict = next_items_pl.schema"
   ]
  },
  {
   "cell_type": "code",
   "execution_count": 31,
   "metadata": {},
   "outputs": [
    {
     "data": {
      "text/plain": [
       "dict_keys(['item', 'next_item_prediction', 'next_item_weight', 'discount_weight', 'following_weight', 'following_discount_weight', 'previous_weight', 'previous_discount_weight'])"
      ]
     },
     "execution_count": 31,
     "metadata": {},
     "output_type": "execute_result"
    }
   ],
   "source": [
    "type_dict.keys()"
   ]
  },
  {
   "cell_type": "code",
   "execution_count": 32,
   "metadata": {},
   "outputs": [],
   "source": [
    "# next_items_pl.collect().shape"
   ]
  },
  {
   "cell_type": "code",
   "execution_count": 33,
   "metadata": {},
   "outputs": [
    {
     "data": {
      "text/html": [
       "<div><style>\n",
       ".dataframe > thead > tr > th,\n",
       ".dataframe > tbody > tr > td {\n",
       "  text-align: right;\n",
       "}\n",
       "</style>\n",
       "<small>shape: (5, 8)</small><table border=\"1\" class=\"dataframe\"><thead><tr><th>item</th><th>next_item_prediction</th><th>next_item_weight</th><th>discount_weight</th><th>following_weight</th><th>following_discount_weight</th><th>previous_weight</th><th>previous_discount_weight</th></tr><tr><td>str</td><td>list[str]</td><td>list[f32]</td><td>list[f32]</td><td>list[f32]</td><td>list[f32]</td><td>list[f32]</td><td>list[f32]</td></tr></thead><tbody><tr><td>&quot;B0BDXKZM5L&quot;</td><td>[&quot;B0B7JM15SM&quot;, &quot;B0BDXKZM5L&quot;, … &quot;B08HNBFMNW&quot;]</td><td>[23.0, 22.0, … 1.0]</td><td>[18.08, 7.739999, … 0.2]</td><td>[18.0, 11.0, … 0.0]</td><td>[14.58, 3.87, … 0.0]</td><td>[5.0, 11.0, … 1.0]</td><td>[3.5, 3.87, … 0.2]</td></tr><tr><td>&quot;B0071MAR4O&quot;</td><td>[&quot;B00B79JGE4&quot;, &quot;B07JJ9K81H&quot;, … &quot;B09ST7573X&quot;]</td><td>[43.0, 16.0, … 1.0]</td><td>[39.290001, 9.27, … 0.33]</td><td>[19.0, 12.0, … 0.0]</td><td>[18.200001, 7.91, … 0.0]</td><td>[24.0, 4.0, … 1.0]</td><td>[21.09, 1.36, … 0.33]</td></tr><tr><td>&quot;B088KZ7V63&quot;</td><td>[&quot;B09MC6MS9D&quot;, &quot;B0BFJ5NZQJ&quot;, … &quot;B08B5KHYS7&quot;]</td><td>[4.0, 2.0, … 1.0]</td><td>[2.21, 1.33, … 1.0]</td><td>[1.0, 0.0, … 0.0]</td><td>[1.0, 0.0, … 0.0]</td><td>[3.0, 2.0, … 1.0]</td><td>[1.21, 1.33, … 1.0]</td></tr><tr><td>&quot;B0BGX9KD4D&quot;</td><td>[&quot;B00BM0IW7U&quot;]</td><td>[1.0]</td><td>[1.0]</td><td>[1.0]</td><td>[1.0]</td><td>[0.0]</td><td>[0.0]</td></tr><tr><td>&quot;B0832XBFG3&quot;</td><td>[&quot;B07W5BWZFW&quot;, &quot;B0BK3K2GBV&quot;, … &quot;B08GSRTL3K&quot;]</td><td>[8.0, 6.0, … 1.0]</td><td>[5.34, 2.37, … 0.25]</td><td>[1.0, 0.0, … 0.0]</td><td>[1.0, 0.0, … 0.0]</td><td>[7.0, 6.0, … 1.0]</td><td>[4.34, 2.37, … 0.25]</td></tr></tbody></table></div>"
      ],
      "text/plain": [
       "shape: (5, 8)\n",
       "┌───────┬────────────┬────────────┬────────────┬────────────┬────────────┬────────────┬────────────┐\n",
       "│ item  ┆ next_item_ ┆ next_item_ ┆ discount_w ┆ following_ ┆ following_ ┆ previous_w ┆ previous_d │\n",
       "│ ---   ┆ prediction ┆ weight     ┆ eight      ┆ weight     ┆ discount_w ┆ eight      ┆ iscount_we │\n",
       "│ str   ┆ ---        ┆ ---        ┆ ---        ┆ ---        ┆ eight      ┆ ---        ┆ ight       │\n",
       "│       ┆ list[str]  ┆ list[f32]  ┆ list[f32]  ┆ list[f32]  ┆ ---        ┆ list[f32]  ┆ ---        │\n",
       "│       ┆            ┆            ┆            ┆            ┆ list[f32]  ┆            ┆ list[f32]  │\n",
       "╞═══════╪════════════╪════════════╪════════════╪════════════╪════════════╪════════════╪════════════╡\n",
       "│ B0BDX ┆ [\"B0B7JM15 ┆ [23.0,     ┆ [18.08,    ┆ [18.0,     ┆ [14.58,    ┆ [5.0,      ┆ [3.5,      │\n",
       "│ KZM5L ┆ SM\", \"B0BD ┆ 22.0, …    ┆ 7.739999,  ┆ 11.0, …    ┆ 3.87, …    ┆ 11.0, …    ┆ 3.87, …    │\n",
       "│       ┆ XKZM5L\", … ┆ 1.0]       ┆ … 0.2]     ┆ 0.0]       ┆ 0.0]       ┆ 1.0]       ┆ 0.2]       │\n",
       "│       ┆ \"…         ┆            ┆            ┆            ┆            ┆            ┆            │\n",
       "│ B0071 ┆ [\"B00B79JG ┆ [43.0,     ┆ [39.290001 ┆ [19.0,     ┆ [18.200001 ┆ [24.0,     ┆ [21.09,    │\n",
       "│ MAR4O ┆ E4\", \"B07J ┆ 16.0, …    ┆ , 9.27, …  ┆ 12.0, …    ┆ , 7.91, …  ┆ 4.0, …     ┆ 1.36, …    │\n",
       "│       ┆ J9K81H\", … ┆ 1.0]       ┆ 0.33]      ┆ 0.0]       ┆ 0.0]       ┆ 1.0]       ┆ 0.33]      │\n",
       "│       ┆ \"…         ┆            ┆            ┆            ┆            ┆            ┆            │\n",
       "│ B088K ┆ [\"B09MC6MS ┆ [4.0, 2.0, ┆ [2.21,     ┆ [1.0, 0.0, ┆ [1.0, 0.0, ┆ [3.0, 2.0, ┆ [1.21,     │\n",
       "│ Z7V63 ┆ 9D\", \"B0BF ┆ … 1.0]     ┆ 1.33, …    ┆ … 0.0]     ┆ … 0.0]     ┆ … 1.0]     ┆ 1.33, …    │\n",
       "│       ┆ J5NZQJ\", … ┆            ┆ 1.0]       ┆            ┆            ┆            ┆ 1.0]       │\n",
       "│       ┆ \"…         ┆            ┆            ┆            ┆            ┆            ┆            │\n",
       "│ B0BGX ┆ [\"B00BM0IW ┆ [1.0]      ┆ [1.0]      ┆ [1.0]      ┆ [1.0]      ┆ [0.0]      ┆ [0.0]      │\n",
       "│ 9KD4D ┆ 7U\"]       ┆            ┆            ┆            ┆            ┆            ┆            │\n",
       "│ B0832 ┆ [\"B07W5BWZ ┆ [8.0, 6.0, ┆ [5.34,     ┆ [1.0, 0.0, ┆ [1.0, 0.0, ┆ [7.0, 6.0, ┆ [4.34,     │\n",
       "│ XBFG3 ┆ FW\", \"B0BK ┆ … 1.0]     ┆ 2.37, …    ┆ … 0.0]     ┆ … 0.0]     ┆ … 1.0]     ┆ 2.37, …    │\n",
       "│       ┆ 3K2GBV\", … ┆            ┆ 0.25]      ┆            ┆            ┆            ┆ 0.25]      │\n",
       "│       ┆ \"…         ┆            ┆            ┆            ┆            ┆            ┆            │\n",
       "└───────┴────────────┴────────────┴────────────┴────────────┴────────────┴────────────┴────────────┘"
      ]
     },
     "execution_count": 33,
     "metadata": {},
     "output_type": "execute_result"
    }
   ],
   "source": [
    "next_items_pl.head().collect()"
   ]
  },
  {
   "cell_type": "markdown",
   "metadata": {},
   "source": [
    "## Model eval "
   ]
  },
  {
   "cell_type": "code",
   "execution_count": 34,
   "metadata": {},
   "outputs": [],
   "source": [
    "# train_pl.schema"
   ]
  },
  {
   "cell_type": "code",
   "execution_count": 35,
   "metadata": {},
   "outputs": [],
   "source": [
    "# eval_pl.schema"
   ]
  },
  {
   "cell_type": "code",
   "execution_count": 36,
   "metadata": {},
   "outputs": [],
   "source": [
    "# nic_rec(target_pl=eval_pl.head(100), nic_model=next_items_pl, topn=topn).select(pl.col('next_item_prediction').arr.lengths().alias('rec_num')).collect().describe()"
   ]
  },
  {
   "cell_type": "code",
   "execution_count": 37,
   "metadata": {},
   "outputs": [],
   "source": [
    "eval_candidate_pl = nic_rec(target_pl=eval_pl, nic_model=next_items_pl, topn=topn)#.head().collect()"
   ]
  },
  {
   "cell_type": "code",
   "execution_count": 38,
   "metadata": {},
   "outputs": [],
   "source": [
    "# eval_candidate_pl.head().co"
   ]
  },
  {
   "cell_type": "code",
   "execution_count": 39,
   "metadata": {},
   "outputs": [],
   "source": [
    "\n",
    "# if_hit = pl.element().rank()\n",
    "target_df = eval_pl.join(eval_candidate_pl, how='left', on='session_id')\n",
    "\n",
    "\n",
    "# eval_final.head().collect()"
   ]
  },
  {
   "cell_type": "code",
   "execution_count": 40,
   "metadata": {},
   "outputs": [],
   "source": [
    "# target_df.select(pl.col('next_item_prediction').arr.lengths().alias('rec_num')).collect().describe()"
   ]
  },
  {
   "cell_type": "code",
   "execution_count": 41,
   "metadata": {},
   "outputs": [
    {
     "name": "stdout",
     "output_type": "stream",
     "text": [
      "CPU times: user 2min 29s, sys: 27.3 s, total: 2min 56s\n",
      "Wall time: 39.1 s\n"
     ]
    },
    {
     "data": {
      "text/html": [
       "<div><style>\n",
       ".dataframe > thead > tr > th,\n",
       ".dataframe > tbody > tr > td {\n",
       "  text-align: right;\n",
       "}\n",
       "</style>\n",
       "<small>shape: (1, 5)</small><table border=\"1\" class=\"dataframe\"><thead><tr><th>total_sessions</th><th>mrr</th><th>recall@20</th><th>recall@100</th><th>recall@all</th></tr><tr><td>u32</td><td>f64</td><td>f64</td><td>f64</td><td>f64</td></tr></thead><tbody><tr><td>326443</td><td>0.260901</td><td>0.452214</td><td>0.528515</td><td>0.545115</td></tr></tbody></table></div>"
      ],
      "text/plain": [
       "shape: (1, 5)\n",
       "┌────────────────┬──────────┬───────────┬────────────┬────────────┐\n",
       "│ total_sessions ┆ mrr      ┆ recall@20 ┆ recall@100 ┆ recall@all │\n",
       "│ ---            ┆ ---      ┆ ---       ┆ ---        ┆ ---        │\n",
       "│ u32            ┆ f64      ┆ f64       ┆ f64        ┆ f64        │\n",
       "╞════════════════╪══════════╪═══════════╪════════════╪════════════╡\n",
       "│ 326443         ┆ 0.260901 ┆ 0.452214  ┆ 0.528515   ┆ 0.545115   │\n",
       "└────────────────┴──────────┴───────────┴────────────┴────────────┘"
      ]
     },
     "execution_count": 41,
     "metadata": {},
     "output_type": "execute_result"
    }
   ],
   "source": [
    "%%time\n",
    "# model_eval(target_df=target_df)\n",
    "eval_final = (\n",
    "        target_df\n",
    "        .lazy()\n",
    "        .with_columns(\n",
    "            pl.col('next_item_prediction').cast(pl.List(pl.Utf8))\n",
    "        )\n",
    "        .with_columns(\n",
    "            pl.concat_list([pl.col('next_item'), pl.col('next_item_prediction')]).alias('mrr')\n",
    "        )\n",
    "        .with_columns(\n",
    "            pl.col('mrr').arr.eval(\n",
    "                pl.arg_where(pl.element()==pl.element().first())\n",
    "            )\n",
    "        ).with_columns(\n",
    "            pl.col('mrr').arr.eval(\n",
    "                pl.when(pl.element()==0).then(0).otherwise(1/pl.element())\n",
    "            )\n",
    "        ).with_columns(\n",
    "            pl.col('mrr').arr.sum()\n",
    "            , pl.col('next_item_prediction').arr.head(20).arr.contains(pl.col('next_item')).mean().alias('recall@20')\n",
    "            , pl.col('next_item_prediction').arr.head(100).arr.contains(pl.col('next_item')).mean().alias('recall@100')\n",
    "            , pl.col('next_item_prediction').arr.head(topn).arr.contains(pl.col('next_item')).mean().alias('recall@all')\n",
    "\n",
    "\n",
    "        )\n",
    ")\n",
    "final_res = eval_final.select(\n",
    "        pl.count().alias('total_sessions')\n",
    "        , pl.col('mrr').mean()\n",
    "        , pl.col('recall@20').mean()\n",
    "        , pl.col('recall@100').mean()\n",
    "        , pl.col('recall@all').mean()\n",
    "\n",
    "    ).collect()\n",
    "final_res"
   ]
  },
  {
   "cell_type": "code",
   "execution_count": null,
   "metadata": {},
   "outputs": [],
   "source": []
  },
  {
   "cell_type": "markdown",
   "metadata": {},
   "source": [
    "## Candidate Saving "
   ]
  },
  {
   "cell_type": "code",
   "execution_count": 43,
   "metadata": {},
   "outputs": [],
   "source": [
    "# nic_rec(target_pl=train_pl.head(100), nic_model=next_items_pl).select('rec_num').collect().describe()"
   ]
  },
  {
   "cell_type": "markdown",
   "metadata": {
    "tags": []
   },
   "source": [
    "### Train & eval data "
   ]
  },
  {
   "cell_type": "code",
   "execution_count": 44,
   "metadata": {},
   "outputs": [],
   "source": [
    "train_candidate_pl = nic_rec(target_pl=train2_pl, nic_model=next_items_pl)# .collect()"
   ]
  },
  {
   "cell_type": "code",
   "execution_count": null,
   "metadata": {},
   "outputs": [],
   "source": []
  },
  {
   "cell_type": "code",
   "execution_count": 45,
   "metadata": {},
   "outputs": [
    {
     "name": "stdout",
     "output_type": "stream",
     "text": [
      "CPU times: user 1min 57s, sys: 16.1 s, total: 2min 14s\n",
      "Wall time: 2min 12s\n"
     ]
    }
   ],
   "source": [
    "%%time\n",
    "train_candidate_pl = train_candidate_pl.collect()\n",
    "eval_candidate_pl = eval_candidate_pl.collect()"
   ]
  },
  {
   "cell_type": "code",
   "execution_count": 46,
   "metadata": {},
   "outputs": [
    {
     "data": {
      "text/plain": [
       "'co_visit_task1_v10'"
      ]
     },
     "execution_count": 46,
     "metadata": {},
     "output_type": "execute_result"
    }
   ],
   "source": [
    "model_version"
   ]
  },
  {
   "cell_type": "code",
   "execution_count": 47,
   "metadata": {},
   "outputs": [
    {
     "name": "stdout",
     "output_type": "stream",
     "text": [
      "shape: (7, 2)\n",
      "┌────────────┬────────────┐\n",
      "│ describe   ┆ rec_num    │\n",
      "│ ---        ┆ ---        │\n",
      "│ str        ┆ f64        │\n",
      "╞════════════╪════════════╡\n",
      "│ count      ┆ 1.474219e6 │\n",
      "│ null_count ┆ 0.0        │\n",
      "│ mean       ┆ 104.28015  │\n",
      "│ std        ┆ 101.29596  │\n",
      "│ min        ┆ 0.0        │\n",
      "│ max        ┆ 300.0      │\n",
      "│ median     ┆ 64.0       │\n",
      "└────────────┴────────────┘\n",
      "shape: (7, 2)\n",
      "┌────────────┬────────────┐\n",
      "│ describe   ┆ rec_num    │\n",
      "│ ---        ┆ ---        │\n",
      "│ str        ┆ f64        │\n",
      "╞════════════╪════════════╡\n",
      "│ count      ┆ 326443.0   │\n",
      "│ null_count ┆ 0.0        │\n",
      "│ mean       ┆ 104.395646 │\n",
      "│ std        ┆ 101.21737  │\n",
      "│ min        ┆ 0.0        │\n",
      "│ max        ┆ 300.0      │\n",
      "│ median     ┆ 64.0       │\n",
      "└────────────┴────────────┘\n"
     ]
    }
   ],
   "source": [
    "for data_pl in [train_candidate_pl, eval_candidate_pl,\n",
    "                # test_candidate_pl\n",
    "               ]:\n",
    "    print(data_pl.select('rec_num').describe())"
   ]
  },
  {
   "cell_type": "code",
   "execution_count": 48,
   "metadata": {},
   "outputs": [],
   "source": [
    "train_candidate_pl.filter(pl.col('rec_num')>0).write_parquet(os.path.join(base_dir, candidate_dir,\n",
    "                                                        train_file_name)\n",
    "                                          )"
   ]
  },
  {
   "cell_type": "code",
   "execution_count": 49,
   "metadata": {},
   "outputs": [],
   "source": [
    "eval_candidate_pl.filter(pl.col('rec_num')>0).write_parquet(os.path.join(base_dir, candidate_dir,\n",
    "                                                       eval_file_name))"
   ]
  },
  {
   "cell_type": "markdown",
   "metadata": {
    "tags": []
   },
   "source": [
    "### Test data "
   ]
  },
  {
   "cell_type": "code",
   "execution_count": 50,
   "metadata": {},
   "outputs": [],
   "source": [
    "test_candidate_pl = nic_rec(target_pl=test_pl, nic_model=next_items_pl)#.head().collect()\n",
    "test_candidate_pl = test_candidate_pl.collect()\n",
    "test_candidate_pl.filter(pl.col('rec_num')>0).write_parquet(os.path.join(base_dir, candidate_dir, \n",
    "                                                       test_file_name))"
   ]
  },
  {
   "cell_type": "code",
   "execution_count": 51,
   "metadata": {},
   "outputs": [
    {
     "data": {
      "text/plain": [
       "'task1_eval_co_visit_task1_v10_True_top300.parquet'"
      ]
     },
     "execution_count": 51,
     "metadata": {},
     "output_type": "execute_result"
    }
   ],
   "source": [
    "eval_file_name"
   ]
  },
  {
   "cell_type": "markdown",
   "metadata": {},
   "source": [
    "### test data for task3 "
   ]
  },
  {
   "cell_type": "code",
   "execution_count": null,
   "metadata": {},
   "outputs": [],
   "source": []
  },
  {
   "cell_type": "code",
   "execution_count": 52,
   "metadata": {},
   "outputs": [],
   "source": [
    "test4task3_candidate_pl = nic_rec(target_pl=test4task3_pl, nic_model=next_items_pl)#.head().collect()\n",
    "test4task3_candidate_pl = test4task3_candidate_pl.collect()\n",
    "test4task3_candidate_pl.filter(pl.col('rec_num')>0).write_parquet(os.path.join(base_dir, candidate_dir,test4task3_file_name))"
   ]
  },
  {
   "cell_type": "code",
   "execution_count": 53,
   "metadata": {},
   "outputs": [
    {
     "data": {
      "text/plain": [
       "'../data/candidates/task1_test4task3_co_visit_task1_v10_True_top300.parquet'"
      ]
     },
     "execution_count": 53,
     "metadata": {},
     "output_type": "execute_result"
    }
   ],
   "source": [
    "os.path.join(base_dir, candidate_dir,test4task3_file_name)"
   ]
  },
  {
   "cell_type": "markdown",
   "metadata": {},
   "source": [
    "## Save test result"
   ]
  },
  {
   "cell_type": "code",
   "execution_count": 54,
   "metadata": {},
   "outputs": [
    {
     "ename": "TypeError",
     "evalue": "Expected 'other' join table to be a LazyFrame, not a DataFrame",
     "output_type": "error",
     "traceback": [
      "\u001b[0;31m---------------------------------------------------------------------------\u001b[0m",
      "\u001b[0;31mTypeError\u001b[0m                                 Traceback (most recent call last)",
      "Cell \u001b[0;32mIn[54], line 1\u001b[0m\n\u001b[0;32m----> 1\u001b[0m predictions \u001b[38;5;241m=\u001b[39m \u001b[43mtest_pl\u001b[49m\u001b[38;5;241;43m.\u001b[39;49m\u001b[43mjoin\u001b[49m\u001b[43m(\u001b[49m\u001b[43mtest_candidate_pl\u001b[49m\u001b[43m,\u001b[49m\u001b[43m \u001b[49m\u001b[43mhow\u001b[49m\u001b[38;5;241;43m=\u001b[39;49m\u001b[38;5;124;43m'\u001b[39;49m\u001b[38;5;124;43mleft\u001b[39;49m\u001b[38;5;124;43m'\u001b[39;49m\u001b[43m,\u001b[49m\u001b[43m \u001b[49m\u001b[43mon\u001b[49m\u001b[38;5;241;43m=\u001b[39;49m\u001b[38;5;124;43m'\u001b[39;49m\u001b[38;5;124;43msession_id\u001b[39;49m\u001b[38;5;124;43m'\u001b[39;49m\u001b[43m)\u001b[49m\u001b[38;5;241m.\u001b[39mcollect()[[\u001b[38;5;124m'\u001b[39m\u001b[38;5;124mlocale\u001b[39m\u001b[38;5;124m'\u001b[39m, \u001b[38;5;124m'\u001b[39m\u001b[38;5;124mnext_item_prediction\u001b[39m\u001b[38;5;124m'\u001b[39m]]\u001b[38;5;241m.\u001b[39mto_pandas()\n",
      "File \u001b[0;32m~/.cache/pypoetry/virtualenvs/kdd-2023-KklMGVX0-py3.8/lib/python3.8/site-packages/polars/utils/decorators.py:136\u001b[0m, in \u001b[0;36mdeprecate_nonkeyword_arguments.<locals>.decorate.<locals>.wrapper\u001b[0;34m(*args, **kwargs)\u001b[0m\n\u001b[1;32m    134\u001b[0m \u001b[38;5;28;01mif\u001b[39;00m \u001b[38;5;28mlen\u001b[39m(args) \u001b[38;5;241m>\u001b[39m num_allowed_args:\n\u001b[1;32m    135\u001b[0m     warnings\u001b[38;5;241m.\u001b[39mwarn(msg, \u001b[38;5;167;01mDeprecationWarning\u001b[39;00m, stacklevel\u001b[38;5;241m=\u001b[39mstacklevel)\n\u001b[0;32m--> 136\u001b[0m \u001b[38;5;28;01mreturn\u001b[39;00m \u001b[43mfunction\u001b[49m\u001b[43m(\u001b[49m\u001b[38;5;241;43m*\u001b[39;49m\u001b[43margs\u001b[49m\u001b[43m,\u001b[49m\u001b[43m \u001b[49m\u001b[38;5;241;43m*\u001b[39;49m\u001b[38;5;241;43m*\u001b[39;49m\u001b[43mkwargs\u001b[49m\u001b[43m)\u001b[49m\n",
      "File \u001b[0;32m~/.cache/pypoetry/virtualenvs/kdd-2023-KklMGVX0-py3.8/lib/python3.8/site-packages/polars/lazyframe/frame.py:2837\u001b[0m, in \u001b[0;36mLazyFrame.join\u001b[0;34m(self, other, left_on, right_on, on, how, suffix, allow_parallel, force_parallel)\u001b[0m\n\u001b[1;32m   2738\u001b[0m \u001b[38;5;250m\u001b[39m\u001b[38;5;124;03m\"\"\"\u001b[39;00m\n\u001b[1;32m   2739\u001b[0m \u001b[38;5;124;03mAdd a join operation to the Logical Plan.\u001b[39;00m\n\u001b[1;32m   2740\u001b[0m \n\u001b[0;32m   (...)\u001b[0m\n\u001b[1;32m   2834\u001b[0m \n\u001b[1;32m   2835\u001b[0m \u001b[38;5;124;03m\"\"\"\u001b[39;00m\n\u001b[1;32m   2836\u001b[0m \u001b[38;5;28;01mif\u001b[39;00m \u001b[38;5;129;01mnot\u001b[39;00m \u001b[38;5;28misinstance\u001b[39m(other, LazyFrame):\n\u001b[0;32m-> 2837\u001b[0m     \u001b[38;5;28;01mraise\u001b[39;00m \u001b[38;5;167;01mTypeError\u001b[39;00m(\n\u001b[1;32m   2838\u001b[0m         \u001b[38;5;124mf\u001b[39m\u001b[38;5;124m\"\u001b[39m\u001b[38;5;124mExpected \u001b[39m\u001b[38;5;124m'\u001b[39m\u001b[38;5;124mother\u001b[39m\u001b[38;5;124m'\u001b[39m\u001b[38;5;124m join table to be a LazyFrame, not a \u001b[39m\u001b[38;5;132;01m{\u001b[39;00m\u001b[38;5;28mtype\u001b[39m(other)\u001b[38;5;241m.\u001b[39m\u001b[38;5;18m__name__\u001b[39m\u001b[38;5;132;01m}\u001b[39;00m\u001b[38;5;124m\"\u001b[39m\n\u001b[1;32m   2839\u001b[0m     )\n\u001b[1;32m   2841\u001b[0m \u001b[38;5;28;01mif\u001b[39;00m how \u001b[38;5;241m==\u001b[39m \u001b[38;5;124m\"\u001b[39m\u001b[38;5;124mcross\u001b[39m\u001b[38;5;124m\"\u001b[39m:\n\u001b[1;32m   2842\u001b[0m     \u001b[38;5;28;01mreturn\u001b[39;00m \u001b[38;5;28mself\u001b[39m\u001b[38;5;241m.\u001b[39m_from_pyldf(\n\u001b[1;32m   2843\u001b[0m         \u001b[38;5;28mself\u001b[39m\u001b[38;5;241m.\u001b[39m_ldf\u001b[38;5;241m.\u001b[39mjoin(\n\u001b[1;32m   2844\u001b[0m             other\u001b[38;5;241m.\u001b[39m_ldf, [], [], allow_parallel, force_parallel, how, suffix\n\u001b[1;32m   2845\u001b[0m         )\n\u001b[1;32m   2846\u001b[0m     )\n",
      "\u001b[0;31mTypeError\u001b[0m: Expected 'other' join table to be a LazyFrame, not a DataFrame"
     ]
    }
   ],
   "source": [
    "predictions = test_pl.join(test_candidate_pl, how='left', on='session_id').collect()[['locale', 'next_item_prediction']].to_pandas()"
   ]
  },
  {
   "cell_type": "code",
   "execution_count": null,
   "metadata": {},
   "outputs": [],
   "source": [
    "submit_file"
   ]
  },
  {
   "cell_type": "code",
   "execution_count": null,
   "metadata": {},
   "outputs": [],
   "source": [
    "check_predictions(predictions, test_sessions=test_pl.collect().to_pandas(), \n",
    "                  # check_products=True, product_df=products\n",
    "                 )\n",
    "# Its important that the parquet file you submit is saved with pyarrow backend\n",
    "predictions.to_parquet(submit_file, engine='pyarrow')"
   ]
  },
  {
   "cell_type": "code",
   "execution_count": null,
   "metadata": {},
   "outputs": [],
   "source": [
    "!aicrowd submission create -c task-1-next-product-recommendation -f {submit_file}"
   ]
  },
  {
   "cell_type": "markdown",
   "metadata": {},
   "source": [
    "# Validate result "
   ]
  },
  {
   "cell_type": "code",
   "execution_count": null,
   "metadata": {},
   "outputs": [],
   "source": [
    "# train_candidate_pl = pl.scan_parquet(os.path.join(base_dir, candidate_dir,\n",
    "#                                                         train_file_name))\n",
    "# eval_candidate_pl = pl.scan_parquet(os.path.join(base_dir, candidate_dir,\n",
    "#                                                         eval_file_name))\n",
    "# test_candidate_pl = pl.scan_parquet(os.path.join(base_dir, candidate_dir,\n",
    "#                                                         test_file_name))"
   ]
  },
  {
   "cell_type": "code",
   "execution_count": null,
   "metadata": {},
   "outputs": [],
   "source": [
    "# for data_pl in [train_candidate_pl, eval_candidate_pl, test_candidate_pl]:\n",
    "#     print(data_pl.select('rec_num').collect().describe())"
   ]
  },
  {
   "cell_type": "code",
   "execution_count": null,
   "metadata": {},
   "outputs": [],
   "source": []
  }
 ],
 "metadata": {
  "environment": {
   "kernel": "kdd_2023",
   "name": "common-cu110.m104",
   "type": "gcloud",
   "uri": "gcr.io/deeplearning-platform-release/base-cu110:m104"
  },
  "kernelspec": {
   "display_name": "py3.8(kdd_2023)",
   "language": "python",
   "name": "kdd_2023"
  },
  "language_info": {
   "codemirror_mode": {
    "name": "ipython",
    "version": 3
   },
   "file_extension": ".py",
   "mimetype": "text/x-python",
   "name": "python",
   "nbconvert_exporter": "python",
   "pygments_lexer": "ipython3",
   "version": "3.8.16"
  }
 },
 "nbformat": 4,
 "nbformat_minor": 4
}
