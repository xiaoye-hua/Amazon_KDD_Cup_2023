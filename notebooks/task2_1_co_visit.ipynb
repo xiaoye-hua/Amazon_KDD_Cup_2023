{
 "cells": [
  {
   "cell_type": "markdown",
   "metadata": {},
   "source": [
    "# Basic ideas"
   ]
  },
  {
   "cell_type": "markdown",
   "metadata": {
    "jp-MarkdownHeadingCollapsed": true,
    "tags": []
   },
   "source": [
    "1. Check how many times two item exist in the same sequence;\n",
    "2. No normalization for the final score\n",
    "3. Next steps\n",
    "    1. [x] train2 is not included\n",
    "    2. [x] normalized score should be included, too\n",
    "\n",
    "Example: [a, b, c] -> [ab, ac, ba, bc, ca, cb] -> \n",
    "\n",
    "```\n",
    "[\n",
    "--current_item, next_item, counts\n",
    "[a, b, 1],\n",
    "[a, c, 1]\n",
    "[a, b, 1]\n",
    "[a, c, 1]\n",
    "[b, a, 1]\n",
    "[b, c, 1]\n",
    "[c, a, 1]\n",
    "[c, b, 1]\n",
    "]\n",
    "```"
   ]
  },
  {
   "cell_type": "markdown",
   "metadata": {
    "tags": []
   },
   "source": [
    "# Package "
   ]
  },
  {
   "cell_type": "code",
   "execution_count": 65,
   "metadata": {},
   "outputs": [
    {
     "name": "stdout",
     "output_type": "stream",
     "text": [
      "The autoreload extension is already loaded. To reload it, use:\n",
      "  %reload_ext autoreload\n"
     ]
    }
   ],
   "source": [
    "%load_ext autoreload\n",
    "%autoreload 2\n",
    "import sys\n",
    "import logging\n",
    "base_dir = '../'\n",
    "sys.path.append(base_dir)\n",
    "import os\n",
    "import warnings\n",
    "warnings.simplefilter('ignore')\n",
    "\n",
    "import pickle\n",
    "import gc\n",
    "import re\n",
    "import polars as pl\n",
    "from collections import defaultdict, Counter\n",
    "\n",
    "import numpy as np\n",
    "import pandas as pd\n",
    "pd.set_option('display.max_columns', None)\n",
    "from tqdm.auto import tqdm\n",
    "import polars as pl\n",
    "from utils import *\n",
    "from src.eval import model_eval\n",
    "from src.config import raw_data_session_id_dir, candidate_dir, model_for_eval, candidate_file_name"
   ]
  },
  {
   "cell_type": "code",
   "execution_count": 66,
   "metadata": {},
   "outputs": [
    {
     "data": {
      "text/plain": [
       "'{task}_{data_type}_{model_version}_{model_for_eval}_top{topn}.parquet'"
      ]
     },
     "execution_count": 66,
     "metadata": {},
     "output_type": "execute_result"
    }
   ],
   "source": [
    "candidate_file_name"
   ]
  },
  {
   "cell_type": "code",
   "execution_count": 67,
   "metadata": {},
   "outputs": [],
   "source": [
    "# df_prod = pd.read_csv('data/products_train.csv')\n",
    "# df_prod"
   ]
  },
  {
   "cell_type": "markdown",
   "metadata": {
    "tags": []
   },
   "source": [
    "# Config "
   ]
  },
  {
   "cell_type": "code",
   "execution_count": 68,
   "metadata": {},
   "outputs": [],
   "source": [
    "debug = False\n",
    "\n",
    "\n",
    "task = 'task1'\n",
    "version = 'v10'\n",
    "model_version = f'co_visit_{task}_{version}'\n",
    "\n",
    "if task == 'task1':\n",
    "    target_locals = ['DE', 'JP', 'UK']\n",
    "elif task == 'task2':\n",
    "    target_locals = ['ES', 'FR', 'IT']\n",
    "else:\n",
    "    assert 1 == 0\n",
    "\n",
    "\n",
    "topn = 300\n",
    "if debug:\n",
    "    n_rows = 1000\n",
    "else:\n",
    "    n_rows = None\n",
    "# debug_session_num = 100\n",
    "train_data_dir = '.'\n",
    "test_data_dir = '.'\n",
    "\n",
    "model_dir = f'../model_training/{model_version}/'\n",
    "\n",
    "# target locales: locales needed for task1\n",
    "\n",
    "# if model_for_eval:\n",
    "model_file = os.path.join(model_dir, f'{model_version}_{model_for_eval}_for_eval.parquet')\n",
    "submit_file = os.path.join('../data/sub_files/', f'submission_{task}_{model_version}_{model_for_eval}_for_eval.parquet')"
   ]
  },
  {
   "cell_type": "code",
   "execution_count": null,
   "metadata": {},
   "outputs": [],
   "source": []
  },
  {
   "cell_type": "code",
   "execution_count": 69,
   "metadata": {},
   "outputs": [
    {
     "data": {
      "text/plain": [
       "'{task}_{data_type}_{model_version}_{model_for_eval}_top{topn}.parquet'"
      ]
     },
     "execution_count": 69,
     "metadata": {},
     "output_type": "execute_result"
    }
   ],
   "source": [
    "candidate_file_name"
   ]
  },
  {
   "cell_type": "code",
   "execution_count": 70,
   "metadata": {},
   "outputs": [
    {
     "name": "stdout",
     "output_type": "stream",
     "text": [
      "task1_train_co_visit_task1_v10_True_top300.parquet\n",
      "task1_eval_co_visit_task1_v10_True_top300.parquet\n",
      "task1_test_co_visit_task1_v10_True_top300.parquet\n",
      "task1_test4task3_co_visit_task1_v10_True_top300.parquet\n"
     ]
    }
   ],
   "source": [
    "train_file_name = candidate_file_name.format(\n",
    "    task=task\n",
    "    , data_type='train'\n",
    "    , model_version=model_version\n",
    "    , model_for_eval=model_for_eval\n",
    "    , topn=topn\n",
    ")\n",
    "eval_file_name = candidate_file_name.format(\n",
    "    task=task\n",
    "    , data_type='eval'\n",
    "    , model_version=model_version\n",
    "    , model_for_eval=model_for_eval\n",
    "    , topn=topn\n",
    ")\n",
    "test_file_name = candidate_file_name.format(\n",
    "    task=task\n",
    "    , data_type='test'\n",
    "    , model_version=model_version\n",
    "    , model_for_eval=model_for_eval\n",
    "    , topn=topn\n",
    ")\n",
    "\n",
    "test4task3_file_name = candidate_file_name.format(\n",
    "    task=task\n",
    "    , data_type='test4task3'\n",
    "    , model_version=model_version\n",
    "    , model_for_eval=model_for_eval\n",
    "    , topn=topn\n",
    ")\n",
    "print(train_file_name)\n",
    "print(eval_file_name)\n",
    "print(test_file_name)\n",
    "print(test4task3_file_name)"
   ]
  },
  {
   "cell_type": "code",
   "execution_count": 71,
   "metadata": {},
   "outputs": [],
   "source": [
    "! mkdir {model_dir}"
   ]
  },
  {
   "cell_type": "code",
   "execution_count": 72,
   "metadata": {},
   "outputs": [
    {
     "data": {
      "text/plain": [
       "'../model_training/co_visit_task1_v10/co_visit_task1_v10_True_for_eval.parquet'"
      ]
     },
     "execution_count": 72,
     "metadata": {},
     "output_type": "execute_result"
    }
   ],
   "source": [
    "model_file"
   ]
  },
  {
   "cell_type": "code",
   "execution_count": 73,
   "metadata": {},
   "outputs": [
    {
     "data": {
      "text/plain": [
       "'../data/sub_files/submission_task1_co_visit_task1_v10_True_for_eval.parquet'"
      ]
     },
     "execution_count": 73,
     "metadata": {},
     "output_type": "execute_result"
    }
   ],
   "source": [
    "submit_file"
   ]
  },
  {
   "cell_type": "markdown",
   "metadata": {},
   "source": [
    "# Data "
   ]
  },
  {
   "cell_type": "code",
   "execution_count": 74,
   "metadata": {},
   "outputs": [],
   "source": [
    "# ! ls ../{raw_data_session_id_dir}"
   ]
  },
  {
   "cell_type": "code",
   "execution_count": 75,
   "metadata": {},
   "outputs": [],
   "source": [
    "train_pl = pl.scan_parquet(os.path.join(base_dir, raw_data_session_id_dir, 'sessions_train1.parquet'), n_rows=n_rows).filter(pl.col('locale').is_in(target_locals)).with_columns(pl.col('prev_items').apply(str2list))\n",
    "\n",
    "train2_pl = pl.scan_parquet(os.path.join(base_dir, raw_data_session_id_dir, 'sessions_train2.parquet'), n_rows=n_rows).filter(pl.col('locale').is_in(target_locals)).with_columns(pl.col('prev_items').apply(str2list))\n",
    "\n",
    "\n",
    "\n",
    "eval_pl = pl.scan_parquet(os.path.join(base_dir, raw_data_session_id_dir, 'sessions_eval.parquet'), n_rows=n_rows).filter(pl.col('locale').is_in(target_locals)).with_columns(pl.col('prev_items').apply(str2list))\n",
    "\n",
    "# df_sess.head(3).collect()\n",
    "test_pl = pl.scan_parquet(os.path.join(base_dir, raw_data_session_id_dir, f'sessions_test_{task}.parquet'), n_rows=n_rows).with_columns(pl.col('prev_items').apply(str2list))\n",
    "\n",
    "test4task3_pl = pl.scan_parquet(os.path.join(base_dir, raw_data_session_id_dir, 'sessions_test_task3.parquet'), n_rows=n_rows).filter(pl.col('locale').is_in(target_locals)).with_columns(pl.col('prev_items').apply(str2list))\n"
   ]
  },
  {
   "cell_type": "code",
   "execution_count": 76,
   "metadata": {},
   "outputs": [
    {
     "data": {
      "text/html": [
       "<div><style>\n",
       ".dataframe > thead > tr > th,\n",
       ".dataframe > tbody > tr > td {\n",
       "  text-align: right;\n",
       "}\n",
       "</style>\n",
       "<small>shape: (3, 2)</small><table border=\"1\" class=\"dataframe\"><thead><tr><th>locale</th><th>counts</th></tr><tr><td>str</td><td>u32</td></tr></thead><tbody><tr><td>&quot;DE&quot;</td><td>10000</td></tr><tr><td>&quot;JP&quot;</td><td>10000</td></tr><tr><td>&quot;UK&quot;</td><td>10000</td></tr></tbody></table></div>"
      ],
      "text/plain": [
       "shape: (3, 2)\n",
       "┌────────┬────────┐\n",
       "│ locale ┆ counts │\n",
       "│ ---    ┆ ---    │\n",
       "│ str    ┆ u32    │\n",
       "╞════════╪════════╡\n",
       "│ DE     ┆ 10000  │\n",
       "│ JP     ┆ 10000  │\n",
       "│ UK     ┆ 10000  │\n",
       "└────────┴────────┘"
      ]
     },
     "execution_count": 76,
     "metadata": {},
     "output_type": "execute_result"
    }
   ],
   "source": [
    "test4task3_pl.select('locale').collect().to_series().value_counts()"
   ]
  },
  {
   "cell_type": "markdown",
   "metadata": {},
   "source": [
    "# Function "
   ]
  },
  {
   "cell_type": "code",
   "execution_count": 77,
   "metadata": {},
   "outputs": [],
   "source": [
    "# 'item', 'next_item_prediction', 'next_item_weight'"
   ]
  },
  {
   "cell_type": "code",
   "execution_count": 78,
   "metadata": {},
   "outputs": [],
   "source": [
    "def nic_rec(target_pl, nic_model, topn=topn):\n",
    "    rec_num = topn\n",
    "    def get_next_items(x):\n",
    "        prev_items = x['prev_items']\n",
    "        local_rec = x['next_item_prediction']\n",
    "        final = [ele for ele in local_rec if ele not in prev_items]\n",
    "        return final\n",
    "\n",
    "    final_cols = ['session_id', 'next_item_prediction', 'rec_num']\n",
    "    target_pl = (\n",
    "        target_pl\n",
    "            .with_columns(\n",
    "                pl.col('prev_items').arr.get(-1).alias('last_item')\n",
    "            )\n",
    "            .join(nic_model, how='left', left_on='last_item', right_on='item')\n",
    "            .with_columns(\n",
    "                pl.when(pl.col('next_item_prediction').is_null())\n",
    "                    .then([])\n",
    "                    .otherwise(pl.col('next_item_prediction'))\n",
    "                    .alias('next_item_prediction')\n",
    "            ).with_columns(\n",
    "                    pl.struct([\"prev_items\", \"next_item_prediction\"]).apply(\n",
    "                        lambda x: get_next_items(x)).alias('next_item_prediction')\n",
    "            )\n",
    "            .with_columns(\n",
    "                    pl.col('next_item_prediction').arr.head(rec_num)\n",
    "            )\n",
    "            .with_columns(\n",
    "                pl.col('next_item_prediction').arr.lengths().alias('rec_num')\n",
    "            )\n",
    "            .select(\n",
    "                final_cols\n",
    "            )\n",
    "    )#.head(3).collect()\n",
    "    return target_pl"
   ]
  },
  {
   "cell_type": "markdown",
   "metadata": {},
   "source": [
    "# Next Item Statistics "
   ]
  },
  {
   "cell_type": "code",
   "execution_count": 79,
   "metadata": {},
   "outputs": [],
   "source": [
    "train_data = train_pl.with_columns(\n",
    "    pl.col('prev_items').arr.concat(pl.col('next_item')) \n",
    ")\n",
    "if not model_for_eval:\n",
    "    eval_data = eval_pl.with_columns(\n",
    "    pl.col('prev_items').arr.concat(pl.col('next_item')) \n",
    ")\n",
    "else:\n",
    "    eval_data = eval_pl\n",
    "train2_data = train2_pl\n",
    "\n",
    "test_data = test_pl"
   ]
  },
  {
   "cell_type": "code",
   "execution_count": 80,
   "metadata": {},
   "outputs": [],
   "source": [
    "cols_to_keep = ['prev_items']\n",
    "\n",
    "all_train_data = pl.concat([train_data.select(cols_to_keep),\n",
    "                            eval_data.select(cols_to_keep), \n",
    "                            train2_data.select(cols_to_keep), \n",
    "                            test_data.select(cols_to_keep)], how='vertical')"
   ]
  },
  {
   "cell_type": "code",
   "execution_count": 81,
   "metadata": {},
   "outputs": [],
   "source": [
    "# all_train_data.head().collect()"
   ]
  },
  {
   "cell_type": "code",
   "execution_count": 82,
   "metadata": {},
   "outputs": [],
   "source": [
    "def get_cnt(row):\n",
    "    prev_items = row.to_list()\n",
    "    # print(type(prev_items))\n",
    "    # print(prev_items)\n",
    "    length = len(prev_items)\n",
    "    res = []\n",
    "    for idx1, ele1 in enumerate(prev_items):\n",
    "        for idx2, ele2 in enumerate(prev_items):\n",
    "            following_weight = 0\n",
    "            previous_weight = 0\n",
    "            ele2 = prev_items[idx2]\n",
    "            weight = 1\n",
    "            distance = abs(idx2-idx1)\n",
    "            if distance == 0:\n",
    "                continue\n",
    "            if idx1 < idx2:\n",
    "                # combined_ele = '_'.join([ele1, ele2])\n",
    "                following_weight = 1\n",
    "            if idx1 > idx2:\n",
    "                previous_weight = 1\n",
    "            discount_weight = round(weight/distance, 2)\n",
    "            following_discount_weight = round(following_weight/distance, 2)\n",
    "            previous_discount_weight = round(previous_weight/distance, 2)\n",
    "            \n",
    "            res.append(\n",
    "                # combined_ele\n",
    "                [\n",
    "                    # combined_ele\n",
    "                ele1\n",
    "                , ele2\n",
    "                 , str(weight) # co-visit weight\n",
    "                 , str(discount_weight) # co-visit discount weight\n",
    "                 , str(following_weight)\n",
    "                 , str(following_discount_weight)\n",
    "                    ,str(previous_weight)\n",
    "                    , str(previous_discount_weight)\n",
    "                ]\n",
    "                          )\n",
    "    return res"
   ]
  },
  {
   "cell_type": "code",
   "execution_count": 83,
   "metadata": {},
   "outputs": [],
   "source": [
    "next_items_pl = (\n",
    "    all_train_data.with_columns(\n",
    "        pl.col('prev_items').apply(lambda x: get_cnt(x))\n",
    "    )\n",
    "    .explode('prev_items')\n",
    "    .select(\n",
    "        pl.col('prev_items').arr.get(0).alias('current_item')\n",
    "        , pl.col('prev_items').arr.get(1).alias('next_item')\n",
    "        , pl.col('prev_items').arr.get(2).alias('weight').cast(pl.Float32)\n",
    "        , pl.col('prev_items').arr.get(3).alias('discount_weight').cast(pl.Float32)\n",
    "        , pl.col('prev_items').arr.get(4).alias('following_weight').cast(pl.Float32)\n",
    "        , pl.col('prev_items').arr.get(5).alias('following_discount_weight').cast(pl.Float32)\n",
    "        , pl.col('prev_items').arr.get(6).alias('previous_weight').cast(pl.Float32)\n",
    "        , pl.col('prev_items').arr.get(7).alias('previous_discount_weight').cast(pl.Float32)\n",
    "        \n",
    "    )\n",
    "    .groupby(['current_item', 'next_item'])\n",
    "    .agg(\n",
    "        pl.col('weight').sum()\n",
    "        , pl.col('discount_weight').sum()\n",
    "            , pl.col('following_weight').sum()\n",
    "        , pl.col('following_discount_weight').sum()\n",
    "        , pl.col('previous_weight').sum()\n",
    "        , pl.col('previous_discount_weight').sum()\n",
    "\n",
    "    ).sort(['current_item', 'weight'], descending=True)\n",
    "    .groupby(['current_item'])\n",
    "    .agg(\n",
    "        pl.col('next_item')\n",
    "        , pl.col('weight')\n",
    "         , 'discount_weight' # co-visit discount weight\n",
    "         , 'following_weight' \n",
    "         , 'following_discount_weight'\n",
    "            ,'previous_weight'\n",
    "            , 'previous_discount_weight'\n",
    "    )\n",
    "    .select(\n",
    "        pl.col('current_item').alias('item')\n",
    "        , pl.col('next_item').alias('next_item_prediction')\n",
    "        , pl.col('weight').alias('next_item_weight')\n",
    "         , 'discount_weight' # co-visit discount weight\n",
    "         , 'following_weight' \n",
    "         , 'following_discount_weight'\n",
    "            ,'previous_weight'\n",
    "            , 'previous_discount_weight'\n",
    "    )\n",
    ")"
   ]
  },
  {
   "cell_type": "code",
   "execution_count": null,
   "metadata": {},
   "outputs": [],
   "source": [
    "next_items_pl.head().collect()"
   ]
  },
  {
   "cell_type": "markdown",
   "metadata": {
    "tags": []
   },
   "source": [
    "## Save model "
   ]
  },
  {
   "cell_type": "code",
   "execution_count": null,
   "metadata": {},
   "outputs": [],
   "source": [
    "model_file"
   ]
  },
  {
   "cell_type": "code",
   "execution_count": null,
   "metadata": {},
   "outputs": [],
   "source": [
    "%%time\n",
    "next_items_pl = next_items_pl.collect()"
   ]
  },
  {
   "cell_type": "code",
   "execution_count": null,
   "metadata": {},
   "outputs": [],
   "source": [
    "next_items_pl.sample(3)"
   ]
  },
  {
   "cell_type": "code",
   "execution_count": null,
   "metadata": {},
   "outputs": [],
   "source": [
    "next_items_pl.select(pl.col('next_item_prediction').arr.lengths().alias('rec_num')).describe()"
   ]
  },
  {
   "cell_type": "code",
   "execution_count": null,
   "metadata": {},
   "outputs": [],
   "source": [
    "next_items_pl.write_parquet(model_file)"
   ]
  },
  {
   "cell_type": "code",
   "execution_count": null,
   "metadata": {},
   "outputs": [],
   "source": [
    "del next_items_pl"
   ]
  },
  {
   "cell_type": "markdown",
   "metadata": {},
   "source": [
    "## Read Model "
   ]
  },
  {
   "cell_type": "code",
   "execution_count": null,
   "metadata": {},
   "outputs": [],
   "source": [
    "model_file\n"
   ]
  },
  {
   "cell_type": "code",
   "execution_count": null,
   "metadata": {},
   "outputs": [],
   "source": [
    "next_items_pl = pl.scan_parquet(model_file)"
   ]
  },
  {
   "cell_type": "code",
   "execution_count": null,
   "metadata": {},
   "outputs": [],
   "source": [
    "type_dict = next_items_pl.schema"
   ]
  },
  {
   "cell_type": "code",
   "execution_count": null,
   "metadata": {},
   "outputs": [],
   "source": [
    "type_dict.keys()"
   ]
  },
  {
   "cell_type": "code",
   "execution_count": null,
   "metadata": {},
   "outputs": [],
   "source": [
    "# next_items_pl.collect().shape"
   ]
  },
  {
   "cell_type": "code",
   "execution_count": null,
   "metadata": {},
   "outputs": [],
   "source": [
    "next_items_pl.head().collect()"
   ]
  },
  {
   "cell_type": "markdown",
   "metadata": {},
   "source": [
    "## Model eval "
   ]
  },
  {
   "cell_type": "code",
   "execution_count": null,
   "metadata": {},
   "outputs": [],
   "source": [
    "# train_pl.schema"
   ]
  },
  {
   "cell_type": "code",
   "execution_count": null,
   "metadata": {},
   "outputs": [],
   "source": [
    "# eval_pl.schema"
   ]
  },
  {
   "cell_type": "code",
   "execution_count": null,
   "metadata": {},
   "outputs": [],
   "source": [
    "# nic_rec(target_pl=eval_pl.head(100), nic_model=next_items_pl, topn=topn).select(pl.col('next_item_prediction').arr.lengths().alias('rec_num')).collect().describe()"
   ]
  },
  {
   "cell_type": "code",
   "execution_count": null,
   "metadata": {},
   "outputs": [],
   "source": [
    "eval_candidate_pl = nic_rec(target_pl=eval_pl, nic_model=next_items_pl, topn=topn)#.head().collect()"
   ]
  },
  {
   "cell_type": "code",
   "execution_count": null,
   "metadata": {},
   "outputs": [],
   "source": [
    "# eval_candidate_pl.head().co"
   ]
  },
  {
   "cell_type": "code",
   "execution_count": null,
   "metadata": {},
   "outputs": [],
   "source": [
    "\n",
    "# if_hit = pl.element().rank()\n",
    "target_df = eval_pl.join(eval_candidate_pl, how='left', on='session_id')\n",
    "\n",
    "\n",
    "# eval_final.head().collect()"
   ]
  },
  {
   "cell_type": "code",
   "execution_count": null,
   "metadata": {},
   "outputs": [],
   "source": [
    "# target_df.select(pl.col('next_item_prediction').arr.lengths().alias('rec_num')).collect().describe()"
   ]
  },
  {
   "cell_type": "code",
   "execution_count": null,
   "metadata": {},
   "outputs": [],
   "source": [
    "%%time\n",
    "# model_eval(target_df=target_df)\n",
    "eval_final = (\n",
    "        target_df\n",
    "        .lazy()\n",
    "        .with_columns(\n",
    "            pl.col('next_item_prediction').cast(pl.List(pl.Utf8))\n",
    "        )\n",
    "        .with_columns(\n",
    "            pl.concat_list([pl.col('next_item'), pl.col('next_item_prediction')]).alias('mrr')\n",
    "        )\n",
    "        .with_columns(\n",
    "            pl.col('mrr').arr.eval(\n",
    "                pl.arg_where(pl.element()==pl.element().first())\n",
    "            )\n",
    "        ).with_columns(\n",
    "            pl.col('mrr').arr.eval(\n",
    "                pl.when(pl.element()==0).then(0).otherwise(1/pl.element())\n",
    "            )\n",
    "        ).with_columns(\n",
    "            pl.col('mrr').arr.sum()\n",
    "            , pl.col('next_item_prediction').arr.head(20).arr.contains(pl.col('next_item')).mean().alias('recall@20')\n",
    "            , pl.col('next_item_prediction').arr.head(100).arr.contains(pl.col('next_item')).mean().alias('recall@100')\n",
    "            , pl.col('next_item_prediction').arr.head(topn).arr.contains(pl.col('next_item')).mean().alias('recall@all')\n",
    "\n",
    "\n",
    "        )\n",
    ")\n",
    "final_res = eval_final.select(\n",
    "        pl.count().alias('total_sessions')\n",
    "        , pl.col('mrr').mean()\n",
    "        , pl.col('recall@20').mean()\n",
    "        , pl.col('recall@100').mean()\n",
    "        , pl.col('recall@all').mean()\n",
    "\n",
    "    ).collect()\n",
    "final_res"
   ]
  },
  {
   "cell_type": "markdown",
   "metadata": {},
   "source": [
    "## Candidate Saving "
   ]
  },
  {
   "cell_type": "code",
   "execution_count": null,
   "metadata": {},
   "outputs": [],
   "source": [
    "# nic_rec(target_pl=train_pl.head(100), nic_model=next_items_pl).select('rec_num').collect().describe()"
   ]
  },
  {
   "cell_type": "markdown",
   "metadata": {
    "tags": []
   },
   "source": [
    "### Train & eval data "
   ]
  },
  {
   "cell_type": "code",
   "execution_count": null,
   "metadata": {},
   "outputs": [],
   "source": [
    "train_candidate_pl = nic_rec(target_pl=train2_pl, nic_model=next_items_pl)# .collect()"
   ]
  },
  {
   "cell_type": "code",
   "execution_count": null,
   "metadata": {},
   "outputs": [],
   "source": []
  },
  {
   "cell_type": "code",
   "execution_count": 56,
   "metadata": {},
   "outputs": [
    {
     "name": "stdout",
     "output_type": "stream",
     "text": [
      "CPU times: user 7.33 s, sys: 639 ms, total: 7.97 s\n",
      "Wall time: 7.74 s\n"
     ]
    }
   ],
   "source": [
    "%%time\n",
    "train_candidate_pl = train_candidate_pl.collect()\n",
    "eval_candidate_pl = eval_candidate_pl.collect()"
   ]
  },
  {
   "cell_type": "code",
   "execution_count": 57,
   "metadata": {},
   "outputs": [
    {
     "data": {
      "text/plain": [
       "'co_visit_task2_v2'"
      ]
     },
     "execution_count": 57,
     "metadata": {},
     "output_type": "execute_result"
    }
   ],
   "source": [
    "model_version"
   ]
  },
  {
   "cell_type": "code",
   "execution_count": 58,
   "metadata": {},
   "outputs": [
    {
     "name": "stdout",
     "output_type": "stream",
     "text": [
      "shape: (7, 2)\n",
      "┌────────────┬───────────┐\n",
      "│ describe   ┆ rec_num   │\n",
      "│ ---        ┆ ---       │\n",
      "│ str        ┆ f64       │\n",
      "╞════════════╪═══════════╡\n",
      "│ count      ┆ 150056.0  │\n",
      "│ null_count ┆ 0.0       │\n",
      "│ mean       ┆ 59.501106 │\n",
      "│ std        ┆ 68.006342 │\n",
      "│ min        ┆ 0.0       │\n",
      "│ max        ┆ 300.0     │\n",
      "│ median     ┆ 34.0      │\n",
      "└────────────┴───────────┘\n",
      "shape: (7, 2)\n",
      "┌────────────┬───────────┐\n",
      "│ describe   ┆ rec_num   │\n",
      "│ ---        ┆ ---       │\n",
      "│ str        ┆ f64       │\n",
      "╞════════════╪═══════════╡\n",
      "│ count      ┆ 33333.0   │\n",
      "│ null_count ┆ 0.0       │\n",
      "│ mean       ┆ 59.454625 │\n",
      "│ std        ┆ 68.222183 │\n",
      "│ min        ┆ 0.0       │\n",
      "│ max        ┆ 300.0     │\n",
      "│ median     ┆ 34.0      │\n",
      "└────────────┴───────────┘\n"
     ]
    }
   ],
   "source": [
    "for data_pl in [train_candidate_pl, eval_candidate_pl,\n",
    "                # test_candidate_pl\n",
    "               ]:\n",
    "    print(data_pl.select('rec_num').describe())"
   ]
  },
  {
   "cell_type": "code",
   "execution_count": 59,
   "metadata": {},
   "outputs": [],
   "source": [
    "train_candidate_pl.write_parquet(os.path.join(base_dir, candidate_dir,\n",
    "                                                        train_file_name)\n",
    "                                          )"
   ]
  },
  {
   "cell_type": "code",
   "execution_count": 60,
   "metadata": {},
   "outputs": [],
   "source": [
    "eval_candidate_pl.write_parquet(os.path.join(base_dir, candidate_dir,\n",
    "                                                       eval_file_name))"
   ]
  },
  {
   "cell_type": "markdown",
   "metadata": {
    "tags": []
   },
   "source": [
    "### Test data "
   ]
  },
  {
   "cell_type": "code",
   "execution_count": 61,
   "metadata": {},
   "outputs": [],
   "source": [
    "test_candidate_pl = nic_rec(target_pl=test_pl, nic_model=next_items_pl)#.head().collect()\n",
    "test_candidate_pl = test_candidate_pl.collect()\n",
    "test_candidate_pl.write_parquet(os.path.join(base_dir, candidate_dir, \n",
    "                                                       test_file_name))"
   ]
  },
  {
   "cell_type": "code",
   "execution_count": 62,
   "metadata": {},
   "outputs": [
    {
     "data": {
      "text/plain": [
       "'task2_eval_co_visit_task2_v2_True_top300.parquet'"
      ]
     },
     "execution_count": 62,
     "metadata": {},
     "output_type": "execute_result"
    }
   ],
   "source": [
    "eval_file_name"
   ]
  },
  {
   "cell_type": "markdown",
   "metadata": {},
   "source": [
    "### test data for task3 "
   ]
  },
  {
   "cell_type": "code",
   "execution_count": null,
   "metadata": {},
   "outputs": [],
   "source": []
  },
  {
   "cell_type": "code",
   "execution_count": 63,
   "metadata": {},
   "outputs": [],
   "source": [
    "test4task3_candidate_pl = nic_rec(target_pl=test4task3_pl, nic_model=next_items_pl)#.head().collect()\n",
    "test4task3_candidate_pl = test4task3_candidate_pl.collect()\n",
    "test4task3_candidate_pl.write_parquet(os.path.join(base_dir, candidate_dir,test4task3_file_name))"
   ]
  },
  {
   "cell_type": "code",
   "execution_count": 64,
   "metadata": {},
   "outputs": [
    {
     "data": {
      "text/plain": [
       "'../data/candidates/task2_test4task3_co_visit_task2_v2_True_top300.parquet'"
      ]
     },
     "execution_count": 64,
     "metadata": {},
     "output_type": "execute_result"
    }
   ],
   "source": [
    "os.path.join(base_dir, candidate_dir,test4task3_file_name)"
   ]
  },
  {
   "cell_type": "markdown",
   "metadata": {},
   "source": [
    "## Save test result"
   ]
  },
  {
   "cell_type": "code",
   "execution_count": null,
   "metadata": {},
   "outputs": [],
   "source": [
    "predictions = test_pl.join(test_candidate_pl, how='left', on='session_id').collect()[['locale', 'next_item_prediction']].to_pandas()"
   ]
  },
  {
   "cell_type": "code",
   "execution_count": null,
   "metadata": {},
   "outputs": [],
   "source": [
    "submit_file"
   ]
  },
  {
   "cell_type": "code",
   "execution_count": null,
   "metadata": {},
   "outputs": [],
   "source": [
    "check_predictions(predictions, test_sessions=test_pl.collect().to_pandas(), \n",
    "                  # check_products=True, product_df=products\n",
    "                 )\n",
    "# Its important that the parquet file you submit is saved with pyarrow backend\n",
    "predictions.to_parquet(submit_file, engine='pyarrow')"
   ]
  },
  {
   "cell_type": "code",
   "execution_count": null,
   "metadata": {},
   "outputs": [],
   "source": [
    "!aicrowd submission create -c task-1-next-product-recommendation -f {submit_file}"
   ]
  },
  {
   "cell_type": "markdown",
   "metadata": {},
   "source": [
    "# Validate result "
   ]
  },
  {
   "cell_type": "code",
   "execution_count": null,
   "metadata": {},
   "outputs": [],
   "source": [
    "# train_candidate_pl = pl.scan_parquet(os.path.join(base_dir, candidate_dir,\n",
    "#                                                         train_file_name))\n",
    "# eval_candidate_pl = pl.scan_parquet(os.path.join(base_dir, candidate_dir,\n",
    "#                                                         eval_file_name))\n",
    "# test_candidate_pl = pl.scan_parquet(os.path.join(base_dir, candidate_dir,\n",
    "#                                                         test_file_name))"
   ]
  },
  {
   "cell_type": "code",
   "execution_count": null,
   "metadata": {},
   "outputs": [],
   "source": [
    "# for data_pl in [train_candidate_pl, eval_candidate_pl, test_candidate_pl]:\n",
    "#     print(data_pl.select('rec_num').collect().describe())"
   ]
  },
  {
   "cell_type": "code",
   "execution_count": null,
   "metadata": {},
   "outputs": [],
   "source": []
  }
 ],
 "metadata": {
  "environment": {
   "kernel": "kdd_2023",
   "name": "common-cu110.m104",
   "type": "gcloud",
   "uri": "gcr.io/deeplearning-platform-release/base-cu110:m104"
  },
  "kernelspec": {
   "display_name": "py3.8(kdd_2023)",
   "language": "python",
   "name": "kdd_2023"
  },
  "language_info": {
   "codemirror_mode": {
    "name": "ipython",
    "version": 3
   },
   "file_extension": ".py",
   "mimetype": "text/x-python",
   "name": "python",
   "nbconvert_exporter": "python",
   "pygments_lexer": "ipython3",
   "version": "3.8.16"
  }
 },
 "nbformat": 4,
 "nbformat_minor": 4
}
