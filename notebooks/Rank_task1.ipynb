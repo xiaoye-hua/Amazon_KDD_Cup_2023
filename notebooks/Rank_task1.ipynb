{
 "cells": [
  {
   "cell_type": "markdown",
   "id": "cfb20369-bc15-496e-9ca7-96ea3337a84e",
   "metadata": {},
   "source": [
    "# Packages "
   ]
  },
  {
   "cell_type": "code",
   "execution_count": 25,
   "id": "aabe0c4e-8729-4f63-9722-c12d233ca6b5",
   "metadata": {},
   "outputs": [
    {
     "name": "stdout",
     "output_type": "stream",
     "text": [
      "The autoreload extension is already loaded. To reload it, use:\n",
      "  %reload_ext autoreload\n"
     ]
    }
   ],
   "source": [
    "%load_ext autoreload\n",
    "%autoreload 2\n",
    "import sys\n",
    "import logging\n",
    "sys.path.append('../')\n",
    "import os\n",
    "from utils import *\n",
    "\n",
    "import os\n",
    "import numpy as np\n",
    "import pandas as pd\n",
    "from gensim.models import Word2Vec\n",
    "\n",
    "from annoy import AnnoyIndex\n",
    "import polars as pl\n",
    "import implicit\n",
    "import scipy.sparse as sps\n"
   ]
  },
  {
   "cell_type": "markdown",
   "id": "1355ce62-0ebd-4629-99e5-96bf2946bed5",
   "metadata": {},
   "source": [
    "# Config "
   ]
  },
  {
   "cell_type": "code",
   "execution_count": 26,
   "id": "0cac5f9f-76a0-4069-a57a-17b45bba83fd",
   "metadata": {},
   "outputs": [],
   "source": [
    "debug = True\n",
    "\n",
    "debug_session_num = 1000\n",
    "# train_data_dir = '.'\n",
    "# test_data_dir = '.'\n",
    "# task = 'task1'\n",
    "# PREDS_PER_SESSION = 100\n",
    "\n",
    "# num_tree = 100\n",
    "\n",
    "# model_dir = '../model_training/als_v1'\n",
    "\n",
    "# # target locales: locales needed for task1\n",
    "# target_locals = [\"DE\", 'JP', 'UK']\n",
    "\n",
    "# submit_file = f'submission_{task}_ALS.parquet'"
   ]
  },
  {
   "cell_type": "code",
   "execution_count": 27,
   "id": "d259b754-1d90-412a-9de9-62494516fd64",
   "metadata": {},
   "outputs": [
    {
     "name": "stdout",
     "output_type": "stream",
     "text": [
      "submission_task1.parquet\n",
      "submission_task1_ALS.parquet\n"
     ]
    }
   ],
   "source": [
    "! ls | grep parquet"
   ]
  },
  {
   "cell_type": "code",
   "execution_count": 32,
   "id": "9d131fe9-763b-4191-8ce0-77f55ceba3e8",
   "metadata": {},
   "outputs": [],
   "source": [
    "w2v_df = pd.read_parquet('submission_task1.parquet')\n",
    "als_df = pd.read_parquet('submission_task1_ALS.parquet')"
   ]
  },
  {
   "cell_type": "code",
   "execution_count": null,
   "id": "dfe35bb1-591f-4dfc-a433-334fe4b2991f",
   "metadata": {},
   "outputs": [],
   "source": [
    "w2v_df.sha"
   ]
  },
  {
   "cell_type": "code",
   "execution_count": 29,
   "id": "11767344-1532-4011-854e-d904b80ae2c6",
   "metadata": {},
   "outputs": [],
   "source": [
    "if debug:\n",
    "    w2v_df = w2v_df.head(debug_session_num)\n",
    "    als_df = als_df.head(debug_session_num)"
   ]
  },
  {
   "cell_type": "code",
   "execution_count": 30,
   "id": "c3a4ec4d-432f-48a6-b44c-61e3c7ca372e",
   "metadata": {},
   "outputs": [
    {
     "data": {
      "text/html": [
       "<div>\n",
       "<style scoped>\n",
       "    .dataframe tbody tr th:only-of-type {\n",
       "        vertical-align: middle;\n",
       "    }\n",
       "\n",
       "    .dataframe tbody tr th {\n",
       "        vertical-align: top;\n",
       "    }\n",
       "\n",
       "    .dataframe thead th {\n",
       "        text-align: right;\n",
       "    }\n",
       "</style>\n",
       "<table border=\"1\" class=\"dataframe\">\n",
       "  <thead>\n",
       "    <tr style=\"text-align: right;\">\n",
       "      <th></th>\n",
       "      <th>locale</th>\n",
       "      <th>next_item_prediction</th>\n",
       "    </tr>\n",
       "  </thead>\n",
       "  <tbody>\n",
       "    <tr>\n",
       "      <th>0</th>\n",
       "      <td>DE</td>\n",
       "      <td>[B08496TCCQ, B0BJ6TWCQW, B096BGC3XF, B07XRQ8YS...</td>\n",
       "    </tr>\n",
       "    <tr>\n",
       "      <th>1</th>\n",
       "      <td>DE</td>\n",
       "      <td>[B00R9RZ9ZS, B00R9R5ND6, B004ZXMV4Q, B08PM4PWD...</td>\n",
       "    </tr>\n",
       "    <tr>\n",
       "      <th>2</th>\n",
       "      <td>DE</td>\n",
       "      <td>[B07G7Q5N6G, B08C9Q7QVK, B000KSLHNQ, B0B5QNFWJ...</td>\n",
       "    </tr>\n",
       "    <tr>\n",
       "      <th>3</th>\n",
       "      <td>DE</td>\n",
       "      <td>[3772476953, B09M6X8SM8, 3955350878, 395535084...</td>\n",
       "    </tr>\n",
       "    <tr>\n",
       "      <th>4</th>\n",
       "      <td>DE</td>\n",
       "      <td>[B09XTSD7XC, B0B7WRBHWH, B09MS15K58, B09CCPNPS...</td>\n",
       "    </tr>\n",
       "  </tbody>\n",
       "</table>\n",
       "</div>"
      ],
      "text/plain": [
       "  locale                               next_item_prediction\n",
       "0     DE  [B08496TCCQ, B0BJ6TWCQW, B096BGC3XF, B07XRQ8YS...\n",
       "1     DE  [B00R9RZ9ZS, B00R9R5ND6, B004ZXMV4Q, B08PM4PWD...\n",
       "2     DE  [B07G7Q5N6G, B08C9Q7QVK, B000KSLHNQ, B0B5QNFWJ...\n",
       "3     DE  [3772476953, B09M6X8SM8, 3955350878, 395535084...\n",
       "4     DE  [B09XTSD7XC, B0B7WRBHWH, B09MS15K58, B09CCPNPS..."
      ]
     },
     "execution_count": 30,
     "metadata": {},
     "output_type": "execute_result"
    }
   ],
   "source": [
    "w2v_df.head()"
   ]
  },
  {
   "cell_type": "code",
   "execution_count": 31,
   "id": "842a4409-12e9-4688-8a7d-019459cd7c3d",
   "metadata": {},
   "outputs": [
    {
     "data": {
      "text/html": [
       "<div>\n",
       "<style scoped>\n",
       "    .dataframe tbody tr th:only-of-type {\n",
       "        vertical-align: middle;\n",
       "    }\n",
       "\n",
       "    .dataframe tbody tr th {\n",
       "        vertical-align: top;\n",
       "    }\n",
       "\n",
       "    .dataframe thead th {\n",
       "        text-align: right;\n",
       "    }\n",
       "</style>\n",
       "<table border=\"1\" class=\"dataframe\">\n",
       "  <thead>\n",
       "    <tr style=\"text-align: right;\">\n",
       "      <th></th>\n",
       "      <th>locale</th>\n",
       "      <th>next_item_prediction</th>\n",
       "    </tr>\n",
       "  </thead>\n",
       "  <tbody>\n",
       "    <tr>\n",
       "      <th>0</th>\n",
       "      <td>DE</td>\n",
       "      <td>[B07JG9TFSB, B07JDSHD4Z, B07TV22X9M, B07TV364M...</td>\n",
       "    </tr>\n",
       "    <tr>\n",
       "      <th>1</th>\n",
       "      <td>DE</td>\n",
       "      <td>[B0B1MPZWJG, B0BFJGXWDV, B08H93ZRK9, B095Z1QGW...</td>\n",
       "    </tr>\n",
       "    <tr>\n",
       "      <th>2</th>\n",
       "      <td>DE</td>\n",
       "      <td>[B0B61MQD58, B0B5QNFWJ1, B0971DDW5C, B00UHMHFX...</td>\n",
       "    </tr>\n",
       "    <tr>\n",
       "      <th>3</th>\n",
       "      <td>DE</td>\n",
       "      <td>[B07CNRN566, B086NF5PMC, B08GPVZHHT, B08H4QC3X...</td>\n",
       "    </tr>\n",
       "    <tr>\n",
       "      <th>4</th>\n",
       "      <td>DE</td>\n",
       "      <td>[B09MTWFCLY, B09MTVJX9K, B082T6DHB6, B099DP361...</td>\n",
       "    </tr>\n",
       "  </tbody>\n",
       "</table>\n",
       "</div>"
      ],
      "text/plain": [
       "  locale                               next_item_prediction\n",
       "0     DE  [B07JG9TFSB, B07JDSHD4Z, B07TV22X9M, B07TV364M...\n",
       "1     DE  [B0B1MPZWJG, B0BFJGXWDV, B08H93ZRK9, B095Z1QGW...\n",
       "2     DE  [B0B61MQD58, B0B5QNFWJ1, B0971DDW5C, B00UHMHFX...\n",
       "3     DE  [B07CNRN566, B086NF5PMC, B08GPVZHHT, B08H4QC3X...\n",
       "4     DE  [B09MTWFCLY, B09MTVJX9K, B082T6DHB6, B099DP361..."
      ]
     },
     "execution_count": 31,
     "metadata": {},
     "output_type": "execute_result"
    }
   ],
   "source": [
    "als_df.head()"
   ]
  },
  {
   "cell_type": "code",
   "execution_count": 24,
   "id": "b4805e06-1735-466b-a7ea-980d09db5d68",
   "metadata": {},
   "outputs": [],
   "source": [
    "w2v_df['als_next_item_prediction'] = als_df['next_item_prediction']"
   ]
  },
  {
   "cell_type": "code",
   "execution_count": null,
   "id": "e9d172ea-119e-42dc-b75f-d98813f2ba3c",
   "metadata": {},
   "outputs": [],
   "source": []
  }
 ],
 "metadata": {
  "environment": {
   "kernel": "kdd_2023",
   "name": "common-cu110.m104",
   "type": "gcloud",
   "uri": "gcr.io/deeplearning-platform-release/base-cu110:m104"
  },
  "kernelspec": {
   "display_name": "py3.8(kdd_2023)",
   "language": "python",
   "name": "kdd_2023"
  },
  "language_info": {
   "codemirror_mode": {
    "name": "ipython",
    "version": 3
   },
   "file_extension": ".py",
   "mimetype": "text/x-python",
   "name": "python",
   "nbconvert_exporter": "python",
   "pygments_lexer": "ipython3",
   "version": "3.8.16"
  }
 },
 "nbformat": 4,
 "nbformat_minor": 5
}
