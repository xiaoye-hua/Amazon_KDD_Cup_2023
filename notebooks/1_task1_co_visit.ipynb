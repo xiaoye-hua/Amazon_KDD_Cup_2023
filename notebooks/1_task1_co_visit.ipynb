{
 "cells": [
  {
   "cell_type": "markdown",
   "metadata": {},
   "source": [
    "# Package "
   ]
  },
  {
   "cell_type": "code",
   "execution_count": 2,
   "metadata": {},
   "outputs": [
    {
     "name": "stdout",
     "output_type": "stream",
     "text": [
      "The autoreload extension is already loaded. To reload it, use:\n",
      "  %reload_ext autoreload\n"
     ]
    }
   ],
   "source": [
    "%load_ext autoreload\n",
    "%autoreload 2\n",
    "import sys\n",
    "import logging\n",
    "base_dir = '../'\n",
    "sys.path.append(base_dir)\n",
    "import os\n",
    "import warnings\n",
    "warnings.simplefilter('ignore')\n",
    "\n",
    "import pickle\n",
    "import gc\n",
    "import re\n",
    "import polars as pl\n",
    "from collections import defaultdict, Counter\n",
    "\n",
    "import numpy as np\n",
    "import pandas as pd\n",
    "pd.set_option('display.max_columns', None)\n",
    "from tqdm.auto import tqdm\n",
    "import polars as pl\n",
    "from utils import *\n",
    "from src.eval import model_eval\n",
    "from src.config import raw_data_session_id_dir, candidate_dir, model_for_eval, candidate_file_name"
   ]
  },
  {
   "cell_type": "code",
   "execution_count": 3,
   "metadata": {},
   "outputs": [
    {
     "data": {
      "text/plain": [
       "'{task}_{data_type}_{model_version}_{model_for_eval}_top{topn}.parquet'"
      ]
     },
     "execution_count": 3,
     "metadata": {},
     "output_type": "execute_result"
    }
   ],
   "source": [
    "candidate_file_name"
   ]
  },
  {
   "cell_type": "code",
   "execution_count": 4,
   "metadata": {},
   "outputs": [],
   "source": [
    "# df_prod = pd.read_csv('data/products_train.csv')\n",
    "# df_prod"
   ]
  },
  {
   "cell_type": "markdown",
   "metadata": {
    "tags": []
   },
   "source": [
    "# Config "
   ]
  },
  {
   "cell_type": "code",
   "execution_count": 6,
   "metadata": {},
   "outputs": [],
   "source": [
    "debug = False\n",
    "\n",
    "model_version = 'co_visit'\n",
    "\n",
    "topn = 300\n",
    "if debug:\n",
    "    n_rows = 1000\n",
    "else:\n",
    "    n_rows = None\n",
    "# debug_session_num = 100\n",
    "train_data_dir = '.'\n",
    "test_data_dir = '.'\n",
    "task = 'task1'\n",
    "\n",
    "model_dir = f'../model_training/{model_version}/'\n",
    "\n",
    "# target locales: locales needed for task1\n",
    "target_locals = [\"DE\", 'JP', 'UK']\n",
    "\n",
    "# if model_for_eval:\n",
    "model_file = os.path.join(model_dir, f'{model_version}_{model_for_eval}_for_eval.parquet')\n",
    "submit_file = os.path.join('../data/sub_files/', f'submission_{task}_{model_version}_{model_for_eval}_for_eval.parquet')"
   ]
  },
  {
   "cell_type": "code",
   "execution_count": null,
   "metadata": {},
   "outputs": [],
   "source": []
  },
  {
   "cell_type": "code",
   "execution_count": 39,
   "metadata": {},
   "outputs": [
    {
     "name": "stdout",
     "output_type": "stream",
     "text": [
      "task1_train_co_visit_True_top300.parquet\n",
      "task1_eval_co_visit_True_top300.parquet\n",
      "task1_test_co_visit_True_top300.parquet\n"
     ]
    }
   ],
   "source": [
    "train_file_name = candidate_file_name.format(\n",
    "    task=task\n",
    "    , data_type='train'\n",
    "    , model_version=model_version\n",
    "    , model_for_eval=model_for_eval\n",
    "    , topn=topn\n",
    ")\n",
    "eval_file_name = candidate_file_name.format(\n",
    "    task=task\n",
    "    , data_type='eval'\n",
    "    , model_version=model_version\n",
    "    , model_for_eval=model_for_eval\n",
    "    , topn=topn\n",
    ")\n",
    "test_file_name = candidate_file_name.format(\n",
    "    task=task\n",
    "    , data_type='test'\n",
    "    , model_version=model_version\n",
    "    , model_for_eval=model_for_eval\n",
    "    , topn=topn\n",
    ")\n",
    "print(train_file_name)\n",
    "print(eval_file_name)\n",
    "print(test_file_name)"
   ]
  },
  {
   "cell_type": "code",
   "execution_count": 8,
   "metadata": {},
   "outputs": [
    {
     "name": "stdout",
     "output_type": "stream",
     "text": [
      "mkdir: cannot create directory ‘../model_training/co_visit/’: File exists\n"
     ]
    }
   ],
   "source": [
    "! mkdir {model_dir}"
   ]
  },
  {
   "cell_type": "code",
   "execution_count": 9,
   "metadata": {},
   "outputs": [
    {
     "data": {
      "text/plain": [
       "'../model_training/co_visit/co_visit_True_for_eval.parquet'"
      ]
     },
     "execution_count": 9,
     "metadata": {},
     "output_type": "execute_result"
    }
   ],
   "source": [
    "model_file"
   ]
  },
  {
   "cell_type": "code",
   "execution_count": 10,
   "metadata": {},
   "outputs": [
    {
     "data": {
      "text/plain": [
       "'../data/sub_files/submission_task1_co_visit_True_for_eval.parquet'"
      ]
     },
     "execution_count": 10,
     "metadata": {},
     "output_type": "execute_result"
    }
   ],
   "source": [
    "submit_file"
   ]
  },
  {
   "cell_type": "markdown",
   "metadata": {},
   "source": [
    "# Data "
   ]
  },
  {
   "cell_type": "code",
   "execution_count": 11,
   "metadata": {},
   "outputs": [],
   "source": [
    "# ! ls ../{raw_data_session_id_dir}"
   ]
  },
  {
   "cell_type": "code",
   "execution_count": 12,
   "metadata": {},
   "outputs": [],
   "source": [
    "train_pl = pl.scan_parquet(os.path.join(base_dir, raw_data_session_id_dir, 'sessions_train.parquet'), n_rows=n_rows).filter(pl.col('locale').is_in(target_locals)).with_columns(pl.col('prev_items').apply(str2list))\n",
    "\n",
    "eval_pl = pl.scan_parquet(os.path.join(base_dir, raw_data_session_id_dir, 'sessions_eval.parquet'), n_rows=n_rows).filter(pl.col('locale').is_in(target_locals)).with_columns(pl.col('prev_items').apply(str2list))\n",
    "\n",
    "# df_sess.head(3).collect()\n",
    "test_pl = pl.scan_parquet(os.path.join(base_dir, raw_data_session_id_dir, 'sessions_test_task1.parquet'), n_rows=n_rows).with_columns(pl.col('prev_items').apply(str2list))\n"
   ]
  },
  {
   "cell_type": "markdown",
   "metadata": {},
   "source": [
    "# Function "
   ]
  },
  {
   "cell_type": "code",
   "execution_count": 13,
   "metadata": {},
   "outputs": [],
   "source": [
    "# 'item', 'next_item_prediction', 'next_item_weight'"
   ]
  },
  {
   "cell_type": "code",
   "execution_count": 14,
   "metadata": {},
   "outputs": [],
   "source": [
    "def nic_rec(target_pl, nic_model, topn=topn):\n",
    "    rec_num = topn\n",
    "    def get_next_items(x):\n",
    "        prev_items = x['prev_items']\n",
    "        local_rec = x['next_item_prediction']\n",
    "        final = [ele for ele in local_rec if ele not in prev_items]\n",
    "        return final\n",
    "\n",
    "    final_cols = ['session_id', 'next_item_prediction', 'rec_num']\n",
    "    target_pl = (\n",
    "        target_pl\n",
    "            .with_columns(\n",
    "                pl.col('prev_items').arr.get(-1).alias('last_item')\n",
    "            )\n",
    "            .join(nic_model, how='left', left_on='last_item', right_on='item')\n",
    "            .with_columns(\n",
    "                pl.when(pl.col('next_item_prediction').is_null())\n",
    "                    .then([])\n",
    "                    .otherwise(pl.col('next_item_prediction'))\n",
    "                    .alias('next_item_prediction')\n",
    "            ).with_columns(\n",
    "                    pl.struct([\"prev_items\", \"next_item_prediction\"]).apply(\n",
    "                        lambda x: get_next_items(x)).alias('next_item_prediction')\n",
    "            )\n",
    "            .with_columns(\n",
    "                    pl.col('next_item_prediction').arr.head(rec_num)\n",
    "            )\n",
    "            .with_columns(\n",
    "                pl.col('next_item_prediction').arr.lengths().alias('rec_num')\n",
    "            )\n",
    "            .select(\n",
    "                final_cols\n",
    "            )\n",
    "    )#.head(3).collect()\n",
    "    return target_pl"
   ]
  },
  {
   "cell_type": "markdown",
   "metadata": {},
   "source": [
    "# Next Item Statistics "
   ]
  },
  {
   "cell_type": "code",
   "execution_count": 13,
   "metadata": {},
   "outputs": [],
   "source": [
    "train_data = train_pl.with_columns(\n",
    "    pl.col('prev_items').arr.concat(pl.col('next_item')) \n",
    ")\n",
    "if not model_for_eval:\n",
    "    eval_data = eval_pl.with_columns(\n",
    "    pl.col('prev_items').arr.concat(pl.col('next_item')) \n",
    ")\n",
    "else:\n",
    "    eval_data = eval_pl\n",
    "test_data = test_pl"
   ]
  },
  {
   "cell_type": "code",
   "execution_count": 14,
   "metadata": {},
   "outputs": [],
   "source": [
    "cols_to_keep = ['prev_items']\n",
    "\n",
    "all_train_data = pl.concat([train_data.select(cols_to_keep), eval_data.select(cols_to_keep), test_data.select(cols_to_keep)], how='vertical')"
   ]
  },
  {
   "cell_type": "code",
   "execution_count": 15,
   "metadata": {},
   "outputs": [],
   "source": [
    "# all_train_data.head().collect()"
   ]
  },
  {
   "cell_type": "code",
   "execution_count": 16,
   "metadata": {},
   "outputs": [],
   "source": [
    "def get_cnt(row):\n",
    "    prev_items = row.to_list()\n",
    "    # print(type(prev_items))\n",
    "    # print(prev_items)\n",
    "    length = len(prev_items)\n",
    "    res = []\n",
    "    for idx1, ele1 in enumerate(prev_items):\n",
    "        for idx2, ele2 in enumerate(prev_items):\n",
    "            if idx1 != idx2:\n",
    "                ele2 = prev_items[idx2]\n",
    "                # combined_ele = '_'.join([ele1, ele2])\n",
    "                weight = str(1)\n",
    "                res.append(\n",
    "                    # combined_ele\n",
    "                    [\n",
    "                        # combined_ele\n",
    "                    ele1\n",
    "                    , ele2\n",
    "                     , weight\n",
    "                    ]\n",
    "                          )\n",
    "    return res\n",
    "        "
   ]
  },
  {
   "cell_type": "code",
   "execution_count": 17,
   "metadata": {},
   "outputs": [],
   "source": [
    "next_items_pl = (\n",
    "    all_train_data.with_columns(\n",
    "        pl.col('prev_items').apply(lambda x: get_cnt(x))\n",
    "    )\n",
    "    .explode('prev_items')\n",
    "    .select(\n",
    "        pl.col('prev_items').arr.get(0).alias('current_item')\n",
    "        , pl.col('prev_items').arr.get(1).alias('next_item')\n",
    "\n",
    "        , pl.col('prev_items').arr.get(2).alias('weight').cast(pl.Float32)\n",
    "    ).groupby(['current_item', 'next_item'])\n",
    "    .agg(\n",
    "        pl.col('weight').sum()\n",
    "    ).sort(['current_item', 'weight'], descending=True)\n",
    "    .groupby(['current_item'])\n",
    "    .agg(\n",
    "        pl.col('next_item')\n",
    "        , pl.col('weight')\n",
    "    )\n",
    "    .select(\n",
    "        pl.col('current_item').alias('item')\n",
    "        , pl.col('next_item').alias('next_item_prediction')\n",
    "        , pl.col('weight').alias('next_item_weight')\n",
    "    )\n",
    ")"
   ]
  },
  {
   "cell_type": "code",
   "execution_count": 18,
   "metadata": {},
   "outputs": [],
   "source": [
    "# next_items_pl.head().collect()"
   ]
  },
  {
   "cell_type": "markdown",
   "metadata": {
    "tags": []
   },
   "source": [
    "## Save model "
   ]
  },
  {
   "cell_type": "code",
   "execution_count": 19,
   "metadata": {},
   "outputs": [
    {
     "data": {
      "text/plain": [
       "'../model_training/co_visit/co_visit_True_for_eval.parquet'"
      ]
     },
     "execution_count": 19,
     "metadata": {},
     "output_type": "execute_result"
    }
   ],
   "source": [
    "model_file"
   ]
  },
  {
   "cell_type": "code",
   "execution_count": 20,
   "metadata": {},
   "outputs": [
    {
     "name": "stdout",
     "output_type": "stream",
     "text": [
      "CPU times: user 11min 50s, sys: 31.2 s, total: 12min 21s\n",
      "Wall time: 9min 13s\n"
     ]
    }
   ],
   "source": [
    "%%time\n",
    "next_items_pl = next_items_pl.collect()"
   ]
  },
  {
   "cell_type": "code",
   "execution_count": 21,
   "metadata": {},
   "outputs": [
    {
     "data": {
      "text/html": [
       "<div><style>\n",
       ".dataframe > thead > tr > th,\n",
       ".dataframe > tbody > tr > td {\n",
       "  text-align: right;\n",
       "}\n",
       "</style>\n",
       "<small>shape: (3, 3)</small><table border=\"1\" class=\"dataframe\"><thead><tr><th>item</th><th>next_item_prediction</th><th>next_item_weight</th></tr><tr><td>str</td><td>list[str]</td><td>list[f32]</td></tr></thead><tbody><tr><td>&quot;B07VST1K92&quot;</td><td>[&quot;B001DZBMWQ&quot;, &quot;B00J2UUKZE&quot;, … &quot;B07S3QXCRK&quot;]</td><td>[1.0, 1.0, … 1.0]</td></tr><tr><td>&quot;B09Q2Z5H5T&quot;</td><td>[&quot;B09HKNNPSQ&quot;, &quot;B09Q2Z5H5T&quot;, … &quot;B09DPGVXCK&quot;]</td><td>[4.0, 4.0, … 1.0]</td></tr><tr><td>&quot;B09NZYXN2K&quot;</td><td>[&quot;B09NZYXN2K&quot;, &quot;B09LCGLYMD&quot;, … &quot;B07ZGDTGFJ&quot;]</td><td>[12.0, 8.0, … 1.0]</td></tr></tbody></table></div>"
      ],
      "text/plain": [
       "shape: (3, 3)\n",
       "┌────────────┬───────────────────────────────────┬────────────────────┐\n",
       "│ item       ┆ next_item_prediction              ┆ next_item_weight   │\n",
       "│ ---        ┆ ---                               ┆ ---                │\n",
       "│ str        ┆ list[str]                         ┆ list[f32]          │\n",
       "╞════════════╪═══════════════════════════════════╪════════════════════╡\n",
       "│ B07VST1K92 ┆ [\"B001DZBMWQ\", \"B00J2UUKZE\", … \"… ┆ [1.0, 1.0, … 1.0]  │\n",
       "│ B09Q2Z5H5T ┆ [\"B09HKNNPSQ\", \"B09Q2Z5H5T\", … \"… ┆ [4.0, 4.0, … 1.0]  │\n",
       "│ B09NZYXN2K ┆ [\"B09NZYXN2K\", \"B09LCGLYMD\", … \"… ┆ [12.0, 8.0, … 1.0] │\n",
       "└────────────┴───────────────────────────────────┴────────────────────┘"
      ]
     },
     "execution_count": 21,
     "metadata": {},
     "output_type": "execute_result"
    }
   ],
   "source": [
    "next_items_pl.sample(3)"
   ]
  },
  {
   "cell_type": "code",
   "execution_count": 22,
   "metadata": {},
   "outputs": [
    {
     "data": {
      "text/html": [
       "<div><style>\n",
       ".dataframe > thead > tr > th,\n",
       ".dataframe > tbody > tr > td {\n",
       "  text-align: right;\n",
       "}\n",
       "</style>\n",
       "<small>shape: (7, 2)</small><table border=\"1\" class=\"dataframe\"><thead><tr><th>describe</th><th>rec_num</th></tr><tr><td>str</td><td>f64</td></tr></thead><tbody><tr><td>&quot;count&quot;</td><td>1.335037e6</td></tr><tr><td>&quot;null_count&quot;</td><td>0.0</td></tr><tr><td>&quot;mean&quot;</td><td>37.213671</td></tr><tr><td>&quot;std&quot;</td><td>66.923547</td></tr><tr><td>&quot;min&quot;</td><td>1.0</td></tr><tr><td>&quot;max&quot;</td><td>3396.0</td></tr><tr><td>&quot;median&quot;</td><td>18.0</td></tr></tbody></table></div>"
      ],
      "text/plain": [
       "shape: (7, 2)\n",
       "┌────────────┬────────────┐\n",
       "│ describe   ┆ rec_num    │\n",
       "│ ---        ┆ ---        │\n",
       "│ str        ┆ f64        │\n",
       "╞════════════╪════════════╡\n",
       "│ count      ┆ 1.335037e6 │\n",
       "│ null_count ┆ 0.0        │\n",
       "│ mean       ┆ 37.213671  │\n",
       "│ std        ┆ 66.923547  │\n",
       "│ min        ┆ 1.0        │\n",
       "│ max        ┆ 3396.0     │\n",
       "│ median     ┆ 18.0       │\n",
       "└────────────┴────────────┘"
      ]
     },
     "execution_count": 22,
     "metadata": {},
     "output_type": "execute_result"
    }
   ],
   "source": [
    "next_items_pl.select(pl.col('next_item_prediction').arr.lengths().alias('rec_num')).describe()"
   ]
  },
  {
   "cell_type": "code",
   "execution_count": 23,
   "metadata": {},
   "outputs": [],
   "source": [
    "next_items_pl.write_parquet(model_file)"
   ]
  },
  {
   "cell_type": "code",
   "execution_count": 24,
   "metadata": {},
   "outputs": [],
   "source": [
    "del next_items_pl"
   ]
  },
  {
   "cell_type": "markdown",
   "metadata": {},
   "source": [
    "## Read Model "
   ]
  },
  {
   "cell_type": "code",
   "execution_count": 15,
   "metadata": {},
   "outputs": [
    {
     "data": {
      "text/plain": [
       "'../model_training/co_visit/co_visit_True_for_eval.parquet'"
      ]
     },
     "execution_count": 15,
     "metadata": {},
     "output_type": "execute_result"
    }
   ],
   "source": [
    "model_file"
   ]
  },
  {
   "cell_type": "code",
   "execution_count": 16,
   "metadata": {},
   "outputs": [],
   "source": [
    "next_items_pl = pl.scan_parquet(model_file)"
   ]
  },
  {
   "cell_type": "code",
   "execution_count": 17,
   "metadata": {},
   "outputs": [],
   "source": [
    "type_dict = next_items_pl.schema"
   ]
  },
  {
   "cell_type": "code",
   "execution_count": 18,
   "metadata": {},
   "outputs": [
    {
     "data": {
      "text/plain": [
       "dict_keys(['item', 'next_item_prediction', 'next_item_weight'])"
      ]
     },
     "execution_count": 18,
     "metadata": {},
     "output_type": "execute_result"
    }
   ],
   "source": [
    "type_dict.keys()"
   ]
  },
  {
   "cell_type": "markdown",
   "metadata": {},
   "source": [
    "## Model eval "
   ]
  },
  {
   "cell_type": "code",
   "execution_count": 19,
   "metadata": {},
   "outputs": [],
   "source": [
    "# train_pl.schema"
   ]
  },
  {
   "cell_type": "code",
   "execution_count": 20,
   "metadata": {},
   "outputs": [],
   "source": [
    "# eval_pl.schema"
   ]
  },
  {
   "cell_type": "code",
   "execution_count": 21,
   "metadata": {},
   "outputs": [],
   "source": [
    "# nic_rec(target_pl=eval_pl.head(100), nic_model=next_items_pl, topn=topn).select(pl.col('next_item_prediction').arr.lengths().alias('rec_num')).collect().describe()"
   ]
  },
  {
   "cell_type": "code",
   "execution_count": 22,
   "metadata": {},
   "outputs": [],
   "source": [
    "eval_candidate_pl = nic_rec(target_pl=eval_pl, nic_model=next_items_pl, topn=topn)#.head().collect()"
   ]
  },
  {
   "cell_type": "code",
   "execution_count": 22,
   "metadata": {},
   "outputs": [],
   "source": [
    "# eval_candidate_pl.head().co"
   ]
  },
  {
   "cell_type": "code",
   "execution_count": 23,
   "metadata": {},
   "outputs": [],
   "source": [
    "\n",
    "# if_hit = pl.element().rank()\n",
    "target_df = eval_pl.join(eval_candidate_pl, how='left', on='session_id')\n",
    "\n",
    "\n",
    "# eval_final.head().collect()"
   ]
  },
  {
   "cell_type": "code",
   "execution_count": 24,
   "metadata": {},
   "outputs": [
    {
     "data": {
      "text/html": [
       "<div><style>\n",
       ".dataframe > thead > tr > th,\n",
       ".dataframe > tbody > tr > td {\n",
       "  text-align: right;\n",
       "}\n",
       "</style>\n",
       "<small>shape: (7, 2)</small><table border=\"1\" class=\"dataframe\"><thead><tr><th>describe</th><th>rec_num</th></tr><tr><td>str</td><td>f64</td></tr></thead><tbody><tr><td>&quot;count&quot;</td><td>1000.0</td></tr><tr><td>&quot;null_count&quot;</td><td>0.0</td></tr><tr><td>&quot;mean&quot;</td><td>107.991</td></tr><tr><td>&quot;std&quot;</td><td>104.708523</td></tr><tr><td>&quot;min&quot;</td><td>0.0</td></tr><tr><td>&quot;max&quot;</td><td>300.0</td></tr><tr><td>&quot;median&quot;</td><td>65.0</td></tr></tbody></table></div>"
      ],
      "text/plain": [
       "shape: (7, 2)\n",
       "┌────────────┬────────────┐\n",
       "│ describe   ┆ rec_num    │\n",
       "│ ---        ┆ ---        │\n",
       "│ str        ┆ f64        │\n",
       "╞════════════╪════════════╡\n",
       "│ count      ┆ 1000.0     │\n",
       "│ null_count ┆ 0.0        │\n",
       "│ mean       ┆ 107.991    │\n",
       "│ std        ┆ 104.708523 │\n",
       "│ min        ┆ 0.0        │\n",
       "│ max        ┆ 300.0      │\n",
       "│ median     ┆ 65.0       │\n",
       "└────────────┴────────────┘"
      ]
     },
     "execution_count": 24,
     "metadata": {},
     "output_type": "execute_result"
    }
   ],
   "source": [
    "target_df.select(pl.col('next_item_prediction').arr.lengths().alias('rec_num')).collect().describe()"
   ]
  },
  {
   "cell_type": "code",
   "execution_count": 25,
   "metadata": {},
   "outputs": [
    {
     "name": "stdout",
     "output_type": "stream",
     "text": [
      "CPU times: user 6.59 s, sys: 904 ms, total: 7.49 s\n",
      "Wall time: 6.13 s\n"
     ]
    },
    {
     "data": {
      "text/html": [
       "<div><style>\n",
       ".dataframe > thead > tr > th,\n",
       ".dataframe > tbody > tr > td {\n",
       "  text-align: right;\n",
       "}\n",
       "</style>\n",
       "<small>shape: (1, 5)</small><table border=\"1\" class=\"dataframe\"><thead><tr><th>total_sessions</th><th>mrr</th><th>recall@20</th><th>recall@100</th><th>recall@all</th></tr><tr><td>u32</td><td>f64</td><td>f64</td><td>f64</td><td>f64</td></tr></thead><tbody><tr><td>1000</td><td>0.243219</td><td>0.448</td><td>0.535</td><td>0.552</td></tr></tbody></table></div>"
      ],
      "text/plain": [
       "shape: (1, 5)\n",
       "┌────────────────┬──────────┬───────────┬────────────┬────────────┐\n",
       "│ total_sessions ┆ mrr      ┆ recall@20 ┆ recall@100 ┆ recall@all │\n",
       "│ ---            ┆ ---      ┆ ---       ┆ ---        ┆ ---        │\n",
       "│ u32            ┆ f64      ┆ f64       ┆ f64        ┆ f64        │\n",
       "╞════════════════╪══════════╪═══════════╪════════════╪════════════╡\n",
       "│ 1000           ┆ 0.243219 ┆ 0.448     ┆ 0.535      ┆ 0.552      │\n",
       "└────────────────┴──────────┴───────────┴────────────┴────────────┘"
      ]
     },
     "execution_count": 25,
     "metadata": {},
     "output_type": "execute_result"
    }
   ],
   "source": [
    "%%time\n",
    "# model_eval(target_df=target_df)\n",
    "eval_final = (\n",
    "        target_df\n",
    "        .lazy()\n",
    "        .with_columns(\n",
    "            pl.col('next_item_prediction').cast(pl.List(pl.Utf8))\n",
    "        )\n",
    "        .with_columns(\n",
    "            pl.concat_list([pl.col('next_item'), pl.col('next_item_prediction')]).alias('mrr')\n",
    "        )\n",
    "        .with_columns(\n",
    "            pl.col('mrr').arr.eval(\n",
    "                pl.arg_where(pl.element()==pl.element().first())\n",
    "            )\n",
    "        ).with_columns(\n",
    "            pl.col('mrr').arr.eval(\n",
    "                pl.when(pl.element()==0).then(0).otherwise(1/pl.element())\n",
    "            )\n",
    "        ).with_columns(\n",
    "            pl.col('mrr').arr.sum()\n",
    "            , pl.col('next_item_prediction').arr.head(20).arr.contains(pl.col('next_item')).mean().alias('recall@20')\n",
    "            , pl.col('next_item_prediction').arr.head(100).arr.contains(pl.col('next_item')).mean().alias('recall@100')\n",
    "            , pl.col('next_item_prediction').arr.head(topn).arr.contains(pl.col('next_item')).mean().alias('recall@all')\n",
    "\n",
    "\n",
    "        )\n",
    ")\n",
    "final_res = eval_final.select(\n",
    "        pl.count().alias('total_sessions')\n",
    "        , pl.col('mrr').mean()\n",
    "        , pl.col('recall@20').mean()\n",
    "        , pl.col('recall@100').mean()\n",
    "        , pl.col('recall@all').mean()\n",
    "\n",
    "    ).collect()\n",
    "final_res"
   ]
  },
  {
   "cell_type": "markdown",
   "metadata": {},
   "source": [
    "## Candidate Saving "
   ]
  },
  {
   "cell_type": "code",
   "execution_count": 26,
   "metadata": {},
   "outputs": [],
   "source": [
    "# nic_rec(target_pl=train_pl.head(100), nic_model=next_items_pl).select('rec_num').collect().describe()"
   ]
  },
  {
   "cell_type": "code",
   "execution_count": 23,
   "metadata": {},
   "outputs": [],
   "source": [
    "train_candidate_pl = nic_rec(target_pl=train_pl, nic_model=next_items_pl)# .collect()"
   ]
  },
  {
   "cell_type": "code",
   "execution_count": 24,
   "metadata": {},
   "outputs": [],
   "source": [
    "test_candidate_pl = nic_rec(target_pl=test_pl, nic_model=next_items_pl)#.head().collect()"
   ]
  },
  {
   "cell_type": "code",
   "execution_count": 25,
   "metadata": {},
   "outputs": [
    {
     "name": "stdout",
     "output_type": "stream",
     "text": [
      "CPU times: user 7min 39s, sys: 1min 6s, total: 8min 46s\n",
      "Wall time: 8min 42s\n"
     ]
    }
   ],
   "source": [
    "%%time\n",
    "train_candidate_pl = train_candidate_pl.collect()\n",
    "eval_candidate_pl = eval_candidate_pl.collect()\n",
    "test_candidate_pl = test_candidate_pl.collect()"
   ]
  },
  {
   "cell_type": "code",
   "execution_count": 26,
   "metadata": {},
   "outputs": [
    {
     "data": {
      "text/plain": [
       "'co_visit'"
      ]
     },
     "execution_count": 26,
     "metadata": {},
     "output_type": "execute_result"
    }
   ],
   "source": [
    "model_version"
   ]
  },
  {
   "cell_type": "code",
   "execution_count": 27,
   "metadata": {},
   "outputs": [
    {
     "name": "stdout",
     "output_type": "stream",
     "text": [
      "shape: (7, 2)\n",
      "┌────────────┬────────────┐\n",
      "│ describe   ┆ rec_num    │\n",
      "│ ---        ┆ ---        │\n",
      "│ str        ┆ f64        │\n",
      "╞════════════╪════════════╡\n",
      "│ count      ┆ 2.946273e6 │\n",
      "│ null_count ┆ 0.0        │\n",
      "│ mean       ┆ 113.772529 │\n",
      "│ std        ┆ 103.984359 │\n",
      "│ min        ┆ 1.0        │\n",
      "│ max        ┆ 300.0      │\n",
      "│ median     ┆ 74.0       │\n",
      "└────────────┴────────────┘\n",
      "shape: (7, 2)\n",
      "┌────────────┬────────────┐\n",
      "│ describe   ┆ rec_num    │\n",
      "│ ---        ┆ ---        │\n",
      "│ str        ┆ f64        │\n",
      "╞════════════╪════════════╡\n",
      "│ count      ┆ 326443.0   │\n",
      "│ null_count ┆ 0.0        │\n",
      "│ mean       ┆ 113.654944 │\n",
      "│ std        ┆ 104.162114 │\n",
      "│ min        ┆ 0.0        │\n",
      "│ max        ┆ 300.0      │\n",
      "│ median     ┆ 74.0       │\n",
      "└────────────┴────────────┘\n",
      "shape: (7, 2)\n",
      "┌────────────┬────────────┐\n",
      "│ describe   ┆ rec_num    │\n",
      "│ ---        ┆ ---        │\n",
      "│ str        ┆ f64        │\n",
      "╞════════════╪════════════╡\n",
      "│ count      ┆ 316971.0   │\n",
      "│ null_count ┆ 0.0        │\n",
      "│ mean       ┆ 155.308303 │\n",
      "│ std        ┆ 104.928666 │\n",
      "│ min        ┆ 0.0        │\n",
      "│ max        ┆ 300.0      │\n",
      "│ median     ┆ 134.0      │\n",
      "└────────────┴────────────┘\n"
     ]
    }
   ],
   "source": [
    "for data_pl in [train_candidate_pl, eval_candidate_pl, test_candidate_pl]:\n",
    "    print(data_pl.select('rec_num').describe())"
   ]
  },
  {
   "cell_type": "code",
   "execution_count": 40,
   "metadata": {},
   "outputs": [],
   "source": [
    "train_candidate_pl.write_parquet(os.path.join(base_dir, candidate_dir,\n",
    "                                                        train_file_name)\n",
    "                                          )"
   ]
  },
  {
   "cell_type": "code",
   "execution_count": 41,
   "metadata": {},
   "outputs": [],
   "source": [
    "eval_candidate_pl.write_parquet(os.path.join(base_dir, candidate_dir,\n",
    "                                                       eval_file_name))"
   ]
  },
  {
   "cell_type": "code",
   "execution_count": 42,
   "metadata": {},
   "outputs": [],
   "source": [
    "test_candidate_pl.write_parquet(os.path.join(base_dir, candidate_dir, \n",
    "                                                       test_file_name))"
   ]
  },
  {
   "cell_type": "code",
   "execution_count": 43,
   "metadata": {},
   "outputs": [
    {
     "data": {
      "text/plain": [
       "'task1_eval_co_visit_True_top300.parquet'"
      ]
     },
     "execution_count": 43,
     "metadata": {},
     "output_type": "execute_result"
    }
   ],
   "source": [
    "eval_file_name"
   ]
  },
  {
   "cell_type": "markdown",
   "metadata": {},
   "source": [
    "## Save test result"
   ]
  },
  {
   "cell_type": "code",
   "execution_count": null,
   "metadata": {},
   "outputs": [],
   "source": [
    "predictions = test_pl.join(test_candidate_pl, how='left', on='session_id').collect()[['locale', 'next_item_prediction']].to_pandas()"
   ]
  },
  {
   "cell_type": "code",
   "execution_count": null,
   "metadata": {},
   "outputs": [],
   "source": [
    "submit_file"
   ]
  },
  {
   "cell_type": "code",
   "execution_count": null,
   "metadata": {},
   "outputs": [],
   "source": [
    "check_predictions(predictions, test_sessions=test_pl.collect().to_pandas(), \n",
    "                  # check_products=True, product_df=products\n",
    "                 )\n",
    "# Its important that the parquet file you submit is saved with pyarrow backend\n",
    "predictions.to_parquet(submit_file, engine='pyarrow')"
   ]
  },
  {
   "cell_type": "code",
   "execution_count": null,
   "metadata": {},
   "outputs": [],
   "source": [
    "!aicrowd submission create -c task-1-next-product-recommendation -f {submit_file}"
   ]
  },
  {
   "cell_type": "markdown",
   "metadata": {},
   "source": [
    "# Validate result "
   ]
  },
  {
   "cell_type": "code",
   "execution_count": null,
   "metadata": {},
   "outputs": [],
   "source": [
    "# train_candidate_pl = pl.scan_parquet(os.path.join(base_dir, candidate_dir,\n",
    "#                                                         train_file_name))\n",
    "# eval_candidate_pl = pl.scan_parquet(os.path.join(base_dir, candidate_dir,\n",
    "#                                                         eval_file_name))\n",
    "# test_candidate_pl = pl.scan_parquet(os.path.join(base_dir, candidate_dir,\n",
    "#                                                         test_file_name))"
   ]
  },
  {
   "cell_type": "code",
   "execution_count": null,
   "metadata": {},
   "outputs": [],
   "source": [
    "# for data_pl in [train_candidate_pl, eval_candidate_pl, test_candidate_pl]:\n",
    "#     print(data_pl.select('rec_num').collect().describe())"
   ]
  },
  {
   "cell_type": "code",
   "execution_count": null,
   "metadata": {},
   "outputs": [],
   "source": []
  }
 ],
 "metadata": {
  "environment": {
   "kernel": "kdd_2023",
   "name": "common-cu110.m104",
   "type": "gcloud",
   "uri": "gcr.io/deeplearning-platform-release/base-cu110:m104"
  },
  "kernelspec": {
   "display_name": "py3.8(kdd_2023)",
   "language": "python",
   "name": "kdd_2023"
  },
  "language_info": {
   "codemirror_mode": {
    "name": "ipython",
    "version": 3
   },
   "file_extension": ".py",
   "mimetype": "text/x-python",
   "name": "python",
   "nbconvert_exporter": "python",
   "pygments_lexer": "ipython3",
   "version": "3.8.16"
  }
 },
 "nbformat": 4,
 "nbformat_minor": 4
}
