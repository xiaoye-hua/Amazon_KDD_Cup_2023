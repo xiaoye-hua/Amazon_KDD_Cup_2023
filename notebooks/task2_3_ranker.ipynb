{
 "cells": [
  {
   "cell_type": "markdown",
   "id": "cfb20369-bc15-496e-9ca7-96ea3337a84e",
   "metadata": {},
   "source": [
    "# Packages "
   ]
  },
  {
   "cell_type": "code",
   "execution_count": 70,
   "id": "aabe0c4e-8729-4f63-9722-c12d233ca6b5",
   "metadata": {
    "tags": []
   },
   "outputs": [
    {
     "name": "stdout",
     "output_type": "stream",
     "text": [
      "The autoreload extension is already loaded. To reload it, use:\n",
      "  %reload_ext autoreload\n"
     ]
    }
   ],
   "source": [
    "%load_ext autoreload\n",
    "%autoreload 2\n",
    "import sys\n",
    "\n",
    "import logging\n",
    "base_dir = '../'\n",
    "sys.path.append(base_dir)\n",
    "import os\n",
    "from utils import *\n",
    "\n",
    "import joblib\n",
    "import os\n",
    "import numpy as np\n",
    "import pandas as pd\n",
    "from gensim.models import Word2Vec\n",
    "from gensim.similarities.annoy import AnnoyIndexer\n",
    "\n",
    "\n",
    "from annoy import AnnoyIndex\n",
    "import polars as pl\n",
    "import implicit\n",
    "from src.eval import model_eval\n",
    "\n",
    "import scipy.sparse as sps\n",
    "from utils import str2list\n",
    "from src.config import raw_data_session_id_dir, candidate_file_name\n",
    "from lightgbm import LGBMRanker\n",
    "from lightgbm import early_stopping\n",
    "from utils import *\n",
    "from src.case_analysis import show_single_case\n",
    "# try github "
   ]
  },
  {
   "cell_type": "markdown",
   "id": "1355ce62-0ebd-4629-99e5-96bf2946bed5",
   "metadata": {
    "tags": []
   },
   "source": [
    "# Config "
   ]
  },
  {
   "cell_type": "code",
   "execution_count": 71,
   "id": "c5d2edbe-29b1-40cf-985b-0551db0e3e9a",
   "metadata": {},
   "outputs": [],
   "source": [
    "debug = False\n",
    "\n",
    "task = 'task2'\n",
    "\n",
    "version = 'v2'\n",
    "# # target locales: locales needed for task1\n",
    "if task == 'task1':\n",
    "    target_locals = [\"DE\", 'JP', 'UK']\n",
    "elif task == 'task2':\n",
    "    target_locals = ['ES', 'FR', 'IT']\n",
    "else:\n",
    "    assert 1 == 2\n",
    "\n",
    "\n",
    "ranker_train_data_dir = f'../data/rank_train_data_{task}_{version}'\n",
    "\n",
    "rank_model_version = f'{task}_rank_lgbm_{version}'"
   ]
  },
  {
   "cell_type": "code",
   "execution_count": 72,
   "id": "72ef90af-49f4-421c-ad25-15dfe7bbcf6f",
   "metadata": {},
   "outputs": [
    {
     "data": {
      "text/plain": [
       "'task2_rank_lgbm_v2'"
      ]
     },
     "execution_count": 72,
     "metadata": {},
     "output_type": "execute_result"
    }
   ],
   "source": [
    "rank_model_version"
   ]
  },
  {
   "cell_type": "code",
   "execution_count": 73,
   "id": "4935a8e7-6546-4e6f-b5fd-139714917ffc",
   "metadata": {},
   "outputs": [
    {
     "name": "stdout",
     "output_type": "stream",
     "text": [
      "candidates\t rank_train_data_task2\t   raw_data\t\t  sub_files\n",
      "eval_data\t rank_train_data_task2_v2  raw_data_session_id\t  train_data\n",
      "rank_train_data  rank_train_data_v2\t   session_item_features\n"
     ]
    }
   ],
   "source": [
    "! ls ../data/"
   ]
  },
  {
   "cell_type": "code",
   "execution_count": 74,
   "id": "0cac5f9f-76a0-4069-a57a-17b45bba83fd",
   "metadata": {},
   "outputs": [],
   "source": [
    "\n",
    "if debug:\n",
    "    SAMPLE_NUM = 1000\n",
    "else:\n",
    "    SAMPLE_NUM = None\n",
    "\n",
    "candidate_path = '../data/candidates/'\n",
    "model_dir = '../model_training'\n",
    "\n",
    "\n",
    "w2v_model_version = f'w2v_{task}'\n",
    "nic_model_version = f'nic_{task}'\n",
    "\n",
    "rank_model_dir = os.path.join(model_dir, rank_model_version)\n",
    "model_for_eval = True\n",
    "# w2v_topn=100\n",
    "# nic_topn=100\n",
    "# PREDS_PER_SESSION = 100\n",
    "\n",
    "# num_tree = 100\n",
    "\n",
    "# submit_file = f'submission_{task}_ALS.parquet'\n",
    "num_tree = 100\n",
    "w2v_model_dir = os.path.join(model_dir, w2v_model_version)\n",
    "w2v_model_file = os.path.join(w2v_model_dir, f\"{model_for_eval}.model\")\n",
    "annoy_index_file = os.path.join(w2v_model_dir, f\"{str(num_tree)}_{model_for_eval}.index\")\n",
    "\n",
    "\n",
    "sub_file = f'../data/sub_files/{rank_model_version}.parque'\n",
    "eval_sub_file = f'../data/sub_files/eval_{rank_model_version}.parque'"
   ]
  },
  {
   "cell_type": "code",
   "execution_count": 75,
   "id": "05ef9123-0967-493c-8eb0-846a42483a2b",
   "metadata": {},
   "outputs": [
    {
     "data": {
      "text/plain": [
       "'../model_training/task2_rank_lgbm_v2'"
      ]
     },
     "execution_count": 75,
     "metadata": {},
     "output_type": "execute_result"
    }
   ],
   "source": [
    "rank_model_dir"
   ]
  },
  {
   "cell_type": "code",
   "execution_count": null,
   "id": "c3fc407c-cb7f-4e22-805e-355089d8791c",
   "metadata": {},
   "outputs": [],
   "source": []
  },
  {
   "cell_type": "code",
   "execution_count": 76,
   "id": "902bc312-8c20-42f7-ad41-b5d77d89fcce",
   "metadata": {},
   "outputs": [
    {
     "name": "stdout",
     "output_type": "stream",
     "text": [
      "mkdir: cannot create directory ‘../model_training/task2_rank_lgbm_v2’: File exists\n"
     ]
    }
   ],
   "source": [
    "! mkdir {rank_model_dir}"
   ]
  },
  {
   "cell_type": "code",
   "execution_count": 77,
   "id": "2c5c0503-6558-4ab1-8065-dbd0b53f1fea",
   "metadata": {},
   "outputs": [
    {
     "data": {
      "text/plain": [
       "'../data/sub_files/task2_rank_lgbm_v2.parque'"
      ]
     },
     "execution_count": 77,
     "metadata": {},
     "output_type": "execute_result"
    }
   ],
   "source": [
    "sub_file"
   ]
  },
  {
   "cell_type": "code",
   "execution_count": 78,
   "id": "749ab1d2-b4d3-4d7b-8145-5e3723ff81a0",
   "metadata": {},
   "outputs": [
    {
     "data": {
      "text/plain": [
       "'../data/sub_files/eval_task2_rank_lgbm_v2.parque'"
      ]
     },
     "execution_count": 78,
     "metadata": {},
     "output_type": "execute_result"
    }
   ],
   "source": [
    "eval_sub_file"
   ]
  },
  {
   "cell_type": "markdown",
   "id": "94cdfee9-b6ef-44ca-92a6-c17e487cd891",
   "metadata": {},
   "source": [
    "## Ranker config"
   ]
  },
  {
   "cell_type": "code",
   "execution_count": 79,
   "id": "4c038e98-85bc-4df0-a772-040620863a3f",
   "metadata": {},
   "outputs": [],
   "source": [
    "estimator = 1000\n",
    "early_stop_rounds = 10\n",
    "eval_frac = 0.1\n",
    "if debug:\n",
    "    early_stop_rounds = 5\n",
    "    \n",
    "target = 'target'\n",
    "feature_cols = [\n",
    "    'next_item_weight'\n",
    "    , 'next_item_weight_nfi'\n",
    "    , 'next_item_weight_co_visit'\n",
    "    , 'locale'\n",
    "    , 'w2v_weight'\n",
    "    , 'last_item_similarity'\n",
    "    # , 'prev_item_similarity'\t\n",
    "    , 'prev_length'\n",
    "    , 'price_mean_norm'\t\n",
    "    , 'price_last_norm'\n",
    "    , 'price_min_norm'\n",
    "    , 'price_max_norm'\n",
    "    \n",
    "    \n",
    "    ,'next_item_cnt', \n",
    "    'next_item_normalized_weight',\n",
    "    'discount_weight', 'following_weight', \n",
    "    'following_discount_weight', 'previous_weight', \n",
    "    'previous_discount_weight',\n",
    "    # 'item_cnt', \n",
    "    # 'pos_weighted_cnt',\n",
    "    # 'avg_pos', 'median_pos'\n",
    "]\n",
    "\n",
    "categorical_feature=['locale']"
   ]
  },
  {
   "cell_type": "markdown",
   "id": "f52110d4-f079-4f9a-a427-2f50bbf82e7e",
   "metadata": {},
   "source": [
    "# Function"
   ]
  },
  {
   "cell_type": "markdown",
   "id": "869cecdd-8bc7-40f6-95c6-762a916396a1",
   "metadata": {},
   "source": [
    "## More Features "
   ]
  },
  {
   "cell_type": "code",
   "execution_count": 80,
   "id": "aded81d9-722a-4abd-ba26-13bb2101ef51",
   "metadata": {},
   "outputs": [],
   "source": [
    "session_features = pl.scan_parquet('../data/session_item_features/session_features.parquet')\n",
    "item_features = pl.scan_parquet('../data/session_item_features/item_features.parquet')\n",
    "product_pl = (pl.scan_parquet(os.path.join(base_dir, raw_data_session_id_dir, \n",
    "                                          'products_train.parquet'))\n",
    "                  # .with_columns(\n",
    "                  #     pl.when(pl.col('locale')=='DE').then(1).when(pl.col('locale')=='DE')\n",
    "                  #       .then(2)\n",
    "                  #       .otherwise(3).alias('locale')\n",
    "                  # )\n",
    "             )\n",
    "\n",
    "def get_additional_feature(data_pl, session_features=session_features, product_pl=product_pl, item_features=item_features):\n",
    "    session_join_keys = ['session_id']\n",
    "    session_fea_cols = ['mean_price', 'last_price', 'min_price', 'max_price']\n",
    "    data_pl = (\n",
    "        data_pl\n",
    "         .with_columns(\n",
    "            pl.col('session_id').cast(pl.Int64)\n",
    "        )\n",
    "        .join(session_features.select(session_join_keys+session_fea_cols+['locale']),\n",
    "                                    how='left', on=session_join_keys, suffix='_str')\n",
    "            .join(item_features, how='left',\n",
    "                  left_on='next_item_prediction',\n",
    "                  right_on='prev_items')\n",
    "            .join(product_pl.select(['id', 'locale', 'price']), how='left', right_on=['id', 'locale']\n",
    "                 , left_on=['next_item_prediction', 'locale_str'])\n",
    "            .with_columns(\n",
    "              pl.col('price').truediv(pl.col('mean_price')).alias('price_mean_norm')\n",
    "              , pl.col('price').truediv(pl.col('last_price')).alias('price_last_norm')\n",
    "              , pl.col('price').truediv(pl.col('min_price')).alias('price_min_norm')\n",
    "              , pl.col('price').truediv(pl.col('max_price')).alias('price_max_norm')\n",
    "              # , pl.when(pl.col('min_price')==pl.col('max_price')).then(1).otherwise((pl.col('price')-pl.col('min_price'))/(pl.col('min_price')-pl.col('max_price'))).alias('price_norm')\n",
    "            )\n",
    "            .select(\n",
    "                pl.all().exclude(session_fea_cols+['locale_str', 'price'])\n",
    "            )\n",
    "\n",
    "    )\n",
    "    return data_pl"
   ]
  },
  {
   "cell_type": "markdown",
   "id": "33cccd9d-18fd-4339-a739-39d7021cef73",
   "metadata": {
    "tags": []
   },
   "source": [
    "# Read data"
   ]
  },
  {
   "cell_type": "code",
   "execution_count": 81,
   "id": "3486f554-4ca0-460c-9d31-4b4b1f2c5e6b",
   "metadata": {},
   "outputs": [],
   "source": [
    "\n",
    "eval_pl = pl.scan_parquet(os.path.join(base_dir, raw_data_session_id_dir, 'sessions_eval.parquet'), n_rows=SAMPLE_NUM).filter(pl.col('locale').is_in(target_locals)).with_columns(pl.col('prev_items').apply(str2list))\n",
    "\n",
    "# df_sess.head(3).collect()\n",
    "test_pl = pl.scan_parquet(os.path.join(base_dir, raw_data_session_id_dir, f'sessions_test_{task}.parquet'), n_rows=SAMPLE_NUM).with_columns(pl.col('prev_items').apply(str2list))\n",
    "test4task3_pl = pl.scan_parquet(os.path.join(base_dir, raw_data_session_id_dir, 'sessions_test_task3.parquet'), n_rows=SAMPLE_NUM).filter(pl.col('locale').is_in(target_locals)).with_columns(pl.col('prev_items').apply(str2list))\n",
    "\n"
   ]
  },
  {
   "cell_type": "code",
   "execution_count": 82,
   "id": "bcea5661-384c-45a0-aec7-9d56948127ff",
   "metadata": {},
   "outputs": [
    {
     "name": "stdout",
     "output_type": "stream",
     "text": [
      "eval.parquet  test.parquet  test4task3.parquet\ttrain\n"
     ]
    }
   ],
   "source": [
    "! ls {ranker_train_data_dir}"
   ]
  },
  {
   "cell_type": "code",
   "execution_count": 83,
   "id": "0104fdff-becf-42e2-9271-fa769693607f",
   "metadata": {},
   "outputs": [
    {
     "data": {
      "text/plain": [
       "'../data/rank_train_data_task2_v2'"
      ]
     },
     "execution_count": 83,
     "metadata": {},
     "output_type": "execute_result"
    }
   ],
   "source": [
    "ranker_train_data_dir"
   ]
  },
  {
   "cell_type": "code",
   "execution_count": 84,
   "id": "809a077b-64ee-4e0c-b3ef-26dd5a634f67",
   "metadata": {},
   "outputs": [],
   "source": [
    "train_candidates = pl.scan_parquet(os.path.join(ranker_train_data_dir, 'train/' '*.parquet'), n_rows=SAMPLE_NUM)\n",
    "# train_candidates = pl.scan_parquet(os.path.join(ranker_train_data_dir, 'train/' 'part_5.parquet'), n_rows=SAMPLE_NUM)\n",
    "\n",
    "eval_candidates = pl.scan_parquet(os.path.join(ranker_train_data_dir, 'eval.parquet'), n_rows=SAMPLE_NUM)\n"
   ]
  },
  {
   "cell_type": "code",
   "execution_count": 85,
   "id": "25e225b5-72aa-480f-8c0f-3879303cd207",
   "metadata": {},
   "outputs": [],
   "source": [
    "test_candidates = pl.scan_parquet(os.path.join(ranker_train_data_dir, 'test.parquet'), n_rows=SAMPLE_NUM)\n",
    "test4task3_candidates = pl.scan_parquet(os.path.join(ranker_train_data_dir, 'test4task3.parquet'), n_rows=SAMPLE_NUM)"
   ]
  },
  {
   "cell_type": "code",
   "execution_count": 86,
   "id": "606c57a4-9fd6-4669-ab54-6d44fad7a500",
   "metadata": {},
   "outputs": [],
   "source": [
    "# train_candidates.collect().shape"
   ]
  },
  {
   "cell_type": "code",
   "execution_count": 87,
   "id": "0555ac0f-d5f6-4290-8458-fd0cc4672dc6",
   "metadata": {},
   "outputs": [
    {
     "name": "stdout",
     "output_type": "stream",
     "text": [
      "part_1.parquet\t part_14.parquet  part_19.parquet  part_5.parquet\n",
      "part_10.parquet  part_15.parquet  part_2.parquet   part_6.parquet\n",
      "part_11.parquet  part_16.parquet  part_20.parquet  part_7.parquet\n",
      "part_12.parquet  part_17.parquet  part_3.parquet   part_8.parquet\n",
      "part_13.parquet  part_18.parquet  part_4.parquet   part_9.parquet\n"
     ]
    }
   ],
   "source": [
    "! ls {ranker_train_data_dir}/train"
   ]
  },
  {
   "cell_type": "raw",
   "id": "897728e2-9c35-468f-807e-59c25cb1477e",
   "metadata": {},
   "source": []
  },
  {
   "cell_type": "code",
   "execution_count": 88,
   "id": "4bdcbcad-880f-4ed8-bd51-dd2aaa53877f",
   "metadata": {},
   "outputs": [],
   "source": [
    "dic = eval_candidates.schema"
   ]
  },
  {
   "cell_type": "code",
   "execution_count": 89,
   "id": "b3eeb8e4-4731-4d0d-92fc-cbd962b84e3f",
   "metadata": {},
   "outputs": [
    {
     "data": {
      "text/plain": [
       "dict_keys(['session_id', 'next_item_prediction', 'w2v_weight', 'next_item', 'locale', 'prev_length', 'target', 'next_item_weight', 'next_item_cnt', 'next_item_weight_nfi', 'next_item_normalized_weight', 'next_item_weight_co_visit', 'discount_weight', 'following_weight', 'following_discount_weight', 'previous_weight', 'previous_discount_weight', 'last_item_similarity'])"
      ]
     },
     "execution_count": 89,
     "metadata": {},
     "output_type": "execute_result"
    }
   ],
   "source": [
    "dic.keys()"
   ]
  },
  {
   "cell_type": "code",
   "execution_count": 90,
   "id": "41a7e0a1-ae35-42d5-9e76-f10dd75b6093",
   "metadata": {},
   "outputs": [
    {
     "data": {
      "text/plain": [
       "{'session_id': Float64,\n",
       " 'next_item': Utf8,\n",
       " 'next_item_prediction': Utf8,\n",
       " 'target': Float64,\n",
       " 'w2v_weight': Float64,\n",
       " 'locale': Float64,\n",
       " 'prev_length': Float64,\n",
       " 'next_item_weight': Float64,\n",
       " 'next_item_cnt': Float64,\n",
       " 'next_item_weight_nfi': Float32,\n",
       " 'next_item_normalized_weight': Float64,\n",
       " 'next_item_weight_co_visit': Float32,\n",
       " 'discount_weight': Float32,\n",
       " 'following_weight': Float32,\n",
       " 'following_discount_weight': Float32,\n",
       " 'previous_weight': Float32,\n",
       " 'previous_discount_weight': Float32,\n",
       " 'last_item_similarity': Float32}"
      ]
     },
     "execution_count": 90,
     "metadata": {},
     "output_type": "execute_result"
    }
   ],
   "source": [
    "train_candidates.schema"
   ]
  },
  {
   "cell_type": "markdown",
   "id": "ed548a53-924e-4fbf-864c-06cfedc6f9cc",
   "metadata": {
    "tags": []
   },
   "source": [
    "# Ranker "
   ]
  },
  {
   "cell_type": "markdown",
   "id": "0089a10a-3cfc-42fd-ad5a-1b51d7fa35a0",
   "metadata": {
    "tags": []
   },
   "source": [
    "## Train model"
   ]
  },
  {
   "cell_type": "code",
   "execution_count": null,
   "id": "f3586ce2-a4fb-48d6-8635-d771997eaed2",
   "metadata": {},
   "outputs": [],
   "source": []
  },
  {
   "cell_type": "code",
   "execution_count": 91,
   "id": "45c77953-05c4-404e-82e2-daf4ecd137d5",
   "metadata": {},
   "outputs": [],
   "source": [
    "ranker = LGBMRanker(\n",
    "    objective=\"lambdarank\",\n",
    "    metric=\"ndcg\",\n",
    "    boosting_type=\"gbdt\",\n",
    "    n_estimators=estimator, \n",
    "    importance_type='gain',\n",
    "    eval_at=[3]\n",
    ")"
   ]
  },
  {
   "cell_type": "code",
   "execution_count": null,
   "id": "792db200-f119-4826-9fcc-703870de35c0",
   "metadata": {},
   "outputs": [],
   "source": []
  },
  {
   "cell_type": "markdown",
   "id": "ffa2d062-0ad5-43c2-9c92-569c8d11e55f",
   "metadata": {
    "tags": []
   },
   "source": [
    "### eval data for training "
   ]
  },
  {
   "cell_type": "code",
   "execution_count": 92,
   "id": "03ce8699-eacd-4bc1-a576-0e24c756d5b2",
   "metadata": {},
   "outputs": [],
   "source": [
    "# eval_candidates.head().collect()"
   ]
  },
  {
   "cell_type": "code",
   "execution_count": 93,
   "id": "834b8255-0aaa-47ef-8ab8-81edbd7ea824",
   "metadata": {},
   "outputs": [],
   "source": [
    "# train_candidates.collect().shape"
   ]
  },
  {
   "cell_type": "code",
   "execution_count": 94,
   "id": "37c9c213-f377-47e2-a60f-cfe721043f78",
   "metadata": {},
   "outputs": [],
   "source": [
    "# test_candidates.head(3).collect()"
   ]
  },
  {
   "cell_type": "code",
   "execution_count": null,
   "id": "04eee3ac-f091-44c3-acc1-3ff49636ca44",
   "metadata": {},
   "outputs": [],
   "source": []
  },
  {
   "cell_type": "code",
   "execution_count": null,
   "id": "56658fad-50f2-4f7f-a97b-3ff739a087ab",
   "metadata": {},
   "outputs": [],
   "source": []
  },
  {
   "cell_type": "code",
   "execution_count": 95,
   "id": "1873035c-43d0-4c08-b048-e5017dc403b0",
   "metadata": {},
   "outputs": [],
   "source": [
    "train_data_source = 'train' # train or 'eval'\n",
    "\n",
    "if train_data_source == 'eval':\n",
    "    target_df = eval_candidates\n",
    "    negative_sampling = 0.1\n",
    "\n",
    "    cols = ['session_id', 'next_item', 'next_item_prediction', 'target']\n",
    "    sample_pl = target_df.select(cols)\n",
    "    pos = sample_pl.filter(pl.col('target')==1)\n",
    "    neg = (sample_pl\n",
    "               .filter(pl.col('target')==0)\n",
    "          )\n",
    "    neg_original_len = neg.select('session_id').collect().shape[0]\n",
    "    print(f'Original negative num: {neg_original_len}')\n",
    "    neg = neg.groupby('session_id').agg(\n",
    "        pl.all().sample(frac=negative_sampling)\n",
    "        )\n",
    "    neg = neg.explode(neg.columns[1:])\n",
    "    # # print(neg.shape)\n",
    "    # # print(neg.head().collect())\n",
    "    sample_pl = pl.concat([pos, neg], how='vertical')\n",
    "    target_df = sample_pl.join(target_df, how='left', on=cols).collect().sort('session_id').lazy()\n",
    "    del sample_pl\n",
    "else:\n",
    "    target_df = train_candidates\n",
    "    del train_candidates"
   ]
  },
  {
   "cell_type": "markdown",
   "id": "0a4305b1-62ce-46f8-b424-6e8949bc1640",
   "metadata": {},
   "source": [
    "### Train "
   ]
  },
  {
   "cell_type": "code",
   "execution_count": 96,
   "id": "4c0169ac-77ee-40a9-8d5f-cf119a1560ea",
   "metadata": {},
   "outputs": [],
   "source": [
    "# target_df.schema"
   ]
  },
  {
   "cell_type": "code",
   "execution_count": null,
   "id": "5f12a18f-f088-473a-8f7f-87c4a12e8d96",
   "metadata": {},
   "outputs": [],
   "source": []
  },
  {
   "cell_type": "code",
   "execution_count": 97,
   "id": "d1f36d04-75ed-4d64-b758-239ef3c2a9c5",
   "metadata": {},
   "outputs": [],
   "source": [
    "target_train_candidates = target_df\n",
    "del target_df"
   ]
  },
  {
   "cell_type": "code",
   "execution_count": 98,
   "id": "0c41f293-fccf-4b16-820c-49be47723a89",
   "metadata": {},
   "outputs": [],
   "source": [
    "# target_train_candidates.head().collect()"
   ]
  },
  {
   "cell_type": "code",
   "execution_count": 99,
   "id": "4ef72cf6-08d2-4722-996c-469c4558433d",
   "metadata": {},
   "outputs": [],
   "source": [
    "# session_features.head().collect()"
   ]
  },
  {
   "cell_type": "code",
   "execution_count": 100,
   "id": "bca4b8cd-36e1-48ec-9a57-d954e02e6dd7",
   "metadata": {},
   "outputs": [],
   "source": [
    "# product_pl.head().collect()"
   ]
  },
  {
   "cell_type": "code",
   "execution_count": 101,
   "id": "cdc7cda2-d3f1-4e39-8a5b-49caf107030c",
   "metadata": {},
   "outputs": [],
   "source": [
    "# product_pl.head().collect()"
   ]
  },
  {
   "cell_type": "code",
   "execution_count": 102,
   "id": "f8cb5011-5bef-43b1-91cd-7b48067d4931",
   "metadata": {},
   "outputs": [],
   "source": [
    "# session_features.schema"
   ]
  },
  {
   "cell_type": "code",
   "execution_count": 103,
   "id": "c339076c-e43a-49d7-9c4d-816ebaa20cc7",
   "metadata": {},
   "outputs": [],
   "source": [
    "# target_train_candidates"
   ]
  },
  {
   "cell_type": "code",
   "execution_count": null,
   "id": "ca67cd65-1c87-4532-b5ea-4c0f538178ef",
   "metadata": {},
   "outputs": [],
   "source": []
  },
  {
   "cell_type": "code",
   "execution_count": null,
   "id": "9c879f62-0829-4314-b1e6-75bc095c42db",
   "metadata": {},
   "outputs": [],
   "source": []
  },
  {
   "cell_type": "code",
   "execution_count": 104,
   "id": "8309419d-c022-4c03-b10c-7a69cc86392d",
   "metadata": {},
   "outputs": [],
   "source": [
    "# data_pl = target_train_candidates"
   ]
  },
  {
   "cell_type": "code",
   "execution_count": 105,
   "id": "396f6b4b-4693-4cb3-becd-5b9c55ac286f",
   "metadata": {},
   "outputs": [],
   "source": [
    "# data_pl.select('locale').collect()"
   ]
  },
  {
   "cell_type": "code",
   "execution_count": 106,
   "id": "4daf7d5c-0f48-42a9-a166-fb7bfa193e83",
   "metadata": {},
   "outputs": [],
   "source": [
    "# data_pl.schema"
   ]
  },
  {
   "cell_type": "code",
   "execution_count": 107,
   "id": "cdba4333-bdd0-49f6-9b2b-a4b82b389ecd",
   "metadata": {},
   "outputs": [],
   "source": [
    "# session_features.schema"
   ]
  },
  {
   "cell_type": "code",
   "execution_count": 108,
   "id": "03f98367-f0e6-4162-a39f-9176a14a27b7",
   "metadata": {},
   "outputs": [],
   "source": [
    "# session_join_keys = ['session_id']\n",
    "# session_fea_cols = ['mean_price', 'last_price', 'min_price', 'max_price']\n",
    "# # data_pl = \n",
    "# (\n",
    "#     data_pl\n",
    "#     .with_columns(\n",
    "#         pl.col('session_id').cast(pl.Int64)\n",
    "#     )\n",
    "#     .join(session_features.select(session_join_keys+session_fea_cols+['locale']),\n",
    "#                                 how='left', on=session_join_keys, suffix='_str')\n",
    "#         .join(product_pl.select(['id', 'locale', 'price']), how='left', right_on=['id', 'locale']\n",
    "#              , left_on=['next_item_prediction', 'locale_str'])\n",
    "#         .with_columns(\n",
    "#           pl.col('price').truediv(pl.col('mean_price')).alias('price_mean_norm')\n",
    "#           , pl.col('price').truediv(pl.col('last_price')).alias('price_last_norm')\n",
    "#           , pl.col('price').truediv(pl.col('min_price')).alias('price_min_norm')\n",
    "#           , pl.col('price').truediv(pl.col('max_price')).alias('price_max_norm')\n",
    "#           # , pl.when(pl.col('min_price')==pl.col('max_price')).then(1).otherwise((pl.col('price')-pl.col('min_price'))/(pl.col('min_price')-pl.col('max_price'))).alias('price_norm')\n",
    "#         )\n",
    "#         .select(\n",
    "#             pl.all().exclude(session_fea_cols+['locale_str', 'price'])\n",
    "#         )\n",
    "\n",
    "# ).head().collect()#.select(['session_id','next_item_prediction', 'locale_str'])"
   ]
  },
  {
   "cell_type": "code",
   "execution_count": 109,
   "id": "06c0865c-442d-4e06-a1c7-c49b68f35208",
   "metadata": {},
   "outputs": [],
   "source": [
    "# session_features.collect().shape"
   ]
  },
  {
   "cell_type": "code",
   "execution_count": 110,
   "id": "d77cc5b0-3526-4636-83f6-e2d4addf16bf",
   "metadata": {},
   "outputs": [],
   "source": [
    "target_train_candidates = get_additional_feature(data_pl=target_train_candidates)"
   ]
  },
  {
   "cell_type": "code",
   "execution_count": 111,
   "id": "76d4bb67-7ed4-4dfe-8bfc-2df7288d6a1a",
   "metadata": {},
   "outputs": [
    {
     "data": {
      "text/plain": [
       "dict_keys(['session_id', 'next_item', 'next_item_prediction', 'target', 'w2v_weight', 'locale', 'prev_length', 'next_item_weight', 'next_item_cnt', 'next_item_weight_nfi', 'next_item_normalized_weight', 'next_item_weight_co_visit', 'discount_weight', 'following_weight', 'following_discount_weight', 'previous_weight', 'previous_discount_weight', 'last_item_similarity', 'item_cnt', 'pos_weighted_cnt', 'avg_pos', 'median_pos', 'price_mean_norm', 'price_last_norm', 'price_min_norm', 'price_max_norm'])"
      ]
     },
     "execution_count": 111,
     "metadata": {},
     "output_type": "execute_result"
    }
   ],
   "source": [
    "target_train_candidates.schema.keys()"
   ]
  },
  {
   "cell_type": "code",
   "execution_count": 112,
   "id": "103cf449-db1d-44e1-b8d6-8b451c6b96fc",
   "metadata": {},
   "outputs": [],
   "source": [
    "train_session_id = target_train_candidates.select(pl.col('session_id')).unique().collect()\n",
    "\n",
    "session_num = train_session_id.shape[0]"
   ]
  },
  {
   "cell_type": "code",
   "execution_count": null,
   "id": "a8c56845-14ec-4124-a676-b2f9006adc21",
   "metadata": {},
   "outputs": [],
   "source": []
  },
  {
   "cell_type": "code",
   "execution_count": 113,
   "id": "3d152ff1-7e76-48ca-b36d-1eeac2abedb8",
   "metadata": {},
   "outputs": [],
   "source": [
    "random_pl = train_session_id.with_columns(\n",
    "        pl.Series(name='random', values=np.random.uniform(size=session_num))\n",
    ")"
   ]
  },
  {
   "cell_type": "code",
   "execution_count": 114,
   "id": "3d9ff66e-6607-4602-8ad3-6b2d7d5a430a",
   "metadata": {},
   "outputs": [],
   "source": [
    "train_candidates = target_train_candidates.join(random_pl.lazy(), how='left', on='session_id')\n",
    "\n",
    "sampled_train_candidates = train_candidates.filter(pl.col('random')>eval_frac).sort('session_id', descending=False).collect()\n",
    "sampled_eval_candidates = train_candidates.filter(pl.col('random')<=eval_frac).sort('session_id', descending=False).collect()"
   ]
  },
  {
   "cell_type": "code",
   "execution_count": 115,
   "id": "0e8b2b6d-bb00-4587-9329-84a7867ba37a",
   "metadata": {},
   "outputs": [
    {
     "name": "stdout",
     "output_type": "stream",
     "text": [
      "Train\n",
      "(1424875, 27)\n",
      "shape: (1, 1)\n",
      "┌──────────┐\n",
      "│ target   │\n",
      "│ ---      │\n",
      "│ f64      │\n",
      "╞══════════╡\n",
      "│ 0.065527 │\n",
      "└──────────┘\n",
      "\n",
      "\n",
      "Eval\n",
      "(157600, 27)\n",
      "shape: (1, 1)\n",
      "┌──────────┐\n",
      "│ target   │\n",
      "│ ---      │\n",
      "│ f64      │\n",
      "╞══════════╡\n",
      "│ 0.065241 │\n",
      "└──────────┘\n"
     ]
    }
   ],
   "source": [
    "print('Train')\n",
    "print(sampled_train_candidates.shape)\n",
    "print(sampled_train_candidates.select('target').mean())\n",
    "print()\n",
    "print()\n",
    "print('Eval')\n",
    "print(sampled_eval_candidates.shape)\n",
    "print(sampled_eval_candidates.select('target').mean())"
   ]
  },
  {
   "cell_type": "code",
   "execution_count": 116,
   "id": "154851ff-3a0d-4082-aacb-da66bc332953",
   "metadata": {},
   "outputs": [],
   "source": [
    "# sampled_train_candidates.head()"
   ]
  },
  {
   "cell_type": "markdown",
   "id": "637e7a9e-eba7-47f5-b5bf-09054f88398a",
   "metadata": {},
   "source": [
    "<!-- no positive items ->  -->"
   ]
  },
  {
   "cell_type": "code",
   "execution_count": 117,
   "id": "461cc375-1569-4628-aba3-c4680b00ed34",
   "metadata": {},
   "outputs": [],
   "source": [
    "# sampled_train_candidates.filter(pl.col('session_id')==0).sort('target', descending=True)"
   ]
  },
  {
   "cell_type": "code",
   "execution_count": 118,
   "id": "cbf29551-bdb7-400c-b723-42df82f89c2a",
   "metadata": {},
   "outputs": [],
   "source": [
    "# sampled_train_candidates.filter(pl.col('session_id')==5).sort('target', descending=True)"
   ]
  },
  {
   "cell_type": "code",
   "execution_count": 119,
   "id": "704d4b0d-ead2-4a0a-81fe-3144faf85e51",
   "metadata": {},
   "outputs": [],
   "source": [
    "# sampled_train_candidates.head()"
   ]
  },
  {
   "cell_type": "code",
   "execution_count": 120,
   "id": "f6e46d9d-81b9-46ce-a464-5c07f3e8b6f0",
   "metadata": {},
   "outputs": [],
   "source": [
    "# sampled_train_candidates.groupby('session_id').agg(pl.count())"
   ]
  },
  {
   "cell_type": "code",
   "execution_count": 121,
   "id": "b9553bb1-2484-4216-a7c5-c75420d4c0e4",
   "metadata": {},
   "outputs": [],
   "source": [
    "session_lengths_train = sampled_train_candidates.groupby('session_id').agg(pl.count()).select('count').to_pandas()['count'].values.tolist()\n",
    "session_lengths_eval = sampled_eval_candidates.groupby('session_id').agg(pl.count()).select('count').to_pandas()['count'].values.tolist()"
   ]
  },
  {
   "cell_type": "code",
   "execution_count": 122,
   "id": "91536d1e-ab79-4c13-97dc-b25a4d91e9b6",
   "metadata": {},
   "outputs": [
    {
     "data": {
      "text/html": [
       "<div>\n",
       "<style scoped>\n",
       "    .dataframe tbody tr th:only-of-type {\n",
       "        vertical-align: middle;\n",
       "    }\n",
       "\n",
       "    .dataframe tbody tr th {\n",
       "        vertical-align: top;\n",
       "    }\n",
       "\n",
       "    .dataframe thead th {\n",
       "        text-align: right;\n",
       "    }\n",
       "</style>\n",
       "<table border=\"1\" class=\"dataframe\">\n",
       "  <thead>\n",
       "    <tr style=\"text-align: right;\">\n",
       "      <th></th>\n",
       "      <th>0</th>\n",
       "    </tr>\n",
       "  </thead>\n",
       "  <tbody>\n",
       "    <tr>\n",
       "      <th>count</th>\n",
       "      <td>93368.000000</td>\n",
       "    </tr>\n",
       "    <tr>\n",
       "      <th>mean</th>\n",
       "      <td>15.260850</td>\n",
       "    </tr>\n",
       "    <tr>\n",
       "      <th>std</th>\n",
       "      <td>6.748718</td>\n",
       "    </tr>\n",
       "    <tr>\n",
       "      <th>min</th>\n",
       "      <td>2.000000</td>\n",
       "    </tr>\n",
       "    <tr>\n",
       "      <th>0%</th>\n",
       "      <td>2.000000</td>\n",
       "    </tr>\n",
       "    <tr>\n",
       "      <th>5%</th>\n",
       "      <td>10.000000</td>\n",
       "    </tr>\n",
       "    <tr>\n",
       "      <th>10%</th>\n",
       "      <td>11.000000</td>\n",
       "    </tr>\n",
       "    <tr>\n",
       "      <th>15%</th>\n",
       "      <td>11.000000</td>\n",
       "    </tr>\n",
       "    <tr>\n",
       "      <th>20%</th>\n",
       "      <td>11.000000</td>\n",
       "    </tr>\n",
       "    <tr>\n",
       "      <th>25%</th>\n",
       "      <td>11.000000</td>\n",
       "    </tr>\n",
       "    <tr>\n",
       "      <th>30%</th>\n",
       "      <td>12.000000</td>\n",
       "    </tr>\n",
       "    <tr>\n",
       "      <th>35%</th>\n",
       "      <td>12.000000</td>\n",
       "    </tr>\n",
       "    <tr>\n",
       "      <th>40%</th>\n",
       "      <td>12.000000</td>\n",
       "    </tr>\n",
       "    <tr>\n",
       "      <th>45%</th>\n",
       "      <td>13.000000</td>\n",
       "    </tr>\n",
       "    <tr>\n",
       "      <th>50%</th>\n",
       "      <td>13.000000</td>\n",
       "    </tr>\n",
       "    <tr>\n",
       "      <th>55%</th>\n",
       "      <td>14.000000</td>\n",
       "    </tr>\n",
       "    <tr>\n",
       "      <th>60%</th>\n",
       "      <td>14.000000</td>\n",
       "    </tr>\n",
       "    <tr>\n",
       "      <th>65%</th>\n",
       "      <td>15.000000</td>\n",
       "    </tr>\n",
       "    <tr>\n",
       "      <th>70%</th>\n",
       "      <td>16.000000</td>\n",
       "    </tr>\n",
       "    <tr>\n",
       "      <th>75%</th>\n",
       "      <td>17.000000</td>\n",
       "    </tr>\n",
       "    <tr>\n",
       "      <th>80%</th>\n",
       "      <td>19.000000</td>\n",
       "    </tr>\n",
       "    <tr>\n",
       "      <th>85%</th>\n",
       "      <td>21.000000</td>\n",
       "    </tr>\n",
       "    <tr>\n",
       "      <th>90%</th>\n",
       "      <td>24.000000</td>\n",
       "    </tr>\n",
       "    <tr>\n",
       "      <th>95%</th>\n",
       "      <td>30.000000</td>\n",
       "    </tr>\n",
       "    <tr>\n",
       "      <th>max</th>\n",
       "      <td>43.000000</td>\n",
       "    </tr>\n",
       "  </tbody>\n",
       "</table>\n",
       "</div>"
      ],
      "text/plain": [
       "                  0\n",
       "count  93368.000000\n",
       "mean      15.260850\n",
       "std        6.748718\n",
       "min        2.000000\n",
       "0%         2.000000\n",
       "5%        10.000000\n",
       "10%       11.000000\n",
       "15%       11.000000\n",
       "20%       11.000000\n",
       "25%       11.000000\n",
       "30%       12.000000\n",
       "35%       12.000000\n",
       "40%       12.000000\n",
       "45%       13.000000\n",
       "50%       13.000000\n",
       "55%       14.000000\n",
       "60%       14.000000\n",
       "65%       15.000000\n",
       "70%       16.000000\n",
       "75%       17.000000\n",
       "80%       19.000000\n",
       "85%       21.000000\n",
       "90%       24.000000\n",
       "95%       30.000000\n",
       "max       43.000000"
      ]
     },
     "execution_count": 122,
     "metadata": {},
     "output_type": "execute_result"
    }
   ],
   "source": [
    "pd.DataFrame(session_lengths_train).describe([0.05*i for i in range(20)])"
   ]
  },
  {
   "cell_type": "code",
   "execution_count": 123,
   "id": "41307dc2-93e8-4dfb-85b4-0f227beb412e",
   "metadata": {},
   "outputs": [
    {
     "data": {
      "text/html": [
       "<div>\n",
       "<style scoped>\n",
       "    .dataframe tbody tr th:only-of-type {\n",
       "        vertical-align: middle;\n",
       "    }\n",
       "\n",
       "    .dataframe tbody tr th {\n",
       "        vertical-align: top;\n",
       "    }\n",
       "\n",
       "    .dataframe thead th {\n",
       "        text-align: right;\n",
       "    }\n",
       "</style>\n",
       "<table border=\"1\" class=\"dataframe\">\n",
       "  <thead>\n",
       "    <tr style=\"text-align: right;\">\n",
       "      <th></th>\n",
       "      <th>0</th>\n",
       "    </tr>\n",
       "  </thead>\n",
       "  <tbody>\n",
       "    <tr>\n",
       "      <th>count</th>\n",
       "      <td>10282.000000</td>\n",
       "    </tr>\n",
       "    <tr>\n",
       "      <th>mean</th>\n",
       "      <td>15.327757</td>\n",
       "    </tr>\n",
       "    <tr>\n",
       "      <th>std</th>\n",
       "      <td>6.777262</td>\n",
       "    </tr>\n",
       "    <tr>\n",
       "      <th>min</th>\n",
       "      <td>2.000000</td>\n",
       "    </tr>\n",
       "    <tr>\n",
       "      <th>0%</th>\n",
       "      <td>2.000000</td>\n",
       "    </tr>\n",
       "    <tr>\n",
       "      <th>5%</th>\n",
       "      <td>10.000000</td>\n",
       "    </tr>\n",
       "    <tr>\n",
       "      <th>10%</th>\n",
       "      <td>11.000000</td>\n",
       "    </tr>\n",
       "    <tr>\n",
       "      <th>15%</th>\n",
       "      <td>11.000000</td>\n",
       "    </tr>\n",
       "    <tr>\n",
       "      <th>20%</th>\n",
       "      <td>11.000000</td>\n",
       "    </tr>\n",
       "    <tr>\n",
       "      <th>25%</th>\n",
       "      <td>11.000000</td>\n",
       "    </tr>\n",
       "    <tr>\n",
       "      <th>30%</th>\n",
       "      <td>12.000000</td>\n",
       "    </tr>\n",
       "    <tr>\n",
       "      <th>35%</th>\n",
       "      <td>12.000000</td>\n",
       "    </tr>\n",
       "    <tr>\n",
       "      <th>40%</th>\n",
       "      <td>12.000000</td>\n",
       "    </tr>\n",
       "    <tr>\n",
       "      <th>45%</th>\n",
       "      <td>13.000000</td>\n",
       "    </tr>\n",
       "    <tr>\n",
       "      <th>50%</th>\n",
       "      <td>13.000000</td>\n",
       "    </tr>\n",
       "    <tr>\n",
       "      <th>55%</th>\n",
       "      <td>14.000000</td>\n",
       "    </tr>\n",
       "    <tr>\n",
       "      <th>60%</th>\n",
       "      <td>14.000000</td>\n",
       "    </tr>\n",
       "    <tr>\n",
       "      <th>65%</th>\n",
       "      <td>15.000000</td>\n",
       "    </tr>\n",
       "    <tr>\n",
       "      <th>70%</th>\n",
       "      <td>16.000000</td>\n",
       "    </tr>\n",
       "    <tr>\n",
       "      <th>75%</th>\n",
       "      <td>17.000000</td>\n",
       "    </tr>\n",
       "    <tr>\n",
       "      <th>80%</th>\n",
       "      <td>19.000000</td>\n",
       "    </tr>\n",
       "    <tr>\n",
       "      <th>85%</th>\n",
       "      <td>21.000000</td>\n",
       "    </tr>\n",
       "    <tr>\n",
       "      <th>90%</th>\n",
       "      <td>25.000000</td>\n",
       "    </tr>\n",
       "    <tr>\n",
       "      <th>95%</th>\n",
       "      <td>31.000000</td>\n",
       "    </tr>\n",
       "    <tr>\n",
       "      <th>max</th>\n",
       "      <td>43.000000</td>\n",
       "    </tr>\n",
       "  </tbody>\n",
       "</table>\n",
       "</div>"
      ],
      "text/plain": [
       "                  0\n",
       "count  10282.000000\n",
       "mean      15.327757\n",
       "std        6.777262\n",
       "min        2.000000\n",
       "0%         2.000000\n",
       "5%        10.000000\n",
       "10%       11.000000\n",
       "15%       11.000000\n",
       "20%       11.000000\n",
       "25%       11.000000\n",
       "30%       12.000000\n",
       "35%       12.000000\n",
       "40%       12.000000\n",
       "45%       13.000000\n",
       "50%       13.000000\n",
       "55%       14.000000\n",
       "60%       14.000000\n",
       "65%       15.000000\n",
       "70%       16.000000\n",
       "75%       17.000000\n",
       "80%       19.000000\n",
       "85%       21.000000\n",
       "90%       25.000000\n",
       "95%       31.000000\n",
       "max       43.000000"
      ]
     },
     "execution_count": 123,
     "metadata": {},
     "output_type": "execute_result"
    }
   ],
   "source": [
    "pd.DataFrame(session_lengths_eval).describe([0.05*i for i in range(20)])"
   ]
  },
  {
   "cell_type": "code",
   "execution_count": 124,
   "id": "c1359935-744e-4097-a404-513d6202b7da",
   "metadata": {},
   "outputs": [
    {
     "name": "stderr",
     "output_type": "stream",
     "text": [
      "/home/jupyter/.cache/pypoetry/virtualenvs/kdd-2023-KklMGVX0-py3.8/lib/python3.8/site-packages/lightgbm/sklearn.py:621: UserWarning: Found 'eval_at' in params. Will use it instead of 'eval_at' argument\n",
      "  _log_warning(f\"Found '{alias}' in params. Will use it instead of 'eval_at' argument\")\n",
      "/home/jupyter/.cache/pypoetry/virtualenvs/kdd-2023-KklMGVX0-py3.8/lib/python3.8/site-packages/lightgbm/sklearn.py:726: UserWarning: 'early_stopping_rounds' argument is deprecated and will be removed in a future release of LightGBM. Pass 'early_stopping()' callback via 'callbacks' argument instead.\n",
      "  _log_warning(\"'early_stopping_rounds' argument is deprecated and will be removed in a future release of LightGBM. \"\n",
      "/home/jupyter/.cache/pypoetry/virtualenvs/kdd-2023-KklMGVX0-py3.8/lib/python3.8/site-packages/lightgbm/basic.py:2065: UserWarning: Using categorical_feature in Dataset.\n",
      "  _log_warning('Using categorical_feature in Dataset.')\n",
      "/home/jupyter/.cache/pypoetry/virtualenvs/kdd-2023-KklMGVX0-py3.8/lib/python3.8/site-packages/lightgbm/basic.py:2068: UserWarning: categorical_feature in Dataset is overridden.\n",
      "New categorical_feature is ['locale']\n",
      "  _log_warning('categorical_feature in Dataset is overridden.\\n'\n",
      "/home/jupyter/.cache/pypoetry/virtualenvs/kdd-2023-KklMGVX0-py3.8/lib/python3.8/site-packages/lightgbm/basic.py:1780: UserWarning: Overriding the parameters from Reference Dataset.\n",
      "  _log_warning('Overriding the parameters from Reference Dataset.')\n",
      "/home/jupyter/.cache/pypoetry/virtualenvs/kdd-2023-KklMGVX0-py3.8/lib/python3.8/site-packages/lightgbm/basic.py:1513: UserWarning: categorical_column in param dict is overridden.\n",
      "  _log_warning(f'{cat_alias} in param dict is overridden.')\n",
      "/home/jupyter/.cache/pypoetry/virtualenvs/kdd-2023-KklMGVX0-py3.8/lib/python3.8/site-packages/lightgbm/basic.py:1780: UserWarning: Overriding the parameters from Reference Dataset.\n",
      "  _log_warning('Overriding the parameters from Reference Dataset.')\n",
      "/home/jupyter/.cache/pypoetry/virtualenvs/kdd-2023-KklMGVX0-py3.8/lib/python3.8/site-packages/lightgbm/basic.py:1513: UserWarning: categorical_column in param dict is overridden.\n",
      "  _log_warning(f'{cat_alias} in param dict is overridden.')\n"
     ]
    },
    {
     "name": "stdout",
     "output_type": "stream",
     "text": [
      "[1]\tvalid_0's ndcg@3: 0.848282\tvalid_1's ndcg@3: 0.850905\n",
      "[2]\tvalid_0's ndcg@3: 0.834972\tvalid_1's ndcg@3: 0.83783\n",
      "[3]\tvalid_0's ndcg@3: 0.830569\tvalid_1's ndcg@3: 0.833816\n",
      "[4]\tvalid_0's ndcg@3: 0.829296\tvalid_1's ndcg@3: 0.832866\n",
      "[5]\tvalid_0's ndcg@3: 0.828288\tvalid_1's ndcg@3: 0.830956\n",
      "[6]\tvalid_0's ndcg@3: 0.827915\tvalid_1's ndcg@3: 0.830247\n",
      "[7]\tvalid_0's ndcg@3: 0.827939\tvalid_1's ndcg@3: 0.829559\n",
      "[8]\tvalid_0's ndcg@3: 0.828007\tvalid_1's ndcg@3: 0.829761\n",
      "[9]\tvalid_0's ndcg@3: 0.827989\tvalid_1's ndcg@3: 0.830624\n",
      "[10]\tvalid_0's ndcg@3: 0.828309\tvalid_1's ndcg@3: 0.830498\n",
      "[11]\tvalid_0's ndcg@3: 0.828414\tvalid_1's ndcg@3: 0.830377\n"
     ]
    }
   ],
   "source": [
    "ranker = ranker.fit(\n",
    "    X=sampled_train_candidates[feature_cols].to_pandas(),\n",
    "    y=sampled_train_candidates[target].to_pandas(),\n",
    "    group=session_lengths_train,\n",
    "    eval_set=[(sampled_train_candidates[feature_cols].to_pandas(), sampled_train_candidates[target].to_pandas()),\n",
    "           (sampled_eval_candidates[feature_cols].to_pandas(), sampled_eval_candidates[target].to_pandas())\n",
    "             ],\n",
    "    eval_group=[session_lengths_train,\n",
    "                session_lengths_eval\n",
    "               ]\n",
    "    , categorical_feature=categorical_feature\n",
    "    , early_stopping_rounds=early_stop_rounds\n",
    "    # , callbacks=[early_stopping(early_stop_rounds)]\n",
    ")"
   ]
  },
  {
   "cell_type": "code",
   "execution_count": 125,
   "id": "ab945c39-35af-411e-973b-1a8f10128d8d",
   "metadata": {},
   "outputs": [
    {
     "name": "stdout",
     "output_type": "stream",
     "text": [
      "0.2667052894830704\n"
     ]
    }
   ],
   "source": [
    "print(sampled_train_candidates.estimated_size(unit='gb'))\n",
    "del sampled_train_candidates"
   ]
  },
  {
   "cell_type": "code",
   "execution_count": 126,
   "id": "51330d86-54e9-4bf7-86f7-e0267f758334",
   "metadata": {},
   "outputs": [
    {
     "name": "stdout",
     "output_type": "stream",
     "text": [
      "0.029499399475753307\n"
     ]
    }
   ],
   "source": [
    "print(sampled_eval_candidates.estimated_size(unit='gb'))\n",
    "del sampled_eval_candidates"
   ]
  },
  {
   "cell_type": "markdown",
   "id": "8860953a-3893-4b28-a1f1-83f112d8a6e5",
   "metadata": {
    "tags": []
   },
   "source": [
    "## Save model "
   ]
  },
  {
   "cell_type": "code",
   "execution_count": 127,
   "id": "382d1fd4-f3cd-4c48-ae68-0e3536b21501",
   "metadata": {},
   "outputs": [
    {
     "data": {
      "text/plain": [
       "False"
      ]
     },
     "execution_count": 127,
     "metadata": {},
     "output_type": "execute_result"
    }
   ],
   "source": [
    "debug"
   ]
  },
  {
   "cell_type": "code",
   "execution_count": 128,
   "id": "b65bebd2-0169-4504-a8a7-299202654b5d",
   "metadata": {},
   "outputs": [
    {
     "data": {
      "text/plain": [
       "'../model_training/task2_rank_lgbm_v2'"
      ]
     },
     "execution_count": 128,
     "metadata": {},
     "output_type": "execute_result"
    }
   ],
   "source": [
    "rank_model_dir"
   ]
  },
  {
   "cell_type": "code",
   "execution_count": 129,
   "id": "07ed68af-07cd-42dd-98cd-670f4cfffc9c",
   "metadata": {},
   "outputs": [],
   "source": [
    "if not debug:\n",
    "    joblib.dump(\n",
    "            value=ranker,\n",
    "            filename=os.path.join(rank_model_dir, 'model.pkl')\n",
    "    )"
   ]
  },
  {
   "cell_type": "code",
   "execution_count": 130,
   "id": "6f398ded-7ecc-4e20-bfad-7b094ddd0f93",
   "metadata": {},
   "outputs": [],
   "source": [
    "if not debug:\n",
    "    del ranker"
   ]
  },
  {
   "cell_type": "markdown",
   "id": "20e5c013-9463-4fee-8444-964885196103",
   "metadata": {
    "tags": []
   },
   "source": [
    "## Load Model "
   ]
  },
  {
   "cell_type": "code",
   "execution_count": null,
   "id": "6b348b18-ca5b-4534-b7bd-c1c3dc16be33",
   "metadata": {},
   "outputs": [],
   "source": []
  },
  {
   "cell_type": "code",
   "execution_count": 131,
   "id": "6ad49204-0949-4e62-8d1d-ee22853a71a3",
   "metadata": {},
   "outputs": [
    {
     "data": {
      "text/plain": [
       "False"
      ]
     },
     "execution_count": 131,
     "metadata": {},
     "output_type": "execute_result"
    }
   ],
   "source": [
    "debug"
   ]
  },
  {
   "cell_type": "code",
   "execution_count": 132,
   "id": "d3bad696-190d-42bf-ad7d-f8ecc7b5f80d",
   "metadata": {},
   "outputs": [
    {
     "data": {
      "text/html": [
       "<style>#sk-container-id-2 {color: black;background-color: white;}#sk-container-id-2 pre{padding: 0;}#sk-container-id-2 div.sk-toggleable {background-color: white;}#sk-container-id-2 label.sk-toggleable__label {cursor: pointer;display: block;width: 100%;margin-bottom: 0;padding: 0.3em;box-sizing: border-box;text-align: center;}#sk-container-id-2 label.sk-toggleable__label-arrow:before {content: \"▸\";float: left;margin-right: 0.25em;color: #696969;}#sk-container-id-2 label.sk-toggleable__label-arrow:hover:before {color: black;}#sk-container-id-2 div.sk-estimator:hover label.sk-toggleable__label-arrow:before {color: black;}#sk-container-id-2 div.sk-toggleable__content {max-height: 0;max-width: 0;overflow: hidden;text-align: left;background-color: #f0f8ff;}#sk-container-id-2 div.sk-toggleable__content pre {margin: 0.2em;color: black;border-radius: 0.25em;background-color: #f0f8ff;}#sk-container-id-2 input.sk-toggleable__control:checked~div.sk-toggleable__content {max-height: 200px;max-width: 100%;overflow: auto;}#sk-container-id-2 input.sk-toggleable__control:checked~label.sk-toggleable__label-arrow:before {content: \"▾\";}#sk-container-id-2 div.sk-estimator input.sk-toggleable__control:checked~label.sk-toggleable__label {background-color: #d4ebff;}#sk-container-id-2 div.sk-label input.sk-toggleable__control:checked~label.sk-toggleable__label {background-color: #d4ebff;}#sk-container-id-2 input.sk-hidden--visually {border: 0;clip: rect(1px 1px 1px 1px);clip: rect(1px, 1px, 1px, 1px);height: 1px;margin: -1px;overflow: hidden;padding: 0;position: absolute;width: 1px;}#sk-container-id-2 div.sk-estimator {font-family: monospace;background-color: #f0f8ff;border: 1px dotted black;border-radius: 0.25em;box-sizing: border-box;margin-bottom: 0.5em;}#sk-container-id-2 div.sk-estimator:hover {background-color: #d4ebff;}#sk-container-id-2 div.sk-parallel-item::after {content: \"\";width: 100%;border-bottom: 1px solid gray;flex-grow: 1;}#sk-container-id-2 div.sk-label:hover label.sk-toggleable__label {background-color: #d4ebff;}#sk-container-id-2 div.sk-serial::before {content: \"\";position: absolute;border-left: 1px solid gray;box-sizing: border-box;top: 0;bottom: 0;left: 50%;z-index: 0;}#sk-container-id-2 div.sk-serial {display: flex;flex-direction: column;align-items: center;background-color: white;padding-right: 0.2em;padding-left: 0.2em;position: relative;}#sk-container-id-2 div.sk-item {position: relative;z-index: 1;}#sk-container-id-2 div.sk-parallel {display: flex;align-items: stretch;justify-content: center;background-color: white;position: relative;}#sk-container-id-2 div.sk-item::before, #sk-container-id-2 div.sk-parallel-item::before {content: \"\";position: absolute;border-left: 1px solid gray;box-sizing: border-box;top: 0;bottom: 0;left: 50%;z-index: -1;}#sk-container-id-2 div.sk-parallel-item {display: flex;flex-direction: column;z-index: 1;position: relative;background-color: white;}#sk-container-id-2 div.sk-parallel-item:first-child::after {align-self: flex-end;width: 50%;}#sk-container-id-2 div.sk-parallel-item:last-child::after {align-self: flex-start;width: 50%;}#sk-container-id-2 div.sk-parallel-item:only-child::after {width: 0;}#sk-container-id-2 div.sk-dashed-wrapped {border: 1px dashed gray;margin: 0 0.4em 0.5em 0.4em;box-sizing: border-box;padding-bottom: 0.4em;background-color: white;}#sk-container-id-2 div.sk-label label {font-family: monospace;font-weight: bold;display: inline-block;line-height: 1.2em;}#sk-container-id-2 div.sk-label-container {text-align: center;}#sk-container-id-2 div.sk-container {/* jupyter's `normalize.less` sets `[hidden] { display: none; }` but bootstrap.min.css set `[hidden] { display: none !important; }` so we also need the `!important` here to be able to override the default hidden behavior on the sphinx rendered scikit-learn.org. See: https://github.com/scikit-learn/scikit-learn/issues/21755 */display: inline-block !important;position: relative;}#sk-container-id-2 div.sk-text-repr-fallback {display: none;}</style><div id=\"sk-container-id-2\" class=\"sk-top-container\"><div class=\"sk-text-repr-fallback\"><pre>LGBMRanker(eval_at=[3], importance_type=&#x27;gain&#x27;, metric=&#x27;ndcg&#x27;,\n",
       "           n_estimators=1000, objective=&#x27;lambdarank&#x27;)</pre><b>In a Jupyter environment, please rerun this cell to show the HTML representation or trust the notebook. <br />On GitHub, the HTML representation is unable to render, please try loading this page with nbviewer.org.</b></div><div class=\"sk-container\" hidden><div class=\"sk-item\"><div class=\"sk-estimator sk-toggleable\"><input class=\"sk-toggleable__control sk-hidden--visually\" id=\"sk-estimator-id-2\" type=\"checkbox\" checked><label for=\"sk-estimator-id-2\" class=\"sk-toggleable__label sk-toggleable__label-arrow\">LGBMRanker</label><div class=\"sk-toggleable__content\"><pre>LGBMRanker(eval_at=[3], importance_type=&#x27;gain&#x27;, metric=&#x27;ndcg&#x27;,\n",
       "           n_estimators=1000, objective=&#x27;lambdarank&#x27;)</pre></div></div></div></div></div>"
      ],
      "text/plain": [
       "LGBMRanker(eval_at=[3], importance_type='gain', metric='ndcg',\n",
       "           n_estimators=1000, objective='lambdarank')"
      ]
     },
     "execution_count": 132,
     "metadata": {},
     "output_type": "execute_result"
    }
   ],
   "source": [
    "if not debug:\n",
    "    ranker = joblib.load(os.path.join(rank_model_dir, 'model.pkl'))\n",
    "ranker"
   ]
  },
  {
   "cell_type": "markdown",
   "id": "b6b81a4e-3275-4503-bab7-6f8cb0ac4841",
   "metadata": {
    "tags": []
   },
   "source": [
    "### Importance "
   ]
  },
  {
   "cell_type": "code",
   "execution_count": 133,
   "id": "7b27a72b-5f92-4a76-ad96-4c0299b3aae4",
   "metadata": {},
   "outputs": [
    {
     "data": {
      "text/html": [
       "<div>\n",
       "<style scoped>\n",
       "    .dataframe tbody tr th:only-of-type {\n",
       "        vertical-align: middle;\n",
       "    }\n",
       "\n",
       "    .dataframe tbody tr th {\n",
       "        vertical-align: top;\n",
       "    }\n",
       "\n",
       "    .dataframe thead th {\n",
       "        text-align: right;\n",
       "    }\n",
       "</style>\n",
       "<table border=\"1\" class=\"dataframe\">\n",
       "  <thead>\n",
       "    <tr style=\"text-align: right;\">\n",
       "      <th></th>\n",
       "      <th>features</th>\n",
       "      <th>importance</th>\n",
       "    </tr>\n",
       "  </thead>\n",
       "  <tbody>\n",
       "    <tr>\n",
       "      <th>12</th>\n",
       "      <td>next_item_normalized_weight</td>\n",
       "      <td>277530.813019</td>\n",
       "    </tr>\n",
       "    <tr>\n",
       "      <th>7</th>\n",
       "      <td>price_mean_norm</td>\n",
       "      <td>63774.749939</td>\n",
       "    </tr>\n",
       "    <tr>\n",
       "      <th>5</th>\n",
       "      <td>last_item_similarity</td>\n",
       "      <td>10895.137848</td>\n",
       "    </tr>\n",
       "    <tr>\n",
       "      <th>13</th>\n",
       "      <td>discount_weight</td>\n",
       "      <td>10731.409607</td>\n",
       "    </tr>\n",
       "    <tr>\n",
       "      <th>17</th>\n",
       "      <td>previous_discount_weight</td>\n",
       "      <td>10358.424759</td>\n",
       "    </tr>\n",
       "    <tr>\n",
       "      <th>10</th>\n",
       "      <td>price_max_norm</td>\n",
       "      <td>2173.659912</td>\n",
       "    </tr>\n",
       "    <tr>\n",
       "      <th>4</th>\n",
       "      <td>w2v_weight</td>\n",
       "      <td>1722.880005</td>\n",
       "    </tr>\n",
       "    <tr>\n",
       "      <th>9</th>\n",
       "      <td>price_min_norm</td>\n",
       "      <td>1054.976959</td>\n",
       "    </tr>\n",
       "    <tr>\n",
       "      <th>8</th>\n",
       "      <td>price_last_norm</td>\n",
       "      <td>490.808990</td>\n",
       "    </tr>\n",
       "    <tr>\n",
       "      <th>11</th>\n",
       "      <td>next_item_cnt</td>\n",
       "      <td>361.186005</td>\n",
       "    </tr>\n",
       "    <tr>\n",
       "      <th>1</th>\n",
       "      <td>next_item_weight_nfi</td>\n",
       "      <td>287.949005</td>\n",
       "    </tr>\n",
       "    <tr>\n",
       "      <th>0</th>\n",
       "      <td>next_item_weight</td>\n",
       "      <td>268.273010</td>\n",
       "    </tr>\n",
       "    <tr>\n",
       "      <th>6</th>\n",
       "      <td>prev_length</td>\n",
       "      <td>0.000000</td>\n",
       "    </tr>\n",
       "    <tr>\n",
       "      <th>3</th>\n",
       "      <td>locale</td>\n",
       "      <td>0.000000</td>\n",
       "    </tr>\n",
       "    <tr>\n",
       "      <th>2</th>\n",
       "      <td>next_item_weight_co_visit</td>\n",
       "      <td>0.000000</td>\n",
       "    </tr>\n",
       "    <tr>\n",
       "      <th>14</th>\n",
       "      <td>following_weight</td>\n",
       "      <td>0.000000</td>\n",
       "    </tr>\n",
       "    <tr>\n",
       "      <th>15</th>\n",
       "      <td>following_discount_weight</td>\n",
       "      <td>0.000000</td>\n",
       "    </tr>\n",
       "    <tr>\n",
       "      <th>16</th>\n",
       "      <td>previous_weight</td>\n",
       "      <td>0.000000</td>\n",
       "    </tr>\n",
       "  </tbody>\n",
       "</table>\n",
       "</div>"
      ],
      "text/plain": [
       "                       features     importance\n",
       "12  next_item_normalized_weight  277530.813019\n",
       "7               price_mean_norm   63774.749939\n",
       "5          last_item_similarity   10895.137848\n",
       "13              discount_weight   10731.409607\n",
       "17     previous_discount_weight   10358.424759\n",
       "10               price_max_norm    2173.659912\n",
       "4                    w2v_weight    1722.880005\n",
       "9                price_min_norm    1054.976959\n",
       "8               price_last_norm     490.808990\n",
       "11                next_item_cnt     361.186005\n",
       "1          next_item_weight_nfi     287.949005\n",
       "0              next_item_weight     268.273010\n",
       "6                   prev_length       0.000000\n",
       "3                        locale       0.000000\n",
       "2     next_item_weight_co_visit       0.000000\n",
       "14             following_weight       0.000000\n",
       "15    following_discount_weight       0.000000\n",
       "16              previous_weight       0.000000"
      ]
     },
     "execution_count": 133,
     "metadata": {},
     "output_type": "execute_result"
    }
   ],
   "source": [
    "impotant_df = pd.DataFrame(\n",
    "    {\n",
    "        'features': ranker.feature_name_,\n",
    "        'importance': ranker.feature_importances_\n",
    "    }\n",
    ").sort_values('importance', ascending=False)\n",
    "impotant_df"
   ]
  },
  {
   "cell_type": "markdown",
   "id": "9c2798bf-e1a3-45a7-a422-49f6844e910a",
   "metadata": {},
   "source": [
    "# Eval ranker "
   ]
  },
  {
   "cell_type": "code",
   "execution_count": 134,
   "id": "1b08de18-62e0-4c4f-94c3-6ab8324ee624",
   "metadata": {},
   "outputs": [],
   "source": [
    "def rank_rec(candidate_pl, feature_cols, ranker, topn=100):\n",
    "\n",
    "    candidate_pl = candidate_pl.collect()\n",
    "    print(f\"candidate pl shape: {candidate_pl.shape}\")\n",
    "    inference = ranker.predict(candidate_pl[feature_cols].to_pandas())\n",
    "    test_result = (candidate_pl\n",
    "         .lazy()\n",
    "         .with_columns(\n",
    "             pl.Series(name='predict', values=inference)\n",
    "         )\n",
    "         .with_columns(\n",
    "            pl.col('predict').rank(method='ordinal', descending=True).over('session_id').alias('rank')\n",
    "         )\n",
    "         .sort(['session_id', 'rank'])\n",
    "         .filter(pl.col('rank')<=topn)\n",
    "         .groupby(['session_id'])\n",
    "         .agg(\n",
    "             pl.col('next_item_prediction')\n",
    "             , pl.col('next_item').unique()#.arr.get(0).cast(pl.Utf8)\n",
    "         ).with_columns(\n",
    "             pl.col('next_item').arr.get(0).alias('next_item')\n",
    "         )\n",
    "    )\n",
    "    return test_result\n"
   ]
  },
  {
   "cell_type": "code",
   "execution_count": 135,
   "id": "c2576a5f-dc1f-4269-83e4-050d8e37d14c",
   "metadata": {},
   "outputs": [],
   "source": [
    "# target_train_candidates.head().collect()"
   ]
  },
  {
   "cell_type": "code",
   "execution_count": 136,
   "id": "086b2190-3f3f-461f-8fd6-6b62bd36b45a",
   "metadata": {},
   "outputs": [],
   "source": [
    "eval_candidates = get_additional_feature(data_pl=eval_candidates)"
   ]
  },
  {
   "cell_type": "code",
   "execution_count": 137,
   "id": "ee95dd21-5bf7-4620-b79d-d2c1986a1e5b",
   "metadata": {},
   "outputs": [
    {
     "name": "stdout",
     "output_type": "stream",
     "text": [
      "candidate pl shape: (4660340, 26)\n"
     ]
    }
   ],
   "source": [
    "ranker_eval_pl = rank_rec(candidate_pl=eval_candidates,\n",
    "                         feature_cols=feature_cols\n",
    "                         , ranker=ranker\n",
    "                        # , topn=10\n",
    "                         )"
   ]
  },
  {
   "cell_type": "code",
   "execution_count": 138,
   "id": "72983a3c-67f1-4f04-be8f-25d753df2978",
   "metadata": {},
   "outputs": [
    {
     "data": {
      "text/html": [
       "<div><style>\n",
       ".dataframe > thead > tr > th,\n",
       ".dataframe > tbody > tr > td {\n",
       "  text-align: right;\n",
       "}\n",
       "</style>\n",
       "<small>shape: (1, 4)</small><table border=\"1\" class=\"dataframe\"><thead><tr><th>total_sessions</th><th>mrr</th><th>recall@20</th><th>recall@100</th></tr><tr><td>u32</td><td>f64</td><td>f64</td><td>f64</td></tr></thead><tbody><tr><td>33333</td><td>0.3446</td><td>0.5993</td><td>0.6843</td></tr></tbody></table></div>"
      ],
      "text/plain": [
       "shape: (1, 4)\n",
       "┌────────────────┬────────┬───────────┬────────────┐\n",
       "│ total_sessions ┆ mrr    ┆ recall@20 ┆ recall@100 │\n",
       "│ ---            ┆ ---    ┆ ---       ┆ ---        │\n",
       "│ u32            ┆ f64    ┆ f64       ┆ f64        │\n",
       "╞════════════════╪════════╪═══════════╪════════════╡\n",
       "│ 33333          ┆ 0.3446 ┆ 0.5993    ┆ 0.6843     │\n",
       "└────────────────┴────────┴───────────┴────────────┘"
      ]
     },
     "execution_count": 138,
     "metadata": {},
     "output_type": "execute_result"
    }
   ],
   "source": [
    "model_eval(target_df=eval_pl.join(ranker_eval_pl.lazy(), how='left', on='session_id'))"
   ]
  },
  {
   "cell_type": "code",
   "execution_count": 292,
   "id": "9404f0c9-8dd8-4a7c-86ea-07a279d25312",
   "metadata": {},
   "outputs": [],
   "source": [
    "# model_eval(target_df=eval_pl.join(ranker_eval_pl.lazy(), how='left', on='session_id'))"
   ]
  },
  {
   "cell_type": "markdown",
   "id": "1ec21052-9ed7-460d-a9ba-69ca24e93e58",
   "metadata": {},
   "source": [
    "# Test4task3 "
   ]
  },
  {
   "cell_type": "code",
   "execution_count": 293,
   "id": "704886d8-eedc-49c6-845b-0ba19fc00d3e",
   "metadata": {},
   "outputs": [],
   "source": [
    "topn=1\n",
    "test4task3_candidates = get_additional_feature(data_pl=test4task3_candidates)\n",
    "test4task3_candidates = test4task3_candidates.collect()\n",
    "inference = ranker.predict(test4task3_candidates[feature_cols].to_pandas())\n",
    "test4task3_result = (test4task3_candidates\n",
    "     .lazy()\n",
    "     .with_columns(\n",
    "         pl.Series(name='predict', values=inference)\n",
    "     )\n",
    "     .with_columns(\n",
    "        pl.col('predict').rank(method='ordinal', descending=True).over('session_id').alias('rank')\n",
    "     )\n",
    "     .sort(['session_id', 'rank'])\n",
    "     .filter(pl.col('rank')<=topn)\n",
    "     .groupby(['session_id'])\n",
    "     .agg(\n",
    "         pl.col('next_item_prediction')\n",
    "     )\n",
    ")\n",
    "# test4task3_result.head().collect()\n",
    "predictions = test4task3_pl.join(test4task3_result, how='left', on='session_id').collect()\n",
    "# [['locale', 'next_item_prediction']].to_pandas()"
   ]
  },
  {
   "cell_type": "code",
   "execution_count": null,
   "id": "15faacfc-8523-48c7-b922-3efad7261721",
   "metadata": {},
   "outputs": [],
   "source": []
  },
  {
   "cell_type": "code",
   "execution_count": 294,
   "id": "b6cdc9c8-9c1f-462f-9863-02cdfb82b70f",
   "metadata": {},
   "outputs": [
    {
     "name": "stdout",
     "output_type": "stream",
     "text": [
      "../data/sub_files/task2_test4task3_task2_rank_lgbm_v2.parquet\n"
     ]
    },
    {
     "data": {
      "text/html": [
       "<div><style>\n",
       ".dataframe > thead > tr > th,\n",
       ".dataframe > tbody > tr > td {\n",
       "  text-align: right;\n",
       "}\n",
       "</style>\n",
       "<small>shape: (3, 2)</small><table border=\"1\" class=\"dataframe\"><thead><tr><th>locale</th><th>counts</th></tr><tr><td>str</td><td>u32</td></tr></thead><tbody><tr><td>&quot;FR&quot;</td><td>10000</td></tr><tr><td>&quot;IT&quot;</td><td>10000</td></tr><tr><td>&quot;ES&quot;</td><td>6422</td></tr></tbody></table></div>"
      ],
      "text/plain": [
       "shape: (3, 2)\n",
       "┌────────┬────────┐\n",
       "│ locale ┆ counts │\n",
       "│ ---    ┆ ---    │\n",
       "│ str    ┆ u32    │\n",
       "╞════════╪════════╡\n",
       "│ FR     ┆ 10000  │\n",
       "│ IT     ┆ 10000  │\n",
       "│ ES     ┆ 6422   │\n",
       "└────────┴────────┘"
      ]
     },
     "execution_count": 294,
     "metadata": {},
     "output_type": "execute_result"
    }
   ],
   "source": [
    "test4task3_sub_file = f'../data/sub_files/{task}_test4task3_{rank_model_version}.parquet'\n",
    "print(test4task3_sub_file)\n",
    "predictions.write_parquet(test4task3_sub_file)\n",
    "predictions.select('locale').to_series().value_counts()"
   ]
  },
  {
   "cell_type": "code",
   "execution_count": null,
   "id": "ca97c004-5cf0-46e3-8894-122c60f70007",
   "metadata": {},
   "outputs": [],
   "source": []
  },
  {
   "cell_type": "code",
   "execution_count": null,
   "id": "8ec2dbec-76c4-4852-89ad-0dca27d0a961",
   "metadata": {},
   "outputs": [],
   "source": []
  },
  {
   "cell_type": "markdown",
   "id": "4cea4973-3d4c-48e9-a387-287ee39ea07a",
   "metadata": {
    "tags": []
   },
   "source": [
    "# Test inference "
   ]
  },
  {
   "cell_type": "code",
   "execution_count": 295,
   "id": "37deb6e4-1833-419b-9c83-9896e14c21a2",
   "metadata": {},
   "outputs": [],
   "source": [
    "test_candidates = get_additional_feature(data_pl=test_candidates)\n",
    "test_candidates = test_candidates.collect()\n",
    "inference = ranker.predict(test_candidates[feature_cols].to_pandas())\n",
    "test_result = (test_candidates\n",
    "     .lazy()\n",
    "     .with_columns(\n",
    "         pl.Series(name='predict', values=inference)\n",
    "     )\n",
    "     .with_columns(\n",
    "        pl.col('predict').rank(method='ordinal', descending=True).over('session_id').alias('rank')\n",
    "     )\n",
    "     .sort(['session_id', 'rank'])\n",
    "     .filter(pl.col('rank')<=100)\n",
    "     .groupby(['session_id'])\n",
    "     .agg(\n",
    "         pl.col('next_item_prediction')\n",
    "     )\n",
    ")\n",
    "# test_result.head().collect()\n",
    "predictions = test_pl.join(test_result, how='left', on='session_id').collect()[['locale', 'next_item_prediction']].to_pandas()"
   ]
  },
  {
   "cell_type": "code",
   "execution_count": null,
   "id": "69357f0f-697b-4324-9f93-fa22842f8af9",
   "metadata": {},
   "outputs": [],
   "source": []
  },
  {
   "cell_type": "code",
   "execution_count": null,
   "id": "c9d1bf8f-7f18-443e-8296-8e43cb4850e3",
   "metadata": {},
   "outputs": [],
   "source": []
  },
  {
   "cell_type": "code",
   "execution_count": 296,
   "id": "6733f598-f4ff-42e3-80f5-665fddb376ae",
   "metadata": {},
   "outputs": [],
   "source": [
    "predictions = test_pl.join(test_result, how='left', on='session_id').collect()[['locale', 'next_item_prediction']].to_pandas()"
   ]
  },
  {
   "cell_type": "code",
   "execution_count": 297,
   "id": "2b1cc59b-8392-44da-b75e-e5f884e84006",
   "metadata": {},
   "outputs": [
    {
     "data": {
      "text/plain": [
       "(34690, 2)"
      ]
     },
     "execution_count": 297,
     "metadata": {},
     "output_type": "execute_result"
    }
   ],
   "source": [
    "predictions.shape"
   ]
  },
  {
   "cell_type": "code",
   "execution_count": 298,
   "id": "dc1521b2-6509-4947-9d25-3b89a4b0b2a6",
   "metadata": {},
   "outputs": [],
   "source": [
    "check_predictions(predictions, test_sessions=test_pl.collect().to_pandas(), \n",
    "                  # check_products=True, product_df=products\n",
    "                 )\n",
    "# Its important that the parquet file you submit is saved with pyarrow backend\n",
    "if not debug:\n",
    "    predictions.to_parquet(sub_file, engine='pyarrow')"
   ]
  },
  {
   "cell_type": "code",
   "execution_count": 299,
   "id": "12b7fd35-e303-4f7b-b84e-35747d5040df",
   "metadata": {},
   "outputs": [
    {
     "data": {
      "text/plain": [
       "'../data/sub_files/task2_rank_lgbm_v2.parque'"
      ]
     },
     "execution_count": 299,
     "metadata": {},
     "output_type": "execute_result"
    }
   ],
   "source": [
    "sub_file"
   ]
  },
  {
   "cell_type": "markdown",
   "id": "c6448f9b-c2f6-4c00-94f3-0c286f47e3b9",
   "metadata": {
    "tags": []
   },
   "source": [
    "# Submit result "
   ]
  },
  {
   "cell_type": "code",
   "execution_count": 88,
   "id": "6b21fb19-340b-4d13-8bde-f4bc538583d0",
   "metadata": {},
   "outputs": [],
   "source": [
    "# # You can submit with aicrowd-cli, or upload manually on the challenge page.\n",
    "# !aicrowd submission create -c task-1-next-product-recommendation -f {sub_file}"
   ]
  },
  {
   "cell_type": "markdown",
   "id": "02e0525a-e79a-4d83-8813-500358581f18",
   "metadata": {},
   "source": [
    "#  Case Study from taks2"
   ]
  },
  {
   "cell_type": "code",
   "execution_count": 92,
   "id": "101ef8a0-eac0-4ab5-9adf-42b3b98bbb64",
   "metadata": {},
   "outputs": [],
   "source": [
    "product_pl = pl.scan_parquet(os.path.join(base_dir, raw_data_session_id_dir, \n",
    "                                          'products_train.parquet'))"
   ]
  },
  {
   "cell_type": "code",
   "execution_count": 93,
   "id": "ffc3c04d-8f13-44c6-9389-b23f3fb5c17c",
   "metadata": {},
   "outputs": [
    {
     "data": {
      "text/html": [
       "<div><style>\n",
       ".dataframe > thead > tr > th,\n",
       ".dataframe > tbody > tr > td {\n",
       "  text-align: right;\n",
       "}\n",
       "</style>\n",
       "<small>shape: (1, 4)</small><table border=\"1\" class=\"dataframe\"><thead><tr><th>total_sessions</th><th>mrr</th><th>recall@20</th><th>recall@100</th></tr><tr><td>u32</td><td>f64</td><td>f64</td><td>f64</td></tr></thead><tbody><tr><td>33333</td><td>0.3242</td><td>0.5594</td><td>0.6419</td></tr></tbody></table></div>"
      ],
      "text/plain": [
       "shape: (1, 4)\n",
       "┌────────────────┬────────┬───────────┬────────────┐\n",
       "│ total_sessions ┆ mrr    ┆ recall@20 ┆ recall@100 │\n",
       "│ ---            ┆ ---    ┆ ---       ┆ ---        │\n",
       "│ u32            ┆ f64    ┆ f64       ┆ f64        │\n",
       "╞════════════════╪════════╪═══════════╪════════════╡\n",
       "│ 33333          ┆ 0.3242 ┆ 0.5594    ┆ 0.6419     │\n",
       "└────────────────┴────────┴───────────┴────────────┘"
      ]
     },
     "execution_count": 93,
     "metadata": {},
     "output_type": "execute_result"
    }
   ],
   "source": [
    "model_eval(target_df=eval_pl.join(ranker_eval_pl.lazy(), how='left', on='session_id'))"
   ]
  },
  {
   "cell_type": "code",
   "execution_count": 94,
   "id": "8a6f35da-154a-45fb-a4cb-f42c113ed4e4",
   "metadata": {},
   "outputs": [],
   "source": [
    "target_df = eval_pl.join(ranker_eval_pl.lazy(), how='left', on='session_id')"
   ]
  },
  {
   "cell_type": "code",
   "execution_count": 131,
   "id": "5b6dfddd-71c1-4b3b-a71c-09d3e7a180c0",
   "metadata": {},
   "outputs": [],
   "source": [
    "# target_df.head().collect()"
   ]
  },
  {
   "cell_type": "code",
   "execution_count": 96,
   "id": "dd733e4c-bbee-4c82-ae9f-a444d04605b5",
   "metadata": {},
   "outputs": [
    {
     "data": {
      "text/html": [
       "<div><style>\n",
       ".dataframe > thead > tr > th,\n",
       ".dataframe > tbody > tr > td {\n",
       "  text-align: right;\n",
       "}\n",
       "</style>\n",
       "<small>shape: (1, 6)</small><table border=\"1\" class=\"dataframe\"><thead><tr><th>total_sessions</th><th>mrr</th><th>recall@1</th><th>recall@3</th><th>recall@20</th><th>recall@100</th></tr><tr><td>u32</td><td>f64</td><td>f64</td><td>f64</td><td>f64</td><td>f64</td></tr></thead><tbody><tr><td>33333</td><td>0.3242</td><td>0.237</td><td>0.3675</td><td>0.5594</td><td>0.6419</td></tr></tbody></table></div>"
      ],
      "text/plain": [
       "shape: (1, 6)\n",
       "┌────────────────┬────────┬──────────┬──────────┬───────────┬────────────┐\n",
       "│ total_sessions ┆ mrr    ┆ recall@1 ┆ recall@3 ┆ recall@20 ┆ recall@100 │\n",
       "│ ---            ┆ ---    ┆ ---      ┆ ---      ┆ ---       ┆ ---        │\n",
       "│ u32            ┆ f64    ┆ f64      ┆ f64      ┆ f64       ┆ f64        │\n",
       "╞════════════════╪════════╪══════════╪══════════╪═══════════╪════════════╡\n",
       "│ 33333          ┆ 0.3242 ┆ 0.237    ┆ 0.3675   ┆ 0.5594    ┆ 0.6419     │\n",
       "└────────────────┴────────┴──────────┴──────────┴───────────┴────────────┘"
      ]
     },
     "execution_count": 96,
     "metadata": {},
     "output_type": "execute_result"
    }
   ],
   "source": [
    "eval_final = (\n",
    "        target_df\n",
    "        .lazy()\n",
    "        .with_columns(\n",
    "            pl.col('next_item_prediction').cast(pl.List(pl.Utf8))\n",
    "        )\n",
    "        .with_columns(\n",
    "            pl.concat_list([pl.col('next_item'), pl.col('next_item_prediction')]).alias('mrr')\n",
    "        )\n",
    "        .with_columns(\n",
    "            pl.col('mrr').arr.eval(\n",
    "                pl.arg_where(pl.element()==pl.element().first())\n",
    "            )\n",
    "        ).with_columns(\n",
    "            pl.col('mrr').arr.eval(\n",
    "                pl.when(pl.element()==0).then(0).otherwise(1/pl.element())\n",
    "            )\n",
    "        ).with_columns(\n",
    "            pl.col('mrr').arr.sum()\n",
    "            , pl.col('next_item_prediction').arr.head(1).arr.contains(pl.col('next_item')).alias('recall@1')\n",
    "            , pl.col('next_item_prediction').arr.head(3).arr.contains(pl.col('next_item')).alias('recall@3')\n",
    "            , pl.col('next_item_prediction').arr.head(20).arr.contains(pl.col('next_item')).alias('recall@20')\n",
    "            , pl.col('next_item_prediction').arr.head(100).arr.contains(pl.col('next_item')).alias('recall@100')\n",
    "\n",
    "        )\n",
    ")\n",
    "final_res = eval_final.select(\n",
    "        pl.count().alias('total_sessions')\n",
    "        , pl.col('mrr').mean().round(4)\n",
    "        , pl.col('recall@1').mean().round(4)\n",
    "        , pl.col('recall@3').mean().round(4)\n",
    "        , pl.col('recall@20').mean().round(4)\n",
    "        , pl.col('recall@100').mean().round(4)\n",
    "\n",
    "    ).collect()\n",
    "final_res"
   ]
  },
  {
   "cell_type": "code",
   "execution_count": 98,
   "id": "d3a3f404-6bd2-44a5-8d6b-40e2136334bc",
   "metadata": {},
   "outputs": [],
   "source": [
    "# final_res"
   ]
  },
  {
   "cell_type": "code",
   "execution_count": 99,
   "id": "f257a058-fd81-4a95-a031-429b760d736f",
   "metadata": {},
   "outputs": [],
   "source": [
    "# eval_final.filter(pl.col('recall@1')==True).head().collect()"
   ]
  },
  {
   "cell_type": "code",
   "execution_count": 100,
   "id": "6a7bec0c-7447-48dd-ac55-7993bacebd87",
   "metadata": {},
   "outputs": [],
   "source": [
    "# eval_final.head().collect()"
   ]
  },
  {
   "cell_type": "markdown",
   "id": "a32104ad-8e85-414e-a292-cfe8b82864f1",
   "metadata": {},
   "source": [
    "## recall@3 = True and recall@1=False "
   ]
  },
  {
   "cell_type": "code",
   "execution_count": 101,
   "id": "059e8b4f-1bd6-4a4d-9677-e8a6cd85cad8",
   "metadata": {},
   "outputs": [],
   "source": [
    "all_cases = eval_final.filter(pl.col('recall@1')==False).filter(pl.col('recall@3')==True)"
   ]
  },
  {
   "cell_type": "code",
   "execution_count": 102,
   "id": "5be10810-cd32-4ea7-a54a-55a570856a49",
   "metadata": {},
   "outputs": [],
   "source": [
    "all_cases = (\n",
    "    all_cases.with_columns(\n",
    "        pl.col('next_item_prediction').arr.head(3).alias('next_item_prediction')\n",
    "    )\n",
    ")"
   ]
  },
  {
   "cell_type": "code",
   "execution_count": 150,
   "id": "c803ba24-9cc6-4496-9c8b-0f3c7e13dd8b",
   "metadata": {},
   "outputs": [
    {
     "data": {
      "text/html": [
       "<div><style>\n",
       ".dataframe > thead > tr > th,\n",
       ".dataframe > tbody > tr > td {\n",
       "  text-align: right;\n",
       "}\n",
       "</style>\n",
       "<small>shape: (5, 11)</small><table border=\"1\" class=\"dataframe\"><thead><tr><th>prev_items</th><th>next_item</th><th>locale</th><th>session_id</th><th>next_item_prediction</th><th>next_item_right</th><th>mrr</th><th>recall@1</th><th>recall@3</th><th>recall@20</th><th>recall@100</th></tr><tr><td>list[str]</td><td>str</td><td>str</td><td>i64</td><td>list[str]</td><td>str</td><td>f64</td><td>bool</td><td>bool</td><td>bool</td><td>bool</td></tr></thead><tbody><tr><td>[&quot;B00NPXEEC4&quot;, &quot;B07JN5C1S3&quot;, … &quot;B0B3JS3NFN&quot;]</td><td>&quot;B09NQHCKJK&quot;</td><td>&quot;IT&quot;</td><td>3575764</td><td>[&quot;B08P4YPB8Q&quot;, &quot;B0092QK8N2&quot;, &quot;B09NQHCKJK&quot;]</td><td>&quot;B09NQHCKJK&quot;</td><td>0.333333</td><td>false</td><td>true</td><td>true</td><td>true</td></tr><tr><td>[&quot;B06Y2H5JGX&quot;, &quot;B0811QN9PN&quot;]</td><td>&quot;B0B1J56P98&quot;</td><td>&quot;FR&quot;</td><td>3407839</td><td>[&quot;B09ZXWHPRD&quot;, &quot;B0B1J56P98&quot;, &quot;B07GX1WYFC&quot;]</td><td>&quot;B0B1J56P98&quot;</td><td>0.5</td><td>false</td><td>true</td><td>true</td><td>true</td></tr><tr><td>[&quot;B08BYJ9Q65&quot;, &quot;B08HRG6W11&quot;, &quot;B08BYJ9Q65&quot;]</td><td>&quot;B08TLYM129&quot;</td><td>&quot;IT&quot;</td><td>3537237</td><td>[&quot;B09G5N3D36&quot;, &quot;B08TLYM129&quot;, &quot;B086XFFD5Y&quot;]</td><td>&quot;B08TLYM129&quot;</td><td>0.5</td><td>false</td><td>true</td><td>true</td><td>true</td></tr><tr><td>[&quot;B01N1NR31G&quot;, &quot;B01MZ5ELRT&quot;]</td><td>&quot;B01F549LFK&quot;</td><td>&quot;IT&quot;</td><td>3538047</td><td>[&quot;B01N5L1J0P&quot;, &quot;B01F549LFK&quot;, &quot;B01MSUK566&quot;]</td><td>&quot;B01F549LFK&quot;</td><td>0.5</td><td>false</td><td>true</td><td>true</td><td>true</td></tr><tr><td>[&quot;B003Z0HU0K&quot;, &quot;B003Z0HU0K&quot;, &quot;B09NFV8PBV&quot;]</td><td>&quot;B09NGFB7KD&quot;</td><td>&quot;FR&quot;</td><td>3367530</td><td>[&quot;B09NFT49PW&quot;, &quot;B09NGFB7KD&quot;, &quot;2226328432&quot;]</td><td>&quot;B09NGFB7KD&quot;</td><td>0.5</td><td>false</td><td>true</td><td>true</td><td>true</td></tr></tbody></table></div>"
      ],
      "text/plain": [
       "shape: (5, 11)\n",
       "┌────────────┬────────────┬────────┬────────────┬───┬──────────┬──────────┬───────────┬────────────┐\n",
       "│ prev_items ┆ next_item  ┆ locale ┆ session_id ┆ … ┆ recall@1 ┆ recall@3 ┆ recall@20 ┆ recall@100 │\n",
       "│ ---        ┆ ---        ┆ ---    ┆ ---        ┆   ┆ ---      ┆ ---      ┆ ---       ┆ ---        │\n",
       "│ list[str]  ┆ str        ┆ str    ┆ i64        ┆   ┆ bool     ┆ bool     ┆ bool      ┆ bool       │\n",
       "╞════════════╪════════════╪════════╪════════════╪═══╪══════════╪══════════╪═══════════╪════════════╡\n",
       "│ [\"B00NPXEE ┆ B09NQHCKJK ┆ IT     ┆ 3575764    ┆ … ┆ false    ┆ true     ┆ true      ┆ true       │\n",
       "│ C4\", \"B07J ┆            ┆        ┆            ┆   ┆          ┆          ┆           ┆            │\n",
       "│ N5C1S3\", … ┆            ┆        ┆            ┆   ┆          ┆          ┆           ┆            │\n",
       "│ \"…         ┆            ┆        ┆            ┆   ┆          ┆          ┆           ┆            │\n",
       "│ [\"B06Y2H5J ┆ B0B1J56P98 ┆ FR     ┆ 3407839    ┆ … ┆ false    ┆ true     ┆ true      ┆ true       │\n",
       "│ GX\", \"B081 ┆            ┆        ┆            ┆   ┆          ┆          ┆           ┆            │\n",
       "│ 1QN9PN\"]   ┆            ┆        ┆            ┆   ┆          ┆          ┆           ┆            │\n",
       "│ [\"B08BYJ9Q ┆ B08TLYM129 ┆ IT     ┆ 3537237    ┆ … ┆ false    ┆ true     ┆ true      ┆ true       │\n",
       "│ 65\", \"B08H ┆            ┆        ┆            ┆   ┆          ┆          ┆           ┆            │\n",
       "│ RG6W11\",   ┆            ┆        ┆            ┆   ┆          ┆          ┆           ┆            │\n",
       "│ \"B0…       ┆            ┆        ┆            ┆   ┆          ┆          ┆           ┆            │\n",
       "│ [\"B01N1NR3 ┆ B01F549LFK ┆ IT     ┆ 3538047    ┆ … ┆ false    ┆ true     ┆ true      ┆ true       │\n",
       "│ 1G\", \"B01M ┆            ┆        ┆            ┆   ┆          ┆          ┆           ┆            │\n",
       "│ Z5ELRT\"]   ┆            ┆        ┆            ┆   ┆          ┆          ┆           ┆            │\n",
       "│ [\"B003Z0HU ┆ B09NGFB7KD ┆ FR     ┆ 3367530    ┆ … ┆ false    ┆ true     ┆ true      ┆ true       │\n",
       "│ 0K\", \"B003 ┆            ┆        ┆            ┆   ┆          ┆          ┆           ┆            │\n",
       "│ Z0HU0K\",   ┆            ┆        ┆            ┆   ┆          ┆          ┆           ┆            │\n",
       "│ \"B0…       ┆            ┆        ┆            ┆   ┆          ┆          ┆           ┆            │\n",
       "└────────────┴────────────┴────────┴────────────┴───┴──────────┴──────────┴───────────┴────────────┘"
      ]
     },
     "execution_count": 150,
     "metadata": {},
     "output_type": "execute_result"
    }
   ],
   "source": [
    "all_cases.collect().sample(5)"
   ]
  },
  {
   "cell_type": "markdown",
   "id": "359c5271-dc9b-4067-b498-17ae8ffa3d32",
   "metadata": {},
   "source": [
    "## Function "
   ]
  },
  {
   "cell_type": "code",
   "execution_count": 143,
   "id": "f15e602b-e23f-4833-971a-7fe356c77e98",
   "metadata": {},
   "outputs": [],
   "source": [
    "# def print_single_case(session_id, all_cases):\n",
    "#     feature = (\n",
    "#      all_cases\n",
    "#         .select(['next_item_prediction'])\n",
    "#         .filter(pl.col('session_id')==session_id).explode('next_item_prediction')\n",
    "#         .join(\n",
    "#             eval_candidates.filter(pl.col('session_id')==session_id)\n",
    "#             , how='left'\n",
    "#             , on='next_item_prediction'\n",
    "#         )\n",
    "# )  \n",
    "#     print()\n",
    "#     print(\"features\")\n",
    "#     print(feature.collect())\n",
    "#     print()\n",
    "#     print()\n",
    "#                   # e\n",
    "    "
   ]
  },
  {
   "cell_type": "markdown",
   "id": "ac78d70f-aed0-44c1-936e-78073f312b11",
   "metadata": {},
   "source": [
    "### 3272776 --> hard to locate problem; `next_item_weight_co_visit` "
   ]
  },
  {
   "cell_type": "code",
   "execution_count": 132,
   "id": "c397f370-6e7e-47df-9b45-98fc071879ea",
   "metadata": {},
   "outputs": [],
   "source": [
    "session_id = 3272776"
   ]
  },
  {
   "cell_type": "code",
   "execution_count": 142,
   "id": "e2dcf565-fde4-40fc-a71e-155e90893f38",
   "metadata": {},
   "outputs": [],
   "source": [
    "# print_single_case(session_id=session_id, all_cases=all_cases)"
   ]
  },
  {
   "cell_type": "code",
   "execution_count": 133,
   "id": "8248cf01-3fdc-4f00-9598-d9a43203d639",
   "metadata": {},
   "outputs": [
    {
     "data": {
      "text/html": [
       "<div><style>\n",
       ".dataframe > thead > tr > th,\n",
       ".dataframe > tbody > tr > td {\n",
       "  text-align: right;\n",
       "}\n",
       "</style>\n",
       "<small>shape: (1, 11)</small><table border=\"1\" class=\"dataframe\"><thead><tr><th>prev_items</th><th>next_item</th><th>locale</th><th>session_id</th><th>next_item_prediction</th><th>next_item_right</th><th>mrr</th><th>recall@1</th><th>recall@3</th><th>recall@20</th><th>recall@100</th></tr><tr><td>list[str]</td><td>str</td><td>str</td><td>i64</td><td>list[str]</td><td>str</td><td>f64</td><td>bool</td><td>bool</td><td>bool</td><td>bool</td></tr></thead><tbody><tr><td>[&quot;B0B2K87MXS&quot;, &quot;B0B2KBH114&quot;, … &quot;B0B2K87MXS&quot;]</td><td>&quot;B0B4612MTM&quot;</td><td>&quot;ES&quot;</td><td>3272776</td><td>[&quot;B09PNDJJZ9&quot;, &quot;B08FMPXDTJ&quot;, &quot;B0B4612MTM&quot;]</td><td>&quot;B0B4612MTM&quot;</td><td>0.333333</td><td>false</td><td>true</td><td>true</td><td>true</td></tr></tbody></table></div>"
      ],
      "text/plain": [
       "shape: (1, 11)\n",
       "┌────────────┬────────────┬────────┬────────────┬───┬──────────┬──────────┬───────────┬────────────┐\n",
       "│ prev_items ┆ next_item  ┆ locale ┆ session_id ┆ … ┆ recall@1 ┆ recall@3 ┆ recall@20 ┆ recall@100 │\n",
       "│ ---        ┆ ---        ┆ ---    ┆ ---        ┆   ┆ ---      ┆ ---      ┆ ---       ┆ ---        │\n",
       "│ list[str]  ┆ str        ┆ str    ┆ i64        ┆   ┆ bool     ┆ bool     ┆ bool      ┆ bool       │\n",
       "╞════════════╪════════════╪════════╪════════════╪═══╪══════════╪══════════╪═══════════╪════════════╡\n",
       "│ [\"B0B2K87M ┆ B0B4612MTM ┆ ES     ┆ 3272776    ┆ … ┆ false    ┆ true     ┆ true      ┆ true       │\n",
       "│ XS\", \"B0B2 ┆            ┆        ┆            ┆   ┆          ┆          ┆           ┆            │\n",
       "│ KBH114\", … ┆            ┆        ┆            ┆   ┆          ┆          ┆           ┆            │\n",
       "│ \"…         ┆            ┆        ┆            ┆   ┆          ┆          ┆           ┆            │\n",
       "└────────────┴────────────┴────────┴────────────┴───┴──────────┴──────────┴───────────┴────────────┘"
      ]
     },
     "execution_count": 133,
     "metadata": {},
     "output_type": "execute_result"
    }
   ],
   "source": [
    "single_case = all_cases.filter(pl.col('session_id')==session_id).collect()\n",
    "single_case"
   ]
  },
  {
   "cell_type": "code",
   "execution_count": 134,
   "id": "22659023-c289-4a14-b801-a08d4ff1541b",
   "metadata": {},
   "outputs": [
    {
     "name": "stdout",
     "output_type": "stream",
     "text": [
      "++++++++++++++++++++\n",
      "0: B0B2K87MXS\n",
      "++++++++++++++++++++\n",
      "===title====\n",
      "    XIAOMI Xiaomi Smartphone redmi 9c NFC 3/64gb Verde Libre\n",
      "\n",
      "===desc====\n",
      "    Alta calidad\n",
      "\n",
      "unique_id                               1416732\n",
      "price                                    116.76\n",
      "brand                                    Xiaomi\n",
      "color                              Aurora Green\n",
      "size         Redmi 9C NFC 3GB+64GB Aurora Green\n",
      "model                     REDMI 9C NFC 3-64 GRE\n",
      "material                                   None\n",
      "author                                     None\n",
      "Name: 0, dtype: object\n",
      "\n",
      "\n",
      "++++++++++++++++++++\n",
      "1: B0B2K87MXS\n",
      "++++++++++++++++++++\n",
      "===title====\n",
      "    XIAOMI Xiaomi Smartphone redmi 9c NFC 3/64gb Verde Libre\n",
      "\n",
      "===desc====\n",
      "    Alta calidad\n",
      "\n",
      "unique_id                               1416732\n",
      "price                                    116.76\n",
      "brand                                    Xiaomi\n",
      "color                              Aurora Green\n",
      "size         Redmi 9C NFC 3GB+64GB Aurora Green\n",
      "model                     REDMI 9C NFC 3-64 GRE\n",
      "material                                   None\n",
      "author                                     None\n",
      "Name: 1, dtype: object\n",
      "\n",
      "\n",
      "++++++++++++++++++++\n",
      "2: B09ZHGZ7YS\n",
      "++++++++++++++++++++\n",
      "===title====\n",
      "    Xiaomi Redmi 9A - Smartphone de 2+32GB, Pantalla de 6,53\" HD+, MediaTek Helio G25, Cámara Trasera de 13 MP con IA, Batería de 5000 mAh, Granite Gray (Versión ES + 3 Años de garantía)\n",
      "\n",
      "===desc====\n",
      "    Aumento de la potencia de procesamiento; el procesador MediaTek Helio G25 proporciona un rendimiento fiable, asegurando una experiencia sin retrasos; la tecnología de juego HyperEngine ofrece una experiencia de juego más fluida y sensible, con conexiones seguras y gráficos realistas\n",
      "\n",
      "unique_id    1426518\n",
      "price          98.41\n",
      "brand         Xiaomi\n",
      "color           Gray\n",
      "size          2+32GB\n",
      "model          37568\n",
      "material        None\n",
      "author          None\n",
      "Name: 2, dtype: object\n",
      "\n",
      "\n",
      "++++++++++++++++++++\n",
      "3: B0B2KBH114\n",
      "++++++++++++++++++++\n",
      "===title====\n",
      "    Xiaomi Redmi 9A - Smartphone de 2+32GB, Pantalla de 6,53\" HD+, MediaTek Helio G25, Cámara trasera de 13 MP con IA, Batería de 5000 mAh, Aurora Green (Versión ES + 3 Años de garantía)\n",
      "\n",
      "===desc====\n",
      "    Aumento de la potencia de procesamiento. El procesador MediaTek Helio G25 proporciona un rendimiento fiable, asegurando una experiencia sin retrasos. La tecnología de juego HyperEngine ofrece una experiencia de juego más fluida y sensible, con conexiones seguras y gráficos realistas\n",
      "\n",
      "unique_id         1430828\n",
      "price               97.99\n",
      "brand              Xiaomi\n",
      "color        Aurora Green\n",
      "size               2+32GB\n",
      "model               36546\n",
      "material             None\n",
      "author               None\n",
      "Name: 3, dtype: object\n",
      "\n",
      "\n"
     ]
    }
   ],
   "source": [
    "show_single_case(session_id=session_id, session_pl=all_cases, product_pl=product_pl)"
   ]
  },
  {
   "cell_type": "code",
   "execution_count": 135,
   "id": "bba5c32a-1572-4412-af59-073f737e9cee",
   "metadata": {},
   "outputs": [
    {
     "name": "stdout",
     "output_type": "stream",
     "text": [
      "++++++++++++++++++++\n",
      "0: B08FMPXDTJ\n",
      "++++++++++++++++++++\n",
      "===title====\n",
      "    Xiaomi Redmi 9C NFC-Smartphone de 6.53\" HD+ (3GB+64GB, 3x cámara trasera de 13MP con IA, MediaTek Helio G35, Batería 5000 mAh, 10 W carga rápida), Gris\n",
      "\n",
      "===desc====\n",
      "    Batería de alta capacidad de 5000 mah con carga rápida de 10w.\n",
      "\n",
      "unique_id          1429975\n",
      "price                121.0\n",
      "brand               Xiaomi\n",
      "color        Midnight Gray\n",
      "size            3GB + 64GB\n",
      "model        6941059651307\n",
      "material              None\n",
      "author              Xiaomi\n",
      "Name: 0, dtype: object\n",
      "\n",
      "\n",
      "++++++++++++++++++++\n",
      "1: B09PNDJJZ9\n",
      "++++++++++++++++++++\n",
      "===title====\n",
      "    Xiaomi Redmi 9C - Smartphone 128GB, 4GB RAM, Dual Sim, Aurora Green\n",
      "\n",
      "===desc====\n",
      "    Batería: 5000 mAh\n",
      "\n",
      "unique_id                            1430860\n",
      "price                                  142.0\n",
      "brand                                 Xiaomi\n",
      "color                           Aurora Green\n",
      "size         Redmi 9C 4GB+128GB Aurora Green\n",
      "model                              MZB0A46EU\n",
      "material                                None\n",
      "author                                  None\n",
      "Name: 1, dtype: object\n",
      "\n",
      "\n",
      "++++++++++++++++++++\n",
      "2: B0B4612MTM\n",
      "++++++++++++++++++++\n",
      "===title====\n",
      "    Xiaomi Redmi 10A Smartphone, Pantalla Dot Drop de 6,53\", batería de 5000 mAh, cámara de 13 MP, 4+128 GB, Gris Grafito\n",
      "\n",
      "===desc====\n",
      "    Xiaomi Redmi 10A Smartphone, Pantalla Dot Drop de 6,53\", batería de 5000 mAh, cámara de 13 MP, 4+128 GB, Gris Grafito\n",
      "\n",
      "unique_id         1440317\n",
      "price              138.95\n",
      "brand              Xiaomi\n",
      "color        Gris Grafito\n",
      "size                4+128\n",
      "model                C3L2\n",
      "material             None\n",
      "author               None\n",
      "Name: 2, dtype: object\n",
      "\n",
      "\n"
     ]
    }
   ],
   "source": [
    "show_single_case(session_id=session_id, session_pl=all_cases, product_pl=product_pl\n",
    "                , item_list_col='next_item_prediction')"
   ]
  },
  {
   "cell_type": "code",
   "execution_count": 136,
   "id": "ba5a7abc-7cdf-4aef-a5df-2678f75388d6",
   "metadata": {},
   "outputs": [
    {
     "data": {
      "text/html": [
       "<div><style>\n",
       ".dataframe > thead > tr > th,\n",
       ".dataframe > tbody > tr > td {\n",
       "  text-align: right;\n",
       "}\n",
       "</style>\n",
       "<small>shape: (3, 15)</small><table border=\"1\" class=\"dataframe\"><thead><tr><th>next_item_prediction</th><th>session_id</th><th>w2v_weight</th><th>next_item</th><th>locale</th><th>prev_length</th><th>target</th><th>next_item_weight</th><th>next_item_weight_nfi</th><th>next_item_weight_co_visit</th><th>last_item_similarity</th><th>price_mean_norm</th><th>price_last_norm</th><th>price_min_norm</th><th>price_max_norm</th></tr><tr><td>str</td><td>i64</td><td>f64</td><td>str</td><td>i32</td><td>u32</td><td>i32</td><td>f64</td><td>f32</td><td>f32</td><td>f32</td><td>f64</td><td>f64</td><td>f64</td><td>f64</td></tr></thead><tbody><tr><td>&quot;B09PNDJJZ9&quot;</td><td>3272776</td><td>0.97</td><td>&quot;B0B4612MTM&quot;</td><td>3</td><td>4</td><td>0</td><td>1.01</td><td>5.83</td><td>12.0</td><td>0.992541</td><td>1.321176</td><td>1.21617</td><td>1.449127</td><td>1.21617</td></tr><tr><td>&quot;B08FMPXDTJ&quot;</td><td>3272776</td><td>0.995</td><td>&quot;B0B4612MTM&quot;</td><td>3</td><td>4</td><td>0</td><td>0.26</td><td>2.25</td><td>8.0</td><td>0.994898</td><td>1.125791</td><td>1.036314</td><td>1.23482</td><td>1.036314</td></tr><tr><td>&quot;B0B4612MTM&quot;</td><td>3272776</td><td>0.81</td><td>&quot;B0B4612MTM&quot;</td><td>3</td><td>4</td><td>1</td><td>0.26</td><td>3.95</td><td>11.0</td><td>0.97156</td><td>1.292799</td><td>1.190048</td><td>1.418002</td><td>1.190048</td></tr></tbody></table></div>"
      ],
      "text/plain": [
       "shape: (3, 15)\n",
       "┌────────────┬──────────┬──────────┬───────┬───┬────────────┬────────────┬────────────┬────────────┐\n",
       "│ next_item_ ┆ session_ ┆ w2v_weig ┆ next_ ┆ … ┆ price_mean ┆ price_last ┆ price_min_ ┆ price_max_ │\n",
       "│ prediction ┆ id       ┆ ht       ┆ item  ┆   ┆ _norm      ┆ _norm      ┆ norm       ┆ norm       │\n",
       "│ ---        ┆ ---      ┆ ---      ┆ ---   ┆   ┆ ---        ┆ ---        ┆ ---        ┆ ---        │\n",
       "│ str        ┆ i64      ┆ f64      ┆ str   ┆   ┆ f64        ┆ f64        ┆ f64        ┆ f64        │\n",
       "╞════════════╪══════════╪══════════╪═══════╪═══╪════════════╪════════════╪════════════╪════════════╡\n",
       "│ B09PNDJJZ9 ┆ 3272776  ┆ 0.97     ┆ B0B46 ┆ … ┆ 1.321176   ┆ 1.21617    ┆ 1.449127   ┆ 1.21617    │\n",
       "│            ┆          ┆          ┆ 12MTM ┆   ┆            ┆            ┆            ┆            │\n",
       "│ B08FMPXDTJ ┆ 3272776  ┆ 0.995    ┆ B0B46 ┆ … ┆ 1.125791   ┆ 1.036314   ┆ 1.23482    ┆ 1.036314   │\n",
       "│            ┆          ┆          ┆ 12MTM ┆   ┆            ┆            ┆            ┆            │\n",
       "│ B0B4612MTM ┆ 3272776  ┆ 0.81     ┆ B0B46 ┆ … ┆ 1.292799   ┆ 1.190048   ┆ 1.418002   ┆ 1.190048   │\n",
       "│            ┆          ┆          ┆ 12MTM ┆   ┆            ┆            ┆            ┆            │\n",
       "└────────────┴──────────┴──────────┴───────┴───┴────────────┴────────────┴────────────┴────────────┘"
      ]
     },
     "execution_count": 136,
     "metadata": {},
     "output_type": "execute_result"
    }
   ],
   "source": [
    "feature = (\n",
    "     all_cases\n",
    "        .select(['next_item_prediction'])\n",
    "        .filter(pl.col('session_id')==session_id).explode('next_item_prediction')\n",
    "        .join(\n",
    "            eval_candidates.filter(pl.col('session_id')==session_id)\n",
    "            , how='left'\n",
    "            , on='next_item_prediction'\n",
    "        )\n",
    ")  \n",
    "\n",
    "feature.collect()\n",
    "                  # e"
   ]
  },
  {
   "cell_type": "markdown",
   "id": "7869acb0-38a3-4d9a-8da1-a5540de4d013",
   "metadata": {},
   "source": [
    "### 3373971 -> reply on NIC too much; `w2v_weight` -> not zero for ground true "
   ]
  },
  {
   "cell_type": "code",
   "execution_count": 145,
   "id": "a4f3e33f-685b-44fd-a571-02b31e2808d5",
   "metadata": {},
   "outputs": [],
   "source": [
    "session_id = 3373971"
   ]
  },
  {
   "cell_type": "code",
   "execution_count": 146,
   "id": "8fbb1bf2-75df-4756-b888-9e43a2b3830f",
   "metadata": {},
   "outputs": [
    {
     "data": {
      "text/html": [
       "<div><style>\n",
       ".dataframe > thead > tr > th,\n",
       ".dataframe > tbody > tr > td {\n",
       "  text-align: right;\n",
       "}\n",
       "</style>\n",
       "<small>shape: (3, 15)</small><table border=\"1\" class=\"dataframe\"><thead><tr><th>next_item_prediction</th><th>session_id</th><th>w2v_weight</th><th>next_item</th><th>locale</th><th>prev_length</th><th>target</th><th>next_item_weight</th><th>next_item_weight_nfi</th><th>next_item_weight_co_visit</th><th>last_item_similarity</th><th>price_mean_norm</th><th>price_last_norm</th><th>price_min_norm</th><th>price_max_norm</th></tr><tr><td>str</td><td>i64</td><td>f64</td><td>str</td><td>i32</td><td>u32</td><td>i32</td><td>f64</td><td>f32</td><td>f32</td><td>f32</td><td>f64</td><td>f64</td><td>f64</td><td>f64</td></tr></thead><tbody><tr><td>&quot;B015TJ8NM8&quot;</td><td>3373971</td><td>0.0</td><td>&quot;B000GIPJ02&quot;</td><td>3</td><td>5</td><td>0</td><td>0.76</td><td>5.16</td><td>15.0</td><td>0.959601</td><td>0.772395</td><td>1.0</td><td>1.0</td><td>0.564819</td></tr><tr><td>&quot;B000GIPJ02&quot;</td><td>3373971</td><td>0.89</td><td>&quot;B000GIPJ02&quot;</td><td>3</td><td>5</td><td>1</td><td>0.51</td><td>3.0</td><td>5.0</td><td>0.853157</td><td>1.315306</td><td>1.702893</td><td>1.702893</td><td>0.961826</td></tr><tr><td>&quot;B002DYIZPS&quot;</td><td>3373971</td><td>0.0</td><td>&quot;B000GIPJ02&quot;</td><td>3</td><td>5</td><td>0</td><td>0.0</td><td>0.5</td><td>1.0</td><td>0.793911</td><td>1.367509</td><td>1.770479</td><td>1.770479</td><td>1.0</td></tr></tbody></table></div>"
      ],
      "text/plain": [
       "shape: (3, 15)\n",
       "┌────────────┬──────────┬──────────┬───────┬───┬────────────┬────────────┬────────────┬────────────┐\n",
       "│ next_item_ ┆ session_ ┆ w2v_weig ┆ next_ ┆ … ┆ price_mean ┆ price_last ┆ price_min_ ┆ price_max_ │\n",
       "│ prediction ┆ id       ┆ ht       ┆ item  ┆   ┆ _norm      ┆ _norm      ┆ norm       ┆ norm       │\n",
       "│ ---        ┆ ---      ┆ ---      ┆ ---   ┆   ┆ ---        ┆ ---        ┆ ---        ┆ ---        │\n",
       "│ str        ┆ i64      ┆ f64      ┆ str   ┆   ┆ f64        ┆ f64        ┆ f64        ┆ f64        │\n",
       "╞════════════╪══════════╪══════════╪═══════╪═══╪════════════╪════════════╪════════════╪════════════╡\n",
       "│ B015TJ8NM8 ┆ 3373971  ┆ 0.0      ┆ B000G ┆ … ┆ 0.772395   ┆ 1.0        ┆ 1.0        ┆ 0.564819   │\n",
       "│            ┆          ┆          ┆ IPJ02 ┆   ┆            ┆            ┆            ┆            │\n",
       "│ B000GIPJ02 ┆ 3373971  ┆ 0.89     ┆ B000G ┆ … ┆ 1.315306   ┆ 1.702893   ┆ 1.702893   ┆ 0.961826   │\n",
       "│            ┆          ┆          ┆ IPJ02 ┆   ┆            ┆            ┆            ┆            │\n",
       "│ B002DYIZPS ┆ 3373971  ┆ 0.0      ┆ B000G ┆ … ┆ 1.367509   ┆ 1.770479   ┆ 1.770479   ┆ 1.0        │\n",
       "│            ┆          ┆          ┆ IPJ02 ┆   ┆            ┆            ┆            ┆            │\n",
       "└────────────┴──────────┴──────────┴───────┴───┴────────────┴────────────┴────────────┴────────────┘"
      ]
     },
     "execution_count": 146,
     "metadata": {},
     "output_type": "execute_result"
    }
   ],
   "source": [
    "feature = (\n",
    "     all_cases\n",
    "        .select(['next_item_prediction'])\n",
    "        .filter(pl.col('session_id')==session_id).explode('next_item_prediction')\n",
    "        .join(\n",
    "            eval_candidates.filter(pl.col('session_id')==session_id)\n",
    "            , how='left'\n",
    "            , on='next_item_prediction'\n",
    "        )\n",
    ")  \n",
    "\n",
    "feature.collect()\n",
    "                  # e"
   ]
  },
  {
   "cell_type": "code",
   "execution_count": 147,
   "id": "6502910e-b8c7-4b48-83a2-d2954edb5d84",
   "metadata": {},
   "outputs": [
    {
     "name": "stdout",
     "output_type": "stream",
     "text": [
      "++++++++++++++++++++\n",
      "0: B000GIPJ0M\n",
      "++++++++++++++++++++\n",
      "===title====\n",
      "    Optimum Nutrition Serious Mass, Mass Gainer avec Whey, Proteines Musculation Prise de Masse avec Vitamines, Creatine et Glutamine, Chocolat, 16 Portions, 5.45kg, l'Emballage Peut Varier\n",
      "\n",
      "===desc====\n",
      "    AUGMENTATEUR DE MASSE MUSCULAIRE avec un nombre exorbitant de 1250 calories et 50 g de whey protéines par portion. Contient moins de 5 g de graisse !\n",
      "\n",
      "unique_id               1469992\n",
      "price                     62.99\n",
      "brand         Optimum Nutrition\n",
      "color                  Chocolat\n",
      "size         5.45 kg (Lot de 1)\n",
      "model                   1101529\n",
      "material              Palstique\n",
      "author                     None\n",
      "Name: 0, dtype: object\n",
      "\n",
      "\n",
      "++++++++++++++++++++\n",
      "1: B09RMWFZ8W\n",
      "++++++++++++++++++++\n",
      "===title====\n",
      "    Optimum Nutrition | Serious Mass (2,73kg) | Gainers | Puissant accélérateur de masse\n",
      "\n",
      "===desc====\n",
      "    Augmentation de la prise de masse\n",
      "\n",
      "unique_id               1470603\n",
      "price                     36.99\n",
      "brand         Optimum Nutrition\n",
      "color                      None\n",
      "size         2.73 kg (Lot de 1)\n",
      "model             5060469985206\n",
      "material                   None\n",
      "author                     None\n",
      "Name: 1, dtype: object\n",
      "\n",
      "\n",
      "++++++++++++++++++++\n",
      "2: B0015R6ZPQ\n",
      "++++++++++++++++++++\n",
      "===title====\n",
      "    Optimum Nutrition Serious Mass, Mass Gainer avec Whey, Proteines Musculation Prise de Masse avec Vitamines, Creatine et Glutamine, Vanille, 8 Portions, 2.73kg, l'Emballage Peut Varier\n",
      "\n",
      "===desc====\n",
      "    AUGMENTATEUR DE MASSE MUSCULAIRE avec un nombre incroyable de 1250 calories et 50 g de whey protéines par portion. Contient moins de 5 g de graisse\n",
      "\n",
      "unique_id               1485441\n",
      "price                     36.99\n",
      "brand         Optimum Nutrition\n",
      "color                   Vanille\n",
      "size         2.73 kg (Lot de 1)\n",
      "model                   1098370\n",
      "material                   None\n",
      "author                     None\n",
      "Name: 2, dtype: object\n",
      "\n",
      "\n",
      "++++++++++++++++++++\n",
      "3: B072MDTW1F\n",
      "++++++++++++++++++++\n",
      "===title====\n",
      "    Optimum Nutrition Serious Mass, Mass Gainer avec Whey, Proteines Musculation Prise de Masse avec Vitamines, Creatine et Glutamine, Cookies & Crème, 8 Portions, 2.73kg, l'Emballage Peut Varier\n",
      "\n",
      "===desc====\n",
      "    AUGMENTATEUR DE MASSE MUSCULAIRE avec un nombre exorbitant de 1250 calories et 50 g de whey protéines par portion. Contient moins de 5 g de graisse !\n",
      "\n",
      "unique_id                     1486015\n",
      "price                           36.99\n",
      "brand        OPTJP|#Optimum Nutrition\n",
      "color                 Cookies & Cream\n",
      "size               2.73 kg (Lot de 1)\n",
      "model                         1101542\n",
      "material                         None\n",
      "author                           None\n",
      "Name: 3, dtype: object\n",
      "\n",
      "\n",
      "++++++++++++++++++++\n",
      "4: B072JSYMRV\n",
      "++++++++++++++++++++\n",
      "===title====\n",
      "    Optimum Nutrition Serious Mass, Mass Gainer avec Whey, Proteines Musculation Prise de Masse avec Vitamines, Creatine et Glutamine, Cookies & Crème, 16 Portions, 5.45kg, l'Emballage Peut Varier\n",
      "\n",
      "===desc====\n",
      "    Fournit des calories, favorise la prise de poids et alimente les réserves de glycogène de l'organisme\n",
      "\n",
      "unique_id               1487234\n",
      "price                     65.49\n",
      "brand         Optimum Nutrition\n",
      "color           Cookies & Cream\n",
      "size         5.45 kg (Lot de 1)\n",
      "model                   1101535\n",
      "material                   None\n",
      "author                     None\n",
      "Name: 4, dtype: object\n",
      "\n",
      "\n"
     ]
    }
   ],
   "source": [
    "show_single_case(session_id=session_id, session_pl=all_cases, product_pl=product_pl)"
   ]
  },
  {
   "cell_type": "code",
   "execution_count": 148,
   "id": "b9f0d39c-407a-4d72-a9f9-7c583dc9b024",
   "metadata": {},
   "outputs": [
    {
     "name": "stdout",
     "output_type": "stream",
     "text": [
      "++++++++++++++++++++\n",
      "0: B015TJ8NM8\n",
      "++++++++++++++++++++\n",
      "===title====\n",
      "    Optimum Nutrition Serious Mass, Mass Gainer avec Whey, Proteines Musculation Prise de Masse avec Vitamines, Creatine et Glutamine, Chocolat Beurre de Cacahuète, 8 Portions, l'Emballage Peut Varier\n",
      "\n",
      "===desc====\n",
      "    AUGMENTATEUR DE MASSE MUSCULAIRE avec un nombre incroyable de 1250 calories et 50 g de whey protéines par portion. Contient moins de 5 g de graisse\n",
      "\n",
      "unique_id                          1459015\n",
      "price                                36.99\n",
      "brand        Glanbia Performance Nutrition\n",
      "color         Chocolat Beurre de Cacahuète\n",
      "size                    2.73 kg (Lot de 1)\n",
      "model                              1101541\n",
      "material                              None\n",
      "author                                None\n",
      "Name: 0, dtype: object\n",
      "\n",
      "\n",
      "++++++++++++++++++++\n",
      "1: B000GIPJ02\n",
      "++++++++++++++++++++\n",
      "===title====\n",
      "    Optimum Nutrition Serious Mass, Mass Gainer avec Whey, Proteines Musculation Prise de Masse avec Vitamines, Creatine et Glutamine, Chocolat Menthe, 16 Portions, 5.45kg, l'Emballage Peut Varier\n",
      "\n",
      "===desc====\n",
      "    AUGMENTATEUR DE MASSE MUSCULAIRE avec un nombre incroyable de 1250 calories et 50 g de whey protéines par portion. Contient moins de 5 g de graisse\n",
      "\n",
      "unique_id               1485265\n",
      "price                     62.99\n",
      "brand         Optimum Nutrition\n",
      "color                   Vanille\n",
      "size         5.45 kg (Lot de 1)\n",
      "model                   1031920\n",
      "material                   None\n",
      "author                     None\n",
      "Name: 1, dtype: object\n",
      "\n",
      "\n",
      "++++++++++++++++++++\n",
      "2: B002DYIZPS\n",
      "++++++++++++++++++++\n",
      "===title====\n",
      "    Optimum Nutrition Serious Mass, Gainer avec Whey, Proteines Musculation Prise de Masse avec Vitamines, Creatine et Glutamine, Chocolat Beurre de Cacahuète, 16 Portions 5.45kg, l'Emballage Peut Varier\n",
      "\n",
      "===desc====\n",
      "    AUGMENTATEUR DE MASSE MUSCULAIRE avec un nombre incroyable de 1250 calories et 50 g de whey protéines par portion. Contient moins de 5 g de graisse\n",
      "\n",
      "unique_id               1500239\n",
      "price                     65.49\n",
      "brand         Optimum Nutrition\n",
      "color                    Banane\n",
      "size         5.45 kg (Lot de 1)\n",
      "model                   1101533\n",
      "material                   None\n",
      "author                     None\n",
      "Name: 2, dtype: object\n",
      "\n",
      "\n"
     ]
    }
   ],
   "source": [
    "show_single_case(session_id=session_id, session_pl=all_cases, product_pl=product_pl\n",
    "                , item_list_col='next_item_prediction')"
   ]
  },
  {
   "cell_type": "markdown",
   "id": "60239c43-8da1-489b-8b9c-b1c9fd33647c",
   "metadata": {},
   "source": [
    "### 3407839 w2v_weight is 0??;  看不出来？？？"
   ]
  },
  {
   "cell_type": "code",
   "execution_count": 152,
   "id": "794a7e2f-7150-484a-8e19-fac249f892f9",
   "metadata": {},
   "outputs": [],
   "source": [
    "session_id = 3407839"
   ]
  },
  {
   "cell_type": "code",
   "execution_count": 153,
   "id": "4eb058ab-0bb1-4b91-b97e-528d9d20400f",
   "metadata": {},
   "outputs": [
    {
     "data": {
      "text/html": [
       "<div><style>\n",
       ".dataframe > thead > tr > th,\n",
       ".dataframe > tbody > tr > td {\n",
       "  text-align: right;\n",
       "}\n",
       "</style>\n",
       "<small>shape: (3, 15)</small><table border=\"1\" class=\"dataframe\"><thead><tr><th>next_item_prediction</th><th>session_id</th><th>w2v_weight</th><th>next_item</th><th>locale</th><th>prev_length</th><th>target</th><th>next_item_weight</th><th>next_item_weight_nfi</th><th>next_item_weight_co_visit</th><th>last_item_similarity</th><th>price_mean_norm</th><th>price_last_norm</th><th>price_min_norm</th><th>price_max_norm</th></tr><tr><td>str</td><td>i64</td><td>f64</td><td>str</td><td>i32</td><td>u32</td><td>i32</td><td>f64</td><td>f32</td><td>f32</td><td>f32</td><td>f64</td><td>f64</td><td>f64</td><td>f64</td></tr></thead><tbody><tr><td>&quot;B09ZXWHPRD&quot;</td><td>3407839</td><td>0.0</td><td>&quot;B0B1J56P98&quot;</td><td>3</td><td>2</td><td>0</td><td>1.01</td><td>1.0</td><td>1.0</td><td>0.951582</td><td>1.258554</td><td>1.054069</td><td>1.561474</td><td>1.054069</td></tr><tr><td>&quot;B0B1J56P98&quot;</td><td>3407839</td><td>0.0</td><td>&quot;B0B1J56P98&quot;</td><td>3</td><td>2</td><td>1</td><td>1.01</td><td>1.0</td><td>1.0</td><td>0.943084</td><td>1.290833</td><td>1.081103</td><td>1.601522</td><td>1.081103</td></tr><tr><td>&quot;B07GX1WYFC&quot;</td><td>3407839</td><td>0.96</td><td>&quot;B0B1J56P98&quot;</td><td>3</td><td>2</td><td>0</td><td>0.0</td><td>0.0</td><td>0.0</td><td>0.963218</td><td>0.659458</td><td>0.552311</td><td>0.818182</td><td>0.552311</td></tr></tbody></table></div>"
      ],
      "text/plain": [
       "shape: (3, 15)\n",
       "┌────────────┬──────────┬──────────┬───────┬───┬────────────┬────────────┬────────────┬────────────┐\n",
       "│ next_item_ ┆ session_ ┆ w2v_weig ┆ next_ ┆ … ┆ price_mean ┆ price_last ┆ price_min_ ┆ price_max_ │\n",
       "│ prediction ┆ id       ┆ ht       ┆ item  ┆   ┆ _norm      ┆ _norm      ┆ norm       ┆ norm       │\n",
       "│ ---        ┆ ---      ┆ ---      ┆ ---   ┆   ┆ ---        ┆ ---        ┆ ---        ┆ ---        │\n",
       "│ str        ┆ i64      ┆ f64      ┆ str   ┆   ┆ f64        ┆ f64        ┆ f64        ┆ f64        │\n",
       "╞════════════╪══════════╪══════════╪═══════╪═══╪════════════╪════════════╪════════════╪════════════╡\n",
       "│ B09ZXWHPRD ┆ 3407839  ┆ 0.0      ┆ B0B1J ┆ … ┆ 1.258554   ┆ 1.054069   ┆ 1.561474   ┆ 1.054069   │\n",
       "│            ┆          ┆          ┆ 56P98 ┆   ┆            ┆            ┆            ┆            │\n",
       "│ B0B1J56P98 ┆ 3407839  ┆ 0.0      ┆ B0B1J ┆ … ┆ 1.290833   ┆ 1.081103   ┆ 1.601522   ┆ 1.081103   │\n",
       "│            ┆          ┆          ┆ 56P98 ┆   ┆            ┆            ┆            ┆            │\n",
       "│ B07GX1WYFC ┆ 3407839  ┆ 0.96     ┆ B0B1J ┆ … ┆ 0.659458   ┆ 0.552311   ┆ 0.818182   ┆ 0.552311   │\n",
       "│            ┆          ┆          ┆ 56P98 ┆   ┆            ┆            ┆            ┆            │\n",
       "└────────────┴──────────┴──────────┴───────┴───┴────────────┴────────────┴────────────┴────────────┘"
      ]
     },
     "execution_count": 153,
     "metadata": {},
     "output_type": "execute_result"
    }
   ],
   "source": [
    "feature = (\n",
    "     all_cases\n",
    "        .select(['next_item_prediction'])\n",
    "        .filter(pl.col('session_id')==session_id).explode('next_item_prediction')\n",
    "        .join(\n",
    "            eval_candidates.filter(pl.col('session_id')==session_id)\n",
    "            , how='left'\n",
    "            , on='next_item_prediction'\n",
    "        )\n",
    ")  \n",
    "\n",
    "feature.collect()\n",
    "                  # e"
   ]
  },
  {
   "cell_type": "code",
   "execution_count": 154,
   "id": "54c771d7-5d21-45d9-97b9-93f0a3a342e5",
   "metadata": {},
   "outputs": [
    {
     "name": "stdout",
     "output_type": "stream",
     "text": [
      "++++++++++++++++++++\n",
      "0: B06Y2H5JGX\n",
      "++++++++++++++++++++\n",
      "===title====\n",
      "    ANSIO Fer à repasser à vapeur en céramique, 2000 W, cordon d'alimentation 3m / 10ft, réservoir d'eau 200ml - violet/blanc\n",
      "\n",
      "===desc====\n",
      "    CONTRÔLE DE TEMPÉRATURE RÉGLABLE: Le réglage de température précis permet de faire correspondre le type de vêtement pour une finition parfaite.\n",
      "\n",
      "unique_id      1489916\n",
      "price            24.97\n",
      "brand            ANSIO\n",
      "color           Violet\n",
      "size              None\n",
      "model             None\n",
      "material     Céramique\n",
      "author            None\n",
      "Name: 0, dtype: object\n",
      "\n",
      "\n",
      "++++++++++++++++++++\n",
      "1: B0811QN9PN\n",
      "++++++++++++++++++++\n",
      "===title====\n",
      "    Yabano Fer a Repasser, Fer à Vapeur 2400W, 350 ml Réservoir, Fonction Pressing 320g/min, Semelle en Céramique, 2,5m Cable, Auto-nettoyage\n",
      "\n",
      "===desc====\n",
      "    💨2400 Watts, Semelle céramique à trous multiples.\n",
      "\n",
      "unique_id                1491923\n",
      "price                      36.99\n",
      "brand                     Yabano\n",
      "color                        Blu\n",
      "size                        None\n",
      "model                       None\n",
      "material     plaque en céramique\n",
      "author                      None\n",
      "Name: 1, dtype: object\n",
      "\n",
      "\n"
     ]
    }
   ],
   "source": [
    "show_single_case(session_id=session_id, session_pl=all_cases, product_pl=product_pl)"
   ]
  },
  {
   "cell_type": "code",
   "execution_count": 155,
   "id": "93a6a567-817f-4f71-a6ff-8197d7eba9e2",
   "metadata": {},
   "outputs": [
    {
     "name": "stdout",
     "output_type": "stream",
     "text": [
      "++++++++++++++++++++\n",
      "0: B0B1J56P98\n",
      "++++++++++++++++++++\n",
      "===title====\n",
      "    Cozeemax Fer à vapeur 2400 W, 320 g/min - Semelle en céramique - Nettoyage automatique et explosion - Arrêt de goutte - Réservoir d'eau de 300 ml - Vapeur verticale\n",
      "\n",
      "===desc====\n",
      "    Thermostat réglable et vapeur : un contrôle précis de la température et un contrôle de vapeur variable peuvent protéger vos vêtements dans les meilleures conditions. Parfait pour tous les tissus tels que le nylon, la soie, la laine, le coton, les jeans et le lin.\n",
      "\n",
      "unique_id     1475018\n",
      "price           39.99\n",
      "brand        Cozeemax\n",
      "color            None\n",
      "size             None\n",
      "model          AJ2016\n",
      "material         None\n",
      "author           None\n",
      "Name: 0, dtype: object\n",
      "\n",
      "\n",
      "++++++++++++++++++++\n",
      "1: B09ZXWHPRD\n",
      "++++++++++++++++++++\n",
      "===title====\n",
      "    Défroisseur vapeur vertical portable voyage, 280ml, 1500W Fer à vapeur pratique Chauffage rapide, vapeur 30g/min, pour vêtements, rideaux, meubles rembourrés\n",
      "\n",
      "===desc====\n",
      "    【Conception de sécurité】 Chaque cordon d'alimentation est rigoureusement testé pour une sécurité et une durabilité maximales contre les fuites et la surchauffe, avec arrêt automatique en cas de manque d'eau et arrêt automatique après 8 minutes d'inactivité, pour une sécurité absolue.\n",
      "\n",
      "unique_id             1480051\n",
      "price                   38.99\n",
      "brand        AIOLO INNOVATION\n",
      "color                    None\n",
      "size                     None\n",
      "model            AI-KG1808-EU\n",
      "material                 None\n",
      "author                   None\n",
      "Name: 1, dtype: object\n",
      "\n",
      "\n",
      "++++++++++++++++++++\n",
      "2: B07GX1WYFC\n",
      "++++++++++++++++++++\n",
      "===title====\n",
      "    Fer a repasser vapeur - Fer à repasser vapeur - Centrale vapeur à 7 fonctions avec semelle spéciale en acier inoxydable - DB 3704 blanc-bleu Clatronic\n",
      "\n",
      "===desc====\n",
      "    Garantie : Clatronic vous offre une garantie de 1 an. Vous pouvez donc acheter ce produit en toute sécurité. Si toutefois, vous n'êtes pas satisfait du produit, contactez notre SAV. Nous trouverons une solution ensemble\n",
      "\n",
      "unique_id              1485586\n",
      "price                    20.43\n",
      "brand                Clatronic\n",
      "color        Bleu Foncé/Blanc.\n",
      "size                      None\n",
      "model                  DB 3704\n",
      "material                  Inox\n",
      "author                    None\n",
      "Name: 2, dtype: object\n",
      "\n",
      "\n"
     ]
    }
   ],
   "source": [
    "show_single_case(session_id=session_id, session_pl=all_cases, product_pl=product_pl\n",
    "                , item_list_col='next_item_prediction')\n"
   ]
  },
  {
   "cell_type": "markdown",
   "id": "512cd6e4-e914-4b32-98b2-763ea68d793e",
   "metadata": {
    "jp-MarkdownHeadingCollapsed": true,
    "tags": []
   },
   "source": [
    "## recall@100=False "
   ]
  },
  {
   "cell_type": "code",
   "execution_count": null,
   "id": "a55d8012-b99d-43cf-bfed-9272029915fe",
   "metadata": {},
   "outputs": [],
   "source": []
  }
 ],
 "metadata": {
  "environment": {
   "kernel": "kdd_2023",
   "name": "common-cu110.m104",
   "type": "gcloud",
   "uri": "gcr.io/deeplearning-platform-release/base-cu110:m104"
  },
  "kernelspec": {
   "display_name": "py3.8(kdd_2023)",
   "language": "python",
   "name": "kdd_2023"
  },
  "language_info": {
   "codemirror_mode": {
    "name": "ipython",
    "version": 3
   },
   "file_extension": ".py",
   "mimetype": "text/x-python",
   "name": "python",
   "nbconvert_exporter": "python",
   "pygments_lexer": "ipython3",
   "version": "3.8.16"
  }
 },
 "nbformat": 4,
 "nbformat_minor": 5
}
