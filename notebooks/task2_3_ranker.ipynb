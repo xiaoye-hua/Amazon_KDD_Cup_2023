{
 "cells": [
  {
   "cell_type": "code",
   "execution_count": 93,
   "id": "6c5412fb-dc63-4fc0-b6b3-b42a7143eeac",
   "metadata": {},
   "outputs": [],
   "source": [
    "# ! ls ../data"
   ]
  },
  {
   "cell_type": "markdown",
   "id": "cfb20369-bc15-496e-9ca7-96ea3337a84e",
   "metadata": {},
   "source": [
    "# Packages "
   ]
  },
  {
   "cell_type": "code",
   "execution_count": 1,
   "id": "aabe0c4e-8729-4f63-9722-c12d233ca6b5",
   "metadata": {
    "tags": []
   },
   "outputs": [
    {
     "name": "stderr",
     "output_type": "stream",
     "text": [
      "/home/jupyter/.cache/pypoetry/virtualenvs/kdd-2023-KklMGVX0-py3.8/lib/python3.8/site-packages/implicit/gpu/__init__.py:13: UserWarning: CUDA extension is built, but disabling GPU support because of 'Cuda Error: no CUDA-capable device is detected (/project/./implicit/gpu/utils.h:71)'\n",
      "  warnings.warn(\n"
     ]
    }
   ],
   "source": [
    "%load_ext autoreload\n",
    "%autoreload 2\n",
    "import sys\n",
    "\n",
    "import logging\n",
    "base_dir = '../'\n",
    "sys.path.append(base_dir)\n",
    "import os\n",
    "from utils import *\n",
    "\n",
    "import joblib\n",
    "import os\n",
    "import numpy as np\n",
    "import pandas as pd\n",
    "from gensim.models import Word2Vec\n",
    "from gensim.similarities.annoy import AnnoyIndexer\n",
    "\n",
    "\n",
    "from annoy import AnnoyIndex\n",
    "import polars as pl\n",
    "import implicit\n",
    "from src.eval import model_eval\n",
    "\n",
    "import scipy.sparse as sps\n",
    "from utils import str2list\n",
    "from src.config import raw_data_session_id_dir, candidate_file_name\n",
    "from lightgbm import LGBMRanker\n",
    "from lightgbm import early_stopping\n",
    "from utils import *\n",
    "from src.case_analysis import show_single_case\n",
    "# try github "
   ]
  },
  {
   "cell_type": "markdown",
   "id": "1355ce62-0ebd-4629-99e5-96bf2946bed5",
   "metadata": {
    "tags": []
   },
   "source": [
    "# Config "
   ]
  },
  {
   "cell_type": "code",
   "execution_count": 2,
   "id": "c5d2edbe-29b1-40cf-985b-0551db0e3e9a",
   "metadata": {},
   "outputs": [],
   "source": [
    "debug = False\n",
    "\n",
    "task = 'task2'\n",
    "\n",
    "version = 'v3'\n",
    "# # target locales: locales needed for task1\n",
    "if task == 'task1':\n",
    "    target_locals = [\"DE\", 'JP', 'UK']\n",
    "elif task == 'task2':\n",
    "    target_locals = ['ES', 'FR', 'IT']\n",
    "else:\n",
    "    assert 1 == 2\n",
    "\n",
    "\n",
    "ranker_train_data_dir = f'../data/rank_train_data_{task}_{version}'\n",
    "\n",
    "rank_model_version = f'{task}_rank_lgbm_{version}'"
   ]
  },
  {
   "cell_type": "code",
   "execution_count": 3,
   "id": "72ef90af-49f4-421c-ad25-15dfe7bbcf6f",
   "metadata": {},
   "outputs": [
    {
     "data": {
      "text/plain": [
       "'task2_rank_lgbm_v3'"
      ]
     },
     "execution_count": 3,
     "metadata": {},
     "output_type": "execute_result"
    }
   ],
   "source": [
    "rank_model_version"
   ]
  },
  {
   "cell_type": "code",
   "execution_count": 4,
   "id": "4935a8e7-6546-4e6f-b5fd-139714917ffc",
   "metadata": {},
   "outputs": [
    {
     "name": "stdout",
     "output_type": "stream",
     "text": [
      "candidates\t\t   rank_train_data_task2_v2  session_item_features\n",
      "eval_data\t\t   rank_train_data_task2_v3  sub_files\n",
      "rank_train_data\t\t   rank_train_data_v2\t     train_data\n",
      "rank_train_data_task1_v10  raw_data\n",
      "rank_train_data_task2\t   raw_data_session_id\n"
     ]
    }
   ],
   "source": [
    "! ls ../data/"
   ]
  },
  {
   "cell_type": "code",
   "execution_count": 5,
   "id": "0cac5f9f-76a0-4069-a57a-17b45bba83fd",
   "metadata": {},
   "outputs": [],
   "source": [
    "\n",
    "if debug:\n",
    "    SAMPLE_NUM = 1000\n",
    "else:\n",
    "    SAMPLE_NUM = None\n",
    "\n",
    "candidate_path = '../data/candidates/'\n",
    "model_dir = '../model_training'\n",
    "\n",
    "\n",
    "w2v_model_version = f'w2v_{task}'\n",
    "nic_model_version = f'nic_{task}'\n",
    "\n",
    "rank_model_dir = os.path.join(model_dir, rank_model_version)\n",
    "model_for_eval = True\n",
    "# w2v_topn=100\n",
    "# nic_topn=100\n",
    "# PREDS_PER_SESSION = 100\n",
    "\n",
    "# num_tree = 100\n",
    "\n",
    "# submit_file = f'submission_{task}_ALS.parquet'\n",
    "num_tree = 100\n",
    "w2v_model_dir = os.path.join(model_dir, w2v_model_version)\n",
    "w2v_model_file = os.path.join(w2v_model_dir, f\"{model_for_eval}.model\")\n",
    "annoy_index_file = os.path.join(w2v_model_dir, f\"{str(num_tree)}_{model_for_eval}.index\")\n",
    "\n",
    "\n",
    "sub_file = f'../data/sub_files/{rank_model_version}.parque'\n",
    "eval_sub_file = f'../data/sub_files/eval_{rank_model_version}.parque'"
   ]
  },
  {
   "cell_type": "code",
   "execution_count": 6,
   "id": "05ef9123-0967-493c-8eb0-846a42483a2b",
   "metadata": {},
   "outputs": [
    {
     "data": {
      "text/plain": [
       "'../model_training/task2_rank_lgbm_v3'"
      ]
     },
     "execution_count": 6,
     "metadata": {},
     "output_type": "execute_result"
    }
   ],
   "source": [
    "rank_model_dir"
   ]
  },
  {
   "cell_type": "code",
   "execution_count": null,
   "id": "c3fc407c-cb7f-4e22-805e-355089d8791c",
   "metadata": {},
   "outputs": [],
   "source": []
  },
  {
   "cell_type": "code",
   "execution_count": 7,
   "id": "902bc312-8c20-42f7-ad41-b5d77d89fcce",
   "metadata": {},
   "outputs": [
    {
     "name": "stdout",
     "output_type": "stream",
     "text": [
      "mkdir: cannot create directory ‘../model_training/task2_rank_lgbm_v3’: File exists\n"
     ]
    }
   ],
   "source": [
    "! mkdir {rank_model_dir}"
   ]
  },
  {
   "cell_type": "code",
   "execution_count": 8,
   "id": "2c5c0503-6558-4ab1-8065-dbd0b53f1fea",
   "metadata": {},
   "outputs": [
    {
     "data": {
      "text/plain": [
       "'../data/sub_files/task2_rank_lgbm_v3.parque'"
      ]
     },
     "execution_count": 8,
     "metadata": {},
     "output_type": "execute_result"
    }
   ],
   "source": [
    "sub_file"
   ]
  },
  {
   "cell_type": "code",
   "execution_count": 9,
   "id": "749ab1d2-b4d3-4d7b-8145-5e3723ff81a0",
   "metadata": {},
   "outputs": [
    {
     "data": {
      "text/plain": [
       "'../data/sub_files/eval_task2_rank_lgbm_v3.parque'"
      ]
     },
     "execution_count": 9,
     "metadata": {},
     "output_type": "execute_result"
    }
   ],
   "source": [
    "eval_sub_file"
   ]
  },
  {
   "cell_type": "markdown",
   "id": "94cdfee9-b6ef-44ca-92a6-c17e487cd891",
   "metadata": {},
   "source": [
    "## Ranker config"
   ]
  },
  {
   "cell_type": "code",
   "execution_count": 12,
   "id": "4c038e98-85bc-4df0-a772-040620863a3f",
   "metadata": {},
   "outputs": [],
   "source": [
    "estimator = 1000\n",
    "early_stop_rounds = 10\n",
    "eval_frac = 0.1\n",
    "if debug:\n",
    "    early_stop_rounds = 5\n",
    "    \n",
    "target = 'target'\n",
    "feature_cols = [\n",
    "    'next_item_weight'\n",
    "    , 'next_item_weight_nfi'\n",
    "    , 'next_item_weight_co_visit'\n",
    "    , 'locale'\n",
    "    , 'w2v_weight'\n",
    "    , 'last_item_similarity'\n",
    "    # , 'prev_item_similarity'\t\n",
    "    , 'prev_length'\n",
    "    , 'price_mean_norm'\t\n",
    "    , 'price_last_norm'\n",
    "    , 'price_min_norm'\n",
    "    , 'price_max_norm'\n",
    "    \n",
    "    \n",
    "    ,'next_item_cnt', \n",
    "    'next_item_normalized_weight',\n",
    "    'discount_weight', 'following_weight', \n",
    "    'following_discount_weight', 'previous_weight', \n",
    "    'previous_discount_weight',\n",
    "    'item_cnt', \n",
    "    'pos_weighted_cnt',\n",
    "    'avg_pos', 'median_pos'\n",
    "    \n",
    "     ,'whether_w2v','whether_nic', 'whether_nfi', 'whether_covisit',\n",
    "    'strategy_num',\n",
    "    'vec_0', 'vec_1', 'vec_2', 'vec_3', 'vec_4', 'vec_5', 'vec_6', 'vec_7', 'vec_8', 'vec_9', 'vec_10', 'vec_11', 'vec_12', 'vec_13', 'vec_14', 'vec_15', 'vec_16', 'vec_17', 'vec_18', 'vec_19', 'vec_20', 'vec_21', 'vec_22',\n",
    "    'vec_23', 'vec_24', 'vec_25', 'vec_26', 'vec_27', \n",
    "    'vec_28', 'vec_29', 'vec_30', 'vec_31',\n",
    "    'nicnic_weight'\n",
    "]\n",
    "\n",
    "categorical_feature=['locale', \n",
    "                     'whether_w2v','whether_nic', 'whether_nfi', 'whether_covisit'\n",
    "                    ]"
   ]
  },
  {
   "cell_type": "markdown",
   "id": "f52110d4-f079-4f9a-a427-2f50bbf82e7e",
   "metadata": {},
   "source": [
    "# Function"
   ]
  },
  {
   "cell_type": "markdown",
   "id": "869cecdd-8bc7-40f6-95c6-762a916396a1",
   "metadata": {},
   "source": [
    "## More Features "
   ]
  },
  {
   "cell_type": "code",
   "execution_count": 13,
   "id": "aded81d9-722a-4abd-ba26-13bb2101ef51",
   "metadata": {},
   "outputs": [],
   "source": [
    "session_features = pl.scan_parquet('../data/session_item_features/session_features.parquet')\n",
    "item_features = pl.scan_parquet('../data/session_item_features/item_features.parquet')\n",
    "product_pl = (pl.scan_parquet(os.path.join(base_dir, raw_data_session_id_dir, \n",
    "                                          'products_train.parquet'))\n",
    "                  # .with_columns(\n",
    "                  #     pl.when(pl.col('locale')=='DE').then(1).when(pl.col('locale')=='DE')\n",
    "                  #       .then(2)\n",
    "                  #       .otherwise(3).alias('locale')\n",
    "                  # )\n",
    "             )\n",
    "\n",
    "def get_additional_feature(data_pl, session_features=session_features, product_pl=product_pl, item_features=item_features):\n",
    "    session_join_keys = ['session_id']\n",
    "    session_fea_cols = ['mean_price', 'last_price', 'min_price', 'max_price']\n",
    "    data_pl = (\n",
    "        data_pl\n",
    "         .with_columns(\n",
    "            pl.col('session_id').cast(pl.Int64)\n",
    "        )\n",
    "        .join(session_features.select(session_join_keys+session_fea_cols+['locale']),\n",
    "                                    how='left', on=session_join_keys, suffix='_str')\n",
    "            .join(item_features, how='left',\n",
    "                  left_on='next_item_prediction',\n",
    "                  right_on='prev_items')\n",
    "            .join(product_pl.select(['id', 'locale', 'price']), how='left', right_on=['id', 'locale']\n",
    "                 , left_on=['next_item_prediction', 'locale_str'])\n",
    "            .with_columns(\n",
    "              pl.col('price').truediv(pl.col('mean_price')).alias('price_mean_norm')\n",
    "              , pl.col('price').truediv(pl.col('last_price')).alias('price_last_norm')\n",
    "              , pl.col('price').truediv(pl.col('min_price')).alias('price_min_norm')\n",
    "              , pl.col('price').truediv(pl.col('max_price')).alias('price_max_norm')\n",
    "              # , pl.when(pl.col('min_price')==pl.col('max_price')).then(1).otherwise((pl.col('price')-pl.col('min_price'))/(pl.col('min_price')-pl.col('max_price'))).alias('price_norm')\n",
    "            )\n",
    "            .select(\n",
    "                pl.all().exclude(session_fea_cols+['locale_str', 'price'])\n",
    "            )\n",
    "\n",
    "    )\n",
    "    return data_pl"
   ]
  },
  {
   "cell_type": "markdown",
   "id": "33cccd9d-18fd-4339-a739-39d7021cef73",
   "metadata": {
    "tags": []
   },
   "source": [
    "# Read data"
   ]
  },
  {
   "cell_type": "code",
   "execution_count": 14,
   "id": "3486f554-4ca0-460c-9d31-4b4b1f2c5e6b",
   "metadata": {},
   "outputs": [],
   "source": [
    "\n",
    "eval_pl = pl.scan_parquet(os.path.join(base_dir, raw_data_session_id_dir, 'sessions_eval.parquet'), n_rows=SAMPLE_NUM).filter(pl.col('locale').is_in(target_locals)).with_columns(pl.col('prev_items').apply(str2list))\n",
    "\n",
    "# df_sess.head(3).collect()\n",
    "test_pl = pl.scan_parquet(os.path.join(base_dir, raw_data_session_id_dir, f'sessions_test_{task}.parquet'), n_rows=SAMPLE_NUM).with_columns(pl.col('prev_items').apply(str2list))\n",
    "test4task3_pl = pl.scan_parquet(os.path.join(base_dir, raw_data_session_id_dir, 'sessions_test_task3.parquet'), n_rows=SAMPLE_NUM).filter(pl.col('locale').is_in(target_locals)).with_columns(pl.col('prev_items').apply(str2list))\n",
    "\n"
   ]
  },
  {
   "cell_type": "code",
   "execution_count": 15,
   "id": "bcea5661-384c-45a0-aec7-9d56948127ff",
   "metadata": {},
   "outputs": [
    {
     "name": "stdout",
     "output_type": "stream",
     "text": [
      "eval.parquet  test.parquet  test4task3.parquet\ttrain\n"
     ]
    }
   ],
   "source": [
    "! ls {ranker_train_data_dir}"
   ]
  },
  {
   "cell_type": "code",
   "execution_count": 16,
   "id": "0104fdff-becf-42e2-9271-fa769693607f",
   "metadata": {},
   "outputs": [
    {
     "data": {
      "text/plain": [
       "'../data/rank_train_data_task2_v3'"
      ]
     },
     "execution_count": 16,
     "metadata": {},
     "output_type": "execute_result"
    }
   ],
   "source": [
    "ranker_train_data_dir"
   ]
  },
  {
   "cell_type": "code",
   "execution_count": 17,
   "id": "809a077b-64ee-4e0c-b3ef-26dd5a634f67",
   "metadata": {},
   "outputs": [],
   "source": [
    "train_candidates = pl.scan_parquet(os.path.join(ranker_train_data_dir, 'train/' '*.parquet'), n_rows=SAMPLE_NUM)\n",
    "# train_candidates = pl.scan_parquet(os.path.join(ranker_train_data_dir, 'train.parquet'), n_rows=SAMPLE_NUM)\n",
    "\n",
    "\n",
    "eval_candidates = pl.scan_parquet(os.path.join(ranker_train_data_dir, 'eval.parquet'), n_rows=SAMPLE_NUM)\n"
   ]
  },
  {
   "cell_type": "code",
   "execution_count": 18,
   "id": "25e225b5-72aa-480f-8c0f-3879303cd207",
   "metadata": {},
   "outputs": [],
   "source": [
    "test_candidates = pl.scan_parquet(os.path.join(ranker_train_data_dir, 'test.parquet'), n_rows=SAMPLE_NUM)\n",
    "test4task3_candidates = pl.scan_parquet(os.path.join(ranker_train_data_dir, 'test4task3.parquet'), n_rows=SAMPLE_NUM)"
   ]
  },
  {
   "cell_type": "code",
   "execution_count": 19,
   "id": "606c57a4-9fd6-4669-ab54-6d44fad7a500",
   "metadata": {},
   "outputs": [],
   "source": [
    "# train_candidates.collect().shape"
   ]
  },
  {
   "cell_type": "code",
   "execution_count": 20,
   "id": "0555ac0f-d5f6-4290-8458-fd0cc4672dc6",
   "metadata": {},
   "outputs": [],
   "source": [
    "# ! ls {ranker_train_data_dir}/train"
   ]
  },
  {
   "cell_type": "raw",
   "id": "897728e2-9c35-468f-807e-59c25cb1477e",
   "metadata": {},
   "source": []
  },
  {
   "cell_type": "code",
   "execution_count": 21,
   "id": "4bdcbcad-880f-4ed8-bd51-dd2aaa53877f",
   "metadata": {},
   "outputs": [],
   "source": [
    "dic = eval_candidates.schema"
   ]
  },
  {
   "cell_type": "code",
   "execution_count": 22,
   "id": "b3eeb8e4-4731-4d0d-92fc-cbd962b84e3f",
   "metadata": {},
   "outputs": [
    {
     "data": {
      "text/plain": [
       "dict_keys(['session_id', 'next_item_prediction', 'w2v_weight', 'whether_w2v', 'whether_nic', 'whether_nicnic', 'whether_nfi', 'whether_covisit', 'strategy_num', 'nicnic_weight', 'next_item', 'locale', 'prev_length', 'rec_num', 'target', 'next_item_weight', 'next_item_cnt', 'next_item_weight_nfi', 'next_item_normalized_weight', 'next_item_weight_co_visit', 'discount_weight', 'following_weight', 'following_discount_weight', 'previous_weight', 'previous_discount_weight', 'last_item_similarity', 'vec_0', 'vec_1', 'vec_2', 'vec_3', 'vec_4', 'vec_5', 'vec_6', 'vec_7', 'vec_8', 'vec_9', 'vec_10', 'vec_11', 'vec_12', 'vec_13', 'vec_14', 'vec_15', 'vec_16', 'vec_17', 'vec_18', 'vec_19', 'vec_20', 'vec_21', 'vec_22', 'vec_23', 'vec_24', 'vec_25', 'vec_26', 'vec_27', 'vec_28', 'vec_29', 'vec_30', 'vec_31'])"
      ]
     },
     "execution_count": 22,
     "metadata": {},
     "output_type": "execute_result"
    }
   ],
   "source": [
    "dic.keys()"
   ]
  },
  {
   "cell_type": "code",
   "execution_count": 23,
   "id": "41a7e0a1-ae35-42d5-9e76-f10dd75b6093",
   "metadata": {},
   "outputs": [
    {
     "data": {
      "text/plain": [
       "{'session_id': Float64,\n",
       " 'next_item_prediction': Utf8,\n",
       " 'w2v_weight': Float64,\n",
       " 'whether_w2v': Int64,\n",
       " 'whether_nic': Int64,\n",
       " 'whether_nicnic': Int64,\n",
       " 'whether_nfi': Int64,\n",
       " 'whether_covisit': Int64,\n",
       " 'strategy_num': Int64,\n",
       " 'nicnic_weight': Float64,\n",
       " 'next_item': Utf8,\n",
       " 'locale': Float64,\n",
       " 'prev_length': Float64,\n",
       " 'rec_num': Float64,\n",
       " 'target': Float64,\n",
       " 'next_item_weight': Float64,\n",
       " 'next_item_cnt': Float64,\n",
       " 'next_item_weight_nfi': Float32,\n",
       " 'next_item_normalized_weight': Float64,\n",
       " 'next_item_weight_co_visit': Float32,\n",
       " 'discount_weight': Float32,\n",
       " 'following_weight': Float32,\n",
       " 'following_discount_weight': Float32,\n",
       " 'previous_weight': Float32,\n",
       " 'previous_discount_weight': Float32,\n",
       " 'last_item_similarity': Float32,\n",
       " 'vec_0': Float64,\n",
       " 'vec_1': Float64,\n",
       " 'vec_2': Float64,\n",
       " 'vec_3': Float64,\n",
       " 'vec_4': Float64,\n",
       " 'vec_5': Float64,\n",
       " 'vec_6': Float64,\n",
       " 'vec_7': Float64,\n",
       " 'vec_8': Float64,\n",
       " 'vec_9': Float64,\n",
       " 'vec_10': Float64,\n",
       " 'vec_11': Float64,\n",
       " 'vec_12': Float64,\n",
       " 'vec_13': Float64,\n",
       " 'vec_14': Float64,\n",
       " 'vec_15': Float64,\n",
       " 'vec_16': Float64,\n",
       " 'vec_17': Float64,\n",
       " 'vec_18': Float64,\n",
       " 'vec_19': Float64,\n",
       " 'vec_20': Float64,\n",
       " 'vec_21': Float64,\n",
       " 'vec_22': Float64,\n",
       " 'vec_23': Float64,\n",
       " 'vec_24': Float64,\n",
       " 'vec_25': Float64,\n",
       " 'vec_26': Float64,\n",
       " 'vec_27': Float64,\n",
       " 'vec_28': Float64,\n",
       " 'vec_29': Float64,\n",
       " 'vec_30': Float64,\n",
       " 'vec_31': Float64}"
      ]
     },
     "execution_count": 23,
     "metadata": {},
     "output_type": "execute_result"
    }
   ],
   "source": [
    "train_candidates.schema"
   ]
  },
  {
   "cell_type": "markdown",
   "id": "ed548a53-924e-4fbf-864c-06cfedc6f9cc",
   "metadata": {
    "tags": []
   },
   "source": [
    "# Ranker "
   ]
  },
  {
   "cell_type": "markdown",
   "id": "0089a10a-3cfc-42fd-ad5a-1b51d7fa35a0",
   "metadata": {
    "tags": []
   },
   "source": [
    "## Train model"
   ]
  },
  {
   "cell_type": "code",
   "execution_count": null,
   "id": "f3586ce2-a4fb-48d6-8635-d771997eaed2",
   "metadata": {},
   "outputs": [],
   "source": []
  },
  {
   "cell_type": "code",
   "execution_count": 24,
   "id": "45c77953-05c4-404e-82e2-daf4ecd137d5",
   "metadata": {},
   "outputs": [],
   "source": [
    "ranker = LGBMRanker(\n",
    "    objective=\"lambdarank\",\n",
    "    metric=\"ndcg\",\n",
    "    boosting_type=\"gbdt\",\n",
    "    n_estimators=estimator, \n",
    "    importance_type='gain',\n",
    "    eval_at=[3]\n",
    ")"
   ]
  },
  {
   "cell_type": "code",
   "execution_count": null,
   "id": "792db200-f119-4826-9fcc-703870de35c0",
   "metadata": {},
   "outputs": [],
   "source": []
  },
  {
   "cell_type": "markdown",
   "id": "ffa2d062-0ad5-43c2-9c92-569c8d11e55f",
   "metadata": {
    "tags": []
   },
   "source": [
    "### eval data for training "
   ]
  },
  {
   "cell_type": "code",
   "execution_count": 25,
   "id": "03ce8699-eacd-4bc1-a576-0e24c756d5b2",
   "metadata": {},
   "outputs": [],
   "source": [
    "# eval_candidates.head().collect()"
   ]
  },
  {
   "cell_type": "code",
   "execution_count": 26,
   "id": "834b8255-0aaa-47ef-8ab8-81edbd7ea824",
   "metadata": {},
   "outputs": [],
   "source": [
    "# train_candidates.collect().shape"
   ]
  },
  {
   "cell_type": "code",
   "execution_count": 27,
   "id": "37c9c213-f377-47e2-a60f-cfe721043f78",
   "metadata": {},
   "outputs": [],
   "source": [
    "# test_candidates.head(3).collect()"
   ]
  },
  {
   "cell_type": "code",
   "execution_count": null,
   "id": "04eee3ac-f091-44c3-acc1-3ff49636ca44",
   "metadata": {},
   "outputs": [],
   "source": []
  },
  {
   "cell_type": "code",
   "execution_count": null,
   "id": "56658fad-50f2-4f7f-a97b-3ff739a087ab",
   "metadata": {},
   "outputs": [],
   "source": []
  },
  {
   "cell_type": "code",
   "execution_count": 28,
   "id": "a2b6b06c-f715-4e1f-a028-a92704903bc2",
   "metadata": {},
   "outputs": [],
   "source": [
    "# train_data_source"
   ]
  },
  {
   "cell_type": "code",
   "execution_count": 29,
   "id": "1873035c-43d0-4c08-b048-e5017dc403b0",
   "metadata": {},
   "outputs": [],
   "source": [
    "train_data_source = 'train' # train or 'eval'\n",
    "\n",
    "if train_data_source == 'eval':\n",
    "    target_df = eval_candidates\n",
    "    negative_sampling = 0.1\n",
    "\n",
    "    cols = ['session_id', 'next_item', 'next_item_prediction', 'target']\n",
    "    sample_pl = target_df.select(cols)\n",
    "    pos = sample_pl.filter(pl.col('target')==1)\n",
    "    neg = (sample_pl\n",
    "               .filter(pl.col('target')==0)\n",
    "          )\n",
    "    neg_original_len = neg.select('session_id').collect().shape[0]\n",
    "    print(f'Original negative num: {neg_original_len}')\n",
    "    neg = neg.groupby('session_id').agg(\n",
    "        pl.all().sample(frac=negative_sampling)\n",
    "        )\n",
    "    neg = neg.explode(neg.columns[1:])\n",
    "    # # print(neg.shape)\n",
    "    # # print(neg.head().collect())\n",
    "    sample_pl = pl.concat([pos, neg], how='vertical')\n",
    "    target_df = sample_pl.join(target_df, how='left', on=cols).collect().sort('session_id').lazy()\n",
    "    del sample_pl\n",
    "else:\n",
    "    target_df = train_candidates\n",
    "    del train_candidates"
   ]
  },
  {
   "cell_type": "markdown",
   "id": "0a4305b1-62ce-46f8-b424-6e8949bc1640",
   "metadata": {},
   "source": [
    "### Train "
   ]
  },
  {
   "cell_type": "code",
   "execution_count": 30,
   "id": "4c0169ac-77ee-40a9-8d5f-cf119a1560ea",
   "metadata": {},
   "outputs": [],
   "source": [
    "# target_df.schema"
   ]
  },
  {
   "cell_type": "code",
   "execution_count": null,
   "id": "5f12a18f-f088-473a-8f7f-87c4a12e8d96",
   "metadata": {},
   "outputs": [],
   "source": []
  },
  {
   "cell_type": "code",
   "execution_count": null,
   "id": "d1f36d04-75ed-4d64-b758-239ef3c2a9c5",
   "metadata": {},
   "outputs": [],
   "source": []
  },
  {
   "cell_type": "code",
   "execution_count": 31,
   "id": "0c41f293-fccf-4b16-820c-49be47723a89",
   "metadata": {},
   "outputs": [],
   "source": [
    "# target_train_candidates.head().collect()"
   ]
  },
  {
   "cell_type": "code",
   "execution_count": 32,
   "id": "4ef72cf6-08d2-4722-996c-469c4558433d",
   "metadata": {},
   "outputs": [],
   "source": [
    "# session_features.head().collect()"
   ]
  },
  {
   "cell_type": "code",
   "execution_count": 33,
   "id": "bca4b8cd-36e1-48ec-9a57-d954e02e6dd7",
   "metadata": {},
   "outputs": [],
   "source": [
    "# product_pl.head().collect()"
   ]
  },
  {
   "cell_type": "code",
   "execution_count": 34,
   "id": "cdc7cda2-d3f1-4e39-8a5b-49caf107030c",
   "metadata": {},
   "outputs": [],
   "source": [
    "# product_pl.head().collect()"
   ]
  },
  {
   "cell_type": "code",
   "execution_count": 35,
   "id": "f8cb5011-5bef-43b1-91cd-7b48067d4931",
   "metadata": {},
   "outputs": [],
   "source": [
    "# session_features.schema"
   ]
  },
  {
   "cell_type": "code",
   "execution_count": 36,
   "id": "c339076c-e43a-49d7-9c4d-816ebaa20cc7",
   "metadata": {},
   "outputs": [],
   "source": [
    "# target_train_candidates"
   ]
  },
  {
   "cell_type": "code",
   "execution_count": null,
   "id": "ca67cd65-1c87-4532-b5ea-4c0f538178ef",
   "metadata": {},
   "outputs": [],
   "source": []
  },
  {
   "cell_type": "code",
   "execution_count": null,
   "id": "9c879f62-0829-4314-b1e6-75bc095c42db",
   "metadata": {},
   "outputs": [],
   "source": []
  },
  {
   "cell_type": "code",
   "execution_count": 37,
   "id": "8309419d-c022-4c03-b10c-7a69cc86392d",
   "metadata": {},
   "outputs": [],
   "source": [
    "# data_pl = target_train_candidates"
   ]
  },
  {
   "cell_type": "code",
   "execution_count": 38,
   "id": "396f6b4b-4693-4cb3-becd-5b9c55ac286f",
   "metadata": {},
   "outputs": [],
   "source": [
    "# data_pl.select('locale').collect()"
   ]
  },
  {
   "cell_type": "code",
   "execution_count": 39,
   "id": "4daf7d5c-0f48-42a9-a166-fb7bfa193e83",
   "metadata": {},
   "outputs": [],
   "source": [
    "# data_pl.schema"
   ]
  },
  {
   "cell_type": "code",
   "execution_count": 40,
   "id": "cdba4333-bdd0-49f6-9b2b-a4b82b389ecd",
   "metadata": {},
   "outputs": [],
   "source": [
    "# session_features.schema"
   ]
  },
  {
   "cell_type": "code",
   "execution_count": 41,
   "id": "03f98367-f0e6-4162-a39f-9176a14a27b7",
   "metadata": {},
   "outputs": [],
   "source": [
    "# session_join_keys = ['session_id']\n",
    "# session_fea_cols = ['mean_price', 'last_price', 'min_price', 'max_price']\n",
    "# # data_pl = \n",
    "# (\n",
    "#     data_pl\n",
    "#     .with_columns(\n",
    "#         pl.col('session_id').cast(pl.Int64)\n",
    "#     )\n",
    "#     .join(session_features.select(session_join_keys+session_fea_cols+['locale']),\n",
    "#                                 how='left', on=session_join_keys, suffix='_str')\n",
    "#         .join(product_pl.select(['id', 'locale', 'price']), how='left', right_on=['id', 'locale']\n",
    "#              , left_on=['next_item_prediction', 'locale_str'])\n",
    "#         .with_columns(\n",
    "#           pl.col('price').truediv(pl.col('mean_price')).alias('price_mean_norm')\n",
    "#           , pl.col('price').truediv(pl.col('last_price')).alias('price_last_norm')\n",
    "#           , pl.col('price').truediv(pl.col('min_price')).alias('price_min_norm')\n",
    "#           , pl.col('price').truediv(pl.col('max_price')).alias('price_max_norm')\n",
    "#           # , pl.when(pl.col('min_price')==pl.col('max_price')).then(1).otherwise((pl.col('price')-pl.col('min_price'))/(pl.col('min_price')-pl.col('max_price'))).alias('price_norm')\n",
    "#         )\n",
    "#         .select(\n",
    "#             pl.all().exclude(session_fea_cols+['locale_str', 'price'])\n",
    "#         )\n",
    "\n",
    "# ).head().collect()#.select(['session_id','next_item_prediction', 'locale_str'])"
   ]
  },
  {
   "cell_type": "code",
   "execution_count": 64,
   "id": "06c0865c-442d-4e06-a1c7-c49b68f35208",
   "metadata": {},
   "outputs": [],
   "source": [
    "target_train_candidates = target_df\n",
    "# del target_df"
   ]
  },
  {
   "cell_type": "code",
   "execution_count": 65,
   "id": "d77cc5b0-3526-4636-83f6-e2d4addf16bf",
   "metadata": {},
   "outputs": [],
   "source": [
    "target_train_candidates = get_additional_feature(data_pl=target_train_candidates)"
   ]
  },
  {
   "cell_type": "code",
   "execution_count": 66,
   "id": "76d4bb67-7ed4-4dfe-8bfc-2df7288d6a1a",
   "metadata": {},
   "outputs": [],
   "source": [
    "# target_train_candidates.collect()"
   ]
  },
  {
   "cell_type": "code",
   "execution_count": 67,
   "id": "d43e60ba-bf54-47ea-8d93-1c0e78b8d9d6",
   "metadata": {},
   "outputs": [],
   "source": [
    "\n",
    "pos = target_train_candidates.filter(pl.col('target')==1)\n",
    "neg = (target_train_candidates\n",
    "           .filter(pl.col('target')==0)\n",
    "      )\n",
    "neg = neg.groupby('session_id').agg(\n",
    "    pl.all().sample(frac=0.3)\n",
    "    )\n",
    "neg = neg.explode(neg.columns[1:])\n",
    "target_train_candidates = pl.concat([pos, neg], how='vertical')\n"
   ]
  },
  {
   "cell_type": "code",
   "execution_count": null,
   "id": "fd65dd07-0035-48a7-a9e8-0da654827c0f",
   "metadata": {},
   "outputs": [],
   "source": []
  },
  {
   "cell_type": "code",
   "execution_count": 68,
   "id": "103cf449-db1d-44e1-b8d6-8b451c6b96fc",
   "metadata": {},
   "outputs": [],
   "source": [
    "train_session_id = target_train_candidates.select(pl.col('session_id')).unique().collect()\n",
    "\n",
    "session_num = train_session_id.shape[0]"
   ]
  },
  {
   "cell_type": "code",
   "execution_count": null,
   "id": "a8c56845-14ec-4124-a676-b2f9006adc21",
   "metadata": {},
   "outputs": [],
   "source": []
  },
  {
   "cell_type": "code",
   "execution_count": 69,
   "id": "3d152ff1-7e76-48ca-b36d-1eeac2abedb8",
   "metadata": {},
   "outputs": [],
   "source": [
    "random_pl = train_session_id.with_columns(\n",
    "        pl.Series(name='random', values=np.random.uniform(size=session_num))\n",
    ")"
   ]
  },
  {
   "cell_type": "code",
   "execution_count": 70,
   "id": "3d9ff66e-6607-4602-8ad3-6b2d7d5a430a",
   "metadata": {},
   "outputs": [],
   "source": [
    "train_candidates = target_train_candidates.join(random_pl.lazy(), how='left', on='session_id')\n",
    "\n",
    "sampled_train_candidates = train_candidates.filter(pl.col('random')>eval_frac).sort('session_id', descending=False).collect()\n",
    "sampled_eval_candidates = train_candidates.filter(pl.col('random')<=eval_frac).sort('session_id', descending=False).collect()"
   ]
  },
  {
   "cell_type": "code",
   "execution_count": 71,
   "id": "0e8b2b6d-bb00-4587-9329-84a7867ba37a",
   "metadata": {},
   "outputs": [
    {
     "name": "stdout",
     "output_type": "stream",
     "text": [
      "Train\n",
      "(4604291, 67)\n",
      "shape: (1, 1)\n",
      "┌─────────┐\n",
      "│ target  │\n",
      "│ ---     │\n",
      "│ f64     │\n",
      "╞═════════╡\n",
      "│ 0.02106 │\n",
      "└─────────┘\n",
      "\n",
      "\n",
      "Eval\n",
      "(502804, 67)\n",
      "shape: (1, 1)\n",
      "┌──────────┐\n",
      "│ target   │\n",
      "│ ---      │\n",
      "│ f64      │\n",
      "╞══════════╡\n",
      "│ 0.021267 │\n",
      "└──────────┘\n"
     ]
    }
   ],
   "source": [
    "print('Train')\n",
    "print(sampled_train_candidates.shape)\n",
    "print(sampled_train_candidates.select('target').mean())\n",
    "print()\n",
    "print()\n",
    "print('Eval')\n",
    "print(sampled_eval_candidates.shape)\n",
    "print(sampled_eval_candidates.select('target').mean())"
   ]
  },
  {
   "cell_type": "code",
   "execution_count": 72,
   "id": "154851ff-3a0d-4082-aacb-da66bc332953",
   "metadata": {},
   "outputs": [],
   "source": [
    "# sampled_train_candidates.head()"
   ]
  },
  {
   "cell_type": "markdown",
   "id": "637e7a9e-eba7-47f5-b5bf-09054f88398a",
   "metadata": {},
   "source": [
    "<!-- no positive items ->  -->"
   ]
  },
  {
   "cell_type": "code",
   "execution_count": 73,
   "id": "461cc375-1569-4628-aba3-c4680b00ed34",
   "metadata": {},
   "outputs": [],
   "source": [
    "# sampled_train_candidates.filter(pl.col('session_id')==0).sort('target', descending=True)"
   ]
  },
  {
   "cell_type": "code",
   "execution_count": 74,
   "id": "cbf29551-bdb7-400c-b723-42df82f89c2a",
   "metadata": {},
   "outputs": [],
   "source": [
    "# sampled_train_candidates.filter(pl.col('session_id')==5).sort('target', descending=True)"
   ]
  },
  {
   "cell_type": "code",
   "execution_count": 75,
   "id": "704d4b0d-ead2-4a0a-81fe-3144faf85e51",
   "metadata": {},
   "outputs": [],
   "source": [
    "# sampled_train_candidates.head()"
   ]
  },
  {
   "cell_type": "code",
   "execution_count": 76,
   "id": "f6e46d9d-81b9-46ce-a464-5c07f3e8b6f0",
   "metadata": {},
   "outputs": [],
   "source": [
    "# sampled_train_candidates.groupby('session_id').agg(pl.count())"
   ]
  },
  {
   "cell_type": "code",
   "execution_count": 77,
   "id": "b9553bb1-2484-4216-a7c5-c75420d4c0e4",
   "metadata": {},
   "outputs": [],
   "source": [
    "session_lengths_train = sampled_train_candidates.groupby('session_id').agg(pl.count()).select('count').to_pandas()['count'].values.tolist()\n",
    "session_lengths_eval = sampled_eval_candidates.groupby('session_id').agg(pl.count()).select('count').to_pandas()['count'].values.tolist()"
   ]
  },
  {
   "cell_type": "code",
   "execution_count": 78,
   "id": "91536d1e-ab79-4c13-97dc-b25a4d91e9b6",
   "metadata": {},
   "outputs": [
    {
     "data": {
      "text/html": [
       "<div>\n",
       "<style scoped>\n",
       "    .dataframe tbody tr th:only-of-type {\n",
       "        vertical-align: middle;\n",
       "    }\n",
       "\n",
       "    .dataframe tbody tr th {\n",
       "        vertical-align: top;\n",
       "    }\n",
       "\n",
       "    .dataframe thead th {\n",
       "        text-align: right;\n",
       "    }\n",
       "</style>\n",
       "<table border=\"1\" class=\"dataframe\">\n",
       "  <thead>\n",
       "    <tr style=\"text-align: right;\">\n",
       "      <th></th>\n",
       "      <th>0</th>\n",
       "    </tr>\n",
       "  </thead>\n",
       "  <tbody>\n",
       "    <tr>\n",
       "      <th>count</th>\n",
       "      <td>96958.000000</td>\n",
       "    </tr>\n",
       "    <tr>\n",
       "      <th>mean</th>\n",
       "      <td>47.487479</td>\n",
       "    </tr>\n",
       "    <tr>\n",
       "      <th>std</th>\n",
       "      <td>22.423329</td>\n",
       "    </tr>\n",
       "    <tr>\n",
       "      <th>min</th>\n",
       "      <td>1.000000</td>\n",
       "    </tr>\n",
       "    <tr>\n",
       "      <th>0%</th>\n",
       "      <td>1.000000</td>\n",
       "    </tr>\n",
       "    <tr>\n",
       "      <th>5%</th>\n",
       "      <td>30.000000</td>\n",
       "    </tr>\n",
       "    <tr>\n",
       "      <th>10%</th>\n",
       "      <td>31.000000</td>\n",
       "    </tr>\n",
       "    <tr>\n",
       "      <th>15%</th>\n",
       "      <td>32.000000</td>\n",
       "    </tr>\n",
       "    <tr>\n",
       "      <th>20%</th>\n",
       "      <td>33.000000</td>\n",
       "    </tr>\n",
       "    <tr>\n",
       "      <th>25%</th>\n",
       "      <td>34.000000</td>\n",
       "    </tr>\n",
       "    <tr>\n",
       "      <th>30%</th>\n",
       "      <td>35.000000</td>\n",
       "    </tr>\n",
       "    <tr>\n",
       "      <th>35%</th>\n",
       "      <td>36.000000</td>\n",
       "    </tr>\n",
       "    <tr>\n",
       "      <th>40%</th>\n",
       "      <td>37.000000</td>\n",
       "    </tr>\n",
       "    <tr>\n",
       "      <th>45%</th>\n",
       "      <td>39.000000</td>\n",
       "    </tr>\n",
       "    <tr>\n",
       "      <th>50%</th>\n",
       "      <td>41.000000</td>\n",
       "    </tr>\n",
       "    <tr>\n",
       "      <th>55%</th>\n",
       "      <td>43.000000</td>\n",
       "    </tr>\n",
       "    <tr>\n",
       "      <th>60%</th>\n",
       "      <td>45.000000</td>\n",
       "    </tr>\n",
       "    <tr>\n",
       "      <th>65%</th>\n",
       "      <td>48.000000</td>\n",
       "    </tr>\n",
       "    <tr>\n",
       "      <th>70%</th>\n",
       "      <td>51.000000</td>\n",
       "    </tr>\n",
       "    <tr>\n",
       "      <th>75%</th>\n",
       "      <td>55.000000</td>\n",
       "    </tr>\n",
       "    <tr>\n",
       "      <th>80%</th>\n",
       "      <td>61.000000</td>\n",
       "    </tr>\n",
       "    <tr>\n",
       "      <th>85%</th>\n",
       "      <td>68.000000</td>\n",
       "    </tr>\n",
       "    <tr>\n",
       "      <th>90%</th>\n",
       "      <td>78.000000</td>\n",
       "    </tr>\n",
       "    <tr>\n",
       "      <th>95%</th>\n",
       "      <td>96.000000</td>\n",
       "    </tr>\n",
       "    <tr>\n",
       "      <th>max</th>\n",
       "      <td>178.000000</td>\n",
       "    </tr>\n",
       "  </tbody>\n",
       "</table>\n",
       "</div>"
      ],
      "text/plain": [
       "                  0\n",
       "count  96958.000000\n",
       "mean      47.487479\n",
       "std       22.423329\n",
       "min        1.000000\n",
       "0%         1.000000\n",
       "5%        30.000000\n",
       "10%       31.000000\n",
       "15%       32.000000\n",
       "20%       33.000000\n",
       "25%       34.000000\n",
       "30%       35.000000\n",
       "35%       36.000000\n",
       "40%       37.000000\n",
       "45%       39.000000\n",
       "50%       41.000000\n",
       "55%       43.000000\n",
       "60%       45.000000\n",
       "65%       48.000000\n",
       "70%       51.000000\n",
       "75%       55.000000\n",
       "80%       61.000000\n",
       "85%       68.000000\n",
       "90%       78.000000\n",
       "95%       96.000000\n",
       "max      178.000000"
      ]
     },
     "execution_count": 78,
     "metadata": {},
     "output_type": "execute_result"
    }
   ],
   "source": [
    "pd.DataFrame(session_lengths_train).describe([0.05*i for i in range(20)])"
   ]
  },
  {
   "cell_type": "code",
   "execution_count": 79,
   "id": "41307dc2-93e8-4dfb-85b4-0f227beb412e",
   "metadata": {},
   "outputs": [
    {
     "data": {
      "text/html": [
       "<div>\n",
       "<style scoped>\n",
       "    .dataframe tbody tr th:only-of-type {\n",
       "        vertical-align: middle;\n",
       "    }\n",
       "\n",
       "    .dataframe tbody tr th {\n",
       "        vertical-align: top;\n",
       "    }\n",
       "\n",
       "    .dataframe thead th {\n",
       "        text-align: right;\n",
       "    }\n",
       "</style>\n",
       "<table border=\"1\" class=\"dataframe\">\n",
       "  <thead>\n",
       "    <tr style=\"text-align: right;\">\n",
       "      <th></th>\n",
       "      <th>0</th>\n",
       "    </tr>\n",
       "  </thead>\n",
       "  <tbody>\n",
       "    <tr>\n",
       "      <th>count</th>\n",
       "      <td>10692.000000</td>\n",
       "    </tr>\n",
       "    <tr>\n",
       "      <th>mean</th>\n",
       "      <td>47.026188</td>\n",
       "    </tr>\n",
       "    <tr>\n",
       "      <th>std</th>\n",
       "      <td>21.824378</td>\n",
       "    </tr>\n",
       "    <tr>\n",
       "      <th>min</th>\n",
       "      <td>1.000000</td>\n",
       "    </tr>\n",
       "    <tr>\n",
       "      <th>0%</th>\n",
       "      <td>1.000000</td>\n",
       "    </tr>\n",
       "    <tr>\n",
       "      <th>5%</th>\n",
       "      <td>30.000000</td>\n",
       "    </tr>\n",
       "    <tr>\n",
       "      <th>10%</th>\n",
       "      <td>31.000000</td>\n",
       "    </tr>\n",
       "    <tr>\n",
       "      <th>15%</th>\n",
       "      <td>32.000000</td>\n",
       "    </tr>\n",
       "    <tr>\n",
       "      <th>20%</th>\n",
       "      <td>33.000000</td>\n",
       "    </tr>\n",
       "    <tr>\n",
       "      <th>25%</th>\n",
       "      <td>34.000000</td>\n",
       "    </tr>\n",
       "    <tr>\n",
       "      <th>30%</th>\n",
       "      <td>35.000000</td>\n",
       "    </tr>\n",
       "    <tr>\n",
       "      <th>35%</th>\n",
       "      <td>36.000000</td>\n",
       "    </tr>\n",
       "    <tr>\n",
       "      <th>40%</th>\n",
       "      <td>37.000000</td>\n",
       "    </tr>\n",
       "    <tr>\n",
       "      <th>45%</th>\n",
       "      <td>39.000000</td>\n",
       "    </tr>\n",
       "    <tr>\n",
       "      <th>50%</th>\n",
       "      <td>40.000000</td>\n",
       "    </tr>\n",
       "    <tr>\n",
       "      <th>55%</th>\n",
       "      <td>42.000000</td>\n",
       "    </tr>\n",
       "    <tr>\n",
       "      <th>60%</th>\n",
       "      <td>45.000000</td>\n",
       "    </tr>\n",
       "    <tr>\n",
       "      <th>65%</th>\n",
       "      <td>47.000000</td>\n",
       "    </tr>\n",
       "    <tr>\n",
       "      <th>70%</th>\n",
       "      <td>51.000000</td>\n",
       "    </tr>\n",
       "    <tr>\n",
       "      <th>75%</th>\n",
       "      <td>54.000000</td>\n",
       "    </tr>\n",
       "    <tr>\n",
       "      <th>80%</th>\n",
       "      <td>59.000000</td>\n",
       "    </tr>\n",
       "    <tr>\n",
       "      <th>85%</th>\n",
       "      <td>67.000000</td>\n",
       "    </tr>\n",
       "    <tr>\n",
       "      <th>90%</th>\n",
       "      <td>76.000000</td>\n",
       "    </tr>\n",
       "    <tr>\n",
       "      <th>95%</th>\n",
       "      <td>93.000000</td>\n",
       "    </tr>\n",
       "    <tr>\n",
       "      <th>max</th>\n",
       "      <td>162.000000</td>\n",
       "    </tr>\n",
       "  </tbody>\n",
       "</table>\n",
       "</div>"
      ],
      "text/plain": [
       "                  0\n",
       "count  10692.000000\n",
       "mean      47.026188\n",
       "std       21.824378\n",
       "min        1.000000\n",
       "0%         1.000000\n",
       "5%        30.000000\n",
       "10%       31.000000\n",
       "15%       32.000000\n",
       "20%       33.000000\n",
       "25%       34.000000\n",
       "30%       35.000000\n",
       "35%       36.000000\n",
       "40%       37.000000\n",
       "45%       39.000000\n",
       "50%       40.000000\n",
       "55%       42.000000\n",
       "60%       45.000000\n",
       "65%       47.000000\n",
       "70%       51.000000\n",
       "75%       54.000000\n",
       "80%       59.000000\n",
       "85%       67.000000\n",
       "90%       76.000000\n",
       "95%       93.000000\n",
       "max      162.000000"
      ]
     },
     "execution_count": 79,
     "metadata": {},
     "output_type": "execute_result"
    }
   ],
   "source": [
    "pd.DataFrame(session_lengths_eval).describe([0.05*i for i in range(20)])"
   ]
  },
  {
   "cell_type": "code",
   "execution_count": 80,
   "id": "c1359935-744e-4097-a404-513d6202b7da",
   "metadata": {},
   "outputs": [
    {
     "name": "stderr",
     "output_type": "stream",
     "text": [
      "/home/jupyter/.cache/pypoetry/virtualenvs/kdd-2023-KklMGVX0-py3.8/lib/python3.8/site-packages/lightgbm/sklearn.py:621: UserWarning: Found 'eval_at' in params. Will use it instead of 'eval_at' argument\n",
      "  _log_warning(f\"Found '{alias}' in params. Will use it instead of 'eval_at' argument\")\n",
      "/home/jupyter/.cache/pypoetry/virtualenvs/kdd-2023-KklMGVX0-py3.8/lib/python3.8/site-packages/lightgbm/sklearn.py:726: UserWarning: 'early_stopping_rounds' argument is deprecated and will be removed in a future release of LightGBM. Pass 'early_stopping()' callback via 'callbacks' argument instead.\n",
      "  _log_warning(\"'early_stopping_rounds' argument is deprecated and will be removed in a future release of LightGBM. \"\n",
      "/home/jupyter/.cache/pypoetry/virtualenvs/kdd-2023-KklMGVX0-py3.8/lib/python3.8/site-packages/lightgbm/basic.py:2065: UserWarning: Using categorical_feature in Dataset.\n",
      "  _log_warning('Using categorical_feature in Dataset.')\n",
      "/home/jupyter/.cache/pypoetry/virtualenvs/kdd-2023-KklMGVX0-py3.8/lib/python3.8/site-packages/lightgbm/basic.py:2068: UserWarning: categorical_feature in Dataset is overridden.\n",
      "New categorical_feature is ['locale', 'whether_covisit', 'whether_nfi', 'whether_nic', 'whether_w2v']\n",
      "  _log_warning('categorical_feature in Dataset is overridden.\\n'\n",
      "/home/jupyter/.cache/pypoetry/virtualenvs/kdd-2023-KklMGVX0-py3.8/lib/python3.8/site-packages/lightgbm/basic.py:1780: UserWarning: Overriding the parameters from Reference Dataset.\n",
      "  _log_warning('Overriding the parameters from Reference Dataset.')\n",
      "/home/jupyter/.cache/pypoetry/virtualenvs/kdd-2023-KklMGVX0-py3.8/lib/python3.8/site-packages/lightgbm/basic.py:1513: UserWarning: categorical_column in param dict is overridden.\n",
      "  _log_warning(f'{cat_alias} in param dict is overridden.')\n",
      "/home/jupyter/.cache/pypoetry/virtualenvs/kdd-2023-KklMGVX0-py3.8/lib/python3.8/site-packages/lightgbm/basic.py:1780: UserWarning: Overriding the parameters from Reference Dataset.\n",
      "  _log_warning('Overriding the parameters from Reference Dataset.')\n",
      "/home/jupyter/.cache/pypoetry/virtualenvs/kdd-2023-KklMGVX0-py3.8/lib/python3.8/site-packages/lightgbm/basic.py:1513: UserWarning: categorical_column in param dict is overridden.\n",
      "  _log_warning(f'{cat_alias} in param dict is overridden.')\n"
     ]
    },
    {
     "name": "stdout",
     "output_type": "stream",
     "text": [
      "[1]\tvalid_0's ndcg@3: 0.721552\tvalid_1's ndcg@3: 0.725081\n",
      "[2]\tvalid_0's ndcg@3: 0.685949\tvalid_1's ndcg@3: 0.691427\n",
      "[3]\tvalid_0's ndcg@3: 0.679884\tvalid_1's ndcg@3: 0.685373\n",
      "[4]\tvalid_0's ndcg@3: 0.678159\tvalid_1's ndcg@3: 0.682864\n",
      "[5]\tvalid_0's ndcg@3: 0.677448\tvalid_1's ndcg@3: 0.681886\n",
      "[6]\tvalid_0's ndcg@3: 0.677109\tvalid_1's ndcg@3: 0.681872\n",
      "[7]\tvalid_0's ndcg@3: 0.676974\tvalid_1's ndcg@3: 0.681713\n",
      "[8]\tvalid_0's ndcg@3: 0.676783\tvalid_1's ndcg@3: 0.680897\n",
      "[9]\tvalid_0's ndcg@3: 0.677042\tvalid_1's ndcg@3: 0.680915\n",
      "[10]\tvalid_0's ndcg@3: 0.676873\tvalid_1's ndcg@3: 0.679396\n",
      "[11]\tvalid_0's ndcg@3: 0.676642\tvalid_1's ndcg@3: 0.680175\n"
     ]
    }
   ],
   "source": [
    "ranker = ranker.fit(\n",
    "    X=sampled_train_candidates[feature_cols].to_pandas(),\n",
    "    y=sampled_train_candidates[target].to_pandas(),\n",
    "    group=session_lengths_train,\n",
    "    eval_set=[(sampled_train_candidates[feature_cols].to_pandas(), sampled_train_candidates[target].to_pandas()),\n",
    "           (sampled_eval_candidates[feature_cols].to_pandas(), sampled_eval_candidates[target].to_pandas())\n",
    "             ],\n",
    "    eval_group=[session_lengths_train,\n",
    "                session_lengths_eval\n",
    "               ]\n",
    "    , categorical_feature=categorical_feature\n",
    "    , early_stopping_rounds=early_stop_rounds\n",
    "    # , callbacks=[early_stopping(early_stop_rounds)]\n",
    ")"
   ]
  },
  {
   "cell_type": "code",
   "execution_count": 81,
   "id": "ab945c39-35af-411e-973b-1a8f10128d8d",
   "metadata": {},
   "outputs": [],
   "source": [
    "# print(sampled_train_candidates.estimated_size(unit='gb'))\n",
    "# del sampled_train_candidates"
   ]
  },
  {
   "cell_type": "code",
   "execution_count": 60,
   "id": "51330d86-54e9-4bf7-86f7-e0267f758334",
   "metadata": {},
   "outputs": [],
   "source": [
    "# print(sampled_eval_candidates.estimated_size(unit='gb'))\n",
    "# del sampled_eval_candidates"
   ]
  },
  {
   "cell_type": "markdown",
   "id": "8860953a-3893-4b28-a1f1-83f112d8a6e5",
   "metadata": {
    "tags": []
   },
   "source": [
    "## Save model "
   ]
  },
  {
   "cell_type": "code",
   "execution_count": 61,
   "id": "382d1fd4-f3cd-4c48-ae68-0e3536b21501",
   "metadata": {},
   "outputs": [
    {
     "data": {
      "text/plain": [
       "False"
      ]
     },
     "execution_count": 61,
     "metadata": {},
     "output_type": "execute_result"
    }
   ],
   "source": [
    "debug"
   ]
  },
  {
   "cell_type": "code",
   "execution_count": 278,
   "id": "b65bebd2-0169-4504-a8a7-299202654b5d",
   "metadata": {},
   "outputs": [
    {
     "data": {
      "text/plain": [
       "'../model_training/task2_rank_lgbm_v3'"
      ]
     },
     "execution_count": 278,
     "metadata": {},
     "output_type": "execute_result"
    }
   ],
   "source": [
    "rank_model_dir"
   ]
  },
  {
   "cell_type": "code",
   "execution_count": 279,
   "id": "07ed68af-07cd-42dd-98cd-670f4cfffc9c",
   "metadata": {},
   "outputs": [],
   "source": [
    "if not debug:\n",
    "    joblib.dump(\n",
    "            value=ranker,\n",
    "            filename=os.path.join(rank_model_dir, 'model.pkl')\n",
    "    )"
   ]
  },
  {
   "cell_type": "code",
   "execution_count": 280,
   "id": "6f398ded-7ecc-4e20-bfad-7b094ddd0f93",
   "metadata": {},
   "outputs": [],
   "source": [
    "if not debug:\n",
    "    del ranker"
   ]
  },
  {
   "cell_type": "markdown",
   "id": "20e5c013-9463-4fee-8444-964885196103",
   "metadata": {
    "tags": []
   },
   "source": [
    "## Load Model "
   ]
  },
  {
   "cell_type": "code",
   "execution_count": null,
   "id": "6b348b18-ca5b-4534-b7bd-c1c3dc16be33",
   "metadata": {},
   "outputs": [],
   "source": []
  },
  {
   "cell_type": "code",
   "execution_count": 281,
   "id": "6ad49204-0949-4e62-8d1d-ee22853a71a3",
   "metadata": {},
   "outputs": [
    {
     "data": {
      "text/plain": [
       "False"
      ]
     },
     "execution_count": 281,
     "metadata": {},
     "output_type": "execute_result"
    }
   ],
   "source": [
    "debug"
   ]
  },
  {
   "cell_type": "code",
   "execution_count": 282,
   "id": "d3bad696-190d-42bf-ad7d-f8ecc7b5f80d",
   "metadata": {},
   "outputs": [
    {
     "data": {
      "text/html": [
       "<style>#sk-container-id-3 {color: black;background-color: white;}#sk-container-id-3 pre{padding: 0;}#sk-container-id-3 div.sk-toggleable {background-color: white;}#sk-container-id-3 label.sk-toggleable__label {cursor: pointer;display: block;width: 100%;margin-bottom: 0;padding: 0.3em;box-sizing: border-box;text-align: center;}#sk-container-id-3 label.sk-toggleable__label-arrow:before {content: \"▸\";float: left;margin-right: 0.25em;color: #696969;}#sk-container-id-3 label.sk-toggleable__label-arrow:hover:before {color: black;}#sk-container-id-3 div.sk-estimator:hover label.sk-toggleable__label-arrow:before {color: black;}#sk-container-id-3 div.sk-toggleable__content {max-height: 0;max-width: 0;overflow: hidden;text-align: left;background-color: #f0f8ff;}#sk-container-id-3 div.sk-toggleable__content pre {margin: 0.2em;color: black;border-radius: 0.25em;background-color: #f0f8ff;}#sk-container-id-3 input.sk-toggleable__control:checked~div.sk-toggleable__content {max-height: 200px;max-width: 100%;overflow: auto;}#sk-container-id-3 input.sk-toggleable__control:checked~label.sk-toggleable__label-arrow:before {content: \"▾\";}#sk-container-id-3 div.sk-estimator input.sk-toggleable__control:checked~label.sk-toggleable__label {background-color: #d4ebff;}#sk-container-id-3 div.sk-label input.sk-toggleable__control:checked~label.sk-toggleable__label {background-color: #d4ebff;}#sk-container-id-3 input.sk-hidden--visually {border: 0;clip: rect(1px 1px 1px 1px);clip: rect(1px, 1px, 1px, 1px);height: 1px;margin: -1px;overflow: hidden;padding: 0;position: absolute;width: 1px;}#sk-container-id-3 div.sk-estimator {font-family: monospace;background-color: #f0f8ff;border: 1px dotted black;border-radius: 0.25em;box-sizing: border-box;margin-bottom: 0.5em;}#sk-container-id-3 div.sk-estimator:hover {background-color: #d4ebff;}#sk-container-id-3 div.sk-parallel-item::after {content: \"\";width: 100%;border-bottom: 1px solid gray;flex-grow: 1;}#sk-container-id-3 div.sk-label:hover label.sk-toggleable__label {background-color: #d4ebff;}#sk-container-id-3 div.sk-serial::before {content: \"\";position: absolute;border-left: 1px solid gray;box-sizing: border-box;top: 0;bottom: 0;left: 50%;z-index: 0;}#sk-container-id-3 div.sk-serial {display: flex;flex-direction: column;align-items: center;background-color: white;padding-right: 0.2em;padding-left: 0.2em;position: relative;}#sk-container-id-3 div.sk-item {position: relative;z-index: 1;}#sk-container-id-3 div.sk-parallel {display: flex;align-items: stretch;justify-content: center;background-color: white;position: relative;}#sk-container-id-3 div.sk-item::before, #sk-container-id-3 div.sk-parallel-item::before {content: \"\";position: absolute;border-left: 1px solid gray;box-sizing: border-box;top: 0;bottom: 0;left: 50%;z-index: -1;}#sk-container-id-3 div.sk-parallel-item {display: flex;flex-direction: column;z-index: 1;position: relative;background-color: white;}#sk-container-id-3 div.sk-parallel-item:first-child::after {align-self: flex-end;width: 50%;}#sk-container-id-3 div.sk-parallel-item:last-child::after {align-self: flex-start;width: 50%;}#sk-container-id-3 div.sk-parallel-item:only-child::after {width: 0;}#sk-container-id-3 div.sk-dashed-wrapped {border: 1px dashed gray;margin: 0 0.4em 0.5em 0.4em;box-sizing: border-box;padding-bottom: 0.4em;background-color: white;}#sk-container-id-3 div.sk-label label {font-family: monospace;font-weight: bold;display: inline-block;line-height: 1.2em;}#sk-container-id-3 div.sk-label-container {text-align: center;}#sk-container-id-3 div.sk-container {/* jupyter's `normalize.less` sets `[hidden] { display: none; }` but bootstrap.min.css set `[hidden] { display: none !important; }` so we also need the `!important` here to be able to override the default hidden behavior on the sphinx rendered scikit-learn.org. See: https://github.com/scikit-learn/scikit-learn/issues/21755 */display: inline-block !important;position: relative;}#sk-container-id-3 div.sk-text-repr-fallback {display: none;}</style><div id=\"sk-container-id-3\" class=\"sk-top-container\"><div class=\"sk-text-repr-fallback\"><pre>LGBMRanker(eval_at=[3], importance_type=&#x27;gain&#x27;, metric=&#x27;ndcg&#x27;,\n",
       "           n_estimators=1000, objective=&#x27;lambdarank&#x27;)</pre><b>In a Jupyter environment, please rerun this cell to show the HTML representation or trust the notebook. <br />On GitHub, the HTML representation is unable to render, please try loading this page with nbviewer.org.</b></div><div class=\"sk-container\" hidden><div class=\"sk-item\"><div class=\"sk-estimator sk-toggleable\"><input class=\"sk-toggleable__control sk-hidden--visually\" id=\"sk-estimator-id-3\" type=\"checkbox\" checked><label for=\"sk-estimator-id-3\" class=\"sk-toggleable__label sk-toggleable__label-arrow\">LGBMRanker</label><div class=\"sk-toggleable__content\"><pre>LGBMRanker(eval_at=[3], importance_type=&#x27;gain&#x27;, metric=&#x27;ndcg&#x27;,\n",
       "           n_estimators=1000, objective=&#x27;lambdarank&#x27;)</pre></div></div></div></div></div>"
      ],
      "text/plain": [
       "LGBMRanker(eval_at=[3], importance_type='gain', metric='ndcg',\n",
       "           n_estimators=1000, objective='lambdarank')"
      ]
     },
     "execution_count": 282,
     "metadata": {},
     "output_type": "execute_result"
    }
   ],
   "source": [
    "if not debug:\n",
    "    ranker = joblib.load(os.path.join(rank_model_dir, 'model.pkl'))\n",
    "ranker"
   ]
  },
  {
   "cell_type": "markdown",
   "id": "b6b81a4e-3275-4503-bab7-6f8cb0ac4841",
   "metadata": {
    "tags": []
   },
   "source": [
    "### Importance "
   ]
  },
  {
   "cell_type": "code",
   "execution_count": 82,
   "id": "7b27a72b-5f92-4a76-ad96-4c0299b3aae4",
   "metadata": {},
   "outputs": [
    {
     "data": {
      "text/html": [
       "<div>\n",
       "<style scoped>\n",
       "    .dataframe tbody tr th:only-of-type {\n",
       "        vertical-align: middle;\n",
       "    }\n",
       "\n",
       "    .dataframe tbody tr th {\n",
       "        vertical-align: top;\n",
       "    }\n",
       "\n",
       "    .dataframe thead th {\n",
       "        text-align: right;\n",
       "    }\n",
       "</style>\n",
       "<table border=\"1\" class=\"dataframe\">\n",
       "  <thead>\n",
       "    <tr style=\"text-align: right;\">\n",
       "      <th></th>\n",
       "      <th>features</th>\n",
       "      <th>importance</th>\n",
       "    </tr>\n",
       "  </thead>\n",
       "  <tbody>\n",
       "    <tr>\n",
       "      <th>12</th>\n",
       "      <td>next_item_normalized_weight</td>\n",
       "      <td>418416.239868</td>\n",
       "    </tr>\n",
       "    <tr>\n",
       "      <th>10</th>\n",
       "      <td>price_max_norm</td>\n",
       "      <td>86756.703125</td>\n",
       "    </tr>\n",
       "    <tr>\n",
       "      <th>59</th>\n",
       "      <td>nicnic_weight</td>\n",
       "      <td>32601.771118</td>\n",
       "    </tr>\n",
       "    <tr>\n",
       "      <th>7</th>\n",
       "      <td>price_mean_norm</td>\n",
       "      <td>24634.124023</td>\n",
       "    </tr>\n",
       "    <tr>\n",
       "      <th>5</th>\n",
       "      <td>last_item_similarity</td>\n",
       "      <td>19446.424194</td>\n",
       "    </tr>\n",
       "    <tr>\n",
       "      <th>17</th>\n",
       "      <td>previous_discount_weight</td>\n",
       "      <td>13169.387390</td>\n",
       "    </tr>\n",
       "    <tr>\n",
       "      <th>19</th>\n",
       "      <td>pos_weighted_cnt</td>\n",
       "      <td>1917.819946</td>\n",
       "    </tr>\n",
       "    <tr>\n",
       "      <th>4</th>\n",
       "      <td>w2v_weight</td>\n",
       "      <td>1850.819946</td>\n",
       "    </tr>\n",
       "    <tr>\n",
       "      <th>13</th>\n",
       "      <td>discount_weight</td>\n",
       "      <td>1011.890015</td>\n",
       "    </tr>\n",
       "    <tr>\n",
       "      <th>26</th>\n",
       "      <td>strategy_num</td>\n",
       "      <td>632.869019</td>\n",
       "    </tr>\n",
       "    <tr>\n",
       "      <th>21</th>\n",
       "      <td>median_pos</td>\n",
       "      <td>631.416992</td>\n",
       "    </tr>\n",
       "    <tr>\n",
       "      <th>56</th>\n",
       "      <td>vec_29</td>\n",
       "      <td>0.000000</td>\n",
       "    </tr>\n",
       "    <tr>\n",
       "      <th>46</th>\n",
       "      <td>vec_19</td>\n",
       "      <td>0.000000</td>\n",
       "    </tr>\n",
       "    <tr>\n",
       "      <th>37</th>\n",
       "      <td>vec_10</td>\n",
       "      <td>0.000000</td>\n",
       "    </tr>\n",
       "    <tr>\n",
       "      <th>38</th>\n",
       "      <td>vec_11</td>\n",
       "      <td>0.000000</td>\n",
       "    </tr>\n",
       "    <tr>\n",
       "      <th>39</th>\n",
       "      <td>vec_12</td>\n",
       "      <td>0.000000</td>\n",
       "    </tr>\n",
       "    <tr>\n",
       "      <th>40</th>\n",
       "      <td>vec_13</td>\n",
       "      <td>0.000000</td>\n",
       "    </tr>\n",
       "    <tr>\n",
       "      <th>41</th>\n",
       "      <td>vec_14</td>\n",
       "      <td>0.000000</td>\n",
       "    </tr>\n",
       "    <tr>\n",
       "      <th>42</th>\n",
       "      <td>vec_15</td>\n",
       "      <td>0.000000</td>\n",
       "    </tr>\n",
       "    <tr>\n",
       "      <th>43</th>\n",
       "      <td>vec_16</td>\n",
       "      <td>0.000000</td>\n",
       "    </tr>\n",
       "    <tr>\n",
       "      <th>44</th>\n",
       "      <td>vec_17</td>\n",
       "      <td>0.000000</td>\n",
       "    </tr>\n",
       "    <tr>\n",
       "      <th>45</th>\n",
       "      <td>vec_18</td>\n",
       "      <td>0.000000</td>\n",
       "    </tr>\n",
       "    <tr>\n",
       "      <th>48</th>\n",
       "      <td>vec_21</td>\n",
       "      <td>0.000000</td>\n",
       "    </tr>\n",
       "    <tr>\n",
       "      <th>47</th>\n",
       "      <td>vec_20</td>\n",
       "      <td>0.000000</td>\n",
       "    </tr>\n",
       "    <tr>\n",
       "      <th>49</th>\n",
       "      <td>vec_22</td>\n",
       "      <td>0.000000</td>\n",
       "    </tr>\n",
       "    <tr>\n",
       "      <th>35</th>\n",
       "      <td>vec_8</td>\n",
       "      <td>0.000000</td>\n",
       "    </tr>\n",
       "    <tr>\n",
       "      <th>50</th>\n",
       "      <td>vec_23</td>\n",
       "      <td>0.000000</td>\n",
       "    </tr>\n",
       "    <tr>\n",
       "      <th>51</th>\n",
       "      <td>vec_24</td>\n",
       "      <td>0.000000</td>\n",
       "    </tr>\n",
       "    <tr>\n",
       "      <th>52</th>\n",
       "      <td>vec_25</td>\n",
       "      <td>0.000000</td>\n",
       "    </tr>\n",
       "    <tr>\n",
       "      <th>58</th>\n",
       "      <td>vec_31</td>\n",
       "      <td>0.000000</td>\n",
       "    </tr>\n",
       "    <tr>\n",
       "      <th>53</th>\n",
       "      <td>vec_26</td>\n",
       "      <td>0.000000</td>\n",
       "    </tr>\n",
       "    <tr>\n",
       "      <th>57</th>\n",
       "      <td>vec_30</td>\n",
       "      <td>0.000000</td>\n",
       "    </tr>\n",
       "    <tr>\n",
       "      <th>54</th>\n",
       "      <td>vec_27</td>\n",
       "      <td>0.000000</td>\n",
       "    </tr>\n",
       "    <tr>\n",
       "      <th>55</th>\n",
       "      <td>vec_28</td>\n",
       "      <td>0.000000</td>\n",
       "    </tr>\n",
       "    <tr>\n",
       "      <th>36</th>\n",
       "      <td>vec_9</td>\n",
       "      <td>0.000000</td>\n",
       "    </tr>\n",
       "    <tr>\n",
       "      <th>0</th>\n",
       "      <td>next_item_weight</td>\n",
       "      <td>0.000000</td>\n",
       "    </tr>\n",
       "    <tr>\n",
       "      <th>34</th>\n",
       "      <td>vec_7</td>\n",
       "      <td>0.000000</td>\n",
       "    </tr>\n",
       "    <tr>\n",
       "      <th>33</th>\n",
       "      <td>vec_6</td>\n",
       "      <td>0.000000</td>\n",
       "    </tr>\n",
       "    <tr>\n",
       "      <th>2</th>\n",
       "      <td>next_item_weight_co_visit</td>\n",
       "      <td>0.000000</td>\n",
       "    </tr>\n",
       "    <tr>\n",
       "      <th>3</th>\n",
       "      <td>locale</td>\n",
       "      <td>0.000000</td>\n",
       "    </tr>\n",
       "    <tr>\n",
       "      <th>6</th>\n",
       "      <td>prev_length</td>\n",
       "      <td>0.000000</td>\n",
       "    </tr>\n",
       "    <tr>\n",
       "      <th>8</th>\n",
       "      <td>price_last_norm</td>\n",
       "      <td>0.000000</td>\n",
       "    </tr>\n",
       "    <tr>\n",
       "      <th>9</th>\n",
       "      <td>price_min_norm</td>\n",
       "      <td>0.000000</td>\n",
       "    </tr>\n",
       "    <tr>\n",
       "      <th>11</th>\n",
       "      <td>next_item_cnt</td>\n",
       "      <td>0.000000</td>\n",
       "    </tr>\n",
       "    <tr>\n",
       "      <th>14</th>\n",
       "      <td>following_weight</td>\n",
       "      <td>0.000000</td>\n",
       "    </tr>\n",
       "    <tr>\n",
       "      <th>15</th>\n",
       "      <td>following_discount_weight</td>\n",
       "      <td>0.000000</td>\n",
       "    </tr>\n",
       "    <tr>\n",
       "      <th>16</th>\n",
       "      <td>previous_weight</td>\n",
       "      <td>0.000000</td>\n",
       "    </tr>\n",
       "    <tr>\n",
       "      <th>18</th>\n",
       "      <td>item_cnt</td>\n",
       "      <td>0.000000</td>\n",
       "    </tr>\n",
       "    <tr>\n",
       "      <th>20</th>\n",
       "      <td>avg_pos</td>\n",
       "      <td>0.000000</td>\n",
       "    </tr>\n",
       "    <tr>\n",
       "      <th>22</th>\n",
       "      <td>whether_w2v</td>\n",
       "      <td>0.000000</td>\n",
       "    </tr>\n",
       "    <tr>\n",
       "      <th>23</th>\n",
       "      <td>whether_nic</td>\n",
       "      <td>0.000000</td>\n",
       "    </tr>\n",
       "    <tr>\n",
       "      <th>24</th>\n",
       "      <td>whether_nfi</td>\n",
       "      <td>0.000000</td>\n",
       "    </tr>\n",
       "    <tr>\n",
       "      <th>25</th>\n",
       "      <td>whether_covisit</td>\n",
       "      <td>0.000000</td>\n",
       "    </tr>\n",
       "    <tr>\n",
       "      <th>27</th>\n",
       "      <td>vec_0</td>\n",
       "      <td>0.000000</td>\n",
       "    </tr>\n",
       "    <tr>\n",
       "      <th>28</th>\n",
       "      <td>vec_1</td>\n",
       "      <td>0.000000</td>\n",
       "    </tr>\n",
       "    <tr>\n",
       "      <th>29</th>\n",
       "      <td>vec_2</td>\n",
       "      <td>0.000000</td>\n",
       "    </tr>\n",
       "    <tr>\n",
       "      <th>1</th>\n",
       "      <td>next_item_weight_nfi</td>\n",
       "      <td>0.000000</td>\n",
       "    </tr>\n",
       "    <tr>\n",
       "      <th>31</th>\n",
       "      <td>vec_4</td>\n",
       "      <td>0.000000</td>\n",
       "    </tr>\n",
       "    <tr>\n",
       "      <th>32</th>\n",
       "      <td>vec_5</td>\n",
       "      <td>0.000000</td>\n",
       "    </tr>\n",
       "    <tr>\n",
       "      <th>30</th>\n",
       "      <td>vec_3</td>\n",
       "      <td>0.000000</td>\n",
       "    </tr>\n",
       "  </tbody>\n",
       "</table>\n",
       "</div>"
      ],
      "text/plain": [
       "                       features     importance\n",
       "12  next_item_normalized_weight  418416.239868\n",
       "10               price_max_norm   86756.703125\n",
       "59                nicnic_weight   32601.771118\n",
       "7               price_mean_norm   24634.124023\n",
       "5          last_item_similarity   19446.424194\n",
       "17     previous_discount_weight   13169.387390\n",
       "19             pos_weighted_cnt    1917.819946\n",
       "4                    w2v_weight    1850.819946\n",
       "13              discount_weight    1011.890015\n",
       "26                 strategy_num     632.869019\n",
       "21                   median_pos     631.416992\n",
       "56                       vec_29       0.000000\n",
       "46                       vec_19       0.000000\n",
       "37                       vec_10       0.000000\n",
       "38                       vec_11       0.000000\n",
       "39                       vec_12       0.000000\n",
       "40                       vec_13       0.000000\n",
       "41                       vec_14       0.000000\n",
       "42                       vec_15       0.000000\n",
       "43                       vec_16       0.000000\n",
       "44                       vec_17       0.000000\n",
       "45                       vec_18       0.000000\n",
       "48                       vec_21       0.000000\n",
       "47                       vec_20       0.000000\n",
       "49                       vec_22       0.000000\n",
       "35                        vec_8       0.000000\n",
       "50                       vec_23       0.000000\n",
       "51                       vec_24       0.000000\n",
       "52                       vec_25       0.000000\n",
       "58                       vec_31       0.000000\n",
       "53                       vec_26       0.000000\n",
       "57                       vec_30       0.000000\n",
       "54                       vec_27       0.000000\n",
       "55                       vec_28       0.000000\n",
       "36                        vec_9       0.000000\n",
       "0              next_item_weight       0.000000\n",
       "34                        vec_7       0.000000\n",
       "33                        vec_6       0.000000\n",
       "2     next_item_weight_co_visit       0.000000\n",
       "3                        locale       0.000000\n",
       "6                   prev_length       0.000000\n",
       "8               price_last_norm       0.000000\n",
       "9                price_min_norm       0.000000\n",
       "11                next_item_cnt       0.000000\n",
       "14             following_weight       0.000000\n",
       "15    following_discount_weight       0.000000\n",
       "16              previous_weight       0.000000\n",
       "18                     item_cnt       0.000000\n",
       "20                      avg_pos       0.000000\n",
       "22                  whether_w2v       0.000000\n",
       "23                  whether_nic       0.000000\n",
       "24                  whether_nfi       0.000000\n",
       "25              whether_covisit       0.000000\n",
       "27                        vec_0       0.000000\n",
       "28                        vec_1       0.000000\n",
       "29                        vec_2       0.000000\n",
       "1          next_item_weight_nfi       0.000000\n",
       "31                        vec_4       0.000000\n",
       "32                        vec_5       0.000000\n",
       "30                        vec_3       0.000000"
      ]
     },
     "execution_count": 82,
     "metadata": {},
     "output_type": "execute_result"
    }
   ],
   "source": [
    "impotant_df = pd.DataFrame(\n",
    "    {\n",
    "        'features': ranker.feature_name_,\n",
    "        'importance': ranker.feature_importances_\n",
    "    }\n",
    ").sort_values('importance', ascending=False)\n",
    "impotant_df"
   ]
  },
  {
   "cell_type": "markdown",
   "id": "9c2798bf-e1a3-45a7-a422-49f6844e910a",
   "metadata": {},
   "source": [
    "# Eval ranker "
   ]
  },
  {
   "cell_type": "code",
   "execution_count": 290,
   "id": "1b08de18-62e0-4c4f-94c3-6ab8324ee624",
   "metadata": {},
   "outputs": [],
   "source": [
    "def rank_rec(candidate_pl, feature_cols, ranker, topn=100):\n",
    "\n",
    "    candidate_pl = candidate_pl.collect()\n",
    "    print(f\"candidate pl shape: {candidate_pl.shape}\")\n",
    "    inference = ranker.predict(candidate_pl[feature_cols].to_pandas())\n",
    "    test_result = (candidate_pl\n",
    "         .lazy()\n",
    "         .with_columns(\n",
    "             pl.Series(name='predict', values=inference)\n",
    "         )\n",
    "         .with_columns(\n",
    "            pl.col('predict').rank(method='ordinal', descending=True).over('session_id').alias('rank')\n",
    "         )\n",
    "         .sort(['session_id', 'rank'])\n",
    "         .filter(pl.col('rank')<=topn)\n",
    "         .groupby(['session_id'])\n",
    "         .agg(\n",
    "             pl.col('next_item_prediction')\n",
    "             , pl.col('next_item').unique()#.arr.get(0).cast(pl.Utf8)\n",
    "         ).with_columns(\n",
    "             pl.col('next_item').arr.get(0).alias('next_item')\n",
    "         )\n",
    "    )\n",
    "    return test_result\n"
   ]
  },
  {
   "cell_type": "code",
   "execution_count": 291,
   "id": "c2576a5f-dc1f-4269-83e4-050d8e37d14c",
   "metadata": {},
   "outputs": [],
   "source": [
    "# target_train_candidates.head().collect()"
   ]
  },
  {
   "cell_type": "code",
   "execution_count": 286,
   "id": "086b2190-3f3f-461f-8fd6-6b62bd36b45a",
   "metadata": {},
   "outputs": [],
   "source": [
    "eval_candidates = get_additional_feature(data_pl=eval_candidates)"
   ]
  },
  {
   "cell_type": "code",
   "execution_count": 287,
   "id": "ee95dd21-5bf7-4620-b79d-d2c1986a1e5b",
   "metadata": {},
   "outputs": [
    {
     "name": "stdout",
     "output_type": "stream",
     "text": [
      "candidate pl shape: (4998123, 66)\n"
     ]
    }
   ],
   "source": [
    "ranker_eval_pl = rank_rec(candidate_pl=eval_candidates,\n",
    "                         feature_cols=feature_cols\n",
    "                         , ranker=ranker\n",
    "                        # , topn=10\n",
    "                         )"
   ]
  },
  {
   "cell_type": "code",
   "execution_count": 288,
   "id": "0d386ef8-13ba-4e8c-a5ba-53d6f70e7224",
   "metadata": {},
   "outputs": [
    {
     "data": {
      "text/html": [
       "<div><style>\n",
       ".dataframe > thead > tr > th,\n",
       ".dataframe > tbody > tr > td {\n",
       "  text-align: right;\n",
       "}\n",
       "</style>\n",
       "<small>shape: (1, 4)</small><table border=\"1\" class=\"dataframe\"><thead><tr><th>total_sessions</th><th>mrr</th><th>recall@20</th><th>recall@100</th></tr><tr><td>u32</td><td>f64</td><td>f64</td><td>f64</td></tr></thead><tbody><tr><td>33333</td><td>0.376</td><td>0.6317</td><td>0.7114</td></tr></tbody></table></div>"
      ],
      "text/plain": [
       "shape: (1, 4)\n",
       "┌────────────────┬───────┬───────────┬────────────┐\n",
       "│ total_sessions ┆ mrr   ┆ recall@20 ┆ recall@100 │\n",
       "│ ---            ┆ ---   ┆ ---       ┆ ---        │\n",
       "│ u32            ┆ f64   ┆ f64       ┆ f64        │\n",
       "╞════════════════╪═══════╪═══════════╪════════════╡\n",
       "│ 33333          ┆ 0.376 ┆ 0.6317    ┆ 0.7114     │\n",
       "└────────────────┴───────┴───────────┴────────────┘"
      ]
     },
     "execution_count": 288,
     "metadata": {},
     "output_type": "execute_result"
    }
   ],
   "source": [
    "model_eval(target_df=eval_pl.join(ranker_eval_pl.lazy(), how='left', on='session_id'))\n"
   ]
  },
  {
   "cell_type": "code",
   "execution_count": 292,
   "id": "0b55de53-4b3e-4e19-8f83-bcf5ea6a8ec3",
   "metadata": {
    "tags": []
   },
   "outputs": [],
   "source": [
    "# model_eval(target_df=eval_pl.join(ranker_eval_pl.lazy(), how='left', on='session_id'))\n"
   ]
  },
  {
   "cell_type": "code",
   "execution_count": 293,
   "id": "15ecdb73-3005-4928-82ea-a79a3bd89b47",
   "metadata": {},
   "outputs": [],
   "source": [
    "# model_eval(target_df=eval_pl.join(ranker_eval_pl.lazy(), how='left', on='session_id'))\n"
   ]
  },
  {
   "cell_type": "code",
   "execution_count": 294,
   "id": "2a3db963-94ce-44bc-b098-ac947f273825",
   "metadata": {},
   "outputs": [],
   "source": [
    "# model_eval(target_df=eval_pl.join(ranker_eval_pl.lazy(), how='left', on='session_id'))\n"
   ]
  },
  {
   "cell_type": "code",
   "execution_count": 295,
   "id": "adb689cc-2e6a-45d1-85a7-d3059ce3e46b",
   "metadata": {},
   "outputs": [],
   "source": [
    "# model_eval(target_df=eval_pl.join(ranker_eval_pl.lazy(), how='left', on='session_id'))\n"
   ]
  },
  {
   "cell_type": "code",
   "execution_count": null,
   "id": "8d4a58bf-39b9-4d79-840c-68da4b145876",
   "metadata": {
    "tags": []
   },
   "outputs": [],
   "source": []
  },
  {
   "cell_type": "code",
   "execution_count": null,
   "id": "2b89f5e5-e321-4a9c-9d31-e819d19d35ed",
   "metadata": {},
   "outputs": [],
   "source": []
  },
  {
   "cell_type": "code",
   "execution_count": 296,
   "id": "72983a3c-67f1-4f04-be8f-25d753df2978",
   "metadata": {},
   "outputs": [],
   "source": [
    "# model_eval(target_df=eval_pl.join(ranker_eval_pl.lazy(), how='left', on='session_id'))"
   ]
  },
  {
   "cell_type": "code",
   "execution_count": 297,
   "id": "9404f0c9-8dd8-4a7c-86ea-07a279d25312",
   "metadata": {},
   "outputs": [],
   "source": [
    "# model_eval(target_df=eval_pl.join(ranker_eval_pl.lazy(), how='left', on='session_id'))"
   ]
  },
  {
   "cell_type": "markdown",
   "id": "1ec21052-9ed7-460d-a9ba-69ca24e93e58",
   "metadata": {},
   "source": [
    "# Test4task3 "
   ]
  },
  {
   "cell_type": "code",
   "execution_count": 298,
   "id": "704886d8-eedc-49c6-845b-0ba19fc00d3e",
   "metadata": {},
   "outputs": [],
   "source": [
    "# only 1 is needed\n",
    "topn=1\n",
    "\n",
    "test4task3_candidates = get_additional_feature(data_pl=test4task3_candidates)\n",
    "test4task3_candidates = test4task3_candidates.collect()\n",
    "inference = ranker.predict(test4task3_candidates[feature_cols].to_pandas())\n",
    "test4task3_result = (test4task3_candidates\n",
    "     .lazy()\n",
    "     .with_columns(\n",
    "         pl.Series(name='predict', values=inference)\n",
    "     )\n",
    "     .with_columns(\n",
    "        pl.col('predict').rank(method='ordinal', descending=True).over('session_id').alias('rank')\n",
    "     )\n",
    "     .sort(['session_id', 'rank'])\n",
    "     .filter(pl.col('rank')<=topn)\n",
    "     .groupby(['session_id'])\n",
    "     .agg(\n",
    "         pl.col('next_item_prediction')\n",
    "     )\n",
    ")\n",
    "# test4task3_result.head().collect()\n",
    "predictions = test4task3_pl.join(test4task3_result, how='left', on='session_id').collect()\n",
    "# [['locale', 'next_item_prediction']].to_pandas()"
   ]
  },
  {
   "cell_type": "code",
   "execution_count": null,
   "id": "15faacfc-8523-48c7-b922-3efad7261721",
   "metadata": {},
   "outputs": [],
   "source": []
  },
  {
   "cell_type": "code",
   "execution_count": 299,
   "id": "b6cdc9c8-9c1f-462f-9863-02cdfb82b70f",
   "metadata": {},
   "outputs": [
    {
     "name": "stdout",
     "output_type": "stream",
     "text": [
      "../data/sub_files/task2_test4task3_task2_rank_lgbm_v3.parquet\n"
     ]
    },
    {
     "data": {
      "text/html": [
       "<div><style>\n",
       ".dataframe > thead > tr > th,\n",
       ".dataframe > tbody > tr > td {\n",
       "  text-align: right;\n",
       "}\n",
       "</style>\n",
       "<small>shape: (3, 2)</small><table border=\"1\" class=\"dataframe\"><thead><tr><th>locale</th><th>counts</th></tr><tr><td>str</td><td>u32</td></tr></thead><tbody><tr><td>&quot;ES&quot;</td><td>6422</td></tr><tr><td>&quot;IT&quot;</td><td>10000</td></tr><tr><td>&quot;FR&quot;</td><td>10000</td></tr></tbody></table></div>"
      ],
      "text/plain": [
       "shape: (3, 2)\n",
       "┌────────┬────────┐\n",
       "│ locale ┆ counts │\n",
       "│ ---    ┆ ---    │\n",
       "│ str    ┆ u32    │\n",
       "╞════════╪════════╡\n",
       "│ ES     ┆ 6422   │\n",
       "│ IT     ┆ 10000  │\n",
       "│ FR     ┆ 10000  │\n",
       "└────────┴────────┘"
      ]
     },
     "execution_count": 299,
     "metadata": {},
     "output_type": "execute_result"
    }
   ],
   "source": [
    "test4task3_sub_file = f'../data/sub_files/{task}_test4task3_{rank_model_version}.parquet'\n",
    "print(test4task3_sub_file)\n",
    "predictions.write_parquet(test4task3_sub_file)\n",
    "predictions.select('locale').to_series().value_counts()"
   ]
  },
  {
   "cell_type": "code",
   "execution_count": null,
   "id": "ca97c004-5cf0-46e3-8894-122c60f70007",
   "metadata": {},
   "outputs": [],
   "source": []
  },
  {
   "cell_type": "code",
   "execution_count": null,
   "id": "8ec2dbec-76c4-4852-89ad-0dca27d0a961",
   "metadata": {},
   "outputs": [],
   "source": []
  },
  {
   "cell_type": "markdown",
   "id": "450738b8-fcdb-448b-9175-14827702978d",
   "metadata": {},
   "source": [
    "# fallback logics "
   ]
  },
  {
   "cell_type": "code",
   "execution_count": 300,
   "id": "ee2c173d-5d1d-4734-bf8a-4b730a35eb4b",
   "metadata": {},
   "outputs": [],
   "source": [
    "# pop_model = pl.scan_parquet('../model_training/popular_v1/popular_rec.parquet')"
   ]
  },
  {
   "cell_type": "code",
   "execution_count": 301,
   "id": "14b37937-1b86-4c0e-81fb-5a365a100152",
   "metadata": {},
   "outputs": [],
   "source": [
    "# pop_model.collect().shape"
   ]
  },
  {
   "cell_type": "code",
   "execution_count": null,
   "id": "aafcfe92-f235-4470-976d-4b1d960b0ba9",
   "metadata": {},
   "outputs": [],
   "source": []
  },
  {
   "cell_type": "markdown",
   "id": "4cea4973-3d4c-48e9-a387-287ee39ea07a",
   "metadata": {
    "tags": []
   },
   "source": [
    "# Test inference "
   ]
  },
  {
   "cell_type": "code",
   "execution_count": 302,
   "id": "37deb6e4-1833-419b-9c83-9896e14c21a2",
   "metadata": {},
   "outputs": [],
   "source": [
    "test_candidates = get_additional_feature(data_pl=test_candidates)\n",
    "test_candidates = test_candidates.collect()\n",
    "inference = ranker.predict(test_candidates[feature_cols].to_pandas())\n",
    "test_result = (test_candidates\n",
    "     .lazy()\n",
    "     .with_columns(\n",
    "         pl.Series(name='predict', values=inference)\n",
    "     )\n",
    "     .with_columns(\n",
    "        pl.col('predict').rank(method='ordinal', descending=True).over('session_id').alias('rank')\n",
    "     )\n",
    "     .sort(['session_id', 'rank'])\n",
    "     .filter(pl.col('rank')<=100)\n",
    "     .groupby(['session_id'])\n",
    "     .agg(\n",
    "         pl.col('next_item_prediction')\n",
    "     )\n",
    ")\n",
    "# test_result.head().collect()\n",
    "predictions = test_pl.join(test_result, how='left', on='session_id').collect()[['locale', 'next_item_prediction']].to_pandas()"
   ]
  },
  {
   "cell_type": "code",
   "execution_count": null,
   "id": "69357f0f-697b-4324-9f93-fa22842f8af9",
   "metadata": {},
   "outputs": [],
   "source": []
  },
  {
   "cell_type": "code",
   "execution_count": null,
   "id": "c9d1bf8f-7f18-443e-8296-8e43cb4850e3",
   "metadata": {},
   "outputs": [],
   "source": []
  },
  {
   "cell_type": "markdown",
   "id": "f1930d70-ec9e-4304-b409-96c6d40618c6",
   "metadata": {},
   "source": [
    "# data validation "
   ]
  },
  {
   "cell_type": "code",
   "execution_count": 303,
   "id": "3c84be3b-c811-48b7-b314-2cce1638c39d",
   "metadata": {},
   "outputs": [],
   "source": [
    "# test_result.head().collect()"
   ]
  },
  {
   "cell_type": "code",
   "execution_count": null,
   "id": "56b3ce55-2d51-4c54-b89a-eab785ec3440",
   "metadata": {},
   "outputs": [],
   "source": []
  },
  {
   "cell_type": "code",
   "execution_count": 304,
   "id": "308afe71-f0db-4996-9c7e-d6b1155c5b51",
   "metadata": {},
   "outputs": [],
   "source": [
    "predictions_pl = (\n",
    "    test_pl.join(test_result, how='left', on='session_id')\n",
    "        .with_columns(\n",
    "            pl.when(pl.col('next_item_prediction').is_null())\n",
    "                .then(pl.col('prev_items'))\n",
    "                .otherwise(pl.col('next_item_prediction')).alias('next_item_prediction')\n",
    "        )\n",
    ").collect()"
   ]
  },
  {
   "cell_type": "code",
   "execution_count": 305,
   "id": "02fe81c8-b767-4c02-a1fe-da67fdebcfad",
   "metadata": {},
   "outputs": [],
   "source": [
    "# predictions_pl.head()"
   ]
  },
  {
   "cell_type": "code",
   "execution_count": 306,
   "id": "6733f598-f4ff-42e3-80f5-665fddb376ae",
   "metadata": {},
   "outputs": [],
   "source": [
    "predictions = (predictions_pl[['locale', 'next_item_prediction']].to_pandas())"
   ]
  },
  {
   "cell_type": "code",
   "execution_count": 307,
   "id": "c9677f91-aebd-4888-bd38-69ef61f32d24",
   "metadata": {},
   "outputs": [],
   "source": [
    "# predictions"
   ]
  },
  {
   "cell_type": "code",
   "execution_count": 308,
   "id": "2b1cc59b-8392-44da-b75e-e5f884e84006",
   "metadata": {},
   "outputs": [],
   "source": [
    "prediction_summary = (\n",
    "    predictions_pl\n",
    "        .explode('next_item_prediction')\n",
    "        .with_columns(\n",
    "            pl.col('next_item_prediction').is_null().alias('whether_null')\n",
    "        )\n",
    "        .groupby('session_id')\n",
    "        .agg(\n",
    "            pl.col('whether_null').sum().alias('null_num')\n",
    "            , pl.count().alias('rec_num')\n",
    "        )\n",
    ")"
   ]
  },
  {
   "cell_type": "code",
   "execution_count": 309,
   "id": "962e519a-98d0-49c1-ac50-e5ec25a9efdb",
   "metadata": {},
   "outputs": [],
   "source": [
    "# prediction_summary.select('rec_num').to_pandas().describe([0.01*i for i in range(15)])"
   ]
  },
  {
   "cell_type": "code",
   "execution_count": 310,
   "id": "ec4a13c9-afcc-4cb3-aff5-92e8cbe3c16a",
   "metadata": {},
   "outputs": [],
   "source": [
    "# predictions_plfilter(pl.col('session_id')==4338464).collect()"
   ]
  },
  {
   "cell_type": "code",
   "execution_count": 311,
   "id": "0b63d7df-b01e-4b42-8e19-5ebbd61880de",
   "metadata": {},
   "outputs": [],
   "source": [
    "# test_pl.filter(pl.col('session_id')==4338464).collect()"
   ]
  },
  {
   "cell_type": "code",
   "execution_count": 312,
   "id": "caad96c6-61de-4682-927c-5e3a4714ea99",
   "metadata": {},
   "outputs": [],
   "source": [
    "# test_result.filter(pl.col('session_id')==4338464).collect()"
   ]
  },
  {
   "cell_type": "code",
   "execution_count": 313,
   "id": "9211f22d-c3d6-4e8d-a2d8-3938ffd12ae7",
   "metadata": {},
   "outputs": [],
   "source": [
    "assert (\n",
    "    prediction_summary.filter(pl.col('null_num')>0)\n",
    ").shape[0] == 0"
   ]
  },
  {
   "cell_type": "code",
   "execution_count": 314,
   "id": "dc1521b2-6509-4947-9d25-3b89a4b0b2a6",
   "metadata": {},
   "outputs": [],
   "source": [
    "check_predictions(predictions, test_sessions=test_pl.collect().to_pandas(), \n",
    "                  # check_products=True, product_df=products\n",
    "                 )\n",
    "# Its important that the parquet file you submit is saved with pyarrow backend"
   ]
  },
  {
   "cell_type": "code",
   "execution_count": 315,
   "id": "495ae880-b616-433f-96f2-2e2e95957fbd",
   "metadata": {},
   "outputs": [],
   "source": [
    "assert (\n",
    "    pl.from_pandas(predictions)\n",
    "        .explode('next_item_prediction')\n",
    "        .filter(\n",
    "            pl.col('next_item_prediction').is_null()\n",
    "                     )\n",
    ").shape[0] == 0"
   ]
  },
  {
   "cell_type": "code",
   "execution_count": 316,
   "id": "b588885e-0a9b-401e-aef8-4026280ac47c",
   "metadata": {},
   "outputs": [],
   "source": [
    "assert predictions.shape[0] == test_pl.collect().shape[0]"
   ]
  },
  {
   "cell_type": "code",
   "execution_count": null,
   "id": "c6bfa48b-1297-4cad-bcd4-ea90463876fe",
   "metadata": {},
   "outputs": [],
   "source": []
  },
  {
   "cell_type": "code",
   "execution_count": 317,
   "id": "12b7fd35-e303-4f7b-b84e-35747d5040df",
   "metadata": {},
   "outputs": [
    {
     "data": {
      "text/plain": [
       "'../data/sub_files/task2_rank_lgbm_v3.parque'"
      ]
     },
     "execution_count": 317,
     "metadata": {},
     "output_type": "execute_result"
    }
   ],
   "source": [
    "sub_file"
   ]
  },
  {
   "cell_type": "code",
   "execution_count": 318,
   "id": "d9dc41b5-ec08-4345-94b7-78cdd10761a7",
   "metadata": {},
   "outputs": [],
   "source": [
    "if not debug:\n",
    "    predictions.to_parquet(sub_file, engine='pyarrow')"
   ]
  },
  {
   "cell_type": "code",
   "execution_count": 319,
   "id": "6f4b59fb-2a81-4597-a24d-a636cd59263d",
   "metadata": {},
   "outputs": [
    {
     "name": "stdout",
     "output_type": "stream",
     "text": [
      "-rw-r--r-- 1 jupyter jupyter 28672972 Jun  8 21:57 ../data/sub_files/task2_rank_lgbm_v3.parque\n"
     ]
    }
   ],
   "source": [
    "! ls -al {sub_file}"
   ]
  },
  {
   "cell_type": "code",
   "execution_count": 320,
   "id": "546785cc-d79f-4edb-813f-f0da21863c58",
   "metadata": {},
   "outputs": [],
   "source": [
    "# sampled_train_candidates.sample(20)"
   ]
  },
  {
   "cell_type": "code",
   "execution_count": null,
   "id": "6e13e091-6f21-425a-8a67-7d03054ed075",
   "metadata": {},
   "outputs": [],
   "source": []
  },
  {
   "cell_type": "markdown",
   "id": "c6448f9b-c2f6-4c00-94f3-0c286f47e3b9",
   "metadata": {
    "tags": []
   },
   "source": [
    "# Submit result "
   ]
  },
  {
   "cell_type": "code",
   "execution_count": 187,
   "id": "6b21fb19-340b-4d13-8bde-f4bc538583d0",
   "metadata": {},
   "outputs": [],
   "source": [
    "# # You can submit with aicrowd-cli, or upload manually on the challenge page.\n",
    "# !aicrowd submission create -c task-2-next-product-recommendation-for-underrepresented-languages -f {sub_file}"
   ]
  },
  {
   "cell_type": "markdown",
   "id": "255fef78-57be-446c-9638-ddf052f9dc12",
   "metadata": {},
   "source": [
    "# debug "
   ]
  },
  {
   "cell_type": "code",
   "execution_count": 394,
   "id": "68779619-a92f-4577-8d2d-bfb58c772362",
   "metadata": {},
   "outputs": [],
   "source": [
    "sub_pl = pl.scan_parquet(sub_file)"
   ]
  },
  {
   "cell_type": "code",
   "execution_count": 395,
   "id": "17b8472e-3497-4320-8361-c2d33af010c9",
   "metadata": {},
   "outputs": [
    {
     "data": {
      "text/html": [
       "<div><style>\n",
       ".dataframe > thead > tr > th,\n",
       ".dataframe > tbody > tr > td {\n",
       "  text-align: right;\n",
       "}\n",
       "</style>\n",
       "<small>shape: (5, 2)</small><table border=\"1\" class=\"dataframe\"><thead><tr><th>locale</th><th>next_item_prediction</th></tr><tr><td>str</td><td>list[str]</td></tr></thead><tbody><tr><td>&quot;ES&quot;</td><td>[&quot;B074RZKWMD&quot;, &quot;B074574XPT&quot;, … &quot;B09P15NQ3D&quot;]</td></tr><tr><td>&quot;ES&quot;</td><td>[&quot;B09M8LNB61&quot;, &quot;B09J4T4JF5&quot;, … &quot;B08P5C768V&quot;]</td></tr><tr><td>&quot;ES&quot;</td><td>[&quot;B0B461V1RB&quot;, &quot;B0B4614XL6&quot;, … &quot;B09TL4RXK4&quot;]</td></tr><tr><td>&quot;ES&quot;</td><td>[&quot;B07R4VG9X3&quot;, &quot;B07R4WKSSV&quot;, … &quot;B09VQD8V9T&quot;]</td></tr><tr><td>&quot;ES&quot;</td><td>[&quot;B09G9LF91K&quot;, &quot;B09G97SLGS&quot;, … &quot;B09ZD7D5LB&quot;]</td></tr></tbody></table></div>"
      ],
      "text/plain": [
       "shape: (5, 2)\n",
       "┌────────┬───────────────────────────────────┐\n",
       "│ locale ┆ next_item_prediction              │\n",
       "│ ---    ┆ ---                               │\n",
       "│ str    ┆ list[str]                         │\n",
       "╞════════╪═══════════════════════════════════╡\n",
       "│ ES     ┆ [\"B074RZKWMD\", \"B074574XPT\", … \"… │\n",
       "│ ES     ┆ [\"B09M8LNB61\", \"B09J4T4JF5\", … \"… │\n",
       "│ ES     ┆ [\"B0B461V1RB\", \"B0B4614XL6\", … \"… │\n",
       "│ ES     ┆ [\"B07R4VG9X3\", \"B07R4WKSSV\", … \"… │\n",
       "│ ES     ┆ [\"B09G9LF91K\", \"B09G97SLGS\", … \"… │\n",
       "└────────┴───────────────────────────────────┘"
      ]
     },
     "execution_count": 395,
     "metadata": {},
     "output_type": "execute_result"
    }
   ],
   "source": [
    "sub_pl.head().collect()"
   ]
  },
  {
   "cell_type": "code",
   "execution_count": 396,
   "id": "ff3b43ee-8831-451e-bcbb-f3232e69cbe3",
   "metadata": {},
   "outputs": [],
   "source": [
    "null_prediciton = (\n",
    "    sub_pl.explode('next_item_prediction')\n",
    "        .filter(\n",
    "            pl.col('next_item_prediction').is_null()\n",
    "        )\n",
    ").collect()"
   ]
  },
  {
   "cell_type": "code",
   "execution_count": 398,
   "id": "6f15a1ea-5389-4110-a017-bd206f2fadc0",
   "metadata": {},
   "outputs": [
    {
     "data": {
      "text/html": [
       "<div><style>\n",
       ".dataframe > thead > tr > th,\n",
       ".dataframe > tbody > tr > td {\n",
       "  text-align: right;\n",
       "}\n",
       "</style>\n",
       "<small>shape: (442, 2)</small><table border=\"1\" class=\"dataframe\"><thead><tr><th>locale</th><th>next_item_prediction</th></tr><tr><td>str</td><td>str</td></tr></thead><tbody><tr><td>&quot;ES&quot;</td><td>null</td></tr><tr><td>&quot;ES&quot;</td><td>null</td></tr><tr><td>&quot;ES&quot;</td><td>null</td></tr><tr><td>&quot;ES&quot;</td><td>null</td></tr><tr><td>&quot;ES&quot;</td><td>null</td></tr><tr><td>&quot;ES&quot;</td><td>null</td></tr><tr><td>&quot;ES&quot;</td><td>null</td></tr><tr><td>&quot;ES&quot;</td><td>null</td></tr><tr><td>&quot;ES&quot;</td><td>null</td></tr><tr><td>&quot;ES&quot;</td><td>null</td></tr><tr><td>&quot;ES&quot;</td><td>null</td></tr><tr><td>&quot;ES&quot;</td><td>null</td></tr><tr><td>&hellip;</td><td>&hellip;</td></tr><tr><td>&quot;IT&quot;</td><td>null</td></tr><tr><td>&quot;IT&quot;</td><td>null</td></tr><tr><td>&quot;IT&quot;</td><td>null</td></tr><tr><td>&quot;IT&quot;</td><td>null</td></tr><tr><td>&quot;IT&quot;</td><td>null</td></tr><tr><td>&quot;IT&quot;</td><td>null</td></tr><tr><td>&quot;IT&quot;</td><td>null</td></tr><tr><td>&quot;IT&quot;</td><td>null</td></tr><tr><td>&quot;IT&quot;</td><td>null</td></tr><tr><td>&quot;IT&quot;</td><td>null</td></tr><tr><td>&quot;IT&quot;</td><td>null</td></tr><tr><td>&quot;IT&quot;</td><td>null</td></tr></tbody></table></div>"
      ],
      "text/plain": [
       "shape: (442, 2)\n",
       "┌────────┬──────────────────────┐\n",
       "│ locale ┆ next_item_prediction │\n",
       "│ ---    ┆ ---                  │\n",
       "│ str    ┆ str                  │\n",
       "╞════════╪══════════════════════╡\n",
       "│ ES     ┆ null                 │\n",
       "│ ES     ┆ null                 │\n",
       "│ ES     ┆ null                 │\n",
       "│ ES     ┆ null                 │\n",
       "│ …      ┆ …                    │\n",
       "│ IT     ┆ null                 │\n",
       "│ IT     ┆ null                 │\n",
       "│ IT     ┆ null                 │\n",
       "│ IT     ┆ null                 │\n",
       "└────────┴──────────────────────┘"
      ]
     },
     "execution_count": 398,
     "metadata": {},
     "output_type": "execute_result"
    }
   ],
   "source": [
    "null_prediciton"
   ]
  },
  {
   "cell_type": "markdown",
   "id": "02e0525a-e79a-4d83-8813-500358581f18",
   "metadata": {
    "jp-MarkdownHeadingCollapsed": true,
    "tags": []
   },
   "source": [
    "#  Case Study from taks2"
   ]
  },
  {
   "cell_type": "code",
   "execution_count": 92,
   "id": "101ef8a0-eac0-4ab5-9adf-42b3b98bbb64",
   "metadata": {},
   "outputs": [],
   "source": [
    "product_pl = pl.scan_parquet(os.path.join(base_dir, raw_data_session_id_dir, \n",
    "                                          'products_train.parquet'))"
   ]
  },
  {
   "cell_type": "code",
   "execution_count": 93,
   "id": "ffc3c04d-8f13-44c6-9389-b23f3fb5c17c",
   "metadata": {},
   "outputs": [
    {
     "data": {
      "text/html": [
       "<div><style>\n",
       ".dataframe > thead > tr > th,\n",
       ".dataframe > tbody > tr > td {\n",
       "  text-align: right;\n",
       "}\n",
       "</style>\n",
       "<small>shape: (1, 4)</small><table border=\"1\" class=\"dataframe\"><thead><tr><th>total_sessions</th><th>mrr</th><th>recall@20</th><th>recall@100</th></tr><tr><td>u32</td><td>f64</td><td>f64</td><td>f64</td></tr></thead><tbody><tr><td>33333</td><td>0.3242</td><td>0.5594</td><td>0.6419</td></tr></tbody></table></div>"
      ],
      "text/plain": [
       "shape: (1, 4)\n",
       "┌────────────────┬────────┬───────────┬────────────┐\n",
       "│ total_sessions ┆ mrr    ┆ recall@20 ┆ recall@100 │\n",
       "│ ---            ┆ ---    ┆ ---       ┆ ---        │\n",
       "│ u32            ┆ f64    ┆ f64       ┆ f64        │\n",
       "╞════════════════╪════════╪═══════════╪════════════╡\n",
       "│ 33333          ┆ 0.3242 ┆ 0.5594    ┆ 0.6419     │\n",
       "└────────────────┴────────┴───────────┴────────────┘"
      ]
     },
     "execution_count": 93,
     "metadata": {},
     "output_type": "execute_result"
    }
   ],
   "source": [
    "model_eval(target_df=eval_pl.join(ranker_eval_pl.lazy(), how='left', on='session_id'))"
   ]
  },
  {
   "cell_type": "code",
   "execution_count": 94,
   "id": "8a6f35da-154a-45fb-a4cb-f42c113ed4e4",
   "metadata": {},
   "outputs": [],
   "source": [
    "target_df = eval_pl.join(ranker_eval_pl.lazy(), how='left', on='session_id')"
   ]
  },
  {
   "cell_type": "code",
   "execution_count": 131,
   "id": "5b6dfddd-71c1-4b3b-a71c-09d3e7a180c0",
   "metadata": {},
   "outputs": [],
   "source": [
    "# target_df.head().collect()"
   ]
  },
  {
   "cell_type": "code",
   "execution_count": 96,
   "id": "dd733e4c-bbee-4c82-ae9f-a444d04605b5",
   "metadata": {},
   "outputs": [
    {
     "data": {
      "text/html": [
       "<div><style>\n",
       ".dataframe > thead > tr > th,\n",
       ".dataframe > tbody > tr > td {\n",
       "  text-align: right;\n",
       "}\n",
       "</style>\n",
       "<small>shape: (1, 6)</small><table border=\"1\" class=\"dataframe\"><thead><tr><th>total_sessions</th><th>mrr</th><th>recall@1</th><th>recall@3</th><th>recall@20</th><th>recall@100</th></tr><tr><td>u32</td><td>f64</td><td>f64</td><td>f64</td><td>f64</td><td>f64</td></tr></thead><tbody><tr><td>33333</td><td>0.3242</td><td>0.237</td><td>0.3675</td><td>0.5594</td><td>0.6419</td></tr></tbody></table></div>"
      ],
      "text/plain": [
       "shape: (1, 6)\n",
       "┌────────────────┬────────┬──────────┬──────────┬───────────┬────────────┐\n",
       "│ total_sessions ┆ mrr    ┆ recall@1 ┆ recall@3 ┆ recall@20 ┆ recall@100 │\n",
       "│ ---            ┆ ---    ┆ ---      ┆ ---      ┆ ---       ┆ ---        │\n",
       "│ u32            ┆ f64    ┆ f64      ┆ f64      ┆ f64       ┆ f64        │\n",
       "╞════════════════╪════════╪══════════╪══════════╪═══════════╪════════════╡\n",
       "│ 33333          ┆ 0.3242 ┆ 0.237    ┆ 0.3675   ┆ 0.5594    ┆ 0.6419     │\n",
       "└────────────────┴────────┴──────────┴──────────┴───────────┴────────────┘"
      ]
     },
     "execution_count": 96,
     "metadata": {},
     "output_type": "execute_result"
    }
   ],
   "source": [
    "eval_final = (\n",
    "        target_df\n",
    "        .lazy()\n",
    "        .with_columns(\n",
    "            pl.col('next_item_prediction').cast(pl.List(pl.Utf8))\n",
    "        )\n",
    "        .with_columns(\n",
    "            pl.concat_list([pl.col('next_item'), pl.col('next_item_prediction')]).alias('mrr')\n",
    "        )\n",
    "        .with_columns(\n",
    "            pl.col('mrr').arr.eval(\n",
    "                pl.arg_where(pl.element()==pl.element().first())\n",
    "            )\n",
    "        ).with_columns(\n",
    "            pl.col('mrr').arr.eval(\n",
    "                pl.when(pl.element()==0).then(0).otherwise(1/pl.element())\n",
    "            )\n",
    "        ).with_columns(\n",
    "            pl.col('mrr').arr.sum()\n",
    "            , pl.col('next_item_prediction').arr.head(1).arr.contains(pl.col('next_item')).alias('recall@1')\n",
    "            , pl.col('next_item_prediction').arr.head(3).arr.contains(pl.col('next_item')).alias('recall@3')\n",
    "            , pl.col('next_item_prediction').arr.head(20).arr.contains(pl.col('next_item')).alias('recall@20')\n",
    "            , pl.col('next_item_prediction').arr.head(100).arr.contains(pl.col('next_item')).alias('recall@100')\n",
    "\n",
    "        )\n",
    ")\n",
    "final_res = eval_final.select(\n",
    "        pl.count().alias('total_sessions')\n",
    "        , pl.col('mrr').mean().round(4)\n",
    "        , pl.col('recall@1').mean().round(4)\n",
    "        , pl.col('recall@3').mean().round(4)\n",
    "        , pl.col('recall@20').mean().round(4)\n",
    "        , pl.col('recall@100').mean().round(4)\n",
    "\n",
    "    ).collect()\n",
    "final_res"
   ]
  },
  {
   "cell_type": "code",
   "execution_count": 98,
   "id": "d3a3f404-6bd2-44a5-8d6b-40e2136334bc",
   "metadata": {},
   "outputs": [],
   "source": [
    "# final_res"
   ]
  },
  {
   "cell_type": "code",
   "execution_count": 99,
   "id": "f257a058-fd81-4a95-a031-429b760d736f",
   "metadata": {},
   "outputs": [],
   "source": [
    "# eval_final.filter(pl.col('recall@1')==True).head().collect()"
   ]
  },
  {
   "cell_type": "code",
   "execution_count": 100,
   "id": "6a7bec0c-7447-48dd-ac55-7993bacebd87",
   "metadata": {},
   "outputs": [],
   "source": [
    "# eval_final.head().collect()"
   ]
  },
  {
   "cell_type": "markdown",
   "id": "a32104ad-8e85-414e-a292-cfe8b82864f1",
   "metadata": {},
   "source": [
    "## recall@3 = True and recall@1=False "
   ]
  },
  {
   "cell_type": "code",
   "execution_count": 101,
   "id": "059e8b4f-1bd6-4a4d-9677-e8a6cd85cad8",
   "metadata": {},
   "outputs": [],
   "source": [
    "all_cases = eval_final.filter(pl.col('recall@1')==False).filter(pl.col('recall@3')==True)"
   ]
  },
  {
   "cell_type": "code",
   "execution_count": 102,
   "id": "5be10810-cd32-4ea7-a54a-55a570856a49",
   "metadata": {},
   "outputs": [],
   "source": [
    "all_cases = (\n",
    "    all_cases.with_columns(\n",
    "        pl.col('next_item_prediction').arr.head(3).alias('next_item_prediction')\n",
    "    )\n",
    ")"
   ]
  },
  {
   "cell_type": "code",
   "execution_count": 150,
   "id": "c803ba24-9cc6-4496-9c8b-0f3c7e13dd8b",
   "metadata": {},
   "outputs": [
    {
     "data": {
      "text/html": [
       "<div><style>\n",
       ".dataframe > thead > tr > th,\n",
       ".dataframe > tbody > tr > td {\n",
       "  text-align: right;\n",
       "}\n",
       "</style>\n",
       "<small>shape: (5, 11)</small><table border=\"1\" class=\"dataframe\"><thead><tr><th>prev_items</th><th>next_item</th><th>locale</th><th>session_id</th><th>next_item_prediction</th><th>next_item_right</th><th>mrr</th><th>recall@1</th><th>recall@3</th><th>recall@20</th><th>recall@100</th></tr><tr><td>list[str]</td><td>str</td><td>str</td><td>i64</td><td>list[str]</td><td>str</td><td>f64</td><td>bool</td><td>bool</td><td>bool</td><td>bool</td></tr></thead><tbody><tr><td>[&quot;B00NPXEEC4&quot;, &quot;B07JN5C1S3&quot;, … &quot;B0B3JS3NFN&quot;]</td><td>&quot;B09NQHCKJK&quot;</td><td>&quot;IT&quot;</td><td>3575764</td><td>[&quot;B08P4YPB8Q&quot;, &quot;B0092QK8N2&quot;, &quot;B09NQHCKJK&quot;]</td><td>&quot;B09NQHCKJK&quot;</td><td>0.333333</td><td>false</td><td>true</td><td>true</td><td>true</td></tr><tr><td>[&quot;B06Y2H5JGX&quot;, &quot;B0811QN9PN&quot;]</td><td>&quot;B0B1J56P98&quot;</td><td>&quot;FR&quot;</td><td>3407839</td><td>[&quot;B09ZXWHPRD&quot;, &quot;B0B1J56P98&quot;, &quot;B07GX1WYFC&quot;]</td><td>&quot;B0B1J56P98&quot;</td><td>0.5</td><td>false</td><td>true</td><td>true</td><td>true</td></tr><tr><td>[&quot;B08BYJ9Q65&quot;, &quot;B08HRG6W11&quot;, &quot;B08BYJ9Q65&quot;]</td><td>&quot;B08TLYM129&quot;</td><td>&quot;IT&quot;</td><td>3537237</td><td>[&quot;B09G5N3D36&quot;, &quot;B08TLYM129&quot;, &quot;B086XFFD5Y&quot;]</td><td>&quot;B08TLYM129&quot;</td><td>0.5</td><td>false</td><td>true</td><td>true</td><td>true</td></tr><tr><td>[&quot;B01N1NR31G&quot;, &quot;B01MZ5ELRT&quot;]</td><td>&quot;B01F549LFK&quot;</td><td>&quot;IT&quot;</td><td>3538047</td><td>[&quot;B01N5L1J0P&quot;, &quot;B01F549LFK&quot;, &quot;B01MSUK566&quot;]</td><td>&quot;B01F549LFK&quot;</td><td>0.5</td><td>false</td><td>true</td><td>true</td><td>true</td></tr><tr><td>[&quot;B003Z0HU0K&quot;, &quot;B003Z0HU0K&quot;, &quot;B09NFV8PBV&quot;]</td><td>&quot;B09NGFB7KD&quot;</td><td>&quot;FR&quot;</td><td>3367530</td><td>[&quot;B09NFT49PW&quot;, &quot;B09NGFB7KD&quot;, &quot;2226328432&quot;]</td><td>&quot;B09NGFB7KD&quot;</td><td>0.5</td><td>false</td><td>true</td><td>true</td><td>true</td></tr></tbody></table></div>"
      ],
      "text/plain": [
       "shape: (5, 11)\n",
       "┌────────────┬────────────┬────────┬────────────┬───┬──────────┬──────────┬───────────┬────────────┐\n",
       "│ prev_items ┆ next_item  ┆ locale ┆ session_id ┆ … ┆ recall@1 ┆ recall@3 ┆ recall@20 ┆ recall@100 │\n",
       "│ ---        ┆ ---        ┆ ---    ┆ ---        ┆   ┆ ---      ┆ ---      ┆ ---       ┆ ---        │\n",
       "│ list[str]  ┆ str        ┆ str    ┆ i64        ┆   ┆ bool     ┆ bool     ┆ bool      ┆ bool       │\n",
       "╞════════════╪════════════╪════════╪════════════╪═══╪══════════╪══════════╪═══════════╪════════════╡\n",
       "│ [\"B00NPXEE ┆ B09NQHCKJK ┆ IT     ┆ 3575764    ┆ … ┆ false    ┆ true     ┆ true      ┆ true       │\n",
       "│ C4\", \"B07J ┆            ┆        ┆            ┆   ┆          ┆          ┆           ┆            │\n",
       "│ N5C1S3\", … ┆            ┆        ┆            ┆   ┆          ┆          ┆           ┆            │\n",
       "│ \"…         ┆            ┆        ┆            ┆   ┆          ┆          ┆           ┆            │\n",
       "│ [\"B06Y2H5J ┆ B0B1J56P98 ┆ FR     ┆ 3407839    ┆ … ┆ false    ┆ true     ┆ true      ┆ true       │\n",
       "│ GX\", \"B081 ┆            ┆        ┆            ┆   ┆          ┆          ┆           ┆            │\n",
       "│ 1QN9PN\"]   ┆            ┆        ┆            ┆   ┆          ┆          ┆           ┆            │\n",
       "│ [\"B08BYJ9Q ┆ B08TLYM129 ┆ IT     ┆ 3537237    ┆ … ┆ false    ┆ true     ┆ true      ┆ true       │\n",
       "│ 65\", \"B08H ┆            ┆        ┆            ┆   ┆          ┆          ┆           ┆            │\n",
       "│ RG6W11\",   ┆            ┆        ┆            ┆   ┆          ┆          ┆           ┆            │\n",
       "│ \"B0…       ┆            ┆        ┆            ┆   ┆          ┆          ┆           ┆            │\n",
       "│ [\"B01N1NR3 ┆ B01F549LFK ┆ IT     ┆ 3538047    ┆ … ┆ false    ┆ true     ┆ true      ┆ true       │\n",
       "│ 1G\", \"B01M ┆            ┆        ┆            ┆   ┆          ┆          ┆           ┆            │\n",
       "│ Z5ELRT\"]   ┆            ┆        ┆            ┆   ┆          ┆          ┆           ┆            │\n",
       "│ [\"B003Z0HU ┆ B09NGFB7KD ┆ FR     ┆ 3367530    ┆ … ┆ false    ┆ true     ┆ true      ┆ true       │\n",
       "│ 0K\", \"B003 ┆            ┆        ┆            ┆   ┆          ┆          ┆           ┆            │\n",
       "│ Z0HU0K\",   ┆            ┆        ┆            ┆   ┆          ┆          ┆           ┆            │\n",
       "│ \"B0…       ┆            ┆        ┆            ┆   ┆          ┆          ┆           ┆            │\n",
       "└────────────┴────────────┴────────┴────────────┴───┴──────────┴──────────┴───────────┴────────────┘"
      ]
     },
     "execution_count": 150,
     "metadata": {},
     "output_type": "execute_result"
    }
   ],
   "source": [
    "all_cases.collect().sample(5)"
   ]
  },
  {
   "cell_type": "markdown",
   "id": "359c5271-dc9b-4067-b498-17ae8ffa3d32",
   "metadata": {},
   "source": [
    "## Function "
   ]
  },
  {
   "cell_type": "code",
   "execution_count": 143,
   "id": "f15e602b-e23f-4833-971a-7fe356c77e98",
   "metadata": {},
   "outputs": [],
   "source": [
    "# def print_single_case(session_id, all_cases):\n",
    "#     feature = (\n",
    "#      all_cases\n",
    "#         .select(['next_item_prediction'])\n",
    "#         .filter(pl.col('session_id')==session_id).explode('next_item_prediction')\n",
    "#         .join(\n",
    "#             eval_candidates.filter(pl.col('session_id')==session_id)\n",
    "#             , how='left'\n",
    "#             , on='next_item_prediction'\n",
    "#         )\n",
    "# )  \n",
    "#     print()\n",
    "#     print(\"features\")\n",
    "#     print(feature.collect())\n",
    "#     print()\n",
    "#     print()\n",
    "#                   # e\n",
    "    "
   ]
  },
  {
   "cell_type": "markdown",
   "id": "ac78d70f-aed0-44c1-936e-78073f312b11",
   "metadata": {},
   "source": [
    "### 3272776 --> hard to locate problem; `next_item_weight_co_visit` "
   ]
  },
  {
   "cell_type": "code",
   "execution_count": 132,
   "id": "c397f370-6e7e-47df-9b45-98fc071879ea",
   "metadata": {},
   "outputs": [],
   "source": [
    "session_id = 3272776"
   ]
  },
  {
   "cell_type": "code",
   "execution_count": 142,
   "id": "e2dcf565-fde4-40fc-a71e-155e90893f38",
   "metadata": {},
   "outputs": [],
   "source": [
    "# print_single_case(session_id=session_id, all_cases=all_cases)"
   ]
  },
  {
   "cell_type": "code",
   "execution_count": 133,
   "id": "8248cf01-3fdc-4f00-9598-d9a43203d639",
   "metadata": {},
   "outputs": [
    {
     "data": {
      "text/html": [
       "<div><style>\n",
       ".dataframe > thead > tr > th,\n",
       ".dataframe > tbody > tr > td {\n",
       "  text-align: right;\n",
       "}\n",
       "</style>\n",
       "<small>shape: (1, 11)</small><table border=\"1\" class=\"dataframe\"><thead><tr><th>prev_items</th><th>next_item</th><th>locale</th><th>session_id</th><th>next_item_prediction</th><th>next_item_right</th><th>mrr</th><th>recall@1</th><th>recall@3</th><th>recall@20</th><th>recall@100</th></tr><tr><td>list[str]</td><td>str</td><td>str</td><td>i64</td><td>list[str]</td><td>str</td><td>f64</td><td>bool</td><td>bool</td><td>bool</td><td>bool</td></tr></thead><tbody><tr><td>[&quot;B0B2K87MXS&quot;, &quot;B0B2KBH114&quot;, … &quot;B0B2K87MXS&quot;]</td><td>&quot;B0B4612MTM&quot;</td><td>&quot;ES&quot;</td><td>3272776</td><td>[&quot;B09PNDJJZ9&quot;, &quot;B08FMPXDTJ&quot;, &quot;B0B4612MTM&quot;]</td><td>&quot;B0B4612MTM&quot;</td><td>0.333333</td><td>false</td><td>true</td><td>true</td><td>true</td></tr></tbody></table></div>"
      ],
      "text/plain": [
       "shape: (1, 11)\n",
       "┌────────────┬────────────┬────────┬────────────┬───┬──────────┬──────────┬───────────┬────────────┐\n",
       "│ prev_items ┆ next_item  ┆ locale ┆ session_id ┆ … ┆ recall@1 ┆ recall@3 ┆ recall@20 ┆ recall@100 │\n",
       "│ ---        ┆ ---        ┆ ---    ┆ ---        ┆   ┆ ---      ┆ ---      ┆ ---       ┆ ---        │\n",
       "│ list[str]  ┆ str        ┆ str    ┆ i64        ┆   ┆ bool     ┆ bool     ┆ bool      ┆ bool       │\n",
       "╞════════════╪════════════╪════════╪════════════╪═══╪══════════╪══════════╪═══════════╪════════════╡\n",
       "│ [\"B0B2K87M ┆ B0B4612MTM ┆ ES     ┆ 3272776    ┆ … ┆ false    ┆ true     ┆ true      ┆ true       │\n",
       "│ XS\", \"B0B2 ┆            ┆        ┆            ┆   ┆          ┆          ┆           ┆            │\n",
       "│ KBH114\", … ┆            ┆        ┆            ┆   ┆          ┆          ┆           ┆            │\n",
       "│ \"…         ┆            ┆        ┆            ┆   ┆          ┆          ┆           ┆            │\n",
       "└────────────┴────────────┴────────┴────────────┴───┴──────────┴──────────┴───────────┴────────────┘"
      ]
     },
     "execution_count": 133,
     "metadata": {},
     "output_type": "execute_result"
    }
   ],
   "source": [
    "single_case = all_cases.filter(pl.col('session_id')==session_id).collect()\n",
    "single_case"
   ]
  },
  {
   "cell_type": "code",
   "execution_count": 134,
   "id": "22659023-c289-4a14-b801-a08d4ff1541b",
   "metadata": {},
   "outputs": [
    {
     "name": "stdout",
     "output_type": "stream",
     "text": [
      "++++++++++++++++++++\n",
      "0: B0B2K87MXS\n",
      "++++++++++++++++++++\n",
      "===title====\n",
      "    XIAOMI Xiaomi Smartphone redmi 9c NFC 3/64gb Verde Libre\n",
      "\n",
      "===desc====\n",
      "    Alta calidad\n",
      "\n",
      "unique_id                               1416732\n",
      "price                                    116.76\n",
      "brand                                    Xiaomi\n",
      "color                              Aurora Green\n",
      "size         Redmi 9C NFC 3GB+64GB Aurora Green\n",
      "model                     REDMI 9C NFC 3-64 GRE\n",
      "material                                   None\n",
      "author                                     None\n",
      "Name: 0, dtype: object\n",
      "\n",
      "\n",
      "++++++++++++++++++++\n",
      "1: B0B2K87MXS\n",
      "++++++++++++++++++++\n",
      "===title====\n",
      "    XIAOMI Xiaomi Smartphone redmi 9c NFC 3/64gb Verde Libre\n",
      "\n",
      "===desc====\n",
      "    Alta calidad\n",
      "\n",
      "unique_id                               1416732\n",
      "price                                    116.76\n",
      "brand                                    Xiaomi\n",
      "color                              Aurora Green\n",
      "size         Redmi 9C NFC 3GB+64GB Aurora Green\n",
      "model                     REDMI 9C NFC 3-64 GRE\n",
      "material                                   None\n",
      "author                                     None\n",
      "Name: 1, dtype: object\n",
      "\n",
      "\n",
      "++++++++++++++++++++\n",
      "2: B09ZHGZ7YS\n",
      "++++++++++++++++++++\n",
      "===title====\n",
      "    Xiaomi Redmi 9A - Smartphone de 2+32GB, Pantalla de 6,53\" HD+, MediaTek Helio G25, Cámara Trasera de 13 MP con IA, Batería de 5000 mAh, Granite Gray (Versión ES + 3 Años de garantía)\n",
      "\n",
      "===desc====\n",
      "    Aumento de la potencia de procesamiento; el procesador MediaTek Helio G25 proporciona un rendimiento fiable, asegurando una experiencia sin retrasos; la tecnología de juego HyperEngine ofrece una experiencia de juego más fluida y sensible, con conexiones seguras y gráficos realistas\n",
      "\n",
      "unique_id    1426518\n",
      "price          98.41\n",
      "brand         Xiaomi\n",
      "color           Gray\n",
      "size          2+32GB\n",
      "model          37568\n",
      "material        None\n",
      "author          None\n",
      "Name: 2, dtype: object\n",
      "\n",
      "\n",
      "++++++++++++++++++++\n",
      "3: B0B2KBH114\n",
      "++++++++++++++++++++\n",
      "===title====\n",
      "    Xiaomi Redmi 9A - Smartphone de 2+32GB, Pantalla de 6,53\" HD+, MediaTek Helio G25, Cámara trasera de 13 MP con IA, Batería de 5000 mAh, Aurora Green (Versión ES + 3 Años de garantía)\n",
      "\n",
      "===desc====\n",
      "    Aumento de la potencia de procesamiento. El procesador MediaTek Helio G25 proporciona un rendimiento fiable, asegurando una experiencia sin retrasos. La tecnología de juego HyperEngine ofrece una experiencia de juego más fluida y sensible, con conexiones seguras y gráficos realistas\n",
      "\n",
      "unique_id         1430828\n",
      "price               97.99\n",
      "brand              Xiaomi\n",
      "color        Aurora Green\n",
      "size               2+32GB\n",
      "model               36546\n",
      "material             None\n",
      "author               None\n",
      "Name: 3, dtype: object\n",
      "\n",
      "\n"
     ]
    }
   ],
   "source": [
    "show_single_case(session_id=session_id, session_pl=all_cases, product_pl=product_pl)"
   ]
  },
  {
   "cell_type": "code",
   "execution_count": 135,
   "id": "bba5c32a-1572-4412-af59-073f737e9cee",
   "metadata": {},
   "outputs": [
    {
     "name": "stdout",
     "output_type": "stream",
     "text": [
      "++++++++++++++++++++\n",
      "0: B08FMPXDTJ\n",
      "++++++++++++++++++++\n",
      "===title====\n",
      "    Xiaomi Redmi 9C NFC-Smartphone de 6.53\" HD+ (3GB+64GB, 3x cámara trasera de 13MP con IA, MediaTek Helio G35, Batería 5000 mAh, 10 W carga rápida), Gris\n",
      "\n",
      "===desc====\n",
      "    Batería de alta capacidad de 5000 mah con carga rápida de 10w.\n",
      "\n",
      "unique_id          1429975\n",
      "price                121.0\n",
      "brand               Xiaomi\n",
      "color        Midnight Gray\n",
      "size            3GB + 64GB\n",
      "model        6941059651307\n",
      "material              None\n",
      "author              Xiaomi\n",
      "Name: 0, dtype: object\n",
      "\n",
      "\n",
      "++++++++++++++++++++\n",
      "1: B09PNDJJZ9\n",
      "++++++++++++++++++++\n",
      "===title====\n",
      "    Xiaomi Redmi 9C - Smartphone 128GB, 4GB RAM, Dual Sim, Aurora Green\n",
      "\n",
      "===desc====\n",
      "    Batería: 5000 mAh\n",
      "\n",
      "unique_id                            1430860\n",
      "price                                  142.0\n",
      "brand                                 Xiaomi\n",
      "color                           Aurora Green\n",
      "size         Redmi 9C 4GB+128GB Aurora Green\n",
      "model                              MZB0A46EU\n",
      "material                                None\n",
      "author                                  None\n",
      "Name: 1, dtype: object\n",
      "\n",
      "\n",
      "++++++++++++++++++++\n",
      "2: B0B4612MTM\n",
      "++++++++++++++++++++\n",
      "===title====\n",
      "    Xiaomi Redmi 10A Smartphone, Pantalla Dot Drop de 6,53\", batería de 5000 mAh, cámara de 13 MP, 4+128 GB, Gris Grafito\n",
      "\n",
      "===desc====\n",
      "    Xiaomi Redmi 10A Smartphone, Pantalla Dot Drop de 6,53\", batería de 5000 mAh, cámara de 13 MP, 4+128 GB, Gris Grafito\n",
      "\n",
      "unique_id         1440317\n",
      "price              138.95\n",
      "brand              Xiaomi\n",
      "color        Gris Grafito\n",
      "size                4+128\n",
      "model                C3L2\n",
      "material             None\n",
      "author               None\n",
      "Name: 2, dtype: object\n",
      "\n",
      "\n"
     ]
    }
   ],
   "source": [
    "show_single_case(session_id=session_id, session_pl=all_cases, product_pl=product_pl\n",
    "                , item_list_col='next_item_prediction')"
   ]
  },
  {
   "cell_type": "code",
   "execution_count": 136,
   "id": "ba5a7abc-7cdf-4aef-a5df-2678f75388d6",
   "metadata": {},
   "outputs": [
    {
     "data": {
      "text/html": [
       "<div><style>\n",
       ".dataframe > thead > tr > th,\n",
       ".dataframe > tbody > tr > td {\n",
       "  text-align: right;\n",
       "}\n",
       "</style>\n",
       "<small>shape: (3, 15)</small><table border=\"1\" class=\"dataframe\"><thead><tr><th>next_item_prediction</th><th>session_id</th><th>w2v_weight</th><th>next_item</th><th>locale</th><th>prev_length</th><th>target</th><th>next_item_weight</th><th>next_item_weight_nfi</th><th>next_item_weight_co_visit</th><th>last_item_similarity</th><th>price_mean_norm</th><th>price_last_norm</th><th>price_min_norm</th><th>price_max_norm</th></tr><tr><td>str</td><td>i64</td><td>f64</td><td>str</td><td>i32</td><td>u32</td><td>i32</td><td>f64</td><td>f32</td><td>f32</td><td>f32</td><td>f64</td><td>f64</td><td>f64</td><td>f64</td></tr></thead><tbody><tr><td>&quot;B09PNDJJZ9&quot;</td><td>3272776</td><td>0.97</td><td>&quot;B0B4612MTM&quot;</td><td>3</td><td>4</td><td>0</td><td>1.01</td><td>5.83</td><td>12.0</td><td>0.992541</td><td>1.321176</td><td>1.21617</td><td>1.449127</td><td>1.21617</td></tr><tr><td>&quot;B08FMPXDTJ&quot;</td><td>3272776</td><td>0.995</td><td>&quot;B0B4612MTM&quot;</td><td>3</td><td>4</td><td>0</td><td>0.26</td><td>2.25</td><td>8.0</td><td>0.994898</td><td>1.125791</td><td>1.036314</td><td>1.23482</td><td>1.036314</td></tr><tr><td>&quot;B0B4612MTM&quot;</td><td>3272776</td><td>0.81</td><td>&quot;B0B4612MTM&quot;</td><td>3</td><td>4</td><td>1</td><td>0.26</td><td>3.95</td><td>11.0</td><td>0.97156</td><td>1.292799</td><td>1.190048</td><td>1.418002</td><td>1.190048</td></tr></tbody></table></div>"
      ],
      "text/plain": [
       "shape: (3, 15)\n",
       "┌────────────┬──────────┬──────────┬───────┬───┬────────────┬────────────┬────────────┬────────────┐\n",
       "│ next_item_ ┆ session_ ┆ w2v_weig ┆ next_ ┆ … ┆ price_mean ┆ price_last ┆ price_min_ ┆ price_max_ │\n",
       "│ prediction ┆ id       ┆ ht       ┆ item  ┆   ┆ _norm      ┆ _norm      ┆ norm       ┆ norm       │\n",
       "│ ---        ┆ ---      ┆ ---      ┆ ---   ┆   ┆ ---        ┆ ---        ┆ ---        ┆ ---        │\n",
       "│ str        ┆ i64      ┆ f64      ┆ str   ┆   ┆ f64        ┆ f64        ┆ f64        ┆ f64        │\n",
       "╞════════════╪══════════╪══════════╪═══════╪═══╪════════════╪════════════╪════════════╪════════════╡\n",
       "│ B09PNDJJZ9 ┆ 3272776  ┆ 0.97     ┆ B0B46 ┆ … ┆ 1.321176   ┆ 1.21617    ┆ 1.449127   ┆ 1.21617    │\n",
       "│            ┆          ┆          ┆ 12MTM ┆   ┆            ┆            ┆            ┆            │\n",
       "│ B08FMPXDTJ ┆ 3272776  ┆ 0.995    ┆ B0B46 ┆ … ┆ 1.125791   ┆ 1.036314   ┆ 1.23482    ┆ 1.036314   │\n",
       "│            ┆          ┆          ┆ 12MTM ┆   ┆            ┆            ┆            ┆            │\n",
       "│ B0B4612MTM ┆ 3272776  ┆ 0.81     ┆ B0B46 ┆ … ┆ 1.292799   ┆ 1.190048   ┆ 1.418002   ┆ 1.190048   │\n",
       "│            ┆          ┆          ┆ 12MTM ┆   ┆            ┆            ┆            ┆            │\n",
       "└────────────┴──────────┴──────────┴───────┴───┴────────────┴────────────┴────────────┴────────────┘"
      ]
     },
     "execution_count": 136,
     "metadata": {},
     "output_type": "execute_result"
    }
   ],
   "source": [
    "feature = (\n",
    "     all_cases\n",
    "        .select(['next_item_prediction'])\n",
    "        .filter(pl.col('session_id')==session_id).explode('next_item_prediction')\n",
    "        .join(\n",
    "            eval_candidates.filter(pl.col('session_id')==session_id)\n",
    "            , how='left'\n",
    "            , on='next_item_prediction'\n",
    "        )\n",
    ")  \n",
    "\n",
    "feature.collect()\n",
    "                  # e"
   ]
  },
  {
   "cell_type": "markdown",
   "id": "7869acb0-38a3-4d9a-8da1-a5540de4d013",
   "metadata": {},
   "source": [
    "### 3373971 -> reply on NIC too much; `w2v_weight` -> not zero for ground true "
   ]
  },
  {
   "cell_type": "code",
   "execution_count": 145,
   "id": "a4f3e33f-685b-44fd-a571-02b31e2808d5",
   "metadata": {},
   "outputs": [],
   "source": [
    "session_id = 3373971"
   ]
  },
  {
   "cell_type": "code",
   "execution_count": 146,
   "id": "8fbb1bf2-75df-4756-b888-9e43a2b3830f",
   "metadata": {},
   "outputs": [
    {
     "data": {
      "text/html": [
       "<div><style>\n",
       ".dataframe > thead > tr > th,\n",
       ".dataframe > tbody > tr > td {\n",
       "  text-align: right;\n",
       "}\n",
       "</style>\n",
       "<small>shape: (3, 15)</small><table border=\"1\" class=\"dataframe\"><thead><tr><th>next_item_prediction</th><th>session_id</th><th>w2v_weight</th><th>next_item</th><th>locale</th><th>prev_length</th><th>target</th><th>next_item_weight</th><th>next_item_weight_nfi</th><th>next_item_weight_co_visit</th><th>last_item_similarity</th><th>price_mean_norm</th><th>price_last_norm</th><th>price_min_norm</th><th>price_max_norm</th></tr><tr><td>str</td><td>i64</td><td>f64</td><td>str</td><td>i32</td><td>u32</td><td>i32</td><td>f64</td><td>f32</td><td>f32</td><td>f32</td><td>f64</td><td>f64</td><td>f64</td><td>f64</td></tr></thead><tbody><tr><td>&quot;B015TJ8NM8&quot;</td><td>3373971</td><td>0.0</td><td>&quot;B000GIPJ02&quot;</td><td>3</td><td>5</td><td>0</td><td>0.76</td><td>5.16</td><td>15.0</td><td>0.959601</td><td>0.772395</td><td>1.0</td><td>1.0</td><td>0.564819</td></tr><tr><td>&quot;B000GIPJ02&quot;</td><td>3373971</td><td>0.89</td><td>&quot;B000GIPJ02&quot;</td><td>3</td><td>5</td><td>1</td><td>0.51</td><td>3.0</td><td>5.0</td><td>0.853157</td><td>1.315306</td><td>1.702893</td><td>1.702893</td><td>0.961826</td></tr><tr><td>&quot;B002DYIZPS&quot;</td><td>3373971</td><td>0.0</td><td>&quot;B000GIPJ02&quot;</td><td>3</td><td>5</td><td>0</td><td>0.0</td><td>0.5</td><td>1.0</td><td>0.793911</td><td>1.367509</td><td>1.770479</td><td>1.770479</td><td>1.0</td></tr></tbody></table></div>"
      ],
      "text/plain": [
       "shape: (3, 15)\n",
       "┌────────────┬──────────┬──────────┬───────┬───┬────────────┬────────────┬────────────┬────────────┐\n",
       "│ next_item_ ┆ session_ ┆ w2v_weig ┆ next_ ┆ … ┆ price_mean ┆ price_last ┆ price_min_ ┆ price_max_ │\n",
       "│ prediction ┆ id       ┆ ht       ┆ item  ┆   ┆ _norm      ┆ _norm      ┆ norm       ┆ norm       │\n",
       "│ ---        ┆ ---      ┆ ---      ┆ ---   ┆   ┆ ---        ┆ ---        ┆ ---        ┆ ---        │\n",
       "│ str        ┆ i64      ┆ f64      ┆ str   ┆   ┆ f64        ┆ f64        ┆ f64        ┆ f64        │\n",
       "╞════════════╪══════════╪══════════╪═══════╪═══╪════════════╪════════════╪════════════╪════════════╡\n",
       "│ B015TJ8NM8 ┆ 3373971  ┆ 0.0      ┆ B000G ┆ … ┆ 0.772395   ┆ 1.0        ┆ 1.0        ┆ 0.564819   │\n",
       "│            ┆          ┆          ┆ IPJ02 ┆   ┆            ┆            ┆            ┆            │\n",
       "│ B000GIPJ02 ┆ 3373971  ┆ 0.89     ┆ B000G ┆ … ┆ 1.315306   ┆ 1.702893   ┆ 1.702893   ┆ 0.961826   │\n",
       "│            ┆          ┆          ┆ IPJ02 ┆   ┆            ┆            ┆            ┆            │\n",
       "│ B002DYIZPS ┆ 3373971  ┆ 0.0      ┆ B000G ┆ … ┆ 1.367509   ┆ 1.770479   ┆ 1.770479   ┆ 1.0        │\n",
       "│            ┆          ┆          ┆ IPJ02 ┆   ┆            ┆            ┆            ┆            │\n",
       "└────────────┴──────────┴──────────┴───────┴───┴────────────┴────────────┴────────────┴────────────┘"
      ]
     },
     "execution_count": 146,
     "metadata": {},
     "output_type": "execute_result"
    }
   ],
   "source": [
    "feature = (\n",
    "     all_cases\n",
    "        .select(['next_item_prediction'])\n",
    "        .filter(pl.col('session_id')==session_id).explode('next_item_prediction')\n",
    "        .join(\n",
    "            eval_candidates.filter(pl.col('session_id')==session_id)\n",
    "            , how='left'\n",
    "            , on='next_item_prediction'\n",
    "        )\n",
    ")  \n",
    "\n",
    "feature.collect()\n",
    "                  # e"
   ]
  },
  {
   "cell_type": "code",
   "execution_count": 147,
   "id": "6502910e-b8c7-4b48-83a2-d2954edb5d84",
   "metadata": {},
   "outputs": [
    {
     "name": "stdout",
     "output_type": "stream",
     "text": [
      "++++++++++++++++++++\n",
      "0: B000GIPJ0M\n",
      "++++++++++++++++++++\n",
      "===title====\n",
      "    Optimum Nutrition Serious Mass, Mass Gainer avec Whey, Proteines Musculation Prise de Masse avec Vitamines, Creatine et Glutamine, Chocolat, 16 Portions, 5.45kg, l'Emballage Peut Varier\n",
      "\n",
      "===desc====\n",
      "    AUGMENTATEUR DE MASSE MUSCULAIRE avec un nombre exorbitant de 1250 calories et 50 g de whey protéines par portion. Contient moins de 5 g de graisse !\n",
      "\n",
      "unique_id               1469992\n",
      "price                     62.99\n",
      "brand         Optimum Nutrition\n",
      "color                  Chocolat\n",
      "size         5.45 kg (Lot de 1)\n",
      "model                   1101529\n",
      "material              Palstique\n",
      "author                     None\n",
      "Name: 0, dtype: object\n",
      "\n",
      "\n",
      "++++++++++++++++++++\n",
      "1: B09RMWFZ8W\n",
      "++++++++++++++++++++\n",
      "===title====\n",
      "    Optimum Nutrition | Serious Mass (2,73kg) | Gainers | Puissant accélérateur de masse\n",
      "\n",
      "===desc====\n",
      "    Augmentation de la prise de masse\n",
      "\n",
      "unique_id               1470603\n",
      "price                     36.99\n",
      "brand         Optimum Nutrition\n",
      "color                      None\n",
      "size         2.73 kg (Lot de 1)\n",
      "model             5060469985206\n",
      "material                   None\n",
      "author                     None\n",
      "Name: 1, dtype: object\n",
      "\n",
      "\n",
      "++++++++++++++++++++\n",
      "2: B0015R6ZPQ\n",
      "++++++++++++++++++++\n",
      "===title====\n",
      "    Optimum Nutrition Serious Mass, Mass Gainer avec Whey, Proteines Musculation Prise de Masse avec Vitamines, Creatine et Glutamine, Vanille, 8 Portions, 2.73kg, l'Emballage Peut Varier\n",
      "\n",
      "===desc====\n",
      "    AUGMENTATEUR DE MASSE MUSCULAIRE avec un nombre incroyable de 1250 calories et 50 g de whey protéines par portion. Contient moins de 5 g de graisse\n",
      "\n",
      "unique_id               1485441\n",
      "price                     36.99\n",
      "brand         Optimum Nutrition\n",
      "color                   Vanille\n",
      "size         2.73 kg (Lot de 1)\n",
      "model                   1098370\n",
      "material                   None\n",
      "author                     None\n",
      "Name: 2, dtype: object\n",
      "\n",
      "\n",
      "++++++++++++++++++++\n",
      "3: B072MDTW1F\n",
      "++++++++++++++++++++\n",
      "===title====\n",
      "    Optimum Nutrition Serious Mass, Mass Gainer avec Whey, Proteines Musculation Prise de Masse avec Vitamines, Creatine et Glutamine, Cookies & Crème, 8 Portions, 2.73kg, l'Emballage Peut Varier\n",
      "\n",
      "===desc====\n",
      "    AUGMENTATEUR DE MASSE MUSCULAIRE avec un nombre exorbitant de 1250 calories et 50 g de whey protéines par portion. Contient moins de 5 g de graisse !\n",
      "\n",
      "unique_id                     1486015\n",
      "price                           36.99\n",
      "brand        OPTJP|#Optimum Nutrition\n",
      "color                 Cookies & Cream\n",
      "size               2.73 kg (Lot de 1)\n",
      "model                         1101542\n",
      "material                         None\n",
      "author                           None\n",
      "Name: 3, dtype: object\n",
      "\n",
      "\n",
      "++++++++++++++++++++\n",
      "4: B072JSYMRV\n",
      "++++++++++++++++++++\n",
      "===title====\n",
      "    Optimum Nutrition Serious Mass, Mass Gainer avec Whey, Proteines Musculation Prise de Masse avec Vitamines, Creatine et Glutamine, Cookies & Crème, 16 Portions, 5.45kg, l'Emballage Peut Varier\n",
      "\n",
      "===desc====\n",
      "    Fournit des calories, favorise la prise de poids et alimente les réserves de glycogène de l'organisme\n",
      "\n",
      "unique_id               1487234\n",
      "price                     65.49\n",
      "brand         Optimum Nutrition\n",
      "color           Cookies & Cream\n",
      "size         5.45 kg (Lot de 1)\n",
      "model                   1101535\n",
      "material                   None\n",
      "author                     None\n",
      "Name: 4, dtype: object\n",
      "\n",
      "\n"
     ]
    }
   ],
   "source": [
    "show_single_case(session_id=session_id, session_pl=all_cases, product_pl=product_pl)"
   ]
  },
  {
   "cell_type": "code",
   "execution_count": 148,
   "id": "b9f0d39c-407a-4d72-a9f9-7c583dc9b024",
   "metadata": {},
   "outputs": [
    {
     "name": "stdout",
     "output_type": "stream",
     "text": [
      "++++++++++++++++++++\n",
      "0: B015TJ8NM8\n",
      "++++++++++++++++++++\n",
      "===title====\n",
      "    Optimum Nutrition Serious Mass, Mass Gainer avec Whey, Proteines Musculation Prise de Masse avec Vitamines, Creatine et Glutamine, Chocolat Beurre de Cacahuète, 8 Portions, l'Emballage Peut Varier\n",
      "\n",
      "===desc====\n",
      "    AUGMENTATEUR DE MASSE MUSCULAIRE avec un nombre incroyable de 1250 calories et 50 g de whey protéines par portion. Contient moins de 5 g de graisse\n",
      "\n",
      "unique_id                          1459015\n",
      "price                                36.99\n",
      "brand        Glanbia Performance Nutrition\n",
      "color         Chocolat Beurre de Cacahuète\n",
      "size                    2.73 kg (Lot de 1)\n",
      "model                              1101541\n",
      "material                              None\n",
      "author                                None\n",
      "Name: 0, dtype: object\n",
      "\n",
      "\n",
      "++++++++++++++++++++\n",
      "1: B000GIPJ02\n",
      "++++++++++++++++++++\n",
      "===title====\n",
      "    Optimum Nutrition Serious Mass, Mass Gainer avec Whey, Proteines Musculation Prise de Masse avec Vitamines, Creatine et Glutamine, Chocolat Menthe, 16 Portions, 5.45kg, l'Emballage Peut Varier\n",
      "\n",
      "===desc====\n",
      "    AUGMENTATEUR DE MASSE MUSCULAIRE avec un nombre incroyable de 1250 calories et 50 g de whey protéines par portion. Contient moins de 5 g de graisse\n",
      "\n",
      "unique_id               1485265\n",
      "price                     62.99\n",
      "brand         Optimum Nutrition\n",
      "color                   Vanille\n",
      "size         5.45 kg (Lot de 1)\n",
      "model                   1031920\n",
      "material                   None\n",
      "author                     None\n",
      "Name: 1, dtype: object\n",
      "\n",
      "\n",
      "++++++++++++++++++++\n",
      "2: B002DYIZPS\n",
      "++++++++++++++++++++\n",
      "===title====\n",
      "    Optimum Nutrition Serious Mass, Gainer avec Whey, Proteines Musculation Prise de Masse avec Vitamines, Creatine et Glutamine, Chocolat Beurre de Cacahuète, 16 Portions 5.45kg, l'Emballage Peut Varier\n",
      "\n",
      "===desc====\n",
      "    AUGMENTATEUR DE MASSE MUSCULAIRE avec un nombre incroyable de 1250 calories et 50 g de whey protéines par portion. Contient moins de 5 g de graisse\n",
      "\n",
      "unique_id               1500239\n",
      "price                     65.49\n",
      "brand         Optimum Nutrition\n",
      "color                    Banane\n",
      "size         5.45 kg (Lot de 1)\n",
      "model                   1101533\n",
      "material                   None\n",
      "author                     None\n",
      "Name: 2, dtype: object\n",
      "\n",
      "\n"
     ]
    }
   ],
   "source": [
    "show_single_case(session_id=session_id, session_pl=all_cases, product_pl=product_pl\n",
    "                , item_list_col='next_item_prediction')"
   ]
  },
  {
   "cell_type": "markdown",
   "id": "60239c43-8da1-489b-8b9c-b1c9fd33647c",
   "metadata": {},
   "source": [
    "### 3407839 w2v_weight is 0??;  看不出来？？？"
   ]
  },
  {
   "cell_type": "code",
   "execution_count": 152,
   "id": "794a7e2f-7150-484a-8e19-fac249f892f9",
   "metadata": {},
   "outputs": [],
   "source": [
    "session_id = 3407839"
   ]
  },
  {
   "cell_type": "code",
   "execution_count": 153,
   "id": "4eb058ab-0bb1-4b91-b97e-528d9d20400f",
   "metadata": {},
   "outputs": [
    {
     "data": {
      "text/html": [
       "<div><style>\n",
       ".dataframe > thead > tr > th,\n",
       ".dataframe > tbody > tr > td {\n",
       "  text-align: right;\n",
       "}\n",
       "</style>\n",
       "<small>shape: (3, 15)</small><table border=\"1\" class=\"dataframe\"><thead><tr><th>next_item_prediction</th><th>session_id</th><th>w2v_weight</th><th>next_item</th><th>locale</th><th>prev_length</th><th>target</th><th>next_item_weight</th><th>next_item_weight_nfi</th><th>next_item_weight_co_visit</th><th>last_item_similarity</th><th>price_mean_norm</th><th>price_last_norm</th><th>price_min_norm</th><th>price_max_norm</th></tr><tr><td>str</td><td>i64</td><td>f64</td><td>str</td><td>i32</td><td>u32</td><td>i32</td><td>f64</td><td>f32</td><td>f32</td><td>f32</td><td>f64</td><td>f64</td><td>f64</td><td>f64</td></tr></thead><tbody><tr><td>&quot;B09ZXWHPRD&quot;</td><td>3407839</td><td>0.0</td><td>&quot;B0B1J56P98&quot;</td><td>3</td><td>2</td><td>0</td><td>1.01</td><td>1.0</td><td>1.0</td><td>0.951582</td><td>1.258554</td><td>1.054069</td><td>1.561474</td><td>1.054069</td></tr><tr><td>&quot;B0B1J56P98&quot;</td><td>3407839</td><td>0.0</td><td>&quot;B0B1J56P98&quot;</td><td>3</td><td>2</td><td>1</td><td>1.01</td><td>1.0</td><td>1.0</td><td>0.943084</td><td>1.290833</td><td>1.081103</td><td>1.601522</td><td>1.081103</td></tr><tr><td>&quot;B07GX1WYFC&quot;</td><td>3407839</td><td>0.96</td><td>&quot;B0B1J56P98&quot;</td><td>3</td><td>2</td><td>0</td><td>0.0</td><td>0.0</td><td>0.0</td><td>0.963218</td><td>0.659458</td><td>0.552311</td><td>0.818182</td><td>0.552311</td></tr></tbody></table></div>"
      ],
      "text/plain": [
       "shape: (3, 15)\n",
       "┌────────────┬──────────┬──────────┬───────┬───┬────────────┬────────────┬────────────┬────────────┐\n",
       "│ next_item_ ┆ session_ ┆ w2v_weig ┆ next_ ┆ … ┆ price_mean ┆ price_last ┆ price_min_ ┆ price_max_ │\n",
       "│ prediction ┆ id       ┆ ht       ┆ item  ┆   ┆ _norm      ┆ _norm      ┆ norm       ┆ norm       │\n",
       "│ ---        ┆ ---      ┆ ---      ┆ ---   ┆   ┆ ---        ┆ ---        ┆ ---        ┆ ---        │\n",
       "│ str        ┆ i64      ┆ f64      ┆ str   ┆   ┆ f64        ┆ f64        ┆ f64        ┆ f64        │\n",
       "╞════════════╪══════════╪══════════╪═══════╪═══╪════════════╪════════════╪════════════╪════════════╡\n",
       "│ B09ZXWHPRD ┆ 3407839  ┆ 0.0      ┆ B0B1J ┆ … ┆ 1.258554   ┆ 1.054069   ┆ 1.561474   ┆ 1.054069   │\n",
       "│            ┆          ┆          ┆ 56P98 ┆   ┆            ┆            ┆            ┆            │\n",
       "│ B0B1J56P98 ┆ 3407839  ┆ 0.0      ┆ B0B1J ┆ … ┆ 1.290833   ┆ 1.081103   ┆ 1.601522   ┆ 1.081103   │\n",
       "│            ┆          ┆          ┆ 56P98 ┆   ┆            ┆            ┆            ┆            │\n",
       "│ B07GX1WYFC ┆ 3407839  ┆ 0.96     ┆ B0B1J ┆ … ┆ 0.659458   ┆ 0.552311   ┆ 0.818182   ┆ 0.552311   │\n",
       "│            ┆          ┆          ┆ 56P98 ┆   ┆            ┆            ┆            ┆            │\n",
       "└────────────┴──────────┴──────────┴───────┴───┴────────────┴────────────┴────────────┴────────────┘"
      ]
     },
     "execution_count": 153,
     "metadata": {},
     "output_type": "execute_result"
    }
   ],
   "source": [
    "feature = (\n",
    "     all_cases\n",
    "        .select(['next_item_prediction'])\n",
    "        .filter(pl.col('session_id')==session_id).explode('next_item_prediction')\n",
    "        .join(\n",
    "            eval_candidates.filter(pl.col('session_id')==session_id)\n",
    "            , how='left'\n",
    "            , on='next_item_prediction'\n",
    "        )\n",
    ")  \n",
    "\n",
    "feature.collect()\n",
    "                  # e"
   ]
  },
  {
   "cell_type": "code",
   "execution_count": 154,
   "id": "54c771d7-5d21-45d9-97b9-93f0a3a342e5",
   "metadata": {},
   "outputs": [
    {
     "name": "stdout",
     "output_type": "stream",
     "text": [
      "++++++++++++++++++++\n",
      "0: B06Y2H5JGX\n",
      "++++++++++++++++++++\n",
      "===title====\n",
      "    ANSIO Fer à repasser à vapeur en céramique, 2000 W, cordon d'alimentation 3m / 10ft, réservoir d'eau 200ml - violet/blanc\n",
      "\n",
      "===desc====\n",
      "    CONTRÔLE DE TEMPÉRATURE RÉGLABLE: Le réglage de température précis permet de faire correspondre le type de vêtement pour une finition parfaite.\n",
      "\n",
      "unique_id      1489916\n",
      "price            24.97\n",
      "brand            ANSIO\n",
      "color           Violet\n",
      "size              None\n",
      "model             None\n",
      "material     Céramique\n",
      "author            None\n",
      "Name: 0, dtype: object\n",
      "\n",
      "\n",
      "++++++++++++++++++++\n",
      "1: B0811QN9PN\n",
      "++++++++++++++++++++\n",
      "===title====\n",
      "    Yabano Fer a Repasser, Fer à Vapeur 2400W, 350 ml Réservoir, Fonction Pressing 320g/min, Semelle en Céramique, 2,5m Cable, Auto-nettoyage\n",
      "\n",
      "===desc====\n",
      "    💨2400 Watts, Semelle céramique à trous multiples.\n",
      "\n",
      "unique_id                1491923\n",
      "price                      36.99\n",
      "brand                     Yabano\n",
      "color                        Blu\n",
      "size                        None\n",
      "model                       None\n",
      "material     plaque en céramique\n",
      "author                      None\n",
      "Name: 1, dtype: object\n",
      "\n",
      "\n"
     ]
    }
   ],
   "source": [
    "show_single_case(session_id=session_id, session_pl=all_cases, product_pl=product_pl)"
   ]
  },
  {
   "cell_type": "code",
   "execution_count": 155,
   "id": "93a6a567-817f-4f71-a6ff-8197d7eba9e2",
   "metadata": {},
   "outputs": [
    {
     "name": "stdout",
     "output_type": "stream",
     "text": [
      "++++++++++++++++++++\n",
      "0: B0B1J56P98\n",
      "++++++++++++++++++++\n",
      "===title====\n",
      "    Cozeemax Fer à vapeur 2400 W, 320 g/min - Semelle en céramique - Nettoyage automatique et explosion - Arrêt de goutte - Réservoir d'eau de 300 ml - Vapeur verticale\n",
      "\n",
      "===desc====\n",
      "    Thermostat réglable et vapeur : un contrôle précis de la température et un contrôle de vapeur variable peuvent protéger vos vêtements dans les meilleures conditions. Parfait pour tous les tissus tels que le nylon, la soie, la laine, le coton, les jeans et le lin.\n",
      "\n",
      "unique_id     1475018\n",
      "price           39.99\n",
      "brand        Cozeemax\n",
      "color            None\n",
      "size             None\n",
      "model          AJ2016\n",
      "material         None\n",
      "author           None\n",
      "Name: 0, dtype: object\n",
      "\n",
      "\n",
      "++++++++++++++++++++\n",
      "1: B09ZXWHPRD\n",
      "++++++++++++++++++++\n",
      "===title====\n",
      "    Défroisseur vapeur vertical portable voyage, 280ml, 1500W Fer à vapeur pratique Chauffage rapide, vapeur 30g/min, pour vêtements, rideaux, meubles rembourrés\n",
      "\n",
      "===desc====\n",
      "    【Conception de sécurité】 Chaque cordon d'alimentation est rigoureusement testé pour une sécurité et une durabilité maximales contre les fuites et la surchauffe, avec arrêt automatique en cas de manque d'eau et arrêt automatique après 8 minutes d'inactivité, pour une sécurité absolue.\n",
      "\n",
      "unique_id             1480051\n",
      "price                   38.99\n",
      "brand        AIOLO INNOVATION\n",
      "color                    None\n",
      "size                     None\n",
      "model            AI-KG1808-EU\n",
      "material                 None\n",
      "author                   None\n",
      "Name: 1, dtype: object\n",
      "\n",
      "\n",
      "++++++++++++++++++++\n",
      "2: B07GX1WYFC\n",
      "++++++++++++++++++++\n",
      "===title====\n",
      "    Fer a repasser vapeur - Fer à repasser vapeur - Centrale vapeur à 7 fonctions avec semelle spéciale en acier inoxydable - DB 3704 blanc-bleu Clatronic\n",
      "\n",
      "===desc====\n",
      "    Garantie : Clatronic vous offre une garantie de 1 an. Vous pouvez donc acheter ce produit en toute sécurité. Si toutefois, vous n'êtes pas satisfait du produit, contactez notre SAV. Nous trouverons une solution ensemble\n",
      "\n",
      "unique_id              1485586\n",
      "price                    20.43\n",
      "brand                Clatronic\n",
      "color        Bleu Foncé/Blanc.\n",
      "size                      None\n",
      "model                  DB 3704\n",
      "material                  Inox\n",
      "author                    None\n",
      "Name: 2, dtype: object\n",
      "\n",
      "\n"
     ]
    }
   ],
   "source": [
    "show_single_case(session_id=session_id, session_pl=all_cases, product_pl=product_pl\n",
    "                , item_list_col='next_item_prediction')\n"
   ]
  },
  {
   "cell_type": "markdown",
   "id": "512cd6e4-e914-4b32-98b2-763ea68d793e",
   "metadata": {
    "tags": []
   },
   "source": [
    "## why NIC so important"
   ]
  },
  {
   "cell_type": "code",
   "execution_count": 91,
   "id": "c12f2de1-2d66-46d3-b116-e699cb8a73e5",
   "metadata": {},
   "outputs": [],
   "source": [
    "train_candidate_df = sampled_train_candidates.to_pandas()"
   ]
  },
  {
   "cell_type": "code",
   "execution_count": 93,
   "id": "fa6a776e-592b-4e0c-86d6-240a9978ba58",
   "metadata": {},
   "outputs": [
    {
     "name": "stdout",
     "output_type": "stream",
     "text": [
      "<class 'pandas.core.frame.DataFrame'>\n",
      "RangeIndex: 1426023 entries, 0 to 1426022\n",
      "Data columns (total 32 columns):\n",
      " #   Column                       Non-Null Count    Dtype  \n",
      "---  ------                       --------------    -----  \n",
      " 0   session_id                   1426023 non-null  int64  \n",
      " 1   next_item                    1426023 non-null  object \n",
      " 2   next_item_prediction         1426023 non-null  object \n",
      " 3   target                       1426023 non-null  float64\n",
      " 4   w2v_weight                   1426023 non-null  float64\n",
      " 5   locale                       1426023 non-null  float64\n",
      " 6   prev_length                  1426023 non-null  float64\n",
      " 7   next_item_weight             1426023 non-null  float64\n",
      " 8   next_item_cnt                1426023 non-null  float64\n",
      " 9   next_item_weight_nfi         1426023 non-null  float32\n",
      " 10  next_item_normalized_weight  1426023 non-null  float64\n",
      " 11  next_item_weight_co_visit    1426023 non-null  float32\n",
      " 12  discount_weight              1426023 non-null  float32\n",
      " 13  following_weight             1426023 non-null  float32\n",
      " 14  following_discount_weight    1426023 non-null  float32\n",
      " 15  previous_weight              1426023 non-null  float32\n",
      " 16  previous_discount_weight     1426023 non-null  float32\n",
      " 17  last_item_similarity         1426023 non-null  float32\n",
      " 18  item_cnt                     1421293 non-null  float64\n",
      " 19  pos_weighted_cnt             1421293 non-null  float64\n",
      " 20  avg_pos                      1421293 non-null  float64\n",
      " 21  median_pos                   1421293 non-null  float64\n",
      " 22  price_mean_norm              751435 non-null   float64\n",
      " 23  price_last_norm              751430 non-null   float64\n",
      " 24  price_min_norm               751429 non-null   float64\n",
      " 25  price_max_norm               751435 non-null   float64\n",
      " 26  random                       1426023 non-null  float64\n",
      " 27  item_cnt_right               1421293 non-null  float64\n",
      " 28  pos_weighted_cnt_right       1421293 non-null  float64\n",
      " 29  avg_pos_right                1421293 non-null  float64\n",
      " 30  median_pos_right             1421293 non-null  float64\n",
      " 31  random_right                 1426023 non-null  float64\n",
      "dtypes: float32(8), float64(21), int64(1), object(2)\n",
      "memory usage: 304.6+ MB\n"
     ]
    }
   ],
   "source": [
    "train_candidate_df.info()"
   ]
  },
  {
   "cell_type": "code",
   "execution_count": 106,
   "id": "a55d8012-b99d-43cf-bfed-9272029915fe",
   "metadata": {},
   "outputs": [
    {
     "data": {
      "text/html": [
       "<div>\n",
       "<style scoped>\n",
       "    .dataframe tbody tr th:only-of-type {\n",
       "        vertical-align: middle;\n",
       "    }\n",
       "\n",
       "    .dataframe tbody tr th {\n",
       "        vertical-align: top;\n",
       "    }\n",
       "\n",
       "    .dataframe thead th {\n",
       "        text-align: right;\n",
       "    }\n",
       "</style>\n",
       "<table border=\"1\" class=\"dataframe\">\n",
       "  <thead>\n",
       "    <tr style=\"text-align: right;\">\n",
       "      <th></th>\n",
       "      <th>session_id</th>\n",
       "      <th>next_item</th>\n",
       "      <th>next_item_prediction</th>\n",
       "      <th>target</th>\n",
       "      <th>w2v_weight</th>\n",
       "      <th>locale</th>\n",
       "      <th>prev_length</th>\n",
       "      <th>next_item_weight</th>\n",
       "      <th>next_item_cnt</th>\n",
       "      <th>next_item_weight_nfi</th>\n",
       "      <th>...</th>\n",
       "      <th>price_mean_norm</th>\n",
       "      <th>price_last_norm</th>\n",
       "      <th>price_min_norm</th>\n",
       "      <th>price_max_norm</th>\n",
       "      <th>random</th>\n",
       "      <th>item_cnt_right</th>\n",
       "      <th>pos_weighted_cnt_right</th>\n",
       "      <th>avg_pos_right</th>\n",
       "      <th>median_pos_right</th>\n",
       "      <th>random_right</th>\n",
       "    </tr>\n",
       "  </thead>\n",
       "  <tbody>\n",
       "    <tr>\n",
       "      <th>810680</th>\n",
       "      <td>3462257</td>\n",
       "      <td>B08VDMK1V2</td>\n",
       "      <td>B07HGSN1TH</td>\n",
       "      <td>0.0</td>\n",
       "      <td>0.5</td>\n",
       "      <td>3.0</td>\n",
       "      <td>2.0</td>\n",
       "      <td>0.0</td>\n",
       "      <td>0.0</td>\n",
       "      <td>0.0</td>\n",
       "      <td>...</td>\n",
       "      <td>350877.193596</td>\n",
       "      <td>236686.390947</td>\n",
       "      <td>677966.102881</td>\n",
       "      <td>236686.390947</td>\n",
       "      <td>0.69289</td>\n",
       "      <td>13.0</td>\n",
       "      <td>6.144444</td>\n",
       "      <td>3.307692</td>\n",
       "      <td>3.0</td>\n",
       "      <td>0.72063</td>\n",
       "    </tr>\n",
       "  </tbody>\n",
       "</table>\n",
       "<p>1 rows × 32 columns</p>\n",
       "</div>"
      ],
      "text/plain": [
       "        session_id   next_item next_item_prediction  target  w2v_weight   \n",
       "810680     3462257  B08VDMK1V2           B07HGSN1TH     0.0         0.5  \\\n",
       "\n",
       "        locale  prev_length  next_item_weight  next_item_cnt   \n",
       "810680     3.0          2.0               0.0            0.0  \\\n",
       "\n",
       "        next_item_weight_nfi  ...  price_mean_norm  price_last_norm   \n",
       "810680                   0.0  ...    350877.193596    236686.390947  \\\n",
       "\n",
       "        price_min_norm  price_max_norm   random  item_cnt_right   \n",
       "810680   677966.102881   236686.390947  0.69289            13.0  \\\n",
       "\n",
       "        pos_weighted_cnt_right  avg_pos_right  median_pos_right  random_right  \n",
       "810680                6.144444       3.307692               3.0       0.72063  \n",
       "\n",
       "[1 rows x 32 columns]"
      ]
     },
     "execution_count": 106,
     "metadata": {},
     "output_type": "execute_result"
    }
   ],
   "source": [
    "# train_candidate_df.sample()"
   ]
  },
  {
   "cell_type": "code",
   "execution_count": 98,
   "id": "2370a68e-2ea7-447e-abb2-377a2635fcc8",
   "metadata": {},
   "outputs": [
    {
     "data": {
      "text/plain": [
       "next_item_normalized_weight\n",
       "1.000000    0.271494\n",
       "0.000000    0.171137\n",
       "0.500000    0.012475\n",
       "0.666667    0.006478\n",
       "0.250000    0.006436\n",
       "              ...   \n",
       "0.431915    0.000011\n",
       "0.318996    0.000011\n",
       "0.103903    0.000011\n",
       "0.718095    0.000011\n",
       "0.737723    0.000011\n",
       "Name: count, Length: 26337, dtype: float64"
      ]
     },
     "execution_count": 98,
     "metadata": {},
     "output_type": "execute_result"
    }
   ],
   "source": [
    "train_candidate_df[train_candidate_df['target']==1]['next_item_normalized_weight'].value_counts()/len(train_candidate_df[train_candidate_df['target']==1])"
   ]
  },
  {
   "cell_type": "code",
   "execution_count": 96,
   "id": "9ae1c9db-7000-44c2-85f2-a4b1f60e992b",
   "metadata": {},
   "outputs": [
    {
     "data": {
      "text/plain": [
       "next_item_normalized_weight\n",
       "0.000000    7.097932e-01\n",
       "1.000000    2.169385e-03\n",
       "0.500000    9.897676e-04\n",
       "0.250000    9.650047e-04\n",
       "0.166667    7.744050e-04\n",
       "                ...     \n",
       "0.113402    7.503925e-07\n",
       "0.003193    7.503925e-07\n",
       "0.014369    7.503925e-07\n",
       "0.008325    7.503925e-07\n",
       "0.111607    7.503925e-07\n",
       "Name: count, Length: 111764, dtype: float64"
      ]
     },
     "execution_count": 96,
     "metadata": {},
     "output_type": "execute_result"
    }
   ],
   "source": [
    "train_candidate_df[train_candidate_df['target']==0]['next_item_normalized_weight'].value_counts()/len(train_candidate_df[train_candidate_df['target']==0])"
   ]
  },
  {
   "cell_type": "markdown",
   "id": "b4a583eb-a334-4e1c-b1dc-c7f430a9e0f4",
   "metadata": {},
   "source": [
    "### session_id = 3272717"
   ]
  },
  {
   "cell_type": "code",
   "execution_count": 101,
   "id": "1eb30399-b556-410e-b5d3-db9c0d8c4d16",
   "metadata": {},
   "outputs": [],
   "source": [
    "session_id = 3272717"
   ]
  },
  {
   "cell_type": "code",
   "execution_count": 102,
   "id": "66778624-72f5-4803-b012-267036b9ac25",
   "metadata": {},
   "outputs": [
    {
     "data": {
      "text/plain": [
       "0     0.178165\n",
       "1     0.000000\n",
       "2     0.000000\n",
       "3     0.000000\n",
       "4     0.000000\n",
       "5     0.000000\n",
       "6     0.000000\n",
       "7     0.000000\n",
       "8     0.000000\n",
       "9     0.000000\n",
       "10    0.000000\n",
       "11    0.000000\n",
       "12    0.000000\n",
       "13    0.000000\n",
       "Name: next_item_normalized_weight, dtype: float64"
      ]
     },
     "execution_count": 102,
     "metadata": {},
     "output_type": "execute_result"
    }
   ],
   "source": [
    "train_candidate_df[train_candidate_df['session_id']==3272717]['next_item_normalized_weight']"
   ]
  },
  {
   "cell_type": "code",
   "execution_count": 103,
   "id": "982d59cf-a46c-4a0a-9526-32be539e43cd",
   "metadata": {},
   "outputs": [
    {
     "data": {
      "text/html": [
       "<div><style>\n",
       ".dataframe > thead > tr > th,\n",
       ".dataframe > tbody > tr > td {\n",
       "  text-align: right;\n",
       "}\n",
       "</style>\n",
       "<small>shape: (14, 32)</small><table border=\"1\" class=\"dataframe\"><thead><tr><th>session_id</th><th>next_item</th><th>next_item_prediction</th><th>target</th><th>w2v_weight</th><th>locale</th><th>prev_length</th><th>next_item_weight</th><th>next_item_cnt</th><th>next_item_weight_nfi</th><th>next_item_normalized_weight</th><th>next_item_weight_co_visit</th><th>discount_weight</th><th>following_weight</th><th>following_discount_weight</th><th>previous_weight</th><th>previous_discount_weight</th><th>last_item_similarity</th><th>item_cnt</th><th>pos_weighted_cnt</th><th>avg_pos</th><th>median_pos</th><th>price_mean_norm</th><th>price_last_norm</th><th>price_min_norm</th><th>price_max_norm</th><th>random</th><th>item_cnt_right</th><th>pos_weighted_cnt_right</th><th>avg_pos_right</th><th>median_pos_right</th><th>random_right</th></tr><tr><td>i64</td><td>str</td><td>str</td><td>f64</td><td>f64</td><td>f64</td><td>f64</td><td>f64</td><td>f64</td><td>f32</td><td>f64</td><td>f32</td><td>f32</td><td>f32</td><td>f32</td><td>f32</td><td>f32</td><td>f32</td><td>u32</td><td>f64</td><td>f64</td><td>f64</td><td>f64</td><td>f64</td><td>f64</td><td>f64</td><td>f64</td><td>u32</td><td>f64</td><td>f64</td><td>f64</td><td>f64</td></tr></thead><tbody><tr><td>3272717</td><td>&quot;B07JFPYN5P&quot;</td><td>&quot;B07JFPYN5P&quot;</td><td>1.0</td><td>1.0</td><td>3.0</td><td>2.0</td><td>0.136</td><td>17.0</td><td>24.429998</td><td>0.178165</td><td>46.0</td><td>31.710001</td><td>35.0</td><td>24.429998</td><td>11.0</td><td>7.28</td><td>0.977248</td><td>23</td><td>10.991667</td><td>2.956522</td><td>3.0</td><td>1.0</td><td>4.0</td><td>4.0</td><td>0.571429</td><td>0.995319</td><td>23</td><td>10.991667</td><td>2.956522</td><td>3.0</td><td>0.208178</td></tr><tr><td>3272717</td><td>&quot;B07JFPYN5P&quot;</td><td>&quot;B07B26DZZG&quot;</td><td>0.0</td><td>0.15</td><td>3.0</td><td>2.0</td><td>0.0</td><td>0.0</td><td>0.0</td><td>0.0</td><td>0.0</td><td>0.0</td><td>0.0</td><td>0.0</td><td>0.0</td><td>0.0</td><td>0.741993</td><td>2</td><td>1.333333</td><td>2.0</td><td>2.0</td><td>1.1995</td><td>4.798</td><td>4.798</td><td>0.685429</td><td>0.995319</td><td>2</td><td>1.333333</td><td>2.0</td><td>2.0</td><td>0.208178</td></tr><tr><td>3272717</td><td>&quot;B07JFPYN5P&quot;</td><td>&quot;B08CB9TJXH&quot;</td><td>0.0</td><td>0.65</td><td>3.0</td><td>2.0</td><td>0.0</td><td>0.0</td><td>0.0</td><td>0.0</td><td>0.0</td><td>0.0</td><td>0.0</td><td>0.0</td><td>0.0</td><td>0.0</td><td>0.780336</td><td>4</td><td>1.833333</td><td>3.25</td><td>3.0</td><td>null</td><td>null</td><td>null</td><td>null</td><td>0.995319</td><td>4</td><td>1.833333</td><td>3.25</td><td>3.0</td><td>0.208178</td></tr><tr><td>3272717</td><td>&quot;B07JFPYN5P&quot;</td><td>&quot;B0002IHFVM&quot;</td><td>0.0</td><td>0.7</td><td>3.0</td><td>2.0</td><td>0.0</td><td>0.0</td><td>0.0</td><td>0.0</td><td>0.0</td><td>0.0</td><td>0.0</td><td>0.0</td><td>0.0</td><td>0.0</td><td>0.790319</td><td>12</td><td>6.533333</td><td>2.75</td><td>2.5</td><td>null</td><td>null</td><td>null</td><td>null</td><td>0.995319</td><td>12</td><td>6.533333</td><td>2.75</td><td>2.5</td><td>0.208178</td></tr><tr><td>3272717</td><td>&quot;B07JFPYN5P&quot;</td><td>&quot;B09BMXXW6N&quot;</td><td>0.0</td><td>0.61</td><td>3.0</td><td>2.0</td><td>0.0</td><td>0.0</td><td>0.0</td><td>0.0</td><td>0.0</td><td>0.0</td><td>0.0</td><td>0.0</td><td>0.0</td><td>0.0</td><td>0.776615</td><td>60</td><td>32.755556</td><td>3.016667</td><td>2.0</td><td>4.2495</td><td>16.998</td><td>16.998</td><td>2.428286</td><td>0.995319</td><td>60</td><td>32.755556</td><td>3.016667</td><td>2.0</td><td>0.208178</td></tr><tr><td>3272717</td><td>&quot;B07JFPYN5P&quot;</td><td>&quot;B0B24TLGXR&quot;</td><td>0.0</td><td>0.64</td><td>3.0</td><td>2.0</td><td>0.0</td><td>0.0</td><td>0.0</td><td>0.0</td><td>0.0</td><td>0.0</td><td>0.0</td><td>0.0</td><td>0.0</td><td>0.0</td><td>0.771123</td><td>311</td><td>171.51293</td><td>3.379421</td><td>2.0</td><td>0.4495</td><td>1.798</td><td>1.798</td><td>0.256857</td><td>0.995319</td><td>311</td><td>171.51293</td><td>3.379421</td><td>2.0</td><td>0.208178</td></tr><tr><td>3272717</td><td>&quot;B07JFPYN5P&quot;</td><td>&quot;B0B6CKW1RP&quot;</td><td>0.0</td><td>0.0</td><td>3.0</td><td>2.0</td><td>0.0</td><td>0.0</td><td>0.0</td><td>0.0</td><td>1.0</td><td>0.5</td><td>0.0</td><td>0.0</td><td>1.0</td><td>0.5</td><td>0.56156</td><td>23</td><td>16.177778</td><td>2.304348</td><td>1.0</td><td>2.159</td><td>8.636</td><td>8.636</td><td>1.233714</td><td>0.995319</td><td>23</td><td>16.177778</td><td>2.304348</td><td>1.0</td><td>0.208178</td></tr><tr><td>3272717</td><td>&quot;B07JFPYN5P&quot;</td><td>&quot;B06XNJ656V&quot;</td><td>0.0</td><td>0.46</td><td>3.0</td><td>2.0</td><td>0.0</td><td>0.0</td><td>0.0</td><td>0.0</td><td>0.0</td><td>0.0</td><td>0.0</td><td>0.0</td><td>0.0</td><td>0.0</td><td>0.748781</td><td>15</td><td>8.485714</td><td>2.8</td><td>2.0</td><td>null</td><td>null</td><td>null</td><td>null</td><td>0.995319</td><td>15</td><td>8.485714</td><td>2.8</td><td>2.0</td><td>0.208178</td></tr><tr><td>3272717</td><td>&quot;B07JFPYN5P&quot;</td><td>&quot;B08VNLN7KK&quot;</td><td>0.0</td><td>0.24</td><td>3.0</td><td>2.0</td><td>0.0</td><td>0.0</td><td>0.0</td><td>0.0</td><td>0.0</td><td>0.0</td><td>0.0</td><td>0.0</td><td>0.0</td><td>0.0</td><td>0.749546</td><td>94</td><td>47.158626</td><td>3.542553</td><td>2.0</td><td>0.4495</td><td>1.798</td><td>1.798</td><td>0.256857</td><td>0.995319</td><td>94</td><td>47.158626</td><td>3.542553</td><td>2.0</td><td>0.208178</td></tr><tr><td>3272717</td><td>&quot;B07JFPYN5P&quot;</td><td>&quot;B0B6G69835&quot;</td><td>0.0</td><td>0.74</td><td>3.0</td><td>2.0</td><td>0.0</td><td>0.0</td><td>0.0</td><td>0.0</td><td>2.0</td><td>1.25</td><td>0.0</td><td>0.0</td><td>2.0</td><td>1.25</td><td>0.821453</td><td>36</td><td>16.783333</td><td>2.5</td><td>2.0</td><td>10.7495</td><td>42.998</td><td>42.998</td><td>6.142571</td><td>0.995319</td><td>36</td><td>16.783333</td><td>2.5</td><td>2.0</td><td>0.208178</td></tr><tr><td>3272717</td><td>&quot;B07JFPYN5P&quot;</td><td>&quot;B09P565STB&quot;</td><td>0.0</td><td>0.57</td><td>3.0</td><td>2.0</td><td>0.0</td><td>0.0</td><td>0.0</td><td>0.0</td><td>0.0</td><td>0.0</td><td>0.0</td><td>0.0</td><td>0.0</td><td>0.0</td><td>0.757954</td><td>14</td><td>6.2671</td><td>3.714286</td><td>3.0</td><td>null</td><td>null</td><td>null</td><td>null</td><td>0.995319</td><td>14</td><td>6.2671</td><td>3.714286</td><td>3.0</td><td>0.208178</td></tr><tr><td>3272717</td><td>&quot;B07JFPYN5P&quot;</td><td>&quot;B07DDGZ82Z&quot;</td><td>0.0</td><td>0.08</td><td>3.0</td><td>2.0</td><td>0.0</td><td>0.0</td><td>0.0</td><td>0.0</td><td>0.0</td><td>0.0</td><td>0.0</td><td>0.0</td><td>0.0</td><td>0.0</td><td>0.746254</td><td>34</td><td>6.846591</td><td>9.588235</td><td>5.0</td><td>null</td><td>null</td><td>null</td><td>null</td><td>0.995319</td><td>34</td><td>6.846591</td><td>9.588235</td><td>5.0</td><td>0.208178</td></tr><tr><td>3272717</td><td>&quot;B07JFPYN5P&quot;</td><td>&quot;B009YCWUPS&quot;</td><td>0.0</td><td>0.52</td><td>3.0</td><td>2.0</td><td>0.0</td><td>0.0</td><td>0.0</td><td>0.0</td><td>0.0</td><td>0.0</td><td>0.0</td><td>0.0</td><td>0.0</td><td>0.0</td><td>0.765958</td><td>15</td><td>5.7</td><td>2.933333</td><td>3.0</td><td>null</td><td>null</td><td>null</td><td>null</td><td>0.995319</td><td>15</td><td>5.7</td><td>2.933333</td><td>3.0</td><td>0.208178</td></tr><tr><td>3272717</td><td>&quot;B07JFPYN5P&quot;</td><td>&quot;B0B3RZPMHY&quot;</td><td>0.0</td><td>0.67</td><td>3.0</td><td>2.0</td><td>0.0</td><td>0.0</td><td>0.0</td><td>0.0</td><td>0.0</td><td>0.0</td><td>0.0</td><td>0.0</td><td>0.0</td><td>0.0</td><td>0.784882</td><td>13</td><td>7.783333</td><td>2.307692</td><td>2.0</td><td>3.1495</td><td>12.598</td><td>12.598</td><td>1.799714</td><td>0.995319</td><td>13</td><td>7.783333</td><td>2.307692</td><td>2.0</td><td>0.208178</td></tr></tbody></table></div>"
      ],
      "text/plain": [
       "shape: (14, 32)\n",
       "┌──────────┬─────────┬────────────┬────────┬───┬────────────┬────────────┬────────────┬────────────┐\n",
       "│ session_ ┆ next_it ┆ next_item_ ┆ target ┆ … ┆ pos_weight ┆ avg_pos_ri ┆ median_pos ┆ random_rig │\n",
       "│ id       ┆ em      ┆ prediction ┆ ---    ┆   ┆ ed_cnt_rig ┆ ght        ┆ _right     ┆ ht         │\n",
       "│ ---      ┆ ---     ┆ ---        ┆ f64    ┆   ┆ ht         ┆ ---        ┆ ---        ┆ ---        │\n",
       "│ i64      ┆ str     ┆ str        ┆        ┆   ┆ ---        ┆ f64        ┆ f64        ┆ f64        │\n",
       "│          ┆         ┆            ┆        ┆   ┆ f64        ┆            ┆            ┆            │\n",
       "╞══════════╪═════════╪════════════╪════════╪═══╪════════════╪════════════╪════════════╪════════════╡\n",
       "│ 3272717  ┆ B07JFPY ┆ B07JFPYN5P ┆ 1.0    ┆ … ┆ 10.991667  ┆ 2.956522   ┆ 3.0        ┆ 0.208178   │\n",
       "│          ┆ N5P     ┆            ┆        ┆   ┆            ┆            ┆            ┆            │\n",
       "│ 3272717  ┆ B07JFPY ┆ B07B26DZZG ┆ 0.0    ┆ … ┆ 1.333333   ┆ 2.0        ┆ 2.0        ┆ 0.208178   │\n",
       "│          ┆ N5P     ┆            ┆        ┆   ┆            ┆            ┆            ┆            │\n",
       "│ 3272717  ┆ B07JFPY ┆ B08CB9TJXH ┆ 0.0    ┆ … ┆ 1.833333   ┆ 3.25       ┆ 3.0        ┆ 0.208178   │\n",
       "│          ┆ N5P     ┆            ┆        ┆   ┆            ┆            ┆            ┆            │\n",
       "│ 3272717  ┆ B07JFPY ┆ B0002IHFVM ┆ 0.0    ┆ … ┆ 6.533333   ┆ 2.75       ┆ 2.5        ┆ 0.208178   │\n",
       "│          ┆ N5P     ┆            ┆        ┆   ┆            ┆            ┆            ┆            │\n",
       "│ …        ┆ …       ┆ …          ┆ …      ┆ … ┆ …          ┆ …          ┆ …          ┆ …          │\n",
       "│ 3272717  ┆ B07JFPY ┆ B09P565STB ┆ 0.0    ┆ … ┆ 6.2671     ┆ 3.714286   ┆ 3.0        ┆ 0.208178   │\n",
       "│          ┆ N5P     ┆            ┆        ┆   ┆            ┆            ┆            ┆            │\n",
       "│ 3272717  ┆ B07JFPY ┆ B07DDGZ82Z ┆ 0.0    ┆ … ┆ 6.846591   ┆ 9.588235   ┆ 5.0        ┆ 0.208178   │\n",
       "│          ┆ N5P     ┆            ┆        ┆   ┆            ┆            ┆            ┆            │\n",
       "│ 3272717  ┆ B07JFPY ┆ B009YCWUPS ┆ 0.0    ┆ … ┆ 5.7        ┆ 2.933333   ┆ 3.0        ┆ 0.208178   │\n",
       "│          ┆ N5P     ┆            ┆        ┆   ┆            ┆            ┆            ┆            │\n",
       "│ 3272717  ┆ B07JFPY ┆ B0B3RZPMHY ┆ 0.0    ┆ … ┆ 7.783333   ┆ 2.307692   ┆ 2.0        ┆ 0.208178   │\n",
       "│          ┆ N5P     ┆            ┆        ┆   ┆            ┆            ┆            ┆            │\n",
       "└──────────┴─────────┴────────────┴────────┴───┴────────────┴────────────┴────────────┴────────────┘"
      ]
     },
     "execution_count": 103,
     "metadata": {},
     "output_type": "execute_result"
    }
   ],
   "source": [
    "train_candidates.filter(pl.col('session_id')==session_id).collect()"
   ]
  },
  {
   "cell_type": "code",
   "execution_count": 105,
   "id": "37594bf8-20eb-4bfd-ae35-4159d2860071",
   "metadata": {},
   "outputs": [
    {
     "name": "stdout",
     "output_type": "stream",
     "text": [
      "task2_eval_co_visit_task2_v2_True_top300.parquet\n",
      "task2_eval_nfi_task2_v2_True_top100.parquet\n",
      "task2_eval_nic_task2_v2_True_top100.parquet\n",
      "task2_eval_w2v_task2_v2_True_top100.parquet\n",
      "task2_test4task3_co_visit_task2_v2_True_top300.parquet\n",
      "task2_test4task3_nfi_task2_v2_True_top100.parquet\n",
      "task2_test4task3_nic_task2_v2_True_top100.parquet\n",
      "task2_test4task3_w2v_task2_v2_True_top100.parquet\n",
      "task2_test_co_visit_task2_v2_True_top300.parquet\n",
      "task2_test_nfi_task2_v2_True_top100.parquet\n",
      "task2_test_nic_task2_v2_True_top100.parquet\n",
      "task2_test_w2v_task2_v2_True_top100.parquet\n",
      "task2_train_co_visit_task2_v2_True_top300\n",
      "task2_train_co_visit_task2_v2_True_top300.parquet\n",
      "task2_train_nfi_task2_v2_True_top100\n",
      "task2_train_nfi_task2_v2_True_top100.parquet\n",
      "task2_train_nic_task2_v2_True_top100\n",
      "task2_train_nic_task2_v2_True_top100.parquet\n",
      "task2_train_w2v_task2_v2_True_top100\n",
      "task2_train_w2v_task2_v2_True_top100.parquet\n"
     ]
    }
   ],
   "source": [
    "! ls '../data/candidates/' | grep task2_v2"
   ]
  },
  {
   "cell_type": "code",
   "execution_count": null,
   "id": "6914b006-afb7-4a05-8e53-bad88884c2b2",
   "metadata": {},
   "outputs": [],
   "source": [
    "# def re_process_data(task=task, \n",
    "#                        w2v_model_version=w2v_model_version, \n",
    "#                        nic_model_version=nic_model_version,\n",
    "#                        nfi_model_version=nfi_model_version,\n",
    "#                        covisit_model_version=covisit_model_version,\n",
    "#                     model_for_eval=model_for_eval,\n",
    "#                       w2v_topn=w2v_topn\n",
    "#                       , nic_topn=nic_topn\n",
    "#                        , nfi_topn=nfi_topn\n",
    "#                        , covisit_topn=covisit_topn\n",
    "#                     , train_parts=train_parts\n",
    "#                       ):\n",
    "    # parts = train_parts\n",
    "\n",
    "data_type = 'train'\n",
    "w2v_file = os.path.join(candidate_path, \n",
    "                       candidate_file_name.format(\n",
    "                task=task\n",
    "            , data_type=data_type\n",
    "            , model_version=w2v_model_version\n",
    "            , model_for_eval=model_for_eval\n",
    "            , topn=w2v_topn\n",
    "                       ))\n",
    "nic_file = os.path.join(candidate_path,\n",
    "            candidate_file_name.format(\n",
    "                task=task\n",
    "                , data_type=data_type\n",
    "                , model_version=nic_model_version\n",
    "                , model_for_eval=model_for_eval\n",
    "                , topn=nic_topn\n",
    "                       ))\n",
    "nfi_file = os.path.join(candidate_path,\n",
    "        candidate_file_name.format(\n",
    "            task=task\n",
    "            , data_type=data_type\n",
    "            , model_version=nfi_model_version\n",
    "            , model_for_eval=model_for_eval\n",
    "            , topn=nfi_topn\n",
    "                   ))\n",
    "covisit_file = os.path.join(candidate_path,\n",
    "        candidate_file_name.format(\n",
    "            task=task\n",
    "            , data_type=data_type\n",
    "            , model_version=covisit_model_version\n",
    "            , model_for_eval=model_for_eval\n",
    "            , topn=covisit_topn\n",
    "                   ))\n",
    "# w2v_pl = pl.scan_parquet(w2v_file, n_rows=SAMPLE_NUM).collect().sort('session_id')#.with_columns(pl.col('prev_items').apply(str2list))\n",
    "# nic_pl = pl.scan_parquet(nic_file, n_rows=SAMPLE_NUM).collect().sort('session_id')#.with_columns(pl.col('prev_items').apply(str2list))\n",
    "# nfi_pl = pl.scan_parquet(nfi_file, n_rows=SAMPLE_NUM).collect().sort('session_id')#.with_columns(pl.col('prev_items').apply(str2list))\n",
    "# covisit_pl = pl.scan_parquet(covisit_file, n_rows=SAMPLE_NUM).collect().sort('session_id')#.with_columns(pl.col('prev_items').apply(str2list))\n",
    "dir_lst = []\n",
    "pl_lst = []\n",
    "for file_name in [w2v_file, nic_file, nfi_file, covisit_file]:\n",
    "    data_pl = pl.scan_parquet(file_name, n_rows=SAMPLE_NUM).collect().sort('session_id')\n",
    "    dir_name = file_name.replace('.parquet', '')\n",
    "    print(dir_name)\n",
    "    dir_lst.append(dir_name)\n",
    "    pl_lst.append(data_pl)\n",
    "    if not os.path.isdir(dir_name):\n",
    "        os.mkdir(dir_name)\n",
    "assert pl_lst[0].shape[0] == pl_lst[1].shape[0] == pl_lst[2].shape[0] == pl_lst[3].shape[0], f\"{[ele.shape for ele in pl_lst]}\"\n",
    "total_len = pl_lst[0].shape[0]\n",
    "\n",
    "# rows_per_part = int(total_len/parts)\n",
    "\n",
    "# for dir_path, data_pl in zip(dir_lst, pl_lst):\n",
    "#     print(dir_path)\n",
    "#     for idx in tqdm(range(parts)):\n",
    "#         begin = idx*rows_per_part\n",
    "#         if idx != parts-1:\n",
    "#             end = (idx+1)*rows_per_part\n",
    "#         else:\n",
    "#             end = total_len\n",
    "#         part_pl = data_pl[begin:end :]\n",
    "#         file_name = os.path.join(dir_path, f\"part_{idx+1}.parquet\")\n",
    "#         print(f'{begin} - {end} -> {file_name}')\n",
    "#         part_pl.write_parquet(file_name)"
   ]
  }
 ],
 "metadata": {
  "environment": {
   "kernel": "kdd_2023",
   "name": "common-cu110.m104",
   "type": "gcloud",
   "uri": "gcr.io/deeplearning-platform-release/base-cu110:m104"
  },
  "kernelspec": {
   "display_name": "py3.8(kdd_2023)",
   "language": "python",
   "name": "kdd_2023"
  },
  "language_info": {
   "codemirror_mode": {
    "name": "ipython",
    "version": 3
   },
   "file_extension": ".py",
   "mimetype": "text/x-python",
   "name": "python",
   "nbconvert_exporter": "python",
   "pygments_lexer": "ipython3",
   "version": "3.8.16"
  }
 },
 "nbformat": 4,
 "nbformat_minor": 5
}
