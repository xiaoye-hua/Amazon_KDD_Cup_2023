{
 "cells": [
  {
   "cell_type": "markdown",
   "id": "cfb20369-bc15-496e-9ca7-96ea3337a84e",
   "metadata": {},
   "source": [
    "# Packages "
   ]
  },
  {
   "cell_type": "code",
   "execution_count": 1,
   "id": "aabe0c4e-8729-4f63-9722-c12d233ca6b5",
   "metadata": {
    "tags": []
   },
   "outputs": [
    {
     "name": "stderr",
     "output_type": "stream",
     "text": [
      "/home/jupyter/.cache/pypoetry/virtualenvs/kdd-2023-KklMGVX0-py3.8/lib/python3.8/site-packages/implicit/gpu/__init__.py:13: UserWarning: CUDA extension is built, but disabling GPU support because of 'Cuda Error: no CUDA-capable device is detected (/project/./implicit/gpu/utils.h:71)'\n",
      "  warnings.warn(\n"
     ]
    }
   ],
   "source": [
    "%load_ext autoreload\n",
    "%autoreload 2\n",
    "import sys\n",
    "import logging\n",
    "base_dir = '../'\n",
    "sys.path.append(base_dir)\n",
    "import os\n",
    "from utils import *\n",
    "\n",
    "import joblib\n",
    "import os\n",
    "import numpy as np\n",
    "import pandas as pd\n",
    "from gensim.models import Word2Vec\n",
    "from gensim.similarities.annoy import AnnoyIndexer\n",
    "\n",
    "\n",
    "from annoy import AnnoyIndex\n",
    "import polars as pl\n",
    "import implicit\n",
    "from src.eval import model_eval\n",
    "\n",
    "import scipy.sparse as sps\n",
    "from utils import str2list\n",
    "from src.config import raw_data_session_id_dir, candidate_file_name\n",
    "from lightgbm import LGBMRanker\n",
    "from lightgbm import early_stopping\n",
    "from utils import *\n",
    "# try github "
   ]
  },
  {
   "cell_type": "markdown",
   "id": "1355ce62-0ebd-4629-99e5-96bf2946bed5",
   "metadata": {
    "tags": []
   },
   "source": [
    "# Config "
   ]
  },
  {
   "cell_type": "code",
   "execution_count": 2,
   "id": "c5d2edbe-29b1-40cf-985b-0551db0e3e9a",
   "metadata": {},
   "outputs": [],
   "source": [
    "ranker_train_data_dir = '../data/rank_train_data_v2/'\n",
    "rank_model_version = 'rank_lgbm_v4'"
   ]
  },
  {
   "cell_type": "code",
   "execution_count": null,
   "id": "72ef90af-49f4-421c-ad25-15dfe7bbcf6f",
   "metadata": {},
   "outputs": [],
   "source": []
  },
  {
   "cell_type": "code",
   "execution_count": 3,
   "id": "0cac5f9f-76a0-4069-a57a-17b45bba83fd",
   "metadata": {},
   "outputs": [],
   "source": [
    "debug = False\n",
    "\n",
    "if debug:\n",
    "    SAMPLE_NUM = 1000\n",
    "else:\n",
    "    SAMPLE_NUM = None\n",
    "\n",
    "candidate_path = '../data/candidates/'\n",
    "model_dir = '../model_training'\n",
    "# train_data_dir = '.'\n",
    "# test_data_dir = '.'\n",
    "task = 'task1'\n",
    "w2v_model_version = 'w2v_v3'\n",
    "nic_model_version = 'nic'\n",
    "\n",
    "rank_model_dir = os.path.join(model_dir, rank_model_version)\n",
    "model_for_eval = True\n",
    "w2v_topn=100\n",
    "nic_topn=100\n",
    "# PREDS_PER_SESSION = 100\n",
    "\n",
    "# num_tree = 100\n",
    "\n",
    "\n",
    "\n",
    "# # target locales: locales needed for task1\n",
    "target_locals = [\"DE\", 'JP', 'UK']\n",
    "\n",
    "# submit_file = f'submission_{task}_ALS.parquet'\n",
    "num_tree = 100\n",
    "w2v_model_dir = os.path.join(model_dir, w2v_model_version)\n",
    "w2v_model_file = os.path.join(w2v_model_dir, f\"{model_for_eval}.model\")\n",
    "annoy_index_file = os.path.join(w2v_model_dir, f\"{str(num_tree)}_{model_for_eval}.index\")\n",
    "\n",
    "\n",
    "sub_file = f'../data/sub_files/{rank_model_version}.parque'\n",
    "eval_sub_file = f'../data/sub_files/eval_{rank_model_version}.parque'"
   ]
  },
  {
   "cell_type": "code",
   "execution_count": 4,
   "id": "05ef9123-0967-493c-8eb0-846a42483a2b",
   "metadata": {},
   "outputs": [
    {
     "data": {
      "text/plain": [
       "'../model_training/rank_lgbm_v4'"
      ]
     },
     "execution_count": 4,
     "metadata": {},
     "output_type": "execute_result"
    }
   ],
   "source": [
    "rank_model_dir"
   ]
  },
  {
   "cell_type": "code",
   "execution_count": 5,
   "id": "902bc312-8c20-42f7-ad41-b5d77d89fcce",
   "metadata": {},
   "outputs": [
    {
     "name": "stdout",
     "output_type": "stream",
     "text": [
      "mkdir: cannot create directory ‘../model_training/rank_lgbm_v4’: File exists\n"
     ]
    }
   ],
   "source": [
    "! mkdir {rank_model_dir}"
   ]
  },
  {
   "cell_type": "markdown",
   "id": "33cccd9d-18fd-4339-a739-39d7021cef73",
   "metadata": {
    "tags": []
   },
   "source": [
    "# Read data"
   ]
  },
  {
   "cell_type": "code",
   "execution_count": 33,
   "id": "3486f554-4ca0-460c-9d31-4b4b1f2c5e6b",
   "metadata": {},
   "outputs": [],
   "source": [
    "\n",
    "eval_pl = pl.scan_parquet(os.path.join(base_dir, raw_data_session_id_dir, 'sessions_eval.parquet'), n_rows=SAMPLE_NUM).filter(pl.col('locale').is_in(target_locals)).with_columns(pl.col('prev_items').apply(str2list))\n",
    "\n",
    "# df_sess.head(3).collect()\n",
    "test_pl = pl.scan_parquet(os.path.join(base_dir, raw_data_session_id_dir, f'sessions_test_{task}.parquet'), n_rows=SAMPLE_NUM).with_columns(pl.col('prev_items').apply(str2list))\n",
    "test4task3_pl = pl.scan_parquet(os.path.join(base_dir, raw_data_session_id_dir, 'sessions_test_task3.parquet'), n_rows=SAMPLE_NUM).filter(pl.col('locale').is_in(target_locals)).with_columns(pl.col('prev_items').apply(str2list))\n",
    "\n"
   ]
  },
  {
   "cell_type": "code",
   "execution_count": 34,
   "id": "bcea5661-384c-45a0-aec7-9d56948127ff",
   "metadata": {},
   "outputs": [
    {
     "name": "stdout",
     "output_type": "stream",
     "text": [
      "eval.parquet  test.parquet  test4task3.parquet\ttest_phase1.parquet  train\n"
     ]
    }
   ],
   "source": [
    "! ls {ranker_train_data_dir}"
   ]
  },
  {
   "cell_type": "code",
   "execution_count": 35,
   "id": "809a077b-64ee-4e0c-b3ef-26dd5a634f67",
   "metadata": {},
   "outputs": [],
   "source": [
    "train_candidates = pl.scan_parquet(os.path.join(ranker_train_data_dir, 'train/' '*.parquet'), n_rows=SAMPLE_NUM)\n",
    "# train_candidates = pl.scan_parquet(os.path.join(ranker_train_data_dir, 'train/' 'part_5.parquet'), n_rows=SAMPLE_NUM)\n",
    "\n",
    "eval_candidates = pl.scan_parquet(os.path.join(ranker_train_data_dir, 'eval.parquet'), n_rows=SAMPLE_NUM)\n",
    "test_candidates = pl.scan_parquet(os.path.join(ranker_train_data_dir, 'test.parquet'), n_rows=SAMPLE_NUM)\n"
   ]
  },
  {
   "cell_type": "code",
   "execution_count": 36,
   "id": "25e225b5-72aa-480f-8c0f-3879303cd207",
   "metadata": {},
   "outputs": [],
   "source": [
    "test4task3_candidates = pl.scan_parquet(os.path.join(ranker_train_data_dir, 'test4task3.parquet'), n_rows=SAMPLE_NUM)"
   ]
  },
  {
   "cell_type": "code",
   "execution_count": 37,
   "id": "606c57a4-9fd6-4669-ab54-6d44fad7a500",
   "metadata": {},
   "outputs": [],
   "source": [
    "# train_candidates.collect().shape"
   ]
  },
  {
   "cell_type": "code",
   "execution_count": 38,
   "id": "0555ac0f-d5f6-4290-8458-fd0cc4672dc6",
   "metadata": {},
   "outputs": [
    {
     "name": "stdout",
     "output_type": "stream",
     "text": [
      "part_1.parquet\tpart_2.parquet\tpart_3.parquet\tpart_4.parquet\tpart_5.parquet\n"
     ]
    }
   ],
   "source": [
    "! ls {ranker_train_data_dir}/train"
   ]
  },
  {
   "cell_type": "raw",
   "id": "897728e2-9c35-468f-807e-59c25cb1477e",
   "metadata": {},
   "source": []
  },
  {
   "cell_type": "markdown",
   "id": "ed548a53-924e-4fbf-864c-06cfedc6f9cc",
   "metadata": {
    "tags": []
   },
   "source": [
    "# Ranker "
   ]
  },
  {
   "cell_type": "markdown",
   "id": "c198ffca-bbd1-4d7c-a507-668daa2e805c",
   "metadata": {},
   "source": [
    "## Config "
   ]
  },
  {
   "cell_type": "code",
   "execution_count": null,
   "id": "0e5f73f3-acce-4ebe-ba6a-2065ed0ebfd5",
   "metadata": {},
   "outputs": [],
   "source": []
  },
  {
   "cell_type": "code",
   "execution_count": 23,
   "id": "39854b22-9372-4e17-9aaa-a9cd619ab344",
   "metadata": {},
   "outputs": [],
   "source": [
    "estimator = 1000\n",
    "early_stop_rounds = 10\n",
    "eval_frac = 0.1\n",
    "if debug:\n",
    "    early_stop_rounds = 5\n",
    "    \n",
    "target = 'target'\n",
    "feature_cols = [\n",
    "    'next_item_weight'\n",
    "    , 'next_item_weight_nfi'\n",
    "    , 'next_item_weight_co_visit'\n",
    "    , 'locale'\n",
    "    , 'w2v_weight'\n",
    "    , 'last_item_similarity'\n",
    "    # , 'prev_item_similarity'\t\n",
    "    , 'prev_length'\n",
    "    , 'price_mean_norm'\t\n",
    "    , 'price_last_norm'\n",
    "    , 'price_min_norm'\n",
    "    , 'price_max_norm'\n",
    "]\n",
    "\n",
    "categorical_feature=['locale']"
   ]
  },
  {
   "cell_type": "markdown",
   "id": "0089a10a-3cfc-42fd-ad5a-1b51d7fa35a0",
   "metadata": {
    "tags": []
   },
   "source": [
    "## Train model"
   ]
  },
  {
   "cell_type": "code",
   "execution_count": null,
   "id": "f3586ce2-a4fb-48d6-8635-d771997eaed2",
   "metadata": {},
   "outputs": [],
   "source": []
  },
  {
   "cell_type": "code",
   "execution_count": 12,
   "id": "45c77953-05c4-404e-82e2-daf4ecd137d5",
   "metadata": {},
   "outputs": [],
   "source": [
    "ranker = LGBMRanker(\n",
    "    objective=\"lambdarank\",\n",
    "    metric=\"ndcg\",\n",
    "    boosting_type=\"gbdt\",\n",
    "    n_estimators=estimator, \n",
    "    importance_type='gain',\n",
    "    eval_at=[3]\n",
    ")"
   ]
  },
  {
   "cell_type": "code",
   "execution_count": null,
   "id": "792db200-f119-4826-9fcc-703870de35c0",
   "metadata": {},
   "outputs": [],
   "source": []
  },
  {
   "cell_type": "markdown",
   "id": "ffa2d062-0ad5-43c2-9c92-569c8d11e55f",
   "metadata": {
    "tags": []
   },
   "source": [
    "### eval data for training "
   ]
  },
  {
   "cell_type": "code",
   "execution_count": 13,
   "id": "03ce8699-eacd-4bc1-a576-0e24c756d5b2",
   "metadata": {},
   "outputs": [],
   "source": [
    "# eval_candidates.collect().shape"
   ]
  },
  {
   "cell_type": "code",
   "execution_count": 14,
   "id": "834b8255-0aaa-47ef-8ab8-81edbd7ea824",
   "metadata": {},
   "outputs": [],
   "source": [
    "# train_candidates.collect().shape"
   ]
  },
  {
   "cell_type": "code",
   "execution_count": 15,
   "id": "37c9c213-f377-47e2-a60f-cfe721043f78",
   "metadata": {},
   "outputs": [],
   "source": [
    "# eval_candidates.head(3).collect()"
   ]
  },
  {
   "cell_type": "code",
   "execution_count": 16,
   "id": "04eee3ac-f091-44c3-acc1-3ff49636ca44",
   "metadata": {},
   "outputs": [],
   "source": [
    "# train_candidates.head(3).collect()"
   ]
  },
  {
   "cell_type": "code",
   "execution_count": 17,
   "id": "1873035c-43d0-4c08-b048-e5017dc403b0",
   "metadata": {},
   "outputs": [],
   "source": [
    "train_data_source = 'train' # train or 'eval'\n",
    "\n",
    "if train_data_source == 'eval':\n",
    "    target_df = eval_candidates\n",
    "    negative_sampling = 0.1\n",
    "\n",
    "    cols = ['session_id', 'next_item', 'next_item_prediction', 'target']\n",
    "    sample_pl = target_df.select(cols)\n",
    "    pos = sample_pl.filter(pl.col('target')==1)\n",
    "    neg = (sample_pl\n",
    "               .filter(pl.col('target')==0)\n",
    "          )\n",
    "    neg_original_len = neg.select('session_id').collect().shape[0]\n",
    "    print(f'Original negative num: {neg_original_len}')\n",
    "    neg = neg.groupby('session_id').agg(\n",
    "        pl.all().sample(frac=negative_sampling)\n",
    "        )\n",
    "    neg = neg.explode(neg.columns[1:])\n",
    "    # # print(neg.shape)\n",
    "    # # print(neg.head().collect())\n",
    "    sample_pl = pl.concat([pos, neg], how='vertical')\n",
    "    target_df = sample_pl.join(target_df, how='left', on=cols).collect().sort('session_id').lazy()\n",
    "    del sample_pl\n",
    "else:\n",
    "    target_df = train_candidates\n",
    "    del train_candidates"
   ]
  },
  {
   "cell_type": "markdown",
   "id": "0a4305b1-62ce-46f8-b424-6e8949bc1640",
   "metadata": {},
   "source": [
    "### Train "
   ]
  },
  {
   "cell_type": "code",
   "execution_count": 18,
   "id": "4c0169ac-77ee-40a9-8d5f-cf119a1560ea",
   "metadata": {},
   "outputs": [],
   "source": [
    "# target_df.schema"
   ]
  },
  {
   "cell_type": "code",
   "execution_count": 19,
   "id": "5f12a18f-f088-473a-8f7f-87c4a12e8d96",
   "metadata": {},
   "outputs": [],
   "source": [
    "# target_df.select('session_id').head().collect()#.unique().collect()"
   ]
  },
  {
   "cell_type": "code",
   "execution_count": 20,
   "id": "d1f36d04-75ed-4d64-b758-239ef3c2a9c5",
   "metadata": {},
   "outputs": [],
   "source": [
    "target_train_candidates = target_df\n",
    "del target_df"
   ]
  },
  {
   "cell_type": "markdown",
   "id": "2e6f55d5-5073-452e-a873-cd90f471d9fe",
   "metadata": {},
   "source": [
    "#### More featurs "
   ]
  },
  {
   "cell_type": "code",
   "execution_count": 14,
   "id": "968e4fa5-8dba-4897-a391-6a3748f62405",
   "metadata": {},
   "outputs": [],
   "source": [
    "session_features = pl.scan_parquet('../data/session_item_features/session_features.parquet')\n",
    "product_pl = pl.scan_parquet(os.path.join(base_dir, raw_data_session_id_dir, \n",
    "                                          'products_train.parquet'))"
   ]
  },
  {
   "cell_type": "code",
   "execution_count": 15,
   "id": "f8cb5011-5bef-43b1-91cd-7b48067d4931",
   "metadata": {},
   "outputs": [],
   "source": [
    "# session_features.schema"
   ]
  },
  {
   "cell_type": "code",
   "execution_count": 16,
   "id": "c339076c-e43a-49d7-9c4d-816ebaa20cc7",
   "metadata": {},
   "outputs": [],
   "source": [
    "# target_train_candidates"
   ]
  },
  {
   "cell_type": "code",
   "execution_count": 17,
   "id": "ca67cd65-1c87-4532-b5ea-4c0f538178ef",
   "metadata": {},
   "outputs": [],
   "source": [
    "# target_train_candidates.head(3).collect()"
   ]
  },
  {
   "cell_type": "code",
   "execution_count": 18,
   "id": "9c879f62-0829-4314-b1e6-75bc095c42db",
   "metadata": {},
   "outputs": [],
   "source": [
    "def get_additional_feature(data_pl, session_features=session_features, product_pl=product_pl):\n",
    "    session_join_keys = ['session_id']\n",
    "    session_fea_cols = ['mean_price', 'last_price', 'min_price', 'max_price']\n",
    "    data_pl = (\n",
    "        data_pl.join(session_features.select(session_join_keys+session_fea_cols+['locale']),\n",
    "                                    how='left', on=session_join_keys, suffix='_str')\n",
    "            .join(product_pl.select(['id', 'locale', 'price']), how='left', right_on=['id', 'locale']\n",
    "                 , left_on=['next_item_prediction', 'locale_str'])\n",
    "            .with_columns(\n",
    "              pl.col('price').truediv(pl.col('mean_price')).alias('price_mean_norm')\n",
    "              , pl.col('price').truediv(pl.col('last_price')).alias('price_last_norm')\n",
    "              , pl.col('price').truediv(pl.col('min_price')).alias('price_min_norm')\n",
    "              , pl.col('price').truediv(pl.col('max_price')).alias('price_max_norm')\n",
    "              # , pl.when(pl.col('min_price')==pl.col('max_price')).then(1).otherwise((pl.col('price')-pl.col('min_price'))/(pl.col('min_price')-pl.col('max_price'))).alias('price_norm')\n",
    "            )\n",
    "            .select(\n",
    "                pl.all().exclude(session_fea_cols+['locale_str', 'price'])\n",
    "            )\n",
    "\n",
    "    )\n",
    "    return data_pl"
   ]
  },
  {
   "cell_type": "code",
   "execution_count": 55,
   "id": "d77cc5b0-3526-4636-83f6-e2d4addf16bf",
   "metadata": {},
   "outputs": [],
   "source": [
    "target_train_candidates = get_additional_feature(data_pl=target_train_candidates)"
   ]
  },
  {
   "cell_type": "code",
   "execution_count": null,
   "id": "76d4bb67-7ed4-4dfe-8bfc-2df7288d6a1a",
   "metadata": {},
   "outputs": [],
   "source": []
  },
  {
   "cell_type": "code",
   "execution_count": null,
   "id": "daa80add-3852-413f-9e0e-3b3f21b9b4e0",
   "metadata": {},
   "outputs": [],
   "source": []
  },
  {
   "cell_type": "code",
   "execution_count": null,
   "id": "390a2dc4-bd78-4f7d-b933-483807527ed5",
   "metadata": {},
   "outputs": [],
   "source": []
  },
  {
   "cell_type": "code",
   "execution_count": null,
   "id": "bf8be5a1-a1cd-44be-b055-1f7b12fab0b0",
   "metadata": {},
   "outputs": [],
   "source": []
  },
  {
   "cell_type": "code",
   "execution_count": 56,
   "id": "103cf449-db1d-44e1-b8d6-8b451c6b96fc",
   "metadata": {},
   "outputs": [],
   "source": [
    "train_session_id = target_train_candidates.select(pl.col('session_id')).unique().collect()\n",
    "\n",
    "session_num = train_session_id.shape[0]"
   ]
  },
  {
   "cell_type": "code",
   "execution_count": 57,
   "id": "3d152ff1-7e76-48ca-b36d-1eeac2abedb8",
   "metadata": {},
   "outputs": [],
   "source": [
    "random_pl = train_session_id.with_columns(\n",
    "        pl.Series(name='random', values=np.random.uniform(size=session_num))\n",
    ")"
   ]
  },
  {
   "cell_type": "code",
   "execution_count": 58,
   "id": "3d9ff66e-6607-4602-8ad3-6b2d7d5a430a",
   "metadata": {},
   "outputs": [],
   "source": [
    "train_candidates = target_train_candidates.join(random_pl.lazy(), how='left', on='session_id')\n",
    "\n",
    "sampled_train_candidates = train_candidates.filter(pl.col('random')>eval_frac).sort('session_id', descending=False).collect()\n",
    "sampled_eval_candidates = train_candidates.filter(pl.col('random')<=eval_frac).sort('session_id', descending=False).collect()"
   ]
  },
  {
   "cell_type": "code",
   "execution_count": 59,
   "id": "0e8b2b6d-bb00-4587-9329-84a7867ba37a",
   "metadata": {},
   "outputs": [
    {
     "name": "stdout",
     "output_type": "stream",
     "text": [
      "Train\n",
      "(13120484, 16)\n",
      "shape: (1, 1)\n",
      "┌─────────┐\n",
      "│ target  │\n",
      "│ ---     │\n",
      "│ f64     │\n",
      "╞═════════╡\n",
      "│ 0.05024 │\n",
      "└─────────┘\n",
      "\n",
      "\n",
      "Eval\n",
      "(1464944, 16)\n",
      "shape: (1, 1)\n",
      "┌──────────┐\n",
      "│ target   │\n",
      "│ ---      │\n",
      "│ f64      │\n",
      "╞══════════╡\n",
      "│ 0.050214 │\n",
      "└──────────┘\n"
     ]
    }
   ],
   "source": [
    "print('Train')\n",
    "print(sampled_train_candidates.shape)\n",
    "print(sampled_train_candidates.select('target').mean())\n",
    "print()\n",
    "print()\n",
    "print('Eval')\n",
    "print(sampled_eval_candidates.shape)\n",
    "print(sampled_eval_candidates.select('target').mean())"
   ]
  },
  {
   "cell_type": "code",
   "execution_count": 60,
   "id": "154851ff-3a0d-4082-aacb-da66bc332953",
   "metadata": {},
   "outputs": [],
   "source": [
    "# sampled_train_candidates.head()"
   ]
  },
  {
   "cell_type": "markdown",
   "id": "637e7a9e-eba7-47f5-b5bf-09054f88398a",
   "metadata": {},
   "source": [
    "<!-- no positive items ->  -->"
   ]
  },
  {
   "cell_type": "code",
   "execution_count": 61,
   "id": "461cc375-1569-4628-aba3-c4680b00ed34",
   "metadata": {},
   "outputs": [],
   "source": [
    "# sampled_train_candidates.filter(pl.col('session_id')==0).sort('target', descending=True)"
   ]
  },
  {
   "cell_type": "code",
   "execution_count": 62,
   "id": "cbf29551-bdb7-400c-b723-42df82f89c2a",
   "metadata": {},
   "outputs": [],
   "source": [
    "# sampled_train_candidates.filter(pl.col('session_id')==5).sort('target', descending=True)"
   ]
  },
  {
   "cell_type": "code",
   "execution_count": 63,
   "id": "704d4b0d-ead2-4a0a-81fe-3144faf85e51",
   "metadata": {},
   "outputs": [],
   "source": [
    "# sampled_train_candidates.head()"
   ]
  },
  {
   "cell_type": "code",
   "execution_count": 64,
   "id": "f6e46d9d-81b9-46ce-a464-5c07f3e8b6f0",
   "metadata": {},
   "outputs": [],
   "source": [
    "# sampled_train_candidates.groupby('session_id').agg(pl.count())"
   ]
  },
  {
   "cell_type": "code",
   "execution_count": 65,
   "id": "b9553bb1-2484-4216-a7c5-c75420d4c0e4",
   "metadata": {},
   "outputs": [],
   "source": [
    "session_lengths_train = sampled_train_candidates.groupby('session_id').agg(pl.count()).select('count').to_pandas()['count'].values.tolist()\n",
    "session_lengths_eval = sampled_eval_candidates.groupby('session_id').agg(pl.count()).select('count').to_pandas()['count'].values.tolist()"
   ]
  },
  {
   "cell_type": "code",
   "execution_count": 66,
   "id": "91536d1e-ab79-4c13-97dc-b25a4d91e9b6",
   "metadata": {},
   "outputs": [
    {
     "data": {
      "text/html": [
       "<div>\n",
       "<style scoped>\n",
       "    .dataframe tbody tr th:only-of-type {\n",
       "        vertical-align: middle;\n",
       "    }\n",
       "\n",
       "    .dataframe tbody tr th {\n",
       "        vertical-align: top;\n",
       "    }\n",
       "\n",
       "    .dataframe thead th {\n",
       "        text-align: right;\n",
       "    }\n",
       "</style>\n",
       "<table border=\"1\" class=\"dataframe\">\n",
       "  <thead>\n",
       "    <tr style=\"text-align: right;\">\n",
       "      <th></th>\n",
       "      <th>0</th>\n",
       "    </tr>\n",
       "  </thead>\n",
       "  <tbody>\n",
       "    <tr>\n",
       "      <th>count</th>\n",
       "      <td>659175.000000</td>\n",
       "    </tr>\n",
       "    <tr>\n",
       "      <th>mean</th>\n",
       "      <td>19.904402</td>\n",
       "    </tr>\n",
       "    <tr>\n",
       "      <th>std</th>\n",
       "      <td>9.618026</td>\n",
       "    </tr>\n",
       "    <tr>\n",
       "      <th>min</th>\n",
       "      <td>8.000000</td>\n",
       "    </tr>\n",
       "    <tr>\n",
       "      <th>0%</th>\n",
       "      <td>8.000000</td>\n",
       "    </tr>\n",
       "    <tr>\n",
       "      <th>5%</th>\n",
       "      <td>11.000000</td>\n",
       "    </tr>\n",
       "    <tr>\n",
       "      <th>10%</th>\n",
       "      <td>11.000000</td>\n",
       "    </tr>\n",
       "    <tr>\n",
       "      <th>15%</th>\n",
       "      <td>11.000000</td>\n",
       "    </tr>\n",
       "    <tr>\n",
       "      <th>20%</th>\n",
       "      <td>12.000000</td>\n",
       "    </tr>\n",
       "    <tr>\n",
       "      <th>25%</th>\n",
       "      <td>12.000000</td>\n",
       "    </tr>\n",
       "    <tr>\n",
       "      <th>30%</th>\n",
       "      <td>13.000000</td>\n",
       "    </tr>\n",
       "    <tr>\n",
       "      <th>35%</th>\n",
       "      <td>13.000000</td>\n",
       "    </tr>\n",
       "    <tr>\n",
       "      <th>40%</th>\n",
       "      <td>14.000000</td>\n",
       "    </tr>\n",
       "    <tr>\n",
       "      <th>45%</th>\n",
       "      <td>15.000000</td>\n",
       "    </tr>\n",
       "    <tr>\n",
       "      <th>50%</th>\n",
       "      <td>16.000000</td>\n",
       "    </tr>\n",
       "    <tr>\n",
       "      <th>55%</th>\n",
       "      <td>17.000000</td>\n",
       "    </tr>\n",
       "    <tr>\n",
       "      <th>60%</th>\n",
       "      <td>18.000000</td>\n",
       "    </tr>\n",
       "    <tr>\n",
       "      <th>65%</th>\n",
       "      <td>20.000000</td>\n",
       "    </tr>\n",
       "    <tr>\n",
       "      <th>70%</th>\n",
       "      <td>23.000000</td>\n",
       "    </tr>\n",
       "    <tr>\n",
       "      <th>75%</th>\n",
       "      <td>25.000000</td>\n",
       "    </tr>\n",
       "    <tr>\n",
       "      <th>80%</th>\n",
       "      <td>30.000000</td>\n",
       "    </tr>\n",
       "    <tr>\n",
       "      <th>85%</th>\n",
       "      <td>34.000000</td>\n",
       "    </tr>\n",
       "    <tr>\n",
       "      <th>90%</th>\n",
       "      <td>37.000000</td>\n",
       "    </tr>\n",
       "    <tr>\n",
       "      <th>95%</th>\n",
       "      <td>39.000000</td>\n",
       "    </tr>\n",
       "    <tr>\n",
       "      <th>max</th>\n",
       "      <td>47.000000</td>\n",
       "    </tr>\n",
       "  </tbody>\n",
       "</table>\n",
       "</div>"
      ],
      "text/plain": [
       "                   0\n",
       "count  659175.000000\n",
       "mean       19.904402\n",
       "std         9.618026\n",
       "min         8.000000\n",
       "0%          8.000000\n",
       "5%         11.000000\n",
       "10%        11.000000\n",
       "15%        11.000000\n",
       "20%        12.000000\n",
       "25%        12.000000\n",
       "30%        13.000000\n",
       "35%        13.000000\n",
       "40%        14.000000\n",
       "45%        15.000000\n",
       "50%        16.000000\n",
       "55%        17.000000\n",
       "60%        18.000000\n",
       "65%        20.000000\n",
       "70%        23.000000\n",
       "75%        25.000000\n",
       "80%        30.000000\n",
       "85%        34.000000\n",
       "90%        37.000000\n",
       "95%        39.000000\n",
       "max        47.000000"
      ]
     },
     "execution_count": 66,
     "metadata": {},
     "output_type": "execute_result"
    }
   ],
   "source": [
    "pd.DataFrame(session_lengths_train).describe([0.05*i for i in range(20)])"
   ]
  },
  {
   "cell_type": "code",
   "execution_count": 67,
   "id": "41307dc2-93e8-4dfb-85b4-0f227beb412e",
   "metadata": {},
   "outputs": [
    {
     "data": {
      "text/html": [
       "<div>\n",
       "<style scoped>\n",
       "    .dataframe tbody tr th:only-of-type {\n",
       "        vertical-align: middle;\n",
       "    }\n",
       "\n",
       "    .dataframe tbody tr th {\n",
       "        vertical-align: top;\n",
       "    }\n",
       "\n",
       "    .dataframe thead th {\n",
       "        text-align: right;\n",
       "    }\n",
       "</style>\n",
       "<table border=\"1\" class=\"dataframe\">\n",
       "  <thead>\n",
       "    <tr style=\"text-align: right;\">\n",
       "      <th></th>\n",
       "      <th>0</th>\n",
       "    </tr>\n",
       "  </thead>\n",
       "  <tbody>\n",
       "    <tr>\n",
       "      <th>count</th>\n",
       "      <td>73561.000000</td>\n",
       "    </tr>\n",
       "    <tr>\n",
       "      <th>mean</th>\n",
       "      <td>19.914683</td>\n",
       "    </tr>\n",
       "    <tr>\n",
       "      <th>std</th>\n",
       "      <td>9.642499</td>\n",
       "    </tr>\n",
       "    <tr>\n",
       "      <th>min</th>\n",
       "      <td>9.000000</td>\n",
       "    </tr>\n",
       "    <tr>\n",
       "      <th>0%</th>\n",
       "      <td>9.000000</td>\n",
       "    </tr>\n",
       "    <tr>\n",
       "      <th>5%</th>\n",
       "      <td>11.000000</td>\n",
       "    </tr>\n",
       "    <tr>\n",
       "      <th>10%</th>\n",
       "      <td>11.000000</td>\n",
       "    </tr>\n",
       "    <tr>\n",
       "      <th>15%</th>\n",
       "      <td>11.000000</td>\n",
       "    </tr>\n",
       "    <tr>\n",
       "      <th>20%</th>\n",
       "      <td>12.000000</td>\n",
       "    </tr>\n",
       "    <tr>\n",
       "      <th>25%</th>\n",
       "      <td>12.000000</td>\n",
       "    </tr>\n",
       "    <tr>\n",
       "      <th>30%</th>\n",
       "      <td>13.000000</td>\n",
       "    </tr>\n",
       "    <tr>\n",
       "      <th>35%</th>\n",
       "      <td>13.000000</td>\n",
       "    </tr>\n",
       "    <tr>\n",
       "      <th>40%</th>\n",
       "      <td>14.000000</td>\n",
       "    </tr>\n",
       "    <tr>\n",
       "      <th>45%</th>\n",
       "      <td>15.000000</td>\n",
       "    </tr>\n",
       "    <tr>\n",
       "      <th>50%</th>\n",
       "      <td>16.000000</td>\n",
       "    </tr>\n",
       "    <tr>\n",
       "      <th>55%</th>\n",
       "      <td>17.000000</td>\n",
       "    </tr>\n",
       "    <tr>\n",
       "      <th>60%</th>\n",
       "      <td>18.000000</td>\n",
       "    </tr>\n",
       "    <tr>\n",
       "      <th>65%</th>\n",
       "      <td>20.000000</td>\n",
       "    </tr>\n",
       "    <tr>\n",
       "      <th>70%</th>\n",
       "      <td>23.000000</td>\n",
       "    </tr>\n",
       "    <tr>\n",
       "      <th>75%</th>\n",
       "      <td>26.000000</td>\n",
       "    </tr>\n",
       "    <tr>\n",
       "      <th>80%</th>\n",
       "      <td>30.000000</td>\n",
       "    </tr>\n",
       "    <tr>\n",
       "      <th>85%</th>\n",
       "      <td>34.000000</td>\n",
       "    </tr>\n",
       "    <tr>\n",
       "      <th>90%</th>\n",
       "      <td>37.000000</td>\n",
       "    </tr>\n",
       "    <tr>\n",
       "      <th>95%</th>\n",
       "      <td>39.000000</td>\n",
       "    </tr>\n",
       "    <tr>\n",
       "      <th>max</th>\n",
       "      <td>47.000000</td>\n",
       "    </tr>\n",
       "  </tbody>\n",
       "</table>\n",
       "</div>"
      ],
      "text/plain": [
       "                  0\n",
       "count  73561.000000\n",
       "mean      19.914683\n",
       "std        9.642499\n",
       "min        9.000000\n",
       "0%         9.000000\n",
       "5%        11.000000\n",
       "10%       11.000000\n",
       "15%       11.000000\n",
       "20%       12.000000\n",
       "25%       12.000000\n",
       "30%       13.000000\n",
       "35%       13.000000\n",
       "40%       14.000000\n",
       "45%       15.000000\n",
       "50%       16.000000\n",
       "55%       17.000000\n",
       "60%       18.000000\n",
       "65%       20.000000\n",
       "70%       23.000000\n",
       "75%       26.000000\n",
       "80%       30.000000\n",
       "85%       34.000000\n",
       "90%       37.000000\n",
       "95%       39.000000\n",
       "max       47.000000"
      ]
     },
     "execution_count": 67,
     "metadata": {},
     "output_type": "execute_result"
    }
   ],
   "source": [
    "pd.DataFrame(session_lengths_eval).describe([0.05*i for i in range(20)])"
   ]
  },
  {
   "cell_type": "code",
   "execution_count": 68,
   "id": "c1359935-744e-4097-a404-513d6202b7da",
   "metadata": {},
   "outputs": [
    {
     "name": "stderr",
     "output_type": "stream",
     "text": [
      "/home/jupyter/.cache/pypoetry/virtualenvs/kdd-2023-KklMGVX0-py3.8/lib/python3.8/site-packages/lightgbm/sklearn.py:621: UserWarning: Found 'eval_at' in params. Will use it instead of 'eval_at' argument\n",
      "  _log_warning(f\"Found '{alias}' in params. Will use it instead of 'eval_at' argument\")\n",
      "/home/jupyter/.cache/pypoetry/virtualenvs/kdd-2023-KklMGVX0-py3.8/lib/python3.8/site-packages/lightgbm/sklearn.py:726: UserWarning: 'early_stopping_rounds' argument is deprecated and will be removed in a future release of LightGBM. Pass 'early_stopping()' callback via 'callbacks' argument instead.\n",
      "  _log_warning(\"'early_stopping_rounds' argument is deprecated and will be removed in a future release of LightGBM. \"\n",
      "/home/jupyter/.cache/pypoetry/virtualenvs/kdd-2023-KklMGVX0-py3.8/lib/python3.8/site-packages/lightgbm/basic.py:2065: UserWarning: Using categorical_feature in Dataset.\n",
      "  _log_warning('Using categorical_feature in Dataset.')\n",
      "/home/jupyter/.cache/pypoetry/virtualenvs/kdd-2023-KklMGVX0-py3.8/lib/python3.8/site-packages/lightgbm/basic.py:2068: UserWarning: categorical_feature in Dataset is overridden.\n",
      "New categorical_feature is ['locale']\n",
      "  _log_warning('categorical_feature in Dataset is overridden.\\n'\n",
      "/home/jupyter/.cache/pypoetry/virtualenvs/kdd-2023-KklMGVX0-py3.8/lib/python3.8/site-packages/lightgbm/basic.py:1780: UserWarning: Overriding the parameters from Reference Dataset.\n",
      "  _log_warning('Overriding the parameters from Reference Dataset.')\n",
      "/home/jupyter/.cache/pypoetry/virtualenvs/kdd-2023-KklMGVX0-py3.8/lib/python3.8/site-packages/lightgbm/basic.py:1513: UserWarning: categorical_column in param dict is overridden.\n",
      "  _log_warning(f'{cat_alias} in param dict is overridden.')\n",
      "/home/jupyter/.cache/pypoetry/virtualenvs/kdd-2023-KklMGVX0-py3.8/lib/python3.8/site-packages/lightgbm/basic.py:1780: UserWarning: Overriding the parameters from Reference Dataset.\n",
      "  _log_warning('Overriding the parameters from Reference Dataset.')\n",
      "/home/jupyter/.cache/pypoetry/virtualenvs/kdd-2023-KklMGVX0-py3.8/lib/python3.8/site-packages/lightgbm/basic.py:1513: UserWarning: categorical_column in param dict is overridden.\n",
      "  _log_warning(f'{cat_alias} in param dict is overridden.')\n"
     ]
    },
    {
     "name": "stdout",
     "output_type": "stream",
     "text": [
      "[1]\tvalid_0's ndcg@3: 0.884845\tvalid_1's ndcg@3: 0.885292\n",
      "[2]\tvalid_0's ndcg@3: 0.8734\tvalid_1's ndcg@3: 0.873061\n",
      "[3]\tvalid_0's ndcg@3: 0.872069\tvalid_1's ndcg@3: 0.872139\n",
      "[4]\tvalid_0's ndcg@3: 0.871209\tvalid_1's ndcg@3: 0.871253\n",
      "[5]\tvalid_0's ndcg@3: 0.870109\tvalid_1's ndcg@3: 0.870364\n",
      "[6]\tvalid_0's ndcg@3: 0.869718\tvalid_1's ndcg@3: 0.869742\n",
      "[7]\tvalid_0's ndcg@3: 0.867055\tvalid_1's ndcg@3: 0.866963\n",
      "[8]\tvalid_0's ndcg@3: 0.867168\tvalid_1's ndcg@3: 0.867102\n",
      "[9]\tvalid_0's ndcg@3: 0.867521\tvalid_1's ndcg@3: 0.867506\n",
      "[10]\tvalid_0's ndcg@3: 0.86666\tvalid_1's ndcg@3: 0.866818\n",
      "[11]\tvalid_0's ndcg@3: 0.865678\tvalid_1's ndcg@3: 0.866113\n"
     ]
    }
   ],
   "source": [
    "ranker = ranker.fit(\n",
    "    X=sampled_train_candidates[feature_cols].to_pandas(),\n",
    "    y=sampled_train_candidates[target].to_pandas(),\n",
    "    group=session_lengths_train,\n",
    "    eval_set=[(sampled_train_candidates[feature_cols].to_pandas(), sampled_train_candidates[target].to_pandas()),\n",
    "           (sampled_eval_candidates[feature_cols].to_pandas(), sampled_eval_candidates[target].to_pandas())\n",
    "             ],\n",
    "    eval_group=[session_lengths_train,\n",
    "                session_lengths_eval\n",
    "               ]\n",
    "    , categorical_feature=categorical_feature\n",
    "    , early_stopping_rounds=early_stop_rounds\n",
    "    # , callbacks=[early_stopping(early_stop_rounds)]\n",
    ")"
   ]
  },
  {
   "cell_type": "code",
   "execution_count": 69,
   "id": "ab945c39-35af-411e-973b-1a8f10128d8d",
   "metadata": {},
   "outputs": [
    {
     "name": "stdout",
     "output_type": "stream",
     "text": [
      "1.5213156826794147\n"
     ]
    }
   ],
   "source": [
    "print(sampled_train_candidates.estimated_size(unit='gb'))\n",
    "del sampled_train_candidates"
   ]
  },
  {
   "cell_type": "code",
   "execution_count": 70,
   "id": "51330d86-54e9-4bf7-86f7-e0267f758334",
   "metadata": {},
   "outputs": [
    {
     "name": "stdout",
     "output_type": "stream",
     "text": [
      "0.16985977441072464\n"
     ]
    }
   ],
   "source": [
    "print(sampled_eval_candidates.estimated_size(unit='gb'))\n",
    "del sampled_eval_candidates"
   ]
  },
  {
   "cell_type": "markdown",
   "id": "8860953a-3893-4b28-a1f1-83f112d8a6e5",
   "metadata": {},
   "source": [
    "## Save model "
   ]
  },
  {
   "cell_type": "code",
   "execution_count": 71,
   "id": "382d1fd4-f3cd-4c48-ae68-0e3536b21501",
   "metadata": {},
   "outputs": [
    {
     "data": {
      "text/plain": [
       "False"
      ]
     },
     "execution_count": 71,
     "metadata": {},
     "output_type": "execute_result"
    }
   ],
   "source": [
    "debug"
   ]
  },
  {
   "cell_type": "code",
   "execution_count": 72,
   "id": "07ed68af-07cd-42dd-98cd-670f4cfffc9c",
   "metadata": {},
   "outputs": [],
   "source": [
    "if not debug:\n",
    "    joblib.dump(\n",
    "            value=ranker,\n",
    "            filename=os.path.join(rank_model_dir, 'model.pkl')\n",
    "    )"
   ]
  },
  {
   "cell_type": "code",
   "execution_count": 73,
   "id": "6f398ded-7ecc-4e20-bfad-7b094ddd0f93",
   "metadata": {},
   "outputs": [],
   "source": [
    "if not debug:\n",
    "    del ranker"
   ]
  },
  {
   "cell_type": "markdown",
   "id": "20e5c013-9463-4fee-8444-964885196103",
   "metadata": {
    "tags": []
   },
   "source": [
    "## Load Model "
   ]
  },
  {
   "cell_type": "code",
   "execution_count": null,
   "id": "6b348b18-ca5b-4534-b7bd-c1c3dc16be33",
   "metadata": {},
   "outputs": [],
   "source": []
  },
  {
   "cell_type": "code",
   "execution_count": 19,
   "id": "6ad49204-0949-4e62-8d1d-ee22853a71a3",
   "metadata": {},
   "outputs": [
    {
     "data": {
      "text/plain": [
       "False"
      ]
     },
     "execution_count": 19,
     "metadata": {},
     "output_type": "execute_result"
    }
   ],
   "source": [
    "debug"
   ]
  },
  {
   "cell_type": "code",
   "execution_count": 20,
   "id": "d3bad696-190d-42bf-ad7d-f8ecc7b5f80d",
   "metadata": {},
   "outputs": [
    {
     "data": {
      "text/html": [
       "<style>#sk-container-id-1 {color: black;background-color: white;}#sk-container-id-1 pre{padding: 0;}#sk-container-id-1 div.sk-toggleable {background-color: white;}#sk-container-id-1 label.sk-toggleable__label {cursor: pointer;display: block;width: 100%;margin-bottom: 0;padding: 0.3em;box-sizing: border-box;text-align: center;}#sk-container-id-1 label.sk-toggleable__label-arrow:before {content: \"▸\";float: left;margin-right: 0.25em;color: #696969;}#sk-container-id-1 label.sk-toggleable__label-arrow:hover:before {color: black;}#sk-container-id-1 div.sk-estimator:hover label.sk-toggleable__label-arrow:before {color: black;}#sk-container-id-1 div.sk-toggleable__content {max-height: 0;max-width: 0;overflow: hidden;text-align: left;background-color: #f0f8ff;}#sk-container-id-1 div.sk-toggleable__content pre {margin: 0.2em;color: black;border-radius: 0.25em;background-color: #f0f8ff;}#sk-container-id-1 input.sk-toggleable__control:checked~div.sk-toggleable__content {max-height: 200px;max-width: 100%;overflow: auto;}#sk-container-id-1 input.sk-toggleable__control:checked~label.sk-toggleable__label-arrow:before {content: \"▾\";}#sk-container-id-1 div.sk-estimator input.sk-toggleable__control:checked~label.sk-toggleable__label {background-color: #d4ebff;}#sk-container-id-1 div.sk-label input.sk-toggleable__control:checked~label.sk-toggleable__label {background-color: #d4ebff;}#sk-container-id-1 input.sk-hidden--visually {border: 0;clip: rect(1px 1px 1px 1px);clip: rect(1px, 1px, 1px, 1px);height: 1px;margin: -1px;overflow: hidden;padding: 0;position: absolute;width: 1px;}#sk-container-id-1 div.sk-estimator {font-family: monospace;background-color: #f0f8ff;border: 1px dotted black;border-radius: 0.25em;box-sizing: border-box;margin-bottom: 0.5em;}#sk-container-id-1 div.sk-estimator:hover {background-color: #d4ebff;}#sk-container-id-1 div.sk-parallel-item::after {content: \"\";width: 100%;border-bottom: 1px solid gray;flex-grow: 1;}#sk-container-id-1 div.sk-label:hover label.sk-toggleable__label {background-color: #d4ebff;}#sk-container-id-1 div.sk-serial::before {content: \"\";position: absolute;border-left: 1px solid gray;box-sizing: border-box;top: 0;bottom: 0;left: 50%;z-index: 0;}#sk-container-id-1 div.sk-serial {display: flex;flex-direction: column;align-items: center;background-color: white;padding-right: 0.2em;padding-left: 0.2em;position: relative;}#sk-container-id-1 div.sk-item {position: relative;z-index: 1;}#sk-container-id-1 div.sk-parallel {display: flex;align-items: stretch;justify-content: center;background-color: white;position: relative;}#sk-container-id-1 div.sk-item::before, #sk-container-id-1 div.sk-parallel-item::before {content: \"\";position: absolute;border-left: 1px solid gray;box-sizing: border-box;top: 0;bottom: 0;left: 50%;z-index: -1;}#sk-container-id-1 div.sk-parallel-item {display: flex;flex-direction: column;z-index: 1;position: relative;background-color: white;}#sk-container-id-1 div.sk-parallel-item:first-child::after {align-self: flex-end;width: 50%;}#sk-container-id-1 div.sk-parallel-item:last-child::after {align-self: flex-start;width: 50%;}#sk-container-id-1 div.sk-parallel-item:only-child::after {width: 0;}#sk-container-id-1 div.sk-dashed-wrapped {border: 1px dashed gray;margin: 0 0.4em 0.5em 0.4em;box-sizing: border-box;padding-bottom: 0.4em;background-color: white;}#sk-container-id-1 div.sk-label label {font-family: monospace;font-weight: bold;display: inline-block;line-height: 1.2em;}#sk-container-id-1 div.sk-label-container {text-align: center;}#sk-container-id-1 div.sk-container {/* jupyter's `normalize.less` sets `[hidden] { display: none; }` but bootstrap.min.css set `[hidden] { display: none !important; }` so we also need the `!important` here to be able to override the default hidden behavior on the sphinx rendered scikit-learn.org. See: https://github.com/scikit-learn/scikit-learn/issues/21755 */display: inline-block !important;position: relative;}#sk-container-id-1 div.sk-text-repr-fallback {display: none;}</style><div id=\"sk-container-id-1\" class=\"sk-top-container\"><div class=\"sk-text-repr-fallback\"><pre>LGBMRanker(eval_at=[3], importance_type=&#x27;gain&#x27;, metric=&#x27;ndcg&#x27;,\n",
       "           n_estimators=1000, objective=&#x27;lambdarank&#x27;)</pre><b>In a Jupyter environment, please rerun this cell to show the HTML representation or trust the notebook. <br />On GitHub, the HTML representation is unable to render, please try loading this page with nbviewer.org.</b></div><div class=\"sk-container\" hidden><div class=\"sk-item\"><div class=\"sk-estimator sk-toggleable\"><input class=\"sk-toggleable__control sk-hidden--visually\" id=\"sk-estimator-id-1\" type=\"checkbox\" checked><label for=\"sk-estimator-id-1\" class=\"sk-toggleable__label sk-toggleable__label-arrow\">LGBMRanker</label><div class=\"sk-toggleable__content\"><pre>LGBMRanker(eval_at=[3], importance_type=&#x27;gain&#x27;, metric=&#x27;ndcg&#x27;,\n",
       "           n_estimators=1000, objective=&#x27;lambdarank&#x27;)</pre></div></div></div></div></div>"
      ],
      "text/plain": [
       "LGBMRanker(eval_at=[3], importance_type='gain', metric='ndcg',\n",
       "           n_estimators=1000, objective='lambdarank')"
      ]
     },
     "execution_count": 20,
     "metadata": {},
     "output_type": "execute_result"
    }
   ],
   "source": [
    "if not debug:\n",
    "    ranker = joblib.load(os.path.join(rank_model_dir, 'model.pkl'))\n",
    "ranker"
   ]
  },
  {
   "cell_type": "markdown",
   "id": "b6b81a4e-3275-4503-bab7-6f8cb0ac4841",
   "metadata": {
    "tags": []
   },
   "source": [
    "### Importance "
   ]
  },
  {
   "cell_type": "code",
   "execution_count": 21,
   "id": "3a9816e2-9099-42af-a194-4274dce5ab36",
   "metadata": {},
   "outputs": [
    {
     "data": {
      "text/html": [
       "<div>\n",
       "<style scoped>\n",
       "    .dataframe tbody tr th:only-of-type {\n",
       "        vertical-align: middle;\n",
       "    }\n",
       "\n",
       "    .dataframe tbody tr th {\n",
       "        vertical-align: top;\n",
       "    }\n",
       "\n",
       "    .dataframe thead th {\n",
       "        text-align: right;\n",
       "    }\n",
       "</style>\n",
       "<table border=\"1\" class=\"dataframe\">\n",
       "  <thead>\n",
       "    <tr style=\"text-align: right;\">\n",
       "      <th></th>\n",
       "      <th>features</th>\n",
       "      <th>importance</th>\n",
       "    </tr>\n",
       "  </thead>\n",
       "  <tbody>\n",
       "    <tr>\n",
       "      <th>0</th>\n",
       "      <td>next_item_weight</td>\n",
       "      <td>3.988920e+06</td>\n",
       "    </tr>\n",
       "    <tr>\n",
       "      <th>7</th>\n",
       "      <td>price_mean_norm</td>\n",
       "      <td>6.407572e+04</td>\n",
       "    </tr>\n",
       "    <tr>\n",
       "      <th>1</th>\n",
       "      <td>next_item_weight_nfi</td>\n",
       "      <td>6.850975e+03</td>\n",
       "    </tr>\n",
       "    <tr>\n",
       "      <th>2</th>\n",
       "      <td>next_item_weight_co_visit</td>\n",
       "      <td>4.961293e+03</td>\n",
       "    </tr>\n",
       "    <tr>\n",
       "      <th>5</th>\n",
       "      <td>last_item_similarity</td>\n",
       "      <td>2.780719e+03</td>\n",
       "    </tr>\n",
       "    <tr>\n",
       "      <th>4</th>\n",
       "      <td>w2v_weight</td>\n",
       "      <td>1.429808e+03</td>\n",
       "    </tr>\n",
       "    <tr>\n",
       "      <th>6</th>\n",
       "      <td>prev_length</td>\n",
       "      <td>6.914070e+02</td>\n",
       "    </tr>\n",
       "    <tr>\n",
       "      <th>9</th>\n",
       "      <td>price_min_norm</td>\n",
       "      <td>5.488500e+02</td>\n",
       "    </tr>\n",
       "    <tr>\n",
       "      <th>10</th>\n",
       "      <td>price_max_norm</td>\n",
       "      <td>3.044230e+02</td>\n",
       "    </tr>\n",
       "    <tr>\n",
       "      <th>3</th>\n",
       "      <td>locale</td>\n",
       "      <td>0.000000e+00</td>\n",
       "    </tr>\n",
       "    <tr>\n",
       "      <th>8</th>\n",
       "      <td>price_last_norm</td>\n",
       "      <td>0.000000e+00</td>\n",
       "    </tr>\n",
       "  </tbody>\n",
       "</table>\n",
       "</div>"
      ],
      "text/plain": [
       "                     features    importance\n",
       "0            next_item_weight  3.988920e+06\n",
       "7             price_mean_norm  6.407572e+04\n",
       "1        next_item_weight_nfi  6.850975e+03\n",
       "2   next_item_weight_co_visit  4.961293e+03\n",
       "5        last_item_similarity  2.780719e+03\n",
       "4                  w2v_weight  1.429808e+03\n",
       "6                 prev_length  6.914070e+02\n",
       "9              price_min_norm  5.488500e+02\n",
       "10             price_max_norm  3.044230e+02\n",
       "3                      locale  0.000000e+00\n",
       "8             price_last_norm  0.000000e+00"
      ]
     },
     "execution_count": 21,
     "metadata": {},
     "output_type": "execute_result"
    }
   ],
   "source": [
    "impotant_df = pd.DataFrame(\n",
    "    {\n",
    "        'features': ranker.feature_name_,\n",
    "        'importance': ranker.feature_importances_\n",
    "    }\n",
    ").sort_values('importance', ascending=False)\n",
    "impotant_df"
   ]
  },
  {
   "cell_type": "markdown",
   "id": "9c2798bf-e1a3-45a7-a422-49f6844e910a",
   "metadata": {},
   "source": [
    "# Eval ranker "
   ]
  },
  {
   "cell_type": "code",
   "execution_count": 76,
   "id": "1b08de18-62e0-4c4f-94c3-6ab8324ee624",
   "metadata": {},
   "outputs": [],
   "source": [
    "def rank_rec(candidate_pl, feature_cols, ranker, topn=100):\n",
    "\n",
    "    candidate_pl = candidate_pl.collect()\n",
    "    print(f\"candidate pl shape: {candidate_pl.shape}\")\n",
    "    inference = ranker.predict(candidate_pl[feature_cols].to_pandas())\n",
    "    test_result = (candidate_pl\n",
    "         .lazy()\n",
    "         .with_columns(\n",
    "             pl.Series(name='predict', values=inference)\n",
    "         )\n",
    "         .with_columns(\n",
    "            pl.col('predict').rank(method='ordinal', descending=True).over('session_id').alias('rank')\n",
    "         )\n",
    "         .sort(['session_id', 'rank'])\n",
    "         .filter(pl.col('rank')<=topn)\n",
    "         .groupby(['session_id'])\n",
    "         .agg(\n",
    "             pl.col('next_item_prediction')\n",
    "             , pl.col('next_item').unique()#.arr.get(0).cast(pl.Utf8)\n",
    "         ).with_columns(\n",
    "             pl.col('next_item').arr.get(0).alias('next_item')\n",
    "         )\n",
    "    )\n",
    "    return test_result\n"
   ]
  },
  {
   "cell_type": "code",
   "execution_count": 77,
   "id": "c2576a5f-dc1f-4269-83e4-050d8e37d14c",
   "metadata": {},
   "outputs": [],
   "source": [
    "# target_train_candidates.head().collect()"
   ]
  },
  {
   "cell_type": "code",
   "execution_count": 78,
   "id": "086b2190-3f3f-461f-8fd6-6b62bd36b45a",
   "metadata": {},
   "outputs": [],
   "source": [
    "eval_candidates = get_additional_feature(data_pl=eval_candidates)"
   ]
  },
  {
   "cell_type": "code",
   "execution_count": 79,
   "id": "ee95dd21-5bf7-4620-b79d-d2c1986a1e5b",
   "metadata": {},
   "outputs": [
    {
     "name": "stdout",
     "output_type": "stream",
     "text": [
      "candidate pl shape: (64153741, 15)\n"
     ]
    }
   ],
   "source": [
    "ranker_eval_pl = rank_rec(candidate_pl=eval_candidates,\n",
    "                         feature_cols=feature_cols\n",
    "                         , ranker=ranker\n",
    "                        # , topn=10\n",
    "                         )"
   ]
  },
  {
   "cell_type": "code",
   "execution_count": 80,
   "id": "d5339c19-c305-40fd-bbad-73875825a216",
   "metadata": {},
   "outputs": [
    {
     "data": {
      "text/html": [
       "<div><style>\n",
       ".dataframe > thead > tr > th,\n",
       ".dataframe > tbody > tr > td {\n",
       "  text-align: right;\n",
       "}\n",
       "</style>\n",
       "<small>shape: (1, 4)</small><table border=\"1\" class=\"dataframe\"><thead><tr><th>total_sessions</th><th>mrr</th><th>recall@20</th><th>recall@100</th></tr><tr><td>u32</td><td>f64</td><td>f64</td><td>f64</td></tr></thead><tbody><tr><td>326443</td><td>0.3335</td><td>0.4702</td><td>0.5563</td></tr></tbody></table></div>"
      ],
      "text/plain": [
       "shape: (1, 4)\n",
       "┌────────────────┬────────┬───────────┬────────────┐\n",
       "│ total_sessions ┆ mrr    ┆ recall@20 ┆ recall@100 │\n",
       "│ ---            ┆ ---    ┆ ---       ┆ ---        │\n",
       "│ u32            ┆ f64    ┆ f64       ┆ f64        │\n",
       "╞════════════════╪════════╪═══════════╪════════════╡\n",
       "│ 326443         ┆ 0.3335 ┆ 0.4702    ┆ 0.5563     │\n",
       "└────────────────┴────────┴───────────┴────────────┘"
      ]
     },
     "execution_count": 80,
     "metadata": {},
     "output_type": "execute_result"
    }
   ],
   "source": [
    "model_eval(target_df=eval_pl.join(ranker_eval_pl.lazy(), how='left', on='session_id'))"
   ]
  },
  {
   "cell_type": "code",
   "execution_count": 46,
   "id": "9404f0c9-8dd8-4a7c-86ea-07a279d25312",
   "metadata": {},
   "outputs": [],
   "source": [
    "# model_eval(target_df=eval_pl.join(ranker_eval_pl.lazy(), how='left', on='session_id'))"
   ]
  },
  {
   "cell_type": "markdown",
   "id": "4cea4973-3d4c-48e9-a387-287ee39ea07a",
   "metadata": {
    "tags": []
   },
   "source": [
    "# Test inference "
   ]
  },
  {
   "cell_type": "code",
   "execution_count": 25,
   "id": "90b8d129-3297-4ba2-8e3a-42be97d5ecda",
   "metadata": {},
   "outputs": [],
   "source": [
    "test_candidates = get_additional_feature(data_pl=test_candidates)"
   ]
  },
  {
   "cell_type": "code",
   "execution_count": 26,
   "id": "37deb6e4-1833-419b-9c83-9896e14c21a2",
   "metadata": {},
   "outputs": [
    {
     "data": {
      "text/plain": [
       "(74361010, 13)"
      ]
     },
     "execution_count": 26,
     "metadata": {},
     "output_type": "execute_result"
    }
   ],
   "source": [
    "test_candidates = test_candidates.collect()\n",
    "test_candidates.shape"
   ]
  },
  {
   "cell_type": "code",
   "execution_count": 29,
   "id": "69357f0f-697b-4324-9f93-fa22842f8af9",
   "metadata": {},
   "outputs": [],
   "source": [
    "inference = ranker.predict(test_candidates[feature_cols].to_pandas())"
   ]
  },
  {
   "cell_type": "code",
   "execution_count": 30,
   "id": "c9d1bf8f-7f18-443e-8296-8e43cb4850e3",
   "metadata": {},
   "outputs": [],
   "source": [
    "test_result = (test_candidates\n",
    "     .lazy()\n",
    "     .with_columns(\n",
    "         pl.Series(name='predict', values=inference)\n",
    "     )\n",
    "     .with_columns(\n",
    "        pl.col('predict').rank(method='ordinal', descending=True).over('session_id').alias('rank')\n",
    "     )\n",
    "     .sort(['session_id', 'rank'])\n",
    "     .filter(pl.col('rank')<=100)\n",
    "     .groupby(['session_id'])\n",
    "     .agg(\n",
    "         pl.col('next_item_prediction')\n",
    "     )\n",
    ")\n",
    "# test_result.head().collect()"
   ]
  },
  {
   "cell_type": "code",
   "execution_count": 31,
   "id": "904fb1bf-4c76-4b68-b2a9-f6647cd751e5",
   "metadata": {},
   "outputs": [
    {
     "data": {
      "text/plain": [
       "{'prev_items': Unknown, 'locale': Utf8, 'session_id': Int64}"
      ]
     },
     "execution_count": 31,
     "metadata": {},
     "output_type": "execute_result"
    }
   ],
   "source": [
    "test_pl.schema"
   ]
  },
  {
   "cell_type": "code",
   "execution_count": 32,
   "id": "6733f598-f4ff-42e3-80f5-665fddb376ae",
   "metadata": {},
   "outputs": [],
   "source": [
    "predictions = test_pl.join(test_result, how='left', on='session_id').collect()[['locale', 'next_item_prediction']].to_pandas()"
   ]
  },
  {
   "cell_type": "code",
   "execution_count": 33,
   "id": "2b1cc59b-8392-44da-b75e-e5f884e84006",
   "metadata": {},
   "outputs": [
    {
     "data": {
      "text/plain": [
       "(316972, 2)"
      ]
     },
     "execution_count": 33,
     "metadata": {},
     "output_type": "execute_result"
    }
   ],
   "source": [
    "predictions.shape"
   ]
  },
  {
   "cell_type": "code",
   "execution_count": 34,
   "id": "dc1521b2-6509-4947-9d25-3b89a4b0b2a6",
   "metadata": {},
   "outputs": [],
   "source": [
    "check_predictions(predictions, test_sessions=test_pl.collect().to_pandas(), \n",
    "                  # check_products=True, product_df=products\n",
    "                 )\n",
    "# Its important that the parquet file you submit is saved with pyarrow backend\n",
    "if not debug:\n",
    "    predictions.to_parquet(sub_file, engine='pyarrow')"
   ]
  },
  {
   "cell_type": "code",
   "execution_count": null,
   "id": "12b7fd35-e303-4f7b-b84e-35747d5040df",
   "metadata": {},
   "outputs": [],
   "source": []
  },
  {
   "cell_type": "markdown",
   "id": "39417002-27c5-40c2-907a-6c5e01888b67",
   "metadata": {},
   "source": [
    "# test2task3 "
   ]
  },
  {
   "cell_type": "code",
   "execution_count": 39,
   "id": "caf26f6d-54b1-48d1-96e1-fb7f472fa5f1",
   "metadata": {},
   "outputs": [],
   "source": [
    "\n",
    "topn = 1\n",
    "test4task3_candidates = get_additional_feature(data_pl=test4task3_candidates)\n",
    "test4task3_candidates = test4task3_candidates.collect()\n",
    "inference = ranker.predict(test4task3_candidates[feature_cols].to_pandas())\n",
    "test4task3_result = (test4task3_candidates\n",
    "     .lazy()\n",
    "     .with_columns(\n",
    "         pl.Series(name='predict', values=inference)\n",
    "     )\n",
    "     .with_columns(\n",
    "        pl.col('predict').rank(method='ordinal', descending=True).over('session_id').alias('rank')\n",
    "     )\n",
    "     .sort(['session_id', 'rank'])\n",
    "     .filter(pl.col('rank')<=topn)\n",
    "     .groupby(['session_id'])\n",
    "     .agg(\n",
    "         pl.col('next_item_prediction')\n",
    "     )\n",
    ")\n",
    "# test4task3_result.head().collect()\n",
    "predictions = test4task3_pl.join(test4task3_result, how='left', on='session_id').collect()\n",
    "# [['locale', 'next_item_prediction']].to_pandas()"
   ]
  },
  {
   "cell_type": "code",
   "execution_count": 40,
   "id": "b1b954f7-0d4d-48d0-9411-16aaa3023e35",
   "metadata": {},
   "outputs": [
    {
     "name": "stdout",
     "output_type": "stream",
     "text": [
      "../data/sub_files/task1_test4task3_rank_lgbm_v4.parquet\n"
     ]
    },
    {
     "data": {
      "text/html": [
       "<div><style>\n",
       ".dataframe > thead > tr > th,\n",
       ".dataframe > tbody > tr > td {\n",
       "  text-align: right;\n",
       "}\n",
       "</style>\n",
       "<small>shape: (3, 2)</small><table border=\"1\" class=\"dataframe\"><thead><tr><th>locale</th><th>counts</th></tr><tr><td>str</td><td>u32</td></tr></thead><tbody><tr><td>&quot;UK&quot;</td><td>10000</td></tr><tr><td>&quot;DE&quot;</td><td>10000</td></tr><tr><td>&quot;JP&quot;</td><td>10000</td></tr></tbody></table></div>"
      ],
      "text/plain": [
       "shape: (3, 2)\n",
       "┌────────┬────────┐\n",
       "│ locale ┆ counts │\n",
       "│ ---    ┆ ---    │\n",
       "│ str    ┆ u32    │\n",
       "╞════════╪════════╡\n",
       "│ UK     ┆ 10000  │\n",
       "│ DE     ┆ 10000  │\n",
       "│ JP     ┆ 10000  │\n",
       "└────────┴────────┘"
      ]
     },
     "execution_count": 40,
     "metadata": {},
     "output_type": "execute_result"
    }
   ],
   "source": [
    "test4task3_sub_file = f'../data/sub_files/{task}_test4task3_{rank_model_version}.parquet'\n",
    "print(test4task3_sub_file)\n",
    "predictions.write_parquet(test4task3_sub_file)\n",
    "predictions.select('locale').to_series().value_counts()"
   ]
  },
  {
   "cell_type": "markdown",
   "id": "c6448f9b-c2f6-4c00-94f3-0c286f47e3b9",
   "metadata": {
    "tags": []
   },
   "source": [
    "# Submit result "
   ]
  },
  {
   "cell_type": "code",
   "execution_count": 35,
   "id": "6b21fb19-340b-4d13-8bde-f4bc538583d0",
   "metadata": {},
   "outputs": [
    {
     "name": "stdout",
     "output_type": "stream",
     "text": [
      "\u001b[2K\u001b[1;34mrank_lgbm_v4.parque\u001b[0m \u001b[90m━━━━━━━━━━━━━━━\u001b[0m \u001b[35m100.0%\u001b[0m • \u001b[32m299.5/299.5 MB\u001b[0m • \u001b[31m2.9 MB/s\u001b[0m • \u001b[36m0:00:00\u001b[0m00:01\u001b[0m00:07\u001b[0m\n",
      "\u001b[?25h                                                                                 ╭─────────────────────────╮                                                                                 \n",
      "                                                                                 │ \u001b[1mSuccessfully submitted!\u001b[0m │                                                                                 \n",
      "                                                                                 ╰─────────────────────────╯                                                                                 \n",
      "\u001b[3m                                                                                       Important links                                                                                       \u001b[0m\n",
      "┌──────────────────┬────────────────────────────────────────────────────────────────────────────────────────────────────────────────────────────────────────────────────────────────────────┐\n",
      "│  This submission │ https://www.aicrowd.com/challenges/amazon-kdd-cup-23-multilingual-recommendation-challenge/problems/task-1-next-product-recommendation/submissions/233962              │\n",
      "│                  │                                                                                                                                                                        │\n",
      "│  All submissions │ https://www.aicrowd.com/challenges/amazon-kdd-cup-23-multilingual-recommendation-challenge/problems/task-1-next-product-recommendation/submissions?my_submissions=true │\n",
      "│                  │                                                                                                                                                                        │\n",
      "│      Leaderboard │ https://www.aicrowd.com/challenges/amazon-kdd-cup-23-multilingual-recommendation-challenge/problems/task-1-next-product-recommendation/leaderboards                    │\n",
      "│                  │                                                                                                                                                                        │\n",
      "│ Discussion forum │ https://discourse.aicrowd.com/c/amazon-kdd-cup-23-multilingual-recommendation-challenge                                                                                │\n",
      "│                  │                                                                                                                                                                        │\n",
      "│   Challenge page │ https://www.aicrowd.com/challenges/amazon-kdd-cup-23-multilingual-recommendation-challenge/problems/task-1-next-product-recommendation                                 │\n",
      "└──────────────────┴────────────────────────────────────────────────────────────────────────────────────────────────────────────────────────────────────────────────────────────────────────┘\n",
      "{'submission_id': 233962, 'created_at': '2023-06-05T05:54:55.446Z'}\n"
     ]
    }
   ],
   "source": [
    "# # You can submit with aicrowd-cli, or upload manually on the challenge page.\n",
    "!aicrowd submission create -c task-1-next-product-recommendation -f {sub_file}"
   ]
  },
  {
   "cell_type": "code",
   "execution_count": null,
   "id": "584510de-ebb4-49cc-abf8-4c49b6fda2ea",
   "metadata": {},
   "outputs": [],
   "source": []
  },
  {
   "cell_type": "code",
   "execution_count": null,
   "id": "dd733e4c-bbee-4c82-ae9f-a444d04605b5",
   "metadata": {},
   "outputs": [],
   "source": []
  }
 ],
 "metadata": {
  "environment": {
   "kernel": "kdd_2023",
   "name": "common-cu110.m104",
   "type": "gcloud",
   "uri": "gcr.io/deeplearning-platform-release/base-cu110:m104"
  },
  "kernelspec": {
   "display_name": "py3.8(kdd_2023)",
   "language": "python",
   "name": "kdd_2023"
  },
  "language_info": {
   "codemirror_mode": {
    "name": "ipython",
    "version": 3
   },
   "file_extension": ".py",
   "mimetype": "text/x-python",
   "name": "python",
   "nbconvert_exporter": "python",
   "pygments_lexer": "ipython3",
   "version": "3.8.16"
  }
 },
 "nbformat": 4,
 "nbformat_minor": 5
}
