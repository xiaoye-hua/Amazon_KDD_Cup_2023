{
 "cells": [
  {
   "cell_type": "markdown",
   "id": "cfb20369-bc15-496e-9ca7-96ea3337a84e",
   "metadata": {},
   "source": [
    "# Packages "
   ]
  },
  {
   "cell_type": "code",
   "execution_count": 25,
   "id": "aabe0c4e-8729-4f63-9722-c12d233ca6b5",
   "metadata": {
    "tags": []
   },
   "outputs": [
    {
     "name": "stdout",
     "output_type": "stream",
     "text": [
      "The autoreload extension is already loaded. To reload it, use:\n",
      "  %reload_ext autoreload\n"
     ]
    }
   ],
   "source": [
    "%load_ext autoreload\n",
    "%autoreload 2\n",
    "import sys\n",
    "import logging\n",
    "base_dir = '../'\n",
    "sys.path.append(base_dir)\n",
    "import os\n",
    "from utils import *\n",
    "\n",
    "import joblib\n",
    "import os\n",
    "import numpy as np\n",
    "import pandas as pd\n",
    "from gensim.models import Word2Vec\n",
    "from gensim.similarities.annoy import AnnoyIndexer\n",
    "\n",
    "\n",
    "from annoy import AnnoyIndex\n",
    "import polars as pl\n",
    "import implicit\n",
    "from src.eval import model_eval\n",
    "\n",
    "import scipy.sparse as sps\n",
    "from utils import str2list\n",
    "from src.config import raw_data_session_id_dir, candidate_file_name\n",
    "from lightgbm import LGBMRanker\n",
    "from lightgbm import early_stopping\n",
    "from utils import *\n"
   ]
  },
  {
   "cell_type": "markdown",
   "id": "1355ce62-0ebd-4629-99e5-96bf2946bed5",
   "metadata": {
    "tags": []
   },
   "source": [
    "# Config "
   ]
  },
  {
   "cell_type": "code",
   "execution_count": 26,
   "id": "c5d2edbe-29b1-40cf-985b-0551db0e3e9a",
   "metadata": {},
   "outputs": [],
   "source": [
    "ranker_train_data_dir = '../data/rank_train_data'\n",
    "rank_model_version = 'rank_lgbm_v3'"
   ]
  },
  {
   "cell_type": "code",
   "execution_count": null,
   "id": "72ef90af-49f4-421c-ad25-15dfe7bbcf6f",
   "metadata": {},
   "outputs": [],
   "source": []
  },
  {
   "cell_type": "code",
   "execution_count": 27,
   "id": "0cac5f9f-76a0-4069-a57a-17b45bba83fd",
   "metadata": {},
   "outputs": [],
   "source": [
    "debug = True\n",
    "\n",
    "if debug:\n",
    "    SAMPLE_NUM = 1000\n",
    "else:\n",
    "    SAMPLE_NUM = None\n",
    "\n",
    "candidate_path = '../data/candidates/'\n",
    "model_dir = '../model_training'\n",
    "# train_data_dir = '.'\n",
    "# test_data_dir = '.'\n",
    "task = 'task1'\n",
    "w2v_model_version = 'w2v_v3'\n",
    "nic_model_version = 'nic'\n",
    "\n",
    "rank_model_dir = os.path.join(model_dir, rank_model_version)\n",
    "model_for_eval = True\n",
    "w2v_topn=100\n",
    "nic_topn=100\n",
    "# PREDS_PER_SESSION = 100\n",
    "\n",
    "# num_tree = 100\n",
    "\n",
    "\n",
    "\n",
    "# # target locales: locales needed for task1\n",
    "target_locals = [\"DE\", 'JP', 'UK']\n",
    "\n",
    "# submit_file = f'submission_{task}_ALS.parquet'\n",
    "num_tree = 100\n",
    "w2v_model_dir = os.path.join(model_dir, w2v_model_version)\n",
    "w2v_model_file = os.path.join(w2v_model_dir, f\"{model_for_eval}.model\")\n",
    "annoy_index_file = os.path.join(w2v_model_dir, f\"{str(num_tree)}_{model_for_eval}.index\")\n",
    "\n",
    "\n",
    "sub_file = f'../data/sub_files/{rank_model_version}.parque'\n",
    "eval_sub_file = f'../data/sub_files/eval_{rank_model_version}.parque'"
   ]
  },
  {
   "cell_type": "code",
   "execution_count": 28,
   "id": "902bc312-8c20-42f7-ad41-b5d77d89fcce",
   "metadata": {},
   "outputs": [
    {
     "name": "stdout",
     "output_type": "stream",
     "text": [
      "mkdir: cannot create directory ‘../model_training/rank_lgbm_v3’: File exists\n"
     ]
    }
   ],
   "source": [
    "! mkdir {rank_model_dir}"
   ]
  },
  {
   "cell_type": "markdown",
   "id": "33cccd9d-18fd-4339-a739-39d7021cef73",
   "metadata": {},
   "source": [
    "# Read data"
   ]
  },
  {
   "cell_type": "code",
   "execution_count": 29,
   "id": "3486f554-4ca0-460c-9d31-4b4b1f2c5e6b",
   "metadata": {},
   "outputs": [],
   "source": [
    "\n",
    "eval_pl = pl.scan_parquet(os.path.join(base_dir, raw_data_session_id_dir, 'sessions_eval.parquet'), n_rows=SAMPLE_NUM).filter(pl.col('locale').is_in(target_locals)).with_columns(pl.col('prev_items').apply(str2list))\n",
    "\n",
    "# df_sess.head(3).collect()\n",
    "test_pl = pl.scan_parquet(os.path.join(base_dir, raw_data_session_id_dir, 'sessions_test_task1.parquet'), n_rows=SAMPLE_NUM).with_columns(pl.col('prev_items').apply(str2list))\n"
   ]
  },
  {
   "cell_type": "code",
   "execution_count": 30,
   "id": "5242ea97-e5dd-45aa-96ef-043d295133fd",
   "metadata": {},
   "outputs": [],
   "source": [
    "def get_all_candidates(data_type, task=task, \n",
    "                       w2v_model_version=w2v_model_version, \n",
    "                       nic_model_version=nic_model_version\n",
    "                      ,model_for_eval=model_for_eval,\n",
    "                      w2v_topn=w2v_topn\n",
    "                      , nic_topn=nic_topn):\n",
    "    \n",
    "    w2v_file = os.path.join(candidate_path, \n",
    "                           candidate_file_name.format(\n",
    "                    task=task\n",
    "                , data_type=data_type\n",
    "                , model_version=w2v_model_version\n",
    "                , model_for_eval=model_for_eval\n",
    "                , topn=w2v_topn\n",
    "                           ))\n",
    "    nic_file = os.path.join(candidate_path,\n",
    "                candidate_file_name.format(\n",
    "                    task=task\n",
    "                    , data_type=data_type\n",
    "                    , model_version=nic_model_version\n",
    "                    , model_for_eval=model_for_eval\n",
    "                    , topn=nic_topn\n",
    "                           ))\n",
    "    if data_type == 'test':\n",
    "        original_file_name = f\"sessions_{data_type}_{task}.parquet\"\n",
    "    else:\n",
    "        original_file_name = f\"sessions_{data_type}.parquet\"\n",
    "    original_pl = pl.scan_parquet(os.path.join(base_dir, raw_data_session_id_dir, original_file_name), n_rows=SAMPLE_NUM).filter(pl.col('locale').is_in(target_locals)).with_columns(pl.col('prev_items').apply(str2list))\n",
    "    w2v_pl = pl.scan_parquet(w2v_file, n_rows=SAMPLE_NUM)#.with_columns(pl.col('prev_items').apply(str2list))\n",
    "    nic_pl = pl.scan_parquet(nic_file, n_rows=SAMPLE_NUM)#.with_columns(pl.col('prev_items').apply(str2list))\n",
    "    \n",
    "    # get w2v weight\n",
    "    w2v_pl = w2v_pl.with_columns(\n",
    "        pl.lit([list(range(w2v_topn, 0, -1))]).alias('w2v_weight')\n",
    "    )\n",
    "    get_w2v_weight = pl.element().rank()*0\n",
    "    nic_pl = nic_pl.with_columns(\n",
    "        pl.col('next_item_prediction').arr.eval(get_w2v_weight, \n",
    "                                                # parallel=True\n",
    "                                               ).alias('w2v_weight').cast(pl.List(pl.Int64))\n",
    "    )\n",
    "    cols = ['session_id', 'next_item_prediction', 'w2v_weight']\n",
    "    combined_pl = w2v_pl.select(cols).join(nic_pl.select(cols), how='left', on='session_id', suffix='_nic')\n",
    "\n",
    "    # combined_pl = combined_pl.with_columns(\n",
    "    #     pl.concat_list([pl.col('next_item_prediction'), pl.col('next_item_prediction_nic')]).alias('next_item_prediction'), \n",
    "    #     pl.concat_list([pl.col('w2v_weight'), pl.col('w2v_weight_nic')]).alias('w2v_weight'), \n",
    "    # ).select(\n",
    "    #     pl.all().exclude(['next_item_prediction_nic', 'w2v_weight_nic'])\n",
    "    # )\n",
    "    explode_cols = ['next_item_prediction', 'w2v_weight']\n",
    "    combined_pl = (\n",
    "            pl.concat([w2v_pl.select(cols).explode(explode_cols), nic_pl.select(cols).explode(explode_cols)], how='vertical')\n",
    "                .groupby(['session_id', 'next_item_prediction'])\n",
    "                .agg(\n",
    "                    pl.col('w2v_weight').max().alias('w2v_weight')\n",
    "                )\n",
    "                .groupby('session_id')\n",
    "                .agg(\n",
    "                    pl.all()\n",
    "                )\n",
    "    )\n",
    "    combined_pl = (\n",
    "        combined_pl.join(original_pl, how='left', on='session_id')\n",
    "            # .with_columns(\n",
    "            #     pl.col('prev_items')\n",
    "            # )\n",
    "    )\n",
    "    return combined_pl\n"
   ]
  },
  {
   "cell_type": "code",
   "execution_count": 31,
   "id": "5450fc2a-d9ee-4895-b972-0033129c3193",
   "metadata": {},
   "outputs": [],
   "source": [
    "train_cg_pl = get_all_candidates(data_type='train')\n",
    "eval_cg_pl = get_all_candidates(data_type='eval')\n",
    "test_cg_pl = get_all_candidates(data_type='test')"
   ]
  },
  {
   "cell_type": "code",
   "execution_count": 32,
   "id": "cc556f8d-62fd-4443-b2aa-d6f39cad9750",
   "metadata": {},
   "outputs": [],
   "source": [
    "# eval_cg_pl.head().collect()"
   ]
  },
  {
   "cell_type": "code",
   "execution_count": 9,
   "id": "6df22a64-e909-4767-9b51-8afe4be2468a",
   "metadata": {},
   "outputs": [],
   "source": [
    "# train_cg_pl.with_columns(\n",
    "#     pl.col('next_item_prediction').arr.lengths().alias('length')\n",
    "#     , pl.col('next_item_prediction').arr.unique().arr.lengths().alias('unique_length')\n",
    "# ).select(pl.col('length').sub(pl.col('unique_length')).alias('diff')).collect().to_series().value_counts().sort('counts',\n",
    "#                                                                                                                 descending=True)"
   ]
  },
  {
   "cell_type": "code",
   "execution_count": null,
   "id": "8d184e2f-b00a-401d-b058-af0447adad1e",
   "metadata": {},
   "outputs": [],
   "source": []
  },
  {
   "cell_type": "code",
   "execution_count": 10,
   "id": "a127b32c-e0c8-486b-8723-1b44eb0d0c2c",
   "metadata": {},
   "outputs": [],
   "source": [
    "# train_cg_pl.collect().estimated_size(unit='gb')"
   ]
  },
  {
   "cell_type": "code",
   "execution_count": 11,
   "id": "2be9dca6-4e18-4e6b-b812-402ad5c7190e",
   "metadata": {},
   "outputs": [],
   "source": [
    "# original_pl.collect().estimated_size(unit='gb')"
   ]
  },
  {
   "cell_type": "code",
   "execution_count": 12,
   "id": "18db1329-499e-43ab-aef1-2ac0514abec0",
   "metadata": {},
   "outputs": [],
   "source": [
    "\n",
    "\n",
    "\n",
    "\n",
    "# data_type = 'train'\n",
    "# w2v_file = os.path.join(candidate_path, \n",
    "#                        candidate_file_name.format(\n",
    "#                 task=task\n",
    "#             , data_type=data_type\n",
    "#             , model_version=w2v_model\n",
    "#             , model_for_eval=model_for_eval\n",
    "#             , topn=w2v_topn\n",
    "#                        ))\n",
    "# nic_file = os.path.join(candidate_path,\n",
    "#             candidate_file_name.format(\n",
    "#                 task=task\n",
    "#                 , data_type=data_type\n",
    "#                 , model_version=nic_model\n",
    "#                 , model_for_eval=model_for_eval\n",
    "#                 , topn=nic_topn\n",
    "#                        ))\n",
    "# if data_type == 'test':\n",
    "#     original_file_name = f\"sessions_{data_type}_{task}.parquet\"\n",
    "# else:\n",
    "#     original_file_name = f\"sessions_{data_type}.parquet\"\n",
    "# original_pl = pl.scan_parquet(os.path.join(base_dir, raw_data_session_id_dir, original_file_name), n_rows=SAMPLE_NUM).filter(pl.col('locale').is_in(target_locals)).with_columns(pl.col('prev_items').apply(str2list))\n",
    "# w2v_pl = pl.scan_parquet(w2v_file, n_rows=SAMPLE_NUM)#.with_columns(pl.col('prev_items').apply(str2list))\n",
    "# nic_pl = pl.scan_parquet(nic_file, n_rows=SAMPLE_NUM)#.with_columns(pl.col('prev_items').apply(str2list))\n",
    "\n",
    "# # get w2v weight\n",
    "# w2v_pl = w2v_pl.with_columns(\n",
    "#     pl.lit([list(range(w2v_topn, 0, -1))]).alias('w2v_weight').cast(pl.List(pl.Int8))\n",
    "# ).collect()\n"
   ]
  },
  {
   "cell_type": "code",
   "execution_count": 13,
   "id": "34f1e954-3514-461b-bfaa-b250eeaed2e9",
   "metadata": {},
   "outputs": [],
   "source": [
    "# get_w2v_weight = pl.element().rank()*0\n",
    "# nic_pl = nic_pl.with_columns(\n",
    "#     pl.col('next_item_prediction').arr.eval(get_w2v_weight, \n",
    "#                                             # parallel=True\n",
    "#                                            ).alias('w2v_weight').cast(pl.List(pl.Int8))\n",
    "# ).collect()"
   ]
  },
  {
   "cell_type": "code",
   "execution_count": null,
   "id": "9a50e5b6-0725-4f5e-9556-a2a051579e29",
   "metadata": {},
   "outputs": [],
   "source": []
  },
  {
   "cell_type": "code",
   "execution_count": 14,
   "id": "3183bb7d-c1f7-4436-990c-c7a7de1341e9",
   "metadata": {},
   "outputs": [],
   "source": [
    "# train_cg_pl.collect()"
   ]
  },
  {
   "cell_type": "code",
   "execution_count": 15,
   "id": "05788384-d27e-4b6d-965c-77fe3bc8f9a8",
   "metadata": {},
   "outputs": [],
   "source": [
    "# eval_cg_pl.collect().estimated_size(unit='gb')"
   ]
  },
  {
   "cell_type": "code",
   "execution_count": 16,
   "id": "e91470c3-d155-402e-8ced-58cf8cf5dcbf",
   "metadata": {},
   "outputs": [],
   "source": [
    "# train_cg_pl.collect()"
   ]
  },
  {
   "cell_type": "code",
   "execution_count": 17,
   "id": "ac844030-b258-4dae-a03b-0ac1cd67cc52",
   "metadata": {},
   "outputs": [],
   "source": [
    "# print(f\"{train_cg_pl.collect().shape}; {eval_cg_pl.collect().shape}; {test_cg_pl.collect().shape}\")"
   ]
  },
  {
   "cell_type": "code",
   "execution_count": 18,
   "id": "9d7d783d-b696-4045-90a9-b3bb8492a207",
   "metadata": {},
   "outputs": [],
   "source": [
    "# train_cg_pl.collect().head()"
   ]
  },
  {
   "cell_type": "code",
   "execution_count": 19,
   "id": "2bda61f5-f3d9-4c38-860b-4b3b6b0ba371",
   "metadata": {},
   "outputs": [],
   "source": [
    "# eval_cg_pl.collect()"
   ]
  },
  {
   "cell_type": "code",
   "execution_count": null,
   "id": "f1d6cd1e-ba2d-4384-b4da-cd966f17eda9",
   "metadata": {},
   "outputs": [],
   "source": []
  },
  {
   "cell_type": "code",
   "execution_count": 20,
   "id": "8735f873-543c-48af-80fd-b18952fdc413",
   "metadata": {},
   "outputs": [],
   "source": [
    "# get_w2v_weight = pl.element().rank()*0\n",
    "\n",
    "# train_pl.with_columns(\n",
    "#     # pl.lit([list(range(100, 0, -1))]).alias('w2v_weight')\n",
    "#     pl.col('next_item_prediction').arr.lengths().alias('length')\n",
    "#     , pl.col('next_item_prediction').arr.eval(get_w2v_weight, parallel=True).alias('w2v_weight')\n",
    "#     # , pl.lit([0 for ele in range(pl.col('length'))])\n",
    "\n",
    "# ).head().collect()"
   ]
  },
  {
   "cell_type": "code",
   "execution_count": 21,
   "id": "5f20d12b-6c3d-470b-b9a6-6b9b44b98b5e",
   "metadata": {},
   "outputs": [],
   "source": [
    "# dir(pl.element())"
   ]
  },
  {
   "cell_type": "code",
   "execution_count": null,
   "id": "19f31392-343b-45b4-bbf1-faa9f666a83b",
   "metadata": {},
   "outputs": [],
   "source": []
  },
  {
   "cell_type": "code",
   "execution_count": 22,
   "id": "1f9eb477-cc31-4946-93d9-befb1f724b1d",
   "metadata": {},
   "outputs": [],
   "source": [
    "# w2v_pl.head().collect()\n"
   ]
  },
  {
   "cell_type": "code",
   "execution_count": 23,
   "id": "b578226d-8a0a-4a53-a888-3db802cd29db",
   "metadata": {},
   "outputs": [],
   "source": [
    "\n",
    "# def get_all_candidates(data_type):\n",
    "#     w2v_file = os.path.join(candidate_path, f'task1_{data_type}_w2v_top100.parquet')\n",
    "#     nic_file = os.path.join(candidate_path, f'task1_{data_type}_nic_top100.parquet')\n",
    "#     w2v_pl = pl.scan_parquet(w2v_file, n_rows=SAMPLE_NUM)#.with_columns(pl.col('prev_items').apply(str2list))\n",
    "#     nic_pl = pl.scan_parquet(nic_file, n_rows=SAMPLE_NUM)#.with_columns(pl.col('prev_items').apply(str2list))\n",
    "\n",
    "#     cols_to_keep = ['session_id', 'next_item_prediction', 'cg_source']\n",
    "\n",
    "#     w2v_pl = w2v_pl.with_columns(pl.lit('word2vec').alias('cg_source')).select(cols_to_keep).explode('next_item_prediction')\n",
    "#     nic_pl = nic_pl.with_columns(pl.lit('next_item_counter').alias('cg_source')).select(cols_to_keep).explode('next_item_prediction')\n",
    "#     # length = w2v_pl.collect().shape[0]\n",
    "#     # w2v_pl = w2v_pl.with_columns(\n",
    "#     #     pl.Series(values=[list(range(100, 0, -1))]*length, name='w2v_weight')\n",
    "#     # )\n",
    "#     cg_pl = (\n",
    "#             pl.concat([w2v_pl, nic_pl], how='vertical')\n",
    "#                 .groupby(['session_id', 'next_item_prediction'])\n",
    "#                 .agg(\n",
    "#                     pl.col('cg_source')\n",
    "#                 )\n",
    "#                 .with_columns(\n",
    "#                     pl.when(pl.col('cg_source').arr.contains(pl.lit('word2vec'))).then(1).otherwise(0).alias('whether_w2v')\n",
    "#                     , pl.when(pl.col('cg_source').arr.contains(pl.lit('next_item_counter'))).then(1).otherwise(0).alias('whether_nic')\n",
    "#                 )\n",
    "#                 .select(\n",
    "#                     pl.all().exclude('cg_source')\n",
    "#                 )\n",
    "#     )\n",
    "#     return cg_pl"
   ]
  },
  {
   "cell_type": "code",
   "execution_count": 24,
   "id": "3bcff578-861e-46af-b1f7-fab9d7a774af",
   "metadata": {},
   "outputs": [
    {
     "ename": "NameError",
     "evalue": "name 'eval_cg' is not defined",
     "output_type": "error",
     "traceback": [
      "\u001b[0;31m---------------------------------------------------------------------------\u001b[0m",
      "\u001b[0;31mNameError\u001b[0m                                 Traceback (most recent call last)",
      "Cell \u001b[0;32mIn[24], line 1\u001b[0m\n\u001b[0;32m----> 1\u001b[0m \u001b[38;5;28;01mif\u001b[39;00m \u001b[43meval_cg\u001b[49m:\n\u001b[1;32m      2\u001b[0m     eval_topn \u001b[38;5;241m=\u001b[39m \u001b[38;5;241m300\u001b[39m\n\u001b[1;32m      4\u001b[0m     col \u001b[38;5;241m=\u001b[39m \u001b[38;5;124mf\u001b[39m\u001b[38;5;124m\"\u001b[39m\u001b[38;5;124mrecall@\u001b[39m\u001b[38;5;132;01m{\u001b[39;00meval_topn\u001b[38;5;132;01m}\u001b[39;00m\u001b[38;5;124m\"\u001b[39m\n",
      "\u001b[0;31mNameError\u001b[0m: name 'eval_cg' is not defined"
     ]
    }
   ],
   "source": [
    "if eval_cg:\n",
    "    eval_topn = 300\n",
    "\n",
    "    col = f\"recall@{eval_topn}\"\n",
    "\n",
    "    eval_final = (\n",
    "            eval_cg_pl\n",
    "            .lazy()\n",
    "            .with_columns(\n",
    "                pl.col('next_item_prediction').cast(pl.List(pl.Utf8))\n",
    "            )\n",
    "            .with_columns(\n",
    "                pl.concat_list([pl.col('next_item'), pl.col('next_item_prediction')]).alias('mrr')\n",
    "            )\n",
    "            ).with_columns(\n",
    "                pl.col('next_item_prediction').arr.head(eval_topn).arr.contains(pl.col('next_item')).mean().alias(col)\n",
    "\n",
    "            )\n",
    "    final_res = eval_final.select(\n",
    "            pl.count().alias('total_sessions')\n",
    "            , pl.col(col).mean()\n",
    "\n",
    "        ).collect()\n",
    "    print(final_res)\n",
    "    del final_res"
   ]
  },
  {
   "cell_type": "code",
   "execution_count": null,
   "id": "bcea5661-384c-45a0-aec7-9d56948127ff",
   "metadata": {},
   "outputs": [],
   "source": [
    "# eval_cg_pl.head().collect()"
   ]
  },
  {
   "cell_type": "code",
   "execution_count": 33,
   "id": "809a077b-64ee-4e0c-b3ef-26dd5a634f67",
   "metadata": {},
   "outputs": [],
   "source": [
    "sampled_train_candidates = pl.scan_parquet(os.path.join(ranker_train_data_dir, 'train.parquet'), n_rows=SAMPLE_NUM)\n",
    "eval_candidates = pl.scan_parquet(os.path.join(ranker_train_data_dir, 'eval.parquet'), n_rows=SAMPLE_NUM)\n",
    "test_candidates = pl.scan_parquet(os.path.join(ranker_train_data_dir, 'test.parquet'), n_rows=SAMPLE_NUM)"
   ]
  },
  {
   "cell_type": "markdown",
   "id": "ed548a53-924e-4fbf-864c-06cfedc6f9cc",
   "metadata": {
    "tags": []
   },
   "source": [
    "# Ranker "
   ]
  },
  {
   "cell_type": "markdown",
   "id": "c198ffca-bbd1-4d7c-a507-668daa2e805c",
   "metadata": {},
   "source": [
    "## Config "
   ]
  },
  {
   "cell_type": "code",
   "execution_count": 34,
   "id": "39854b22-9372-4e17-9aaa-a9cd619ab344",
   "metadata": {},
   "outputs": [],
   "source": [
    "estimator = 1000\n",
    "early_stop_rounds = 10\n",
    "if debug:\n",
    "    early_stop_rounds = 5\n",
    "    \n",
    "target = 'target'\n",
    "feature_cols = [\n",
    "    # 'whether_w2v'\n",
    "    # , 'whether_nic'\n",
    "    'next_item_weight'\n",
    "    , 'locale'\n",
    "    , 'w2v_weight'\n",
    "    , 'last_item_similarity'\n",
    "    , 'prev_item_similarity'\t\n",
    "    , 'prev_length'\n",
    "]\n",
    "\n",
    "categorical_feature=['locale']"
   ]
  },
  {
   "cell_type": "markdown",
   "id": "0089a10a-3cfc-42fd-ad5a-1b51d7fa35a0",
   "metadata": {
    "tags": []
   },
   "source": [
    "## Train model"
   ]
  },
  {
   "cell_type": "code",
   "execution_count": null,
   "id": "f3586ce2-a4fb-48d6-8635-d771997eaed2",
   "metadata": {},
   "outputs": [],
   "source": []
  },
  {
   "cell_type": "code",
   "execution_count": 35,
   "id": "45c77953-05c4-404e-82e2-daf4ecd137d5",
   "metadata": {},
   "outputs": [],
   "source": [
    "ranker = LGBMRanker(\n",
    "    objective=\"lambdarank\",\n",
    "    metric=\"ndcg\",\n",
    "    boosting_type=\"gbdt\",\n",
    "    n_estimators=estimator, \n",
    "    importance_type='gain',\n",
    "    eval_at=[3]\n",
    ")"
   ]
  },
  {
   "cell_type": "code",
   "execution_count": 36,
   "id": "7a0e4054-3eed-4444-80a0-69e5f3071037",
   "metadata": {},
   "outputs": [
    {
     "data": {
      "text/plain": [
       "(1000, 12)"
      ]
     },
     "execution_count": 36,
     "metadata": {},
     "output_type": "execute_result"
    }
   ],
   "source": [
    "sampled_train_candidates = sampled_train_candidates.collect()\n",
    "sampled_train_candidates.shape\n"
   ]
  },
  {
   "cell_type": "code",
   "execution_count": 37,
   "id": "a4d51c0d-0426-4572-bb1d-d166c414a5ea",
   "metadata": {},
   "outputs": [
    {
     "data": {
      "text/plain": [
       "(1000, 12)"
      ]
     },
     "execution_count": 37,
     "metadata": {},
     "output_type": "execute_result"
    }
   ],
   "source": [
    "sampled_eval_candidates = eval_candidates.collect()\n",
    "sampled_eval_candidates.shape"
   ]
  },
  {
   "cell_type": "code",
   "execution_count": 38,
   "id": "0e8b2b6d-bb00-4587-9329-84a7867ba37a",
   "metadata": {},
   "outputs": [
    {
     "name": "stdout",
     "output_type": "stream",
     "text": [
      "shape: (1, 1)\n",
      "┌────────┐\n",
      "│ target │\n",
      "│ ---    │\n",
      "│ f64    │\n",
      "╞════════╡\n",
      "│ 0.077  │\n",
      "└────────┘\n"
     ]
    }
   ],
   "source": [
    "print(sampled_train_candidates.select('target').mean())\n"
   ]
  },
  {
   "cell_type": "code",
   "execution_count": 39,
   "id": "f5a6d8fb-7fea-4a07-bd2d-df67e7db22ad",
   "metadata": {},
   "outputs": [
    {
     "name": "stdout",
     "output_type": "stream",
     "text": [
      "shape: (1, 1)\n",
      "┌────────┐\n",
      "│ target │\n",
      "│ ---    │\n",
      "│ f64    │\n",
      "╞════════╡\n",
      "│ 0.005  │\n",
      "└────────┘\n"
     ]
    }
   ],
   "source": [
    "print(sampled_eval_candidates.select('target').mean())"
   ]
  },
  {
   "cell_type": "code",
   "execution_count": 40,
   "id": "b9553bb1-2484-4216-a7c5-c75420d4c0e4",
   "metadata": {},
   "outputs": [],
   "source": [
    "session_lengths_train = sampled_train_candidates.groupby('session_id').agg(pl.count()).select('count').to_pandas()['count'].values.tolist()\n",
    "session_lengths_eval = sampled_eval_candidates.groupby('session_id').agg(pl.count()).select('count').to_pandas()['count'].values.tolist()"
   ]
  },
  {
   "cell_type": "code",
   "execution_count": 41,
   "id": "c1359935-744e-4097-a404-513d6202b7da",
   "metadata": {},
   "outputs": [
    {
     "name": "stderr",
     "output_type": "stream",
     "text": [
      "/home/jupyter/.cache/pypoetry/virtualenvs/kdd-2023-KklMGVX0-py3.8/lib/python3.8/site-packages/lightgbm/sklearn.py:621: UserWarning: Found 'eval_at' in params. Will use it instead of 'eval_at' argument\n",
      "  _log_warning(f\"Found '{alias}' in params. Will use it instead of 'eval_at' argument\")\n",
      "/home/jupyter/.cache/pypoetry/virtualenvs/kdd-2023-KklMGVX0-py3.8/lib/python3.8/site-packages/lightgbm/basic.py:2065: UserWarning: Using categorical_feature in Dataset.\n",
      "  _log_warning('Using categorical_feature in Dataset.')\n",
      "/home/jupyter/.cache/pypoetry/virtualenvs/kdd-2023-KklMGVX0-py3.8/lib/python3.8/site-packages/lightgbm/basic.py:2068: UserWarning: categorical_feature in Dataset is overridden.\n",
      "New categorical_feature is ['locale']\n",
      "  _log_warning('categorical_feature in Dataset is overridden.\\n'\n",
      "/home/jupyter/.cache/pypoetry/virtualenvs/kdd-2023-KklMGVX0-py3.8/lib/python3.8/site-packages/lightgbm/basic.py:1780: UserWarning: Overriding the parameters from Reference Dataset.\n",
      "  _log_warning('Overriding the parameters from Reference Dataset.')\n",
      "/home/jupyter/.cache/pypoetry/virtualenvs/kdd-2023-KklMGVX0-py3.8/lib/python3.8/site-packages/lightgbm/basic.py:1513: UserWarning: categorical_column in param dict is overridden.\n",
      "  _log_warning(f'{cat_alias} in param dict is overridden.')\n",
      "/home/jupyter/.cache/pypoetry/virtualenvs/kdd-2023-KklMGVX0-py3.8/lib/python3.8/site-packages/lightgbm/basic.py:1780: UserWarning: Overriding the parameters from Reference Dataset.\n",
      "  _log_warning('Overriding the parameters from Reference Dataset.')\n",
      "/home/jupyter/.cache/pypoetry/virtualenvs/kdd-2023-KklMGVX0-py3.8/lib/python3.8/site-packages/lightgbm/basic.py:1513: UserWarning: categorical_column in param dict is overridden.\n",
      "  _log_warning(f'{cat_alias} in param dict is overridden.')\n"
     ]
    },
    {
     "name": "stdout",
     "output_type": "stream",
     "text": [
      "Training until validation scores don't improve for 5 rounds\n",
      "Early stopping, best iteration is:\n",
      "[1]\tvalid_0's ndcg@3: 0.911078\tvalid_1's ndcg@3: 0.901461\n"
     ]
    }
   ],
   "source": [
    "ranker = ranker.fit(\n",
    "    X=sampled_train_candidates[feature_cols].to_pandas(),\n",
    "    y=sampled_train_candidates[target].to_pandas(),\n",
    "    group=session_lengths_train,\n",
    "    eval_set=[(sampled_train_candidates[feature_cols].to_pandas(), sampled_train_candidates[target].to_pandas()),\n",
    "           (sampled_eval_candidates[feature_cols].to_pandas(), sampled_eval_candidates[target].to_pandas())\n",
    "             ],\n",
    "    eval_group=[session_lengths_train,\n",
    "                session_lengths_eval\n",
    "               ]\n",
    "    , categorical_feature=categorical_feature\n",
    "    , callbacks=[early_stopping(early_stop_rounds)]\n",
    ")"
   ]
  },
  {
   "cell_type": "code",
   "execution_count": 42,
   "id": "ab945c39-35af-411e-973b-1a8f10128d8d",
   "metadata": {},
   "outputs": [
    {
     "name": "stdout",
     "output_type": "stream",
     "text": [
      "0.00016786716878414154\n"
     ]
    }
   ],
   "source": [
    "print(sampled_train_candidates.estimated_size(unit='gb'))\n",
    "del sampled_train_candidates"
   ]
  },
  {
   "cell_type": "code",
   "execution_count": 43,
   "id": "51330d86-54e9-4bf7-86f7-e0267f758334",
   "metadata": {},
   "outputs": [
    {
     "name": "stdout",
     "output_type": "stream",
     "text": [
      "0.00016793422400951385\n"
     ]
    }
   ],
   "source": [
    "print(sampled_eval_candidates.estimated_size(unit='gb'))\n",
    "del sampled_eval_candidates"
   ]
  },
  {
   "cell_type": "markdown",
   "id": "8860953a-3893-4b28-a1f1-83f112d8a6e5",
   "metadata": {},
   "source": [
    "## Save model "
   ]
  },
  {
   "cell_type": "code",
   "execution_count": 44,
   "id": "102eae6f-b953-4074-883c-c2a502e67756",
   "metadata": {},
   "outputs": [
    {
     "data": {
      "text/plain": [
       "'../model_training/rank_lgbm_v3'"
      ]
     },
     "execution_count": 44,
     "metadata": {},
     "output_type": "execute_result"
    }
   ],
   "source": [
    "rank_model_dir"
   ]
  },
  {
   "cell_type": "code",
   "execution_count": 45,
   "id": "07ed68af-07cd-42dd-98cd-670f4cfffc9c",
   "metadata": {},
   "outputs": [],
   "source": [
    "if not debug:\n",
    "    joblib.dump(\n",
    "            value=ranker,\n",
    "            filename=os.path.join(rank_model_dir, 'model.pkl')\n",
    "    )"
   ]
  },
  {
   "cell_type": "code",
   "execution_count": 46,
   "id": "6f398ded-7ecc-4e20-bfad-7b094ddd0f93",
   "metadata": {},
   "outputs": [],
   "source": [
    "if not debug:\n",
    "    del ranker"
   ]
  },
  {
   "cell_type": "markdown",
   "id": "20e5c013-9463-4fee-8444-964885196103",
   "metadata": {
    "tags": []
   },
   "source": [
    "## Load Model "
   ]
  },
  {
   "cell_type": "code",
   "execution_count": null,
   "id": "6b348b18-ca5b-4534-b7bd-c1c3dc16be33",
   "metadata": {},
   "outputs": [],
   "source": []
  },
  {
   "cell_type": "code",
   "execution_count": 47,
   "id": "d3bad696-190d-42bf-ad7d-f8ecc7b5f80d",
   "metadata": {},
   "outputs": [
    {
     "data": {
      "text/html": [
       "<style>#sk-container-id-1 {color: black;background-color: white;}#sk-container-id-1 pre{padding: 0;}#sk-container-id-1 div.sk-toggleable {background-color: white;}#sk-container-id-1 label.sk-toggleable__label {cursor: pointer;display: block;width: 100%;margin-bottom: 0;padding: 0.3em;box-sizing: border-box;text-align: center;}#sk-container-id-1 label.sk-toggleable__label-arrow:before {content: \"▸\";float: left;margin-right: 0.25em;color: #696969;}#sk-container-id-1 label.sk-toggleable__label-arrow:hover:before {color: black;}#sk-container-id-1 div.sk-estimator:hover label.sk-toggleable__label-arrow:before {color: black;}#sk-container-id-1 div.sk-toggleable__content {max-height: 0;max-width: 0;overflow: hidden;text-align: left;background-color: #f0f8ff;}#sk-container-id-1 div.sk-toggleable__content pre {margin: 0.2em;color: black;border-radius: 0.25em;background-color: #f0f8ff;}#sk-container-id-1 input.sk-toggleable__control:checked~div.sk-toggleable__content {max-height: 200px;max-width: 100%;overflow: auto;}#sk-container-id-1 input.sk-toggleable__control:checked~label.sk-toggleable__label-arrow:before {content: \"▾\";}#sk-container-id-1 div.sk-estimator input.sk-toggleable__control:checked~label.sk-toggleable__label {background-color: #d4ebff;}#sk-container-id-1 div.sk-label input.sk-toggleable__control:checked~label.sk-toggleable__label {background-color: #d4ebff;}#sk-container-id-1 input.sk-hidden--visually {border: 0;clip: rect(1px 1px 1px 1px);clip: rect(1px, 1px, 1px, 1px);height: 1px;margin: -1px;overflow: hidden;padding: 0;position: absolute;width: 1px;}#sk-container-id-1 div.sk-estimator {font-family: monospace;background-color: #f0f8ff;border: 1px dotted black;border-radius: 0.25em;box-sizing: border-box;margin-bottom: 0.5em;}#sk-container-id-1 div.sk-estimator:hover {background-color: #d4ebff;}#sk-container-id-1 div.sk-parallel-item::after {content: \"\";width: 100%;border-bottom: 1px solid gray;flex-grow: 1;}#sk-container-id-1 div.sk-label:hover label.sk-toggleable__label {background-color: #d4ebff;}#sk-container-id-1 div.sk-serial::before {content: \"\";position: absolute;border-left: 1px solid gray;box-sizing: border-box;top: 0;bottom: 0;left: 50%;z-index: 0;}#sk-container-id-1 div.sk-serial {display: flex;flex-direction: column;align-items: center;background-color: white;padding-right: 0.2em;padding-left: 0.2em;position: relative;}#sk-container-id-1 div.sk-item {position: relative;z-index: 1;}#sk-container-id-1 div.sk-parallel {display: flex;align-items: stretch;justify-content: center;background-color: white;position: relative;}#sk-container-id-1 div.sk-item::before, #sk-container-id-1 div.sk-parallel-item::before {content: \"\";position: absolute;border-left: 1px solid gray;box-sizing: border-box;top: 0;bottom: 0;left: 50%;z-index: -1;}#sk-container-id-1 div.sk-parallel-item {display: flex;flex-direction: column;z-index: 1;position: relative;background-color: white;}#sk-container-id-1 div.sk-parallel-item:first-child::after {align-self: flex-end;width: 50%;}#sk-container-id-1 div.sk-parallel-item:last-child::after {align-self: flex-start;width: 50%;}#sk-container-id-1 div.sk-parallel-item:only-child::after {width: 0;}#sk-container-id-1 div.sk-dashed-wrapped {border: 1px dashed gray;margin: 0 0.4em 0.5em 0.4em;box-sizing: border-box;padding-bottom: 0.4em;background-color: white;}#sk-container-id-1 div.sk-label label {font-family: monospace;font-weight: bold;display: inline-block;line-height: 1.2em;}#sk-container-id-1 div.sk-label-container {text-align: center;}#sk-container-id-1 div.sk-container {/* jupyter's `normalize.less` sets `[hidden] { display: none; }` but bootstrap.min.css set `[hidden] { display: none !important; }` so we also need the `!important` here to be able to override the default hidden behavior on the sphinx rendered scikit-learn.org. See: https://github.com/scikit-learn/scikit-learn/issues/21755 */display: inline-block !important;position: relative;}#sk-container-id-1 div.sk-text-repr-fallback {display: none;}</style><div id=\"sk-container-id-1\" class=\"sk-top-container\"><div class=\"sk-text-repr-fallback\"><pre>LGBMRanker(eval_at=[3], importance_type=&#x27;gain&#x27;, metric=&#x27;ndcg&#x27;,\n",
       "           n_estimators=1000, objective=&#x27;lambdarank&#x27;)</pre><b>In a Jupyter environment, please rerun this cell to show the HTML representation or trust the notebook. <br />On GitHub, the HTML representation is unable to render, please try loading this page with nbviewer.org.</b></div><div class=\"sk-container\" hidden><div class=\"sk-item\"><div class=\"sk-estimator sk-toggleable\"><input class=\"sk-toggleable__control sk-hidden--visually\" id=\"sk-estimator-id-1\" type=\"checkbox\" checked><label for=\"sk-estimator-id-1\" class=\"sk-toggleable__label sk-toggleable__label-arrow\">LGBMRanker</label><div class=\"sk-toggleable__content\"><pre>LGBMRanker(eval_at=[3], importance_type=&#x27;gain&#x27;, metric=&#x27;ndcg&#x27;,\n",
       "           n_estimators=1000, objective=&#x27;lambdarank&#x27;)</pre></div></div></div></div></div>"
      ],
      "text/plain": [
       "LGBMRanker(eval_at=[3], importance_type='gain', metric='ndcg',\n",
       "           n_estimators=1000, objective='lambdarank')"
      ]
     },
     "execution_count": 47,
     "metadata": {},
     "output_type": "execute_result"
    }
   ],
   "source": [
    "if not debug:\n",
    "    ranker = joblib.load(os.path.join(rank_model_dir, 'model.pkl'))\n",
    "ranker"
   ]
  },
  {
   "cell_type": "code",
   "execution_count": 48,
   "id": "4fb163ce-f982-4f98-857d-91a634bcb224",
   "metadata": {},
   "outputs": [],
   "source": [
    "# ranker = joblib.load(os.path.join(rank_model_dir, 'model.pkl'))\n"
   ]
  },
  {
   "cell_type": "markdown",
   "id": "b6b81a4e-3275-4503-bab7-6f8cb0ac4841",
   "metadata": {
    "tags": []
   },
   "source": [
    "### Importance "
   ]
  },
  {
   "cell_type": "code",
   "execution_count": 49,
   "id": "3a9816e2-9099-42af-a194-4274dce5ab36",
   "metadata": {},
   "outputs": [
    {
     "data": {
      "text/html": [
       "<div>\n",
       "<style scoped>\n",
       "    .dataframe tbody tr th:only-of-type {\n",
       "        vertical-align: middle;\n",
       "    }\n",
       "\n",
       "    .dataframe tbody tr th {\n",
       "        vertical-align: top;\n",
       "    }\n",
       "\n",
       "    .dataframe thead th {\n",
       "        text-align: right;\n",
       "    }\n",
       "</style>\n",
       "<table border=\"1\" class=\"dataframe\">\n",
       "  <thead>\n",
       "    <tr style=\"text-align: right;\">\n",
       "      <th></th>\n",
       "      <th>features</th>\n",
       "      <th>importance</th>\n",
       "    </tr>\n",
       "  </thead>\n",
       "  <tbody>\n",
       "    <tr>\n",
       "      <th>0</th>\n",
       "      <td>next_item_weight</td>\n",
       "      <td>1.659768e+02</td>\n",
       "    </tr>\n",
       "    <tr>\n",
       "      <th>3</th>\n",
       "      <td>last_item_similarity</td>\n",
       "      <td>1.268494e+01</td>\n",
       "    </tr>\n",
       "    <tr>\n",
       "      <th>5</th>\n",
       "      <td>prev_length</td>\n",
       "      <td>3.879150e+00</td>\n",
       "    </tr>\n",
       "    <tr>\n",
       "      <th>2</th>\n",
       "      <td>w2v_weight</td>\n",
       "      <td>1.421090e-14</td>\n",
       "    </tr>\n",
       "    <tr>\n",
       "      <th>4</th>\n",
       "      <td>prev_item_similarity</td>\n",
       "      <td>7.105430e-15</td>\n",
       "    </tr>\n",
       "    <tr>\n",
       "      <th>1</th>\n",
       "      <td>locale</td>\n",
       "      <td>0.000000e+00</td>\n",
       "    </tr>\n",
       "  </tbody>\n",
       "</table>\n",
       "</div>"
      ],
      "text/plain": [
       "               features    importance\n",
       "0      next_item_weight  1.659768e+02\n",
       "3  last_item_similarity  1.268494e+01\n",
       "5           prev_length  3.879150e+00\n",
       "2            w2v_weight  1.421090e-14\n",
       "4  prev_item_similarity  7.105430e-15\n",
       "1                locale  0.000000e+00"
      ]
     },
     "execution_count": 49,
     "metadata": {},
     "output_type": "execute_result"
    }
   ],
   "source": [
    "impotant_df = pd.DataFrame(\n",
    "    {\n",
    "        'features': ranker.feature_name_,\n",
    "        'importance': ranker.feature_importances_\n",
    "    }\n",
    ").sort_values('importance', ascending=False)\n",
    "impotant_df"
   ]
  },
  {
   "cell_type": "markdown",
   "id": "9c2798bf-e1a3-45a7-a422-49f6844e910a",
   "metadata": {},
   "source": [
    "# Eval ranker "
   ]
  },
  {
   "cell_type": "code",
   "execution_count": 50,
   "id": "1b08de18-62e0-4c4f-94c3-6ab8324ee624",
   "metadata": {},
   "outputs": [],
   "source": [
    "def rank_rec(candidate_pl, feature_cols, ranker, topn=100):\n",
    "\n",
    "    candidate_pl = candidate_pl.collect()\n",
    "    print(f\"candidate pl shape: {candidate_pl.shape}\")\n",
    "    inference = ranker.predict(candidate_pl[feature_cols].to_pandas())\n",
    "    test_result = (candidate_pl\n",
    "         .lazy()\n",
    "         .with_columns(\n",
    "             pl.Series(name='predict', values=inference)\n",
    "         )\n",
    "         .with_columns(\n",
    "            pl.col('predict').rank(method='ordinal', descending=True).over('session_id').alias('rank')\n",
    "         )\n",
    "         .sort(['session_id', 'rank'])\n",
    "         .filter(pl.col('rank')<=topn)\n",
    "         .groupby(['session_id'])\n",
    "         .agg(\n",
    "             pl.col('next_item_prediction')\n",
    "             , pl.col('next_item').unique()#.arr.get(0).cast(pl.Utf8)\n",
    "         ).with_columns(\n",
    "             pl.col('next_item').arr.get(0).alias('next_item')\n",
    "         )\n",
    "    )\n",
    "    return test_result\n"
   ]
  },
  {
   "cell_type": "code",
   "execution_count": 51,
   "id": "ee95dd21-5bf7-4620-b79d-d2c1986a1e5b",
   "metadata": {},
   "outputs": [
    {
     "name": "stdout",
     "output_type": "stream",
     "text": [
      "candidate pl shape: (1000, 12)\n"
     ]
    }
   ],
   "source": [
    "ranker_eval_pl = rank_rec(candidate_pl=eval_candidates,\n",
    "                         feature_cols=feature_cols\n",
    "                         , ranker=ranker\n",
    "                        # , topn=10\n",
    "                         )"
   ]
  },
  {
   "cell_type": "code",
   "execution_count": null,
   "id": "d5339c19-c305-40fd-bbad-73875825a216",
   "metadata": {},
   "outputs": [],
   "source": []
  },
  {
   "cell_type": "code",
   "execution_count": 52,
   "id": "9404f0c9-8dd8-4a7c-86ea-07a279d25312",
   "metadata": {},
   "outputs": [
    {
     "data": {
      "text/html": [
       "<div><style>\n",
       ".dataframe > thead > tr > th,\n",
       ".dataframe > tbody > tr > td {\n",
       "  text-align: right;\n",
       "}\n",
       "</style>\n",
       "<small>shape: (1, 4)</small><table border=\"1\" class=\"dataframe\"><thead><tr><th>total_sessions</th><th>mrr</th><th>recall@20</th><th>recall@100</th></tr><tr><td>u32</td><td>f64</td><td>f64</td><td>f64</td></tr></thead><tbody><tr><td>1000</td><td>0.259259</td><td>0.005</td><td>0.005</td></tr></tbody></table></div>"
      ],
      "text/plain": [
       "shape: (1, 4)\n",
       "┌────────────────┬──────────┬───────────┬────────────┐\n",
       "│ total_sessions ┆ mrr      ┆ recall@20 ┆ recall@100 │\n",
       "│ ---            ┆ ---      ┆ ---       ┆ ---        │\n",
       "│ u32            ┆ f64      ┆ f64       ┆ f64        │\n",
       "╞════════════════╪══════════╪═══════════╪════════════╡\n",
       "│ 1000           ┆ 0.259259 ┆ 0.005     ┆ 0.005      │\n",
       "└────────────────┴──────────┴───────────┴────────────┘"
      ]
     },
     "execution_count": 52,
     "metadata": {},
     "output_type": "execute_result"
    }
   ],
   "source": [
    "model_eval(target_df=eval_pl.join(ranker_eval_pl.lazy(), how='left', on='session_id'))"
   ]
  },
  {
   "cell_type": "markdown",
   "id": "4cea4973-3d4c-48e9-a387-287ee39ea07a",
   "metadata": {
    "tags": []
   },
   "source": [
    "# Test inference "
   ]
  },
  {
   "cell_type": "code",
   "execution_count": 53,
   "id": "37deb6e4-1833-419b-9c83-9896e14c21a2",
   "metadata": {},
   "outputs": [
    {
     "data": {
      "text/plain": [
       "(1000, 10)"
      ]
     },
     "execution_count": 53,
     "metadata": {},
     "output_type": "execute_result"
    }
   ],
   "source": [
    "test_candidates = test_candidates.collect()\n",
    "test_candidates.shape"
   ]
  },
  {
   "cell_type": "code",
   "execution_count": 54,
   "id": "69357f0f-697b-4324-9f93-fa22842f8af9",
   "metadata": {},
   "outputs": [],
   "source": [
    "inference = ranker.predict(test_candidates[feature_cols].to_pandas())"
   ]
  },
  {
   "cell_type": "code",
   "execution_count": 55,
   "id": "762a0921-c3ed-47b6-856e-5f83ce2ccff2",
   "metadata": {},
   "outputs": [],
   "source": [
    "# inference"
   ]
  },
  {
   "cell_type": "code",
   "execution_count": null,
   "id": "323f51a8-c3c0-443b-be82-61b6743548bb",
   "metadata": {},
   "outputs": [],
   "source": []
  },
  {
   "cell_type": "code",
   "execution_count": 56,
   "id": "c9d1bf8f-7f18-443e-8296-8e43cb4850e3",
   "metadata": {},
   "outputs": [],
   "source": [
    "test_result = (test_candidates\n",
    "     .lazy()\n",
    "     .with_columns(\n",
    "         pl.Series(name='predict', values=inference)\n",
    "     )\n",
    "     .with_columns(\n",
    "        pl.col('predict').rank(method='ordinal', descending=True).over('session_id').alias('rank')\n",
    "     )\n",
    "     .sort(['session_id', 'rank'])\n",
    "     .filter(pl.col('rank')<=100)\n",
    "     .groupby(['session_id'])\n",
    "     .agg(\n",
    "         pl.col('next_item_prediction')\n",
    "     )\n",
    ")\n",
    "# test_result.head().collect()"
   ]
  },
  {
   "cell_type": "code",
   "execution_count": 57,
   "id": "904fb1bf-4c76-4b68-b2a9-f6647cd751e5",
   "metadata": {},
   "outputs": [
    {
     "data": {
      "text/plain": [
       "{'prev_items': Unknown, 'locale': Utf8, 'session_id': Int64}"
      ]
     },
     "execution_count": 57,
     "metadata": {},
     "output_type": "execute_result"
    }
   ],
   "source": [
    "test_pl.schema"
   ]
  },
  {
   "cell_type": "code",
   "execution_count": 58,
   "id": "6733f598-f4ff-42e3-80f5-665fddb376ae",
   "metadata": {},
   "outputs": [],
   "source": [
    "predictions = test_pl.join(test_result, how='left', on='session_id').collect()[['locale', 'next_item_prediction']].to_pandas()"
   ]
  },
  {
   "cell_type": "code",
   "execution_count": 59,
   "id": "2b1cc59b-8392-44da-b75e-e5f884e84006",
   "metadata": {},
   "outputs": [
    {
     "data": {
      "text/plain": [
       "(1000, 2)"
      ]
     },
     "execution_count": 59,
     "metadata": {},
     "output_type": "execute_result"
    }
   ],
   "source": [
    "predictions.shape"
   ]
  },
  {
   "cell_type": "code",
   "execution_count": 60,
   "id": "dc1521b2-6509-4947-9d25-3b89a4b0b2a6",
   "metadata": {},
   "outputs": [],
   "source": [
    "check_predictions(predictions, test_sessions=test_pl.collect().to_pandas(), \n",
    "                  # check_products=True, product_df=products\n",
    "                 )\n",
    "# Its important that the parquet file you submit is saved with pyarrow backend\n",
    "if not debug:\n",
    "    predictions.to_parquet(sub_file, engine='pyarrow')"
   ]
  },
  {
   "cell_type": "code",
   "execution_count": null,
   "id": "6b21fb19-340b-4d13-8bde-f4bc538583d0",
   "metadata": {},
   "outputs": [],
   "source": [
    "# # You can submit with aicrowd-cli, or upload manually on the challenge page.\n",
    "# !aicrowd submission create -c task-1-next-product-recommendation -f {sub_file}"
   ]
  }
 ],
 "metadata": {
  "environment": {
   "kernel": "kdd_2023",
   "name": "common-cu110.m104",
   "type": "gcloud",
   "uri": "gcr.io/deeplearning-platform-release/base-cu110:m104"
  },
  "kernelspec": {
   "display_name": "py3.8(kdd_2023)",
   "language": "python",
   "name": "kdd_2023"
  },
  "language_info": {
   "codemirror_mode": {
    "name": "ipython",
    "version": 3
   },
   "file_extension": ".py",
   "mimetype": "text/x-python",
   "name": "python",
   "nbconvert_exporter": "python",
   "pygments_lexer": "ipython3",
   "version": "3.8.16"
  }
 },
 "nbformat": 4,
 "nbformat_minor": 5
}
